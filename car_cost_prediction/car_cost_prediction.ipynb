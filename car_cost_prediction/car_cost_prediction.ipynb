{
 "cells": [
  {
   "cell_type": "markdown",
   "metadata": {},
   "source": [
    "# Определение стоимости автомобилей"
   ]
  },
  {
   "cell_type": "markdown",
   "metadata": {},
   "source": [
    "Необходимо построить модель для определения стоимости автомобиля. Сервис по продаже автомобилей с пробегом разрабатывает приложение для привлечения новых клиентов. В нём можно быстро узнать рыночную стоимость своего автомобиля. В нашем распоряжении исторические данные: технические характеристики, комплектации и цены автомобилей.\n",
    "\n",
    "Заказчику важны:\n",
    "\n",
    "- качество предсказания;\n",
    "- скорость предсказания;\n",
    "- время обучения."
   ]
  },
  {
   "cell_type": "markdown",
   "metadata": {},
   "source": [
    "**Содержание:**\n",
    "\n",
    "1. Подготовка данных\n",
    "1-1.  Предобработка данных\n",
    "1-2.  Разделение на выборки, преобразование признаков\n",
    "2. Обучение моделей\n",
    "3. Анализ моделей"
   ]
  },
  {
   "cell_type": "code",
   "execution_count": 1,
   "metadata": {},
   "outputs": [],
   "source": [
    "import pandas as pd # импорт библиотеки pandas\n",
    "from sklearn.preprocessing import LabelEncoder # импорт алгоритма LabelEncoder\n",
    "from sklearn.metrics import mean_squared_error # импорт из библиотеки sklearn алгоритма mean_squared_error\n",
    "from sklearn.model_selection import train_test_split # импорт алгоритма train_test_split\n",
    "from sklearn.ensemble import GradientBoostingRegressor # импорт из библиотеки sklearn алгоритма Случайного Леса\n",
    "from sklearn.dummy import DummyRegressor # импорт из библиотеки sklearn алгоритма DummyRegressor\n",
    "from lightgbm import LGBMRegressor # импорт алгоритма LGBMRegressor\n",
    "from xgboost import XGBRegressor # импорт алгоритма XGBRegressor\n",
    "from catboost import CatBoostRegressor # импорт из библиотеки catboost алгоритма CatBoostRegressor"
   ]
  },
  {
   "cell_type": "markdown",
   "metadata": {},
   "source": [
    "## 1 Подготовка данных"
   ]
  },
  {
   "cell_type": "code",
   "execution_count": 2,
   "metadata": {},
   "outputs": [
    {
     "name": "stdout",
     "output_type": "stream",
     "text": [
      "<class 'pandas.core.frame.DataFrame'>\n",
      "RangeIndex: 354369 entries, 0 to 354368\n",
      "Data columns (total 16 columns):\n",
      " #   Column             Non-Null Count   Dtype \n",
      "---  ------             --------------   ----- \n",
      " 0   DateCrawled        354369 non-null  object\n",
      " 1   Price              354369 non-null  int64 \n",
      " 2   VehicleType        316879 non-null  object\n",
      " 3   RegistrationYear   354369 non-null  int64 \n",
      " 4   Gearbox            334536 non-null  object\n",
      " 5   Power              354369 non-null  int64 \n",
      " 6   Model              334664 non-null  object\n",
      " 7   Kilometer          354369 non-null  int64 \n",
      " 8   RegistrationMonth  354369 non-null  int64 \n",
      " 9   FuelType           321474 non-null  object\n",
      " 10  Brand              354369 non-null  object\n",
      " 11  NotRepaired        283215 non-null  object\n",
      " 12  DateCreated        354369 non-null  object\n",
      " 13  NumberOfPictures   354369 non-null  int64 \n",
      " 14  PostalCode         354369 non-null  int64 \n",
      " 15  LastSeen           354369 non-null  object\n",
      "dtypes: int64(7), object(9)\n",
      "memory usage: 43.3+ MB\n"
     ]
    },
    {
     "data": {
      "text/html": [
       "<div>\n",
       "<style scoped>\n",
       "    .dataframe tbody tr th:only-of-type {\n",
       "        vertical-align: middle;\n",
       "    }\n",
       "\n",
       "    .dataframe tbody tr th {\n",
       "        vertical-align: top;\n",
       "    }\n",
       "\n",
       "    .dataframe thead th {\n",
       "        text-align: right;\n",
       "    }\n",
       "</style>\n",
       "<table border=\"1\" class=\"dataframe\">\n",
       "  <thead>\n",
       "    <tr style=\"text-align: right;\">\n",
       "      <th></th>\n",
       "      <th>DateCrawled</th>\n",
       "      <th>Price</th>\n",
       "      <th>VehicleType</th>\n",
       "      <th>RegistrationYear</th>\n",
       "      <th>Gearbox</th>\n",
       "      <th>Power</th>\n",
       "      <th>Model</th>\n",
       "      <th>Kilometer</th>\n",
       "      <th>RegistrationMonth</th>\n",
       "      <th>FuelType</th>\n",
       "      <th>Brand</th>\n",
       "      <th>NotRepaired</th>\n",
       "      <th>DateCreated</th>\n",
       "      <th>NumberOfPictures</th>\n",
       "      <th>PostalCode</th>\n",
       "      <th>LastSeen</th>\n",
       "    </tr>\n",
       "  </thead>\n",
       "  <tbody>\n",
       "    <tr>\n",
       "      <th>0</th>\n",
       "      <td>2016-03-24 11:52:17</td>\n",
       "      <td>480</td>\n",
       "      <td>NaN</td>\n",
       "      <td>1993</td>\n",
       "      <td>manual</td>\n",
       "      <td>0</td>\n",
       "      <td>golf</td>\n",
       "      <td>150000</td>\n",
       "      <td>0</td>\n",
       "      <td>petrol</td>\n",
       "      <td>volkswagen</td>\n",
       "      <td>NaN</td>\n",
       "      <td>2016-03-24 00:00:00</td>\n",
       "      <td>0</td>\n",
       "      <td>70435</td>\n",
       "      <td>2016-04-07 03:16:57</td>\n",
       "    </tr>\n",
       "    <tr>\n",
       "      <th>1</th>\n",
       "      <td>2016-03-24 10:58:45</td>\n",
       "      <td>18300</td>\n",
       "      <td>coupe</td>\n",
       "      <td>2011</td>\n",
       "      <td>manual</td>\n",
       "      <td>190</td>\n",
       "      <td>NaN</td>\n",
       "      <td>125000</td>\n",
       "      <td>5</td>\n",
       "      <td>gasoline</td>\n",
       "      <td>audi</td>\n",
       "      <td>yes</td>\n",
       "      <td>2016-03-24 00:00:00</td>\n",
       "      <td>0</td>\n",
       "      <td>66954</td>\n",
       "      <td>2016-04-07 01:46:50</td>\n",
       "    </tr>\n",
       "    <tr>\n",
       "      <th>2</th>\n",
       "      <td>2016-03-14 12:52:21</td>\n",
       "      <td>9800</td>\n",
       "      <td>suv</td>\n",
       "      <td>2004</td>\n",
       "      <td>auto</td>\n",
       "      <td>163</td>\n",
       "      <td>grand</td>\n",
       "      <td>125000</td>\n",
       "      <td>8</td>\n",
       "      <td>gasoline</td>\n",
       "      <td>jeep</td>\n",
       "      <td>NaN</td>\n",
       "      <td>2016-03-14 00:00:00</td>\n",
       "      <td>0</td>\n",
       "      <td>90480</td>\n",
       "      <td>2016-04-05 12:47:46</td>\n",
       "    </tr>\n",
       "    <tr>\n",
       "      <th>3</th>\n",
       "      <td>2016-03-17 16:54:04</td>\n",
       "      <td>1500</td>\n",
       "      <td>small</td>\n",
       "      <td>2001</td>\n",
       "      <td>manual</td>\n",
       "      <td>75</td>\n",
       "      <td>golf</td>\n",
       "      <td>150000</td>\n",
       "      <td>6</td>\n",
       "      <td>petrol</td>\n",
       "      <td>volkswagen</td>\n",
       "      <td>no</td>\n",
       "      <td>2016-03-17 00:00:00</td>\n",
       "      <td>0</td>\n",
       "      <td>91074</td>\n",
       "      <td>2016-03-17 17:40:17</td>\n",
       "    </tr>\n",
       "    <tr>\n",
       "      <th>4</th>\n",
       "      <td>2016-03-31 17:25:20</td>\n",
       "      <td>3600</td>\n",
       "      <td>small</td>\n",
       "      <td>2008</td>\n",
       "      <td>manual</td>\n",
       "      <td>69</td>\n",
       "      <td>fabia</td>\n",
       "      <td>90000</td>\n",
       "      <td>7</td>\n",
       "      <td>gasoline</td>\n",
       "      <td>skoda</td>\n",
       "      <td>no</td>\n",
       "      <td>2016-03-31 00:00:00</td>\n",
       "      <td>0</td>\n",
       "      <td>60437</td>\n",
       "      <td>2016-04-06 10:17:21</td>\n",
       "    </tr>\n",
       "  </tbody>\n",
       "</table>\n",
       "</div>"
      ],
      "text/plain": [
       "           DateCrawled  Price VehicleType  RegistrationYear Gearbox  Power  \\\n",
       "0  2016-03-24 11:52:17    480         NaN              1993  manual      0   \n",
       "1  2016-03-24 10:58:45  18300       coupe              2011  manual    190   \n",
       "2  2016-03-14 12:52:21   9800         suv              2004    auto    163   \n",
       "3  2016-03-17 16:54:04   1500       small              2001  manual     75   \n",
       "4  2016-03-31 17:25:20   3600       small              2008  manual     69   \n",
       "\n",
       "   Model  Kilometer  RegistrationMonth  FuelType       Brand NotRepaired  \\\n",
       "0   golf     150000                  0    petrol  volkswagen         NaN   \n",
       "1    NaN     125000                  5  gasoline        audi         yes   \n",
       "2  grand     125000                  8  gasoline        jeep         NaN   \n",
       "3   golf     150000                  6    petrol  volkswagen          no   \n",
       "4  fabia      90000                  7  gasoline       skoda          no   \n",
       "\n",
       "           DateCreated  NumberOfPictures  PostalCode             LastSeen  \n",
       "0  2016-03-24 00:00:00                 0       70435  2016-04-07 03:16:57  \n",
       "1  2016-03-24 00:00:00                 0       66954  2016-04-07 01:46:50  \n",
       "2  2016-03-14 00:00:00                 0       90480  2016-04-05 12:47:46  \n",
       "3  2016-03-17 00:00:00                 0       91074  2016-03-17 17:40:17  \n",
       "4  2016-03-31 00:00:00                 0       60437  2016-04-06 10:17:21  "
      ]
     },
     "execution_count": 2,
     "metadata": {},
     "output_type": "execute_result"
    }
   ],
   "source": [
    "# знакомство с данными\n",
    "df = pd.read_csv('***.csv')\n",
    "df.info()\n",
    "df.head()"
   ]
  },
  {
   "cell_type": "code",
   "execution_count": 3,
   "metadata": {
    "scrolled": true
   },
   "outputs": [
    {
     "data": {
      "text/html": [
       "<div>\n",
       "<style scoped>\n",
       "    .dataframe tbody tr th:only-of-type {\n",
       "        vertical-align: middle;\n",
       "    }\n",
       "\n",
       "    .dataframe tbody tr th {\n",
       "        vertical-align: top;\n",
       "    }\n",
       "\n",
       "    .dataframe thead th {\n",
       "        text-align: right;\n",
       "    }\n",
       "</style>\n",
       "<table border=\"1\" class=\"dataframe\">\n",
       "  <thead>\n",
       "    <tr style=\"text-align: right;\">\n",
       "      <th></th>\n",
       "      <th>Price</th>\n",
       "      <th>RegistrationYear</th>\n",
       "      <th>Power</th>\n",
       "      <th>Kilometer</th>\n",
       "      <th>RegistrationMonth</th>\n",
       "      <th>NumberOfPictures</th>\n",
       "      <th>PostalCode</th>\n",
       "    </tr>\n",
       "  </thead>\n",
       "  <tbody>\n",
       "    <tr>\n",
       "      <th>count</th>\n",
       "      <td>354369.000000</td>\n",
       "      <td>354369.000000</td>\n",
       "      <td>354369.000000</td>\n",
       "      <td>354369.000000</td>\n",
       "      <td>354369.000000</td>\n",
       "      <td>354369.0</td>\n",
       "      <td>354369.000000</td>\n",
       "    </tr>\n",
       "    <tr>\n",
       "      <th>mean</th>\n",
       "      <td>4416.656776</td>\n",
       "      <td>2004.234448</td>\n",
       "      <td>110.094337</td>\n",
       "      <td>128211.172535</td>\n",
       "      <td>5.714645</td>\n",
       "      <td>0.0</td>\n",
       "      <td>50508.689087</td>\n",
       "    </tr>\n",
       "    <tr>\n",
       "      <th>std</th>\n",
       "      <td>4514.158514</td>\n",
       "      <td>90.227958</td>\n",
       "      <td>189.850405</td>\n",
       "      <td>37905.341530</td>\n",
       "      <td>3.726421</td>\n",
       "      <td>0.0</td>\n",
       "      <td>25783.096248</td>\n",
       "    </tr>\n",
       "    <tr>\n",
       "      <th>min</th>\n",
       "      <td>0.000000</td>\n",
       "      <td>1000.000000</td>\n",
       "      <td>0.000000</td>\n",
       "      <td>5000.000000</td>\n",
       "      <td>0.000000</td>\n",
       "      <td>0.0</td>\n",
       "      <td>1067.000000</td>\n",
       "    </tr>\n",
       "    <tr>\n",
       "      <th>25%</th>\n",
       "      <td>1050.000000</td>\n",
       "      <td>1999.000000</td>\n",
       "      <td>69.000000</td>\n",
       "      <td>125000.000000</td>\n",
       "      <td>3.000000</td>\n",
       "      <td>0.0</td>\n",
       "      <td>30165.000000</td>\n",
       "    </tr>\n",
       "    <tr>\n",
       "      <th>50%</th>\n",
       "      <td>2700.000000</td>\n",
       "      <td>2003.000000</td>\n",
       "      <td>105.000000</td>\n",
       "      <td>150000.000000</td>\n",
       "      <td>6.000000</td>\n",
       "      <td>0.0</td>\n",
       "      <td>49413.000000</td>\n",
       "    </tr>\n",
       "    <tr>\n",
       "      <th>75%</th>\n",
       "      <td>6400.000000</td>\n",
       "      <td>2008.000000</td>\n",
       "      <td>143.000000</td>\n",
       "      <td>150000.000000</td>\n",
       "      <td>9.000000</td>\n",
       "      <td>0.0</td>\n",
       "      <td>71083.000000</td>\n",
       "    </tr>\n",
       "    <tr>\n",
       "      <th>max</th>\n",
       "      <td>20000.000000</td>\n",
       "      <td>9999.000000</td>\n",
       "      <td>20000.000000</td>\n",
       "      <td>150000.000000</td>\n",
       "      <td>12.000000</td>\n",
       "      <td>0.0</td>\n",
       "      <td>99998.000000</td>\n",
       "    </tr>\n",
       "  </tbody>\n",
       "</table>\n",
       "</div>"
      ],
      "text/plain": [
       "               Price  RegistrationYear          Power      Kilometer  \\\n",
       "count  354369.000000     354369.000000  354369.000000  354369.000000   \n",
       "mean     4416.656776       2004.234448     110.094337  128211.172535   \n",
       "std      4514.158514         90.227958     189.850405   37905.341530   \n",
       "min         0.000000       1000.000000       0.000000    5000.000000   \n",
       "25%      1050.000000       1999.000000      69.000000  125000.000000   \n",
       "50%      2700.000000       2003.000000     105.000000  150000.000000   \n",
       "75%      6400.000000       2008.000000     143.000000  150000.000000   \n",
       "max     20000.000000       9999.000000   20000.000000  150000.000000   \n",
       "\n",
       "       RegistrationMonth  NumberOfPictures     PostalCode  \n",
       "count      354369.000000          354369.0  354369.000000  \n",
       "mean            5.714645               0.0   50508.689087  \n",
       "std             3.726421               0.0   25783.096248  \n",
       "min             0.000000               0.0    1067.000000  \n",
       "25%             3.000000               0.0   30165.000000  \n",
       "50%             6.000000               0.0   49413.000000  \n",
       "75%             9.000000               0.0   71083.000000  \n",
       "max            12.000000               0.0   99998.000000  "
      ]
     },
     "execution_count": 3,
     "metadata": {},
     "output_type": "execute_result"
    }
   ],
   "source": [
    "df.describe()"
   ]
  },
  {
   "cell_type": "code",
   "execution_count": 4,
   "metadata": {},
   "outputs": [
    {
     "data": {
      "text/plain": [
       "4"
      ]
     },
     "execution_count": 4,
     "metadata": {},
     "output_type": "execute_result"
    }
   ],
   "source": [
    "df.duplicated().sum() # количесвто дубликатов"
   ]
  },
  {
   "cell_type": "code",
   "execution_count": 5,
   "metadata": {},
   "outputs": [
    {
     "data": {
      "text/html": [
       "<div>\n",
       "<style scoped>\n",
       "    .dataframe tbody tr th:only-of-type {\n",
       "        vertical-align: middle;\n",
       "    }\n",
       "\n",
       "    .dataframe tbody tr th {\n",
       "        vertical-align: top;\n",
       "    }\n",
       "\n",
       "    .dataframe thead th {\n",
       "        text-align: right;\n",
       "    }\n",
       "</style>\n",
       "<table border=\"1\" class=\"dataframe\">\n",
       "  <thead>\n",
       "    <tr style=\"text-align: right;\">\n",
       "      <th></th>\n",
       "      <th>DateCrawled</th>\n",
       "      <th>Price</th>\n",
       "      <th>VehicleType</th>\n",
       "      <th>RegistrationYear</th>\n",
       "      <th>Gearbox</th>\n",
       "      <th>Power</th>\n",
       "      <th>Model</th>\n",
       "      <th>Kilometer</th>\n",
       "      <th>RegistrationMonth</th>\n",
       "      <th>FuelType</th>\n",
       "      <th>Brand</th>\n",
       "      <th>NotRepaired</th>\n",
       "      <th>DateCreated</th>\n",
       "      <th>NumberOfPictures</th>\n",
       "      <th>PostalCode</th>\n",
       "      <th>LastSeen</th>\n",
       "    </tr>\n",
       "  </thead>\n",
       "  <tbody>\n",
       "    <tr>\n",
       "      <th>171088</th>\n",
       "      <td>2016-03-08 18:42:48</td>\n",
       "      <td>1799</td>\n",
       "      <td>coupe</td>\n",
       "      <td>1999</td>\n",
       "      <td>auto</td>\n",
       "      <td>193</td>\n",
       "      <td>clk</td>\n",
       "      <td>20000</td>\n",
       "      <td>7</td>\n",
       "      <td>petrol</td>\n",
       "      <td>mercedes_benz</td>\n",
       "      <td>no</td>\n",
       "      <td>2016-03-08 00:00:00</td>\n",
       "      <td>0</td>\n",
       "      <td>89518</td>\n",
       "      <td>2016-03-09 09:46:57</td>\n",
       "    </tr>\n",
       "    <tr>\n",
       "      <th>231258</th>\n",
       "      <td>2016-03-28 00:56:10</td>\n",
       "      <td>1000</td>\n",
       "      <td>small</td>\n",
       "      <td>2002</td>\n",
       "      <td>manual</td>\n",
       "      <td>83</td>\n",
       "      <td>other</td>\n",
       "      <td>150000</td>\n",
       "      <td>1</td>\n",
       "      <td>petrol</td>\n",
       "      <td>suzuki</td>\n",
       "      <td>no</td>\n",
       "      <td>2016-03-28 00:00:00</td>\n",
       "      <td>0</td>\n",
       "      <td>66589</td>\n",
       "      <td>2016-03-28 08:46:21</td>\n",
       "    </tr>\n",
       "    <tr>\n",
       "      <th>258109</th>\n",
       "      <td>2016-04-03 09:01:15</td>\n",
       "      <td>4699</td>\n",
       "      <td>coupe</td>\n",
       "      <td>2003</td>\n",
       "      <td>auto</td>\n",
       "      <td>218</td>\n",
       "      <td>clk</td>\n",
       "      <td>125000</td>\n",
       "      <td>6</td>\n",
       "      <td>petrol</td>\n",
       "      <td>mercedes_benz</td>\n",
       "      <td>yes</td>\n",
       "      <td>2016-04-03 00:00:00</td>\n",
       "      <td>0</td>\n",
       "      <td>75196</td>\n",
       "      <td>2016-04-07 09:44:54</td>\n",
       "    </tr>\n",
       "    <tr>\n",
       "      <th>325651</th>\n",
       "      <td>2016-03-18 18:46:15</td>\n",
       "      <td>1999</td>\n",
       "      <td>wagon</td>\n",
       "      <td>2001</td>\n",
       "      <td>manual</td>\n",
       "      <td>131</td>\n",
       "      <td>passat</td>\n",
       "      <td>150000</td>\n",
       "      <td>7</td>\n",
       "      <td>gasoline</td>\n",
       "      <td>volkswagen</td>\n",
       "      <td>no</td>\n",
       "      <td>2016-03-18 00:00:00</td>\n",
       "      <td>0</td>\n",
       "      <td>36391</td>\n",
       "      <td>2016-03-18 18:46:15</td>\n",
       "    </tr>\n",
       "  </tbody>\n",
       "</table>\n",
       "</div>"
      ],
      "text/plain": [
       "                DateCrawled  Price VehicleType  RegistrationYear Gearbox  \\\n",
       "171088  2016-03-08 18:42:48   1799       coupe              1999    auto   \n",
       "231258  2016-03-28 00:56:10   1000       small              2002  manual   \n",
       "258109  2016-04-03 09:01:15   4699       coupe              2003    auto   \n",
       "325651  2016-03-18 18:46:15   1999       wagon              2001  manual   \n",
       "\n",
       "        Power   Model  Kilometer  RegistrationMonth  FuelType          Brand  \\\n",
       "171088    193     clk      20000                  7    petrol  mercedes_benz   \n",
       "231258     83   other     150000                  1    petrol         suzuki   \n",
       "258109    218     clk     125000                  6    petrol  mercedes_benz   \n",
       "325651    131  passat     150000                  7  gasoline     volkswagen   \n",
       "\n",
       "       NotRepaired          DateCreated  NumberOfPictures  PostalCode  \\\n",
       "171088          no  2016-03-08 00:00:00                 0       89518   \n",
       "231258          no  2016-03-28 00:00:00                 0       66589   \n",
       "258109         yes  2016-04-03 00:00:00                 0       75196   \n",
       "325651          no  2016-03-18 00:00:00                 0       36391   \n",
       "\n",
       "                   LastSeen  \n",
       "171088  2016-03-09 09:46:57  \n",
       "231258  2016-03-28 08:46:21  \n",
       "258109  2016-04-07 09:44:54  \n",
       "325651  2016-03-18 18:46:15  "
      ]
     },
     "execution_count": 5,
     "metadata": {},
     "output_type": "execute_result"
    }
   ],
   "source": [
    "df[df.duplicated()] # строки с дубликатами"
   ]
  },
  {
   "cell_type": "markdown",
   "metadata": {},
   "source": [
    "Признаки\n",
    " - DateCrawled — дата скачивания анкеты из базы\n",
    " - VehicleType — тип автомобильного кузова\n",
    " - RegistrationYear — год регистрации автомобиля\n",
    " - Gearbox — тип коробки передач\n",
    " - Power — мощность (л. с.)\n",
    " - Model — модель автомобиля\n",
    " - Kilometer — пробег (км)\n",
    " - RegistrationMonth — месяц регистрации автомобиля\n",
    " - FuelType — тип топлива\n",
    " - Brand — марка автомобиля\n",
    " - NotRepaired — была машина в ремонте или нет\n",
    " - DateCreated — дата создания анкеты\n",
    " - NumberOfPictures — количество фотографий автомобиля\n",
    " - PostalCode — почтовый индекс владельца анкеты (пользователя)\n",
    " - LastSeen — дата последней активности пользователя\n",
    "\n",
    "Целевой признак\n",
    " - Price — цена (евро)"
   ]
  },
  {
   "cell_type": "markdown",
   "metadata": {},
   "source": [
    "В данных есть пропуски, нарушение регистра. Так же есть 5 столбцов, которые не повлият на прогноз цены, их можно удалить. Количество фотографий везде равно 0. Найдены дубликаты, но дубликатами они не являются, просто похожие значения.\n",
    "\n",
    "Присутствуют нулевые значения в цене, а так же 13 месяцев. Аномальные значения у года регистрации и мощности. Необходимо провести предобработку."
   ]
  },
  {
   "cell_type": "markdown",
   "metadata": {},
   "source": [
    "### 1.1 Предобработка данных"
   ]
  },
  {
   "cell_type": "code",
   "execution_count": 6,
   "metadata": {},
   "outputs": [],
   "source": [
    "df = df.drop(columns=['DateCrawled', 'DateCreated', 'NumberOfPictures', 'PostalCode', 'LastSeen'])"
   ]
  },
  {
   "cell_type": "code",
   "execution_count": 7,
   "metadata": {},
   "outputs": [
    {
     "data": {
      "text/html": [
       "<div>\n",
       "<style scoped>\n",
       "    .dataframe tbody tr th:only-of-type {\n",
       "        vertical-align: middle;\n",
       "    }\n",
       "\n",
       "    .dataframe tbody tr th {\n",
       "        vertical-align: top;\n",
       "    }\n",
       "\n",
       "    .dataframe thead th {\n",
       "        text-align: right;\n",
       "    }\n",
       "</style>\n",
       "<table border=\"1\" class=\"dataframe\">\n",
       "  <thead>\n",
       "    <tr style=\"text-align: right;\">\n",
       "      <th></th>\n",
       "      <th>price</th>\n",
       "      <th>vehicle_type</th>\n",
       "      <th>registration_year</th>\n",
       "      <th>gearbox</th>\n",
       "      <th>power</th>\n",
       "      <th>model</th>\n",
       "      <th>km</th>\n",
       "      <th>registration_month</th>\n",
       "      <th>fuel</th>\n",
       "      <th>brand</th>\n",
       "      <th>not_repaired</th>\n",
       "    </tr>\n",
       "  </thead>\n",
       "  <tbody>\n",
       "    <tr>\n",
       "      <th>0</th>\n",
       "      <td>480</td>\n",
       "      <td>NaN</td>\n",
       "      <td>1993</td>\n",
       "      <td>manual</td>\n",
       "      <td>0</td>\n",
       "      <td>golf</td>\n",
       "      <td>150000</td>\n",
       "      <td>0</td>\n",
       "      <td>petrol</td>\n",
       "      <td>volkswagen</td>\n",
       "      <td>NaN</td>\n",
       "    </tr>\n",
       "    <tr>\n",
       "      <th>1</th>\n",
       "      <td>18300</td>\n",
       "      <td>coupe</td>\n",
       "      <td>2011</td>\n",
       "      <td>manual</td>\n",
       "      <td>190</td>\n",
       "      <td>NaN</td>\n",
       "      <td>125000</td>\n",
       "      <td>5</td>\n",
       "      <td>gasoline</td>\n",
       "      <td>audi</td>\n",
       "      <td>yes</td>\n",
       "    </tr>\n",
       "    <tr>\n",
       "      <th>2</th>\n",
       "      <td>9800</td>\n",
       "      <td>suv</td>\n",
       "      <td>2004</td>\n",
       "      <td>auto</td>\n",
       "      <td>163</td>\n",
       "      <td>grand</td>\n",
       "      <td>125000</td>\n",
       "      <td>8</td>\n",
       "      <td>gasoline</td>\n",
       "      <td>jeep</td>\n",
       "      <td>NaN</td>\n",
       "    </tr>\n",
       "    <tr>\n",
       "      <th>3</th>\n",
       "      <td>1500</td>\n",
       "      <td>small</td>\n",
       "      <td>2001</td>\n",
       "      <td>manual</td>\n",
       "      <td>75</td>\n",
       "      <td>golf</td>\n",
       "      <td>150000</td>\n",
       "      <td>6</td>\n",
       "      <td>petrol</td>\n",
       "      <td>volkswagen</td>\n",
       "      <td>no</td>\n",
       "    </tr>\n",
       "    <tr>\n",
       "      <th>4</th>\n",
       "      <td>3600</td>\n",
       "      <td>small</td>\n",
       "      <td>2008</td>\n",
       "      <td>manual</td>\n",
       "      <td>69</td>\n",
       "      <td>fabia</td>\n",
       "      <td>90000</td>\n",
       "      <td>7</td>\n",
       "      <td>gasoline</td>\n",
       "      <td>skoda</td>\n",
       "      <td>no</td>\n",
       "    </tr>\n",
       "  </tbody>\n",
       "</table>\n",
       "</div>"
      ],
      "text/plain": [
       "   price vehicle_type  registration_year gearbox  power  model      km  \\\n",
       "0    480          NaN               1993  manual      0   golf  150000   \n",
       "1  18300        coupe               2011  manual    190    NaN  125000   \n",
       "2   9800          suv               2004    auto    163  grand  125000   \n",
       "3   1500        small               2001  manual     75   golf  150000   \n",
       "4   3600        small               2008  manual     69  fabia   90000   \n",
       "\n",
       "   registration_month      fuel       brand not_repaired  \n",
       "0                   0    petrol  volkswagen          NaN  \n",
       "1                   5  gasoline        audi          yes  \n",
       "2                   8  gasoline        jeep          NaN  \n",
       "3                   6    petrol  volkswagen           no  \n",
       "4                   7  gasoline       skoda           no  "
      ]
     },
     "execution_count": 7,
     "metadata": {},
     "output_type": "execute_result"
    }
   ],
   "source": [
    "# переименование столбцов\n",
    "df = df.rename(columns = {'Price':'price',\n",
    "                          'VehicleType':'vehicle_type',\n",
    "                          'RegistrationYear':'registration_year',\n",
    "                          'Gearbox':'gearbox',\n",
    "                          'Power':'power',\n",
    "                          'Model':'model',\n",
    "                          'Kilometer':'km',\n",
    "                          'RegistrationMonth':'registration_month',\n",
    "                          'FuelType':'fuel',\n",
    "                          'Brand':'brand',\n",
    "                          'NotRepaired':'not_repaired'\n",
    "                          })\n",
    "df.head()"
   ]
  },
  {
   "cell_type": "code",
   "execution_count": 8,
   "metadata": {},
   "outputs": [
    {
     "data": {
      "text/plain": [
       "price                  0.000000\n",
       "vehicle_type          10.579368\n",
       "registration_year      0.000000\n",
       "gearbox                5.596709\n",
       "power                  0.000000\n",
       "model                  5.560588\n",
       "km                     0.000000\n",
       "registration_month     0.000000\n",
       "fuel                   9.282697\n",
       "brand                  0.000000\n",
       "not_repaired          20.079070\n",
       "dtype: float64"
      ]
     },
     "execution_count": 8,
     "metadata": {},
     "output_type": "execute_result"
    }
   ],
   "source": [
    "df.isna().mean()*100 # пропуски в процентах "
   ]
  },
  {
   "cell_type": "markdown",
   "metadata": {},
   "source": [
    "Так как главная задача проекта - построить модель, заполнение пропусков может ухудшить предсказания. Можно обработать один столбец (not_repaired - слишком много пропущенных значений)."
   ]
  },
  {
   "cell_type": "markdown",
   "metadata": {},
   "source": [
    "Пропуски в 5 столбцах:\n",
    " - `тип кузова` - Невозможно восстановить, тип кузова может быть как минимум в двух вариантах. 10,6 %  \n",
    " - `тип коробки передач` - Невозможно восстановить, аналогично с типом кузова. 5.6 % \n",
    " - `модель автомобиля` - Невозможно восстановить, аналогично с типом кузова. 5.6 % \n",
    " - `тип топлива` - Можно взять за основу модель, брэнд, год выпуска, тип коробки передач. 9.3 % \n",
    " - `была машина в ремонте или нет` - Можно заполнить, взять за основу пробег автомобиля. 20,1 % пропусков. 1/5 часть, их лучше заполнить. (это улучшает качество моделей, проверено)"
   ]
  },
  {
   "cell_type": "code",
   "execution_count": 9,
   "metadata": {},
   "outputs": [],
   "source": [
    "# заполнение пропусков с ремонтами, 'yes' свыше 100 000 км пробега\n",
    "df.loc[df['not_repaired'].isna(), 'not_repaired'] = df.loc[df['not_repaired'].isna(), 'km'] \\\n",
    "    .apply(lambda x: 'no' if x > 100000 else 'yes')"
   ]
  },
  {
   "cell_type": "code",
   "execution_count": 11,
   "metadata": {},
   "outputs": [],
   "source": [
    "# замена пропусков \n",
    "df[['vehicle_type','gearbox','model','fuel']] = df[['vehicle_type','gearbox','model','fuel']].fillna('unknown')"
   ]
  },
  {
   "cell_type": "code",
   "execution_count": 12,
   "metadata": {
    "scrolled": false
   },
   "outputs": [
    {
     "data": {
      "text/plain": [
       "price                 0.0\n",
       "vehicle_type          0.0\n",
       "registration_year     0.0\n",
       "gearbox               0.0\n",
       "power                 0.0\n",
       "model                 0.0\n",
       "km                    0.0\n",
       "registration_month    0.0\n",
       "fuel                  0.0\n",
       "brand                 0.0\n",
       "not_repaired          0.0\n",
       "dtype: float64"
      ]
     },
     "execution_count": 12,
     "metadata": {},
     "output_type": "execute_result"
    }
   ],
   "source": [
    "df.isna().mean()*100 # пропуски в процентах "
   ]
  },
  {
   "cell_type": "markdown",
   "metadata": {},
   "source": [
    "Обработаем нулевые и аномальные значения мощности. \\\n",
    "Нулевую мощность можно заполнить медианой. (это улучшает качество моделей, проверено)"
   ]
  },
  {
   "cell_type": "code",
   "execution_count": 13,
   "metadata": {
    "scrolled": false
   },
   "outputs": [
    {
     "data": {
      "image/png": "[encoded data removed]",
      "text/plain": [
       "<Figure size 720x504 with 1 Axes>"
      ]
     },
     "metadata": {
      "needs_background": "light"
     },
     "output_type": "display_data"
    }
   ],
   "source": [
    "df['power'].hist(bins=80,range=(0,500),figsize=(10,7));"
   ]
  },
  {
   "cell_type": "code",
   "execution_count": 14,
   "metadata": {},
   "outputs": [],
   "source": [
    "df.loc[df['power'] == 0, 'power'] = df['power'].median().astype('int64') # замена нулевой мощности медианой"
   ]
  },
  {
   "cell_type": "markdown",
   "metadata": {},
   "source": [
    "Уберем аномалии в мощности. Больше 500 л.с. как правило в спортивных автомобилях. Конечно могут встречаться разные уникальные экземпляры. Но в наших данных это больше больше похоже на ошибку:"
   ]
  },
  {
   "cell_type": "code",
   "execution_count": 15,
   "metadata": {},
   "outputs": [
    {
     "data": {
      "text/html": [
       "<div>\n",
       "<style scoped>\n",
       "    .dataframe tbody tr th:only-of-type {\n",
       "        vertical-align: middle;\n",
       "    }\n",
       "\n",
       "    .dataframe tbody tr th {\n",
       "        vertical-align: top;\n",
       "    }\n",
       "\n",
       "    .dataframe thead th {\n",
       "        text-align: right;\n",
       "    }\n",
       "</style>\n",
       "<table border=\"1\" class=\"dataframe\">\n",
       "  <thead>\n",
       "    <tr style=\"text-align: right;\">\n",
       "      <th></th>\n",
       "      <th>price</th>\n",
       "      <th>vehicle_type</th>\n",
       "      <th>registration_year</th>\n",
       "      <th>gearbox</th>\n",
       "      <th>power</th>\n",
       "      <th>model</th>\n",
       "      <th>km</th>\n",
       "      <th>registration_month</th>\n",
       "      <th>fuel</th>\n",
       "      <th>brand</th>\n",
       "      <th>not_repaired</th>\n",
       "    </tr>\n",
       "  </thead>\n",
       "  <tbody>\n",
       "    <tr>\n",
       "      <th>1816</th>\n",
       "      <td>3200</td>\n",
       "      <td>small</td>\n",
       "      <td>2004</td>\n",
       "      <td>manual</td>\n",
       "      <td>1398</td>\n",
       "      <td>corolla</td>\n",
       "      <td>5000</td>\n",
       "      <td>6</td>\n",
       "      <td>petrol</td>\n",
       "      <td>toyota</td>\n",
       "      <td>no</td>\n",
       "    </tr>\n",
       "    <tr>\n",
       "      <th>2102</th>\n",
       "      <td>0</td>\n",
       "      <td>sedan</td>\n",
       "      <td>1999</td>\n",
       "      <td>unknown</td>\n",
       "      <td>1799</td>\n",
       "      <td>vectra</td>\n",
       "      <td>150000</td>\n",
       "      <td>1</td>\n",
       "      <td>petrol</td>\n",
       "      <td>opel</td>\n",
       "      <td>yes</td>\n",
       "    </tr>\n",
       "    <tr>\n",
       "      <th>3746</th>\n",
       "      <td>0</td>\n",
       "      <td>unknown</td>\n",
       "      <td>2017</td>\n",
       "      <td>manual</td>\n",
       "      <td>750</td>\n",
       "      <td>unknown</td>\n",
       "      <td>150000</td>\n",
       "      <td>8</td>\n",
       "      <td>petrol</td>\n",
       "      <td>smart</td>\n",
       "      <td>no</td>\n",
       "    </tr>\n",
       "    <tr>\n",
       "      <th>4060</th>\n",
       "      <td>3100</td>\n",
       "      <td>sedan</td>\n",
       "      <td>2005</td>\n",
       "      <td>manual</td>\n",
       "      <td>953</td>\n",
       "      <td>colt</td>\n",
       "      <td>150000</td>\n",
       "      <td>4</td>\n",
       "      <td>gasoline</td>\n",
       "      <td>mitsubishi</td>\n",
       "      <td>no</td>\n",
       "    </tr>\n",
       "    <tr>\n",
       "      <th>5328</th>\n",
       "      <td>500</td>\n",
       "      <td>wagon</td>\n",
       "      <td>1999</td>\n",
       "      <td>manual</td>\n",
       "      <td>1001</td>\n",
       "      <td>astra</td>\n",
       "      <td>150000</td>\n",
       "      <td>7</td>\n",
       "      <td>petrol</td>\n",
       "      <td>opel</td>\n",
       "      <td>no</td>\n",
       "    </tr>\n",
       "    <tr>\n",
       "      <th>...</th>\n",
       "      <td>...</td>\n",
       "      <td>...</td>\n",
       "      <td>...</td>\n",
       "      <td>...</td>\n",
       "      <td>...</td>\n",
       "      <td>...</td>\n",
       "      <td>...</td>\n",
       "      <td>...</td>\n",
       "      <td>...</td>\n",
       "      <td>...</td>\n",
       "      <td>...</td>\n",
       "    </tr>\n",
       "    <tr>\n",
       "      <th>348968</th>\n",
       "      <td>250</td>\n",
       "      <td>small</td>\n",
       "      <td>1999</td>\n",
       "      <td>manual</td>\n",
       "      <td>1241</td>\n",
       "      <td>ypsilon</td>\n",
       "      <td>150000</td>\n",
       "      <td>5</td>\n",
       "      <td>petrol</td>\n",
       "      <td>lancia</td>\n",
       "      <td>yes</td>\n",
       "    </tr>\n",
       "    <tr>\n",
       "      <th>351947</th>\n",
       "      <td>1500</td>\n",
       "      <td>bus</td>\n",
       "      <td>2001</td>\n",
       "      <td>manual</td>\n",
       "      <td>1001</td>\n",
       "      <td>zafira</td>\n",
       "      <td>5000</td>\n",
       "      <td>7</td>\n",
       "      <td>gasoline</td>\n",
       "      <td>opel</td>\n",
       "      <td>no</td>\n",
       "    </tr>\n",
       "    <tr>\n",
       "      <th>353493</th>\n",
       "      <td>12500</td>\n",
       "      <td>unknown</td>\n",
       "      <td>2017</td>\n",
       "      <td>manual</td>\n",
       "      <td>2000</td>\n",
       "      <td>other</td>\n",
       "      <td>60000</td>\n",
       "      <td>0</td>\n",
       "      <td>gasoline</td>\n",
       "      <td>chrysler</td>\n",
       "      <td>no</td>\n",
       "    </tr>\n",
       "    <tr>\n",
       "      <th>353633</th>\n",
       "      <td>2400</td>\n",
       "      <td>sedan</td>\n",
       "      <td>2007</td>\n",
       "      <td>manual</td>\n",
       "      <td>650</td>\n",
       "      <td>c2</td>\n",
       "      <td>150000</td>\n",
       "      <td>8</td>\n",
       "      <td>petrol</td>\n",
       "      <td>citroen</td>\n",
       "      <td>no</td>\n",
       "    </tr>\n",
       "    <tr>\n",
       "      <th>354260</th>\n",
       "      <td>399</td>\n",
       "      <td>other</td>\n",
       "      <td>1994</td>\n",
       "      <td>unknown</td>\n",
       "      <td>1103</td>\n",
       "      <td>3er</td>\n",
       "      <td>150000</td>\n",
       "      <td>0</td>\n",
       "      <td>unknown</td>\n",
       "      <td>bmw</td>\n",
       "      <td>no</td>\n",
       "    </tr>\n",
       "  </tbody>\n",
       "</table>\n",
       "<p>459 rows × 11 columns</p>\n",
       "</div>"
      ],
      "text/plain": [
       "        price vehicle_type  registration_year  gearbox  power    model  \\\n",
       "1816     3200        small               2004   manual   1398  corolla   \n",
       "2102        0        sedan               1999  unknown   1799   vectra   \n",
       "3746        0      unknown               2017   manual    750  unknown   \n",
       "4060     3100        sedan               2005   manual    953     colt   \n",
       "5328      500        wagon               1999   manual   1001    astra   \n",
       "...       ...          ...                ...      ...    ...      ...   \n",
       "348968    250        small               1999   manual   1241  ypsilon   \n",
       "351947   1500          bus               2001   manual   1001   zafira   \n",
       "353493  12500      unknown               2017   manual   2000    other   \n",
       "353633   2400        sedan               2007   manual    650       c2   \n",
       "354260    399        other               1994  unknown   1103      3er   \n",
       "\n",
       "            km  registration_month      fuel       brand not_repaired  \n",
       "1816      5000                   6    petrol      toyota           no  \n",
       "2102    150000                   1    petrol        opel          yes  \n",
       "3746    150000                   8    petrol       smart           no  \n",
       "4060    150000                   4  gasoline  mitsubishi           no  \n",
       "5328    150000                   7    petrol        opel           no  \n",
       "...        ...                 ...       ...         ...          ...  \n",
       "348968  150000                   5    petrol      lancia          yes  \n",
       "351947    5000                   7  gasoline        opel           no  \n",
       "353493   60000                   0  gasoline    chrysler           no  \n",
       "353633  150000                   8    petrol     citroen           no  \n",
       "354260  150000                   0   unknown         bmw           no  \n",
       "\n",
       "[459 rows x 11 columns]"
      ]
     },
     "execution_count": 15,
     "metadata": {},
     "output_type": "execute_result"
    }
   ],
   "source": [
    "df.query('power > 500') "
   ]
  },
  {
   "cell_type": "markdown",
   "metadata": {},
   "source": [
    "Похоже значения увеличены на 1 порядок. Но строк всего 459, проще удалить, чем гадать. Таких значений 0,1%."
   ]
  },
  {
   "cell_type": "code",
   "execution_count": 16,
   "metadata": {},
   "outputs": [],
   "source": [
    "df = df.query('power < 500') "
   ]
  },
  {
   "cell_type": "markdown",
   "metadata": {},
   "source": [
    "Обработаем нулевые значения цены."
   ]
  },
  {
   "cell_type": "code",
   "execution_count": 17,
   "metadata": {
    "scrolled": false
   },
   "outputs": [
    {
     "data": {
      "text/html": [
       "<div>\n",
       "<style scoped>\n",
       "    .dataframe tbody tr th:only-of-type {\n",
       "        vertical-align: middle;\n",
       "    }\n",
       "\n",
       "    .dataframe tbody tr th {\n",
       "        vertical-align: top;\n",
       "    }\n",
       "\n",
       "    .dataframe thead th {\n",
       "        text-align: right;\n",
       "    }\n",
       "</style>\n",
       "<table border=\"1\" class=\"dataframe\">\n",
       "  <thead>\n",
       "    <tr style=\"text-align: right;\">\n",
       "      <th></th>\n",
       "      <th>price</th>\n",
       "      <th>vehicle_type</th>\n",
       "      <th>registration_year</th>\n",
       "      <th>gearbox</th>\n",
       "      <th>power</th>\n",
       "      <th>model</th>\n",
       "      <th>km</th>\n",
       "      <th>registration_month</th>\n",
       "      <th>fuel</th>\n",
       "      <th>brand</th>\n",
       "      <th>not_repaired</th>\n",
       "    </tr>\n",
       "  </thead>\n",
       "  <tbody>\n",
       "    <tr>\n",
       "      <th>7</th>\n",
       "      <td>0</td>\n",
       "      <td>sedan</td>\n",
       "      <td>1980</td>\n",
       "      <td>manual</td>\n",
       "      <td>50</td>\n",
       "      <td>other</td>\n",
       "      <td>40000</td>\n",
       "      <td>7</td>\n",
       "      <td>petrol</td>\n",
       "      <td>volkswagen</td>\n",
       "      <td>no</td>\n",
       "    </tr>\n",
       "    <tr>\n",
       "      <th>40</th>\n",
       "      <td>0</td>\n",
       "      <td>unknown</td>\n",
       "      <td>1990</td>\n",
       "      <td>unknown</td>\n",
       "      <td>105</td>\n",
       "      <td>corsa</td>\n",
       "      <td>150000</td>\n",
       "      <td>1</td>\n",
       "      <td>petrol</td>\n",
       "      <td>opel</td>\n",
       "      <td>no</td>\n",
       "    </tr>\n",
       "    <tr>\n",
       "      <th>111</th>\n",
       "      <td>0</td>\n",
       "      <td>unknown</td>\n",
       "      <td>2017</td>\n",
       "      <td>manual</td>\n",
       "      <td>105</td>\n",
       "      <td>golf</td>\n",
       "      <td>5000</td>\n",
       "      <td>12</td>\n",
       "      <td>petrol</td>\n",
       "      <td>volkswagen</td>\n",
       "      <td>yes</td>\n",
       "    </tr>\n",
       "    <tr>\n",
       "      <th>115</th>\n",
       "      <td>0</td>\n",
       "      <td>small</td>\n",
       "      <td>1999</td>\n",
       "      <td>unknown</td>\n",
       "      <td>105</td>\n",
       "      <td>unknown</td>\n",
       "      <td>5000</td>\n",
       "      <td>0</td>\n",
       "      <td>petrol</td>\n",
       "      <td>volkswagen</td>\n",
       "      <td>yes</td>\n",
       "    </tr>\n",
       "    <tr>\n",
       "      <th>152</th>\n",
       "      <td>0</td>\n",
       "      <td>bus</td>\n",
       "      <td>2004</td>\n",
       "      <td>manual</td>\n",
       "      <td>101</td>\n",
       "      <td>meriva</td>\n",
       "      <td>150000</td>\n",
       "      <td>10</td>\n",
       "      <td>lpg</td>\n",
       "      <td>opel</td>\n",
       "      <td>yes</td>\n",
       "    </tr>\n",
       "    <tr>\n",
       "      <th>...</th>\n",
       "      <td>...</td>\n",
       "      <td>...</td>\n",
       "      <td>...</td>\n",
       "      <td>...</td>\n",
       "      <td>...</td>\n",
       "      <td>...</td>\n",
       "      <td>...</td>\n",
       "      <td>...</td>\n",
       "      <td>...</td>\n",
       "      <td>...</td>\n",
       "      <td>...</td>\n",
       "    </tr>\n",
       "    <tr>\n",
       "      <th>354205</th>\n",
       "      <td>0</td>\n",
       "      <td>unknown</td>\n",
       "      <td>2000</td>\n",
       "      <td>manual</td>\n",
       "      <td>65</td>\n",
       "      <td>corsa</td>\n",
       "      <td>150000</td>\n",
       "      <td>0</td>\n",
       "      <td>unknown</td>\n",
       "      <td>opel</td>\n",
       "      <td>yes</td>\n",
       "    </tr>\n",
       "    <tr>\n",
       "      <th>354238</th>\n",
       "      <td>0</td>\n",
       "      <td>small</td>\n",
       "      <td>2002</td>\n",
       "      <td>manual</td>\n",
       "      <td>60</td>\n",
       "      <td>fiesta</td>\n",
       "      <td>150000</td>\n",
       "      <td>3</td>\n",
       "      <td>petrol</td>\n",
       "      <td>ford</td>\n",
       "      <td>no</td>\n",
       "    </tr>\n",
       "    <tr>\n",
       "      <th>354248</th>\n",
       "      <td>0</td>\n",
       "      <td>small</td>\n",
       "      <td>1999</td>\n",
       "      <td>manual</td>\n",
       "      <td>53</td>\n",
       "      <td>swift</td>\n",
       "      <td>150000</td>\n",
       "      <td>3</td>\n",
       "      <td>petrol</td>\n",
       "      <td>suzuki</td>\n",
       "      <td>no</td>\n",
       "    </tr>\n",
       "    <tr>\n",
       "      <th>354277</th>\n",
       "      <td>0</td>\n",
       "      <td>small</td>\n",
       "      <td>1999</td>\n",
       "      <td>manual</td>\n",
       "      <td>37</td>\n",
       "      <td>arosa</td>\n",
       "      <td>150000</td>\n",
       "      <td>7</td>\n",
       "      <td>petrol</td>\n",
       "      <td>seat</td>\n",
       "      <td>yes</td>\n",
       "    </tr>\n",
       "    <tr>\n",
       "      <th>354364</th>\n",
       "      <td>0</td>\n",
       "      <td>unknown</td>\n",
       "      <td>2005</td>\n",
       "      <td>manual</td>\n",
       "      <td>105</td>\n",
       "      <td>colt</td>\n",
       "      <td>150000</td>\n",
       "      <td>7</td>\n",
       "      <td>petrol</td>\n",
       "      <td>mitsubishi</td>\n",
       "      <td>yes</td>\n",
       "    </tr>\n",
       "  </tbody>\n",
       "</table>\n",
       "<p>10739 rows × 11 columns</p>\n",
       "</div>"
      ],
      "text/plain": [
       "        price vehicle_type  registration_year  gearbox  power    model  \\\n",
       "7           0        sedan               1980   manual     50    other   \n",
       "40          0      unknown               1990  unknown    105    corsa   \n",
       "111         0      unknown               2017   manual    105     golf   \n",
       "115         0        small               1999  unknown    105  unknown   \n",
       "152         0          bus               2004   manual    101   meriva   \n",
       "...       ...          ...                ...      ...    ...      ...   \n",
       "354205      0      unknown               2000   manual     65    corsa   \n",
       "354238      0        small               2002   manual     60   fiesta   \n",
       "354248      0        small               1999   manual     53    swift   \n",
       "354277      0        small               1999   manual     37    arosa   \n",
       "354364      0      unknown               2005   manual    105     colt   \n",
       "\n",
       "            km  registration_month     fuel       brand not_repaired  \n",
       "7        40000                   7   petrol  volkswagen           no  \n",
       "40      150000                   1   petrol        opel           no  \n",
       "111       5000                  12   petrol  volkswagen          yes  \n",
       "115       5000                   0   petrol  volkswagen          yes  \n",
       "152     150000                  10      lpg        opel          yes  \n",
       "...        ...                 ...      ...         ...          ...  \n",
       "354205  150000                   0  unknown        opel          yes  \n",
       "354238  150000                   3   petrol        ford           no  \n",
       "354248  150000                   3   petrol      suzuki           no  \n",
       "354277  150000                   7   petrol        seat          yes  \n",
       "354364  150000                   7   petrol  mitsubishi          yes  \n",
       "\n",
       "[10739 rows x 11 columns]"
      ]
     },
     "execution_count": 17,
     "metadata": {},
     "output_type": "execute_result"
    }
   ],
   "source": [
    "df[df['price'] == 0]"
   ]
  },
  {
   "cell_type": "code",
   "execution_count": 18,
   "metadata": {},
   "outputs": [
    {
     "data": {
      "image/png": "[encoded data removed]",
      "text/plain": [
       "<Figure size 720x504 with 1 Axes>"
      ]
     },
     "metadata": {
      "needs_background": "light"
     },
     "output_type": "display_data"
    }
   ],
   "source": [
    "df['price'].hist(bins=80,figsize=(10,7));"
   ]
  },
  {
   "cell_type": "markdown",
   "metadata": {},
   "source": [
    "Слишком разные машины присутствуют с нулевой стоимостью. Предсказать цену на них вряд ли предоставляется возможным. Лучше удалить."
   ]
  },
  {
   "cell_type": "code",
   "execution_count": 19,
   "metadata": {},
   "outputs": [],
   "source": [
    "df = df.query('price > 1')"
   ]
  },
  {
   "cell_type": "markdown",
   "metadata": {},
   "source": [
    "Также присутствует нулевой месяц, скорей всего его не указали. Его можно оставить, не повлияет на результат."
   ]
  },
  {
   "cell_type": "code",
   "execution_count": 20,
   "metadata": {
    "scrolled": true
   },
   "outputs": [
    {
     "data": {
      "text/plain": [
       "3     33729\n",
       "0     32309\n",
       "6     30724\n",
       "4     28606\n",
       "5     28437\n",
       "7     26589\n",
       "10    25546\n",
       "11    23696\n",
       "12    23670\n",
       "9     23300\n",
       "1     22545\n",
       "8     22065\n",
       "2     20733\n",
       "Name: registration_month, dtype: int64"
      ]
     },
     "execution_count": 20,
     "metadata": {},
     "output_type": "execute_result"
    }
   ],
   "source": [
    "df['registration_month'].value_counts()"
   ]
  },
  {
   "cell_type": "code",
   "execution_count": 21,
   "metadata": {},
   "outputs": [
    {
     "data": {
      "text/html": [
       "<div>\n",
       "<style scoped>\n",
       "    .dataframe tbody tr th:only-of-type {\n",
       "        vertical-align: middle;\n",
       "    }\n",
       "\n",
       "    .dataframe tbody tr th {\n",
       "        vertical-align: top;\n",
       "    }\n",
       "\n",
       "    .dataframe thead th {\n",
       "        text-align: right;\n",
       "    }\n",
       "</style>\n",
       "<table border=\"1\" class=\"dataframe\">\n",
       "  <thead>\n",
       "    <tr style=\"text-align: right;\">\n",
       "      <th></th>\n",
       "      <th>price</th>\n",
       "      <th>registration_year</th>\n",
       "      <th>power</th>\n",
       "      <th>km</th>\n",
       "      <th>registration_month</th>\n",
       "    </tr>\n",
       "  </thead>\n",
       "  <tbody>\n",
       "    <tr>\n",
       "      <th>count</th>\n",
       "      <td>341949.000000</td>\n",
       "      <td>341949.000000</td>\n",
       "      <td>341949.000000</td>\n",
       "      <td>341949.000000</td>\n",
       "      <td>341949.000000</td>\n",
       "    </tr>\n",
       "    <tr>\n",
       "      <th>mean</th>\n",
       "      <td>4569.743368</td>\n",
       "      <td>2004.068308</td>\n",
       "      <td>118.478007</td>\n",
       "      <td>128388.473135</td>\n",
       "      <td>5.786389</td>\n",
       "    </tr>\n",
       "    <tr>\n",
       "      <th>std</th>\n",
       "      <td>4512.536037</td>\n",
       "      <td>77.098381</td>\n",
       "      <td>50.620605</td>\n",
       "      <td>37418.944026</td>\n",
       "      <td>3.694397</td>\n",
       "    </tr>\n",
       "    <tr>\n",
       "      <th>min</th>\n",
       "      <td>2.000000</td>\n",
       "      <td>1000.000000</td>\n",
       "      <td>1.000000</td>\n",
       "      <td>5000.000000</td>\n",
       "      <td>0.000000</td>\n",
       "    </tr>\n",
       "    <tr>\n",
       "      <th>25%</th>\n",
       "      <td>1200.000000</td>\n",
       "      <td>1999.000000</td>\n",
       "      <td>82.000000</td>\n",
       "      <td>125000.000000</td>\n",
       "      <td>3.000000</td>\n",
       "    </tr>\n",
       "    <tr>\n",
       "      <th>50%</th>\n",
       "      <td>2900.000000</td>\n",
       "      <td>2003.000000</td>\n",
       "      <td>105.000000</td>\n",
       "      <td>150000.000000</td>\n",
       "      <td>6.000000</td>\n",
       "    </tr>\n",
       "    <tr>\n",
       "      <th>75%</th>\n",
       "      <td>6500.000000</td>\n",
       "      <td>2008.000000</td>\n",
       "      <td>143.000000</td>\n",
       "      <td>150000.000000</td>\n",
       "      <td>9.000000</td>\n",
       "    </tr>\n",
       "    <tr>\n",
       "      <th>max</th>\n",
       "      <td>20000.000000</td>\n",
       "      <td>9999.000000</td>\n",
       "      <td>490.000000</td>\n",
       "      <td>150000.000000</td>\n",
       "      <td>12.000000</td>\n",
       "    </tr>\n",
       "  </tbody>\n",
       "</table>\n",
       "</div>"
      ],
      "text/plain": [
       "               price  registration_year          power             km  \\\n",
       "count  341949.000000      341949.000000  341949.000000  341949.000000   \n",
       "mean     4569.743368        2004.068308     118.478007  128388.473135   \n",
       "std      4512.536037          77.098381      50.620605   37418.944026   \n",
       "min         2.000000        1000.000000       1.000000    5000.000000   \n",
       "25%      1200.000000        1999.000000      82.000000  125000.000000   \n",
       "50%      2900.000000        2003.000000     105.000000  150000.000000   \n",
       "75%      6500.000000        2008.000000     143.000000  150000.000000   \n",
       "max     20000.000000        9999.000000     490.000000  150000.000000   \n",
       "\n",
       "       registration_month  \n",
       "count       341949.000000  \n",
       "mean             5.786389  \n",
       "std              3.694397  \n",
       "min              0.000000  \n",
       "25%              3.000000  \n",
       "50%              6.000000  \n",
       "75%              9.000000  \n",
       "max             12.000000  "
      ]
     },
     "execution_count": 21,
     "metadata": {},
     "output_type": "execute_result"
    }
   ],
   "source": [
    "#КОД РЕВЬЮЕРА\n",
    "\n",
    "df.describe()"
   ]
  },
  {
   "cell_type": "markdown",
   "metadata": {},
   "source": [
    "Обработаем аномальные значения года регистрации."
   ]
  },
  {
   "cell_type": "code",
   "execution_count": 22,
   "metadata": {},
   "outputs": [
    {
     "data": {
      "image/png": "[encoded data removed]",
      "text/plain": [
       "<Figure size 720x504 with 1 Axes>"
      ]
     },
     "metadata": {
      "needs_background": "light"
     },
     "output_type": "display_data"
    }
   ],
   "source": [
    "df['registration_year'].hist(bins=80,range=(1940,2021),figsize=(10,7));"
   ]
  },
  {
   "cell_type": "markdown",
   "metadata": {},
   "source": [
    "Уберем аномальные значения года регистрации. Подавляющая масса приходится на 2000-е. Оставим значения с 1950 по 2020."
   ]
  },
  {
   "cell_type": "code",
   "execution_count": 23,
   "metadata": {},
   "outputs": [],
   "source": [
    "df = df.query('registration_year > 1950 & registration_year < 2020')"
   ]
  },
  {
   "cell_type": "code",
   "execution_count": 24,
   "metadata": {},
   "outputs": [
    {
     "data": {
      "text/html": [
       "<div>\n",
       "<style scoped>\n",
       "    .dataframe tbody tr th:only-of-type {\n",
       "        vertical-align: middle;\n",
       "    }\n",
       "\n",
       "    .dataframe tbody tr th {\n",
       "        vertical-align: top;\n",
       "    }\n",
       "\n",
       "    .dataframe thead th {\n",
       "        text-align: right;\n",
       "    }\n",
       "</style>\n",
       "<table border=\"1\" class=\"dataframe\">\n",
       "  <thead>\n",
       "    <tr style=\"text-align: right;\">\n",
       "      <th></th>\n",
       "      <th>price</th>\n",
       "      <th>registration_year</th>\n",
       "      <th>power</th>\n",
       "      <th>km</th>\n",
       "      <th>registration_month</th>\n",
       "    </tr>\n",
       "  </thead>\n",
       "  <tbody>\n",
       "    <tr>\n",
       "      <th>count</th>\n",
       "      <td>341700.000000</td>\n",
       "      <td>341700.000000</td>\n",
       "      <td>341700.000000</td>\n",
       "      <td>341700.000000</td>\n",
       "      <td>341700.000000</td>\n",
       "    </tr>\n",
       "    <tr>\n",
       "      <th>mean</th>\n",
       "      <td>4569.490817</td>\n",
       "      <td>2003.221036</td>\n",
       "      <td>118.494802</td>\n",
       "      <td>128457.726076</td>\n",
       "      <td>5.789380</td>\n",
       "    </tr>\n",
       "    <tr>\n",
       "      <th>std</th>\n",
       "      <td>4511.460401</td>\n",
       "      <td>7.192458</td>\n",
       "      <td>50.623135</td>\n",
       "      <td>37318.892374</td>\n",
       "      <td>3.693234</td>\n",
       "    </tr>\n",
       "    <tr>\n",
       "      <th>min</th>\n",
       "      <td>2.000000</td>\n",
       "      <td>1951.000000</td>\n",
       "      <td>1.000000</td>\n",
       "      <td>5000.000000</td>\n",
       "      <td>0.000000</td>\n",
       "    </tr>\n",
       "    <tr>\n",
       "      <th>25%</th>\n",
       "      <td>1200.000000</td>\n",
       "      <td>1999.000000</td>\n",
       "      <td>82.000000</td>\n",
       "      <td>125000.000000</td>\n",
       "      <td>3.000000</td>\n",
       "    </tr>\n",
       "    <tr>\n",
       "      <th>50%</th>\n",
       "      <td>2900.000000</td>\n",
       "      <td>2003.000000</td>\n",
       "      <td>105.000000</td>\n",
       "      <td>150000.000000</td>\n",
       "      <td>6.000000</td>\n",
       "    </tr>\n",
       "    <tr>\n",
       "      <th>75%</th>\n",
       "      <td>6500.000000</td>\n",
       "      <td>2008.000000</td>\n",
       "      <td>143.000000</td>\n",
       "      <td>150000.000000</td>\n",
       "      <td>9.000000</td>\n",
       "    </tr>\n",
       "    <tr>\n",
       "      <th>max</th>\n",
       "      <td>20000.000000</td>\n",
       "      <td>2019.000000</td>\n",
       "      <td>490.000000</td>\n",
       "      <td>150000.000000</td>\n",
       "      <td>12.000000</td>\n",
       "    </tr>\n",
       "  </tbody>\n",
       "</table>\n",
       "</div>"
      ],
      "text/plain": [
       "               price  registration_year          power             km  \\\n",
       "count  341700.000000      341700.000000  341700.000000  341700.000000   \n",
       "mean     4569.490817        2003.221036     118.494802  128457.726076   \n",
       "std      4511.460401           7.192458      50.623135   37318.892374   \n",
       "min         2.000000        1951.000000       1.000000    5000.000000   \n",
       "25%      1200.000000        1999.000000      82.000000  125000.000000   \n",
       "50%      2900.000000        2003.000000     105.000000  150000.000000   \n",
       "75%      6500.000000        2008.000000     143.000000  150000.000000   \n",
       "max     20000.000000        2019.000000     490.000000  150000.000000   \n",
       "\n",
       "       registration_month  \n",
       "count       341700.000000  \n",
       "mean             5.789380  \n",
       "std              3.693234  \n",
       "min              0.000000  \n",
       "25%              3.000000  \n",
       "50%              6.000000  \n",
       "75%              9.000000  \n",
       "max             12.000000  "
      ]
     },
     "execution_count": 24,
     "metadata": {},
     "output_type": "execute_result"
    }
   ],
   "source": [
    "df.describe()"
   ]
  },
  {
   "cell_type": "markdown",
   "metadata": {},
   "source": [
    "### 1.2 Разделение на выборки, преобразование признаков."
   ]
  },
  {
   "cell_type": "code",
   "execution_count": 25,
   "metadata": {},
   "outputs": [],
   "source": [
    "features = df.drop(['price'], axis=1) # признаки\n",
    "target = df['price'] # целевой признак"
   ]
  },
  {
   "cell_type": "markdown",
   "metadata": {},
   "source": [
    "У нас 4 столбца с количесвтенными признаками: registration_year, power, km, registration_month.\n",
    "\n",
    "И 6 столбцов с категориальными: vehicle_type, gearbox, model, fuel, brand, not_repaired. Преобразуем категориальные в количественные. Используем метод LabelEncoder(), чтобы не увеличивать объем данных, что повлечет увеличение времени обучения моделей."
   ]
  },
  {
   "cell_type": "code",
   "execution_count": 26,
   "metadata": {},
   "outputs": [],
   "source": [
    "# колонкам с категориальными признаками зададим параметр 'category'\n",
    "features[['vehicle_type', 'gearbox', 'model', 'fuel', 'brand','not_repaired']] = \\\n",
    "    features[['vehicle_type', 'gearbox', 'model', 'fuel', 'brand','not_repaired']].astype('category')"
   ]
  },
  {
   "cell_type": "code",
   "execution_count": 27,
   "metadata": {},
   "outputs": [],
   "source": [
    "features_train, features_valid, target_train, target_valid = train_test_split(\n",
    "    features, target, train_size=0.6, random_state=42) # отделение 60% данных для обучающей выборки"
   ]
  },
  {
   "cell_type": "code",
   "execution_count": 28,
   "metadata": {},
   "outputs": [],
   "source": [
    "features_valid, features_test, target_valid, target_test = train_test_split(\n",
    "    features_valid, target_valid, test_size=0.5, random_state=42) \n",
    "# разделение оставшихся данных на тестовую и валидационную выборки"
   ]
  },
  {
   "cell_type": "code",
   "execution_count": 29,
   "metadata": {},
   "outputs": [],
   "source": [
    "# создадим копии выборок для кодирования, чтоб потом применить на разных моделях\n",
    "features_train_encoded, features_valid_encoded, features_test_encoded = \\\n",
    "    features_train.copy(), features_valid.copy(), features_test.copy() "
   ]
  },
  {
   "cell_type": "code",
   "execution_count": 30,
   "metadata": {},
   "outputs": [],
   "source": [
    "labelencoder = LabelEncoder()\n",
    "for i in ['vehicle_type', 'gearbox', 'model', 'fuel', 'brand','not_repaired']:\n",
    "    features_train_encoded[i] = labelencoder.fit_transform(features_train_encoded[i].values)\n",
    "    features_valid_encoded[i] = labelencoder.fit_transform(features_valid_encoded[i].values)\n",
    "    features_test_encoded[i] = labelencoder.fit_transform(features_test_encoded[i].values)"
   ]
  },
  {
   "cell_type": "markdown",
   "metadata": {},
   "source": [
    "Проверим разделение выборок:"
   ]
  },
  {
   "cell_type": "code",
   "execution_count": 31,
   "metadata": {
    "scrolled": true
   },
   "outputs": [
    {
     "name": "stdout",
     "output_type": "stream",
     "text": [
      "Обучающая выборка: 60.0 %\n",
      "Валидационная выборка: 20.0 %\n",
      "Тестовая выборка: 20.0 %\n"
     ]
    }
   ],
   "source": [
    "print('Обучающая выборка:',round(features_train.shape[0]/features.shape[0]*100,1),'%')\n",
    "print('Валидационная выборка:',round(features_valid.shape[0]/features.shape[0]*100,1),'%')\n",
    "print('Тестовая выборка:',round(features_test.shape[0]/features.shape[0]*100,1),'%')"
   ]
  },
  {
   "cell_type": "markdown",
   "metadata": {},
   "source": [
    "**Вывод:**"
   ]
  },
  {
   "cell_type": "markdown",
   "metadata": {},
   "source": [
    "- Обработали пропуски.\n",
    "- Обработали аномалии и нулевые значения.\n",
    "- Преобразовали категориальные признаки в количественные.\n",
    "- Разделили выборки на обучающую, валидационную и тестовую."
   ]
  },
  {
   "cell_type": "markdown",
   "metadata": {},
   "source": [
    "## 2 Обучение моделей"
   ]
  },
  {
   "cell_type": "markdown",
   "metadata": {},
   "source": [
    "Так как модели обучаются долго изменим всего несколько параметров. Параметры желательно поставить одинаковые, чтобы честно сравнить разные модели.\n",
    "\n",
    "Используем 4 модели:"
   ]
  },
  {
   "cell_type": "code",
   "execution_count": 32,
   "metadata": {},
   "outputs": [],
   "source": [
    "model_gbr = GradientBoostingRegressor(learning_rate=0.3, subsample=0.2, random_state=42) \n",
    "model_xgb = XGBRegressor(learning_rate=0.3, subsample=0.2, random_state=42)\n",
    "model_lgbm = LGBMRegressor(learning_rate=0.3, subsample=0.2, random_state=42)\n",
    "model_cb = CatBoostRegressor(learning_rate=0.3, subsample=0.2, random_state=42)"
   ]
  },
  {
   "cell_type": "markdown",
   "metadata": {},
   "source": [
    "Измерим время обучения каждой модели:"
   ]
  },
  {
   "cell_type": "markdown",
   "metadata": {},
   "source": [
    "**GradientBoostingRegressor**"
   ]
  },
  {
   "cell_type": "code",
   "execution_count": 33,
   "metadata": {},
   "outputs": [
    {
     "name": "stdout",
     "output_type": "stream",
     "text": [
      "CPU times: user 4.66 s, sys: 15.9 ms, total: 4.68 s\n",
      "Wall time: 4.69 s\n"
     ]
    },
    {
     "data": {
      "text/plain": [
       "GradientBoostingRegressor(learning_rate=0.3, random_state=42, subsample=0.2)"
      ]
     },
     "execution_count": 33,
     "metadata": {},
     "output_type": "execute_result"
    }
   ],
   "source": [
    "%%time\n",
    "model_gbr.fit(features_train_encoded, target_train)"
   ]
  },
  {
   "cell_type": "markdown",
   "metadata": {},
   "source": [
    "**XGBRegressor**"
   ]
  },
  {
   "cell_type": "code",
   "execution_count": 34,
   "metadata": {},
   "outputs": [
    {
     "name": "stdout",
     "output_type": "stream",
     "text": [
      "CPU times: user 1min 27s, sys: 607 ms, total: 1min 27s\n",
      "Wall time: 1min 28s\n"
     ]
    },
    {
     "data": {
      "text/plain": [
       "XGBRegressor(base_score=0.5, booster='gbtree', colsample_bylevel=1,\n",
       "             colsample_bynode=1, colsample_bytree=1, enable_categorical=False,\n",
       "             gamma=0, gpu_id=-1, importance_type=None,\n",
       "             interaction_constraints='', learning_rate=0.3, max_delta_step=0,\n",
       "             max_depth=6, min_child_weight=1, missing=nan,\n",
       "             monotone_constraints='()', n_estimators=100, n_jobs=8,\n",
       "             num_parallel_tree=1, predictor='auto', random_state=42,\n",
       "             reg_alpha=0, reg_lambda=1, scale_pos_weight=1, subsample=0.2,\n",
       "             tree_method='exact', validate_parameters=1, verbosity=None)"
      ]
     },
     "execution_count": 34,
     "metadata": {},
     "output_type": "execute_result"
    }
   ],
   "source": [
    "%%time\n",
    "model_xgb.fit(features_train_encoded, target_train)"
   ]
  },
  {
   "cell_type": "markdown",
   "metadata": {},
   "source": [
    "**LGBMRegressor**"
   ]
  },
  {
   "cell_type": "code",
   "execution_count": 35,
   "metadata": {},
   "outputs": [
    {
     "name": "stdout",
     "output_type": "stream",
     "text": [
      "CPU times: user 3.68 s, sys: 56.2 ms, total: 3.73 s\n",
      "Wall time: 3.76 s\n"
     ]
    },
    {
     "data": {
      "text/plain": [
       "LGBMRegressor(learning_rate=0.3, random_state=42, subsample=0.2)"
      ]
     },
     "execution_count": 35,
     "metadata": {},
     "output_type": "execute_result"
    }
   ],
   "source": [
    "%%time\n",
    "model_lgbm.fit(features_train, target_train)"
   ]
  },
  {
   "cell_type": "markdown",
   "metadata": {},
   "source": [
    "**CatBoostRegressor**"
   ]
  },
  {
   "cell_type": "code",
   "execution_count": 36,
   "metadata": {},
   "outputs": [],
   "source": [
    "cat_features = ['vehicle_type', 'gearbox', 'model', 'fuel', 'brand', 'registration_month', 'not_repaired']"
   ]
  },
  {
   "cell_type": "code",
   "execution_count": 37,
   "metadata": {
    "scrolled": true
   },
   "outputs": [
    {
     "name": "stdout",
     "output_type": "stream",
     "text": [
      "0:\tlearn: 3678.4528220\ttotal: 272ms\tremaining: 4m 32s\n",
      "999:\tlearn: 1503.9816842\ttotal: 2m 17s\tremaining: 0us\n",
      "CPU times: user 2min 19s, sys: 765 ms, total: 2min 19s\n",
      "Wall time: 2min 21s\n"
     ]
    },
    {
     "data": {
      "text/plain": [
       "<catboost.core.CatBoostRegressor at 0x7f0c5de55760>"
      ]
     },
     "execution_count": 37,
     "metadata": {},
     "output_type": "execute_result"
    }
   ],
   "source": [
    "%%time\n",
    "model_cb.fit(features_train, target_train, cat_features = cat_features, verbose=1000)"
   ]
  },
  {
   "cell_type": "markdown",
   "metadata": {},
   "source": [
    "Измерим время предсказаний:"
   ]
  },
  {
   "cell_type": "code",
   "execution_count": 38,
   "metadata": {},
   "outputs": [
    {
     "name": "stdout",
     "output_type": "stream",
     "text": [
      "CPU times: user 76.2 ms, sys: 11 µs, total: 76.2 ms\n",
      "Wall time: 77.7 ms\n"
     ]
    }
   ],
   "source": [
    "%%time\n",
    "prediction_gbr = model_gbr.predict(features_valid_encoded)"
   ]
  },
  {
   "cell_type": "code",
   "execution_count": 39,
   "metadata": {},
   "outputs": [
    {
     "name": "stdout",
     "output_type": "stream",
     "text": [
      "CPU times: user 215 ms, sys: 3.55 ms, total: 219 ms\n",
      "Wall time: 171 ms\n"
     ]
    }
   ],
   "source": [
    "%%time\n",
    "prediction_xgb = model_xgb.predict(features_valid_encoded)"
   ]
  },
  {
   "cell_type": "code",
   "execution_count": 40,
   "metadata": {},
   "outputs": [
    {
     "name": "stdout",
     "output_type": "stream",
     "text": [
      "CPU times: user 467 ms, sys: 11.1 ms, total: 479 ms\n",
      "Wall time: 501 ms\n"
     ]
    }
   ],
   "source": [
    "%%time\n",
    "prediction_lgbm = model_lgbm.predict(features_valid)"
   ]
  },
  {
   "cell_type": "code",
   "execution_count": 41,
   "metadata": {
    "scrolled": true
   },
   "outputs": [
    {
     "name": "stdout",
     "output_type": "stream",
     "text": [
      "CPU times: user 807 ms, sys: 11.8 ms, total: 819 ms\n",
      "Wall time: 888 ms\n"
     ]
    }
   ],
   "source": [
    "%%time\n",
    "prediction_cb = model_cb.predict(features_valid)"
   ]
  },
  {
   "cell_type": "markdown",
   "metadata": {},
   "source": [
    "Найдем для каждой модели RMSE:"
   ]
  },
  {
   "cell_type": "code",
   "execution_count": 42,
   "metadata": {},
   "outputs": [
    {
     "name": "stdout",
     "output_type": "stream",
     "text": [
      "Лучшая RMSE GradientBoostingRegressor на валидационной выборке: 1924.5857895415145\n",
      "Лучшая RMSE XGBRegressor на валидационной выборке: 1832.2117905100126\n",
      "Лучшая RMSE LightGBM на валидационной выборке: 1647.4296216783373\n",
      "Лучшая RMSE CatBoost на валидационной выборке: 1630.17748930442\n"
     ]
    }
   ],
   "source": [
    "print('Лучшая RMSE GradientBoostingRegressor на валидационной выборке:', mean_squared_error(target_valid, prediction_gbr)**0.5)\n",
    "print('Лучшая RMSE XGBRegressor на валидационной выборке:', mean_squared_error(target_valid, prediction_xgb)**0.5)\n",
    "print('Лучшая RMSE LightGBM на валидационной выборке:', mean_squared_error(target_valid, prediction_lgbm)**0.5)\n",
    "print('Лучшая RMSE CatBoost на валидационной выборке:', mean_squared_error(target_valid, prediction_cb)**0.5)"
   ]
  },
  {
   "cell_type": "markdown",
   "metadata": {},
   "source": [
    "Проверим качество на тестовой выборке:"
   ]
  },
  {
   "cell_type": "code",
   "execution_count": 43,
   "metadata": {},
   "outputs": [],
   "source": [
    "prediction_gbr = model_gbr.predict(features_test_encoded)\n",
    "prediction_xgb = model_xgb.predict(features_test_encoded)\n",
    "prediction_lgbm = model_lgbm.predict(features_test)\n",
    "prediction_cb = model_cb.predict(features_test)"
   ]
  },
  {
   "cell_type": "code",
   "execution_count": 44,
   "metadata": {},
   "outputs": [
    {
     "name": "stdout",
     "output_type": "stream",
     "text": [
      "Лучшая RMSE GradientBoostingRegressor на тестовой выборке: 1919.8790489549192\n",
      "Лучшая RMSE XGBRegressor на тестовой выборке: 1816.7502216061155\n",
      "Лучшая RMSE LightGBM на тестовой выборке: 1649.5239375207839\n",
      "Лучшая RMSE CatBoost на тестовой выборке: 1639.7048535410704\n"
     ]
    }
   ],
   "source": [
    "print('Лучшая RMSE GradientBoostingRegressor на тестовой выборке:', mean_squared_error(target_test, prediction_gbr)**0.5)\n",
    "print('Лучшая RMSE XGBRegressor на тестовой выборке:', mean_squared_error(target_test, prediction_xgb)**0.5)\n",
    "print('Лучшая RMSE LightGBM на тестовой выборке:', mean_squared_error(target_test, prediction_lgbm)**0.5)\n",
    "print('Лучшая RMSE CatBoost на тестовой выборке:', mean_squared_error(target_test, prediction_cb)**0.5)"
   ]
  },
  {
   "cell_type": "markdown",
   "metadata": {},
   "source": [
    "**Проверка модели на адекватность:**"
   ]
  },
  {
   "cell_type": "code",
   "execution_count": 45,
   "metadata": {},
   "outputs": [
    {
     "data": {
      "text/plain": [
       "DummyRegressor()"
      ]
     },
     "execution_count": 45,
     "metadata": {},
     "output_type": "execute_result"
    }
   ],
   "source": [
    "# вызов константной модели\n",
    "dummy = DummyRegressor(strategy=\"mean\")\n",
    "# обучение модели\n",
    "dummy.fit(features_train,target_train)"
   ]
  },
  {
   "cell_type": "code",
   "execution_count": 46,
   "metadata": {},
   "outputs": [
    {
     "name": "stdout",
     "output_type": "stream",
     "text": [
      "RMSE константной модели на тестовой выборке: 4512.3866225107895\n"
     ]
    }
   ],
   "source": [
    "# предсказания модели\n",
    "prediction_dummy = dummy.predict(features_test)\n",
    "print('RMSE константной модели на тестовой выборке:', mean_squared_error(target_test, prediction_dummy)**0.5)"
   ]
  },
  {
   "cell_type": "markdown",
   "metadata": {},
   "source": [
    "Все модели прошли проверку на адекватность, качество предсказаний намного выше предсказаний константной модели."
   ]
  },
  {
   "cell_type": "markdown",
   "metadata": {},
   "source": [
    "**Вывод:**"
   ]
  },
  {
   "cell_type": "markdown",
   "metadata": {},
   "source": [
    " - Обучили 4 модели с изменением нескольких параметров.\n",
    " - Замерили время обучения и предсказания.\n",
    " - Проверили модели на адекватность константной моделью."
   ]
  },
  {
   "cell_type": "markdown",
   "metadata": {},
   "source": [
    "## 3 Анализ моделей"
   ]
  },
  {
   "cell_type": "markdown",
   "metadata": {},
   "source": [
    "Выберем лучшую модель по трем признакам:\n",
    " - качество предсказания;\n",
    " - скорость предсказания;\n",
    " - время обучения."
   ]
  },
  {
   "cell_type": "code",
   "execution_count": 49,
   "metadata": {
    "scrolled": true
   },
   "outputs": [
    {
     "data": {
      "text/html": [
       "<div>\n",
       "<style scoped>\n",
       "    .dataframe tbody tr th:only-of-type {\n",
       "        vertical-align: middle;\n",
       "    }\n",
       "\n",
       "    .dataframe tbody tr th {\n",
       "        vertical-align: top;\n",
       "    }\n",
       "\n",
       "    .dataframe thead th {\n",
       "        text-align: right;\n",
       "    }\n",
       "</style>\n",
       "<table border=\"1\" class=\"dataframe\">\n",
       "  <thead>\n",
       "    <tr style=\"text-align: right;\">\n",
       "      <th></th>\n",
       "      <th>learning_time</th>\n",
       "      <th>prediction_time</th>\n",
       "      <th>rmse_valid</th>\n",
       "    </tr>\n",
       "  </thead>\n",
       "  <tbody>\n",
       "    <tr>\n",
       "      <th>GradientBoostingRegressor</th>\n",
       "      <td>4.69 s</td>\n",
       "      <td>77.7 ms</td>\n",
       "      <td>1924.6</td>\n",
       "    </tr>\n",
       "    <tr>\n",
       "      <th>XGBRegressor</th>\n",
       "      <td>1min 28s</td>\n",
       "      <td>171 ms</td>\n",
       "      <td>1832.2</td>\n",
       "    </tr>\n",
       "    <tr>\n",
       "      <th>LightGBM</th>\n",
       "      <td>3.76 s</td>\n",
       "      <td>501 ms</td>\n",
       "      <td>1647.4</td>\n",
       "    </tr>\n",
       "    <tr>\n",
       "      <th>CatBoost</th>\n",
       "      <td>2min 21s</td>\n",
       "      <td>888 ms</td>\n",
       "      <td>1630.2</td>\n",
       "    </tr>\n",
       "  </tbody>\n",
       "</table>\n",
       "</div>"
      ],
      "text/plain": [
       "                          learning_time prediction_time rmse_valid\n",
       "GradientBoostingRegressor        4.69 s         77.7 ms     1924.6\n",
       "XGBRegressor                   1min 28s          171 ms     1832.2\n",
       "LightGBM                         3.76 s          501 ms     1647.4\n",
       "CatBoost                       2min 21s          888 ms     1630.2"
      ]
     },
     "execution_count": 49,
     "metadata": {},
     "output_type": "execute_result"
    }
   ],
   "source": [
    "# создадим таблицу для удобства сравнения\n",
    "data = {'learning_time':['4.69 s', '1min 28s', '3.76 s', '2min 21s',],\n",
    "        'prediction_time':['77.7 ms', '171 ms', '501 ms', '888 ms'],\n",
    "        'rmse_valid':['1924.6', '1832.2', '1647.4', '1630.2']}\n",
    "index = ['GradientBoostingRegressor', 'XGBRegressor', 'LightGBM', 'CatBoost']\n",
    "pd.DataFrame(data = data, index = index)"
   ]
  },
  {
   "cell_type": "markdown",
   "metadata": {},
   "source": [
    "Так как у нас небольшой объем данных, скорость предсказания у всех моделей занимает милисекунды. Можно было бы не обращать на это внимание, но если наш датасет будет занимать миллионы строк, время конечно же увеличится."
   ]
  },
  {
   "cell_type": "markdown",
   "metadata": {},
   "source": [
    "- Лучшая скорость предсказания и отличное время обучения у GradientBoostingRegressor, но качество предсказания худшее из 4 моделей.\n",
    "- Лучшее качество предсказания у CatBoost, но худшая скорость предсказания и время обучения.\n",
    "- У LightGBM лучшая скорость обучения.\n",
    "- XGBRegressor показал среднюю скорость обучения и качетва предсказания."
   ]
  },
  {
   "cell_type": "markdown",
   "metadata": {},
   "source": [
    "Нужно найти баланс между тремя признаками.\n",
    "\n",
    "- CatBoost выигрывает по предсказаниям, GradientBoostingRegressor по скорости в целом.\n",
    "- LightGBM немного уступает по качеству предсказания CatBoost, но серьезно выигрывает в скорости обучения.\n",
    "\n",
    "Получается лучшая модель по трем признакам - это LightGBM."
   ]
  },
  {
   "cell_type": "markdown",
   "metadata": {},
   "source": [
    "**Вывод:**"
   ]
  },
  {
   "cell_type": "markdown",
   "metadata": {},
   "source": [
    "- Проанализировано 4 модели на основе градиентного бустинга.\n",
    "- У каждой модели есть свои плюсы и минусы (при почти базовых параметрах):\n",
    "\n",
    "     1. GradientBoostingRegressor \\\n",
    "         `+` самая быстрая по скорости предсказаний и отличная по времени обучения \\\n",
    "         `-` худшее качество \n",
    "     2. XGBRegressor \\\n",
    "         `+` относительно хорошая скорость предсказаний \\\n",
    "         `-` относительно долгое время обучения и среднее качество предсказания \n",
    "     3. LightGBM \\\n",
    "         `+` хорошее качество предсказания и лучшее время обучения\\\n",
    "         `-` среднее время предсказаний\n",
    "     4. CatBoost \\\n",
    "         `+` лучшее качество предсказания \\\n",
    "         `-` самое долгое время обучения и предсказания \n",
    "         \n",
    "         \n",
    "- Лучшая модель по трем признакам: **LightGBM**."
   ]
  }
 ],
 "metadata": {
  "ExecuteTimeLog": [
   {
    "duration": 2,
    "start_time": "2022-05-19T10:02:35.555Z"
   },
   {
    "duration": 904,
    "start_time": "2022-05-19T10:03:18.558Z"
   },
   {
    "duration": 1027,
    "start_time": "2022-05-19T10:03:27.088Z"
   },
   {
    "duration": 38,
    "start_time": "2022-05-19T10:26:30.470Z"
   },
   {
    "duration": 137,
    "start_time": "2022-05-19T10:29:21.250Z"
   },
   {
    "duration": 150,
    "start_time": "2022-05-19T10:29:32.488Z"
   },
   {
    "duration": 125,
    "start_time": "2022-05-19T10:29:36.882Z"
   },
   {
    "duration": 402,
    "start_time": "2022-05-19T10:29:42.362Z"
   },
   {
    "duration": 137,
    "start_time": "2022-05-19T10:31:25.970Z"
   },
   {
    "duration": 1450,
    "start_time": "2022-05-20T02:56:33.209Z"
   },
   {
    "duration": 4,
    "start_time": "2022-05-20T03:08:27.164Z"
   },
   {
    "duration": 1053,
    "start_time": "2022-05-20T03:18:55.395Z"
   },
   {
    "duration": 122,
    "start_time": "2022-05-20T03:18:59.856Z"
   },
   {
    "duration": 67,
    "start_time": "2022-05-20T03:19:02.089Z"
   },
   {
    "duration": 195,
    "start_time": "2022-05-20T03:20:00.159Z"
   },
   {
    "duration": 252,
    "start_time": "2022-05-20T03:20:19.080Z"
   },
   {
    "duration": 67,
    "start_time": "2022-05-20T03:20:42.744Z"
   },
   {
    "duration": 1290,
    "start_time": "2022-05-20T03:25:46.872Z"
   },
   {
    "duration": 924,
    "start_time": "2022-05-20T03:25:48.164Z"
   },
   {
    "duration": 140,
    "start_time": "2022-05-20T03:25:49.089Z"
   },
   {
    "duration": 137,
    "start_time": "2022-05-20T03:25:49.231Z"
   },
   {
    "duration": 283,
    "start_time": "2022-05-20T03:25:49.370Z"
   },
   {
    "duration": 58,
    "start_time": "2022-05-20T03:25:49.654Z"
   },
   {
    "duration": 120,
    "start_time": "2022-05-20T03:43:40.962Z"
   },
   {
    "duration": 5,
    "start_time": "2022-05-20T03:43:52.938Z"
   },
   {
    "duration": 891,
    "start_time": "2022-05-20T03:43:54.642Z"
   },
   {
    "duration": 103,
    "start_time": "2022-05-20T03:43:58.450Z"
   },
   {
    "duration": 43,
    "start_time": "2022-05-20T03:44:00.378Z"
   },
   {
    "duration": 14,
    "start_time": "2022-05-20T03:44:40.514Z"
   },
   {
    "duration": 1278,
    "start_time": "2022-05-20T03:46:29.182Z"
   },
   {
    "duration": 954,
    "start_time": "2022-05-20T03:46:30.462Z"
   },
   {
    "duration": 106,
    "start_time": "2022-05-20T03:46:31.418Z"
   },
   {
    "duration": 28,
    "start_time": "2022-05-20T03:46:31.526Z"
   },
   {
    "duration": 89,
    "start_time": "2022-05-20T03:46:31.556Z"
   },
   {
    "duration": 191,
    "start_time": "2022-05-20T03:46:31.646Z"
   },
   {
    "duration": 24,
    "start_time": "2022-05-20T03:46:31.839Z"
   },
   {
    "duration": 1374,
    "start_time": "2022-05-20T03:49:46.894Z"
   },
   {
    "duration": 916,
    "start_time": "2022-05-20T03:49:48.269Z"
   },
   {
    "duration": 113,
    "start_time": "2022-05-20T03:49:49.187Z"
   },
   {
    "duration": 32,
    "start_time": "2022-05-20T03:49:49.301Z"
   },
   {
    "duration": 49,
    "start_time": "2022-05-20T03:49:49.335Z"
   },
   {
    "duration": 88,
    "start_time": "2022-05-20T03:49:49.386Z"
   },
   {
    "duration": 175,
    "start_time": "2022-05-20T03:49:49.475Z"
   },
   {
    "duration": 111,
    "start_time": "2022-05-20T04:01:51.651Z"
   },
   {
    "duration": 24,
    "start_time": "2022-05-20T04:02:06.451Z"
   },
   {
    "duration": 23,
    "start_time": "2022-05-20T04:05:31.178Z"
   },
   {
    "duration": 35,
    "start_time": "2022-05-20T04:09:58.150Z"
   },
   {
    "duration": 41,
    "start_time": "2022-05-20T04:10:36.057Z"
   },
   {
    "duration": 25,
    "start_time": "2022-05-20T04:10:44.008Z"
   },
   {
    "duration": 29,
    "start_time": "2022-05-20T04:10:51.000Z"
   },
   {
    "duration": 38,
    "start_time": "2022-05-20T04:15:28.919Z"
   },
   {
    "duration": 137,
    "start_time": "2022-05-20T04:15:34.015Z"
   },
   {
    "duration": 122,
    "start_time": "2022-05-20T04:15:43.560Z"
   },
   {
    "duration": 30,
    "start_time": "2022-05-20T04:15:52.567Z"
   },
   {
    "duration": 32,
    "start_time": "2022-05-20T04:16:23.390Z"
   },
   {
    "duration": 13,
    "start_time": "2022-05-20T04:16:39.135Z"
   },
   {
    "duration": 1299,
    "start_time": "2022-05-20T04:16:59.371Z"
   },
   {
    "duration": 966,
    "start_time": "2022-05-20T04:17:00.672Z"
   },
   {
    "duration": 116,
    "start_time": "2022-05-20T04:17:01.640Z"
   },
   {
    "duration": 28,
    "start_time": "2022-05-20T04:17:01.759Z"
   },
   {
    "duration": 76,
    "start_time": "2022-05-20T04:17:01.789Z"
   },
   {
    "duration": 87,
    "start_time": "2022-05-20T04:17:01.867Z"
   },
   {
    "duration": 19,
    "start_time": "2022-05-20T04:17:01.955Z"
   },
   {
    "duration": 19,
    "start_time": "2022-05-20T04:17:01.977Z"
   },
   {
    "duration": 133,
    "start_time": "2022-05-20T04:17:14.427Z"
   },
   {
    "duration": 1259,
    "start_time": "2022-05-20T04:17:20.305Z"
   },
   {
    "duration": 936,
    "start_time": "2022-05-20T04:17:21.565Z"
   },
   {
    "duration": 164,
    "start_time": "2022-05-20T04:17:22.502Z"
   },
   {
    "duration": 23,
    "start_time": "2022-05-20T04:17:22.668Z"
   },
   {
    "duration": 60,
    "start_time": "2022-05-20T04:17:22.692Z"
   },
   {
    "duration": 80,
    "start_time": "2022-05-20T04:17:22.754Z"
   },
   {
    "duration": 21,
    "start_time": "2022-05-20T04:17:22.835Z"
   },
   {
    "duration": 90,
    "start_time": "2022-05-20T04:17:22.857Z"
   },
   {
    "duration": 31,
    "start_time": "2022-05-20T04:19:40.441Z"
   },
   {
    "duration": 20,
    "start_time": "2022-05-20T04:19:57.297Z"
   },
   {
    "duration": 31,
    "start_time": "2022-05-20T04:20:00.153Z"
   },
   {
    "duration": 21,
    "start_time": "2022-05-20T04:20:09.216Z"
   },
   {
    "duration": 33,
    "start_time": "2022-05-20T04:20:12.472Z"
   },
   {
    "duration": 19,
    "start_time": "2022-05-20T04:20:54.560Z"
   },
   {
    "duration": 34,
    "start_time": "2022-05-20T04:20:57.072Z"
   },
   {
    "duration": 19,
    "start_time": "2022-05-20T04:21:04.488Z"
   },
   {
    "duration": 34,
    "start_time": "2022-05-20T04:21:07.496Z"
   },
   {
    "duration": 36,
    "start_time": "2022-05-20T04:21:13.425Z"
   },
   {
    "duration": 19,
    "start_time": "2022-05-20T04:22:48.168Z"
   },
   {
    "duration": 31,
    "start_time": "2022-05-20T04:22:51.216Z"
   },
   {
    "duration": 29,
    "start_time": "2022-05-20T04:23:09.896Z"
   },
   {
    "duration": 258,
    "start_time": "2022-05-20T04:27:07.487Z"
   },
   {
    "duration": 19,
    "start_time": "2022-05-20T04:27:25.879Z"
   },
   {
    "duration": 5,
    "start_time": "2022-05-20T04:27:51.030Z"
   },
   {
    "duration": 10,
    "start_time": "2022-05-20T04:27:59.781Z"
   },
   {
    "duration": 119,
    "start_time": "2022-05-20T04:33:07.028Z"
   },
   {
    "duration": 133,
    "start_time": "2022-05-20T04:33:29.574Z"
   },
   {
    "duration": 4,
    "start_time": "2022-05-20T04:34:02.501Z"
   },
   {
    "duration": 915,
    "start_time": "2022-05-20T04:34:03.939Z"
   },
   {
    "duration": 96,
    "start_time": "2022-05-20T04:34:07.349Z"
   },
   {
    "duration": 19,
    "start_time": "2022-05-20T04:34:10.221Z"
   },
   {
    "duration": 47,
    "start_time": "2022-05-20T04:34:10.958Z"
   },
   {
    "duration": 72,
    "start_time": "2022-05-20T04:34:12.677Z"
   },
   {
    "duration": 126,
    "start_time": "2022-05-20T04:34:16.045Z"
   },
   {
    "duration": 26,
    "start_time": "2022-05-20T04:34:25.437Z"
   },
   {
    "duration": 12,
    "start_time": "2022-05-20T04:35:03.429Z"
   },
   {
    "duration": 28,
    "start_time": "2022-05-20T04:35:14.564Z"
   },
   {
    "duration": 20,
    "start_time": "2022-05-20T04:35:20.277Z"
   },
   {
    "duration": 31,
    "start_time": "2022-05-20T04:35:23.893Z"
   },
   {
    "duration": 4,
    "start_time": "2022-05-20T04:39:09.709Z"
   },
   {
    "duration": 922,
    "start_time": "2022-05-20T04:39:11.066Z"
   },
   {
    "duration": 93,
    "start_time": "2022-05-20T04:39:14.283Z"
   },
   {
    "duration": 18,
    "start_time": "2022-05-20T04:39:16.204Z"
   },
   {
    "duration": 24,
    "start_time": "2022-05-20T04:39:16.932Z"
   },
   {
    "duration": 82,
    "start_time": "2022-05-20T04:39:18.556Z"
   },
   {
    "duration": 137,
    "start_time": "2022-05-20T04:39:40.196Z"
   },
   {
    "duration": 30,
    "start_time": "2022-05-20T04:39:54.396Z"
   },
   {
    "duration": 188,
    "start_time": "2022-05-20T04:39:59.979Z"
   },
   {
    "duration": 36,
    "start_time": "2022-05-20T04:41:05.524Z"
   },
   {
    "duration": 4,
    "start_time": "2022-05-20T04:41:12.508Z"
   },
   {
    "duration": 23,
    "start_time": "2022-05-20T04:41:39.219Z"
   },
   {
    "duration": 33,
    "start_time": "2022-05-20T04:41:41.147Z"
   },
   {
    "duration": 169,
    "start_time": "2022-05-20T04:46:24.547Z"
   },
   {
    "duration": 4,
    "start_time": "2022-05-20T04:46:46.435Z"
   },
   {
    "duration": 871,
    "start_time": "2022-05-20T04:46:47.521Z"
   },
   {
    "duration": 91,
    "start_time": "2022-05-20T04:46:50.778Z"
   },
   {
    "duration": 19,
    "start_time": "2022-05-20T04:46:52.642Z"
   },
   {
    "duration": 41,
    "start_time": "2022-05-20T04:46:53.619Z"
   },
   {
    "duration": 77,
    "start_time": "2022-05-20T04:46:55.307Z"
   },
   {
    "duration": 4,
    "start_time": "2022-05-20T04:46:58.794Z"
   },
   {
    "duration": 157,
    "start_time": "2022-05-20T04:47:02.242Z"
   },
   {
    "duration": 45,
    "start_time": "2022-05-20T04:49:21.946Z"
   },
   {
    "duration": 1397,
    "start_time": "2022-05-20T04:51:26.992Z"
   },
   {
    "duration": 994,
    "start_time": "2022-05-20T04:51:28.390Z"
   },
   {
    "duration": 103,
    "start_time": "2022-05-20T04:51:29.386Z"
   },
   {
    "duration": 24,
    "start_time": "2022-05-20T04:51:29.491Z"
   },
   {
    "duration": 49,
    "start_time": "2022-05-20T04:51:29.524Z"
   },
   {
    "duration": 83,
    "start_time": "2022-05-20T04:51:29.575Z"
   },
   {
    "duration": 2,
    "start_time": "2022-05-20T04:51:29.660Z"
   },
   {
    "duration": 32,
    "start_time": "2022-05-20T04:51:29.663Z"
   },
   {
    "duration": 98,
    "start_time": "2022-05-20T04:51:29.697Z"
   },
   {
    "duration": 3,
    "start_time": "2022-05-20T05:23:14.214Z"
   },
   {
    "duration": 5,
    "start_time": "2022-05-20T05:23:19.868Z"
   },
   {
    "duration": 134,
    "start_time": "2022-05-20T05:23:52.398Z"
   },
   {
    "duration": 154,
    "start_time": "2022-05-20T05:24:23.445Z"
   },
   {
    "duration": 35,
    "start_time": "2022-05-20T05:24:32.940Z"
   },
   {
    "duration": 90,
    "start_time": "2022-05-20T05:24:37.820Z"
   },
   {
    "duration": 182,
    "start_time": "2022-05-20T05:24:42.821Z"
   },
   {
    "duration": 43,
    "start_time": "2022-05-20T05:24:50.013Z"
   },
   {
    "duration": 98,
    "start_time": "2022-05-20T05:24:53.006Z"
   },
   {
    "duration": 294,
    "start_time": "2022-05-20T05:28:12.936Z"
   },
   {
    "duration": 592,
    "start_time": "2022-05-20T05:28:33.700Z"
   },
   {
    "duration": 50,
    "start_time": "2022-05-20T05:28:37.412Z"
   },
   {
    "duration": 89,
    "start_time": "2022-05-20T05:28:51.621Z"
   },
   {
    "duration": 659,
    "start_time": "2022-05-20T05:29:13.460Z"
   },
   {
    "duration": 41,
    "start_time": "2022-05-20T05:29:16.436Z"
   },
   {
    "duration": 83,
    "start_time": "2022-05-20T05:29:19.596Z"
   },
   {
    "duration": 235,
    "start_time": "2022-05-20T05:30:01.459Z"
   },
   {
    "duration": 26,
    "start_time": "2022-05-20T05:30:03.883Z"
   },
   {
    "duration": 36,
    "start_time": "2022-05-20T05:30:55.948Z"
   },
   {
    "duration": 271,
    "start_time": "2022-05-20T05:32:20.283Z"
   },
   {
    "duration": 138,
    "start_time": "2022-05-20T05:32:47.148Z"
   },
   {
    "duration": 43,
    "start_time": "2022-05-20T05:32:50.115Z"
   },
   {
    "duration": 1435,
    "start_time": "2022-05-20T05:33:07.453Z"
   },
   {
    "duration": 1124,
    "start_time": "2022-05-20T05:33:08.889Z"
   },
   {
    "duration": 130,
    "start_time": "2022-05-20T05:33:10.015Z"
   },
   {
    "duration": 30,
    "start_time": "2022-05-20T05:33:10.147Z"
   },
   {
    "duration": 68,
    "start_time": "2022-05-20T05:33:10.180Z"
   },
   {
    "duration": 103,
    "start_time": "2022-05-20T05:33:10.250Z"
   },
   {
    "duration": 3,
    "start_time": "2022-05-20T05:33:10.355Z"
   },
   {
    "duration": 176,
    "start_time": "2022-05-20T05:33:10.360Z"
   },
   {
    "duration": 33,
    "start_time": "2022-05-20T05:33:10.539Z"
   },
   {
    "duration": 91,
    "start_time": "2022-05-20T05:33:10.574Z"
   },
   {
    "duration": 1444,
    "start_time": "2022-05-20T05:35:36.610Z"
   },
   {
    "duration": 1081,
    "start_time": "2022-05-20T05:35:38.056Z"
   },
   {
    "duration": 111,
    "start_time": "2022-05-20T05:35:39.140Z"
   },
   {
    "duration": 31,
    "start_time": "2022-05-20T05:35:39.254Z"
   },
   {
    "duration": 69,
    "start_time": "2022-05-20T05:35:39.288Z"
   },
   {
    "duration": 96,
    "start_time": "2022-05-20T05:35:39.358Z"
   },
   {
    "duration": 3,
    "start_time": "2022-05-20T05:35:39.456Z"
   },
   {
    "duration": 116728,
    "start_time": "2022-05-20T05:35:39.460Z"
   },
   {
    "duration": 0,
    "start_time": "2022-05-20T05:37:36.189Z"
   },
   {
    "duration": 0,
    "start_time": "2022-05-20T05:37:36.191Z"
   },
   {
    "duration": 1424,
    "start_time": "2022-05-20T05:37:48.996Z"
   },
   {
    "duration": 1071,
    "start_time": "2022-05-20T05:37:50.422Z"
   },
   {
    "duration": 114,
    "start_time": "2022-05-20T05:37:51.495Z"
   },
   {
    "duration": 36,
    "start_time": "2022-05-20T05:37:51.611Z"
   },
   {
    "duration": 53,
    "start_time": "2022-05-20T05:37:51.650Z"
   },
   {
    "duration": 105,
    "start_time": "2022-05-20T05:37:51.704Z"
   },
   {
    "duration": 2,
    "start_time": "2022-05-20T05:37:51.811Z"
   },
   {
    "duration": 153,
    "start_time": "2022-05-20T05:37:51.835Z"
   },
   {
    "duration": 0,
    "start_time": "2022-05-20T05:37:51.990Z"
   },
   {
    "duration": 0,
    "start_time": "2022-05-20T05:37:51.991Z"
   },
   {
    "duration": 0,
    "start_time": "2022-05-20T05:37:51.992Z"
   },
   {
    "duration": 160,
    "start_time": "2022-05-20T05:40:00.713Z"
   },
   {
    "duration": 22,
    "start_time": "2022-05-20T05:40:50.361Z"
   },
   {
    "duration": 50,
    "start_time": "2022-05-20T05:40:54.712Z"
   },
   {
    "duration": 173,
    "start_time": "2022-05-20T05:49:29.007Z"
   },
   {
    "duration": 21,
    "start_time": "2022-05-20T05:49:54.647Z"
   },
   {
    "duration": 42,
    "start_time": "2022-05-20T05:49:57.337Z"
   },
   {
    "duration": 106,
    "start_time": "2022-05-20T05:50:02.405Z"
   },
   {
    "duration": 16,
    "start_time": "2022-05-20T05:50:40.010Z"
   },
   {
    "duration": 20,
    "start_time": "2022-05-20T05:51:01.478Z"
   },
   {
    "duration": 33,
    "start_time": "2022-05-20T05:51:06.926Z"
   },
   {
    "duration": 50,
    "start_time": "2022-05-20T05:51:07.622Z"
   },
   {
    "duration": 1407,
    "start_time": "2022-05-20T05:51:15.887Z"
   },
   {
    "duration": 1152,
    "start_time": "2022-05-20T05:51:17.296Z"
   },
   {
    "duration": 145,
    "start_time": "2022-05-20T05:51:18.451Z"
   },
   {
    "duration": 48,
    "start_time": "2022-05-20T05:51:18.598Z"
   },
   {
    "duration": 53,
    "start_time": "2022-05-20T05:51:18.648Z"
   },
   {
    "duration": 94,
    "start_time": "2022-05-20T05:51:18.703Z"
   },
   {
    "duration": 31,
    "start_time": "2022-05-20T05:51:18.798Z"
   },
   {
    "duration": 48,
    "start_time": "2022-05-20T05:51:18.830Z"
   },
   {
    "duration": 109,
    "start_time": "2022-05-20T05:51:18.880Z"
   },
   {
    "duration": 299,
    "start_time": "2022-05-20T05:52:51.296Z"
   },
   {
    "duration": 19,
    "start_time": "2022-05-20T05:53:20.073Z"
   },
   {
    "duration": 50,
    "start_time": "2022-05-20T05:53:22.416Z"
   },
   {
    "duration": 19,
    "start_time": "2022-05-20T05:53:44.584Z"
   },
   {
    "duration": 37,
    "start_time": "2022-05-20T05:53:46.792Z"
   },
   {
    "duration": 150,
    "start_time": "2022-05-20T05:54:31.644Z"
   },
   {
    "duration": 27,
    "start_time": "2022-05-20T06:05:40.613Z"
   },
   {
    "duration": 46,
    "start_time": "2022-05-20T06:05:43.801Z"
   },
   {
    "duration": 31,
    "start_time": "2022-05-20T06:06:32.649Z"
   },
   {
    "duration": 1400,
    "start_time": "2022-05-20T06:07:13.012Z"
   },
   {
    "duration": 1094,
    "start_time": "2022-05-20T06:07:14.413Z"
   },
   {
    "duration": 120,
    "start_time": "2022-05-20T06:07:15.508Z"
   },
   {
    "duration": 39,
    "start_time": "2022-05-20T06:07:15.634Z"
   },
   {
    "duration": 49,
    "start_time": "2022-05-20T06:07:15.675Z"
   },
   {
    "duration": 106,
    "start_time": "2022-05-20T06:07:15.725Z"
   },
   {
    "duration": 6,
    "start_time": "2022-05-20T06:07:15.836Z"
   },
   {
    "duration": 48,
    "start_time": "2022-05-20T06:07:15.844Z"
   },
   {
    "duration": 12,
    "start_time": "2022-05-20T06:07:15.893Z"
   },
   {
    "duration": 106,
    "start_time": "2022-05-20T06:07:15.907Z"
   },
   {
    "duration": 4,
    "start_time": "2022-05-20T06:07:43.998Z"
   },
   {
    "duration": 141,
    "start_time": "2022-05-20T06:07:54.749Z"
   },
   {
    "duration": 1474,
    "start_time": "2022-05-20T06:08:18.904Z"
   },
   {
    "duration": 1127,
    "start_time": "2022-05-20T06:08:20.380Z"
   },
   {
    "duration": 121,
    "start_time": "2022-05-20T06:08:21.509Z"
   },
   {
    "duration": 31,
    "start_time": "2022-05-20T06:08:21.631Z"
   },
   {
    "duration": 72,
    "start_time": "2022-05-20T06:08:21.664Z"
   },
   {
    "duration": 114,
    "start_time": "2022-05-20T06:08:21.741Z"
   },
   {
    "duration": 24,
    "start_time": "2022-05-20T06:08:21.857Z"
   },
   {
    "duration": 49,
    "start_time": "2022-05-20T06:08:21.882Z"
   },
   {
    "duration": 134,
    "start_time": "2022-05-20T06:08:21.935Z"
   },
   {
    "duration": 1399,
    "start_time": "2022-05-20T06:08:43.043Z"
   },
   {
    "duration": 1051,
    "start_time": "2022-05-20T06:08:44.448Z"
   },
   {
    "duration": 147,
    "start_time": "2022-05-20T06:08:45.500Z"
   },
   {
    "duration": 24,
    "start_time": "2022-05-20T06:08:45.651Z"
   },
   {
    "duration": 69,
    "start_time": "2022-05-20T06:08:45.677Z"
   },
   {
    "duration": 89,
    "start_time": "2022-05-20T06:08:45.747Z"
   },
   {
    "duration": 37,
    "start_time": "2022-05-20T06:08:45.837Z"
   },
   {
    "duration": 37,
    "start_time": "2022-05-20T06:08:45.876Z"
   },
   {
    "duration": 247,
    "start_time": "2022-05-20T06:08:45.915Z"
   },
   {
    "duration": 85,
    "start_time": "2022-05-20T06:09:05.944Z"
   },
   {
    "duration": 235,
    "start_time": "2022-05-20T06:42:16.019Z"
   },
   {
    "duration": 16,
    "start_time": "2022-05-20T06:42:31.879Z"
   },
   {
    "duration": 71,
    "start_time": "2022-05-20T06:44:07.234Z"
   },
   {
    "duration": 45,
    "start_time": "2022-05-20T06:44:09.343Z"
   },
   {
    "duration": 6,
    "start_time": "2022-05-20T06:44:11.179Z"
   },
   {
    "duration": 68,
    "start_time": "2022-05-20T06:48:28.953Z"
   },
   {
    "duration": 719,
    "start_time": "2022-05-20T06:53:48.697Z"
   },
   {
    "duration": 185,
    "start_time": "2022-05-20T06:54:03.016Z"
   },
   {
    "duration": 313,
    "start_time": "2022-05-20T06:54:04.976Z"
   },
   {
    "duration": 125,
    "start_time": "2022-05-20T06:54:07.008Z"
   },
   {
    "duration": 10,
    "start_time": "2022-05-20T06:54:09.920Z"
   },
   {
    "duration": 83873,
    "start_time": "2022-05-20T06:54:12.096Z"
   },
   {
    "duration": 34,
    "start_time": "2022-05-20T06:55:47.533Z"
   },
   {
    "duration": 85094,
    "start_time": "2022-05-20T07:33:32.006Z"
   },
   {
    "duration": 4,
    "start_time": "2022-05-20T07:57:20.274Z"
   },
   {
    "duration": 13,
    "start_time": "2022-05-20T08:00:42.808Z"
   },
   {
    "duration": 555,
    "start_time": "2022-05-20T08:02:44.360Z"
   },
   {
    "duration": 26,
    "start_time": "2022-05-20T08:03:00.520Z"
   },
   {
    "duration": 1335,
    "start_time": "2022-05-20T08:03:16.168Z"
   },
   {
    "duration": 1451,
    "start_time": "2022-05-20T08:03:28.392Z"
   },
   {
    "duration": 1589,
    "start_time": "2022-05-20T08:03:51.740Z"
   },
   {
    "duration": 1154,
    "start_time": "2022-05-20T08:03:53.332Z"
   },
   {
    "duration": 110,
    "start_time": "2022-05-20T08:03:54.488Z"
   },
   {
    "duration": 36,
    "start_time": "2022-05-20T08:03:54.599Z"
   },
   {
    "duration": 83,
    "start_time": "2022-05-20T08:03:54.638Z"
   },
   {
    "duration": 107,
    "start_time": "2022-05-20T08:03:54.722Z"
   },
   {
    "duration": 47,
    "start_time": "2022-05-20T08:03:54.833Z"
   },
   {
    "duration": 31,
    "start_time": "2022-05-20T08:03:54.882Z"
   },
   {
    "duration": 250,
    "start_time": "2022-05-20T08:03:54.915Z"
   },
   {
    "duration": 335,
    "start_time": "2022-05-20T08:03:55.167Z"
   },
   {
    "duration": 0,
    "start_time": "2022-05-20T08:03:55.504Z"
   },
   {
    "duration": 0,
    "start_time": "2022-05-20T08:03:55.505Z"
   },
   {
    "duration": 0,
    "start_time": "2022-05-20T08:03:55.506Z"
   },
   {
    "duration": 0,
    "start_time": "2022-05-20T08:03:55.507Z"
   },
   {
    "duration": 0,
    "start_time": "2022-05-20T08:03:55.508Z"
   },
   {
    "duration": 0,
    "start_time": "2022-05-20T08:03:55.509Z"
   },
   {
    "duration": 709,
    "start_time": "2022-05-20T08:04:10.655Z"
   },
   {
    "duration": 15,
    "start_time": "2022-05-20T08:05:02.164Z"
   },
   {
    "duration": 1518,
    "start_time": "2022-05-20T08:05:40.955Z"
   },
   {
    "duration": 1165,
    "start_time": "2022-05-20T08:05:42.475Z"
   },
   {
    "duration": 124,
    "start_time": "2022-05-20T08:05:43.648Z"
   },
   {
    "duration": 29,
    "start_time": "2022-05-20T08:05:43.774Z"
   },
   {
    "duration": 89,
    "start_time": "2022-05-20T08:05:43.806Z"
   },
   {
    "duration": 118,
    "start_time": "2022-05-20T08:05:43.896Z"
   },
   {
    "duration": 53,
    "start_time": "2022-05-20T08:05:44.017Z"
   },
   {
    "duration": 33,
    "start_time": "2022-05-20T08:05:44.072Z"
   },
   {
    "duration": 249,
    "start_time": "2022-05-20T08:05:44.107Z"
   },
   {
    "duration": 745,
    "start_time": "2022-05-20T08:05:44.357Z"
   },
   {
    "duration": 0,
    "start_time": "2022-05-20T08:05:45.103Z"
   },
   {
    "duration": 0,
    "start_time": "2022-05-20T08:05:45.105Z"
   },
   {
    "duration": 0,
    "start_time": "2022-05-20T08:05:45.106Z"
   },
   {
    "duration": 0,
    "start_time": "2022-05-20T08:05:45.108Z"
   },
   {
    "duration": 0,
    "start_time": "2022-05-20T08:05:45.109Z"
   },
   {
    "duration": 0,
    "start_time": "2022-05-20T08:05:45.124Z"
   },
   {
    "duration": 399,
    "start_time": "2022-05-20T08:06:15.401Z"
   },
   {
    "duration": 1725,
    "start_time": "2022-05-20T08:06:27.206Z"
   },
   {
    "duration": 1645,
    "start_time": "2022-05-20T08:06:28.934Z"
   },
   {
    "duration": 127,
    "start_time": "2022-05-20T08:06:30.581Z"
   },
   {
    "duration": 41,
    "start_time": "2022-05-20T08:06:30.710Z"
   },
   {
    "duration": 103,
    "start_time": "2022-05-20T08:06:30.754Z"
   },
   {
    "duration": 126,
    "start_time": "2022-05-20T08:06:30.861Z"
   },
   {
    "duration": 30,
    "start_time": "2022-05-20T08:06:30.990Z"
   },
   {
    "duration": 117,
    "start_time": "2022-05-20T08:06:31.022Z"
   },
   {
    "duration": 323,
    "start_time": "2022-05-20T08:06:31.147Z"
   },
   {
    "duration": 1084,
    "start_time": "2022-05-20T08:06:31.472Z"
   },
   {
    "duration": 0,
    "start_time": "2022-05-20T08:06:32.562Z"
   },
   {
    "duration": 0,
    "start_time": "2022-05-20T08:06:32.563Z"
   },
   {
    "duration": 0,
    "start_time": "2022-05-20T08:06:32.564Z"
   },
   {
    "duration": 0,
    "start_time": "2022-05-20T08:06:32.565Z"
   },
   {
    "duration": 0,
    "start_time": "2022-05-20T08:06:32.566Z"
   },
   {
    "duration": 0,
    "start_time": "2022-05-20T08:06:32.578Z"
   },
   {
    "duration": 11,
    "start_time": "2022-05-20T08:08:33.965Z"
   },
   {
    "duration": 1402,
    "start_time": "2022-05-20T08:08:41.018Z"
   },
   {
    "duration": 1331,
    "start_time": "2022-05-20T08:08:42.423Z"
   },
   {
    "duration": 154,
    "start_time": "2022-05-20T08:08:43.757Z"
   },
   {
    "duration": 43,
    "start_time": "2022-05-20T08:08:43.913Z"
   },
   {
    "duration": 116,
    "start_time": "2022-05-20T08:08:43.959Z"
   },
   {
    "duration": 188,
    "start_time": "2022-05-20T08:08:44.078Z"
   },
   {
    "duration": 37,
    "start_time": "2022-05-20T08:08:44.268Z"
   },
   {
    "duration": 53,
    "start_time": "2022-05-20T08:08:44.308Z"
   },
   {
    "duration": 259,
    "start_time": "2022-05-20T08:08:44.363Z"
   },
   {
    "duration": 247,
    "start_time": "2022-05-20T08:08:44.626Z"
   },
   {
    "duration": 0,
    "start_time": "2022-05-20T08:08:44.876Z"
   },
   {
    "duration": 0,
    "start_time": "2022-05-20T08:08:44.877Z"
   },
   {
    "duration": 0,
    "start_time": "2022-05-20T08:08:44.879Z"
   },
   {
    "duration": 0,
    "start_time": "2022-05-20T08:08:44.880Z"
   },
   {
    "duration": 0,
    "start_time": "2022-05-20T08:08:44.882Z"
   },
   {
    "duration": 0,
    "start_time": "2022-05-20T08:08:44.884Z"
   },
   {
    "duration": 23,
    "start_time": "2022-05-20T08:10:13.097Z"
   },
   {
    "duration": 53,
    "start_time": "2022-05-20T10:11:08.864Z"
   },
   {
    "duration": 51,
    "start_time": "2022-05-20T10:11:34.688Z"
   },
   {
    "duration": 63,
    "start_time": "2022-05-20T10:11:47.871Z"
   },
   {
    "duration": 87,
    "start_time": "2022-05-20T10:12:01.601Z"
   },
   {
    "duration": 63,
    "start_time": "2022-05-20T10:12:13.997Z"
   },
   {
    "duration": 55,
    "start_time": "2022-05-20T10:12:18.424Z"
   },
   {
    "duration": 52,
    "start_time": "2022-05-20T10:12:26.344Z"
   },
   {
    "duration": 291,
    "start_time": "2022-05-20T10:15:12.184Z"
   },
   {
    "duration": 24,
    "start_time": "2022-05-20T10:15:22.591Z"
   },
   {
    "duration": 319,
    "start_time": "2022-05-20T10:17:20.926Z"
   },
   {
    "duration": 16,
    "start_time": "2022-05-20T10:17:23.941Z"
   },
   {
    "duration": 7,
    "start_time": "2022-05-20T10:20:30.397Z"
   },
   {
    "duration": 613,
    "start_time": "2022-05-20T10:23:20.260Z"
   },
   {
    "duration": 268,
    "start_time": "2022-05-20T10:23:38.780Z"
   },
   {
    "duration": 250,
    "start_time": "2022-05-20T10:25:18.605Z"
   },
   {
    "duration": 163,
    "start_time": "2022-05-20T10:28:55.891Z"
   },
   {
    "duration": 224,
    "start_time": "2022-05-20T10:29:38.155Z"
   },
   {
    "duration": 13,
    "start_time": "2022-05-20T10:35:18.009Z"
   },
   {
    "duration": 9,
    "start_time": "2022-05-20T10:35:38.097Z"
   },
   {
    "duration": 1416,
    "start_time": "2022-05-20T10:36:29.781Z"
   },
   {
    "duration": 1240,
    "start_time": "2022-05-20T10:36:31.199Z"
   },
   {
    "duration": 120,
    "start_time": "2022-05-20T10:36:32.441Z"
   },
   {
    "duration": 32,
    "start_time": "2022-05-20T10:36:32.563Z"
   },
   {
    "duration": 70,
    "start_time": "2022-05-20T10:36:32.598Z"
   },
   {
    "duration": 122,
    "start_time": "2022-05-20T10:36:32.671Z"
   },
   {
    "duration": 35,
    "start_time": "2022-05-20T10:36:32.795Z"
   },
   {
    "duration": 37,
    "start_time": "2022-05-20T10:36:32.832Z"
   },
   {
    "duration": 221,
    "start_time": "2022-05-20T10:36:32.871Z"
   },
   {
    "duration": 282,
    "start_time": "2022-05-20T10:36:33.094Z"
   },
   {
    "duration": 8,
    "start_time": "2022-05-20T10:36:33.378Z"
   },
   {
    "duration": 346,
    "start_time": "2022-05-20T10:36:33.387Z"
   },
   {
    "duration": 12,
    "start_time": "2022-05-20T10:36:33.735Z"
   },
   {
    "duration": 34,
    "start_time": "2022-05-20T10:36:33.750Z"
   },
   {
    "duration": 63,
    "start_time": "2022-05-20T10:36:33.786Z"
   },
   {
    "duration": 18,
    "start_time": "2022-05-20T10:36:33.850Z"
   },
   {
    "duration": 5,
    "start_time": "2022-05-20T10:36:33.870Z"
   },
   {
    "duration": 12463,
    "start_time": "2022-05-20T10:36:33.876Z"
   },
   {
    "duration": 230,
    "start_time": "2022-05-20T10:38:17.785Z"
   },
   {
    "duration": 83,
    "start_time": "2022-05-20T10:38:40.664Z"
   },
   {
    "duration": 6,
    "start_time": "2022-05-20T10:40:42.959Z"
   },
   {
    "duration": 5,
    "start_time": "2022-05-20T10:40:51.608Z"
   },
   {
    "duration": 5,
    "start_time": "2022-05-20T10:40:55.312Z"
   },
   {
    "duration": 1503,
    "start_time": "2022-05-21T09:30:05.996Z"
   },
   {
    "duration": 3227,
    "start_time": "2022-05-21T09:30:07.502Z"
   },
   {
    "duration": 126,
    "start_time": "2022-05-21T09:30:10.730Z"
   },
   {
    "duration": 28,
    "start_time": "2022-05-21T09:30:10.859Z"
   },
   {
    "duration": 49,
    "start_time": "2022-05-21T09:30:10.889Z"
   },
   {
    "duration": 82,
    "start_time": "2022-05-21T09:30:10.947Z"
   },
   {
    "duration": 38,
    "start_time": "2022-05-21T09:30:11.030Z"
   },
   {
    "duration": 30,
    "start_time": "2022-05-21T09:30:11.069Z"
   },
   {
    "duration": 195,
    "start_time": "2022-05-21T09:30:11.101Z"
   },
   {
    "duration": 256,
    "start_time": "2022-05-21T09:30:11.298Z"
   },
   {
    "duration": 8,
    "start_time": "2022-05-21T09:30:11.557Z"
   },
   {
    "duration": 342,
    "start_time": "2022-05-21T09:30:11.566Z"
   },
   {
    "duration": 12,
    "start_time": "2022-05-21T09:30:11.910Z"
   },
   {
    "duration": 38,
    "start_time": "2022-05-21T09:30:11.924Z"
   },
   {
    "duration": 41,
    "start_time": "2022-05-21T09:30:11.963Z"
   },
   {
    "duration": 41,
    "start_time": "2022-05-21T09:30:12.006Z"
   },
   {
    "duration": 5,
    "start_time": "2022-05-21T09:30:12.050Z"
   },
   {
    "duration": 12708,
    "start_time": "2022-05-21T09:30:12.057Z"
   },
   {
    "duration": 92,
    "start_time": "2022-05-21T09:30:24.766Z"
   },
   {
    "duration": 4,
    "start_time": "2022-05-21T09:30:24.860Z"
   },
   {
    "duration": 124,
    "start_time": "2022-05-21T09:36:05.889Z"
   },
   {
    "duration": 7,
    "start_time": "2022-05-21T09:40:01.664Z"
   },
   {
    "duration": 9,
    "start_time": "2022-05-21T09:44:49.788Z"
   },
   {
    "duration": 1446,
    "start_time": "2022-05-21T09:45:05.826Z"
   },
   {
    "duration": 969,
    "start_time": "2022-05-21T09:45:07.274Z"
   },
   {
    "duration": 121,
    "start_time": "2022-05-21T09:45:08.244Z"
   },
   {
    "duration": 26,
    "start_time": "2022-05-21T09:45:08.367Z"
   },
   {
    "duration": 62,
    "start_time": "2022-05-21T09:45:08.396Z"
   },
   {
    "duration": 131,
    "start_time": "2022-05-21T09:45:08.460Z"
   },
   {
    "duration": 51,
    "start_time": "2022-05-21T09:45:08.593Z"
   },
   {
    "duration": 34,
    "start_time": "2022-05-21T09:45:08.645Z"
   },
   {
    "duration": 199,
    "start_time": "2022-05-21T09:45:08.680Z"
   },
   {
    "duration": 263,
    "start_time": "2022-05-21T09:45:08.880Z"
   },
   {
    "duration": 8,
    "start_time": "2022-05-21T09:45:09.145Z"
   },
   {
    "duration": 340,
    "start_time": "2022-05-21T09:45:09.155Z"
   },
   {
    "duration": 13,
    "start_time": "2022-05-21T09:45:09.497Z"
   },
   {
    "duration": 42,
    "start_time": "2022-05-21T09:45:09.513Z"
   },
   {
    "duration": 41,
    "start_time": "2022-05-21T09:45:09.556Z"
   },
   {
    "duration": 17,
    "start_time": "2022-05-21T09:45:09.599Z"
   },
   {
    "duration": 23,
    "start_time": "2022-05-21T09:45:09.618Z"
   },
   {
    "duration": 12623,
    "start_time": "2022-05-21T09:45:09.643Z"
   },
   {
    "duration": 87,
    "start_time": "2022-05-21T09:45:22.268Z"
   },
   {
    "duration": 5,
    "start_time": "2022-05-21T09:45:22.356Z"
   },
   {
    "duration": 9,
    "start_time": "2022-05-21T09:45:22.362Z"
   },
   {
    "duration": 130,
    "start_time": "2022-05-21T09:45:22.372Z"
   },
   {
    "duration": 9,
    "start_time": "2022-05-21T09:48:07.428Z"
   },
   {
    "duration": 3,
    "start_time": "2022-05-21T09:48:16.173Z"
   },
   {
    "duration": 2,
    "start_time": "2022-05-21T09:50:34.868Z"
   },
   {
    "duration": 1321,
    "start_time": "2022-05-21T09:51:12.972Z"
   },
   {
    "duration": 950,
    "start_time": "2022-05-21T09:51:14.295Z"
   },
   {
    "duration": 137,
    "start_time": "2022-05-21T09:51:15.247Z"
   },
   {
    "duration": 25,
    "start_time": "2022-05-21T09:51:15.385Z"
   },
   {
    "duration": 66,
    "start_time": "2022-05-21T09:51:15.412Z"
   },
   {
    "duration": 118,
    "start_time": "2022-05-21T09:51:15.480Z"
   },
   {
    "duration": 24,
    "start_time": "2022-05-21T09:51:15.600Z"
   },
   {
    "duration": 53,
    "start_time": "2022-05-21T09:51:15.642Z"
   },
   {
    "duration": 226,
    "start_time": "2022-05-21T09:51:15.697Z"
   },
   {
    "duration": 247,
    "start_time": "2022-05-21T09:51:15.925Z"
   },
   {
    "duration": 8,
    "start_time": "2022-05-21T09:51:16.174Z"
   },
   {
    "duration": 346,
    "start_time": "2022-05-21T09:51:16.183Z"
   },
   {
    "duration": 15,
    "start_time": "2022-05-21T09:51:16.531Z"
   },
   {
    "duration": 29,
    "start_time": "2022-05-21T09:51:16.548Z"
   },
   {
    "duration": 41,
    "start_time": "2022-05-21T09:51:16.579Z"
   },
   {
    "duration": 38,
    "start_time": "2022-05-21T09:51:16.622Z"
   },
   {
    "duration": 6,
    "start_time": "2022-05-21T09:51:16.662Z"
   },
   {
    "duration": 12572,
    "start_time": "2022-05-21T09:51:16.669Z"
   },
   {
    "duration": 80,
    "start_time": "2022-05-21T09:51:29.243Z"
   },
   {
    "duration": 17,
    "start_time": "2022-05-21T09:51:29.325Z"
   },
   {
    "duration": 5,
    "start_time": "2022-05-21T09:51:29.344Z"
   },
   {
    "duration": 5,
    "start_time": "2022-05-21T09:51:29.351Z"
   },
   {
    "duration": 1307,
    "start_time": "2022-05-21T09:57:57.966Z"
   },
   {
    "duration": 1053,
    "start_time": "2022-05-21T09:57:59.275Z"
   },
   {
    "duration": 113,
    "start_time": "2022-05-21T09:58:00.330Z"
   },
   {
    "duration": 17,
    "start_time": "2022-05-21T09:58:00.445Z"
   },
   {
    "duration": 62,
    "start_time": "2022-05-21T09:58:00.465Z"
   },
   {
    "duration": 95,
    "start_time": "2022-05-21T09:58:00.528Z"
   },
   {
    "duration": 51,
    "start_time": "2022-05-21T09:58:00.625Z"
   },
   {
    "duration": 38,
    "start_time": "2022-05-21T09:58:00.678Z"
   },
   {
    "duration": 213,
    "start_time": "2022-05-21T09:58:00.718Z"
   },
   {
    "duration": 268,
    "start_time": "2022-05-21T09:58:00.933Z"
   },
   {
    "duration": 8,
    "start_time": "2022-05-21T09:58:01.203Z"
   },
   {
    "duration": 332,
    "start_time": "2022-05-21T09:58:01.213Z"
   },
   {
    "duration": 14,
    "start_time": "2022-05-21T09:58:01.547Z"
   },
   {
    "duration": 29,
    "start_time": "2022-05-21T09:58:01.563Z"
   },
   {
    "duration": 67,
    "start_time": "2022-05-21T09:58:01.593Z"
   },
   {
    "duration": 30,
    "start_time": "2022-05-21T09:58:01.662Z"
   },
   {
    "duration": 5,
    "start_time": "2022-05-21T09:58:01.695Z"
   },
   {
    "duration": 11263,
    "start_time": "2022-05-21T09:58:01.702Z"
   },
   {
    "duration": 85,
    "start_time": "2022-05-21T09:58:12.967Z"
   },
   {
    "duration": 8,
    "start_time": "2022-05-21T09:58:13.055Z"
   },
   {
    "duration": 18,
    "start_time": "2022-05-21T09:58:13.066Z"
   },
   {
    "duration": 307870,
    "start_time": "2022-05-21T09:58:13.086Z"
   },
   {
    "duration": 110,
    "start_time": "2022-05-21T10:03:20.958Z"
   },
   {
    "duration": 11,
    "start_time": "2022-05-21T10:03:21.071Z"
   },
   {
    "duration": 384,
    "start_time": "2022-05-21T10:03:48.377Z"
   },
   {
    "duration": 5,
    "start_time": "2022-05-21T10:03:52.190Z"
   },
   {
    "duration": 22429,
    "start_time": "2022-05-21T10:05:22.767Z"
   },
   {
    "duration": 53,
    "start_time": "2022-05-21T10:05:45.198Z"
   },
   {
    "duration": 6,
    "start_time": "2022-05-21T10:05:45.253Z"
   },
   {
    "duration": 74,
    "start_time": "2022-05-21T10:43:53.407Z"
   },
   {
    "duration": 13,
    "start_time": "2022-05-21T10:44:12.116Z"
   },
   {
    "duration": 25,
    "start_time": "2022-05-21T10:44:19.883Z"
   },
   {
    "duration": 17,
    "start_time": "2022-05-21T10:44:37.235Z"
   },
   {
    "duration": 1689,
    "start_time": "2022-05-21T10:44:49.233Z"
   },
   {
    "duration": 1168,
    "start_time": "2022-05-21T10:44:50.924Z"
   },
   {
    "duration": 121,
    "start_time": "2022-05-21T10:44:52.094Z"
   },
   {
    "duration": 50,
    "start_time": "2022-05-21T10:44:52.218Z"
   },
   {
    "duration": 61,
    "start_time": "2022-05-21T10:44:52.278Z"
   },
   {
    "duration": 112,
    "start_time": "2022-05-21T10:44:52.341Z"
   },
   {
    "duration": 183,
    "start_time": "2022-05-21T10:44:52.457Z"
   },
   {
    "duration": 0,
    "start_time": "2022-05-21T10:44:52.648Z"
   },
   {
    "duration": 0,
    "start_time": "2022-05-21T10:44:52.649Z"
   },
   {
    "duration": 1,
    "start_time": "2022-05-21T10:44:52.649Z"
   },
   {
    "duration": 0,
    "start_time": "2022-05-21T10:44:52.650Z"
   },
   {
    "duration": 0,
    "start_time": "2022-05-21T10:44:52.651Z"
   },
   {
    "duration": 0,
    "start_time": "2022-05-21T10:44:52.651Z"
   },
   {
    "duration": 0,
    "start_time": "2022-05-21T10:44:52.652Z"
   },
   {
    "duration": 0,
    "start_time": "2022-05-21T10:44:52.652Z"
   },
   {
    "duration": 0,
    "start_time": "2022-05-21T10:44:52.654Z"
   },
   {
    "duration": 0,
    "start_time": "2022-05-21T10:44:52.654Z"
   },
   {
    "duration": 0,
    "start_time": "2022-05-21T10:44:52.655Z"
   },
   {
    "duration": 1,
    "start_time": "2022-05-21T10:44:52.655Z"
   },
   {
    "duration": 0,
    "start_time": "2022-05-21T10:44:52.656Z"
   },
   {
    "duration": 0,
    "start_time": "2022-05-21T10:44:52.659Z"
   },
   {
    "duration": 0,
    "start_time": "2022-05-21T10:44:52.660Z"
   },
   {
    "duration": 1,
    "start_time": "2022-05-21T10:44:52.660Z"
   },
   {
    "duration": 0,
    "start_time": "2022-05-21T10:44:52.661Z"
   },
   {
    "duration": 0,
    "start_time": "2022-05-21T10:44:52.662Z"
   },
   {
    "duration": 0,
    "start_time": "2022-05-21T10:44:52.662Z"
   },
   {
    "duration": 0,
    "start_time": "2022-05-21T10:44:52.663Z"
   },
   {
    "duration": 45,
    "start_time": "2022-05-21T10:48:15.876Z"
   },
   {
    "duration": 37,
    "start_time": "2022-05-21T10:50:27.769Z"
   },
   {
    "duration": 35,
    "start_time": "2022-05-21T10:52:06.283Z"
   },
   {
    "duration": 47,
    "start_time": "2022-05-21T10:52:14.604Z"
   },
   {
    "duration": 75,
    "start_time": "2022-05-21T10:53:30.121Z"
   },
   {
    "duration": 26,
    "start_time": "2022-05-21T10:53:56.513Z"
   },
   {
    "duration": 37,
    "start_time": "2022-05-21T10:54:09.390Z"
   },
   {
    "duration": 74,
    "start_time": "2022-05-21T10:54:19.394Z"
   },
   {
    "duration": 39,
    "start_time": "2022-05-21T10:54:28.926Z"
   },
   {
    "duration": 45,
    "start_time": "2022-05-21T10:54:41.783Z"
   },
   {
    "duration": 43,
    "start_time": "2022-05-21T10:54:50.086Z"
   },
   {
    "duration": 77,
    "start_time": "2022-05-21T10:54:53.021Z"
   },
   {
    "duration": 92,
    "start_time": "2022-05-21T10:55:04.605Z"
   },
   {
    "duration": 65,
    "start_time": "2022-05-21T10:55:30.871Z"
   },
   {
    "duration": 111,
    "start_time": "2022-05-21T10:55:49.881Z"
   },
   {
    "duration": 39,
    "start_time": "2022-05-21T10:56:05.767Z"
   },
   {
    "duration": 90,
    "start_time": "2022-05-21T10:56:20.368Z"
   },
   {
    "duration": 9,
    "start_time": "2022-05-21T11:01:52.681Z"
   },
   {
    "duration": 4,
    "start_time": "2022-05-21T11:07:31.081Z"
   },
   {
    "duration": 71,
    "start_time": "2022-05-21T11:10:01.008Z"
   },
   {
    "duration": 758,
    "start_time": "2022-05-21T11:10:13.292Z"
   },
   {
    "duration": 949,
    "start_time": "2022-05-21T11:11:31.988Z"
   },
   {
    "duration": 50,
    "start_time": "2022-05-21T11:12:02.931Z"
   },
   {
    "duration": 1469,
    "start_time": "2022-05-21T11:13:07.095Z"
   },
   {
    "duration": 1236,
    "start_time": "2022-05-21T11:13:08.566Z"
   },
   {
    "duration": 191,
    "start_time": "2022-05-21T11:13:09.807Z"
   },
   {
    "duration": 32,
    "start_time": "2022-05-21T11:13:10.006Z"
   },
   {
    "duration": 63,
    "start_time": "2022-05-21T11:13:10.041Z"
   },
   {
    "duration": 127,
    "start_time": "2022-05-21T11:13:10.106Z"
   },
   {
    "duration": 61,
    "start_time": "2022-05-21T11:13:10.235Z"
   },
   {
    "duration": 37,
    "start_time": "2022-05-21T11:13:10.298Z"
   },
   {
    "duration": 305,
    "start_time": "2022-05-21T11:13:10.337Z"
   },
   {
    "duration": 315,
    "start_time": "2022-05-21T11:13:10.644Z"
   },
   {
    "duration": 14,
    "start_time": "2022-05-21T11:13:10.963Z"
   },
   {
    "duration": 551,
    "start_time": "2022-05-21T11:13:10.979Z"
   },
   {
    "duration": 31,
    "start_time": "2022-05-21T11:13:11.533Z"
   },
   {
    "duration": 105,
    "start_time": "2022-05-21T11:13:11.570Z"
   },
   {
    "duration": 69,
    "start_time": "2022-05-21T11:13:11.692Z"
   },
   {
    "duration": 30,
    "start_time": "2022-05-21T11:13:11.763Z"
   },
   {
    "duration": 21,
    "start_time": "2022-05-21T11:13:11.795Z"
   },
   {
    "duration": 16501,
    "start_time": "2022-05-21T11:13:11.818Z"
   },
   {
    "duration": 113,
    "start_time": "2022-05-21T11:13:28.321Z"
   },
   {
    "duration": 10,
    "start_time": "2022-05-21T11:13:28.437Z"
   },
   {
    "duration": 68,
    "start_time": "2022-05-21T11:13:28.448Z"
   },
   {
    "duration": 326170,
    "start_time": "2022-05-21T11:13:28.518Z"
   },
   {
    "duration": 34,
    "start_time": "2022-05-21T11:18:54.689Z"
   },
   {
    "duration": 4,
    "start_time": "2022-05-21T11:18:54.725Z"
   },
   {
    "duration": 13480,
    "start_time": "2022-05-21T11:18:54.731Z"
   },
   {
    "duration": 68,
    "start_time": "2022-05-21T11:19:08.213Z"
   },
   {
    "duration": 6,
    "start_time": "2022-05-21T11:19:08.282Z"
   },
   {
    "duration": 7,
    "start_time": "2022-05-21T11:19:08.298Z"
   },
   {
    "duration": 1352,
    "start_time": "2022-05-21T11:19:15.585Z"
   },
   {
    "duration": 1253,
    "start_time": "2022-05-21T11:19:16.939Z"
   },
   {
    "duration": 115,
    "start_time": "2022-05-21T11:19:18.194Z"
   },
   {
    "duration": 45,
    "start_time": "2022-05-21T11:19:18.312Z"
   },
   {
    "duration": 73,
    "start_time": "2022-05-21T11:19:18.359Z"
   },
   {
    "duration": 105,
    "start_time": "2022-05-21T11:19:18.434Z"
   },
   {
    "duration": 191,
    "start_time": "2022-05-21T11:19:18.541Z"
   },
   {
    "duration": 0,
    "start_time": "2022-05-21T11:19:18.734Z"
   },
   {
    "duration": 0,
    "start_time": "2022-05-21T11:19:18.735Z"
   },
   {
    "duration": 0,
    "start_time": "2022-05-21T11:19:18.741Z"
   },
   {
    "duration": 0,
    "start_time": "2022-05-21T11:19:18.743Z"
   },
   {
    "duration": 0,
    "start_time": "2022-05-21T11:19:18.744Z"
   },
   {
    "duration": 0,
    "start_time": "2022-05-21T11:19:18.745Z"
   },
   {
    "duration": 0,
    "start_time": "2022-05-21T11:19:18.747Z"
   },
   {
    "duration": 0,
    "start_time": "2022-05-21T11:19:18.748Z"
   },
   {
    "duration": 0,
    "start_time": "2022-05-21T11:19:18.749Z"
   },
   {
    "duration": 0,
    "start_time": "2022-05-21T11:19:18.750Z"
   },
   {
    "duration": 0,
    "start_time": "2022-05-21T11:19:18.751Z"
   },
   {
    "duration": 0,
    "start_time": "2022-05-21T11:19:18.752Z"
   },
   {
    "duration": 0,
    "start_time": "2022-05-21T11:19:18.753Z"
   },
   {
    "duration": 0,
    "start_time": "2022-05-21T11:19:18.754Z"
   },
   {
    "duration": 0,
    "start_time": "2022-05-21T11:19:18.755Z"
   },
   {
    "duration": 0,
    "start_time": "2022-05-21T11:19:18.756Z"
   },
   {
    "duration": 0,
    "start_time": "2022-05-21T11:19:18.757Z"
   },
   {
    "duration": 0,
    "start_time": "2022-05-21T11:19:18.758Z"
   },
   {
    "duration": 0,
    "start_time": "2022-05-21T11:19:18.759Z"
   },
   {
    "duration": 0,
    "start_time": "2022-05-21T11:19:18.760Z"
   },
   {
    "duration": 770,
    "start_time": "2022-05-21T11:20:16.283Z"
   },
   {
    "duration": 68,
    "start_time": "2022-05-21T11:21:55.140Z"
   },
   {
    "duration": 2149,
    "start_time": "2022-05-21T11:21:58.716Z"
   },
   {
    "duration": 3661,
    "start_time": "2022-05-21T11:22:02.014Z"
   },
   {
    "duration": 107,
    "start_time": "2022-05-21T11:22:07.925Z"
   },
   {
    "duration": 31,
    "start_time": "2022-05-21T11:22:09.873Z"
   },
   {
    "duration": 48,
    "start_time": "2022-05-21T11:22:10.580Z"
   },
   {
    "duration": 93,
    "start_time": "2022-05-21T11:22:12.188Z"
   },
   {
    "duration": 1954,
    "start_time": "2022-05-21T11:22:55.377Z"
   },
   {
    "duration": 3523,
    "start_time": "2022-05-21T11:22:57.333Z"
   },
   {
    "duration": 108,
    "start_time": "2022-05-21T11:23:00.861Z"
   },
   {
    "duration": 26,
    "start_time": "2022-05-21T11:23:00.971Z"
   },
   {
    "duration": 65,
    "start_time": "2022-05-21T11:23:00.999Z"
   },
   {
    "duration": 84,
    "start_time": "2022-05-21T11:23:01.066Z"
   },
   {
    "duration": 67,
    "start_time": "2022-05-21T11:24:21.014Z"
   },
   {
    "duration": 1832,
    "start_time": "2022-05-21T11:24:30.387Z"
   },
   {
    "duration": 3231,
    "start_time": "2022-05-21T11:24:32.223Z"
   },
   {
    "duration": 113,
    "start_time": "2022-05-21T11:24:35.455Z"
   },
   {
    "duration": 26,
    "start_time": "2022-05-21T11:24:35.570Z"
   },
   {
    "duration": 65,
    "start_time": "2022-05-21T11:24:35.599Z"
   },
   {
    "duration": 92,
    "start_time": "2022-05-21T11:24:35.666Z"
   },
   {
    "duration": 192,
    "start_time": "2022-05-21T11:24:35.759Z"
   },
   {
    "duration": 0,
    "start_time": "2022-05-21T11:24:35.956Z"
   },
   {
    "duration": 0,
    "start_time": "2022-05-21T11:24:35.957Z"
   },
   {
    "duration": 0,
    "start_time": "2022-05-21T11:24:35.958Z"
   },
   {
    "duration": 0,
    "start_time": "2022-05-21T11:24:35.960Z"
   },
   {
    "duration": 0,
    "start_time": "2022-05-21T11:24:35.961Z"
   },
   {
    "duration": 0,
    "start_time": "2022-05-21T11:24:35.962Z"
   },
   {
    "duration": 0,
    "start_time": "2022-05-21T11:24:35.963Z"
   },
   {
    "duration": 0,
    "start_time": "2022-05-21T11:24:35.966Z"
   },
   {
    "duration": 0,
    "start_time": "2022-05-21T11:24:35.967Z"
   },
   {
    "duration": 0,
    "start_time": "2022-05-21T11:24:35.970Z"
   },
   {
    "duration": 0,
    "start_time": "2022-05-21T11:24:35.971Z"
   },
   {
    "duration": 0,
    "start_time": "2022-05-21T11:24:35.972Z"
   },
   {
    "duration": 0,
    "start_time": "2022-05-21T11:24:35.974Z"
   },
   {
    "duration": 0,
    "start_time": "2022-05-21T11:24:35.975Z"
   },
   {
    "duration": 0,
    "start_time": "2022-05-21T11:24:35.976Z"
   },
   {
    "duration": 0,
    "start_time": "2022-05-21T11:24:35.978Z"
   },
   {
    "duration": 0,
    "start_time": "2022-05-21T11:24:35.979Z"
   },
   {
    "duration": 0,
    "start_time": "2022-05-21T11:24:35.980Z"
   },
   {
    "duration": 0,
    "start_time": "2022-05-21T11:24:35.982Z"
   },
   {
    "duration": 0,
    "start_time": "2022-05-21T11:24:35.983Z"
   },
   {
    "duration": 66,
    "start_time": "2022-05-21T11:29:23.103Z"
   },
   {
    "duration": 2115,
    "start_time": "2022-05-21T11:29:28.807Z"
   },
   {
    "duration": 3294,
    "start_time": "2022-05-21T11:29:30.924Z"
   },
   {
    "duration": 118,
    "start_time": "2022-05-21T11:29:34.220Z"
   },
   {
    "duration": 32,
    "start_time": "2022-05-21T11:29:34.344Z"
   },
   {
    "duration": 52,
    "start_time": "2022-05-21T11:29:34.379Z"
   },
   {
    "duration": 90,
    "start_time": "2022-05-21T11:29:34.443Z"
   },
   {
    "duration": 178,
    "start_time": "2022-05-21T11:29:34.543Z"
   },
   {
    "duration": 0,
    "start_time": "2022-05-21T11:29:34.723Z"
   },
   {
    "duration": 0,
    "start_time": "2022-05-21T11:29:34.724Z"
   },
   {
    "duration": 0,
    "start_time": "2022-05-21T11:29:34.725Z"
   },
   {
    "duration": 0,
    "start_time": "2022-05-21T11:29:34.726Z"
   },
   {
    "duration": 0,
    "start_time": "2022-05-21T11:29:34.727Z"
   },
   {
    "duration": 0,
    "start_time": "2022-05-21T11:29:34.741Z"
   },
   {
    "duration": 0,
    "start_time": "2022-05-21T11:29:34.741Z"
   },
   {
    "duration": 0,
    "start_time": "2022-05-21T11:29:34.742Z"
   },
   {
    "duration": 0,
    "start_time": "2022-05-21T11:29:34.743Z"
   },
   {
    "duration": 0,
    "start_time": "2022-05-21T11:29:34.744Z"
   },
   {
    "duration": 0,
    "start_time": "2022-05-21T11:29:34.745Z"
   },
   {
    "duration": 0,
    "start_time": "2022-05-21T11:29:34.745Z"
   },
   {
    "duration": 0,
    "start_time": "2022-05-21T11:29:34.746Z"
   },
   {
    "duration": 0,
    "start_time": "2022-05-21T11:29:34.747Z"
   },
   {
    "duration": 0,
    "start_time": "2022-05-21T11:29:34.748Z"
   },
   {
    "duration": 0,
    "start_time": "2022-05-21T11:29:34.748Z"
   },
   {
    "duration": 0,
    "start_time": "2022-05-21T11:29:34.749Z"
   },
   {
    "duration": 0,
    "start_time": "2022-05-21T11:29:34.750Z"
   },
   {
    "duration": 0,
    "start_time": "2022-05-21T11:29:34.751Z"
   },
   {
    "duration": 0,
    "start_time": "2022-05-21T11:29:34.751Z"
   },
   {
    "duration": 60,
    "start_time": "2022-05-21T11:41:51.482Z"
   },
   {
    "duration": 1497,
    "start_time": "2022-05-21T11:41:58.410Z"
   },
   {
    "duration": 3604,
    "start_time": "2022-05-21T11:41:59.910Z"
   },
   {
    "duration": 97,
    "start_time": "2022-05-21T11:42:03.516Z"
   },
   {
    "duration": 28,
    "start_time": "2022-05-21T11:42:03.615Z"
   },
   {
    "duration": 60,
    "start_time": "2022-05-21T11:42:03.655Z"
   },
   {
    "duration": 91,
    "start_time": "2022-05-21T11:42:03.717Z"
   },
   {
    "duration": 150,
    "start_time": "2022-05-21T11:42:03.809Z"
   },
   {
    "duration": 0,
    "start_time": "2022-05-21T11:42:03.961Z"
   },
   {
    "duration": 0,
    "start_time": "2022-05-21T11:42:03.963Z"
   },
   {
    "duration": 0,
    "start_time": "2022-05-21T11:42:03.964Z"
   },
   {
    "duration": 0,
    "start_time": "2022-05-21T11:42:03.965Z"
   },
   {
    "duration": 0,
    "start_time": "2022-05-21T11:42:03.966Z"
   },
   {
    "duration": 0,
    "start_time": "2022-05-21T11:42:03.967Z"
   },
   {
    "duration": 0,
    "start_time": "2022-05-21T11:42:03.968Z"
   },
   {
    "duration": 0,
    "start_time": "2022-05-21T11:42:03.969Z"
   },
   {
    "duration": 0,
    "start_time": "2022-05-21T11:42:03.970Z"
   },
   {
    "duration": 0,
    "start_time": "2022-05-21T11:42:03.971Z"
   },
   {
    "duration": 0,
    "start_time": "2022-05-21T11:42:03.973Z"
   },
   {
    "duration": 1,
    "start_time": "2022-05-21T11:42:03.973Z"
   },
   {
    "duration": 0,
    "start_time": "2022-05-21T11:42:03.974Z"
   },
   {
    "duration": 0,
    "start_time": "2022-05-21T11:42:03.975Z"
   },
   {
    "duration": 0,
    "start_time": "2022-05-21T11:42:03.976Z"
   },
   {
    "duration": 0,
    "start_time": "2022-05-21T11:42:03.977Z"
   },
   {
    "duration": 0,
    "start_time": "2022-05-21T11:42:03.978Z"
   },
   {
    "duration": 0,
    "start_time": "2022-05-21T11:42:03.979Z"
   },
   {
    "duration": 0,
    "start_time": "2022-05-21T11:42:03.980Z"
   },
   {
    "duration": 0,
    "start_time": "2022-05-21T11:42:03.981Z"
   },
   {
    "duration": 0,
    "start_time": "2022-05-21T11:42:03.982Z"
   },
   {
    "duration": 12,
    "start_time": "2022-05-21T11:42:13.687Z"
   },
   {
    "duration": 4,
    "start_time": "2022-05-21T11:42:20.897Z"
   },
   {
    "duration": 11,
    "start_time": "2022-05-21T11:42:25.225Z"
   },
   {
    "duration": 6,
    "start_time": "2022-05-21T11:42:27.936Z"
   },
   {
    "duration": 11,
    "start_time": "2022-05-21T11:42:32.392Z"
   },
   {
    "duration": 7,
    "start_time": "2022-05-21T11:42:40.971Z"
   },
   {
    "duration": 5,
    "start_time": "2022-05-21T11:42:56.880Z"
   },
   {
    "duration": 28,
    "start_time": "2022-05-21T11:43:02.977Z"
   },
   {
    "duration": 1565,
    "start_time": "2022-05-21T11:43:35.735Z"
   },
   {
    "duration": 1088,
    "start_time": "2022-05-21T11:43:37.303Z"
   },
   {
    "duration": 121,
    "start_time": "2022-05-21T11:43:38.393Z"
   },
   {
    "duration": 48,
    "start_time": "2022-05-21T11:43:38.517Z"
   },
   {
    "duration": 53,
    "start_time": "2022-05-21T11:43:38.566Z"
   },
   {
    "duration": 101,
    "start_time": "2022-05-21T11:43:38.621Z"
   },
   {
    "duration": 43,
    "start_time": "2022-05-21T11:43:38.724Z"
   },
   {
    "duration": 8,
    "start_time": "2022-05-21T11:43:38.769Z"
   },
   {
    "duration": 37,
    "start_time": "2022-05-21T11:43:38.779Z"
   },
   {
    "duration": 338,
    "start_time": "2022-05-21T11:43:38.819Z"
   },
   {
    "duration": 262,
    "start_time": "2022-05-21T11:43:39.162Z"
   },
   {
    "duration": 19,
    "start_time": "2022-05-21T11:43:39.426Z"
   },
   {
    "duration": 359,
    "start_time": "2022-05-21T11:43:39.448Z"
   },
   {
    "duration": 19,
    "start_time": "2022-05-21T11:43:39.810Z"
   },
   {
    "duration": 29,
    "start_time": "2022-05-21T11:43:39.847Z"
   },
   {
    "duration": 65,
    "start_time": "2022-05-21T11:43:39.878Z"
   },
   {
    "duration": 30,
    "start_time": "2022-05-21T11:43:39.945Z"
   },
   {
    "duration": 5,
    "start_time": "2022-05-21T11:43:39.977Z"
   },
   {
    "duration": 14441,
    "start_time": "2022-05-21T11:43:39.984Z"
   },
   {
    "duration": 92,
    "start_time": "2022-05-21T11:43:54.427Z"
   },
   {
    "duration": 8,
    "start_time": "2022-05-21T11:43:54.521Z"
   },
   {
    "duration": 16,
    "start_time": "2022-05-21T11:43:54.548Z"
   },
   {
    "duration": 342985,
    "start_time": "2022-05-21T11:43:54.566Z"
   },
   {
    "duration": 496,
    "start_time": "2022-05-21T11:49:37.552Z"
   },
   {
    "duration": 7,
    "start_time": "2022-05-21T11:49:38.050Z"
   },
   {
    "duration": 27414,
    "start_time": "2022-05-21T11:49:38.059Z"
   },
   {
    "duration": 73,
    "start_time": "2022-05-21T11:50:05.475Z"
   },
   {
    "duration": 6,
    "start_time": "2022-05-21T11:50:05.559Z"
   },
   {
    "duration": 17,
    "start_time": "2022-05-21T11:51:38.885Z"
   },
   {
    "duration": 15,
    "start_time": "2022-05-21T11:51:49.470Z"
   },
   {
    "duration": 1482,
    "start_time": "2022-05-21T11:52:30.516Z"
   },
   {
    "duration": 1051,
    "start_time": "2022-05-21T11:52:32.001Z"
   },
   {
    "duration": 123,
    "start_time": "2022-05-21T11:52:33.056Z"
   },
   {
    "duration": 26,
    "start_time": "2022-05-21T11:52:33.182Z"
   },
   {
    "duration": 63,
    "start_time": "2022-05-21T11:52:33.210Z"
   },
   {
    "duration": 96,
    "start_time": "2022-05-21T11:52:33.275Z"
   },
   {
    "duration": 3,
    "start_time": "2022-05-21T11:52:33.373Z"
   },
   {
    "duration": 5,
    "start_time": "2022-05-21T11:52:33.377Z"
   },
   {
    "duration": 105,
    "start_time": "2022-05-21T11:52:33.384Z"
   },
   {
    "duration": 14,
    "start_time": "2022-05-21T11:52:33.492Z"
   },
   {
    "duration": 46,
    "start_time": "2022-05-21T11:52:33.507Z"
   },
   {
    "duration": 178,
    "start_time": "2022-05-21T11:52:33.554Z"
   },
   {
    "duration": 260,
    "start_time": "2022-05-21T11:52:33.734Z"
   },
   {
    "duration": 7,
    "start_time": "2022-05-21T11:52:33.996Z"
   },
   {
    "duration": 316,
    "start_time": "2022-05-21T11:52:34.005Z"
   },
   {
    "duration": 19,
    "start_time": "2022-05-21T11:52:34.323Z"
   },
   {
    "duration": 26,
    "start_time": "2022-05-21T11:52:34.348Z"
   },
   {
    "duration": 38,
    "start_time": "2022-05-21T11:52:34.376Z"
   },
   {
    "duration": 37,
    "start_time": "2022-05-21T11:52:34.416Z"
   },
   {
    "duration": 6,
    "start_time": "2022-05-21T11:52:34.455Z"
   },
   {
    "duration": 11762,
    "start_time": "2022-05-21T11:52:34.463Z"
   },
   {
    "duration": 84,
    "start_time": "2022-05-21T11:52:46.227Z"
   },
   {
    "duration": 5,
    "start_time": "2022-05-21T11:52:46.314Z"
   },
   {
    "duration": 28,
    "start_time": "2022-05-21T11:52:46.321Z"
   },
   {
    "duration": 1442,
    "start_time": "2022-05-21T11:53:30.775Z"
   },
   {
    "duration": 1107,
    "start_time": "2022-05-21T11:53:32.219Z"
   },
   {
    "duration": 142,
    "start_time": "2022-05-21T11:53:33.327Z"
   },
   {
    "duration": 28,
    "start_time": "2022-05-21T11:53:33.471Z"
   },
   {
    "duration": 70,
    "start_time": "2022-05-21T11:53:33.502Z"
   },
   {
    "duration": 103,
    "start_time": "2022-05-21T11:53:33.574Z"
   },
   {
    "duration": 3,
    "start_time": "2022-05-21T11:53:33.678Z"
   },
   {
    "duration": 5,
    "start_time": "2022-05-21T11:53:33.683Z"
   },
   {
    "duration": 164,
    "start_time": "2022-05-21T11:53:33.689Z"
   },
   {
    "duration": 0,
    "start_time": "2022-05-21T11:53:33.859Z"
   },
   {
    "duration": 0,
    "start_time": "2022-05-21T11:53:33.861Z"
   },
   {
    "duration": 0,
    "start_time": "2022-05-21T11:53:33.862Z"
   },
   {
    "duration": 0,
    "start_time": "2022-05-21T11:53:33.863Z"
   },
   {
    "duration": 0,
    "start_time": "2022-05-21T11:53:33.864Z"
   },
   {
    "duration": 0,
    "start_time": "2022-05-21T11:53:33.865Z"
   },
   {
    "duration": 0,
    "start_time": "2022-05-21T11:53:33.866Z"
   },
   {
    "duration": 0,
    "start_time": "2022-05-21T11:53:33.867Z"
   },
   {
    "duration": 0,
    "start_time": "2022-05-21T11:53:33.868Z"
   },
   {
    "duration": 0,
    "start_time": "2022-05-21T11:53:33.869Z"
   },
   {
    "duration": 0,
    "start_time": "2022-05-21T11:53:33.871Z"
   },
   {
    "duration": 0,
    "start_time": "2022-05-21T11:53:33.871Z"
   },
   {
    "duration": 0,
    "start_time": "2022-05-21T11:53:33.873Z"
   },
   {
    "duration": 1,
    "start_time": "2022-05-21T11:53:33.874Z"
   },
   {
    "duration": 0,
    "start_time": "2022-05-21T11:53:33.876Z"
   },
   {
    "duration": 0,
    "start_time": "2022-05-21T11:53:33.878Z"
   },
   {
    "duration": 0,
    "start_time": "2022-05-21T11:53:33.879Z"
   },
   {
    "duration": 0,
    "start_time": "2022-05-21T11:53:33.880Z"
   },
   {
    "duration": 0,
    "start_time": "2022-05-21T11:53:33.882Z"
   },
   {
    "duration": 0,
    "start_time": "2022-05-21T11:53:33.883Z"
   },
   {
    "duration": 0,
    "start_time": "2022-05-21T11:53:33.884Z"
   },
   {
    "duration": 29,
    "start_time": "2022-05-21T11:53:58.597Z"
   },
   {
    "duration": 16,
    "start_time": "2022-05-21T11:54:11.400Z"
   },
   {
    "duration": 7,
    "start_time": "2022-05-21T11:54:27.082Z"
   },
   {
    "duration": 196,
    "start_time": "2022-05-21T11:54:44.767Z"
   },
   {
    "duration": 5,
    "start_time": "2022-05-21T11:54:51.763Z"
   },
   {
    "duration": 86,
    "start_time": "2022-05-21T11:55:00.019Z"
   },
   {
    "duration": 19,
    "start_time": "2022-05-21T11:55:05.937Z"
   },
   {
    "duration": 13,
    "start_time": "2022-05-21T11:55:24.971Z"
   },
   {
    "duration": 19,
    "start_time": "2022-05-21T11:55:31.433Z"
   },
   {
    "duration": 4,
    "start_time": "2022-05-21T11:55:35.661Z"
   },
   {
    "duration": 15,
    "start_time": "2022-05-21T11:55:49.574Z"
   },
   {
    "duration": 81,
    "start_time": "2022-05-21T11:56:09.367Z"
   },
   {
    "duration": 6,
    "start_time": "2022-05-21T11:56:13.095Z"
   },
   {
    "duration": 86,
    "start_time": "2022-05-21T11:58:02.365Z"
   },
   {
    "duration": 5,
    "start_time": "2022-05-21T11:58:05.001Z"
   },
   {
    "duration": 25,
    "start_time": "2022-05-21T12:01:28.399Z"
   },
   {
    "duration": 21,
    "start_time": "2022-05-21T12:01:40.984Z"
   },
   {
    "duration": 51,
    "start_time": "2022-05-21T12:02:08.501Z"
   },
   {
    "duration": 22,
    "start_time": "2022-05-21T12:02:16.735Z"
   },
   {
    "duration": 1606,
    "start_time": "2022-05-21T12:02:43.594Z"
   },
   {
    "duration": 1280,
    "start_time": "2022-05-21T12:02:45.203Z"
   },
   {
    "duration": 131,
    "start_time": "2022-05-21T12:02:46.486Z"
   },
   {
    "duration": 34,
    "start_time": "2022-05-21T12:02:46.619Z"
   },
   {
    "duration": 62,
    "start_time": "2022-05-21T12:02:46.656Z"
   },
   {
    "duration": 109,
    "start_time": "2022-05-21T12:02:46.723Z"
   },
   {
    "duration": 3,
    "start_time": "2022-05-21T12:02:46.842Z"
   },
   {
    "duration": 6,
    "start_time": "2022-05-21T12:02:46.847Z"
   },
   {
    "duration": 67,
    "start_time": "2022-05-21T12:02:46.856Z"
   },
   {
    "duration": 38,
    "start_time": "2022-05-21T12:02:46.926Z"
   },
   {
    "duration": 77,
    "start_time": "2022-05-21T12:02:46.966Z"
   },
   {
    "duration": 273,
    "start_time": "2022-05-21T12:02:47.045Z"
   },
   {
    "duration": 321,
    "start_time": "2022-05-21T12:02:47.320Z"
   },
   {
    "duration": 11,
    "start_time": "2022-05-21T12:02:47.645Z"
   },
   {
    "duration": 372,
    "start_time": "2022-05-21T12:02:47.658Z"
   },
   {
    "duration": 19,
    "start_time": "2022-05-21T12:02:48.032Z"
   },
   {
    "duration": 30,
    "start_time": "2022-05-21T12:02:48.053Z"
   },
   {
    "duration": 67,
    "start_time": "2022-05-21T12:02:48.085Z"
   },
   {
    "duration": 23,
    "start_time": "2022-05-21T12:02:48.154Z"
   },
   {
    "duration": 6,
    "start_time": "2022-05-21T12:02:48.179Z"
   },
   {
    "duration": 15506,
    "start_time": "2022-05-21T12:02:48.187Z"
   },
   {
    "duration": 119,
    "start_time": "2022-05-21T12:03:03.695Z"
   },
   {
    "duration": 5,
    "start_time": "2022-05-21T12:03:03.816Z"
   },
   {
    "duration": 21,
    "start_time": "2022-05-21T12:03:03.822Z"
   },
   {
    "duration": 9074,
    "start_time": "2022-05-21T12:03:03.846Z"
   },
   {
    "duration": 19,
    "start_time": "2022-05-21T12:03:12.923Z"
   },
   {
    "duration": 5,
    "start_time": "2022-05-21T12:03:12.945Z"
   },
   {
    "duration": 6963,
    "start_time": "2022-05-21T12:03:12.952Z"
   },
   {
    "duration": 19,
    "start_time": "2022-05-21T12:03:19.917Z"
   },
   {
    "duration": 17,
    "start_time": "2022-05-21T12:03:19.938Z"
   },
   {
    "duration": 6,
    "start_time": "2022-05-21T12:03:19.959Z"
   },
   {
    "duration": 1547,
    "start_time": "2022-05-21T12:03:45.015Z"
   },
   {
    "duration": 1305,
    "start_time": "2022-05-21T12:03:46.564Z"
   },
   {
    "duration": 131,
    "start_time": "2022-05-21T12:03:47.871Z"
   },
   {
    "duration": 40,
    "start_time": "2022-05-21T12:03:48.004Z"
   },
   {
    "duration": 58,
    "start_time": "2022-05-21T12:03:48.047Z"
   },
   {
    "duration": 93,
    "start_time": "2022-05-21T12:03:48.108Z"
   },
   {
    "duration": 3,
    "start_time": "2022-05-21T12:03:48.203Z"
   },
   {
    "duration": 5,
    "start_time": "2022-05-21T12:03:48.208Z"
   },
   {
    "duration": 72,
    "start_time": "2022-05-21T12:03:48.215Z"
   },
   {
    "duration": 31,
    "start_time": "2022-05-21T12:03:48.290Z"
   },
   {
    "duration": 18,
    "start_time": "2022-05-21T12:03:48.323Z"
   },
   {
    "duration": 5,
    "start_time": "2022-05-21T12:03:48.344Z"
   },
   {
    "duration": 0,
    "start_time": "2022-05-21T12:03:48.352Z"
   },
   {
    "duration": 0,
    "start_time": "2022-05-21T12:03:48.354Z"
   },
   {
    "duration": 0,
    "start_time": "2022-05-21T12:03:48.355Z"
   },
   {
    "duration": 0,
    "start_time": "2022-05-21T12:03:48.356Z"
   },
   {
    "duration": 0,
    "start_time": "2022-05-21T12:03:48.358Z"
   },
   {
    "duration": 0,
    "start_time": "2022-05-21T12:03:48.359Z"
   },
   {
    "duration": 0,
    "start_time": "2022-05-21T12:03:48.360Z"
   },
   {
    "duration": 0,
    "start_time": "2022-05-21T12:03:48.362Z"
   },
   {
    "duration": 0,
    "start_time": "2022-05-21T12:03:48.363Z"
   },
   {
    "duration": 0,
    "start_time": "2022-05-21T12:03:48.364Z"
   },
   {
    "duration": 0,
    "start_time": "2022-05-21T12:03:48.368Z"
   },
   {
    "duration": 0,
    "start_time": "2022-05-21T12:03:48.369Z"
   },
   {
    "duration": 0,
    "start_time": "2022-05-21T12:03:48.370Z"
   },
   {
    "duration": 0,
    "start_time": "2022-05-21T12:03:48.371Z"
   },
   {
    "duration": 0,
    "start_time": "2022-05-21T12:03:48.373Z"
   },
   {
    "duration": 0,
    "start_time": "2022-05-21T12:03:48.374Z"
   },
   {
    "duration": 0,
    "start_time": "2022-05-21T12:03:48.377Z"
   },
   {
    "duration": 0,
    "start_time": "2022-05-21T12:03:48.378Z"
   },
   {
    "duration": 0,
    "start_time": "2022-05-21T12:03:48.380Z"
   },
   {
    "duration": 51,
    "start_time": "2022-05-21T12:05:27.012Z"
   },
   {
    "duration": 21,
    "start_time": "2022-05-21T12:07:12.670Z"
   },
   {
    "duration": 1558,
    "start_time": "2022-05-21T12:08:10.121Z"
   },
   {
    "duration": 1174,
    "start_time": "2022-05-21T12:08:11.681Z"
   },
   {
    "duration": 135,
    "start_time": "2022-05-21T12:08:12.858Z"
   },
   {
    "duration": 28,
    "start_time": "2022-05-21T12:08:12.996Z"
   },
   {
    "duration": 63,
    "start_time": "2022-05-21T12:08:13.027Z"
   },
   {
    "duration": 107,
    "start_time": "2022-05-21T12:08:13.092Z"
   },
   {
    "duration": 22,
    "start_time": "2022-05-21T12:08:13.201Z"
   },
   {
    "duration": 17,
    "start_time": "2022-05-21T12:08:13.225Z"
   },
   {
    "duration": 80,
    "start_time": "2022-05-21T12:08:13.244Z"
   },
   {
    "duration": 221,
    "start_time": "2022-05-21T12:08:13.326Z"
   },
   {
    "duration": 278,
    "start_time": "2022-05-21T12:08:13.549Z"
   },
   {
    "duration": 13,
    "start_time": "2022-05-21T12:08:13.829Z"
   },
   {
    "duration": 693,
    "start_time": "2022-05-21T12:08:13.848Z"
   },
   {
    "duration": 15,
    "start_time": "2022-05-21T12:08:14.543Z"
   },
   {
    "duration": 50,
    "start_time": "2022-05-21T12:08:14.561Z"
   },
   {
    "duration": 109,
    "start_time": "2022-05-21T12:08:14.644Z"
   },
   {
    "duration": 28,
    "start_time": "2022-05-21T12:08:14.755Z"
   },
   {
    "duration": 14,
    "start_time": "2022-05-21T12:08:14.785Z"
   },
   {
    "duration": 5169,
    "start_time": "2022-05-21T12:08:14.801Z"
   },
   {
    "duration": 53,
    "start_time": "2022-05-21T12:08:19.972Z"
   },
   {
    "duration": 10,
    "start_time": "2022-05-21T12:08:20.026Z"
   },
   {
    "duration": 0,
    "start_time": "2022-05-21T12:08:20.037Z"
   },
   {
    "duration": 0,
    "start_time": "2022-05-21T12:08:20.038Z"
   },
   {
    "duration": 0,
    "start_time": "2022-05-21T12:08:20.040Z"
   },
   {
    "duration": 0,
    "start_time": "2022-05-21T12:08:20.053Z"
   },
   {
    "duration": 0,
    "start_time": "2022-05-21T12:08:20.054Z"
   },
   {
    "duration": 0,
    "start_time": "2022-05-21T12:08:20.055Z"
   },
   {
    "duration": 0,
    "start_time": "2022-05-21T12:08:20.056Z"
   },
   {
    "duration": 1611,
    "start_time": "2022-05-21T12:08:28.445Z"
   },
   {
    "duration": 1190,
    "start_time": "2022-05-21T12:08:30.059Z"
   },
   {
    "duration": 123,
    "start_time": "2022-05-21T12:08:31.251Z"
   },
   {
    "duration": 26,
    "start_time": "2022-05-21T12:08:31.377Z"
   },
   {
    "duration": 72,
    "start_time": "2022-05-21T12:08:31.405Z"
   },
   {
    "duration": 105,
    "start_time": "2022-05-21T12:08:31.479Z"
   },
   {
    "duration": 26,
    "start_time": "2022-05-21T12:08:31.586Z"
   },
   {
    "duration": 3,
    "start_time": "2022-05-21T12:08:31.613Z"
   },
   {
    "duration": 68,
    "start_time": "2022-05-21T12:08:31.617Z"
   },
   {
    "duration": 233,
    "start_time": "2022-05-21T12:08:31.687Z"
   },
   {
    "duration": 326,
    "start_time": "2022-05-21T12:08:31.921Z"
   },
   {
    "duration": 14,
    "start_time": "2022-05-21T12:08:32.249Z"
   },
   {
    "duration": 421,
    "start_time": "2022-05-21T12:08:32.265Z"
   },
   {
    "duration": 13,
    "start_time": "2022-05-21T12:08:32.688Z"
   },
   {
    "duration": 44,
    "start_time": "2022-05-21T12:08:32.702Z"
   },
   {
    "duration": 50,
    "start_time": "2022-05-21T12:08:32.748Z"
   },
   {
    "duration": 21,
    "start_time": "2022-05-21T12:08:32.799Z"
   },
   {
    "duration": 5,
    "start_time": "2022-05-21T12:08:32.822Z"
   },
   {
    "duration": 14761,
    "start_time": "2022-05-21T12:08:32.842Z"
   },
   {
    "duration": 123,
    "start_time": "2022-05-21T12:08:47.605Z"
   },
   {
    "duration": 11,
    "start_time": "2022-05-21T12:08:47.729Z"
   },
   {
    "duration": 32,
    "start_time": "2022-05-21T12:08:47.742Z"
   },
   {
    "duration": 147392,
    "start_time": "2022-05-21T12:08:47.777Z"
   },
   {
    "duration": 520,
    "start_time": "2022-05-21T12:11:15.242Z"
   },
   {
    "duration": 8,
    "start_time": "2022-05-21T12:11:15.764Z"
   },
   {
    "duration": 29680,
    "start_time": "2022-05-21T12:11:15.775Z"
   },
   {
    "duration": 67,
    "start_time": "2022-05-21T12:11:45.457Z"
   },
   {
    "duration": 5,
    "start_time": "2022-05-21T12:11:45.527Z"
   },
   {
    "duration": 25574,
    "start_time": "2022-05-21T12:13:44.918Z"
   },
   {
    "duration": 1473,
    "start_time": "2022-05-21T12:15:24.854Z"
   },
   {
    "duration": 1108,
    "start_time": "2022-05-21T12:15:26.329Z"
   },
   {
    "duration": 116,
    "start_time": "2022-05-21T12:15:27.441Z"
   },
   {
    "duration": 27,
    "start_time": "2022-05-21T12:15:27.559Z"
   },
   {
    "duration": 71,
    "start_time": "2022-05-21T12:15:27.589Z"
   },
   {
    "duration": 93,
    "start_time": "2022-05-21T12:15:27.662Z"
   },
   {
    "duration": 2,
    "start_time": "2022-05-21T12:15:27.757Z"
   },
   {
    "duration": 41,
    "start_time": "2022-05-21T12:15:27.761Z"
   },
   {
    "duration": 47,
    "start_time": "2022-05-21T12:15:27.804Z"
   },
   {
    "duration": 198,
    "start_time": "2022-05-21T12:15:27.853Z"
   },
   {
    "duration": 246,
    "start_time": "2022-05-21T12:15:28.053Z"
   },
   {
    "duration": 8,
    "start_time": "2022-05-21T12:15:28.301Z"
   },
   {
    "duration": 353,
    "start_time": "2022-05-21T12:15:28.311Z"
   },
   {
    "duration": 13,
    "start_time": "2022-05-21T12:15:28.666Z"
   },
   {
    "duration": 32,
    "start_time": "2022-05-21T12:15:28.680Z"
   },
   {
    "duration": 56,
    "start_time": "2022-05-21T12:15:28.714Z"
   },
   {
    "duration": 23,
    "start_time": "2022-05-21T12:15:28.772Z"
   },
   {
    "duration": 5,
    "start_time": "2022-05-21T12:15:28.797Z"
   },
   {
    "duration": 13549,
    "start_time": "2022-05-21T12:15:28.804Z"
   },
   {
    "duration": 101,
    "start_time": "2022-05-21T12:15:42.355Z"
   },
   {
    "duration": 5,
    "start_time": "2022-05-21T12:15:42.457Z"
   },
   {
    "duration": 6,
    "start_time": "2022-05-21T12:15:42.463Z"
   },
   {
    "duration": 154575,
    "start_time": "2022-05-21T12:15:42.471Z"
   },
   {
    "duration": 499,
    "start_time": "2022-05-21T12:18:17.050Z"
   },
   {
    "duration": 8,
    "start_time": "2022-05-21T12:18:17.551Z"
   },
   {
    "duration": 29346,
    "start_time": "2022-05-21T12:18:17.560Z"
   },
   {
    "duration": 73,
    "start_time": "2022-05-21T12:18:46.907Z"
   },
   {
    "duration": 6,
    "start_time": "2022-05-21T12:18:46.983Z"
   },
   {
    "duration": 72,
    "start_time": "2022-05-21T12:21:53.098Z"
   },
   {
    "duration": 18,
    "start_time": "2022-05-21T12:22:08.381Z"
   },
   {
    "duration": 11,
    "start_time": "2022-05-21T12:22:17.876Z"
   },
   {
    "duration": 23,
    "start_time": "2022-05-21T12:22:29.551Z"
   },
   {
    "duration": 25,
    "start_time": "2022-05-21T12:22:32.408Z"
   },
   {
    "duration": 18,
    "start_time": "2022-05-21T12:22:34.095Z"
   },
   {
    "duration": 14,
    "start_time": "2022-05-21T12:22:35.009Z"
   },
   {
    "duration": 20,
    "start_time": "2022-05-21T12:22:36.986Z"
   },
   {
    "duration": 31,
    "start_time": "2022-05-21T12:22:37.639Z"
   },
   {
    "duration": 23,
    "start_time": "2022-05-21T12:22:39.430Z"
   },
   {
    "duration": 14,
    "start_time": "2022-05-21T12:22:40.199Z"
   },
   {
    "duration": 24,
    "start_time": "2022-05-21T12:22:56.301Z"
   },
   {
    "duration": 243,
    "start_time": "2022-05-21T12:32:42.793Z"
   },
   {
    "duration": 1538,
    "start_time": "2022-05-21T12:32:52.929Z"
   },
   {
    "duration": 1360,
    "start_time": "2022-05-21T12:32:54.469Z"
   },
   {
    "duration": 121,
    "start_time": "2022-05-21T12:32:55.830Z"
   },
   {
    "duration": 25,
    "start_time": "2022-05-21T12:32:55.952Z"
   },
   {
    "duration": 49,
    "start_time": "2022-05-21T12:32:55.980Z"
   },
   {
    "duration": 94,
    "start_time": "2022-05-21T12:32:56.030Z"
   },
   {
    "duration": 17,
    "start_time": "2022-05-21T12:32:56.126Z"
   },
   {
    "duration": 55,
    "start_time": "2022-05-21T12:32:56.146Z"
   },
   {
    "duration": 43,
    "start_time": "2022-05-21T12:32:56.203Z"
   },
   {
    "duration": 204,
    "start_time": "2022-05-21T12:32:56.248Z"
   },
   {
    "duration": 248,
    "start_time": "2022-05-21T12:32:56.454Z"
   },
   {
    "duration": 45,
    "start_time": "2022-05-21T12:32:56.704Z"
   },
   {
    "duration": 190,
    "start_time": "2022-05-21T12:32:56.751Z"
   },
   {
    "duration": 0,
    "start_time": "2022-05-21T12:32:56.944Z"
   },
   {
    "duration": 0,
    "start_time": "2022-05-21T12:32:56.945Z"
   },
   {
    "duration": 0,
    "start_time": "2022-05-21T12:32:56.946Z"
   },
   {
    "duration": 0,
    "start_time": "2022-05-21T12:32:56.948Z"
   },
   {
    "duration": 1,
    "start_time": "2022-05-21T12:32:56.949Z"
   },
   {
    "duration": 0,
    "start_time": "2022-05-21T12:32:56.951Z"
   },
   {
    "duration": 1,
    "start_time": "2022-05-21T12:32:56.952Z"
   },
   {
    "duration": 0,
    "start_time": "2022-05-21T12:32:56.954Z"
   },
   {
    "duration": 0,
    "start_time": "2022-05-21T12:32:56.956Z"
   },
   {
    "duration": 0,
    "start_time": "2022-05-21T12:32:56.957Z"
   },
   {
    "duration": 0,
    "start_time": "2022-05-21T12:32:56.958Z"
   },
   {
    "duration": 0,
    "start_time": "2022-05-21T12:32:56.959Z"
   },
   {
    "duration": 0,
    "start_time": "2022-05-21T12:32:56.961Z"
   },
   {
    "duration": 0,
    "start_time": "2022-05-21T12:32:56.962Z"
   },
   {
    "duration": 0,
    "start_time": "2022-05-21T12:32:56.963Z"
   },
   {
    "duration": 7,
    "start_time": "2022-05-21T12:33:30.427Z"
   },
   {
    "duration": 1490,
    "start_time": "2022-05-21T12:34:00.418Z"
   },
   {
    "duration": 1075,
    "start_time": "2022-05-21T12:34:01.911Z"
   },
   {
    "duration": 127,
    "start_time": "2022-05-21T12:34:02.988Z"
   },
   {
    "duration": 41,
    "start_time": "2022-05-21T12:34:03.117Z"
   },
   {
    "duration": 49,
    "start_time": "2022-05-21T12:34:03.161Z"
   },
   {
    "duration": 104,
    "start_time": "2022-05-21T12:34:03.211Z"
   },
   {
    "duration": 3,
    "start_time": "2022-05-21T12:34:03.317Z"
   },
   {
    "duration": 53,
    "start_time": "2022-05-21T12:34:03.322Z"
   },
   {
    "duration": 34,
    "start_time": "2022-05-21T12:34:03.377Z"
   },
   {
    "duration": 204,
    "start_time": "2022-05-21T12:34:03.413Z"
   },
   {
    "duration": 260,
    "start_time": "2022-05-21T12:34:03.619Z"
   },
   {
    "duration": 40,
    "start_time": "2022-05-21T12:34:03.881Z"
   },
   {
    "duration": 19,
    "start_time": "2022-05-21T12:34:03.923Z"
   },
   {
    "duration": 162,
    "start_time": "2022-05-21T12:34:03.946Z"
   },
   {
    "duration": 0,
    "start_time": "2022-05-21T12:34:04.110Z"
   },
   {
    "duration": 0,
    "start_time": "2022-05-21T12:34:04.111Z"
   },
   {
    "duration": 0,
    "start_time": "2022-05-21T12:34:04.112Z"
   },
   {
    "duration": 0,
    "start_time": "2022-05-21T12:34:04.114Z"
   },
   {
    "duration": 0,
    "start_time": "2022-05-21T12:34:04.116Z"
   },
   {
    "duration": 0,
    "start_time": "2022-05-21T12:34:04.117Z"
   },
   {
    "duration": 0,
    "start_time": "2022-05-21T12:34:04.119Z"
   },
   {
    "duration": 0,
    "start_time": "2022-05-21T12:34:04.121Z"
   },
   {
    "duration": 0,
    "start_time": "2022-05-21T12:34:04.123Z"
   },
   {
    "duration": 0,
    "start_time": "2022-05-21T12:34:04.142Z"
   },
   {
    "duration": 0,
    "start_time": "2022-05-21T12:34:04.143Z"
   },
   {
    "duration": 0,
    "start_time": "2022-05-21T12:34:04.144Z"
   },
   {
    "duration": 1,
    "start_time": "2022-05-21T12:34:04.145Z"
   },
   {
    "duration": 0,
    "start_time": "2022-05-21T12:34:04.147Z"
   },
   {
    "duration": 0,
    "start_time": "2022-05-21T12:34:04.148Z"
   },
   {
    "duration": 1761,
    "start_time": "2022-05-21T12:34:16.494Z"
   },
   {
    "duration": 1352,
    "start_time": "2022-05-21T12:34:18.257Z"
   },
   {
    "duration": 148,
    "start_time": "2022-05-21T12:34:19.610Z"
   },
   {
    "duration": 36,
    "start_time": "2022-05-21T12:34:19.761Z"
   },
   {
    "duration": 68,
    "start_time": "2022-05-21T12:34:19.802Z"
   },
   {
    "duration": 103,
    "start_time": "2022-05-21T12:34:19.872Z"
   },
   {
    "duration": 20,
    "start_time": "2022-05-21T12:34:19.977Z"
   },
   {
    "duration": 51,
    "start_time": "2022-05-21T12:34:19.999Z"
   },
   {
    "duration": 34,
    "start_time": "2022-05-21T12:34:20.052Z"
   },
   {
    "duration": 226,
    "start_time": "2022-05-21T12:34:20.087Z"
   },
   {
    "duration": 298,
    "start_time": "2022-05-21T12:34:20.315Z"
   },
   {
    "duration": 3,
    "start_time": "2022-05-21T12:34:20.615Z"
   },
   {
    "duration": 23,
    "start_time": "2022-05-21T12:34:20.620Z"
   },
   {
    "duration": 351,
    "start_time": "2022-05-21T12:34:20.647Z"
   },
   {
    "duration": 14,
    "start_time": "2022-05-21T12:34:21.000Z"
   },
   {
    "duration": 204,
    "start_time": "2022-05-21T12:34:21.016Z"
   },
   {
    "duration": 57,
    "start_time": "2022-05-21T12:34:21.222Z"
   },
   {
    "duration": 31,
    "start_time": "2022-05-21T12:34:21.281Z"
   },
   {
    "duration": 7,
    "start_time": "2022-05-21T12:34:21.313Z"
   },
   {
    "duration": 14247,
    "start_time": "2022-05-21T12:34:21.322Z"
   },
   {
    "duration": 95,
    "start_time": "2022-05-21T12:34:35.571Z"
   },
   {
    "duration": 5,
    "start_time": "2022-05-21T12:34:35.667Z"
   },
   {
    "duration": 7,
    "start_time": "2022-05-21T12:34:35.674Z"
   },
   {
    "duration": 36838,
    "start_time": "2022-05-21T12:34:35.684Z"
   },
   {
    "duration": 441,
    "start_time": "2022-05-21T12:35:12.525Z"
   },
   {
    "duration": 6,
    "start_time": "2022-05-21T12:35:12.968Z"
   },
   {
    "duration": 1669,
    "start_time": "2022-05-21T12:35:36.383Z"
   },
   {
    "duration": 2077,
    "start_time": "2022-05-21T12:35:38.054Z"
   },
   {
    "duration": 110,
    "start_time": "2022-05-21T12:35:40.133Z"
   },
   {
    "duration": 25,
    "start_time": "2022-05-21T12:35:40.244Z"
   },
   {
    "duration": 54,
    "start_time": "2022-05-21T12:35:40.272Z"
   },
   {
    "duration": 80,
    "start_time": "2022-05-21T12:35:40.341Z"
   },
   {
    "duration": 2,
    "start_time": "2022-05-21T12:35:40.423Z"
   },
   {
    "duration": 59,
    "start_time": "2022-05-21T12:35:40.427Z"
   },
   {
    "duration": 35,
    "start_time": "2022-05-21T12:35:40.488Z"
   },
   {
    "duration": 205,
    "start_time": "2022-05-21T12:35:40.524Z"
   },
   {
    "duration": 262,
    "start_time": "2022-05-21T12:35:40.731Z"
   },
   {
    "duration": 47,
    "start_time": "2022-05-21T12:35:40.995Z"
   },
   {
    "duration": 6,
    "start_time": "2022-05-21T12:35:41.043Z"
   },
   {
    "duration": 170,
    "start_time": "2022-05-21T12:35:41.052Z"
   },
   {
    "duration": 0,
    "start_time": "2022-05-21T12:35:41.223Z"
   },
   {
    "duration": 0,
    "start_time": "2022-05-21T12:35:41.224Z"
   },
   {
    "duration": 0,
    "start_time": "2022-05-21T12:35:41.225Z"
   },
   {
    "duration": 0,
    "start_time": "2022-05-21T12:35:41.226Z"
   },
   {
    "duration": 0,
    "start_time": "2022-05-21T12:35:41.227Z"
   },
   {
    "duration": 0,
    "start_time": "2022-05-21T12:35:41.228Z"
   },
   {
    "duration": 0,
    "start_time": "2022-05-21T12:35:41.241Z"
   },
   {
    "duration": 0,
    "start_time": "2022-05-21T12:35:41.243Z"
   },
   {
    "duration": 0,
    "start_time": "2022-05-21T12:35:41.244Z"
   },
   {
    "duration": 0,
    "start_time": "2022-05-21T12:35:41.245Z"
   },
   {
    "duration": 0,
    "start_time": "2022-05-21T12:35:41.246Z"
   },
   {
    "duration": 0,
    "start_time": "2022-05-21T12:35:41.247Z"
   },
   {
    "duration": 0,
    "start_time": "2022-05-21T12:35:41.248Z"
   },
   {
    "duration": 0,
    "start_time": "2022-05-21T12:35:41.249Z"
   },
   {
    "duration": 0,
    "start_time": "2022-05-21T12:35:41.250Z"
   },
   {
    "duration": 6,
    "start_time": "2022-05-21T12:36:17.698Z"
   },
   {
    "duration": 15,
    "start_time": "2022-05-21T12:36:28.735Z"
   },
   {
    "duration": 11,
    "start_time": "2022-05-21T12:36:42.090Z"
   },
   {
    "duration": 10,
    "start_time": "2022-05-21T12:36:54.437Z"
   },
   {
    "duration": 55,
    "start_time": "2022-05-21T12:36:57.009Z"
   },
   {
    "duration": 7,
    "start_time": "2022-05-21T12:37:05.176Z"
   },
   {
    "duration": 1940,
    "start_time": "2022-05-21T12:37:10.200Z"
   },
   {
    "duration": 4007,
    "start_time": "2022-05-21T12:37:12.145Z"
   },
   {
    "duration": 123,
    "start_time": "2022-05-21T12:37:16.155Z"
   },
   {
    "duration": 32,
    "start_time": "2022-05-21T12:37:16.280Z"
   },
   {
    "duration": 255,
    "start_time": "2022-05-21T12:37:16.316Z"
   },
   {
    "duration": 139,
    "start_time": "2022-05-21T12:37:16.575Z"
   },
   {
    "duration": 18,
    "start_time": "2022-05-21T12:37:16.716Z"
   },
   {
    "duration": 75,
    "start_time": "2022-05-21T12:37:16.737Z"
   },
   {
    "duration": 54,
    "start_time": "2022-05-21T12:37:16.814Z"
   },
   {
    "duration": 485,
    "start_time": "2022-05-21T12:37:16.874Z"
   },
   {
    "duration": 298,
    "start_time": "2022-05-21T12:37:17.361Z"
   },
   {
    "duration": 43,
    "start_time": "2022-05-21T12:37:17.663Z"
   },
   {
    "duration": 8,
    "start_time": "2022-05-21T12:37:17.708Z"
   },
   {
    "duration": 209,
    "start_time": "2022-05-21T12:37:17.719Z"
   },
   {
    "duration": 0,
    "start_time": "2022-05-21T12:37:17.930Z"
   },
   {
    "duration": 0,
    "start_time": "2022-05-21T12:37:17.931Z"
   },
   {
    "duration": 0,
    "start_time": "2022-05-21T12:37:17.933Z"
   },
   {
    "duration": 0,
    "start_time": "2022-05-21T12:37:17.934Z"
   },
   {
    "duration": 0,
    "start_time": "2022-05-21T12:37:17.935Z"
   },
   {
    "duration": 0,
    "start_time": "2022-05-21T12:37:17.937Z"
   },
   {
    "duration": 0,
    "start_time": "2022-05-21T12:37:17.942Z"
   },
   {
    "duration": 0,
    "start_time": "2022-05-21T12:37:17.943Z"
   },
   {
    "duration": 0,
    "start_time": "2022-05-21T12:37:17.945Z"
   },
   {
    "duration": 0,
    "start_time": "2022-05-21T12:37:17.948Z"
   },
   {
    "duration": 0,
    "start_time": "2022-05-21T12:37:17.949Z"
   },
   {
    "duration": 0,
    "start_time": "2022-05-21T12:37:17.950Z"
   },
   {
    "duration": 0,
    "start_time": "2022-05-21T12:37:17.951Z"
   },
   {
    "duration": 0,
    "start_time": "2022-05-21T12:37:17.952Z"
   },
   {
    "duration": 0,
    "start_time": "2022-05-21T12:37:17.954Z"
   },
   {
    "duration": 34,
    "start_time": "2022-05-21T12:43:17.137Z"
   },
   {
    "duration": 7,
    "start_time": "2022-05-21T12:43:19.215Z"
   },
   {
    "duration": 43,
    "start_time": "2022-05-21T12:43:21.908Z"
   },
   {
    "duration": 25,
    "start_time": "2022-05-21T12:43:43.930Z"
   },
   {
    "duration": 1380,
    "start_time": "2022-05-21T12:44:43.124Z"
   },
   {
    "duration": 3015,
    "start_time": "2022-05-21T12:44:44.506Z"
   },
   {
    "duration": 108,
    "start_time": "2022-05-21T12:44:47.523Z"
   },
   {
    "duration": 31,
    "start_time": "2022-05-21T12:44:47.633Z"
   },
   {
    "duration": 50,
    "start_time": "2022-05-21T12:44:47.666Z"
   },
   {
    "duration": 100,
    "start_time": "2022-05-21T12:44:47.719Z"
   },
   {
    "duration": 3,
    "start_time": "2022-05-21T12:44:47.821Z"
   },
   {
    "duration": 51,
    "start_time": "2022-05-21T12:44:47.826Z"
   },
   {
    "duration": 33,
    "start_time": "2022-05-21T12:44:47.878Z"
   },
   {
    "duration": 208,
    "start_time": "2022-05-21T12:44:47.915Z"
   },
   {
    "duration": 235,
    "start_time": "2022-05-21T12:44:48.124Z"
   },
   {
    "duration": 2,
    "start_time": "2022-05-21T12:44:48.361Z"
   },
   {
    "duration": 5,
    "start_time": "2022-05-21T12:44:48.365Z"
   },
   {
    "duration": 18,
    "start_time": "2022-05-21T12:44:48.372Z"
   },
   {
    "duration": 7,
    "start_time": "2022-05-21T12:44:48.392Z"
   },
   {
    "duration": 0,
    "start_time": "2022-05-21T12:44:48.400Z"
   },
   {
    "duration": 0,
    "start_time": "2022-05-21T12:44:48.401Z"
   },
   {
    "duration": 0,
    "start_time": "2022-05-21T12:44:48.403Z"
   },
   {
    "duration": 0,
    "start_time": "2022-05-21T12:44:48.405Z"
   },
   {
    "duration": 0,
    "start_time": "2022-05-21T12:44:48.406Z"
   },
   {
    "duration": 0,
    "start_time": "2022-05-21T12:44:48.407Z"
   },
   {
    "duration": 0,
    "start_time": "2022-05-21T12:44:48.409Z"
   },
   {
    "duration": 0,
    "start_time": "2022-05-21T12:44:48.410Z"
   },
   {
    "duration": 0,
    "start_time": "2022-05-21T12:44:48.411Z"
   },
   {
    "duration": 0,
    "start_time": "2022-05-21T12:44:48.412Z"
   },
   {
    "duration": 1,
    "start_time": "2022-05-21T12:44:48.412Z"
   },
   {
    "duration": 0,
    "start_time": "2022-05-21T12:44:48.413Z"
   },
   {
    "duration": 0,
    "start_time": "2022-05-21T12:44:48.413Z"
   },
   {
    "duration": 0,
    "start_time": "2022-05-21T12:44:48.414Z"
   },
   {
    "duration": 0,
    "start_time": "2022-05-21T12:44:48.414Z"
   },
   {
    "duration": 0,
    "start_time": "2022-05-21T12:44:48.441Z"
   },
   {
    "duration": 10,
    "start_time": "2022-05-21T12:45:34.077Z"
   },
   {
    "duration": 7,
    "start_time": "2022-05-21T12:45:40.861Z"
   },
   {
    "duration": 126,
    "start_time": "2022-05-21T12:45:53.036Z"
   },
   {
    "duration": 16,
    "start_time": "2022-05-21T12:46:00.413Z"
   },
   {
    "duration": 9,
    "start_time": "2022-05-21T12:46:06.388Z"
   },
   {
    "duration": 14,
    "start_time": "2022-05-21T12:46:15.333Z"
   },
   {
    "duration": 13,
    "start_time": "2022-05-21T12:47:28.249Z"
   },
   {
    "duration": 11,
    "start_time": "2022-05-21T12:47:35.569Z"
   },
   {
    "duration": 6,
    "start_time": "2022-05-21T12:47:42.585Z"
   },
   {
    "duration": 7,
    "start_time": "2022-05-21T12:47:45.589Z"
   },
   {
    "duration": 18,
    "start_time": "2022-05-21T12:47:50.093Z"
   },
   {
    "duration": 327,
    "start_time": "2022-05-21T12:48:07.090Z"
   },
   {
    "duration": 13,
    "start_time": "2022-05-21T12:48:10.850Z"
   },
   {
    "duration": 13,
    "start_time": "2022-05-21T12:49:41.351Z"
   },
   {
    "duration": 7,
    "start_time": "2022-05-21T12:49:43.287Z"
   },
   {
    "duration": 1543,
    "start_time": "2022-05-21T12:50:16.449Z"
   },
   {
    "duration": 990,
    "start_time": "2022-05-21T12:50:17.994Z"
   },
   {
    "duration": 106,
    "start_time": "2022-05-21T12:50:18.986Z"
   },
   {
    "duration": 27,
    "start_time": "2022-05-21T12:50:19.094Z"
   },
   {
    "duration": 57,
    "start_time": "2022-05-21T12:50:19.124Z"
   },
   {
    "duration": 92,
    "start_time": "2022-05-21T12:50:19.182Z"
   },
   {
    "duration": 3,
    "start_time": "2022-05-21T12:50:19.275Z"
   },
   {
    "duration": 62,
    "start_time": "2022-05-21T12:50:19.279Z"
   },
   {
    "duration": 33,
    "start_time": "2022-05-21T12:50:19.343Z"
   },
   {
    "duration": 200,
    "start_time": "2022-05-21T12:50:19.378Z"
   },
   {
    "duration": 244,
    "start_time": "2022-05-21T12:50:19.580Z"
   },
   {
    "duration": 19,
    "start_time": "2022-05-21T12:50:19.826Z"
   },
   {
    "duration": 352,
    "start_time": "2022-05-21T12:50:19.847Z"
   },
   {
    "duration": 13,
    "start_time": "2022-05-21T12:50:20.202Z"
   },
   {
    "duration": 38,
    "start_time": "2022-05-21T12:50:20.217Z"
   },
   {
    "duration": 55,
    "start_time": "2022-05-21T12:50:20.257Z"
   },
   {
    "duration": 31,
    "start_time": "2022-05-21T12:50:20.313Z"
   },
   {
    "duration": 7,
    "start_time": "2022-05-21T12:50:20.345Z"
   },
   {
    "duration": 15505,
    "start_time": "2022-05-21T12:50:20.354Z"
   },
   {
    "duration": 94,
    "start_time": "2022-05-21T12:50:35.860Z"
   },
   {
    "duration": 5,
    "start_time": "2022-05-21T12:50:35.955Z"
   },
   {
    "duration": 130,
    "start_time": "2022-05-21T12:50:35.962Z"
   },
   {
    "duration": 0,
    "start_time": "2022-05-21T12:50:36.094Z"
   },
   {
    "duration": 0,
    "start_time": "2022-05-21T12:50:36.095Z"
   },
   {
    "duration": 0,
    "start_time": "2022-05-21T12:50:36.096Z"
   },
   {
    "duration": 0,
    "start_time": "2022-05-21T12:50:36.097Z"
   },
   {
    "duration": 0,
    "start_time": "2022-05-21T12:50:36.098Z"
   },
   {
    "duration": 0,
    "start_time": "2022-05-21T12:50:36.099Z"
   },
   {
    "duration": 304059,
    "start_time": "2022-05-21T12:50:55.706Z"
   },
   {
    "duration": 576,
    "start_time": "2022-05-21T12:55:59.767Z"
   },
   {
    "duration": 7,
    "start_time": "2022-05-21T12:56:00.353Z"
   },
   {
    "duration": 24522,
    "start_time": "2022-05-21T12:56:00.362Z"
   },
   {
    "duration": 182,
    "start_time": "2022-05-21T12:56:24.886Z"
   },
   {
    "duration": 5,
    "start_time": "2022-05-21T12:56:25.069Z"
   },
   {
    "duration": 8,
    "start_time": "2022-05-21T12:56:25.075Z"
   },
   {
    "duration": 14,
    "start_time": "2022-05-21T13:06:32.955Z"
   },
   {
    "duration": 15,
    "start_time": "2022-05-21T13:18:35.167Z"
   },
   {
    "duration": 5,
    "start_time": "2022-05-21T13:18:40.268Z"
   },
   {
    "duration": 205,
    "start_time": "2022-05-21T13:18:42.631Z"
   },
   {
    "duration": 5,
    "start_time": "2022-05-21T13:18:49.085Z"
   },
   {
    "duration": 4,
    "start_time": "2022-05-21T13:18:53.376Z"
   },
   {
    "duration": 869647,
    "start_time": "2022-05-21T13:19:24.322Z"
   },
   {
    "duration": 91,
    "start_time": "2022-05-21T13:37:03.624Z"
   },
   {
    "duration": 6,
    "start_time": "2022-05-21T13:37:05.574Z"
   },
   {
    "duration": 10,
    "start_time": "2022-05-21T13:37:09.077Z"
   },
   {
    "duration": 10,
    "start_time": "2022-05-21T13:37:11.711Z"
   },
   {
    "duration": 9,
    "start_time": "2022-05-21T13:37:25.008Z"
   },
   {
    "duration": 46,
    "start_time": "2022-05-21T13:37:25.671Z"
   },
   {
    "duration": 18,
    "start_time": "2022-05-21T13:37:26.287Z"
   },
   {
    "duration": 6,
    "start_time": "2022-05-21T13:37:27.322Z"
   },
   {
    "duration": 7,
    "start_time": "2022-05-21T13:37:31.024Z"
   },
   {
    "duration": 8,
    "start_time": "2022-05-21T13:37:34.984Z"
   },
   {
    "duration": 91,
    "start_time": "2022-05-21T13:37:37.695Z"
   },
   {
    "duration": 8,
    "start_time": "2022-05-21T13:37:38.971Z"
   },
   {
    "duration": 5,
    "start_time": "2022-05-21T13:42:22.173Z"
   },
   {
    "duration": 1981,
    "start_time": "2022-05-21T13:42:23.468Z"
   },
   {
    "duration": 109,
    "start_time": "2022-05-21T13:42:28.165Z"
   },
   {
    "duration": 18,
    "start_time": "2022-05-21T13:42:31.921Z"
   },
   {
    "duration": 53,
    "start_time": "2022-05-21T13:42:32.498Z"
   },
   {
    "duration": 97,
    "start_time": "2022-05-21T13:42:34.425Z"
   },
   {
    "duration": 57,
    "start_time": "2022-05-21T13:42:37.067Z"
   },
   {
    "duration": 33,
    "start_time": "2022-05-21T13:42:38.584Z"
   },
   {
    "duration": 213,
    "start_time": "2022-05-21T13:42:40.472Z"
   },
   {
    "duration": 293,
    "start_time": "2022-05-21T13:42:42.392Z"
   },
   {
    "duration": 10,
    "start_time": "2022-05-21T13:42:44.504Z"
   },
   {
    "duration": 9,
    "start_time": "2022-05-21T13:42:47.130Z"
   },
   {
    "duration": 241,
    "start_time": "2022-05-21T13:43:18.466Z"
   },
   {
    "duration": 269,
    "start_time": "2022-05-21T13:43:22.822Z"
   },
   {
    "duration": 8,
    "start_time": "2022-05-21T13:43:50.502Z"
   },
   {
    "duration": 26,
    "start_time": "2022-05-21T13:43:55.502Z"
   },
   {
    "duration": 15,
    "start_time": "2022-05-21T13:44:29.915Z"
   },
   {
    "duration": 12,
    "start_time": "2022-05-21T13:44:35.685Z"
   },
   {
    "duration": 9,
    "start_time": "2022-05-21T13:44:43.131Z"
   },
   {
    "duration": 14,
    "start_time": "2022-05-21T13:44:47.314Z"
   },
   {
    "duration": 8,
    "start_time": "2022-05-21T13:44:50.627Z"
   },
   {
    "duration": 19,
    "start_time": "2022-05-21T13:44:54.481Z"
   },
   {
    "duration": 24,
    "start_time": "2022-05-21T13:45:02.067Z"
   },
   {
    "duration": 17,
    "start_time": "2022-05-21T13:45:06.713Z"
   },
   {
    "duration": 141,
    "start_time": "2022-05-21T13:45:41.896Z"
   },
   {
    "duration": 393,
    "start_time": "2022-05-21T13:46:15.007Z"
   },
   {
    "duration": 16,
    "start_time": "2022-05-21T13:46:16.102Z"
   },
   {
    "duration": 28,
    "start_time": "2022-05-21T13:46:28.509Z"
   },
   {
    "duration": 42,
    "start_time": "2022-05-21T13:46:29.189Z"
   },
   {
    "duration": 22,
    "start_time": "2022-05-21T13:46:29.798Z"
   },
   {
    "duration": 5,
    "start_time": "2022-05-21T13:46:30.389Z"
   },
   {
    "duration": 3,
    "start_time": "2022-05-21T13:46:32.173Z"
   },
   {
    "duration": 3,
    "start_time": "2022-05-21T13:46:34.189Z"
   },
   {
    "duration": 4,
    "start_time": "2022-05-21T13:46:36.478Z"
   },
   {
    "duration": 824361,
    "start_time": "2022-05-21T13:46:39.796Z"
   },
   {
    "duration": 10,
    "start_time": "2022-05-21T14:00:34.828Z"
   },
   {
    "duration": 10,
    "start_time": "2022-05-21T14:01:07.923Z"
   },
   {
    "duration": 8,
    "start_time": "2022-05-21T14:01:12.168Z"
   },
   {
    "duration": 118,
    "start_time": "2022-05-21T14:01:52.608Z"
   },
   {
    "duration": 8,
    "start_time": "2022-05-21T14:02:02.477Z"
   },
   {
    "duration": 4,
    "start_time": "2022-05-21T14:02:23.599Z"
   },
   {
    "duration": 2,
    "start_time": "2022-05-21T14:02:55.990Z"
   },
   {
    "duration": 1987375,
    "start_time": "2022-05-21T14:02:58.976Z"
   },
   {
    "duration": 15,
    "start_time": "2022-05-21T14:36:13.972Z"
   },
   {
    "duration": 6,
    "start_time": "2022-05-21T14:36:19.685Z"
   },
   {
    "duration": 292,
    "start_time": "2022-05-21T14:38:16.017Z"
   },
   {
    "duration": 266,
    "start_time": "2022-05-21T14:38:22.567Z"
   },
   {
    "duration": 278,
    "start_time": "2022-05-21T14:38:34.199Z"
   },
   {
    "duration": 331,
    "start_time": "2022-05-21T14:38:50.014Z"
   },
   {
    "duration": 1540,
    "start_time": "2022-05-21T14:40:40.812Z"
   },
   {
    "duration": 1177,
    "start_time": "2022-05-21T14:40:42.354Z"
   },
   {
    "duration": 120,
    "start_time": "2022-05-21T14:40:43.532Z"
   },
   {
    "duration": 36,
    "start_time": "2022-05-21T14:40:43.658Z"
   },
   {
    "duration": 56,
    "start_time": "2022-05-21T14:40:43.696Z"
   },
   {
    "duration": 98,
    "start_time": "2022-05-21T14:40:43.753Z"
   },
   {
    "duration": 32,
    "start_time": "2022-05-21T14:40:43.853Z"
   },
   {
    "duration": 45,
    "start_time": "2022-05-21T14:40:43.886Z"
   },
   {
    "duration": 54,
    "start_time": "2022-05-21T14:40:43.933Z"
   },
   {
    "duration": 242,
    "start_time": "2022-05-21T14:40:43.989Z"
   },
   {
    "duration": 312,
    "start_time": "2022-05-21T14:40:44.233Z"
   },
   {
    "duration": 26,
    "start_time": "2022-05-21T14:40:44.548Z"
   },
   {
    "duration": 302,
    "start_time": "2022-05-21T14:40:44.576Z"
   },
   {
    "duration": 30,
    "start_time": "2022-05-21T14:40:44.883Z"
   },
   {
    "duration": 394,
    "start_time": "2022-05-21T14:40:44.915Z"
   },
   {
    "duration": 14,
    "start_time": "2022-05-21T14:40:45.311Z"
   },
   {
    "duration": 42,
    "start_time": "2022-05-21T14:40:45.327Z"
   },
   {
    "duration": 46,
    "start_time": "2022-05-21T14:40:45.372Z"
   },
   {
    "duration": 30,
    "start_time": "2022-05-21T14:40:45.420Z"
   },
   {
    "duration": 7,
    "start_time": "2022-05-21T14:40:45.452Z"
   },
   {
    "duration": 28,
    "start_time": "2022-05-21T14:40:45.460Z"
   },
   {
    "duration": 5,
    "start_time": "2022-05-21T14:40:45.490Z"
   },
   {
    "duration": 5,
    "start_time": "2022-05-21T14:40:45.496Z"
   },
   {
    "duration": 176,
    "start_time": "2022-05-21T14:40:45.503Z"
   },
   {
    "duration": 206777,
    "start_time": "2022-05-21T14:40:45.682Z"
   },
   {
    "duration": 324,
    "start_time": "2022-05-21T14:44:12.461Z"
   },
   {
    "duration": 13,
    "start_time": "2022-05-21T14:44:12.787Z"
   },
   {
    "duration": 0,
    "start_time": "2022-05-21T14:44:12.802Z"
   },
   {
    "duration": 0,
    "start_time": "2022-05-21T14:44:12.804Z"
   },
   {
    "duration": 0,
    "start_time": "2022-05-21T14:44:12.805Z"
   },
   {
    "duration": 0,
    "start_time": "2022-05-21T14:44:12.806Z"
   },
   {
    "duration": 0,
    "start_time": "2022-05-21T14:44:12.808Z"
   },
   {
    "duration": 5,
    "start_time": "2022-05-21T14:45:14.967Z"
   },
   {
    "duration": 9,
    "start_time": "2022-05-21T14:45:15.664Z"
   },
   {
    "duration": 9,
    "start_time": "2022-05-21T14:45:36.865Z"
   },
   {
    "duration": 1457,
    "start_time": "2022-05-21T14:45:51.673Z"
   },
   {
    "duration": 1234,
    "start_time": "2022-05-21T14:45:53.133Z"
   },
   {
    "duration": 110,
    "start_time": "2022-05-21T14:45:54.371Z"
   },
   {
    "duration": 33,
    "start_time": "2022-05-21T14:45:54.485Z"
   },
   {
    "duration": 65,
    "start_time": "2022-05-21T14:45:54.520Z"
   },
   {
    "duration": 126,
    "start_time": "2022-05-21T14:45:54.587Z"
   },
   {
    "duration": 4,
    "start_time": "2022-05-21T14:45:54.715Z"
   },
   {
    "duration": 78,
    "start_time": "2022-05-21T14:45:54.721Z"
   },
   {
    "duration": 50,
    "start_time": "2022-05-21T14:45:54.801Z"
   },
   {
    "duration": 252,
    "start_time": "2022-05-21T14:45:54.855Z"
   },
   {
    "duration": 288,
    "start_time": "2022-05-21T14:45:55.109Z"
   },
   {
    "duration": 13,
    "start_time": "2022-05-21T14:45:55.399Z"
   },
   {
    "duration": 357,
    "start_time": "2022-05-21T14:45:55.414Z"
   },
   {
    "duration": 32,
    "start_time": "2022-05-21T14:45:55.773Z"
   },
   {
    "duration": 409,
    "start_time": "2022-05-21T14:45:55.809Z"
   },
   {
    "duration": 36,
    "start_time": "2022-05-21T14:45:56.220Z"
   },
   {
    "duration": 30,
    "start_time": "2022-05-21T14:45:56.258Z"
   },
   {
    "duration": 55,
    "start_time": "2022-05-21T14:45:56.290Z"
   },
   {
    "duration": 23,
    "start_time": "2022-05-21T14:45:56.354Z"
   },
   {
    "duration": 9,
    "start_time": "2022-05-21T14:45:56.379Z"
   },
   {
    "duration": 14,
    "start_time": "2022-05-21T14:45:56.390Z"
   },
   {
    "duration": 18,
    "start_time": "2022-05-21T14:45:56.406Z"
   },
   {
    "duration": 12,
    "start_time": "2022-05-21T14:45:56.426Z"
   },
   {
    "duration": 201811,
    "start_time": "2022-05-21T14:45:56.440Z"
   },
   {
    "duration": 4731893,
    "start_time": "2022-05-21T14:49:18.253Z"
   },
   {
    "duration": 178,
    "start_time": "2022-05-21T16:08:10.148Z"
   },
   {
    "duration": 13,
    "start_time": "2022-05-21T16:08:10.328Z"
   },
   {
    "duration": 0,
    "start_time": "2022-05-21T16:08:10.343Z"
   },
   {
    "duration": 0,
    "start_time": "2022-05-21T16:08:10.344Z"
   },
   {
    "duration": 0,
    "start_time": "2022-05-21T16:08:10.345Z"
   },
   {
    "duration": 0,
    "start_time": "2022-05-21T16:08:10.346Z"
   },
   {
    "duration": 0,
    "start_time": "2022-05-21T16:08:10.347Z"
   },
   {
    "duration": 4,
    "start_time": "2022-05-21T16:12:37.728Z"
   },
   {
    "duration": 69,
    "start_time": "2022-05-21T16:12:52.832Z"
   },
   {
    "duration": 51,
    "start_time": "2022-05-21T16:12:59.264Z"
   },
   {
    "duration": 4,
    "start_time": "2022-05-21T16:13:18.815Z"
   },
   {
    "duration": 55,
    "start_time": "2022-05-21T16:13:24.978Z"
   },
   {
    "duration": 5,
    "start_time": "2022-05-21T16:13:53.828Z"
   },
   {
    "duration": 59,
    "start_time": "2022-05-21T16:13:57.398Z"
   },
   {
    "duration": 4,
    "start_time": "2022-05-21T16:14:14.768Z"
   },
   {
    "duration": 52,
    "start_time": "2022-05-21T16:14:20.561Z"
   },
   {
    "duration": 4,
    "start_time": "2022-05-21T16:15:15.529Z"
   },
   {
    "duration": 3,
    "start_time": "2022-05-21T16:15:19.058Z"
   },
   {
    "duration": 22978,
    "start_time": "2022-05-21T16:15:21.772Z"
   },
   {
    "duration": 32639,
    "start_time": "2022-05-21T16:16:39.487Z"
   },
   {
    "duration": 10,
    "start_time": "2022-05-21T16:17:24.013Z"
   },
   {
    "duration": 10,
    "start_time": "2022-05-21T16:21:12.067Z"
   },
   {
    "duration": 6,
    "start_time": "2022-05-21T16:21:49.202Z"
   },
   {
    "duration": 4,
    "start_time": "2022-05-21T16:21:54.432Z"
   },
   {
    "duration": 21,
    "start_time": "2022-05-21T16:22:00.577Z"
   },
   {
    "duration": 95,
    "start_time": "2022-05-21T16:22:43.057Z"
   },
   {
    "duration": 6,
    "start_time": "2022-05-21T16:22:46.976Z"
   },
   {
    "duration": 5,
    "start_time": "2022-05-21T16:23:03.311Z"
   },
   {
    "duration": 87,
    "start_time": "2022-05-21T16:23:05.310Z"
   },
   {
    "duration": 21,
    "start_time": "2022-05-21T16:23:07.094Z"
   },
   {
    "duration": 4,
    "start_time": "2022-05-21T16:23:24.606Z"
   },
   {
    "duration": 17391,
    "start_time": "2022-05-21T16:23:49.533Z"
   },
   {
    "duration": 3,
    "start_time": "2022-05-21T16:24:13.812Z"
   },
   {
    "duration": 15,
    "start_time": "2022-05-21T16:24:16.619Z"
   },
   {
    "duration": 6,
    "start_time": "2022-05-21T16:24:18.506Z"
   },
   {
    "duration": 7,
    "start_time": "2022-05-21T16:24:23.227Z"
   },
   {
    "duration": 15,
    "start_time": "2022-05-21T16:24:26.261Z"
   },
   {
    "duration": 4,
    "start_time": "2022-05-21T16:24:27.834Z"
   },
   {
    "duration": 4,
    "start_time": "2022-05-21T16:24:50.209Z"
   },
   {
    "duration": 3,
    "start_time": "2022-05-21T16:24:52.497Z"
   },
   {
    "duration": 64,
    "start_time": "2022-05-21T16:24:56.421Z"
   },
   {
    "duration": 5,
    "start_time": "2022-05-21T16:25:13.240Z"
   },
   {
    "duration": 3,
    "start_time": "2022-05-21T16:25:15.121Z"
   },
   {
    "duration": 32340,
    "start_time": "2022-05-21T16:25:19.090Z"
   },
   {
    "duration": 3,
    "start_time": "2022-05-21T16:26:02.223Z"
   },
   {
    "duration": 83,
    "start_time": "2022-05-21T16:26:06.710Z"
   },
   {
    "duration": 5,
    "start_time": "2022-05-21T16:26:08.862Z"
   },
   {
    "duration": 7,
    "start_time": "2022-05-21T16:26:11.942Z"
   },
   {
    "duration": 87,
    "start_time": "2022-05-21T16:26:14.926Z"
   },
   {
    "duration": 5,
    "start_time": "2022-05-21T16:26:17.129Z"
   },
   {
    "duration": 4,
    "start_time": "2022-05-21T16:26:37.357Z"
   },
   {
    "duration": 4,
    "start_time": "2022-05-21T16:26:39.983Z"
   },
   {
    "duration": 45919,
    "start_time": "2022-05-21T16:26:42.061Z"
   },
   {
    "duration": 4,
    "start_time": "2022-05-21T16:28:01.681Z"
   },
   {
    "duration": 97,
    "start_time": "2022-05-21T16:28:03.745Z"
   },
   {
    "duration": 4,
    "start_time": "2022-05-21T16:28:04.373Z"
   },
   {
    "duration": 7,
    "start_time": "2022-05-21T16:28:08.273Z"
   },
   {
    "duration": 97,
    "start_time": "2022-05-21T16:28:09.785Z"
   },
   {
    "duration": 5,
    "start_time": "2022-05-21T16:28:10.682Z"
   },
   {
    "duration": 5,
    "start_time": "2022-05-21T16:28:45.277Z"
   },
   {
    "duration": 4,
    "start_time": "2022-05-21T16:28:47.282Z"
   },
   {
    "duration": 7756,
    "start_time": "2022-05-21T16:30:21.482Z"
   },
   {
    "duration": 250394,
    "start_time": "2022-05-21T16:30:31.882Z"
   },
   {
    "duration": 1380,
    "start_time": "2022-05-21T16:34:50.702Z"
   },
   {
    "duration": 995,
    "start_time": "2022-05-21T16:34:52.085Z"
   },
   {
    "duration": 121,
    "start_time": "2022-05-21T16:34:53.082Z"
   },
   {
    "duration": 482,
    "start_time": "2022-05-21T16:34:53.205Z"
   },
   {
    "duration": 26,
    "start_time": "2022-05-21T16:34:53.689Z"
   },
   {
    "duration": 60,
    "start_time": "2022-05-21T16:34:53.717Z"
   },
   {
    "duration": 88,
    "start_time": "2022-05-21T16:34:53.778Z"
   },
   {
    "duration": 2,
    "start_time": "2022-05-21T16:34:53.868Z"
   },
   {
    "duration": 72,
    "start_time": "2022-05-21T16:34:53.872Z"
   },
   {
    "duration": 200,
    "start_time": "2022-05-21T16:34:53.947Z"
   },
   {
    "duration": 252,
    "start_time": "2022-05-21T16:34:54.149Z"
   },
   {
    "duration": 12,
    "start_time": "2022-05-21T16:34:54.402Z"
   },
   {
    "duration": 3,
    "start_time": "2022-05-21T16:34:54.415Z"
   },
   {
    "duration": 252,
    "start_time": "2022-05-21T16:34:54.420Z"
   },
   {
    "duration": 28,
    "start_time": "2022-05-21T16:34:54.674Z"
   },
   {
    "duration": 396,
    "start_time": "2022-05-21T16:34:54.704Z"
   },
   {
    "duration": 21,
    "start_time": "2022-05-21T16:34:55.101Z"
   },
   {
    "duration": 43,
    "start_time": "2022-05-21T16:34:55.123Z"
   },
   {
    "duration": 48,
    "start_time": "2022-05-21T16:34:55.169Z"
   },
   {
    "duration": 38,
    "start_time": "2022-05-21T16:34:55.218Z"
   },
   {
    "duration": 7,
    "start_time": "2022-05-21T16:34:55.257Z"
   },
   {
    "duration": 5,
    "start_time": "2022-05-21T16:34:55.265Z"
   },
   {
    "duration": 5,
    "start_time": "2022-05-21T16:34:55.272Z"
   },
   {
    "duration": 4,
    "start_time": "2022-05-21T16:34:55.278Z"
   },
   {
    "duration": 58954,
    "start_time": "2022-05-21T16:34:55.284Z"
   },
   {
    "duration": 3,
    "start_time": "2022-05-21T16:35:54.239Z"
   },
   {
    "duration": 970494,
    "start_time": "2022-05-21T16:35:54.244Z"
   },
   {
    "duration": 5,
    "start_time": "2022-05-21T16:52:04.741Z"
   },
   {
    "duration": 856,
    "start_time": "2022-05-21T16:52:04.748Z"
   },
   {
    "duration": 7,
    "start_time": "2022-05-21T16:52:05.606Z"
   },
   {
    "duration": 7,
    "start_time": "2022-05-21T16:52:05.614Z"
   },
   {
    "duration": 786,
    "start_time": "2022-05-21T16:52:05.622Z"
   },
   {
    "duration": 136,
    "start_time": "2022-05-21T16:52:06.410Z"
   },
   {
    "duration": 6,
    "start_time": "2022-05-21T16:52:43.851Z"
   },
   {
    "duration": 1615,
    "start_time": "2022-05-21T16:54:03.033Z"
   },
   {
    "duration": 1030,
    "start_time": "2022-05-21T16:54:04.649Z"
   },
   {
    "duration": 116,
    "start_time": "2022-05-21T16:54:05.680Z"
   },
   {
    "duration": 502,
    "start_time": "2022-05-21T16:54:05.799Z"
   },
   {
    "duration": 37,
    "start_time": "2022-05-21T16:54:06.304Z"
   },
   {
    "duration": 51,
    "start_time": "2022-05-21T16:54:06.343Z"
   },
   {
    "duration": 98,
    "start_time": "2022-05-21T16:54:06.395Z"
   },
   {
    "duration": 3,
    "start_time": "2022-05-21T16:54:06.496Z"
   },
   {
    "duration": 82,
    "start_time": "2022-05-21T16:54:06.501Z"
   },
   {
    "duration": 198,
    "start_time": "2022-05-21T16:54:06.585Z"
   },
   {
    "duration": 340,
    "start_time": "2022-05-21T16:54:06.785Z"
   },
   {
    "duration": 19,
    "start_time": "2022-05-21T16:54:07.127Z"
   },
   {
    "duration": 2,
    "start_time": "2022-05-21T16:54:07.149Z"
   },
   {
    "duration": 281,
    "start_time": "2022-05-21T16:54:07.153Z"
   },
   {
    "duration": 35,
    "start_time": "2022-05-21T16:54:07.436Z"
   },
   {
    "duration": 363,
    "start_time": "2022-05-21T16:54:07.473Z"
   },
   {
    "duration": 14,
    "start_time": "2022-05-21T16:54:07.838Z"
   },
   {
    "duration": 32,
    "start_time": "2022-05-21T16:54:07.854Z"
   },
   {
    "duration": 61,
    "start_time": "2022-05-21T16:54:07.888Z"
   },
   {
    "duration": 23,
    "start_time": "2022-05-21T16:54:07.951Z"
   },
   {
    "duration": 6,
    "start_time": "2022-05-21T16:54:07.976Z"
   },
   {
    "duration": 6,
    "start_time": "2022-05-21T16:54:07.984Z"
   },
   {
    "duration": 6,
    "start_time": "2022-05-21T16:54:07.992Z"
   },
   {
    "duration": 7,
    "start_time": "2022-05-21T16:54:07.999Z"
   },
   {
    "duration": 58125,
    "start_time": "2022-05-21T16:54:08.007Z"
   },
   {
    "duration": 8,
    "start_time": "2022-05-21T16:55:06.134Z"
   },
   {
    "duration": 488448,
    "start_time": "2022-05-21T16:55:06.143Z"
   },
   {
    "duration": 5,
    "start_time": "2022-05-21T17:03:14.594Z"
   },
   {
    "duration": 451,
    "start_time": "2022-05-21T17:03:14.600Z"
   },
   {
    "duration": 5,
    "start_time": "2022-05-21T17:03:15.053Z"
   },
   {
    "duration": 8,
    "start_time": "2022-05-21T17:03:15.059Z"
   },
   {
    "duration": 458,
    "start_time": "2022-05-21T17:03:15.068Z"
   },
   {
    "duration": 15,
    "start_time": "2022-05-21T17:03:15.527Z"
   },
   {
    "duration": 4,
    "start_time": "2022-05-21T17:21:47.534Z"
   },
   {
    "duration": 967,
    "start_time": "2022-05-21T17:21:49.267Z"
   },
   {
    "duration": 94,
    "start_time": "2022-05-21T17:21:52.789Z"
   },
   {
    "duration": 422,
    "start_time": "2022-05-21T17:21:54.176Z"
   },
   {
    "duration": 482,
    "start_time": "2022-05-21T17:21:59.686Z"
   },
   {
    "duration": 19,
    "start_time": "2022-05-21T17:22:04.020Z"
   },
   {
    "duration": 26,
    "start_time": "2022-05-21T17:22:04.933Z"
   },
   {
    "duration": 139,
    "start_time": "2022-05-21T17:22:06.813Z"
   },
   {
    "duration": 40,
    "start_time": "2022-05-21T17:22:09.677Z"
   },
   {
    "duration": 188,
    "start_time": "2022-05-21T17:22:11.572Z"
   },
   {
    "duration": 13,
    "start_time": "2022-05-21T17:22:15.348Z"
   },
   {
    "duration": 23,
    "start_time": "2022-05-21T17:22:24.267Z"
   },
   {
    "duration": 331,
    "start_time": "2022-05-21T17:22:25.940Z"
   },
   {
    "duration": 25,
    "start_time": "2022-05-21T17:22:26.969Z"
   },
   {
    "duration": 26,
    "start_time": "2022-05-21T17:22:29.195Z"
   },
   {
    "duration": 46,
    "start_time": "2022-05-21T17:22:29.995Z"
   },
   {
    "duration": 18,
    "start_time": "2022-05-21T17:22:30.789Z"
   },
   {
    "duration": 5,
    "start_time": "2022-05-21T17:22:32.507Z"
   },
   {
    "duration": 3,
    "start_time": "2022-05-21T17:22:36.484Z"
   },
   {
    "duration": 5,
    "start_time": "2022-05-21T17:22:40.787Z"
   },
   {
    "duration": 5,
    "start_time": "2022-05-21T17:22:47.251Z"
   },
   {
    "duration": 1442,
    "start_time": "2022-05-21T17:23:43.282Z"
   },
   {
    "duration": 1040,
    "start_time": "2022-05-21T17:23:44.726Z"
   },
   {
    "duration": 117,
    "start_time": "2022-05-21T17:23:45.768Z"
   },
   {
    "duration": 499,
    "start_time": "2022-05-21T17:23:45.886Z"
   },
   {
    "duration": 27,
    "start_time": "2022-05-21T17:23:46.388Z"
   },
   {
    "duration": 64,
    "start_time": "2022-05-21T17:23:46.417Z"
   },
   {
    "duration": 81,
    "start_time": "2022-05-21T17:23:46.483Z"
   },
   {
    "duration": 3,
    "start_time": "2022-05-21T17:23:46.565Z"
   },
   {
    "duration": 71,
    "start_time": "2022-05-21T17:23:46.570Z"
   },
   {
    "duration": 249,
    "start_time": "2022-05-21T17:23:46.644Z"
   },
   {
    "duration": 317,
    "start_time": "2022-05-21T17:23:46.895Z"
   },
   {
    "duration": 11,
    "start_time": "2022-05-21T17:23:47.214Z"
   },
   {
    "duration": 2,
    "start_time": "2022-05-21T17:23:47.227Z"
   },
   {
    "duration": 254,
    "start_time": "2022-05-21T17:23:47.243Z"
   },
   {
    "duration": 23,
    "start_time": "2022-05-21T17:23:47.498Z"
   },
   {
    "duration": 335,
    "start_time": "2022-05-21T17:23:47.523Z"
   },
   {
    "duration": 13,
    "start_time": "2022-05-21T17:23:47.860Z"
   },
   {
    "duration": 24,
    "start_time": "2022-05-21T17:23:47.875Z"
   },
   {
    "duration": 63,
    "start_time": "2022-05-21T17:23:47.900Z"
   },
   {
    "duration": 19,
    "start_time": "2022-05-21T17:23:47.965Z"
   },
   {
    "duration": 5,
    "start_time": "2022-05-21T17:23:47.985Z"
   },
   {
    "duration": 6,
    "start_time": "2022-05-21T17:23:47.992Z"
   },
   {
    "duration": 5,
    "start_time": "2022-05-21T17:23:47.999Z"
   },
   {
    "duration": 37,
    "start_time": "2022-05-21T17:23:48.006Z"
   },
   {
    "duration": 163,
    "start_time": "2022-05-21T17:23:48.045Z"
   },
   {
    "duration": 69096,
    "start_time": "2022-05-21T17:23:48.210Z"
   },
   {
    "duration": 10616,
    "start_time": "2022-05-21T17:24:57.308Z"
   },
   {
    "duration": 1380,
    "start_time": "2022-05-21T17:25:10.668Z"
   },
   {
    "duration": 995,
    "start_time": "2022-05-21T17:25:12.051Z"
   },
   {
    "duration": 118,
    "start_time": "2022-05-21T17:25:13.048Z"
   },
   {
    "duration": 509,
    "start_time": "2022-05-21T17:25:13.167Z"
   },
   {
    "duration": 28,
    "start_time": "2022-05-21T17:25:13.678Z"
   },
   {
    "duration": 58,
    "start_time": "2022-05-21T17:25:13.707Z"
   },
   {
    "duration": 88,
    "start_time": "2022-05-21T17:25:13.766Z"
   },
   {
    "duration": 3,
    "start_time": "2022-05-21T17:25:13.855Z"
   },
   {
    "duration": 50,
    "start_time": "2022-05-21T17:25:13.859Z"
   },
   {
    "duration": 196,
    "start_time": "2022-05-21T17:25:13.910Z"
   },
   {
    "duration": 254,
    "start_time": "2022-05-21T17:25:14.108Z"
   },
   {
    "duration": 12,
    "start_time": "2022-05-21T17:25:14.364Z"
   },
   {
    "duration": 9,
    "start_time": "2022-05-21T17:25:14.378Z"
   },
   {
    "duration": 242,
    "start_time": "2022-05-21T17:25:14.389Z"
   },
   {
    "duration": 24,
    "start_time": "2022-05-21T17:25:14.632Z"
   },
   {
    "duration": 316,
    "start_time": "2022-05-21T17:25:14.658Z"
   },
   {
    "duration": 12,
    "start_time": "2022-05-21T17:25:14.976Z"
   },
   {
    "duration": 28,
    "start_time": "2022-05-21T17:25:14.990Z"
   },
   {
    "duration": 59,
    "start_time": "2022-05-21T17:25:15.020Z"
   },
   {
    "duration": 19,
    "start_time": "2022-05-21T17:25:15.081Z"
   },
   {
    "duration": 13,
    "start_time": "2022-05-21T17:25:15.101Z"
   },
   {
    "duration": 14,
    "start_time": "2022-05-21T17:25:15.116Z"
   },
   {
    "duration": 15,
    "start_time": "2022-05-21T17:25:15.132Z"
   },
   {
    "duration": 7,
    "start_time": "2022-05-21T17:25:15.148Z"
   },
   {
    "duration": 98503,
    "start_time": "2022-05-21T17:25:15.157Z"
   },
   {
    "duration": 1277912,
    "start_time": "2022-05-21T17:26:53.661Z"
   },
   {
    "duration": 63969,
    "start_time": "2022-05-21T17:48:11.575Z"
   },
   {
    "duration": 375378,
    "start_time": "2022-05-21T17:49:15.546Z"
   },
   {
    "duration": 15,
    "start_time": "2022-05-21T17:55:30.926Z"
   },
   {
    "duration": 1082,
    "start_time": "2022-05-21T17:55:30.942Z"
   },
   {
    "duration": 18,
    "start_time": "2022-05-21T17:55:32.026Z"
   },
   {
    "duration": 7,
    "start_time": "2022-05-21T17:55:32.047Z"
   },
   {
    "duration": 1045,
    "start_time": "2022-05-21T17:55:32.056Z"
   },
   {
    "duration": 10,
    "start_time": "2022-05-21T17:55:33.103Z"
   },
   {
    "duration": 1322,
    "start_time": "2022-05-21T18:00:27.789Z"
   },
   {
    "duration": 1010,
    "start_time": "2022-05-21T18:00:29.113Z"
   },
   {
    "duration": 104,
    "start_time": "2022-05-21T18:00:30.124Z"
   },
   {
    "duration": 493,
    "start_time": "2022-05-21T18:00:30.229Z"
   },
   {
    "duration": 31,
    "start_time": "2022-05-21T18:00:30.723Z"
   },
   {
    "duration": 48,
    "start_time": "2022-05-21T18:00:30.756Z"
   },
   {
    "duration": 91,
    "start_time": "2022-05-21T18:00:30.806Z"
   },
   {
    "duration": 2,
    "start_time": "2022-05-21T18:00:30.898Z"
   },
   {
    "duration": 51,
    "start_time": "2022-05-21T18:00:30.902Z"
   },
   {
    "duration": 200,
    "start_time": "2022-05-21T18:00:30.956Z"
   },
   {
    "duration": 242,
    "start_time": "2022-05-21T18:00:31.158Z"
   },
   {
    "duration": 11,
    "start_time": "2022-05-21T18:00:31.401Z"
   },
   {
    "duration": 20,
    "start_time": "2022-05-21T18:00:31.414Z"
   },
   {
    "duration": 224,
    "start_time": "2022-05-21T18:00:31.436Z"
   },
   {
    "duration": 23,
    "start_time": "2022-05-21T18:00:31.663Z"
   },
   {
    "duration": 335,
    "start_time": "2022-05-21T18:00:31.688Z"
   },
   {
    "duration": 17,
    "start_time": "2022-05-21T18:00:32.025Z"
   },
   {
    "duration": 25,
    "start_time": "2022-05-21T18:00:32.044Z"
   },
   {
    "duration": 43,
    "start_time": "2022-05-21T18:00:32.071Z"
   },
   {
    "duration": 39,
    "start_time": "2022-05-21T18:00:32.116Z"
   },
   {
    "duration": 5,
    "start_time": "2022-05-21T18:00:32.157Z"
   },
   {
    "duration": 9,
    "start_time": "2022-05-21T18:00:32.164Z"
   },
   {
    "duration": 5,
    "start_time": "2022-05-21T18:00:32.175Z"
   },
   {
    "duration": 13,
    "start_time": "2022-05-21T18:00:32.182Z"
   },
   {
    "duration": 37293,
    "start_time": "2022-05-21T18:00:32.197Z"
   },
   {
    "duration": 236150,
    "start_time": "2022-05-21T18:01:09.492Z"
   },
   {
    "duration": 27407,
    "start_time": "2022-05-21T18:05:05.644Z"
   },
   {
    "duration": 20735,
    "start_time": "2022-05-21T18:05:33.053Z"
   },
   {
    "duration": 8,
    "start_time": "2022-05-21T18:05:53.789Z"
   },
   {
    "duration": 821,
    "start_time": "2022-05-21T18:05:53.799Z"
   },
   {
    "duration": 19,
    "start_time": "2022-05-21T18:05:54.622Z"
   },
   {
    "duration": 6,
    "start_time": "2022-05-21T18:05:54.643Z"
   },
   {
    "duration": 867,
    "start_time": "2022-05-21T18:05:54.650Z"
   },
   {
    "duration": 9,
    "start_time": "2022-05-21T18:05:55.519Z"
   },
   {
    "duration": 5,
    "start_time": "2022-05-21T18:05:55.540Z"
   },
   {
    "duration": 7,
    "start_time": "2022-05-21T18:05:55.546Z"
   },
   {
    "duration": 1360,
    "start_time": "2022-05-21T18:08:18.080Z"
   },
   {
    "duration": 1036,
    "start_time": "2022-05-21T18:08:19.443Z"
   },
   {
    "duration": 110,
    "start_time": "2022-05-21T18:08:20.483Z"
   },
   {
    "duration": 488,
    "start_time": "2022-05-21T18:08:20.595Z"
   },
   {
    "duration": 28,
    "start_time": "2022-05-21T18:08:21.084Z"
   },
   {
    "duration": 62,
    "start_time": "2022-05-21T18:08:21.114Z"
   },
   {
    "duration": 83,
    "start_time": "2022-05-21T18:08:21.178Z"
   },
   {
    "duration": 3,
    "start_time": "2022-05-21T18:08:21.262Z"
   },
   {
    "duration": 40,
    "start_time": "2022-05-21T18:08:21.266Z"
   },
   {
    "duration": 204,
    "start_time": "2022-05-21T18:08:21.307Z"
   },
   {
    "duration": 240,
    "start_time": "2022-05-21T18:08:21.512Z"
   },
   {
    "duration": 11,
    "start_time": "2022-05-21T18:08:21.754Z"
   },
   {
    "duration": 2,
    "start_time": "2022-05-21T18:08:21.768Z"
   },
   {
    "duration": 243,
    "start_time": "2022-05-21T18:08:21.772Z"
   },
   {
    "duration": 34,
    "start_time": "2022-05-21T18:08:22.017Z"
   },
   {
    "duration": 307,
    "start_time": "2022-05-21T18:08:22.053Z"
   },
   {
    "duration": 14,
    "start_time": "2022-05-21T18:08:22.362Z"
   },
   {
    "duration": 27,
    "start_time": "2022-05-21T18:08:22.378Z"
   },
   {
    "duration": 58,
    "start_time": "2022-05-21T18:08:22.407Z"
   },
   {
    "duration": 18,
    "start_time": "2022-05-21T18:08:22.467Z"
   },
   {
    "duration": 5,
    "start_time": "2022-05-21T18:08:22.486Z"
   },
   {
    "duration": 5,
    "start_time": "2022-05-21T18:08:22.493Z"
   },
   {
    "duration": 7,
    "start_time": "2022-05-21T18:08:22.500Z"
   },
   {
    "duration": 5,
    "start_time": "2022-05-21T18:08:22.508Z"
   },
   {
    "duration": 37489,
    "start_time": "2022-05-21T18:08:22.514Z"
   },
   {
    "duration": 171421,
    "start_time": "2022-05-21T18:09:00.005Z"
   },
   {
    "duration": 2279,
    "start_time": "2022-05-21T18:11:51.428Z"
   },
   {
    "duration": 1173,
    "start_time": "2022-05-21T18:12:02.669Z"
   },
   {
    "duration": 969,
    "start_time": "2022-05-21T18:12:03.844Z"
   },
   {
    "duration": 102,
    "start_time": "2022-05-21T18:12:04.815Z"
   },
   {
    "duration": 491,
    "start_time": "2022-05-21T18:12:04.918Z"
   },
   {
    "duration": 33,
    "start_time": "2022-05-21T18:12:05.410Z"
   },
   {
    "duration": 48,
    "start_time": "2022-05-21T18:12:05.445Z"
   },
   {
    "duration": 95,
    "start_time": "2022-05-21T18:12:05.494Z"
   },
   {
    "duration": 2,
    "start_time": "2022-05-21T18:12:05.591Z"
   },
   {
    "duration": 52,
    "start_time": "2022-05-21T18:12:05.595Z"
   },
   {
    "duration": 197,
    "start_time": "2022-05-21T18:12:05.650Z"
   },
   {
    "duration": 471,
    "start_time": "2022-05-21T18:12:05.849Z"
   },
   {
    "duration": 19,
    "start_time": "2022-05-21T18:12:06.322Z"
   },
   {
    "duration": 3,
    "start_time": "2022-05-21T18:12:06.342Z"
   },
   {
    "duration": 229,
    "start_time": "2022-05-21T18:12:06.347Z"
   },
   {
    "duration": 23,
    "start_time": "2022-05-21T18:12:06.578Z"
   },
   {
    "duration": 355,
    "start_time": "2022-05-21T18:12:06.602Z"
   },
   {
    "duration": 17,
    "start_time": "2022-05-21T18:12:06.959Z"
   },
   {
    "duration": 27,
    "start_time": "2022-05-21T18:12:06.978Z"
   },
   {
    "duration": 77,
    "start_time": "2022-05-21T18:12:07.008Z"
   },
   {
    "duration": 23,
    "start_time": "2022-05-21T18:12:07.088Z"
   },
   {
    "duration": 6,
    "start_time": "2022-05-21T18:12:07.113Z"
   },
   {
    "duration": 9,
    "start_time": "2022-05-21T18:12:07.121Z"
   },
   {
    "duration": 7,
    "start_time": "2022-05-21T18:12:07.140Z"
   },
   {
    "duration": 13,
    "start_time": "2022-05-21T18:12:07.149Z"
   },
   {
    "duration": 31271,
    "start_time": "2022-05-21T18:12:07.169Z"
   },
   {
    "duration": 673863,
    "start_time": "2022-05-21T18:12:38.442Z"
   },
   {
    "duration": 379046,
    "start_time": "2022-05-21T18:23:52.307Z"
   },
   {
    "duration": 524618,
    "start_time": "2022-05-21T18:30:11.357Z"
   },
   {
    "duration": 9,
    "start_time": "2022-05-21T18:38:55.976Z"
   },
   {
    "duration": 1710,
    "start_time": "2022-05-21T18:38:55.987Z"
   },
   {
    "duration": 9,
    "start_time": "2022-05-21T18:38:57.699Z"
   },
   {
    "duration": 7,
    "start_time": "2022-05-21T18:38:57.709Z"
   },
   {
    "duration": 1642,
    "start_time": "2022-05-21T18:38:57.717Z"
   },
   {
    "duration": 9,
    "start_time": "2022-05-21T18:38:59.361Z"
   },
   {
    "duration": 6,
    "start_time": "2022-05-21T18:38:59.372Z"
   },
   {
    "duration": 11,
    "start_time": "2022-05-21T18:38:59.380Z"
   },
   {
    "duration": 1307,
    "start_time": "2022-05-22T03:25:07.323Z"
   },
   {
    "duration": 1150,
    "start_time": "2022-05-22T03:25:09.807Z"
   },
   {
    "duration": 130,
    "start_time": "2022-05-22T03:25:21.870Z"
   },
   {
    "duration": 29,
    "start_time": "2022-05-22T03:25:28.871Z"
   },
   {
    "duration": 353,
    "start_time": "2022-05-22T03:26:09.740Z"
   },
   {
    "duration": 424,
    "start_time": "2022-05-22T03:26:31.091Z"
   },
   {
    "duration": 5,
    "start_time": "2022-05-22T03:26:37.467Z"
   },
   {
    "duration": 890,
    "start_time": "2022-05-22T03:26:39.451Z"
   },
   {
    "duration": 129,
    "start_time": "2022-05-22T03:26:43.243Z"
   },
   {
    "duration": 453,
    "start_time": "2022-05-22T03:26:45.226Z"
   },
   {
    "duration": 22,
    "start_time": "2022-05-22T03:26:48.594Z"
   },
   {
    "duration": 46,
    "start_time": "2022-05-22T03:26:49.618Z"
   },
   {
    "duration": 183,
    "start_time": "2022-05-22T03:26:51.514Z"
   },
   {
    "duration": 48,
    "start_time": "2022-05-22T03:26:54.290Z"
   },
   {
    "duration": 209,
    "start_time": "2022-05-22T03:27:14.344Z"
   },
   {
    "duration": 4,
    "start_time": "2022-05-22T03:27:18.984Z"
   },
   {
    "duration": 889,
    "start_time": "2022-05-22T03:27:20.593Z"
   },
   {
    "duration": 25,
    "start_time": "2022-05-22T03:27:26.369Z"
   },
   {
    "duration": 50,
    "start_time": "2022-05-22T03:27:27.288Z"
   },
   {
    "duration": 39,
    "start_time": "2022-05-22T03:27:31.664Z"
   },
   {
    "duration": 38,
    "start_time": "2022-05-22T03:27:39.224Z"
   },
   {
    "duration": 39,
    "start_time": "2022-05-22T03:27:40.744Z"
   },
   {
    "duration": 36,
    "start_time": "2022-05-22T03:27:42.192Z"
   },
   {
    "duration": 36,
    "start_time": "2022-05-22T03:27:44.119Z"
   },
   {
    "duration": 37,
    "start_time": "2022-05-22T03:27:45.712Z"
   },
   {
    "duration": 42,
    "start_time": "2022-05-22T03:27:46.287Z"
   },
   {
    "duration": 31,
    "start_time": "2022-05-22T03:27:49.167Z"
   },
   {
    "duration": 30,
    "start_time": "2022-05-22T03:27:49.887Z"
   },
   {
    "duration": 31,
    "start_time": "2022-05-22T03:27:50.463Z"
   },
   {
    "duration": 32,
    "start_time": "2022-05-22T03:27:51.103Z"
   },
   {
    "duration": 32,
    "start_time": "2022-05-22T03:27:51.959Z"
   },
   {
    "duration": 31,
    "start_time": "2022-05-22T03:27:52.576Z"
   },
   {
    "duration": 31,
    "start_time": "2022-05-22T03:27:53.207Z"
   },
   {
    "duration": 1161,
    "start_time": "2022-05-22T03:33:09.530Z"
   },
   {
    "duration": 901,
    "start_time": "2022-05-22T03:33:10.694Z"
   },
   {
    "duration": 103,
    "start_time": "2022-05-22T03:33:11.597Z"
   },
   {
    "duration": 462,
    "start_time": "2022-05-22T03:33:11.702Z"
   },
   {
    "duration": 26,
    "start_time": "2022-05-22T03:33:12.166Z"
   },
   {
    "duration": 59,
    "start_time": "2022-05-22T03:33:12.194Z"
   },
   {
    "duration": 82,
    "start_time": "2022-05-22T03:33:12.255Z"
   },
   {
    "duration": 8,
    "start_time": "2022-05-22T03:33:12.338Z"
   },
   {
    "duration": 9,
    "start_time": "2022-05-22T03:33:12.347Z"
   },
   {
    "duration": 165,
    "start_time": "2022-05-22T03:33:12.357Z"
   },
   {
    "duration": 603,
    "start_time": "2022-05-22T03:33:12.523Z"
   },
   {
    "duration": 2,
    "start_time": "2022-05-22T03:33:13.128Z"
   },
   {
    "duration": 134,
    "start_time": "2022-05-22T03:33:13.132Z"
   },
   {
    "duration": 0,
    "start_time": "2022-05-22T03:33:13.268Z"
   },
   {
    "duration": 0,
    "start_time": "2022-05-22T03:33:13.269Z"
   },
   {
    "duration": 0,
    "start_time": "2022-05-22T03:33:13.270Z"
   },
   {
    "duration": 0,
    "start_time": "2022-05-22T03:33:13.271Z"
   },
   {
    "duration": 0,
    "start_time": "2022-05-22T03:33:13.272Z"
   },
   {
    "duration": 0,
    "start_time": "2022-05-22T03:33:13.273Z"
   },
   {
    "duration": 0,
    "start_time": "2022-05-22T03:33:13.275Z"
   },
   {
    "duration": 0,
    "start_time": "2022-05-22T03:33:13.276Z"
   },
   {
    "duration": 0,
    "start_time": "2022-05-22T03:33:13.277Z"
   },
   {
    "duration": 0,
    "start_time": "2022-05-22T03:33:13.278Z"
   },
   {
    "duration": 0,
    "start_time": "2022-05-22T03:33:13.279Z"
   },
   {
    "duration": 0,
    "start_time": "2022-05-22T03:33:13.280Z"
   },
   {
    "duration": 0,
    "start_time": "2022-05-22T03:33:13.281Z"
   },
   {
    "duration": 0,
    "start_time": "2022-05-22T03:33:13.283Z"
   },
   {
    "duration": 0,
    "start_time": "2022-05-22T03:33:13.284Z"
   },
   {
    "duration": 0,
    "start_time": "2022-05-22T03:33:13.285Z"
   },
   {
    "duration": 0,
    "start_time": "2022-05-22T03:33:13.286Z"
   },
   {
    "duration": 0,
    "start_time": "2022-05-22T03:33:13.287Z"
   },
   {
    "duration": 0,
    "start_time": "2022-05-22T03:33:13.325Z"
   },
   {
    "duration": 0,
    "start_time": "2022-05-22T03:33:13.326Z"
   },
   {
    "duration": 0,
    "start_time": "2022-05-22T03:33:13.327Z"
   },
   {
    "duration": 0,
    "start_time": "2022-05-22T03:33:13.328Z"
   },
   {
    "duration": 0,
    "start_time": "2022-05-22T03:33:13.329Z"
   },
   {
    "duration": 0,
    "start_time": "2022-05-22T03:33:13.330Z"
   },
   {
    "duration": 1170,
    "start_time": "2022-05-22T03:34:01.629Z"
   },
   {
    "duration": 868,
    "start_time": "2022-05-22T03:34:02.801Z"
   },
   {
    "duration": 107,
    "start_time": "2022-05-22T03:34:03.671Z"
   },
   {
    "duration": 418,
    "start_time": "2022-05-22T03:34:03.781Z"
   },
   {
    "duration": 18,
    "start_time": "2022-05-22T03:34:04.201Z"
   },
   {
    "duration": 61,
    "start_time": "2022-05-22T03:34:04.227Z"
   },
   {
    "duration": 74,
    "start_time": "2022-05-22T03:34:04.290Z"
   },
   {
    "duration": 41,
    "start_time": "2022-05-22T03:34:04.366Z"
   },
   {
    "duration": 38,
    "start_time": "2022-05-22T03:34:04.410Z"
   },
   {
    "duration": 183,
    "start_time": "2022-05-22T03:34:04.451Z"
   },
   {
    "duration": 416,
    "start_time": "2022-05-22T03:34:04.635Z"
   },
   {
    "duration": 2,
    "start_time": "2022-05-22T03:34:05.053Z"
   },
   {
    "duration": 55,
    "start_time": "2022-05-22T03:34:05.056Z"
   },
   {
    "duration": 204,
    "start_time": "2022-05-22T03:34:05.113Z"
   },
   {
    "duration": 23,
    "start_time": "2022-05-22T03:34:05.319Z"
   },
   {
    "duration": 258,
    "start_time": "2022-05-22T03:34:05.344Z"
   },
   {
    "duration": 12,
    "start_time": "2022-05-22T03:34:05.604Z"
   },
   {
    "duration": 26,
    "start_time": "2022-05-22T03:34:05.626Z"
   },
   {
    "duration": 41,
    "start_time": "2022-05-22T03:34:05.654Z"
   },
   {
    "duration": 16,
    "start_time": "2022-05-22T03:34:05.697Z"
   },
   {
    "duration": 13,
    "start_time": "2022-05-22T03:34:05.715Z"
   },
   {
    "duration": 41,
    "start_time": "2022-05-22T03:34:05.729Z"
   },
   {
    "duration": 36,
    "start_time": "2022-05-22T03:34:05.772Z"
   },
   {
    "duration": 14,
    "start_time": "2022-05-22T03:34:05.810Z"
   },
   {
    "duration": 16894,
    "start_time": "2022-05-22T03:34:05.825Z"
   },
   {
    "duration": 494448,
    "start_time": "2022-05-22T03:34:22.720Z"
   },
   {
    "duration": 15962,
    "start_time": "2022-05-22T03:42:37.170Z"
   },
   {
    "duration": 426821,
    "start_time": "2022-05-22T03:42:53.134Z"
   },
   {
    "duration": 8,
    "start_time": "2022-05-22T03:49:59.956Z"
   },
   {
    "duration": 1289,
    "start_time": "2022-05-22T03:49:59.966Z"
   },
   {
    "duration": 9,
    "start_time": "2022-05-22T03:50:01.257Z"
   },
   {
    "duration": 17,
    "start_time": "2022-05-22T03:50:01.267Z"
   },
   {
    "duration": 1135,
    "start_time": "2022-05-22T03:50:01.286Z"
   },
   {
    "duration": 9,
    "start_time": "2022-05-22T03:50:02.423Z"
   },
   {
    "duration": 8,
    "start_time": "2022-05-22T03:50:02.434Z"
   },
   {
    "duration": 13,
    "start_time": "2022-05-22T03:50:02.443Z"
   },
   {
    "duration": 13,
    "start_time": "2022-05-22T03:50:02.458Z"
   },
   {
    "duration": 1100,
    "start_time": "2022-05-22T04:32:18.377Z"
   },
   {
    "duration": 919,
    "start_time": "2022-05-22T04:32:19.479Z"
   },
   {
    "duration": 139,
    "start_time": "2022-05-22T04:32:20.400Z"
   },
   {
    "duration": 476,
    "start_time": "2022-05-22T04:32:20.541Z"
   },
   {
    "duration": 29,
    "start_time": "2022-05-22T04:32:21.018Z"
   },
   {
    "duration": 60,
    "start_time": "2022-05-22T04:32:21.048Z"
   },
   {
    "duration": 76,
    "start_time": "2022-05-22T04:32:21.110Z"
   },
   {
    "duration": 2,
    "start_time": "2022-05-22T04:32:21.188Z"
   },
   {
    "duration": 17,
    "start_time": "2022-05-22T04:32:21.192Z"
   },
   {
    "duration": 0,
    "start_time": "2022-05-22T04:32:21.211Z"
   },
   {
    "duration": 0,
    "start_time": "2022-05-22T04:32:21.212Z"
   },
   {
    "duration": 0,
    "start_time": "2022-05-22T04:32:21.213Z"
   },
   {
    "duration": 0,
    "start_time": "2022-05-22T04:32:21.214Z"
   },
   {
    "duration": 0,
    "start_time": "2022-05-22T04:32:21.226Z"
   },
   {
    "duration": 0,
    "start_time": "2022-05-22T04:32:21.227Z"
   },
   {
    "duration": 0,
    "start_time": "2022-05-22T04:32:21.227Z"
   },
   {
    "duration": 0,
    "start_time": "2022-05-22T04:32:21.229Z"
   },
   {
    "duration": 0,
    "start_time": "2022-05-22T04:32:21.230Z"
   },
   {
    "duration": 0,
    "start_time": "2022-05-22T04:32:21.230Z"
   },
   {
    "duration": 0,
    "start_time": "2022-05-22T04:32:21.231Z"
   },
   {
    "duration": 0,
    "start_time": "2022-05-22T04:32:21.233Z"
   },
   {
    "duration": 0,
    "start_time": "2022-05-22T04:32:21.234Z"
   },
   {
    "duration": 0,
    "start_time": "2022-05-22T04:32:21.235Z"
   },
   {
    "duration": 0,
    "start_time": "2022-05-22T04:32:21.235Z"
   },
   {
    "duration": 0,
    "start_time": "2022-05-22T04:32:21.236Z"
   },
   {
    "duration": 0,
    "start_time": "2022-05-22T04:32:21.237Z"
   },
   {
    "duration": 0,
    "start_time": "2022-05-22T04:32:21.239Z"
   },
   {
    "duration": 0,
    "start_time": "2022-05-22T04:32:21.240Z"
   },
   {
    "duration": 0,
    "start_time": "2022-05-22T04:32:21.241Z"
   },
   {
    "duration": 0,
    "start_time": "2022-05-22T04:32:21.242Z"
   },
   {
    "duration": 0,
    "start_time": "2022-05-22T04:32:21.243Z"
   },
   {
    "duration": 0,
    "start_time": "2022-05-22T04:32:21.244Z"
   },
   {
    "duration": 0,
    "start_time": "2022-05-22T04:32:21.245Z"
   },
   {
    "duration": 0,
    "start_time": "2022-05-22T04:32:21.246Z"
   },
   {
    "duration": 0,
    "start_time": "2022-05-22T04:32:21.247Z"
   },
   {
    "duration": 1087,
    "start_time": "2022-05-22T04:37:09.928Z"
   },
   {
    "duration": 943,
    "start_time": "2022-05-22T04:37:11.017Z"
   },
   {
    "duration": 109,
    "start_time": "2022-05-22T04:37:11.962Z"
   },
   {
    "duration": 488,
    "start_time": "2022-05-22T04:37:12.074Z"
   },
   {
    "duration": 27,
    "start_time": "2022-05-22T04:37:12.563Z"
   },
   {
    "duration": 62,
    "start_time": "2022-05-22T04:37:12.592Z"
   },
   {
    "duration": 77,
    "start_time": "2022-05-22T04:37:12.655Z"
   },
   {
    "duration": 2,
    "start_time": "2022-05-22T04:37:12.733Z"
   },
   {
    "duration": 49,
    "start_time": "2022-05-22T04:37:12.737Z"
   },
   {
    "duration": 208,
    "start_time": "2022-05-22T04:37:12.789Z"
   },
   {
    "duration": 443,
    "start_time": "2022-05-22T04:37:12.999Z"
   },
   {
    "duration": 11,
    "start_time": "2022-05-22T04:37:13.443Z"
   },
   {
    "duration": 238,
    "start_time": "2022-05-22T04:37:13.456Z"
   },
   {
    "duration": 31,
    "start_time": "2022-05-22T04:37:13.695Z"
   },
   {
    "duration": 305,
    "start_time": "2022-05-22T04:37:13.728Z"
   },
   {
    "duration": 12,
    "start_time": "2022-05-22T04:37:14.035Z"
   },
   {
    "duration": 25,
    "start_time": "2022-05-22T04:37:14.048Z"
   },
   {
    "duration": 70,
    "start_time": "2022-05-22T04:37:14.075Z"
   },
   {
    "duration": 19,
    "start_time": "2022-05-22T04:37:14.147Z"
   },
   {
    "duration": 6,
    "start_time": "2022-05-22T04:37:14.168Z"
   },
   {
    "duration": 15,
    "start_time": "2022-05-22T04:37:14.175Z"
   },
   {
    "duration": 7,
    "start_time": "2022-05-22T04:37:14.192Z"
   },
   {
    "duration": 7,
    "start_time": "2022-05-22T04:37:14.200Z"
   },
   {
    "duration": 20731,
    "start_time": "2022-05-22T04:37:14.209Z"
   },
   {
    "duration": 211823,
    "start_time": "2022-05-22T04:37:34.942Z"
   },
   {
    "duration": 24167,
    "start_time": "2022-05-22T04:41:06.767Z"
   },
   {
    "duration": 508121,
    "start_time": "2022-05-22T04:41:30.936Z"
   },
   {
    "duration": 8,
    "start_time": "2022-05-22T04:49:59.060Z"
   },
   {
    "duration": 1320,
    "start_time": "2022-05-22T04:49:59.069Z"
   },
   {
    "duration": 7,
    "start_time": "2022-05-22T04:50:00.391Z"
   },
   {
    "duration": 1320,
    "start_time": "2022-05-22T04:50:00.400Z"
   },
   {
    "duration": 11,
    "start_time": "2022-05-22T04:50:01.721Z"
   },
   {
    "duration": 31,
    "start_time": "2022-05-22T04:50:01.738Z"
   },
   {
    "duration": 24,
    "start_time": "2022-05-22T04:50:01.770Z"
   },
   {
    "duration": 25,
    "start_time": "2022-05-22T04:50:01.796Z"
   },
   {
    "duration": 28,
    "start_time": "2022-05-22T08:11:26.402Z"
   },
   {
    "duration": 20,
    "start_time": "2022-05-22T08:11:38.258Z"
   },
   {
    "duration": 32,
    "start_time": "2022-05-22T08:12:14.423Z"
   },
   {
    "duration": 11,
    "start_time": "2022-05-22T08:13:28.635Z"
   },
   {
    "duration": 9,
    "start_time": "2022-05-22T08:14:13.749Z"
   },
   {
    "duration": 10,
    "start_time": "2022-05-22T08:17:32.440Z"
   },
   {
    "duration": 9,
    "start_time": "2022-05-22T08:17:39.095Z"
   },
   {
    "duration": 8,
    "start_time": "2022-05-22T08:18:03.518Z"
   },
   {
    "duration": 69,
    "start_time": "2022-05-22T08:19:20.802Z"
   },
   {
    "duration": 430,
    "start_time": "2022-05-22T08:19:22.170Z"
   },
   {
    "duration": 263,
    "start_time": "2022-05-22T08:19:23.970Z"
   },
   {
    "duration": 601,
    "start_time": "2022-05-22T08:19:25.810Z"
   },
   {
    "duration": 70,
    "start_time": "2022-05-22T08:19:29.570Z"
   },
   {
    "duration": 194,
    "start_time": "2022-05-22T08:19:30.634Z"
   },
   {
    "duration": 251,
    "start_time": "2022-05-22T08:19:31.883Z"
   },
   {
    "duration": 602,
    "start_time": "2022-05-22T08:19:33.074Z"
   },
   {
    "duration": 65,
    "start_time": "2022-05-22T08:19:34.961Z"
   },
   {
    "duration": 68,
    "start_time": "2022-05-22T08:19:35.875Z"
   },
   {
    "duration": 264,
    "start_time": "2022-05-22T08:19:37.766Z"
   },
   {
    "duration": 609,
    "start_time": "2022-05-22T08:19:38.977Z"
   },
   {
    "duration": 68,
    "start_time": "2022-05-22T08:19:42.361Z"
   },
   {
    "duration": 32,
    "start_time": "2022-05-22T08:19:43.505Z"
   },
   {
    "duration": 307,
    "start_time": "2022-05-22T08:19:44.521Z"
   },
   {
    "duration": 609,
    "start_time": "2022-05-22T08:19:45.969Z"
   },
   {
    "duration": 67,
    "start_time": "2022-05-22T08:20:25.022Z"
   },
   {
    "duration": 124,
    "start_time": "2022-05-22T08:20:26.919Z"
   },
   {
    "duration": 132,
    "start_time": "2022-05-22T08:20:27.894Z"
   },
   {
    "duration": 136,
    "start_time": "2022-05-22T08:20:28.590Z"
   },
   {
    "duration": 198,
    "start_time": "2022-05-22T08:20:29.230Z"
   },
   {
    "duration": 132,
    "start_time": "2022-05-22T08:20:29.895Z"
   },
   {
    "duration": 194,
    "start_time": "2022-05-22T08:20:30.535Z"
   },
   {
    "duration": 146,
    "start_time": "2022-05-22T08:20:31.182Z"
   },
   {
    "duration": 158,
    "start_time": "2022-05-22T08:20:31.871Z"
   },
   {
    "duration": 200,
    "start_time": "2022-05-22T08:20:32.526Z"
   },
   {
    "duration": 120,
    "start_time": "2022-05-22T08:20:33.223Z"
   },
   {
    "duration": 116,
    "start_time": "2022-05-22T08:20:34.014Z"
   },
   {
    "duration": 111,
    "start_time": "2022-05-22T08:20:34.726Z"
   },
   {
    "duration": 157,
    "start_time": "2022-05-22T08:20:35.374Z"
   },
   {
    "duration": 83,
    "start_time": "2022-05-22T08:20:36.056Z"
   },
   {
    "duration": 197,
    "start_time": "2022-05-22T08:20:36.831Z"
   },
   {
    "duration": 221,
    "start_time": "2022-05-22T08:20:38.807Z"
   },
   {
    "duration": 312,
    "start_time": "2022-05-22T08:20:39.718Z"
   },
   {
    "duration": 630,
    "start_time": "2022-05-22T08:20:41.694Z"
   },
   {
    "duration": 619,
    "start_time": "2022-05-22T08:20:42.910Z"
   },
   {
    "duration": 248,
    "start_time": "2022-05-22T08:20:46.182Z"
   },
   {
    "duration": 226,
    "start_time": "2022-05-22T08:20:46.910Z"
   },
   {
    "duration": 316,
    "start_time": "2022-05-22T08:20:47.718Z"
   },
   {
    "duration": 181,
    "start_time": "2022-05-22T08:20:50.350Z"
   },
   {
    "duration": 30,
    "start_time": "2022-05-22T08:20:51.006Z"
   },
   {
    "duration": 166,
    "start_time": "2022-05-22T08:20:51.661Z"
   },
   {
    "duration": 205,
    "start_time": "2022-05-22T08:20:52.421Z"
   },
   {
    "duration": 71,
    "start_time": "2022-05-22T08:20:54.173Z"
   },
   {
    "duration": 116,
    "start_time": "2022-05-22T08:20:55.021Z"
   },
   {
    "duration": 73,
    "start_time": "2022-05-22T08:20:57.158Z"
   },
   {
    "duration": 10,
    "start_time": "2022-05-22T08:22:49.401Z"
   },
   {
    "duration": 115,
    "start_time": "2022-05-22T08:45:42.125Z"
   },
   {
    "duration": 43,
    "start_time": "2022-05-22T09:13:48.780Z"
   },
   {
    "duration": 129,
    "start_time": "2022-05-22T09:14:39.418Z"
   },
   {
    "duration": 1255,
    "start_time": "2022-05-22T09:14:47.009Z"
   },
   {
    "duration": 1029,
    "start_time": "2022-05-22T09:14:48.266Z"
   },
   {
    "duration": 168,
    "start_time": "2022-05-22T09:14:49.297Z"
   },
   {
    "duration": 487,
    "start_time": "2022-05-22T09:14:49.468Z"
   },
   {
    "duration": 24,
    "start_time": "2022-05-22T09:14:49.957Z"
   },
   {
    "duration": 67,
    "start_time": "2022-05-22T09:14:49.983Z"
   },
   {
    "duration": 87,
    "start_time": "2022-05-22T09:14:50.051Z"
   },
   {
    "duration": 7,
    "start_time": "2022-05-22T09:14:50.140Z"
   },
   {
    "duration": 54,
    "start_time": "2022-05-22T09:14:50.148Z"
   },
   {
    "duration": 199,
    "start_time": "2022-05-22T09:14:50.205Z"
   },
   {
    "duration": 474,
    "start_time": "2022-05-22T09:14:50.406Z"
   },
   {
    "duration": 12,
    "start_time": "2022-05-22T09:14:50.881Z"
   },
   {
    "duration": 254,
    "start_time": "2022-05-22T09:14:50.895Z"
   },
   {
    "duration": 27,
    "start_time": "2022-05-22T09:14:51.150Z"
   },
   {
    "duration": 154,
    "start_time": "2022-05-22T09:14:51.178Z"
   },
   {
    "duration": 146,
    "start_time": "2022-05-22T09:14:51.333Z"
   },
   {
    "duration": 0,
    "start_time": "2022-05-22T09:14:51.481Z"
   },
   {
    "duration": 0,
    "start_time": "2022-05-22T09:14:51.482Z"
   },
   {
    "duration": 0,
    "start_time": "2022-05-22T09:14:51.483Z"
   },
   {
    "duration": 0,
    "start_time": "2022-05-22T09:14:51.484Z"
   },
   {
    "duration": 0,
    "start_time": "2022-05-22T09:14:51.485Z"
   },
   {
    "duration": 0,
    "start_time": "2022-05-22T09:14:51.487Z"
   },
   {
    "duration": 0,
    "start_time": "2022-05-22T09:14:51.488Z"
   },
   {
    "duration": 0,
    "start_time": "2022-05-22T09:14:51.489Z"
   },
   {
    "duration": 0,
    "start_time": "2022-05-22T09:14:51.490Z"
   },
   {
    "duration": 0,
    "start_time": "2022-05-22T09:14:51.491Z"
   },
   {
    "duration": 0,
    "start_time": "2022-05-22T09:14:51.492Z"
   },
   {
    "duration": 0,
    "start_time": "2022-05-22T09:14:51.493Z"
   },
   {
    "duration": 0,
    "start_time": "2022-05-22T09:14:51.494Z"
   },
   {
    "duration": 0,
    "start_time": "2022-05-22T09:14:51.495Z"
   },
   {
    "duration": 0,
    "start_time": "2022-05-22T09:14:51.496Z"
   },
   {
    "duration": 0,
    "start_time": "2022-05-22T09:14:51.497Z"
   },
   {
    "duration": 0,
    "start_time": "2022-05-22T09:14:51.498Z"
   },
   {
    "duration": 0,
    "start_time": "2022-05-22T09:14:51.528Z"
   },
   {
    "duration": 1,
    "start_time": "2022-05-22T09:14:51.528Z"
   },
   {
    "duration": 0,
    "start_time": "2022-05-22T09:14:51.533Z"
   },
   {
    "duration": 0,
    "start_time": "2022-05-22T09:14:51.534Z"
   },
   {
    "duration": 0,
    "start_time": "2022-05-22T09:14:51.534Z"
   },
   {
    "duration": 0,
    "start_time": "2022-05-22T09:14:51.537Z"
   },
   {
    "duration": 0,
    "start_time": "2022-05-22T09:14:51.538Z"
   },
   {
    "duration": 134,
    "start_time": "2022-05-22T09:16:01.665Z"
   },
   {
    "duration": 1187,
    "start_time": "2022-05-22T09:18:07.972Z"
   },
   {
    "duration": 1004,
    "start_time": "2022-05-22T09:18:09.161Z"
   },
   {
    "duration": 154,
    "start_time": "2022-05-22T09:18:10.167Z"
   },
   {
    "duration": 534,
    "start_time": "2022-05-22T09:18:10.323Z"
   },
   {
    "duration": 27,
    "start_time": "2022-05-22T09:18:10.859Z"
   },
   {
    "duration": 67,
    "start_time": "2022-05-22T09:18:10.888Z"
   },
   {
    "duration": 92,
    "start_time": "2022-05-22T09:18:10.957Z"
   },
   {
    "duration": 9,
    "start_time": "2022-05-22T09:18:11.050Z"
   },
   {
    "duration": 50,
    "start_time": "2022-05-22T09:18:11.061Z"
   },
   {
    "duration": 231,
    "start_time": "2022-05-22T09:18:11.113Z"
   },
   {
    "duration": 224,
    "start_time": "2022-05-22T09:18:11.346Z"
   },
   {
    "duration": 148,
    "start_time": "2022-05-22T09:18:11.571Z"
   },
   {
    "duration": 503,
    "start_time": "2022-05-22T09:18:11.721Z"
   },
   {
    "duration": 14,
    "start_time": "2022-05-22T09:18:12.235Z"
   },
   {
    "duration": 143,
    "start_time": "2022-05-22T09:18:12.251Z"
   },
   {
    "duration": 270,
    "start_time": "2022-05-22T09:18:12.395Z"
   },
   {
    "duration": 25,
    "start_time": "2022-05-22T09:18:12.666Z"
   },
   {
    "duration": 161,
    "start_time": "2022-05-22T09:18:12.693Z"
   },
   {
    "duration": 135,
    "start_time": "2022-05-22T09:18:12.856Z"
   },
   {
    "duration": 0,
    "start_time": "2022-05-22T09:18:12.993Z"
   },
   {
    "duration": 0,
    "start_time": "2022-05-22T09:18:12.994Z"
   },
   {
    "duration": 0,
    "start_time": "2022-05-22T09:18:12.995Z"
   },
   {
    "duration": 0,
    "start_time": "2022-05-22T09:18:12.996Z"
   },
   {
    "duration": 0,
    "start_time": "2022-05-22T09:18:12.997Z"
   },
   {
    "duration": 0,
    "start_time": "2022-05-22T09:18:12.999Z"
   },
   {
    "duration": 0,
    "start_time": "2022-05-22T09:18:13.000Z"
   },
   {
    "duration": 0,
    "start_time": "2022-05-22T09:18:13.001Z"
   },
   {
    "duration": 0,
    "start_time": "2022-05-22T09:18:13.002Z"
   },
   {
    "duration": 0,
    "start_time": "2022-05-22T09:18:13.004Z"
   },
   {
    "duration": 0,
    "start_time": "2022-05-22T09:18:13.005Z"
   },
   {
    "duration": 0,
    "start_time": "2022-05-22T09:18:13.006Z"
   },
   {
    "duration": 0,
    "start_time": "2022-05-22T09:18:13.007Z"
   },
   {
    "duration": 0,
    "start_time": "2022-05-22T09:18:13.026Z"
   },
   {
    "duration": 1,
    "start_time": "2022-05-22T09:18:13.026Z"
   },
   {
    "duration": 0,
    "start_time": "2022-05-22T09:18:13.027Z"
   },
   {
    "duration": 0,
    "start_time": "2022-05-22T09:18:13.028Z"
   },
   {
    "duration": 0,
    "start_time": "2022-05-22T09:18:13.029Z"
   },
   {
    "duration": 0,
    "start_time": "2022-05-22T09:18:13.030Z"
   },
   {
    "duration": 0,
    "start_time": "2022-05-22T09:18:13.030Z"
   },
   {
    "duration": 0,
    "start_time": "2022-05-22T09:18:13.031Z"
   },
   {
    "duration": 0,
    "start_time": "2022-05-22T09:18:13.033Z"
   },
   {
    "duration": 0,
    "start_time": "2022-05-22T09:18:13.034Z"
   },
   {
    "duration": 0,
    "start_time": "2022-05-22T09:18:13.035Z"
   },
   {
    "duration": 289,
    "start_time": "2022-05-22T09:22:53.593Z"
   },
   {
    "duration": 267,
    "start_time": "2022-05-22T09:23:04.377Z"
   },
   {
    "duration": 225,
    "start_time": "2022-05-22T09:23:18.193Z"
   },
   {
    "duration": 225,
    "start_time": "2022-05-22T09:23:25.799Z"
   },
   {
    "duration": 20,
    "start_time": "2022-05-22T09:23:42.056Z"
   },
   {
    "duration": 303,
    "start_time": "2022-05-22T09:24:03.006Z"
   },
   {
    "duration": 302,
    "start_time": "2022-05-22T09:24:54.012Z"
   },
   {
    "duration": 266,
    "start_time": "2022-05-22T09:25:01.307Z"
   },
   {
    "duration": 300,
    "start_time": "2022-05-22T09:25:06.915Z"
   },
   {
    "duration": 291,
    "start_time": "2022-05-22T09:25:33.089Z"
   },
   {
    "duration": 1261,
    "start_time": "2022-05-22T09:26:15.122Z"
   },
   {
    "duration": 1052,
    "start_time": "2022-05-22T09:26:16.385Z"
   },
   {
    "duration": 113,
    "start_time": "2022-05-22T09:26:17.439Z"
   },
   {
    "duration": 513,
    "start_time": "2022-05-22T09:26:17.554Z"
   },
   {
    "duration": 900,
    "start_time": "2022-05-22T09:26:18.069Z"
   },
   {
    "duration": 0,
    "start_time": "2022-05-22T09:26:18.973Z"
   },
   {
    "duration": 0,
    "start_time": "2022-05-22T09:26:18.975Z"
   },
   {
    "duration": 0,
    "start_time": "2022-05-22T09:26:18.976Z"
   },
   {
    "duration": 0,
    "start_time": "2022-05-22T09:26:18.978Z"
   },
   {
    "duration": 0,
    "start_time": "2022-05-22T09:26:18.979Z"
   },
   {
    "duration": 0,
    "start_time": "2022-05-22T09:26:18.981Z"
   },
   {
    "duration": 0,
    "start_time": "2022-05-22T09:26:18.982Z"
   },
   {
    "duration": 0,
    "start_time": "2022-05-22T09:26:18.984Z"
   },
   {
    "duration": 0,
    "start_time": "2022-05-22T09:26:18.985Z"
   },
   {
    "duration": 0,
    "start_time": "2022-05-22T09:26:18.986Z"
   },
   {
    "duration": 0,
    "start_time": "2022-05-22T09:26:18.988Z"
   },
   {
    "duration": 0,
    "start_time": "2022-05-22T09:26:18.989Z"
   },
   {
    "duration": 0,
    "start_time": "2022-05-22T09:26:18.991Z"
   },
   {
    "duration": 0,
    "start_time": "2022-05-22T09:26:18.992Z"
   },
   {
    "duration": 1,
    "start_time": "2022-05-22T09:26:19.026Z"
   },
   {
    "duration": 0,
    "start_time": "2022-05-22T09:26:19.028Z"
   },
   {
    "duration": 0,
    "start_time": "2022-05-22T09:26:19.030Z"
   },
   {
    "duration": 0,
    "start_time": "2022-05-22T09:26:19.031Z"
   },
   {
    "duration": 0,
    "start_time": "2022-05-22T09:26:19.032Z"
   },
   {
    "duration": 0,
    "start_time": "2022-05-22T09:26:19.034Z"
   },
   {
    "duration": 0,
    "start_time": "2022-05-22T09:26:19.035Z"
   },
   {
    "duration": 0,
    "start_time": "2022-05-22T09:26:19.037Z"
   },
   {
    "duration": 0,
    "start_time": "2022-05-22T09:26:19.038Z"
   },
   {
    "duration": 0,
    "start_time": "2022-05-22T09:26:19.040Z"
   },
   {
    "duration": 0,
    "start_time": "2022-05-22T09:26:19.041Z"
   },
   {
    "duration": 0,
    "start_time": "2022-05-22T09:26:19.043Z"
   },
   {
    "duration": 0,
    "start_time": "2022-05-22T09:26:19.044Z"
   },
   {
    "duration": 0,
    "start_time": "2022-05-22T09:26:19.045Z"
   },
   {
    "duration": 0,
    "start_time": "2022-05-22T09:26:19.047Z"
   },
   {
    "duration": 0,
    "start_time": "2022-05-22T09:26:19.048Z"
   },
   {
    "duration": 0,
    "start_time": "2022-05-22T09:26:19.049Z"
   },
   {
    "duration": 0,
    "start_time": "2022-05-22T09:26:19.051Z"
   },
   {
    "duration": 0,
    "start_time": "2022-05-22T09:26:19.053Z"
   },
   {
    "duration": 0,
    "start_time": "2022-05-22T09:26:19.054Z"
   },
   {
    "duration": 0,
    "start_time": "2022-05-22T09:26:19.055Z"
   },
   {
    "duration": 0,
    "start_time": "2022-05-22T09:26:19.056Z"
   },
   {
    "duration": 0,
    "start_time": "2022-05-22T09:26:19.057Z"
   },
   {
    "duration": 0,
    "start_time": "2022-05-22T09:26:19.059Z"
   },
   {
    "duration": 0,
    "start_time": "2022-05-22T09:26:19.060Z"
   },
   {
    "duration": 718,
    "start_time": "2022-05-22T09:26:38.906Z"
   },
   {
    "duration": 401,
    "start_time": "2022-05-22T09:27:54.651Z"
   },
   {
    "duration": 410,
    "start_time": "2022-05-22T09:28:22.598Z"
   },
   {
    "duration": 429,
    "start_time": "2022-05-22T09:28:29.272Z"
   },
   {
    "duration": 17,
    "start_time": "2022-05-22T09:30:34.789Z"
   },
   {
    "duration": 25,
    "start_time": "2022-05-22T09:30:35.454Z"
   },
   {
    "duration": 76,
    "start_time": "2022-05-22T09:30:37.157Z"
   },
   {
    "duration": 38,
    "start_time": "2022-05-22T09:30:42.309Z"
   },
   {
    "duration": 150,
    "start_time": "2022-05-22T09:30:43.477Z"
   },
   {
    "duration": 174,
    "start_time": "2022-05-22T09:30:47.733Z"
   },
   {
    "duration": 482,
    "start_time": "2022-05-22T09:30:57.197Z"
   },
   {
    "duration": 1095,
    "start_time": "2022-05-22T09:31:12.633Z"
   },
   {
    "duration": 988,
    "start_time": "2022-05-22T09:31:13.730Z"
   },
   {
    "duration": 114,
    "start_time": "2022-05-22T09:31:14.720Z"
   },
   {
    "duration": 509,
    "start_time": "2022-05-22T09:31:14.836Z"
   },
   {
    "duration": 482,
    "start_time": "2022-05-22T09:31:15.347Z"
   },
   {
    "duration": 28,
    "start_time": "2022-05-22T09:31:15.831Z"
   },
   {
    "duration": 57,
    "start_time": "2022-05-22T09:31:15.860Z"
   },
   {
    "duration": 84,
    "start_time": "2022-05-22T09:31:15.918Z"
   },
   {
    "duration": 3,
    "start_time": "2022-05-22T09:31:16.003Z"
   },
   {
    "duration": 39,
    "start_time": "2022-05-22T09:31:16.025Z"
   },
   {
    "duration": 200,
    "start_time": "2022-05-22T09:31:16.066Z"
   },
   {
    "duration": 451,
    "start_time": "2022-05-22T09:31:16.267Z"
   },
   {
    "duration": 14,
    "start_time": "2022-05-22T09:31:16.720Z"
   },
   {
    "duration": 245,
    "start_time": "2022-05-22T09:31:16.736Z"
   },
   {
    "duration": 29,
    "start_time": "2022-05-22T09:31:16.982Z"
   },
   {
    "duration": 143,
    "start_time": "2022-05-22T09:31:17.013Z"
   },
   {
    "duration": 124,
    "start_time": "2022-05-22T09:31:17.157Z"
   },
   {
    "duration": 0,
    "start_time": "2022-05-22T09:31:17.283Z"
   },
   {
    "duration": 0,
    "start_time": "2022-05-22T09:31:17.284Z"
   },
   {
    "duration": 0,
    "start_time": "2022-05-22T09:31:17.286Z"
   },
   {
    "duration": 0,
    "start_time": "2022-05-22T09:31:17.287Z"
   },
   {
    "duration": 0,
    "start_time": "2022-05-22T09:31:17.288Z"
   },
   {
    "duration": 0,
    "start_time": "2022-05-22T09:31:17.288Z"
   },
   {
    "duration": 0,
    "start_time": "2022-05-22T09:31:17.289Z"
   },
   {
    "duration": 0,
    "start_time": "2022-05-22T09:31:17.291Z"
   },
   {
    "duration": 0,
    "start_time": "2022-05-22T09:31:17.292Z"
   },
   {
    "duration": 0,
    "start_time": "2022-05-22T09:31:17.293Z"
   },
   {
    "duration": 0,
    "start_time": "2022-05-22T09:31:17.294Z"
   },
   {
    "duration": 0,
    "start_time": "2022-05-22T09:31:17.295Z"
   },
   {
    "duration": 0,
    "start_time": "2022-05-22T09:31:17.296Z"
   },
   {
    "duration": 1,
    "start_time": "2022-05-22T09:31:17.296Z"
   },
   {
    "duration": 0,
    "start_time": "2022-05-22T09:31:17.325Z"
   },
   {
    "duration": 0,
    "start_time": "2022-05-22T09:31:17.327Z"
   },
   {
    "duration": 0,
    "start_time": "2022-05-22T09:31:17.328Z"
   },
   {
    "duration": 0,
    "start_time": "2022-05-22T09:31:17.330Z"
   },
   {
    "duration": 0,
    "start_time": "2022-05-22T09:31:17.331Z"
   },
   {
    "duration": 0,
    "start_time": "2022-05-22T09:31:17.332Z"
   },
   {
    "duration": 0,
    "start_time": "2022-05-22T09:31:17.334Z"
   },
   {
    "duration": 0,
    "start_time": "2022-05-22T09:31:17.335Z"
   },
   {
    "duration": 0,
    "start_time": "2022-05-22T09:31:17.336Z"
   },
   {
    "duration": 0,
    "start_time": "2022-05-22T09:31:17.337Z"
   },
   {
    "duration": 9,
    "start_time": "2022-05-22T09:38:51.427Z"
   },
   {
    "duration": 1185,
    "start_time": "2022-05-22T09:39:02.070Z"
   },
   {
    "duration": 1033,
    "start_time": "2022-05-22T09:39:03.256Z"
   },
   {
    "duration": 161,
    "start_time": "2022-05-22T09:39:04.290Z"
   },
   {
    "duration": 583,
    "start_time": "2022-05-22T09:39:04.454Z"
   },
   {
    "duration": 548,
    "start_time": "2022-05-22T09:39:05.039Z"
   },
   {
    "duration": 25,
    "start_time": "2022-05-22T09:39:05.589Z"
   },
   {
    "duration": 62,
    "start_time": "2022-05-22T09:39:05.615Z"
   },
   {
    "duration": 84,
    "start_time": "2022-05-22T09:39:05.679Z"
   },
   {
    "duration": 4,
    "start_time": "2022-05-22T09:39:05.764Z"
   },
   {
    "duration": 61,
    "start_time": "2022-05-22T09:39:05.769Z"
   },
   {
    "duration": 206,
    "start_time": "2022-05-22T09:39:05.832Z"
   },
   {
    "duration": 520,
    "start_time": "2022-05-22T09:39:06.041Z"
   },
   {
    "duration": 12,
    "start_time": "2022-05-22T09:39:06.564Z"
   },
   {
    "duration": 21,
    "start_time": "2022-05-22T09:39:06.578Z"
   },
   {
    "duration": 262,
    "start_time": "2022-05-22T09:39:06.601Z"
   },
   {
    "duration": 30,
    "start_time": "2022-05-22T09:39:06.865Z"
   },
   {
    "duration": 162,
    "start_time": "2022-05-22T09:39:06.897Z"
   },
   {
    "duration": 128,
    "start_time": "2022-05-22T09:39:07.060Z"
   },
   {
    "duration": 0,
    "start_time": "2022-05-22T09:39:07.190Z"
   },
   {
    "duration": 0,
    "start_time": "2022-05-22T09:39:07.191Z"
   },
   {
    "duration": 0,
    "start_time": "2022-05-22T09:39:07.192Z"
   },
   {
    "duration": 0,
    "start_time": "2022-05-22T09:39:07.193Z"
   },
   {
    "duration": 0,
    "start_time": "2022-05-22T09:39:07.194Z"
   },
   {
    "duration": 0,
    "start_time": "2022-05-22T09:39:07.195Z"
   },
   {
    "duration": 0,
    "start_time": "2022-05-22T09:39:07.197Z"
   },
   {
    "duration": 0,
    "start_time": "2022-05-22T09:39:07.198Z"
   },
   {
    "duration": 0,
    "start_time": "2022-05-22T09:39:07.199Z"
   },
   {
    "duration": 0,
    "start_time": "2022-05-22T09:39:07.200Z"
   },
   {
    "duration": 0,
    "start_time": "2022-05-22T09:39:07.225Z"
   },
   {
    "duration": 0,
    "start_time": "2022-05-22T09:39:07.227Z"
   },
   {
    "duration": 0,
    "start_time": "2022-05-22T09:39:07.229Z"
   },
   {
    "duration": 0,
    "start_time": "2022-05-22T09:39:07.230Z"
   },
   {
    "duration": 0,
    "start_time": "2022-05-22T09:39:07.232Z"
   },
   {
    "duration": 0,
    "start_time": "2022-05-22T09:39:07.233Z"
   },
   {
    "duration": 0,
    "start_time": "2022-05-22T09:39:07.234Z"
   },
   {
    "duration": 0,
    "start_time": "2022-05-22T09:39:07.236Z"
   },
   {
    "duration": 0,
    "start_time": "2022-05-22T09:39:07.237Z"
   },
   {
    "duration": 0,
    "start_time": "2022-05-22T09:39:07.239Z"
   },
   {
    "duration": 0,
    "start_time": "2022-05-22T09:39:07.240Z"
   },
   {
    "duration": 0,
    "start_time": "2022-05-22T09:39:07.241Z"
   },
   {
    "duration": 0,
    "start_time": "2022-05-22T09:39:07.242Z"
   },
   {
    "duration": 0,
    "start_time": "2022-05-22T09:39:07.244Z"
   },
   {
    "duration": 8,
    "start_time": "2022-05-22T09:42:04.828Z"
   },
   {
    "duration": 7,
    "start_time": "2022-05-22T09:42:30.233Z"
   },
   {
    "duration": 7,
    "start_time": "2022-05-22T09:42:36.265Z"
   },
   {
    "duration": 11,
    "start_time": "2022-05-22T09:42:43.375Z"
   },
   {
    "duration": 10,
    "start_time": "2022-05-22T09:50:50.756Z"
   },
   {
    "duration": 17442,
    "start_time": "2022-05-22T09:53:06.240Z"
   },
   {
    "duration": 17857,
    "start_time": "2022-05-22T09:54:05.604Z"
   },
   {
    "duration": 297,
    "start_time": "2022-05-22T09:58:09.977Z"
   },
   {
    "duration": 13,
    "start_time": "2022-05-22T09:58:11.559Z"
   },
   {
    "duration": 9,
    "start_time": "2022-05-22T09:58:23.984Z"
   },
   {
    "duration": 21,
    "start_time": "2022-05-22T09:58:32.023Z"
   },
   {
    "duration": 45,
    "start_time": "2022-05-22T09:58:32.910Z"
   },
   {
    "duration": 26,
    "start_time": "2022-05-22T09:58:33.678Z"
   },
   {
    "duration": 5,
    "start_time": "2022-05-22T09:58:35.214Z"
   },
   {
    "duration": 78,
    "start_time": "2022-05-22T10:00:02.874Z"
   },
   {
    "duration": 9,
    "start_time": "2022-05-22T10:00:05.653Z"
   },
   {
    "duration": 9,
    "start_time": "2022-05-22T10:00:17.149Z"
   },
   {
    "duration": 46,
    "start_time": "2022-05-22T10:00:17.720Z"
   },
   {
    "duration": 19,
    "start_time": "2022-05-22T10:00:18.225Z"
   },
   {
    "duration": 6,
    "start_time": "2022-05-22T10:00:18.769Z"
   },
   {
    "duration": 3,
    "start_time": "2022-05-22T10:00:21.666Z"
   },
   {
    "duration": 4,
    "start_time": "2022-05-22T10:00:29.066Z"
   },
   {
    "duration": 3,
    "start_time": "2022-05-22T10:00:31.585Z"
   },
   {
    "duration": 21069,
    "start_time": "2022-05-22T10:00:33.918Z"
   },
   {
    "duration": 737665,
    "start_time": "2022-05-22T10:03:23.065Z"
   },
   {
    "duration": 402605,
    "start_time": "2022-05-22T10:15:40.732Z"
   },
   {
    "duration": 506865,
    "start_time": "2022-05-22T10:22:23.339Z"
   },
   {
    "duration": 8,
    "start_time": "2022-05-22T10:30:50.206Z"
   },
   {
    "duration": 76,
    "start_time": "2022-05-22T10:30:50.216Z"
   },
   {
    "duration": 144,
    "start_time": "2022-05-22T10:30:50.293Z"
   },
   {
    "duration": 388,
    "start_time": "2022-05-22T10:30:50.438Z"
   },
   {
    "duration": 643,
    "start_time": "2022-05-22T10:30:50.830Z"
   },
   {
    "duration": 8,
    "start_time": "2022-05-22T10:30:51.475Z"
   },
   {
    "duration": 1204,
    "start_time": "2022-05-22T10:30:51.485Z"
   },
   {
    "duration": 8,
    "start_time": "2022-05-22T10:30:52.690Z"
   },
   {
    "duration": 7,
    "start_time": "2022-05-22T10:30:52.700Z"
   },
   {
    "duration": 8,
    "start_time": "2022-05-22T10:30:52.709Z"
   },
   {
    "duration": 9,
    "start_time": "2022-05-22T10:30:52.725Z"
   },
   {
    "duration": 22,
    "start_time": "2022-05-22T10:30:52.736Z"
   },
   {
    "duration": 1131,
    "start_time": "2022-05-22T10:41:09.708Z"
   },
   {
    "duration": 930,
    "start_time": "2022-05-22T10:41:10.841Z"
   },
   {
    "duration": 142,
    "start_time": "2022-05-22T10:41:11.774Z"
   },
   {
    "duration": 498,
    "start_time": "2022-05-22T10:41:11.919Z"
   },
   {
    "duration": 485,
    "start_time": "2022-05-22T10:41:12.419Z"
   },
   {
    "duration": 27,
    "start_time": "2022-05-22T10:41:12.906Z"
   },
   {
    "duration": 51,
    "start_time": "2022-05-22T10:41:12.935Z"
   },
   {
    "duration": 92,
    "start_time": "2022-05-22T10:41:12.987Z"
   },
   {
    "duration": 57,
    "start_time": "2022-05-22T10:41:13.080Z"
   },
   {
    "duration": 3,
    "start_time": "2022-05-22T10:41:13.139Z"
   },
   {
    "duration": 190,
    "start_time": "2022-05-22T10:41:13.143Z"
   },
   {
    "duration": 435,
    "start_time": "2022-05-22T10:41:13.335Z"
   },
   {
    "duration": 12,
    "start_time": "2022-05-22T10:41:13.772Z"
   },
   {
    "duration": 23,
    "start_time": "2022-05-22T10:41:13.786Z"
   },
   {
    "duration": 30,
    "start_time": "2022-05-22T10:41:13.825Z"
   },
   {
    "duration": 8,
    "start_time": "2022-05-22T10:41:13.857Z"
   },
   {
    "duration": 353,
    "start_time": "2022-05-22T10:41:13.867Z"
   },
   {
    "duration": 9,
    "start_time": "2022-05-22T10:41:14.222Z"
   },
   {
    "duration": 40,
    "start_time": "2022-05-22T10:41:14.233Z"
   },
   {
    "duration": 71,
    "start_time": "2022-05-22T10:41:14.275Z"
   },
   {
    "duration": 18,
    "start_time": "2022-05-22T10:41:14.348Z"
   },
   {
    "duration": 6,
    "start_time": "2022-05-22T10:41:14.368Z"
   },
   {
    "duration": 7,
    "start_time": "2022-05-22T10:41:14.376Z"
   },
   {
    "duration": 15,
    "start_time": "2022-05-22T10:41:14.385Z"
   },
   {
    "duration": 7,
    "start_time": "2022-05-22T10:41:14.402Z"
   },
   {
    "duration": 20554,
    "start_time": "2022-05-22T10:41:14.427Z"
   },
   {
    "duration": 180366,
    "start_time": "2022-05-22T10:41:34.983Z"
   },
   {
    "duration": 20380,
    "start_time": "2022-05-22T10:44:35.353Z"
   },
   {
    "duration": 214,
    "start_time": "2022-05-22T10:44:55.735Z"
   },
   {
    "duration": 7,
    "start_time": "2022-05-22T10:44:55.950Z"
   },
   {
    "duration": 80,
    "start_time": "2022-05-22T10:44:55.959Z"
   },
   {
    "duration": 189,
    "start_time": "2022-05-22T10:44:56.041Z"
   },
   {
    "duration": 303,
    "start_time": "2022-05-22T10:44:56.232Z"
   },
   {
    "duration": 116,
    "start_time": "2022-05-22T10:44:56.537Z"
   },
   {
    "duration": 15,
    "start_time": "2022-05-22T10:44:56.655Z"
   },
   {
    "duration": 0,
    "start_time": "2022-05-22T10:44:56.671Z"
   },
   {
    "duration": 0,
    "start_time": "2022-05-22T10:44:56.672Z"
   },
   {
    "duration": 0,
    "start_time": "2022-05-22T10:44:56.673Z"
   },
   {
    "duration": 0,
    "start_time": "2022-05-22T10:44:56.674Z"
   },
   {
    "duration": 0,
    "start_time": "2022-05-22T10:44:56.675Z"
   },
   {
    "duration": 18,
    "start_time": "2022-05-22T10:46:27.497Z"
   },
   {
    "duration": 13,
    "start_time": "2022-05-22T10:46:45.068Z"
   },
   {
    "duration": 12,
    "start_time": "2022-05-22T10:47:20.894Z"
   },
   {
    "duration": 16,
    "start_time": "2022-05-22T10:47:35.954Z"
   },
   {
    "duration": 8,
    "start_time": "2022-05-22T10:49:53.399Z"
   },
   {
    "duration": 1202,
    "start_time": "2022-05-22T10:50:38.954Z"
   },
   {
    "duration": 1027,
    "start_time": "2022-05-22T10:50:40.158Z"
   },
   {
    "duration": 108,
    "start_time": "2022-05-22T10:50:41.186Z"
   },
   {
    "duration": 521,
    "start_time": "2022-05-22T10:50:41.296Z"
   },
   {
    "duration": 537,
    "start_time": "2022-05-22T10:50:41.820Z"
   },
   {
    "duration": 29,
    "start_time": "2022-05-22T10:50:42.360Z"
   },
   {
    "duration": 61,
    "start_time": "2022-05-22T10:50:42.391Z"
   },
   {
    "duration": 87,
    "start_time": "2022-05-22T10:50:42.454Z"
   },
   {
    "duration": 49,
    "start_time": "2022-05-22T10:50:42.543Z"
   },
   {
    "duration": 2,
    "start_time": "2022-05-22T10:50:42.593Z"
   },
   {
    "duration": 214,
    "start_time": "2022-05-22T10:50:42.597Z"
   },
   {
    "duration": 463,
    "start_time": "2022-05-22T10:50:42.812Z"
   },
   {
    "duration": 11,
    "start_time": "2022-05-22T10:50:43.277Z"
   },
   {
    "duration": 19,
    "start_time": "2022-05-22T10:50:43.291Z"
   },
   {
    "duration": 44,
    "start_time": "2022-05-22T10:50:43.311Z"
   },
   {
    "duration": 7,
    "start_time": "2022-05-22T10:50:43.357Z"
   },
   {
    "duration": 335,
    "start_time": "2022-05-22T10:50:43.365Z"
   },
   {
    "duration": 8,
    "start_time": "2022-05-22T10:50:43.702Z"
   },
   {
    "duration": 52,
    "start_time": "2022-05-22T10:50:43.712Z"
   },
   {
    "duration": 60,
    "start_time": "2022-05-22T10:50:43.766Z"
   },
   {
    "duration": 24,
    "start_time": "2022-05-22T10:50:43.828Z"
   },
   {
    "duration": 13,
    "start_time": "2022-05-22T10:50:43.854Z"
   },
   {
    "duration": 6,
    "start_time": "2022-05-22T10:50:43.869Z"
   },
   {
    "duration": 8,
    "start_time": "2022-05-22T10:50:43.876Z"
   },
   {
    "duration": 8,
    "start_time": "2022-05-22T10:50:43.886Z"
   },
   {
    "duration": 22702,
    "start_time": "2022-05-22T10:50:43.896Z"
   },
   {
    "duration": 184673,
    "start_time": "2022-05-22T10:51:06.599Z"
   },
   {
    "duration": 18713,
    "start_time": "2022-05-22T10:54:11.326Z"
   },
   {
    "duration": 295,
    "start_time": "2022-05-22T10:54:30.041Z"
   },
   {
    "duration": 9,
    "start_time": "2022-05-22T10:54:30.338Z"
   },
   {
    "duration": 83,
    "start_time": "2022-05-22T10:54:30.348Z"
   },
   {
    "duration": 198,
    "start_time": "2022-05-22T10:54:30.433Z"
   },
   {
    "duration": 400,
    "start_time": "2022-05-22T10:54:30.633Z"
   },
   {
    "duration": 46,
    "start_time": "2022-05-22T10:54:31.035Z"
   },
   {
    "duration": 16,
    "start_time": "2022-05-22T10:54:31.083Z"
   },
   {
    "duration": 0,
    "start_time": "2022-05-22T10:54:31.101Z"
   },
   {
    "duration": 0,
    "start_time": "2022-05-22T10:54:31.102Z"
   },
   {
    "duration": 0,
    "start_time": "2022-05-22T10:54:31.103Z"
   },
   {
    "duration": 0,
    "start_time": "2022-05-22T10:54:31.104Z"
   },
   {
    "duration": 0,
    "start_time": "2022-05-22T10:54:31.105Z"
   },
   {
    "duration": 1067,
    "start_time": "2022-05-22T10:55:23.262Z"
   },
   {
    "duration": 967,
    "start_time": "2022-05-22T10:55:24.331Z"
   },
   {
    "duration": 112,
    "start_time": "2022-05-22T10:55:25.300Z"
   },
   {
    "duration": 471,
    "start_time": "2022-05-22T10:55:25.414Z"
   },
   {
    "duration": 472,
    "start_time": "2022-05-22T10:55:25.886Z"
   },
   {
    "duration": 27,
    "start_time": "2022-05-22T10:55:26.360Z"
   },
   {
    "duration": 61,
    "start_time": "2022-05-22T10:55:26.388Z"
   },
   {
    "duration": 81,
    "start_time": "2022-05-22T10:55:26.451Z"
   },
   {
    "duration": 47,
    "start_time": "2022-05-22T10:55:26.533Z"
   },
   {
    "duration": 2,
    "start_time": "2022-05-22T10:55:26.583Z"
   },
   {
    "duration": 209,
    "start_time": "2022-05-22T10:55:26.586Z"
   },
   {
    "duration": 459,
    "start_time": "2022-05-22T10:55:26.797Z"
   },
   {
    "duration": 12,
    "start_time": "2022-05-22T10:55:27.257Z"
   },
   {
    "duration": 22,
    "start_time": "2022-05-22T10:55:27.271Z"
   },
   {
    "duration": 47,
    "start_time": "2022-05-22T10:55:27.294Z"
   },
   {
    "duration": 8,
    "start_time": "2022-05-22T10:55:27.343Z"
   },
   {
    "duration": 327,
    "start_time": "2022-05-22T10:55:27.352Z"
   },
   {
    "duration": 9,
    "start_time": "2022-05-22T10:55:27.681Z"
   },
   {
    "duration": 38,
    "start_time": "2022-05-22T10:55:27.692Z"
   },
   {
    "duration": 50,
    "start_time": "2022-05-22T10:55:27.732Z"
   },
   {
    "duration": 26,
    "start_time": "2022-05-22T10:55:27.784Z"
   },
   {
    "duration": 5,
    "start_time": "2022-05-22T10:55:27.827Z"
   },
   {
    "duration": 8,
    "start_time": "2022-05-22T10:55:27.834Z"
   },
   {
    "duration": 8,
    "start_time": "2022-05-22T10:55:27.844Z"
   },
   {
    "duration": 12,
    "start_time": "2022-05-22T10:55:27.855Z"
   },
   {
    "duration": 20924,
    "start_time": "2022-05-22T10:55:27.869Z"
   },
   {
    "duration": 183041,
    "start_time": "2022-05-22T10:55:48.794Z"
   },
   {
    "duration": 19595,
    "start_time": "2022-05-22T10:58:51.839Z"
   },
   {
    "duration": 514294,
    "start_time": "2022-05-22T10:59:11.435Z"
   },
   {
    "duration": 8,
    "start_time": "2022-05-22T11:07:45.731Z"
   },
   {
    "duration": 70,
    "start_time": "2022-05-22T11:07:45.741Z"
   },
   {
    "duration": 213,
    "start_time": "2022-05-22T11:07:45.813Z"
   },
   {
    "duration": 304,
    "start_time": "2022-05-22T11:07:46.028Z"
   },
   {
    "duration": 676,
    "start_time": "2022-05-22T11:07:46.333Z"
   },
   {
    "duration": 16,
    "start_time": "2022-05-22T11:07:47.011Z"
   },
   {
    "duration": 1313,
    "start_time": "2022-05-22T11:07:47.029Z"
   },
   {
    "duration": 8,
    "start_time": "2022-05-22T11:07:48.344Z"
   },
   {
    "duration": 11,
    "start_time": "2022-05-22T11:07:48.353Z"
   },
   {
    "duration": 13,
    "start_time": "2022-05-22T11:07:48.366Z"
   },
   {
    "duration": 10,
    "start_time": "2022-05-22T11:07:48.381Z"
   },
   {
    "duration": 1409,
    "start_time": "2022-05-22T17:32:03.271Z"
   },
   {
    "duration": 1195,
    "start_time": "2022-05-22T17:32:06.391Z"
   },
   {
    "duration": 131,
    "start_time": "2022-05-22T17:32:07.587Z"
   },
   {
    "duration": 432,
    "start_time": "2022-05-22T17:32:07.719Z"
   },
   {
    "duration": 431,
    "start_time": "2022-05-22T17:32:08.153Z"
   },
   {
    "duration": 23,
    "start_time": "2022-05-22T17:32:10.252Z"
   },
   {
    "duration": 45,
    "start_time": "2022-05-22T17:32:10.466Z"
   },
   {
    "duration": 73,
    "start_time": "2022-05-22T17:32:11.912Z"
   },
   {
    "duration": 43,
    "start_time": "2022-05-22T17:32:14.586Z"
   },
   {
    "duration": 3,
    "start_time": "2022-05-22T17:32:16.725Z"
   },
   {
    "duration": 72,
    "start_time": "2022-05-22T17:32:41.370Z"
   },
   {
    "duration": 70,
    "start_time": "2022-05-22T17:32:49.508Z"
   },
   {
    "duration": 566,
    "start_time": "2022-05-22T17:33:02.040Z"
   },
   {
    "duration": 75,
    "start_time": "2022-05-22T17:33:07.573Z"
   },
   {
    "duration": 4,
    "start_time": "2022-05-22T17:33:21.304Z"
   },
   {
    "duration": 182,
    "start_time": "2022-05-22T17:33:26.450Z"
   },
   {
    "duration": 4,
    "start_time": "2022-05-22T17:33:53.387Z"
   },
   {
    "duration": 4,
    "start_time": "2022-05-22T17:34:16.839Z"
   },
   {
    "duration": 29,
    "start_time": "2022-05-22T17:41:11.053Z"
   },
   {
    "duration": 108,
    "start_time": "2022-05-22T17:41:16.951Z"
   },
   {
    "duration": 15,
    "start_time": "2022-05-22T17:47:58.158Z"
   },
   {
    "duration": 3,
    "start_time": "2022-05-22T17:49:11.496Z"
   },
   {
    "duration": 201,
    "start_time": "2022-05-22T17:50:40.511Z"
   },
   {
    "duration": 10,
    "start_time": "2022-05-22T17:50:42.020Z"
   },
   {
    "duration": 18,
    "start_time": "2022-05-22T17:51:03.343Z"
   },
   {
    "duration": 4,
    "start_time": "2022-05-22T17:53:27.594Z"
   },
   {
    "duration": 24,
    "start_time": "2022-05-22T17:55:14.649Z"
   },
   {
    "duration": 8,
    "start_time": "2022-05-22T17:55:25.850Z"
   },
   {
    "duration": 8,
    "start_time": "2022-05-22T17:55:34.209Z"
   },
   {
    "duration": 21,
    "start_time": "2022-05-22T18:02:51.877Z"
   },
   {
    "duration": 61,
    "start_time": "2022-05-22T18:03:01.249Z"
   },
   {
    "duration": 10,
    "start_time": "2022-05-22T18:33:38.770Z"
   },
   {
    "duration": 7,
    "start_time": "2022-05-22T18:34:00.118Z"
   },
   {
    "duration": 9,
    "start_time": "2022-05-22T18:34:22.999Z"
   },
   {
    "duration": 7,
    "start_time": "2022-05-22T18:36:35.159Z"
   },
   {
    "duration": 67,
    "start_time": "2022-05-22T18:37:04.422Z"
   },
   {
    "duration": 5,
    "start_time": "2022-05-22T18:38:52.437Z"
   },
   {
    "duration": 4,
    "start_time": "2022-05-22T18:39:20.481Z"
   },
   {
    "duration": 273,
    "start_time": "2022-05-22T19:34:10.893Z"
   },
   {
    "duration": 9,
    "start_time": "2022-05-22T19:34:50.106Z"
   },
   {
    "duration": 33,
    "start_time": "2022-05-22T19:35:10.208Z"
   },
   {
    "duration": 11,
    "start_time": "2022-05-22T19:37:20.074Z"
   },
   {
    "duration": 49,
    "start_time": "2022-05-22T19:37:29.979Z"
   },
   {
    "duration": 22,
    "start_time": "2022-05-22T19:37:30.161Z"
   },
   {
    "duration": 5,
    "start_time": "2022-05-22T19:37:35.581Z"
   },
   {
    "duration": 4,
    "start_time": "2022-05-22T19:38:48.876Z"
   },
   {
    "duration": 4,
    "start_time": "2022-05-22T19:39:04.717Z"
   },
   {
    "duration": 3,
    "start_time": "2022-05-22T19:39:26.181Z"
   },
   {
    "duration": 18500,
    "start_time": "2022-05-22T19:43:33.676Z"
   },
   {
    "duration": 697801,
    "start_time": "2022-05-22T19:43:58.133Z"
   },
   {
    "duration": 1618884,
    "start_time": "2022-05-22T19:55:35.936Z"
   },
   {
    "duration": 4,
    "start_time": "2022-05-22T21:01:34.876Z"
   },
   {
    "duration": 4,
    "start_time": "2022-05-22T21:01:35.974Z"
   },
   {
    "duration": 809,
    "start_time": "2022-05-22T21:01:36.540Z"
   },
   {
    "duration": 92,
    "start_time": "2022-05-22T21:01:37.351Z"
   },
   {
    "duration": 373,
    "start_time": "2022-05-22T21:01:37.445Z"
   },
   {
    "duration": 377,
    "start_time": "2022-05-22T21:01:37.820Z"
   },
   {
    "duration": 19,
    "start_time": "2022-05-22T21:01:40.033Z"
   },
   {
    "duration": 45,
    "start_time": "2022-05-22T21:01:40.490Z"
   },
   {
    "duration": 70,
    "start_time": "2022-05-22T21:01:40.995Z"
   },
   {
    "duration": 47,
    "start_time": "2022-05-22T21:01:42.616Z"
   },
   {
    "duration": 3,
    "start_time": "2022-05-22T21:01:43.035Z"
   },
   {
    "duration": 149,
    "start_time": "2022-05-22T21:01:43.538Z"
   },
   {
    "duration": 195,
    "start_time": "2022-05-22T21:01:46.275Z"
   },
   {
    "duration": 11,
    "start_time": "2022-05-22T21:01:46.818Z"
   },
   {
    "duration": 19,
    "start_time": "2022-05-22T21:01:48.117Z"
   },
   {
    "duration": 22,
    "start_time": "2022-05-22T21:01:48.962Z"
   },
   {
    "duration": 68,
    "start_time": "2022-05-22T21:01:49.727Z"
   },
   {
    "duration": 8,
    "start_time": "2022-05-22T21:01:50.959Z"
   },
   {
    "duration": 55,
    "start_time": "2022-05-22T21:01:51.963Z"
   },
   {
    "duration": 53,
    "start_time": "2022-05-22T21:02:14.877Z"
   },
   {
    "duration": 314,
    "start_time": "2022-05-22T21:18:01.571Z"
   },
   {
    "duration": 10,
    "start_time": "2022-05-22T21:19:18.516Z"
   },
   {
    "duration": 329,
    "start_time": "2022-05-22T21:20:38.650Z"
   },
   {
    "duration": 10,
    "start_time": "2022-05-22T21:22:29.456Z"
   },
   {
    "duration": 51,
    "start_time": "2022-05-22T21:22:31.233Z"
   },
   {
    "duration": 39,
    "start_time": "2022-05-22T21:24:28.026Z"
   },
   {
    "duration": 58,
    "start_time": "2022-05-22T21:24:31.751Z"
   },
   {
    "duration": 31,
    "start_time": "2022-05-22T21:24:36.857Z"
   },
   {
    "duration": 55,
    "start_time": "2022-05-22T21:24:38.054Z"
   },
   {
    "duration": 114,
    "start_time": "2022-05-22T21:29:01.533Z"
   },
   {
    "duration": 1850,
    "start_time": "2022-05-24T09:19:44.777Z"
   },
   {
    "duration": 1304,
    "start_time": "2022-05-24T09:19:47.895Z"
   },
   {
    "duration": 108,
    "start_time": "2022-05-24T09:19:51.856Z"
   },
   {
    "duration": 454,
    "start_time": "2022-05-24T09:19:53.936Z"
   },
   {
    "duration": 463,
    "start_time": "2022-05-24T09:19:55.425Z"
   },
   {
    "duration": 25,
    "start_time": "2022-05-24T09:19:58.878Z"
   },
   {
    "duration": 47,
    "start_time": "2022-05-24T09:19:59.679Z"
   },
   {
    "duration": 79,
    "start_time": "2022-05-24T09:20:01.752Z"
   },
   {
    "duration": 23,
    "start_time": "2022-05-24T09:20:04.526Z"
   },
   {
    "duration": 614,
    "start_time": "2022-05-24T09:20:25.790Z"
   },
   {
    "duration": 176,
    "start_time": "2022-05-24T09:20:41.791Z"
   },
   {
    "duration": 43,
    "start_time": "2022-05-24T09:23:52.568Z"
   },
   {
    "duration": 7,
    "start_time": "2022-05-24T09:24:43.048Z"
   },
   {
    "duration": 44,
    "start_time": "2022-05-24T09:55:47.957Z"
   },
   {
    "duration": 19,
    "start_time": "2022-05-24T10:02:40.004Z"
   },
   {
    "duration": 70,
    "start_time": "2022-05-24T10:24:49.060Z"
   },
   {
    "duration": 84,
    "start_time": "2022-05-24T10:25:05.335Z"
   },
   {
    "duration": 77,
    "start_time": "2022-05-24T10:25:23.711Z"
   },
   {
    "duration": 126,
    "start_time": "2022-05-24T11:22:26.852Z"
   },
   {
    "duration": 1406,
    "start_time": "2022-05-24T11:22:33.938Z"
   },
   {
    "duration": 8,
    "start_time": "2022-05-24T11:26:07.423Z"
   },
   {
    "duration": 71,
    "start_time": "2022-05-24T11:26:48.490Z"
   },
   {
    "duration": 9,
    "start_time": "2022-05-24T11:26:56.146Z"
   },
   {
    "duration": 254,
    "start_time": "2022-05-24T11:27:07.014Z"
   },
   {
    "duration": 19,
    "start_time": "2022-05-24T11:27:11.848Z"
   },
   {
    "duration": 43,
    "start_time": "2022-05-24T11:27:14.102Z"
   },
   {
    "duration": 32,
    "start_time": "2022-05-24T11:27:15.869Z"
   },
   {
    "duration": 7,
    "start_time": "2022-05-24T11:27:17.661Z"
   },
   {
    "duration": 77,
    "start_time": "2022-05-24T11:27:32.262Z"
   },
   {
    "duration": 729,
    "start_time": "2022-05-24T11:32:58.195Z"
   },
   {
    "duration": 404,
    "start_time": "2022-05-24T11:33:05.212Z"
   },
   {
    "duration": 9,
    "start_time": "2022-05-24T11:33:12.700Z"
   },
   {
    "duration": 9,
    "start_time": "2022-05-24T11:33:16.268Z"
   },
   {
    "duration": 9,
    "start_time": "2022-05-24T11:33:19.755Z"
   },
   {
    "duration": 13,
    "start_time": "2022-05-24T11:33:23.156Z"
   },
   {
    "duration": 27,
    "start_time": "2022-05-24T11:33:30.892Z"
   },
   {
    "duration": 15,
    "start_time": "2022-05-24T11:33:33.645Z"
   },
   {
    "duration": 12,
    "start_time": "2022-05-24T14:35:10.147Z"
   },
   {
    "duration": 17,
    "start_time": "2022-05-24T14:35:16.639Z"
   },
   {
    "duration": 23,
    "start_time": "2022-05-24T14:35:24.770Z"
   },
   {
    "duration": 4,
    "start_time": "2022-05-24T14:35:58.709Z"
   },
   {
    "duration": 1247,
    "start_time": "2022-05-24T14:35:59.912Z"
   },
   {
    "duration": 92,
    "start_time": "2022-05-24T14:36:03.389Z"
   },
   {
    "duration": 388,
    "start_time": "2022-05-24T14:36:05.468Z"
   },
   {
    "duration": 411,
    "start_time": "2022-05-24T14:36:06.717Z"
   },
   {
    "duration": 17,
    "start_time": "2022-05-24T14:36:09.764Z"
   },
   {
    "duration": 24,
    "start_time": "2022-05-24T14:36:10.908Z"
   },
   {
    "duration": 72,
    "start_time": "2022-05-24T14:36:13.819Z"
   },
   {
    "duration": 43,
    "start_time": "2022-05-24T14:36:16.764Z"
   },
   {
    "duration": 70,
    "start_time": "2022-05-24T14:36:18.291Z"
   },
   {
    "duration": 80,
    "start_time": "2022-05-24T14:36:19.196Z"
   },
   {
    "duration": 248,
    "start_time": "2022-05-24T14:36:21.300Z"
   },
   {
    "duration": 13,
    "start_time": "2022-05-24T14:36:23.195Z"
   },
   {
    "duration": 21,
    "start_time": "2022-05-24T14:36:30.555Z"
   },
   {
    "duration": 28,
    "start_time": "2022-05-24T14:36:32.923Z"
   },
   {
    "duration": 8,
    "start_time": "2022-05-24T14:36:34.820Z"
   },
   {
    "duration": 81,
    "start_time": "2022-05-24T14:36:37.572Z"
   },
   {
    "duration": 348,
    "start_time": "2022-05-24T14:36:41.258Z"
   },
   {
    "duration": 239,
    "start_time": "2022-05-24T14:37:13.786Z"
   },
   {
    "duration": 19,
    "start_time": "2022-05-24T14:37:23.937Z"
   },
   {
    "duration": 237,
    "start_time": "2022-05-24T14:37:41.128Z"
   },
   {
    "duration": 279,
    "start_time": "2022-05-24T14:37:45.269Z"
   },
   {
    "duration": 267,
    "start_time": "2022-05-24T14:38:00.032Z"
   },
   {
    "duration": 278,
    "start_time": "2022-05-24T14:38:08.103Z"
   },
   {
    "duration": 27,
    "start_time": "2022-05-24T14:38:34.885Z"
   },
   {
    "duration": 363,
    "start_time": "2022-05-24T14:38:45.830Z"
   },
   {
    "duration": 73,
    "start_time": "2022-05-24T14:39:06.277Z"
   },
   {
    "duration": 220,
    "start_time": "2022-05-24T14:41:46.716Z"
   },
   {
    "duration": 265,
    "start_time": "2022-05-24T14:41:55.428Z"
   },
   {
    "duration": 29,
    "start_time": "2022-05-24T14:42:45.849Z"
   },
   {
    "duration": 247,
    "start_time": "2022-05-24T14:43:38.519Z"
   },
   {
    "duration": 231,
    "start_time": "2022-05-24T14:44:59.323Z"
   },
   {
    "duration": 316,
    "start_time": "2022-05-24T14:45:05.939Z"
   },
   {
    "duration": 236,
    "start_time": "2022-05-24T14:45:13.770Z"
   },
   {
    "duration": 224,
    "start_time": "2022-05-24T14:45:20.802Z"
   },
   {
    "duration": 24,
    "start_time": "2022-05-24T14:46:48.045Z"
   },
   {
    "duration": 21,
    "start_time": "2022-05-24T14:47:12.037Z"
   },
   {
    "duration": 22,
    "start_time": "2022-05-24T14:47:59.938Z"
   },
   {
    "duration": 13,
    "start_time": "2022-05-24T14:52:13.576Z"
   },
   {
    "duration": 21,
    "start_time": "2022-05-24T15:21:50.897Z"
   },
   {
    "duration": 25,
    "start_time": "2022-05-24T15:25:29.095Z"
   },
   {
    "duration": 8,
    "start_time": "2022-05-24T15:25:47.021Z"
   },
   {
    "duration": 9,
    "start_time": "2022-05-24T15:26:02.055Z"
   },
   {
    "duration": 295,
    "start_time": "2022-05-24T15:26:05.221Z"
   },
   {
    "duration": 29,
    "start_time": "2022-05-24T15:26:12.316Z"
   },
   {
    "duration": 3,
    "start_time": "2022-05-24T15:26:24.996Z"
   },
   {
    "duration": 873,
    "start_time": "2022-05-24T15:26:26.221Z"
   },
   {
    "duration": 95,
    "start_time": "2022-05-24T15:26:29.298Z"
   },
   {
    "duration": 404,
    "start_time": "2022-05-24T15:26:30.981Z"
   },
   {
    "duration": 421,
    "start_time": "2022-05-24T15:26:32.166Z"
   },
   {
    "duration": 16,
    "start_time": "2022-05-24T15:26:34.994Z"
   },
   {
    "duration": 25,
    "start_time": "2022-05-24T15:26:35.724Z"
   },
   {
    "duration": 72,
    "start_time": "2022-05-24T15:26:37.173Z"
   },
   {
    "duration": 41,
    "start_time": "2022-05-24T15:26:39.165Z"
   },
   {
    "duration": 75,
    "start_time": "2022-05-24T15:26:42.929Z"
   },
   {
    "duration": 68,
    "start_time": "2022-05-24T15:26:44.065Z"
   },
   {
    "duration": 247,
    "start_time": "2022-05-24T15:26:53.490Z"
   },
   {
    "duration": 14,
    "start_time": "2022-05-24T15:26:59.001Z"
   },
   {
    "duration": 20,
    "start_time": "2022-05-24T15:27:00.714Z"
   },
   {
    "duration": 23,
    "start_time": "2022-05-24T15:27:14.168Z"
   },
   {
    "duration": 24,
    "start_time": "2022-05-24T15:27:16.016Z"
   },
   {
    "duration": 269,
    "start_time": "2022-05-24T15:27:31.607Z"
   },
   {
    "duration": 27,
    "start_time": "2022-05-24T15:27:35.761Z"
   },
   {
    "duration": 9,
    "start_time": "2022-05-24T15:27:38.064Z"
   },
   {
    "duration": 75,
    "start_time": "2022-05-24T15:27:42.593Z"
   },
   {
    "duration": 360,
    "start_time": "2022-05-24T15:27:52.175Z"
   },
   {
    "duration": 23,
    "start_time": "2022-05-24T15:28:08.367Z"
   },
   {
    "duration": 250,
    "start_time": "2022-05-24T15:28:27.422Z"
   },
   {
    "duration": 34,
    "start_time": "2022-05-24T15:28:29.865Z"
   },
   {
    "duration": 66,
    "start_time": "2022-05-24T15:28:57.291Z"
   },
   {
    "duration": 16,
    "start_time": "2022-05-24T16:35:28.712Z"
   },
   {
    "duration": 80,
    "start_time": "2022-05-24T16:35:29.540Z"
   },
   {
    "duration": 34,
    "start_time": "2022-05-24T16:35:30.424Z"
   },
   {
    "duration": 6,
    "start_time": "2022-05-24T16:35:31.707Z"
   },
   {
    "duration": 368,
    "start_time": "2022-05-24T16:35:33.168Z"
   },
   {
    "duration": 9,
    "start_time": "2022-05-24T16:35:34.536Z"
   },
   {
    "duration": 12,
    "start_time": "2022-05-24T16:53:22.236Z"
   },
   {
    "duration": 332,
    "start_time": "2022-05-24T16:54:28.754Z"
   },
   {
    "duration": 388,
    "start_time": "2022-05-24T16:54:53.657Z"
   },
   {
    "duration": 1266,
    "start_time": "2022-05-24T16:55:13.971Z"
   },
   {
    "duration": 1027,
    "start_time": "2022-05-24T16:55:15.242Z"
   },
   {
    "duration": 113,
    "start_time": "2022-05-24T16:55:16.271Z"
   },
   {
    "duration": 474,
    "start_time": "2022-05-24T16:55:16.386Z"
   },
   {
    "duration": 448,
    "start_time": "2022-05-24T16:55:16.862Z"
   },
   {
    "duration": 18,
    "start_time": "2022-05-24T16:55:17.312Z"
   },
   {
    "duration": 67,
    "start_time": "2022-05-24T16:55:17.331Z"
   },
   {
    "duration": 88,
    "start_time": "2022-05-24T16:55:17.400Z"
   },
   {
    "duration": 67,
    "start_time": "2022-05-24T16:55:17.489Z"
   },
   {
    "duration": 3,
    "start_time": "2022-05-24T16:55:17.557Z"
   },
   {
    "duration": 78,
    "start_time": "2022-05-24T16:55:17.561Z"
   },
   {
    "duration": 79,
    "start_time": "2022-05-24T16:55:17.641Z"
   },
   {
    "duration": 492,
    "start_time": "2022-05-24T16:55:17.722Z"
   },
   {
    "duration": 14,
    "start_time": "2022-05-24T16:55:18.217Z"
   },
   {
    "duration": 38,
    "start_time": "2022-05-24T16:55:18.233Z"
   },
   {
    "duration": 38,
    "start_time": "2022-05-24T16:55:18.274Z"
   },
   {
    "duration": 39,
    "start_time": "2022-05-24T16:55:18.314Z"
   },
   {
    "duration": 256,
    "start_time": "2022-05-24T16:55:18.355Z"
   },
   {
    "duration": 45,
    "start_time": "2022-05-24T16:55:18.613Z"
   },
   {
    "duration": 8,
    "start_time": "2022-05-24T16:55:18.660Z"
   },
   {
    "duration": 90,
    "start_time": "2022-05-24T16:55:18.670Z"
   },
   {
    "duration": 252,
    "start_time": "2022-05-24T16:55:18.761Z"
   },
   {
    "duration": 37,
    "start_time": "2022-05-24T16:55:19.015Z"
   },
   {
    "duration": 69,
    "start_time": "2022-05-24T16:55:19.053Z"
   },
   {
    "duration": 33,
    "start_time": "2022-05-24T16:55:19.124Z"
   },
   {
    "duration": 79,
    "start_time": "2022-05-24T16:55:19.158Z"
   },
   {
    "duration": 47,
    "start_time": "2022-05-24T16:55:19.238Z"
   },
   {
    "duration": 5,
    "start_time": "2022-05-24T16:55:19.286Z"
   },
   {
    "duration": 174,
    "start_time": "2022-05-24T16:55:19.292Z"
   },
   {
    "duration": 0,
    "start_time": "2022-05-24T16:55:19.468Z"
   },
   {
    "duration": 0,
    "start_time": "2022-05-24T16:55:19.469Z"
   },
   {
    "duration": 0,
    "start_time": "2022-05-24T16:55:19.470Z"
   },
   {
    "duration": 0,
    "start_time": "2022-05-24T16:55:19.472Z"
   },
   {
    "duration": 0,
    "start_time": "2022-05-24T16:55:19.472Z"
   },
   {
    "duration": 0,
    "start_time": "2022-05-24T16:55:19.473Z"
   },
   {
    "duration": 0,
    "start_time": "2022-05-24T16:55:19.475Z"
   },
   {
    "duration": 0,
    "start_time": "2022-05-24T16:55:19.476Z"
   },
   {
    "duration": 0,
    "start_time": "2022-05-24T16:55:19.477Z"
   },
   {
    "duration": 0,
    "start_time": "2022-05-24T16:55:19.478Z"
   },
   {
    "duration": 0,
    "start_time": "2022-05-24T16:55:19.479Z"
   },
   {
    "duration": 0,
    "start_time": "2022-05-24T16:55:19.480Z"
   },
   {
    "duration": 0,
    "start_time": "2022-05-24T16:55:19.481Z"
   },
   {
    "duration": 0,
    "start_time": "2022-05-24T16:55:19.482Z"
   },
   {
    "duration": 0,
    "start_time": "2022-05-24T16:55:19.483Z"
   },
   {
    "duration": 0,
    "start_time": "2022-05-24T16:55:19.484Z"
   },
   {
    "duration": 0,
    "start_time": "2022-05-24T16:55:19.485Z"
   },
   {
    "duration": 0,
    "start_time": "2022-05-24T16:55:19.487Z"
   },
   {
    "duration": 0,
    "start_time": "2022-05-24T16:55:19.489Z"
   },
   {
    "duration": 424,
    "start_time": "2022-05-24T16:56:05.812Z"
   },
   {
    "duration": 4,
    "start_time": "2022-05-24T16:57:58.494Z"
   },
   {
    "duration": 1146,
    "start_time": "2022-05-24T16:57:59.750Z"
   },
   {
    "duration": 92,
    "start_time": "2022-05-24T16:58:02.806Z"
   },
   {
    "duration": 395,
    "start_time": "2022-05-24T16:58:04.686Z"
   },
   {
    "duration": 437,
    "start_time": "2022-05-24T16:58:06.014Z"
   },
   {
    "duration": 17,
    "start_time": "2022-05-24T16:58:08.902Z"
   },
   {
    "duration": 26,
    "start_time": "2022-05-24T16:58:09.926Z"
   },
   {
    "duration": 68,
    "start_time": "2022-05-24T16:58:11.702Z"
   },
   {
    "duration": 47,
    "start_time": "2022-05-24T16:58:13.870Z"
   },
   {
    "duration": 69,
    "start_time": "2022-05-24T16:58:16.029Z"
   },
   {
    "duration": 77,
    "start_time": "2022-05-24T16:58:17.613Z"
   },
   {
    "duration": 241,
    "start_time": "2022-05-24T16:58:19.621Z"
   },
   {
    "duration": 14,
    "start_time": "2022-05-24T16:58:21.404Z"
   },
   {
    "duration": 20,
    "start_time": "2022-05-24T16:58:22.878Z"
   },
   {
    "duration": 24,
    "start_time": "2022-05-24T16:58:24.413Z"
   },
   {
    "duration": 35,
    "start_time": "2022-05-24T16:58:35.061Z"
   },
   {
    "duration": 353,
    "start_time": "2022-05-24T16:58:36.900Z"
   },
   {
    "duration": 36,
    "start_time": "2022-05-24T16:58:38.932Z"
   },
   {
    "duration": 9,
    "start_time": "2022-05-24T16:58:40.324Z"
   },
   {
    "duration": 71,
    "start_time": "2022-05-24T16:58:42.228Z"
   },
   {
    "duration": 231,
    "start_time": "2022-05-24T16:58:43.886Z"
   },
   {
    "duration": 30,
    "start_time": "2022-05-24T16:58:45.516Z"
   },
   {
    "duration": 68,
    "start_time": "2022-05-24T16:58:46.400Z"
   },
   {
    "duration": 16,
    "start_time": "2022-05-24T16:58:48.908Z"
   },
   {
    "duration": 376,
    "start_time": "2022-05-24T16:58:49.971Z"
   },
   {
    "duration": 73,
    "start_time": "2022-05-24T16:58:51.171Z"
   },
   {
    "duration": 21,
    "start_time": "2022-05-24T16:58:52.443Z"
   },
   {
    "duration": 7,
    "start_time": "2022-05-24T16:58:53.284Z"
   },
   {
    "duration": 4,
    "start_time": "2022-05-24T16:59:11.930Z"
   },
   {
    "duration": 5,
    "start_time": "2022-05-24T17:02:16.269Z"
   },
   {
    "duration": 5291,
    "start_time": "2022-05-24T17:02:19.298Z"
   },
   {
    "duration": 143208,
    "start_time": "2022-05-24T17:02:24.591Z"
   },
   {
    "duration": 419152,
    "start_time": "2022-05-24T17:04:47.801Z"
   },
   {
    "duration": 3,
    "start_time": "2022-05-24T17:11:46.955Z"
   },
   {
    "duration": 145275,
    "start_time": "2022-05-24T17:11:46.960Z"
   },
   {
    "duration": 88,
    "start_time": "2022-05-24T17:14:12.237Z"
   },
   {
    "duration": 567,
    "start_time": "2022-05-24T17:14:12.327Z"
   },
   {
    "duration": 371,
    "start_time": "2022-05-24T17:14:12.895Z"
   },
   {
    "duration": 959,
    "start_time": "2022-05-24T17:14:13.268Z"
   },
   {
    "duration": 22,
    "start_time": "2022-05-24T17:14:14.230Z"
   },
   {
    "duration": 1666,
    "start_time": "2022-05-24T17:14:14.255Z"
   },
   {
    "duration": 10,
    "start_time": "2022-05-24T17:14:15.923Z"
   },
   {
    "duration": 19,
    "start_time": "2022-05-24T17:14:15.936Z"
   },
   {
    "duration": 7,
    "start_time": "2022-05-24T17:14:15.957Z"
   },
   {
    "duration": 11,
    "start_time": "2022-05-24T17:14:15.966Z"
   },
   {
    "duration": 9,
    "start_time": "2022-05-24T17:24:46.714Z"
   },
   {
    "duration": 9,
    "start_time": "2022-05-24T17:25:59.581Z"
   },
   {
    "duration": 51,
    "start_time": "2022-05-24T17:32:57.255Z"
   },
   {
    "duration": 13,
    "start_time": "2022-05-24T17:32:58.560Z"
   },
   {
    "duration": 5,
    "start_time": "2022-05-24T17:32:59.648Z"
   },
   {
    "duration": 5,
    "start_time": "2022-05-24T17:33:12.719Z"
   },
   {
    "duration": 52,
    "start_time": "2022-05-24T17:33:14.159Z"
   },
   {
    "duration": 8,
    "start_time": "2022-05-24T17:33:14.855Z"
   },
   {
    "duration": 5,
    "start_time": "2022-05-24T17:33:15.521Z"
   },
   {
    "duration": 7,
    "start_time": "2022-05-24T17:34:08.021Z"
   },
   {
    "duration": 19,
    "start_time": "2022-05-24T17:34:10.837Z"
   },
   {
    "duration": 399,
    "start_time": "2022-05-24T17:34:11.572Z"
   },
   {
    "duration": 72,
    "start_time": "2022-05-24T17:34:12.555Z"
   },
   {
    "duration": 6,
    "start_time": "2022-05-24T17:34:13.399Z"
   },
   {
    "duration": 5,
    "start_time": "2022-05-24T17:34:14.445Z"
   },
   {
    "duration": 1246,
    "start_time": "2022-05-24T17:34:24.712Z"
   },
   {
    "duration": 961,
    "start_time": "2022-05-24T17:34:25.960Z"
   },
   {
    "duration": 119,
    "start_time": "2022-05-24T17:34:26.923Z"
   },
   {
    "duration": 458,
    "start_time": "2022-05-24T17:34:27.044Z"
   },
   {
    "duration": 480,
    "start_time": "2022-05-24T17:34:27.504Z"
   },
   {
    "duration": 30,
    "start_time": "2022-05-24T17:34:27.985Z"
   },
   {
    "duration": 62,
    "start_time": "2022-05-24T17:34:28.016Z"
   },
   {
    "duration": 87,
    "start_time": "2022-05-24T17:34:28.080Z"
   },
   {
    "duration": 44,
    "start_time": "2022-05-24T17:34:28.169Z"
   },
   {
    "duration": 3,
    "start_time": "2022-05-24T17:34:28.216Z"
   },
   {
    "duration": 99,
    "start_time": "2022-05-24T17:34:28.220Z"
   },
   {
    "duration": 70,
    "start_time": "2022-05-24T17:34:28.320Z"
   },
   {
    "duration": 481,
    "start_time": "2022-05-24T17:34:28.392Z"
   },
   {
    "duration": 13,
    "start_time": "2022-05-24T17:34:28.874Z"
   },
   {
    "duration": 46,
    "start_time": "2022-05-24T17:34:28.889Z"
   },
   {
    "duration": 29,
    "start_time": "2022-05-24T17:34:28.937Z"
   },
   {
    "duration": 22,
    "start_time": "2022-05-24T17:34:28.968Z"
   },
   {
    "duration": 265,
    "start_time": "2022-05-24T17:34:28.992Z"
   },
   {
    "duration": 35,
    "start_time": "2022-05-24T17:34:29.258Z"
   },
   {
    "duration": 7,
    "start_time": "2022-05-24T17:34:29.295Z"
   },
   {
    "duration": 92,
    "start_time": "2022-05-24T17:34:29.304Z"
   },
   {
    "duration": 246,
    "start_time": "2022-05-24T17:34:29.397Z"
   },
   {
    "duration": 28,
    "start_time": "2022-05-24T17:34:29.645Z"
   },
   {
    "duration": 88,
    "start_time": "2022-05-24T17:34:29.675Z"
   },
   {
    "duration": 16,
    "start_time": "2022-05-24T17:34:29.764Z"
   },
   {
    "duration": 410,
    "start_time": "2022-05-24T17:34:29.782Z"
   },
   {
    "duration": 79,
    "start_time": "2022-05-24T17:34:30.194Z"
   },
   {
    "duration": 126,
    "start_time": "2022-05-24T17:34:30.276Z"
   },
   {
    "duration": 0,
    "start_time": "2022-05-24T17:34:30.403Z"
   },
   {
    "duration": 0,
    "start_time": "2022-05-24T17:34:30.405Z"
   },
   {
    "duration": 0,
    "start_time": "2022-05-24T17:34:30.406Z"
   },
   {
    "duration": 0,
    "start_time": "2022-05-24T17:34:30.407Z"
   },
   {
    "duration": 0,
    "start_time": "2022-05-24T17:34:30.408Z"
   },
   {
    "duration": 0,
    "start_time": "2022-05-24T17:34:30.410Z"
   },
   {
    "duration": 0,
    "start_time": "2022-05-24T17:34:30.411Z"
   },
   {
    "duration": 0,
    "start_time": "2022-05-24T17:34:30.412Z"
   },
   {
    "duration": 0,
    "start_time": "2022-05-24T17:34:30.413Z"
   },
   {
    "duration": 0,
    "start_time": "2022-05-24T17:34:30.414Z"
   },
   {
    "duration": 0,
    "start_time": "2022-05-24T17:34:30.415Z"
   },
   {
    "duration": 0,
    "start_time": "2022-05-24T17:34:30.417Z"
   },
   {
    "duration": 0,
    "start_time": "2022-05-24T17:34:30.417Z"
   },
   {
    "duration": 0,
    "start_time": "2022-05-24T17:34:30.418Z"
   },
   {
    "duration": 0,
    "start_time": "2022-05-24T17:34:30.452Z"
   },
   {
    "duration": 0,
    "start_time": "2022-05-24T17:34:30.453Z"
   },
   {
    "duration": 0,
    "start_time": "2022-05-24T17:34:30.454Z"
   },
   {
    "duration": 0,
    "start_time": "2022-05-24T17:34:30.456Z"
   },
   {
    "duration": 10,
    "start_time": "2022-05-24T17:34:59.849Z"
   },
   {
    "duration": 10,
    "start_time": "2022-05-24T17:35:16.915Z"
   },
   {
    "duration": 58,
    "start_time": "2022-05-24T17:35:28.528Z"
   },
   {
    "duration": 20,
    "start_time": "2022-05-24T17:35:29.155Z"
   },
   {
    "duration": 5,
    "start_time": "2022-05-24T17:35:30.120Z"
   },
   {
    "duration": 53,
    "start_time": "2022-05-24T17:35:33.250Z"
   },
   {
    "duration": 21,
    "start_time": "2022-05-24T17:35:34.115Z"
   },
   {
    "duration": 6,
    "start_time": "2022-05-24T17:35:34.895Z"
   },
   {
    "duration": 1091,
    "start_time": "2022-05-24T17:37:00.565Z"
   },
   {
    "duration": 963,
    "start_time": "2022-05-24T17:37:01.658Z"
   },
   {
    "duration": 117,
    "start_time": "2022-05-24T17:37:02.622Z"
   },
   {
    "duration": 487,
    "start_time": "2022-05-24T17:37:02.741Z"
   },
   {
    "duration": 470,
    "start_time": "2022-05-24T17:37:03.230Z"
   },
   {
    "duration": 28,
    "start_time": "2022-05-24T17:37:03.702Z"
   },
   {
    "duration": 66,
    "start_time": "2022-05-24T17:37:03.731Z"
   },
   {
    "duration": 75,
    "start_time": "2022-05-24T17:37:03.799Z"
   },
   {
    "duration": 44,
    "start_time": "2022-05-24T17:37:03.876Z"
   },
   {
    "duration": 2,
    "start_time": "2022-05-24T17:37:03.924Z"
   },
   {
    "duration": 68,
    "start_time": "2022-05-24T17:37:03.952Z"
   },
   {
    "duration": 85,
    "start_time": "2022-05-24T17:37:04.022Z"
   },
   {
    "duration": 464,
    "start_time": "2022-05-24T17:37:04.109Z"
   },
   {
    "duration": 15,
    "start_time": "2022-05-24T17:37:04.575Z"
   },
   {
    "duration": 49,
    "start_time": "2022-05-24T17:37:04.592Z"
   },
   {
    "duration": 31,
    "start_time": "2022-05-24T17:37:04.643Z"
   },
   {
    "duration": 23,
    "start_time": "2022-05-24T17:37:04.676Z"
   },
   {
    "duration": 274,
    "start_time": "2022-05-24T17:37:04.701Z"
   },
   {
    "duration": 36,
    "start_time": "2022-05-24T17:37:04.976Z"
   },
   {
    "duration": 7,
    "start_time": "2022-05-24T17:37:05.014Z"
   },
   {
    "duration": 98,
    "start_time": "2022-05-24T17:37:05.023Z"
   },
   {
    "duration": 322,
    "start_time": "2022-05-24T17:37:05.123Z"
   },
   {
    "duration": 29,
    "start_time": "2022-05-24T17:37:05.446Z"
   },
   {
    "duration": 82,
    "start_time": "2022-05-24T17:37:05.477Z"
   },
   {
    "duration": 15,
    "start_time": "2022-05-24T17:37:05.561Z"
   },
   {
    "duration": 373,
    "start_time": "2022-05-24T17:37:05.578Z"
   },
   {
    "duration": 70,
    "start_time": "2022-05-24T17:37:05.953Z"
   },
   {
    "duration": 34,
    "start_time": "2022-05-24T17:37:06.027Z"
   },
   {
    "duration": 5,
    "start_time": "2022-05-24T17:37:06.062Z"
   },
   {
    "duration": 6,
    "start_time": "2022-05-24T17:37:06.069Z"
   },
   {
    "duration": 5055,
    "start_time": "2022-05-24T17:37:06.076Z"
   },
   {
    "duration": 44560,
    "start_time": "2022-05-24T17:37:11.133Z"
   },
   {
    "duration": 3564,
    "start_time": "2022-05-24T17:37:55.695Z"
   },
   {
    "duration": 2,
    "start_time": "2022-05-24T17:37:59.261Z"
   },
   {
    "duration": 148719,
    "start_time": "2022-05-24T17:37:59.265Z"
   },
   {
    "duration": 98,
    "start_time": "2022-05-24T17:40:27.986Z"
   },
   {
    "duration": 266,
    "start_time": "2022-05-24T17:40:28.086Z"
   },
   {
    "duration": 407,
    "start_time": "2022-05-24T17:40:28.354Z"
   },
   {
    "duration": 892,
    "start_time": "2022-05-24T17:40:28.763Z"
   },
   {
    "duration": 8,
    "start_time": "2022-05-24T17:40:29.657Z"
   },
   {
    "duration": 1621,
    "start_time": "2022-05-24T17:40:29.667Z"
   },
   {
    "duration": 9,
    "start_time": "2022-05-24T17:40:31.290Z"
   },
   {
    "duration": 16,
    "start_time": "2022-05-24T17:40:31.301Z"
   },
   {
    "duration": 17,
    "start_time": "2022-05-24T17:40:31.319Z"
   },
   {
    "duration": 19,
    "start_time": "2022-05-24T17:40:31.337Z"
   },
   {
    "duration": 31,
    "start_time": "2022-05-24T17:40:31.358Z"
   },
   {
    "duration": 10,
    "start_time": "2022-05-24T17:43:33.037Z"
   },
   {
    "duration": 1962,
    "start_time": "2022-05-25T13:45:15.410Z"
   },
   {
    "duration": 3096,
    "start_time": "2022-05-25T13:45:19.062Z"
   },
   {
    "duration": 116,
    "start_time": "2022-05-25T13:45:22.160Z"
   },
   {
    "duration": 474,
    "start_time": "2022-05-25T13:45:24.029Z"
   },
   {
    "duration": 500,
    "start_time": "2022-05-25T13:45:24.505Z"
   },
   {
    "duration": 27,
    "start_time": "2022-05-25T13:45:26.264Z"
   },
   {
    "duration": 52,
    "start_time": "2022-05-25T13:45:27.822Z"
   },
   {
    "duration": 83,
    "start_time": "2022-05-25T13:45:28.142Z"
   },
   {
    "duration": 47,
    "start_time": "2022-05-25T13:45:30.061Z"
   },
   {
    "duration": 2,
    "start_time": "2022-05-25T13:45:31.960Z"
   },
   {
    "duration": 81,
    "start_time": "2022-05-25T13:45:32.200Z"
   },
   {
    "duration": 83,
    "start_time": "2022-05-25T13:45:32.587Z"
   },
   {
    "duration": 683,
    "start_time": "2022-05-25T13:45:36.365Z"
   },
   {
    "duration": 15,
    "start_time": "2022-05-25T13:45:37.050Z"
   },
   {
    "duration": 24,
    "start_time": "2022-05-25T13:45:41.791Z"
   },
   {
    "duration": 35,
    "start_time": "2022-05-25T13:45:45.002Z"
   },
   {
    "duration": 24,
    "start_time": "2022-05-25T13:45:47.381Z"
   },
   {
    "duration": 268,
    "start_time": "2022-05-25T13:45:47.565Z"
   },
   {
    "duration": 37,
    "start_time": "2022-05-25T13:45:49.685Z"
   },
   {
    "duration": 9,
    "start_time": "2022-05-25T13:45:50.083Z"
   },
   {
    "duration": 69,
    "start_time": "2022-05-25T13:45:52.881Z"
   },
   {
    "duration": 255,
    "start_time": "2022-05-25T13:45:54.655Z"
   },
   {
    "duration": 28,
    "start_time": "2022-05-25T13:45:56.485Z"
   },
   {
    "duration": 74,
    "start_time": "2022-05-25T13:45:56.959Z"
   },
   {
    "duration": 52,
    "start_time": "2022-05-26T03:22:37.823Z"
   },
   {
    "duration": 1696,
    "start_time": "2022-05-26T03:22:43.471Z"
   },
   {
    "duration": 1156,
    "start_time": "2022-05-26T03:22:47.007Z"
   },
   {
    "duration": 92,
    "start_time": "2022-05-26T03:22:51.334Z"
   },
   {
    "duration": 425,
    "start_time": "2022-05-26T03:22:53.559Z"
   },
   {
    "duration": 428,
    "start_time": "2022-05-26T03:22:54.992Z"
   },
   {
    "duration": 26,
    "start_time": "2022-05-26T03:22:58.062Z"
   },
   {
    "duration": 44,
    "start_time": "2022-05-26T03:22:59.191Z"
   },
   {
    "duration": 71,
    "start_time": "2022-05-26T03:23:01.079Z"
   },
   {
    "duration": 42,
    "start_time": "2022-05-26T03:23:03.046Z"
   },
   {
    "duration": 70,
    "start_time": "2022-05-26T03:23:06.038Z"
   },
   {
    "duration": 75,
    "start_time": "2022-05-26T03:23:07.166Z"
   },
   {
    "duration": 631,
    "start_time": "2022-05-26T03:23:11.142Z"
   },
   {
    "duration": 13,
    "start_time": "2022-05-26T03:23:13.534Z"
   },
   {
    "duration": 19,
    "start_time": "2022-05-26T03:23:15.149Z"
   },
   {
    "duration": 32,
    "start_time": "2022-05-26T03:23:17.414Z"
   },
   {
    "duration": 20,
    "start_time": "2022-05-26T03:23:18.887Z"
   },
   {
    "duration": 216,
    "start_time": "2022-05-26T03:23:20.630Z"
   },
   {
    "duration": 37,
    "start_time": "2022-05-26T03:23:23.831Z"
   },
   {
    "duration": 7,
    "start_time": "2022-05-26T03:23:36.886Z"
   },
   {
    "duration": 64,
    "start_time": "2022-05-26T03:24:07.319Z"
   },
   {
    "duration": 209,
    "start_time": "2022-05-26T03:24:08.990Z"
   },
   {
    "duration": 26,
    "start_time": "2022-05-26T03:24:11.054Z"
   },
   {
    "duration": 62,
    "start_time": "2022-05-26T03:24:17.791Z"
   },
   {
    "duration": 15,
    "start_time": "2022-05-26T03:24:23.375Z"
   },
   {
    "duration": 24,
    "start_time": "2022-05-26T03:24:23.911Z"
   },
   {
    "duration": 17,
    "start_time": "2022-05-26T03:24:24.495Z"
   },
   {
    "duration": 17,
    "start_time": "2022-05-26T03:24:24.982Z"
   },
   {
    "duration": 17,
    "start_time": "2022-05-26T03:24:25.478Z"
   },
   {
    "duration": 17,
    "start_time": "2022-05-26T03:24:25.998Z"
   },
   {
    "duration": 65,
    "start_time": "2022-05-26T03:26:41.582Z"
   },
   {
    "duration": 32,
    "start_time": "2022-05-26T03:26:51.638Z"
   },
   {
    "duration": 59,
    "start_time": "2022-05-26T13:54:34.583Z"
   },
   {
    "duration": 1656,
    "start_time": "2022-05-26T13:54:39.895Z"
   },
   {
    "duration": 4,
    "start_time": "2022-05-26T13:54:49.103Z"
   },
   {
    "duration": 1399,
    "start_time": "2022-05-26T13:54:51.838Z"
   },
   {
    "duration": 167,
    "start_time": "2022-05-26T13:56:24.555Z"
   },
   {
    "duration": 489,
    "start_time": "2022-05-26T13:56:32.218Z"
   },
   {
    "duration": 461,
    "start_time": "2022-05-26T13:56:34.538Z"
   },
   {
    "duration": 25,
    "start_time": "2022-05-26T13:56:38.241Z"
   },
   {
    "duration": 48,
    "start_time": "2022-05-26T13:56:39.041Z"
   },
   {
    "duration": 205,
    "start_time": "2022-05-26T13:56:40.600Z"
   },
   {
    "duration": 44,
    "start_time": "2022-05-26T13:56:42.368Z"
   },
   {
    "duration": 2,
    "start_time": "2022-05-26T13:56:44.928Z"
   },
   {
    "duration": 2,
    "start_time": "2022-05-26T13:56:45.489Z"
   },
   {
    "duration": 7,
    "start_time": "2022-05-26T13:56:45.960Z"
   },
   {
    "duration": 75,
    "start_time": "2022-05-26T13:56:46.696Z"
   },
   {
    "duration": 71,
    "start_time": "2022-05-26T13:56:47.848Z"
   },
   {
    "duration": 693,
    "start_time": "2022-05-26T13:56:49.880Z"
   },
   {
    "duration": 17,
    "start_time": "2022-05-26T13:56:52.224Z"
   },
   {
    "duration": 22,
    "start_time": "2022-05-26T13:56:53.768Z"
   },
   {
    "duration": 42,
    "start_time": "2022-05-26T13:56:55.401Z"
   },
   {
    "duration": 21,
    "start_time": "2022-05-26T13:56:56.521Z"
   },
   {
    "duration": 264,
    "start_time": "2022-05-26T13:56:58.765Z"
   },
   {
    "duration": 41,
    "start_time": "2022-05-26T13:57:00.431Z"
   },
   {
    "duration": 9,
    "start_time": "2022-05-26T13:57:01.799Z"
   },
   {
    "duration": 73,
    "start_time": "2022-05-26T13:57:03.711Z"
   },
   {
    "duration": 336,
    "start_time": "2022-05-26T13:57:05.135Z"
   },
   {
    "duration": 29,
    "start_time": "2022-05-26T13:57:07.023Z"
   },
   {
    "duration": 89,
    "start_time": "2022-05-26T13:57:07.983Z"
   },
   {
    "duration": 19,
    "start_time": "2022-05-26T13:57:10.150Z"
   },
   {
    "duration": 24,
    "start_time": "2022-05-26T14:04:10.083Z"
   },
   {
    "duration": 18,
    "start_time": "2022-05-26T14:04:12.931Z"
   },
   {
    "duration": 18,
    "start_time": "2022-05-26T14:04:13.210Z"
   },
   {
    "duration": 20,
    "start_time": "2022-05-26T14:04:13.426Z"
   },
   {
    "duration": 18,
    "start_time": "2022-05-26T14:04:13.602Z"
   },
   {
    "duration": 19,
    "start_time": "2022-05-26T14:04:13.781Z"
   },
   {
    "duration": 17,
    "start_time": "2022-05-26T14:04:13.971Z"
   },
   {
    "duration": 26,
    "start_time": "2022-05-26T14:04:14.139Z"
   },
   {
    "duration": 20,
    "start_time": "2022-05-26T14:04:14.355Z"
   },
   {
    "duration": 18,
    "start_time": "2022-05-26T14:04:14.564Z"
   },
   {
    "duration": 19,
    "start_time": "2022-05-26T14:04:14.771Z"
   },
   {
    "duration": 18,
    "start_time": "2022-05-26T14:04:14.994Z"
   },
   {
    "duration": 20,
    "start_time": "2022-05-26T14:04:15.218Z"
   },
   {
    "duration": 24,
    "start_time": "2022-05-26T14:04:15.546Z"
   },
   {
    "duration": 75,
    "start_time": "2022-05-26T14:04:45.097Z"
   },
   {
    "duration": 87,
    "start_time": "2022-05-26T14:05:40.039Z"
   },
   {
    "duration": 41,
    "start_time": "2022-05-26T14:05:48.327Z"
   },
   {
    "duration": 5,
    "start_time": "2022-05-26T14:05:52.304Z"
   },
   {
    "duration": 521,
    "start_time": "2022-05-26T14:06:41.194Z"
   },
   {
    "duration": 12,
    "start_time": "2022-05-26T14:06:53.076Z"
   },
   {
    "duration": 19,
    "start_time": "2022-05-26T14:06:58.091Z"
   },
   {
    "duration": 13,
    "start_time": "2022-05-26T14:07:07.167Z"
   },
   {
    "duration": 12,
    "start_time": "2022-05-26T14:07:10.907Z"
   },
   {
    "duration": 21,
    "start_time": "2022-05-26T14:07:43.376Z"
   },
   {
    "duration": 89,
    "start_time": "2022-05-26T14:08:08.735Z"
   },
   {
    "duration": 14,
    "start_time": "2022-05-26T14:09:50.977Z"
   },
   {
    "duration": 14,
    "start_time": "2022-05-26T14:10:08.706Z"
   },
   {
    "duration": 25,
    "start_time": "2022-05-26T14:10:16.649Z"
   },
   {
    "duration": 91,
    "start_time": "2022-05-26T14:10:51.576Z"
   },
   {
    "duration": 28,
    "start_time": "2022-05-26T14:10:59.336Z"
   },
   {
    "duration": 90,
    "start_time": "2022-05-26T14:11:00.287Z"
   },
   {
    "duration": 33,
    "start_time": "2022-05-26T14:11:01.087Z"
   },
   {
    "duration": 90,
    "start_time": "2022-05-26T14:11:02.181Z"
   },
   {
    "duration": 22,
    "start_time": "2022-05-26T14:11:18.477Z"
   },
   {
    "duration": 75,
    "start_time": "2022-05-26T14:11:20.368Z"
   },
   {
    "duration": 32,
    "start_time": "2022-05-26T14:11:21.094Z"
   },
   {
    "duration": 13,
    "start_time": "2022-05-26T14:11:21.885Z"
   },
   {
    "duration": 446,
    "start_time": "2022-05-26T14:11:22.607Z"
   },
   {
    "duration": 22,
    "start_time": "2022-05-26T14:11:23.904Z"
   },
   {
    "duration": 16,
    "start_time": "2022-05-26T14:11:32.383Z"
   },
   {
    "duration": 9,
    "start_time": "2022-05-26T14:11:43.559Z"
   },
   {
    "duration": 4,
    "start_time": "2022-05-26T14:16:20.272Z"
   },
   {
    "duration": 113,
    "start_time": "2022-05-26T14:16:22.231Z"
   },
   {
    "duration": 39,
    "start_time": "2022-05-26T14:16:41.151Z"
   },
   {
    "duration": 5457,
    "start_time": "2022-05-26T14:16:47.647Z"
   },
   {
    "duration": 135380,
    "start_time": "2022-05-26T14:17:02.735Z"
   },
   {
    "duration": 161,
    "start_time": "2022-05-26T14:22:04.519Z"
   },
   {
    "duration": 30,
    "start_time": "2022-05-26T14:22:15.366Z"
   },
   {
    "duration": 16,
    "start_time": "2022-05-26T14:23:48.018Z"
   },
   {
    "duration": 152,
    "start_time": "2022-05-26T14:23:48.830Z"
   },
   {
    "duration": 41,
    "start_time": "2022-05-26T14:23:49.497Z"
   },
   {
    "duration": 19,
    "start_time": "2022-05-26T14:23:50.104Z"
   },
   {
    "duration": 9,
    "start_time": "2022-05-26T14:23:50.752Z"
   },
   {
    "duration": 346,
    "start_time": "2022-05-26T14:23:51.465Z"
   },
   {
    "duration": 5,
    "start_time": "2022-05-26T14:23:53.385Z"
   },
   {
    "duration": 4,
    "start_time": "2022-05-26T14:23:56.943Z"
   },
   {
    "duration": 5253,
    "start_time": "2022-05-26T14:23:59.040Z"
   },
   {
    "duration": 1259,
    "start_time": "2022-05-26T14:42:45.652Z"
   },
   {
    "duration": 3409,
    "start_time": "2022-05-26T14:42:46.913Z"
   },
   {
    "duration": 141,
    "start_time": "2022-05-26T14:42:50.323Z"
   },
   {
    "duration": 442,
    "start_time": "2022-05-26T14:42:50.467Z"
   },
   {
    "duration": 488,
    "start_time": "2022-05-26T14:42:50.912Z"
   },
   {
    "duration": 21,
    "start_time": "2022-05-26T14:42:51.402Z"
   },
   {
    "duration": 61,
    "start_time": "2022-05-26T14:42:51.424Z"
   },
   {
    "duration": 79,
    "start_time": "2022-05-26T14:42:51.487Z"
   },
   {
    "duration": 56,
    "start_time": "2022-05-26T14:42:51.567Z"
   },
   {
    "duration": 3,
    "start_time": "2022-05-26T14:42:51.626Z"
   },
   {
    "duration": 118,
    "start_time": "2022-05-26T14:42:51.630Z"
   },
   {
    "duration": 78,
    "start_time": "2022-05-26T14:42:51.750Z"
   },
   {
    "duration": 602,
    "start_time": "2022-05-26T14:42:51.830Z"
   },
   {
    "duration": 25,
    "start_time": "2022-05-26T14:42:52.434Z"
   },
   {
    "duration": 23,
    "start_time": "2022-05-26T14:42:52.461Z"
   },
   {
    "duration": 33,
    "start_time": "2022-05-26T14:42:52.485Z"
   },
   {
    "duration": 39,
    "start_time": "2022-05-26T14:42:52.520Z"
   },
   {
    "duration": 247,
    "start_time": "2022-05-26T14:42:52.561Z"
   },
   {
    "duration": 33,
    "start_time": "2022-05-26T14:42:52.810Z"
   },
   {
    "duration": 15,
    "start_time": "2022-05-26T14:42:52.845Z"
   },
   {
    "duration": 64,
    "start_time": "2022-05-26T14:42:52.861Z"
   },
   {
    "duration": 239,
    "start_time": "2022-05-26T14:42:52.926Z"
   },
   {
    "duration": 25,
    "start_time": "2022-05-26T14:42:53.167Z"
   },
   {
    "duration": 76,
    "start_time": "2022-05-26T14:42:53.194Z"
   },
   {
    "duration": 14,
    "start_time": "2022-05-26T14:42:53.272Z"
   },
   {
    "duration": 181,
    "start_time": "2022-05-26T14:42:53.287Z"
   },
   {
    "duration": 38,
    "start_time": "2022-05-26T14:42:53.470Z"
   },
   {
    "duration": 17,
    "start_time": "2022-05-26T14:42:53.512Z"
   },
   {
    "duration": 5,
    "start_time": "2022-05-26T14:42:53.530Z"
   },
   {
    "duration": 375,
    "start_time": "2022-05-26T14:42:53.559Z"
   },
   {
    "duration": 6,
    "start_time": "2022-05-26T14:42:53.936Z"
   },
   {
    "duration": 15,
    "start_time": "2022-05-26T14:42:53.944Z"
   },
   {
    "duration": 4963,
    "start_time": "2022-05-26T14:42:53.961Z"
   },
   {
    "duration": 116951,
    "start_time": "2022-05-26T14:42:58.926Z"
   },
   {
    "duration": 150704,
    "start_time": "2022-05-26T14:44:55.878Z"
   },
   {
    "duration": 4,
    "start_time": "2022-05-26T14:47:26.590Z"
   },
   {
    "duration": 155771,
    "start_time": "2022-05-26T14:47:26.596Z"
   },
   {
    "duration": 80,
    "start_time": "2022-05-26T14:50:02.368Z"
   },
   {
    "duration": 625,
    "start_time": "2022-05-26T14:50:02.449Z"
   },
   {
    "duration": 395,
    "start_time": "2022-05-26T14:50:03.076Z"
   },
   {
    "duration": 844,
    "start_time": "2022-05-26T14:50:03.473Z"
   },
   {
    "duration": 9,
    "start_time": "2022-05-26T14:50:04.318Z"
   },
   {
    "duration": 1590,
    "start_time": "2022-05-26T14:50:04.328Z"
   },
   {
    "duration": 8,
    "start_time": "2022-05-26T14:50:05.920Z"
   },
   {
    "duration": 6,
    "start_time": "2022-05-26T14:50:05.929Z"
   },
   {
    "duration": 5,
    "start_time": "2022-05-26T14:50:05.936Z"
   },
   {
    "duration": 25,
    "start_time": "2022-05-26T14:50:05.942Z"
   },
   {
    "duration": 20,
    "start_time": "2022-05-26T14:50:05.968Z"
   },
   {
    "duration": 11,
    "start_time": "2022-05-26T14:56:09.527Z"
   },
   {
    "duration": 1140,
    "start_time": "2022-05-26T15:02:37.564Z"
   },
   {
    "duration": 870,
    "start_time": "2022-05-26T15:02:38.706Z"
   },
   {
    "duration": 100,
    "start_time": "2022-05-26T15:02:39.578Z"
   },
   {
    "duration": 413,
    "start_time": "2022-05-26T15:02:39.680Z"
   },
   {
    "duration": 433,
    "start_time": "2022-05-26T15:02:40.094Z"
   },
   {
    "duration": 34,
    "start_time": "2022-05-26T15:02:40.528Z"
   },
   {
    "duration": 45,
    "start_time": "2022-05-26T15:02:40.563Z"
   },
   {
    "duration": 78,
    "start_time": "2022-05-26T15:02:40.609Z"
   },
   {
    "duration": 41,
    "start_time": "2022-05-26T15:02:40.689Z"
   },
   {
    "duration": 2,
    "start_time": "2022-05-26T15:02:40.733Z"
   },
   {
    "duration": 88,
    "start_time": "2022-05-26T15:02:40.736Z"
   },
   {
    "duration": 77,
    "start_time": "2022-05-26T15:02:40.826Z"
   },
   {
    "duration": 407,
    "start_time": "2022-05-26T15:02:40.904Z"
   },
   {
    "duration": 11,
    "start_time": "2022-05-26T15:02:41.313Z"
   },
   {
    "duration": 17,
    "start_time": "2022-05-26T15:02:41.325Z"
   },
   {
    "duration": 40,
    "start_time": "2022-05-26T15:02:41.344Z"
   },
   {
    "duration": 18,
    "start_time": "2022-05-26T15:02:41.386Z"
   },
   {
    "duration": 225,
    "start_time": "2022-05-26T15:02:41.405Z"
   },
   {
    "duration": 43,
    "start_time": "2022-05-26T15:02:41.632Z"
   },
   {
    "duration": 9,
    "start_time": "2022-05-26T15:02:41.677Z"
   },
   {
    "duration": 82,
    "start_time": "2022-05-26T15:02:41.688Z"
   },
   {
    "duration": 240,
    "start_time": "2022-05-26T15:02:41.772Z"
   },
   {
    "duration": 26,
    "start_time": "2022-05-26T15:02:42.014Z"
   },
   {
    "duration": 75,
    "start_time": "2022-05-26T15:02:42.042Z"
   },
   {
    "duration": 16,
    "start_time": "2022-05-26T15:02:42.119Z"
   },
   {
    "duration": 169,
    "start_time": "2022-05-26T15:02:42.136Z"
   },
   {
    "duration": 34,
    "start_time": "2022-05-26T15:02:42.307Z"
   },
   {
    "duration": 16,
    "start_time": "2022-05-26T15:02:42.360Z"
   },
   {
    "duration": 5,
    "start_time": "2022-05-26T15:02:42.377Z"
   },
   {
    "duration": 322,
    "start_time": "2022-05-26T15:02:42.384Z"
   },
   {
    "duration": 5,
    "start_time": "2022-05-26T15:02:42.708Z"
   },
   {
    "duration": 5,
    "start_time": "2022-05-26T15:02:42.715Z"
   },
   {
    "duration": 4703,
    "start_time": "2022-05-26T15:02:42.722Z"
   },
   {
    "duration": 88477,
    "start_time": "2022-05-26T15:02:47.426Z"
   },
   {
    "duration": 3764,
    "start_time": "2022-05-26T15:04:15.905Z"
   },
   {
    "duration": 3,
    "start_time": "2022-05-26T15:04:19.671Z"
   },
   {
    "duration": 141041,
    "start_time": "2022-05-26T15:04:19.675Z"
   },
   {
    "duration": 81,
    "start_time": "2022-05-26T15:06:40.718Z"
   },
   {
    "duration": 174,
    "start_time": "2022-05-26T15:06:40.801Z"
   },
   {
    "duration": 507,
    "start_time": "2022-05-26T15:06:40.976Z"
   },
   {
    "duration": 892,
    "start_time": "2022-05-26T15:06:41.484Z"
   },
   {
    "duration": 10,
    "start_time": "2022-05-26T15:06:42.377Z"
   },
   {
    "duration": 1685,
    "start_time": "2022-05-26T15:06:42.388Z"
   },
   {
    "duration": 8,
    "start_time": "2022-05-26T15:06:44.074Z"
   },
   {
    "duration": 6,
    "start_time": "2022-05-26T15:06:44.084Z"
   },
   {
    "duration": 7,
    "start_time": "2022-05-26T15:06:44.091Z"
   },
   {
    "duration": 14,
    "start_time": "2022-05-26T15:06:44.099Z"
   },
   {
    "duration": 9,
    "start_time": "2022-05-26T15:06:44.114Z"
   },
   {
    "duration": 12,
    "start_time": "2022-05-26T15:08:32.773Z"
   }
  ],
  "kernelspec": {
   "display_name": "Python 3 (ipykernel)",
   "language": "python",
   "name": "python3"
  },
  "language_info": {
   "codemirror_mode": {
    "name": "ipython",
    "version": 3
   },
   "file_extension": ".py",
   "mimetype": "text/x-python",
   "name": "python",
   "nbconvert_exporter": "python",
   "pygments_lexer": "ipython3",
   "version": "3.9.7"
  },
  "toc": {
   "base_numbering": 1,
   "nav_menu": {},
   "number_sections": true,
   "sideBar": true,
   "skip_h1_title": true,
   "title_cell": "Table of Contents",
   "title_sidebar": "Contents",
   "toc_cell": false,
   "toc_position": {},
   "toc_section_display": true,
   "toc_window_display": false
  }
 },
 "nbformat": 4,
 "nbformat_minor": 2
}
