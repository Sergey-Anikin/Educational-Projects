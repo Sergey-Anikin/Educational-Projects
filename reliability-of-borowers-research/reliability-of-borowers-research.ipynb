{
 "cells": [
  {
   "cell_type": "markdown",
   "metadata": {},
   "source": [
    "# Исследование надёжности заёмщиков\n",
    "\n",
    "Нужно разобраться, влияет ли семейное положение и количество детей клиента на факт погашения кредита в срок. Входные данные от банка — статистика о платёжеспособности клиентов.\n",
    "\n",
    "Результаты исследования будут учтены при построении модели **кредитного скоринга** — специальной системы, которая оценивает способность потенциального заёмщика вернуть кредит банку."
   ]
  },
  {
   "cell_type": "markdown",
   "metadata": {},
   "source": [
    "## Изучение общей информации"
   ]
  },
  {
   "cell_type": "code",
   "execution_count": 1,
   "metadata": {},
   "outputs": [
    {
     "name": "stdout",
     "output_type": "stream",
     "text": [
      "Requirement already satisfied: pymystem3 in c:\\users\\<user>\\anaconda3\\lib\\site-packages (0.2.0)\n",
      "Requirement already satisfied: requests in c:\\users\\<user>\\anaconda3\\lib\\site-packages (from pymystem3) (2.26.0)\n",
      "Requirement already satisfied: certifi>=2017.4.17 in c:\\users\\<user>\\anaconda3\\lib\\site-packages (from requests->pymystem3) (2021.10.8)\n",
      "Requirement already satisfied: charset-normalizer~=2.0.0 in c:\\users\\<user>\\anaconda3\\lib\\site-packages (from requests->pymystem3) (2.0.4)\n",
      "Requirement already satisfied: urllib3<1.27,>=1.21.1 in c:\\users\\<user>\\anaconda3\\lib\\site-packages (from requests->pymystem3) (1.26.7)\n",
      "Requirement already satisfied: idna<4,>=2.5 in c:\\users\\<user>\\anaconda3\\lib\\site-packages (from requests->pymystem3) (3.2)\n",
      "Note: you may need to restart the kernel to use updated packages.\n"
     ]
    }
   ],
   "source": [
    "pip install pymystem3 # Установка библиотеки"
   ]
  },
  {
   "cell_type": "code",
   "execution_count": 2,
   "metadata": {},
   "outputs": [],
   "source": [
    "# импорт библиотек\n",
    "import pandas as pd\n",
    "from pymystem3 import Mystem"
   ]
  },
  {
   "cell_type": "code",
   "execution_count": 4,
   "metadata": {
    "scrolled": false
   },
   "outputs": [
    {
     "name": "stdout",
     "output_type": "stream",
     "text": [
      "<class 'pandas.core.frame.DataFrame'>\n",
      "RangeIndex: 21525 entries, 0 to 21524\n",
      "Data columns (total 12 columns):\n",
      " #   Column            Non-Null Count  Dtype  \n",
      "---  ------            --------------  -----  \n",
      " 0   children          21525 non-null  int64  \n",
      " 1   days_employed     19351 non-null  float64\n",
      " 2   dob_years         21525 non-null  int64  \n",
      " 3   education         21525 non-null  object \n",
      " 4   education_id      21525 non-null  int64  \n",
      " 5   family_status     21525 non-null  object \n",
      " 6   family_status_id  21525 non-null  int64  \n",
      " 7   gender            21525 non-null  object \n",
      " 8   income_type       21525 non-null  object \n",
      " 9   debt              21525 non-null  int64  \n",
      " 10  total_income      19351 non-null  float64\n",
      " 11  purpose           21525 non-null  object \n",
      "dtypes: float64(2), int64(5), object(5)\n",
      "memory usage: 2.0+ MB\n"
     ]
    },
    {
     "data": {
      "text/html": [
       "<div>\n",
       "<style scoped>\n",
       "    .dataframe tbody tr th:only-of-type {\n",
       "        vertical-align: middle;\n",
       "    }\n",
       "\n",
       "    .dataframe tbody tr th {\n",
       "        vertical-align: top;\n",
       "    }\n",
       "\n",
       "    .dataframe thead th {\n",
       "        text-align: right;\n",
       "    }\n",
       "</style>\n",
       "<table border=\"1\" class=\"dataframe\">\n",
       "  <thead>\n",
       "    <tr style=\"text-align: right;\">\n",
       "      <th></th>\n",
       "      <th>children</th>\n",
       "      <th>days_employed</th>\n",
       "      <th>dob_years</th>\n",
       "      <th>education</th>\n",
       "      <th>education_id</th>\n",
       "      <th>family_status</th>\n",
       "      <th>family_status_id</th>\n",
       "      <th>gender</th>\n",
       "      <th>income_type</th>\n",
       "      <th>debt</th>\n",
       "      <th>total_income</th>\n",
       "      <th>purpose</th>\n",
       "    </tr>\n",
       "  </thead>\n",
       "  <tbody>\n",
       "    <tr>\n",
       "      <th>0</th>\n",
       "      <td>1</td>\n",
       "      <td>-8437.673028</td>\n",
       "      <td>42</td>\n",
       "      <td>высшее</td>\n",
       "      <td>0</td>\n",
       "      <td>женат / замужем</td>\n",
       "      <td>0</td>\n",
       "      <td>F</td>\n",
       "      <td>сотрудник</td>\n",
       "      <td>0</td>\n",
       "      <td>253875.639453</td>\n",
       "      <td>покупка жилья</td>\n",
       "    </tr>\n",
       "    <tr>\n",
       "      <th>1</th>\n",
       "      <td>1</td>\n",
       "      <td>-4024.803754</td>\n",
       "      <td>36</td>\n",
       "      <td>среднее</td>\n",
       "      <td>1</td>\n",
       "      <td>женат / замужем</td>\n",
       "      <td>0</td>\n",
       "      <td>F</td>\n",
       "      <td>сотрудник</td>\n",
       "      <td>0</td>\n",
       "      <td>112080.014102</td>\n",
       "      <td>приобретение автомобиля</td>\n",
       "    </tr>\n",
       "    <tr>\n",
       "      <th>2</th>\n",
       "      <td>0</td>\n",
       "      <td>-5623.422610</td>\n",
       "      <td>33</td>\n",
       "      <td>Среднее</td>\n",
       "      <td>1</td>\n",
       "      <td>женат / замужем</td>\n",
       "      <td>0</td>\n",
       "      <td>M</td>\n",
       "      <td>сотрудник</td>\n",
       "      <td>0</td>\n",
       "      <td>145885.952297</td>\n",
       "      <td>покупка жилья</td>\n",
       "    </tr>\n",
       "    <tr>\n",
       "      <th>3</th>\n",
       "      <td>3</td>\n",
       "      <td>-4124.747207</td>\n",
       "      <td>32</td>\n",
       "      <td>среднее</td>\n",
       "      <td>1</td>\n",
       "      <td>женат / замужем</td>\n",
       "      <td>0</td>\n",
       "      <td>M</td>\n",
       "      <td>сотрудник</td>\n",
       "      <td>0</td>\n",
       "      <td>267628.550329</td>\n",
       "      <td>дополнительное образование</td>\n",
       "    </tr>\n",
       "    <tr>\n",
       "      <th>4</th>\n",
       "      <td>0</td>\n",
       "      <td>340266.072047</td>\n",
       "      <td>53</td>\n",
       "      <td>среднее</td>\n",
       "      <td>1</td>\n",
       "      <td>гражданский брак</td>\n",
       "      <td>1</td>\n",
       "      <td>F</td>\n",
       "      <td>пенсионер</td>\n",
       "      <td>0</td>\n",
       "      <td>158616.077870</td>\n",
       "      <td>сыграть свадьбу</td>\n",
       "    </tr>\n",
       "    <tr>\n",
       "      <th>5</th>\n",
       "      <td>0</td>\n",
       "      <td>-926.185831</td>\n",
       "      <td>27</td>\n",
       "      <td>высшее</td>\n",
       "      <td>0</td>\n",
       "      <td>гражданский брак</td>\n",
       "      <td>1</td>\n",
       "      <td>M</td>\n",
       "      <td>компаньон</td>\n",
       "      <td>0</td>\n",
       "      <td>255763.565419</td>\n",
       "      <td>покупка жилья</td>\n",
       "    </tr>\n",
       "    <tr>\n",
       "      <th>6</th>\n",
       "      <td>0</td>\n",
       "      <td>-2879.202052</td>\n",
       "      <td>43</td>\n",
       "      <td>высшее</td>\n",
       "      <td>0</td>\n",
       "      <td>женат / замужем</td>\n",
       "      <td>0</td>\n",
       "      <td>F</td>\n",
       "      <td>компаньон</td>\n",
       "      <td>0</td>\n",
       "      <td>240525.971920</td>\n",
       "      <td>операции с жильем</td>\n",
       "    </tr>\n",
       "    <tr>\n",
       "      <th>7</th>\n",
       "      <td>0</td>\n",
       "      <td>-152.779569</td>\n",
       "      <td>50</td>\n",
       "      <td>СРЕДНЕЕ</td>\n",
       "      <td>1</td>\n",
       "      <td>женат / замужем</td>\n",
       "      <td>0</td>\n",
       "      <td>M</td>\n",
       "      <td>сотрудник</td>\n",
       "      <td>0</td>\n",
       "      <td>135823.934197</td>\n",
       "      <td>образование</td>\n",
       "    </tr>\n",
       "    <tr>\n",
       "      <th>8</th>\n",
       "      <td>2</td>\n",
       "      <td>-6929.865299</td>\n",
       "      <td>35</td>\n",
       "      <td>ВЫСШЕЕ</td>\n",
       "      <td>0</td>\n",
       "      <td>гражданский брак</td>\n",
       "      <td>1</td>\n",
       "      <td>F</td>\n",
       "      <td>сотрудник</td>\n",
       "      <td>0</td>\n",
       "      <td>95856.832424</td>\n",
       "      <td>на проведение свадьбы</td>\n",
       "    </tr>\n",
       "    <tr>\n",
       "      <th>9</th>\n",
       "      <td>0</td>\n",
       "      <td>-2188.756445</td>\n",
       "      <td>41</td>\n",
       "      <td>среднее</td>\n",
       "      <td>1</td>\n",
       "      <td>женат / замужем</td>\n",
       "      <td>0</td>\n",
       "      <td>M</td>\n",
       "      <td>сотрудник</td>\n",
       "      <td>0</td>\n",
       "      <td>144425.938277</td>\n",
       "      <td>покупка жилья для семьи</td>\n",
       "    </tr>\n",
       "  </tbody>\n",
       "</table>\n",
       "</div>"
      ],
      "text/plain": [
       "   children  days_employed  dob_years education  education_id  \\\n",
       "0         1   -8437.673028         42    высшее             0   \n",
       "1         1   -4024.803754         36   среднее             1   \n",
       "2         0   -5623.422610         33   Среднее             1   \n",
       "3         3   -4124.747207         32   среднее             1   \n",
       "4         0  340266.072047         53   среднее             1   \n",
       "5         0    -926.185831         27    высшее             0   \n",
       "6         0   -2879.202052         43    высшее             0   \n",
       "7         0    -152.779569         50   СРЕДНЕЕ             1   \n",
       "8         2   -6929.865299         35    ВЫСШЕЕ             0   \n",
       "9         0   -2188.756445         41   среднее             1   \n",
       "\n",
       "      family_status  family_status_id gender income_type  debt   total_income  \\\n",
       "0   женат / замужем                 0      F   сотрудник     0  253875.639453   \n",
       "1   женат / замужем                 0      F   сотрудник     0  112080.014102   \n",
       "2   женат / замужем                 0      M   сотрудник     0  145885.952297   \n",
       "3   женат / замужем                 0      M   сотрудник     0  267628.550329   \n",
       "4  гражданский брак                 1      F   пенсионер     0  158616.077870   \n",
       "5  гражданский брак                 1      M   компаньон     0  255763.565419   \n",
       "6   женат / замужем                 0      F   компаньон     0  240525.971920   \n",
       "7   женат / замужем                 0      M   сотрудник     0  135823.934197   \n",
       "8  гражданский брак                 1      F   сотрудник     0   95856.832424   \n",
       "9   женат / замужем                 0      M   сотрудник     0  144425.938277   \n",
       "\n",
       "                      purpose  \n",
       "0               покупка жилья  \n",
       "1     приобретение автомобиля  \n",
       "2               покупка жилья  \n",
       "3  дополнительное образование  \n",
       "4             сыграть свадьбу  \n",
       "5               покупка жилья  \n",
       "6           операции с жильем  \n",
       "7                 образование  \n",
       "8       на проведение свадьбы  \n",
       "9     покупка жилья для семьи  "
      ]
     },
     "execution_count": 4,
     "metadata": {},
     "output_type": "execute_result"
    }
   ],
   "source": [
    "data = pd.read_csv('\\data.csv') \n",
    "data.info() \n",
    "data.head(10) "
   ]
  },
  {
   "cell_type": "markdown",
   "metadata": {},
   "source": [
    "Итак, в таблице 12 столбцов. Тип данных  — int64, float64, object.\n",
    "\n",
    "Согласно документации к данным:\n",
    "\n",
    "*    `children` — количество детей в семье\n",
    "*    `days_employed` — общий трудовой стаж в днях\n",
    "*    `dob_years` — возраст клиента в годах\n",
    "*    `education` — уровень образования клиента\n",
    "*    `education_id` — идентификатор уровня образования\n",
    "*    `family_status` — семейное положение\n",
    "*    `family_status_id` — идентификатор семейного положения\n",
    "*    `gender` — пол клиента\n",
    "*    `income_type` — тип занятости\n",
    "*    `debt` — имел ли задолженность по возврату кредитов\n",
    "*    `total_income` — ежемесячный доход\n",
    "*    `purpose` — цель получения кредита\n",
    "\n",
    "Количество значений в столбцах различается. Значит, в данных есть пропущенные значения.\n",
    "\n",
    "В данных замечен верхний регистр, отрицательные значения стажа, а так же слишком большие значения стажа."
   ]
  },
  {
   "cell_type": "markdown",
   "metadata": {},
   "source": [
    "**Вывод**"
   ]
  },
  {
   "cell_type": "markdown",
   "metadata": {},
   "source": [
    "В каждой строке таблицы — данные об одном клиенте.\n",
    "\n",
    "Предварительно можно утверждать, что, данных достаточно для проведения исследования. Но встречаются пропуски в данных, нарушения регистра, отрицательные и слишком большие значения в колонке стажа.\n",
    "\n",
    "Чтобы двигаться дальше, нужно устранить проблемы в данных."
   ]
  },
  {
   "cell_type": "markdown",
   "metadata": {},
   "source": [
    "## Предобработка данных"
   ]
  },
  {
   "cell_type": "markdown",
   "metadata": {},
   "source": [
    "### Обработка пропусков"
   ]
  },
  {
   "cell_type": "code",
   "execution_count": 5,
   "metadata": {
    "scrolled": false
   },
   "outputs": [
    {
     "data": {
      "text/plain": [
       "children               0\n",
       "days_employed       2174\n",
       "dob_years              0\n",
       "education              0\n",
       "education_id           0\n",
       "family_status          0\n",
       "family_status_id       0\n",
       "gender                 0\n",
       "income_type            0\n",
       "debt                   0\n",
       "total_income        2174\n",
       "purpose                0\n",
       "dtype: int64"
      ]
     },
     "execution_count": 5,
     "metadata": {},
     "output_type": "execute_result"
    }
   ],
   "source": [
    "data.isna().sum()"
   ]
  },
  {
   "cell_type": "markdown",
   "metadata": {},
   "source": [
    "Больше 2000 пропусков в колонках стажа и ежемесячного дохода, это почти 9%. Несмотря на то, что процент пропусков не большой, удалять строки не стоит, это может исказить конечное исследование.\n",
    "\n",
    "Так как значения в колонках \"стаж\" и \"ежемесячный доход\" являются количественными переменными их нужно заменить на среднее арифметическое и медианное соответственно. Потому что стаж находится в пределах возраста человека, а зарплата может сильно отличаться. Но для начала нужно убрать ошибки в данных.\n",
    "\n",
    "Необходимо избавиться от аномально больших значений в стаже, возможно стаж указан не в днях, а в часах. Затем уберем отрицательные значения. И в конце заполним пропуски средними и медианными значениями соответсвенно."
   ]
  },
  {
   "cell_type": "code",
   "execution_count": 7,
   "metadata": {},
   "outputs": [],
   "source": [
    "def hours_to_days(hours_employed):    \n",
    "    if hours_employed > 20000:        \n",
    "        hours_employed /= 24          \n",
    "    return hours_employed"
   ]
  },
  {
   "cell_type": "code",
   "execution_count": 8,
   "metadata": {},
   "outputs": [
    {
     "name": "stdout",
     "output_type": "stream",
     "text": [
      "children            0\n",
      "days_employed       0\n",
      "dob_years           0\n",
      "education           0\n",
      "education_id        0\n",
      "family_status       0\n",
      "family_status_id    0\n",
      "gender              0\n",
      "income_type         0\n",
      "debt                0\n",
      "total_income        0\n",
      "purpose             0\n",
      "dtype: int64\n"
     ]
    },
    {
     "data": {
      "text/html": [
       "<div>\n",
       "<style scoped>\n",
       "    .dataframe tbody tr th:only-of-type {\n",
       "        vertical-align: middle;\n",
       "    }\n",
       "\n",
       "    .dataframe tbody tr th {\n",
       "        vertical-align: top;\n",
       "    }\n",
       "\n",
       "    .dataframe thead th {\n",
       "        text-align: right;\n",
       "    }\n",
       "</style>\n",
       "<table border=\"1\" class=\"dataframe\">\n",
       "  <thead>\n",
       "    <tr style=\"text-align: right;\">\n",
       "      <th></th>\n",
       "      <th>children</th>\n",
       "      <th>days_employed</th>\n",
       "      <th>dob_years</th>\n",
       "      <th>education</th>\n",
       "      <th>education_id</th>\n",
       "      <th>family_status</th>\n",
       "      <th>family_status_id</th>\n",
       "      <th>gender</th>\n",
       "      <th>income_type</th>\n",
       "      <th>debt</th>\n",
       "      <th>total_income</th>\n",
       "      <th>purpose</th>\n",
       "    </tr>\n",
       "  </thead>\n",
       "  <tbody>\n",
       "    <tr>\n",
       "      <th>0</th>\n",
       "      <td>1</td>\n",
       "      <td>8437.673028</td>\n",
       "      <td>42</td>\n",
       "      <td>высшее</td>\n",
       "      <td>0</td>\n",
       "      <td>женат / замужем</td>\n",
       "      <td>0</td>\n",
       "      <td>F</td>\n",
       "      <td>сотрудник</td>\n",
       "      <td>0</td>\n",
       "      <td>253875.639453</td>\n",
       "      <td>покупка жилья</td>\n",
       "    </tr>\n",
       "    <tr>\n",
       "      <th>1</th>\n",
       "      <td>1</td>\n",
       "      <td>4024.803754</td>\n",
       "      <td>36</td>\n",
       "      <td>среднее</td>\n",
       "      <td>1</td>\n",
       "      <td>женат / замужем</td>\n",
       "      <td>0</td>\n",
       "      <td>F</td>\n",
       "      <td>сотрудник</td>\n",
       "      <td>0</td>\n",
       "      <td>112080.014102</td>\n",
       "      <td>приобретение автомобиля</td>\n",
       "    </tr>\n",
       "    <tr>\n",
       "      <th>2</th>\n",
       "      <td>0</td>\n",
       "      <td>5623.422610</td>\n",
       "      <td>33</td>\n",
       "      <td>Среднее</td>\n",
       "      <td>1</td>\n",
       "      <td>женат / замужем</td>\n",
       "      <td>0</td>\n",
       "      <td>M</td>\n",
       "      <td>сотрудник</td>\n",
       "      <td>0</td>\n",
       "      <td>145885.952297</td>\n",
       "      <td>покупка жилья</td>\n",
       "    </tr>\n",
       "    <tr>\n",
       "      <th>3</th>\n",
       "      <td>3</td>\n",
       "      <td>4124.747207</td>\n",
       "      <td>32</td>\n",
       "      <td>среднее</td>\n",
       "      <td>1</td>\n",
       "      <td>женат / замужем</td>\n",
       "      <td>0</td>\n",
       "      <td>M</td>\n",
       "      <td>сотрудник</td>\n",
       "      <td>0</td>\n",
       "      <td>267628.550329</td>\n",
       "      <td>дополнительное образование</td>\n",
       "    </tr>\n",
       "    <tr>\n",
       "      <th>4</th>\n",
       "      <td>0</td>\n",
       "      <td>14177.753002</td>\n",
       "      <td>53</td>\n",
       "      <td>среднее</td>\n",
       "      <td>1</td>\n",
       "      <td>гражданский брак</td>\n",
       "      <td>1</td>\n",
       "      <td>F</td>\n",
       "      <td>пенсионер</td>\n",
       "      <td>0</td>\n",
       "      <td>158616.077870</td>\n",
       "      <td>сыграть свадьбу</td>\n",
       "    </tr>\n",
       "  </tbody>\n",
       "</table>\n",
       "</div>"
      ],
      "text/plain": [
       "   children  days_employed  dob_years education  education_id  \\\n",
       "0         1    8437.673028         42    высшее             0   \n",
       "1         1    4024.803754         36   среднее             1   \n",
       "2         0    5623.422610         33   Среднее             1   \n",
       "3         3    4124.747207         32   среднее             1   \n",
       "4         0   14177.753002         53   среднее             1   \n",
       "\n",
       "      family_status  family_status_id gender income_type  debt   total_income  \\\n",
       "0   женат / замужем                 0      F   сотрудник     0  253875.639453   \n",
       "1   женат / замужем                 0      F   сотрудник     0  112080.014102   \n",
       "2   женат / замужем                 0      M   сотрудник     0  145885.952297   \n",
       "3   женат / замужем                 0      M   сотрудник     0  267628.550329   \n",
       "4  гражданский брак                 1      F   пенсионер     0  158616.077870   \n",
       "\n",
       "                      purpose  \n",
       "0               покупка жилья  \n",
       "1     приобретение автомобиля  \n",
       "2               покупка жилья  \n",
       "3  дополнительное образование  \n",
       "4             сыграть свадьбу  "
      ]
     },
     "execution_count": 8,
     "metadata": {},
     "output_type": "execute_result"
    }
   ],
   "source": [
    "data['days_employed'] = data['days_employed'].apply(hours_to_days) \n",
    "\n",
    "data['days_employed'] = abs(data['days_employed']) \n",
    "data['days_employed'] = data['days_employed'].fillna(data['days_employed'].mean()) \n",
    "data['total_income'] = data['total_income'].fillna(data['total_income'].median()) \n",
    "\n",
    "#проверка\n",
    "print(data.isna().sum()) \n",
    "data.head() "
   ]
  },
  {
   "cell_type": "code",
   "execution_count": 9,
   "metadata": {
    "scrolled": true
   },
   "outputs": [
    {
     "data": {
      "text/plain": [
       " 0     14149\n",
       " 1      4818\n",
       " 2      2055\n",
       " 3       330\n",
       " 20       76\n",
       "-1        47\n",
       " 4        41\n",
       " 5         9\n",
       "Name: children, dtype: int64"
      ]
     },
     "execution_count": 9,
     "metadata": {},
     "output_type": "execute_result"
    }
   ],
   "source": [
    "data['children'].value_counts()"
   ]
  },
  {
   "cell_type": "markdown",
   "metadata": {},
   "source": [
    "Нужно убрать отрицательные значения. А так же аномальное количество. "
   ]
  },
  {
   "cell_type": "code",
   "execution_count": 10,
   "metadata": {
    "scrolled": true
   },
   "outputs": [
    {
     "data": {
      "text/plain": [
       "0    14149\n",
       "1     4865\n",
       "2     2131\n",
       "3      330\n",
       "4       41\n",
       "5        9\n",
       "Name: children, dtype: int64"
      ]
     },
     "execution_count": 10,
     "metadata": {},
     "output_type": "execute_result"
    }
   ],
   "source": [
    "data['children'] = abs(data['children'])\n",
    "data.loc[data['children'] == 20, 'children'] = 2\n",
    "data['children'].value_counts()"
   ]
  },
  {
   "cell_type": "markdown",
   "metadata": {},
   "source": [
    "**Вывод**"
   ]
  },
  {
   "cell_type": "markdown",
   "metadata": {},
   "source": [
    "Все пропуски устранены. \n",
    "Пропуски в данных возможно вызваны техническим фактором, в колонках о доходе и стаже количество пропусков совпадают.\n",
    "Отрицательные значения в колонке стажа так же могут быть вызваны техническим фактором, разницу взяли из меньшего значения. В то время как аномально большие значения были положительными. Возможно, если действительно такие данные указаны в часах, была какая то ошибка с исходными показателями.\n",
    "\n",
    "Были найдены аномальные значения в колонке с детьми. Такое количество детей у одно семьи возможно, но не у 76 из 20000. Это скорее уникальный случай. Плюсом в ошибке данных можно считать, что число выбивается из ряда, отсутвуют семьи от 6 до 19 детей. Можно смело утверждать, что в данных была ошибка."
   ]
  },
  {
   "cell_type": "markdown",
   "metadata": {},
   "source": [
    "### Замена типа данных"
   ]
  },
  {
   "cell_type": "code",
   "execution_count": 12,
   "metadata": {},
   "outputs": [
    {
     "name": "stdout",
     "output_type": "stream",
     "text": [
      "<class 'pandas.core.frame.DataFrame'>\n",
      "RangeIndex: 21525 entries, 0 to 21524\n",
      "Data columns (total 12 columns):\n",
      " #   Column            Non-Null Count  Dtype \n",
      "---  ------            --------------  ----- \n",
      " 0   children          21525 non-null  int64 \n",
      " 1   days_employed     21525 non-null  int64 \n",
      " 2   dob_years         21525 non-null  int64 \n",
      " 3   education         21525 non-null  object\n",
      " 4   education_id      21525 non-null  int64 \n",
      " 5   family_status     21525 non-null  object\n",
      " 6   family_status_id  21525 non-null  int64 \n",
      " 7   gender            21525 non-null  object\n",
      " 8   income_type       21525 non-null  object\n",
      " 9   debt              21525 non-null  int64 \n",
      " 10  total_income      21525 non-null  int64 \n",
      " 11  purpose           21525 non-null  object\n",
      "dtypes: int64(7), object(5)\n",
      "memory usage: 2.0+ MB\n"
     ]
    }
   ],
   "source": [
    "data['days_employed'] = data['days_employed'].astype('int64') \n",
    "data['total_income'] = data['total_income'].astype('int64') \n",
    "data.info()"
   ]
  },
  {
   "cell_type": "markdown",
   "metadata": {},
   "source": [
    "**Вывод**"
   ]
  },
  {
   "cell_type": "markdown",
   "metadata": {},
   "source": [
    "Осталось всего 2 типа данных, целые числа и строки.\n",
    "Я использовал метод .astype(), потому что он удобен для замены на нужный тип данных. Целые числа приятны глазу и удобны в работе."
   ]
  },
  {
   "cell_type": "markdown",
   "metadata": {},
   "source": [
    "### Обработка дубликатов"
   ]
  },
  {
   "cell_type": "code",
   "execution_count": 13,
   "metadata": {},
   "outputs": [
    {
     "data": {
      "text/plain": [
       "array(['ВЫСШЕЕ', 'Высшее', 'НАЧАЛЬНОЕ', 'НЕОКОНЧЕННОЕ ВЫСШЕЕ',\n",
       "       'Начальное', 'Неоконченное высшее', 'СРЕДНЕЕ', 'Среднее',\n",
       "       'УЧЕНАЯ СТЕПЕНЬ', 'Ученая степень', 'высшее', 'начальное',\n",
       "       'неоконченное высшее', 'среднее', 'ученая степень'], dtype=object)"
      ]
     },
     "execution_count": 13,
     "metadata": {},
     "output_type": "execute_result"
    }
   ],
   "source": [
    "data['education'].sort_values().unique()"
   ]
  },
  {
   "cell_type": "code",
   "execution_count": 16,
   "metadata": {},
   "outputs": [
    {
     "name": "stdout",
     "output_type": "stream",
     "text": [
      "['высшее' 'начальное' 'неоконченное высшее' 'среднее' 'ученая степень']\n"
     ]
    },
    {
     "data": {
      "text/plain": [
       "71"
      ]
     },
     "execution_count": 16,
     "metadata": {},
     "output_type": "execute_result"
    }
   ],
   "source": [
    "data['education'] = data['education'].str.lower()\n",
    "data['family_status'] = data['family_status'].str.lower()\n",
    "print(data['education'].sort_values().unique())\n",
    "data.duplicated().sum()"
   ]
  },
  {
   "cell_type": "code",
   "execution_count": 17,
   "metadata": {},
   "outputs": [
    {
     "data": {
      "text/plain": [
       "0"
      ]
     },
     "execution_count": 17,
     "metadata": {},
     "output_type": "execute_result"
    }
   ],
   "source": [
    "data = data.drop_duplicates().reset_index(drop=True)\n",
    "data.duplicated().sum()"
   ]
  },
  {
   "cell_type": "markdown",
   "metadata": {},
   "source": [
    "**Вывод**"
   ]
  },
  {
   "cell_type": "markdown",
   "metadata": {},
   "source": [
    "Были замечены нарушения регистра в колонке образования, что повлияло на создание неявных дубликатов. Я привел строки к нижнему регистру с помощью метода str.lower(). Затем выявил явные дубликаты с помощью метода duplicated().sum() и удалил их с удалением старых индексов и формированием новых."
   ]
  },
  {
   "cell_type": "markdown",
   "metadata": {},
   "source": [
    "### Лемматизация"
   ]
  },
  {
   "cell_type": "code",
   "execution_count": 18,
   "metadata": {
    "scrolled": true
   },
   "outputs": [
    {
     "name": "stderr",
     "output_type": "stream",
     "text": [
      "Installing mystem to C:\\Users\\<user>/.local/bin\\mystem.exe from http://download.cdn.yandex.net/mystem/mystem-3.1-win-64bit.zip\n"
     ]
    }
   ],
   "source": [
    "m = Mystem()"
   ]
  },
  {
   "cell_type": "code",
   "execution_count": 20,
   "metadata": {},
   "outputs": [],
   "source": [
    "# объединим список в строку и удалим лишние символы, возвращает лемматизированные слова\n",
    "def lemmatizer(column):\n",
    "    return ''.join(m.lemmatize(column)).strip()"
   ]
  },
  {
   "cell_type": "code",
   "execution_count": 21,
   "metadata": {},
   "outputs": [
    {
     "data": {
      "text/plain": [
       "автомобиль                                972\n",
       "свадьба                                   791\n",
       "на проведение свадьба                     768\n",
       "сыграть свадьба                           765\n",
       "операция с недвижимость                   675\n",
       "покупка коммерческий недвижимость         661\n",
       "операция с жилье                          652\n",
       "покупка жилье для сдача                   651\n",
       "операция с коммерческий недвижимость      650\n",
       "покупка жилье                             646\n",
       "жилье                                     646\n",
       "покупка жилье для семья                   638\n",
       "строительство собственный недвижимость    635\n",
       "недвижимость                              633\n",
       "операция со свой недвижимость             627\n",
       "строительство жилой недвижимость          624\n",
       "покупка недвижимость                      621\n",
       "покупка свой жилье                        620\n",
       "строительство недвижимость                619\n",
       "ремонт жилье                              607\n",
       "покупка жилой недвижимость                606\n",
       "на покупка свой автомобиль                505\n",
       "заниматься высокий образование            496\n",
       "сделка с подержанный автомобиль           486\n",
       "на покупка подержать автомобиль           478\n",
       "свой автомобиль                           478\n",
       "на покупка автомобиль                     471\n",
       "приобретение автомобиль                   461\n",
       "дополнительный образование                460\n",
       "сделка с автомобиль                       455\n",
       "высокий образование                       452\n",
       "образование                               447\n",
       "получение дополнительный образование      446\n",
       "получение образование                     442\n",
       "профильный образование                    436\n",
       "получение высокий образование             426\n",
       "заниматься образование                    408\n",
       "Name: purpose, dtype: int64"
      ]
     },
     "execution_count": 21,
     "metadata": {},
     "output_type": "execute_result"
    }
   ],
   "source": [
    "data['purpose'] = data['purpose'].apply(lemmatizer)\n",
    "data['purpose'].value_counts()"
   ]
  },
  {
   "cell_type": "markdown",
   "metadata": {},
   "source": [
    "**Вывод**"
   ]
  },
  {
   "cell_type": "markdown",
   "metadata": {},
   "source": [
    "Перед тем как категоризировать данные, необходимо сначала привести слова к его словарной форме (лемме). В столбце с целью взятия кредита очень много вариантов записи данных. Я применил библиотеку pymystem3 к столбцу 'purpose'. Убрал лишние символы, преобразовал список в строку, теперь с этими данными удобно работать."
   ]
  },
  {
   "cell_type": "markdown",
   "metadata": {},
   "source": [
    "### Категоризация данных"
   ]
  },
  {
   "cell_type": "code",
   "execution_count": 22,
   "metadata": {},
   "outputs": [
    {
     "data": {
      "text/plain": [
       "недвижимость                  7622\n",
       "автомобиль                    4306\n",
       "образование                   4013\n",
       "свадьба                       2324\n",
       "строительство недвижимости    1878\n",
       "коммерческая недвижимость     1311\n",
       "Name: purpose_group, dtype: int64"
      ]
     },
     "execution_count": 22,
     "metadata": {},
     "output_type": "execute_result"
    }
   ],
   "source": [
    "def purpose_group(purpose):\n",
    "    if 'автомобиль' in purpose:\n",
    "        return 'автомобиль'\n",
    "    if 'свадьба' in purpose:\n",
    "        return 'свадьба'\n",
    "    if 'коммерческий недвижимость' in purpose:\n",
    "        return 'коммерческая недвижимость'\n",
    "    if 'строительство' in purpose:\n",
    "        return 'строительство недвижимости'\n",
    "    if 'недвижимость' in purpose:\n",
    "        return 'недвижимость'\n",
    "    if 'жилье' in purpose:\n",
    "        return 'недвижимость'\n",
    "    if 'образование' in purpose:\n",
    "        return 'образование'\n",
    "data['purpose_group'] = data['purpose'].apply(purpose_group)\n",
    "data['purpose_group'].value_counts()"
   ]
  },
  {
   "cell_type": "markdown",
   "metadata": {},
   "source": [
    "Я разделил людей на 3 условных группы: низкий, средний и высокий. За основу взял медианное значение уровня дохода."
   ]
  },
  {
   "cell_type": "code",
   "execution_count": 23,
   "metadata": {
    "scrolled": true
   },
   "outputs": [
    {
     "data": {
      "text/plain": [
       "145017.0"
      ]
     },
     "execution_count": 23,
     "metadata": {},
     "output_type": "execute_result"
    }
   ],
   "source": [
    "total_income_group = pd.cut(data['total_income'], [0,100000,200000,10000000])\n",
    "data['total_income'].median()"
   ]
  },
  {
   "cell_type": "code",
   "execution_count": 24,
   "metadata": {},
   "outputs": [
    {
     "data": {
      "text/plain": [
       "(100000, 200000]      11925\n",
       "(200000, 10000000]     5066\n",
       "(0, 100000]            4463\n",
       "Name: total_income, dtype: int64"
      ]
     },
     "execution_count": 24,
     "metadata": {},
     "output_type": "execute_result"
    }
   ],
   "source": [
    "total_income_group.value_counts()"
   ]
  },
  {
   "cell_type": "markdown",
   "metadata": {},
   "source": [
    "**Вывод**"
   ]
  },
  {
   "cell_type": "markdown",
   "metadata": {},
   "source": [
    "Из всего списка целей по кредиту я выбрал 6 категорий. Значения я внес в добавленный столбец в датафрейме. А так же разделил людей по уровню дохода. Теперь можно будет легко ответить на поставленные вопросы про цели взятия кредита. "
   ]
  },
  {
   "cell_type": "markdown",
   "metadata": {},
   "source": [
    "## Ответьте на вопросы"
   ]
  },
  {
   "cell_type": "markdown",
   "metadata": {},
   "source": [
    "- Есть ли зависимость между наличием детей и возвратом кредита в срок?"
   ]
  },
  {
   "cell_type": "markdown",
   "metadata": {},
   "source": [
    "Создам сводную таблицу, сгруппированную по количеству детей. Столбцы: общее количество людей, количество не вернувших кредит в срок, процентное соотношение не вернувших кредит в срок."
   ]
  },
  {
   "cell_type": "code",
   "execution_count": 25,
   "metadata": {
    "scrolled": false
   },
   "outputs": [
    {
     "data": {
      "text/html": [
       "<div>\n",
       "<style scoped>\n",
       "    .dataframe tbody tr th:only-of-type {\n",
       "        vertical-align: middle;\n",
       "    }\n",
       "\n",
       "    .dataframe tbody tr th {\n",
       "        vertical-align: top;\n",
       "    }\n",
       "\n",
       "    .dataframe thead tr th {\n",
       "        text-align: left;\n",
       "    }\n",
       "\n",
       "    .dataframe thead tr:last-of-type th {\n",
       "        text-align: right;\n",
       "    }\n",
       "</style>\n",
       "<table border=\"1\" class=\"dataframe\">\n",
       "  <thead>\n",
       "    <tr>\n",
       "      <th></th>\n",
       "      <th>count</th>\n",
       "      <th>sum</th>\n",
       "      <th>mean</th>\n",
       "    </tr>\n",
       "    <tr>\n",
       "      <th></th>\n",
       "      <th>debt</th>\n",
       "      <th>debt</th>\n",
       "      <th>debt</th>\n",
       "    </tr>\n",
       "    <tr>\n",
       "      <th>children</th>\n",
       "      <th></th>\n",
       "      <th></th>\n",
       "      <th></th>\n",
       "    </tr>\n",
       "  </thead>\n",
       "  <tbody>\n",
       "    <tr>\n",
       "      <th>0</th>\n",
       "      <td>14091</td>\n",
       "      <td>1063</td>\n",
       "      <td>0.075438</td>\n",
       "    </tr>\n",
       "    <tr>\n",
       "      <th>1</th>\n",
       "      <td>4855</td>\n",
       "      <td>445</td>\n",
       "      <td>0.091658</td>\n",
       "    </tr>\n",
       "    <tr>\n",
       "      <th>2</th>\n",
       "      <td>2128</td>\n",
       "      <td>202</td>\n",
       "      <td>0.094925</td>\n",
       "    </tr>\n",
       "    <tr>\n",
       "      <th>3</th>\n",
       "      <td>330</td>\n",
       "      <td>27</td>\n",
       "      <td>0.081818</td>\n",
       "    </tr>\n",
       "    <tr>\n",
       "      <th>4</th>\n",
       "      <td>41</td>\n",
       "      <td>4</td>\n",
       "      <td>0.097561</td>\n",
       "    </tr>\n",
       "    <tr>\n",
       "      <th>5</th>\n",
       "      <td>9</td>\n",
       "      <td>0</td>\n",
       "      <td>0.000000</td>\n",
       "    </tr>\n",
       "    <tr>\n",
       "      <th>All</th>\n",
       "      <td>21454</td>\n",
       "      <td>1741</td>\n",
       "      <td>0.081150</td>\n",
       "    </tr>\n",
       "  </tbody>\n",
       "</table>\n",
       "</div>"
      ],
      "text/plain": [
       "          count   sum      mean\n",
       "           debt  debt      debt\n",
       "children                       \n",
       "0         14091  1063  0.075438\n",
       "1          4855   445  0.091658\n",
       "2          2128   202  0.094925\n",
       "3           330    27  0.081818\n",
       "4            41     4  0.097561\n",
       "5             9     0  0.000000\n",
       "All       21454  1741  0.081150"
      ]
     },
     "execution_count": 25,
     "metadata": {},
     "output_type": "execute_result"
    }
   ],
   "source": [
    "data.pivot_table(index=['children'], values ='debt', aggfunc=['count','sum','mean'], margins=True)"
   ]
  },
  {
   "cell_type": "markdown",
   "metadata": {},
   "source": [
    "**Вывод**"
   ]
  },
  {
   "cell_type": "markdown",
   "metadata": {},
   "source": [
    "Общее количество бездетных людей почти в 2 раза больше. \n",
    "\n",
    "Разница людей с детьми не вернувших кредит в срок между людьми без детей в среднем 1,5%. Это говорит о том что зависимость между наличием детей и возвратом кредита в срок крайне незначительная. Не смотря на то, что бездетных людей не вернувших кредит в срок больше, в процентом соотношении они уступают людям с детьми. При увеличении количества людей в исследовании этот показатель может вырасти. Все люди с 5 детьми возвращают кредит в срок.\n",
    "\n",
    "Можно сделать вывод, что есть небольшая зависимость. Люди с детьми чаще не возвращают кредит в срок. "
   ]
  },
  {
   "cell_type": "markdown",
   "metadata": {},
   "source": [
    "- Есть ли зависимость между семейным положением и возвратом кредита в срок?"
   ]
  },
  {
   "cell_type": "markdown",
   "metadata": {},
   "source": [
    "Создам сводную таблицу, сгруппированную по семейному положению. Столбцы: общее количество людей, количество не вернувших кредит в срок, процентное соотношение не вернувших кредит в срок."
   ]
  },
  {
   "cell_type": "code",
   "execution_count": 26,
   "metadata": {
    "scrolled": false
   },
   "outputs": [
    {
     "data": {
      "text/html": [
       "<div>\n",
       "<style scoped>\n",
       "    .dataframe tbody tr th:only-of-type {\n",
       "        vertical-align: middle;\n",
       "    }\n",
       "\n",
       "    .dataframe tbody tr th {\n",
       "        vertical-align: top;\n",
       "    }\n",
       "\n",
       "    .dataframe thead tr th {\n",
       "        text-align: left;\n",
       "    }\n",
       "\n",
       "    .dataframe thead tr:last-of-type th {\n",
       "        text-align: right;\n",
       "    }\n",
       "</style>\n",
       "<table border=\"1\" class=\"dataframe\">\n",
       "  <thead>\n",
       "    <tr>\n",
       "      <th></th>\n",
       "      <th>count</th>\n",
       "      <th>sum</th>\n",
       "      <th>mean</th>\n",
       "    </tr>\n",
       "    <tr>\n",
       "      <th></th>\n",
       "      <th>debt</th>\n",
       "      <th>debt</th>\n",
       "      <th>debt</th>\n",
       "    </tr>\n",
       "    <tr>\n",
       "      <th>family_status</th>\n",
       "      <th></th>\n",
       "      <th></th>\n",
       "      <th></th>\n",
       "    </tr>\n",
       "  </thead>\n",
       "  <tbody>\n",
       "    <tr>\n",
       "      <th>в разводе</th>\n",
       "      <td>1195</td>\n",
       "      <td>85</td>\n",
       "      <td>0.071130</td>\n",
       "    </tr>\n",
       "    <tr>\n",
       "      <th>вдовец / вдова</th>\n",
       "      <td>959</td>\n",
       "      <td>63</td>\n",
       "      <td>0.065693</td>\n",
       "    </tr>\n",
       "    <tr>\n",
       "      <th>гражданский брак</th>\n",
       "      <td>4151</td>\n",
       "      <td>388</td>\n",
       "      <td>0.093471</td>\n",
       "    </tr>\n",
       "    <tr>\n",
       "      <th>женат / замужем</th>\n",
       "      <td>12339</td>\n",
       "      <td>931</td>\n",
       "      <td>0.075452</td>\n",
       "    </tr>\n",
       "    <tr>\n",
       "      <th>не женат / не замужем</th>\n",
       "      <td>2810</td>\n",
       "      <td>274</td>\n",
       "      <td>0.097509</td>\n",
       "    </tr>\n",
       "    <tr>\n",
       "      <th>All</th>\n",
       "      <td>21454</td>\n",
       "      <td>1741</td>\n",
       "      <td>0.081150</td>\n",
       "    </tr>\n",
       "  </tbody>\n",
       "</table>\n",
       "</div>"
      ],
      "text/plain": [
       "                       count   sum      mean\n",
       "                        debt  debt      debt\n",
       "family_status                               \n",
       "в разводе               1195    85  0.071130\n",
       "вдовец / вдова           959    63  0.065693\n",
       "гражданский брак        4151   388  0.093471\n",
       "женат / замужем        12339   931  0.075452\n",
       "не женат / не замужем   2810   274  0.097509\n",
       "All                    21454  1741  0.081150"
      ]
     },
     "execution_count": 26,
     "metadata": {},
     "output_type": "execute_result"
    }
   ],
   "source": [
    "data.pivot_table(index=['family_status'], values ='debt', aggfunc=['count','sum','mean'], margins=True)"
   ]
  },
  {
   "cell_type": "markdown",
   "metadata": {},
   "source": [
    "**Вывод**"
   ]
  },
  {
   "cell_type": "markdown",
   "metadata": {},
   "source": [
    "Общее количество людей женат/замужем более чем в 2 раза больше остальных. \n",
    "\n",
    "Разница людей не женат/замужем и в гражданском браке не вернувших кредит в срок с людьми женат/замужем в среднем 2,5%. Это говорит о том что зависимость между семейным положением и возвратом кредита в срок незначительная. Не смотря на то, что женат/замужем людей не вернувших кредит в срок больше, в процентом соотношении они уступают людям не женат/замужем и в гражданском браке. При увеличении количества людей в исследовании этот показатель может вырасти.\n",
    "\n",
    "Можно сделать вывод, что есть небольшая зависимость. Люди не женат/замужем и в гражданском браке чаще не возвращают кредит в срок."
   ]
  },
  {
   "cell_type": "markdown",
   "metadata": {},
   "source": [
    "- Есть ли зависимость между уровнем дохода и возвратом кредита в срок?"
   ]
  },
  {
   "cell_type": "markdown",
   "metadata": {},
   "source": [
    "Создам сводную таблицу, сгруппированную по уровню дохода. Столбцы: общее количество людей, количество не вернувших кредит в срок, процентное соотношение не вернувших кредит в срок."
   ]
  },
  {
   "cell_type": "code",
   "execution_count": 27,
   "metadata": {
    "scrolled": true
   },
   "outputs": [
    {
     "data": {
      "text/html": [
       "<div>\n",
       "<style scoped>\n",
       "    .dataframe tbody tr th:only-of-type {\n",
       "        vertical-align: middle;\n",
       "    }\n",
       "\n",
       "    .dataframe tbody tr th {\n",
       "        vertical-align: top;\n",
       "    }\n",
       "\n",
       "    .dataframe thead tr th {\n",
       "        text-align: left;\n",
       "    }\n",
       "\n",
       "    .dataframe thead tr:last-of-type th {\n",
       "        text-align: right;\n",
       "    }\n",
       "</style>\n",
       "<table border=\"1\" class=\"dataframe\">\n",
       "  <thead>\n",
       "    <tr>\n",
       "      <th></th>\n",
       "      <th>count</th>\n",
       "      <th>sum</th>\n",
       "      <th>mean</th>\n",
       "    </tr>\n",
       "    <tr>\n",
       "      <th></th>\n",
       "      <th>debt</th>\n",
       "      <th>debt</th>\n",
       "      <th>debt</th>\n",
       "    </tr>\n",
       "    <tr>\n",
       "      <th>total_income</th>\n",
       "      <th></th>\n",
       "      <th></th>\n",
       "      <th></th>\n",
       "    </tr>\n",
       "  </thead>\n",
       "  <tbody>\n",
       "    <tr>\n",
       "      <th>(0, 100000]</th>\n",
       "      <td>4463</td>\n",
       "      <td>354</td>\n",
       "      <td>0.079319</td>\n",
       "    </tr>\n",
       "    <tr>\n",
       "      <th>(100000, 200000]</th>\n",
       "      <td>11925</td>\n",
       "      <td>1029</td>\n",
       "      <td>0.086289</td>\n",
       "    </tr>\n",
       "    <tr>\n",
       "      <th>(200000, 10000000]</th>\n",
       "      <td>5066</td>\n",
       "      <td>358</td>\n",
       "      <td>0.070667</td>\n",
       "    </tr>\n",
       "    <tr>\n",
       "      <th>All</th>\n",
       "      <td>21454</td>\n",
       "      <td>1741</td>\n",
       "      <td>0.081150</td>\n",
       "    </tr>\n",
       "  </tbody>\n",
       "</table>\n",
       "</div>"
      ],
      "text/plain": [
       "                    count   sum      mean\n",
       "                     debt  debt      debt\n",
       "total_income                             \n",
       "(0, 100000]          4463   354  0.079319\n",
       "(100000, 200000]    11925  1029  0.086289\n",
       "(200000, 10000000]   5066   358  0.070667\n",
       "All                 21454  1741  0.081150"
      ]
     },
     "execution_count": 27,
     "metadata": {},
     "output_type": "execute_result"
    }
   ],
   "source": [
    "data.pivot_table(index=[total_income_group], values ='debt', aggfunc=['count','sum','mean'], margins=True)"
   ]
  },
  {
   "cell_type": "markdown",
   "metadata": {},
   "source": [
    "**Вывод**"
   ]
  },
  {
   "cell_type": "markdown",
   "metadata": {},
   "source": [
    "Количество людей со средним доходом более чем в 2 раза больше других категорий. \n",
    "\n",
    "В процентном соотношении людей со среднем доходом больше по не возврату кредита в срок. Далее идут люди с низким уровнем дохода в процентном соотношении. Не смотря на то, что количество людей не вернувших кредит в срок с низким уровнем дохода почти такое же как и с высоким.\n",
    "\n",
    "Можно сделать вывод, что люди со средним доходом чаще не возвращают кредит в срок."
   ]
  },
  {
   "cell_type": "markdown",
   "metadata": {},
   "source": [
    "- Как разные цели кредита влияют на его возврат в срок?"
   ]
  },
  {
   "cell_type": "markdown",
   "metadata": {},
   "source": [
    "Создам сводную таблицу, сгруппированную по цели взятия кредита. Столбцы: общее количество людей, количество не вернувших кредит в срок, процентное соотношение не вернувших кредит в срок."
   ]
  },
  {
   "cell_type": "code",
   "execution_count": 28,
   "metadata": {},
   "outputs": [
    {
     "data": {
      "text/html": [
       "<div>\n",
       "<style scoped>\n",
       "    .dataframe tbody tr th:only-of-type {\n",
       "        vertical-align: middle;\n",
       "    }\n",
       "\n",
       "    .dataframe tbody tr th {\n",
       "        vertical-align: top;\n",
       "    }\n",
       "\n",
       "    .dataframe thead tr th {\n",
       "        text-align: left;\n",
       "    }\n",
       "\n",
       "    .dataframe thead tr:last-of-type th {\n",
       "        text-align: right;\n",
       "    }\n",
       "</style>\n",
       "<table border=\"1\" class=\"dataframe\">\n",
       "  <thead>\n",
       "    <tr>\n",
       "      <th></th>\n",
       "      <th>count</th>\n",
       "      <th>sum</th>\n",
       "      <th>mean</th>\n",
       "    </tr>\n",
       "    <tr>\n",
       "      <th></th>\n",
       "      <th>debt</th>\n",
       "      <th>debt</th>\n",
       "      <th>debt</th>\n",
       "    </tr>\n",
       "    <tr>\n",
       "      <th>purpose_group</th>\n",
       "      <th></th>\n",
       "      <th></th>\n",
       "      <th></th>\n",
       "    </tr>\n",
       "  </thead>\n",
       "  <tbody>\n",
       "    <tr>\n",
       "      <th>автомобиль</th>\n",
       "      <td>4306</td>\n",
       "      <td>403</td>\n",
       "      <td>0.093590</td>\n",
       "    </tr>\n",
       "    <tr>\n",
       "      <th>коммерческая недвижимость</th>\n",
       "      <td>1311</td>\n",
       "      <td>99</td>\n",
       "      <td>0.075515</td>\n",
       "    </tr>\n",
       "    <tr>\n",
       "      <th>недвижимость</th>\n",
       "      <td>7622</td>\n",
       "      <td>539</td>\n",
       "      <td>0.070716</td>\n",
       "    </tr>\n",
       "    <tr>\n",
       "      <th>образование</th>\n",
       "      <td>4013</td>\n",
       "      <td>370</td>\n",
       "      <td>0.092200</td>\n",
       "    </tr>\n",
       "    <tr>\n",
       "      <th>свадьба</th>\n",
       "      <td>2324</td>\n",
       "      <td>186</td>\n",
       "      <td>0.080034</td>\n",
       "    </tr>\n",
       "    <tr>\n",
       "      <th>строительство недвижимости</th>\n",
       "      <td>1878</td>\n",
       "      <td>144</td>\n",
       "      <td>0.076677</td>\n",
       "    </tr>\n",
       "    <tr>\n",
       "      <th>All</th>\n",
       "      <td>21454</td>\n",
       "      <td>1741</td>\n",
       "      <td>0.081150</td>\n",
       "    </tr>\n",
       "  </tbody>\n",
       "</table>\n",
       "</div>"
      ],
      "text/plain": [
       "                            count   sum      mean\n",
       "                             debt  debt      debt\n",
       "purpose_group                                    \n",
       "автомобиль                   4306   403  0.093590\n",
       "коммерческая недвижимость    1311    99  0.075515\n",
       "недвижимость                 7622   539  0.070716\n",
       "образование                  4013   370  0.092200\n",
       "свадьба                      2324   186  0.080034\n",
       "строительство недвижимости   1878   144  0.076677\n",
       "All                         21454  1741  0.081150"
      ]
     },
     "execution_count": 28,
     "metadata": {},
     "output_type": "execute_result"
    }
   ],
   "source": [
    "data.pivot_table(index=['purpose_group'], values ='debt', aggfunc=['count','sum','mean'], margins=True)"
   ]
  },
  {
   "cell_type": "markdown",
   "metadata": {},
   "source": [
    "**Вывод**"
   ]
  },
  {
   "cell_type": "markdown",
   "metadata": {},
   "source": [
    "Больше всего людей берут кредит на собственную недвижимость. \n",
    "\n",
    "Выделяются 2 группы, взявшие кредит на автомобиль и образование. В процентном соотношении за автомобиль и образование чаще не возвращают. Не смотря на то, что по количеству невернувших кредит людей лидирует собственную недвижимость. Но и берут чаще всего.\n",
    "\n",
    "Можно сделать вывод, что люди, взявшие кредит на автомобиль и образование чаще не возвращают кредит в срок. Люди, взявшие кредит на собственную недвижимость самые обязательные."
   ]
  },
  {
   "cell_type": "markdown",
   "metadata": {},
   "source": [
    "- Главный вопрос исследования: влияет ли семейное положение и количество детей клиента на факт погашения кредита в срок?"
   ]
  },
  {
   "cell_type": "code",
   "execution_count": 29,
   "metadata": {
    "scrolled": false
   },
   "outputs": [
    {
     "data": {
      "text/html": [
       "<div>\n",
       "<style scoped>\n",
       "    .dataframe tbody tr th:only-of-type {\n",
       "        vertical-align: middle;\n",
       "    }\n",
       "\n",
       "    .dataframe tbody tr th {\n",
       "        vertical-align: top;\n",
       "    }\n",
       "\n",
       "    .dataframe thead th {\n",
       "        text-align: right;\n",
       "    }\n",
       "</style>\n",
       "<table border=\"1\" class=\"dataframe\">\n",
       "  <thead>\n",
       "    <tr style=\"text-align: right;\">\n",
       "      <th>family_status</th>\n",
       "      <th>в разводе</th>\n",
       "      <th>вдовец / вдова</th>\n",
       "      <th>гражданский брак</th>\n",
       "      <th>женат / замужем</th>\n",
       "      <th>не женат / не замужем</th>\n",
       "    </tr>\n",
       "    <tr>\n",
       "      <th>children</th>\n",
       "      <th></th>\n",
       "      <th></th>\n",
       "      <th></th>\n",
       "      <th></th>\n",
       "      <th></th>\n",
       "    </tr>\n",
       "  </thead>\n",
       "  <tbody>\n",
       "    <tr>\n",
       "      <th>0</th>\n",
       "      <td>55.0</td>\n",
       "      <td>53.0</td>\n",
       "      <td>229.0</td>\n",
       "      <td>516.0</td>\n",
       "      <td>210.0</td>\n",
       "    </tr>\n",
       "    <tr>\n",
       "      <th>1</th>\n",
       "      <td>21.0</td>\n",
       "      <td>7.0</td>\n",
       "      <td>118.0</td>\n",
       "      <td>247.0</td>\n",
       "      <td>52.0</td>\n",
       "    </tr>\n",
       "    <tr>\n",
       "      <th>2</th>\n",
       "      <td>8.0</td>\n",
       "      <td>3.0</td>\n",
       "      <td>33.0</td>\n",
       "      <td>148.0</td>\n",
       "      <td>10.0</td>\n",
       "    </tr>\n",
       "    <tr>\n",
       "      <th>3</th>\n",
       "      <td>1.0</td>\n",
       "      <td>0.0</td>\n",
       "      <td>8.0</td>\n",
       "      <td>17.0</td>\n",
       "      <td>1.0</td>\n",
       "    </tr>\n",
       "    <tr>\n",
       "      <th>4</th>\n",
       "      <td>0.0</td>\n",
       "      <td>0.0</td>\n",
       "      <td>0.0</td>\n",
       "      <td>3.0</td>\n",
       "      <td>1.0</td>\n",
       "    </tr>\n",
       "    <tr>\n",
       "      <th>5</th>\n",
       "      <td>NaN</td>\n",
       "      <td>NaN</td>\n",
       "      <td>0.0</td>\n",
       "      <td>0.0</td>\n",
       "      <td>NaN</td>\n",
       "    </tr>\n",
       "  </tbody>\n",
       "</table>\n",
       "</div>"
      ],
      "text/plain": [
       "family_status  в разводе  вдовец / вдова  гражданский брак  женат / замужем  \\\n",
       "children                                                                      \n",
       "0                   55.0            53.0             229.0            516.0   \n",
       "1                   21.0             7.0             118.0            247.0   \n",
       "2                    8.0             3.0              33.0            148.0   \n",
       "3                    1.0             0.0               8.0             17.0   \n",
       "4                    0.0             0.0               0.0              3.0   \n",
       "5                    NaN             NaN               0.0              0.0   \n",
       "\n",
       "family_status  не женат / не замужем  \n",
       "children                              \n",
       "0                              210.0  \n",
       "1                               52.0  \n",
       "2                               10.0  \n",
       "3                                1.0  \n",
       "4                                1.0  \n",
       "5                                NaN  "
      ]
     },
     "execution_count": 29,
     "metadata": {},
     "output_type": "execute_result"
    }
   ],
   "source": [
    "# таблица наличия детей и  количество не вернувших кредита в срок\n",
    "data.pivot_table(index=['children'], values ='debt',columns='family_status',aggfunc='sum')"
   ]
  },
  {
   "cell_type": "code",
   "execution_count": 30,
   "metadata": {
    "scrolled": false
   },
   "outputs": [
    {
     "data": {
      "text/html": [
       "<div>\n",
       "<style scoped>\n",
       "    .dataframe tbody tr th:only-of-type {\n",
       "        vertical-align: middle;\n",
       "    }\n",
       "\n",
       "    .dataframe tbody tr th {\n",
       "        vertical-align: top;\n",
       "    }\n",
       "\n",
       "    .dataframe thead th {\n",
       "        text-align: right;\n",
       "    }\n",
       "</style>\n",
       "<table border=\"1\" class=\"dataframe\">\n",
       "  <thead>\n",
       "    <tr style=\"text-align: right;\">\n",
       "      <th>family_status</th>\n",
       "      <th>в разводе</th>\n",
       "      <th>вдовец / вдова</th>\n",
       "      <th>гражданский брак</th>\n",
       "      <th>женат / замужем</th>\n",
       "      <th>не женат / не замужем</th>\n",
       "      <th>All</th>\n",
       "    </tr>\n",
       "    <tr>\n",
       "      <th>children</th>\n",
       "      <th></th>\n",
       "      <th></th>\n",
       "      <th></th>\n",
       "      <th></th>\n",
       "      <th></th>\n",
       "      <th></th>\n",
       "    </tr>\n",
       "  </thead>\n",
       "  <tbody>\n",
       "    <tr>\n",
       "      <th>0</th>\n",
       "      <td>0.070153</td>\n",
       "      <td>0.062574</td>\n",
       "      <td>0.083883</td>\n",
       "      <td>0.069095</td>\n",
       "      <td>0.092838</td>\n",
       "      <td>0.075438</td>\n",
       "    </tr>\n",
       "    <tr>\n",
       "      <th>1</th>\n",
       "      <td>0.066456</td>\n",
       "      <td>0.086420</td>\n",
       "      <td>0.118000</td>\n",
       "      <td>0.082224</td>\n",
       "      <td>0.114537</td>\n",
       "      <td>0.091658</td>\n",
       "    </tr>\n",
       "    <tr>\n",
       "      <th>2</th>\n",
       "      <td>0.096386</td>\n",
       "      <td>0.125000</td>\n",
       "      <td>0.092958</td>\n",
       "      <td>0.093552</td>\n",
       "      <td>0.119048</td>\n",
       "      <td>0.094925</td>\n",
       "    </tr>\n",
       "    <tr>\n",
       "      <th>3</th>\n",
       "      <td>0.090909</td>\n",
       "      <td>0.000000</td>\n",
       "      <td>0.142857</td>\n",
       "      <td>0.068273</td>\n",
       "      <td>0.125000</td>\n",
       "      <td>0.081818</td>\n",
       "    </tr>\n",
       "    <tr>\n",
       "      <th>4</th>\n",
       "      <td>0.000000</td>\n",
       "      <td>0.000000</td>\n",
       "      <td>0.000000</td>\n",
       "      <td>0.103448</td>\n",
       "      <td>0.500000</td>\n",
       "      <td>0.097561</td>\n",
       "    </tr>\n",
       "    <tr>\n",
       "      <th>5</th>\n",
       "      <td>NaN</td>\n",
       "      <td>NaN</td>\n",
       "      <td>0.000000</td>\n",
       "      <td>0.000000</td>\n",
       "      <td>NaN</td>\n",
       "      <td>0.000000</td>\n",
       "    </tr>\n",
       "    <tr>\n",
       "      <th>All</th>\n",
       "      <td>0.071130</td>\n",
       "      <td>0.065693</td>\n",
       "      <td>0.093471</td>\n",
       "      <td>0.075452</td>\n",
       "      <td>0.097509</td>\n",
       "      <td>0.081150</td>\n",
       "    </tr>\n",
       "  </tbody>\n",
       "</table>\n",
       "</div>"
      ],
      "text/plain": [
       "family_status  в разводе  вдовец / вдова  гражданский брак  женат / замужем  \\\n",
       "children                                                                      \n",
       "0               0.070153        0.062574          0.083883         0.069095   \n",
       "1               0.066456        0.086420          0.118000         0.082224   \n",
       "2               0.096386        0.125000          0.092958         0.093552   \n",
       "3               0.090909        0.000000          0.142857         0.068273   \n",
       "4               0.000000        0.000000          0.000000         0.103448   \n",
       "5                    NaN             NaN          0.000000         0.000000   \n",
       "All             0.071130        0.065693          0.093471         0.075452   \n",
       "\n",
       "family_status  не женат / не замужем       All  \n",
       "children                                        \n",
       "0                           0.092838  0.075438  \n",
       "1                           0.114537  0.091658  \n",
       "2                           0.119048  0.094925  \n",
       "3                           0.125000  0.081818  \n",
       "4                           0.500000  0.097561  \n",
       "5                                NaN  0.000000  \n",
       "All                         0.097509  0.081150  "
      ]
     },
     "execution_count": 30,
     "metadata": {},
     "output_type": "execute_result"
    }
   ],
   "source": [
    "# таблица наличия детей и  количество не вернувших кредита в срок\n",
    "data.pivot_table(index=['children'], values ='debt',columns='family_status',margins=True)"
   ]
  },
  {
   "cell_type": "markdown",
   "metadata": {},
   "source": [
    "**Вывод**"
   ]
  },
  {
   "cell_type": "markdown",
   "metadata": {},
   "source": [
    "Больше 10% людей не вернувших кредит в срок по отношению к вернувшим, это люди не женат / не замужем и в гражданском браке с детьми от 1 до 3. \n",
    "\n",
    "Отдельно стоит отметить вдовец / вдова с 2 детьми 12,5% невозврата. И не женат / не замужем с 4 детьми 50%.\n",
    "\n",
    "Можно смело дедать вывод, что семейное положение влияет на возврат кредита в срок."
   ]
  },
  {
   "cell_type": "markdown",
   "metadata": {},
   "source": [
    "## Общий вывод"
   ]
  },
  {
   "cell_type": "markdown",
   "metadata": {},
   "source": [
    "Я ответил на 4 вопроса и установил:\n",
    "\n",
    "1. Люди с детьми чаще не возвращают кредит в срок.\n",
    "2. Люди живущие в гражданском браке и не женатые/замужние чаще не возвращают кредит в срок.\n",
    "3. Люди со средним доходом чаще не возвращают кредит в срок.\n",
    "4. Разные цели кредита влияют на его возврат в срок. Люди, взявшие кредит на автомобиль и образование чаще не возвращают кредит в срок. Люди, взявшие кредит на собственную недвижимость самые обязательные.\n",
    "\n",
    "**Главный вопрос исследования:** Влияет ли семейное положение и количество детей клиента на факт погашения кредита в срок?\n",
    "Да, влияет. \n",
    "\n",
    " - Самый большой процент неплательщиков: не женат / не замужем с 4 детьми. Половина не возвращают кредит в срок. 50%\n",
    " - На втором месте в гражданском браке с 3 детьми. 14,2%\n",
    " - И на третьем месте не женат / не замужем с детьми от 1 до 3 и в гражданском браке с детьми от 1 до 3. Больше 10%\n"
   ]
  }
 ],
 "metadata": {
  "ExecuteTimeLog": [
   {
    "duration": 713,
    "start_time": "2022-01-14T05:25:24.774Z"
   },
   {
    "duration": 890,
    "start_time": "2022-01-14T05:26:06.548Z"
   },
   {
    "duration": 72,
    "start_time": "2022-01-14T06:05:49.357Z"
   },
   {
    "duration": 69,
    "start_time": "2022-01-14T06:05:54.691Z"
   },
   {
    "duration": 68,
    "start_time": "2022-01-14T06:05:58.166Z"
   },
   {
    "duration": 71,
    "start_time": "2022-01-14T07:10:57.540Z"
   },
   {
    "duration": 4,
    "start_time": "2022-01-14T07:26:13.562Z"
   },
   {
    "duration": 332,
    "start_time": "2022-01-14T07:26:39.487Z"
   },
   {
    "duration": 10,
    "start_time": "2022-01-14T07:26:45.511Z"
   },
   {
    "duration": 13,
    "start_time": "2022-01-14T08:43:24.233Z"
   },
   {
    "duration": 11,
    "start_time": "2022-01-14T08:44:20.997Z"
   },
   {
    "duration": 11,
    "start_time": "2022-01-14T08:58:32.280Z"
   },
   {
    "duration": 12,
    "start_time": "2022-01-14T08:59:52.389Z"
   },
   {
    "duration": 11,
    "start_time": "2022-01-14T09:00:06.948Z"
   },
   {
    "duration": 12,
    "start_time": "2022-01-14T09:01:18.369Z"
   },
   {
    "duration": 5,
    "start_time": "2022-01-14T10:11:46.412Z"
   },
   {
    "duration": 6,
    "start_time": "2022-01-14T10:13:52.169Z"
   },
   {
    "duration": 9,
    "start_time": "2022-01-14T10:16:43.337Z"
   },
   {
    "duration": -1124,
    "start_time": "2022-01-14T10:19:57.842Z"
   },
   {
    "duration": -1121,
    "start_time": "2022-01-14T10:20:27.166Z"
   },
   {
    "duration": 8598,
    "start_time": "2022-01-14T10:20:29.120Z"
   },
   {
    "duration": 365,
    "start_time": "2022-01-14T10:20:46.848Z"
   },
   {
    "duration": 282,
    "start_time": "2022-01-14T10:21:01.000Z"
   },
   {
    "duration": 68,
    "start_time": "2022-01-14T10:21:08.299Z"
   },
   {
    "duration": 264,
    "start_time": "2022-01-14T10:21:16.449Z"
   },
   {
    "duration": 5,
    "start_time": "2022-01-14T10:24:07.145Z"
   },
   {
    "duration": 15,
    "start_time": "2022-01-14T10:24:17.968Z"
   },
   {
    "duration": 294,
    "start_time": "2022-01-14T10:25:12.705Z"
   },
   {
    "duration": 16,
    "start_time": "2022-01-14T10:25:26.728Z"
   },
   {
    "duration": 11,
    "start_time": "2022-01-14T10:25:49.648Z"
   },
   {
    "duration": 283,
    "start_time": "2022-01-14T10:26:34.558Z"
   },
   {
    "duration": 280,
    "start_time": "2022-01-14T10:26:40.572Z"
   },
   {
    "duration": 11,
    "start_time": "2022-01-14T10:27:08.156Z"
   },
   {
    "duration": 287,
    "start_time": "2022-01-14T10:27:49.026Z"
   },
   {
    "duration": 11,
    "start_time": "2022-01-14T10:34:07.438Z"
   },
   {
    "duration": 13,
    "start_time": "2022-01-14T10:34:13.292Z"
   },
   {
    "duration": 271,
    "start_time": "2022-01-14T10:34:29.292Z"
   },
   {
    "duration": 1391,
    "start_time": "2022-01-14T10:34:35.589Z"
   },
   {
    "duration": 292,
    "start_time": "2022-01-14T10:34:45.788Z"
   },
   {
    "duration": 6,
    "start_time": "2022-01-14T10:34:56.292Z"
   },
   {
    "duration": 27,
    "start_time": "2022-01-14T10:35:09.589Z"
   },
   {
    "duration": 15,
    "start_time": "2022-01-14T10:35:53.490Z"
   },
   {
    "duration": 20,
    "start_time": "2022-01-14T10:40:25.650Z"
   },
   {
    "duration": 21,
    "start_time": "2022-01-14T10:40:41.984Z"
   },
   {
    "duration": 335,
    "start_time": "2022-01-14T10:40:46.304Z"
   },
   {
    "duration": 261,
    "start_time": "2022-01-14T10:41:38.214Z"
   },
   {
    "duration": 12,
    "start_time": "2022-01-14T10:41:55.119Z"
   },
   {
    "duration": 13,
    "start_time": "2022-01-14T10:42:10.445Z"
   },
   {
    "duration": 14,
    "start_time": "2022-01-14T10:43:16.125Z"
   },
   {
    "duration": 15,
    "start_time": "2022-01-14T10:43:29.716Z"
   },
   {
    "duration": 13,
    "start_time": "2022-01-14T17:23:49.457Z"
   },
   {
    "duration": 15,
    "start_time": "2022-01-14T17:23:58.608Z"
   },
   {
    "duration": 70,
    "start_time": "2022-01-14T17:24:06.267Z"
   },
   {
    "duration": 295,
    "start_time": "2022-01-14T17:24:11.027Z"
   },
   {
    "duration": 18,
    "start_time": "2022-01-14T17:25:03.892Z"
   },
   {
    "duration": 11,
    "start_time": "2022-01-14T17:25:31.563Z"
   },
   {
    "duration": 14,
    "start_time": "2022-01-14T17:25:39.739Z"
   },
   {
    "duration": 21,
    "start_time": "2022-01-14T17:47:57.791Z"
   },
   {
    "duration": 15,
    "start_time": "2022-01-14T17:48:35.879Z"
   },
   {
    "duration": 14,
    "start_time": "2022-01-14T17:48:42.033Z"
   },
   {
    "duration": 13,
    "start_time": "2022-01-14T17:48:46.959Z"
   },
   {
    "duration": 76,
    "start_time": "2022-01-14T17:48:51.999Z"
   },
   {
    "duration": 15,
    "start_time": "2022-01-14T17:48:54.774Z"
   },
   {
    "duration": 15,
    "start_time": "2022-01-14T17:49:04.527Z"
   },
   {
    "duration": 13,
    "start_time": "2022-01-14T17:49:35.647Z"
   },
   {
    "duration": 67,
    "start_time": "2022-01-14T17:49:38.695Z"
   },
   {
    "duration": 20,
    "start_time": "2022-01-14T17:49:42.094Z"
   },
   {
    "duration": 944,
    "start_time": "2022-01-14T17:52:41.143Z"
   },
   {
    "duration": 14,
    "start_time": "2022-01-14T17:52:46.069Z"
   },
   {
    "duration": 16,
    "start_time": "2022-01-14T17:53:15.981Z"
   },
   {
    "duration": 280,
    "start_time": "2022-01-14T17:53:31.013Z"
   },
   {
    "duration": 15,
    "start_time": "2022-01-14T17:53:35.862Z"
   },
   {
    "duration": 28,
    "start_time": "2022-01-14T17:55:49.705Z"
   },
   {
    "duration": 66,
    "start_time": "2022-01-14T17:55:58.822Z"
   },
   {
    "duration": 24,
    "start_time": "2022-01-14T17:56:02.116Z"
   },
   {
    "duration": 296,
    "start_time": "2022-01-14T17:56:07.236Z"
   },
   {
    "duration": 25,
    "start_time": "2022-01-14T17:56:11.748Z"
   },
   {
    "duration": 251,
    "start_time": "2022-01-14T18:00:50.877Z"
   },
   {
    "duration": 23,
    "start_time": "2022-01-14T18:00:59.116Z"
   },
   {
    "duration": 467,
    "start_time": "2022-01-14T18:13:06.307Z"
   },
   {
    "duration": 448,
    "start_time": "2022-01-14T18:13:28.788Z"
   },
   {
    "duration": 66,
    "start_time": "2022-01-14T18:13:38.341Z"
   },
   {
    "duration": 468,
    "start_time": "2022-01-14T18:13:41.220Z"
   },
   {
    "duration": 505,
    "start_time": "2022-01-14T18:14:03.229Z"
   },
   {
    "duration": 65,
    "start_time": "2022-01-14T18:14:10.612Z"
   },
   {
    "duration": 504,
    "start_time": "2022-01-14T18:14:13.052Z"
   },
   {
    "duration": 454,
    "start_time": "2022-01-14T18:14:18.619Z"
   },
   {
    "duration": 24,
    "start_time": "2022-01-14T18:14:27.213Z"
   },
   {
    "duration": 23,
    "start_time": "2022-01-14T18:15:00.332Z"
   },
   {
    "duration": 32,
    "start_time": "2022-01-14T18:15:06.347Z"
   },
   {
    "duration": 25,
    "start_time": "2022-01-14T18:15:21.236Z"
   },
   {
    "duration": 34,
    "start_time": "2022-01-14T18:15:27.339Z"
   },
   {
    "duration": 32,
    "start_time": "2022-01-14T18:15:32.067Z"
   },
   {
    "duration": 279,
    "start_time": "2022-01-14T18:16:00.884Z"
   },
   {
    "duration": 31,
    "start_time": "2022-01-14T18:16:10.467Z"
   },
   {
    "duration": 464,
    "start_time": "2022-01-14T18:17:10.875Z"
   },
   {
    "duration": 448,
    "start_time": "2022-01-14T18:17:15.210Z"
   },
   {
    "duration": 93,
    "start_time": "2022-01-14T18:19:00.276Z"
   },
   {
    "duration": 151,
    "start_time": "2022-01-14T18:19:40.802Z"
   },
   {
    "duration": 19,
    "start_time": "2022-01-14T18:20:16.290Z"
   },
   {
    "duration": 456,
    "start_time": "2022-01-14T18:22:01.418Z"
   },
   {
    "duration": 518,
    "start_time": "2022-01-14T18:22:12.266Z"
   },
   {
    "duration": 9,
    "start_time": "2022-01-14T18:22:19.954Z"
   },
   {
    "duration": 8,
    "start_time": "2022-01-14T18:22:31.706Z"
   },
   {
    "duration": 4,
    "start_time": "2022-01-14T18:25:31.792Z"
   },
   {
    "duration": 13,
    "start_time": "2022-01-14T18:25:41.793Z"
   },
   {
    "duration": 16,
    "start_time": "2022-01-14T18:25:49.881Z"
   },
   {
    "duration": 14,
    "start_time": "2022-01-14T18:26:16.201Z"
   },
   {
    "duration": 103,
    "start_time": "2022-01-14T18:26:20.514Z"
   },
   {
    "duration": 16,
    "start_time": "2022-01-14T18:26:23.441Z"
   },
   {
    "duration": 16,
    "start_time": "2022-01-14T18:26:55.705Z"
   },
   {
    "duration": 15,
    "start_time": "2022-01-14T18:27:06.954Z"
   },
   {
    "duration": 14,
    "start_time": "2022-01-14T18:27:26.985Z"
   },
   {
    "duration": 14,
    "start_time": "2022-01-14T18:27:31.553Z"
   },
   {
    "duration": 9,
    "start_time": "2022-01-14T18:28:32.114Z"
   },
   {
    "duration": 15,
    "start_time": "2022-01-14T18:29:00.904Z"
   },
   {
    "duration": 1639,
    "start_time": "2022-01-14T18:29:58.841Z"
   },
   {
    "duration": 7258,
    "start_time": "2022-01-14T18:30:02.592Z"
   },
   {
    "duration": 6714,
    "start_time": "2022-01-14T18:30:31.736Z"
   },
   {
    "duration": 16,
    "start_time": "2022-01-14T18:30:51.515Z"
   },
   {
    "duration": 19,
    "start_time": "2022-01-14T18:31:24.282Z"
   },
   {
    "duration": 18,
    "start_time": "2022-01-14T18:31:51.585Z"
   },
   {
    "duration": 9,
    "start_time": "2022-01-14T18:32:26.624Z"
   },
   {
    "duration": 8,
    "start_time": "2022-01-14T18:33:14.967Z"
   },
   {
    "duration": 87,
    "start_time": "2022-01-14T18:33:38.919Z"
   },
   {
    "duration": 7,
    "start_time": "2022-01-14T18:35:35.284Z"
   },
   {
    "duration": 65,
    "start_time": "2022-01-14T18:35:40.863Z"
   },
   {
    "duration": 18,
    "start_time": "2022-01-14T18:35:44.182Z"
   },
   {
    "duration": 8,
    "start_time": "2022-01-14T18:35:46.713Z"
   },
   {
    "duration": 7,
    "start_time": "2022-01-14T18:36:11.470Z"
   },
   {
    "duration": 7,
    "start_time": "2022-01-14T18:36:29.422Z"
   },
   {
    "duration": 16,
    "start_time": "2022-01-14T18:37:38.726Z"
   },
   {
    "duration": 64,
    "start_time": "2022-01-14T18:37:53.326Z"
   },
   {
    "duration": 12,
    "start_time": "2022-01-14T18:37:56.485Z"
   },
   {
    "duration": 16,
    "start_time": "2022-01-14T18:37:58.094Z"
   },
   {
    "duration": 8,
    "start_time": "2022-01-14T18:37:59.589Z"
   },
   {
    "duration": 9,
    "start_time": "2022-01-14T18:38:27.429Z"
   },
   {
    "duration": 17,
    "start_time": "2022-01-14T18:39:34.021Z"
   },
   {
    "duration": 84,
    "start_time": "2022-01-14T18:40:19.285Z"
   },
   {
    "duration": 17,
    "start_time": "2022-01-14T18:40:24.725Z"
   },
   {
    "duration": 13,
    "start_time": "2022-01-14T18:41:05.142Z"
   },
   {
    "duration": 428,
    "start_time": "2022-01-14T18:41:54.254Z"
   },
   {
    "duration": 17,
    "start_time": "2022-01-14T18:42:03.076Z"
   },
   {
    "duration": 11,
    "start_time": "2022-01-14T18:42:55.188Z"
   },
   {
    "duration": 9,
    "start_time": "2022-01-14T18:44:19.916Z"
   },
   {
    "duration": 65,
    "start_time": "2022-01-15T08:23:36.436Z"
   },
   {
    "duration": 10,
    "start_time": "2022-01-15T08:23:40.408Z"
   },
   {
    "duration": 11,
    "start_time": "2022-01-15T08:23:42.432Z"
   },
   {
    "duration": 19,
    "start_time": "2022-01-15T08:23:50.685Z"
   },
   {
    "duration": 26,
    "start_time": "2022-01-15T08:24:05.680Z"
   },
   {
    "duration": 279,
    "start_time": "2022-01-15T08:25:45.373Z"
   },
   {
    "duration": 276,
    "start_time": "2022-01-15T08:25:57.712Z"
   },
   {
    "duration": 23,
    "start_time": "2022-01-15T08:26:03.927Z"
   },
   {
    "duration": 90,
    "start_time": "2022-01-15T08:28:54.703Z"
   },
   {
    "duration": 92,
    "start_time": "2022-01-15T08:29:10.615Z"
   },
   {
    "duration": 92,
    "start_time": "2022-01-15T08:31:11.831Z"
   },
   {
    "duration": 109,
    "start_time": "2022-01-15T08:31:26.511Z"
   },
   {
    "duration": 84,
    "start_time": "2022-01-15T08:32:13.319Z"
   },
   {
    "duration": 97,
    "start_time": "2022-01-15T08:32:16.896Z"
   },
   {
    "duration": 88,
    "start_time": "2022-01-15T08:32:26.558Z"
   },
   {
    "duration": 98,
    "start_time": "2022-01-15T08:32:40.902Z"
   },
   {
    "duration": 501,
    "start_time": "2022-01-15T08:35:30.264Z"
   },
   {
    "duration": 771,
    "start_time": "2022-01-15T08:35:51.175Z"
   },
   {
    "duration": 3,
    "start_time": "2022-01-15T08:36:25.853Z"
   },
   {
    "duration": 4,
    "start_time": "2022-01-15T08:37:01.574Z"
   },
   {
    "duration": 449,
    "start_time": "2022-01-15T08:37:21.060Z"
   },
   {
    "duration": 432,
    "start_time": "2022-01-15T08:37:37.990Z"
   },
   {
    "duration": 434,
    "start_time": "2022-01-15T08:39:07.046Z"
   },
   {
    "duration": 453,
    "start_time": "2022-01-15T08:39:21.645Z"
   },
   {
    "duration": 468,
    "start_time": "2022-01-15T08:40:01.581Z"
   },
   {
    "duration": 500,
    "start_time": "2022-01-15T08:40:18.821Z"
   },
   {
    "duration": 469,
    "start_time": "2022-01-15T08:40:27.125Z"
   },
   {
    "duration": 16,
    "start_time": "2022-01-15T08:41:12.491Z"
   },
   {
    "duration": 480,
    "start_time": "2022-01-15T08:41:19.436Z"
   },
   {
    "duration": 443,
    "start_time": "2022-01-15T08:42:42.829Z"
   },
   {
    "duration": 19,
    "start_time": "2022-01-15T08:43:05.772Z"
   },
   {
    "duration": 18,
    "start_time": "2022-01-15T08:43:36.349Z"
   },
   {
    "duration": 17,
    "start_time": "2022-01-15T08:44:25.885Z"
   },
   {
    "duration": 18,
    "start_time": "2022-01-15T08:44:31.533Z"
   },
   {
    "duration": 18,
    "start_time": "2022-01-15T08:44:34.052Z"
   },
   {
    "duration": 18,
    "start_time": "2022-01-15T08:44:50.356Z"
   },
   {
    "duration": 17,
    "start_time": "2022-01-15T08:45:08.428Z"
   },
   {
    "duration": 30,
    "start_time": "2022-01-15T08:49:56.755Z"
   },
   {
    "duration": 23,
    "start_time": "2022-01-15T08:50:19.810Z"
   },
   {
    "duration": 23,
    "start_time": "2022-01-15T08:50:34.059Z"
   },
   {
    "duration": 31,
    "start_time": "2022-01-15T08:51:10.267Z"
   },
   {
    "duration": 32,
    "start_time": "2022-01-15T08:51:35.354Z"
   },
   {
    "duration": 22,
    "start_time": "2022-01-15T08:52:12.562Z"
   },
   {
    "duration": 22,
    "start_time": "2022-01-15T08:52:25.018Z"
   },
   {
    "duration": 18,
    "start_time": "2022-01-15T08:52:44.042Z"
   },
   {
    "duration": 25,
    "start_time": "2022-01-15T08:52:52.762Z"
   },
   {
    "duration": 3,
    "start_time": "2022-01-15T08:53:18.186Z"
   },
   {
    "duration": 25,
    "start_time": "2022-01-15T08:53:34.104Z"
   },
   {
    "duration": 28,
    "start_time": "2022-01-15T08:53:43.594Z"
   },
   {
    "duration": 26,
    "start_time": "2022-01-15T08:54:17.250Z"
   },
   {
    "duration": 125,
    "start_time": "2022-01-15T08:54:45.035Z"
   },
   {
    "duration": 27,
    "start_time": "2022-01-15T08:54:50.233Z"
   },
   {
    "duration": 21,
    "start_time": "2022-01-15T08:55:01.953Z"
   },
   {
    "duration": 26,
    "start_time": "2022-01-15T08:55:14.353Z"
   },
   {
    "duration": 290,
    "start_time": "2022-01-15T08:55:47.297Z"
   },
   {
    "duration": 711,
    "start_time": "2022-01-15T08:56:23.450Z"
   },
   {
    "duration": 284,
    "start_time": "2022-01-15T08:56:35.129Z"
   },
   {
    "duration": 275,
    "start_time": "2022-01-15T08:56:42.218Z"
   },
   {
    "duration": 8522,
    "start_time": "2022-01-15T08:56:59.857Z"
   },
   {
    "duration": 26,
    "start_time": "2022-01-15T08:57:26.306Z"
   },
   {
    "duration": 6650,
    "start_time": "2022-01-15T08:59:40.805Z"
   },
   {
    "duration": 6450,
    "start_time": "2022-01-15T09:02:09.640Z"
   },
   {
    "duration": 1649,
    "start_time": "2022-01-15T09:03:48.361Z"
   },
   {
    "duration": 1689,
    "start_time": "2022-01-15T09:04:53.214Z"
   },
   {
    "duration": 4903,
    "start_time": "2022-01-15T09:07:43.383Z"
   },
   {
    "duration": 1836,
    "start_time": "2022-01-15T09:10:58.350Z"
   },
   {
    "duration": 89,
    "start_time": "2022-01-15T09:11:11.318Z"
   },
   {
    "duration": 5016,
    "start_time": "2022-01-15T09:11:14.237Z"
   },
   {
    "duration": 1794,
    "start_time": "2022-01-15T09:11:24.112Z"
   },
   {
    "duration": 1798,
    "start_time": "2022-01-15T09:12:49.310Z"
   },
   {
    "duration": 1661,
    "start_time": "2022-01-15T09:13:46.711Z"
   },
   {
    "duration": 1709,
    "start_time": "2022-01-15T09:14:29.270Z"
   },
   {
    "duration": 1658,
    "start_time": "2022-01-15T09:14:44.519Z"
   },
   {
    "duration": 1625,
    "start_time": "2022-01-15T09:15:02.917Z"
   },
   {
    "duration": 1612,
    "start_time": "2022-01-15T09:15:10.084Z"
   },
   {
    "duration": 1660,
    "start_time": "2022-01-15T09:15:23.900Z"
   },
   {
    "duration": 1627,
    "start_time": "2022-01-15T09:15:30.189Z"
   },
   {
    "duration": 1724,
    "start_time": "2022-01-15T09:15:42.213Z"
   },
   {
    "duration": 1684,
    "start_time": "2022-01-15T09:15:48.614Z"
   },
   {
    "duration": 1798,
    "start_time": "2022-01-15T09:15:58.300Z"
   },
   {
    "duration": 1759,
    "start_time": "2022-01-15T09:16:08.349Z"
   },
   {
    "duration": 1865,
    "start_time": "2022-01-15T09:16:13.828Z"
   },
   {
    "duration": 1767,
    "start_time": "2022-01-15T09:16:34.845Z"
   },
   {
    "duration": 178,
    "start_time": "2022-01-15T09:23:38.286Z"
   },
   {
    "duration": 1749,
    "start_time": "2022-01-15T09:23:49.812Z"
   },
   {
    "duration": 168,
    "start_time": "2022-01-15T09:23:59.630Z"
   },
   {
    "duration": 4,
    "start_time": "2022-01-15T09:27:18.018Z"
   },
   {
    "duration": 164,
    "start_time": "2022-01-15T09:27:21.048Z"
   },
   {
    "duration": 182,
    "start_time": "2022-01-15T09:28:00.499Z"
   },
   {
    "duration": 64,
    "start_time": "2022-01-15T09:29:54.643Z"
   },
   {
    "duration": 406,
    "start_time": "2022-01-15T09:29:58.058Z"
   },
   {
    "duration": 172,
    "start_time": "2022-01-15T09:30:35.267Z"
   },
   {
    "duration": 166,
    "start_time": "2022-01-15T09:30:50.514Z"
   },
   {
    "duration": 65,
    "start_time": "2022-01-15T09:30:54.746Z"
   },
   {
    "duration": 406,
    "start_time": "2022-01-15T09:30:57.931Z"
   },
   {
    "duration": 183,
    "start_time": "2022-01-15T09:31:01.372Z"
   },
   {
    "duration": 166,
    "start_time": "2022-01-15T09:31:58.906Z"
   },
   {
    "duration": 64,
    "start_time": "2022-01-15T09:32:04.554Z"
   },
   {
    "duration": 10,
    "start_time": "2022-01-15T09:32:11.275Z"
   },
   {
    "duration": 404,
    "start_time": "2022-01-15T09:32:13.139Z"
   },
   {
    "duration": 185,
    "start_time": "2022-01-15T09:33:02.100Z"
   },
   {
    "duration": 164,
    "start_time": "2022-01-15T09:33:41.371Z"
   },
   {
    "duration": 160,
    "start_time": "2022-01-15T09:36:47.314Z"
   },
   {
    "duration": 17,
    "start_time": "2022-01-15T09:37:11.833Z"
   },
   {
    "duration": 66,
    "start_time": "2022-01-15T09:37:15.138Z"
   },
   {
    "duration": 10,
    "start_time": "2022-01-15T09:37:19.368Z"
   },
   {
    "duration": 21,
    "start_time": "2022-01-15T09:37:21.665Z"
   },
   {
    "duration": 294,
    "start_time": "2022-01-15T09:38:03.561Z"
   },
   {
    "duration": 19,
    "start_time": "2022-01-15T09:38:08.122Z"
   },
   {
    "duration": 20,
    "start_time": "2022-01-15T09:38:16.305Z"
   },
   {
    "duration": 21,
    "start_time": "2022-01-15T09:38:39.074Z"
   },
   {
    "duration": 83,
    "start_time": "2022-01-15T09:39:00.817Z"
   },
   {
    "duration": 20,
    "start_time": "2022-01-15T09:39:05.138Z"
   },
   {
    "duration": 301,
    "start_time": "2022-01-15T09:39:07.953Z"
   },
   {
    "duration": 261,
    "start_time": "2022-01-15T09:39:10.248Z"
   },
   {
    "duration": 278,
    "start_time": "2022-01-15T09:39:11.642Z"
   },
   {
    "duration": 268,
    "start_time": "2022-01-15T09:39:12.832Z"
   },
   {
    "duration": 278,
    "start_time": "2022-01-15T09:39:13.673Z"
   },
   {
    "duration": 305,
    "start_time": "2022-01-15T09:39:15.043Z"
   },
   {
    "duration": 62,
    "start_time": "2022-01-15T09:39:18.048Z"
   },
   {
    "duration": 20,
    "start_time": "2022-01-15T09:39:21.121Z"
   },
   {
    "duration": 315,
    "start_time": "2022-01-15T09:40:01.521Z"
   },
   {
    "duration": 284,
    "start_time": "2022-01-15T09:40:17.720Z"
   },
   {
    "duration": 280,
    "start_time": "2022-01-15T09:40:27.016Z"
   },
   {
    "duration": 276,
    "start_time": "2022-01-15T09:40:58.281Z"
   },
   {
    "duration": 265,
    "start_time": "2022-01-15T09:41:10.353Z"
   },
   {
    "duration": 65,
    "start_time": "2022-01-15T09:41:15.840Z"
   },
   {
    "duration": 26,
    "start_time": "2022-01-15T09:41:18.656Z"
   },
   {
    "duration": 262,
    "start_time": "2022-01-15T09:41:29.449Z"
   },
   {
    "duration": 280,
    "start_time": "2022-01-15T09:41:33.295Z"
   },
   {
    "duration": 646,
    "start_time": "2022-01-15T09:41:47.280Z"
   },
   {
    "duration": 173,
    "start_time": "2022-01-15T09:45:18.798Z"
   },
   {
    "duration": 65,
    "start_time": "2022-01-15T09:45:21.937Z"
   },
   {
    "duration": 11,
    "start_time": "2022-01-15T09:45:25.015Z"
   },
   {
    "duration": 421,
    "start_time": "2022-01-15T09:45:26.944Z"
   },
   {
    "duration": 162,
    "start_time": "2022-01-15T09:46:33.416Z"
   },
   {
    "duration": 172,
    "start_time": "2022-01-15T10:00:15.061Z"
   },
   {
    "duration": 66,
    "start_time": "2022-01-15T10:00:19.157Z"
   },
   {
    "duration": 10,
    "start_time": "2022-01-15T10:00:23.404Z"
   },
   {
    "duration": 464,
    "start_time": "2022-01-15T10:00:25.982Z"
   },
   {
    "duration": 530,
    "start_time": "2022-01-15T10:00:46.181Z"
   },
   {
    "duration": 20,
    "start_time": "2022-01-15T10:06:26.212Z"
   },
   {
    "duration": 669,
    "start_time": "2022-01-15T10:06:45.148Z"
   },
   {
    "duration": 19,
    "start_time": "2022-01-15T10:06:53.395Z"
   },
   {
    "duration": 177,
    "start_time": "2022-01-15T11:09:20.080Z"
   },
   {
    "duration": 67,
    "start_time": "2022-01-15T11:09:25.678Z"
   },
   {
    "duration": 9,
    "start_time": "2022-01-15T11:09:33.143Z"
   },
   {
    "duration": 416,
    "start_time": "2022-01-15T11:09:38.247Z"
   },
   {
    "duration": 166,
    "start_time": "2022-01-15T11:11:59.623Z"
   },
   {
    "duration": 163,
    "start_time": "2022-01-15T11:12:21.086Z"
   },
   {
    "duration": 175,
    "start_time": "2022-01-15T11:12:58.655Z"
   },
   {
    "duration": 65,
    "start_time": "2022-01-15T11:13:06.934Z"
   },
   {
    "duration": 420,
    "start_time": "2022-01-15T11:13:10.007Z"
   },
   {
    "duration": 186,
    "start_time": "2022-01-15T11:13:32.606Z"
   },
   {
    "duration": 174,
    "start_time": "2022-01-15T11:13:46.406Z"
   },
   {
    "duration": 171,
    "start_time": "2022-01-15T11:14:27.326Z"
   },
   {
    "duration": 4,
    "start_time": "2022-01-15T11:17:05.838Z"
   },
   {
    "duration": 13,
    "start_time": "2022-01-15T11:17:29.949Z"
   },
   {
    "duration": 62,
    "start_time": "2022-01-15T11:17:35.877Z"
   },
   {
    "duration": 10,
    "start_time": "2022-01-15T11:17:40.565Z"
   },
   {
    "duration": 460,
    "start_time": "2022-01-15T11:17:42.149Z"
   },
   {
    "duration": 12,
    "start_time": "2022-01-15T11:17:51.461Z"
   },
   {
    "duration": 69,
    "start_time": "2022-01-16T13:58:23.597Z"
   },
   {
    "duration": 9,
    "start_time": "2022-01-16T13:58:32.682Z"
   },
   {
    "duration": 444,
    "start_time": "2022-01-16T13:58:36.473Z"
   },
   {
    "duration": 12,
    "start_time": "2022-01-16T13:59:57.450Z"
   },
   {
    "duration": 20,
    "start_time": "2022-01-16T14:00:41.425Z"
   },
   {
    "duration": 183,
    "start_time": "2022-01-16T14:13:49.703Z"
   },
   {
    "duration": 12,
    "start_time": "2022-01-16T14:14:14.806Z"
   },
   {
    "duration": 251,
    "start_time": "2022-01-16T14:24:41.764Z"
   },
   {
    "duration": 15,
    "start_time": "2022-01-16T14:24:50.177Z"
   },
   {
    "duration": 16,
    "start_time": "2022-01-16T14:24:58.837Z"
   },
   {
    "duration": 14,
    "start_time": "2022-01-16T14:25:11.150Z"
   },
   {
    "duration": 14,
    "start_time": "2022-01-16T14:30:40.690Z"
   },
   {
    "duration": 17,
    "start_time": "2022-01-16T14:31:42.470Z"
   },
   {
    "duration": 32,
    "start_time": "2022-01-16T14:32:12.258Z"
   },
   {
    "duration": 15,
    "start_time": "2022-01-16T14:32:19.659Z"
   },
   {
    "duration": 71,
    "start_time": "2022-01-16T14:32:30.048Z"
   },
   {
    "duration": 10,
    "start_time": "2022-01-16T14:32:34.042Z"
   },
   {
    "duration": 433,
    "start_time": "2022-01-16T14:32:36.227Z"
   },
   {
    "duration": 14,
    "start_time": "2022-01-16T14:32:39.106Z"
   },
   {
    "duration": 14,
    "start_time": "2022-01-16T14:32:41.459Z"
   },
   {
    "duration": 32,
    "start_time": "2022-01-16T14:32:42.690Z"
   },
   {
    "duration": 15,
    "start_time": "2022-01-16T14:38:33.746Z"
   },
   {
    "duration": 246,
    "start_time": "2022-01-16T14:40:12.113Z"
   },
   {
    "duration": 17,
    "start_time": "2022-01-16T14:40:28.747Z"
   },
   {
    "duration": 6395,
    "start_time": "2022-01-16T14:40:49.899Z"
   },
   {
    "duration": 17,
    "start_time": "2022-01-16T14:41:05.273Z"
   },
   {
    "duration": 17,
    "start_time": "2022-01-16T14:41:25.776Z"
   },
   {
    "duration": 7,
    "start_time": "2022-01-16T14:41:43.601Z"
   },
   {
    "duration": 15,
    "start_time": "2022-01-16T14:42:39.898Z"
   },
   {
    "duration": 15,
    "start_time": "2022-01-16T14:42:57.825Z"
   },
   {
    "duration": 270,
    "start_time": "2022-01-16T14:45:42.151Z"
   },
   {
    "duration": 259,
    "start_time": "2022-01-16T14:45:58.575Z"
   },
   {
    "duration": 13,
    "start_time": "2022-01-16T14:46:10.936Z"
   },
   {
    "duration": 23,
    "start_time": "2022-01-16T14:46:31.415Z"
   },
   {
    "duration": 34,
    "start_time": "2022-01-16T14:46:48.287Z"
   },
   {
    "duration": 49,
    "start_time": "2022-01-16T14:49:03.159Z"
   },
   {
    "duration": 3,
    "start_time": "2022-01-16T14:49:51.503Z"
   },
   {
    "duration": 16,
    "start_time": "2022-01-16T14:50:02.359Z"
   },
   {
    "duration": 23,
    "start_time": "2022-01-16T14:50:09.775Z"
   },
   {
    "duration": 44,
    "start_time": "2022-01-16T14:50:13.799Z"
   },
   {
    "duration": 63,
    "start_time": "2022-01-16T14:50:19.445Z"
   },
   {
    "duration": 17,
    "start_time": "2022-01-16T14:50:22.134Z"
   },
   {
    "duration": 434,
    "start_time": "2022-01-16T14:50:23.622Z"
   },
   {
    "duration": 14,
    "start_time": "2022-01-16T14:50:27.766Z"
   },
   {
    "duration": 15,
    "start_time": "2022-01-16T14:50:31.486Z"
   },
   {
    "duration": 16,
    "start_time": "2022-01-16T14:50:34.310Z"
   },
   {
    "duration": 45,
    "start_time": "2022-01-16T14:50:38.759Z"
   },
   {
    "duration": 47,
    "start_time": "2022-01-16T14:52:19.199Z"
   },
   {
    "duration": 47,
    "start_time": "2022-01-16T14:52:59.726Z"
   },
   {
    "duration": 24,
    "start_time": "2022-01-16T14:53:28.854Z"
   },
   {
    "duration": 32,
    "start_time": "2022-01-16T14:54:02.879Z"
   },
   {
    "duration": 47,
    "start_time": "2022-01-16T14:54:14.254Z"
   },
   {
    "duration": 64,
    "start_time": "2022-01-16T14:54:53.388Z"
   },
   {
    "duration": 12,
    "start_time": "2022-01-16T14:54:57.253Z"
   },
   {
    "duration": 432,
    "start_time": "2022-01-16T14:55:00.167Z"
   },
   {
    "duration": 16,
    "start_time": "2022-01-16T14:55:03.469Z"
   },
   {
    "duration": 16,
    "start_time": "2022-01-16T14:55:07.598Z"
   },
   {
    "duration": 15,
    "start_time": "2022-01-16T14:56:13.647Z"
   },
   {
    "duration": 46,
    "start_time": "2022-01-16T14:56:28.637Z"
   },
   {
    "duration": 28,
    "start_time": "2022-01-16T14:56:59.558Z"
   },
   {
    "duration": 5,
    "start_time": "2022-01-16T15:13:35.019Z"
   },
   {
    "duration": 21,
    "start_time": "2022-01-16T15:16:20.347Z"
   },
   {
    "duration": 19,
    "start_time": "2022-01-16T15:19:10.890Z"
   },
   {
    "duration": 22,
    "start_time": "2022-01-16T15:19:24.705Z"
   },
   {
    "duration": 283,
    "start_time": "2022-01-16T15:19:57.170Z"
   },
   {
    "duration": 254,
    "start_time": "2022-01-16T15:20:56.539Z"
   },
   {
    "duration": 283,
    "start_time": "2022-01-16T15:21:03.657Z"
   },
   {
    "duration": 656,
    "start_time": "2022-01-16T15:21:52.673Z"
   },
   {
    "duration": 660,
    "start_time": "2022-01-16T15:24:07.322Z"
   },
   {
    "duration": 672,
    "start_time": "2022-01-16T15:24:16.722Z"
   },
   {
    "duration": 694,
    "start_time": "2022-01-16T15:24:22.618Z"
   },
   {
    "duration": 316,
    "start_time": "2022-01-16T15:24:48.340Z"
   },
   {
    "duration": 9,
    "start_time": "2022-01-16T15:27:48.832Z"
   },
   {
    "duration": 8,
    "start_time": "2022-01-16T15:28:46.480Z"
   },
   {
    "duration": 302,
    "start_time": "2022-01-16T15:28:52.568Z"
   },
   {
    "duration": 321,
    "start_time": "2022-01-16T15:29:02.657Z"
   },
   {
    "duration": 73,
    "start_time": "2022-01-16T15:41:02.071Z"
   },
   {
    "duration": 11,
    "start_time": "2022-01-16T15:41:07.157Z"
   },
   {
    "duration": 420,
    "start_time": "2022-01-16T15:41:09.062Z"
   },
   {
    "duration": 14,
    "start_time": "2022-01-16T15:41:12.485Z"
   },
   {
    "duration": 15,
    "start_time": "2022-01-16T15:41:47.355Z"
   },
   {
    "duration": 92,
    "start_time": "2022-01-16T15:41:56.933Z"
   },
   {
    "duration": 277,
    "start_time": "2022-01-16T15:42:01.077Z"
   },
   {
    "duration": 261,
    "start_time": "2022-01-16T15:42:18.597Z"
   },
   {
    "duration": 265,
    "start_time": "2022-01-16T15:43:13.758Z"
   },
   {
    "duration": 276,
    "start_time": "2022-01-16T15:43:21.629Z"
   },
   {
    "duration": 6,
    "start_time": "2022-01-16T15:43:42.075Z"
   },
   {
    "duration": 5,
    "start_time": "2022-01-16T15:44:08.677Z"
   },
   {
    "duration": 64,
    "start_time": "2022-01-16T15:44:29.348Z"
   },
   {
    "duration": 10,
    "start_time": "2022-01-16T15:44:35.997Z"
   },
   {
    "duration": 432,
    "start_time": "2022-01-16T15:44:37.876Z"
   },
   {
    "duration": 15,
    "start_time": "2022-01-16T15:44:40.965Z"
   },
   {
    "duration": 17,
    "start_time": "2022-01-16T15:44:45.492Z"
   },
   {
    "duration": 49,
    "start_time": "2022-01-16T15:44:48.773Z"
   },
   {
    "duration": 33,
    "start_time": "2022-01-16T15:44:50.020Z"
   },
   {
    "duration": 6558,
    "start_time": "2022-01-16T16:06:38.482Z"
   },
   {
    "duration": 18,
    "start_time": "2022-01-16T16:06:48.441Z"
   },
   {
    "duration": 289,
    "start_time": "2022-01-16T16:07:50.351Z"
   },
   {
    "duration": 276,
    "start_time": "2022-01-16T16:08:03.249Z"
   },
   {
    "duration": 272,
    "start_time": "2022-01-16T16:12:25.481Z"
   },
   {
    "duration": 257,
    "start_time": "2022-01-16T16:12:35.129Z"
   },
   {
    "duration": 3,
    "start_time": "2022-01-16T16:14:35.962Z"
   },
   {
    "duration": 702,
    "start_time": "2022-01-16T16:14:50.519Z"
   },
   {
    "duration": 447,
    "start_time": "2022-01-16T16:15:06.999Z"
   },
   {
    "duration": 442,
    "start_time": "2022-01-16T16:16:17.122Z"
   },
   {
    "duration": 454,
    "start_time": "2022-01-16T16:17:10.777Z"
   },
   {
    "duration": 482,
    "start_time": "2022-01-16T16:17:17.343Z"
   },
   {
    "duration": 271,
    "start_time": "2022-01-16T16:18:03.575Z"
   },
   {
    "duration": 264,
    "start_time": "2022-01-16T16:19:03.759Z"
   },
   {
    "duration": 285,
    "start_time": "2022-01-16T16:19:14.750Z"
   },
   {
    "duration": 300,
    "start_time": "2022-01-16T16:19:30.903Z"
   },
   {
    "duration": 588,
    "start_time": "2022-01-16T16:20:25.382Z"
   },
   {
    "duration": 256,
    "start_time": "2022-01-16T16:20:42.893Z"
   },
   {
    "duration": 257,
    "start_time": "2022-01-16T16:24:09.670Z"
   },
   {
    "duration": 916,
    "start_time": "2022-01-16T16:24:16.158Z"
   },
   {
    "duration": 682,
    "start_time": "2022-01-16T16:26:28.062Z"
   },
   {
    "duration": 1834,
    "start_time": "2022-01-16T16:26:58.277Z"
   },
   {
    "duration": 1334,
    "start_time": "2022-01-16T16:27:20.174Z"
   },
   {
    "duration": 3424,
    "start_time": "2022-01-16T16:28:13.974Z"
   },
   {
    "duration": 3318,
    "start_time": "2022-01-16T16:28:39.255Z"
   },
   {
    "duration": 3777,
    "start_time": "2022-01-16T16:30:59.493Z"
   },
   {
    "duration": 3689,
    "start_time": "2022-01-16T16:31:54.260Z"
   },
   {
    "duration": 87,
    "start_time": "2022-01-16T16:32:21.534Z"
   },
   {
    "duration": 3692,
    "start_time": "2022-01-16T16:32:27.909Z"
   },
   {
    "duration": 3675,
    "start_time": "2022-01-16T16:32:44.877Z"
   },
   {
    "duration": 250,
    "start_time": "2022-01-16T16:36:28.149Z"
   },
   {
    "duration": 100,
    "start_time": "2022-01-16T16:36:50.284Z"
   },
   {
    "duration": 989,
    "start_time": "2022-01-16T16:37:21.539Z"
   },
   {
    "duration": 955,
    "start_time": "2022-01-16T16:37:42.303Z"
   },
   {
    "duration": 728,
    "start_time": "2022-01-16T16:42:22.338Z"
   },
   {
    "duration": 956,
    "start_time": "2022-01-16T16:42:49.258Z"
   },
   {
    "duration": 656,
    "start_time": "2022-01-16T16:44:29.026Z"
   },
   {
    "duration": 660,
    "start_time": "2022-01-16T16:44:48.138Z"
   },
   {
    "duration": 668,
    "start_time": "2022-01-16T16:47:00.386Z"
   },
   {
    "duration": 672,
    "start_time": "2022-01-16T16:47:03.018Z"
   },
   {
    "duration": 683,
    "start_time": "2022-01-16T16:47:13.706Z"
   },
   {
    "duration": 951,
    "start_time": "2022-01-16T16:51:43.057Z"
   },
   {
    "duration": 665,
    "start_time": "2022-01-16T16:51:57.424Z"
   },
   {
    "duration": 679,
    "start_time": "2022-01-16T16:52:52.968Z"
   },
   {
    "duration": 667,
    "start_time": "2022-01-16T16:53:07.536Z"
   },
   {
    "duration": 737,
    "start_time": "2022-01-16T16:53:12.056Z"
   },
   {
    "duration": 70,
    "start_time": "2022-01-16T16:53:23.919Z"
   },
   {
    "duration": 11,
    "start_time": "2022-01-16T16:53:27.096Z"
   },
   {
    "duration": 438,
    "start_time": "2022-01-16T16:53:28.776Z"
   },
   {
    "duration": 15,
    "start_time": "2022-01-16T16:53:31.623Z"
   },
   {
    "duration": 16,
    "start_time": "2022-01-16T16:53:33.928Z"
   },
   {
    "duration": 45,
    "start_time": "2022-01-16T16:53:35.064Z"
   },
   {
    "duration": 30,
    "start_time": "2022-01-16T16:53:36.567Z"
   },
   {
    "duration": 701,
    "start_time": "2022-01-16T16:53:38.407Z"
   },
   {
    "duration": 3983,
    "start_time": "2022-01-16T16:54:14.552Z"
   },
   {
    "duration": 4151,
    "start_time": "2022-01-16T16:55:50.303Z"
   },
   {
    "duration": 4167,
    "start_time": "2022-01-16T16:56:11.504Z"
   },
   {
    "duration": 4074,
    "start_time": "2022-01-16T16:56:38.351Z"
   },
   {
    "duration": 5052,
    "start_time": "2022-01-16T17:06:28.879Z"
   },
   {
    "duration": 4830,
    "start_time": "2022-01-16T17:06:34.924Z"
   },
   {
    "duration": 4563,
    "start_time": "2022-01-16T17:06:43.565Z"
   },
   {
    "duration": 4789,
    "start_time": "2022-01-16T17:07:24.189Z"
   },
   {
    "duration": 5084,
    "start_time": "2022-01-16T17:08:10.460Z"
   },
   {
    "duration": 4547,
    "start_time": "2022-01-16T17:09:00.643Z"
   },
   {
    "duration": 4215,
    "start_time": "2022-01-16T17:09:49.587Z"
   },
   {
    "duration": 3747,
    "start_time": "2022-01-16T18:28:55.232Z"
   },
   {
    "duration": -138,
    "start_time": "2022-01-16T18:31:26.686Z"
   },
   {
    "duration": 5,
    "start_time": "2022-01-16T18:31:37.106Z"
   },
   {
    "duration": 3,
    "start_time": "2022-01-16T18:33:24.434Z"
   },
   {
    "duration": 21,
    "start_time": "2022-01-16T18:38:01.886Z"
   },
   {
    "duration": 17,
    "start_time": "2022-01-16T18:38:39.969Z"
   },
   {
    "duration": 19,
    "start_time": "2022-01-16T18:39:26.449Z"
   },
   {
    "duration": 19,
    "start_time": "2022-01-16T18:39:47.890Z"
   },
   {
    "duration": 295,
    "start_time": "2022-01-16T18:40:22.186Z"
   },
   {
    "duration": 693,
    "start_time": "2022-01-16T18:40:32.274Z"
   },
   {
    "duration": 307,
    "start_time": "2022-01-16T18:40:46.570Z"
   },
   {
    "duration": 684,
    "start_time": "2022-01-16T18:40:54.681Z"
   },
   {
    "duration": 709,
    "start_time": "2022-01-16T18:41:12.714Z"
   },
   {
    "duration": 298,
    "start_time": "2022-01-16T18:41:36.361Z"
   },
   {
    "duration": 684,
    "start_time": "2022-01-16T18:41:41.473Z"
   },
   {
    "duration": 4051,
    "start_time": "2022-01-16T18:45:43.017Z"
   },
   {
    "duration": 3960,
    "start_time": "2022-01-16T18:46:01.410Z"
   },
   {
    "duration": 3918,
    "start_time": "2022-01-16T18:46:27.009Z"
   },
   {
    "duration": 970,
    "start_time": "2022-01-16T18:46:43.928Z"
   },
   {
    "duration": 9881,
    "start_time": "2022-01-16T18:46:55.032Z"
   },
   {
    "duration": 322,
    "start_time": "2022-01-16T18:48:00.575Z"
   },
   {
    "duration": 278,
    "start_time": "2022-01-16T18:48:09.799Z"
   },
   {
    "duration": 2197,
    "start_time": "2022-01-16T18:48:19.648Z"
   },
   {
    "duration": 1888,
    "start_time": "2022-01-16T18:48:41.768Z"
   },
   {
    "duration": 69,
    "start_time": "2022-01-16T18:48:57.088Z"
   },
   {
    "duration": 11,
    "start_time": "2022-01-16T18:49:01.599Z"
   },
   {
    "duration": 438,
    "start_time": "2022-01-16T18:49:03.232Z"
   },
   {
    "duration": 13,
    "start_time": "2022-01-16T18:49:06.689Z"
   },
   {
    "duration": 15,
    "start_time": "2022-01-16T18:49:08.680Z"
   },
   {
    "duration": 44,
    "start_time": "2022-01-16T18:49:09.543Z"
   },
   {
    "duration": 30,
    "start_time": "2022-01-16T18:49:10.640Z"
   },
   {
    "duration": 9494,
    "start_time": "2022-01-16T18:49:12.072Z"
   },
   {
    "duration": 287,
    "start_time": "2022-01-16T18:49:25.417Z"
   },
   {
    "duration": 70,
    "start_time": "2022-01-16T18:49:31.209Z"
   },
   {
    "duration": 10,
    "start_time": "2022-01-16T18:49:34.623Z"
   },
   {
    "duration": 471,
    "start_time": "2022-01-16T18:49:36.298Z"
   },
   {
    "duration": 15,
    "start_time": "2022-01-16T18:49:39.199Z"
   },
   {
    "duration": 17,
    "start_time": "2022-01-16T18:49:40.863Z"
   },
   {
    "duration": 47,
    "start_time": "2022-01-16T18:49:41.904Z"
   },
   {
    "duration": 30,
    "start_time": "2022-01-16T18:49:42.991Z"
   },
   {
    "duration": 9653,
    "start_time": "2022-01-16T18:49:44.655Z"
   },
   {
    "duration": 302,
    "start_time": "2022-01-16T18:53:08.415Z"
   },
   {
    "duration": 273,
    "start_time": "2022-01-16T18:53:16.719Z"
   },
   {
    "duration": 257,
    "start_time": "2022-01-16T18:53:18.326Z"
   },
   {
    "duration": 268,
    "start_time": "2022-01-16T18:53:22.935Z"
   },
   {
    "duration": 67,
    "start_time": "2022-01-16T18:53:30.768Z"
   },
   {
    "duration": 10,
    "start_time": "2022-01-16T18:53:33.758Z"
   },
   {
    "duration": 443,
    "start_time": "2022-01-16T18:53:35.392Z"
   },
   {
    "duration": 14,
    "start_time": "2022-01-16T18:53:39.278Z"
   },
   {
    "duration": 15,
    "start_time": "2022-01-16T18:53:47.350Z"
   },
   {
    "duration": 47,
    "start_time": "2022-01-16T18:53:48.694Z"
   },
   {
    "duration": 31,
    "start_time": "2022-01-16T18:53:49.806Z"
   },
   {
    "duration": 9518,
    "start_time": "2022-01-16T18:53:51.063Z"
   },
   {
    "duration": 312,
    "start_time": "2022-01-16T18:57:12.447Z"
   },
   {
    "duration": 30,
    "start_time": "2022-01-16T18:57:25.382Z"
   },
   {
    "duration": 67,
    "start_time": "2022-01-16T18:57:37.760Z"
   },
   {
    "duration": 10,
    "start_time": "2022-01-16T18:57:40.718Z"
   },
   {
    "duration": 438,
    "start_time": "2022-01-16T18:57:42.535Z"
   },
   {
    "duration": 13,
    "start_time": "2022-01-16T18:57:45.151Z"
   },
   {
    "duration": 16,
    "start_time": "2022-01-16T18:57:46.734Z"
   },
   {
    "duration": 48,
    "start_time": "2022-01-16T18:57:47.918Z"
   },
   {
    "duration": 33,
    "start_time": "2022-01-16T18:57:49.248Z"
   },
   {
    "duration": 15,
    "start_time": "2022-01-16T18:57:51.111Z"
   },
   {
    "duration": 9,
    "start_time": "2022-01-16T18:57:59.910Z"
   },
   {
    "duration": 9939,
    "start_time": "2022-01-16T19:02:40.406Z"
   },
   {
    "duration": 10,
    "start_time": "2022-01-16T19:03:49.990Z"
   },
   {
    "duration": 12729,
    "start_time": "2022-01-16T19:07:10.747Z"
   },
   {
    "duration": 12514,
    "start_time": "2022-01-17T02:41:05.764Z"
   },
   {
    "duration": 10,
    "start_time": "2022-01-17T02:41:33.567Z"
   },
   {
    "duration": 4952,
    "start_time": "2022-01-17T02:45:08.479Z"
   },
   {
    "duration": 71,
    "start_time": "2022-01-17T02:50:30.615Z"
   },
   {
    "duration": 10,
    "start_time": "2022-01-17T02:50:33.517Z"
   },
   {
    "duration": 414,
    "start_time": "2022-01-17T02:50:35.606Z"
   },
   {
    "duration": 14,
    "start_time": "2022-01-17T02:50:51.781Z"
   },
   {
    "duration": 16,
    "start_time": "2022-01-17T02:50:54.109Z"
   },
   {
    "duration": 45,
    "start_time": "2022-01-17T02:50:55.677Z"
   },
   {
    "duration": 32,
    "start_time": "2022-01-17T02:50:56.892Z"
   },
   {
    "duration": 4995,
    "start_time": "2022-01-17T02:51:02.726Z"
   },
   {
    "duration": 14921,
    "start_time": "2022-01-17T02:51:59.756Z"
   },
   {
    "duration": 10036,
    "start_time": "2022-01-17T02:52:47.476Z"
   },
   {
    "duration": 68,
    "start_time": "2022-01-17T02:53:32.864Z"
   },
   {
    "duration": 12,
    "start_time": "2022-01-17T02:53:36.464Z"
   },
   {
    "duration": 417,
    "start_time": "2022-01-17T02:53:38.224Z"
   },
   {
    "duration": 15,
    "start_time": "2022-01-17T02:53:42.208Z"
   },
   {
    "duration": 15,
    "start_time": "2022-01-17T02:53:55.821Z"
   },
   {
    "duration": 44,
    "start_time": "2022-01-17T02:53:56.863Z"
   },
   {
    "duration": 31,
    "start_time": "2022-01-17T02:53:58.023Z"
   },
   {
    "duration": 11433,
    "start_time": "2022-01-17T02:54:00.944Z"
   },
   {
    "duration": 10,
    "start_time": "2022-01-17T02:54:37.934Z"
   },
   {
    "duration": 12496,
    "start_time": "2022-01-17T02:56:53.171Z"
   },
   {
    "duration": 12837,
    "start_time": "2022-01-17T03:13:51.872Z"
   },
   {
    "duration": 86,
    "start_time": "2022-01-17T05:59:11.761Z"
   },
   {
    "duration": 8,
    "start_time": "2022-01-17T05:59:40.060Z"
   },
   {
    "duration": 8,
    "start_time": "2022-01-17T06:00:19.378Z"
   },
   {
    "duration": 9,
    "start_time": "2022-01-17T06:02:21.751Z"
   },
   {
    "duration": 9,
    "start_time": "2022-01-17T06:02:32.757Z"
   },
   {
    "duration": 8,
    "start_time": "2022-01-17T06:02:41.013Z"
   },
   {
    "duration": 8,
    "start_time": "2022-01-17T06:03:09.108Z"
   },
   {
    "duration": 9,
    "start_time": "2022-01-17T06:06:31.674Z"
   },
   {
    "duration": 8,
    "start_time": "2022-01-17T06:06:38.469Z"
   },
   {
    "duration": 8,
    "start_time": "2022-01-17T06:06:45.622Z"
   },
   {
    "duration": 9,
    "start_time": "2022-01-17T06:06:56.221Z"
   },
   {
    "duration": 12,
    "start_time": "2022-01-17T06:08:25.521Z"
   },
   {
    "duration": 19,
    "start_time": "2022-01-17T06:08:38.873Z"
   },
   {
    "duration": 275,
    "start_time": "2022-01-17T06:09:06.540Z"
   },
   {
    "duration": 16,
    "start_time": "2022-01-17T06:09:13.409Z"
   },
   {
    "duration": 16,
    "start_time": "2022-01-17T06:09:50.070Z"
   },
   {
    "duration": 34,
    "start_time": "2022-01-17T06:11:42.303Z"
   },
   {
    "duration": 15,
    "start_time": "2022-01-17T06:11:48.595Z"
   },
   {
    "duration": 12401,
    "start_time": "2022-01-17T06:17:21.421Z"
   },
   {
    "duration": 16,
    "start_time": "2022-01-17T07:02:34.234Z"
   },
   {
    "duration": 70,
    "start_time": "2022-01-17T07:02:52.736Z"
   },
   {
    "duration": 10,
    "start_time": "2022-01-17T07:02:58.397Z"
   },
   {
    "duration": 430,
    "start_time": "2022-01-17T07:03:00.053Z"
   },
   {
    "duration": 171,
    "start_time": "2022-01-17T07:03:07.718Z"
   },
   {
    "duration": 14,
    "start_time": "2022-01-17T07:03:37.387Z"
   },
   {
    "duration": 16,
    "start_time": "2022-01-17T07:03:41.571Z"
   },
   {
    "duration": 48,
    "start_time": "2022-01-17T07:03:42.644Z"
   },
   {
    "duration": 32,
    "start_time": "2022-01-17T07:03:43.900Z"
   },
   {
    "duration": 11676,
    "start_time": "2022-01-17T07:03:46.570Z"
   },
   {
    "duration": 20,
    "start_time": "2022-01-17T07:04:02.740Z"
   },
   {
    "duration": 18,
    "start_time": "2022-01-17T07:04:26.501Z"
   },
   {
    "duration": 15,
    "start_time": "2022-01-17T07:06:10.912Z"
   },
   {
    "duration": 11,
    "start_time": "2022-01-17T07:06:16.792Z"
   },
   {
    "duration": 16,
    "start_time": "2022-01-17T07:06:20.089Z"
   },
   {
    "duration": 16,
    "start_time": "2022-01-17T07:06:33.631Z"
   },
   {
    "duration": 16,
    "start_time": "2022-01-17T07:06:50.790Z"
   },
   {
    "duration": 14,
    "start_time": "2022-01-17T07:13:35.043Z"
   },
   {
    "duration": 12,
    "start_time": "2022-01-17T07:14:49.286Z"
   },
   {
    "duration": 18,
    "start_time": "2022-01-17T07:22:35.016Z"
   },
   {
    "duration": 18,
    "start_time": "2022-01-17T07:27:50.828Z"
   },
   {
    "duration": 20,
    "start_time": "2022-01-17T07:28:01.923Z"
   },
   {
    "duration": 13,
    "start_time": "2022-01-17T07:31:12.518Z"
   },
   {
    "duration": 29,
    "start_time": "2022-01-17T07:32:53.451Z"
   },
   {
    "duration": 21,
    "start_time": "2022-01-17T07:33:43.128Z"
   },
   {
    "duration": 23,
    "start_time": "2022-01-17T07:36:17.891Z"
   },
   {
    "duration": 22,
    "start_time": "2022-01-17T07:36:32.932Z"
   },
   {
    "duration": 14,
    "start_time": "2022-01-17T07:36:56.162Z"
   },
   {
    "duration": 14,
    "start_time": "2022-01-17T07:37:04.353Z"
   },
   {
    "duration": 14,
    "start_time": "2022-01-17T07:37:07.912Z"
   },
   {
    "duration": 21,
    "start_time": "2022-01-17T07:37:19.352Z"
   },
   {
    "duration": 15,
    "start_time": "2022-01-17T07:37:37.944Z"
   },
   {
    "duration": 20,
    "start_time": "2022-01-17T07:37:56.103Z"
   },
   {
    "duration": 30,
    "start_time": "2022-01-17T07:38:34.398Z"
   },
   {
    "duration": 7,
    "start_time": "2022-01-17T07:52:41.492Z"
   },
   {
    "duration": 379,
    "start_time": "2022-01-17T07:57:24.980Z"
   },
   {
    "duration": 365,
    "start_time": "2022-01-17T07:57:33.208Z"
   },
   {
    "duration": 671,
    "start_time": "2022-01-17T07:58:10.296Z"
   },
   {
    "duration": 354,
    "start_time": "2022-01-17T07:58:41.368Z"
   },
   {
    "duration": 376,
    "start_time": "2022-01-17T08:17:22.710Z"
   },
   {
    "duration": 5,
    "start_time": "2022-01-17T09:21:02.645Z"
   },
   {
    "duration": 5,
    "start_time": "2022-01-17T09:21:11.746Z"
   },
   {
    "duration": 312,
    "start_time": "2022-01-17T09:42:00.854Z"
   },
   {
    "duration": 399,
    "start_time": "2022-01-17T09:42:34.367Z"
   },
   {
    "duration": 4,
    "start_time": "2022-01-17T10:15:29.488Z"
   },
   {
    "duration": 4,
    "start_time": "2022-01-17T10:16:55.628Z"
   },
   {
    "duration": 86,
    "start_time": "2022-01-17T10:24:22.894Z"
   },
   {
    "duration": 368,
    "start_time": "2022-01-17T10:24:32.547Z"
   },
   {
    "duration": 15,
    "start_time": "2022-01-17T10:29:04.076Z"
   },
   {
    "duration": 3313,
    "start_time": "2022-01-17T10:29:32.416Z"
   },
   {
    "duration": 368,
    "start_time": "2022-01-17T10:29:41.240Z"
   },
   {
    "duration": 70,
    "start_time": "2022-01-17T10:30:40.361Z"
   },
   {
    "duration": 10,
    "start_time": "2022-01-17T10:30:44.437Z"
   },
   {
    "duration": 405,
    "start_time": "2022-01-17T10:30:46.311Z"
   },
   {
    "duration": 15,
    "start_time": "2022-01-17T10:30:52.917Z"
   },
   {
    "duration": 16,
    "start_time": "2022-01-17T10:30:55.484Z"
   },
   {
    "duration": 49,
    "start_time": "2022-01-17T10:30:56.533Z"
   },
   {
    "duration": 32,
    "start_time": "2022-01-17T10:30:57.679Z"
   },
   {
    "duration": 11754,
    "start_time": "2022-01-17T10:30:59.862Z"
   },
   {
    "duration": 16,
    "start_time": "2022-01-17T10:31:16.837Z"
   },
   {
    "duration": 12,
    "start_time": "2022-01-17T10:31:18.804Z"
   },
   {
    "duration": 16,
    "start_time": "2022-01-17T10:31:55.029Z"
   },
   {
    "duration": 7520,
    "start_time": "2022-01-17T10:34:30.547Z"
   },
   {
    "duration": 74,
    "start_time": "2022-01-17T10:35:00.694Z"
   },
   {
    "duration": 10,
    "start_time": "2022-01-17T10:35:04.378Z"
   },
   {
    "duration": 440,
    "start_time": "2022-01-17T10:35:06.014Z"
   },
   {
    "duration": 13,
    "start_time": "2022-01-17T10:35:10.261Z"
   },
   {
    "duration": 15,
    "start_time": "2022-01-17T10:35:12.268Z"
   },
   {
    "duration": 46,
    "start_time": "2022-01-17T10:35:13.284Z"
   },
   {
    "duration": 32,
    "start_time": "2022-01-17T10:35:14.696Z"
   },
   {
    "duration": 11667,
    "start_time": "2022-01-17T10:35:16.564Z"
   },
   {
    "duration": 18,
    "start_time": "2022-01-17T10:35:32.140Z"
   },
   {
    "duration": 12,
    "start_time": "2022-01-17T10:35:34.414Z"
   },
   {
    "duration": 12,
    "start_time": "2022-01-17T10:35:36.132Z"
   },
   {
    "duration": 364,
    "start_time": "2022-01-17T10:35:38.013Z"
   },
   {
    "duration": 365,
    "start_time": "2022-01-17T10:35:41.772Z"
   },
   {
    "duration": 440,
    "start_time": "2022-01-17T10:35:44.115Z"
   },
   {
    "duration": 369,
    "start_time": "2022-01-17T10:35:47.349Z"
   },
   {
    "duration": 378,
    "start_time": "2022-01-17T10:56:53.221Z"
   },
   {
    "duration": 371,
    "start_time": "2022-01-17T10:57:27.769Z"
   },
   {
    "duration": 510,
    "start_time": "2022-01-17T11:01:51.837Z"
   },
   {
    "duration": 362,
    "start_time": "2022-01-17T11:03:17.185Z"
   },
   {
    "duration": 385,
    "start_time": "2022-01-17T11:04:21.206Z"
   },
   {
    "duration": 17,
    "start_time": "2022-01-17T13:56:08.067Z"
   },
   {
    "duration": 375,
    "start_time": "2022-01-17T14:00:36.674Z"
   },
   {
    "duration": 17,
    "start_time": "2022-01-17T14:11:46.824Z"
   },
   {
    "duration": 385,
    "start_time": "2022-01-17T14:16:41.150Z"
   },
   {
    "duration": 370,
    "start_time": "2022-01-17T14:17:14.643Z"
   },
   {
    "duration": 373,
    "start_time": "2022-01-17T14:17:25.545Z"
   },
   {
    "duration": 371,
    "start_time": "2022-01-17T14:17:49.290Z"
   },
   {
    "duration": 377,
    "start_time": "2022-01-17T14:18:01.299Z"
   },
   {
    "duration": 383,
    "start_time": "2022-01-17T14:19:53.027Z"
   },
   {
    "duration": 4,
    "start_time": "2022-01-18T13:57:09.814Z"
   },
   {
    "duration": 5,
    "start_time": "2022-01-18T14:00:36.695Z"
   },
   {
    "duration": 4,
    "start_time": "2022-01-18T14:02:38.123Z"
   },
   {
    "duration": 96,
    "start_time": "2022-01-18T14:03:46.615Z"
   },
   {
    "duration": 3,
    "start_time": "2022-01-18T14:03:51.575Z"
   },
   {
    "duration": 5,
    "start_time": "2022-01-18T14:05:53.313Z"
   },
   {
    "duration": 4,
    "start_time": "2022-01-18T14:07:31.746Z"
   },
   {
    "duration": 4,
    "start_time": "2022-01-18T14:21:34.668Z"
   },
   {
    "duration": 4,
    "start_time": "2022-01-18T14:23:05.707Z"
   },
   {
    "duration": 6,
    "start_time": "2022-01-18T14:32:10.157Z"
   },
   {
    "duration": 4,
    "start_time": "2022-01-18T14:37:31.500Z"
   },
   {
    "duration": 4,
    "start_time": "2022-01-18T14:52:37.148Z"
   },
   {
    "duration": 4,
    "start_time": "2022-01-18T15:11:07.914Z"
   },
   {
    "duration": 4,
    "start_time": "2022-01-18T15:17:29.564Z"
   },
   {
    "duration": 6,
    "start_time": "2022-01-18T15:29:39.586Z"
   },
   {
    "duration": 5,
    "start_time": "2022-01-18T15:40:43.390Z"
   },
   {
    "duration": 10,
    "start_time": "2022-01-19T04:54:53.562Z"
   },
   {
    "duration": 12,
    "start_time": "2022-01-19T04:55:00.799Z"
   },
   {
    "duration": 272,
    "start_time": "2022-01-19T04:55:45.224Z"
   },
   {
    "duration": 15,
    "start_time": "2022-01-19T04:56:01.222Z"
   },
   {
    "duration": 6655,
    "start_time": "2022-01-19T05:12:21.825Z"
   },
   {
    "duration": 23,
    "start_time": "2022-01-19T05:12:44.098Z"
   },
   {
    "duration": 74,
    "start_time": "2022-01-19T05:13:01.568Z"
   },
   {
    "duration": 70,
    "start_time": "2022-01-19T05:13:21.993Z"
   },
   {
    "duration": 10,
    "start_time": "2022-01-19T05:13:26.445Z"
   },
   {
    "duration": 425,
    "start_time": "2022-01-19T05:13:28.703Z"
   },
   {
    "duration": 13,
    "start_time": "2022-01-19T05:13:35.630Z"
   },
   {
    "duration": 15,
    "start_time": "2022-01-19T05:13:38.892Z"
   },
   {
    "duration": 58,
    "start_time": "2022-01-19T05:13:41.013Z"
   },
   {
    "duration": 35,
    "start_time": "2022-01-19T05:15:13.684Z"
   },
   {
    "duration": 24,
    "start_time": "2022-01-19T05:15:20.587Z"
   },
   {
    "duration": 78,
    "start_time": "2022-01-19T05:15:26.460Z"
   },
   {
    "duration": 10,
    "start_time": "2022-01-19T05:15:30.413Z"
   },
   {
    "duration": 423,
    "start_time": "2022-01-19T05:15:32.348Z"
   },
   {
    "duration": 13,
    "start_time": "2022-01-19T05:15:37.325Z"
   },
   {
    "duration": 16,
    "start_time": "2022-01-19T05:15:41.387Z"
   },
   {
    "duration": 58,
    "start_time": "2022-01-19T05:15:43.308Z"
   },
   {
    "duration": 31,
    "start_time": "2022-01-19T05:15:46.931Z"
   },
   {
    "duration": 11344,
    "start_time": "2022-01-19T05:15:49.938Z"
   },
   {
    "duration": 12242,
    "start_time": "2022-01-19T05:16:21.818Z"
   },
   {
    "duration": 18,
    "start_time": "2022-01-19T05:17:22.461Z"
   },
   {
    "duration": 356,
    "start_time": "2022-01-19T05:17:26.018Z"
   },
   {
    "duration": 353,
    "start_time": "2022-01-19T05:17:31.857Z"
   },
   {
    "duration": 19,
    "start_time": "2022-01-19T05:17:35.058Z"
   },
   {
    "duration": 16,
    "start_time": "2022-01-19T05:18:15.449Z"
   },
   {
    "duration": 16,
    "start_time": "2022-01-19T05:18:20.689Z"
   },
   {
    "duration": 285,
    "start_time": "2022-01-19T05:18:56.576Z"
   },
   {
    "duration": 16,
    "start_time": "2022-01-19T05:19:04.890Z"
   },
   {
    "duration": 19,
    "start_time": "2022-01-19T05:19:35.032Z"
   },
   {
    "duration": 19,
    "start_time": "2022-01-19T05:19:48.929Z"
   },
   {
    "duration": 15,
    "start_time": "2022-01-19T05:24:01.115Z"
   },
   {
    "duration": 5,
    "start_time": "2022-01-19T05:27:06.009Z"
   },
   {
    "duration": 5,
    "start_time": "2022-01-19T05:28:08.505Z"
   },
   {
    "duration": 4,
    "start_time": "2022-01-19T05:32:58.325Z"
   },
   {
    "duration": 763,
    "start_time": "2022-01-19T05:35:05.163Z"
   },
   {
    "duration": 796,
    "start_time": "2022-01-19T05:35:25.289Z"
   },
   {
    "duration": 790,
    "start_time": "2022-01-19T05:37:10.971Z"
   },
   {
    "duration": 738,
    "start_time": "2022-01-19T05:38:06.313Z"
   },
   {
    "duration": 72,
    "start_time": "2022-01-19T05:38:19.007Z"
   },
   {
    "duration": 11,
    "start_time": "2022-01-19T05:38:24.093Z"
   },
   {
    "duration": 1175,
    "start_time": "2022-01-19T05:38:25.943Z"
   },
   {
    "duration": 65,
    "start_time": "2022-01-19T05:44:40.241Z"
   },
   {
    "duration": 11,
    "start_time": "2022-01-19T05:44:44.513Z"
   },
   {
    "duration": 1142,
    "start_time": "2022-01-19T05:44:46.800Z"
   },
   {
    "duration": 5,
    "start_time": "2022-01-19T05:44:51.256Z"
   },
   {
    "duration": 756,
    "start_time": "2022-01-19T05:44:53.200Z"
   },
   {
    "duration": 13,
    "start_time": "2022-01-19T05:44:56.849Z"
   },
   {
    "duration": 16,
    "start_time": "2022-01-19T05:45:00.351Z"
   },
   {
    "duration": 60,
    "start_time": "2022-01-19T05:45:02.000Z"
   },
   {
    "duration": 30,
    "start_time": "2022-01-19T05:45:04.032Z"
   },
   {
    "duration": 11510,
    "start_time": "2022-01-19T05:45:08.895Z"
   },
   {
    "duration": 17,
    "start_time": "2022-01-19T05:45:25.816Z"
   },
   {
    "duration": 358,
    "start_time": "2022-01-19T05:45:38.231Z"
   },
   {
    "duration": 16,
    "start_time": "2022-01-19T05:46:07.822Z"
   },
   {
    "duration": 13,
    "start_time": "2022-01-19T05:46:19.712Z"
   },
   {
    "duration": 21,
    "start_time": "2022-01-19T05:46:49.366Z"
   },
   {
    "duration": 13,
    "start_time": "2022-01-19T05:48:39.622Z"
   },
   {
    "duration": 31,
    "start_time": "2022-01-19T05:56:40.309Z"
   },
   {
    "duration": 140,
    "start_time": "2022-01-19T05:57:04.880Z"
   },
   {
    "duration": 27,
    "start_time": "2022-01-19T05:58:17.107Z"
   },
   {
    "duration": 252,
    "start_time": "2022-01-19T06:50:09.470Z"
   },
   {
    "duration": 264,
    "start_time": "2022-01-19T06:51:30.237Z"
   },
   {
    "duration": 250,
    "start_time": "2022-01-19T06:51:43.630Z"
   },
   {
    "duration": 270,
    "start_time": "2022-01-19T06:51:58.726Z"
   },
   {
    "duration": 14,
    "start_time": "2022-01-19T06:52:06.239Z"
   },
   {
    "duration": 28,
    "start_time": "2022-01-19T12:34:14.769Z"
   },
   {
    "duration": 13,
    "start_time": "2022-01-19T12:44:50.699Z"
   },
   {
    "duration": 11,
    "start_time": "2022-01-19T12:44:59.755Z"
   },
   {
    "duration": 13,
    "start_time": "2022-01-19T12:45:11.020Z"
   },
   {
    "duration": 12,
    "start_time": "2022-01-19T12:45:39.422Z"
   },
   {
    "duration": 18,
    "start_time": "2022-01-19T12:46:49.691Z"
   },
   {
    "duration": 25,
    "start_time": "2022-01-19T12:48:29.199Z"
   },
   {
    "duration": 26,
    "start_time": "2022-01-19T12:48:51.550Z"
   },
   {
    "duration": 28,
    "start_time": "2022-01-19T12:53:17.382Z"
   },
   {
    "duration": 13,
    "start_time": "2022-01-19T12:56:55.819Z"
   },
   {
    "duration": 20,
    "start_time": "2022-01-19T12:57:07.380Z"
   },
   {
    "duration": 12,
    "start_time": "2022-01-19T12:57:28.706Z"
   },
   {
    "duration": 13,
    "start_time": "2022-01-19T12:58:04.788Z"
   },
   {
    "duration": 15,
    "start_time": "2022-01-19T12:58:13.095Z"
   },
   {
    "duration": 5,
    "start_time": "2022-01-19T13:03:36.510Z"
   },
   {
    "duration": 7,
    "start_time": "2022-01-19T13:03:42.500Z"
   },
   {
    "duration": 6,
    "start_time": "2022-01-19T13:04:38.421Z"
   },
   {
    "duration": 15,
    "start_time": "2022-01-19T13:05:17.153Z"
   },
   {
    "duration": 22,
    "start_time": "2022-01-19T13:07:17.216Z"
   },
   {
    "duration": 249,
    "start_time": "2022-01-19T13:07:48.571Z"
   },
   {
    "duration": 21,
    "start_time": "2022-01-19T13:08:01.989Z"
   },
   {
    "duration": 19,
    "start_time": "2022-01-19T13:08:31.657Z"
   },
   {
    "duration": 22,
    "start_time": "2022-01-19T13:08:41.781Z"
   },
   {
    "duration": 8,
    "start_time": "2022-01-19T13:18:04.034Z"
   },
   {
    "duration": 12,
    "start_time": "2022-01-19T13:18:16.462Z"
   },
   {
    "duration": 12,
    "start_time": "2022-01-19T13:18:47.468Z"
   },
   {
    "duration": 9,
    "start_time": "2022-01-19T13:18:56.059Z"
   },
   {
    "duration": 7,
    "start_time": "2022-01-19T13:19:02.925Z"
   },
   {
    "duration": 7,
    "start_time": "2022-01-19T13:19:21.847Z"
   },
   {
    "duration": 8,
    "start_time": "2022-01-19T13:19:32.479Z"
   },
   {
    "duration": 8,
    "start_time": "2022-01-19T13:20:25.587Z"
   },
   {
    "duration": 12877,
    "start_time": "2022-01-19T13:21:06.814Z"
   },
   {
    "duration": 8,
    "start_time": "2022-01-19T13:21:33.095Z"
   },
   {
    "duration": 8,
    "start_time": "2022-01-19T13:22:34.890Z"
   },
   {
    "duration": 20,
    "start_time": "2022-01-19T13:23:44.800Z"
   },
   {
    "duration": 19,
    "start_time": "2022-01-19T13:24:12.344Z"
   },
   {
    "duration": 29,
    "start_time": "2022-01-19T13:25:55.623Z"
   },
   {
    "duration": 313,
    "start_time": "2022-01-19T13:33:17.836Z"
   },
   {
    "duration": 9,
    "start_time": "2022-01-19T13:33:30.305Z"
   },
   {
    "duration": 7,
    "start_time": "2022-01-19T13:34:23.765Z"
   },
   {
    "duration": 16,
    "start_time": "2022-01-19T13:35:08.127Z"
   },
   {
    "duration": 13,
    "start_time": "2022-01-19T13:35:56.083Z"
   },
   {
    "duration": 20,
    "start_time": "2022-01-19T13:36:43.113Z"
   },
   {
    "duration": 23,
    "start_time": "2022-01-19T13:43:21.681Z"
   },
   {
    "duration": 46,
    "start_time": "2022-01-19T13:45:39.599Z"
   },
   {
    "duration": 70,
    "start_time": "2022-01-19T13:55:46.120Z"
   },
   {
    "duration": 10,
    "start_time": "2022-01-19T13:55:58.974Z"
   },
   {
    "duration": 1208,
    "start_time": "2022-01-19T13:56:01.585Z"
   },
   {
    "duration": 7,
    "start_time": "2022-01-19T13:56:10.940Z"
   },
   {
    "duration": 768,
    "start_time": "2022-01-19T13:56:17.892Z"
   },
   {
    "duration": 13,
    "start_time": "2022-01-19T13:56:22.446Z"
   },
   {
    "duration": 16,
    "start_time": "2022-01-19T13:56:26.341Z"
   },
   {
    "duration": 58,
    "start_time": "2022-01-19T13:56:28.502Z"
   },
   {
    "duration": 33,
    "start_time": "2022-01-19T13:56:30.754Z"
   },
   {
    "duration": 11624,
    "start_time": "2022-01-19T13:56:33.522Z"
   },
   {
    "duration": 20,
    "start_time": "2022-01-19T13:56:52.285Z"
   },
   {
    "duration": 21,
    "start_time": "2022-01-19T13:56:59.374Z"
   },
   {
    "duration": 18,
    "start_time": "2022-01-19T13:57:02.987Z"
   },
   {
    "duration": 18,
    "start_time": "2022-01-19T13:57:06.469Z"
   },
   {
    "duration": 23,
    "start_time": "2022-01-19T13:57:09.119Z"
   },
   {
    "duration": 9,
    "start_time": "2022-01-19T13:57:15.236Z"
   },
   {
    "duration": 8,
    "start_time": "2022-01-19T13:57:16.749Z"
   },
   {
    "duration": 19,
    "start_time": "2022-01-19T13:57:20.318Z"
   },
   {
    "duration": 26,
    "start_time": "2022-01-19T13:57:23.406Z"
   },
   {
    "duration": 7,
    "start_time": "2022-01-19T13:57:26.971Z"
   },
   {
    "duration": 14,
    "start_time": "2022-01-19T13:57:29.338Z"
   },
   {
    "duration": 22,
    "start_time": "2022-01-19T13:57:31.658Z"
   },
   {
    "duration": 21,
    "start_time": "2022-01-19T13:57:34.729Z"
   },
   {
    "duration": 25,
    "start_time": "2022-01-19T13:57:37.217Z"
   },
   {
    "duration": 59,
    "start_time": "2022-01-19T13:57:39.751Z"
   },
   {
    "duration": 1032,
    "start_time": "2022-01-23T10:36:22.177Z"
   },
   {
    "duration": 13,
    "start_time": "2022-01-23T10:36:23.211Z"
   },
   {
    "duration": 2450,
    "start_time": "2022-01-23T10:36:23.228Z"
   },
   {
    "duration": 9,
    "start_time": "2022-01-23T10:36:25.680Z"
   },
   {
    "duration": 1457,
    "start_time": "2022-01-23T10:36:25.691Z"
   },
   {
    "duration": 34,
    "start_time": "2022-01-23T10:36:27.151Z"
   },
   {
    "duration": 24,
    "start_time": "2022-01-23T10:36:27.187Z"
   },
   {
    "duration": 117,
    "start_time": "2022-01-23T10:36:27.216Z"
   },
   {
    "duration": 72,
    "start_time": "2022-01-23T10:36:27.336Z"
   },
   {
    "duration": 17759,
    "start_time": "2022-01-23T10:36:27.410Z"
   },
   {
    "duration": 25,
    "start_time": "2022-01-23T10:36:45.171Z"
   },
   {
    "duration": 32,
    "start_time": "2022-01-23T10:36:45.199Z"
   },
   {
    "duration": 53,
    "start_time": "2022-01-23T10:36:45.233Z"
   },
   {
    "duration": 27,
    "start_time": "2022-01-23T10:36:45.288Z"
   },
   {
    "duration": 61,
    "start_time": "2022-01-23T10:36:45.317Z"
   },
   {
    "duration": 12,
    "start_time": "2022-01-23T10:36:45.381Z"
   },
   {
    "duration": 13,
    "start_time": "2022-01-23T10:36:45.395Z"
   },
   {
    "duration": 61,
    "start_time": "2022-01-23T10:36:45.410Z"
   },
   {
    "duration": 42,
    "start_time": "2022-01-23T10:36:45.473Z"
   },
   {
    "duration": 10,
    "start_time": "2022-01-23T10:36:45.517Z"
   },
   {
    "duration": 46,
    "start_time": "2022-01-23T10:36:45.529Z"
   },
   {
    "duration": 30,
    "start_time": "2022-01-23T10:36:45.577Z"
   },
   {
    "duration": 60,
    "start_time": "2022-01-23T10:36:45.611Z"
   },
   {
    "duration": 36,
    "start_time": "2022-01-23T10:36:45.673Z"
   },
   {
    "duration": 102,
    "start_time": "2022-01-23T10:36:45.712Z"
   },
   {
    "duration": 12,
    "start_time": "2022-01-23T10:46:06.377Z"
   },
   {
    "duration": 7,
    "start_time": "2022-01-23T10:46:09.153Z"
   },
   {
    "duration": 29,
    "start_time": "2022-01-23T10:46:11.977Z"
   },
   {
    "duration": 12,
    "start_time": "2022-01-23T10:46:22.914Z"
   },
   {
    "duration": 8,
    "start_time": "2022-01-23T10:47:03.387Z"
   },
   {
    "duration": 34,
    "start_time": "2022-01-23T10:47:05.443Z"
   },
   {
    "duration": 48,
    "start_time": "2022-01-23T11:02:25.164Z"
   },
   {
    "duration": 67,
    "start_time": "2022-01-23T11:02:35.787Z"
   },
   {
    "duration": 677,
    "start_time": "2022-01-24T11:19:46.672Z"
   },
   {
    "duration": 66,
    "start_time": "2022-01-24T11:36:36.960Z"
   },
   {
    "duration": 10,
    "start_time": "2022-01-24T11:36:43.834Z"
   },
   {
    "duration": 28,
    "start_time": "2022-01-24T11:36:46.145Z"
   },
   {
    "duration": 6,
    "start_time": "2022-01-24T11:36:49.881Z"
   },
   {
    "duration": 9,
    "start_time": "2022-01-24T11:36:51.208Z"
   },
   {
    "duration": 13,
    "start_time": "2022-01-24T11:36:56.032Z"
   },
   {
    "duration": 15,
    "start_time": "2022-01-24T11:36:59.064Z"
   },
   {
    "duration": 57,
    "start_time": "2022-01-24T11:37:00.040Z"
   },
   {
    "duration": 30,
    "start_time": "2022-01-24T11:37:01.825Z"
   },
   {
    "duration": 3514,
    "start_time": "2022-01-24T11:37:04.112Z"
   },
   {
    "duration": 18,
    "start_time": "2022-01-24T11:37:58.833Z"
   },
   {
    "duration": 82,
    "start_time": "2022-01-24T12:25:38.787Z"
   },
   {
    "duration": 11,
    "start_time": "2022-01-24T12:25:44.386Z"
   },
   {
    "duration": 26,
    "start_time": "2022-01-24T12:25:46.339Z"
   },
   {
    "duration": 6,
    "start_time": "2022-01-24T12:25:49.519Z"
   },
   {
    "duration": 10,
    "start_time": "2022-01-24T12:25:50.874Z"
   },
   {
    "duration": 12,
    "start_time": "2022-01-24T12:25:53.559Z"
   },
   {
    "duration": 16,
    "start_time": "2022-01-24T12:25:57.385Z"
   },
   {
    "duration": 56,
    "start_time": "2022-01-24T12:25:58.506Z"
   },
   {
    "duration": 33,
    "start_time": "2022-01-24T12:26:00.113Z"
   },
   {
    "duration": 3415,
    "start_time": "2022-01-24T12:26:06.163Z"
   },
   {
    "duration": 2876,
    "start_time": "2022-01-24T12:28:12.126Z"
   },
   {
    "duration": 18,
    "start_time": "2022-01-24T12:31:43.001Z"
   },
   {
    "duration": 9,
    "start_time": "2022-01-24T12:35:11.135Z"
   },
   {
    "duration": 8,
    "start_time": "2022-01-24T12:35:12.647Z"
   },
   {
    "duration": 42,
    "start_time": "2022-01-24T12:39:49.380Z"
   },
   {
    "duration": 45,
    "start_time": "2022-01-24T12:44:55.044Z"
   },
   {
    "duration": 46,
    "start_time": "2022-01-24T12:47:47.365Z"
   },
   {
    "duration": 65,
    "start_time": "2022-01-24T12:51:30.059Z"
   },
   {
    "duration": 42,
    "start_time": "2022-01-24T12:54:40.540Z"
   },
   {
    "duration": 21,
    "start_time": "2022-01-24T12:57:04.549Z"
   },
   {
    "duration": 42,
    "start_time": "2022-01-24T12:57:06.380Z"
   },
   {
    "duration": 903,
    "start_time": "2022-01-25T10:24:27.231Z"
   },
   {
    "duration": 12,
    "start_time": "2022-01-25T10:24:28.137Z"
   },
   {
    "duration": 52,
    "start_time": "2022-01-25T10:24:28.152Z"
   },
   {
    "duration": 8,
    "start_time": "2022-01-25T10:24:28.206Z"
   },
   {
    "duration": 13,
    "start_time": "2022-01-25T10:24:28.217Z"
   },
   {
    "duration": 51,
    "start_time": "2022-01-25T10:24:28.232Z"
   },
   {
    "duration": 21,
    "start_time": "2022-01-25T10:24:28.285Z"
   },
   {
    "duration": 112,
    "start_time": "2022-01-25T10:24:28.310Z"
   },
   {
    "duration": 62,
    "start_time": "2022-01-25T10:24:28.425Z"
   },
   {
    "duration": 5288,
    "start_time": "2022-01-25T10:24:28.490Z"
   },
   {
    "duration": 23,
    "start_time": "2022-01-25T10:24:33.781Z"
   },
   {
    "duration": 17,
    "start_time": "2022-01-25T10:24:33.806Z"
   },
   {
    "duration": 11,
    "start_time": "2022-01-25T10:24:33.825Z"
   },
   {
    "duration": 112,
    "start_time": "2022-01-25T10:24:33.838Z"
   },
   {
    "duration": 88,
    "start_time": "2022-01-25T10:24:33.953Z"
   },
   {
    "duration": 100,
    "start_time": "2022-01-25T10:24:34.044Z"
   },
   {
    "duration": 86,
    "start_time": "2022-01-25T10:24:34.146Z"
   },
   {
    "duration": 50,
    "start_time": "2022-01-25T10:24:34.234Z"
   },
   {
    "duration": 83,
    "start_time": "2022-01-25T10:24:34.286Z"
   }
  ],
  "kernelspec": {
   "display_name": "Python 3 (ipykernel)",
   "language": "python",
   "name": "python3"
  },
  "language_info": {
   "codemirror_mode": {
    "name": "ipython",
    "version": 3
   },
   "file_extension": ".py",
   "mimetype": "text/x-python",
   "name": "python",
   "nbconvert_exporter": "python",
   "pygments_lexer": "ipython3",
   "version": "3.9.7"
  },
  "toc": {
   "base_numbering": 1,
   "nav_menu": {},
   "number_sections": true,
   "sideBar": true,
   "skip_h1_title": true,
   "title_cell": "Table of Contents",
   "title_sidebar": "Contents",
   "toc_cell": false,
   "toc_position": {
    "height": "calc(100% - 180px)",
    "left": "10px",
    "top": "150px",
    "width": "366.391px"
   },
   "toc_section_display": true,
   "toc_window_display": false
  }
 },
 "nbformat": 4,
 "nbformat_minor": 2
}
