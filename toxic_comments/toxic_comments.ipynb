{
 "cells": [
  {
   "cell_type": "markdown",
   "metadata": {},
   "source": [
    "# Определение токсичных комментариев"
   ]
  },
  {
   "cell_type": "markdown",
   "metadata": {},
   "source": [
    "Интернет-магазин запускает новый сервис. Теперь пользователи могут редактировать и дополнять описания товаров, как в вики-сообществах. То есть клиенты предлагают свои правки и комментируют изменения других. Магазину нужен инструмент, который будет искать токсичные комментарии и отправлять их на модерацию. \n",
    "\n",
    "Необходимо обучить модель классифицировать комментарии на позитивные и негативные. В нашем распоряжении набор данных с разметкой о токсичности правок.\n",
    "\n",
    "Нужно построить модель со значением метрики качества *F1* не меньше 0.75. "
   ]
  },
  {
   "cell_type": "code",
   "execution_count": 1,
   "metadata": {},
   "outputs": [],
   "source": [
    "import pandas as pd\n",
    "import numpy as np\n",
    "import nltk\n",
    "import re\n",
    "import matplotlib.pyplot as plt\n",
    "from nltk.stem import WordNetLemmatizer\n",
    "from nltk.corpus import stopwords as nltk_stopwords\n",
    "from sklearn.feature_extraction.text import TfidfVectorizer \n",
    "from sklearn.model_selection import train_test_split\n",
    "from sklearn.linear_model import LogisticRegression\n",
    "from sklearn.metrics import f1_score, roc_curve, roc_auc_score\n",
    "from lightgbm import LGBMClassifier"
   ]
  },
  {
   "cell_type": "markdown",
   "metadata": {},
   "source": [
    "## 1 Подготовка"
   ]
  },
  {
   "cell_type": "code",
   "execution_count": 2,
   "metadata": {},
   "outputs": [
    {
     "name": "stdout",
     "output_type": "stream",
     "text": [
      "<class 'pandas.core.frame.DataFrame'>\n",
      "RangeIndex: 159571 entries, 0 to 159570\n",
      "Data columns (total 2 columns):\n",
      " #   Column  Non-Null Count   Dtype \n",
      "---  ------  --------------   ----- \n",
      " 0   text    159571 non-null  object\n",
      " 1   toxic   159571 non-null  int64 \n",
      "dtypes: int64(1), object(1)\n",
      "memory usage: 2.4+ MB\n"
     ]
    },
    {
     "data": {
      "text/html": [
       "<div>\n",
       "<style scoped>\n",
       "    .dataframe tbody tr th:only-of-type {\n",
       "        vertical-align: middle;\n",
       "    }\n",
       "\n",
       "    .dataframe tbody tr th {\n",
       "        vertical-align: top;\n",
       "    }\n",
       "\n",
       "    .dataframe thead th {\n",
       "        text-align: right;\n",
       "    }\n",
       "</style>\n",
       "<table border=\"1\" class=\"dataframe\">\n",
       "  <thead>\n",
       "    <tr style=\"text-align: right;\">\n",
       "      <th></th>\n",
       "      <th>text</th>\n",
       "      <th>toxic</th>\n",
       "    </tr>\n",
       "  </thead>\n",
       "  <tbody>\n",
       "    <tr>\n",
       "      <th>0</th>\n",
       "      <td>Explanation\\nWhy the edits made under my usern...</td>\n",
       "      <td>0</td>\n",
       "    </tr>\n",
       "    <tr>\n",
       "      <th>1</th>\n",
       "      <td>D'aww! He matches this background colour I'm s...</td>\n",
       "      <td>0</td>\n",
       "    </tr>\n",
       "    <tr>\n",
       "      <th>2</th>\n",
       "      <td>Hey man, I'm really not trying to edit war. It...</td>\n",
       "      <td>0</td>\n",
       "    </tr>\n",
       "    <tr>\n",
       "      <th>3</th>\n",
       "      <td>\"\\nMore\\nI can't make any real suggestions on ...</td>\n",
       "      <td>0</td>\n",
       "    </tr>\n",
       "    <tr>\n",
       "      <th>4</th>\n",
       "      <td>You, sir, are my hero. Any chance you remember...</td>\n",
       "      <td>0</td>\n",
       "    </tr>\n",
       "  </tbody>\n",
       "</table>\n",
       "</div>"
      ],
      "text/plain": [
       "                                                text  toxic\n",
       "0  Explanation\\nWhy the edits made under my usern...      0\n",
       "1  D'aww! He matches this background colour I'm s...      0\n",
       "2  Hey man, I'm really not trying to edit war. It...      0\n",
       "3  \"\\nMore\\nI can't make any real suggestions on ...      0\n",
       "4  You, sir, are my hero. Any chance you remember...      0"
      ]
     },
     "execution_count": 2,
     "metadata": {},
     "output_type": "execute_result"
    }
   ],
   "source": [
    "# знакомство с данными\n",
    "df = pd.read_csv('***.csv')\n",
    "df.info()\n",
    "df.head()"
   ]
  },
  {
   "cell_type": "markdown",
   "metadata": {},
   "source": [
    "Данные содержат текст и целевой признак. Можно приступать к подготовке данных. Пропусков нет."
   ]
  },
  {
   "cell_type": "markdown",
   "metadata": {},
   "source": [
    "Создадим фнукцию для лемматизации"
   ]
  },
  {
   "cell_type": "code",
   "execution_count": 3,
   "metadata": {},
   "outputs": [],
   "source": [
    "# функция делает список из слов, лемматизирует, возвращает строку с нижнем регистром,\n",
    "# удаляет все лишние символы, оставляя только пробелы между словами\n",
    "def lemmatizer(string):\n",
    "    stemmer = WordNetLemmatizer() # NLTK лемматизация\n",
    "    word_list = nltk.word_tokenize(string)\n",
    "    text = ' '.join([stemmer.lemmatize(w) for w in word_list]).lower()\n",
    "    text = ' '.join(re.sub(r'[^a-z]', ' ', text).split())\n",
    "    return text"
   ]
  },
  {
   "cell_type": "code",
   "execution_count": 4,
   "metadata": {},
   "outputs": [],
   "source": [
    "df['lemm_text'] = df['text'].apply(lemmatizer) # лемматизируем "
   ]
  },
  {
   "cell_type": "markdown",
   "metadata": {},
   "source": [
    "Проверка лемматизированного текста:"
   ]
  },
  {
   "cell_type": "code",
   "execution_count": 5,
   "metadata": {},
   "outputs": [
    {
     "data": {
      "text/plain": [
       "0    Explanation\\nWhy the edits made under my usern...\n",
       "1    D'aww! He matches this background colour I'm s...\n",
       "2    Hey man, I'm really not trying to edit war. It...\n",
       "3    \"\\nMore\\nI can't make any real suggestions on ...\n",
       "4    You, sir, are my hero. Any chance you remember...\n",
       "Name: text, dtype: object"
      ]
     },
     "execution_count": 5,
     "metadata": {},
     "output_type": "execute_result"
    }
   ],
   "source": [
    "df['text'].head()"
   ]
  },
  {
   "cell_type": "code",
   "execution_count": 6,
   "metadata": {
    "scrolled": true
   },
   "outputs": [
    {
     "data": {
      "text/plain": [
       "0    explanation why the edits made under my userna...\n",
       "1    d aww he match this background colour i m seem...\n",
       "2    hey man i m really not trying to edit war it s...\n",
       "3    more i ca n t make any real suggestion on impr...\n",
       "4    you sir are my hero any chance you remember wh...\n",
       "Name: lemm_text, dtype: object"
      ]
     },
     "execution_count": 6,
     "metadata": {},
     "output_type": "execute_result"
    }
   ],
   "source": [
    "df['lemm_text'].head()"
   ]
  },
  {
   "cell_type": "markdown",
   "metadata": {},
   "source": [
    "**Разделение на выборки:**"
   ]
  },
  {
   "cell_type": "code",
   "execution_count": 7,
   "metadata": {},
   "outputs": [],
   "source": [
    "features = df['lemm_text']\n",
    "target = df['toxic']"
   ]
  },
  {
   "cell_type": "code",
   "execution_count": 8,
   "metadata": {},
   "outputs": [
    {
     "data": {
      "text/plain": [
       "0    0.898321\n",
       "1    0.101679\n",
       "Name: toxic, dtype: float64"
      ]
     },
     "execution_count": 8,
     "metadata": {},
     "output_type": "execute_result"
    }
   ],
   "source": [
    "target.value_counts(normalize=True) # смотрим баланс классов"
   ]
  },
  {
   "cell_type": "markdown",
   "metadata": {},
   "source": [
    "90% отрицательного класса и 10% положительного. Наблюдается большой дисбаланс классов, необходимо это будет учесть в построении модели."
   ]
  },
  {
   "cell_type": "code",
   "execution_count": 9,
   "metadata": {},
   "outputs": [],
   "source": [
    "features_train, features_valid, target_train, target_valid = train_test_split(\n",
    "    features, target, train_size=0.6, random_state=42) # отделение 60% данных для обучающей выборки"
   ]
  },
  {
   "cell_type": "code",
   "execution_count": 10,
   "metadata": {},
   "outputs": [],
   "source": [
    "features_valid, features_test, target_valid, target_test = train_test_split(\n",
    "    features_valid, target_valid, test_size=0.5, random_state=42) \n",
    "# разделение оставшихся данных на тестовую и валидационную выборки"
   ]
  },
  {
   "cell_type": "markdown",
   "metadata": {},
   "source": [
    "Проверим разделение выборок:"
   ]
  },
  {
   "cell_type": "code",
   "execution_count": 11,
   "metadata": {},
   "outputs": [
    {
     "name": "stdout",
     "output_type": "stream",
     "text": [
      "Обучающая выборка: 60.0 %\n",
      "Валидационная выборка: 20.0 %\n",
      "Тестовая выборка: 20.0 %\n"
     ]
    }
   ],
   "source": [
    "print('Обучающая выборка:',round(features_train.shape[0]/features.shape[0]*100,1),'%')\n",
    "print('Валидационная выборка:',round(features_valid.shape[0]/features.shape[0]*100,1),'%')\n",
    "print('Тестовая выборка:',round(features_test.shape[0]/features.shape[0]*100,1),'%')"
   ]
  },
  {
   "cell_type": "markdown",
   "metadata": {},
   "source": [
    "Загрузим стоп слова. Векторизируем счетчик слов."
   ]
  },
  {
   "cell_type": "code",
   "execution_count": 12,
   "metadata": {},
   "outputs": [
    {
     "name": "stderr",
     "output_type": "stream",
     "text": [
      "[nltk_data] Downloading package stopwords to C:\\Users\\***\n",
      "[nltk_data]     **\\AppData\\Roaming\\nltk_data...\n",
      "[nltk_data]   Package stopwords is already up-to-date!\n"
     ]
    }
   ],
   "source": [
    "nltk.download('stopwords')\n",
    "stop_words = set(nltk_stopwords.words('english'))\n",
    "count_tf_idf = TfidfVectorizer(stop_words=stop_words)"
   ]
  },
  {
   "cell_type": "code",
   "execution_count": 13,
   "metadata": {},
   "outputs": [
    {
     "data": {
      "text/plain": [
       "(95742, 122387)"
      ]
     },
     "execution_count": 13,
     "metadata": {},
     "output_type": "execute_result"
    }
   ],
   "source": [
    "corpus_train = features_train.values\n",
    "tf_idf_train = count_tf_idf.fit_transform(corpus_train)\n",
    "tf_idf_train.shape"
   ]
  },
  {
   "cell_type": "code",
   "execution_count": 14,
   "metadata": {},
   "outputs": [
    {
     "data": {
      "text/plain": [
       "(31914, 122387)"
      ]
     },
     "execution_count": 14,
     "metadata": {},
     "output_type": "execute_result"
    }
   ],
   "source": [
    "corpus_valid = features_valid.values\n",
    "tf_idf_valid = count_tf_idf.transform(corpus_valid)\n",
    "tf_idf_valid.shape"
   ]
  },
  {
   "cell_type": "code",
   "execution_count": 15,
   "metadata": {},
   "outputs": [
    {
     "data": {
      "text/plain": [
       "(31915, 122387)"
      ]
     },
     "execution_count": 15,
     "metadata": {},
     "output_type": "execute_result"
    }
   ],
   "source": [
    "corpus_test = features_test.values\n",
    "tf_idf_test = count_tf_idf.transform(corpus_test)\n",
    "tf_idf_test.shape"
   ]
  },
  {
   "cell_type": "markdown",
   "metadata": {},
   "source": [
    "Текст лемматизирован, счетчик слов переведен в вектор, стоп слова загружены. Данные готовы для обучения."
   ]
  },
  {
   "cell_type": "markdown",
   "metadata": {},
   "source": [
    "## 2 Обучение"
   ]
  },
  {
   "cell_type": "markdown",
   "metadata": {},
   "source": [
    "Используем 2 наиболее быстрые модели для обучения, задача, получить метрику качества не менее 0,75."
   ]
  },
  {
   "cell_type": "markdown",
   "metadata": {},
   "source": [
    "Начнем с логистической регрессии с параметром class_weight='balanced'"
   ]
  },
  {
   "cell_type": "code",
   "execution_count": 16,
   "metadata": {
    "scrolled": true
   },
   "outputs": [
    {
     "name": "stdout",
     "output_type": "stream",
     "text": [
      "F1-мера лучшей модели логистической регрессии на валидационной выборке: 0.7619047619047619\n",
      "Лучшие гиперпараметры: LogisticRegression(C=4.300000000000002, class_weight='balanced', max_iter=1000,\n",
      "                   random_state=42)\n",
      "Wall time: 1min 10s\n"
     ]
    }
   ],
   "source": [
    "%%time\n",
    "best_model = None\n",
    "best_result = 0\n",
    "for reg in np.arange(0.9,5.0,0.2):\n",
    "    model_lr = LogisticRegression(class_weight='balanced', max_iter=1000, C=reg, random_state=42)\n",
    "    model_lr.fit(tf_idf_train, target_train)\n",
    "    prediction = model_lr.predict(tf_idf_valid)\n",
    "    result = f1_score(target_valid, prediction)\n",
    "    if result > best_result:\n",
    "            best_model_lr = model_lr\n",
    "            best_result = result\n",
    "print('F1-мера лучшей модели логистической регрессии на валидационной выборке:', best_result)\n",
    "print('Лучшие гиперпараметры:', best_model_lr)"
   ]
  },
  {
   "cell_type": "markdown",
   "metadata": {},
   "source": [
    "Модель логистической регрессии показала хороший результат."
   ]
  },
  {
   "cell_type": "markdown",
   "metadata": {},
   "source": [
    "Используем модель LGBMClassifier с параметром class_weight='balanced' и подберем гиперпараметры."
   ]
  },
  {
   "cell_type": "code",
   "execution_count": 17,
   "metadata": {},
   "outputs": [
    {
     "name": "stdout",
     "output_type": "stream",
     "text": [
      "F1-мера лучшей модели LGBM на валидационной выборке: 0.7723760463618803\n",
      "Лучшие гиперпараметры: LGBMClassifier(class_weight='balanced', n_estimators=290, num_leaves=250,\n",
      "               random_state=42)\n",
      "Wall time: 25min 6s\n"
     ]
    }
   ],
   "source": [
    "%%time\n",
    "best_model = None\n",
    "best_result = 0\n",
    "for est in np.arange(270,291,10):\n",
    "    for leaves in np.arange(250,271,10):\n",
    "        model_lgbm = LGBMClassifier(random_state=42, n_estimators=est, num_leaves=leaves, class_weight='balanced')\n",
    "        model_lgbm.fit(tf_idf_train, target_train) \n",
    "        predictions_valid = model_lgbm.predict(tf_idf_valid) \n",
    "        result = f1_score(target_valid, predictions_valid) \n",
    "        if result > best_result:\n",
    "            best_model_lgbm = model_lgbm\n",
    "            best_result = result\n",
    "print('F1-мера лучшей модели LGBM на валидационной выборке:', best_result)\n",
    "print('Лучшие гиперпараметры:', best_model_lgbm)"
   ]
  },
  {
   "cell_type": "markdown",
   "metadata": {},
   "source": [
    "Модель LGBM показала лучше результат. Проведем тестирование на тестовой выборке."
   ]
  },
  {
   "cell_type": "code",
   "execution_count": 18,
   "metadata": {},
   "outputs": [
    {
     "name": "stdout",
     "output_type": "stream",
     "text": [
      "F1-мера логистической регрессии на тестовой выборке: 0.7570810659969304\n"
     ]
    }
   ],
   "source": [
    "prediction = best_model_lr.predict(tf_idf_test)\n",
    "print('F1-мера логистической регрессии на тестовой выборке:', f1_score(prediction, target_test)) "
   ]
  },
  {
   "cell_type": "code",
   "execution_count": 19,
   "metadata": {
    "scrolled": true
   },
   "outputs": [
    {
     "name": "stdout",
     "output_type": "stream",
     "text": [
      "F1-мера LGBM на тестовой выборке: 0.7646685696162385\n"
     ]
    }
   ],
   "source": [
    "prediction = best_model_lgbm.predict(tf_idf_test)\n",
    "print('F1-мера LGBM на тестовой выборке:', f1_score(prediction, target_test)) "
   ]
  },
  {
   "cell_type": "markdown",
   "metadata": {},
   "source": [
    "Обе модели справились с поставленной задачей. Но выбор модели мы делаем по лучшему результату на валидационной выборке."
   ]
  },
  {
   "cell_type": "markdown",
   "metadata": {},
   "source": [
    "Дополнительно найдем roc_auc_score и построим ROC-кривую."
   ]
  },
  {
   "cell_type": "code",
   "execution_count": 20,
   "metadata": {},
   "outputs": [
    {
     "data": {
      "text/plain": [
       "0.9559667924236257"
      ]
     },
     "execution_count": 20,
     "metadata": {},
     "output_type": "execute_result"
    },
    {
     "data": {
      "image/png": "[encoded data removed]",
      "text/plain": [
       "<Figure size 432x288 with 1 Axes>"
      ]
     },
     "metadata": {
      "needs_background": "light"
     },
     "output_type": "display_data"
    }
   ],
   "source": [
    "probabilities_test = best_model_lgbm.predict_proba(tf_idf_test)\n",
    "probabilities_one_test = probabilities_test[:, 1]\n",
    "    \n",
    "fpr, tpr, thresholds = roc_curve(target_test, probabilities_one_test)\n",
    "    \n",
    "plt.figure()\n",
    "plt.plot(fpr, tpr)\n",
    "plt.plot([0, 1], [0, 1], linestyle='--')\n",
    "plt.xlim([0.0, 1.0])\n",
    "plt.ylim([0.0, 1.0])\n",
    "plt.xlabel('False Positive Rate')\n",
    "plt.ylabel('True Positive Rate')\n",
    "plt.title('ROC-кривая')\n",
    "plt.grid()\n",
    "    \n",
    "roc_auc_score(target_test, probabilities_one_test)"
   ]
  },
  {
   "cell_type": "markdown",
   "metadata": {},
   "source": [
    "## 3 Выводы"
   ]
  },
  {
   "cell_type": "markdown",
   "metadata": {},
   "source": [
    "- Были выбраны 2 быстрые модели для обучения.\n",
    "- Логистическая регрессия показала хороший результат f1 = 0.76.\n",
    "- LightGBMClassifier показала себя лучше на валидационной выборке f1 = 0.77.\n",
    "- Была достигнута F1 = 0.76 на тестовой выборке, с помощью модели LightGBM\n",
    "- ROC-AUC на тестовой выборке 0,96"
   ]
  }
 ],
 "metadata": {
  "ExecuteTimeLog": [
   {
    "duration": 409,
    "start_time": "2022-06-11T05:00:57.550Z"
   },
   {
    "duration": 2363,
    "start_time": "2022-06-11T05:01:43.888Z"
   },
   {
    "duration": 46,
    "start_time": "2022-06-14T03:42:33.709Z"
   },
   {
    "duration": 396,
    "start_time": "2022-06-14T03:42:37.843Z"
   },
   {
    "duration": 2504,
    "start_time": "2022-06-14T03:42:40.132Z"
   },
   {
    "duration": 3,
    "start_time": "2022-06-14T03:42:44.619Z"
   },
   {
    "duration": 18,
    "start_time": "2022-06-14T03:45:52.866Z"
   },
   {
    "duration": 2,
    "start_time": "2022-06-14T03:47:03.810Z"
   },
   {
    "duration": 4,
    "start_time": "2022-06-14T04:28:33.205Z"
   },
   {
    "duration": 87510,
    "start_time": "2022-06-14T04:29:21.504Z"
   },
   {
    "duration": 6,
    "start_time": "2022-06-14T04:42:40.085Z"
   },
   {
    "duration": 5,
    "start_time": "2022-06-14T04:42:53.188Z"
   },
   {
    "duration": 838,
    "start_time": "2022-06-14T04:43:55.004Z"
   },
   {
    "duration": 72,
    "start_time": "2022-06-14T04:55:12.539Z"
   },
   {
    "duration": 11,
    "start_time": "2022-06-14T04:55:38.156Z"
   },
   {
    "duration": 3,
    "start_time": "2022-06-14T04:56:06.035Z"
   },
   {
    "duration": 2,
    "start_time": "2022-06-14T04:56:43.164Z"
   },
   {
    "duration": 1134,
    "start_time": "2022-06-14T04:56:52.692Z"
   },
   {
    "duration": 3,
    "start_time": "2022-06-14T04:57:12.596Z"
   },
   {
    "duration": 5,
    "start_time": "2022-06-14T04:58:45.163Z"
   },
   {
    "duration": 4,
    "start_time": "2022-06-14T04:58:59.859Z"
   },
   {
    "duration": 3,
    "start_time": "2022-06-14T04:59:02.924Z"
   },
   {
    "duration": 4,
    "start_time": "2022-06-14T04:59:08.172Z"
   },
   {
    "duration": 4,
    "start_time": "2022-06-14T04:59:14.924Z"
   },
   {
    "duration": 4,
    "start_time": "2022-06-14T04:59:20.079Z"
   },
   {
    "duration": 5,
    "start_time": "2022-06-14T04:59:59.475Z"
   },
   {
    "duration": 4,
    "start_time": "2022-06-14T05:00:19.076Z"
   },
   {
    "duration": 3,
    "start_time": "2022-06-14T05:01:06.132Z"
   },
   {
    "duration": 4,
    "start_time": "2022-06-14T05:01:12.228Z"
   },
   {
    "duration": 1495,
    "start_time": "2022-06-14T05:01:16.581Z"
   },
   {
    "duration": 6,
    "start_time": "2022-06-14T05:01:21.012Z"
   },
   {
    "duration": 7,
    "start_time": "2022-06-14T05:01:29.268Z"
   },
   {
    "duration": 4,
    "start_time": "2022-06-14T05:01:52.867Z"
   },
   {
    "duration": 3,
    "start_time": "2022-06-14T05:02:56.892Z"
   },
   {
    "duration": 4,
    "start_time": "2022-06-14T05:04:25.468Z"
   },
   {
    "duration": 116211,
    "start_time": "2022-06-14T05:04:31.940Z"
   },
   {
    "duration": 6,
    "start_time": "2022-06-14T05:06:58.299Z"
   },
   {
    "duration": 4,
    "start_time": "2022-06-14T05:07:12.283Z"
   },
   {
    "duration": 116717,
    "start_time": "2022-06-14T05:07:17.403Z"
   },
   {
    "duration": 7,
    "start_time": "2022-06-14T05:09:14.123Z"
   },
   {
    "duration": 25,
    "start_time": "2022-06-14T05:09:14.131Z"
   },
   {
    "duration": 4,
    "start_time": "2022-06-14T05:10:45.812Z"
   },
   {
    "duration": 3,
    "start_time": "2022-06-14T05:11:22.765Z"
   },
   {
    "duration": 5,
    "start_time": "2022-06-14T05:23:01.940Z"
   },
   {
    "duration": 108,
    "start_time": "2022-06-14T05:23:05.819Z"
   },
   {
    "duration": 4,
    "start_time": "2022-06-14T05:24:14.243Z"
   },
   {
    "duration": 6241,
    "start_time": "2022-06-14T05:24:18.180Z"
   },
   {
    "duration": 8,
    "start_time": "2022-06-14T05:24:29.787Z"
   },
   {
    "duration": 8,
    "start_time": "2022-06-14T05:24:32.690Z"
   },
   {
    "duration": 17,
    "start_time": "2022-06-14T05:26:53.771Z"
   },
   {
    "duration": 12715,
    "start_time": "2022-06-14T05:26:56.777Z"
   },
   {
    "duration": 5,
    "start_time": "2022-06-14T05:27:09.495Z"
   },
   {
    "duration": 8,
    "start_time": "2022-06-14T05:27:09.502Z"
   },
   {
    "duration": 3,
    "start_time": "2022-06-14T05:27:41.561Z"
   },
   {
    "duration": 13076,
    "start_time": "2022-06-14T05:27:44.072Z"
   },
   {
    "duration": 5,
    "start_time": "2022-06-14T05:27:57.150Z"
   },
   {
    "duration": 4,
    "start_time": "2022-06-14T05:29:39.808Z"
   },
   {
    "duration": 5,
    "start_time": "2022-06-14T05:29:47.295Z"
   },
   {
    "duration": 4,
    "start_time": "2022-06-14T05:30:21.272Z"
   },
   {
    "duration": 3,
    "start_time": "2022-06-14T05:31:48.783Z"
   },
   {
    "duration": 115685,
    "start_time": "2022-06-14T05:31:52.006Z"
   },
   {
    "duration": 6,
    "start_time": "2022-06-14T05:33:47.693Z"
   },
   {
    "duration": 10,
    "start_time": "2022-06-14T05:34:05.245Z"
   },
   {
    "duration": 4,
    "start_time": "2022-06-14T05:34:51.108Z"
   },
   {
    "duration": 121976,
    "start_time": "2022-06-14T05:34:54.092Z"
   },
   {
    "duration": 5,
    "start_time": "2022-06-14T05:36:56.070Z"
   },
   {
    "duration": 3,
    "start_time": "2022-06-14T05:39:28.771Z"
   },
   {
    "duration": 120257,
    "start_time": "2022-06-14T05:39:30.058Z"
   },
   {
    "duration": 5,
    "start_time": "2022-06-14T05:41:30.317Z"
   },
   {
    "duration": 18,
    "start_time": "2022-06-14T05:41:30.327Z"
   },
   {
    "duration": 6,
    "start_time": "2022-06-14T05:42:18.393Z"
   },
   {
    "duration": 3,
    "start_time": "2022-06-14T05:45:04.033Z"
   },
   {
    "duration": 4,
    "start_time": "2022-06-14T05:45:24.744Z"
   },
   {
    "duration": 5,
    "start_time": "2022-06-14T05:45:38.617Z"
   },
   {
    "duration": 5,
    "start_time": "2022-06-14T05:45:53.432Z"
   },
   {
    "duration": 4,
    "start_time": "2022-06-14T05:46:21.287Z"
   },
   {
    "duration": 3,
    "start_time": "2022-06-14T05:51:58.582Z"
   },
   {
    "duration": 13,
    "start_time": "2022-06-14T05:52:07.918Z"
   },
   {
    "duration": 3,
    "start_time": "2022-06-14T05:52:19.382Z"
   },
   {
    "duration": 14,
    "start_time": "2022-06-14T05:52:22.126Z"
   },
   {
    "duration": 4,
    "start_time": "2022-06-14T05:52:30.277Z"
   },
   {
    "duration": 6,
    "start_time": "2022-06-14T05:52:32.902Z"
   },
   {
    "duration": 5,
    "start_time": "2022-06-14T05:52:42.517Z"
   },
   {
    "duration": 5,
    "start_time": "2022-06-14T05:52:44.614Z"
   },
   {
    "duration": 5,
    "start_time": "2022-06-14T05:55:51.421Z"
   },
   {
    "duration": 4,
    "start_time": "2022-06-14T05:57:48.717Z"
   },
   {
    "duration": 12,
    "start_time": "2022-06-14T05:58:36.628Z"
   },
   {
    "duration": 4,
    "start_time": "2022-06-14T05:59:15.275Z"
   },
   {
    "duration": 5,
    "start_time": "2022-06-14T05:59:17.707Z"
   },
   {
    "duration": 6,
    "start_time": "2022-06-14T05:59:50.149Z"
   },
   {
    "duration": 5,
    "start_time": "2022-06-14T05:59:52.848Z"
   },
   {
    "duration": 20,
    "start_time": "2022-06-14T06:00:20.524Z"
   },
   {
    "duration": 3,
    "start_time": "2022-06-14T06:01:15.374Z"
   },
   {
    "duration": 10,
    "start_time": "2022-06-14T06:01:18.733Z"
   },
   {
    "duration": 3,
    "start_time": "2022-06-14T06:01:27.004Z"
   },
   {
    "duration": 5,
    "start_time": "2022-06-14T06:01:29.499Z"
   },
   {
    "duration": 4,
    "start_time": "2022-06-14T06:03:33.613Z"
   },
   {
    "duration": 6,
    "start_time": "2022-06-14T06:03:36.644Z"
   },
   {
    "duration": 5,
    "start_time": "2022-06-14T06:04:15.455Z"
   },
   {
    "duration": 5,
    "start_time": "2022-06-14T06:04:47.156Z"
   },
   {
    "duration": 7,
    "start_time": "2022-06-14T06:04:50.148Z"
   },
   {
    "duration": 3,
    "start_time": "2022-06-14T06:05:12.381Z"
   },
   {
    "duration": 4,
    "start_time": "2022-06-14T06:05:15.082Z"
   },
   {
    "duration": 4,
    "start_time": "2022-06-14T06:05:30.974Z"
   },
   {
    "duration": 4,
    "start_time": "2022-06-14T06:09:04.190Z"
   },
   {
    "duration": 19,
    "start_time": "2022-06-14T06:09:25.727Z"
   },
   {
    "duration": 3,
    "start_time": "2022-06-14T06:09:57.070Z"
   },
   {
    "duration": 1948,
    "start_time": "2022-06-14T06:10:28.267Z"
   },
   {
    "duration": 2204,
    "start_time": "2022-06-14T06:10:30.217Z"
   },
   {
    "duration": 2,
    "start_time": "2022-06-14T06:10:32.423Z"
   },
   {
    "duration": 27,
    "start_time": "2022-06-14T06:10:32.426Z"
   },
   {
    "duration": 141515,
    "start_time": "2022-06-14T06:10:32.455Z"
   },
   {
    "duration": 6,
    "start_time": "2022-06-14T06:12:53.972Z"
   },
   {
    "duration": 8,
    "start_time": "2022-06-14T06:12:53.980Z"
   },
   {
    "duration": 6,
    "start_time": "2022-06-14T06:18:22.655Z"
   },
   {
    "duration": 5,
    "start_time": "2022-06-14T06:18:25.246Z"
   },
   {
    "duration": 4738,
    "start_time": "2022-06-14T06:19:45.021Z"
   },
   {
    "duration": 299,
    "start_time": "2022-06-14T06:20:32.764Z"
   },
   {
    "duration": 7,
    "start_time": "2022-06-14T06:22:11.455Z"
   },
   {
    "duration": 3,
    "start_time": "2022-06-14T06:24:42.245Z"
   },
   {
    "duration": 5,
    "start_time": "2022-06-14T06:28:00.692Z"
   },
   {
    "duration": 3,
    "start_time": "2022-06-14T06:28:03.140Z"
   },
   {
    "duration": 112,
    "start_time": "2022-06-14T06:29:23.347Z"
   },
   {
    "duration": 8390,
    "start_time": "2022-06-14T06:29:29.651Z"
   },
   {
    "duration": 8502,
    "start_time": "2022-06-14T06:34:53.418Z"
   },
   {
    "duration": 3,
    "start_time": "2022-06-14T06:38:38.672Z"
   },
   {
    "duration": 44,
    "start_time": "2022-06-14T06:39:31.018Z"
   },
   {
    "duration": 3,
    "start_time": "2022-06-14T06:40:16.425Z"
   },
   {
    "duration": 49,
    "start_time": "2022-06-14T08:38:55.314Z"
   },
   {
    "duration": 1176,
    "start_time": "2022-06-14T08:39:03.040Z"
   },
   {
    "duration": 1084,
    "start_time": "2022-06-14T08:39:57.800Z"
   },
   {
    "duration": 2588,
    "start_time": "2022-06-14T08:39:58.886Z"
   },
   {
    "duration": 4,
    "start_time": "2022-06-14T08:40:01.475Z"
   },
   {
    "duration": 128292,
    "start_time": "2022-06-14T08:40:01.480Z"
   },
   {
    "duration": 5,
    "start_time": "2022-06-14T08:42:09.775Z"
   },
   {
    "duration": 10,
    "start_time": "2022-06-14T08:42:09.781Z"
   },
   {
    "duration": 6,
    "start_time": "2022-06-14T08:42:09.792Z"
   },
   {
    "duration": 112,
    "start_time": "2022-06-14T08:42:09.799Z"
   },
   {
    "duration": 0,
    "start_time": "2022-06-14T08:42:09.912Z"
   },
   {
    "duration": 0,
    "start_time": "2022-06-14T08:42:09.913Z"
   },
   {
    "duration": 0,
    "start_time": "2022-06-14T08:42:09.914Z"
   },
   {
    "duration": 0,
    "start_time": "2022-06-14T08:42:09.915Z"
   },
   {
    "duration": 0,
    "start_time": "2022-06-14T08:42:09.916Z"
   },
   {
    "duration": 2,
    "start_time": "2022-06-14T08:47:32.976Z"
   },
   {
    "duration": 39,
    "start_time": "2022-06-14T08:47:36.177Z"
   },
   {
    "duration": 16,
    "start_time": "2022-06-14T08:47:38.888Z"
   },
   {
    "duration": 4,
    "start_time": "2022-06-14T08:47:41.312Z"
   },
   {
    "duration": 4032,
    "start_time": "2022-06-14T08:52:47.636Z"
   },
   {
    "duration": 2453,
    "start_time": "2022-06-14T08:52:51.670Z"
   },
   {
    "duration": 4,
    "start_time": "2022-06-14T08:52:54.124Z"
   },
   {
    "duration": 123964,
    "start_time": "2022-06-14T08:52:54.130Z"
   },
   {
    "duration": 5,
    "start_time": "2022-06-14T08:54:58.096Z"
   },
   {
    "duration": 16,
    "start_time": "2022-06-14T08:54:58.102Z"
   },
   {
    "duration": 7,
    "start_time": "2022-06-14T08:54:58.119Z"
   },
   {
    "duration": 46,
    "start_time": "2022-06-14T08:54:58.127Z"
   },
   {
    "duration": 15,
    "start_time": "2022-06-14T08:54:58.174Z"
   },
   {
    "duration": 5,
    "start_time": "2022-06-14T08:54:58.191Z"
   },
   {
    "duration": 43,
    "start_time": "2022-06-14T08:55:35.856Z"
   },
   {
    "duration": 4475,
    "start_time": "2022-06-14T08:55:43.608Z"
   },
   {
    "duration": 2531,
    "start_time": "2022-06-14T08:55:51.199Z"
   },
   {
    "duration": 4,
    "start_time": "2022-06-14T08:55:55.991Z"
   },
   {
    "duration": 122231,
    "start_time": "2022-06-14T08:56:00.023Z"
   },
   {
    "duration": 5,
    "start_time": "2022-06-14T08:58:02.256Z"
   },
   {
    "duration": 36,
    "start_time": "2022-06-14T08:58:02.262Z"
   },
   {
    "duration": 31,
    "start_time": "2022-06-14T08:58:02.300Z"
   },
   {
    "duration": 79,
    "start_time": "2022-06-14T08:58:02.333Z"
   },
   {
    "duration": 15,
    "start_time": "2022-06-14T08:58:02.414Z"
   },
   {
    "duration": 31,
    "start_time": "2022-06-14T08:58:02.430Z"
   },
   {
    "duration": 1189,
    "start_time": "2022-06-14T08:58:02.463Z"
   },
   {
    "duration": 134,
    "start_time": "2022-06-14T08:58:31.974Z"
   },
   {
    "duration": 5223,
    "start_time": "2022-06-14T08:58:39.534Z"
   },
   {
    "duration": 5321,
    "start_time": "2022-06-14T08:59:00.127Z"
   },
   {
    "duration": 376,
    "start_time": "2022-06-14T08:59:55.293Z"
   },
   {
    "duration": 2593,
    "start_time": "2022-06-14T09:01:21.021Z"
   },
   {
    "duration": 2189,
    "start_time": "2022-06-14T09:02:31.525Z"
   },
   {
    "duration": 1347,
    "start_time": "2022-06-14T09:58:48.422Z"
   },
   {
    "duration": 3,
    "start_time": "2022-06-14T10:01:27.284Z"
   },
   {
    "duration": 1804,
    "start_time": "2022-06-16T04:51:52.045Z"
   },
   {
    "duration": 2999,
    "start_time": "2022-06-16T04:52:11.422Z"
   },
   {
    "duration": 6,
    "start_time": "2022-06-16T04:52:17.060Z"
   },
   {
    "duration": 156256,
    "start_time": "2022-06-16T04:52:20.189Z"
   },
   {
    "duration": 6,
    "start_time": "2022-06-16T04:54:56.450Z"
   },
   {
    "duration": 17,
    "start_time": "2022-06-16T04:54:56.458Z"
   },
   {
    "duration": 20,
    "start_time": "2022-06-16T04:54:56.477Z"
   },
   {
    "duration": 62,
    "start_time": "2022-06-16T04:54:56.499Z"
   },
   {
    "duration": 37,
    "start_time": "2022-06-16T04:54:56.563Z"
   },
   {
    "duration": 25,
    "start_time": "2022-06-16T04:54:56.603Z"
   },
   {
    "duration": 39,
    "start_time": "2022-06-16T04:54:56.630Z"
   },
   {
    "duration": 203,
    "start_time": "2022-06-16T04:54:56.674Z"
   },
   {
    "duration": 7285,
    "start_time": "2022-06-16T04:54:56.880Z"
   },
   {
    "duration": 2716,
    "start_time": "2022-06-16T04:55:04.167Z"
   },
   {
    "duration": 2481,
    "start_time": "2022-06-16T04:55:06.885Z"
   },
   {
    "duration": 18375,
    "start_time": "2022-06-16T04:58:22.394Z"
   },
   {
    "duration": 223567,
    "start_time": "2022-06-16T04:59:03.361Z"
   },
   {
    "duration": 4718,
    "start_time": "2022-06-16T05:04:42.848Z"
   },
   {
    "duration": 1465,
    "start_time": "2022-06-16T05:04:47.568Z"
   },
   {
    "duration": 1350,
    "start_time": "2022-06-16T05:04:49.042Z"
   },
   {
    "duration": 611955,
    "start_time": "2022-06-16T05:12:41.499Z"
   }
  ],
  "kernelspec": {
   "display_name": "Python 3 (ipykernel)",
   "language": "python",
   "name": "python3"
  },
  "language_info": {
   "codemirror_mode": {
    "name": "ipython",
    "version": 3
   },
   "file_extension": ".py",
   "mimetype": "text/x-python",
   "name": "python",
   "nbconvert_exporter": "python",
   "pygments_lexer": "ipython3",
   "version": "3.9.7"
  },
  "toc": {
   "base_numbering": 1,
   "nav_menu": {},
   "number_sections": true,
   "sideBar": true,
   "skip_h1_title": true,
   "title_cell": "Содержание",
   "title_sidebar": "Contents",
   "toc_cell": true,
   "toc_position": {
    "height": "calc(100% - 180px)",
    "left": "10px",
    "top": "150px",
    "width": "302.391px"
   },
   "toc_section_display": true,
   "toc_window_display": false
  }
 },
 "nbformat": 4,
 "nbformat_minor": 2
}
