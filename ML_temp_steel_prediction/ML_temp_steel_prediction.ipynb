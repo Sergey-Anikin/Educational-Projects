{
 "cells": [
  {
   "cell_type": "markdown",
   "id": "efdcc3df",
   "metadata": {},
   "source": [
    "# Промышленность — задача проекта:\n",
    "\n",
    "Чтобы оптимизировать производственные расходы, металлургический комбинат решил уменьшить потребление электроэнергии на этапе обработки стали. Необходимо построить модель, которая предскажет температуру стали.\n",
    "\n",
    "### Описание этапа обработки\n",
    "\n",
    "Сталь обрабатывают в металлическом ковше вместимостью около 100 тонн. Чтобы ковш выдерживал высокие температуры, изнутри его облицовывают огнеупорным кирпичом. Расплавленную сталь заливают в ковш и подогревают до нужной температуры графитовыми электродами. Они установлены в крышке ковша. \n",
    "\n",
    "Из сплава выводится сера (десульфурация), добавлением примесей корректируется химический состав и отбираются пробы. Сталь легируют — изменяют её состав — подавая куски сплава из бункера для сыпучих материалов или проволоку через специальный трайб-аппарат.\n",
    "\n",
    "Перед тем как первый раз ввести легирующие добавки, измеряют температуру стали и производят её химический анализ. Потом температуру на несколько минут повышают, добавляют легирующие материалы и продувают сплав инертным газом. Затем его перемешивают и снова проводят измерения. Такой цикл повторяется до достижения целевого химического состава и оптимальной температуры плавки.\n",
    "\n",
    "Тогда расплавленная сталь отправляется на доводку металла или поступает в машину непрерывной разливки. Оттуда готовый продукт выходит в виде заготовок-слябов.\n",
    "\n",
    "### Описание данных\n",
    "\n",
    "Данные состоят из файлов, полученных из разных источников:\n",
    "\n",
    "- `data_arc.csv` — данные об электродах;\n",
    "- `data_bulk.csv` — данные о подаче сыпучих материалов (объём);\n",
    "- `data_bulk_time.csv` *—* данные о подаче сыпучих материалов (время);\n",
    "- `data_gas.csv` — данные о продувке сплава газом;\n",
    "- `data_temp.csv` — результаты измерения температуры;\n",
    "- `data_wire.csv` — данные о проволочных материалах (объём);\n",
    "- `data_wire_time.csv` — данные о проволочных материалах (время).\n",
    "\n",
    "Во всех файлах столбец `key` содержит номер партии. В файлах может быть несколько строк с одинаковым значением `key`: они соответствуют разным итерациям обработки.\n"
   ]
  },
  {
   "cell_type": "code",
   "execution_count": 1,
   "id": "bbc011c5",
   "metadata": {},
   "outputs": [],
   "source": [
    "import pandas as pd # импорт библиотеки pandas\n",
    "import numpy as np # импорт библиотеки numpy\n",
    "import matplotlib.pyplot as plt # импорт библиотеки matplotlib\n",
    "import seaborn as sns # импорт библиотеки seaborn\n",
    "import re # импорт библиотеки регулярных выражений\n",
    "from sklearn.model_selection import train_test_split, RandomizedSearchCV # импорт из библиотеки sklearn.model_selection алгоритма train_test_split, RandomizedSearchCV\n",
    "from sklearn.metrics import mean_absolute_error, make_scorer # импорт из библиотеки sklearn алгоритма make_scorer, mean_absolute_error\n",
    "from sklearn.dummy import DummyRegressor # импорт из библиотеки sklearn алгоритма DummyRegressor\n",
    "from lightgbm import LGBMRegressor # импорт из библиотеки lightgbm алгоритма LGBMRegressor\n",
    "from catboost import CatBoostRegressor # импорт из библиотеки catboost алгоритма CatBoostRegressor"
   ]
  },
  {
   "cell_type": "code",
   "execution_count": 2,
   "id": "3da6e4fb",
   "metadata": {},
   "outputs": [],
   "source": [
    "RANDOM_STATE = 80822"
   ]
  },
  {
   "cell_type": "markdown",
   "id": "29fc0a74",
   "metadata": {},
   "source": [
    "# Откроем файлы и изучим их."
   ]
  },
  {
   "cell_type": "code",
   "execution_count": 3,
   "id": "4c890207",
   "metadata": {},
   "outputs": [],
   "source": [
    "data_arc = pd.read_csv('***')\n",
    "data_bulk = pd.read_csv('***')\n",
    "data_bulk_time = pd.read_csv('***')\n",
    "data_gas = pd.read_csv('***')\n",
    "data_temp = pd.read_csv('***')\n",
    "data_wire = pd.read_csv('***')\n",
    "data_wire_time = pd.read_csv('***')"
   ]
  },
  {
   "cell_type": "code",
   "execution_count": 4,
   "id": "881d9309",
   "metadata": {},
   "outputs": [],
   "source": [
    "# напишем функцию по изучению данных\n",
    "def data_info(data):\n",
    "    return data.info(), \\\n",
    "           print(data.describe()), \\\n",
    "           display(data.head(7)), \\\n",
    "           print('Количество дубликатов:', data.duplicated().sum()), \\\n",
    "           print('Количество пропущенных партий в датасете:', len(set(range(1, 3242)) - set(data['key'])))"
   ]
  },
  {
   "cell_type": "markdown",
   "id": "a177251e",
   "metadata": {},
   "source": [
    "## Данные об электродах"
   ]
  },
  {
   "cell_type": "code",
   "execution_count": 5,
   "id": "5176c72c",
   "metadata": {},
   "outputs": [
    {
     "name": "stdout",
     "output_type": "stream",
     "text": [
      "<class 'pandas.core.frame.DataFrame'>\n",
      "RangeIndex: 14876 entries, 0 to 14875\n",
      "Data columns (total 5 columns):\n",
      " #   Column                Non-Null Count  Dtype  \n",
      "---  ------                --------------  -----  \n",
      " 0   key                   14876 non-null  int64  \n",
      " 1   Начало нагрева дугой  14876 non-null  object \n",
      " 2   Конец нагрева дугой   14876 non-null  object \n",
      " 3   Активная мощность     14876 non-null  float64\n",
      " 4   Реактивная мощность   14876 non-null  float64\n",
      "dtypes: float64(2), int64(1), object(2)\n",
      "memory usage: 581.2+ KB\n",
      "                key  Активная мощность  Реактивная мощность\n",
      "count  14876.000000       14876.000000         14876.000000\n",
      "mean    1615.220422           0.670441             0.452592\n",
      "std      934.571502           0.408159             5.878702\n",
      "min        1.000000           0.030002          -715.504924\n",
      "25%      806.000000           0.395297             0.290991\n",
      "50%     1617.000000           0.555517             0.415962\n",
      "75%     2429.000000           0.857034             0.637371\n",
      "max     3241.000000           3.731596             2.676388\n"
     ]
    },
    {
     "data": {
      "text/html": [
       "<div>\n",
       "<style scoped>\n",
       "    .dataframe tbody tr th:only-of-type {\n",
       "        vertical-align: middle;\n",
       "    }\n",
       "\n",
       "    .dataframe tbody tr th {\n",
       "        vertical-align: top;\n",
       "    }\n",
       "\n",
       "    .dataframe thead th {\n",
       "        text-align: right;\n",
       "    }\n",
       "</style>\n",
       "<table border=\"1\" class=\"dataframe\">\n",
       "  <thead>\n",
       "    <tr style=\"text-align: right;\">\n",
       "      <th></th>\n",
       "      <th>key</th>\n",
       "      <th>Начало нагрева дугой</th>\n",
       "      <th>Конец нагрева дугой</th>\n",
       "      <th>Активная мощность</th>\n",
       "      <th>Реактивная мощность</th>\n",
       "    </tr>\n",
       "  </thead>\n",
       "  <tbody>\n",
       "    <tr>\n",
       "      <th>0</th>\n",
       "      <td>1</td>\n",
       "      <td>2019-05-03 11:02:14</td>\n",
       "      <td>2019-05-03 11:06:02</td>\n",
       "      <td>0.976059</td>\n",
       "      <td>0.687084</td>\n",
       "    </tr>\n",
       "    <tr>\n",
       "      <th>1</th>\n",
       "      <td>1</td>\n",
       "      <td>2019-05-03 11:07:28</td>\n",
       "      <td>2019-05-03 11:10:33</td>\n",
       "      <td>0.805607</td>\n",
       "      <td>0.520285</td>\n",
       "    </tr>\n",
       "    <tr>\n",
       "      <th>2</th>\n",
       "      <td>1</td>\n",
       "      <td>2019-05-03 11:11:44</td>\n",
       "      <td>2019-05-03 11:14:36</td>\n",
       "      <td>0.744363</td>\n",
       "      <td>0.498805</td>\n",
       "    </tr>\n",
       "    <tr>\n",
       "      <th>3</th>\n",
       "      <td>1</td>\n",
       "      <td>2019-05-03 11:18:14</td>\n",
       "      <td>2019-05-03 11:24:19</td>\n",
       "      <td>1.659363</td>\n",
       "      <td>1.062669</td>\n",
       "    </tr>\n",
       "    <tr>\n",
       "      <th>4</th>\n",
       "      <td>1</td>\n",
       "      <td>2019-05-03 11:26:09</td>\n",
       "      <td>2019-05-03 11:28:37</td>\n",
       "      <td>0.692755</td>\n",
       "      <td>0.414397</td>\n",
       "    </tr>\n",
       "    <tr>\n",
       "      <th>5</th>\n",
       "      <td>2</td>\n",
       "      <td>2019-05-03 11:34:14</td>\n",
       "      <td>2019-05-03 11:36:31</td>\n",
       "      <td>0.438063</td>\n",
       "      <td>0.283043</td>\n",
       "    </tr>\n",
       "    <tr>\n",
       "      <th>6</th>\n",
       "      <td>2</td>\n",
       "      <td>2019-05-03 11:38:50</td>\n",
       "      <td>2019-05-03 11:44:28</td>\n",
       "      <td>1.296415</td>\n",
       "      <td>0.892914</td>\n",
       "    </tr>\n",
       "  </tbody>\n",
       "</table>\n",
       "</div>"
      ],
      "text/plain": [
       "   key Начало нагрева дугой  Конец нагрева дугой  Активная мощность  \\\n",
       "0    1  2019-05-03 11:02:14  2019-05-03 11:06:02           0.976059   \n",
       "1    1  2019-05-03 11:07:28  2019-05-03 11:10:33           0.805607   \n",
       "2    1  2019-05-03 11:11:44  2019-05-03 11:14:36           0.744363   \n",
       "3    1  2019-05-03 11:18:14  2019-05-03 11:24:19           1.659363   \n",
       "4    1  2019-05-03 11:26:09  2019-05-03 11:28:37           0.692755   \n",
       "5    2  2019-05-03 11:34:14  2019-05-03 11:36:31           0.438063   \n",
       "6    2  2019-05-03 11:38:50  2019-05-03 11:44:28           1.296415   \n",
       "\n",
       "   Реактивная мощность  \n",
       "0             0.687084  \n",
       "1             0.520285  \n",
       "2             0.498805  \n",
       "3             1.062669  \n",
       "4             0.414397  \n",
       "5             0.283043  \n",
       "6             0.892914  "
      ]
     },
     "metadata": {},
     "output_type": "display_data"
    },
    {
     "name": "stdout",
     "output_type": "stream",
     "text": [
      "Количество дубликатов: 0\n",
      "Количество пропущенных партий в датасете: 27\n"
     ]
    }
   ],
   "source": [
    "data_info(data_arc);"
   ]
  },
  {
   "cell_type": "code",
   "execution_count": 6,
   "id": "888a3ddb",
   "metadata": {},
   "outputs": [
    {
     "data": {
      "image/png": "[encoded data removed]",
      "text/plain": [
       "<Figure size 360x360 with 1 Axes>"
      ]
     },
     "metadata": {
      "needs_background": "light"
     },
     "output_type": "display_data"
    }
   ],
   "source": [
    "plt.figure(figsize=(5,5))\n",
    "sns.boxplot(data = data_arc['Активная мощность']);"
   ]
  },
  {
   "cell_type": "code",
   "execution_count": 7,
   "id": "e0613021",
   "metadata": {},
   "outputs": [
    {
     "data": {
      "image/png": "[encoded data removed]",
      "text/plain": [
       "<Figure size 360x360 with 1 Axes>"
      ]
     },
     "metadata": {
      "needs_background": "light"
     },
     "output_type": "display_data"
    }
   ],
   "source": [
    "plt.figure(figsize=(5,5))\n",
    "sns.boxplot(data = data_arc['Реактивная мощность'] );"
   ]
  },
  {
   "cell_type": "markdown",
   "id": "4ffe1f49",
   "metadata": {},
   "source": [
    "Пропусков в данных нет. Всего 3241 партия. Присутствуют выбросы в активной мощности. В реактивной мощности один сильно выделяющийся выброс. Реактивная мощность может быть отрицательной, если нагрузка имеет активно-ёмкостный характер. Но похоже, что здесь ошибка, он один и характер нагрузки везде одинаковый. Партию нужно будет удалить.\n",
    "\n",
    " 27 значений партий нет в таблице. Странно, что нет данных об этих партиях."
   ]
  },
  {
   "cell_type": "markdown",
   "id": "b74178ed",
   "metadata": {},
   "source": [
    "## Данные о подаче сыпучих материалов (объём)"
   ]
  },
  {
   "cell_type": "code",
   "execution_count": 8,
   "id": "d140b7c3",
   "metadata": {},
   "outputs": [
    {
     "name": "stdout",
     "output_type": "stream",
     "text": [
      "<class 'pandas.core.frame.DataFrame'>\n",
      "RangeIndex: 3129 entries, 0 to 3128\n",
      "Data columns (total 16 columns):\n",
      " #   Column   Non-Null Count  Dtype  \n",
      "---  ------   --------------  -----  \n",
      " 0   key      3129 non-null   int64  \n",
      " 1   Bulk 1   252 non-null    float64\n",
      " 2   Bulk 2   22 non-null     float64\n",
      " 3   Bulk 3   1298 non-null   float64\n",
      " 4   Bulk 4   1014 non-null   float64\n",
      " 5   Bulk 5   77 non-null     float64\n",
      " 6   Bulk 6   576 non-null    float64\n",
      " 7   Bulk 7   25 non-null     float64\n",
      " 8   Bulk 8   1 non-null      float64\n",
      " 9   Bulk 9   19 non-null     float64\n",
      " 10  Bulk 10  176 non-null    float64\n",
      " 11  Bulk 11  177 non-null    float64\n",
      " 12  Bulk 12  2450 non-null   float64\n",
      " 13  Bulk 13  18 non-null     float64\n",
      " 14  Bulk 14  2806 non-null   float64\n",
      " 15  Bulk 15  2248 non-null   float64\n",
      "dtypes: float64(15), int64(1)\n",
      "memory usage: 391.2 KB\n",
      "               key      Bulk 1      Bulk 2       Bulk 3       Bulk 4  \\\n",
      "count  3129.000000  252.000000   22.000000  1298.000000  1014.000000   \n",
      "mean   1624.383509   39.242063  253.045455   113.879045   104.394477   \n",
      "std     933.337642   18.277654   21.180578    75.483494    48.184126   \n",
      "min       1.000000   10.000000  228.000000     6.000000    12.000000   \n",
      "25%     816.000000   27.000000  242.000000    58.000000    72.000000   \n",
      "50%    1622.000000   31.000000  251.500000    97.500000   102.000000   \n",
      "75%    2431.000000   46.000000  257.750000   152.000000   133.000000   \n",
      "max    3241.000000  185.000000  325.000000   454.000000   281.000000   \n",
      "\n",
      "           Bulk 5      Bulk 6      Bulk 7  Bulk 8      Bulk 9     Bulk 10  \\\n",
      "count   77.000000  576.000000   25.000000     1.0   19.000000  176.000000   \n",
      "mean   107.025974  118.925347  305.600000    49.0   76.315789   83.284091   \n",
      "std     81.790646   72.057776  191.022904     NaN   21.720581   26.060347   \n",
      "min     11.000000   17.000000   47.000000    49.0   63.000000   24.000000   \n",
      "25%     70.000000   69.750000  155.000000    49.0   66.000000   64.000000   \n",
      "50%     86.000000  100.000000  298.000000    49.0   68.000000   86.500000   \n",
      "75%    132.000000  157.000000  406.000000    49.0   70.500000  102.000000   \n",
      "max    603.000000  503.000000  772.000000    49.0  147.000000  159.000000   \n",
      "\n",
      "          Bulk 11      Bulk 12     Bulk 13      Bulk 14      Bulk 15  \n",
      "count  177.000000  2450.000000   18.000000  2806.000000  2248.000000  \n",
      "mean    76.819209   260.471020  181.111111   170.284747   160.513345  \n",
      "std     59.655365   120.649269   46.088009    65.868652    51.765319  \n",
      "min      8.000000    53.000000  151.000000    16.000000     1.000000  \n",
      "25%     25.000000   204.000000  153.250000   119.000000   105.000000  \n",
      "50%     64.000000   208.000000  155.500000   151.000000   160.000000  \n",
      "75%    106.000000   316.000000  203.500000   205.750000   205.000000  \n",
      "max    313.000000  1849.000000  305.000000   636.000000   405.000000  \n"
     ]
    },
    {
     "data": {
      "text/html": [
       "<div>\n",
       "<style scoped>\n",
       "    .dataframe tbody tr th:only-of-type {\n",
       "        vertical-align: middle;\n",
       "    }\n",
       "\n",
       "    .dataframe tbody tr th {\n",
       "        vertical-align: top;\n",
       "    }\n",
       "\n",
       "    .dataframe thead th {\n",
       "        text-align: right;\n",
       "    }\n",
       "</style>\n",
       "<table border=\"1\" class=\"dataframe\">\n",
       "  <thead>\n",
       "    <tr style=\"text-align: right;\">\n",
       "      <th></th>\n",
       "      <th>key</th>\n",
       "      <th>Bulk 1</th>\n",
       "      <th>Bulk 2</th>\n",
       "      <th>Bulk 3</th>\n",
       "      <th>Bulk 4</th>\n",
       "      <th>Bulk 5</th>\n",
       "      <th>Bulk 6</th>\n",
       "      <th>Bulk 7</th>\n",
       "      <th>Bulk 8</th>\n",
       "      <th>Bulk 9</th>\n",
       "      <th>Bulk 10</th>\n",
       "      <th>Bulk 11</th>\n",
       "      <th>Bulk 12</th>\n",
       "      <th>Bulk 13</th>\n",
       "      <th>Bulk 14</th>\n",
       "      <th>Bulk 15</th>\n",
       "    </tr>\n",
       "  </thead>\n",
       "  <tbody>\n",
       "    <tr>\n",
       "      <th>0</th>\n",
       "      <td>1</td>\n",
       "      <td>NaN</td>\n",
       "      <td>NaN</td>\n",
       "      <td>NaN</td>\n",
       "      <td>43.0</td>\n",
       "      <td>NaN</td>\n",
       "      <td>NaN</td>\n",
       "      <td>NaN</td>\n",
       "      <td>NaN</td>\n",
       "      <td>NaN</td>\n",
       "      <td>NaN</td>\n",
       "      <td>NaN</td>\n",
       "      <td>206.0</td>\n",
       "      <td>NaN</td>\n",
       "      <td>150.0</td>\n",
       "      <td>154.0</td>\n",
       "    </tr>\n",
       "    <tr>\n",
       "      <th>1</th>\n",
       "      <td>2</td>\n",
       "      <td>NaN</td>\n",
       "      <td>NaN</td>\n",
       "      <td>NaN</td>\n",
       "      <td>73.0</td>\n",
       "      <td>NaN</td>\n",
       "      <td>NaN</td>\n",
       "      <td>NaN</td>\n",
       "      <td>NaN</td>\n",
       "      <td>NaN</td>\n",
       "      <td>NaN</td>\n",
       "      <td>NaN</td>\n",
       "      <td>206.0</td>\n",
       "      <td>NaN</td>\n",
       "      <td>149.0</td>\n",
       "      <td>154.0</td>\n",
       "    </tr>\n",
       "    <tr>\n",
       "      <th>2</th>\n",
       "      <td>3</td>\n",
       "      <td>NaN</td>\n",
       "      <td>NaN</td>\n",
       "      <td>NaN</td>\n",
       "      <td>34.0</td>\n",
       "      <td>NaN</td>\n",
       "      <td>NaN</td>\n",
       "      <td>NaN</td>\n",
       "      <td>NaN</td>\n",
       "      <td>NaN</td>\n",
       "      <td>NaN</td>\n",
       "      <td>NaN</td>\n",
       "      <td>205.0</td>\n",
       "      <td>NaN</td>\n",
       "      <td>152.0</td>\n",
       "      <td>153.0</td>\n",
       "    </tr>\n",
       "    <tr>\n",
       "      <th>3</th>\n",
       "      <td>4</td>\n",
       "      <td>NaN</td>\n",
       "      <td>NaN</td>\n",
       "      <td>NaN</td>\n",
       "      <td>81.0</td>\n",
       "      <td>NaN</td>\n",
       "      <td>NaN</td>\n",
       "      <td>NaN</td>\n",
       "      <td>NaN</td>\n",
       "      <td>NaN</td>\n",
       "      <td>NaN</td>\n",
       "      <td>NaN</td>\n",
       "      <td>207.0</td>\n",
       "      <td>NaN</td>\n",
       "      <td>153.0</td>\n",
       "      <td>154.0</td>\n",
       "    </tr>\n",
       "    <tr>\n",
       "      <th>4</th>\n",
       "      <td>5</td>\n",
       "      <td>NaN</td>\n",
       "      <td>NaN</td>\n",
       "      <td>NaN</td>\n",
       "      <td>78.0</td>\n",
       "      <td>NaN</td>\n",
       "      <td>NaN</td>\n",
       "      <td>NaN</td>\n",
       "      <td>NaN</td>\n",
       "      <td>NaN</td>\n",
       "      <td>NaN</td>\n",
       "      <td>NaN</td>\n",
       "      <td>203.0</td>\n",
       "      <td>NaN</td>\n",
       "      <td>151.0</td>\n",
       "      <td>152.0</td>\n",
       "    </tr>\n",
       "    <tr>\n",
       "      <th>5</th>\n",
       "      <td>6</td>\n",
       "      <td>NaN</td>\n",
       "      <td>NaN</td>\n",
       "      <td>NaN</td>\n",
       "      <td>117.0</td>\n",
       "      <td>NaN</td>\n",
       "      <td>NaN</td>\n",
       "      <td>NaN</td>\n",
       "      <td>NaN</td>\n",
       "      <td>NaN</td>\n",
       "      <td>NaN</td>\n",
       "      <td>NaN</td>\n",
       "      <td>204.0</td>\n",
       "      <td>NaN</td>\n",
       "      <td>201.0</td>\n",
       "      <td>154.0</td>\n",
       "    </tr>\n",
       "    <tr>\n",
       "      <th>6</th>\n",
       "      <td>7</td>\n",
       "      <td>NaN</td>\n",
       "      <td>NaN</td>\n",
       "      <td>NaN</td>\n",
       "      <td>117.0</td>\n",
       "      <td>NaN</td>\n",
       "      <td>NaN</td>\n",
       "      <td>NaN</td>\n",
       "      <td>NaN</td>\n",
       "      <td>NaN</td>\n",
       "      <td>NaN</td>\n",
       "      <td>NaN</td>\n",
       "      <td>204.0</td>\n",
       "      <td>NaN</td>\n",
       "      <td>152.0</td>\n",
       "      <td>154.0</td>\n",
       "    </tr>\n",
       "  </tbody>\n",
       "</table>\n",
       "</div>"
      ],
      "text/plain": [
       "   key  Bulk 1  Bulk 2  Bulk 3  Bulk 4  Bulk 5  Bulk 6  Bulk 7  Bulk 8  \\\n",
       "0    1     NaN     NaN     NaN    43.0     NaN     NaN     NaN     NaN   \n",
       "1    2     NaN     NaN     NaN    73.0     NaN     NaN     NaN     NaN   \n",
       "2    3     NaN     NaN     NaN    34.0     NaN     NaN     NaN     NaN   \n",
       "3    4     NaN     NaN     NaN    81.0     NaN     NaN     NaN     NaN   \n",
       "4    5     NaN     NaN     NaN    78.0     NaN     NaN     NaN     NaN   \n",
       "5    6     NaN     NaN     NaN   117.0     NaN     NaN     NaN     NaN   \n",
       "6    7     NaN     NaN     NaN   117.0     NaN     NaN     NaN     NaN   \n",
       "\n",
       "   Bulk 9  Bulk 10  Bulk 11  Bulk 12  Bulk 13  Bulk 14  Bulk 15  \n",
       "0     NaN      NaN      NaN    206.0      NaN    150.0    154.0  \n",
       "1     NaN      NaN      NaN    206.0      NaN    149.0    154.0  \n",
       "2     NaN      NaN      NaN    205.0      NaN    152.0    153.0  \n",
       "3     NaN      NaN      NaN    207.0      NaN    153.0    154.0  \n",
       "4     NaN      NaN      NaN    203.0      NaN    151.0    152.0  \n",
       "5     NaN      NaN      NaN    204.0      NaN    201.0    154.0  \n",
       "6     NaN      NaN      NaN    204.0      NaN    152.0    154.0  "
      ]
     },
     "metadata": {},
     "output_type": "display_data"
    },
    {
     "name": "stdout",
     "output_type": "stream",
     "text": [
      "Количество дубликатов: 0\n",
      "Количество пропущенных партий в датасете: 112\n"
     ]
    }
   ],
   "source": [
    "data_info(data_bulk);"
   ]
  },
  {
   "cell_type": "code",
   "execution_count": 9,
   "id": "78598aec",
   "metadata": {},
   "outputs": [
    {
     "data": {
      "image/png": "[encoded data removed]",
      "text/plain": [
       "<Figure size 1080x504 with 1 Axes>"
      ]
     },
     "metadata": {
      "needs_background": "light"
     },
     "output_type": "display_data"
    }
   ],
   "source": [
    "plt.figure(figsize=(15,7))\n",
    "sns.boxplot(data = data_bulk.drop('key', axis=1));"
   ]
  },
  {
   "cell_type": "markdown",
   "id": "9f6110a4",
   "metadata": {},
   "source": [
    "Всего используется 15 сыпучих материалов. Много пропусков, значит в данной партии этот материал не добавляли. Логично заполнить пропуски нулями. Материал №8 использовался всего 1 раз. Почти везде есть выбросы, Особенно заметные у материала №12.\n",
    "\n",
    "112 значений партий нет в таблице."
   ]
  },
  {
   "cell_type": "markdown",
   "id": "66c26c93",
   "metadata": {},
   "source": [
    "## Данные о подаче сыпучих материалов (время)"
   ]
  },
  {
   "cell_type": "code",
   "execution_count": 10,
   "id": "46b7b446",
   "metadata": {},
   "outputs": [
    {
     "name": "stdout",
     "output_type": "stream",
     "text": [
      "<class 'pandas.core.frame.DataFrame'>\n",
      "RangeIndex: 3129 entries, 0 to 3128\n",
      "Data columns (total 16 columns):\n",
      " #   Column   Non-Null Count  Dtype \n",
      "---  ------   --------------  ----- \n",
      " 0   key      3129 non-null   int64 \n",
      " 1   Bulk 1   252 non-null    object\n",
      " 2   Bulk 2   22 non-null     object\n",
      " 3   Bulk 3   1298 non-null   object\n",
      " 4   Bulk 4   1014 non-null   object\n",
      " 5   Bulk 5   77 non-null     object\n",
      " 6   Bulk 6   576 non-null    object\n",
      " 7   Bulk 7   25 non-null     object\n",
      " 8   Bulk 8   1 non-null      object\n",
      " 9   Bulk 9   19 non-null     object\n",
      " 10  Bulk 10  176 non-null    object\n",
      " 11  Bulk 11  177 non-null    object\n",
      " 12  Bulk 12  2450 non-null   object\n",
      " 13  Bulk 13  18 non-null     object\n",
      " 14  Bulk 14  2806 non-null   object\n",
      " 15  Bulk 15  2248 non-null   object\n",
      "dtypes: int64(1), object(15)\n",
      "memory usage: 391.2+ KB\n",
      "               key\n",
      "count  3129.000000\n",
      "mean   1624.383509\n",
      "std     933.337642\n",
      "min       1.000000\n",
      "25%     816.000000\n",
      "50%    1622.000000\n",
      "75%    2431.000000\n",
      "max    3241.000000\n"
     ]
    },
    {
     "data": {
      "text/html": [
       "<div>\n",
       "<style scoped>\n",
       "    .dataframe tbody tr th:only-of-type {\n",
       "        vertical-align: middle;\n",
       "    }\n",
       "\n",
       "    .dataframe tbody tr th {\n",
       "        vertical-align: top;\n",
       "    }\n",
       "\n",
       "    .dataframe thead th {\n",
       "        text-align: right;\n",
       "    }\n",
       "</style>\n",
       "<table border=\"1\" class=\"dataframe\">\n",
       "  <thead>\n",
       "    <tr style=\"text-align: right;\">\n",
       "      <th></th>\n",
       "      <th>key</th>\n",
       "      <th>Bulk 1</th>\n",
       "      <th>Bulk 2</th>\n",
       "      <th>Bulk 3</th>\n",
       "      <th>Bulk 4</th>\n",
       "      <th>Bulk 5</th>\n",
       "      <th>Bulk 6</th>\n",
       "      <th>Bulk 7</th>\n",
       "      <th>Bulk 8</th>\n",
       "      <th>Bulk 9</th>\n",
       "      <th>Bulk 10</th>\n",
       "      <th>Bulk 11</th>\n",
       "      <th>Bulk 12</th>\n",
       "      <th>Bulk 13</th>\n",
       "      <th>Bulk 14</th>\n",
       "      <th>Bulk 15</th>\n",
       "    </tr>\n",
       "  </thead>\n",
       "  <tbody>\n",
       "    <tr>\n",
       "      <th>0</th>\n",
       "      <td>1</td>\n",
       "      <td>NaN</td>\n",
       "      <td>NaN</td>\n",
       "      <td>NaN</td>\n",
       "      <td>2019-05-03 11:21:30</td>\n",
       "      <td>NaN</td>\n",
       "      <td>NaN</td>\n",
       "      <td>NaN</td>\n",
       "      <td>NaN</td>\n",
       "      <td>NaN</td>\n",
       "      <td>NaN</td>\n",
       "      <td>NaN</td>\n",
       "      <td>2019-05-03 11:03:52</td>\n",
       "      <td>NaN</td>\n",
       "      <td>2019-05-03 11:03:52</td>\n",
       "      <td>2019-05-03 11:03:52</td>\n",
       "    </tr>\n",
       "    <tr>\n",
       "      <th>1</th>\n",
       "      <td>2</td>\n",
       "      <td>NaN</td>\n",
       "      <td>NaN</td>\n",
       "      <td>NaN</td>\n",
       "      <td>2019-05-03 11:46:38</td>\n",
       "      <td>NaN</td>\n",
       "      <td>NaN</td>\n",
       "      <td>NaN</td>\n",
       "      <td>NaN</td>\n",
       "      <td>NaN</td>\n",
       "      <td>NaN</td>\n",
       "      <td>NaN</td>\n",
       "      <td>2019-05-03 11:40:20</td>\n",
       "      <td>NaN</td>\n",
       "      <td>2019-05-03 11:40:20</td>\n",
       "      <td>2019-05-03 11:40:20</td>\n",
       "    </tr>\n",
       "    <tr>\n",
       "      <th>2</th>\n",
       "      <td>3</td>\n",
       "      <td>NaN</td>\n",
       "      <td>NaN</td>\n",
       "      <td>NaN</td>\n",
       "      <td>2019-05-03 12:31:06</td>\n",
       "      <td>NaN</td>\n",
       "      <td>NaN</td>\n",
       "      <td>NaN</td>\n",
       "      <td>NaN</td>\n",
       "      <td>NaN</td>\n",
       "      <td>NaN</td>\n",
       "      <td>NaN</td>\n",
       "      <td>2019-05-03 12:09:40</td>\n",
       "      <td>NaN</td>\n",
       "      <td>2019-05-03 12:09:40</td>\n",
       "      <td>2019-05-03 12:09:40</td>\n",
       "    </tr>\n",
       "    <tr>\n",
       "      <th>3</th>\n",
       "      <td>4</td>\n",
       "      <td>NaN</td>\n",
       "      <td>NaN</td>\n",
       "      <td>NaN</td>\n",
       "      <td>2019-05-03 12:48:43</td>\n",
       "      <td>NaN</td>\n",
       "      <td>NaN</td>\n",
       "      <td>NaN</td>\n",
       "      <td>NaN</td>\n",
       "      <td>NaN</td>\n",
       "      <td>NaN</td>\n",
       "      <td>NaN</td>\n",
       "      <td>2019-05-03 12:41:24</td>\n",
       "      <td>NaN</td>\n",
       "      <td>2019-05-03 12:41:24</td>\n",
       "      <td>2019-05-03 12:41:24</td>\n",
       "    </tr>\n",
       "    <tr>\n",
       "      <th>4</th>\n",
       "      <td>5</td>\n",
       "      <td>NaN</td>\n",
       "      <td>NaN</td>\n",
       "      <td>NaN</td>\n",
       "      <td>2019-05-03 13:18:50</td>\n",
       "      <td>NaN</td>\n",
       "      <td>NaN</td>\n",
       "      <td>NaN</td>\n",
       "      <td>NaN</td>\n",
       "      <td>NaN</td>\n",
       "      <td>NaN</td>\n",
       "      <td>NaN</td>\n",
       "      <td>2019-05-03 13:12:56</td>\n",
       "      <td>NaN</td>\n",
       "      <td>2019-05-03 13:12:56</td>\n",
       "      <td>2019-05-03 13:12:56</td>\n",
       "    </tr>\n",
       "    <tr>\n",
       "      <th>5</th>\n",
       "      <td>6</td>\n",
       "      <td>NaN</td>\n",
       "      <td>NaN</td>\n",
       "      <td>NaN</td>\n",
       "      <td>2019-05-03 13:59:24</td>\n",
       "      <td>NaN</td>\n",
       "      <td>NaN</td>\n",
       "      <td>NaN</td>\n",
       "      <td>NaN</td>\n",
       "      <td>NaN</td>\n",
       "      <td>NaN</td>\n",
       "      <td>NaN</td>\n",
       "      <td>2019-05-03 13:53:27</td>\n",
       "      <td>NaN</td>\n",
       "      <td>2019-05-03 13:53:27</td>\n",
       "      <td>2019-05-03 13:53:27</td>\n",
       "    </tr>\n",
       "    <tr>\n",
       "      <th>6</th>\n",
       "      <td>7</td>\n",
       "      <td>NaN</td>\n",
       "      <td>NaN</td>\n",
       "      <td>NaN</td>\n",
       "      <td>2019-05-03 14:29:14</td>\n",
       "      <td>NaN</td>\n",
       "      <td>NaN</td>\n",
       "      <td>NaN</td>\n",
       "      <td>NaN</td>\n",
       "      <td>NaN</td>\n",
       "      <td>NaN</td>\n",
       "      <td>NaN</td>\n",
       "      <td>2019-05-03 14:22:19</td>\n",
       "      <td>NaN</td>\n",
       "      <td>2019-05-03 14:22:19</td>\n",
       "      <td>2019-05-03 14:22:19</td>\n",
       "    </tr>\n",
       "  </tbody>\n",
       "</table>\n",
       "</div>"
      ],
      "text/plain": [
       "   key Bulk 1 Bulk 2 Bulk 3               Bulk 4 Bulk 5 Bulk 6 Bulk 7 Bulk 8  \\\n",
       "0    1    NaN    NaN    NaN  2019-05-03 11:21:30    NaN    NaN    NaN    NaN   \n",
       "1    2    NaN    NaN    NaN  2019-05-03 11:46:38    NaN    NaN    NaN    NaN   \n",
       "2    3    NaN    NaN    NaN  2019-05-03 12:31:06    NaN    NaN    NaN    NaN   \n",
       "3    4    NaN    NaN    NaN  2019-05-03 12:48:43    NaN    NaN    NaN    NaN   \n",
       "4    5    NaN    NaN    NaN  2019-05-03 13:18:50    NaN    NaN    NaN    NaN   \n",
       "5    6    NaN    NaN    NaN  2019-05-03 13:59:24    NaN    NaN    NaN    NaN   \n",
       "6    7    NaN    NaN    NaN  2019-05-03 14:29:14    NaN    NaN    NaN    NaN   \n",
       "\n",
       "  Bulk 9 Bulk 10 Bulk 11              Bulk 12 Bulk 13              Bulk 14  \\\n",
       "0    NaN     NaN     NaN  2019-05-03 11:03:52     NaN  2019-05-03 11:03:52   \n",
       "1    NaN     NaN     NaN  2019-05-03 11:40:20     NaN  2019-05-03 11:40:20   \n",
       "2    NaN     NaN     NaN  2019-05-03 12:09:40     NaN  2019-05-03 12:09:40   \n",
       "3    NaN     NaN     NaN  2019-05-03 12:41:24     NaN  2019-05-03 12:41:24   \n",
       "4    NaN     NaN     NaN  2019-05-03 13:12:56     NaN  2019-05-03 13:12:56   \n",
       "5    NaN     NaN     NaN  2019-05-03 13:53:27     NaN  2019-05-03 13:53:27   \n",
       "6    NaN     NaN     NaN  2019-05-03 14:22:19     NaN  2019-05-03 14:22:19   \n",
       "\n",
       "               Bulk 15  \n",
       "0  2019-05-03 11:03:52  \n",
       "1  2019-05-03 11:40:20  \n",
       "2  2019-05-03 12:09:40  \n",
       "3  2019-05-03 12:41:24  \n",
       "4  2019-05-03 13:12:56  \n",
       "5  2019-05-03 13:53:27  \n",
       "6  2019-05-03 14:22:19  "
      ]
     },
     "metadata": {},
     "output_type": "display_data"
    },
    {
     "name": "stdout",
     "output_type": "stream",
     "text": [
      "Количество дубликатов: 0\n",
      "Количество пропущенных партий в датасете: 112\n"
     ]
    }
   ],
   "source": [
    "data_info(data_bulk_time);"
   ]
  },
  {
   "cell_type": "markdown",
   "id": "df91b812",
   "metadata": {},
   "source": [
    "Аналог предыдущей таблицы. Время, когда были добавлены материалы."
   ]
  },
  {
   "cell_type": "markdown",
   "id": "cc85b253",
   "metadata": {},
   "source": [
    "## Данные о продувке сплава газом"
   ]
  },
  {
   "cell_type": "code",
   "execution_count": 11,
   "id": "597b840f",
   "metadata": {},
   "outputs": [
    {
     "name": "stdout",
     "output_type": "stream",
     "text": [
      "<class 'pandas.core.frame.DataFrame'>\n",
      "RangeIndex: 3239 entries, 0 to 3238\n",
      "Data columns (total 2 columns):\n",
      " #   Column  Non-Null Count  Dtype  \n",
      "---  ------  --------------  -----  \n",
      " 0   key     3239 non-null   int64  \n",
      " 1   Газ 1   3239 non-null   float64\n",
      "dtypes: float64(1), int64(1)\n",
      "memory usage: 50.7 KB\n",
      "               key        Газ 1\n",
      "count  3239.000000  3239.000000\n",
      "mean   1621.861377    11.002062\n",
      "std     935.386334     6.220327\n",
      "min       1.000000     0.008399\n",
      "25%     812.500000     7.043089\n",
      "50%    1622.000000     9.836267\n",
      "75%    2431.500000    13.769915\n",
      "max    3241.000000    77.995040\n"
     ]
    },
    {
     "data": {
      "text/html": [
       "<div>\n",
       "<style scoped>\n",
       "    .dataframe tbody tr th:only-of-type {\n",
       "        vertical-align: middle;\n",
       "    }\n",
       "\n",
       "    .dataframe tbody tr th {\n",
       "        vertical-align: top;\n",
       "    }\n",
       "\n",
       "    .dataframe thead th {\n",
       "        text-align: right;\n",
       "    }\n",
       "</style>\n",
       "<table border=\"1\" class=\"dataframe\">\n",
       "  <thead>\n",
       "    <tr style=\"text-align: right;\">\n",
       "      <th></th>\n",
       "      <th>key</th>\n",
       "      <th>Газ 1</th>\n",
       "    </tr>\n",
       "  </thead>\n",
       "  <tbody>\n",
       "    <tr>\n",
       "      <th>0</th>\n",
       "      <td>1</td>\n",
       "      <td>29.749986</td>\n",
       "    </tr>\n",
       "    <tr>\n",
       "      <th>1</th>\n",
       "      <td>2</td>\n",
       "      <td>12.555561</td>\n",
       "    </tr>\n",
       "    <tr>\n",
       "      <th>2</th>\n",
       "      <td>3</td>\n",
       "      <td>28.554793</td>\n",
       "    </tr>\n",
       "    <tr>\n",
       "      <th>3</th>\n",
       "      <td>4</td>\n",
       "      <td>18.841219</td>\n",
       "    </tr>\n",
       "    <tr>\n",
       "      <th>4</th>\n",
       "      <td>5</td>\n",
       "      <td>5.413692</td>\n",
       "    </tr>\n",
       "    <tr>\n",
       "      <th>5</th>\n",
       "      <td>6</td>\n",
       "      <td>11.273392</td>\n",
       "    </tr>\n",
       "    <tr>\n",
       "      <th>6</th>\n",
       "      <td>7</td>\n",
       "      <td>9.836267</td>\n",
       "    </tr>\n",
       "  </tbody>\n",
       "</table>\n",
       "</div>"
      ],
      "text/plain": [
       "   key      Газ 1\n",
       "0    1  29.749986\n",
       "1    2  12.555561\n",
       "2    3  28.554793\n",
       "3    4  18.841219\n",
       "4    5   5.413692\n",
       "5    6  11.273392\n",
       "6    7   9.836267"
      ]
     },
     "metadata": {},
     "output_type": "display_data"
    },
    {
     "name": "stdout",
     "output_type": "stream",
     "text": [
      "Количество дубликатов: 0\n",
      "Количество пропущенных партий в датасете: 2\n"
     ]
    }
   ],
   "source": [
    "data_info(data_gas);"
   ]
  },
  {
   "cell_type": "code",
   "execution_count": 12,
   "id": "b93da736",
   "metadata": {},
   "outputs": [
    {
     "data": {
      "image/png": "[encoded data removed]",
      "text/plain": [
       "<Figure size 360x360 with 1 Axes>"
      ]
     },
     "metadata": {
      "needs_background": "light"
     },
     "output_type": "display_data"
    }
   ],
   "source": [
    "plt.figure(figsize=(5,5))\n",
    "sns.boxplot(data = data_gas['Газ 1']);"
   ]
  },
  {
   "cell_type": "markdown",
   "id": "b038b763",
   "metadata": {},
   "source": [
    "Пропусков нет, присутствуют выбросы.\n",
    "\n",
    "2 значений партий нет в таблице."
   ]
  },
  {
   "cell_type": "markdown",
   "id": "d1649adf",
   "metadata": {},
   "source": [
    "## Результаты измерения температуры"
   ]
  },
  {
   "cell_type": "code",
   "execution_count": 13,
   "id": "5862021f",
   "metadata": {},
   "outputs": [
    {
     "name": "stdout",
     "output_type": "stream",
     "text": [
      "<class 'pandas.core.frame.DataFrame'>\n",
      "RangeIndex: 15907 entries, 0 to 15906\n",
      "Data columns (total 3 columns):\n",
      " #   Column        Non-Null Count  Dtype  \n",
      "---  ------        --------------  -----  \n",
      " 0   key           15907 non-null  int64  \n",
      " 1   Время замера  15907 non-null  object \n",
      " 2   Температура   13006 non-null  float64\n",
      "dtypes: float64(1), int64(1), object(1)\n",
      "memory usage: 372.9+ KB\n",
      "                key   Температура\n",
      "count  15907.000000  13006.000000\n",
      "mean    1607.880870   1591.840920\n",
      "std      942.212073     21.375851\n",
      "min        1.000000   1191.000000\n",
      "25%      790.000000   1581.000000\n",
      "50%     1618.000000   1591.000000\n",
      "75%     2427.000000   1601.000000\n",
      "max     3241.000000   1705.000000\n"
     ]
    },
    {
     "data": {
      "text/html": [
       "<div>\n",
       "<style scoped>\n",
       "    .dataframe tbody tr th:only-of-type {\n",
       "        vertical-align: middle;\n",
       "    }\n",
       "\n",
       "    .dataframe tbody tr th {\n",
       "        vertical-align: top;\n",
       "    }\n",
       "\n",
       "    .dataframe thead th {\n",
       "        text-align: right;\n",
       "    }\n",
       "</style>\n",
       "<table border=\"1\" class=\"dataframe\">\n",
       "  <thead>\n",
       "    <tr style=\"text-align: right;\">\n",
       "      <th></th>\n",
       "      <th>key</th>\n",
       "      <th>Время замера</th>\n",
       "      <th>Температура</th>\n",
       "    </tr>\n",
       "  </thead>\n",
       "  <tbody>\n",
       "    <tr>\n",
       "      <th>0</th>\n",
       "      <td>1</td>\n",
       "      <td>2019-05-03 11:16:18</td>\n",
       "      <td>1571.0</td>\n",
       "    </tr>\n",
       "    <tr>\n",
       "      <th>1</th>\n",
       "      <td>1</td>\n",
       "      <td>2019-05-03 11:25:53</td>\n",
       "      <td>1604.0</td>\n",
       "    </tr>\n",
       "    <tr>\n",
       "      <th>2</th>\n",
       "      <td>1</td>\n",
       "      <td>2019-05-03 11:29:11</td>\n",
       "      <td>1618.0</td>\n",
       "    </tr>\n",
       "    <tr>\n",
       "      <th>3</th>\n",
       "      <td>1</td>\n",
       "      <td>2019-05-03 11:30:01</td>\n",
       "      <td>1601.0</td>\n",
       "    </tr>\n",
       "    <tr>\n",
       "      <th>4</th>\n",
       "      <td>1</td>\n",
       "      <td>2019-05-03 11:30:39</td>\n",
       "      <td>1613.0</td>\n",
       "    </tr>\n",
       "    <tr>\n",
       "      <th>5</th>\n",
       "      <td>2</td>\n",
       "      <td>2019-05-03 11:37:27</td>\n",
       "      <td>1581.0</td>\n",
       "    </tr>\n",
       "    <tr>\n",
       "      <th>6</th>\n",
       "      <td>2</td>\n",
       "      <td>2019-05-03 11:38:00</td>\n",
       "      <td>1577.0</td>\n",
       "    </tr>\n",
       "  </tbody>\n",
       "</table>\n",
       "</div>"
      ],
      "text/plain": [
       "   key         Время замера  Температура\n",
       "0    1  2019-05-03 11:16:18       1571.0\n",
       "1    1  2019-05-03 11:25:53       1604.0\n",
       "2    1  2019-05-03 11:29:11       1618.0\n",
       "3    1  2019-05-03 11:30:01       1601.0\n",
       "4    1  2019-05-03 11:30:39       1613.0\n",
       "5    2  2019-05-03 11:37:27       1581.0\n",
       "6    2  2019-05-03 11:38:00       1577.0"
      ]
     },
     "metadata": {},
     "output_type": "display_data"
    },
    {
     "name": "stdout",
     "output_type": "stream",
     "text": [
      "Количество дубликатов: 0\n",
      "Количество пропущенных партий в датасете: 25\n"
     ]
    }
   ],
   "source": [
    "data_info(data_temp);"
   ]
  },
  {
   "cell_type": "code",
   "execution_count": 14,
   "id": "8af13ddd",
   "metadata": {},
   "outputs": [
    {
     "data": {
      "image/png": "[encoded data removed]",
      "text/plain": [
       "<Figure size 360x360 with 1 Axes>"
      ]
     },
     "metadata": {
      "needs_background": "light"
     },
     "output_type": "display_data"
    }
   ],
   "source": [
    "plt.figure(figsize=(5,5))\n",
    "sns.boxplot(data = data_temp['Температура']);"
   ]
  },
  {
   "cell_type": "code",
   "execution_count": 15,
   "id": "020443a8",
   "metadata": {},
   "outputs": [
    {
     "data": {
      "image/png": "[encoded data removed]",
      "text/plain": [
       "<Figure size 432x288 with 1 Axes>"
      ]
     },
     "metadata": {
      "needs_background": "light"
     },
     "output_type": "display_data"
    }
   ],
   "source": [
    "sns.histplot(data = data_temp['Температура']);"
   ]
  },
  {
   "cell_type": "code",
   "execution_count": 16,
   "id": "dfd69830",
   "metadata": {},
   "outputs": [
    {
     "data": {
      "text/html": [
       "<div>\n",
       "<style scoped>\n",
       "    .dataframe tbody tr th:only-of-type {\n",
       "        vertical-align: middle;\n",
       "    }\n",
       "\n",
       "    .dataframe tbody tr th {\n",
       "        vertical-align: top;\n",
       "    }\n",
       "\n",
       "    .dataframe thead th {\n",
       "        text-align: right;\n",
       "    }\n",
       "</style>\n",
       "<table border=\"1\" class=\"dataframe\">\n",
       "  <thead>\n",
       "    <tr style=\"text-align: right;\">\n",
       "      <th></th>\n",
       "      <th>key</th>\n",
       "      <th>Время замера</th>\n",
       "      <th>Температура</th>\n",
       "    </tr>\n",
       "  </thead>\n",
       "  <tbody>\n",
       "    <tr>\n",
       "      <th>4350</th>\n",
       "      <td>867</td>\n",
       "      <td>2019-06-04 14:21:00</td>\n",
       "      <td>1191.0</td>\n",
       "    </tr>\n",
       "    <tr>\n",
       "      <th>5978</th>\n",
       "      <td>1214</td>\n",
       "      <td>2019-06-16 05:32:00</td>\n",
       "      <td>1208.0</td>\n",
       "    </tr>\n",
       "    <tr>\n",
       "      <th>7958</th>\n",
       "      <td>1619</td>\n",
       "      <td>2019-06-30 11:03:54</td>\n",
       "      <td>1218.0</td>\n",
       "    </tr>\n",
       "    <tr>\n",
       "      <th>8913</th>\n",
       "      <td>1818</td>\n",
       "      <td>2019-07-07 00:30:49</td>\n",
       "      <td>1383.0</td>\n",
       "    </tr>\n",
       "    <tr>\n",
       "      <th>8914</th>\n",
       "      <td>1818</td>\n",
       "      <td>2019-07-07 00:31:40</td>\n",
       "      <td>1383.0</td>\n",
       "    </tr>\n",
       "    <tr>\n",
       "      <th>10127</th>\n",
       "      <td>2052</td>\n",
       "      <td>2019-07-21 14:51:40</td>\n",
       "      <td>1227.0</td>\n",
       "    </tr>\n",
       "    <tr>\n",
       "      <th>12564</th>\n",
       "      <td>2561</td>\n",
       "      <td>2019-08-08 07:34:15</td>\n",
       "      <td>1204.0</td>\n",
       "    </tr>\n",
       "  </tbody>\n",
       "</table>\n",
       "</div>"
      ],
      "text/plain": [
       "        key         Время замера  Температура\n",
       "4350    867  2019-06-04 14:21:00       1191.0\n",
       "5978   1214  2019-06-16 05:32:00       1208.0\n",
       "7958   1619  2019-06-30 11:03:54       1218.0\n",
       "8913   1818  2019-07-07 00:30:49       1383.0\n",
       "8914   1818  2019-07-07 00:31:40       1383.0\n",
       "10127  2052  2019-07-21 14:51:40       1227.0\n",
       "12564  2561  2019-08-08 07:34:15       1204.0"
      ]
     },
     "execution_count": 16,
     "metadata": {},
     "output_type": "execute_result"
    }
   ],
   "source": [
    "low_temp = data_temp.query('Температура < 1500')\n",
    "low_temp"
   ]
  },
  {
   "cell_type": "code",
   "execution_count": 17,
   "id": "c43ccf88",
   "metadata": {},
   "outputs": [
    {
     "data": {
      "text/html": [
       "<div>\n",
       "<style scoped>\n",
       "    .dataframe tbody tr th:only-of-type {\n",
       "        vertical-align: middle;\n",
       "    }\n",
       "\n",
       "    .dataframe tbody tr th {\n",
       "        vertical-align: top;\n",
       "    }\n",
       "\n",
       "    .dataframe thead th {\n",
       "        text-align: right;\n",
       "    }\n",
       "</style>\n",
       "<table border=\"1\" class=\"dataframe\">\n",
       "  <thead>\n",
       "    <tr style=\"text-align: right;\">\n",
       "      <th></th>\n",
       "      <th>key</th>\n",
       "      <th>Время замера</th>\n",
       "      <th>Температура</th>\n",
       "    </tr>\n",
       "  </thead>\n",
       "  <tbody>\n",
       "    <tr>\n",
       "      <th>4350</th>\n",
       "      <td>867</td>\n",
       "      <td>2019-06-04 14:21:00</td>\n",
       "      <td>1191.0</td>\n",
       "    </tr>\n",
       "    <tr>\n",
       "      <th>4351</th>\n",
       "      <td>867</td>\n",
       "      <td>2019-06-04 14:29:35</td>\n",
       "      <td>1575.0</td>\n",
       "    </tr>\n",
       "    <tr>\n",
       "      <th>4352</th>\n",
       "      <td>867</td>\n",
       "      <td>2019-06-04 14:30:29</td>\n",
       "      <td>1576.0</td>\n",
       "    </tr>\n",
       "    <tr>\n",
       "      <th>4353</th>\n",
       "      <td>867</td>\n",
       "      <td>2019-06-04 14:43:10</td>\n",
       "      <td>1571.0</td>\n",
       "    </tr>\n",
       "    <tr>\n",
       "      <th>4354</th>\n",
       "      <td>867</td>\n",
       "      <td>2019-06-04 14:52:54</td>\n",
       "      <td>1600.0</td>\n",
       "    </tr>\n",
       "    <tr>\n",
       "      <th>4355</th>\n",
       "      <td>867</td>\n",
       "      <td>2019-06-04 14:57:17</td>\n",
       "      <td>1599.0</td>\n",
       "    </tr>\n",
       "    <tr>\n",
       "      <th>5978</th>\n",
       "      <td>1214</td>\n",
       "      <td>2019-06-16 05:32:00</td>\n",
       "      <td>1208.0</td>\n",
       "    </tr>\n",
       "    <tr>\n",
       "      <th>5979</th>\n",
       "      <td>1214</td>\n",
       "      <td>2019-06-16 05:49:01</td>\n",
       "      <td>1608.0</td>\n",
       "    </tr>\n",
       "    <tr>\n",
       "      <th>5980</th>\n",
       "      <td>1214</td>\n",
       "      <td>2019-06-16 05:51:28</td>\n",
       "      <td>1608.0</td>\n",
       "    </tr>\n",
       "    <tr>\n",
       "      <th>5981</th>\n",
       "      <td>1214</td>\n",
       "      <td>2019-06-16 05:51:38</td>\n",
       "      <td>1608.0</td>\n",
       "    </tr>\n",
       "    <tr>\n",
       "      <th>5982</th>\n",
       "      <td>1214</td>\n",
       "      <td>2019-06-16 05:52:41</td>\n",
       "      <td>1608.0</td>\n",
       "    </tr>\n",
       "    <tr>\n",
       "      <th>5983</th>\n",
       "      <td>1214</td>\n",
       "      <td>2019-06-16 05:53:03</td>\n",
       "      <td>1608.0</td>\n",
       "    </tr>\n",
       "    <tr>\n",
       "      <th>5984</th>\n",
       "      <td>1214</td>\n",
       "      <td>2019-06-16 05:53:13</td>\n",
       "      <td>1608.0</td>\n",
       "    </tr>\n",
       "    <tr>\n",
       "      <th>5985</th>\n",
       "      <td>1214</td>\n",
       "      <td>2019-06-16 05:54:48</td>\n",
       "      <td>1604.0</td>\n",
       "    </tr>\n",
       "    <tr>\n",
       "      <th>5986</th>\n",
       "      <td>1214</td>\n",
       "      <td>2019-06-16 05:57:21</td>\n",
       "      <td>1604.0</td>\n",
       "    </tr>\n",
       "    <tr>\n",
       "      <th>5987</th>\n",
       "      <td>1214</td>\n",
       "      <td>2019-06-16 06:00:25</td>\n",
       "      <td>1604.0</td>\n",
       "    </tr>\n",
       "    <tr>\n",
       "      <th>5988</th>\n",
       "      <td>1214</td>\n",
       "      <td>2019-06-16 06:06:12</td>\n",
       "      <td>1600.0</td>\n",
       "    </tr>\n",
       "    <tr>\n",
       "      <th>5989</th>\n",
       "      <td>1214</td>\n",
       "      <td>2019-06-16 06:07:28</td>\n",
       "      <td>1596.0</td>\n",
       "    </tr>\n",
       "    <tr>\n",
       "      <th>5990</th>\n",
       "      <td>1214</td>\n",
       "      <td>2019-06-16 06:08:28</td>\n",
       "      <td>1596.0</td>\n",
       "    </tr>\n",
       "    <tr>\n",
       "      <th>5991</th>\n",
       "      <td>1214</td>\n",
       "      <td>2019-06-16 06:09:10</td>\n",
       "      <td>1603.0</td>\n",
       "    </tr>\n",
       "    <tr>\n",
       "      <th>5992</th>\n",
       "      <td>1214</td>\n",
       "      <td>2019-06-16 06:12:25</td>\n",
       "      <td>1591.0</td>\n",
       "    </tr>\n",
       "    <tr>\n",
       "      <th>5993</th>\n",
       "      <td>1214</td>\n",
       "      <td>2019-06-16 06:14:45</td>\n",
       "      <td>1591.0</td>\n",
       "    </tr>\n",
       "    <tr>\n",
       "      <th>7958</th>\n",
       "      <td>1619</td>\n",
       "      <td>2019-06-30 11:03:54</td>\n",
       "      <td>1218.0</td>\n",
       "    </tr>\n",
       "    <tr>\n",
       "      <th>7959</th>\n",
       "      <td>1619</td>\n",
       "      <td>2019-06-30 11:04:39</td>\n",
       "      <td>1623.0</td>\n",
       "    </tr>\n",
       "    <tr>\n",
       "      <th>7960</th>\n",
       "      <td>1619</td>\n",
       "      <td>2019-06-30 11:10:01</td>\n",
       "      <td>1611.0</td>\n",
       "    </tr>\n",
       "    <tr>\n",
       "      <th>7961</th>\n",
       "      <td>1619</td>\n",
       "      <td>2019-06-30 11:16:03</td>\n",
       "      <td>1603.0</td>\n",
       "    </tr>\n",
       "    <tr>\n",
       "      <th>7962</th>\n",
       "      <td>1619</td>\n",
       "      <td>2019-06-30 11:21:54</td>\n",
       "      <td>1590.0</td>\n",
       "    </tr>\n",
       "    <tr>\n",
       "      <th>8907</th>\n",
       "      <td>1818</td>\n",
       "      <td>2019-07-07 00:00:14</td>\n",
       "      <td>1627.0</td>\n",
       "    </tr>\n",
       "    <tr>\n",
       "      <th>8908</th>\n",
       "      <td>1818</td>\n",
       "      <td>2019-07-07 00:13:02</td>\n",
       "      <td>1650.0</td>\n",
       "    </tr>\n",
       "    <tr>\n",
       "      <th>8909</th>\n",
       "      <td>1818</td>\n",
       "      <td>2019-07-07 00:25:28</td>\n",
       "      <td>1650.0</td>\n",
       "    </tr>\n",
       "    <tr>\n",
       "      <th>8910</th>\n",
       "      <td>1818</td>\n",
       "      <td>2019-07-07 00:26:03</td>\n",
       "      <td>1650.0</td>\n",
       "    </tr>\n",
       "    <tr>\n",
       "      <th>8911</th>\n",
       "      <td>1818</td>\n",
       "      <td>2019-07-07 00:26:42</td>\n",
       "      <td>1650.0</td>\n",
       "    </tr>\n",
       "    <tr>\n",
       "      <th>8912</th>\n",
       "      <td>1818</td>\n",
       "      <td>2019-07-07 00:27:23</td>\n",
       "      <td>1663.0</td>\n",
       "    </tr>\n",
       "    <tr>\n",
       "      <th>8913</th>\n",
       "      <td>1818</td>\n",
       "      <td>2019-07-07 00:30:49</td>\n",
       "      <td>1383.0</td>\n",
       "    </tr>\n",
       "    <tr>\n",
       "      <th>8914</th>\n",
       "      <td>1818</td>\n",
       "      <td>2019-07-07 00:31:40</td>\n",
       "      <td>1383.0</td>\n",
       "    </tr>\n",
       "    <tr>\n",
       "      <th>8915</th>\n",
       "      <td>1818</td>\n",
       "      <td>2019-07-07 00:32:55</td>\n",
       "      <td>1680.0</td>\n",
       "    </tr>\n",
       "    <tr>\n",
       "      <th>8916</th>\n",
       "      <td>1818</td>\n",
       "      <td>2019-07-07 00:36:11</td>\n",
       "      <td>1667.0</td>\n",
       "    </tr>\n",
       "    <tr>\n",
       "      <th>8917</th>\n",
       "      <td>1818</td>\n",
       "      <td>2019-07-07 00:36:45</td>\n",
       "      <td>1667.0</td>\n",
       "    </tr>\n",
       "    <tr>\n",
       "      <th>8918</th>\n",
       "      <td>1818</td>\n",
       "      <td>2019-07-07 00:38:50</td>\n",
       "      <td>1671.0</td>\n",
       "    </tr>\n",
       "    <tr>\n",
       "      <th>10127</th>\n",
       "      <td>2052</td>\n",
       "      <td>2019-07-21 14:51:40</td>\n",
       "      <td>1227.0</td>\n",
       "    </tr>\n",
       "    <tr>\n",
       "      <th>10128</th>\n",
       "      <td>2052</td>\n",
       "      <td>2019-07-21 14:52:21</td>\n",
       "      <td>1592.0</td>\n",
       "    </tr>\n",
       "    <tr>\n",
       "      <th>10129</th>\n",
       "      <td>2052</td>\n",
       "      <td>2019-07-21 15:06:31</td>\n",
       "      <td>1590.0</td>\n",
       "    </tr>\n",
       "    <tr>\n",
       "      <th>10130</th>\n",
       "      <td>2052</td>\n",
       "      <td>2019-07-21 15:15:24</td>\n",
       "      <td>1591.0</td>\n",
       "    </tr>\n",
       "    <tr>\n",
       "      <th>10131</th>\n",
       "      <td>2052</td>\n",
       "      <td>2019-07-21 15:24:06</td>\n",
       "      <td>1592.0</td>\n",
       "    </tr>\n",
       "    <tr>\n",
       "      <th>12564</th>\n",
       "      <td>2561</td>\n",
       "      <td>2019-08-08 07:34:15</td>\n",
       "      <td>1204.0</td>\n",
       "    </tr>\n",
       "    <tr>\n",
       "      <th>12565</th>\n",
       "      <td>2561</td>\n",
       "      <td>2019-08-08 07:35:02</td>\n",
       "      <td>NaN</td>\n",
       "    </tr>\n",
       "    <tr>\n",
       "      <th>12566</th>\n",
       "      <td>2561</td>\n",
       "      <td>2019-08-08 07:35:38</td>\n",
       "      <td>NaN</td>\n",
       "    </tr>\n",
       "    <tr>\n",
       "      <th>12567</th>\n",
       "      <td>2561</td>\n",
       "      <td>2019-08-08 07:49:07</td>\n",
       "      <td>NaN</td>\n",
       "    </tr>\n",
       "    <tr>\n",
       "      <th>12568</th>\n",
       "      <td>2561</td>\n",
       "      <td>2019-08-08 07:54:21</td>\n",
       "      <td>NaN</td>\n",
       "    </tr>\n",
       "    <tr>\n",
       "      <th>12569</th>\n",
       "      <td>2561</td>\n",
       "      <td>2019-08-08 07:56:57</td>\n",
       "      <td>NaN</td>\n",
       "    </tr>\n",
       "  </tbody>\n",
       "</table>\n",
       "</div>"
      ],
      "text/plain": [
       "        key         Время замера  Температура\n",
       "4350    867  2019-06-04 14:21:00       1191.0\n",
       "4351    867  2019-06-04 14:29:35       1575.0\n",
       "4352    867  2019-06-04 14:30:29       1576.0\n",
       "4353    867  2019-06-04 14:43:10       1571.0\n",
       "4354    867  2019-06-04 14:52:54       1600.0\n",
       "4355    867  2019-06-04 14:57:17       1599.0\n",
       "5978   1214  2019-06-16 05:32:00       1208.0\n",
       "5979   1214  2019-06-16 05:49:01       1608.0\n",
       "5980   1214  2019-06-16 05:51:28       1608.0\n",
       "5981   1214  2019-06-16 05:51:38       1608.0\n",
       "5982   1214  2019-06-16 05:52:41       1608.0\n",
       "5983   1214  2019-06-16 05:53:03       1608.0\n",
       "5984   1214  2019-06-16 05:53:13       1608.0\n",
       "5985   1214  2019-06-16 05:54:48       1604.0\n",
       "5986   1214  2019-06-16 05:57:21       1604.0\n",
       "5987   1214  2019-06-16 06:00:25       1604.0\n",
       "5988   1214  2019-06-16 06:06:12       1600.0\n",
       "5989   1214  2019-06-16 06:07:28       1596.0\n",
       "5990   1214  2019-06-16 06:08:28       1596.0\n",
       "5991   1214  2019-06-16 06:09:10       1603.0\n",
       "5992   1214  2019-06-16 06:12:25       1591.0\n",
       "5993   1214  2019-06-16 06:14:45       1591.0\n",
       "7958   1619  2019-06-30 11:03:54       1218.0\n",
       "7959   1619  2019-06-30 11:04:39       1623.0\n",
       "7960   1619  2019-06-30 11:10:01       1611.0\n",
       "7961   1619  2019-06-30 11:16:03       1603.0\n",
       "7962   1619  2019-06-30 11:21:54       1590.0\n",
       "8907   1818  2019-07-07 00:00:14       1627.0\n",
       "8908   1818  2019-07-07 00:13:02       1650.0\n",
       "8909   1818  2019-07-07 00:25:28       1650.0\n",
       "8910   1818  2019-07-07 00:26:03       1650.0\n",
       "8911   1818  2019-07-07 00:26:42       1650.0\n",
       "8912   1818  2019-07-07 00:27:23       1663.0\n",
       "8913   1818  2019-07-07 00:30:49       1383.0\n",
       "8914   1818  2019-07-07 00:31:40       1383.0\n",
       "8915   1818  2019-07-07 00:32:55       1680.0\n",
       "8916   1818  2019-07-07 00:36:11       1667.0\n",
       "8917   1818  2019-07-07 00:36:45       1667.0\n",
       "8918   1818  2019-07-07 00:38:50       1671.0\n",
       "10127  2052  2019-07-21 14:51:40       1227.0\n",
       "10128  2052  2019-07-21 14:52:21       1592.0\n",
       "10129  2052  2019-07-21 15:06:31       1590.0\n",
       "10130  2052  2019-07-21 15:15:24       1591.0\n",
       "10131  2052  2019-07-21 15:24:06       1592.0\n",
       "12564  2561  2019-08-08 07:34:15       1204.0\n",
       "12565  2561  2019-08-08 07:35:02          NaN\n",
       "12566  2561  2019-08-08 07:35:38          NaN\n",
       "12567  2561  2019-08-08 07:49:07          NaN\n",
       "12568  2561  2019-08-08 07:54:21          NaN\n",
       "12569  2561  2019-08-08 07:56:57          NaN"
      ]
     },
     "execution_count": 17,
     "metadata": {},
     "output_type": "execute_result"
    }
   ],
   "source": [
    "low_temp_list = list(set(low_temp['key']))\n",
    "data_temp.query('key in @low_temp_list')"
   ]
  },
  {
   "cell_type": "code",
   "execution_count": 18,
   "id": "7027724a",
   "metadata": {},
   "outputs": [
    {
     "data": {
      "text/plain": [
       "0.18237254039102282"
      ]
     },
     "execution_count": 18,
     "metadata": {},
     "output_type": "execute_result"
    }
   ],
   "source": [
    "data_temp['Температура'].isnull().mean() # процент пропусков"
   ]
  },
  {
   "cell_type": "code",
   "execution_count": 19,
   "id": "371d8521",
   "metadata": {},
   "outputs": [
    {
     "data": {
      "text/plain": [
       "46      16\n",
       "1214    16\n",
       "44      16\n",
       "1513    16\n",
       "2108    15\n",
       "        ..\n",
       "1160     2\n",
       "982      2\n",
       "2456     2\n",
       "195      1\n",
       "279      1\n",
       "Name: key, Length: 3216, dtype: int64"
      ]
     },
     "execution_count": 19,
     "metadata": {},
     "output_type": "execute_result"
    }
   ],
   "source": [
    "data_temp['key'].value_counts() # количество измерений температуры в партии"
   ]
  },
  {
   "cell_type": "markdown",
   "id": "f735e44f",
   "metadata": {},
   "source": [
    "Присутствуют выбросы с низкой температурой, их немного - 7 штук. В этих партиях первый замер показывал низкую температуру, здесь затраты энергии на нагрев до нужной температуры высоки. В одном случае температура падала после нескольких итераций. В последней партии сплошные пропуски.\n",
    "\n",
    "2901 пропуск по температуре. Данные имеют почти нормальное распределение, медиана почти равна среднему.\n",
    "\n",
    "25 значений партий нет в таблице."
   ]
  },
  {
   "cell_type": "markdown",
   "id": "0ee3b0cc",
   "metadata": {},
   "source": [
    "## Данные о проволочных материалах (объём)"
   ]
  },
  {
   "cell_type": "code",
   "execution_count": 20,
   "id": "3d1bfbaf",
   "metadata": {},
   "outputs": [
    {
     "name": "stdout",
     "output_type": "stream",
     "text": [
      "<class 'pandas.core.frame.DataFrame'>\n",
      "RangeIndex: 3081 entries, 0 to 3080\n",
      "Data columns (total 10 columns):\n",
      " #   Column  Non-Null Count  Dtype  \n",
      "---  ------  --------------  -----  \n",
      " 0   key     3081 non-null   int64  \n",
      " 1   Wire 1  3055 non-null   float64\n",
      " 2   Wire 2  1079 non-null   float64\n",
      " 3   Wire 3  63 non-null     float64\n",
      " 4   Wire 4  14 non-null     float64\n",
      " 5   Wire 5  1 non-null      float64\n",
      " 6   Wire 6  73 non-null     float64\n",
      " 7   Wire 7  11 non-null     float64\n",
      " 8   Wire 8  19 non-null     float64\n",
      " 9   Wire 9  29 non-null     float64\n",
      "dtypes: float64(9), int64(1)\n",
      "memory usage: 240.8 KB\n",
      "               key       Wire 1       Wire 2      Wire 3      Wire 4  Wire 5  \\\n",
      "count  3081.000000  3055.000000  1079.000000   63.000000   14.000000   1.000   \n",
      "mean   1623.426485   100.895853    50.577323  189.482681   57.442842  15.132   \n",
      "std     932.996726    42.012518    39.320216   99.513444   28.824667     NaN   \n",
      "min       1.000000     1.918800     0.030160    0.144144   24.148801  15.132   \n",
      "25%     823.000000    72.115684    20.193680   95.135044   40.807002  15.132   \n",
      "50%    1619.000000   100.158234    40.142956  235.194977   45.234282  15.132   \n",
      "75%    2434.000000   126.060483    70.227558  276.252014   76.124619  15.132   \n",
      "max    3241.000000   330.314424   282.780152  385.008668  113.231044  15.132   \n",
      "\n",
      "           Wire 6     Wire 7      Wire 8     Wire 9  \n",
      "count   73.000000  11.000000   19.000000  29.000000  \n",
      "mean    48.016974  10.039007   53.625193  34.155752  \n",
      "std     33.919845   8.610584   16.881728  19.931616  \n",
      "min      0.034320   0.234208   45.076721   4.622800  \n",
      "25%     25.053600   6.762756   46.094879  22.058401  \n",
      "50%     42.076324   9.017009   46.279999  30.066399  \n",
      "75%     64.212723  11.886057   48.089603  43.862003  \n",
      "max    180.454575  32.847674  102.762401  90.053604  \n"
     ]
    },
    {
     "data": {
      "text/html": [
       "<div>\n",
       "<style scoped>\n",
       "    .dataframe tbody tr th:only-of-type {\n",
       "        vertical-align: middle;\n",
       "    }\n",
       "\n",
       "    .dataframe tbody tr th {\n",
       "        vertical-align: top;\n",
       "    }\n",
       "\n",
       "    .dataframe thead th {\n",
       "        text-align: right;\n",
       "    }\n",
       "</style>\n",
       "<table border=\"1\" class=\"dataframe\">\n",
       "  <thead>\n",
       "    <tr style=\"text-align: right;\">\n",
       "      <th></th>\n",
       "      <th>key</th>\n",
       "      <th>Wire 1</th>\n",
       "      <th>Wire 2</th>\n",
       "      <th>Wire 3</th>\n",
       "      <th>Wire 4</th>\n",
       "      <th>Wire 5</th>\n",
       "      <th>Wire 6</th>\n",
       "      <th>Wire 7</th>\n",
       "      <th>Wire 8</th>\n",
       "      <th>Wire 9</th>\n",
       "    </tr>\n",
       "  </thead>\n",
       "  <tbody>\n",
       "    <tr>\n",
       "      <th>0</th>\n",
       "      <td>1</td>\n",
       "      <td>60.059998</td>\n",
       "      <td>NaN</td>\n",
       "      <td>NaN</td>\n",
       "      <td>NaN</td>\n",
       "      <td>NaN</td>\n",
       "      <td>NaN</td>\n",
       "      <td>NaN</td>\n",
       "      <td>NaN</td>\n",
       "      <td>NaN</td>\n",
       "    </tr>\n",
       "    <tr>\n",
       "      <th>1</th>\n",
       "      <td>2</td>\n",
       "      <td>96.052315</td>\n",
       "      <td>NaN</td>\n",
       "      <td>NaN</td>\n",
       "      <td>NaN</td>\n",
       "      <td>NaN</td>\n",
       "      <td>NaN</td>\n",
       "      <td>NaN</td>\n",
       "      <td>NaN</td>\n",
       "      <td>NaN</td>\n",
       "    </tr>\n",
       "    <tr>\n",
       "      <th>2</th>\n",
       "      <td>3</td>\n",
       "      <td>91.160157</td>\n",
       "      <td>NaN</td>\n",
       "      <td>NaN</td>\n",
       "      <td>NaN</td>\n",
       "      <td>NaN</td>\n",
       "      <td>NaN</td>\n",
       "      <td>NaN</td>\n",
       "      <td>NaN</td>\n",
       "      <td>NaN</td>\n",
       "    </tr>\n",
       "    <tr>\n",
       "      <th>3</th>\n",
       "      <td>4</td>\n",
       "      <td>89.063515</td>\n",
       "      <td>NaN</td>\n",
       "      <td>NaN</td>\n",
       "      <td>NaN</td>\n",
       "      <td>NaN</td>\n",
       "      <td>NaN</td>\n",
       "      <td>NaN</td>\n",
       "      <td>NaN</td>\n",
       "      <td>NaN</td>\n",
       "    </tr>\n",
       "    <tr>\n",
       "      <th>4</th>\n",
       "      <td>5</td>\n",
       "      <td>89.238236</td>\n",
       "      <td>9.11456</td>\n",
       "      <td>NaN</td>\n",
       "      <td>NaN</td>\n",
       "      <td>NaN</td>\n",
       "      <td>NaN</td>\n",
       "      <td>NaN</td>\n",
       "      <td>NaN</td>\n",
       "      <td>NaN</td>\n",
       "    </tr>\n",
       "    <tr>\n",
       "      <th>5</th>\n",
       "      <td>6</td>\n",
       "      <td>99.109917</td>\n",
       "      <td>9.11456</td>\n",
       "      <td>NaN</td>\n",
       "      <td>NaN</td>\n",
       "      <td>NaN</td>\n",
       "      <td>NaN</td>\n",
       "      <td>NaN</td>\n",
       "      <td>NaN</td>\n",
       "      <td>NaN</td>\n",
       "    </tr>\n",
       "    <tr>\n",
       "      <th>6</th>\n",
       "      <td>7</td>\n",
       "      <td>98.061600</td>\n",
       "      <td>NaN</td>\n",
       "      <td>NaN</td>\n",
       "      <td>NaN</td>\n",
       "      <td>NaN</td>\n",
       "      <td>NaN</td>\n",
       "      <td>NaN</td>\n",
       "      <td>NaN</td>\n",
       "      <td>NaN</td>\n",
       "    </tr>\n",
       "  </tbody>\n",
       "</table>\n",
       "</div>"
      ],
      "text/plain": [
       "   key     Wire 1   Wire 2  Wire 3  Wire 4  Wire 5  Wire 6  Wire 7  Wire 8  \\\n",
       "0    1  60.059998      NaN     NaN     NaN     NaN     NaN     NaN     NaN   \n",
       "1    2  96.052315      NaN     NaN     NaN     NaN     NaN     NaN     NaN   \n",
       "2    3  91.160157      NaN     NaN     NaN     NaN     NaN     NaN     NaN   \n",
       "3    4  89.063515      NaN     NaN     NaN     NaN     NaN     NaN     NaN   \n",
       "4    5  89.238236  9.11456     NaN     NaN     NaN     NaN     NaN     NaN   \n",
       "5    6  99.109917  9.11456     NaN     NaN     NaN     NaN     NaN     NaN   \n",
       "6    7  98.061600      NaN     NaN     NaN     NaN     NaN     NaN     NaN   \n",
       "\n",
       "   Wire 9  \n",
       "0     NaN  \n",
       "1     NaN  \n",
       "2     NaN  \n",
       "3     NaN  \n",
       "4     NaN  \n",
       "5     NaN  \n",
       "6     NaN  "
      ]
     },
     "metadata": {},
     "output_type": "display_data"
    },
    {
     "name": "stdout",
     "output_type": "stream",
     "text": [
      "Количество дубликатов: 0\n",
      "Количество пропущенных партий в датасете: 160\n"
     ]
    }
   ],
   "source": [
    "data_info(data_wire);"
   ]
  },
  {
   "cell_type": "code",
   "execution_count": 21,
   "id": "42941096",
   "metadata": {},
   "outputs": [
    {
     "data": {
      "image/png": "[encoded data removed]",
      "text/plain": [
       "<Figure size 1080x504 with 1 Axes>"
      ]
     },
     "metadata": {
      "needs_background": "light"
     },
     "output_type": "display_data"
    }
   ],
   "source": [
    "plt.figure(figsize=(15,7))\n",
    "sns.boxplot(data = data_wire.drop('key', axis=1));"
   ]
  },
  {
   "cell_type": "markdown",
   "id": "d9c8a115",
   "metadata": {},
   "source": [
    "Присутствуют выбросы. Пропуски можно заполнить нулями. Материал №5 использовался всего 1 раз.\n",
    "\n",
    "160 значений партий нет в таблице."
   ]
  },
  {
   "cell_type": "markdown",
   "id": "8187fac5",
   "metadata": {},
   "source": [
    "## Данные о проволочных материалах (время)"
   ]
  },
  {
   "cell_type": "code",
   "execution_count": 22,
   "id": "c9f4e4b9",
   "metadata": {},
   "outputs": [
    {
     "name": "stdout",
     "output_type": "stream",
     "text": [
      "<class 'pandas.core.frame.DataFrame'>\n",
      "RangeIndex: 3081 entries, 0 to 3080\n",
      "Data columns (total 10 columns):\n",
      " #   Column  Non-Null Count  Dtype \n",
      "---  ------  --------------  ----- \n",
      " 0   key     3081 non-null   int64 \n",
      " 1   Wire 1  3055 non-null   object\n",
      " 2   Wire 2  1079 non-null   object\n",
      " 3   Wire 3  63 non-null     object\n",
      " 4   Wire 4  14 non-null     object\n",
      " 5   Wire 5  1 non-null      object\n",
      " 6   Wire 6  73 non-null     object\n",
      " 7   Wire 7  11 non-null     object\n",
      " 8   Wire 8  19 non-null     object\n",
      " 9   Wire 9  29 non-null     object\n",
      "dtypes: int64(1), object(9)\n",
      "memory usage: 240.8+ KB\n",
      "               key\n",
      "count  3081.000000\n",
      "mean   1623.426485\n",
      "std     932.996726\n",
      "min       1.000000\n",
      "25%     823.000000\n",
      "50%    1619.000000\n",
      "75%    2434.000000\n",
      "max    3241.000000\n"
     ]
    },
    {
     "data": {
      "text/html": [
       "<div>\n",
       "<style scoped>\n",
       "    .dataframe tbody tr th:only-of-type {\n",
       "        vertical-align: middle;\n",
       "    }\n",
       "\n",
       "    .dataframe tbody tr th {\n",
       "        vertical-align: top;\n",
       "    }\n",
       "\n",
       "    .dataframe thead th {\n",
       "        text-align: right;\n",
       "    }\n",
       "</style>\n",
       "<table border=\"1\" class=\"dataframe\">\n",
       "  <thead>\n",
       "    <tr style=\"text-align: right;\">\n",
       "      <th></th>\n",
       "      <th>key</th>\n",
       "      <th>Wire 1</th>\n",
       "      <th>Wire 2</th>\n",
       "      <th>Wire 3</th>\n",
       "      <th>Wire 4</th>\n",
       "      <th>Wire 5</th>\n",
       "      <th>Wire 6</th>\n",
       "      <th>Wire 7</th>\n",
       "      <th>Wire 8</th>\n",
       "      <th>Wire 9</th>\n",
       "    </tr>\n",
       "  </thead>\n",
       "  <tbody>\n",
       "    <tr>\n",
       "      <th>0</th>\n",
       "      <td>1</td>\n",
       "      <td>2019-05-03 11:11:41</td>\n",
       "      <td>NaN</td>\n",
       "      <td>NaN</td>\n",
       "      <td>NaN</td>\n",
       "      <td>NaN</td>\n",
       "      <td>NaN</td>\n",
       "      <td>NaN</td>\n",
       "      <td>NaN</td>\n",
       "      <td>NaN</td>\n",
       "    </tr>\n",
       "    <tr>\n",
       "      <th>1</th>\n",
       "      <td>2</td>\n",
       "      <td>2019-05-03 11:46:10</td>\n",
       "      <td>NaN</td>\n",
       "      <td>NaN</td>\n",
       "      <td>NaN</td>\n",
       "      <td>NaN</td>\n",
       "      <td>NaN</td>\n",
       "      <td>NaN</td>\n",
       "      <td>NaN</td>\n",
       "      <td>NaN</td>\n",
       "    </tr>\n",
       "    <tr>\n",
       "      <th>2</th>\n",
       "      <td>3</td>\n",
       "      <td>2019-05-03 12:13:47</td>\n",
       "      <td>NaN</td>\n",
       "      <td>NaN</td>\n",
       "      <td>NaN</td>\n",
       "      <td>NaN</td>\n",
       "      <td>NaN</td>\n",
       "      <td>NaN</td>\n",
       "      <td>NaN</td>\n",
       "      <td>NaN</td>\n",
       "    </tr>\n",
       "    <tr>\n",
       "      <th>3</th>\n",
       "      <td>4</td>\n",
       "      <td>2019-05-03 12:48:05</td>\n",
       "      <td>NaN</td>\n",
       "      <td>NaN</td>\n",
       "      <td>NaN</td>\n",
       "      <td>NaN</td>\n",
       "      <td>NaN</td>\n",
       "      <td>NaN</td>\n",
       "      <td>NaN</td>\n",
       "      <td>NaN</td>\n",
       "    </tr>\n",
       "    <tr>\n",
       "      <th>4</th>\n",
       "      <td>5</td>\n",
       "      <td>2019-05-03 13:18:15</td>\n",
       "      <td>2019-05-03 13:32:06</td>\n",
       "      <td>NaN</td>\n",
       "      <td>NaN</td>\n",
       "      <td>NaN</td>\n",
       "      <td>NaN</td>\n",
       "      <td>NaN</td>\n",
       "      <td>NaN</td>\n",
       "      <td>NaN</td>\n",
       "    </tr>\n",
       "    <tr>\n",
       "      <th>5</th>\n",
       "      <td>6</td>\n",
       "      <td>2019-05-03 13:59:02</td>\n",
       "      <td>2019-05-03 13:59:54</td>\n",
       "      <td>NaN</td>\n",
       "      <td>NaN</td>\n",
       "      <td>NaN</td>\n",
       "      <td>NaN</td>\n",
       "      <td>NaN</td>\n",
       "      <td>NaN</td>\n",
       "      <td>NaN</td>\n",
       "    </tr>\n",
       "    <tr>\n",
       "      <th>6</th>\n",
       "      <td>7</td>\n",
       "      <td>2019-05-03 14:28:46</td>\n",
       "      <td>NaN</td>\n",
       "      <td>NaN</td>\n",
       "      <td>NaN</td>\n",
       "      <td>NaN</td>\n",
       "      <td>NaN</td>\n",
       "      <td>NaN</td>\n",
       "      <td>NaN</td>\n",
       "      <td>NaN</td>\n",
       "    </tr>\n",
       "  </tbody>\n",
       "</table>\n",
       "</div>"
      ],
      "text/plain": [
       "   key               Wire 1               Wire 2 Wire 3 Wire 4 Wire 5 Wire 6  \\\n",
       "0    1  2019-05-03 11:11:41                  NaN    NaN    NaN    NaN    NaN   \n",
       "1    2  2019-05-03 11:46:10                  NaN    NaN    NaN    NaN    NaN   \n",
       "2    3  2019-05-03 12:13:47                  NaN    NaN    NaN    NaN    NaN   \n",
       "3    4  2019-05-03 12:48:05                  NaN    NaN    NaN    NaN    NaN   \n",
       "4    5  2019-05-03 13:18:15  2019-05-03 13:32:06    NaN    NaN    NaN    NaN   \n",
       "5    6  2019-05-03 13:59:02  2019-05-03 13:59:54    NaN    NaN    NaN    NaN   \n",
       "6    7  2019-05-03 14:28:46                  NaN    NaN    NaN    NaN    NaN   \n",
       "\n",
       "  Wire 7 Wire 8 Wire 9  \n",
       "0    NaN    NaN    NaN  \n",
       "1    NaN    NaN    NaN  \n",
       "2    NaN    NaN    NaN  \n",
       "3    NaN    NaN    NaN  \n",
       "4    NaN    NaN    NaN  \n",
       "5    NaN    NaN    NaN  \n",
       "6    NaN    NaN    NaN  "
      ]
     },
     "metadata": {},
     "output_type": "display_data"
    },
    {
     "name": "stdout",
     "output_type": "stream",
     "text": [
      "Количество дубликатов: 0\n",
      "Количество пропущенных партий в датасете: 160\n"
     ]
    }
   ],
   "source": [
    "data_info(data_wire_time);"
   ]
  },
  {
   "cell_type": "markdown",
   "id": "7be2930d",
   "metadata": {},
   "source": [
    "Аналог предыдущей таблицы. Время, когда были добавлены материалы."
   ]
  },
  {
   "cell_type": "markdown",
   "id": "bdc3cf13",
   "metadata": {},
   "source": [
    "**Выводы**"
   ]
  },
  {
   "cell_type": "markdown",
   "id": "3b8e3776",
   "metadata": {},
   "source": [
    "- Часть данных по партиям отсутствует, значит не в каждой партии добавляли тот или иной материал.\n",
    "- По температуре (целевой признак) 20% пропусков\n",
    "- Присутвует большое число выбросов, что может отразится на точности модели.\n",
    "- Дубликатов нет"
   ]
  },
  {
   "cell_type": "markdown",
   "id": "79caef04",
   "metadata": {},
   "source": [
    "# План проекта"
   ]
  },
  {
   "cell_type": "markdown",
   "id": "402922d9",
   "metadata": {},
   "source": [
    "1. Предобработка данных: заполнение пропусков, правка названий столбцов.\n",
    "2. Объединение данных в один датасет: создание признаков, определение целевого признака.\n",
    "3. Деление на выборки.\n",
    "4. Обучение моделей.\n",
    "5. Выбор лучшей модели: проверка на тестовой выборке."
   ]
  },
  {
   "cell_type": "markdown",
   "id": "a3d28c7c",
   "metadata": {},
   "source": [
    "# 1. Предобработка данных"
   ]
  },
  {
   "cell_type": "markdown",
   "id": "73152d6c",
   "metadata": {},
   "source": [
    "## 1.1 Приведение столбцов к стандарту pep 8"
   ]
  },
  {
   "cell_type": "code",
   "execution_count": 23,
   "id": "b607abe9",
   "metadata": {},
   "outputs": [
    {
     "data": {
      "text/html": [
       "<div>\n",
       "<style scoped>\n",
       "    .dataframe tbody tr th:only-of-type {\n",
       "        vertical-align: middle;\n",
       "    }\n",
       "\n",
       "    .dataframe tbody tr th {\n",
       "        vertical-align: top;\n",
       "    }\n",
       "\n",
       "    .dataframe thead th {\n",
       "        text-align: right;\n",
       "    }\n",
       "</style>\n",
       "<table border=\"1\" class=\"dataframe\">\n",
       "  <thead>\n",
       "    <tr style=\"text-align: right;\">\n",
       "      <th></th>\n",
       "      <th>key</th>\n",
       "      <th>arc_heating_start</th>\n",
       "      <th>arc_heating_end</th>\n",
       "      <th>active_power</th>\n",
       "      <th>reactive_power</th>\n",
       "    </tr>\n",
       "  </thead>\n",
       "  <tbody>\n",
       "    <tr>\n",
       "      <th>0</th>\n",
       "      <td>1</td>\n",
       "      <td>2019-05-03 11:02:14</td>\n",
       "      <td>2019-05-03 11:06:02</td>\n",
       "      <td>0.976059</td>\n",
       "      <td>0.687084</td>\n",
       "    </tr>\n",
       "  </tbody>\n",
       "</table>\n",
       "</div>"
      ],
      "text/plain": [
       "   key    arc_heating_start      arc_heating_end  active_power  reactive_power\n",
       "0    1  2019-05-03 11:02:14  2019-05-03 11:06:02      0.976059        0.687084"
      ]
     },
     "execution_count": 23,
     "metadata": {},
     "output_type": "execute_result"
    }
   ],
   "source": [
    "data_arc = data_arc.rename(columns={'Начало нагрева дугой':'arc_heating_start',\n",
    "                                    'Конец нагрева дугой':'arc_heating_end',\n",
    "                                    'Активная мощность':'active_power',\n",
    "                                    'Реактивная мощность':'reactive_power'})\n",
    "data_arc.head(1)"
   ]
  },
  {
   "cell_type": "code",
   "execution_count": 24,
   "id": "c92b82a5",
   "metadata": {},
   "outputs": [
    {
     "data": {
      "text/html": [
       "<div>\n",
       "<style scoped>\n",
       "    .dataframe tbody tr th:only-of-type {\n",
       "        vertical-align: middle;\n",
       "    }\n",
       "\n",
       "    .dataframe tbody tr th {\n",
       "        vertical-align: top;\n",
       "    }\n",
       "\n",
       "    .dataframe thead th {\n",
       "        text-align: right;\n",
       "    }\n",
       "</style>\n",
       "<table border=\"1\" class=\"dataframe\">\n",
       "  <thead>\n",
       "    <tr style=\"text-align: right;\">\n",
       "      <th></th>\n",
       "      <th>key</th>\n",
       "      <th>bulk_1</th>\n",
       "      <th>bulk_2</th>\n",
       "      <th>bulk_3</th>\n",
       "      <th>bulk_4</th>\n",
       "      <th>bulk_5</th>\n",
       "      <th>bulk_6</th>\n",
       "      <th>bulk_7</th>\n",
       "      <th>bulk_8</th>\n",
       "      <th>bulk_9</th>\n",
       "      <th>bulk_10</th>\n",
       "      <th>bulk_11</th>\n",
       "      <th>bulk_12</th>\n",
       "      <th>bulk_13</th>\n",
       "      <th>bulk_14</th>\n",
       "      <th>bulk_15</th>\n",
       "    </tr>\n",
       "  </thead>\n",
       "  <tbody>\n",
       "    <tr>\n",
       "      <th>0</th>\n",
       "      <td>1</td>\n",
       "      <td>NaN</td>\n",
       "      <td>NaN</td>\n",
       "      <td>NaN</td>\n",
       "      <td>43.0</td>\n",
       "      <td>NaN</td>\n",
       "      <td>NaN</td>\n",
       "      <td>NaN</td>\n",
       "      <td>NaN</td>\n",
       "      <td>NaN</td>\n",
       "      <td>NaN</td>\n",
       "      <td>NaN</td>\n",
       "      <td>206.0</td>\n",
       "      <td>NaN</td>\n",
       "      <td>150.0</td>\n",
       "      <td>154.0</td>\n",
       "    </tr>\n",
       "  </tbody>\n",
       "</table>\n",
       "</div>"
      ],
      "text/plain": [
       "   key  bulk_1  bulk_2  bulk_3  bulk_4  bulk_5  bulk_6  bulk_7  bulk_8  \\\n",
       "0    1     NaN     NaN     NaN    43.0     NaN     NaN     NaN     NaN   \n",
       "\n",
       "   bulk_9  bulk_10  bulk_11  bulk_12  bulk_13  bulk_14  bulk_15  \n",
       "0     NaN      NaN      NaN    206.0      NaN    150.0    154.0  "
      ]
     },
     "execution_count": 24,
     "metadata": {},
     "output_type": "execute_result"
    }
   ],
   "source": [
    "data_bulk.columns = [re.sub(r' ', r'_', name).lower() for name in data_bulk.columns]\n",
    "data_bulk.head(1)"
   ]
  },
  {
   "cell_type": "code",
   "execution_count": 25,
   "id": "f1630b3f",
   "metadata": {},
   "outputs": [
    {
     "data": {
      "text/html": [
       "<div>\n",
       "<style scoped>\n",
       "    .dataframe tbody tr th:only-of-type {\n",
       "        vertical-align: middle;\n",
       "    }\n",
       "\n",
       "    .dataframe tbody tr th {\n",
       "        vertical-align: top;\n",
       "    }\n",
       "\n",
       "    .dataframe thead th {\n",
       "        text-align: right;\n",
       "    }\n",
       "</style>\n",
       "<table border=\"1\" class=\"dataframe\">\n",
       "  <thead>\n",
       "    <tr style=\"text-align: right;\">\n",
       "      <th></th>\n",
       "      <th>key</th>\n",
       "      <th>bulk_1</th>\n",
       "      <th>bulk_2</th>\n",
       "      <th>bulk_3</th>\n",
       "      <th>bulk_4</th>\n",
       "      <th>bulk_5</th>\n",
       "      <th>bulk_6</th>\n",
       "      <th>bulk_7</th>\n",
       "      <th>bulk_8</th>\n",
       "      <th>bulk_9</th>\n",
       "      <th>bulk_10</th>\n",
       "      <th>bulk_11</th>\n",
       "      <th>bulk_12</th>\n",
       "      <th>bulk_13</th>\n",
       "      <th>bulk_14</th>\n",
       "      <th>bulk_15</th>\n",
       "    </tr>\n",
       "  </thead>\n",
       "  <tbody>\n",
       "    <tr>\n",
       "      <th>0</th>\n",
       "      <td>1</td>\n",
       "      <td>NaN</td>\n",
       "      <td>NaN</td>\n",
       "      <td>NaN</td>\n",
       "      <td>2019-05-03 11:21:30</td>\n",
       "      <td>NaN</td>\n",
       "      <td>NaN</td>\n",
       "      <td>NaN</td>\n",
       "      <td>NaN</td>\n",
       "      <td>NaN</td>\n",
       "      <td>NaN</td>\n",
       "      <td>NaN</td>\n",
       "      <td>2019-05-03 11:03:52</td>\n",
       "      <td>NaN</td>\n",
       "      <td>2019-05-03 11:03:52</td>\n",
       "      <td>2019-05-03 11:03:52</td>\n",
       "    </tr>\n",
       "  </tbody>\n",
       "</table>\n",
       "</div>"
      ],
      "text/plain": [
       "   key bulk_1 bulk_2 bulk_3               bulk_4 bulk_5 bulk_6 bulk_7 bulk_8  \\\n",
       "0    1    NaN    NaN    NaN  2019-05-03 11:21:30    NaN    NaN    NaN    NaN   \n",
       "\n",
       "  bulk_9 bulk_10 bulk_11              bulk_12 bulk_13              bulk_14  \\\n",
       "0    NaN     NaN     NaN  2019-05-03 11:03:52     NaN  2019-05-03 11:03:52   \n",
       "\n",
       "               bulk_15  \n",
       "0  2019-05-03 11:03:52  "
      ]
     },
     "execution_count": 25,
     "metadata": {},
     "output_type": "execute_result"
    }
   ],
   "source": [
    "data_bulk_time.columns = [re.sub(r' ', r'_', name).lower() for name in data_bulk_time.columns]\n",
    "data_bulk_time.head(1)"
   ]
  },
  {
   "cell_type": "code",
   "execution_count": 26,
   "id": "07240579",
   "metadata": {},
   "outputs": [
    {
     "data": {
      "text/html": [
       "<div>\n",
       "<style scoped>\n",
       "    .dataframe tbody tr th:only-of-type {\n",
       "        vertical-align: middle;\n",
       "    }\n",
       "\n",
       "    .dataframe tbody tr th {\n",
       "        vertical-align: top;\n",
       "    }\n",
       "\n",
       "    .dataframe thead th {\n",
       "        text-align: right;\n",
       "    }\n",
       "</style>\n",
       "<table border=\"1\" class=\"dataframe\">\n",
       "  <thead>\n",
       "    <tr style=\"text-align: right;\">\n",
       "      <th></th>\n",
       "      <th>key</th>\n",
       "      <th>gas</th>\n",
       "    </tr>\n",
       "  </thead>\n",
       "  <tbody>\n",
       "    <tr>\n",
       "      <th>0</th>\n",
       "      <td>1</td>\n",
       "      <td>29.749986</td>\n",
       "    </tr>\n",
       "  </tbody>\n",
       "</table>\n",
       "</div>"
      ],
      "text/plain": [
       "   key        gas\n",
       "0    1  29.749986"
      ]
     },
     "execution_count": 26,
     "metadata": {},
     "output_type": "execute_result"
    }
   ],
   "source": [
    "data_gas = data_gas.rename(columns={'Газ 1':'gas'})\n",
    "data_gas.head(1)"
   ]
  },
  {
   "cell_type": "code",
   "execution_count": 27,
   "id": "4d7c35c0",
   "metadata": {},
   "outputs": [
    {
     "data": {
      "text/html": [
       "<div>\n",
       "<style scoped>\n",
       "    .dataframe tbody tr th:only-of-type {\n",
       "        vertical-align: middle;\n",
       "    }\n",
       "\n",
       "    .dataframe tbody tr th {\n",
       "        vertical-align: top;\n",
       "    }\n",
       "\n",
       "    .dataframe thead th {\n",
       "        text-align: right;\n",
       "    }\n",
       "</style>\n",
       "<table border=\"1\" class=\"dataframe\">\n",
       "  <thead>\n",
       "    <tr style=\"text-align: right;\">\n",
       "      <th></th>\n",
       "      <th>key</th>\n",
       "      <th>time_temp_measure</th>\n",
       "      <th>temp</th>\n",
       "    </tr>\n",
       "  </thead>\n",
       "  <tbody>\n",
       "    <tr>\n",
       "      <th>0</th>\n",
       "      <td>1</td>\n",
       "      <td>2019-05-03 11:16:18</td>\n",
       "      <td>1571.0</td>\n",
       "    </tr>\n",
       "  </tbody>\n",
       "</table>\n",
       "</div>"
      ],
      "text/plain": [
       "   key    time_temp_measure    temp\n",
       "0    1  2019-05-03 11:16:18  1571.0"
      ]
     },
     "execution_count": 27,
     "metadata": {},
     "output_type": "execute_result"
    }
   ],
   "source": [
    "data_temp = data_temp.rename(columns={'Время замера':'time_temp_measure',\n",
    "                                      'Температура':'temp'})\n",
    "data_temp.head(1)"
   ]
  },
  {
   "cell_type": "code",
   "execution_count": 28,
   "id": "cc8f5526",
   "metadata": {},
   "outputs": [
    {
     "data": {
      "text/html": [
       "<div>\n",
       "<style scoped>\n",
       "    .dataframe tbody tr th:only-of-type {\n",
       "        vertical-align: middle;\n",
       "    }\n",
       "\n",
       "    .dataframe tbody tr th {\n",
       "        vertical-align: top;\n",
       "    }\n",
       "\n",
       "    .dataframe thead th {\n",
       "        text-align: right;\n",
       "    }\n",
       "</style>\n",
       "<table border=\"1\" class=\"dataframe\">\n",
       "  <thead>\n",
       "    <tr style=\"text-align: right;\">\n",
       "      <th></th>\n",
       "      <th>key</th>\n",
       "      <th>wire_1</th>\n",
       "      <th>wire_2</th>\n",
       "      <th>wire_3</th>\n",
       "      <th>wire_4</th>\n",
       "      <th>wire_5</th>\n",
       "      <th>wire_6</th>\n",
       "      <th>wire_7</th>\n",
       "      <th>wire_8</th>\n",
       "      <th>wire_9</th>\n",
       "    </tr>\n",
       "  </thead>\n",
       "  <tbody>\n",
       "    <tr>\n",
       "      <th>0</th>\n",
       "      <td>1</td>\n",
       "      <td>60.059998</td>\n",
       "      <td>NaN</td>\n",
       "      <td>NaN</td>\n",
       "      <td>NaN</td>\n",
       "      <td>NaN</td>\n",
       "      <td>NaN</td>\n",
       "      <td>NaN</td>\n",
       "      <td>NaN</td>\n",
       "      <td>NaN</td>\n",
       "    </tr>\n",
       "  </tbody>\n",
       "</table>\n",
       "</div>"
      ],
      "text/plain": [
       "   key     wire_1  wire_2  wire_3  wire_4  wire_5  wire_6  wire_7  wire_8  \\\n",
       "0    1  60.059998     NaN     NaN     NaN     NaN     NaN     NaN     NaN   \n",
       "\n",
       "   wire_9  \n",
       "0     NaN  "
      ]
     },
     "execution_count": 28,
     "metadata": {},
     "output_type": "execute_result"
    }
   ],
   "source": [
    "data_wire.columns = [re.sub(r' ', r'_', name).lower() for name in data_wire.columns]\n",
    "data_wire.head(1)"
   ]
  },
  {
   "cell_type": "code",
   "execution_count": 29,
   "id": "cb02c689",
   "metadata": {},
   "outputs": [
    {
     "data": {
      "text/html": [
       "<div>\n",
       "<style scoped>\n",
       "    .dataframe tbody tr th:only-of-type {\n",
       "        vertical-align: middle;\n",
       "    }\n",
       "\n",
       "    .dataframe tbody tr th {\n",
       "        vertical-align: top;\n",
       "    }\n",
       "\n",
       "    .dataframe thead th {\n",
       "        text-align: right;\n",
       "    }\n",
       "</style>\n",
       "<table border=\"1\" class=\"dataframe\">\n",
       "  <thead>\n",
       "    <tr style=\"text-align: right;\">\n",
       "      <th></th>\n",
       "      <th>key</th>\n",
       "      <th>wire_1</th>\n",
       "      <th>wire_2</th>\n",
       "      <th>wire_3</th>\n",
       "      <th>wire_4</th>\n",
       "      <th>wire_5</th>\n",
       "      <th>wire_6</th>\n",
       "      <th>wire_7</th>\n",
       "      <th>wire_8</th>\n",
       "      <th>wire_9</th>\n",
       "    </tr>\n",
       "  </thead>\n",
       "  <tbody>\n",
       "    <tr>\n",
       "      <th>0</th>\n",
       "      <td>1</td>\n",
       "      <td>2019-05-03 11:11:41</td>\n",
       "      <td>NaN</td>\n",
       "      <td>NaN</td>\n",
       "      <td>NaN</td>\n",
       "      <td>NaN</td>\n",
       "      <td>NaN</td>\n",
       "      <td>NaN</td>\n",
       "      <td>NaN</td>\n",
       "      <td>NaN</td>\n",
       "    </tr>\n",
       "  </tbody>\n",
       "</table>\n",
       "</div>"
      ],
      "text/plain": [
       "   key               wire_1 wire_2 wire_3 wire_4 wire_5 wire_6 wire_7 wire_8  \\\n",
       "0    1  2019-05-03 11:11:41    NaN    NaN    NaN    NaN    NaN    NaN    NaN   \n",
       "\n",
       "  wire_9  \n",
       "0    NaN  "
      ]
     },
     "execution_count": 29,
     "metadata": {},
     "output_type": "execute_result"
    }
   ],
   "source": [
    "data_wire_time.columns = [re.sub(r' ', r'_', name).lower() for name in data_wire_time.columns]\n",
    "data_wire_time.head(1)"
   ]
  },
  {
   "cell_type": "markdown",
   "id": "420780ac",
   "metadata": {},
   "source": [
    "## 1.2 Заполнение пропусков, удаление лишних данных"
   ]
  },
  {
   "cell_type": "markdown",
   "id": "d2c5a4e0",
   "metadata": {},
   "source": [
    "**Данные по электродам**"
   ]
  },
  {
   "cell_type": "code",
   "execution_count": 30,
   "id": "3e26fecc",
   "metadata": {},
   "outputs": [
    {
     "data": {
      "text/plain": [
       "9780    2116\n",
       "Name: key, dtype: int64"
      ]
     },
     "execution_count": 30,
     "metadata": {},
     "output_type": "execute_result"
    }
   ],
   "source": [
    "data_arc[data_arc['reactive_power']<0]['key'] # находим партию с отрицательной реактивной мощностью"
   ]
  },
  {
   "cell_type": "code",
   "execution_count": 31,
   "id": "d3a34f95",
   "metadata": {},
   "outputs": [
    {
     "data": {
      "text/html": [
       "<div>\n",
       "<style scoped>\n",
       "    .dataframe tbody tr th:only-of-type {\n",
       "        vertical-align: middle;\n",
       "    }\n",
       "\n",
       "    .dataframe tbody tr th {\n",
       "        vertical-align: top;\n",
       "    }\n",
       "\n",
       "    .dataframe thead th {\n",
       "        text-align: right;\n",
       "    }\n",
       "</style>\n",
       "<table border=\"1\" class=\"dataframe\">\n",
       "  <thead>\n",
       "    <tr style=\"text-align: right;\">\n",
       "      <th></th>\n",
       "      <th>key</th>\n",
       "      <th>arc_heating_start</th>\n",
       "      <th>arc_heating_end</th>\n",
       "      <th>active_power</th>\n",
       "      <th>reactive_power</th>\n",
       "    </tr>\n",
       "  </thead>\n",
       "  <tbody>\n",
       "  </tbody>\n",
       "</table>\n",
       "</div>"
      ],
      "text/plain": [
       "Empty DataFrame\n",
       "Columns: [key, arc_heating_start, arc_heating_end, active_power, reactive_power]\n",
       "Index: []"
      ]
     },
     "execution_count": 31,
     "metadata": {},
     "output_type": "execute_result"
    }
   ],
   "source": [
    "# удаляем эту партию, чтобы не осталось не верных данных, после удаления одного процесса из партии\n",
    "data_arc = data_arc[data_arc['key'] != 2116].reset_index(drop=True) \n",
    "# проверяем\n",
    "data_arc[data_arc['key'] == 2116] "
   ]
  },
  {
   "cell_type": "markdown",
   "id": "2b6356c5",
   "metadata": {},
   "source": [
    "**Сыпучие материалы(объем)**"
   ]
  },
  {
   "cell_type": "code",
   "execution_count": 32,
   "id": "8fccd8d4",
   "metadata": {},
   "outputs": [
    {
     "data": {
      "text/plain": [
       "key         0.000000\n",
       "bulk_1     91.946309\n",
       "bulk_2     99.296900\n",
       "bulk_3     58.517098\n",
       "bulk_4     67.593480\n",
       "bulk_5     97.539150\n",
       "bulk_6     81.591563\n",
       "bulk_7     99.201023\n",
       "bulk_8     99.968041\n",
       "bulk_9     99.392777\n",
       "bulk_10    94.375200\n",
       "bulk_11    94.343241\n",
       "bulk_12    21.700224\n",
       "bulk_13    99.424736\n",
       "bulk_14    10.322787\n",
       "bulk_15    28.155960\n",
       "dtype: float64"
      ]
     },
     "execution_count": 32,
     "metadata": {},
     "output_type": "execute_result"
    }
   ],
   "source": [
    "data_bulk.isna().mean()*100 # процент пропусков"
   ]
  },
  {
   "cell_type": "code",
   "execution_count": 33,
   "id": "2c2c8369",
   "metadata": {},
   "outputs": [],
   "source": [
    "# удалим столбцы, где меньше всего значений (99% пропусков), чтобы не засорять датасет пустыми признаками,\n",
    "# заказчик подтвердил, что удаление корректно\n",
    "data_bulk = data_bulk.drop(data_bulk[['bulk_2','bulk_7','bulk_8','bulk_9','bulk_13']], axis=1)\n",
    "# заполняем нулям пропуски\n",
    "data_bulk = data_bulk.fillna(0)"
   ]
  },
  {
   "cell_type": "code",
   "execution_count": 34,
   "id": "a102cf7d",
   "metadata": {},
   "outputs": [
    {
     "data": {
      "text/html": [
       "<div>\n",
       "<style scoped>\n",
       "    .dataframe tbody tr th:only-of-type {\n",
       "        vertical-align: middle;\n",
       "    }\n",
       "\n",
       "    .dataframe tbody tr th {\n",
       "        vertical-align: top;\n",
       "    }\n",
       "\n",
       "    .dataframe thead th {\n",
       "        text-align: right;\n",
       "    }\n",
       "</style>\n",
       "<table border=\"1\" class=\"dataframe\">\n",
       "  <thead>\n",
       "    <tr style=\"text-align: right;\">\n",
       "      <th></th>\n",
       "      <th>key</th>\n",
       "      <th>bulk_1</th>\n",
       "      <th>bulk_3</th>\n",
       "      <th>bulk_4</th>\n",
       "      <th>bulk_5</th>\n",
       "      <th>bulk_6</th>\n",
       "      <th>bulk_10</th>\n",
       "      <th>bulk_11</th>\n",
       "      <th>bulk_12</th>\n",
       "      <th>bulk_14</th>\n",
       "      <th>bulk_15</th>\n",
       "    </tr>\n",
       "  </thead>\n",
       "  <tbody>\n",
       "    <tr>\n",
       "      <th>0</th>\n",
       "      <td>1</td>\n",
       "      <td>0.0</td>\n",
       "      <td>0.0</td>\n",
       "      <td>43.0</td>\n",
       "      <td>0.0</td>\n",
       "      <td>0.0</td>\n",
       "      <td>0.0</td>\n",
       "      <td>0.0</td>\n",
       "      <td>206.0</td>\n",
       "      <td>150.0</td>\n",
       "      <td>154.0</td>\n",
       "    </tr>\n",
       "  </tbody>\n",
       "</table>\n",
       "</div>"
      ],
      "text/plain": [
       "   key  bulk_1  bulk_3  bulk_4  bulk_5  bulk_6  bulk_10  bulk_11  bulk_12  \\\n",
       "0    1     0.0     0.0    43.0     0.0     0.0      0.0      0.0    206.0   \n",
       "\n",
       "   bulk_14  bulk_15  \n",
       "0    150.0    154.0  "
      ]
     },
     "execution_count": 34,
     "metadata": {},
     "output_type": "execute_result"
    }
   ],
   "source": [
    "data_bulk.head(1)"
   ]
  },
  {
   "cell_type": "markdown",
   "id": "ab429661",
   "metadata": {},
   "source": [
    "**Сыпучие материалы(время)**"
   ]
  },
  {
   "cell_type": "code",
   "execution_count": 35,
   "id": "6408779d",
   "metadata": {},
   "outputs": [],
   "source": [
    "# удалим те же столбцы\n",
    "data_bulk_time = data_bulk_time.drop(data_bulk_time[['bulk_2','bulk_7','bulk_8','bulk_9','bulk_13']], axis=1)\n",
    "# заполняем нулям пропуски\n",
    "data_bulk_time = data_bulk_time.fillna(0)"
   ]
  },
  {
   "cell_type": "code",
   "execution_count": 36,
   "id": "613dfd62",
   "metadata": {
    "scrolled": true
   },
   "outputs": [
    {
     "data": {
      "text/html": [
       "<div>\n",
       "<style scoped>\n",
       "    .dataframe tbody tr th:only-of-type {\n",
       "        vertical-align: middle;\n",
       "    }\n",
       "\n",
       "    .dataframe tbody tr th {\n",
       "        vertical-align: top;\n",
       "    }\n",
       "\n",
       "    .dataframe thead th {\n",
       "        text-align: right;\n",
       "    }\n",
       "</style>\n",
       "<table border=\"1\" class=\"dataframe\">\n",
       "  <thead>\n",
       "    <tr style=\"text-align: right;\">\n",
       "      <th></th>\n",
       "      <th>key</th>\n",
       "      <th>bulk_1</th>\n",
       "      <th>bulk_3</th>\n",
       "      <th>bulk_4</th>\n",
       "      <th>bulk_5</th>\n",
       "      <th>bulk_6</th>\n",
       "      <th>bulk_10</th>\n",
       "      <th>bulk_11</th>\n",
       "      <th>bulk_12</th>\n",
       "      <th>bulk_14</th>\n",
       "      <th>bulk_15</th>\n",
       "    </tr>\n",
       "  </thead>\n",
       "  <tbody>\n",
       "    <tr>\n",
       "      <th>0</th>\n",
       "      <td>1</td>\n",
       "      <td>0</td>\n",
       "      <td>0</td>\n",
       "      <td>2019-05-03 11:21:30</td>\n",
       "      <td>0</td>\n",
       "      <td>0</td>\n",
       "      <td>0</td>\n",
       "      <td>0</td>\n",
       "      <td>2019-05-03 11:03:52</td>\n",
       "      <td>2019-05-03 11:03:52</td>\n",
       "      <td>2019-05-03 11:03:52</td>\n",
       "    </tr>\n",
       "  </tbody>\n",
       "</table>\n",
       "</div>"
      ],
      "text/plain": [
       "   key bulk_1 bulk_3               bulk_4 bulk_5 bulk_6 bulk_10 bulk_11  \\\n",
       "0    1      0      0  2019-05-03 11:21:30      0      0       0       0   \n",
       "\n",
       "               bulk_12              bulk_14              bulk_15  \n",
       "0  2019-05-03 11:03:52  2019-05-03 11:03:52  2019-05-03 11:03:52  "
      ]
     },
     "execution_count": 36,
     "metadata": {},
     "output_type": "execute_result"
    }
   ],
   "source": [
    "data_bulk_time.head(1)"
   ]
  },
  {
   "cell_type": "markdown",
   "id": "153e6336",
   "metadata": {},
   "source": [
    "**Продувка газом**"
   ]
  },
  {
   "cell_type": "markdown",
   "id": "da198a37",
   "metadata": {},
   "source": [
    "По газу нет пропусков, выбросы трогать не будем, других проблем нет. Оставляем без изменений."
   ]
  },
  {
   "cell_type": "markdown",
   "id": "bdf0fe66",
   "metadata": {},
   "source": [
    "**Проволочные материалы(объем)**"
   ]
  },
  {
   "cell_type": "code",
   "execution_count": 37,
   "id": "733e8c7e",
   "metadata": {},
   "outputs": [
    {
     "data": {
      "text/plain": [
       "key        0.000000\n",
       "wire_1     0.843882\n",
       "wire_2    64.978903\n",
       "wire_3    97.955209\n",
       "wire_4    99.545602\n",
       "wire_5    99.967543\n",
       "wire_6    97.630639\n",
       "wire_7    99.642973\n",
       "wire_8    99.383317\n",
       "wire_9    99.058747\n",
       "dtype: float64"
      ]
     },
     "execution_count": 37,
     "metadata": {},
     "output_type": "execute_result"
    }
   ],
   "source": [
    "data_wire.isna().mean()*100"
   ]
  },
  {
   "cell_type": "code",
   "execution_count": 38,
   "id": "f54ab105",
   "metadata": {},
   "outputs": [],
   "source": [
    "# удалим столбцы, где меньше всего значений (99% пропусков), чтобы не засорять датасет пустыми признаками,\n",
    "# заказчик подтвердил, что удаление корректно\n",
    "data_wire = data_wire.drop(data_wire[['wire_4','wire_5','wire_7','wire_8','wire_9']], axis=1)\n",
    "# заполняем нулям пропуски\n",
    "data_wire = data_wire.fillna(0)"
   ]
  },
  {
   "cell_type": "code",
   "execution_count": 39,
   "id": "8be2e8b8",
   "metadata": {},
   "outputs": [
    {
     "data": {
      "text/html": [
       "<div>\n",
       "<style scoped>\n",
       "    .dataframe tbody tr th:only-of-type {\n",
       "        vertical-align: middle;\n",
       "    }\n",
       "\n",
       "    .dataframe tbody tr th {\n",
       "        vertical-align: top;\n",
       "    }\n",
       "\n",
       "    .dataframe thead th {\n",
       "        text-align: right;\n",
       "    }\n",
       "</style>\n",
       "<table border=\"1\" class=\"dataframe\">\n",
       "  <thead>\n",
       "    <tr style=\"text-align: right;\">\n",
       "      <th></th>\n",
       "      <th>key</th>\n",
       "      <th>wire_1</th>\n",
       "      <th>wire_2</th>\n",
       "      <th>wire_3</th>\n",
       "      <th>wire_6</th>\n",
       "    </tr>\n",
       "  </thead>\n",
       "  <tbody>\n",
       "    <tr>\n",
       "      <th>0</th>\n",
       "      <td>1</td>\n",
       "      <td>60.059998</td>\n",
       "      <td>0.0</td>\n",
       "      <td>0.0</td>\n",
       "      <td>0.0</td>\n",
       "    </tr>\n",
       "  </tbody>\n",
       "</table>\n",
       "</div>"
      ],
      "text/plain": [
       "   key     wire_1  wire_2  wire_3  wire_6\n",
       "0    1  60.059998     0.0     0.0     0.0"
      ]
     },
     "execution_count": 39,
     "metadata": {},
     "output_type": "execute_result"
    }
   ],
   "source": [
    "data_wire.head(1)"
   ]
  },
  {
   "cell_type": "markdown",
   "id": "0bc5ef62",
   "metadata": {},
   "source": [
    "**Проволочные материалы(время)**"
   ]
  },
  {
   "cell_type": "code",
   "execution_count": 40,
   "id": "6ee8cfad",
   "metadata": {},
   "outputs": [],
   "source": [
    "# удалим те же столбцы\n",
    "data_wire_time = data_wire_time.drop(data_wire_time[['wire_4','wire_5','wire_7','wire_8','wire_9']], axis=1)\n",
    "# заполняем нулям пропуски\n",
    "data_wire_time = data_wire_time.fillna(0)"
   ]
  },
  {
   "cell_type": "code",
   "execution_count": 41,
   "id": "aae8de9a",
   "metadata": {
    "scrolled": true
   },
   "outputs": [
    {
     "data": {
      "text/html": [
       "<div>\n",
       "<style scoped>\n",
       "    .dataframe tbody tr th:only-of-type {\n",
       "        vertical-align: middle;\n",
       "    }\n",
       "\n",
       "    .dataframe tbody tr th {\n",
       "        vertical-align: top;\n",
       "    }\n",
       "\n",
       "    .dataframe thead th {\n",
       "        text-align: right;\n",
       "    }\n",
       "</style>\n",
       "<table border=\"1\" class=\"dataframe\">\n",
       "  <thead>\n",
       "    <tr style=\"text-align: right;\">\n",
       "      <th></th>\n",
       "      <th>key</th>\n",
       "      <th>wire_1</th>\n",
       "      <th>wire_2</th>\n",
       "      <th>wire_3</th>\n",
       "      <th>wire_6</th>\n",
       "    </tr>\n",
       "  </thead>\n",
       "  <tbody>\n",
       "    <tr>\n",
       "      <th>0</th>\n",
       "      <td>1</td>\n",
       "      <td>2019-05-03 11:11:41</td>\n",
       "      <td>0</td>\n",
       "      <td>0</td>\n",
       "      <td>0</td>\n",
       "    </tr>\n",
       "  </tbody>\n",
       "</table>\n",
       "</div>"
      ],
      "text/plain": [
       "   key               wire_1 wire_2 wire_3 wire_6\n",
       "0    1  2019-05-03 11:11:41      0      0      0"
      ]
     },
     "execution_count": 41,
     "metadata": {},
     "output_type": "execute_result"
    }
   ],
   "source": [
    "data_wire_time.head(1)"
   ]
  },
  {
   "cell_type": "markdown",
   "id": "e97f85cd",
   "metadata": {},
   "source": [
    "**Температура**"
   ]
  },
  {
   "cell_type": "code",
   "execution_count": 42,
   "id": "dd22712b",
   "metadata": {},
   "outputs": [],
   "source": [
    "# удалим партии, где температура была меньше 1500 градусов\n",
    "data_temp = data_temp.query('key != @low_temp_list')"
   ]
  },
  {
   "cell_type": "code",
   "execution_count": 43,
   "id": "1da17ce5",
   "metadata": {},
   "outputs": [
    {
     "data": {
      "text/html": [
       "<div>\n",
       "<style scoped>\n",
       "    .dataframe tbody tr th:only-of-type {\n",
       "        vertical-align: middle;\n",
       "    }\n",
       "\n",
       "    .dataframe tbody tr th {\n",
       "        vertical-align: top;\n",
       "    }\n",
       "\n",
       "    .dataframe thead th {\n",
       "        text-align: right;\n",
       "    }\n",
       "</style>\n",
       "<table border=\"1\" class=\"dataframe\">\n",
       "  <thead>\n",
       "    <tr style=\"text-align: right;\">\n",
       "      <th></th>\n",
       "      <th>key</th>\n",
       "      <th>time_temp_measure</th>\n",
       "      <th>temp</th>\n",
       "    </tr>\n",
       "  </thead>\n",
       "  <tbody>\n",
       "  </tbody>\n",
       "</table>\n",
       "</div>"
      ],
      "text/plain": [
       "Empty DataFrame\n",
       "Columns: [key, time_temp_measure, temp]\n",
       "Index: []"
      ]
     },
     "execution_count": 43,
     "metadata": {},
     "output_type": "execute_result"
    }
   ],
   "source": [
    "# проверяем\n",
    "data_temp.query('key in @low_temp_list')"
   ]
  },
  {
   "cell_type": "code",
   "execution_count": 44,
   "id": "6e09d80d",
   "metadata": {},
   "outputs": [],
   "source": [
    "# удалим партии с пропусками температуры\n",
    "isna_temp_list = list(set(data_temp[data_temp['temp'].isna()]['key']))\n",
    "data_temp = data_temp.query('key != @isna_temp_list')"
   ]
  },
  {
   "cell_type": "code",
   "execution_count": 45,
   "id": "bd61dd7c",
   "metadata": {},
   "outputs": [
    {
     "data": {
      "text/html": [
       "<div>\n",
       "<style scoped>\n",
       "    .dataframe tbody tr th:only-of-type {\n",
       "        vertical-align: middle;\n",
       "    }\n",
       "\n",
       "    .dataframe tbody tr th {\n",
       "        vertical-align: top;\n",
       "    }\n",
       "\n",
       "    .dataframe thead th {\n",
       "        text-align: right;\n",
       "    }\n",
       "</style>\n",
       "<table border=\"1\" class=\"dataframe\">\n",
       "  <thead>\n",
       "    <tr style=\"text-align: right;\">\n",
       "      <th></th>\n",
       "      <th>key</th>\n",
       "      <th>time_temp_measure</th>\n",
       "      <th>temp</th>\n",
       "    </tr>\n",
       "  </thead>\n",
       "  <tbody>\n",
       "  </tbody>\n",
       "</table>\n",
       "</div>"
      ],
      "text/plain": [
       "Empty DataFrame\n",
       "Columns: [key, time_temp_measure, temp]\n",
       "Index: []"
      ]
     },
     "execution_count": 45,
     "metadata": {},
     "output_type": "execute_result"
    }
   ],
   "source": [
    "# проверяем\n",
    "data_temp.query('key in @isna_temp_list')"
   ]
  },
  {
   "cell_type": "code",
   "execution_count": 46,
   "id": "fe51ada6",
   "metadata": {},
   "outputs": [],
   "source": [
    "# удалим партии, где всего одно измерение температуры\n",
    "low_count_temp_list = data_temp.groupby('key').agg({'temp':['count']}).reset_index()\n",
    "low_count_temp_list = low_count_temp_list[low_count_temp_list['temp','count']<2]['key']"
   ]
  },
  {
   "cell_type": "code",
   "execution_count": 47,
   "id": "cf0f762f",
   "metadata": {},
   "outputs": [],
   "source": [
    "data_temp = data_temp.query('key not in @low_count_temp_list').reset_index(drop=True) "
   ]
  },
  {
   "cell_type": "code",
   "execution_count": 48,
   "id": "63ae0a26",
   "metadata": {
    "scrolled": true
   },
   "outputs": [
    {
     "data": {
      "text/html": [
       "<div>\n",
       "<style scoped>\n",
       "    .dataframe tbody tr th:only-of-type {\n",
       "        vertical-align: middle;\n",
       "    }\n",
       "\n",
       "    .dataframe tbody tr th {\n",
       "        vertical-align: top;\n",
       "    }\n",
       "\n",
       "    .dataframe thead th {\n",
       "        text-align: right;\n",
       "    }\n",
       "</style>\n",
       "<table border=\"1\" class=\"dataframe\">\n",
       "  <thead>\n",
       "    <tr style=\"text-align: right;\">\n",
       "      <th></th>\n",
       "      <th>key</th>\n",
       "      <th>time_temp_measure</th>\n",
       "      <th>temp</th>\n",
       "    </tr>\n",
       "  </thead>\n",
       "  <tbody>\n",
       "  </tbody>\n",
       "</table>\n",
       "</div>"
      ],
      "text/plain": [
       "Empty DataFrame\n",
       "Columns: [key, time_temp_measure, temp]\n",
       "Index: []"
      ]
     },
     "execution_count": 48,
     "metadata": {},
     "output_type": "execute_result"
    }
   ],
   "source": [
    "# проверяем\n",
    "data_temp.query('key in @low_count_temp_list')"
   ]
  },
  {
   "cell_type": "markdown",
   "id": "f96fe7f9",
   "metadata": {},
   "source": [
    "**Выводы**"
   ]
  },
  {
   "cell_type": "markdown",
   "id": "ec59c509",
   "metadata": {},
   "source": [
    "- Столбцы приведены к стандарту pep 8\n",
    "- Пропуски заполнены нулями\n",
    "- Удален ключ(партия) с отрицательным значением реактивной мощности\n",
    "- Удалены ключи с низким значением температуры (меньше 1500), выбросы плохо влияют на обучаемость модели\n",
    "- Удалены ключи с пропусками температуры и один значением\n",
    "- Данные готовы для объединения"
   ]
  },
  {
   "cell_type": "markdown",
   "id": "e61c66d9",
   "metadata": {},
   "source": [
    "# 2. Объединение данных"
   ]
  },
  {
   "cell_type": "markdown",
   "id": "075210a5",
   "metadata": {},
   "source": [
    "## Подготовка для объединения, создание признаков"
   ]
  },
  {
   "cell_type": "code",
   "execution_count": 49,
   "id": "a48a6ed8",
   "metadata": {},
   "outputs": [
    {
     "data": {
      "text/html": [
       "<div>\n",
       "<style scoped>\n",
       "    .dataframe tbody tr th:only-of-type {\n",
       "        vertical-align: middle;\n",
       "    }\n",
       "\n",
       "    .dataframe tbody tr th {\n",
       "        vertical-align: top;\n",
       "    }\n",
       "\n",
       "    .dataframe thead th {\n",
       "        text-align: right;\n",
       "    }\n",
       "</style>\n",
       "<table border=\"1\" class=\"dataframe\">\n",
       "  <thead>\n",
       "    <tr style=\"text-align: right;\">\n",
       "      <th></th>\n",
       "      <th>key</th>\n",
       "      <th>count</th>\n",
       "    </tr>\n",
       "  </thead>\n",
       "  <tbody>\n",
       "    <tr>\n",
       "      <th>0</th>\n",
       "      <td>1</td>\n",
       "      <td>5</td>\n",
       "    </tr>\n",
       "    <tr>\n",
       "      <th>1</th>\n",
       "      <td>2</td>\n",
       "      <td>6</td>\n",
       "    </tr>\n",
       "    <tr>\n",
       "      <th>2</th>\n",
       "      <td>3</td>\n",
       "      <td>5</td>\n",
       "    </tr>\n",
       "    <tr>\n",
       "      <th>3</th>\n",
       "      <td>4</td>\n",
       "      <td>3</td>\n",
       "    </tr>\n",
       "    <tr>\n",
       "      <th>4</th>\n",
       "      <td>5</td>\n",
       "      <td>2</td>\n",
       "    </tr>\n",
       "    <tr>\n",
       "      <th>...</th>\n",
       "      <td>...</td>\n",
       "      <td>...</td>\n",
       "    </tr>\n",
       "    <tr>\n",
       "      <th>2465</th>\n",
       "      <td>2495</td>\n",
       "      <td>3</td>\n",
       "    </tr>\n",
       "    <tr>\n",
       "      <th>2466</th>\n",
       "      <td>2496</td>\n",
       "      <td>4</td>\n",
       "    </tr>\n",
       "    <tr>\n",
       "      <th>2467</th>\n",
       "      <td>2497</td>\n",
       "      <td>2</td>\n",
       "    </tr>\n",
       "    <tr>\n",
       "      <th>2468</th>\n",
       "      <td>2498</td>\n",
       "      <td>5</td>\n",
       "    </tr>\n",
       "    <tr>\n",
       "      <th>2469</th>\n",
       "      <td>2499</td>\n",
       "      <td>3</td>\n",
       "    </tr>\n",
       "  </tbody>\n",
       "</table>\n",
       "<p>2470 rows × 2 columns</p>\n",
       "</div>"
      ],
      "text/plain": [
       "       key  count\n",
       "0        1      5\n",
       "1        2      6\n",
       "2        3      5\n",
       "3        4      3\n",
       "4        5      2\n",
       "...    ...    ...\n",
       "2465  2495      3\n",
       "2466  2496      4\n",
       "2467  2497      2\n",
       "2468  2498      5\n",
       "2469  2499      3\n",
       "\n",
       "[2470 rows x 2 columns]"
      ]
     },
     "execution_count": 49,
     "metadata": {},
     "output_type": "execute_result"
    }
   ],
   "source": [
    "# создадим таблицу с подсчетом итераций в партии\n",
    "count_key = data_temp['key'].value_counts().sort_index().reset_index().rename(columns={'index':'key','key':'count'})\n",
    "count_key"
   ]
  },
  {
   "cell_type": "markdown",
   "id": "a9eaf0df",
   "metadata": {},
   "source": [
    "**Подготовка таблицы с электродами**"
   ]
  },
  {
   "cell_type": "code",
   "execution_count": 50,
   "id": "e1c88f67",
   "metadata": {},
   "outputs": [
    {
     "data": {
      "text/html": [
       "<div>\n",
       "<style scoped>\n",
       "    .dataframe tbody tr th:only-of-type {\n",
       "        vertical-align: middle;\n",
       "    }\n",
       "\n",
       "    .dataframe tbody tr th {\n",
       "        vertical-align: top;\n",
       "    }\n",
       "\n",
       "    .dataframe thead th {\n",
       "        text-align: right;\n",
       "    }\n",
       "</style>\n",
       "<table border=\"1\" class=\"dataframe\">\n",
       "  <thead>\n",
       "    <tr style=\"text-align: right;\">\n",
       "      <th></th>\n",
       "      <th>key</th>\n",
       "      <th>arc_heating_start</th>\n",
       "      <th>arc_heating_end</th>\n",
       "      <th>active_power</th>\n",
       "      <th>reactive_power</th>\n",
       "      <th>arc_heating_time</th>\n",
       "      <th>full_power</th>\n",
       "      <th>energy</th>\n",
       "    </tr>\n",
       "  </thead>\n",
       "  <tbody>\n",
       "    <tr>\n",
       "      <th>0</th>\n",
       "      <td>1</td>\n",
       "      <td>2019-05-03 11:02:14</td>\n",
       "      <td>2019-05-03 11:06:02</td>\n",
       "      <td>0.976059</td>\n",
       "      <td>0.687084</td>\n",
       "      <td>228</td>\n",
       "      <td>1.193639</td>\n",
       "      <td>0.075597</td>\n",
       "    </tr>\n",
       "    <tr>\n",
       "      <th>1</th>\n",
       "      <td>1</td>\n",
       "      <td>2019-05-03 11:07:28</td>\n",
       "      <td>2019-05-03 11:10:33</td>\n",
       "      <td>0.805607</td>\n",
       "      <td>0.520285</td>\n",
       "      <td>185</td>\n",
       "      <td>0.959010</td>\n",
       "      <td>0.049282</td>\n",
       "    </tr>\n",
       "    <tr>\n",
       "      <th>2</th>\n",
       "      <td>1</td>\n",
       "      <td>2019-05-03 11:11:44</td>\n",
       "      <td>2019-05-03 11:14:36</td>\n",
       "      <td>0.744363</td>\n",
       "      <td>0.498805</td>\n",
       "      <td>172</td>\n",
       "      <td>0.896038</td>\n",
       "      <td>0.042811</td>\n",
       "    </tr>\n",
       "    <tr>\n",
       "      <th>3</th>\n",
       "      <td>1</td>\n",
       "      <td>2019-05-03 11:18:14</td>\n",
       "      <td>2019-05-03 11:24:19</td>\n",
       "      <td>1.659363</td>\n",
       "      <td>1.062669</td>\n",
       "      <td>365</td>\n",
       "      <td>1.970470</td>\n",
       "      <td>0.199784</td>\n",
       "    </tr>\n",
       "    <tr>\n",
       "      <th>4</th>\n",
       "      <td>1</td>\n",
       "      <td>2019-05-03 11:26:09</td>\n",
       "      <td>2019-05-03 11:28:37</td>\n",
       "      <td>0.692755</td>\n",
       "      <td>0.414397</td>\n",
       "      <td>148</td>\n",
       "      <td>0.807239</td>\n",
       "      <td>0.033186</td>\n",
       "    </tr>\n",
       "    <tr>\n",
       "      <th>5</th>\n",
       "      <td>2</td>\n",
       "      <td>2019-05-03 11:34:14</td>\n",
       "      <td>2019-05-03 11:36:31</td>\n",
       "      <td>0.438063</td>\n",
       "      <td>0.283043</td>\n",
       "      <td>137</td>\n",
       "      <td>0.521549</td>\n",
       "      <td>0.019848</td>\n",
       "    </tr>\n",
       "    <tr>\n",
       "      <th>6</th>\n",
       "      <td>2</td>\n",
       "      <td>2019-05-03 11:38:50</td>\n",
       "      <td>2019-05-03 11:44:28</td>\n",
       "      <td>1.296415</td>\n",
       "      <td>0.892914</td>\n",
       "      <td>338</td>\n",
       "      <td>1.574162</td>\n",
       "      <td>0.147796</td>\n",
       "    </tr>\n",
       "  </tbody>\n",
       "</table>\n",
       "</div>"
      ],
      "text/plain": [
       "   key    arc_heating_start      arc_heating_end  active_power  \\\n",
       "0    1  2019-05-03 11:02:14  2019-05-03 11:06:02      0.976059   \n",
       "1    1  2019-05-03 11:07:28  2019-05-03 11:10:33      0.805607   \n",
       "2    1  2019-05-03 11:11:44  2019-05-03 11:14:36      0.744363   \n",
       "3    1  2019-05-03 11:18:14  2019-05-03 11:24:19      1.659363   \n",
       "4    1  2019-05-03 11:26:09  2019-05-03 11:28:37      0.692755   \n",
       "5    2  2019-05-03 11:34:14  2019-05-03 11:36:31      0.438063   \n",
       "6    2  2019-05-03 11:38:50  2019-05-03 11:44:28      1.296415   \n",
       "\n",
       "   reactive_power  arc_heating_time  full_power    energy  \n",
       "0        0.687084               228    1.193639  0.075597  \n",
       "1        0.520285               185    0.959010  0.049282  \n",
       "2        0.498805               172    0.896038  0.042811  \n",
       "3        1.062669               365    1.970470  0.199784  \n",
       "4        0.414397               148    0.807239  0.033186  \n",
       "5        0.283043               137    0.521549  0.019848  \n",
       "6        0.892914               338    1.574162  0.147796  "
      ]
     },
     "execution_count": 50,
     "metadata": {},
     "output_type": "execute_result"
    }
   ],
   "source": [
    "# время нагрева в секундах\n",
    "data_arc['arc_heating_time'] = (pd.to_datetime(data_arc['arc_heating_end']) \n",
    "                             - pd.to_datetime(data_arc['arc_heating_start'])).dt.seconds\n",
    "# полная мощность\n",
    "data_arc['full_power'] = (data_arc['active_power']**2 + data_arc['reactive_power']**2)**0.5\n",
    "# энергия\n",
    "data_arc['energy'] = data_arc['full_power'] * (data_arc['arc_heating_time']/3600)\n",
    "\n",
    "data_arc.head(7)"
   ]
  },
  {
   "cell_type": "code",
   "execution_count": 51,
   "id": "9a913523",
   "metadata": {},
   "outputs": [],
   "source": [
    "# группировка по партии и суммирование значений\n",
    "data_full = data_arc.groupby('key').sum()\n",
    "# отношение активной к реактивной мощности \n",
    "data_full['power_ratio'] = data_full['active_power'] / data_full['reactive_power']"
   ]
  },
  {
   "cell_type": "code",
   "execution_count": 52,
   "id": "6160d4fd",
   "metadata": {},
   "outputs": [
    {
     "data": {
      "text/html": [
       "<div>\n",
       "<style scoped>\n",
       "    .dataframe tbody tr th:only-of-type {\n",
       "        vertical-align: middle;\n",
       "    }\n",
       "\n",
       "    .dataframe tbody tr th {\n",
       "        vertical-align: top;\n",
       "    }\n",
       "\n",
       "    .dataframe thead th {\n",
       "        text-align: right;\n",
       "    }\n",
       "</style>\n",
       "<table border=\"1\" class=\"dataframe\">\n",
       "  <thead>\n",
       "    <tr style=\"text-align: right;\">\n",
       "      <th></th>\n",
       "      <th>key</th>\n",
       "      <th>active_power</th>\n",
       "      <th>reactive_power</th>\n",
       "      <th>arc_heating_time</th>\n",
       "      <th>full_power</th>\n",
       "      <th>energy</th>\n",
       "      <th>power_ratio</th>\n",
       "      <th>count</th>\n",
       "    </tr>\n",
       "  </thead>\n",
       "  <tbody>\n",
       "    <tr>\n",
       "      <th>0</th>\n",
       "      <td>1</td>\n",
       "      <td>4.878147</td>\n",
       "      <td>3.183241</td>\n",
       "      <td>1098</td>\n",
       "      <td>5.826395</td>\n",
       "      <td>0.400660</td>\n",
       "      <td>1.532447</td>\n",
       "      <td>5</td>\n",
       "    </tr>\n",
       "    <tr>\n",
       "      <th>1</th>\n",
       "      <td>2</td>\n",
       "      <td>3.052598</td>\n",
       "      <td>1.998112</td>\n",
       "      <td>811</td>\n",
       "      <td>3.649216</td>\n",
       "      <td>0.244787</td>\n",
       "      <td>1.527741</td>\n",
       "      <td>6</td>\n",
       "    </tr>\n",
       "    <tr>\n",
       "      <th>2</th>\n",
       "      <td>3</td>\n",
       "      <td>2.525882</td>\n",
       "      <td>1.599076</td>\n",
       "      <td>655</td>\n",
       "      <td>2.989534</td>\n",
       "      <td>0.145852</td>\n",
       "      <td>1.579589</td>\n",
       "      <td>5</td>\n",
       "    </tr>\n",
       "    <tr>\n",
       "      <th>3</th>\n",
       "      <td>4</td>\n",
       "      <td>3.209250</td>\n",
       "      <td>2.060298</td>\n",
       "      <td>741</td>\n",
       "      <td>3.814962</td>\n",
       "      <td>0.221364</td>\n",
       "      <td>1.557663</td>\n",
       "      <td>3</td>\n",
       "    </tr>\n",
       "    <tr>\n",
       "      <th>4</th>\n",
       "      <td>5</td>\n",
       "      <td>3.347173</td>\n",
       "      <td>2.252643</td>\n",
       "      <td>869</td>\n",
       "      <td>4.035758</td>\n",
       "      <td>0.333094</td>\n",
       "      <td>1.485887</td>\n",
       "      <td>2</td>\n",
       "    </tr>\n",
       "    <tr>\n",
       "      <th>...</th>\n",
       "      <td>...</td>\n",
       "      <td>...</td>\n",
       "      <td>...</td>\n",
       "      <td>...</td>\n",
       "      <td>...</td>\n",
       "      <td>...</td>\n",
       "      <td>...</td>\n",
       "      <td>...</td>\n",
       "    </tr>\n",
       "    <tr>\n",
       "      <th>2464</th>\n",
       "      <td>2495</td>\n",
       "      <td>3.210690</td>\n",
       "      <td>2.360777</td>\n",
       "      <td>723</td>\n",
       "      <td>3.986869</td>\n",
       "      <td>0.216338</td>\n",
       "      <td>1.360014</td>\n",
       "      <td>3</td>\n",
       "    </tr>\n",
       "    <tr>\n",
       "      <th>2465</th>\n",
       "      <td>2496</td>\n",
       "      <td>4.203064</td>\n",
       "      <td>2.810185</td>\n",
       "      <td>940</td>\n",
       "      <td>5.057033</td>\n",
       "      <td>0.243128</td>\n",
       "      <td>1.495654</td>\n",
       "      <td>4</td>\n",
       "    </tr>\n",
       "    <tr>\n",
       "      <th>2466</th>\n",
       "      <td>2497</td>\n",
       "      <td>2.212379</td>\n",
       "      <td>1.851269</td>\n",
       "      <td>569</td>\n",
       "      <td>2.885017</td>\n",
       "      <td>0.154703</td>\n",
       "      <td>1.195061</td>\n",
       "      <td>2</td>\n",
       "    </tr>\n",
       "    <tr>\n",
       "      <th>2467</th>\n",
       "      <td>2498</td>\n",
       "      <td>3.408725</td>\n",
       "      <td>2.355428</td>\n",
       "      <td>750</td>\n",
       "      <td>4.143749</td>\n",
       "      <td>0.213283</td>\n",
       "      <td>1.447179</td>\n",
       "      <td>5</td>\n",
       "    </tr>\n",
       "    <tr>\n",
       "      <th>2468</th>\n",
       "      <td>2499</td>\n",
       "      <td>4.098431</td>\n",
       "      <td>2.777865</td>\n",
       "      <td>883</td>\n",
       "      <td>4.953010</td>\n",
       "      <td>0.361619</td>\n",
       "      <td>1.475389</td>\n",
       "      <td>3</td>\n",
       "    </tr>\n",
       "  </tbody>\n",
       "</table>\n",
       "<p>2469 rows × 8 columns</p>\n",
       "</div>"
      ],
      "text/plain": [
       "       key  active_power  reactive_power  arc_heating_time  full_power  \\\n",
       "0        1      4.878147        3.183241              1098    5.826395   \n",
       "1        2      3.052598        1.998112               811    3.649216   \n",
       "2        3      2.525882        1.599076               655    2.989534   \n",
       "3        4      3.209250        2.060298               741    3.814962   \n",
       "4        5      3.347173        2.252643               869    4.035758   \n",
       "...    ...           ...             ...               ...         ...   \n",
       "2464  2495      3.210690        2.360777               723    3.986869   \n",
       "2465  2496      4.203064        2.810185               940    5.057033   \n",
       "2466  2497      2.212379        1.851269               569    2.885017   \n",
       "2467  2498      3.408725        2.355428               750    4.143749   \n",
       "2468  2499      4.098431        2.777865               883    4.953010   \n",
       "\n",
       "        energy  power_ratio  count  \n",
       "0     0.400660     1.532447      5  \n",
       "1     0.244787     1.527741      6  \n",
       "2     0.145852     1.579589      5  \n",
       "3     0.221364     1.557663      3  \n",
       "4     0.333094     1.485887      2  \n",
       "...        ...          ...    ...  \n",
       "2464  0.216338     1.360014      3  \n",
       "2465  0.243128     1.495654      4  \n",
       "2466  0.154703     1.195061      2  \n",
       "2467  0.213283     1.447179      5  \n",
       "2468  0.361619     1.475389      3  \n",
       "\n",
       "[2469 rows x 8 columns]"
      ]
     },
     "execution_count": 52,
     "metadata": {},
     "output_type": "execute_result"
    }
   ],
   "source": [
    "# соединение таблицы по электродам и количества итераций в партии\n",
    "data_full = data_full.merge(count_key, on='key')\n",
    "data_full"
   ]
  },
  {
   "cell_type": "code",
   "execution_count": 53,
   "id": "8d2db363",
   "metadata": {},
   "outputs": [],
   "source": [
    "# преобразование в datetime\n",
    "data_arc['arc_heating_start'] = pd.to_datetime(data_arc['arc_heating_start'])\n",
    "data_arc['arc_heating_end'] = pd.to_datetime(data_arc['arc_heating_end'])"
   ]
  },
  {
   "cell_type": "code",
   "execution_count": 54,
   "id": "d633a092",
   "metadata": {},
   "outputs": [],
   "source": [
    "# добавление времени начала нагрева дуги в партии\n",
    "data_full = data_full.merge(data_arc.groupby('key')['arc_heating_start'].min(), on='key')"
   ]
  },
  {
   "cell_type": "code",
   "execution_count": 55,
   "id": "54b9ef76",
   "metadata": {},
   "outputs": [],
   "source": [
    "# добавление времени окончания нагрева дуги в партии\n",
    "data_full = data_full.merge(data_arc.groupby('key')['arc_heating_end'].max(), on='key')"
   ]
  },
  {
   "cell_type": "code",
   "execution_count": 56,
   "id": "8c803e57",
   "metadata": {},
   "outputs": [
    {
     "data": {
      "text/html": [
       "<div>\n",
       "<style scoped>\n",
       "    .dataframe tbody tr th:only-of-type {\n",
       "        vertical-align: middle;\n",
       "    }\n",
       "\n",
       "    .dataframe tbody tr th {\n",
       "        vertical-align: top;\n",
       "    }\n",
       "\n",
       "    .dataframe thead th {\n",
       "        text-align: right;\n",
       "    }\n",
       "</style>\n",
       "<table border=\"1\" class=\"dataframe\">\n",
       "  <thead>\n",
       "    <tr style=\"text-align: right;\">\n",
       "      <th></th>\n",
       "      <th>key</th>\n",
       "      <th>active_power</th>\n",
       "      <th>reactive_power</th>\n",
       "      <th>arc_heating_time</th>\n",
       "      <th>full_power</th>\n",
       "      <th>energy</th>\n",
       "      <th>power_ratio</th>\n",
       "      <th>count</th>\n",
       "      <th>arc_heating_start</th>\n",
       "      <th>arc_heating_end</th>\n",
       "    </tr>\n",
       "  </thead>\n",
       "  <tbody>\n",
       "    <tr>\n",
       "      <th>0</th>\n",
       "      <td>1</td>\n",
       "      <td>4.878147</td>\n",
       "      <td>3.183241</td>\n",
       "      <td>1098</td>\n",
       "      <td>5.826395</td>\n",
       "      <td>0.400660</td>\n",
       "      <td>1.532447</td>\n",
       "      <td>5</td>\n",
       "      <td>2019-05-03 11:02:14</td>\n",
       "      <td>2019-05-03 11:28:37</td>\n",
       "    </tr>\n",
       "    <tr>\n",
       "      <th>1</th>\n",
       "      <td>2</td>\n",
       "      <td>3.052598</td>\n",
       "      <td>1.998112</td>\n",
       "      <td>811</td>\n",
       "      <td>3.649216</td>\n",
       "      <td>0.244787</td>\n",
       "      <td>1.527741</td>\n",
       "      <td>6</td>\n",
       "      <td>2019-05-03 11:34:14</td>\n",
       "      <td>2019-05-03 11:53:18</td>\n",
       "    </tr>\n",
       "    <tr>\n",
       "      <th>2</th>\n",
       "      <td>3</td>\n",
       "      <td>2.525882</td>\n",
       "      <td>1.599076</td>\n",
       "      <td>655</td>\n",
       "      <td>2.989534</td>\n",
       "      <td>0.145852</td>\n",
       "      <td>1.579589</td>\n",
       "      <td>5</td>\n",
       "      <td>2019-05-03 12:06:54</td>\n",
       "      <td>2019-05-03 12:32:19</td>\n",
       "    </tr>\n",
       "  </tbody>\n",
       "</table>\n",
       "</div>"
      ],
      "text/plain": [
       "   key  active_power  reactive_power  arc_heating_time  full_power    energy  \\\n",
       "0    1      4.878147        3.183241              1098    5.826395  0.400660   \n",
       "1    2      3.052598        1.998112               811    3.649216  0.244787   \n",
       "2    3      2.525882        1.599076               655    2.989534  0.145852   \n",
       "\n",
       "   power_ratio  count   arc_heating_start     arc_heating_end  \n",
       "0     1.532447      5 2019-05-03 11:02:14 2019-05-03 11:28:37  \n",
       "1     1.527741      6 2019-05-03 11:34:14 2019-05-03 11:53:18  \n",
       "2     1.579589      5 2019-05-03 12:06:54 2019-05-03 12:32:19  "
      ]
     },
     "execution_count": 56,
     "metadata": {},
     "output_type": "execute_result"
    }
   ],
   "source": [
    "data_full.head(3)"
   ]
  },
  {
   "cell_type": "markdown",
   "id": "9aaf5457",
   "metadata": {},
   "source": [
    "**Добавление таблиц с сыпучими материалами, проволокой и газом**"
   ]
  },
  {
   "cell_type": "code",
   "execution_count": 57,
   "id": "701e17ed",
   "metadata": {},
   "outputs": [],
   "source": [
    "# добавление таблицы сыпучих материалов\n",
    "data_full = data_full.merge(data_bulk, on='key')"
   ]
  },
  {
   "cell_type": "code",
   "execution_count": 58,
   "id": "d10d048d",
   "metadata": {},
   "outputs": [],
   "source": [
    "# добавление таблицы с газом\n",
    "data_full = data_full.merge(data_gas, on='key')"
   ]
  },
  {
   "cell_type": "code",
   "execution_count": 59,
   "id": "68ac895d",
   "metadata": {},
   "outputs": [],
   "source": [
    "# добавление таблицы с проволочными материалами\n",
    "data_full = data_full.merge(data_wire, on='key')"
   ]
  },
  {
   "cell_type": "markdown",
   "id": "83784599",
   "metadata": {},
   "source": [
    "**Подготовка таблицы с температурой**"
   ]
  },
  {
   "cell_type": "code",
   "execution_count": 60,
   "id": "3f227a8f",
   "metadata": {},
   "outputs": [],
   "source": [
    "# преобразование в datetime\n",
    "data_temp['time_temp_measure'] = pd.to_datetime(data_temp['time_temp_measure'])"
   ]
  },
  {
   "cell_type": "code",
   "execution_count": 61,
   "id": "1927ed67",
   "metadata": {},
   "outputs": [
    {
     "data": {
      "text/html": [
       "<div>\n",
       "<style scoped>\n",
       "    .dataframe tbody tr th:only-of-type {\n",
       "        vertical-align: middle;\n",
       "    }\n",
       "\n",
       "    .dataframe tbody tr th {\n",
       "        vertical-align: top;\n",
       "    }\n",
       "\n",
       "    .dataframe thead th {\n",
       "        text-align: right;\n",
       "    }\n",
       "</style>\n",
       "<table border=\"1\" class=\"dataframe\">\n",
       "  <thead>\n",
       "    <tr style=\"text-align: right;\">\n",
       "      <th></th>\n",
       "      <th>key</th>\n",
       "      <th>time_temp_measure</th>\n",
       "    </tr>\n",
       "  </thead>\n",
       "  <tbody>\n",
       "    <tr>\n",
       "      <th>0</th>\n",
       "      <td>1</td>\n",
       "      <td>2019-05-03 11:16:18</td>\n",
       "    </tr>\n",
       "    <tr>\n",
       "      <th>1</th>\n",
       "      <td>2</td>\n",
       "      <td>2019-05-03 11:37:27</td>\n",
       "    </tr>\n",
       "    <tr>\n",
       "      <th>2</th>\n",
       "      <td>3</td>\n",
       "      <td>2019-05-03 12:13:17</td>\n",
       "    </tr>\n",
       "  </tbody>\n",
       "</table>\n",
       "</div>"
      ],
      "text/plain": [
       "   key   time_temp_measure\n",
       "0    1 2019-05-03 11:16:18\n",
       "1    2 2019-05-03 11:37:27\n",
       "2    3 2019-05-03 12:13:17"
      ]
     },
     "execution_count": 61,
     "metadata": {},
     "output_type": "execute_result"
    }
   ],
   "source": [
    "# группировка по ключу и выделение времени первого замера температуры\n",
    "data_temp_first = data_temp.groupby('key')['time_temp_measure'].min().reset_index()\n",
    "data_temp_first.head(3)"
   ]
  },
  {
   "cell_type": "code",
   "execution_count": 62,
   "id": "218725c0",
   "metadata": {},
   "outputs": [
    {
     "data": {
      "text/html": [
       "<div>\n",
       "<style scoped>\n",
       "    .dataframe tbody tr th:only-of-type {\n",
       "        vertical-align: middle;\n",
       "    }\n",
       "\n",
       "    .dataframe tbody tr th {\n",
       "        vertical-align: top;\n",
       "    }\n",
       "\n",
       "    .dataframe thead th {\n",
       "        text-align: right;\n",
       "    }\n",
       "</style>\n",
       "<table border=\"1\" class=\"dataframe\">\n",
       "  <thead>\n",
       "    <tr style=\"text-align: right;\">\n",
       "      <th></th>\n",
       "      <th>key</th>\n",
       "      <th>first_temp_measure</th>\n",
       "      <th>first_temp</th>\n",
       "    </tr>\n",
       "  </thead>\n",
       "  <tbody>\n",
       "    <tr>\n",
       "      <th>0</th>\n",
       "      <td>1</td>\n",
       "      <td>2019-05-03 11:16:18</td>\n",
       "      <td>1571.0</td>\n",
       "    </tr>\n",
       "    <tr>\n",
       "      <th>1</th>\n",
       "      <td>2</td>\n",
       "      <td>2019-05-03 11:37:27</td>\n",
       "      <td>1581.0</td>\n",
       "    </tr>\n",
       "    <tr>\n",
       "      <th>2</th>\n",
       "      <td>3</td>\n",
       "      <td>2019-05-03 12:13:17</td>\n",
       "      <td>1596.0</td>\n",
       "    </tr>\n",
       "  </tbody>\n",
       "</table>\n",
       "</div>"
      ],
      "text/plain": [
       "   key  first_temp_measure  first_temp\n",
       "0    1 2019-05-03 11:16:18      1571.0\n",
       "1    2 2019-05-03 11:37:27      1581.0\n",
       "2    3 2019-05-03 12:13:17      1596.0"
      ]
     },
     "execution_count": 62,
     "metadata": {},
     "output_type": "execute_result"
    }
   ],
   "source": [
    "# добавление первого замера температуры\n",
    "data_temp_merged = data_temp_first.merge(data_temp[['temp','time_temp_measure']], on='time_temp_measure') \\\n",
    "                  .rename(columns={'temp':'first_temp','time_temp_measure':'first_temp_measure'})\n",
    "data_temp_merged.head(3)"
   ]
  },
  {
   "cell_type": "code",
   "execution_count": 63,
   "id": "d43e1f93",
   "metadata": {},
   "outputs": [
    {
     "data": {
      "text/html": [
       "<div>\n",
       "<style scoped>\n",
       "    .dataframe tbody tr th:only-of-type {\n",
       "        vertical-align: middle;\n",
       "    }\n",
       "\n",
       "    .dataframe tbody tr th {\n",
       "        vertical-align: top;\n",
       "    }\n",
       "\n",
       "    .dataframe thead th {\n",
       "        text-align: right;\n",
       "    }\n",
       "</style>\n",
       "<table border=\"1\" class=\"dataframe\">\n",
       "  <thead>\n",
       "    <tr style=\"text-align: right;\">\n",
       "      <th></th>\n",
       "      <th>key</th>\n",
       "      <th>first_temp_measure</th>\n",
       "      <th>first_temp</th>\n",
       "      <th>time_temp_measure</th>\n",
       "    </tr>\n",
       "  </thead>\n",
       "  <tbody>\n",
       "    <tr>\n",
       "      <th>0</th>\n",
       "      <td>1</td>\n",
       "      <td>2019-05-03 11:16:18</td>\n",
       "      <td>1571.0</td>\n",
       "      <td>2019-05-03 11:30:39</td>\n",
       "    </tr>\n",
       "    <tr>\n",
       "      <th>1</th>\n",
       "      <td>2</td>\n",
       "      <td>2019-05-03 11:37:27</td>\n",
       "      <td>1581.0</td>\n",
       "      <td>2019-05-03 11:59:12</td>\n",
       "    </tr>\n",
       "    <tr>\n",
       "      <th>2</th>\n",
       "      <td>3</td>\n",
       "      <td>2019-05-03 12:13:17</td>\n",
       "      <td>1596.0</td>\n",
       "      <td>2019-05-03 12:34:57</td>\n",
       "    </tr>\n",
       "  </tbody>\n",
       "</table>\n",
       "</div>"
      ],
      "text/plain": [
       "   key  first_temp_measure  first_temp   time_temp_measure\n",
       "0    1 2019-05-03 11:16:18      1571.0 2019-05-03 11:30:39\n",
       "1    2 2019-05-03 11:37:27      1581.0 2019-05-03 11:59:12\n",
       "2    3 2019-05-03 12:13:17      1596.0 2019-05-03 12:34:57"
      ]
     },
     "execution_count": 63,
     "metadata": {},
     "output_type": "execute_result"
    }
   ],
   "source": [
    "# добавление времени последнего замера температуры\n",
    "data_temp_last = pd.to_datetime(data_temp.groupby('key')['time_temp_measure'].max()).reset_index()\n",
    "data_temp_merged = data_temp_merged.merge(data_temp_last, on='key')\n",
    "data_temp_merged.head(3)"
   ]
  },
  {
   "cell_type": "code",
   "execution_count": 64,
   "id": "246ba9c7",
   "metadata": {},
   "outputs": [
    {
     "data": {
      "text/html": [
       "<div>\n",
       "<style scoped>\n",
       "    .dataframe tbody tr th:only-of-type {\n",
       "        vertical-align: middle;\n",
       "    }\n",
       "\n",
       "    .dataframe tbody tr th {\n",
       "        vertical-align: top;\n",
       "    }\n",
       "\n",
       "    .dataframe thead th {\n",
       "        text-align: right;\n",
       "    }\n",
       "</style>\n",
       "<table border=\"1\" class=\"dataframe\">\n",
       "  <thead>\n",
       "    <tr style=\"text-align: right;\">\n",
       "      <th></th>\n",
       "      <th>key</th>\n",
       "      <th>first_temp_measure</th>\n",
       "      <th>first_temp</th>\n",
       "      <th>last_temp_measure</th>\n",
       "      <th>last_temp</th>\n",
       "    </tr>\n",
       "  </thead>\n",
       "  <tbody>\n",
       "    <tr>\n",
       "      <th>0</th>\n",
       "      <td>1</td>\n",
       "      <td>2019-05-03 11:16:18</td>\n",
       "      <td>1571.0</td>\n",
       "      <td>2019-05-03 11:30:39</td>\n",
       "      <td>1613.0</td>\n",
       "    </tr>\n",
       "    <tr>\n",
       "      <th>1</th>\n",
       "      <td>2</td>\n",
       "      <td>2019-05-03 11:37:27</td>\n",
       "      <td>1581.0</td>\n",
       "      <td>2019-05-03 11:59:12</td>\n",
       "      <td>1602.0</td>\n",
       "    </tr>\n",
       "    <tr>\n",
       "      <th>2</th>\n",
       "      <td>3</td>\n",
       "      <td>2019-05-03 12:13:17</td>\n",
       "      <td>1596.0</td>\n",
       "      <td>2019-05-03 12:34:57</td>\n",
       "      <td>1599.0</td>\n",
       "    </tr>\n",
       "  </tbody>\n",
       "</table>\n",
       "</div>"
      ],
      "text/plain": [
       "   key  first_temp_measure  first_temp   last_temp_measure  last_temp\n",
       "0    1 2019-05-03 11:16:18      1571.0 2019-05-03 11:30:39     1613.0\n",
       "1    2 2019-05-03 11:37:27      1581.0 2019-05-03 11:59:12     1602.0\n",
       "2    3 2019-05-03 12:13:17      1596.0 2019-05-03 12:34:57     1599.0"
      ]
     },
     "execution_count": 64,
     "metadata": {},
     "output_type": "execute_result"
    }
   ],
   "source": [
    "# добавление последнего замера температуры\n",
    "data_temp_merged = data_temp_merged.merge(data_temp[['temp','time_temp_measure']], on='time_temp_measure') \\\n",
    "                  .rename(columns={'temp':'last_temp','time_temp_measure':'last_temp_measure'})\n",
    "data_temp_merged.head(3)"
   ]
  },
  {
   "cell_type": "code",
   "execution_count": 65,
   "id": "3d21f9df",
   "metadata": {},
   "outputs": [
    {
     "data": {
      "text/html": [
       "<div>\n",
       "<style scoped>\n",
       "    .dataframe tbody tr th:only-of-type {\n",
       "        vertical-align: middle;\n",
       "    }\n",
       "\n",
       "    .dataframe tbody tr th {\n",
       "        vertical-align: top;\n",
       "    }\n",
       "\n",
       "    .dataframe thead th {\n",
       "        text-align: right;\n",
       "    }\n",
       "</style>\n",
       "<table border=\"1\" class=\"dataframe\">\n",
       "  <thead>\n",
       "    <tr style=\"text-align: right;\">\n",
       "      <th></th>\n",
       "      <th>key</th>\n",
       "      <th>first_temp_measure</th>\n",
       "      <th>first_temp</th>\n",
       "      <th>last_temp_measure</th>\n",
       "      <th>last_temp</th>\n",
       "      <th>time_temp_measure_sec</th>\n",
       "    </tr>\n",
       "  </thead>\n",
       "  <tbody>\n",
       "    <tr>\n",
       "      <th>0</th>\n",
       "      <td>1</td>\n",
       "      <td>2019-05-03 11:16:18</td>\n",
       "      <td>1571.0</td>\n",
       "      <td>2019-05-03 11:30:39</td>\n",
       "      <td>1613.0</td>\n",
       "      <td>861</td>\n",
       "    </tr>\n",
       "    <tr>\n",
       "      <th>1</th>\n",
       "      <td>2</td>\n",
       "      <td>2019-05-03 11:37:27</td>\n",
       "      <td>1581.0</td>\n",
       "      <td>2019-05-03 11:59:12</td>\n",
       "      <td>1602.0</td>\n",
       "      <td>1305</td>\n",
       "    </tr>\n",
       "    <tr>\n",
       "      <th>2</th>\n",
       "      <td>3</td>\n",
       "      <td>2019-05-03 12:13:17</td>\n",
       "      <td>1596.0</td>\n",
       "      <td>2019-05-03 12:34:57</td>\n",
       "      <td>1599.0</td>\n",
       "      <td>1300</td>\n",
       "    </tr>\n",
       "  </tbody>\n",
       "</table>\n",
       "</div>"
      ],
      "text/plain": [
       "   key  first_temp_measure  first_temp   last_temp_measure  last_temp  \\\n",
       "0    1 2019-05-03 11:16:18      1571.0 2019-05-03 11:30:39     1613.0   \n",
       "1    2 2019-05-03 11:37:27      1581.0 2019-05-03 11:59:12     1602.0   \n",
       "2    3 2019-05-03 12:13:17      1596.0 2019-05-03 12:34:57     1599.0   \n",
       "\n",
       "   time_temp_measure_sec  \n",
       "0                    861  \n",
       "1                   1305  \n",
       "2                   1300  "
      ]
     },
     "execution_count": 65,
     "metadata": {},
     "output_type": "execute_result"
    }
   ],
   "source": [
    "# добавление времени между первым и последним замером\n",
    "data_temp_merged['time_temp_measure_sec'] = (data_temp_merged['last_temp_measure'] \n",
    "                                            - data_temp_merged['first_temp_measure']).dt.seconds\n",
    "data_temp_merged.head(3)"
   ]
  },
  {
   "cell_type": "code",
   "execution_count": 66,
   "id": "d98bfd3e",
   "metadata": {},
   "outputs": [
    {
     "data": {
      "text/html": [
       "<div>\n",
       "<style scoped>\n",
       "    .dataframe tbody tr th:only-of-type {\n",
       "        vertical-align: middle;\n",
       "    }\n",
       "\n",
       "    .dataframe tbody tr th {\n",
       "        vertical-align: top;\n",
       "    }\n",
       "\n",
       "    .dataframe thead th {\n",
       "        text-align: right;\n",
       "    }\n",
       "</style>\n",
       "<table border=\"1\" class=\"dataframe\">\n",
       "  <thead>\n",
       "    <tr style=\"text-align: right;\">\n",
       "      <th></th>\n",
       "      <th>key</th>\n",
       "      <th>active_power</th>\n",
       "      <th>reactive_power</th>\n",
       "      <th>arc_heating_time</th>\n",
       "      <th>full_power</th>\n",
       "      <th>energy</th>\n",
       "      <th>power_ratio</th>\n",
       "      <th>count</th>\n",
       "      <th>arc_heating_start</th>\n",
       "      <th>arc_heating_end</th>\n",
       "      <th>...</th>\n",
       "      <th>gas</th>\n",
       "      <th>wire_1</th>\n",
       "      <th>wire_2</th>\n",
       "      <th>wire_3</th>\n",
       "      <th>wire_6</th>\n",
       "      <th>first_temp_measure</th>\n",
       "      <th>first_temp</th>\n",
       "      <th>last_temp_measure</th>\n",
       "      <th>last_temp</th>\n",
       "      <th>time_temp_measure_sec</th>\n",
       "    </tr>\n",
       "  </thead>\n",
       "  <tbody>\n",
       "    <tr>\n",
       "      <th>0</th>\n",
       "      <td>1</td>\n",
       "      <td>4.878147</td>\n",
       "      <td>3.183241</td>\n",
       "      <td>1098</td>\n",
       "      <td>5.826395</td>\n",
       "      <td>0.400660</td>\n",
       "      <td>1.532447</td>\n",
       "      <td>5</td>\n",
       "      <td>2019-05-03 11:02:14</td>\n",
       "      <td>2019-05-03 11:28:37</td>\n",
       "      <td>...</td>\n",
       "      <td>29.749986</td>\n",
       "      <td>60.059998</td>\n",
       "      <td>0.0</td>\n",
       "      <td>0.0</td>\n",
       "      <td>0.0</td>\n",
       "      <td>2019-05-03 11:16:18</td>\n",
       "      <td>1571.0</td>\n",
       "      <td>2019-05-03 11:30:39</td>\n",
       "      <td>1613.0</td>\n",
       "      <td>861</td>\n",
       "    </tr>\n",
       "    <tr>\n",
       "      <th>1</th>\n",
       "      <td>2</td>\n",
       "      <td>3.052598</td>\n",
       "      <td>1.998112</td>\n",
       "      <td>811</td>\n",
       "      <td>3.649216</td>\n",
       "      <td>0.244787</td>\n",
       "      <td>1.527741</td>\n",
       "      <td>6</td>\n",
       "      <td>2019-05-03 11:34:14</td>\n",
       "      <td>2019-05-03 11:53:18</td>\n",
       "      <td>...</td>\n",
       "      <td>12.555561</td>\n",
       "      <td>96.052315</td>\n",
       "      <td>0.0</td>\n",
       "      <td>0.0</td>\n",
       "      <td>0.0</td>\n",
       "      <td>2019-05-03 11:37:27</td>\n",
       "      <td>1581.0</td>\n",
       "      <td>2019-05-03 11:59:12</td>\n",
       "      <td>1602.0</td>\n",
       "      <td>1305</td>\n",
       "    </tr>\n",
       "    <tr>\n",
       "      <th>2</th>\n",
       "      <td>3</td>\n",
       "      <td>2.525882</td>\n",
       "      <td>1.599076</td>\n",
       "      <td>655</td>\n",
       "      <td>2.989534</td>\n",
       "      <td>0.145852</td>\n",
       "      <td>1.579589</td>\n",
       "      <td>5</td>\n",
       "      <td>2019-05-03 12:06:54</td>\n",
       "      <td>2019-05-03 12:32:19</td>\n",
       "      <td>...</td>\n",
       "      <td>28.554793</td>\n",
       "      <td>91.160157</td>\n",
       "      <td>0.0</td>\n",
       "      <td>0.0</td>\n",
       "      <td>0.0</td>\n",
       "      <td>2019-05-03 12:13:17</td>\n",
       "      <td>1596.0</td>\n",
       "      <td>2019-05-03 12:34:57</td>\n",
       "      <td>1599.0</td>\n",
       "      <td>1300</td>\n",
       "    </tr>\n",
       "  </tbody>\n",
       "</table>\n",
       "<p>3 rows × 30 columns</p>\n",
       "</div>"
      ],
      "text/plain": [
       "   key  active_power  reactive_power  arc_heating_time  full_power    energy  \\\n",
       "0    1      4.878147        3.183241              1098    5.826395  0.400660   \n",
       "1    2      3.052598        1.998112               811    3.649216  0.244787   \n",
       "2    3      2.525882        1.599076               655    2.989534  0.145852   \n",
       "\n",
       "   power_ratio  count   arc_heating_start     arc_heating_end  ...        gas  \\\n",
       "0     1.532447      5 2019-05-03 11:02:14 2019-05-03 11:28:37  ...  29.749986   \n",
       "1     1.527741      6 2019-05-03 11:34:14 2019-05-03 11:53:18  ...  12.555561   \n",
       "2     1.579589      5 2019-05-03 12:06:54 2019-05-03 12:32:19  ...  28.554793   \n",
       "\n",
       "      wire_1  wire_2  wire_3  wire_6  first_temp_measure  first_temp  \\\n",
       "0  60.059998     0.0     0.0     0.0 2019-05-03 11:16:18      1571.0   \n",
       "1  96.052315     0.0     0.0     0.0 2019-05-03 11:37:27      1581.0   \n",
       "2  91.160157     0.0     0.0     0.0 2019-05-03 12:13:17      1596.0   \n",
       "\n",
       "    last_temp_measure  last_temp  time_temp_measure_sec  \n",
       "0 2019-05-03 11:30:39     1613.0                    861  \n",
       "1 2019-05-03 11:59:12     1602.0                   1305  \n",
       "2 2019-05-03 12:34:57     1599.0                   1300  \n",
       "\n",
       "[3 rows x 30 columns]"
      ]
     },
     "execution_count": 66,
     "metadata": {},
     "output_type": "execute_result"
    }
   ],
   "source": [
    "# соединение с общей таблицей\n",
    "data_full = data_full.merge(data_temp_merged, on='key')\n",
    "data_full.head(3)"
   ]
  },
  {
   "cell_type": "markdown",
   "id": "a5bfc2a5",
   "metadata": {},
   "source": [
    "**Добавление признаков**"
   ]
  },
  {
   "cell_type": "code",
   "execution_count": 67,
   "id": "7c0674df",
   "metadata": {},
   "outputs": [],
   "source": [
    "# добавление времени между первым замером температуры и началом работы дуги\n",
    "data_full['first_temp_arc_start_sec'] = (data_full['first_temp_measure'] - data_full['arc_heating_start']).dt.seconds"
   ]
  },
  {
   "cell_type": "code",
   "execution_count": 68,
   "id": "2f1e556e",
   "metadata": {},
   "outputs": [],
   "source": [
    "# добавление времени между последним замером температуры и началом работы дуги\n",
    "data_full['last_temp_arc_start_sec'] = (data_full['last_temp_measure'] - data_full['arc_heating_start']).dt.seconds"
   ]
  },
  {
   "cell_type": "code",
   "execution_count": 69,
   "id": "7aedf96d",
   "metadata": {},
   "outputs": [],
   "source": [
    "# удаление столбцов с датой и номером партии\n",
    "data_full = data_full.drop(['key','first_temp_measure', 'last_temp_measure', 'arc_heating_start', 'arc_heating_end'],axis=1)"
   ]
  },
  {
   "cell_type": "code",
   "execution_count": 70,
   "id": "e55318d9",
   "metadata": {},
   "outputs": [
    {
     "data": {
      "text/html": [
       "<div>\n",
       "<style scoped>\n",
       "    .dataframe tbody tr th:only-of-type {\n",
       "        vertical-align: middle;\n",
       "    }\n",
       "\n",
       "    .dataframe tbody tr th {\n",
       "        vertical-align: top;\n",
       "    }\n",
       "\n",
       "    .dataframe thead th {\n",
       "        text-align: right;\n",
       "    }\n",
       "</style>\n",
       "<table border=\"1\" class=\"dataframe\">\n",
       "  <thead>\n",
       "    <tr style=\"text-align: right;\">\n",
       "      <th></th>\n",
       "      <th>active_power</th>\n",
       "      <th>reactive_power</th>\n",
       "      <th>arc_heating_time</th>\n",
       "      <th>full_power</th>\n",
       "      <th>energy</th>\n",
       "      <th>power_ratio</th>\n",
       "      <th>count</th>\n",
       "      <th>bulk_1</th>\n",
       "      <th>bulk_3</th>\n",
       "      <th>bulk_4</th>\n",
       "      <th>...</th>\n",
       "      <th>gas</th>\n",
       "      <th>wire_1</th>\n",
       "      <th>wire_2</th>\n",
       "      <th>wire_3</th>\n",
       "      <th>wire_6</th>\n",
       "      <th>first_temp</th>\n",
       "      <th>last_temp</th>\n",
       "      <th>time_temp_measure_sec</th>\n",
       "      <th>first_temp_arc_start_sec</th>\n",
       "      <th>last_temp_arc_start_sec</th>\n",
       "    </tr>\n",
       "  </thead>\n",
       "  <tbody>\n",
       "    <tr>\n",
       "      <th>0</th>\n",
       "      <td>4.878147</td>\n",
       "      <td>3.183241</td>\n",
       "      <td>1098</td>\n",
       "      <td>5.826395</td>\n",
       "      <td>0.400660</td>\n",
       "      <td>1.532447</td>\n",
       "      <td>5</td>\n",
       "      <td>0.0</td>\n",
       "      <td>0.0</td>\n",
       "      <td>43.0</td>\n",
       "      <td>...</td>\n",
       "      <td>29.749986</td>\n",
       "      <td>60.059998</td>\n",
       "      <td>0.00000</td>\n",
       "      <td>0.0</td>\n",
       "      <td>0.0</td>\n",
       "      <td>1571.0</td>\n",
       "      <td>1613.0</td>\n",
       "      <td>861</td>\n",
       "      <td>844</td>\n",
       "      <td>1705</td>\n",
       "    </tr>\n",
       "    <tr>\n",
       "      <th>1</th>\n",
       "      <td>3.052598</td>\n",
       "      <td>1.998112</td>\n",
       "      <td>811</td>\n",
       "      <td>3.649216</td>\n",
       "      <td>0.244787</td>\n",
       "      <td>1.527741</td>\n",
       "      <td>6</td>\n",
       "      <td>0.0</td>\n",
       "      <td>0.0</td>\n",
       "      <td>73.0</td>\n",
       "      <td>...</td>\n",
       "      <td>12.555561</td>\n",
       "      <td>96.052315</td>\n",
       "      <td>0.00000</td>\n",
       "      <td>0.0</td>\n",
       "      <td>0.0</td>\n",
       "      <td>1581.0</td>\n",
       "      <td>1602.0</td>\n",
       "      <td>1305</td>\n",
       "      <td>193</td>\n",
       "      <td>1498</td>\n",
       "    </tr>\n",
       "    <tr>\n",
       "      <th>2</th>\n",
       "      <td>2.525882</td>\n",
       "      <td>1.599076</td>\n",
       "      <td>655</td>\n",
       "      <td>2.989534</td>\n",
       "      <td>0.145852</td>\n",
       "      <td>1.579589</td>\n",
       "      <td>5</td>\n",
       "      <td>0.0</td>\n",
       "      <td>0.0</td>\n",
       "      <td>34.0</td>\n",
       "      <td>...</td>\n",
       "      <td>28.554793</td>\n",
       "      <td>91.160157</td>\n",
       "      <td>0.00000</td>\n",
       "      <td>0.0</td>\n",
       "      <td>0.0</td>\n",
       "      <td>1596.0</td>\n",
       "      <td>1599.0</td>\n",
       "      <td>1300</td>\n",
       "      <td>383</td>\n",
       "      <td>1683</td>\n",
       "    </tr>\n",
       "    <tr>\n",
       "      <th>3</th>\n",
       "      <td>3.209250</td>\n",
       "      <td>2.060298</td>\n",
       "      <td>741</td>\n",
       "      <td>3.814962</td>\n",
       "      <td>0.221364</td>\n",
       "      <td>1.557663</td>\n",
       "      <td>3</td>\n",
       "      <td>0.0</td>\n",
       "      <td>0.0</td>\n",
       "      <td>81.0</td>\n",
       "      <td>...</td>\n",
       "      <td>18.841219</td>\n",
       "      <td>89.063515</td>\n",
       "      <td>0.00000</td>\n",
       "      <td>0.0</td>\n",
       "      <td>0.0</td>\n",
       "      <td>1601.0</td>\n",
       "      <td>1625.0</td>\n",
       "      <td>388</td>\n",
       "      <td>800</td>\n",
       "      <td>1188</td>\n",
       "    </tr>\n",
       "    <tr>\n",
       "      <th>4</th>\n",
       "      <td>3.347173</td>\n",
       "      <td>2.252643</td>\n",
       "      <td>869</td>\n",
       "      <td>4.035758</td>\n",
       "      <td>0.333094</td>\n",
       "      <td>1.485887</td>\n",
       "      <td>2</td>\n",
       "      <td>0.0</td>\n",
       "      <td>0.0</td>\n",
       "      <td>78.0</td>\n",
       "      <td>...</td>\n",
       "      <td>5.413692</td>\n",
       "      <td>89.238236</td>\n",
       "      <td>9.11456</td>\n",
       "      <td>0.0</td>\n",
       "      <td>0.0</td>\n",
       "      <td>1576.0</td>\n",
       "      <td>1602.0</td>\n",
       "      <td>762</td>\n",
       "      <td>726</td>\n",
       "      <td>1488</td>\n",
       "    </tr>\n",
       "    <tr>\n",
       "      <th>...</th>\n",
       "      <td>...</td>\n",
       "      <td>...</td>\n",
       "      <td>...</td>\n",
       "      <td>...</td>\n",
       "      <td>...</td>\n",
       "      <td>...</td>\n",
       "      <td>...</td>\n",
       "      <td>...</td>\n",
       "      <td>...</td>\n",
       "      <td>...</td>\n",
       "      <td>...</td>\n",
       "      <td>...</td>\n",
       "      <td>...</td>\n",
       "      <td>...</td>\n",
       "      <td>...</td>\n",
       "      <td>...</td>\n",
       "      <td>...</td>\n",
       "      <td>...</td>\n",
       "      <td>...</td>\n",
       "      <td>...</td>\n",
       "      <td>...</td>\n",
       "    </tr>\n",
       "    <tr>\n",
       "      <th>2319</th>\n",
       "      <td>3.210690</td>\n",
       "      <td>2.360777</td>\n",
       "      <td>723</td>\n",
       "      <td>3.986869</td>\n",
       "      <td>0.216338</td>\n",
       "      <td>1.360014</td>\n",
       "      <td>3</td>\n",
       "      <td>0.0</td>\n",
       "      <td>21.0</td>\n",
       "      <td>0.0</td>\n",
       "      <td>...</td>\n",
       "      <td>7.125735</td>\n",
       "      <td>89.150879</td>\n",
       "      <td>0.00000</td>\n",
       "      <td>0.0</td>\n",
       "      <td>0.0</td>\n",
       "      <td>1570.0</td>\n",
       "      <td>1591.0</td>\n",
       "      <td>1137</td>\n",
       "      <td>280</td>\n",
       "      <td>1417</td>\n",
       "    </tr>\n",
       "    <tr>\n",
       "      <th>2320</th>\n",
       "      <td>4.203064</td>\n",
       "      <td>2.810185</td>\n",
       "      <td>940</td>\n",
       "      <td>5.057033</td>\n",
       "      <td>0.243128</td>\n",
       "      <td>1.495654</td>\n",
       "      <td>4</td>\n",
       "      <td>0.0</td>\n",
       "      <td>0.0</td>\n",
       "      <td>63.0</td>\n",
       "      <td>...</td>\n",
       "      <td>9.412616</td>\n",
       "      <td>114.179527</td>\n",
       "      <td>0.00000</td>\n",
       "      <td>0.0</td>\n",
       "      <td>0.0</td>\n",
       "      <td>1554.0</td>\n",
       "      <td>1591.0</td>\n",
       "      <td>1618</td>\n",
       "      <td>168</td>\n",
       "      <td>1786</td>\n",
       "    </tr>\n",
       "    <tr>\n",
       "      <th>2321</th>\n",
       "      <td>2.212379</td>\n",
       "      <td>1.851269</td>\n",
       "      <td>569</td>\n",
       "      <td>2.885017</td>\n",
       "      <td>0.154703</td>\n",
       "      <td>1.195061</td>\n",
       "      <td>2</td>\n",
       "      <td>0.0</td>\n",
       "      <td>0.0</td>\n",
       "      <td>85.0</td>\n",
       "      <td>...</td>\n",
       "      <td>6.271699</td>\n",
       "      <td>94.086723</td>\n",
       "      <td>9.04800</td>\n",
       "      <td>0.0</td>\n",
       "      <td>0.0</td>\n",
       "      <td>1571.0</td>\n",
       "      <td>1589.0</td>\n",
       "      <td>717</td>\n",
       "      <td>232</td>\n",
       "      <td>949</td>\n",
       "    </tr>\n",
       "    <tr>\n",
       "      <th>2322</th>\n",
       "      <td>3.408725</td>\n",
       "      <td>2.355428</td>\n",
       "      <td>750</td>\n",
       "      <td>4.143749</td>\n",
       "      <td>0.213283</td>\n",
       "      <td>1.447179</td>\n",
       "      <td>5</td>\n",
       "      <td>0.0</td>\n",
       "      <td>90.0</td>\n",
       "      <td>0.0</td>\n",
       "      <td>...</td>\n",
       "      <td>14.953657</td>\n",
       "      <td>118.110717</td>\n",
       "      <td>0.00000</td>\n",
       "      <td>0.0</td>\n",
       "      <td>0.0</td>\n",
       "      <td>1591.0</td>\n",
       "      <td>1594.0</td>\n",
       "      <td>1302</td>\n",
       "      <td>363</td>\n",
       "      <td>1665</td>\n",
       "    </tr>\n",
       "    <tr>\n",
       "      <th>2323</th>\n",
       "      <td>4.098431</td>\n",
       "      <td>2.777865</td>\n",
       "      <td>883</td>\n",
       "      <td>4.953010</td>\n",
       "      <td>0.361619</td>\n",
       "      <td>1.475389</td>\n",
       "      <td>3</td>\n",
       "      <td>0.0</td>\n",
       "      <td>47.0</td>\n",
       "      <td>0.0</td>\n",
       "      <td>...</td>\n",
       "      <td>11.336151</td>\n",
       "      <td>110.160958</td>\n",
       "      <td>50.00528</td>\n",
       "      <td>0.0</td>\n",
       "      <td>0.0</td>\n",
       "      <td>1569.0</td>\n",
       "      <td>1603.0</td>\n",
       "      <td>1203</td>\n",
       "      <td>449</td>\n",
       "      <td>1652</td>\n",
       "    </tr>\n",
       "  </tbody>\n",
       "</table>\n",
       "<p>2324 rows × 27 columns</p>\n",
       "</div>"
      ],
      "text/plain": [
       "      active_power  reactive_power  arc_heating_time  full_power    energy  \\\n",
       "0         4.878147        3.183241              1098    5.826395  0.400660   \n",
       "1         3.052598        1.998112               811    3.649216  0.244787   \n",
       "2         2.525882        1.599076               655    2.989534  0.145852   \n",
       "3         3.209250        2.060298               741    3.814962  0.221364   \n",
       "4         3.347173        2.252643               869    4.035758  0.333094   \n",
       "...            ...             ...               ...         ...       ...   \n",
       "2319      3.210690        2.360777               723    3.986869  0.216338   \n",
       "2320      4.203064        2.810185               940    5.057033  0.243128   \n",
       "2321      2.212379        1.851269               569    2.885017  0.154703   \n",
       "2322      3.408725        2.355428               750    4.143749  0.213283   \n",
       "2323      4.098431        2.777865               883    4.953010  0.361619   \n",
       "\n",
       "      power_ratio  count  bulk_1  bulk_3  bulk_4  ...        gas      wire_1  \\\n",
       "0        1.532447      5     0.0     0.0    43.0  ...  29.749986   60.059998   \n",
       "1        1.527741      6     0.0     0.0    73.0  ...  12.555561   96.052315   \n",
       "2        1.579589      5     0.0     0.0    34.0  ...  28.554793   91.160157   \n",
       "3        1.557663      3     0.0     0.0    81.0  ...  18.841219   89.063515   \n",
       "4        1.485887      2     0.0     0.0    78.0  ...   5.413692   89.238236   \n",
       "...           ...    ...     ...     ...     ...  ...        ...         ...   \n",
       "2319     1.360014      3     0.0    21.0     0.0  ...   7.125735   89.150879   \n",
       "2320     1.495654      4     0.0     0.0    63.0  ...   9.412616  114.179527   \n",
       "2321     1.195061      2     0.0     0.0    85.0  ...   6.271699   94.086723   \n",
       "2322     1.447179      5     0.0    90.0     0.0  ...  14.953657  118.110717   \n",
       "2323     1.475389      3     0.0    47.0     0.0  ...  11.336151  110.160958   \n",
       "\n",
       "        wire_2  wire_3  wire_6  first_temp  last_temp  time_temp_measure_sec  \\\n",
       "0      0.00000     0.0     0.0      1571.0     1613.0                    861   \n",
       "1      0.00000     0.0     0.0      1581.0     1602.0                   1305   \n",
       "2      0.00000     0.0     0.0      1596.0     1599.0                   1300   \n",
       "3      0.00000     0.0     0.0      1601.0     1625.0                    388   \n",
       "4      9.11456     0.0     0.0      1576.0     1602.0                    762   \n",
       "...        ...     ...     ...         ...        ...                    ...   \n",
       "2319   0.00000     0.0     0.0      1570.0     1591.0                   1137   \n",
       "2320   0.00000     0.0     0.0      1554.0     1591.0                   1618   \n",
       "2321   9.04800     0.0     0.0      1571.0     1589.0                    717   \n",
       "2322   0.00000     0.0     0.0      1591.0     1594.0                   1302   \n",
       "2323  50.00528     0.0     0.0      1569.0     1603.0                   1203   \n",
       "\n",
       "      first_temp_arc_start_sec  last_temp_arc_start_sec  \n",
       "0                          844                     1705  \n",
       "1                          193                     1498  \n",
       "2                          383                     1683  \n",
       "3                          800                     1188  \n",
       "4                          726                     1488  \n",
       "...                        ...                      ...  \n",
       "2319                       280                     1417  \n",
       "2320                       168                     1786  \n",
       "2321                       232                      949  \n",
       "2322                       363                     1665  \n",
       "2323                       449                     1652  \n",
       "\n",
       "[2324 rows x 27 columns]"
      ]
     },
     "execution_count": 70,
     "metadata": {},
     "output_type": "execute_result"
    }
   ],
   "source": [
    "data_full"
   ]
  },
  {
   "cell_type": "code",
   "execution_count": 71,
   "id": "69d31669",
   "metadata": {},
   "outputs": [
    {
     "name": "stdout",
     "output_type": "stream",
     "text": [
      "<class 'pandas.core.frame.DataFrame'>\n",
      "Int64Index: 2324 entries, 0 to 2323\n",
      "Data columns (total 27 columns):\n",
      " #   Column                    Non-Null Count  Dtype  \n",
      "---  ------                    --------------  -----  \n",
      " 0   active_power              2324 non-null   float64\n",
      " 1   reactive_power            2324 non-null   float64\n",
      " 2   arc_heating_time          2324 non-null   int64  \n",
      " 3   full_power                2324 non-null   float64\n",
      " 4   energy                    2324 non-null   float64\n",
      " 5   power_ratio               2324 non-null   float64\n",
      " 6   count                     2324 non-null   int64  \n",
      " 7   bulk_1                    2324 non-null   float64\n",
      " 8   bulk_3                    2324 non-null   float64\n",
      " 9   bulk_4                    2324 non-null   float64\n",
      " 10  bulk_5                    2324 non-null   float64\n",
      " 11  bulk_6                    2324 non-null   float64\n",
      " 12  bulk_10                   2324 non-null   float64\n",
      " 13  bulk_11                   2324 non-null   float64\n",
      " 14  bulk_12                   2324 non-null   float64\n",
      " 15  bulk_14                   2324 non-null   float64\n",
      " 16  bulk_15                   2324 non-null   float64\n",
      " 17  gas                       2324 non-null   float64\n",
      " 18  wire_1                    2324 non-null   float64\n",
      " 19  wire_2                    2324 non-null   float64\n",
      " 20  wire_3                    2324 non-null   float64\n",
      " 21  wire_6                    2324 non-null   float64\n",
      " 22  first_temp                2324 non-null   float64\n",
      " 23  last_temp                 2324 non-null   float64\n",
      " 24  time_temp_measure_sec     2324 non-null   int64  \n",
      " 25  first_temp_arc_start_sec  2324 non-null   int64  \n",
      " 26  last_temp_arc_start_sec   2324 non-null   int64  \n",
      "dtypes: float64(22), int64(5)\n",
      "memory usage: 508.4 KB\n"
     ]
    }
   ],
   "source": [
    "data_full.info()"
   ]
  },
  {
   "cell_type": "markdown",
   "id": "77dc7d1c",
   "metadata": {},
   "source": [
    "**Выводы**"
   ]
  },
  {
   "cell_type": "markdown",
   "id": "b5ae420c",
   "metadata": {},
   "source": [
    "- Данные были сгруппированы по партиям\n",
    "- Добавлены 8 дополнительных признаков\n",
    "- Данных не много, валидационную выборку использовать не будем\n",
    "- Данные готовы для обучения"
   ]
  },
  {
   "cell_type": "markdown",
   "id": "b2174e13",
   "metadata": {},
   "source": [
    "# 3. Деление на выборки"
   ]
  },
  {
   "cell_type": "code",
   "execution_count": 72,
   "id": "ba414fc3",
   "metadata": {},
   "outputs": [],
   "source": [
    "features = data_full.drop('last_temp', axis=1) # признаки\n",
    "target = data_full['last_temp'] # целевой признак"
   ]
  },
  {
   "cell_type": "code",
   "execution_count": 73,
   "id": "bf367967",
   "metadata": {},
   "outputs": [],
   "source": [
    "# разделение на обучающую и тестовую выборки 75/25\n",
    "features_train, features_test, target_train, target_test = train_test_split(\n",
    "                                                           features, target, test_size=0.25, random_state=RANDOM_STATE)"
   ]
  },
  {
   "cell_type": "code",
   "execution_count": 74,
   "id": "0ffa50b5",
   "metadata": {},
   "outputs": [
    {
     "name": "stdout",
     "output_type": "stream",
     "text": [
      "Обучающая выборка: 75.0 %\n",
      "Тестовая выборка: 25.0 %\n"
     ]
    }
   ],
   "source": [
    "print('Обучающая выборка:',round(features_train.shape[0]/features.shape[0]*100,1),'%')\n",
    "print('Тестовая выборка:',round(features_test.shape[0]/features.shape[0]*100,1),'%')"
   ]
  },
  {
   "cell_type": "markdown",
   "id": "a8d74bbe",
   "metadata": {},
   "source": [
    "# 4. Обучение моделей"
   ]
  },
  {
   "cell_type": "markdown",
   "id": "0bd04ede",
   "metadata": {},
   "source": [
    "    Будем использовать 2 модели градиентного бустинга: LightGBM и CatBoost совместно с RandomizedSearchCV.\n",
    "    У LightGBM высокая скорость обучения и хороший результат предсказаний.\n",
    "    CatBoost выделяется хорошим результатом предсказаний даже с базовыми параметрами.\n",
    "    RandomizedSearchCV быстро подбирает параметры в отличии от GridSearchCV."
   ]
  },
  {
   "cell_type": "code",
   "execution_count": 75,
   "id": "20f2d898",
   "metadata": {},
   "outputs": [],
   "source": [
    "mae = make_scorer(mean_absolute_error, greater_is_better=False) # добавление скорера"
   ]
  },
  {
   "cell_type": "markdown",
   "id": "89b5035c",
   "metadata": {},
   "source": [
    "**LightGBM**"
   ]
  },
  {
   "cell_type": "code",
   "execution_count": 76,
   "id": "5a9f73b5",
   "metadata": {},
   "outputs": [],
   "source": [
    "# гиперпараметры\n",
    "param_lgbm = {'max_depth':[2,4,6,8,10,12,15],\n",
    "              'random_state':[RANDOM_STATE],\n",
    "              'n_estimators':[200,300,400,500,550,1000,1200],\n",
    "              'num_leaves':[10,20,30,40,50,60,70,80,100],\n",
    "              'learning_rate':[0.1,0.2,0.02,0.03,0.04,0.05]}"
   ]
  },
  {
   "cell_type": "code",
   "execution_count": 77,
   "id": "a492a0aa",
   "metadata": {},
   "outputs": [],
   "source": [
    "random_lgbm = RandomizedSearchCV(LGBMRegressor(), \n",
    "                                 param_lgbm, \n",
    "                                 random_state=RANDOM_STATE, \n",
    "                                 return_train_score=True,\n",
    "                                 cv=5, \n",
    "                                 n_jobs=-1,\n",
    "                                 scoring=mae)"
   ]
  },
  {
   "cell_type": "code",
   "execution_count": 78,
   "id": "e02c6781",
   "metadata": {},
   "outputs": [
    {
     "name": "stdout",
     "output_type": "stream",
     "text": [
      "Wall time: 6.78 s\n"
     ]
    },
    {
     "data": {
      "text/plain": [
       "RandomizedSearchCV(cv=5, estimator=LGBMRegressor(), n_jobs=-1,\n",
       "                   param_distributions={'learning_rate': [0.1, 0.2, 0.02, 0.03,\n",
       "                                                          0.04, 0.05],\n",
       "                                        'max_depth': [2, 4, 6, 8, 10, 12, 15],\n",
       "                                        'n_estimators': [200, 300, 400, 500,\n",
       "                                                         550, 1000, 1200],\n",
       "                                        'num_leaves': [10, 20, 30, 40, 50, 60,\n",
       "                                                       70, 80, 100],\n",
       "                                        'random_state': [80822]},\n",
       "                   random_state=80822, return_train_score=True,\n",
       "                   scoring=make_scorer(mean_absolute_error, greater_is_better=False))"
      ]
     },
     "execution_count": 78,
     "metadata": {},
     "output_type": "execute_result"
    }
   ],
   "source": [
    "%%time\n",
    "# обучение\n",
    "random_lgbm.fit(features_train, target_train)"
   ]
  },
  {
   "cell_type": "code",
   "execution_count": 79,
   "id": "00700556",
   "metadata": {},
   "outputs": [
    {
     "data": {
      "text/plain": [
       "{'random_state': 80822,\n",
       " 'num_leaves': 100,\n",
       " 'n_estimators': 550,\n",
       " 'max_depth': 12,\n",
       " 'learning_rate': 0.02}"
      ]
     },
     "execution_count": 79,
     "metadata": {},
     "output_type": "execute_result"
    }
   ],
   "source": [
    "random_lgbm.best_params_"
   ]
  },
  {
   "cell_type": "code",
   "execution_count": 80,
   "id": "6accdacd",
   "metadata": {},
   "outputs": [
    {
     "name": "stdout",
     "output_type": "stream",
     "text": [
      "MAE LightGBM на кросс валидации: -5.46\n"
     ]
    }
   ],
   "source": [
    "print('MAE LightGBM на кросс валидации:', round(random_lgbm.best_score_,2))"
   ]
  },
  {
   "cell_type": "markdown",
   "id": "06b46fec",
   "metadata": {},
   "source": [
    "**CatBoost**"
   ]
  },
  {
   "cell_type": "code",
   "execution_count": 81,
   "id": "effff4ee",
   "metadata": {},
   "outputs": [],
   "source": [
    "# гиперпараметры\n",
    "param_cb = {'depth':[3,4,5,6],\n",
    "            'random_state':[RANDOM_STATE],\n",
    "            'n_estimators':[500,700,1000],\n",
    "            'learning_rate':[0.1,0.2]}"
   ]
  },
  {
   "cell_type": "code",
   "execution_count": 82,
   "id": "ea2173df",
   "metadata": {},
   "outputs": [],
   "source": [
    "random_cb = RandomizedSearchCV(CatBoostRegressor(), \n",
    "                               param_cb, \n",
    "                               random_state=RANDOM_STATE, \n",
    "                               return_train_score=True,\n",
    "                               cv=5, \n",
    "                               n_jobs=-1,\n",
    "                               scoring=mae)"
   ]
  },
  {
   "cell_type": "code",
   "execution_count": 83,
   "id": "5746f8d8",
   "metadata": {},
   "outputs": [],
   "source": [
    "# категориальный признак\n",
    "cat_features = ['count']"
   ]
  },
  {
   "cell_type": "code",
   "execution_count": 84,
   "id": "425123c3",
   "metadata": {},
   "outputs": [
    {
     "name": "stdout",
     "output_type": "stream",
     "text": [
      "0:\tlearn: 10.8441824\ttotal: 176ms\tremaining: 1m 27s\n",
      "499:\tlearn: 3.1627678\ttotal: 10.2s\tremaining: 0us\n",
      "Wall time: 1min 57s\n"
     ]
    },
    {
     "data": {
      "text/plain": [
       "RandomizedSearchCV(cv=5,\n",
       "                   estimator=<catboost.core.CatBoostRegressor object at 0x000002939CE42EE0>,\n",
       "                   n_jobs=-1,\n",
       "                   param_distributions={'depth': [3, 4, 5, 6],\n",
       "                                        'learning_rate': [0.1, 0.2],\n",
       "                                        'n_estimators': [500, 700, 1000],\n",
       "                                        'random_state': [80822]},\n",
       "                   random_state=80822, return_train_score=True,\n",
       "                   scoring=make_scorer(mean_absolute_error, greater_is_better=False))"
      ]
     },
     "execution_count": 84,
     "metadata": {},
     "output_type": "execute_result"
    }
   ],
   "source": [
    "%%time\n",
    "# обучение\n",
    "random_cb.fit(features_train, target_train, cat_features = cat_features, verbose=1000)"
   ]
  },
  {
   "cell_type": "code",
   "execution_count": 85,
   "id": "4c14c1f1",
   "metadata": {},
   "outputs": [
    {
     "data": {
      "text/plain": [
       "{'random_state': 80822, 'n_estimators': 500, 'learning_rate': 0.1, 'depth': 5}"
      ]
     },
     "execution_count": 85,
     "metadata": {},
     "output_type": "execute_result"
    }
   ],
   "source": [
    "random_cb.best_params_"
   ]
  },
  {
   "cell_type": "code",
   "execution_count": 86,
   "id": "764a73cc",
   "metadata": {},
   "outputs": [
    {
     "name": "stdout",
     "output_type": "stream",
     "text": [
      "MAE CatBoost на кросс валидации: -5.28\n"
     ]
    }
   ],
   "source": [
    "print('MAE CatBoost на кросс валидации:', round(random_cb.best_score_,2))"
   ]
  },
  {
   "cell_type": "markdown",
   "id": "059fb293",
   "metadata": {},
   "source": [
    "## Проверка моделей на адекватность"
   ]
  },
  {
   "cell_type": "code",
   "execution_count": 87,
   "id": "b13b37f8",
   "metadata": {},
   "outputs": [
    {
     "name": "stdout",
     "output_type": "stream",
     "text": [
      "MAE константной модели на тестовой выборке: 8.15\n"
     ]
    }
   ],
   "source": [
    "# вызов константной модели\n",
    "dummy = DummyRegressor(strategy=\"median\")\n",
    "# обучение модели\n",
    "dummy.fit(features_train,target_train)\n",
    "# предсказания модели\n",
    "prediction_dummy = dummy.predict(features_test)\n",
    "print('MAE константной модели на тестовой выборке:', round(mean_absolute_error(target_test, prediction_dummy),2))"
   ]
  },
  {
   "cell_type": "markdown",
   "id": "00967d7b",
   "metadata": {},
   "source": [
    "**Вывод**"
   ]
  },
  {
   "cell_type": "markdown",
   "id": "49285d94",
   "metadata": {},
   "source": [
    "- Обе модели показали себя отлично и прошли тест на адекватность\n",
    "- CatBoost справилась чуть лучше, но значительно дольше\n",
    "- Выберем модель CatBoost с МАЕ = 5,28"
   ]
  },
  {
   "cell_type": "markdown",
   "id": "e4775e90",
   "metadata": {},
   "source": [
    "# 5. Тестирование лучшей модели"
   ]
  },
  {
   "cell_type": "code",
   "execution_count": 88,
   "id": "d017fe0b",
   "metadata": {},
   "outputs": [],
   "source": [
    "prediction_cb_test = random_cb.predict(features_test)"
   ]
  },
  {
   "cell_type": "code",
   "execution_count": 89,
   "id": "7a5624a7",
   "metadata": {},
   "outputs": [
    {
     "name": "stdout",
     "output_type": "stream",
     "text": [
      "MAE CatBoost на тестовой выборке: 5.49\n"
     ]
    }
   ],
   "source": [
    "print('MAE CatBoost на тестовой выборке:', round(mean_absolute_error(target_test, prediction_cb_test),2))"
   ]
  },
  {
   "cell_type": "markdown",
   "id": "eafce9e6",
   "metadata": {},
   "source": [
    "## График предсказаний"
   ]
  },
  {
   "cell_type": "code",
   "execution_count": 90,
   "id": "c5e602c4",
   "metadata": {},
   "outputs": [],
   "source": [
    "# перевод в вектор\n",
    "target_test = target_test.values"
   ]
  },
  {
   "cell_type": "code",
   "execution_count": 91,
   "id": "d51cd24a",
   "metadata": {},
   "outputs": [
    {
     "data": {
      "image/png": "[encoded data removed]",
      "text/plain": [
       "<Figure size 1080x720 with 1 Axes>"
      ]
     },
     "metadata": {
      "needs_background": "light"
     },
     "output_type": "display_data"
    }
   ],
   "source": [
    "plt.figure(figsize=(15,10))\n",
    "plt.title('График предсказаний и реальной температуры', fontsize=20)\n",
    "sns.lineplot(data=target_test, color='g')\n",
    "sns.lineplot(data=prediction_cb_test, color='b', )\n",
    "plt.legend(['температура', 'прогноз температуры'], fontsize=12)\n",
    "plt.grid()\n",
    "plt.show()"
   ]
  },
  {
   "cell_type": "markdown",
   "id": "e079bd9d",
   "metadata": {},
   "source": [
    "Модель хорошо справляется на небольшом разбросе температур, но выбросы не предугадывает."
   ]
  },
  {
   "cell_type": "markdown",
   "id": "d97307d2",
   "metadata": {},
   "source": [
    "## Важность признаков"
   ]
  },
  {
   "cell_type": "code",
   "execution_count": 92,
   "id": "d0840481",
   "metadata": {},
   "outputs": [
    {
     "name": "stdout",
     "output_type": "stream",
     "text": [
      "0:\tlearn: 10.8155086\ttotal: 17.2ms\tremaining: 8.59s\n",
      "499:\tlearn: 3.0253033\ttotal: 700ms\tremaining: 0us\n"
     ]
    }
   ],
   "source": [
    "# достанем лучшие параметры из рандомайзера и по ним обучим модель\n",
    "params = random_cb.best_params_\n",
    "model = CatBoostRegressor(**params,silent=True)\n",
    "model.fit(features_train, target_train, verbose=1000);"
   ]
  },
  {
   "cell_type": "code",
   "execution_count": 93,
   "id": "ef5a84ae",
   "metadata": {},
   "outputs": [],
   "source": [
    "# достанем из модели важность признаков\n",
    "importance = pd.Series(model.feature_importances_, index=features_train.columns).sort_values(ascending=False)"
   ]
  },
  {
   "cell_type": "code",
   "execution_count": 94,
   "id": "4c804210",
   "metadata": {},
   "outputs": [
    {
     "data": {
      "image/png": "[encoded data removed]",
      "text/plain": [
       "<Figure size 1008x720 with 1 Axes>"
      ]
     },
     "metadata": {
      "needs_background": "light"
     },
     "output_type": "display_data"
    }
   ],
   "source": [
    "# построение графика важности признаков\n",
    "plt.figure(figsize=(14,10))\n",
    "plt.title('График важности признаков', fontsize=20)\n",
    "sns.barplot(x=importance, y=importance.index)\n",
    "plt.grid()\n",
    "plt.show()"
   ]
  },
  {
   "cell_type": "markdown",
   "id": "50fea29d",
   "metadata": {},
   "source": [
    "# 6. Общий вывод"
   ]
  },
  {
   "cell_type": "markdown",
   "id": "04b67640",
   "metadata": {},
   "source": [
    "- Выбор метрики пал на MAE, для удобства интерпретации.\n",
    "- Удалось достичь на модели CatBoostRegressor MAE = 5,49 на тестовой выборке. Модель ошибается в среднем на 5,5 градуса.\n",
    "- Самый важный признак с большим отрывом: первое измерение температуры. Далее по важности идут: активная мощность и энергия.\n",
    "- Обе модели прошли тест на адекватность. Значения метрик меньше константной модели."
   ]
  },
  {
   "cell_type": "markdown",
   "id": "b9a983b5",
   "metadata": {},
   "source": [
    "# Отчет:"
   ]
  },
  {
   "cell_type": "markdown",
   "id": "dd0a16f0",
   "metadata": {},
   "source": [
    " **Признаки, которые были использованы для обучения:** \n",
    "- активная мощность\n",
    "- реактивная мощность\n",
    "- время нагрева дугой в секундах\n",
    "- полная мощность\n",
    "- энергия\n",
    "- отношение активной к реактивной мощности\n",
    "- количество итераций в партии\n",
    "- сыпучие материалы (1,3,4,5,6,10,11,12,14,15)\n",
    "- газ\n",
    "- проволочные материалы (1,2,3,6)\n",
    "- первый замер температуры\n",
    "- время между первым и последним замером температуры\n",
    "- время между первым замером температуры и началом работы дуги\n",
    "- время между последним замером температуры и началом работы дуги"
   ]
  },
  {
   "cell_type": "markdown",
   "id": "ad2db65e",
   "metadata": {},
   "source": [
    "**Предобработка признаков:**\n",
    "- С активной мощностью не было проблем, оставил без изменений. У реактивной мощности был один выброс с сильно отрицательным значением, на 2 порядка отличающимся от остальных данных. Я удалил всю партию с этим выбросом, чтобы не осталось не верных данных после удаления лишь одной итерации в партии.\n",
    "- Известно время начала работы дуги и конец работы дуги, для каждой итерации для каждой партии. Вычислил время нагрева дугой для каждой партии в секундах.\n",
    "- Полная мощность вычисляется по формуле из активной и реактивной мощности.\n",
    "- Энергию посчитал по формуле из полной мощности и времени нагрева дугой.\n",
    "- Сыпучие материалы не все были использованы в признаках. Материал №8, например, использовался всего 1 раз. Материал №13 - 18 раз. Но я решил удалить материалы с 99% процентов пропусков, чтобы не засорять датасет почти пустыми признаками. Поэтому из датасета убраны материалы № 2,7,8,9,13, а пропуски заполнены нулями. Заказчик подтвердил корректность удаления пустых признаков.\n",
    "- Аналогичная ситуация с проволочными материалами. Удалены материалы № 4,5,7,8,9 с 99% пропусков. Пропуски заполнены нулями.\n",
    "- С газом аномалий не обнаружено, оставлен без изменений. Пропусков не было.\n",
    "- Добавил время в секундах между первым и последним замером температуры.\n",
    "- Так же добавил время между первым замером температуры и началом работы дуги, и последним замером температуры и началом работы дуги. Я подумал, что из связи между замером температуры и нагревом может получится хороший признак.\n",
    "- Были убраны партии, где температура хотя бы на одном замере была меньше 1500 градусов. Математически это выброс, но на производстве такое случается. Разный состав металла, разная температура. Но для лучшей работы модели я решил удалить эти партии, 6 штук.\n",
    "- Так же были удалены партии с пропусками по температуре, и где был всего 1 замер по температуре."
   ]
  },
  {
   "cell_type": "markdown",
   "id": "cb110e22",
   "metadata": {},
   "source": [
    "**Модель:**\n",
    "- Я использовал 2 модели градиентного бустинга LightGBM и Catboost.\n",
    "- Catboost дала результат лучше на 0,18 градуса на кросс валидации, чем LightGBM.\n",
    "- Гиперпараметры лучшей модели: 'random_state': 80822, 'n_estimators': 500, 'learning_rate': 0.1, 'depth': 5. Остальное по умолчанию.\n",
    "- Итоговая метрика Catboost на тестовой выборке MAE = 5,49."
   ]
  }
 ],
 "metadata": {
  "ExecuteTimeLog": [
   {
    "duration": 1228,
    "start_time": "2022-08-09T20:06:07.732Z"
   },
   {
    "duration": 616,
    "start_time": "2022-08-09T20:06:09.109Z"
   },
   {
    "duration": 1605,
    "start_time": "2022-08-13T18:11:50.830Z"
   },
   {
    "duration": 3,
    "start_time": "2022-08-13T18:11:52.437Z"
   },
   {
    "duration": 210,
    "start_time": "2022-08-13T18:11:52.441Z"
   },
   {
    "duration": 34,
    "start_time": "2022-08-13T18:11:52.654Z"
   },
   {
    "duration": 101,
    "start_time": "2022-08-13T18:11:52.690Z"
   },
   {
    "duration": 96,
    "start_time": "2022-08-13T18:11:52.793Z"
   },
   {
    "duration": 5,
    "start_time": "2022-08-13T18:11:52.891Z"
   },
   {
    "duration": 18,
    "start_time": "2022-08-13T18:11:52.897Z"
   },
   {
    "duration": 75,
    "start_time": "2022-08-13T18:11:52.916Z"
   },
   {
    "duration": 294,
    "start_time": "2022-08-13T18:11:52.994Z"
   },
   {
    "duration": 4,
    "start_time": "2022-08-13T18:11:53.290Z"
   },
   {
    "duration": 10,
    "start_time": "2022-08-13T18:11:53.295Z"
   },
   {
    "duration": 40,
    "start_time": "2022-08-13T18:11:53.306Z"
   },
   {
    "duration": 7,
    "start_time": "2022-08-13T18:11:53.348Z"
   },
   {
    "duration": 20,
    "start_time": "2022-08-13T18:11:53.357Z"
   },
   {
    "duration": 105,
    "start_time": "2022-08-13T18:11:53.378Z"
   },
   {
    "duration": 4,
    "start_time": "2022-08-13T18:11:53.484Z"
   },
   {
    "duration": 101,
    "start_time": "2022-08-13T18:11:53.489Z"
   },
   {
    "duration": 5,
    "start_time": "2022-08-13T18:11:53.592Z"
   },
   {
    "duration": 22,
    "start_time": "2022-08-13T18:11:53.598Z"
   },
   {
    "duration": 134,
    "start_time": "2022-08-13T18:11:53.621Z"
   },
   {
    "duration": 529,
    "start_time": "2022-08-13T18:11:53.757Z"
   },
   {
    "duration": 11,
    "start_time": "2022-08-13T18:11:54.288Z"
   },
   {
    "duration": 22,
    "start_time": "2022-08-13T18:11:54.300Z"
   },
   {
    "duration": 18,
    "start_time": "2022-08-13T18:11:54.324Z"
   },
   {
    "duration": 30,
    "start_time": "2022-08-13T18:11:54.344Z"
   },
   {
    "duration": 7,
    "start_time": "2022-08-13T18:11:54.376Z"
   },
   {
    "duration": 12,
    "start_time": "2022-08-13T18:11:54.387Z"
   },
   {
    "duration": 62,
    "start_time": "2022-08-13T18:11:54.401Z"
   },
   {
    "duration": 237,
    "start_time": "2022-08-13T18:11:54.466Z"
   },
   {
    "duration": 5,
    "start_time": "2022-08-13T18:11:54.704Z"
   },
   {
    "duration": 10,
    "start_time": "2022-08-13T18:11:54.710Z"
   },
   {
    "duration": 41,
    "start_time": "2022-08-13T18:11:54.721Z"
   },
   {
    "duration": 5,
    "start_time": "2022-08-13T18:11:54.765Z"
   },
   {
    "duration": 9,
    "start_time": "2022-08-13T18:11:54.772Z"
   },
   {
    "duration": 9,
    "start_time": "2022-08-13T18:11:54.782Z"
   },
   {
    "duration": 15,
    "start_time": "2022-08-13T18:11:54.793Z"
   },
   {
    "duration": 46,
    "start_time": "2022-08-13T18:11:54.810Z"
   },
   {
    "duration": 14,
    "start_time": "2022-08-13T18:11:54.858Z"
   },
   {
    "duration": 9,
    "start_time": "2022-08-13T18:11:54.874Z"
   },
   {
    "duration": 12,
    "start_time": "2022-08-13T18:11:54.885Z"
   },
   {
    "duration": 17,
    "start_time": "2022-08-13T18:11:54.898Z"
   },
   {
    "duration": 22,
    "start_time": "2022-08-13T18:11:54.917Z"
   },
   {
    "duration": 36,
    "start_time": "2022-08-13T18:11:54.941Z"
   },
   {
    "duration": 8,
    "start_time": "2022-08-13T18:11:54.979Z"
   },
   {
    "duration": 24,
    "start_time": "2022-08-13T18:11:54.988Z"
   },
   {
    "duration": 13,
    "start_time": "2022-08-13T18:11:55.014Z"
   },
   {
    "duration": 10,
    "start_time": "2022-08-13T18:11:55.028Z"
   },
   {
    "duration": 32,
    "start_time": "2022-08-13T18:11:55.041Z"
   },
   {
    "duration": 12,
    "start_time": "2022-08-13T18:11:55.075Z"
   },
   {
    "duration": 25,
    "start_time": "2022-08-13T18:11:55.089Z"
   },
   {
    "duration": 33,
    "start_time": "2022-08-13T18:11:55.115Z"
   },
   {
    "duration": 21,
    "start_time": "2022-08-13T18:11:55.151Z"
   },
   {
    "duration": 9,
    "start_time": "2022-08-13T18:11:55.174Z"
   },
   {
    "duration": 5,
    "start_time": "2022-08-13T18:12:13.631Z"
   },
   {
    "duration": 11,
    "start_time": "2022-08-13T18:14:49.763Z"
   },
   {
    "duration": 12,
    "start_time": "2022-08-13T18:15:19.502Z"
   },
   {
    "duration": 1522,
    "start_time": "2022-08-16T08:38:21.236Z"
   },
   {
    "duration": 2,
    "start_time": "2022-08-16T08:38:22.760Z"
   },
   {
    "duration": 552,
    "start_time": "2022-08-16T08:38:22.763Z"
   },
   {
    "duration": 35,
    "start_time": "2022-08-16T08:38:23.316Z"
   },
   {
    "duration": 90,
    "start_time": "2022-08-16T08:38:23.353Z"
   },
   {
    "duration": 83,
    "start_time": "2022-08-16T08:38:23.454Z"
   },
   {
    "duration": 17,
    "start_time": "2022-08-16T08:38:23.539Z"
   },
   {
    "duration": 17,
    "start_time": "2022-08-16T08:38:23.558Z"
   },
   {
    "duration": 80,
    "start_time": "2022-08-16T08:38:23.577Z"
   },
   {
    "duration": 281,
    "start_time": "2022-08-16T08:38:23.659Z"
   },
   {
    "duration": 14,
    "start_time": "2022-08-16T08:38:23.942Z"
   },
   {
    "duration": 13,
    "start_time": "2022-08-16T08:38:23.958Z"
   },
   {
    "duration": 23,
    "start_time": "2022-08-16T08:38:23.973Z"
   },
   {
    "duration": 4,
    "start_time": "2022-08-16T08:38:24.000Z"
   },
   {
    "duration": 98,
    "start_time": "2022-08-16T08:38:24.006Z"
   },
   {
    "duration": 21,
    "start_time": "2022-08-16T08:38:24.106Z"
   },
   {
    "duration": 4,
    "start_time": "2022-08-16T08:38:24.129Z"
   },
   {
    "duration": 81,
    "start_time": "2022-08-16T08:38:24.155Z"
   },
   {
    "duration": 19,
    "start_time": "2022-08-16T08:38:24.237Z"
   },
   {
    "duration": 23,
    "start_time": "2022-08-16T08:38:24.257Z"
   },
   {
    "duration": 98,
    "start_time": "2022-08-16T08:38:24.281Z"
   },
   {
    "duration": 455,
    "start_time": "2022-08-16T08:38:24.380Z"
   },
   {
    "duration": 20,
    "start_time": "2022-08-16T08:38:24.836Z"
   },
   {
    "duration": 16,
    "start_time": "2022-08-16T08:38:24.857Z"
   },
   {
    "duration": 4,
    "start_time": "2022-08-16T08:38:24.874Z"
   },
   {
    "duration": 11,
    "start_time": "2022-08-16T08:38:24.879Z"
   },
   {
    "duration": 6,
    "start_time": "2022-08-16T08:38:24.891Z"
   },
   {
    "duration": 9,
    "start_time": "2022-08-16T08:38:24.899Z"
   },
   {
    "duration": 79,
    "start_time": "2022-08-16T08:38:24.910Z"
   },
   {
    "duration": 219,
    "start_time": "2022-08-16T08:38:24.990Z"
   },
   {
    "duration": 4,
    "start_time": "2022-08-16T08:38:25.211Z"
   },
   {
    "duration": 10,
    "start_time": "2022-08-16T08:38:25.217Z"
   },
   {
    "duration": 41,
    "start_time": "2022-08-16T08:38:25.228Z"
   },
   {
    "duration": 14,
    "start_time": "2022-08-16T08:38:25.270Z"
   },
   {
    "duration": 9,
    "start_time": "2022-08-16T08:38:25.286Z"
   },
   {
    "duration": 12,
    "start_time": "2022-08-16T08:38:25.296Z"
   },
   {
    "duration": 16,
    "start_time": "2022-08-16T08:38:25.309Z"
   },
   {
    "duration": 36,
    "start_time": "2022-08-16T08:38:25.326Z"
   },
   {
    "duration": 8,
    "start_time": "2022-08-16T08:38:25.363Z"
   },
   {
    "duration": 10,
    "start_time": "2022-08-16T08:38:25.373Z"
   },
   {
    "duration": 11,
    "start_time": "2022-08-16T08:38:25.388Z"
   },
   {
    "duration": 11,
    "start_time": "2022-08-16T08:38:25.400Z"
   },
   {
    "duration": 7,
    "start_time": "2022-08-16T08:38:25.413Z"
   },
   {
    "duration": 35,
    "start_time": "2022-08-16T08:38:25.422Z"
   },
   {
    "duration": 7,
    "start_time": "2022-08-16T08:38:25.459Z"
   },
   {
    "duration": 5,
    "start_time": "2022-08-16T08:38:25.468Z"
   },
   {
    "duration": 15,
    "start_time": "2022-08-16T08:38:25.474Z"
   },
   {
    "duration": 8,
    "start_time": "2022-08-16T08:38:25.491Z"
   },
   {
    "duration": 9,
    "start_time": "2022-08-16T08:38:25.500Z"
   },
   {
    "duration": 52,
    "start_time": "2022-08-16T08:38:25.510Z"
   },
   {
    "duration": 6,
    "start_time": "2022-08-16T08:38:25.564Z"
   },
   {
    "duration": 14,
    "start_time": "2022-08-16T08:38:25.571Z"
   },
   {
    "duration": 8,
    "start_time": "2022-08-16T08:38:25.587Z"
   },
   {
    "duration": 9,
    "start_time": "2022-08-16T08:38:25.597Z"
   },
   {
    "duration": 9,
    "start_time": "2022-08-16T08:38:25.607Z"
   },
   {
    "duration": 8,
    "start_time": "2022-08-16T08:38:25.617Z"
   },
   {
    "duration": 34,
    "start_time": "2022-08-16T08:38:25.626Z"
   },
   {
    "duration": 8,
    "start_time": "2022-08-16T08:38:25.662Z"
   },
   {
    "duration": 7,
    "start_time": "2022-08-16T08:38:25.672Z"
   },
   {
    "duration": 14,
    "start_time": "2022-08-16T08:38:25.680Z"
   },
   {
    "duration": 11,
    "start_time": "2022-08-16T08:38:25.695Z"
   },
   {
    "duration": 11,
    "start_time": "2022-08-16T08:38:25.707Z"
   },
   {
    "duration": 51,
    "start_time": "2022-08-16T08:38:25.719Z"
   },
   {
    "duration": 8,
    "start_time": "2022-08-16T08:38:25.771Z"
   },
   {
    "duration": 17,
    "start_time": "2022-08-16T08:38:25.780Z"
   },
   {
    "duration": 8,
    "start_time": "2022-08-16T08:38:25.798Z"
   },
   {
    "duration": 9,
    "start_time": "2022-08-16T08:38:25.807Z"
   },
   {
    "duration": 38,
    "start_time": "2022-08-16T08:38:25.817Z"
   },
   {
    "duration": 13,
    "start_time": "2022-08-16T08:38:25.857Z"
   },
   {
    "duration": 6,
    "start_time": "2022-08-16T08:38:25.871Z"
   },
   {
    "duration": 8,
    "start_time": "2022-08-16T08:38:25.878Z"
   },
   {
    "duration": 6,
    "start_time": "2022-08-16T08:38:25.888Z"
   },
   {
    "duration": 7,
    "start_time": "2022-08-16T08:38:25.895Z"
   },
   {
    "duration": 11,
    "start_time": "2022-08-16T08:38:25.903Z"
   },
   {
    "duration": 48,
    "start_time": "2022-08-16T08:38:25.916Z"
   },
   {
    "duration": 13,
    "start_time": "2022-08-16T08:38:25.966Z"
   },
   {
    "duration": 13,
    "start_time": "2022-08-16T08:38:25.980Z"
   },
   {
    "duration": 9,
    "start_time": "2022-08-16T08:38:25.994Z"
   },
   {
    "duration": 61,
    "start_time": "2022-08-16T08:38:26.005Z"
   },
   {
    "duration": 4,
    "start_time": "2022-08-16T08:38:26.068Z"
   },
   {
    "duration": 7,
    "start_time": "2022-08-16T08:38:26.073Z"
   },
   {
    "duration": 8,
    "start_time": "2022-08-16T08:38:26.081Z"
   },
   {
    "duration": 27,
    "start_time": "2022-08-16T08:38:26.090Z"
   },
   {
    "duration": 10,
    "start_time": "2022-08-16T08:38:26.118Z"
   },
   {
    "duration": 3,
    "start_time": "2022-08-16T08:38:26.155Z"
   },
   {
    "duration": 6,
    "start_time": "2022-08-16T08:38:26.160Z"
   },
   {
    "duration": 6,
    "start_time": "2022-08-16T08:38:26.167Z"
   },
   {
    "duration": 4,
    "start_time": "2022-08-16T08:38:26.174Z"
   },
   {
    "duration": 5,
    "start_time": "2022-08-16T08:38:26.179Z"
   },
   {
    "duration": 7,
    "start_time": "2022-08-16T08:38:26.186Z"
   },
   {
    "duration": 338179,
    "start_time": "2022-08-16T08:38:26.195Z"
   },
   {
    "duration": 9,
    "start_time": "2022-08-16T08:44:04.375Z"
   },
   {
    "duration": 0,
    "start_time": "2022-08-16T08:44:04.386Z"
   },
   {
    "duration": 0,
    "start_time": "2022-08-16T08:44:04.387Z"
   },
   {
    "duration": 0,
    "start_time": "2022-08-16T08:44:04.388Z"
   },
   {
    "duration": 0,
    "start_time": "2022-08-16T08:44:04.389Z"
   },
   {
    "duration": 0,
    "start_time": "2022-08-16T08:44:04.390Z"
   },
   {
    "duration": 0,
    "start_time": "2022-08-16T08:44:04.392Z"
   },
   {
    "duration": 0,
    "start_time": "2022-08-16T08:44:04.393Z"
   },
   {
    "duration": 0,
    "start_time": "2022-08-16T08:44:04.394Z"
   },
   {
    "duration": 0,
    "start_time": "2022-08-16T08:44:04.395Z"
   },
   {
    "duration": 0,
    "start_time": "2022-08-16T08:44:04.398Z"
   },
   {
    "duration": 0,
    "start_time": "2022-08-16T08:44:04.398Z"
   },
   {
    "duration": 0,
    "start_time": "2022-08-16T08:44:04.400Z"
   },
   {
    "duration": 0,
    "start_time": "2022-08-16T08:44:04.401Z"
   },
   {
    "duration": 0,
    "start_time": "2022-08-16T08:44:04.402Z"
   },
   {
    "duration": 0,
    "start_time": "2022-08-16T08:44:04.403Z"
   }
  ],
  "kernelspec": {
   "display_name": "Python 3 (ipykernel)",
   "language": "python",
   "name": "python3"
  },
  "language_info": {
   "codemirror_mode": {
    "name": "ipython",
    "version": 3
   },
   "file_extension": ".py",
   "mimetype": "text/x-python",
   "name": "python",
   "nbconvert_exporter": "python",
   "pygments_lexer": "ipython3",
   "version": "3.9.7"
  },
  "toc": {
   "base_numbering": 1,
   "nav_menu": {},
   "number_sections": true,
   "sideBar": true,
   "skip_h1_title": true,
   "title_cell": "Table of Contents",
   "title_sidebar": "Contents",
   "toc_cell": false,
   "toc_position": {},
   "toc_section_display": true,
   "toc_window_display": false
  }
 },
 "nbformat": 4,
 "nbformat_minor": 5
}
