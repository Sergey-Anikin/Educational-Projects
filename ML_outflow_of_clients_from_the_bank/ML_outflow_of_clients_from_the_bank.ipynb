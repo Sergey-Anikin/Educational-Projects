{
 "cells": [
  {
   "cell_type": "markdown",
   "metadata": {},
   "source": [
    "# Отток клиентов из банка"
   ]
  },
  {
   "cell_type": "markdown",
   "metadata": {},
   "source": [
    "Из Банка стали уходить клиенты. Каждый месяц. Немного, но заметно. Банковские маркетологи посчитали: сохранять текущих клиентов дешевле, чем привлекать новых.\n",
    "\n",
    "Нужно спрогнозировать, уйдёт клиент из банка в ближайшее время или нет. Вам предоставлены исторические данные о поведении клиентов и расторжении договоров с банком.\n",
    "\n",
    "Построить модель с предельно большим значением *F1*-меры. Нужно довести метрику до 0.59."
   ]
  },
  {
   "cell_type": "markdown",
   "metadata": {},
   "source": [
    "## Подготовка данных"
   ]
  },
  {
   "cell_type": "code",
   "execution_count": 1,
   "metadata": {},
   "outputs": [],
   "source": [
    "import pandas as pd # импорт библиотеки pandas\n",
    "import numpy as np # импорт библиотеки numpy\n",
    "from sklearn.tree import DecisionTreeClassifier # импорт из библиотеки sklearn алгоритма дерева решений\n",
    "from sklearn.metrics import f1_score, roc_curve, roc_auc_score # импорт из библиотеки sklearn функции метрики качества f1, roc_curve, roc_auc\n",
    "from sklearn.ensemble import RandomForestClassifier # импорт из библиотеки sklearn алгоритма случайного леса\n",
    "from sklearn.linear_model import LogisticRegression # импорт из библиотеки sklearn алгоритма логистической регрессии\n",
    "from sklearn.model_selection import train_test_split # импорт из библиотеки sklearn функции разделения выборок\n",
    "from sklearn.preprocessing import StandardScaler # импорт из библиотеки sklearn функции StandardScaler\n",
    "from sklearn.utils import shuffle # импорт из библиотеки sklearn функции shuffle\n",
    "import matplotlib.pyplot as plt # импорт из библиотеки matplotlib функции построения графиков\n",
    "import warnings # импорт библиотеки warnings\n",
    "warnings.filterwarnings('ignore')"
   ]
  },
  {
   "cell_type": "code",
   "execution_count": 2,
   "metadata": {},
   "outputs": [
    {
     "name": "stdout",
     "output_type": "stream",
     "text": [
      "<class 'pandas.core.frame.DataFrame'>\n",
      "RangeIndex: 10000 entries, 0 to 9999\n",
      "Data columns (total 14 columns):\n",
      " #   Column           Non-Null Count  Dtype  \n",
      "---  ------           --------------  -----  \n",
      " 0   RowNumber        10000 non-null  int64  \n",
      " 1   CustomerId       10000 non-null  int64  \n",
      " 2   Surname          10000 non-null  object \n",
      " 3   CreditScore      10000 non-null  int64  \n",
      " 4   Geography        10000 non-null  object \n",
      " 5   Gender           10000 non-null  object \n",
      " 6   Age              10000 non-null  int64  \n",
      " 7   Tenure           9091 non-null   float64\n",
      " 8   Balance          10000 non-null  float64\n",
      " 9   NumOfProducts    10000 non-null  int64  \n",
      " 10  HasCrCard        10000 non-null  int64  \n",
      " 11  IsActiveMember   10000 non-null  int64  \n",
      " 12  EstimatedSalary  10000 non-null  float64\n",
      " 13  Exited           10000 non-null  int64  \n",
      "dtypes: float64(3), int64(8), object(3)\n",
      "memory usage: 1.1+ MB\n"
     ]
    },
    {
     "data": {
      "text/html": [
       "<div>\n",
       "<style scoped>\n",
       "    .dataframe tbody tr th:only-of-type {\n",
       "        vertical-align: middle;\n",
       "    }\n",
       "\n",
       "    .dataframe tbody tr th {\n",
       "        vertical-align: top;\n",
       "    }\n",
       "\n",
       "    .dataframe thead th {\n",
       "        text-align: right;\n",
       "    }\n",
       "</style>\n",
       "<table border=\"1\" class=\"dataframe\">\n",
       "  <thead>\n",
       "    <tr style=\"text-align: right;\">\n",
       "      <th></th>\n",
       "      <th>RowNumber</th>\n",
       "      <th>CustomerId</th>\n",
       "      <th>Surname</th>\n",
       "      <th>CreditScore</th>\n",
       "      <th>Geography</th>\n",
       "      <th>Gender</th>\n",
       "      <th>Age</th>\n",
       "      <th>Tenure</th>\n",
       "      <th>Balance</th>\n",
       "      <th>NumOfProducts</th>\n",
       "      <th>HasCrCard</th>\n",
       "      <th>IsActiveMember</th>\n",
       "      <th>EstimatedSalary</th>\n",
       "      <th>Exited</th>\n",
       "    </tr>\n",
       "  </thead>\n",
       "  <tbody>\n",
       "    <tr>\n",
       "      <th>0</th>\n",
       "      <td>1</td>\n",
       "      <td>15634602</td>\n",
       "      <td>Hargrave</td>\n",
       "      <td>619</td>\n",
       "      <td>France</td>\n",
       "      <td>Female</td>\n",
       "      <td>42</td>\n",
       "      <td>2.0</td>\n",
       "      <td>0.00</td>\n",
       "      <td>1</td>\n",
       "      <td>1</td>\n",
       "      <td>1</td>\n",
       "      <td>101348.88</td>\n",
       "      <td>1</td>\n",
       "    </tr>\n",
       "    <tr>\n",
       "      <th>1</th>\n",
       "      <td>2</td>\n",
       "      <td>15647311</td>\n",
       "      <td>Hill</td>\n",
       "      <td>608</td>\n",
       "      <td>Spain</td>\n",
       "      <td>Female</td>\n",
       "      <td>41</td>\n",
       "      <td>1.0</td>\n",
       "      <td>83807.86</td>\n",
       "      <td>1</td>\n",
       "      <td>0</td>\n",
       "      <td>1</td>\n",
       "      <td>112542.58</td>\n",
       "      <td>0</td>\n",
       "    </tr>\n",
       "    <tr>\n",
       "      <th>2</th>\n",
       "      <td>3</td>\n",
       "      <td>15619304</td>\n",
       "      <td>Onio</td>\n",
       "      <td>502</td>\n",
       "      <td>France</td>\n",
       "      <td>Female</td>\n",
       "      <td>42</td>\n",
       "      <td>8.0</td>\n",
       "      <td>159660.80</td>\n",
       "      <td>3</td>\n",
       "      <td>1</td>\n",
       "      <td>0</td>\n",
       "      <td>113931.57</td>\n",
       "      <td>1</td>\n",
       "    </tr>\n",
       "    <tr>\n",
       "      <th>3</th>\n",
       "      <td>4</td>\n",
       "      <td>15701354</td>\n",
       "      <td>Boni</td>\n",
       "      <td>699</td>\n",
       "      <td>France</td>\n",
       "      <td>Female</td>\n",
       "      <td>39</td>\n",
       "      <td>1.0</td>\n",
       "      <td>0.00</td>\n",
       "      <td>2</td>\n",
       "      <td>0</td>\n",
       "      <td>0</td>\n",
       "      <td>93826.63</td>\n",
       "      <td>0</td>\n",
       "    </tr>\n",
       "    <tr>\n",
       "      <th>4</th>\n",
       "      <td>5</td>\n",
       "      <td>15737888</td>\n",
       "      <td>Mitchell</td>\n",
       "      <td>850</td>\n",
       "      <td>Spain</td>\n",
       "      <td>Female</td>\n",
       "      <td>43</td>\n",
       "      <td>2.0</td>\n",
       "      <td>125510.82</td>\n",
       "      <td>1</td>\n",
       "      <td>1</td>\n",
       "      <td>1</td>\n",
       "      <td>79084.10</td>\n",
       "      <td>0</td>\n",
       "    </tr>\n",
       "  </tbody>\n",
       "</table>\n",
       "</div>"
      ],
      "text/plain": [
       "   RowNumber  CustomerId   Surname  CreditScore Geography  Gender  Age  \\\n",
       "0          1    15634602  Hargrave          619    France  Female   42   \n",
       "1          2    15647311      Hill          608     Spain  Female   41   \n",
       "2          3    15619304      Onio          502    France  Female   42   \n",
       "3          4    15701354      Boni          699    France  Female   39   \n",
       "4          5    15737888  Mitchell          850     Spain  Female   43   \n",
       "\n",
       "   Tenure    Balance  NumOfProducts  HasCrCard  IsActiveMember  \\\n",
       "0     2.0       0.00              1          1               1   \n",
       "1     1.0   83807.86              1          0               1   \n",
       "2     8.0  159660.80              3          1               0   \n",
       "3     1.0       0.00              2          0               0   \n",
       "4     2.0  125510.82              1          1               1   \n",
       "\n",
       "   EstimatedSalary  Exited  \n",
       "0        101348.88       1  \n",
       "1        112542.58       0  \n",
       "2        113931.57       1  \n",
       "3         93826.63       0  \n",
       "4         79084.10       0  "
      ]
     },
     "execution_count": 2,
     "metadata": {},
     "output_type": "execute_result"
    }
   ],
   "source": [
    "df = pd.read_csv('***.csv') # прочитаем файл\n",
    "df.info() # общая информация\n",
    "df.head() # первые пять строк датафрейма"
   ]
  },
  {
   "cell_type": "markdown",
   "metadata": {},
   "source": [
    "**Описание данных**\n",
    "\n",
    "Признаки:\n",
    "* `RowNumber` — индекс строки в данных\n",
    "* `CustomerId` — уникальный идентификатор клиента\n",
    "* `Surname` — фамилия\n",
    "* `CreditScore` — кредитный рейтинг\n",
    "* `Geography` — страна проживания\n",
    "* `Gender` — пол\n",
    "* `Age` — возраст\n",
    "* `Tenure` — сколько лет человек является клиентом банка\n",
    "* `Balance` — баланс на счёте\n",
    "* `NumOfProducts` — количество продуктов банка, используемых клиентом\n",
    "* `HasCrCard` — наличие кредитной карты\n",
    "* `IsActiveMember` — активность клиента\n",
    "* `EstimatedSalary` — предполагаемая зарплата\n",
    "\n",
    "Целевой признак:\n",
    "* `Exited` — факт ухода клиента\n",
    "\n",
    "**Выводы:**\n",
    "\n",
    "В данных есть пропуски в столбце сколько лет человек является клиентом банка. У нас порядка 10% пропусков, их можно удалить. Так как это учебный проект, мы не можем запросить недостающие данные.\n",
    "\n",
    "Так же замечено нарушение змеиного регистра в названии столбцов. Так же есть столбцы, которые не нужны для обучения моделей, они не влияют на конечный результат, их можно удалить. Это столбцы с индексом строки в данных, уникальный идентификатор клиента, фамилия."
   ]
  },
  {
   "cell_type": "markdown",
   "metadata": {},
   "source": [
    "### Подготовка данных"
   ]
  },
  {
   "cell_type": "code",
   "execution_count": 3,
   "metadata": {},
   "outputs": [],
   "source": [
    "df = df.drop(['RowNumber', 'CustomerId', 'Surname'], axis = 1) # удаление столбцов"
   ]
  },
  {
   "cell_type": "code",
   "execution_count": 4,
   "metadata": {
    "scrolled": true
   },
   "outputs": [
    {
     "data": {
      "text/html": [
       "<div>\n",
       "<style scoped>\n",
       "    .dataframe tbody tr th:only-of-type {\n",
       "        vertical-align: middle;\n",
       "    }\n",
       "\n",
       "    .dataframe tbody tr th {\n",
       "        vertical-align: top;\n",
       "    }\n",
       "\n",
       "    .dataframe thead th {\n",
       "        text-align: right;\n",
       "    }\n",
       "</style>\n",
       "<table border=\"1\" class=\"dataframe\">\n",
       "  <thead>\n",
       "    <tr style=\"text-align: right;\">\n",
       "      <th></th>\n",
       "      <th>credit_score</th>\n",
       "      <th>geography</th>\n",
       "      <th>gender</th>\n",
       "      <th>age</th>\n",
       "      <th>tenure</th>\n",
       "      <th>balance</th>\n",
       "      <th>num_of_products</th>\n",
       "      <th>has_cr_card</th>\n",
       "      <th>is_active_member</th>\n",
       "      <th>estimated_salary</th>\n",
       "      <th>exited</th>\n",
       "    </tr>\n",
       "  </thead>\n",
       "  <tbody>\n",
       "    <tr>\n",
       "      <th>0</th>\n",
       "      <td>619</td>\n",
       "      <td>France</td>\n",
       "      <td>Female</td>\n",
       "      <td>42</td>\n",
       "      <td>2.0</td>\n",
       "      <td>0.00</td>\n",
       "      <td>1</td>\n",
       "      <td>1</td>\n",
       "      <td>1</td>\n",
       "      <td>101348.88</td>\n",
       "      <td>1</td>\n",
       "    </tr>\n",
       "    <tr>\n",
       "      <th>1</th>\n",
       "      <td>608</td>\n",
       "      <td>Spain</td>\n",
       "      <td>Female</td>\n",
       "      <td>41</td>\n",
       "      <td>1.0</td>\n",
       "      <td>83807.86</td>\n",
       "      <td>1</td>\n",
       "      <td>0</td>\n",
       "      <td>1</td>\n",
       "      <td>112542.58</td>\n",
       "      <td>0</td>\n",
       "    </tr>\n",
       "    <tr>\n",
       "      <th>2</th>\n",
       "      <td>502</td>\n",
       "      <td>France</td>\n",
       "      <td>Female</td>\n",
       "      <td>42</td>\n",
       "      <td>8.0</td>\n",
       "      <td>159660.80</td>\n",
       "      <td>3</td>\n",
       "      <td>1</td>\n",
       "      <td>0</td>\n",
       "      <td>113931.57</td>\n",
       "      <td>1</td>\n",
       "    </tr>\n",
       "    <tr>\n",
       "      <th>3</th>\n",
       "      <td>699</td>\n",
       "      <td>France</td>\n",
       "      <td>Female</td>\n",
       "      <td>39</td>\n",
       "      <td>1.0</td>\n",
       "      <td>0.00</td>\n",
       "      <td>2</td>\n",
       "      <td>0</td>\n",
       "      <td>0</td>\n",
       "      <td>93826.63</td>\n",
       "      <td>0</td>\n",
       "    </tr>\n",
       "    <tr>\n",
       "      <th>4</th>\n",
       "      <td>850</td>\n",
       "      <td>Spain</td>\n",
       "      <td>Female</td>\n",
       "      <td>43</td>\n",
       "      <td>2.0</td>\n",
       "      <td>125510.82</td>\n",
       "      <td>1</td>\n",
       "      <td>1</td>\n",
       "      <td>1</td>\n",
       "      <td>79084.10</td>\n",
       "      <td>0</td>\n",
       "    </tr>\n",
       "  </tbody>\n",
       "</table>\n",
       "</div>"
      ],
      "text/plain": [
       "   credit_score geography  gender  age  tenure    balance  num_of_products  \\\n",
       "0           619    France  Female   42     2.0       0.00                1   \n",
       "1           608     Spain  Female   41     1.0   83807.86                1   \n",
       "2           502    France  Female   42     8.0  159660.80                3   \n",
       "3           699    France  Female   39     1.0       0.00                2   \n",
       "4           850     Spain  Female   43     2.0  125510.82                1   \n",
       "\n",
       "   has_cr_card  is_active_member  estimated_salary  exited  \n",
       "0            1                 1         101348.88       1  \n",
       "1            0                 1         112542.58       0  \n",
       "2            1                 0         113931.57       1  \n",
       "3            0                 0          93826.63       0  \n",
       "4            1                 1          79084.10       0  "
      ]
     },
     "execution_count": 4,
     "metadata": {},
     "output_type": "execute_result"
    }
   ],
   "source": [
    "# переименование столбцов\n",
    "df = df.rename(columns = {'CreditScore':'credit_score',\n",
    "                          'Geography':'geography',\n",
    "                          'Gender':'gender',\n",
    "                          'Age':'age',\n",
    "                          'Tenure':'tenure',\n",
    "                          'Balance':'balance',\n",
    "                          'NumOfProducts':'num_of_products',\n",
    "                          'HasCrCard':'has_cr_card',\n",
    "                          'IsActiveMember':'is_active_member',\n",
    "                          'EstimatedSalary':'estimated_salary',\n",
    "                          'Exited':'exited'\n",
    "                          })\n",
    "df.head()"
   ]
  },
  {
   "cell_type": "code",
   "execution_count": 5,
   "metadata": {},
   "outputs": [
    {
     "data": {
      "text/html": [
       "<div>\n",
       "<style scoped>\n",
       "    .dataframe tbody tr th:only-of-type {\n",
       "        vertical-align: middle;\n",
       "    }\n",
       "\n",
       "    .dataframe tbody tr th {\n",
       "        vertical-align: top;\n",
       "    }\n",
       "\n",
       "    .dataframe thead th {\n",
       "        text-align: right;\n",
       "    }\n",
       "</style>\n",
       "<table border=\"1\" class=\"dataframe\">\n",
       "  <thead>\n",
       "    <tr style=\"text-align: right;\">\n",
       "      <th></th>\n",
       "      <th>credit_score</th>\n",
       "      <th>age</th>\n",
       "      <th>tenure</th>\n",
       "      <th>balance</th>\n",
       "      <th>num_of_products</th>\n",
       "      <th>has_cr_card</th>\n",
       "      <th>is_active_member</th>\n",
       "      <th>estimated_salary</th>\n",
       "      <th>exited</th>\n",
       "    </tr>\n",
       "  </thead>\n",
       "  <tbody>\n",
       "    <tr>\n",
       "      <th>count</th>\n",
       "      <td>10000.000000</td>\n",
       "      <td>10000.000000</td>\n",
       "      <td>9091.000000</td>\n",
       "      <td>10000.000000</td>\n",
       "      <td>10000.000000</td>\n",
       "      <td>10000.00000</td>\n",
       "      <td>10000.000000</td>\n",
       "      <td>10000.000000</td>\n",
       "      <td>10000.000000</td>\n",
       "    </tr>\n",
       "    <tr>\n",
       "      <th>mean</th>\n",
       "      <td>650.528800</td>\n",
       "      <td>38.921800</td>\n",
       "      <td>4.997690</td>\n",
       "      <td>76485.889288</td>\n",
       "      <td>1.530200</td>\n",
       "      <td>0.70550</td>\n",
       "      <td>0.515100</td>\n",
       "      <td>100090.239881</td>\n",
       "      <td>0.203700</td>\n",
       "    </tr>\n",
       "    <tr>\n",
       "      <th>std</th>\n",
       "      <td>96.653299</td>\n",
       "      <td>10.487806</td>\n",
       "      <td>2.894723</td>\n",
       "      <td>62397.405202</td>\n",
       "      <td>0.581654</td>\n",
       "      <td>0.45584</td>\n",
       "      <td>0.499797</td>\n",
       "      <td>57510.492818</td>\n",
       "      <td>0.402769</td>\n",
       "    </tr>\n",
       "    <tr>\n",
       "      <th>min</th>\n",
       "      <td>350.000000</td>\n",
       "      <td>18.000000</td>\n",
       "      <td>0.000000</td>\n",
       "      <td>0.000000</td>\n",
       "      <td>1.000000</td>\n",
       "      <td>0.00000</td>\n",
       "      <td>0.000000</td>\n",
       "      <td>11.580000</td>\n",
       "      <td>0.000000</td>\n",
       "    </tr>\n",
       "    <tr>\n",
       "      <th>25%</th>\n",
       "      <td>584.000000</td>\n",
       "      <td>32.000000</td>\n",
       "      <td>2.000000</td>\n",
       "      <td>0.000000</td>\n",
       "      <td>1.000000</td>\n",
       "      <td>0.00000</td>\n",
       "      <td>0.000000</td>\n",
       "      <td>51002.110000</td>\n",
       "      <td>0.000000</td>\n",
       "    </tr>\n",
       "    <tr>\n",
       "      <th>50%</th>\n",
       "      <td>652.000000</td>\n",
       "      <td>37.000000</td>\n",
       "      <td>5.000000</td>\n",
       "      <td>97198.540000</td>\n",
       "      <td>1.000000</td>\n",
       "      <td>1.00000</td>\n",
       "      <td>1.000000</td>\n",
       "      <td>100193.915000</td>\n",
       "      <td>0.000000</td>\n",
       "    </tr>\n",
       "    <tr>\n",
       "      <th>75%</th>\n",
       "      <td>718.000000</td>\n",
       "      <td>44.000000</td>\n",
       "      <td>7.000000</td>\n",
       "      <td>127644.240000</td>\n",
       "      <td>2.000000</td>\n",
       "      <td>1.00000</td>\n",
       "      <td>1.000000</td>\n",
       "      <td>149388.247500</td>\n",
       "      <td>0.000000</td>\n",
       "    </tr>\n",
       "    <tr>\n",
       "      <th>max</th>\n",
       "      <td>850.000000</td>\n",
       "      <td>92.000000</td>\n",
       "      <td>10.000000</td>\n",
       "      <td>250898.090000</td>\n",
       "      <td>4.000000</td>\n",
       "      <td>1.00000</td>\n",
       "      <td>1.000000</td>\n",
       "      <td>199992.480000</td>\n",
       "      <td>1.000000</td>\n",
       "    </tr>\n",
       "  </tbody>\n",
       "</table>\n",
       "</div>"
      ],
      "text/plain": [
       "       credit_score           age       tenure        balance  \\\n",
       "count  10000.000000  10000.000000  9091.000000   10000.000000   \n",
       "mean     650.528800     38.921800     4.997690   76485.889288   \n",
       "std       96.653299     10.487806     2.894723   62397.405202   \n",
       "min      350.000000     18.000000     0.000000       0.000000   \n",
       "25%      584.000000     32.000000     2.000000       0.000000   \n",
       "50%      652.000000     37.000000     5.000000   97198.540000   \n",
       "75%      718.000000     44.000000     7.000000  127644.240000   \n",
       "max      850.000000     92.000000    10.000000  250898.090000   \n",
       "\n",
       "       num_of_products  has_cr_card  is_active_member  estimated_salary  \\\n",
       "count     10000.000000  10000.00000      10000.000000      10000.000000   \n",
       "mean          1.530200      0.70550          0.515100     100090.239881   \n",
       "std           0.581654      0.45584          0.499797      57510.492818   \n",
       "min           1.000000      0.00000          0.000000         11.580000   \n",
       "25%           1.000000      0.00000          0.000000      51002.110000   \n",
       "50%           1.000000      1.00000          1.000000     100193.915000   \n",
       "75%           2.000000      1.00000          1.000000     149388.247500   \n",
       "max           4.000000      1.00000          1.000000     199992.480000   \n",
       "\n",
       "             exited  \n",
       "count  10000.000000  \n",
       "mean       0.203700  \n",
       "std        0.402769  \n",
       "min        0.000000  \n",
       "25%        0.000000  \n",
       "50%        0.000000  \n",
       "75%        0.000000  \n",
       "max        1.000000  "
      ]
     },
     "execution_count": 5,
     "metadata": {},
     "output_type": "execute_result"
    }
   ],
   "source": [
    "df.describe() # описание датасета"
   ]
  },
  {
   "cell_type": "code",
   "execution_count": 6,
   "metadata": {
    "scrolled": true
   },
   "outputs": [
    {
     "name": "stdout",
     "output_type": "stream",
     "text": [
      "France     5014\n",
      "Germany    2509\n",
      "Spain      2477\n",
      "Name: geography, dtype: int64\n"
     ]
    },
    {
     "data": {
      "text/plain": [
       "Male      5457\n",
       "Female    4543\n",
       "Name: gender, dtype: int64"
      ]
     },
     "execution_count": 6,
     "metadata": {},
     "output_type": "execute_result"
    }
   ],
   "source": [
    "print(df['geography'].value_counts()) # уникальные значения столбца 'geography'\n",
    "df['gender'].value_counts() # уникальные значения столбца 'gender'"
   ]
  },
  {
   "cell_type": "markdown",
   "metadata": {},
   "source": [
    "С данными все в порядке."
   ]
  },
  {
   "cell_type": "markdown",
   "metadata": {},
   "source": [
    "### Обработка пропусков"
   ]
  },
  {
   "cell_type": "code",
   "execution_count": 7,
   "metadata": {},
   "outputs": [],
   "source": [
    "df = df.dropna().reset_index(drop=True) # удаляем строки с пропущенными значениями"
   ]
  },
  {
   "cell_type": "markdown",
   "metadata": {},
   "source": [
    "### Преобразование категориальных признаков в численные"
   ]
  },
  {
   "cell_type": "markdown",
   "metadata": {},
   "source": [
    "Осталось 2 столбца с категориальными признаками с типом object, преобразуем их в численные."
   ]
  },
  {
   "cell_type": "code",
   "execution_count": 8,
   "metadata": {},
   "outputs": [],
   "source": [
    "#преобразование категориальных признаков в численные\n",
    "df = pd.get_dummies(df, columns=['geography','gender'], drop_first=True)"
   ]
  },
  {
   "cell_type": "markdown",
   "metadata": {},
   "source": [
    "### Разделение на выборки"
   ]
  },
  {
   "cell_type": "code",
   "execution_count": 9,
   "metadata": {},
   "outputs": [],
   "source": [
    "features = df.drop(['exited'], axis =1) # определяю признаки\n",
    "target = df['exited'] # определяю целевой признак"
   ]
  },
  {
   "cell_type": "code",
   "execution_count": 10,
   "metadata": {},
   "outputs": [],
   "source": [
    "features_train, features_test , target_train, target_test = train_test_split(\n",
    "    features, target, train_size=0.6, random_state=42) # отделение 60% данных для обучающей выборки"
   ]
  },
  {
   "cell_type": "code",
   "execution_count": 11,
   "metadata": {},
   "outputs": [],
   "source": [
    "features_test, features_valid, target_test, target_valid = train_test_split(\n",
    "    features_test, target_test, test_size=0.5, random_state=42) \n",
    "# разделение оставшихся данных на тестовую и валидационную выборки"
   ]
  },
  {
   "cell_type": "markdown",
   "metadata": {},
   "source": [
    "Проверим разделение выборок:"
   ]
  },
  {
   "cell_type": "code",
   "execution_count": 12,
   "metadata": {},
   "outputs": [
    {
     "name": "stdout",
     "output_type": "stream",
     "text": [
      "Обучающая выборка: 60.0 %\n",
      "Валидационная выборка: 20.0 %\n",
      "Тестовая выборка: 20.0 %\n"
     ]
    }
   ],
   "source": [
    "print('Обучающая выборка:',round(features_train.shape[0]/features.shape[0]*100,1),'%')\n",
    "print('Валидационная выборка:',round(features_valid.shape[0]/features.shape[0]*100,1),'%')\n",
    "print('Тестовая выборка:',round(features_test.shape[0]/features.shape[0]*100,1),'%')"
   ]
  },
  {
   "cell_type": "markdown",
   "metadata": {},
   "source": [
    "### Масштабирование признаков"
   ]
  },
  {
   "cell_type": "code",
   "execution_count": 13,
   "metadata": {},
   "outputs": [
    {
     "data": {
      "text/html": [
       "<div>\n",
       "<style scoped>\n",
       "    .dataframe tbody tr th:only-of-type {\n",
       "        vertical-align: middle;\n",
       "    }\n",
       "\n",
       "    .dataframe tbody tr th {\n",
       "        vertical-align: top;\n",
       "    }\n",
       "\n",
       "    .dataframe thead th {\n",
       "        text-align: right;\n",
       "    }\n",
       "</style>\n",
       "<table border=\"1\" class=\"dataframe\">\n",
       "  <thead>\n",
       "    <tr style=\"text-align: right;\">\n",
       "      <th></th>\n",
       "      <th>credit_score</th>\n",
       "      <th>age</th>\n",
       "      <th>tenure</th>\n",
       "      <th>balance</th>\n",
       "      <th>num_of_products</th>\n",
       "      <th>has_cr_card</th>\n",
       "      <th>is_active_member</th>\n",
       "      <th>estimated_salary</th>\n",
       "      <th>exited</th>\n",
       "      <th>geography_Germany</th>\n",
       "      <th>geography_Spain</th>\n",
       "      <th>gender_Male</th>\n",
       "    </tr>\n",
       "  </thead>\n",
       "  <tbody>\n",
       "    <tr>\n",
       "      <th>0</th>\n",
       "      <td>619</td>\n",
       "      <td>42</td>\n",
       "      <td>2.0</td>\n",
       "      <td>0.00</td>\n",
       "      <td>1</td>\n",
       "      <td>1</td>\n",
       "      <td>1</td>\n",
       "      <td>101348.88</td>\n",
       "      <td>1</td>\n",
       "      <td>0</td>\n",
       "      <td>0</td>\n",
       "      <td>0</td>\n",
       "    </tr>\n",
       "    <tr>\n",
       "      <th>1</th>\n",
       "      <td>608</td>\n",
       "      <td>41</td>\n",
       "      <td>1.0</td>\n",
       "      <td>83807.86</td>\n",
       "      <td>1</td>\n",
       "      <td>0</td>\n",
       "      <td>1</td>\n",
       "      <td>112542.58</td>\n",
       "      <td>0</td>\n",
       "      <td>0</td>\n",
       "      <td>1</td>\n",
       "      <td>0</td>\n",
       "    </tr>\n",
       "    <tr>\n",
       "      <th>2</th>\n",
       "      <td>502</td>\n",
       "      <td>42</td>\n",
       "      <td>8.0</td>\n",
       "      <td>159660.80</td>\n",
       "      <td>3</td>\n",
       "      <td>1</td>\n",
       "      <td>0</td>\n",
       "      <td>113931.57</td>\n",
       "      <td>1</td>\n",
       "      <td>0</td>\n",
       "      <td>0</td>\n",
       "      <td>0</td>\n",
       "    </tr>\n",
       "    <tr>\n",
       "      <th>3</th>\n",
       "      <td>699</td>\n",
       "      <td>39</td>\n",
       "      <td>1.0</td>\n",
       "      <td>0.00</td>\n",
       "      <td>2</td>\n",
       "      <td>0</td>\n",
       "      <td>0</td>\n",
       "      <td>93826.63</td>\n",
       "      <td>0</td>\n",
       "      <td>0</td>\n",
       "      <td>0</td>\n",
       "      <td>0</td>\n",
       "    </tr>\n",
       "    <tr>\n",
       "      <th>4</th>\n",
       "      <td>850</td>\n",
       "      <td>43</td>\n",
       "      <td>2.0</td>\n",
       "      <td>125510.82</td>\n",
       "      <td>1</td>\n",
       "      <td>1</td>\n",
       "      <td>1</td>\n",
       "      <td>79084.10</td>\n",
       "      <td>0</td>\n",
       "      <td>0</td>\n",
       "      <td>1</td>\n",
       "      <td>0</td>\n",
       "    </tr>\n",
       "  </tbody>\n",
       "</table>\n",
       "</div>"
      ],
      "text/plain": [
       "   credit_score  age  tenure    balance  num_of_products  has_cr_card  \\\n",
       "0           619   42     2.0       0.00                1            1   \n",
       "1           608   41     1.0   83807.86                1            0   \n",
       "2           502   42     8.0  159660.80                3            1   \n",
       "3           699   39     1.0       0.00                2            0   \n",
       "4           850   43     2.0  125510.82                1            1   \n",
       "\n",
       "   is_active_member  estimated_salary  exited  geography_Germany  \\\n",
       "0                 1         101348.88       1                  0   \n",
       "1                 1         112542.58       0                  0   \n",
       "2                 0         113931.57       1                  0   \n",
       "3                 0          93826.63       0                  0   \n",
       "4                 1          79084.10       0                  0   \n",
       "\n",
       "   geography_Spain  gender_Male  \n",
       "0                0            0  \n",
       "1                1            0  \n",
       "2                0            0  \n",
       "3                0            0  \n",
       "4                1            0  "
      ]
     },
     "execution_count": 13,
     "metadata": {},
     "output_type": "execute_result"
    }
   ],
   "source": [
    "df.head()"
   ]
  },
  {
   "cell_type": "code",
   "execution_count": 14,
   "metadata": {},
   "outputs": [],
   "source": [
    "numeric = ['credit_score','age','tenure','balance','estimated_salary']\n",
    "\n",
    "scaler = StandardScaler()\n",
    "\n",
    "scaler.fit(features_train[numeric])\n",
    "\n",
    "features_train[numeric] = scaler.transform(features_train[numeric])\n",
    "features_valid[numeric] = scaler.transform(features_valid[numeric])\n",
    "features_test[numeric] = scaler.transform(features_test[numeric])"
   ]
  },
  {
   "cell_type": "markdown",
   "metadata": {},
   "source": [
    "Данные подготовлены для исследования и построения моделей."
   ]
  },
  {
   "cell_type": "markdown",
   "metadata": {},
   "source": [
    "## Исследование задачи"
   ]
  },
  {
   "cell_type": "markdown",
   "metadata": {},
   "source": [
    "Исследуем баланс классов, обучим модель без учёта дисбаланса."
   ]
  },
  {
   "cell_type": "code",
   "execution_count": 15,
   "metadata": {},
   "outputs": [
    {
     "data": {
      "text/plain": [
       "0    0.796062\n",
       "1    0.203938\n",
       "Name: exited, dtype: float64"
      ]
     },
     "execution_count": 15,
     "metadata": {},
     "output_type": "execute_result"
    }
   ],
   "source": [
    "target.value_counts(normalize=True) # смотриим баланс классов"
   ]
  },
  {
   "cell_type": "markdown",
   "metadata": {},
   "source": [
    "80% отрицательного класса и 20% положительного. Наблюдается большой дисбаланс классов. Метрика Accuracy не подходит для проверки модели из-за дисбаланса классов. Воспользуемся метрикой F1."
   ]
  },
  {
   "cell_type": "markdown",
   "metadata": {},
   "source": [
    "**DecisionTreeClassifier**"
   ]
  },
  {
   "cell_type": "markdown",
   "metadata": {},
   "source": [
    "Напишем функцию для подбора гиперпараметров и обучения Дерева Решений с выводом F1."
   ]
  },
  {
   "cell_type": "code",
   "execution_count": 16,
   "metadata": {},
   "outputs": [],
   "source": [
    "def tree(features_tr, target_tr, weight):\n",
    "    best_model = None\n",
    "    best_result = 0\n",
    "    for depth in range(1,10):\n",
    "        model = DecisionTreeClassifier(random_state=42, max_depth=depth, class_weight=weight)\n",
    "        model.fit(features_tr, target_tr) # обучение модели\n",
    "        predictions_valid = model.predict(features_valid) # применение модели на валидационной выборке\n",
    "        result = f1_score(target_valid, predictions_valid) # применение модели на валидационной выборке\n",
    "        if result > best_result:\n",
    "            best_model = model\n",
    "            best_result = result\n",
    "    return best_result, best_model"
   ]
  },
  {
   "cell_type": "code",
   "execution_count": 17,
   "metadata": {},
   "outputs": [
    {
     "name": "stdout",
     "output_type": "stream",
     "text": [
      "F1-мера лучшей модели: (0.565587734241908, DecisionTreeClassifier(max_depth=8, random_state=42))\n"
     ]
    }
   ],
   "source": [
    "print('F1-мера лучшей модели:', tree(features_train, target_train, None)) # применение функции на тренировочной выборке"
   ]
  },
  {
   "cell_type": "markdown",
   "metadata": {},
   "source": [
    "**RandomForestClassifier**"
   ]
  },
  {
   "cell_type": "markdown",
   "metadata": {},
   "source": [
    "Напишем функцию для подбора гиперпараметров и обучения Случайного Леса с выводом F1."
   ]
  },
  {
   "cell_type": "code",
   "execution_count": 18,
   "metadata": {},
   "outputs": [],
   "source": [
    "def forest(features_tr, target_tr, weight):\n",
    "    best_model = None\n",
    "    best_result = 0\n",
    "    for est in np.arange(1,52,5):\n",
    "        for depth in range(1,21):\n",
    "            model = RandomForestClassifier(random_state=42, n_estimators=est, max_depth = depth, class_weight=weight)\n",
    "            model.fit(features_tr, target_tr) # обучение модели\n",
    "            predicted_valid = model.predict(features_valid) # предсказанные значения\n",
    "            result = f1_score(target_valid, predicted_valid) # применение модели на валидационной выборке\n",
    "            if result > best_result:\n",
    "                best_model = model\n",
    "                best_result = result\n",
    "    return best_result, best_model"
   ]
  },
  {
   "cell_type": "code",
   "execution_count": 19,
   "metadata": {},
   "outputs": [
    {
     "name": "stdout",
     "output_type": "stream",
     "text": [
      "F1-мера лучшей модели: (0.5909090909090909, RandomForestClassifier(max_depth=17, n_estimators=11, random_state=42))\n"
     ]
    }
   ],
   "source": [
    "print('F1-мера лучшей модели:', forest(features_train, target_train, None)) # применение функции на тренировочной выборке"
   ]
  },
  {
   "cell_type": "markdown",
   "metadata": {},
   "source": [
    "**LogisticRegression**"
   ]
  },
  {
   "cell_type": "markdown",
   "metadata": {},
   "source": [
    "Напишем функцию для обучения Логистической Регрессии с выводом F1."
   ]
  },
  {
   "cell_type": "code",
   "execution_count": 20,
   "metadata": {},
   "outputs": [],
   "source": [
    "def logistic(features_tr, target_tr, weight):\n",
    "    model_logistic = LogisticRegression(max_iter=1000, random_state=42, solver = 'liblinear', class_weight=weight)\n",
    "    model_logistic.fit(features_tr, target_tr) # обучение модели\n",
    "    predicted_valid = model_logistic.predict(features_valid) # предсказания\n",
    "    return f1_score(target_valid, predicted_valid) # применение модели на валидационной выборке"
   ]
  },
  {
   "cell_type": "code",
   "execution_count": 21,
   "metadata": {},
   "outputs": [
    {
     "name": "stdout",
     "output_type": "stream",
     "text": [
      "F1-мера лучшей модели: 0.27886710239651413\n"
     ]
    }
   ],
   "source": [
    "print('F1-мера лучшей модели:', logistic(features_train, target_train, None)) # применение функции на тренировочной выборке"
   ]
  },
  {
   "cell_type": "markdown",
   "metadata": {},
   "source": [
    "**Метрика AUC-ROC лучшей модели.**"
   ]
  },
  {
   "cell_type": "markdown",
   "metadata": {},
   "source": [
    "Напишем функцию для построения ROC-кривой и вывода AUC-ROC лучшей модели."
   ]
  },
  {
   "cell_type": "code",
   "execution_count": 22,
   "metadata": {},
   "outputs": [],
   "source": [
    "def auc_roc(features_tr, target_tr, depth, est, weight):\n",
    "    model = RandomForestClassifier(max_depth=depth, n_estimators=est, random_state=42, class_weight=weight)\n",
    "    model.fit(features_tr, target_tr)\n",
    "    \n",
    "    probabilities_valid = model.predict_proba(features_valid)\n",
    "    probabilities_one_valid = probabilities_valid[:, 1]\n",
    "    \n",
    "    fpr, tpr, thresholds = roc_curve(target_valid, probabilities_one_valid)\n",
    "    \n",
    "    plt.figure()\n",
    "    plt.plot(fpr, tpr)\n",
    "    plt.plot([0, 1], [0, 1], linestyle='--')\n",
    "    plt.xlim([0.0, 1.0])\n",
    "    plt.ylim([0.0, 1.0])\n",
    "    plt.xlabel('False Positive Rate')\n",
    "    plt.ylabel('True Positive Rate')\n",
    "    plt.title('ROC-кривая')\n",
    "    plt.grid()\n",
    "    \n",
    "    return roc_auc_score(target_valid, probabilities_one_valid)"
   ]
  },
  {
   "cell_type": "code",
   "execution_count": 23,
   "metadata": {
    "scrolled": true
   },
   "outputs": [
    {
     "name": "stdout",
     "output_type": "stream",
     "text": [
      "AUC_ROC лучшей модели: 0.8248415915545831\n"
     ]
    },
    {
     "data": {
      "image/png": "[encoded data removed]",
      "text/plain": [
       "<Figure size 432x288 with 1 Axes>"
      ]
     },
     "metadata": {
      "needs_background": "light"
     },
     "output_type": "display_data"
    }
   ],
   "source": [
    "print('AUC_ROC лучшей модели:', auc_roc(features_train, target_train, 17, 11, None))"
   ]
  },
  {
   "cell_type": "markdown",
   "metadata": {},
   "source": [
    "**Выводы:**"
   ]
  },
  {
   "cell_type": "markdown",
   "metadata": {},
   "source": [
    "Результаты исследования моделей без учета дисбаланса:\n",
    "\n",
    "    - DecisionTreeClassifier: 0.566\n",
    "    - RandomForestClassifier: 0.591\n",
    "    - LogisticRegression:     0.279\n",
    "\n",
    "AUC_ROC: 0.825\n",
    "\n",
    "На тестовой выборке качество уменьшиться еще, и мы не получим желаемый результат. Дисбаланс необходимо убирать.\n",
    "\n",
    "Метрика AUC_ROC заметно отличается от метрики F1. Из графика видно, что модель значительно лучше случайной."
   ]
  },
  {
   "cell_type": "markdown",
   "metadata": {},
   "source": [
    "## Борьба с дисбалансом"
   ]
  },
  {
   "cell_type": "markdown",
   "metadata": {},
   "source": [
    "Улучшим качество моделей, учитывая дисбаланс классов."
   ]
  },
  {
   "cell_type": "markdown",
   "metadata": {},
   "source": [
    "### Сбалансируем классы, добавив аргумент class_weight."
   ]
  },
  {
   "cell_type": "markdown",
   "metadata": {},
   "source": [
    "**DecisionTreeClassifier**"
   ]
  },
  {
   "cell_type": "code",
   "execution_count": 24,
   "metadata": {},
   "outputs": [
    {
     "name": "stdout",
     "output_type": "stream",
     "text": [
      "F1-мера лучшей модели: (0.59837019790454, DecisionTreeClassifier(class_weight='balanced', max_depth=8, random_state=42))\n"
     ]
    }
   ],
   "source": [
    "print('F1-мера лучшей модели:', tree(features_train, target_train, 'balanced'))"
   ]
  },
  {
   "cell_type": "markdown",
   "metadata": {},
   "source": [
    "**RandomForestClassifier**"
   ]
  },
  {
   "cell_type": "code",
   "execution_count": 25,
   "metadata": {},
   "outputs": [
    {
     "name": "stdout",
     "output_type": "stream",
     "text": [
      "F1-мера лучшей модели: (0.6208869814020028, RandomForestClassifier(class_weight='balanced', max_depth=10, n_estimators=46,\n",
      "                       random_state=42))\n"
     ]
    }
   ],
   "source": [
    "print('F1-мера лучшей модели:', forest(features_train, target_train, 'balanced'))"
   ]
  },
  {
   "cell_type": "markdown",
   "metadata": {},
   "source": [
    "**LogisticRegression**"
   ]
  },
  {
   "cell_type": "code",
   "execution_count": 26,
   "metadata": {},
   "outputs": [
    {
     "name": "stdout",
     "output_type": "stream",
     "text": [
      "F1-мера лучшей модели: 0.4765625\n"
     ]
    }
   ],
   "source": [
    "print('F1-мера лучшей модели:', logistic(features_train, target_train, 'balanced'))"
   ]
  },
  {
   "cell_type": "markdown",
   "metadata": {},
   "source": [
    "#### Метрика AUC-ROC наилучшей модели."
   ]
  },
  {
   "cell_type": "code",
   "execution_count": 27,
   "metadata": {
    "scrolled": true
   },
   "outputs": [
    {
     "name": "stdout",
     "output_type": "stream",
     "text": [
      "AUC_ROC лучшей модели: 0.8587823310594311\n"
     ]
    },
    {
     "data": {
      "image/png": "[encoded data removed]",
      "text/plain": [
       "<Figure size 432x288 with 1 Axes>"
      ]
     },
     "metadata": {
      "needs_background": "light"
     },
     "output_type": "display_data"
    }
   ],
   "source": [
    "print('AUC_ROC лучшей модели:', auc_roc(features_train, target_train, 10, 46, 'balanced'))"
   ]
  },
  {
   "cell_type": "markdown",
   "metadata": {},
   "source": [
    "Результаты исследования моделей с учетом дисбаланса с добавлением аргумента class_weight:\n",
    "\n",
    "    - DecisionTreeClassifier: 0.598 (+0,032)\n",
    "    - RandomForestClassifier: 0.621 (+0,030)\n",
    "    - LogisticRegression:     0.477 (+0,198) \n",
    "\n",
    "AUC_ROC: 0.859 (+0.034)"
   ]
  },
  {
   "cell_type": "markdown",
   "metadata": {},
   "source": [
    "### Сбалансируем классы, методом увеличения выборки. Upsampling."
   ]
  },
  {
   "cell_type": "code",
   "execution_count": 28,
   "metadata": {},
   "outputs": [],
   "source": [
    "def upsample(feature, target, repeat):\n",
    "    feature_one = feature[target == 1]\n",
    "    target_one = target[target == 1]\n",
    "    feature_zero = feature[target == 0]\n",
    "    target_zero = target[target == 0]\n",
    "    \n",
    "    features_upsampled = pd.concat([feature_zero] + [feature_one] * repeat)\n",
    "    target_upsampled = pd.concat([target_zero] + [target_one] * repeat)\n",
    "    \n",
    "    features_upsampled, target_upsampled = shuffle(features_upsampled, target_upsampled, random_state = 42)\n",
    "    \n",
    "    return features_upsampled, target_upsampled\n",
    "\n",
    "features_upsampled, target_upsampled = upsample(features_train, target_train, 4)"
   ]
  },
  {
   "cell_type": "code",
   "execution_count": 29,
   "metadata": {},
   "outputs": [
    {
     "name": "stdout",
     "output_type": "stream",
     "text": [
      "(8787, 11)\n",
      "(8787,)\n"
     ]
    }
   ],
   "source": [
    "# проверка\n",
    "print(features_upsampled.shape)\n",
    "print(target_upsampled.shape)"
   ]
  },
  {
   "cell_type": "markdown",
   "metadata": {},
   "source": [
    "**DecisionTreeClassifier**"
   ]
  },
  {
   "cell_type": "code",
   "execution_count": 30,
   "metadata": {},
   "outputs": [
    {
     "name": "stdout",
     "output_type": "stream",
     "text": [
      "F1-мера лучшей модели: (0.59837019790454, DecisionTreeClassifier(max_depth=8, random_state=42))\n"
     ]
    }
   ],
   "source": [
    "print('F1-мера лучшей модели:', tree(features_upsampled, target_upsampled, None))"
   ]
  },
  {
   "cell_type": "markdown",
   "metadata": {},
   "source": [
    "**RandomForestClassifier**"
   ]
  },
  {
   "cell_type": "code",
   "execution_count": 31,
   "metadata": {},
   "outputs": [
    {
     "name": "stdout",
     "output_type": "stream",
     "text": [
      "F1-мера лучшей модели: (0.6227709190672155, RandomForestClassifier(max_depth=12, n_estimators=36, random_state=42))\n"
     ]
    }
   ],
   "source": [
    "print('F1-мера лучшей модели:', forest(features_upsampled, target_upsampled, None))"
   ]
  },
  {
   "cell_type": "markdown",
   "metadata": {},
   "source": [
    "**LogisticRegression**"
   ]
  },
  {
   "cell_type": "code",
   "execution_count": 32,
   "metadata": {},
   "outputs": [
    {
     "name": "stdout",
     "output_type": "stream",
     "text": [
      "F1-мера лучшей модели: 0.4768339768339768\n"
     ]
    }
   ],
   "source": [
    "print('F1-мера лучшей модели:', logistic(features_upsampled, target_upsampled, None))"
   ]
  },
  {
   "cell_type": "markdown",
   "metadata": {},
   "source": [
    "#### Метрика AUC-ROC наилучшей модели."
   ]
  },
  {
   "cell_type": "code",
   "execution_count": 33,
   "metadata": {
    "scrolled": true
   },
   "outputs": [
    {
     "name": "stdout",
     "output_type": "stream",
     "text": [
      "AUC_ROC лучшей модели: 0.8514487120663439\n"
     ]
    },
    {
     "data": {
      "image/png": "[encoded data removed]",
      "text/plain": [
       "<Figure size 432x288 with 1 Axes>"
      ]
     },
     "metadata": {
      "needs_background": "light"
     },
     "output_type": "display_data"
    }
   ],
   "source": [
    "print('AUC_ROC лучшей модели:', auc_roc(features_upsampled, target_upsampled, 12, 36, None))"
   ]
  },
  {
   "cell_type": "markdown",
   "metadata": {},
   "source": [
    "Результаты исследования моделей с учетом дисбаланса с помощью увеличения выборки.:\n",
    "\n",
    "    - DecisionTreeClassifier: 0.598 (+0,032)\n",
    "    - RandomForestClassifier: 0.623 (+0,032)\n",
    "    - LogisticRegression:     0.477 (+0,198)  \n",
    "\n",
    "AUC_ROC: 0.851 (+0.026)"
   ]
  },
  {
   "cell_type": "markdown",
   "metadata": {},
   "source": [
    "### Уменьшение выборки. Downsampling."
   ]
  },
  {
   "cell_type": "code",
   "execution_count": 34,
   "metadata": {},
   "outputs": [],
   "source": [
    "def downsample(features, target, fraction):\n",
    "    features_zeros = features[target == 0]\n",
    "    features_ones = features[target == 1]\n",
    "    target_zeros = target[target == 0]\n",
    "    target_ones = target[target == 1]\n",
    "\n",
    "    features_downsampled = pd.concat([features_zeros.sample(frac=fraction, random_state=42)] + [features_ones])\n",
    "    target_downsampled = pd.concat([target_zeros.sample(frac=fraction, random_state=42)] + [target_ones])\n",
    "    \n",
    "    features_downsampled, target_downsampled = shuffle(features_downsampled, target_downsampled, random_state=42)\n",
    "    \n",
    "    return features_downsampled, target_downsampled\n",
    "\n",
    "features_downsampled, target_downsampled = downsample(features_train, target_train, 0.25)"
   ]
  },
  {
   "cell_type": "code",
   "execution_count": 35,
   "metadata": {
    "scrolled": true
   },
   "outputs": [
    {
     "name": "stdout",
     "output_type": "stream",
     "text": [
      "(2197, 11)\n",
      "(2197,)\n"
     ]
    }
   ],
   "source": [
    "# проверка\n",
    "print(features_downsampled.shape)\n",
    "print(target_downsampled.shape)"
   ]
  },
  {
   "cell_type": "markdown",
   "metadata": {},
   "source": [
    "**DecisionTreeClassifier**"
   ]
  },
  {
   "cell_type": "code",
   "execution_count": 36,
   "metadata": {},
   "outputs": [
    {
     "name": "stdout",
     "output_type": "stream",
     "text": [
      "F1-мера лучшей модели: (0.5751072961373391, DecisionTreeClassifier(max_depth=7, random_state=42))\n"
     ]
    }
   ],
   "source": [
    "print('F1-мера лучшей модели:', tree(features_downsampled, target_downsampled, None))"
   ]
  },
  {
   "cell_type": "markdown",
   "metadata": {},
   "source": [
    "**RandomForestClassifier**"
   ]
  },
  {
   "cell_type": "code",
   "execution_count": 37,
   "metadata": {},
   "outputs": [
    {
     "name": "stdout",
     "output_type": "stream",
     "text": [
      "F1-мера лучшей модели: (0.5911664779161948, RandomForestClassifier(max_depth=9, n_estimators=16, random_state=42))\n"
     ]
    }
   ],
   "source": [
    "print('F1-мера лучшей модели:', forest(features_downsampled, target_downsampled, None))"
   ]
  },
  {
   "cell_type": "markdown",
   "metadata": {},
   "source": [
    "**LogisticRegression**"
   ]
  },
  {
   "cell_type": "code",
   "execution_count": 38,
   "metadata": {},
   "outputs": [
    {
     "name": "stdout",
     "output_type": "stream",
     "text": [
      "F1-мера лучшей модели: 0.4700285442435775\n"
     ]
    }
   ],
   "source": [
    "print('F1-мера лучшей модели:', logistic(features_downsampled, target_downsampled, None))"
   ]
  },
  {
   "cell_type": "markdown",
   "metadata": {},
   "source": [
    "#### Метрика AUC-ROC наилучшей модели."
   ]
  },
  {
   "cell_type": "code",
   "execution_count": 39,
   "metadata": {
    "scrolled": true
   },
   "outputs": [
    {
     "name": "stdout",
     "output_type": "stream",
     "text": [
      "AUC_ROC лучшей модели: 0.8422712604799842\n"
     ]
    },
    {
     "data": {
      "image/png": "[encoded data removed]",
      "text/plain": [
       "<Figure size 432x288 with 1 Axes>"
      ]
     },
     "metadata": {
      "needs_background": "light"
     },
     "output_type": "display_data"
    }
   ],
   "source": [
    "print('AUC_ROC лучшей модели:', auc_roc(features_downsampled, target_downsampled, 9, 16, None))"
   ]
  },
  {
   "cell_type": "markdown",
   "metadata": {},
   "source": [
    "Результаты исследования моделей с учетом дисбаланса с помощью уменьшения выборки.:\n",
    "\n",
    "    - DecisionTreeClassifier: 0.575 (+0,009)\n",
    "    - RandomForestClassifier: 0.591 (без изменений)\n",
    "    - LogisticRegression:     0.47 (+0,191)  \n",
    "\n",
    "AUC_ROC: 0.842 (+0.017)"
   ]
  },
  {
   "cell_type": "markdown",
   "metadata": {},
   "source": [
    "**Выводы:**"
   ]
  },
  {
   "cell_type": "markdown",
   "metadata": {},
   "source": [
    "   - Лучшая модель RandomForestClassifier с учетом дисбаланса методом увеличения выборки:\n",
    "   - F1-мера наилучшей модели на валидационной выборке: 0.6227709190672155\n",
    "   - Лучшие гиперпараметры модели: (max_depth=12, n_estimators=36, random_state=42)\n",
    "   - AUC_ROC наилучшей модели на валидационной выборке с аргументом class_weight: 0.859\n",
    "   - Лучшие модели получились с методом увеличения выборки и применения аргумента class_weight.\n",
    "   - Наибольшие значения AUC-ROC получаются с моделями случайного леса, так же как и значения метрики F1.\n",
    "   - Метод уменьшения выборки хорош только для Линейной Регрессии, на остальные модели почти не влияет."
   ]
  },
  {
   "cell_type": "markdown",
   "metadata": {},
   "source": [
    "## Тестирование моделей"
   ]
  },
  {
   "cell_type": "markdown",
   "metadata": {},
   "source": [
    "Проведем финальное тестирование лучших моделей с учетом дисбаланса тремя способами.\n",
    "\n",
    "Напишем функцию подсчета F1 меры и auc-roc для тестовой выборки"
   ]
  },
  {
   "cell_type": "code",
   "execution_count": 40,
   "metadata": {},
   "outputs": [],
   "source": [
    "def forest_test(features_tr, target_tr, weight, depth, est):\n",
    "    model = RandomForestClassifier(class_weight=weight, max_depth=depth, n_estimators=est, random_state=42)\n",
    "    model.fit(features_tr, target_tr)\n",
    "    predicted_test = model.predict(features_test)\n",
    "    score = f1_score(target_test, predicted_test)\n",
    "    \n",
    "    probabilities_test = model.predict_proba(features_test)\n",
    "    probabilities_one_test = probabilities_test[:, 1]\n",
    "    auc_roc = roc_auc_score(target_test, probabilities_one_test)\n",
    "    return score, auc_roc"
   ]
  },
  {
   "cell_type": "markdown",
   "metadata": {},
   "source": [
    "**Аргумент class_weight**"
   ]
  },
  {
   "cell_type": "code",
   "execution_count": 41,
   "metadata": {},
   "outputs": [
    {
     "name": "stdout",
     "output_type": "stream",
     "text": [
      "F1-мера на тестовой выборке:  0.5830985915492958\n",
      "AUC_ROC на тестовой выборке:  0.8454895643263799\n"
     ]
    }
   ],
   "source": [
    "print('F1-мера на тестовой выборке: ', forest_test(features_train, target_train, 'balanced', 10, 46)[0])\n",
    "print( 'AUC_ROC на тестовой выборке: ', forest_test(features_train, target_train, 'balanced', 10, 46)[1])"
   ]
  },
  {
   "cell_type": "markdown",
   "metadata": {},
   "source": [
    "**Увеличение выборки**"
   ]
  },
  {
   "cell_type": "code",
   "execution_count": 42,
   "metadata": {},
   "outputs": [
    {
     "name": "stdout",
     "output_type": "stream",
     "text": [
      "F1-мера на тестовой выборке:  0.5945205479452054\n",
      "AUC_ROC на тестовой выборке:  0.8428201433067212\n"
     ]
    }
   ],
   "source": [
    "print('F1-мера на тестовой выборке: ', forest_test(features_upsampled, target_upsampled, None, 12, 36)[0])\n",
    "print( 'AUC_ROC на тестовой выборке: ', forest_test(features_upsampled, target_upsampled, None, 12, 36)[1])"
   ]
  },
  {
   "cell_type": "markdown",
   "metadata": {},
   "source": [
    "**Уменьшение выборки**"
   ]
  },
  {
   "cell_type": "code",
   "execution_count": 43,
   "metadata": {
    "scrolled": true
   },
   "outputs": [
    {
     "name": "stdout",
     "output_type": "stream",
     "text": [
      "F1-мера на тестовой выборке:  0.5751920965971459\n",
      "AUC_ROC на тестовой выборке:  0.8409151100371327\n"
     ]
    }
   ],
   "source": [
    "print('F1-мера на тестовой выборке: ', forest_test(features_downsampled, target_downsampled, None, 9, 16)[0])\n",
    "print( 'AUC_ROC на тестовой выборке: ', forest_test(features_downsampled, target_downsampled, None, 9, 16)[1])"
   ]
  },
  {
   "cell_type": "markdown",
   "metadata": {},
   "source": [
    "**Влияние признаков на результат**"
   ]
  },
  {
   "cell_type": "code",
   "execution_count": 44,
   "metadata": {},
   "outputs": [
    {
     "data": {
      "text/plain": [
       "0     0.086457\n",
       "1     0.302842\n",
       "2     0.054386\n",
       "3     0.124595\n",
       "4     0.183044\n",
       "5     0.013512\n",
       "6     0.057710\n",
       "7     0.096797\n",
       "8     0.046045\n",
       "9     0.010558\n",
       "10    0.024054\n",
       "dtype: float64"
      ]
     },
     "execution_count": 44,
     "metadata": {},
     "output_type": "execute_result"
    }
   ],
   "source": [
    "model = RandomForestClassifier(class_weight='balanced', max_depth=10, n_estimators=46, random_state=42)\n",
    "model.fit(features_train, target_train)\n",
    "pd.Series(model.feature_importances_)"
   ]
  },
  {
   "cell_type": "markdown",
   "metadata": {},
   "source": [
    "Самые значимые признаки, влияющие на отток клиентов из банка по убывающей: возраст, количество продуктов банка, используемых клиентом, баланс на счёте."
   ]
  },
  {
   "cell_type": "markdown",
   "metadata": {},
   "source": [
    "**Выводы**"
   ]
  },
  {
   "cell_type": "markdown",
   "metadata": {},
   "source": [
    " - Лучшей моделью оказался случайный лес с учетом дисбаланса увеличения выборки.\n",
    " - Метод с аргументом class_weight на втором месте по точности и на третьем уменьшение выборки.\n",
    " - Наибольшее значение AUC-ROC на тестовой выборке показала модель случайного леса с аргументом class_weight!"
   ]
  },
  {
   "cell_type": "markdown",
   "metadata": {},
   "source": [
    "## Общий вывод"
   ]
  },
  {
   "cell_type": "markdown",
   "metadata": {},
   "source": [
    "Я исследовал и сравнил качество разных моделей с учетом дисбаланса разными методами. Аргумент class_weight, увеличение выборки, уменьшение выборки.\n",
    "\n",
    "    - Лучшей моделью во всех трех методах оказалась RandomForestClassifier\n",
    "    - Лучший результат на тестовой выборке показал метод Upsampling. F1-мера = 0.59.\n",
    "    - Лучший показатель ROC-AUC на тестовой выборке достигнут с аргументом class_weight : 0.85.\n",
    "    - Самые значимые признаки, влияющие на отток клиентов из банка по убывающей: возраст, количество продуктов банка, используемых клиентом, баланс на счёте."
   ]
  }
 ],
 "metadata": {
  "ExecuteTimeLog": [
   {
    "duration": 1603,
    "start_time": "2022-03-26T07:06:48.003Z"
   },
   {
    "duration": 107,
    "start_time": "2022-03-26T07:07:28.784Z"
   },
   {
    "duration": 46,
    "start_time": "2022-03-26T11:28:41.468Z"
   },
   {
    "duration": 1032,
    "start_time": "2022-03-26T11:28:45.259Z"
   },
   {
    "duration": 49,
    "start_time": "2022-03-26T11:28:47.876Z"
   },
   {
    "duration": 63,
    "start_time": "2022-03-26T11:28:51.555Z"
   },
   {
    "duration": 4,
    "start_time": "2022-03-26T11:29:04.066Z"
   },
   {
    "duration": 43,
    "start_time": "2022-03-26T11:29:31.464Z"
   },
   {
    "duration": 5,
    "start_time": "2022-03-26T11:34:36.056Z"
   },
   {
    "duration": 23,
    "start_time": "2022-03-26T11:34:43.264Z"
   },
   {
    "duration": 1051,
    "start_time": "2022-03-26T11:36:11.077Z"
   },
   {
    "duration": 6,
    "start_time": "2022-03-26T11:36:16.445Z"
   },
   {
    "duration": 4,
    "start_time": "2022-03-26T11:39:50.002Z"
   },
   {
    "duration": 7,
    "start_time": "2022-03-26T11:40:12.256Z"
   },
   {
    "duration": 6,
    "start_time": "2022-03-26T11:40:24.592Z"
   },
   {
    "duration": 5,
    "start_time": "2022-03-26T11:40:48.263Z"
   },
   {
    "duration": 7,
    "start_time": "2022-03-26T11:43:57.519Z"
   },
   {
    "duration": 8,
    "start_time": "2022-03-26T12:03:29.277Z"
   },
   {
    "duration": 6,
    "start_time": "2022-03-26T12:03:58.611Z"
   },
   {
    "duration": 49,
    "start_time": "2022-03-26T12:04:40.273Z"
   },
   {
    "duration": 43,
    "start_time": "2022-03-26T12:04:51.882Z"
   },
   {
    "duration": 210,
    "start_time": "2022-03-26T12:08:15.415Z"
   },
   {
    "duration": 16,
    "start_time": "2022-03-26T12:08:28.278Z"
   },
   {
    "duration": 1098,
    "start_time": "2022-03-26T12:08:45.044Z"
   },
   {
    "duration": 50,
    "start_time": "2022-03-26T12:08:46.144Z"
   },
   {
    "duration": 2,
    "start_time": "2022-03-26T12:08:46.196Z"
   },
   {
    "duration": 26,
    "start_time": "2022-03-26T12:08:46.200Z"
   },
   {
    "duration": 235,
    "start_time": "2022-03-26T12:08:46.227Z"
   },
   {
    "duration": 66,
    "start_time": "2022-03-26T12:08:46.464Z"
   },
   {
    "duration": 60,
    "start_time": "2022-03-26T12:08:46.532Z"
   },
   {
    "duration": 40,
    "start_time": "2022-03-26T12:08:46.593Z"
   },
   {
    "duration": 5,
    "start_time": "2022-03-26T12:08:46.635Z"
   },
   {
    "duration": 8,
    "start_time": "2022-03-26T12:08:46.642Z"
   },
   {
    "duration": 25,
    "start_time": "2022-03-26T12:09:06.393Z"
   },
   {
    "duration": 1075,
    "start_time": "2022-03-26T12:18:51.158Z"
   },
   {
    "duration": 48,
    "start_time": "2022-03-26T12:18:52.235Z"
   },
   {
    "duration": 2,
    "start_time": "2022-03-26T12:18:52.285Z"
   },
   {
    "duration": 34,
    "start_time": "2022-03-26T12:18:52.290Z"
   },
   {
    "duration": 8,
    "start_time": "2022-03-26T12:18:52.326Z"
   },
   {
    "duration": 120,
    "start_time": "2022-03-26T12:18:52.336Z"
   },
   {
    "duration": 0,
    "start_time": "2022-03-26T12:18:52.458Z"
   },
   {
    "duration": 0,
    "start_time": "2022-03-26T12:18:52.459Z"
   },
   {
    "duration": 0,
    "start_time": "2022-03-26T12:18:52.461Z"
   },
   {
    "duration": 0,
    "start_time": "2022-03-26T12:18:52.462Z"
   },
   {
    "duration": 0,
    "start_time": "2022-03-26T12:18:52.463Z"
   },
   {
    "duration": 1164,
    "start_time": "2022-03-26T12:20:58.675Z"
   },
   {
    "duration": 49,
    "start_time": "2022-03-26T12:20:59.841Z"
   },
   {
    "duration": 3,
    "start_time": "2022-03-26T12:20:59.892Z"
   },
   {
    "duration": 28,
    "start_time": "2022-03-26T12:20:59.897Z"
   },
   {
    "duration": 213,
    "start_time": "2022-03-26T12:20:59.927Z"
   },
   {
    "duration": 76,
    "start_time": "2022-03-26T12:21:00.142Z"
   },
   {
    "duration": 61,
    "start_time": "2022-03-26T12:21:00.220Z"
   },
   {
    "duration": 40,
    "start_time": "2022-03-26T12:21:00.283Z"
   },
   {
    "duration": 5,
    "start_time": "2022-03-26T12:21:00.325Z"
   },
   {
    "duration": 16,
    "start_time": "2022-03-26T12:21:00.333Z"
   },
   {
    "duration": 24,
    "start_time": "2022-03-26T12:21:00.351Z"
   },
   {
    "duration": 4,
    "start_time": "2022-03-26T12:24:52.482Z"
   },
   {
    "duration": 1137,
    "start_time": "2022-03-26T12:27:54.288Z"
   },
   {
    "duration": 50,
    "start_time": "2022-03-26T12:27:55.427Z"
   },
   {
    "duration": 3,
    "start_time": "2022-03-26T12:27:55.479Z"
   },
   {
    "duration": 39,
    "start_time": "2022-03-26T12:27:55.484Z"
   },
   {
    "duration": 208,
    "start_time": "2022-03-26T12:27:55.526Z"
   },
   {
    "duration": 74,
    "start_time": "2022-03-26T12:27:55.736Z"
   },
   {
    "duration": 59,
    "start_time": "2022-03-26T12:27:55.811Z"
   },
   {
    "duration": 44,
    "start_time": "2022-03-26T12:27:55.871Z"
   },
   {
    "duration": 5,
    "start_time": "2022-03-26T12:27:55.917Z"
   },
   {
    "duration": 8,
    "start_time": "2022-03-26T12:27:55.924Z"
   },
   {
    "duration": 23,
    "start_time": "2022-03-26T12:27:55.934Z"
   },
   {
    "duration": 137,
    "start_time": "2022-03-26T12:31:45.193Z"
   },
   {
    "duration": 204,
    "start_time": "2022-03-26T12:42:38.695Z"
   },
   {
    "duration": 1098,
    "start_time": "2022-03-26T12:54:49.136Z"
   },
   {
    "duration": 54,
    "start_time": "2022-03-26T12:54:50.236Z"
   },
   {
    "duration": 4,
    "start_time": "2022-03-26T12:54:50.292Z"
   },
   {
    "duration": 25,
    "start_time": "2022-03-26T12:54:50.298Z"
   },
   {
    "duration": 10,
    "start_time": "2022-03-26T12:54:50.325Z"
   },
   {
    "duration": 5,
    "start_time": "2022-03-26T12:54:50.336Z"
   },
   {
    "duration": 4,
    "start_time": "2022-03-26T12:54:50.343Z"
   },
   {
    "duration": 6,
    "start_time": "2022-03-26T12:54:50.349Z"
   },
   {
    "duration": 6,
    "start_time": "2022-03-26T12:54:50.357Z"
   },
   {
    "duration": 11,
    "start_time": "2022-03-26T12:54:50.365Z"
   },
   {
    "duration": 158,
    "start_time": "2022-03-26T12:54:50.378Z"
   },
   {
    "duration": 0,
    "start_time": "2022-03-26T12:54:50.538Z"
   },
   {
    "duration": 30,
    "start_time": "2022-03-26T12:58:30.521Z"
   },
   {
    "duration": 19,
    "start_time": "2022-03-26T12:59:07.096Z"
   },
   {
    "duration": 7,
    "start_time": "2022-03-26T12:59:27.438Z"
   },
   {
    "duration": 4,
    "start_time": "2022-03-26T13:01:03.004Z"
   },
   {
    "duration": 30,
    "start_time": "2022-03-26T13:01:26.130Z"
   },
   {
    "duration": 32,
    "start_time": "2022-03-26T13:02:42.326Z"
   },
   {
    "duration": 1208,
    "start_time": "2022-03-26T13:03:44.592Z"
   },
   {
    "duration": 57,
    "start_time": "2022-03-26T13:03:45.802Z"
   },
   {
    "duration": 4,
    "start_time": "2022-03-26T13:03:45.861Z"
   },
   {
    "duration": 22,
    "start_time": "2022-03-26T13:03:45.867Z"
   },
   {
    "duration": 19,
    "start_time": "2022-03-26T13:03:45.891Z"
   },
   {
    "duration": 6,
    "start_time": "2022-03-26T13:03:45.912Z"
   },
   {
    "duration": 9,
    "start_time": "2022-03-26T13:03:45.920Z"
   },
   {
    "duration": 8,
    "start_time": "2022-03-26T13:03:45.931Z"
   },
   {
    "duration": 5,
    "start_time": "2022-03-26T13:03:45.941Z"
   },
   {
    "duration": 16,
    "start_time": "2022-03-26T13:03:45.949Z"
   },
   {
    "duration": 89,
    "start_time": "2022-03-26T13:03:45.966Z"
   },
   {
    "duration": 7,
    "start_time": "2022-03-26T13:03:46.057Z"
   },
   {
    "duration": 16,
    "start_time": "2022-03-26T13:03:57.285Z"
   },
   {
    "duration": 1095,
    "start_time": "2022-03-26T13:04:03.162Z"
   },
   {
    "duration": 56,
    "start_time": "2022-03-26T13:04:04.260Z"
   },
   {
    "duration": 5,
    "start_time": "2022-03-26T13:04:04.317Z"
   },
   {
    "duration": 30,
    "start_time": "2022-03-26T13:04:04.324Z"
   },
   {
    "duration": 12,
    "start_time": "2022-03-26T13:04:04.357Z"
   },
   {
    "duration": 40,
    "start_time": "2022-03-26T13:04:04.371Z"
   },
   {
    "duration": 9,
    "start_time": "2022-03-26T13:04:04.414Z"
   },
   {
    "duration": 8,
    "start_time": "2022-03-26T13:04:04.425Z"
   },
   {
    "duration": 7,
    "start_time": "2022-03-26T13:04:04.436Z"
   },
   {
    "duration": 16,
    "start_time": "2022-03-26T13:04:04.446Z"
   },
   {
    "duration": 77,
    "start_time": "2022-03-26T13:04:04.464Z"
   },
   {
    "duration": 9,
    "start_time": "2022-03-26T13:04:04.542Z"
   },
   {
    "duration": 24,
    "start_time": "2022-03-26T13:04:15.085Z"
   },
   {
    "duration": 22,
    "start_time": "2022-03-26T13:04:17.622Z"
   },
   {
    "duration": 1140,
    "start_time": "2022-03-26T13:07:35.414Z"
   },
   {
    "duration": 52,
    "start_time": "2022-03-26T13:07:36.556Z"
   },
   {
    "duration": 4,
    "start_time": "2022-03-26T13:07:36.609Z"
   },
   {
    "duration": 21,
    "start_time": "2022-03-26T13:07:36.615Z"
   },
   {
    "duration": 9,
    "start_time": "2022-03-26T13:07:36.638Z"
   },
   {
    "duration": 5,
    "start_time": "2022-03-26T13:07:36.649Z"
   },
   {
    "duration": 5,
    "start_time": "2022-03-26T13:07:36.656Z"
   },
   {
    "duration": 8,
    "start_time": "2022-03-26T13:07:36.662Z"
   },
   {
    "duration": 37,
    "start_time": "2022-03-26T13:07:36.672Z"
   },
   {
    "duration": 11,
    "start_time": "2022-03-26T13:07:36.711Z"
   },
   {
    "duration": 39,
    "start_time": "2022-03-26T13:07:36.724Z"
   },
   {
    "duration": 7,
    "start_time": "2022-03-26T13:07:36.765Z"
   },
   {
    "duration": 16,
    "start_time": "2022-03-26T13:07:43.610Z"
   },
   {
    "duration": 1129,
    "start_time": "2022-03-26T13:07:49.121Z"
   },
   {
    "duration": 49,
    "start_time": "2022-03-26T13:07:50.252Z"
   },
   {
    "duration": 4,
    "start_time": "2022-03-26T13:07:50.302Z"
   },
   {
    "duration": 21,
    "start_time": "2022-03-26T13:07:50.309Z"
   },
   {
    "duration": 14,
    "start_time": "2022-03-26T13:07:50.333Z"
   },
   {
    "duration": 6,
    "start_time": "2022-03-26T13:07:50.350Z"
   },
   {
    "duration": 8,
    "start_time": "2022-03-26T13:07:50.358Z"
   },
   {
    "duration": 42,
    "start_time": "2022-03-26T13:07:50.367Z"
   },
   {
    "duration": 5,
    "start_time": "2022-03-26T13:07:50.411Z"
   },
   {
    "duration": 13,
    "start_time": "2022-03-26T13:07:50.417Z"
   },
   {
    "duration": 35,
    "start_time": "2022-03-26T13:07:50.432Z"
   },
   {
    "duration": 7,
    "start_time": "2022-03-26T13:07:50.468Z"
   },
   {
    "duration": 18,
    "start_time": "2022-03-26T13:12:06.346Z"
   },
   {
    "duration": 11,
    "start_time": "2022-03-26T13:14:11.732Z"
   },
   {
    "duration": 1180,
    "start_time": "2022-03-26T13:14:18.485Z"
   },
   {
    "duration": 56,
    "start_time": "2022-03-26T13:14:19.668Z"
   },
   {
    "duration": 5,
    "start_time": "2022-03-26T13:14:19.726Z"
   },
   {
    "duration": 23,
    "start_time": "2022-03-26T13:14:19.733Z"
   },
   {
    "duration": 14,
    "start_time": "2022-03-26T13:14:19.759Z"
   },
   {
    "duration": 34,
    "start_time": "2022-03-26T13:14:19.775Z"
   },
   {
    "duration": 9,
    "start_time": "2022-03-26T13:14:19.811Z"
   },
   {
    "duration": 9,
    "start_time": "2022-03-26T13:14:19.821Z"
   },
   {
    "duration": 8,
    "start_time": "2022-03-26T13:14:19.832Z"
   },
   {
    "duration": 68,
    "start_time": "2022-03-26T13:14:19.842Z"
   },
   {
    "duration": 23,
    "start_time": "2022-03-26T13:14:19.912Z"
   },
   {
    "duration": 8,
    "start_time": "2022-03-26T13:14:19.936Z"
   },
   {
    "duration": 1131,
    "start_time": "2022-03-26T13:20:22.226Z"
   },
   {
    "duration": 54,
    "start_time": "2022-03-26T13:20:23.359Z"
   },
   {
    "duration": 5,
    "start_time": "2022-03-26T13:20:23.414Z"
   },
   {
    "duration": 21,
    "start_time": "2022-03-26T13:20:23.421Z"
   },
   {
    "duration": 116,
    "start_time": "2022-03-26T13:20:23.444Z"
   },
   {
    "duration": 0,
    "start_time": "2022-03-26T13:20:23.562Z"
   },
   {
    "duration": 0,
    "start_time": "2022-03-26T13:20:23.563Z"
   },
   {
    "duration": 0,
    "start_time": "2022-03-26T13:20:23.564Z"
   },
   {
    "duration": 0,
    "start_time": "2022-03-26T13:20:23.565Z"
   },
   {
    "duration": 0,
    "start_time": "2022-03-26T13:20:23.566Z"
   },
   {
    "duration": 0,
    "start_time": "2022-03-26T13:20:23.568Z"
   },
   {
    "duration": 0,
    "start_time": "2022-03-26T13:20:23.569Z"
   },
   {
    "duration": 0,
    "start_time": "2022-03-26T13:20:23.570Z"
   },
   {
    "duration": 1183,
    "start_time": "2022-03-26T13:20:40.377Z"
   },
   {
    "duration": 55,
    "start_time": "2022-03-26T13:20:41.562Z"
   },
   {
    "duration": 4,
    "start_time": "2022-03-26T13:20:41.620Z"
   },
   {
    "duration": 23,
    "start_time": "2022-03-26T13:20:41.626Z"
   },
   {
    "duration": 5,
    "start_time": "2022-03-26T13:20:41.652Z"
   },
   {
    "duration": 16,
    "start_time": "2022-03-26T13:20:41.659Z"
   },
   {
    "duration": 32,
    "start_time": "2022-03-26T13:20:41.677Z"
   },
   {
    "duration": 8,
    "start_time": "2022-03-26T13:20:41.710Z"
   },
   {
    "duration": 6,
    "start_time": "2022-03-26T13:20:41.719Z"
   },
   {
    "duration": 11,
    "start_time": "2022-03-26T13:20:41.727Z"
   },
   {
    "duration": 37,
    "start_time": "2022-03-26T13:20:41.740Z"
   },
   {
    "duration": 45,
    "start_time": "2022-03-26T13:20:41.778Z"
   },
   {
    "duration": 8,
    "start_time": "2022-03-26T13:20:41.825Z"
   },
   {
    "duration": 19,
    "start_time": "2022-03-26T13:22:59.376Z"
   },
   {
    "duration": 17,
    "start_time": "2022-03-26T13:23:18.046Z"
   },
   {
    "duration": 18,
    "start_time": "2022-03-26T13:23:53.341Z"
   },
   {
    "duration": 12,
    "start_time": "2022-03-26T13:27:40.761Z"
   },
   {
    "duration": 110,
    "start_time": "2022-03-26T13:27:42.050Z"
   },
   {
    "duration": 4,
    "start_time": "2022-03-26T13:27:45.105Z"
   },
   {
    "duration": 5,
    "start_time": "2022-03-26T13:27:52.265Z"
   },
   {
    "duration": 5,
    "start_time": "2022-03-26T13:28:07.864Z"
   },
   {
    "duration": 10,
    "start_time": "2022-03-26T13:28:10.552Z"
   },
   {
    "duration": 1141,
    "start_time": "2022-03-26T13:28:28.729Z"
   },
   {
    "duration": 52,
    "start_time": "2022-03-26T13:28:29.872Z"
   },
   {
    "duration": 5,
    "start_time": "2022-03-26T13:28:29.925Z"
   },
   {
    "duration": 23,
    "start_time": "2022-03-26T13:28:29.931Z"
   },
   {
    "duration": 4,
    "start_time": "2022-03-26T13:28:29.957Z"
   },
   {
    "duration": 13,
    "start_time": "2022-03-26T13:28:29.962Z"
   },
   {
    "duration": 35,
    "start_time": "2022-03-26T13:28:29.977Z"
   },
   {
    "duration": 9,
    "start_time": "2022-03-26T13:28:30.014Z"
   },
   {
    "duration": 7,
    "start_time": "2022-03-26T13:28:30.025Z"
   },
   {
    "duration": 7,
    "start_time": "2022-03-26T13:28:30.034Z"
   },
   {
    "duration": 38,
    "start_time": "2022-03-26T13:28:30.042Z"
   },
   {
    "duration": 41,
    "start_time": "2022-03-26T13:28:30.082Z"
   },
   {
    "duration": 8,
    "start_time": "2022-03-26T13:28:30.125Z"
   },
   {
    "duration": 27,
    "start_time": "2022-03-26T13:28:39.079Z"
   },
   {
    "duration": 22,
    "start_time": "2022-03-26T13:28:41.702Z"
   },
   {
    "duration": 22,
    "start_time": "2022-03-26T13:28:50.334Z"
   },
   {
    "duration": 16,
    "start_time": "2022-03-26T13:28:52.765Z"
   },
   {
    "duration": 1132,
    "start_time": "2022-03-27T03:57:04.643Z"
   },
   {
    "duration": 56,
    "start_time": "2022-03-27T03:57:05.777Z"
   },
   {
    "duration": 5,
    "start_time": "2022-03-27T03:57:05.835Z"
   },
   {
    "duration": 21,
    "start_time": "2022-03-27T03:57:05.843Z"
   },
   {
    "duration": 6,
    "start_time": "2022-03-27T03:57:05.866Z"
   },
   {
    "duration": 13,
    "start_time": "2022-03-27T03:57:05.873Z"
   },
   {
    "duration": 6,
    "start_time": "2022-03-27T03:57:05.888Z"
   },
   {
    "duration": 37,
    "start_time": "2022-03-27T03:57:05.896Z"
   },
   {
    "duration": 7,
    "start_time": "2022-03-27T03:57:05.935Z"
   },
   {
    "duration": 6,
    "start_time": "2022-03-27T03:57:05.944Z"
   },
   {
    "duration": 33,
    "start_time": "2022-03-27T03:57:05.952Z"
   },
   {
    "duration": 17,
    "start_time": "2022-03-27T03:57:05.987Z"
   },
   {
    "duration": 8,
    "start_time": "2022-03-27T03:57:06.034Z"
   },
   {
    "duration": 1076,
    "start_time": "2022-03-27T04:27:47.991Z"
   },
   {
    "duration": 53,
    "start_time": "2022-03-27T04:27:49.069Z"
   },
   {
    "duration": 4,
    "start_time": "2022-03-27T04:27:49.124Z"
   },
   {
    "duration": 17,
    "start_time": "2022-03-27T04:27:49.132Z"
   },
   {
    "duration": 5,
    "start_time": "2022-03-27T04:27:49.151Z"
   },
   {
    "duration": 16,
    "start_time": "2022-03-27T04:27:49.157Z"
   },
   {
    "duration": 5,
    "start_time": "2022-03-27T04:27:49.174Z"
   },
   {
    "duration": 7,
    "start_time": "2022-03-27T04:27:49.181Z"
   },
   {
    "duration": 5,
    "start_time": "2022-03-27T04:27:49.190Z"
   },
   {
    "duration": 37,
    "start_time": "2022-03-27T04:27:49.197Z"
   },
   {
    "duration": 39,
    "start_time": "2022-03-27T04:27:49.235Z"
   },
   {
    "duration": 16,
    "start_time": "2022-03-27T04:27:49.276Z"
   },
   {
    "duration": 7,
    "start_time": "2022-03-27T04:27:49.294Z"
   },
   {
    "duration": 86,
    "start_time": "2022-03-27T04:27:49.303Z"
   },
   {
    "duration": 143,
    "start_time": "2022-03-27T04:28:05.681Z"
   },
   {
    "duration": 287,
    "start_time": "2022-03-27T04:28:17.736Z"
   },
   {
    "duration": 105,
    "start_time": "2022-03-27T04:28:29.999Z"
   },
   {
    "duration": 112,
    "start_time": "2022-03-27T04:31:57.404Z"
   },
   {
    "duration": 477,
    "start_time": "2022-03-27T04:33:13.913Z"
   },
   {
    "duration": 727,
    "start_time": "2022-03-27T04:33:26.033Z"
   },
   {
    "duration": 1281,
    "start_time": "2022-03-27T04:33:34.952Z"
   },
   {
    "duration": 138,
    "start_time": "2022-03-27T04:35:41.602Z"
   },
   {
    "duration": 86,
    "start_time": "2022-03-27T04:36:09.352Z"
   },
   {
    "duration": 28,
    "start_time": "2022-03-27T04:38:16.906Z"
   },
   {
    "duration": 1316,
    "start_time": "2022-03-27T04:39:28.671Z"
   },
   {
    "duration": 1300,
    "start_time": "2022-03-27T04:40:14.205Z"
   },
   {
    "duration": 1301,
    "start_time": "2022-03-27T04:41:41.695Z"
   },
   {
    "duration": 26,
    "start_time": "2022-03-27T04:41:51.408Z"
   },
   {
    "duration": 94,
    "start_time": "2022-03-27T04:48:10.780Z"
   },
   {
    "duration": 100,
    "start_time": "2022-03-27T04:48:44.875Z"
   },
   {
    "duration": 91,
    "start_time": "2022-03-27T04:50:28.695Z"
   },
   {
    "duration": 92,
    "start_time": "2022-03-27T04:50:52.516Z"
   },
   {
    "duration": 109,
    "start_time": "2022-03-27T06:22:14.110Z"
   },
   {
    "duration": 286,
    "start_time": "2022-03-27T06:22:23.100Z"
   },
   {
    "duration": 174,
    "start_time": "2022-03-27T06:22:33.140Z"
   },
   {
    "duration": 1288,
    "start_time": "2022-03-27T06:23:22.289Z"
   },
   {
    "duration": 86,
    "start_time": "2022-03-27T06:24:11.848Z"
   },
   {
    "duration": 1527,
    "start_time": "2022-03-27T13:35:28.990Z"
   },
   {
    "duration": 52,
    "start_time": "2022-03-27T13:35:30.519Z"
   },
   {
    "duration": 4,
    "start_time": "2022-03-27T13:35:30.572Z"
   },
   {
    "duration": 21,
    "start_time": "2022-03-27T13:35:30.579Z"
   },
   {
    "duration": 5,
    "start_time": "2022-03-27T13:35:30.602Z"
   },
   {
    "duration": 17,
    "start_time": "2022-03-27T13:35:30.609Z"
   },
   {
    "duration": 15,
    "start_time": "2022-03-27T13:35:30.628Z"
   },
   {
    "duration": 19,
    "start_time": "2022-03-27T13:35:30.644Z"
   },
   {
    "duration": 5,
    "start_time": "2022-03-27T13:35:30.665Z"
   },
   {
    "duration": 13,
    "start_time": "2022-03-27T13:35:30.673Z"
   },
   {
    "duration": 48,
    "start_time": "2022-03-27T13:35:30.687Z"
   },
   {
    "duration": 14,
    "start_time": "2022-03-27T13:35:30.737Z"
   },
   {
    "duration": 15,
    "start_time": "2022-03-27T13:35:30.753Z"
   },
   {
    "duration": 105,
    "start_time": "2022-03-27T13:35:30.770Z"
   },
   {
    "duration": 1408,
    "start_time": "2022-03-27T13:35:30.877Z"
   },
   {
    "duration": 122,
    "start_time": "2022-03-27T13:35:32.286Z"
   },
   {
    "duration": 319,
    "start_time": "2022-03-27T13:35:32.410Z"
   },
   {
    "duration": 1296,
    "start_time": "2022-03-27T13:35:32.731Z"
   },
   {
    "duration": 85,
    "start_time": "2022-03-27T13:35:34.029Z"
   },
   {
    "duration": 93,
    "start_time": "2022-03-27T13:35:34.115Z"
   },
   {
    "duration": 20,
    "start_time": "2022-03-27T13:37:28.659Z"
   },
   {
    "duration": 15,
    "start_time": "2022-03-27T13:38:02.235Z"
   },
   {
    "duration": 9,
    "start_time": "2022-03-27T13:42:24.166Z"
   },
   {
    "duration": 100,
    "start_time": "2022-03-27T13:43:29.212Z"
   },
   {
    "duration": 19,
    "start_time": "2022-03-27T13:43:41.331Z"
   },
   {
    "duration": 245,
    "start_time": "2022-03-27T13:44:10.217Z"
   },
   {
    "duration": 296,
    "start_time": "2022-03-27T13:44:23.505Z"
   },
   {
    "duration": 1926,
    "start_time": "2022-03-27T13:45:35.148Z"
   },
   {
    "duration": 1785,
    "start_time": "2022-03-27T13:45:55.252Z"
   },
   {
    "duration": 1932,
    "start_time": "2022-03-27T13:46:03.285Z"
   },
   {
    "duration": 1816,
    "start_time": "2022-03-27T13:46:09.836Z"
   },
   {
    "duration": 48,
    "start_time": "2022-03-27T13:47:05.457Z"
   },
   {
    "duration": 19,
    "start_time": "2022-03-27T13:47:23.455Z"
   },
   {
    "duration": 2821,
    "start_time": "2022-03-27T13:53:41.387Z"
   },
   {
    "duration": 234,
    "start_time": "2022-03-27T14:07:22.780Z"
   },
   {
    "duration": 19,
    "start_time": "2022-03-27T14:07:28.788Z"
   },
   {
    "duration": 23,
    "start_time": "2022-03-27T14:08:12.586Z"
   },
   {
    "duration": 17,
    "start_time": "2022-03-27T14:09:19.912Z"
   },
   {
    "duration": 1226,
    "start_time": "2022-03-27T14:10:20.004Z"
   },
   {
    "duration": 56,
    "start_time": "2022-03-27T14:10:21.231Z"
   },
   {
    "duration": 5,
    "start_time": "2022-03-27T14:10:21.289Z"
   },
   {
    "duration": 35,
    "start_time": "2022-03-27T14:10:21.295Z"
   },
   {
    "duration": 5,
    "start_time": "2022-03-27T14:10:21.332Z"
   },
   {
    "duration": 28,
    "start_time": "2022-03-27T14:10:21.338Z"
   },
   {
    "duration": 46,
    "start_time": "2022-03-27T14:10:21.367Z"
   },
   {
    "duration": 14,
    "start_time": "2022-03-27T14:10:21.415Z"
   },
   {
    "duration": 20,
    "start_time": "2022-03-27T14:10:21.431Z"
   },
   {
    "duration": 11,
    "start_time": "2022-03-27T14:10:21.453Z"
   },
   {
    "duration": 69,
    "start_time": "2022-03-27T14:10:21.466Z"
   },
   {
    "duration": 21,
    "start_time": "2022-03-27T14:10:21.537Z"
   },
   {
    "duration": 9,
    "start_time": "2022-03-27T14:10:21.560Z"
   },
   {
    "duration": 160,
    "start_time": "2022-03-27T14:10:21.572Z"
   },
   {
    "duration": 1960,
    "start_time": "2022-03-27T14:10:21.734Z"
   },
   {
    "duration": 26,
    "start_time": "2022-03-27T14:10:23.701Z"
   },
   {
    "duration": 339,
    "start_time": "2022-03-27T14:10:23.801Z"
   },
   {
    "duration": 1860,
    "start_time": "2022-03-27T14:10:24.142Z"
   },
   {
    "duration": 21,
    "start_time": "2022-03-27T14:10:26.004Z"
   },
   {
    "duration": 81,
    "start_time": "2022-03-27T14:10:26.028Z"
   },
   {
    "duration": 405,
    "start_time": "2022-03-27T14:10:26.111Z"
   },
   {
    "duration": 4047,
    "start_time": "2022-03-27T14:10:26.518Z"
   },
   {
    "duration": 35,
    "start_time": "2022-03-27T14:10:30.567Z"
   },
   {
    "duration": 354,
    "start_time": "2022-03-27T14:10:30.604Z"
   },
   {
    "duration": 18,
    "start_time": "2022-03-27T14:11:32.273Z"
   },
   {
    "duration": 18,
    "start_time": "2022-03-27T14:11:37.984Z"
   },
   {
    "duration": 15,
    "start_time": "2022-03-27T14:12:31.812Z"
   },
   {
    "duration": 20,
    "start_time": "2022-03-27T14:12:42.540Z"
   },
   {
    "duration": 18,
    "start_time": "2022-03-27T14:13:34.970Z"
   },
   {
    "duration": 4,
    "start_time": "2022-03-27T14:13:40.130Z"
   },
   {
    "duration": 19,
    "start_time": "2022-03-27T14:13:45.544Z"
   },
   {
    "duration": 4,
    "start_time": "2022-03-27T14:13:49.633Z"
   },
   {
    "duration": 15,
    "start_time": "2022-03-27T14:14:03.104Z"
   },
   {
    "duration": 4,
    "start_time": "2022-03-27T14:15:05.134Z"
   },
   {
    "duration": 17,
    "start_time": "2022-03-27T14:15:08.102Z"
   },
   {
    "duration": 4,
    "start_time": "2022-03-27T14:15:18.645Z"
   },
   {
    "duration": 17,
    "start_time": "2022-03-27T14:15:21.228Z"
   },
   {
    "duration": 1153,
    "start_time": "2022-03-28T04:36:54.675Z"
   },
   {
    "duration": 68,
    "start_time": "2022-03-28T04:36:55.830Z"
   },
   {
    "duration": 4,
    "start_time": "2022-03-28T04:36:55.900Z"
   },
   {
    "duration": 50,
    "start_time": "2022-03-28T04:36:55.906Z"
   },
   {
    "duration": 5,
    "start_time": "2022-03-28T04:36:55.957Z"
   },
   {
    "duration": 41,
    "start_time": "2022-03-28T04:36:55.963Z"
   },
   {
    "duration": 34,
    "start_time": "2022-03-28T04:36:56.005Z"
   },
   {
    "duration": 21,
    "start_time": "2022-03-28T04:36:56.040Z"
   },
   {
    "duration": 22,
    "start_time": "2022-03-28T04:36:56.063Z"
   },
   {
    "duration": 22,
    "start_time": "2022-03-28T04:36:56.088Z"
   },
   {
    "duration": 54,
    "start_time": "2022-03-28T04:36:56.111Z"
   },
   {
    "duration": 18,
    "start_time": "2022-03-28T04:36:56.166Z"
   },
   {
    "duration": 32,
    "start_time": "2022-03-28T04:36:56.185Z"
   },
   {
    "duration": 127,
    "start_time": "2022-03-28T04:36:56.219Z"
   },
   {
    "duration": 1472,
    "start_time": "2022-03-28T04:36:56.347Z"
   },
   {
    "duration": 28,
    "start_time": "2022-03-28T04:36:57.820Z"
   },
   {
    "duration": 400,
    "start_time": "2022-03-28T04:36:57.850Z"
   },
   {
    "duration": 1464,
    "start_time": "2022-03-28T04:36:58.252Z"
   },
   {
    "duration": 26,
    "start_time": "2022-03-28T04:36:59.718Z"
   },
   {
    "duration": 186,
    "start_time": "2022-03-28T04:36:59.746Z"
   },
   {
    "duration": 241,
    "start_time": "2022-03-28T04:36:59.934Z"
   },
   {
    "duration": 3157,
    "start_time": "2022-03-28T04:37:00.176Z"
   },
   {
    "duration": 96,
    "start_time": "2022-03-28T04:37:03.335Z"
   },
   {
    "duration": 98,
    "start_time": "2022-03-28T04:37:03.434Z"
   },
   {
    "duration": 123,
    "start_time": "2022-03-28T04:37:03.533Z"
   },
   {
    "duration": 10,
    "start_time": "2022-03-28T04:42:23.536Z"
   },
   {
    "duration": 241,
    "start_time": "2022-03-28T04:43:06.266Z"
   },
   {
    "duration": 103,
    "start_time": "2022-03-28T04:43:47.401Z"
   },
   {
    "duration": 1217,
    "start_time": "2022-03-28T04:44:47.048Z"
   },
   {
    "duration": 19,
    "start_time": "2022-03-28T04:46:00.005Z"
   },
   {
    "duration": 1671,
    "start_time": "2022-03-28T05:27:25.633Z"
   },
   {
    "duration": 64,
    "start_time": "2022-03-28T05:27:27.306Z"
   },
   {
    "duration": 4,
    "start_time": "2022-03-28T05:27:27.372Z"
   },
   {
    "duration": 25,
    "start_time": "2022-03-28T05:27:27.378Z"
   },
   {
    "duration": 5,
    "start_time": "2022-03-28T05:27:27.404Z"
   },
   {
    "duration": 27,
    "start_time": "2022-03-28T05:27:27.411Z"
   },
   {
    "duration": 7,
    "start_time": "2022-03-28T05:27:27.440Z"
   },
   {
    "duration": 8,
    "start_time": "2022-03-28T05:27:27.449Z"
   },
   {
    "duration": 8,
    "start_time": "2022-03-28T05:27:27.459Z"
   },
   {
    "duration": 7,
    "start_time": "2022-03-28T05:27:27.470Z"
   },
   {
    "duration": 52,
    "start_time": "2022-03-28T05:27:27.479Z"
   },
   {
    "duration": 18,
    "start_time": "2022-03-28T05:27:27.533Z"
   },
   {
    "duration": 7,
    "start_time": "2022-03-28T05:27:27.553Z"
   },
   {
    "duration": 129,
    "start_time": "2022-03-28T05:27:27.562Z"
   },
   {
    "duration": 1476,
    "start_time": "2022-03-28T05:27:27.693Z"
   },
   {
    "duration": 62,
    "start_time": "2022-03-28T05:27:29.171Z"
   },
   {
    "duration": 302,
    "start_time": "2022-03-28T05:27:29.235Z"
   },
   {
    "duration": 1447,
    "start_time": "2022-03-28T05:27:29.538Z"
   },
   {
    "duration": 46,
    "start_time": "2022-03-28T05:27:30.987Z"
   },
   {
    "duration": 123,
    "start_time": "2022-03-28T05:27:31.036Z"
   },
   {
    "duration": 105,
    "start_time": "2022-03-28T05:27:31.234Z"
   },
   {
    "duration": 249,
    "start_time": "2022-03-28T05:27:31.341Z"
   },
   {
    "duration": 3055,
    "start_time": "2022-03-28T05:27:31.592Z"
   },
   {
    "duration": 86,
    "start_time": "2022-03-28T05:27:34.648Z"
   },
   {
    "duration": 102,
    "start_time": "2022-03-28T05:27:34.737Z"
   },
   {
    "duration": 126,
    "start_time": "2022-03-28T05:27:34.840Z"
   },
   {
    "duration": 1218,
    "start_time": "2022-03-28T05:27:34.967Z"
   },
   {
    "duration": 51,
    "start_time": "2022-03-28T05:27:36.188Z"
   },
   {
    "duration": 267,
    "start_time": "2022-03-28T05:29:00.600Z"
   },
   {
    "duration": 304,
    "start_time": "2022-03-28T05:29:27.742Z"
   },
   {
    "duration": 120,
    "start_time": "2022-03-28T05:30:46.243Z"
   },
   {
    "duration": 1495,
    "start_time": "2022-03-28T05:31:23.757Z"
   },
   {
    "duration": 64,
    "start_time": "2022-03-28T05:31:25.254Z"
   },
   {
    "duration": 6,
    "start_time": "2022-03-28T05:31:25.319Z"
   },
   {
    "duration": 21,
    "start_time": "2022-03-28T05:31:25.327Z"
   },
   {
    "duration": 4,
    "start_time": "2022-03-28T05:31:25.350Z"
   },
   {
    "duration": 17,
    "start_time": "2022-03-28T05:31:25.356Z"
   },
   {
    "duration": 6,
    "start_time": "2022-03-28T05:31:25.374Z"
   },
   {
    "duration": 6,
    "start_time": "2022-03-28T05:31:25.381Z"
   },
   {
    "duration": 5,
    "start_time": "2022-03-28T05:31:25.389Z"
   },
   {
    "duration": 5,
    "start_time": "2022-03-28T05:31:25.397Z"
   },
   {
    "duration": 65,
    "start_time": "2022-03-28T05:31:25.403Z"
   },
   {
    "duration": 18,
    "start_time": "2022-03-28T05:31:25.470Z"
   },
   {
    "duration": 7,
    "start_time": "2022-03-28T05:31:25.489Z"
   },
   {
    "duration": 139,
    "start_time": "2022-03-28T05:31:25.498Z"
   },
   {
    "duration": 1499,
    "start_time": "2022-03-28T05:31:25.639Z"
   },
   {
    "duration": 20,
    "start_time": "2022-03-28T05:31:27.140Z"
   },
   {
    "duration": 299,
    "start_time": "2022-03-28T05:31:27.238Z"
   },
   {
    "duration": 1451,
    "start_time": "2022-03-28T05:31:27.539Z"
   },
   {
    "duration": 45,
    "start_time": "2022-03-28T05:31:28.991Z"
   },
   {
    "duration": 409,
    "start_time": "2022-03-28T05:31:29.038Z"
   },
   {
    "duration": 6,
    "start_time": "2022-03-28T05:31:29.449Z"
   },
   {
    "duration": 10,
    "start_time": "2022-03-28T05:31:29.457Z"
   },
   {
    "duration": 255,
    "start_time": "2022-03-28T05:31:29.469Z"
   },
   {
    "duration": 3115,
    "start_time": "2022-03-28T05:31:29.732Z"
   },
   {
    "duration": 24,
    "start_time": "2022-03-28T05:31:32.849Z"
   },
   {
    "duration": 102,
    "start_time": "2022-03-28T05:31:32.938Z"
   },
   {
    "duration": 130,
    "start_time": "2022-03-28T05:31:33.042Z"
   },
   {
    "duration": 1224,
    "start_time": "2022-03-28T05:31:33.175Z"
   },
   {
    "duration": 40,
    "start_time": "2022-03-28T05:31:34.400Z"
   },
   {
    "duration": 231,
    "start_time": "2022-03-28T06:28:10.903Z"
   },
   {
    "duration": 7,
    "start_time": "2022-03-28T06:28:44.246Z"
   },
   {
    "duration": 6,
    "start_time": "2022-03-28T06:29:49.582Z"
   },
   {
    "duration": 362,
    "start_time": "2022-03-28T08:07:49.079Z"
   },
   {
    "duration": 6,
    "start_time": "2022-03-28T08:07:57.492Z"
   },
   {
    "duration": 259,
    "start_time": "2022-03-28T08:12:51.785Z"
   },
   {
    "duration": 168,
    "start_time": "2022-03-28T08:13:18.065Z"
   },
   {
    "duration": 81,
    "start_time": "2022-03-28T08:13:23.453Z"
   },
   {
    "duration": 311,
    "start_time": "2022-03-28T08:13:36.225Z"
   },
   {
    "duration": 1636,
    "start_time": "2022-03-28T08:13:44.868Z"
   },
   {
    "duration": 65,
    "start_time": "2022-03-28T08:13:46.506Z"
   },
   {
    "duration": 5,
    "start_time": "2022-03-28T08:13:46.573Z"
   },
   {
    "duration": 25,
    "start_time": "2022-03-28T08:13:46.580Z"
   },
   {
    "duration": 5,
    "start_time": "2022-03-28T08:13:46.607Z"
   },
   {
    "duration": 30,
    "start_time": "2022-03-28T08:13:46.614Z"
   },
   {
    "duration": 6,
    "start_time": "2022-03-28T08:13:46.646Z"
   },
   {
    "duration": 8,
    "start_time": "2022-03-28T08:13:46.654Z"
   },
   {
    "duration": 8,
    "start_time": "2022-03-28T08:13:46.664Z"
   },
   {
    "duration": 6,
    "start_time": "2022-03-28T08:13:46.675Z"
   },
   {
    "duration": 74,
    "start_time": "2022-03-28T08:13:46.682Z"
   },
   {
    "duration": 20,
    "start_time": "2022-03-28T08:13:46.757Z"
   },
   {
    "duration": 10,
    "start_time": "2022-03-28T08:13:46.778Z"
   },
   {
    "duration": 164,
    "start_time": "2022-03-28T08:13:46.791Z"
   },
   {
    "duration": 1560,
    "start_time": "2022-03-28T08:13:46.957Z"
   },
   {
    "duration": 35,
    "start_time": "2022-03-28T08:13:48.519Z"
   },
   {
    "duration": 304,
    "start_time": "2022-03-28T08:13:48.631Z"
   },
   {
    "duration": 1556,
    "start_time": "2022-03-28T08:13:48.937Z"
   },
   {
    "duration": 252,
    "start_time": "2022-03-28T08:13:50.495Z"
   },
   {
    "duration": 9,
    "start_time": "2022-03-28T08:13:50.749Z"
   },
   {
    "duration": 21,
    "start_time": "2022-03-28T08:13:50.759Z"
   },
   {
    "duration": 315,
    "start_time": "2022-03-28T08:13:50.835Z"
   },
   {
    "duration": 7,
    "start_time": "2022-03-28T08:13:51.152Z"
   },
   {
    "duration": 12,
    "start_time": "2022-03-28T08:13:51.161Z"
   },
   {
    "duration": 277,
    "start_time": "2022-03-28T08:13:51.175Z"
   },
   {
    "duration": 3242,
    "start_time": "2022-03-28T08:13:51.455Z"
   },
   {
    "duration": 382,
    "start_time": "2022-03-28T08:13:54.699Z"
   },
   {
    "duration": 6,
    "start_time": "2022-03-28T08:13:55.086Z"
   },
   {
    "duration": 139,
    "start_time": "2022-03-28T08:13:55.094Z"
   },
   {
    "duration": 112,
    "start_time": "2022-03-28T08:13:55.235Z"
   },
   {
    "duration": 129,
    "start_time": "2022-03-28T08:13:55.349Z"
   },
   {
    "duration": 1327,
    "start_time": "2022-03-28T08:13:55.480Z"
   },
   {
    "duration": 26,
    "start_time": "2022-03-28T08:13:56.809Z"
   },
   {
    "duration": 499,
    "start_time": "2022-03-28T08:13:56.837Z"
   },
   {
    "duration": 280,
    "start_time": "2022-03-28T08:14:03.663Z"
   },
   {
    "duration": 417,
    "start_time": "2022-03-28T08:14:11.816Z"
   },
   {
    "duration": 92,
    "start_time": "2022-03-28T08:14:30.742Z"
   },
   {
    "duration": 1225,
    "start_time": "2022-03-28T08:30:47.517Z"
   },
   {
    "duration": 215,
    "start_time": "2022-03-28T08:30:56.141Z"
   },
   {
    "duration": 33,
    "start_time": "2022-03-28T08:33:50.678Z"
   },
   {
    "duration": 27,
    "start_time": "2022-03-28T08:34:27.069Z"
   },
   {
    "duration": 119,
    "start_time": "2022-03-28T08:34:31.829Z"
   },
   {
    "duration": 107,
    "start_time": "2022-03-28T08:34:35.469Z"
   },
   {
    "duration": 1116,
    "start_time": "2022-03-28T08:34:38.940Z"
   },
   {
    "duration": 208,
    "start_time": "2022-03-28T08:34:45.436Z"
   },
   {
    "duration": 31,
    "start_time": "2022-03-28T08:34:49.620Z"
   },
   {
    "duration": 238,
    "start_time": "2022-03-28T08:35:18.108Z"
   },
   {
    "duration": 1353,
    "start_time": "2022-03-28T08:35:29.436Z"
   },
   {
    "duration": 138,
    "start_time": "2022-03-28T08:35:34.275Z"
   },
   {
    "duration": 26,
    "start_time": "2022-03-28T08:35:39.603Z"
   },
   {
    "duration": 33,
    "start_time": "2022-03-28T08:35:42.268Z"
   },
   {
    "duration": 44,
    "start_time": "2022-03-28T08:35:46.794Z"
   },
   {
    "duration": 52,
    "start_time": "2022-03-28T08:35:52.426Z"
   },
   {
    "duration": 64,
    "start_time": "2022-03-28T08:35:56.289Z"
   },
   {
    "duration": 92,
    "start_time": "2022-03-28T08:36:00.802Z"
   },
   {
    "duration": 83,
    "start_time": "2022-03-28T08:36:04.577Z"
   },
   {
    "duration": 92,
    "start_time": "2022-03-28T08:36:08.753Z"
   },
   {
    "duration": 101,
    "start_time": "2022-03-28T08:36:15.274Z"
   },
   {
    "duration": 111,
    "start_time": "2022-03-28T08:36:19.088Z"
   },
   {
    "duration": 121,
    "start_time": "2022-03-28T08:36:22.274Z"
   },
   {
    "duration": 131,
    "start_time": "2022-03-28T08:36:25.457Z"
   },
   {
    "duration": 143,
    "start_time": "2022-03-28T08:36:28.952Z"
   },
   {
    "duration": 153,
    "start_time": "2022-03-28T08:36:33.921Z"
   },
   {
    "duration": 166,
    "start_time": "2022-03-28T08:36:40.317Z"
   },
   {
    "duration": 181,
    "start_time": "2022-03-28T08:37:01.959Z"
   },
   {
    "duration": 187,
    "start_time": "2022-03-28T08:37:06.984Z"
   },
   {
    "duration": 191,
    "start_time": "2022-03-28T08:37:10.199Z"
   },
   {
    "duration": 209,
    "start_time": "2022-03-28T08:37:14.143Z"
   },
   {
    "duration": 224,
    "start_time": "2022-03-28T08:37:19.136Z"
   },
   {
    "duration": 227,
    "start_time": "2022-03-28T08:37:38.646Z"
   },
   {
    "duration": 235,
    "start_time": "2022-03-28T08:37:54.469Z"
   },
   {
    "duration": 253,
    "start_time": "2022-03-28T08:37:59.845Z"
   },
   {
    "duration": 266,
    "start_time": "2022-03-28T08:38:03.974Z"
   },
   {
    "duration": 267,
    "start_time": "2022-03-28T08:38:13.486Z"
   },
   {
    "duration": 276,
    "start_time": "2022-03-28T08:38:17.293Z"
   },
   {
    "duration": 258,
    "start_time": "2022-03-28T08:38:20.669Z"
   },
   {
    "duration": 280,
    "start_time": "2022-03-28T08:38:43.324Z"
   },
   {
    "duration": 282,
    "start_time": "2022-03-28T08:38:47.731Z"
   },
   {
    "duration": 287,
    "start_time": "2022-03-28T08:38:51.972Z"
   },
   {
    "duration": 295,
    "start_time": "2022-03-28T08:39:09.940Z"
   },
   {
    "duration": 309,
    "start_time": "2022-03-28T08:39:13.580Z"
   },
   {
    "duration": 300,
    "start_time": "2022-03-28T08:39:18.315Z"
   },
   {
    "duration": 327,
    "start_time": "2022-03-28T08:39:33.851Z"
   },
   {
    "duration": 351,
    "start_time": "2022-03-28T08:39:36.731Z"
   },
   {
    "duration": 358,
    "start_time": "2022-03-28T08:39:39.642Z"
   },
   {
    "duration": 371,
    "start_time": "2022-03-28T08:39:48.258Z"
   },
   {
    "duration": 372,
    "start_time": "2022-03-28T08:39:51.833Z"
   },
   {
    "duration": 300,
    "start_time": "2022-03-28T08:40:02.730Z"
   },
   {
    "duration": 39,
    "start_time": "2022-03-28T08:41:52.831Z"
   },
   {
    "duration": 118,
    "start_time": "2022-03-28T08:44:05.178Z"
   },
   {
    "duration": 221,
    "start_time": "2022-03-28T08:44:12.649Z"
   },
   {
    "duration": 130,
    "start_time": "2022-03-28T08:44:20.584Z"
   },
   {
    "duration": 199,
    "start_time": "2022-03-28T08:44:27.065Z"
   },
   {
    "duration": 291,
    "start_time": "2022-03-28T08:44:38.265Z"
   },
   {
    "duration": 73,
    "start_time": "2022-03-28T10:42:22.419Z"
   },
   {
    "duration": 2193,
    "start_time": "2022-03-28T10:42:39.714Z"
   },
   {
    "duration": 73,
    "start_time": "2022-03-28T10:42:41.911Z"
   },
   {
    "duration": 7,
    "start_time": "2022-03-28T10:42:41.986Z"
   },
   {
    "duration": 45,
    "start_time": "2022-03-28T10:42:41.996Z"
   },
   {
    "duration": 6,
    "start_time": "2022-03-28T10:42:42.043Z"
   },
   {
    "duration": 33,
    "start_time": "2022-03-28T10:42:42.051Z"
   },
   {
    "duration": 16,
    "start_time": "2022-03-28T10:42:42.087Z"
   },
   {
    "duration": 7,
    "start_time": "2022-03-28T10:42:42.105Z"
   },
   {
    "duration": 33,
    "start_time": "2022-03-28T10:42:42.114Z"
   },
   {
    "duration": 12,
    "start_time": "2022-03-28T10:42:42.151Z"
   },
   {
    "duration": 61,
    "start_time": "2022-03-28T10:42:42.165Z"
   },
   {
    "duration": 26,
    "start_time": "2022-03-28T10:42:42.228Z"
   },
   {
    "duration": 11,
    "start_time": "2022-03-28T10:42:42.256Z"
   },
   {
    "duration": 175,
    "start_time": "2022-03-28T10:42:42.269Z"
   },
   {
    "duration": 2150,
    "start_time": "2022-03-28T10:42:42.447Z"
   },
   {
    "duration": 86,
    "start_time": "2022-03-28T10:42:44.599Z"
   },
   {
    "duration": 600,
    "start_time": "2022-03-28T10:42:44.688Z"
   },
   {
    "duration": 2150,
    "start_time": "2022-03-28T10:42:45.290Z"
   },
   {
    "duration": 345,
    "start_time": "2022-03-28T10:42:47.442Z"
   },
   {
    "duration": 8,
    "start_time": "2022-03-28T10:42:47.789Z"
   },
   {
    "duration": 88,
    "start_time": "2022-03-28T10:42:47.799Z"
   },
   {
    "duration": 464,
    "start_time": "2022-03-28T10:42:47.890Z"
   },
   {
    "duration": 9,
    "start_time": "2022-03-28T10:42:48.356Z"
   },
   {
    "duration": 26,
    "start_time": "2022-03-28T10:42:48.367Z"
   },
   {
    "duration": 353,
    "start_time": "2022-03-28T10:42:48.396Z"
   },
   {
    "duration": 4520,
    "start_time": "2022-03-28T10:42:48.751Z"
   },
   {
    "duration": 511,
    "start_time": "2022-03-28T10:42:53.273Z"
   },
   {
    "duration": 8,
    "start_time": "2022-03-28T10:42:53.789Z"
   },
   {
    "duration": 185,
    "start_time": "2022-03-28T10:42:53.799Z"
   },
   {
    "duration": 14,
    "start_time": "2022-03-28T10:42:53.986Z"
   },
   {
    "duration": 175,
    "start_time": "2022-03-28T10:42:54.002Z"
   },
   {
    "duration": 1819,
    "start_time": "2022-03-28T10:42:54.183Z"
   },
   {
    "duration": 81,
    "start_time": "2022-03-28T10:42:56.004Z"
   },
   {
    "duration": 657,
    "start_time": "2022-03-28T10:42:56.089Z"
   },
   {
    "duration": 50,
    "start_time": "2022-03-28T10:42:56.749Z"
   },
   {
    "duration": 45,
    "start_time": "2022-03-28T10:42:56.801Z"
   },
   {
    "duration": 426,
    "start_time": "2022-03-28T10:43:16.575Z"
   },
   {
    "duration": 161,
    "start_time": "2022-03-28T10:43:36.773Z"
   },
   {
    "duration": 4549,
    "start_time": "2022-03-28T10:44:20.930Z"
   },
   {
    "duration": 8167,
    "start_time": "2022-03-28T10:44:44.418Z"
   },
   {
    "duration": 550,
    "start_time": "2022-03-28T10:46:20.072Z"
   },
   {
    "duration": 8,
    "start_time": "2022-03-28T10:46:32.535Z"
   },
   {
    "duration": 54,
    "start_time": "2022-03-28T10:46:56.247Z"
   },
   {
    "duration": 49,
    "start_time": "2022-03-28T10:47:04.215Z"
   },
   {
    "duration": 295,
    "start_time": "2022-03-28T10:48:02.389Z"
   },
   {
    "duration": 36,
    "start_time": "2022-03-28T10:48:11.772Z"
   },
   {
    "duration": 6577,
    "start_time": "2022-03-28T10:49:10.673Z"
   },
   {
    "duration": 9146,
    "start_time": "2022-03-28T10:49:29.882Z"
   },
   {
    "duration": 12003,
    "start_time": "2022-03-28T10:49:46.897Z"
   },
   {
    "duration": 6540,
    "start_time": "2022-03-28T10:50:03.945Z"
   },
   {
    "duration": 413,
    "start_time": "2022-03-28T10:51:14.879Z"
   },
   {
    "duration": 581,
    "start_time": "2022-03-28T10:53:07.618Z"
   },
   {
    "duration": 7,
    "start_time": "2022-03-28T10:53:11.529Z"
   },
   {
    "duration": 7,
    "start_time": "2022-03-28T10:55:45.645Z"
   },
   {
    "duration": 664,
    "start_time": "2022-03-28T10:55:53.148Z"
   },
   {
    "duration": 2251,
    "start_time": "2022-03-28T11:03:50.637Z"
   },
   {
    "duration": 66,
    "start_time": "2022-03-28T11:03:52.891Z"
   },
   {
    "duration": 6,
    "start_time": "2022-03-28T11:03:52.959Z"
   },
   {
    "duration": 30,
    "start_time": "2022-03-28T11:03:52.983Z"
   },
   {
    "duration": 6,
    "start_time": "2022-03-28T11:03:53.016Z"
   },
   {
    "duration": 17,
    "start_time": "2022-03-28T11:03:53.024Z"
   },
   {
    "duration": 43,
    "start_time": "2022-03-28T11:03:53.044Z"
   },
   {
    "duration": 13,
    "start_time": "2022-03-28T11:03:53.090Z"
   },
   {
    "duration": 8,
    "start_time": "2022-03-28T11:03:53.106Z"
   },
   {
    "duration": 8,
    "start_time": "2022-03-28T11:03:53.120Z"
   },
   {
    "duration": 76,
    "start_time": "2022-03-28T11:03:53.130Z"
   },
   {
    "duration": 29,
    "start_time": "2022-03-28T11:03:53.208Z"
   },
   {
    "duration": 10,
    "start_time": "2022-03-28T11:03:53.240Z"
   },
   {
    "duration": 194,
    "start_time": "2022-03-28T11:03:53.252Z"
   },
   {
    "duration": 2181,
    "start_time": "2022-03-28T11:03:53.449Z"
   },
   {
    "duration": 62,
    "start_time": "2022-03-28T11:03:55.633Z"
   },
   {
    "duration": 689,
    "start_time": "2022-03-28T11:03:55.698Z"
   },
   {
    "duration": 8699,
    "start_time": "2022-03-28T11:03:56.389Z"
   },
   {
    "duration": 105,
    "start_time": "2022-03-28T11:04:05.090Z"
   },
   {
    "duration": 14,
    "start_time": "2022-03-28T11:04:05.283Z"
   },
   {
    "duration": 363,
    "start_time": "2022-03-28T11:04:05.300Z"
   },
   {
    "duration": 6930,
    "start_time": "2022-03-28T11:04:05.665Z"
   },
   {
    "duration": 87,
    "start_time": "2022-03-28T11:04:12.598Z"
   },
   {
    "duration": 103,
    "start_time": "2022-03-28T11:04:12.689Z"
   },
   {
    "duration": 183,
    "start_time": "2022-03-28T11:04:12.795Z"
   },
   {
    "duration": 1777,
    "start_time": "2022-03-28T11:04:12.983Z"
   },
   {
    "duration": 33,
    "start_time": "2022-03-28T11:04:14.762Z"
   },
   {
    "duration": 749,
    "start_time": "2022-03-28T11:04:14.890Z"
   },
   {
    "duration": 9,
    "start_time": "2022-03-28T11:04:15.641Z"
   },
   {
    "duration": 446,
    "start_time": "2022-03-28T11:04:15.652Z"
   },
   {
    "duration": 21,
    "start_time": "2022-03-28T11:18:02.517Z"
   },
   {
    "duration": 9,
    "start_time": "2022-03-28T11:27:49.023Z"
   },
   {
    "duration": 274,
    "start_time": "2022-03-28T11:29:51.116Z"
   },
   {
    "duration": 1686,
    "start_time": "2022-03-28T17:32:38.932Z"
   },
   {
    "duration": 56,
    "start_time": "2022-03-28T17:32:40.620Z"
   },
   {
    "duration": 5,
    "start_time": "2022-03-28T17:32:40.678Z"
   },
   {
    "duration": 20,
    "start_time": "2022-03-28T17:32:40.686Z"
   },
   {
    "duration": 5,
    "start_time": "2022-03-28T17:32:40.708Z"
   },
   {
    "duration": 21,
    "start_time": "2022-03-28T17:32:40.715Z"
   },
   {
    "duration": 6,
    "start_time": "2022-03-28T17:32:40.738Z"
   },
   {
    "duration": 20,
    "start_time": "2022-03-28T17:32:40.746Z"
   },
   {
    "duration": 14,
    "start_time": "2022-03-28T17:32:40.768Z"
   },
   {
    "duration": 6,
    "start_time": "2022-03-28T17:32:40.785Z"
   },
   {
    "duration": 42,
    "start_time": "2022-03-28T17:32:40.793Z"
   },
   {
    "duration": 8,
    "start_time": "2022-03-28T17:32:40.836Z"
   },
   {
    "duration": 149,
    "start_time": "2022-03-28T17:32:40.846Z"
   },
   {
    "duration": 1540,
    "start_time": "2022-03-28T17:32:41.001Z"
   },
   {
    "duration": 61,
    "start_time": "2022-03-28T17:32:42.542Z"
   },
   {
    "duration": 301,
    "start_time": "2022-03-28T17:32:42.605Z"
   },
   {
    "duration": 6166,
    "start_time": "2022-03-28T17:32:42.908Z"
   },
   {
    "duration": 32,
    "start_time": "2022-03-28T17:32:49.076Z"
   },
   {
    "duration": 106,
    "start_time": "2022-03-28T17:32:49.200Z"
   },
   {
    "duration": 254,
    "start_time": "2022-03-28T17:32:49.308Z"
   },
   {
    "duration": 4795,
    "start_time": "2022-03-28T17:32:49.564Z"
   },
   {
    "duration": 40,
    "start_time": "2022-03-28T17:32:54.362Z"
   },
   {
    "duration": 107,
    "start_time": "2022-03-28T17:32:54.404Z"
   },
   {
    "duration": 196,
    "start_time": "2022-03-28T17:32:54.514Z"
   },
   {
    "duration": 1746,
    "start_time": "2022-03-28T17:32:54.712Z"
   },
   {
    "duration": 45,
    "start_time": "2022-03-28T17:32:56.460Z"
   },
   {
    "duration": 547,
    "start_time": "2022-03-28T17:32:56.508Z"
   },
   {
    "duration": 6,
    "start_time": "2022-03-28T17:32:57.058Z"
   },
   {
    "duration": 284,
    "start_time": "2022-03-28T17:32:57.066Z"
   },
   {
    "duration": 22,
    "start_time": "2022-03-28T17:32:57.352Z"
   },
   {
    "duration": 291,
    "start_time": "2022-03-28T17:36:05.881Z"
   },
   {
    "duration": 279,
    "start_time": "2022-03-28T17:36:08.553Z"
   },
   {
    "duration": 261,
    "start_time": "2022-03-28T17:36:19.177Z"
   },
   {
    "duration": 40,
    "start_time": "2022-03-28T17:36:27.888Z"
   },
   {
    "duration": 286,
    "start_time": "2022-03-28T17:36:31.168Z"
   },
   {
    "duration": 279,
    "start_time": "2022-03-28T18:02:50.523Z"
   },
   {
    "duration": 280,
    "start_time": "2022-03-28T18:03:07.834Z"
   },
   {
    "duration": 21,
    "start_time": "2022-03-28T18:03:26.185Z"
   },
   {
    "duration": 2112,
    "start_time": "2022-03-28T18:03:59.223Z"
   },
   {
    "duration": 1100,
    "start_time": "2022-03-28T18:04:12.759Z"
   },
   {
    "duration": 3144,
    "start_time": "2022-03-28T18:04:20.463Z"
   },
   {
    "duration": 220,
    "start_time": "2022-03-28T18:04:35.653Z"
   },
   {
    "duration": 19,
    "start_time": "2022-03-28T18:04:39.749Z"
   },
   {
    "duration": 511,
    "start_time": "2022-03-28T18:05:04.212Z"
   },
   {
    "duration": 453,
    "start_time": "2022-03-28T18:05:15.612Z"
   },
   {
    "duration": 242,
    "start_time": "2022-03-28T18:05:23.772Z"
   },
   {
    "duration": 6130,
    "start_time": "2022-03-28T18:05:55.994Z"
   },
   {
    "duration": 313,
    "start_time": "2022-03-28T18:06:56.798Z"
   },
   {
    "duration": 278,
    "start_time": "2022-03-28T18:07:36.414Z"
   },
   {
    "duration": 25,
    "start_time": "2022-03-28T18:08:16.123Z"
   },
   {
    "duration": 9,
    "start_time": "2022-03-28T18:12:24.854Z"
   },
   {
    "duration": 131,
    "start_time": "2022-03-28T18:15:59.364Z"
   },
   {
    "duration": 1669,
    "start_time": "2022-03-28T18:16:24.207Z"
   },
   {
    "duration": 56,
    "start_time": "2022-03-28T18:16:25.879Z"
   },
   {
    "duration": 5,
    "start_time": "2022-03-28T18:16:25.937Z"
   },
   {
    "duration": 16,
    "start_time": "2022-03-28T18:16:25.945Z"
   },
   {
    "duration": 6,
    "start_time": "2022-03-28T18:16:25.964Z"
   },
   {
    "duration": 167,
    "start_time": "2022-03-28T18:16:25.971Z"
   },
   {
    "duration": 0,
    "start_time": "2022-03-28T18:16:26.141Z"
   },
   {
    "duration": 0,
    "start_time": "2022-03-28T18:16:26.143Z"
   },
   {
    "duration": 0,
    "start_time": "2022-03-28T18:16:26.145Z"
   },
   {
    "duration": 0,
    "start_time": "2022-03-28T18:16:26.146Z"
   },
   {
    "duration": 0,
    "start_time": "2022-03-28T18:16:26.148Z"
   },
   {
    "duration": 0,
    "start_time": "2022-03-28T18:16:26.149Z"
   },
   {
    "duration": 0,
    "start_time": "2022-03-28T18:16:26.150Z"
   },
   {
    "duration": 0,
    "start_time": "2022-03-28T18:16:26.153Z"
   },
   {
    "duration": 0,
    "start_time": "2022-03-28T18:16:26.154Z"
   },
   {
    "duration": 0,
    "start_time": "2022-03-28T18:16:26.155Z"
   },
   {
    "duration": 0,
    "start_time": "2022-03-28T18:16:26.157Z"
   },
   {
    "duration": 0,
    "start_time": "2022-03-28T18:16:26.158Z"
   },
   {
    "duration": 0,
    "start_time": "2022-03-28T18:16:26.159Z"
   },
   {
    "duration": 0,
    "start_time": "2022-03-28T18:16:26.160Z"
   },
   {
    "duration": 0,
    "start_time": "2022-03-28T18:16:26.162Z"
   },
   {
    "duration": 0,
    "start_time": "2022-03-28T18:16:26.164Z"
   },
   {
    "duration": 0,
    "start_time": "2022-03-28T18:16:26.165Z"
   },
   {
    "duration": 0,
    "start_time": "2022-03-28T18:16:26.167Z"
   },
   {
    "duration": 0,
    "start_time": "2022-03-28T18:16:26.169Z"
   },
   {
    "duration": 0,
    "start_time": "2022-03-28T18:16:26.170Z"
   },
   {
    "duration": 0,
    "start_time": "2022-03-28T18:16:26.171Z"
   },
   {
    "duration": 0,
    "start_time": "2022-03-28T18:16:26.173Z"
   },
   {
    "duration": 0,
    "start_time": "2022-03-28T18:16:26.174Z"
   },
   {
    "duration": 0,
    "start_time": "2022-03-28T18:16:26.175Z"
   },
   {
    "duration": 0,
    "start_time": "2022-03-28T18:16:26.177Z"
   },
   {
    "duration": 0,
    "start_time": "2022-03-28T18:16:26.178Z"
   },
   {
    "duration": 0,
    "start_time": "2022-03-28T18:16:26.202Z"
   },
   {
    "duration": 123,
    "start_time": "2022-03-28T18:21:26.405Z"
   },
   {
    "duration": 10,
    "start_time": "2022-03-28T18:24:14.685Z"
   },
   {
    "duration": 15,
    "start_time": "2022-03-28T18:25:42.281Z"
   },
   {
    "duration": 18,
    "start_time": "2022-03-28T18:26:57.548Z"
   },
   {
    "duration": 6,
    "start_time": "2022-03-28T18:35:19.702Z"
   },
   {
    "duration": 18,
    "start_time": "2022-03-28T18:35:26.589Z"
   },
   {
    "duration": 1551,
    "start_time": "2022-03-28T18:35:33.595Z"
   },
   {
    "duration": 54,
    "start_time": "2022-03-28T18:35:35.149Z"
   },
   {
    "duration": 5,
    "start_time": "2022-03-28T18:35:35.205Z"
   },
   {
    "duration": 18,
    "start_time": "2022-03-28T18:35:35.212Z"
   },
   {
    "duration": 6,
    "start_time": "2022-03-28T18:35:35.232Z"
   },
   {
    "duration": 9,
    "start_time": "2022-03-28T18:35:35.240Z"
   },
   {
    "duration": 51,
    "start_time": "2022-03-28T18:35:35.251Z"
   },
   {
    "duration": 121,
    "start_time": "2022-03-28T18:35:35.304Z"
   },
   {
    "duration": 0,
    "start_time": "2022-03-28T18:35:35.427Z"
   },
   {
    "duration": 0,
    "start_time": "2022-03-28T18:35:35.429Z"
   },
   {
    "duration": 0,
    "start_time": "2022-03-28T18:35:35.430Z"
   },
   {
    "duration": 0,
    "start_time": "2022-03-28T18:35:35.432Z"
   },
   {
    "duration": 0,
    "start_time": "2022-03-28T18:35:35.433Z"
   },
   {
    "duration": 0,
    "start_time": "2022-03-28T18:35:35.433Z"
   },
   {
    "duration": 0,
    "start_time": "2022-03-28T18:35:35.434Z"
   },
   {
    "duration": 0,
    "start_time": "2022-03-28T18:35:35.436Z"
   },
   {
    "duration": 0,
    "start_time": "2022-03-28T18:35:35.437Z"
   },
   {
    "duration": 0,
    "start_time": "2022-03-28T18:35:35.438Z"
   },
   {
    "duration": 0,
    "start_time": "2022-03-28T18:35:35.439Z"
   },
   {
    "duration": 1,
    "start_time": "2022-03-28T18:35:35.439Z"
   },
   {
    "duration": 0,
    "start_time": "2022-03-28T18:35:35.441Z"
   },
   {
    "duration": 0,
    "start_time": "2022-03-28T18:35:35.442Z"
   },
   {
    "duration": 0,
    "start_time": "2022-03-28T18:35:35.443Z"
   },
   {
    "duration": 0,
    "start_time": "2022-03-28T18:35:35.444Z"
   },
   {
    "duration": 0,
    "start_time": "2022-03-28T18:35:35.445Z"
   },
   {
    "duration": 0,
    "start_time": "2022-03-28T18:35:35.445Z"
   },
   {
    "duration": 0,
    "start_time": "2022-03-28T18:35:35.447Z"
   },
   {
    "duration": 0,
    "start_time": "2022-03-28T18:35:35.448Z"
   },
   {
    "duration": 0,
    "start_time": "2022-03-28T18:35:35.449Z"
   },
   {
    "duration": 0,
    "start_time": "2022-03-28T18:35:35.450Z"
   },
   {
    "duration": 0,
    "start_time": "2022-03-28T18:35:35.450Z"
   },
   {
    "duration": 0,
    "start_time": "2022-03-28T18:35:35.451Z"
   },
   {
    "duration": 0,
    "start_time": "2022-03-28T18:35:35.452Z"
   },
   {
    "duration": 73,
    "start_time": "2022-03-29T02:29:03.141Z"
   },
   {
    "duration": 2080,
    "start_time": "2022-03-29T02:29:06.905Z"
   },
   {
    "duration": 71,
    "start_time": "2022-03-29T02:29:10.818Z"
   },
   {
    "duration": 6,
    "start_time": "2022-03-29T02:29:13.969Z"
   },
   {
    "duration": 20,
    "start_time": "2022-03-29T02:29:14.856Z"
   },
   {
    "duration": 7,
    "start_time": "2022-03-29T02:29:17.095Z"
   },
   {
    "duration": 11,
    "start_time": "2022-03-29T02:29:18.120Z"
   },
   {
    "duration": 7,
    "start_time": "2022-03-29T02:29:20.079Z"
   },
   {
    "duration": 8,
    "start_time": "2022-03-29T02:29:21.024Z"
   },
   {
    "duration": 7,
    "start_time": "2022-03-29T02:29:21.744Z"
   },
   {
    "duration": 6,
    "start_time": "2022-03-29T02:29:22.616Z"
   },
   {
    "duration": 49,
    "start_time": "2022-03-29T02:29:24.063Z"
   },
   {
    "duration": 13,
    "start_time": "2022-03-29T02:30:29.685Z"
   },
   {
    "duration": 27,
    "start_time": "2022-03-29T02:31:15.636Z"
   },
   {
    "duration": 1823,
    "start_time": "2022-03-29T02:31:54.391Z"
   },
   {
    "duration": 67,
    "start_time": "2022-03-29T02:31:56.217Z"
   },
   {
    "duration": 5,
    "start_time": "2022-03-29T02:31:56.286Z"
   },
   {
    "duration": 22,
    "start_time": "2022-03-29T02:31:56.294Z"
   },
   {
    "duration": 12,
    "start_time": "2022-03-29T02:31:56.318Z"
   },
   {
    "duration": 42,
    "start_time": "2022-03-29T02:31:56.332Z"
   },
   {
    "duration": 6,
    "start_time": "2022-03-29T02:31:56.376Z"
   },
   {
    "duration": 10,
    "start_time": "2022-03-29T02:31:56.384Z"
   },
   {
    "duration": 6,
    "start_time": "2022-03-29T02:31:56.396Z"
   },
   {
    "duration": 7,
    "start_time": "2022-03-29T02:31:56.406Z"
   },
   {
    "duration": 61,
    "start_time": "2022-03-29T02:31:56.415Z"
   },
   {
    "duration": 35,
    "start_time": "2022-03-29T02:31:56.478Z"
   },
   {
    "duration": 8,
    "start_time": "2022-03-29T02:31:56.515Z"
   },
   {
    "duration": 176,
    "start_time": "2022-03-29T02:31:56.525Z"
   },
   {
    "duration": 1883,
    "start_time": "2022-03-29T02:31:56.703Z"
   },
   {
    "duration": 85,
    "start_time": "2022-03-29T02:31:58.588Z"
   },
   {
    "duration": 317,
    "start_time": "2022-03-29T02:31:58.677Z"
   },
   {
    "duration": 7412,
    "start_time": "2022-03-29T02:31:58.996Z"
   },
   {
    "duration": 73,
    "start_time": "2022-03-29T02:32:06.410Z"
   },
   {
    "duration": 16,
    "start_time": "2022-03-29T02:32:06.575Z"
   },
   {
    "duration": 335,
    "start_time": "2022-03-29T02:32:06.593Z"
   },
   {
    "duration": 4144,
    "start_time": "2022-03-29T02:32:06.930Z"
   },
   {
    "duration": 98,
    "start_time": "2022-03-29T02:32:11.076Z"
   },
   {
    "duration": 103,
    "start_time": "2022-03-29T02:32:11.178Z"
   },
   {
    "duration": 160,
    "start_time": "2022-03-29T02:32:11.284Z"
   },
   {
    "duration": 1574,
    "start_time": "2022-03-29T02:32:11.447Z"
   },
   {
    "duration": 60,
    "start_time": "2022-03-29T02:32:13.024Z"
   },
   {
    "duration": 608,
    "start_time": "2022-03-29T02:32:13.174Z"
   },
   {
    "duration": 9,
    "start_time": "2022-03-29T02:32:13.785Z"
   },
   {
    "duration": 313,
    "start_time": "2022-03-29T02:32:13.796Z"
   },
   {
    "duration": 22,
    "start_time": "2022-03-29T02:32:14.112Z"
   },
   {
    "duration": 347,
    "start_time": "2022-03-29T02:32:14.136Z"
   },
   {
    "duration": 27,
    "start_time": "2022-03-29T02:32:14.485Z"
   },
   {
    "duration": 193,
    "start_time": "2022-03-29T02:33:22.548Z"
   },
   {
    "duration": 1044,
    "start_time": "2022-03-29T02:33:34.803Z"
   },
   {
    "duration": 2256,
    "start_time": "2022-03-29T04:33:47.680Z"
   },
   {
    "duration": 277,
    "start_time": "2022-03-29T04:34:02.486Z"
   },
   {
    "duration": 21,
    "start_time": "2022-03-29T04:34:05.054Z"
   },
   {
    "duration": 1856,
    "start_time": "2022-03-29T04:34:22.663Z"
   },
   {
    "duration": 68,
    "start_time": "2022-03-29T04:34:24.522Z"
   },
   {
    "duration": 6,
    "start_time": "2022-03-29T04:34:24.592Z"
   },
   {
    "duration": 20,
    "start_time": "2022-03-29T04:34:24.601Z"
   },
   {
    "duration": 11,
    "start_time": "2022-03-29T04:34:24.623Z"
   },
   {
    "duration": 40,
    "start_time": "2022-03-29T04:34:24.637Z"
   },
   {
    "duration": 6,
    "start_time": "2022-03-29T04:34:24.679Z"
   },
   {
    "duration": 9,
    "start_time": "2022-03-29T04:34:24.687Z"
   },
   {
    "duration": 8,
    "start_time": "2022-03-29T04:34:24.698Z"
   },
   {
    "duration": 6,
    "start_time": "2022-03-29T04:34:24.710Z"
   },
   {
    "duration": 67,
    "start_time": "2022-03-29T04:34:24.718Z"
   },
   {
    "duration": 35,
    "start_time": "2022-03-29T04:34:24.787Z"
   },
   {
    "duration": 8,
    "start_time": "2022-03-29T04:34:24.824Z"
   },
   {
    "duration": 228,
    "start_time": "2022-03-29T04:34:24.834Z"
   },
   {
    "duration": 1078,
    "start_time": "2022-03-29T04:34:25.065Z"
   },
   {
    "duration": 42,
    "start_time": "2022-03-29T04:34:26.146Z"
   },
   {
    "duration": 318,
    "start_time": "2022-03-29T04:34:26.276Z"
   },
   {
    "duration": 8122,
    "start_time": "2022-03-29T04:34:26.596Z"
   },
   {
    "duration": 153,
    "start_time": "2022-03-29T04:34:34.721Z"
   },
   {
    "duration": 111,
    "start_time": "2022-03-29T04:34:34.878Z"
   },
   {
    "duration": 327,
    "start_time": "2022-03-29T04:34:34.991Z"
   },
   {
    "duration": 4545,
    "start_time": "2022-03-29T04:34:35.320Z"
   },
   {
    "duration": 100,
    "start_time": "2022-03-29T04:34:39.874Z"
   },
   {
    "duration": 108,
    "start_time": "2022-03-29T04:34:39.978Z"
   },
   {
    "duration": 167,
    "start_time": "2022-03-29T04:34:40.088Z"
   },
   {
    "duration": 2322,
    "start_time": "2022-03-29T04:34:40.257Z"
   },
   {
    "duration": 94,
    "start_time": "2022-03-29T04:34:42.581Z"
   },
   {
    "duration": 662,
    "start_time": "2022-03-29T04:34:42.680Z"
   },
   {
    "duration": 8,
    "start_time": "2022-03-29T04:34:43.345Z"
   },
   {
    "duration": 303,
    "start_time": "2022-03-29T04:34:43.355Z"
   },
   {
    "duration": 25,
    "start_time": "2022-03-29T04:34:43.660Z"
   },
   {
    "duration": 361,
    "start_time": "2022-03-29T04:34:43.687Z"
   },
   {
    "duration": 40,
    "start_time": "2022-03-29T04:34:44.050Z"
   },
   {
    "duration": 22,
    "start_time": "2022-03-29T04:36:12.493Z"
   },
   {
    "duration": 23,
    "start_time": "2022-03-29T04:36:30.742Z"
   },
   {
    "duration": 24,
    "start_time": "2022-03-29T04:37:01.171Z"
   },
   {
    "duration": 11,
    "start_time": "2022-03-29T04:37:08.955Z"
   },
   {
    "duration": 28,
    "start_time": "2022-03-29T04:38:46.801Z"
   },
   {
    "duration": 295,
    "start_time": "2022-03-29T04:39:26.717Z"
   },
   {
    "duration": 22,
    "start_time": "2022-03-29T04:39:30.870Z"
   },
   {
    "duration": 309,
    "start_time": "2022-03-29T04:39:38.147Z"
   },
   {
    "duration": 23,
    "start_time": "2022-03-29T04:39:40.797Z"
   },
   {
    "duration": 321,
    "start_time": "2022-03-29T04:39:45.020Z"
   },
   {
    "duration": 23,
    "start_time": "2022-03-29T04:39:47.271Z"
   },
   {
    "duration": 306,
    "start_time": "2022-03-29T04:39:52.469Z"
   },
   {
    "duration": 21,
    "start_time": "2022-03-29T04:39:54.467Z"
   },
   {
    "duration": 50,
    "start_time": "2022-03-29T04:40:48.259Z"
   },
   {
    "duration": 6428,
    "start_time": "2022-03-29T04:44:47.147Z"
   },
   {
    "duration": 39898,
    "start_time": "2022-03-29T04:46:00.519Z"
   },
   {
    "duration": 162,
    "start_time": "2022-03-29T04:48:56.714Z"
   },
   {
    "duration": 284,
    "start_time": "2022-03-29T04:49:23.769Z"
   },
   {
    "duration": 283,
    "start_time": "2022-03-29T04:49:38.424Z"
   },
   {
    "duration": 304,
    "start_time": "2022-03-29T04:49:58.383Z"
   },
   {
    "duration": 22357,
    "start_time": "2022-03-29T04:51:14.793Z"
   },
   {
    "duration": 223,
    "start_time": "2022-03-29T04:52:26.086Z"
   },
   {
    "duration": 18,
    "start_time": "2022-03-29T04:52:29.450Z"
   },
   {
    "duration": 17246,
    "start_time": "2022-03-29T04:54:37.499Z"
   },
   {
    "duration": 207,
    "start_time": "2022-03-29T04:56:15.700Z"
   },
   {
    "duration": 191,
    "start_time": "2022-03-29T04:56:30.388Z"
   },
   {
    "duration": 258867,
    "start_time": "2022-03-29T04:56:47.395Z"
   },
   {
    "duration": 757,
    "start_time": "2022-03-29T05:15:59.083Z"
   },
   {
    "duration": 9,
    "start_time": "2022-03-29T05:18:41.645Z"
   },
   {
    "duration": 17,
    "start_time": "2022-03-29T05:19:04.613Z"
   },
   {
    "duration": 101,
    "start_time": "2022-03-29T05:20:49.233Z"
   },
   {
    "duration": 17058,
    "start_time": "2022-03-29T05:20:56.945Z"
   },
   {
    "duration": 36,
    "start_time": "2022-03-29T05:23:40.844Z"
   },
   {
    "duration": 16916,
    "start_time": "2022-03-29T05:25:39.574Z"
   },
   {
    "duration": 247,
    "start_time": "2022-03-29T05:26:31.701Z"
   },
   {
    "duration": 85,
    "start_time": "2022-03-29T05:26:40.893Z"
   },
   {
    "duration": 16,
    "start_time": "2022-03-29T05:27:09.427Z"
   },
   {
    "duration": 340,
    "start_time": "2022-03-29T05:27:14.538Z"
   },
   {
    "duration": 22345,
    "start_time": "2022-03-29T05:29:16.812Z"
   },
   {
    "duration": 52,
    "start_time": "2022-03-29T05:30:01.821Z"
   },
   {
    "duration": 17,
    "start_time": "2022-03-29T05:31:01.186Z"
   },
   {
    "duration": 150,
    "start_time": "2022-03-29T05:31:05.093Z"
   },
   {
    "duration": 11362,
    "start_time": "2022-03-29T05:32:07.377Z"
   },
   {
    "duration": 24,
    "start_time": "2022-03-29T05:32:39.088Z"
   },
   {
    "duration": 232,
    "start_time": "2022-03-29T05:33:23.871Z"
   },
   {
    "duration": 20,
    "start_time": "2022-03-29T05:33:26.386Z"
   },
   {
    "duration": 234,
    "start_time": "2022-03-29T05:35:05.830Z"
   },
   {
    "duration": 17,
    "start_time": "2022-03-29T05:36:14.763Z"
   },
   {
    "duration": 101,
    "start_time": "2022-03-29T05:37:22.311Z"
   },
   {
    "duration": 89,
    "start_time": "2022-03-29T05:37:33.909Z"
   },
   {
    "duration": 84,
    "start_time": "2022-03-29T05:37:43.160Z"
   },
   {
    "duration": 122,
    "start_time": "2022-03-29T05:37:50.839Z"
   },
   {
    "duration": 1889,
    "start_time": "2022-03-29T05:40:56.347Z"
   },
   {
    "duration": 70,
    "start_time": "2022-03-29T05:40:58.239Z"
   },
   {
    "duration": 6,
    "start_time": "2022-03-29T05:40:58.312Z"
   },
   {
    "duration": 33,
    "start_time": "2022-03-29T05:40:58.321Z"
   },
   {
    "duration": 29,
    "start_time": "2022-03-29T05:40:58.356Z"
   },
   {
    "duration": 14,
    "start_time": "2022-03-29T05:40:58.388Z"
   },
   {
    "duration": 9,
    "start_time": "2022-03-29T05:40:58.404Z"
   },
   {
    "duration": 23,
    "start_time": "2022-03-29T05:40:58.415Z"
   },
   {
    "duration": 14,
    "start_time": "2022-03-29T05:40:58.440Z"
   },
   {
    "duration": 22,
    "start_time": "2022-03-29T05:40:58.458Z"
   },
   {
    "duration": 21,
    "start_time": "2022-03-29T05:40:58.482Z"
   },
   {
    "duration": 40,
    "start_time": "2022-03-29T05:40:58.505Z"
   },
   {
    "duration": 32,
    "start_time": "2022-03-29T05:40:58.547Z"
   },
   {
    "duration": 304,
    "start_time": "2022-03-29T05:40:58.582Z"
   },
   {
    "duration": 24136,
    "start_time": "2022-03-29T05:40:58.889Z"
   },
   {
    "duration": 61,
    "start_time": "2022-03-29T05:41:23.027Z"
   },
   {
    "duration": 413,
    "start_time": "2022-03-29T05:41:23.090Z"
   },
   {
    "duration": 24224,
    "start_time": "2022-03-29T05:41:23.506Z"
   },
   {
    "duration": 141,
    "start_time": "2022-03-29T05:41:47.733Z"
   },
   {
    "duration": 110,
    "start_time": "2022-03-29T05:41:47.877Z"
   },
   {
    "duration": 410,
    "start_time": "2022-03-29T05:41:47.990Z"
   },
   {
    "duration": 32364,
    "start_time": "2022-03-29T05:41:48.403Z"
   },
   {
    "duration": 126,
    "start_time": "2022-03-29T05:42:20.770Z"
   },
   {
    "duration": 23,
    "start_time": "2022-03-29T05:42:20.975Z"
   },
   {
    "duration": 215,
    "start_time": "2022-03-29T05:42:21.001Z"
   },
   {
    "duration": 12795,
    "start_time": "2022-03-29T05:42:21.219Z"
   },
   {
    "duration": 60,
    "start_time": "2022-03-29T05:42:34.016Z"
   },
   {
    "duration": 907,
    "start_time": "2022-03-29T05:42:34.096Z"
   },
   {
    "duration": 9,
    "start_time": "2022-03-29T05:42:35.006Z"
   },
   {
    "duration": 217,
    "start_time": "2022-03-29T05:42:35.018Z"
   },
   {
    "duration": 176,
    "start_time": "2022-03-29T05:57:23.950Z"
   },
   {
    "duration": 191,
    "start_time": "2022-03-29T05:57:34.629Z"
   },
   {
    "duration": 170,
    "start_time": "2022-03-29T05:58:22.317Z"
   },
   {
    "duration": 13,
    "start_time": "2022-03-29T05:58:27.147Z"
   },
   {
    "duration": 230,
    "start_time": "2022-03-29T05:58:31.539Z"
   },
   {
    "duration": 31128,
    "start_time": "2022-03-29T05:59:15.225Z"
   },
   {
    "duration": 215,
    "start_time": "2022-03-29T06:02:30.443Z"
   },
   {
    "duration": 40783,
    "start_time": "2022-03-29T06:03:08.666Z"
   },
   {
    "duration": 202,
    "start_time": "2022-03-29T06:04:09.135Z"
   },
   {
    "duration": 18842,
    "start_time": "2022-03-29T06:04:53.517Z"
   },
   {
    "duration": 98,
    "start_time": "2022-03-29T06:05:51.340Z"
   },
   {
    "duration": 1884,
    "start_time": "2022-03-29T06:06:14.755Z"
   },
   {
    "duration": 69,
    "start_time": "2022-03-29T06:06:16.642Z"
   },
   {
    "duration": 7,
    "start_time": "2022-03-29T06:06:16.713Z"
   },
   {
    "duration": 22,
    "start_time": "2022-03-29T06:06:16.723Z"
   },
   {
    "duration": 39,
    "start_time": "2022-03-29T06:06:16.747Z"
   },
   {
    "duration": 11,
    "start_time": "2022-03-29T06:06:16.788Z"
   },
   {
    "duration": 7,
    "start_time": "2022-03-29T06:06:16.801Z"
   },
   {
    "duration": 10,
    "start_time": "2022-03-29T06:06:16.811Z"
   },
   {
    "duration": 54,
    "start_time": "2022-03-29T06:06:16.823Z"
   },
   {
    "duration": 10,
    "start_time": "2022-03-29T06:06:16.882Z"
   },
   {
    "duration": 18,
    "start_time": "2022-03-29T06:06:16.894Z"
   },
   {
    "duration": 69,
    "start_time": "2022-03-29T06:06:16.914Z"
   },
   {
    "duration": 10,
    "start_time": "2022-03-29T06:06:16.985Z"
   },
   {
    "duration": 236,
    "start_time": "2022-03-29T06:06:16.998Z"
   },
   {
    "duration": 15759,
    "start_time": "2022-03-29T06:06:17.237Z"
   },
   {
    "duration": 31,
    "start_time": "2022-03-29T06:06:32.999Z"
   },
   {
    "duration": 314,
    "start_time": "2022-03-29T06:06:33.075Z"
   },
   {
    "duration": 30484,
    "start_time": "2022-03-29T06:06:33.391Z"
   },
   {
    "duration": 33,
    "start_time": "2022-03-29T06:07:03.878Z"
   },
   {
    "duration": 104,
    "start_time": "2022-03-29T06:07:03.979Z"
   },
   {
    "duration": 324,
    "start_time": "2022-03-29T06:07:04.085Z"
   },
   {
    "duration": 40704,
    "start_time": "2022-03-29T06:07:04.411Z"
   },
   {
    "duration": 63,
    "start_time": "2022-03-29T06:07:45.118Z"
   },
   {
    "duration": 109,
    "start_time": "2022-03-29T06:07:45.274Z"
   },
   {
    "duration": 156,
    "start_time": "2022-03-29T06:07:45.385Z"
   },
   {
    "duration": 18393,
    "start_time": "2022-03-29T06:07:45.543Z"
   },
   {
    "duration": 47,
    "start_time": "2022-03-29T06:08:03.938Z"
   },
   {
    "duration": 694,
    "start_time": "2022-03-29T06:08:04.077Z"
   },
   {
    "duration": 8,
    "start_time": "2022-03-29T06:08:04.773Z"
   },
   {
    "duration": 249,
    "start_time": "2022-03-29T06:08:04.783Z"
   },
   {
    "duration": 234,
    "start_time": "2022-03-29T06:08:05.034Z"
   },
   {
    "duration": 116,
    "start_time": "2022-03-29T06:08:05.274Z"
   },
   {
    "duration": 94,
    "start_time": "2022-03-29T06:08:39.404Z"
   },
   {
    "duration": 196,
    "start_time": "2022-03-29T06:09:11.985Z"
   },
   {
    "duration": 90,
    "start_time": "2022-03-29T06:09:24.370Z"
   },
   {
    "duration": 192,
    "start_time": "2022-03-29T06:09:31.705Z"
   },
   {
    "duration": 208,
    "start_time": "2022-03-29T06:09:40.839Z"
   },
   {
    "duration": 1908,
    "start_time": "2022-03-29T07:57:02.900Z"
   },
   {
    "duration": 68,
    "start_time": "2022-03-29T07:57:04.811Z"
   },
   {
    "duration": 7,
    "start_time": "2022-03-29T07:57:04.882Z"
   },
   {
    "duration": 22,
    "start_time": "2022-03-29T07:57:04.893Z"
   },
   {
    "duration": 11,
    "start_time": "2022-03-29T07:57:04.918Z"
   },
   {
    "duration": 47,
    "start_time": "2022-03-29T07:57:04.931Z"
   },
   {
    "duration": 6,
    "start_time": "2022-03-29T07:57:04.980Z"
   },
   {
    "duration": 9,
    "start_time": "2022-03-29T07:57:04.988Z"
   },
   {
    "duration": 7,
    "start_time": "2022-03-29T07:57:04.999Z"
   },
   {
    "duration": 13,
    "start_time": "2022-03-29T07:57:05.010Z"
   },
   {
    "duration": 61,
    "start_time": "2022-03-29T07:57:05.025Z"
   },
   {
    "duration": 46,
    "start_time": "2022-03-29T07:57:05.088Z"
   },
   {
    "duration": 8,
    "start_time": "2022-03-29T07:57:05.136Z"
   },
   {
    "duration": 236,
    "start_time": "2022-03-29T07:57:05.146Z"
   },
   {
    "duration": 17184,
    "start_time": "2022-03-29T07:57:05.385Z"
   },
   {
    "duration": 34,
    "start_time": "2022-03-29T07:57:22.573Z"
   },
   {
    "duration": 330,
    "start_time": "2022-03-29T07:57:22.677Z"
   },
   {
    "duration": 29963,
    "start_time": "2022-03-29T07:57:23.010Z"
   },
   {
    "duration": 99,
    "start_time": "2022-03-29T07:57:52.975Z"
   },
   {
    "duration": 104,
    "start_time": "2022-03-29T07:57:53.077Z"
   },
   {
    "duration": 333,
    "start_time": "2022-03-29T07:57:53.183Z"
   },
   {
    "duration": 41444,
    "start_time": "2022-03-29T07:57:53.519Z"
   },
   {
    "duration": 46,
    "start_time": "2022-03-29T07:58:34.965Z"
   },
   {
    "duration": 108,
    "start_time": "2022-03-29T07:58:35.075Z"
   },
   {
    "duration": 162,
    "start_time": "2022-03-29T07:58:35.185Z"
   },
   {
    "duration": 18453,
    "start_time": "2022-03-29T07:58:35.349Z"
   },
   {
    "duration": 69,
    "start_time": "2022-03-29T07:58:53.805Z"
   },
   {
    "duration": 668,
    "start_time": "2022-03-29T07:58:53.881Z"
   },
   {
    "duration": 8,
    "start_time": "2022-03-29T07:58:54.551Z"
   },
   {
    "duration": 225,
    "start_time": "2022-03-29T07:58:54.573Z"
   },
   {
    "duration": 207,
    "start_time": "2022-03-29T07:58:54.800Z"
   },
   {
    "duration": 105,
    "start_time": "2022-03-29T07:58:55.009Z"
   },
   {
    "duration": 54,
    "start_time": "2022-03-29T15:22:21.396Z"
   },
   {
    "duration": 1670,
    "start_time": "2022-03-29T15:22:28.154Z"
   },
   {
    "duration": 67,
    "start_time": "2022-03-29T15:22:29.827Z"
   },
   {
    "duration": 5,
    "start_time": "2022-03-29T15:22:29.896Z"
   },
   {
    "duration": 18,
    "start_time": "2022-03-29T15:22:29.904Z"
   },
   {
    "duration": 16,
    "start_time": "2022-03-29T15:22:29.924Z"
   },
   {
    "duration": 11,
    "start_time": "2022-03-29T15:22:29.942Z"
   },
   {
    "duration": 6,
    "start_time": "2022-03-29T15:22:29.955Z"
   },
   {
    "duration": 6,
    "start_time": "2022-03-29T15:22:29.963Z"
   },
   {
    "duration": 11,
    "start_time": "2022-03-29T15:22:29.971Z"
   },
   {
    "duration": 7,
    "start_time": "2022-03-29T15:22:29.985Z"
   },
   {
    "duration": 48,
    "start_time": "2022-03-29T15:22:29.994Z"
   },
   {
    "duration": 41,
    "start_time": "2022-03-29T15:22:30.044Z"
   },
   {
    "duration": 7,
    "start_time": "2022-03-29T15:22:30.087Z"
   },
   {
    "duration": 173,
    "start_time": "2022-03-29T15:22:30.096Z"
   },
   {
    "duration": 21641,
    "start_time": "2022-03-29T15:22:30.272Z"
   },
   {
    "duration": 30,
    "start_time": "2022-03-29T15:22:51.914Z"
   },
   {
    "duration": 347,
    "start_time": "2022-03-29T15:22:51.947Z"
   },
   {
    "duration": 21795,
    "start_time": "2022-03-29T15:22:52.296Z"
   },
   {
    "duration": 43,
    "start_time": "2022-03-29T15:23:14.093Z"
   },
   {
    "duration": 423,
    "start_time": "2022-03-29T15:23:14.138Z"
   },
   {
    "duration": 15,
    "start_time": "2022-03-29T15:23:14.563Z"
   },
   {
    "duration": 237,
    "start_time": "2022-03-29T15:23:14.581Z"
   },
   {
    "duration": 30722,
    "start_time": "2022-03-29T15:23:14.819Z"
   },
   {
    "duration": 94,
    "start_time": "2022-03-29T15:23:45.544Z"
   },
   {
    "duration": 105,
    "start_time": "2022-03-29T15:23:45.641Z"
   },
   {
    "duration": 130,
    "start_time": "2022-03-29T15:23:45.748Z"
   },
   {
    "duration": 14665,
    "start_time": "2022-03-29T15:23:45.880Z"
   },
   {
    "duration": 84,
    "start_time": "2022-03-29T15:24:00.549Z"
   },
   {
    "duration": 508,
    "start_time": "2022-03-29T15:24:00.636Z"
   },
   {
    "duration": 9,
    "start_time": "2022-03-29T15:24:01.147Z"
   },
   {
    "duration": 203,
    "start_time": "2022-03-29T15:24:01.158Z"
   },
   {
    "duration": 157,
    "start_time": "2022-03-29T15:24:01.362Z"
   },
   {
    "duration": 87,
    "start_time": "2022-03-29T15:24:01.521Z"
   },
   {
    "duration": 7,
    "start_time": "2022-03-29T15:24:01.610Z"
   },
   {
    "duration": 269,
    "start_time": "2022-03-29T15:25:45.353Z"
   },
   {
    "duration": 6,
    "start_time": "2022-03-29T15:26:08.975Z"
   },
   {
    "duration": 211,
    "start_time": "2022-03-29T15:27:10.997Z"
   },
   {
    "duration": 7,
    "start_time": "2022-03-29T15:27:32.612Z"
   },
   {
    "duration": 126,
    "start_time": "2022-03-29T15:29:30.646Z"
   },
   {
    "duration": 155,
    "start_time": "2022-03-29T15:29:50.053Z"
   },
   {
    "duration": 97,
    "start_time": "2022-03-29T15:30:11.006Z"
   },
   {
    "duration": 1569,
    "start_time": "2022-03-29T15:31:52.945Z"
   },
   {
    "duration": 55,
    "start_time": "2022-03-29T15:31:54.516Z"
   },
   {
    "duration": 4,
    "start_time": "2022-03-29T15:31:54.573Z"
   },
   {
    "duration": 19,
    "start_time": "2022-03-29T15:31:54.579Z"
   },
   {
    "duration": 9,
    "start_time": "2022-03-29T15:31:54.600Z"
   },
   {
    "duration": 25,
    "start_time": "2022-03-29T15:31:54.611Z"
   },
   {
    "duration": 5,
    "start_time": "2022-03-29T15:31:54.638Z"
   },
   {
    "duration": 11,
    "start_time": "2022-03-29T15:31:54.645Z"
   },
   {
    "duration": 9,
    "start_time": "2022-03-29T15:31:54.658Z"
   },
   {
    "duration": 5,
    "start_time": "2022-03-29T15:31:54.671Z"
   },
   {
    "duration": 17,
    "start_time": "2022-03-29T15:31:54.678Z"
   },
   {
    "duration": 60,
    "start_time": "2022-03-29T15:31:54.697Z"
   },
   {
    "duration": 6,
    "start_time": "2022-03-29T15:31:54.759Z"
   },
   {
    "duration": 217,
    "start_time": "2022-03-29T15:31:54.767Z"
   },
   {
    "duration": 22509,
    "start_time": "2022-03-29T15:31:54.986Z"
   },
   {
    "duration": 142,
    "start_time": "2022-03-29T15:32:17.496Z"
   },
   {
    "duration": 259,
    "start_time": "2022-03-29T15:32:17.642Z"
   },
   {
    "duration": 23253,
    "start_time": "2022-03-29T15:32:17.902Z"
   },
   {
    "duration": 76,
    "start_time": "2022-03-29T15:32:41.157Z"
   },
   {
    "duration": 348,
    "start_time": "2022-03-29T15:32:41.235Z"
   },
   {
    "duration": 7,
    "start_time": "2022-03-29T15:32:41.585Z"
   },
   {
    "duration": 13,
    "start_time": "2022-03-29T15:32:41.594Z"
   },
   {
    "duration": 257,
    "start_time": "2022-03-29T15:32:41.609Z"
   },
   {
    "duration": 28860,
    "start_time": "2022-03-29T15:32:41.868Z"
   },
   {
    "duration": 100,
    "start_time": "2022-03-29T15:33:10.731Z"
   },
   {
    "duration": 367,
    "start_time": "2022-03-29T15:33:10.835Z"
   },
   {
    "duration": 6,
    "start_time": "2022-03-29T15:33:11.203Z"
   },
   {
    "duration": 25,
    "start_time": "2022-03-29T15:33:11.212Z"
   },
   {
    "duration": 122,
    "start_time": "2022-03-29T15:33:11.239Z"
   },
   {
    "duration": 13844,
    "start_time": "2022-03-29T15:33:11.363Z"
   },
   {
    "duration": 31,
    "start_time": "2022-03-29T15:33:25.209Z"
   },
   {
    "duration": 391,
    "start_time": "2022-03-29T15:33:25.242Z"
   },
   {
    "duration": 7,
    "start_time": "2022-03-29T15:33:25.634Z"
   },
   {
    "duration": 144,
    "start_time": "2022-03-29T15:33:25.642Z"
   },
   {
    "duration": 181,
    "start_time": "2022-03-29T15:33:25.788Z"
   },
   {
    "duration": 119,
    "start_time": "2022-03-29T15:33:25.971Z"
   },
   {
    "duration": 102,
    "start_time": "2022-03-30T08:46:55.475Z"
   },
   {
    "duration": 2277,
    "start_time": "2022-03-30T10:41:42.159Z"
   },
   {
    "duration": 71,
    "start_time": "2022-03-30T10:41:44.439Z"
   },
   {
    "duration": 6,
    "start_time": "2022-03-30T10:41:44.512Z"
   },
   {
    "duration": 22,
    "start_time": "2022-03-30T10:41:44.521Z"
   },
   {
    "duration": 9,
    "start_time": "2022-03-30T10:42:08.960Z"
   },
   {
    "duration": 67,
    "start_time": "2022-03-30T10:42:08.972Z"
   },
   {
    "duration": 6,
    "start_time": "2022-03-30T10:42:09.041Z"
   },
   {
    "duration": 24,
    "start_time": "2022-03-30T10:42:09.050Z"
   },
   {
    "duration": 16,
    "start_time": "2022-03-30T10:42:34.074Z"
   },
   {
    "duration": 18,
    "start_time": "2022-03-30T10:42:48.690Z"
   },
   {
    "duration": 1965,
    "start_time": "2022-03-30T10:50:50.056Z"
   },
   {
    "duration": 66,
    "start_time": "2022-03-30T10:50:52.025Z"
   },
   {
    "duration": 6,
    "start_time": "2022-03-30T10:50:52.093Z"
   },
   {
    "duration": 35,
    "start_time": "2022-03-30T10:50:52.102Z"
   },
   {
    "duration": 9,
    "start_time": "2022-03-30T10:51:27.218Z"
   },
   {
    "duration": 8,
    "start_time": "2022-03-30T10:51:38.469Z"
   },
   {
    "duration": 1920,
    "start_time": "2022-03-30T11:18:41.533Z"
   },
   {
    "duration": 70,
    "start_time": "2022-03-30T11:18:43.456Z"
   },
   {
    "duration": 5,
    "start_time": "2022-03-30T11:18:43.528Z"
   },
   {
    "duration": 39,
    "start_time": "2022-03-30T11:18:43.536Z"
   },
   {
    "duration": 12,
    "start_time": "2022-03-30T11:18:43.577Z"
   },
   {
    "duration": 14,
    "start_time": "2022-03-30T11:18:43.591Z"
   },
   {
    "duration": 7,
    "start_time": "2022-03-30T11:18:43.607Z"
   },
   {
    "duration": 10,
    "start_time": "2022-03-30T11:18:43.616Z"
   },
   {
    "duration": 48,
    "start_time": "2022-03-30T11:18:43.628Z"
   },
   {
    "duration": 12,
    "start_time": "2022-03-30T11:18:43.681Z"
   },
   {
    "duration": 19,
    "start_time": "2022-03-30T11:18:43.695Z"
   },
   {
    "duration": 60,
    "start_time": "2022-03-30T11:18:43.716Z"
   },
   {
    "duration": 8,
    "start_time": "2022-03-30T11:18:43.778Z"
   },
   {
    "duration": 231,
    "start_time": "2022-03-30T11:18:43.788Z"
   },
   {
    "duration": 31603,
    "start_time": "2022-03-30T11:18:44.022Z"
   },
   {
    "duration": 55,
    "start_time": "2022-03-30T11:19:15.628Z"
   },
   {
    "duration": 404,
    "start_time": "2022-03-30T11:19:15.687Z"
   },
   {
    "duration": 31504,
    "start_time": "2022-03-30T11:19:16.094Z"
   },
   {
    "duration": 80,
    "start_time": "2022-03-30T11:19:47.600Z"
   },
   {
    "duration": 447,
    "start_time": "2022-03-30T11:19:47.683Z"
   },
   {
    "duration": 8,
    "start_time": "2022-03-30T11:19:48.132Z"
   },
   {
    "duration": 32,
    "start_time": "2022-03-30T11:19:48.142Z"
   },
   {
    "duration": 329,
    "start_time": "2022-03-30T11:19:48.176Z"
   },
   {
    "duration": 40912,
    "start_time": "2022-03-30T11:19:48.507Z"
   },
   {
    "duration": 61,
    "start_time": "2022-03-30T11:20:29.421Z"
   },
   {
    "duration": 468,
    "start_time": "2022-03-30T11:20:29.575Z"
   },
   {
    "duration": 8,
    "start_time": "2022-03-30T11:20:30.045Z"
   },
   {
    "duration": 17,
    "start_time": "2022-03-30T11:20:30.076Z"
   },
   {
    "duration": 163,
    "start_time": "2022-03-30T11:20:30.095Z"
   },
   {
    "duration": 18688,
    "start_time": "2022-03-30T11:20:30.260Z"
   },
   {
    "duration": 122,
    "start_time": "2022-03-30T11:20:48.951Z"
   },
   {
    "duration": 396,
    "start_time": "2022-03-30T11:20:49.077Z"
   },
   {
    "duration": 8,
    "start_time": "2022-03-30T11:20:49.476Z"
   },
   {
    "duration": 180,
    "start_time": "2022-03-30T11:20:49.486Z"
   },
   {
    "duration": 233,
    "start_time": "2022-03-30T11:20:49.674Z"
   },
   {
    "duration": 138,
    "start_time": "2022-03-30T11:20:49.910Z"
   },
   {
    "duration": 5,
    "start_time": "2022-03-30T11:26:13.239Z"
   },
   {
    "duration": 1694,
    "start_time": "2022-03-31T14:21:22.667Z"
   },
   {
    "duration": 63,
    "start_time": "2022-03-31T14:21:24.363Z"
   },
   {
    "duration": 5,
    "start_time": "2022-03-31T14:21:24.427Z"
   },
   {
    "duration": 16,
    "start_time": "2022-03-31T14:21:24.434Z"
   },
   {
    "duration": 22,
    "start_time": "2022-03-31T14:21:24.451Z"
   },
   {
    "duration": 13,
    "start_time": "2022-03-31T14:21:24.475Z"
   },
   {
    "duration": 11,
    "start_time": "2022-03-31T14:21:24.490Z"
   },
   {
    "duration": 5,
    "start_time": "2022-03-31T14:21:24.502Z"
   },
   {
    "duration": 5,
    "start_time": "2022-03-31T14:21:24.509Z"
   },
   {
    "duration": 5,
    "start_time": "2022-03-31T14:21:24.517Z"
   },
   {
    "duration": 12,
    "start_time": "2022-03-31T14:21:24.523Z"
   },
   {
    "duration": 28,
    "start_time": "2022-03-31T14:21:24.537Z"
   },
   {
    "duration": 5,
    "start_time": "2022-03-31T14:21:24.566Z"
   },
   {
    "duration": 180,
    "start_time": "2022-03-31T14:21:24.573Z"
   },
   {
    "duration": 19119,
    "start_time": "2022-03-31T14:21:24.756Z"
   },
   {
    "duration": 29,
    "start_time": "2022-03-31T14:21:43.876Z"
   },
   {
    "duration": 338,
    "start_time": "2022-03-31T14:21:43.907Z"
   },
   {
    "duration": 19285,
    "start_time": "2022-03-31T14:21:44.247Z"
   },
   {
    "duration": 74,
    "start_time": "2022-03-31T14:22:03.534Z"
   },
   {
    "duration": 258,
    "start_time": "2022-03-31T14:22:03.700Z"
   },
   {
    "duration": 6,
    "start_time": "2022-03-31T14:22:03.960Z"
   },
   {
    "duration": 10,
    "start_time": "2022-03-31T14:22:03.968Z"
   },
   {
    "duration": 213,
    "start_time": "2022-03-31T14:22:03.979Z"
   },
   {
    "duration": 25608,
    "start_time": "2022-03-31T14:22:04.201Z"
   },
   {
    "duration": 92,
    "start_time": "2022-03-31T14:22:29.811Z"
   },
   {
    "duration": 327,
    "start_time": "2022-03-31T14:22:29.905Z"
   },
   {
    "duration": 6,
    "start_time": "2022-03-31T14:22:30.233Z"
   },
   {
    "duration": 15,
    "start_time": "2022-03-31T14:22:30.242Z"
   },
   {
    "duration": 108,
    "start_time": "2022-03-31T14:22:30.259Z"
   },
   {
    "duration": 11986,
    "start_time": "2022-03-31T14:22:30.368Z"
   },
   {
    "duration": 48,
    "start_time": "2022-03-31T14:22:42.356Z"
   },
   {
    "duration": 274,
    "start_time": "2022-03-31T14:22:42.406Z"
   },
   {
    "duration": 6,
    "start_time": "2022-03-31T14:22:42.681Z"
   },
   {
    "duration": 121,
    "start_time": "2022-03-31T14:22:42.688Z"
   },
   {
    "duration": 143,
    "start_time": "2022-03-31T14:22:42.811Z"
   },
   {
    "duration": 91,
    "start_time": "2022-03-31T14:22:42.956Z"
   },
   {
    "duration": 39,
    "start_time": "2022-03-31T14:25:01.227Z"
   },
   {
    "duration": 1468,
    "start_time": "2022-03-31T14:31:50.743Z"
   },
   {
    "duration": 49,
    "start_time": "2022-03-31T14:31:52.213Z"
   },
   {
    "duration": 4,
    "start_time": "2022-03-31T14:31:52.263Z"
   },
   {
    "duration": 38,
    "start_time": "2022-03-31T14:31:52.269Z"
   },
   {
    "duration": 45,
    "start_time": "2022-03-31T14:31:52.308Z"
   },
   {
    "duration": 8,
    "start_time": "2022-03-31T14:31:52.354Z"
   },
   {
    "duration": 31,
    "start_time": "2022-03-31T14:31:52.363Z"
   },
   {
    "duration": 11,
    "start_time": "2022-03-31T14:31:52.396Z"
   },
   {
    "duration": 33,
    "start_time": "2022-03-31T14:31:52.408Z"
   },
   {
    "duration": 16,
    "start_time": "2022-03-31T14:31:52.444Z"
   },
   {
    "duration": 19,
    "start_time": "2022-03-31T14:31:52.461Z"
   },
   {
    "duration": 35,
    "start_time": "2022-03-31T14:31:52.481Z"
   },
   {
    "duration": 36,
    "start_time": "2022-03-31T14:31:52.517Z"
   },
   {
    "duration": 4,
    "start_time": "2022-03-31T14:31:52.555Z"
   },
   {
    "duration": 158,
    "start_time": "2022-03-31T14:31:52.561Z"
   },
   {
    "duration": 19237,
    "start_time": "2022-03-31T14:31:52.721Z"
   },
   {
    "duration": 147,
    "start_time": "2022-03-31T14:32:11.960Z"
   },
   {
    "duration": 219,
    "start_time": "2022-03-31T14:32:12.109Z"
   },
   {
    "duration": 19361,
    "start_time": "2022-03-31T14:32:12.330Z"
   },
   {
    "duration": 28,
    "start_time": "2022-03-31T14:32:31.692Z"
   },
   {
    "duration": 381,
    "start_time": "2022-03-31T14:32:31.722Z"
   },
   {
    "duration": 5,
    "start_time": "2022-03-31T14:32:32.104Z"
   },
   {
    "duration": 10,
    "start_time": "2022-03-31T14:32:32.111Z"
   },
   {
    "duration": 218,
    "start_time": "2022-03-31T14:32:32.123Z"
   },
   {
    "duration": 25204,
    "start_time": "2022-03-31T14:32:32.343Z"
   },
   {
    "duration": 53,
    "start_time": "2022-03-31T14:32:57.549Z"
   },
   {
    "duration": 355,
    "start_time": "2022-03-31T14:32:57.604Z"
   },
   {
    "duration": 5,
    "start_time": "2022-03-31T14:32:57.963Z"
   },
   {
    "duration": 11,
    "start_time": "2022-03-31T14:32:57.970Z"
   },
   {
    "duration": 101,
    "start_time": "2022-03-31T14:32:57.983Z"
   },
   {
    "duration": 11895,
    "start_time": "2022-03-31T14:32:58.086Z"
   },
   {
    "duration": 28,
    "start_time": "2022-03-31T14:33:09.982Z"
   },
   {
    "duration": 358,
    "start_time": "2022-03-31T14:33:10.012Z"
   },
   {
    "duration": 6,
    "start_time": "2022-03-31T14:33:10.371Z"
   },
   {
    "duration": 121,
    "start_time": "2022-03-31T14:33:10.379Z"
   },
   {
    "duration": 146,
    "start_time": "2022-03-31T14:33:10.502Z"
   },
   {
    "duration": 96,
    "start_time": "2022-03-31T14:33:10.650Z"
   },
   {
    "duration": 3464,
    "start_time": "2022-03-31T14:42:01.310Z"
   },
   {
    "duration": 1728,
    "start_time": "2022-03-31T14:42:19.522Z"
   },
   {
    "duration": 51,
    "start_time": "2022-03-31T14:42:21.252Z"
   },
   {
    "duration": 4,
    "start_time": "2022-03-31T14:42:21.304Z"
   },
   {
    "duration": 13,
    "start_time": "2022-03-31T14:42:21.310Z"
   },
   {
    "duration": 30,
    "start_time": "2022-03-31T14:42:21.325Z"
   },
   {
    "duration": 8,
    "start_time": "2022-03-31T14:42:21.357Z"
   },
   {
    "duration": 39,
    "start_time": "2022-03-31T14:42:21.367Z"
   },
   {
    "duration": 9,
    "start_time": "2022-03-31T14:42:21.408Z"
   },
   {
    "duration": 5,
    "start_time": "2022-03-31T14:42:21.418Z"
   },
   {
    "duration": 6,
    "start_time": "2022-03-31T14:42:21.426Z"
   },
   {
    "duration": 6,
    "start_time": "2022-03-31T14:42:21.433Z"
   },
   {
    "duration": 5,
    "start_time": "2022-03-31T14:42:21.440Z"
   },
   {
    "duration": 16,
    "start_time": "2022-03-31T14:42:21.446Z"
   },
   {
    "duration": 56,
    "start_time": "2022-03-31T14:42:21.464Z"
   },
   {
    "duration": 7,
    "start_time": "2022-03-31T14:42:21.521Z"
   },
   {
    "duration": 155,
    "start_time": "2022-03-31T14:42:21.530Z"
   },
   {
    "duration": 18750,
    "start_time": "2022-03-31T14:42:21.687Z"
   },
   {
    "duration": 69,
    "start_time": "2022-03-31T14:42:40.438Z"
   },
   {
    "duration": 245,
    "start_time": "2022-03-31T14:42:40.509Z"
   },
   {
    "duration": 18546,
    "start_time": "2022-03-31T14:42:40.755Z"
   },
   {
    "duration": 21,
    "start_time": "2022-03-31T14:42:59.303Z"
   },
   {
    "duration": 382,
    "start_time": "2022-03-31T14:42:59.326Z"
   },
   {
    "duration": 7,
    "start_time": "2022-03-31T14:42:59.709Z"
   },
   {
    "duration": 15,
    "start_time": "2022-03-31T14:42:59.717Z"
   },
   {
    "duration": 222,
    "start_time": "2022-03-31T14:42:59.734Z"
   },
   {
    "duration": 25787,
    "start_time": "2022-03-31T14:42:59.958Z"
   },
   {
    "duration": 59,
    "start_time": "2022-03-31T14:43:25.747Z"
   },
   {
    "duration": 346,
    "start_time": "2022-03-31T14:43:25.901Z"
   },
   {
    "duration": 6,
    "start_time": "2022-03-31T14:43:26.248Z"
   },
   {
    "duration": 18,
    "start_time": "2022-03-31T14:43:26.255Z"
   },
   {
    "duration": 104,
    "start_time": "2022-03-31T14:43:26.275Z"
   },
   {
    "duration": 11792,
    "start_time": "2022-03-31T14:43:26.380Z"
   },
   {
    "duration": 37,
    "start_time": "2022-03-31T14:43:38.173Z"
   },
   {
    "duration": 348,
    "start_time": "2022-03-31T14:43:38.212Z"
   },
   {
    "duration": 5,
    "start_time": "2022-03-31T14:43:38.562Z"
   },
   {
    "duration": 116,
    "start_time": "2022-03-31T14:43:38.568Z"
   },
   {
    "duration": 133,
    "start_time": "2022-03-31T14:43:38.686Z"
   },
   {
    "duration": 88,
    "start_time": "2022-03-31T14:43:38.820Z"
   },
   {
    "duration": 1578,
    "start_time": "2022-03-31T14:50:57.079Z"
   },
   {
    "duration": 49,
    "start_time": "2022-03-31T14:50:58.658Z"
   },
   {
    "duration": 4,
    "start_time": "2022-03-31T14:50:58.709Z"
   },
   {
    "duration": 31,
    "start_time": "2022-03-31T14:50:58.715Z"
   },
   {
    "duration": 39,
    "start_time": "2022-03-31T14:50:58.748Z"
   },
   {
    "duration": 12,
    "start_time": "2022-03-31T14:50:58.789Z"
   },
   {
    "duration": 20,
    "start_time": "2022-03-31T14:50:58.803Z"
   },
   {
    "duration": 107,
    "start_time": "2022-03-31T14:50:58.825Z"
   },
   {
    "duration": 0,
    "start_time": "2022-03-31T14:50:58.936Z"
   },
   {
    "duration": 0,
    "start_time": "2022-03-31T14:50:58.937Z"
   },
   {
    "duration": 1,
    "start_time": "2022-03-31T14:50:58.938Z"
   },
   {
    "duration": 0,
    "start_time": "2022-03-31T14:50:58.939Z"
   },
   {
    "duration": 0,
    "start_time": "2022-03-31T14:50:58.941Z"
   },
   {
    "duration": 0,
    "start_time": "2022-03-31T14:50:58.942Z"
   },
   {
    "duration": 0,
    "start_time": "2022-03-31T14:50:58.943Z"
   },
   {
    "duration": 0,
    "start_time": "2022-03-31T14:50:58.945Z"
   },
   {
    "duration": 0,
    "start_time": "2022-03-31T14:50:58.946Z"
   },
   {
    "duration": 0,
    "start_time": "2022-03-31T14:50:58.947Z"
   },
   {
    "duration": 0,
    "start_time": "2022-03-31T14:50:58.949Z"
   },
   {
    "duration": 0,
    "start_time": "2022-03-31T14:50:58.950Z"
   },
   {
    "duration": 0,
    "start_time": "2022-03-31T14:50:58.951Z"
   },
   {
    "duration": 0,
    "start_time": "2022-03-31T14:50:58.952Z"
   },
   {
    "duration": 0,
    "start_time": "2022-03-31T14:50:58.954Z"
   },
   {
    "duration": 0,
    "start_time": "2022-03-31T14:50:58.955Z"
   },
   {
    "duration": 0,
    "start_time": "2022-03-31T14:50:58.956Z"
   },
   {
    "duration": 0,
    "start_time": "2022-03-31T14:50:58.958Z"
   },
   {
    "duration": 0,
    "start_time": "2022-03-31T14:50:58.959Z"
   },
   {
    "duration": 0,
    "start_time": "2022-03-31T14:50:58.960Z"
   },
   {
    "duration": 0,
    "start_time": "2022-03-31T14:50:59.001Z"
   },
   {
    "duration": 0,
    "start_time": "2022-03-31T14:50:59.002Z"
   },
   {
    "duration": 0,
    "start_time": "2022-03-31T14:50:59.003Z"
   },
   {
    "duration": 0,
    "start_time": "2022-03-31T14:50:59.004Z"
   },
   {
    "duration": 0,
    "start_time": "2022-03-31T14:50:59.005Z"
   },
   {
    "duration": 0,
    "start_time": "2022-03-31T14:50:59.006Z"
   },
   {
    "duration": 0,
    "start_time": "2022-03-31T14:50:59.007Z"
   },
   {
    "duration": 0,
    "start_time": "2022-03-31T14:50:59.008Z"
   },
   {
    "duration": 0,
    "start_time": "2022-03-31T14:50:59.009Z"
   },
   {
    "duration": 0,
    "start_time": "2022-03-31T14:50:59.010Z"
   },
   {
    "duration": 3406,
    "start_time": "2022-03-31T14:52:42.463Z"
   },
   {
    "duration": 9,
    "start_time": "2022-03-31T14:53:10.317Z"
   },
   {
    "duration": 6,
    "start_time": "2022-03-31T14:53:15.555Z"
   },
   {
    "duration": 7,
    "start_time": "2022-03-31T14:53:16.245Z"
   },
   {
    "duration": 6,
    "start_time": "2022-03-31T14:53:16.901Z"
   },
   {
    "duration": 5,
    "start_time": "2022-03-31T14:53:18.260Z"
   },
   {
    "duration": 11,
    "start_time": "2022-03-31T14:53:20.052Z"
   },
   {
    "duration": 24,
    "start_time": "2022-03-31T14:56:27.786Z"
   },
   {
    "duration": 6,
    "start_time": "2022-03-31T14:56:47.281Z"
   },
   {
    "duration": 138,
    "start_time": "2022-03-31T14:56:55.288Z"
   },
   {
    "duration": 18934,
    "start_time": "2022-03-31T14:57:41.176Z"
   },
   {
    "duration": 58542,
    "start_time": "2022-03-31T15:00:24.584Z"
   },
   {
    "duration": 19087,
    "start_time": "2022-03-31T15:02:35.257Z"
   },
   {
    "duration": 21,
    "start_time": "2022-03-31T15:03:53.741Z"
   },
   {
    "duration": 160,
    "start_time": "2022-03-31T15:03:56.165Z"
   },
   {
    "duration": 19738,
    "start_time": "2022-03-31T15:03:57.556Z"
   },
   {
    "duration": 22,
    "start_time": "2022-03-31T15:04:17.297Z"
   },
   {
    "duration": 392,
    "start_time": "2022-03-31T15:04:17.321Z"
   },
   {
    "duration": 6,
    "start_time": "2022-03-31T15:04:17.715Z"
   },
   {
    "duration": 153,
    "start_time": "2022-03-31T15:04:54.842Z"
   },
   {
    "duration": 5,
    "start_time": "2022-03-31T15:05:12.106Z"
   },
   {
    "duration": 5,
    "start_time": "2022-03-31T15:05:33.576Z"
   },
   {
    "duration": 11,
    "start_time": "2022-03-31T15:17:56.700Z"
   },
   {
    "duration": 10,
    "start_time": "2022-03-31T15:18:16.035Z"
   },
   {
    "duration": 4,
    "start_time": "2022-03-31T15:18:54.057Z"
   },
   {
    "duration": 3,
    "start_time": "2022-03-31T15:19:06.744Z"
   },
   {
    "duration": 4,
    "start_time": "2022-03-31T15:19:19.536Z"
   },
   {
    "duration": 196,
    "start_time": "2022-03-31T15:19:59.590Z"
   },
   {
    "duration": 191,
    "start_time": "2022-03-31T15:21:40.474Z"
   },
   {
    "duration": 25393,
    "start_time": "2022-03-31T15:22:30.535Z"
   },
   {
    "duration": 27,
    "start_time": "2022-03-31T15:22:55.930Z"
   },
   {
    "duration": 323,
    "start_time": "2022-03-31T15:22:56.003Z"
   },
   {
    "duration": 5,
    "start_time": "2022-03-31T15:22:56.328Z"
   },
   {
    "duration": 12,
    "start_time": "2022-03-31T15:23:18.268Z"
   },
   {
    "duration": 5,
    "start_time": "2022-03-31T15:23:46.251Z"
   },
   {
    "duration": 4,
    "start_time": "2022-03-31T15:24:22.017Z"
   },
   {
    "duration": 4,
    "start_time": "2022-03-31T15:24:30.393Z"
   },
   {
    "duration": 4,
    "start_time": "2022-03-31T15:24:42.400Z"
   },
   {
    "duration": 4,
    "start_time": "2022-03-31T15:25:38.302Z"
   },
   {
    "duration": 5,
    "start_time": "2022-03-31T15:25:56.365Z"
   },
   {
    "duration": 4,
    "start_time": "2022-03-31T15:26:47.883Z"
   },
   {
    "duration": 5,
    "start_time": "2022-03-31T15:27:04.417Z"
   },
   {
    "duration": 4,
    "start_time": "2022-03-31T15:27:26.610Z"
   },
   {
    "duration": 110,
    "start_time": "2022-03-31T15:28:36.003Z"
   },
   {
    "duration": 12150,
    "start_time": "2022-03-31T15:28:36.115Z"
   },
   {
    "duration": 39,
    "start_time": "2022-03-31T15:28:48.267Z"
   },
   {
    "duration": 356,
    "start_time": "2022-03-31T15:28:48.308Z"
   },
   {
    "duration": 6,
    "start_time": "2022-03-31T15:28:48.666Z"
   },
   {
    "duration": 105,
    "start_time": "2022-03-31T15:29:47.514Z"
   },
   {
    "duration": 130,
    "start_time": "2022-03-31T15:29:50.025Z"
   },
   {
    "duration": 81,
    "start_time": "2022-03-31T15:29:51.618Z"
   },
   {
    "duration": 33,
    "start_time": "2022-03-31T15:39:23.198Z"
   },
   {
    "duration": 94,
    "start_time": "2022-03-31T15:40:21.612Z"
   },
   {
    "duration": 98,
    "start_time": "2022-03-31T15:40:48.306Z"
   },
   {
    "duration": 32,
    "start_time": "2022-03-31T15:41:00.618Z"
   },
   {
    "duration": 9,
    "start_time": "2022-03-31T15:49:56.582Z"
   },
   {
    "duration": 13,
    "start_time": "2022-03-31T15:50:51.268Z"
   },
   {
    "duration": 10,
    "start_time": "2022-03-31T15:50:56.027Z"
   },
   {
    "duration": 188,
    "start_time": "2022-03-31T15:50:57.442Z"
   },
   {
    "duration": 16,
    "start_time": "2022-03-31T15:50:58.596Z"
   },
   {
    "duration": 17,
    "start_time": "2022-03-31T15:51:53.832Z"
   },
   {
    "duration": 16,
    "start_time": "2022-03-31T15:52:26.286Z"
   },
   {
    "duration": 143,
    "start_time": "2022-03-31T15:52:30.271Z"
   },
   {
    "duration": 17,
    "start_time": "2022-03-31T15:52:31.063Z"
   },
   {
    "duration": 16,
    "start_time": "2022-03-31T15:53:26.261Z"
   },
   {
    "duration": 15,
    "start_time": "2022-03-31T15:53:45.779Z"
   },
   {
    "duration": 105,
    "start_time": "2022-03-31T15:53:50.924Z"
   },
   {
    "duration": 14,
    "start_time": "2022-03-31T15:53:51.818Z"
   },
   {
    "duration": 130,
    "start_time": "2022-03-31T15:53:54.282Z"
   },
   {
    "duration": 13,
    "start_time": "2022-03-31T15:53:55.147Z"
   },
   {
    "duration": 13,
    "start_time": "2022-03-31T15:54:07.730Z"
   },
   {
    "duration": 14,
    "start_time": "2022-03-31T15:54:20.153Z"
   },
   {
    "duration": 136,
    "start_time": "2022-03-31T15:54:24.465Z"
   },
   {
    "duration": 14,
    "start_time": "2022-03-31T15:54:25.272Z"
   },
   {
    "duration": 109,
    "start_time": "2022-03-31T15:54:27.785Z"
   },
   {
    "duration": 12,
    "start_time": "2022-03-31T15:54:28.554Z"
   },
   {
    "duration": 82,
    "start_time": "2022-03-31T15:54:52.920Z"
   },
   {
    "duration": 14,
    "start_time": "2022-03-31T15:54:54.360Z"
   },
   {
    "duration": 109,
    "start_time": "2022-03-31T15:56:05.252Z"
   },
   {
    "duration": 16,
    "start_time": "2022-03-31T15:56:07.164Z"
   },
   {
    "duration": 133,
    "start_time": "2022-03-31T15:56:09.037Z"
   },
   {
    "duration": 14,
    "start_time": "2022-03-31T15:56:10.756Z"
   },
   {
    "duration": 85,
    "start_time": "2022-03-31T15:56:11.955Z"
   },
   {
    "duration": 14,
    "start_time": "2022-03-31T15:56:12.948Z"
   },
   {
    "duration": 1561,
    "start_time": "2022-03-31T16:16:11.894Z"
   },
   {
    "duration": 49,
    "start_time": "2022-03-31T16:16:13.457Z"
   },
   {
    "duration": 4,
    "start_time": "2022-03-31T16:16:13.508Z"
   },
   {
    "duration": 33,
    "start_time": "2022-03-31T16:16:13.514Z"
   },
   {
    "duration": 57,
    "start_time": "2022-03-31T16:16:13.548Z"
   },
   {
    "duration": 8,
    "start_time": "2022-03-31T16:16:13.607Z"
   },
   {
    "duration": 27,
    "start_time": "2022-03-31T16:16:13.617Z"
   },
   {
    "duration": 26,
    "start_time": "2022-03-31T16:16:13.646Z"
   },
   {
    "duration": 25,
    "start_time": "2022-03-31T16:16:13.674Z"
   },
   {
    "duration": 30,
    "start_time": "2022-03-31T16:16:13.702Z"
   },
   {
    "duration": 27,
    "start_time": "2022-03-31T16:16:13.734Z"
   },
   {
    "duration": 25,
    "start_time": "2022-03-31T16:16:13.763Z"
   },
   {
    "duration": 38,
    "start_time": "2022-03-31T16:16:13.790Z"
   },
   {
    "duration": 31,
    "start_time": "2022-03-31T16:16:13.830Z"
   },
   {
    "duration": 5,
    "start_time": "2022-03-31T16:16:13.863Z"
   },
   {
    "duration": 148,
    "start_time": "2022-03-31T16:16:13.870Z"
   },
   {
    "duration": 19952,
    "start_time": "2022-03-31T16:16:14.020Z"
   },
   {
    "duration": 32,
    "start_time": "2022-03-31T16:16:33.974Z"
   },
   {
    "duration": 353,
    "start_time": "2022-03-31T16:16:34.008Z"
   },
   {
    "duration": 6,
    "start_time": "2022-03-31T16:16:34.362Z"
   },
   {
    "duration": 152,
    "start_time": "2022-03-31T16:16:34.370Z"
   },
   {
    "duration": 19002,
    "start_time": "2022-03-31T16:16:34.523Z"
   },
   {
    "duration": 76,
    "start_time": "2022-03-31T16:16:53.526Z"
   },
   {
    "duration": 298,
    "start_time": "2022-03-31T16:16:53.605Z"
   },
   {
    "duration": 6,
    "start_time": "2022-03-31T16:16:53.904Z"
   },
   {
    "duration": 10,
    "start_time": "2022-03-31T16:16:53.912Z"
   },
   {
    "duration": 5,
    "start_time": "2022-03-31T16:16:53.923Z"
   },
   {
    "duration": 205,
    "start_time": "2022-03-31T16:16:53.931Z"
   },
   {
    "duration": 29,
    "start_time": "2022-03-31T16:16:54.138Z"
   },
   {
    "duration": 25441,
    "start_time": "2022-03-31T16:16:54.169Z"
   },
   {
    "duration": 25,
    "start_time": "2022-03-31T16:17:19.612Z"
   },
   {
    "duration": 99,
    "start_time": "2022-03-31T16:17:19.703Z"
   },
   {
    "duration": 323,
    "start_time": "2022-03-31T16:17:19.805Z"
   },
   {
    "duration": 6,
    "start_time": "2022-03-31T16:17:20.130Z"
   },
   {
    "duration": 12,
    "start_time": "2022-03-31T16:17:20.138Z"
   },
   {
    "duration": 5,
    "start_time": "2022-03-31T16:17:20.151Z"
   },
   {
    "duration": 131,
    "start_time": "2022-03-31T16:17:20.158Z"
   },
   {
    "duration": 11937,
    "start_time": "2022-03-31T16:17:20.291Z"
   },
   {
    "duration": 73,
    "start_time": "2022-03-31T16:17:32.230Z"
   },
   {
    "duration": 359,
    "start_time": "2022-03-31T16:17:32.305Z"
   },
   {
    "duration": 6,
    "start_time": "2022-03-31T16:17:32.666Z"
   },
   {
    "duration": 120,
    "start_time": "2022-03-31T16:17:32.674Z"
   },
   {
    "duration": 16,
    "start_time": "2022-03-31T16:17:32.796Z"
   },
   {
    "duration": 161,
    "start_time": "2022-03-31T16:17:32.814Z"
   },
   {
    "duration": 13,
    "start_time": "2022-03-31T16:17:32.977Z"
   },
   {
    "duration": 90,
    "start_time": "2022-03-31T16:17:32.992Z"
   },
   {
    "duration": 23,
    "start_time": "2022-03-31T16:17:33.084Z"
   },
   {
    "duration": 7,
    "start_time": "2022-03-31T16:17:57.255Z"
   },
   {
    "duration": 108,
    "start_time": "2022-03-31T16:20:03.368Z"
   },
   {
    "duration": 7,
    "start_time": "2022-03-31T16:20:04.777Z"
   },
   {
    "duration": 135,
    "start_time": "2022-03-31T16:29:58.795Z"
   },
   {
    "duration": 14,
    "start_time": "2022-03-31T16:29:59.603Z"
   },
   {
    "duration": 7,
    "start_time": "2022-03-31T16:30:00.794Z"
   },
   {
    "duration": 82,
    "start_time": "2022-03-31T16:30:25.938Z"
   },
   {
    "duration": 16,
    "start_time": "2022-03-31T16:30:26.745Z"
   },
   {
    "duration": 7,
    "start_time": "2022-03-31T16:30:27.761Z"
   },
   {
    "duration": 1576,
    "start_time": "2022-03-31T16:39:57.237Z"
   },
   {
    "duration": 50,
    "start_time": "2022-03-31T16:39:58.815Z"
   },
   {
    "duration": 4,
    "start_time": "2022-03-31T16:39:58.866Z"
   },
   {
    "duration": 14,
    "start_time": "2022-03-31T16:39:58.872Z"
   },
   {
    "duration": 40,
    "start_time": "2022-03-31T16:39:58.887Z"
   },
   {
    "duration": 7,
    "start_time": "2022-03-31T16:39:58.929Z"
   },
   {
    "duration": 8,
    "start_time": "2022-03-31T16:39:58.938Z"
   },
   {
    "duration": 8,
    "start_time": "2022-03-31T16:39:58.947Z"
   },
   {
    "duration": 4,
    "start_time": "2022-03-31T16:39:58.957Z"
   },
   {
    "duration": 5,
    "start_time": "2022-03-31T16:39:59.001Z"
   },
   {
    "duration": 5,
    "start_time": "2022-03-31T16:39:59.008Z"
   },
   {
    "duration": 5,
    "start_time": "2022-03-31T16:39:59.014Z"
   },
   {
    "duration": 17,
    "start_time": "2022-03-31T16:39:59.020Z"
   },
   {
    "duration": 27,
    "start_time": "2022-03-31T16:39:59.039Z"
   },
   {
    "duration": 35,
    "start_time": "2022-03-31T16:39:59.067Z"
   },
   {
    "duration": 165,
    "start_time": "2022-03-31T16:39:59.104Z"
   },
   {
    "duration": 20050,
    "start_time": "2022-03-31T16:39:59.271Z"
   },
   {
    "duration": 83,
    "start_time": "2022-03-31T16:40:19.323Z"
   },
   {
    "duration": 265,
    "start_time": "2022-03-31T16:40:19.409Z"
   },
   {
    "duration": 7,
    "start_time": "2022-03-31T16:40:19.675Z"
   },
   {
    "duration": 164,
    "start_time": "2022-03-31T16:40:19.684Z"
   },
   {
    "duration": 20129,
    "start_time": "2022-03-31T16:40:19.850Z"
   },
   {
    "duration": 28,
    "start_time": "2022-03-31T16:40:39.981Z"
   },
   {
    "duration": 389,
    "start_time": "2022-03-31T16:40:40.012Z"
   },
   {
    "duration": 7,
    "start_time": "2022-03-31T16:40:40.403Z"
   },
   {
    "duration": 10,
    "start_time": "2022-03-31T16:40:40.412Z"
   },
   {
    "duration": 4,
    "start_time": "2022-03-31T16:40:40.424Z"
   },
   {
    "duration": 215,
    "start_time": "2022-03-31T16:40:40.431Z"
   },
   {
    "duration": 30,
    "start_time": "2022-03-31T16:40:40.647Z"
   },
   {
    "duration": 25175,
    "start_time": "2022-03-31T16:40:40.679Z"
   },
   {
    "duration": 48,
    "start_time": "2022-03-31T16:41:05.856Z"
   },
   {
    "duration": 97,
    "start_time": "2022-03-31T16:41:05.906Z"
   },
   {
    "duration": 331,
    "start_time": "2022-03-31T16:41:06.005Z"
   },
   {
    "duration": 7,
    "start_time": "2022-03-31T16:41:06.338Z"
   },
   {
    "duration": 12,
    "start_time": "2022-03-31T16:41:06.347Z"
   },
   {
    "duration": 5,
    "start_time": "2022-03-31T16:41:06.360Z"
   },
   {
    "duration": 124,
    "start_time": "2022-03-31T16:41:06.367Z"
   },
   {
    "duration": 12388,
    "start_time": "2022-03-31T16:41:06.502Z"
   },
   {
    "duration": 113,
    "start_time": "2022-03-31T16:41:18.892Z"
   },
   {
    "duration": 284,
    "start_time": "2022-03-31T16:41:19.007Z"
   },
   {
    "duration": 12,
    "start_time": "2022-03-31T16:41:19.293Z"
   },
   {
    "duration": 132,
    "start_time": "2022-03-31T16:41:19.308Z"
   },
   {
    "duration": 17,
    "start_time": "2022-03-31T16:41:19.442Z"
   },
   {
    "duration": 8,
    "start_time": "2022-03-31T16:41:19.461Z"
   },
   {
    "duration": 230,
    "start_time": "2022-03-31T16:41:19.471Z"
   },
   {
    "duration": 21,
    "start_time": "2022-03-31T16:41:19.704Z"
   },
   {
    "duration": 10,
    "start_time": "2022-03-31T16:41:19.727Z"
   },
   {
    "duration": 113,
    "start_time": "2022-03-31T16:41:19.739Z"
   },
   {
    "duration": 15,
    "start_time": "2022-03-31T16:41:19.854Z"
   },
   {
    "duration": 7,
    "start_time": "2022-03-31T16:41:19.871Z"
   },
   {
    "duration": 104,
    "start_time": "2022-03-31T17:23:20.855Z"
   },
   {
    "duration": 113,
    "start_time": "2022-03-31T17:24:03.355Z"
   },
   {
    "duration": 108,
    "start_time": "2022-03-31T17:24:20.181Z"
   },
   {
    "duration": 169,
    "start_time": "2022-03-31T17:24:47.565Z"
   }
  ],
  "kernelspec": {
   "display_name": "Python 3",
   "language": "python",
   "name": "python3"
  },
  "language_info": {
   "codemirror_mode": {
    "name": "ipython",
    "version": 3
   },
   "file_extension": ".py",
   "mimetype": "text/x-python",
   "name": "python",
   "nbconvert_exporter": "python",
   "pygments_lexer": "ipython3",
   "version": "3.8.8"
  },
  "toc": {
   "base_numbering": 1,
   "nav_menu": {},
   "number_sections": true,
   "sideBar": true,
   "skip_h1_title": true,
   "title_cell": "Содержание",
   "title_sidebar": "Contents",
   "toc_cell": true,
   "toc_position": {
    "height": "calc(100% - 180px)",
    "left": "10px",
    "top": "150px",
    "width": "165px"
   },
   "toc_section_display": true,
   "toc_window_display": false
  }
 },
 "nbformat": 4,
 "nbformat_minor": 2
}
