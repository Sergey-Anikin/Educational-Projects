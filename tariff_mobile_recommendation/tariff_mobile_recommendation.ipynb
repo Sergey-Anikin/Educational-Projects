{
 "cells": [
  {
   "cell_type": "markdown",
   "metadata": {},
   "source": [
    "# Определение перспективного тарифа для телеком-компании\n",
    "\n",
    "Клиентам предлагают два тарифных плана: «Смарт» и «Ультра». Чтобы скорректировать рекламный бюджет, коммерческий департамент хочет понять, какой тариф приносит больше денег.\n",
    "\n",
    "Предстоит сделать предварительный анализ тарифов на небольшой выборке клиентов. В нашем распоряжении данные 500 пользователей: кто они, откуда, каким тарифом пользуются, сколько звонков и сообщений каждый отправил за 2018 год. Нужно проанализировать поведение клиентов и сделать вывод — какой тариф лучше."
   ]
  },
  {
   "cell_type": "markdown",
   "metadata": {},
   "source": [
    "# Примечание:\n",
    "\n",
    "Примечание:\n",
    "Оператор всегда округляет секунды до минут, а мегабайты — до гигабайт. Каждый звонок округляется отдельно: даже если он длился всего 1 секунду, будет засчитан как 1 минута.\n",
    "\n",
    "Для веб-трафика отдельные сессии не считаются. Вместо этого общая сумма за месяц округляется в бо́льшую сторону. Если абонент использует 1025 мегабайт в этом месяце, с него возьмут плату за 2 гигабайта."
   ]
  },
  {
   "cell_type": "markdown",
   "metadata": {},
   "source": [
    "**Перечень задач:**\n",
    "\n",
    "*    Изучить общую информацию: Информация о звонках, интернет-сессиях, сообщениях, тарифах, пользователях.\n",
    "*    Посчитайте для каждого пользователя: количество сделанных звонков и израсходованных минут разговора по месяцам; количество отправленных сообщений по месяцам; объем израсходованного интернет-трафика по месяцам; помесячную выручку с каждого пользователя.\n",
    "*    Проанализировать данные: описать поведение клиентов оператора, исходя из выборки; cколько минут разговора, сколько сообщений и какой объём интернет-трафика требуется пользователям каждого тарифа в месяц; посчитать среднее количество, дисперсию и стандартное отклонение; построить гистограммы, описать распределения.\n",
    "*    Проверить гипотезы: 1. средняя выручка пользователей тарифов «Ультра» и «Смарт» различаются; 2. средняя выручка пользователей из Москвы отличается от выручки пользователей из других регионов.\n",
    "*    Общий вывод. В какой тариф следует вложить рекламный бюджет?\n"
   ]
  },
  {
   "cell_type": "markdown",
   "metadata": {},
   "source": [
    "##  Знакомство с данными и изучение общей информации"
   ]
  },
  {
   "cell_type": "code",
   "execution_count": 1,
   "metadata": {},
   "outputs": [],
   "source": [
    "import pandas as pd # импорт библиотеки pandas\n",
    "import numpy as np # импорт библиотеки numpy\n",
    "import matplotlib.pyplot as plt # импорт библиотеки matplotlib\n",
    "from scipy import stats as st # импорт библиотеки stats"
   ]
  },
  {
   "cell_type": "markdown",
   "metadata": {},
   "source": [
    "### Информация о звонках"
   ]
  },
  {
   "cell_type": "code",
   "execution_count": 2,
   "metadata": {},
   "outputs": [
    {
     "name": "stdout",
     "output_type": "stream",
     "text": [
      "<class 'pandas.core.frame.DataFrame'>\n",
      "RangeIndex: 202607 entries, 0 to 202606\n",
      "Data columns (total 4 columns):\n",
      " #   Column     Non-Null Count   Dtype  \n",
      "---  ------     --------------   -----  \n",
      " 0   id         202607 non-null  object \n",
      " 1   call_date  202607 non-null  object \n",
      " 2   duration   202607 non-null  float64\n",
      " 3   user_id    202607 non-null  int64  \n",
      "dtypes: float64(1), int64(1), object(2)\n",
      "memory usage: 6.2+ MB\n",
      "None\n"
     ]
    },
    {
     "data": {
      "text/html": [
       "<div>\n",
       "<style scoped>\n",
       "    .dataframe tbody tr th:only-of-type {\n",
       "        vertical-align: middle;\n",
       "    }\n",
       "\n",
       "    .dataframe tbody tr th {\n",
       "        vertical-align: top;\n",
       "    }\n",
       "\n",
       "    .dataframe thead th {\n",
       "        text-align: right;\n",
       "    }\n",
       "</style>\n",
       "<table border=\"1\" class=\"dataframe\">\n",
       "  <thead>\n",
       "    <tr style=\"text-align: right;\">\n",
       "      <th></th>\n",
       "      <th>id</th>\n",
       "      <th>call_date</th>\n",
       "      <th>duration</th>\n",
       "      <th>user_id</th>\n",
       "    </tr>\n",
       "  </thead>\n",
       "  <tbody>\n",
       "    <tr>\n",
       "      <th>0</th>\n",
       "      <td>1000_0</td>\n",
       "      <td>2018-07-25</td>\n",
       "      <td>0.00</td>\n",
       "      <td>1000</td>\n",
       "    </tr>\n",
       "    <tr>\n",
       "      <th>1</th>\n",
       "      <td>1000_1</td>\n",
       "      <td>2018-08-17</td>\n",
       "      <td>0.00</td>\n",
       "      <td>1000</td>\n",
       "    </tr>\n",
       "    <tr>\n",
       "      <th>2</th>\n",
       "      <td>1000_2</td>\n",
       "      <td>2018-06-11</td>\n",
       "      <td>2.85</td>\n",
       "      <td>1000</td>\n",
       "    </tr>\n",
       "    <tr>\n",
       "      <th>3</th>\n",
       "      <td>1000_3</td>\n",
       "      <td>2018-09-21</td>\n",
       "      <td>13.80</td>\n",
       "      <td>1000</td>\n",
       "    </tr>\n",
       "    <tr>\n",
       "      <th>4</th>\n",
       "      <td>1000_4</td>\n",
       "      <td>2018-12-15</td>\n",
       "      <td>5.18</td>\n",
       "      <td>1000</td>\n",
       "    </tr>\n",
       "  </tbody>\n",
       "</table>\n",
       "</div>"
      ],
      "text/plain": [
       "       id   call_date  duration  user_id\n",
       "0  1000_0  2018-07-25      0.00     1000\n",
       "1  1000_1  2018-08-17      0.00     1000\n",
       "2  1000_2  2018-06-11      2.85     1000\n",
       "3  1000_3  2018-09-21     13.80     1000\n",
       "4  1000_4  2018-12-15      5.18     1000"
      ]
     },
     "execution_count": 2,
     "metadata": {},
     "output_type": "execute_result"
    }
   ],
   "source": [
    "calls = pd.read_csv('***.csv') # чтение файла с данными и сохранение в переменной calls\n",
    "print(calls.info()) # общая информация\n",
    "calls.head() # вывод первых 5 строк"
   ]
  },
  {
   "cell_type": "markdown",
   "metadata": {},
   "source": [
    "Таблица calls (информация о звонках):\n",
    "\n",
    "*    `id` — уникальный номер звонка\n",
    "*    `call_date` — дата звонка\n",
    "*    `duration` — длительность звонка в минутах\n",
    "*    `user_id` — идентификатор пользователя, сделавшего звонок\n",
    "\n",
    "Пропущенных значений нет. Есть звонки с нулевой продолжительностью. Это не ошибка: нулями обозначены пропущенные звонки, поэтому их не нужно удалять. Других проблем в данных нет. Далее необходимо будет округлить звонки до минут в бо́льшую сторону, так как Оператор всегда округляет секунды до минут. "
   ]
  },
  {
   "cell_type": "markdown",
   "metadata": {},
   "source": [
    "### Информация об интернет-сессиях"
   ]
  },
  {
   "cell_type": "code",
   "execution_count": 3,
   "metadata": {},
   "outputs": [
    {
     "name": "stdout",
     "output_type": "stream",
     "text": [
      "<class 'pandas.core.frame.DataFrame'>\n",
      "RangeIndex: 149396 entries, 0 to 149395\n",
      "Data columns (total 5 columns):\n",
      " #   Column        Non-Null Count   Dtype  \n",
      "---  ------        --------------   -----  \n",
      " 0   Unnamed: 0    149396 non-null  int64  \n",
      " 1   id            149396 non-null  object \n",
      " 2   mb_used       149396 non-null  float64\n",
      " 3   session_date  149396 non-null  object \n",
      " 4   user_id       149396 non-null  int64  \n",
      "dtypes: float64(1), int64(2), object(2)\n",
      "memory usage: 5.7+ MB\n",
      "None\n"
     ]
    },
    {
     "data": {
      "text/html": [
       "<div>\n",
       "<style scoped>\n",
       "    .dataframe tbody tr th:only-of-type {\n",
       "        vertical-align: middle;\n",
       "    }\n",
       "\n",
       "    .dataframe tbody tr th {\n",
       "        vertical-align: top;\n",
       "    }\n",
       "\n",
       "    .dataframe thead th {\n",
       "        text-align: right;\n",
       "    }\n",
       "</style>\n",
       "<table border=\"1\" class=\"dataframe\">\n",
       "  <thead>\n",
       "    <tr style=\"text-align: right;\">\n",
       "      <th></th>\n",
       "      <th>Unnamed: 0</th>\n",
       "      <th>id</th>\n",
       "      <th>mb_used</th>\n",
       "      <th>session_date</th>\n",
       "      <th>user_id</th>\n",
       "    </tr>\n",
       "  </thead>\n",
       "  <tbody>\n",
       "    <tr>\n",
       "      <th>0</th>\n",
       "      <td>0</td>\n",
       "      <td>1000_0</td>\n",
       "      <td>112.95</td>\n",
       "      <td>2018-11-25</td>\n",
       "      <td>1000</td>\n",
       "    </tr>\n",
       "    <tr>\n",
       "      <th>1</th>\n",
       "      <td>1</td>\n",
       "      <td>1000_1</td>\n",
       "      <td>1052.81</td>\n",
       "      <td>2018-09-07</td>\n",
       "      <td>1000</td>\n",
       "    </tr>\n",
       "    <tr>\n",
       "      <th>2</th>\n",
       "      <td>2</td>\n",
       "      <td>1000_2</td>\n",
       "      <td>1197.26</td>\n",
       "      <td>2018-06-25</td>\n",
       "      <td>1000</td>\n",
       "    </tr>\n",
       "    <tr>\n",
       "      <th>3</th>\n",
       "      <td>3</td>\n",
       "      <td>1000_3</td>\n",
       "      <td>550.27</td>\n",
       "      <td>2018-08-22</td>\n",
       "      <td>1000</td>\n",
       "    </tr>\n",
       "    <tr>\n",
       "      <th>4</th>\n",
       "      <td>4</td>\n",
       "      <td>1000_4</td>\n",
       "      <td>302.56</td>\n",
       "      <td>2018-09-24</td>\n",
       "      <td>1000</td>\n",
       "    </tr>\n",
       "  </tbody>\n",
       "</table>\n",
       "</div>"
      ],
      "text/plain": [
       "   Unnamed: 0      id  mb_used session_date  user_id\n",
       "0           0  1000_0   112.95   2018-11-25     1000\n",
       "1           1  1000_1  1052.81   2018-09-07     1000\n",
       "2           2  1000_2  1197.26   2018-06-25     1000\n",
       "3           3  1000_3   550.27   2018-08-22     1000\n",
       "4           4  1000_4   302.56   2018-09-24     1000"
      ]
     },
     "execution_count": 3,
     "metadata": {},
     "output_type": "execute_result"
    }
   ],
   "source": [
    "internet = pd.read_csv('***.csv') # чтение файла с данными и сохранение в переменной internet\n",
    "print(internet.info()) # общая информация\n",
    "internet.head() # вывод первых 5 строк"
   ]
  },
  {
   "cell_type": "markdown",
   "metadata": {},
   "source": [
    "Таблица internet (информация об интернет-сессиях):\n",
    "\n",
    "*    `id` — уникальный номер сессии\n",
    "*    `mb_used` — объём потраченного за сессию интернет-трафика (в мегабайтах)\n",
    "*    `session_date` — дата интернет-сессии\n",
    "*    `user_id` — идентификатор пользователя\n",
    "    \n",
    "Пропущенных значений нет. Датафрейм содержит колонку 'Unnamed:0', которая возникает, когда данные сохраняют с указанием индекса pd.DataFrame().to_csv(..., index=column)."
   ]
  },
  {
   "cell_type": "markdown",
   "metadata": {},
   "source": [
    "### Информация о сообщениях"
   ]
  },
  {
   "cell_type": "code",
   "execution_count": 4,
   "metadata": {},
   "outputs": [
    {
     "name": "stdout",
     "output_type": "stream",
     "text": [
      "<class 'pandas.core.frame.DataFrame'>\n",
      "RangeIndex: 123036 entries, 0 to 123035\n",
      "Data columns (total 3 columns):\n",
      " #   Column        Non-Null Count   Dtype \n",
      "---  ------        --------------   ----- \n",
      " 0   id            123036 non-null  object\n",
      " 1   message_date  123036 non-null  object\n",
      " 2   user_id       123036 non-null  int64 \n",
      "dtypes: int64(1), object(2)\n",
      "memory usage: 2.8+ MB\n",
      "None\n"
     ]
    },
    {
     "data": {
      "text/html": [
       "<div>\n",
       "<style scoped>\n",
       "    .dataframe tbody tr th:only-of-type {\n",
       "        vertical-align: middle;\n",
       "    }\n",
       "\n",
       "    .dataframe tbody tr th {\n",
       "        vertical-align: top;\n",
       "    }\n",
       "\n",
       "    .dataframe thead th {\n",
       "        text-align: right;\n",
       "    }\n",
       "</style>\n",
       "<table border=\"1\" class=\"dataframe\">\n",
       "  <thead>\n",
       "    <tr style=\"text-align: right;\">\n",
       "      <th></th>\n",
       "      <th>id</th>\n",
       "      <th>message_date</th>\n",
       "      <th>user_id</th>\n",
       "    </tr>\n",
       "  </thead>\n",
       "  <tbody>\n",
       "    <tr>\n",
       "      <th>0</th>\n",
       "      <td>1000_0</td>\n",
       "      <td>2018-06-27</td>\n",
       "      <td>1000</td>\n",
       "    </tr>\n",
       "    <tr>\n",
       "      <th>1</th>\n",
       "      <td>1000_1</td>\n",
       "      <td>2018-10-08</td>\n",
       "      <td>1000</td>\n",
       "    </tr>\n",
       "    <tr>\n",
       "      <th>2</th>\n",
       "      <td>1000_2</td>\n",
       "      <td>2018-08-04</td>\n",
       "      <td>1000</td>\n",
       "    </tr>\n",
       "    <tr>\n",
       "      <th>3</th>\n",
       "      <td>1000_3</td>\n",
       "      <td>2018-06-16</td>\n",
       "      <td>1000</td>\n",
       "    </tr>\n",
       "    <tr>\n",
       "      <th>4</th>\n",
       "      <td>1000_4</td>\n",
       "      <td>2018-12-05</td>\n",
       "      <td>1000</td>\n",
       "    </tr>\n",
       "  </tbody>\n",
       "</table>\n",
       "</div>"
      ],
      "text/plain": [
       "       id message_date  user_id\n",
       "0  1000_0   2018-06-27     1000\n",
       "1  1000_1   2018-10-08     1000\n",
       "2  1000_2   2018-08-04     1000\n",
       "3  1000_3   2018-06-16     1000\n",
       "4  1000_4   2018-12-05     1000"
      ]
     },
     "execution_count": 4,
     "metadata": {},
     "output_type": "execute_result"
    }
   ],
   "source": [
    "messages = pd.read_csv('***.csv') # чтение файла с данными и сохранение в переменной messages\n",
    "print(messages.info()) # общая информация\n",
    "messages.head() # вывод первых 5 строк"
   ]
  },
  {
   "cell_type": "markdown",
   "metadata": {},
   "source": [
    "Таблица messages (информация о сообщениях):\n",
    "\n",
    "*    `id` — уникальный номер сообщения\n",
    "*    `message_date` — дата сообщения\n",
    "*    `user_id` — идентификатор пользователя, отправившего сообщение\n",
    "\n",
    "Пропущенных значений нет. Других проблем в данных тоже нет."
   ]
  },
  {
   "cell_type": "markdown",
   "metadata": {},
   "source": [
    "### Информация о тарифах"
   ]
  },
  {
   "cell_type": "code",
   "execution_count": 5,
   "metadata": {},
   "outputs": [
    {
     "name": "stdout",
     "output_type": "stream",
     "text": [
      "<class 'pandas.core.frame.DataFrame'>\n",
      "RangeIndex: 2 entries, 0 to 1\n",
      "Data columns (total 8 columns):\n",
      " #   Column                 Non-Null Count  Dtype \n",
      "---  ------                 --------------  ----- \n",
      " 0   messages_included      2 non-null      int64 \n",
      " 1   mb_per_month_included  2 non-null      int64 \n",
      " 2   minutes_included       2 non-null      int64 \n",
      " 3   rub_monthly_fee        2 non-null      int64 \n",
      " 4   rub_per_gb             2 non-null      int64 \n",
      " 5   rub_per_message        2 non-null      int64 \n",
      " 6   rub_per_minute         2 non-null      int64 \n",
      " 7   tariff_name            2 non-null      object\n",
      "dtypes: int64(7), object(1)\n",
      "memory usage: 256.0+ bytes\n",
      "None\n"
     ]
    },
    {
     "data": {
      "text/html": [
       "<div>\n",
       "<style scoped>\n",
       "    .dataframe tbody tr th:only-of-type {\n",
       "        vertical-align: middle;\n",
       "    }\n",
       "\n",
       "    .dataframe tbody tr th {\n",
       "        vertical-align: top;\n",
       "    }\n",
       "\n",
       "    .dataframe thead th {\n",
       "        text-align: right;\n",
       "    }\n",
       "</style>\n",
       "<table border=\"1\" class=\"dataframe\">\n",
       "  <thead>\n",
       "    <tr style=\"text-align: right;\">\n",
       "      <th></th>\n",
       "      <th>messages_included</th>\n",
       "      <th>mb_per_month_included</th>\n",
       "      <th>minutes_included</th>\n",
       "      <th>rub_monthly_fee</th>\n",
       "      <th>rub_per_gb</th>\n",
       "      <th>rub_per_message</th>\n",
       "      <th>rub_per_minute</th>\n",
       "      <th>tariff_name</th>\n",
       "    </tr>\n",
       "  </thead>\n",
       "  <tbody>\n",
       "    <tr>\n",
       "      <th>0</th>\n",
       "      <td>50</td>\n",
       "      <td>15360</td>\n",
       "      <td>500</td>\n",
       "      <td>550</td>\n",
       "      <td>200</td>\n",
       "      <td>3</td>\n",
       "      <td>3</td>\n",
       "      <td>smart</td>\n",
       "    </tr>\n",
       "    <tr>\n",
       "      <th>1</th>\n",
       "      <td>1000</td>\n",
       "      <td>30720</td>\n",
       "      <td>3000</td>\n",
       "      <td>1950</td>\n",
       "      <td>150</td>\n",
       "      <td>1</td>\n",
       "      <td>1</td>\n",
       "      <td>ultra</td>\n",
       "    </tr>\n",
       "  </tbody>\n",
       "</table>\n",
       "</div>"
      ],
      "text/plain": [
       "   messages_included  mb_per_month_included  minutes_included  \\\n",
       "0                 50                  15360               500   \n",
       "1               1000                  30720              3000   \n",
       "\n",
       "   rub_monthly_fee  rub_per_gb  rub_per_message  rub_per_minute tariff_name  \n",
       "0              550         200                3               3       smart  \n",
       "1             1950         150                1               1       ultra  "
      ]
     },
     "execution_count": 5,
     "metadata": {},
     "output_type": "execute_result"
    }
   ],
   "source": [
    "tariffs = pd.read_csv('***.csv') # чтение файла с данными и сохранение в переменной tariffs\n",
    "print(tariffs.info()) # общая информация\n",
    "tariffs # знакомство с тарифами"
   ]
  },
  {
   "cell_type": "markdown",
   "metadata": {},
   "source": [
    "Таблица tariffs (информация о тарифах):\n",
    "\n",
    "*    `tariff_name` — название тарифа\n",
    "*    `rub_monthly_fee` — ежемесячная абонентская плата в рублях\n",
    "*    `minutes_included` — количество минут разговора в месяц, включённых в абонентскую плату\n",
    "*    `messages_included` — количество сообщений в месяц, включённых в абонентскую плату\n",
    "*    `mb_per_month_included` — объём интернет-трафика, включённого в абонентскую плату (в мегабайтах)\n",
    "*    `rub_per_minute` — стоимость минуты разговора сверх тарифного пакета (например, если в тарифе 100 минут разговора в месяц, то со 101 минуты будет взиматься плата)\n",
    "*    `rub_per_message` — стоимость отправки сообщения сверх тарифного пакета\n",
    "*    `rub_per_gb` — стоимость дополнительного гигабайта интернет-трафика сверх тарифного пакета (1 гигабайт = 1024 мегабайта)"
   ]
  },
  {
   "cell_type": "markdown",
   "metadata": {},
   "source": [
    "Тариф «Смарт»\n",
    "\n",
    "    1. Ежемесячная плата: 550 рублей\n",
    "    2. Включено 500 минут разговора, 50 сообщений и 15 Гб интернет-трафика\n",
    "    3. Стоимость услуг сверх тарифного пакета:\n",
    "       - минута разговора: 3 рубля\n",
    "       - сообщение: 3 рубля\n",
    "       - 1 Гб интернет-трафика: 200 рублей\n",
    "\n",
    "Тариф «Ультра»\n",
    "\n",
    "    1. Ежемесячная плата: 1950 рублей\n",
    "    2. Включено 3000 минут разговора, 1000 сообщений и 30 Гб интернет-трафика\n",
    "    3. Стоимость услуг сверх тарифного пакета:\n",
    "       - минута разговора: 1 рубль\n",
    "       - сообщение: 1 рубль\n",
    "       - 1 Гб интернет-трафика: 150 рублей\n",
    "Пропущенных значений нет. Других проблем в данных тоже нет."
   ]
  },
  {
   "cell_type": "markdown",
   "metadata": {},
   "source": [
    "### Информация о пользователях"
   ]
  },
  {
   "cell_type": "code",
   "execution_count": 6,
   "metadata": {
    "scrolled": false
   },
   "outputs": [
    {
     "name": "stdout",
     "output_type": "stream",
     "text": [
      "<class 'pandas.core.frame.DataFrame'>\n",
      "RangeIndex: 500 entries, 0 to 499\n",
      "Data columns (total 8 columns):\n",
      " #   Column      Non-Null Count  Dtype \n",
      "---  ------      --------------  ----- \n",
      " 0   user_id     500 non-null    int64 \n",
      " 1   age         500 non-null    int64 \n",
      " 2   churn_date  38 non-null     object\n",
      " 3   city        500 non-null    object\n",
      " 4   first_name  500 non-null    object\n",
      " 5   last_name   500 non-null    object\n",
      " 6   reg_date    500 non-null    object\n",
      " 7   tariff      500 non-null    object\n",
      "dtypes: int64(2), object(6)\n",
      "memory usage: 31.4+ KB\n",
      "None\n"
     ]
    },
    {
     "data": {
      "text/html": [
       "<div>\n",
       "<style scoped>\n",
       "    .dataframe tbody tr th:only-of-type {\n",
       "        vertical-align: middle;\n",
       "    }\n",
       "\n",
       "    .dataframe tbody tr th {\n",
       "        vertical-align: top;\n",
       "    }\n",
       "\n",
       "    .dataframe thead th {\n",
       "        text-align: right;\n",
       "    }\n",
       "</style>\n",
       "<table border=\"1\" class=\"dataframe\">\n",
       "  <thead>\n",
       "    <tr style=\"text-align: right;\">\n",
       "      <th></th>\n",
       "      <th>user_id</th>\n",
       "      <th>age</th>\n",
       "      <th>churn_date</th>\n",
       "      <th>city</th>\n",
       "      <th>first_name</th>\n",
       "      <th>last_name</th>\n",
       "      <th>reg_date</th>\n",
       "      <th>tariff</th>\n",
       "    </tr>\n",
       "  </thead>\n",
       "  <tbody>\n",
       "    <tr>\n",
       "      <th>0</th>\n",
       "      <td>1000</td>\n",
       "      <td>52</td>\n",
       "      <td>NaN</td>\n",
       "      <td>Краснодар</td>\n",
       "      <td>Рафаил</td>\n",
       "      <td>Верещагин</td>\n",
       "      <td>2018-05-25</td>\n",
       "      <td>ultra</td>\n",
       "    </tr>\n",
       "    <tr>\n",
       "      <th>1</th>\n",
       "      <td>1001</td>\n",
       "      <td>41</td>\n",
       "      <td>NaN</td>\n",
       "      <td>Москва</td>\n",
       "      <td>Иван</td>\n",
       "      <td>Ежов</td>\n",
       "      <td>2018-11-01</td>\n",
       "      <td>smart</td>\n",
       "    </tr>\n",
       "    <tr>\n",
       "      <th>2</th>\n",
       "      <td>1002</td>\n",
       "      <td>59</td>\n",
       "      <td>NaN</td>\n",
       "      <td>Стерлитамак</td>\n",
       "      <td>Евгений</td>\n",
       "      <td>Абрамович</td>\n",
       "      <td>2018-06-17</td>\n",
       "      <td>smart</td>\n",
       "    </tr>\n",
       "    <tr>\n",
       "      <th>3</th>\n",
       "      <td>1003</td>\n",
       "      <td>23</td>\n",
       "      <td>NaN</td>\n",
       "      <td>Москва</td>\n",
       "      <td>Белла</td>\n",
       "      <td>Белякова</td>\n",
       "      <td>2018-08-17</td>\n",
       "      <td>ultra</td>\n",
       "    </tr>\n",
       "    <tr>\n",
       "      <th>4</th>\n",
       "      <td>1004</td>\n",
       "      <td>68</td>\n",
       "      <td>NaN</td>\n",
       "      <td>Новокузнецк</td>\n",
       "      <td>Татьяна</td>\n",
       "      <td>Авдеенко</td>\n",
       "      <td>2018-05-14</td>\n",
       "      <td>ultra</td>\n",
       "    </tr>\n",
       "  </tbody>\n",
       "</table>\n",
       "</div>"
      ],
      "text/plain": [
       "   user_id  age churn_date         city first_name  last_name    reg_date  \\\n",
       "0     1000   52        NaN    Краснодар     Рафаил  Верещагин  2018-05-25   \n",
       "1     1001   41        NaN       Москва       Иван       Ежов  2018-11-01   \n",
       "2     1002   59        NaN  Стерлитамак    Евгений  Абрамович  2018-06-17   \n",
       "3     1003   23        NaN       Москва      Белла   Белякова  2018-08-17   \n",
       "4     1004   68        NaN  Новокузнецк    Татьяна   Авдеенко  2018-05-14   \n",
       "\n",
       "  tariff  \n",
       "0  ultra  \n",
       "1  smart  \n",
       "2  smart  \n",
       "3  ultra  \n",
       "4  ultra  "
      ]
     },
     "execution_count": 6,
     "metadata": {},
     "output_type": "execute_result"
    }
   ],
   "source": [
    "users = pd.read_csv('***.csv') # чтение файла с данными и сохранение в переменной users\n",
    "print(users.info()) # общая информация\n",
    "users.head() # вывод первых 5 строк"
   ]
  },
  {
   "cell_type": "markdown",
   "metadata": {},
   "source": [
    "Таблица users (информация о пользователях):\n",
    "\n",
    "*    `user_id` — уникальный идентификатор пользователя\n",
    "*    `first_name` — имя пользователя\n",
    "*    `last_name` — фамилия пользователя\n",
    "*    `age` — возраст пользователя (годы)\n",
    "*    `reg_date` — дата подключения тарифа (день, месяц, год)\n",
    "*    `churn_date` — дата прекращения пользования тарифом\n",
    "*    `city` — город проживания пользователя\n",
    "*    `tariff` — название тарифного плана\n",
    "\n",
    "Есть пропущенные значения в колонке `churn_date`. Это значит тариф ещё действовал на момент выгрузки данных."
   ]
  },
  {
   "cell_type": "markdown",
   "metadata": {},
   "source": [
    "**Вывод:**"
   ]
  },
  {
   "cell_type": "markdown",
   "metadata": {},
   "source": [
    "В исследовании дано 5 таблиц, с информацией о клиентах, тарифах, звонках, смс и интернет-трафике. Этих данных достаточно для проведения исследования. Есть уникальный идентификатор пользователя, по которому можно объединять данные. Есть небольшая проблема с таблицей интернет-трафика.\n",
    "\n",
    "Для дальнейшего исследования необходимо объединить данные из разных таблиц."
   ]
  },
  {
   "cell_type": "markdown",
   "metadata": {},
   "source": [
    "## Подготовка данных."
   ]
  },
  {
   "cell_type": "markdown",
   "metadata": {},
   "source": [
    "### Исправление ошибок в данных"
   ]
  },
  {
   "cell_type": "code",
   "execution_count": 7,
   "metadata": {},
   "outputs": [
    {
     "data": {
      "text/html": [
       "<div>\n",
       "<style scoped>\n",
       "    .dataframe tbody tr th:only-of-type {\n",
       "        vertical-align: middle;\n",
       "    }\n",
       "\n",
       "    .dataframe tbody tr th {\n",
       "        vertical-align: top;\n",
       "    }\n",
       "\n",
       "    .dataframe thead th {\n",
       "        text-align: right;\n",
       "    }\n",
       "</style>\n",
       "<table border=\"1\" class=\"dataframe\">\n",
       "  <thead>\n",
       "    <tr style=\"text-align: right;\">\n",
       "      <th></th>\n",
       "      <th>id</th>\n",
       "      <th>mb_used</th>\n",
       "      <th>session_date</th>\n",
       "      <th>user_id</th>\n",
       "    </tr>\n",
       "  </thead>\n",
       "  <tbody>\n",
       "    <tr>\n",
       "      <th>0</th>\n",
       "      <td>1000_0</td>\n",
       "      <td>112.95</td>\n",
       "      <td>2018-11-25</td>\n",
       "      <td>1000</td>\n",
       "    </tr>\n",
       "    <tr>\n",
       "      <th>1</th>\n",
       "      <td>1000_1</td>\n",
       "      <td>1052.81</td>\n",
       "      <td>2018-09-07</td>\n",
       "      <td>1000</td>\n",
       "    </tr>\n",
       "    <tr>\n",
       "      <th>2</th>\n",
       "      <td>1000_2</td>\n",
       "      <td>1197.26</td>\n",
       "      <td>2018-06-25</td>\n",
       "      <td>1000</td>\n",
       "    </tr>\n",
       "    <tr>\n",
       "      <th>3</th>\n",
       "      <td>1000_3</td>\n",
       "      <td>550.27</td>\n",
       "      <td>2018-08-22</td>\n",
       "      <td>1000</td>\n",
       "    </tr>\n",
       "    <tr>\n",
       "      <th>4</th>\n",
       "      <td>1000_4</td>\n",
       "      <td>302.56</td>\n",
       "      <td>2018-09-24</td>\n",
       "      <td>1000</td>\n",
       "    </tr>\n",
       "  </tbody>\n",
       "</table>\n",
       "</div>"
      ],
      "text/plain": [
       "       id  mb_used session_date  user_id\n",
       "0  1000_0   112.95   2018-11-25     1000\n",
       "1  1000_1  1052.81   2018-09-07     1000\n",
       "2  1000_2  1197.26   2018-06-25     1000\n",
       "3  1000_3   550.27   2018-08-22     1000\n",
       "4  1000_4   302.56   2018-09-24     1000"
      ]
     },
     "execution_count": 7,
     "metadata": {},
     "output_type": "execute_result"
    }
   ],
   "source": [
    "internet = pd.read_csv('***.csv', index_col=0) # Правка столбца 'Unnamed: 0'\n",
    "internet.head()"
   ]
  },
  {
   "cell_type": "markdown",
   "metadata": {},
   "source": [
    "Поправил столбец 'Unnamed: 0', других ошибок не обнаружено."
   ]
  },
  {
   "cell_type": "markdown",
   "metadata": {},
   "source": [
    "### Приведение к нужным типам."
   ]
  },
  {
   "cell_type": "code",
   "execution_count": 8,
   "metadata": {},
   "outputs": [],
   "source": [
    "calls['duration'] = np.ceil(calls['duration']).astype('int64') # округление до минут в большую сторону, перевод в  целые числа"
   ]
  },
  {
   "cell_type": "markdown",
   "metadata": {},
   "source": [
    "Данные с длительностью звонков округлены в большую сторону и переведены в целые числа."
   ]
  },
  {
   "cell_type": "markdown",
   "metadata": {},
   "source": [
    "### Количество сделанных звонков и израсходованных минут разговора по месяцам"
   ]
  },
  {
   "cell_type": "code",
   "execution_count": 9,
   "metadata": {},
   "outputs": [
    {
     "data": {
      "text/html": [
       "<div>\n",
       "<style scoped>\n",
       "    .dataframe tbody tr th:only-of-type {\n",
       "        vertical-align: middle;\n",
       "    }\n",
       "\n",
       "    .dataframe tbody tr th {\n",
       "        vertical-align: top;\n",
       "    }\n",
       "\n",
       "    .dataframe thead th {\n",
       "        text-align: right;\n",
       "    }\n",
       "</style>\n",
       "<table border=\"1\" class=\"dataframe\">\n",
       "  <thead>\n",
       "    <tr style=\"text-align: right;\">\n",
       "      <th></th>\n",
       "      <th>user_id</th>\n",
       "      <th>1</th>\n",
       "      <th>2</th>\n",
       "      <th>3</th>\n",
       "      <th>4</th>\n",
       "      <th>5</th>\n",
       "      <th>6</th>\n",
       "      <th>7</th>\n",
       "      <th>8</th>\n",
       "      <th>9</th>\n",
       "      <th>10</th>\n",
       "      <th>11</th>\n",
       "      <th>12</th>\n",
       "      <th>tariff</th>\n",
       "    </tr>\n",
       "  </thead>\n",
       "  <tbody>\n",
       "    <tr>\n",
       "      <th>0</th>\n",
       "      <td>1000</td>\n",
       "      <td>NaN</td>\n",
       "      <td>NaN</td>\n",
       "      <td>NaN</td>\n",
       "      <td>NaN</td>\n",
       "      <td>22.0</td>\n",
       "      <td>43.0</td>\n",
       "      <td>47.0</td>\n",
       "      <td>52.0</td>\n",
       "      <td>58.0</td>\n",
       "      <td>57.0</td>\n",
       "      <td>43.0</td>\n",
       "      <td>46.0</td>\n",
       "      <td>ultra</td>\n",
       "    </tr>\n",
       "    <tr>\n",
       "      <th>1</th>\n",
       "      <td>1001</td>\n",
       "      <td>NaN</td>\n",
       "      <td>NaN</td>\n",
       "      <td>NaN</td>\n",
       "      <td>NaN</td>\n",
       "      <td>NaN</td>\n",
       "      <td>NaN</td>\n",
       "      <td>NaN</td>\n",
       "      <td>NaN</td>\n",
       "      <td>NaN</td>\n",
       "      <td>NaN</td>\n",
       "      <td>59.0</td>\n",
       "      <td>63.0</td>\n",
       "      <td>smart</td>\n",
       "    </tr>\n",
       "    <tr>\n",
       "      <th>2</th>\n",
       "      <td>1002</td>\n",
       "      <td>NaN</td>\n",
       "      <td>NaN</td>\n",
       "      <td>NaN</td>\n",
       "      <td>NaN</td>\n",
       "      <td>NaN</td>\n",
       "      <td>15.0</td>\n",
       "      <td>26.0</td>\n",
       "      <td>42.0</td>\n",
       "      <td>36.0</td>\n",
       "      <td>33.0</td>\n",
       "      <td>32.0</td>\n",
       "      <td>33.0</td>\n",
       "      <td>smart</td>\n",
       "    </tr>\n",
       "    <tr>\n",
       "      <th>3</th>\n",
       "      <td>1003</td>\n",
       "      <td>NaN</td>\n",
       "      <td>NaN</td>\n",
       "      <td>NaN</td>\n",
       "      <td>NaN</td>\n",
       "      <td>NaN</td>\n",
       "      <td>NaN</td>\n",
       "      <td>NaN</td>\n",
       "      <td>55.0</td>\n",
       "      <td>134.0</td>\n",
       "      <td>108.0</td>\n",
       "      <td>115.0</td>\n",
       "      <td>108.0</td>\n",
       "      <td>ultra</td>\n",
       "    </tr>\n",
       "    <tr>\n",
       "      <th>4</th>\n",
       "      <td>1004</td>\n",
       "      <td>NaN</td>\n",
       "      <td>NaN</td>\n",
       "      <td>NaN</td>\n",
       "      <td>NaN</td>\n",
       "      <td>9.0</td>\n",
       "      <td>31.0</td>\n",
       "      <td>22.0</td>\n",
       "      <td>19.0</td>\n",
       "      <td>26.0</td>\n",
       "      <td>29.0</td>\n",
       "      <td>19.0</td>\n",
       "      <td>21.0</td>\n",
       "      <td>ultra</td>\n",
       "    </tr>\n",
       "    <tr>\n",
       "      <th>...</th>\n",
       "      <td>...</td>\n",
       "      <td>...</td>\n",
       "      <td>...</td>\n",
       "      <td>...</td>\n",
       "      <td>...</td>\n",
       "      <td>...</td>\n",
       "      <td>...</td>\n",
       "      <td>...</td>\n",
       "      <td>...</td>\n",
       "      <td>...</td>\n",
       "      <td>...</td>\n",
       "      <td>...</td>\n",
       "      <td>...</td>\n",
       "      <td>...</td>\n",
       "    </tr>\n",
       "    <tr>\n",
       "      <th>487</th>\n",
       "      <td>1495</td>\n",
       "      <td>NaN</td>\n",
       "      <td>NaN</td>\n",
       "      <td>NaN</td>\n",
       "      <td>NaN</td>\n",
       "      <td>NaN</td>\n",
       "      <td>NaN</td>\n",
       "      <td>NaN</td>\n",
       "      <td>17.0</td>\n",
       "      <td>112.0</td>\n",
       "      <td>152.0</td>\n",
       "      <td>129.0</td>\n",
       "      <td>155.0</td>\n",
       "      <td>ultra</td>\n",
       "    </tr>\n",
       "    <tr>\n",
       "      <th>488</th>\n",
       "      <td>1496</td>\n",
       "      <td>7.0</td>\n",
       "      <td>77.0</td>\n",
       "      <td>79.0</td>\n",
       "      <td>67.0</td>\n",
       "      <td>63.0</td>\n",
       "      <td>74.0</td>\n",
       "      <td>73.0</td>\n",
       "      <td>88.0</td>\n",
       "      <td>68.0</td>\n",
       "      <td>72.0</td>\n",
       "      <td>80.0</td>\n",
       "      <td>80.0</td>\n",
       "      <td>smart</td>\n",
       "    </tr>\n",
       "    <tr>\n",
       "      <th>489</th>\n",
       "      <td>1497</td>\n",
       "      <td>NaN</td>\n",
       "      <td>NaN</td>\n",
       "      <td>NaN</td>\n",
       "      <td>NaN</td>\n",
       "      <td>NaN</td>\n",
       "      <td>NaN</td>\n",
       "      <td>NaN</td>\n",
       "      <td>NaN</td>\n",
       "      <td>NaN</td>\n",
       "      <td>66.0</td>\n",
       "      <td>64.0</td>\n",
       "      <td>71.0</td>\n",
       "      <td>smart</td>\n",
       "    </tr>\n",
       "    <tr>\n",
       "      <th>490</th>\n",
       "      <td>1498</td>\n",
       "      <td>NaN</td>\n",
       "      <td>NaN</td>\n",
       "      <td>NaN</td>\n",
       "      <td>NaN</td>\n",
       "      <td>NaN</td>\n",
       "      <td>NaN</td>\n",
       "      <td>23.0</td>\n",
       "      <td>57.0</td>\n",
       "      <td>59.0</td>\n",
       "      <td>41.0</td>\n",
       "      <td>NaN</td>\n",
       "      <td>NaN</td>\n",
       "      <td>smart</td>\n",
       "    </tr>\n",
       "    <tr>\n",
       "      <th>491</th>\n",
       "      <td>1499</td>\n",
       "      <td>NaN</td>\n",
       "      <td>NaN</td>\n",
       "      <td>NaN</td>\n",
       "      <td>NaN</td>\n",
       "      <td>NaN</td>\n",
       "      <td>NaN</td>\n",
       "      <td>NaN</td>\n",
       "      <td>NaN</td>\n",
       "      <td>9.0</td>\n",
       "      <td>68.0</td>\n",
       "      <td>74.0</td>\n",
       "      <td>69.0</td>\n",
       "      <td>smart</td>\n",
       "    </tr>\n",
       "  </tbody>\n",
       "</table>\n",
       "<p>492 rows × 14 columns</p>\n",
       "</div>"
      ],
      "text/plain": [
       "     user_id    1     2     3     4     5     6     7     8      9     10  \\\n",
       "0       1000  NaN   NaN   NaN   NaN  22.0  43.0  47.0  52.0   58.0   57.0   \n",
       "1       1001  NaN   NaN   NaN   NaN   NaN   NaN   NaN   NaN    NaN    NaN   \n",
       "2       1002  NaN   NaN   NaN   NaN   NaN  15.0  26.0  42.0   36.0   33.0   \n",
       "3       1003  NaN   NaN   NaN   NaN   NaN   NaN   NaN  55.0  134.0  108.0   \n",
       "4       1004  NaN   NaN   NaN   NaN   9.0  31.0  22.0  19.0   26.0   29.0   \n",
       "..       ...  ...   ...   ...   ...   ...   ...   ...   ...    ...    ...   \n",
       "487     1495  NaN   NaN   NaN   NaN   NaN   NaN   NaN  17.0  112.0  152.0   \n",
       "488     1496  7.0  77.0  79.0  67.0  63.0  74.0  73.0  88.0   68.0   72.0   \n",
       "489     1497  NaN   NaN   NaN   NaN   NaN   NaN   NaN   NaN    NaN   66.0   \n",
       "490     1498  NaN   NaN   NaN   NaN   NaN   NaN  23.0  57.0   59.0   41.0   \n",
       "491     1499  NaN   NaN   NaN   NaN   NaN   NaN   NaN   NaN    9.0   68.0   \n",
       "\n",
       "        11     12 tariff  \n",
       "0     43.0   46.0  ultra  \n",
       "1     59.0   63.0  smart  \n",
       "2     32.0   33.0  smart  \n",
       "3    115.0  108.0  ultra  \n",
       "4     19.0   21.0  ultra  \n",
       "..     ...    ...    ...  \n",
       "487  129.0  155.0  ultra  \n",
       "488   80.0   80.0  smart  \n",
       "489   64.0   71.0  smart  \n",
       "490    NaN    NaN  smart  \n",
       "491   74.0   69.0  smart  \n",
       "\n",
       "[492 rows x 14 columns]"
      ]
     },
     "execution_count": 9,
     "metadata": {},
     "output_type": "execute_result"
    }
   ],
   "source": [
    "calls['month'] = pd.to_datetime(calls['call_date'], format='%Y%m%dT').dt.month # добавление столбца с месяцем\n",
    "calls_count = calls.pivot_table(index=['user_id'], values ='id',columns='month',aggfunc='count')\n",
    "# подсчет количества звонков\n",
    "calls_count = calls_count.merge(users[['user_id','tariff']],on='user_id') # добавление столбца с тарифом\n",
    "calls_count"
   ]
  },
  {
   "cell_type": "code",
   "execution_count": 10,
   "metadata": {},
   "outputs": [
    {
     "data": {
      "text/plain": [
       "951"
      ]
     },
     "execution_count": 10,
     "metadata": {},
     "output_type": "execute_result"
    }
   ],
   "source": [
    "# общее количество звонков пользователей тарифа Ультра\n",
    "calls_count[calls_count['tariff']=='ultra'].drop(columns = ['user_id','tariff'], axis = 1).count().sum()"
   ]
  },
  {
   "cell_type": "code",
   "execution_count": 11,
   "metadata": {},
   "outputs": [
    {
     "data": {
      "text/plain": [
       "2223"
      ]
     },
     "execution_count": 11,
     "metadata": {},
     "output_type": "execute_result"
    }
   ],
   "source": [
    "# общее количество звонков пользователей тарифа Смарт\n",
    "calls_count[calls_count['tariff']=='smart'].drop(columns = ['user_id','tariff'], axis = 1).count().sum()"
   ]
  },
  {
   "cell_type": "code",
   "execution_count": 12,
   "metadata": {},
   "outputs": [
    {
     "data": {
      "text/html": [
       "<div>\n",
       "<style scoped>\n",
       "    .dataframe tbody tr th:only-of-type {\n",
       "        vertical-align: middle;\n",
       "    }\n",
       "\n",
       "    .dataframe tbody tr th {\n",
       "        vertical-align: top;\n",
       "    }\n",
       "\n",
       "    .dataframe thead th {\n",
       "        text-align: right;\n",
       "    }\n",
       "</style>\n",
       "<table border=\"1\" class=\"dataframe\">\n",
       "  <thead>\n",
       "    <tr style=\"text-align: right;\">\n",
       "      <th></th>\n",
       "      <th>user_id</th>\n",
       "      <th>1</th>\n",
       "      <th>2</th>\n",
       "      <th>3</th>\n",
       "      <th>4</th>\n",
       "      <th>5</th>\n",
       "      <th>6</th>\n",
       "      <th>7</th>\n",
       "      <th>8</th>\n",
       "      <th>9</th>\n",
       "      <th>10</th>\n",
       "      <th>11</th>\n",
       "      <th>12</th>\n",
       "      <th>tariff</th>\n",
       "    </tr>\n",
       "  </thead>\n",
       "  <tbody>\n",
       "    <tr>\n",
       "      <th>0</th>\n",
       "      <td>1000</td>\n",
       "      <td>0.0</td>\n",
       "      <td>0.0</td>\n",
       "      <td>0.0</td>\n",
       "      <td>0.0</td>\n",
       "      <td>159.0</td>\n",
       "      <td>172.0</td>\n",
       "      <td>340.0</td>\n",
       "      <td>408.0</td>\n",
       "      <td>466.0</td>\n",
       "      <td>350.0</td>\n",
       "      <td>338.0</td>\n",
       "      <td>333.0</td>\n",
       "      <td>ultra</td>\n",
       "    </tr>\n",
       "    <tr>\n",
       "      <th>1</th>\n",
       "      <td>1001</td>\n",
       "      <td>0.0</td>\n",
       "      <td>0.0</td>\n",
       "      <td>0.0</td>\n",
       "      <td>0.0</td>\n",
       "      <td>0.0</td>\n",
       "      <td>0.0</td>\n",
       "      <td>0.0</td>\n",
       "      <td>0.0</td>\n",
       "      <td>0.0</td>\n",
       "      <td>0.0</td>\n",
       "      <td>430.0</td>\n",
       "      <td>414.0</td>\n",
       "      <td>smart</td>\n",
       "    </tr>\n",
       "    <tr>\n",
       "      <th>2</th>\n",
       "      <td>1002</td>\n",
       "      <td>0.0</td>\n",
       "      <td>0.0</td>\n",
       "      <td>0.0</td>\n",
       "      <td>0.0</td>\n",
       "      <td>0.0</td>\n",
       "      <td>117.0</td>\n",
       "      <td>214.0</td>\n",
       "      <td>289.0</td>\n",
       "      <td>206.0</td>\n",
       "      <td>212.0</td>\n",
       "      <td>243.0</td>\n",
       "      <td>236.0</td>\n",
       "      <td>smart</td>\n",
       "    </tr>\n",
       "    <tr>\n",
       "      <th>3</th>\n",
       "      <td>1003</td>\n",
       "      <td>0.0</td>\n",
       "      <td>0.0</td>\n",
       "      <td>0.0</td>\n",
       "      <td>0.0</td>\n",
       "      <td>0.0</td>\n",
       "      <td>0.0</td>\n",
       "      <td>0.0</td>\n",
       "      <td>380.0</td>\n",
       "      <td>961.0</td>\n",
       "      <td>855.0</td>\n",
       "      <td>824.0</td>\n",
       "      <td>802.0</td>\n",
       "      <td>ultra</td>\n",
       "    </tr>\n",
       "    <tr>\n",
       "      <th>4</th>\n",
       "      <td>1004</td>\n",
       "      <td>0.0</td>\n",
       "      <td>0.0</td>\n",
       "      <td>0.0</td>\n",
       "      <td>0.0</td>\n",
       "      <td>35.0</td>\n",
       "      <td>171.0</td>\n",
       "      <td>135.0</td>\n",
       "      <td>137.0</td>\n",
       "      <td>117.0</td>\n",
       "      <td>145.0</td>\n",
       "      <td>117.0</td>\n",
       "      <td>130.0</td>\n",
       "      <td>ultra</td>\n",
       "    </tr>\n",
       "    <tr>\n",
       "      <th>...</th>\n",
       "      <td>...</td>\n",
       "      <td>...</td>\n",
       "      <td>...</td>\n",
       "      <td>...</td>\n",
       "      <td>...</td>\n",
       "      <td>...</td>\n",
       "      <td>...</td>\n",
       "      <td>...</td>\n",
       "      <td>...</td>\n",
       "      <td>...</td>\n",
       "      <td>...</td>\n",
       "      <td>...</td>\n",
       "      <td>...</td>\n",
       "      <td>...</td>\n",
       "    </tr>\n",
       "    <tr>\n",
       "      <th>487</th>\n",
       "      <td>1495</td>\n",
       "      <td>0.0</td>\n",
       "      <td>0.0</td>\n",
       "      <td>0.0</td>\n",
       "      <td>0.0</td>\n",
       "      <td>0.0</td>\n",
       "      <td>0.0</td>\n",
       "      <td>0.0</td>\n",
       "      <td>92.0</td>\n",
       "      <td>813.0</td>\n",
       "      <td>1030.0</td>\n",
       "      <td>954.0</td>\n",
       "      <td>1031.0</td>\n",
       "      <td>ultra</td>\n",
       "    </tr>\n",
       "    <tr>\n",
       "      <th>488</th>\n",
       "      <td>1496</td>\n",
       "      <td>48.0</td>\n",
       "      <td>594.0</td>\n",
       "      <td>557.0</td>\n",
       "      <td>521.0</td>\n",
       "      <td>484.0</td>\n",
       "      <td>555.0</td>\n",
       "      <td>582.0</td>\n",
       "      <td>527.0</td>\n",
       "      <td>486.0</td>\n",
       "      <td>450.0</td>\n",
       "      <td>662.0</td>\n",
       "      <td>518.0</td>\n",
       "      <td>smart</td>\n",
       "    </tr>\n",
       "    <tr>\n",
       "      <th>489</th>\n",
       "      <td>1497</td>\n",
       "      <td>0.0</td>\n",
       "      <td>0.0</td>\n",
       "      <td>0.0</td>\n",
       "      <td>0.0</td>\n",
       "      <td>0.0</td>\n",
       "      <td>0.0</td>\n",
       "      <td>0.0</td>\n",
       "      <td>0.0</td>\n",
       "      <td>0.0</td>\n",
       "      <td>490.0</td>\n",
       "      <td>371.0</td>\n",
       "      <td>545.0</td>\n",
       "      <td>smart</td>\n",
       "    </tr>\n",
       "    <tr>\n",
       "      <th>490</th>\n",
       "      <td>1498</td>\n",
       "      <td>0.0</td>\n",
       "      <td>0.0</td>\n",
       "      <td>0.0</td>\n",
       "      <td>0.0</td>\n",
       "      <td>0.0</td>\n",
       "      <td>0.0</td>\n",
       "      <td>175.0</td>\n",
       "      <td>400.0</td>\n",
       "      <td>471.0</td>\n",
       "      <td>247.0</td>\n",
       "      <td>0.0</td>\n",
       "      <td>0.0</td>\n",
       "      <td>smart</td>\n",
       "    </tr>\n",
       "    <tr>\n",
       "      <th>491</th>\n",
       "      <td>1499</td>\n",
       "      <td>0.0</td>\n",
       "      <td>0.0</td>\n",
       "      <td>0.0</td>\n",
       "      <td>0.0</td>\n",
       "      <td>0.0</td>\n",
       "      <td>0.0</td>\n",
       "      <td>0.0</td>\n",
       "      <td>0.0</td>\n",
       "      <td>70.0</td>\n",
       "      <td>449.0</td>\n",
       "      <td>612.0</td>\n",
       "      <td>492.0</td>\n",
       "      <td>smart</td>\n",
       "    </tr>\n",
       "  </tbody>\n",
       "</table>\n",
       "<p>492 rows × 14 columns</p>\n",
       "</div>"
      ],
      "text/plain": [
       "     user_id     1      2      3      4      5      6      7      8      9  \\\n",
       "0       1000   0.0    0.0    0.0    0.0  159.0  172.0  340.0  408.0  466.0   \n",
       "1       1001   0.0    0.0    0.0    0.0    0.0    0.0    0.0    0.0    0.0   \n",
       "2       1002   0.0    0.0    0.0    0.0    0.0  117.0  214.0  289.0  206.0   \n",
       "3       1003   0.0    0.0    0.0    0.0    0.0    0.0    0.0  380.0  961.0   \n",
       "4       1004   0.0    0.0    0.0    0.0   35.0  171.0  135.0  137.0  117.0   \n",
       "..       ...   ...    ...    ...    ...    ...    ...    ...    ...    ...   \n",
       "487     1495   0.0    0.0    0.0    0.0    0.0    0.0    0.0   92.0  813.0   \n",
       "488     1496  48.0  594.0  557.0  521.0  484.0  555.0  582.0  527.0  486.0   \n",
       "489     1497   0.0    0.0    0.0    0.0    0.0    0.0    0.0    0.0    0.0   \n",
       "490     1498   0.0    0.0    0.0    0.0    0.0    0.0  175.0  400.0  471.0   \n",
       "491     1499   0.0    0.0    0.0    0.0    0.0    0.0    0.0    0.0   70.0   \n",
       "\n",
       "         10     11      12 tariff  \n",
       "0     350.0  338.0   333.0  ultra  \n",
       "1       0.0  430.0   414.0  smart  \n",
       "2     212.0  243.0   236.0  smart  \n",
       "3     855.0  824.0   802.0  ultra  \n",
       "4     145.0  117.0   130.0  ultra  \n",
       "..      ...    ...     ...    ...  \n",
       "487  1030.0  954.0  1031.0  ultra  \n",
       "488   450.0  662.0   518.0  smart  \n",
       "489   490.0  371.0   545.0  smart  \n",
       "490   247.0    0.0     0.0  smart  \n",
       "491   449.0  612.0   492.0  smart  \n",
       "\n",
       "[492 rows x 14 columns]"
      ]
     },
     "execution_count": 12,
     "metadata": {},
     "output_type": "execute_result"
    }
   ],
   "source": [
    "calls_sum = calls.pivot_table(index=['user_id'], values ='duration',columns=['month'],aggfunc='sum').fillna(0)\n",
    "# подсчет израсходованных минут, заполнил пропуски нулями\n",
    "calls_sum = calls_sum.merge(users[['user_id','tariff']],on='user_id') # добавление столбца с тарифом\n",
    "calls_sum"
   ]
  },
  {
   "cell_type": "markdown",
   "metadata": {},
   "source": [
    "Появились пустые значения, это значит, что у клиента не был подключен тариф в этом месяце и он не пользовался услугами.\n",
    "\n",
    "Количество строк не равно общему количеству пользователей, значит не все пользовались звонками. А именно 8 человек."
   ]
  },
  {
   "cell_type": "markdown",
   "metadata": {},
   "source": [
    "### Количество отправленных сообщений по месяцам"
   ]
  },
  {
   "cell_type": "code",
   "execution_count": 13,
   "metadata": {},
   "outputs": [
    {
     "data": {
      "text/html": [
       "<div>\n",
       "<style scoped>\n",
       "    .dataframe tbody tr th:only-of-type {\n",
       "        vertical-align: middle;\n",
       "    }\n",
       "\n",
       "    .dataframe tbody tr th {\n",
       "        vertical-align: top;\n",
       "    }\n",
       "\n",
       "    .dataframe thead th {\n",
       "        text-align: right;\n",
       "    }\n",
       "</style>\n",
       "<table border=\"1\" class=\"dataframe\">\n",
       "  <thead>\n",
       "    <tr style=\"text-align: right;\">\n",
       "      <th></th>\n",
       "      <th>user_id</th>\n",
       "      <th>1</th>\n",
       "      <th>2</th>\n",
       "      <th>3</th>\n",
       "      <th>4</th>\n",
       "      <th>5</th>\n",
       "      <th>6</th>\n",
       "      <th>7</th>\n",
       "      <th>8</th>\n",
       "      <th>9</th>\n",
       "      <th>10</th>\n",
       "      <th>11</th>\n",
       "      <th>12</th>\n",
       "      <th>tariff</th>\n",
       "    </tr>\n",
       "  </thead>\n",
       "  <tbody>\n",
       "    <tr>\n",
       "      <th>0</th>\n",
       "      <td>1000</td>\n",
       "      <td>0.0</td>\n",
       "      <td>0.0</td>\n",
       "      <td>0.0</td>\n",
       "      <td>0.0</td>\n",
       "      <td>22.0</td>\n",
       "      <td>60.0</td>\n",
       "      <td>75.0</td>\n",
       "      <td>81.0</td>\n",
       "      <td>57.0</td>\n",
       "      <td>73.0</td>\n",
       "      <td>58.0</td>\n",
       "      <td>70.0</td>\n",
       "      <td>ultra</td>\n",
       "    </tr>\n",
       "    <tr>\n",
       "      <th>1</th>\n",
       "      <td>1002</td>\n",
       "      <td>0.0</td>\n",
       "      <td>0.0</td>\n",
       "      <td>0.0</td>\n",
       "      <td>0.0</td>\n",
       "      <td>0.0</td>\n",
       "      <td>4.0</td>\n",
       "      <td>11.0</td>\n",
       "      <td>13.0</td>\n",
       "      <td>4.0</td>\n",
       "      <td>10.0</td>\n",
       "      <td>16.0</td>\n",
       "      <td>12.0</td>\n",
       "      <td>smart</td>\n",
       "    </tr>\n",
       "    <tr>\n",
       "      <th>2</th>\n",
       "      <td>1003</td>\n",
       "      <td>0.0</td>\n",
       "      <td>0.0</td>\n",
       "      <td>0.0</td>\n",
       "      <td>0.0</td>\n",
       "      <td>0.0</td>\n",
       "      <td>0.0</td>\n",
       "      <td>0.0</td>\n",
       "      <td>37.0</td>\n",
       "      <td>91.0</td>\n",
       "      <td>83.0</td>\n",
       "      <td>94.0</td>\n",
       "      <td>75.0</td>\n",
       "      <td>ultra</td>\n",
       "    </tr>\n",
       "    <tr>\n",
       "      <th>3</th>\n",
       "      <td>1004</td>\n",
       "      <td>0.0</td>\n",
       "      <td>0.0</td>\n",
       "      <td>0.0</td>\n",
       "      <td>0.0</td>\n",
       "      <td>95.0</td>\n",
       "      <td>134.0</td>\n",
       "      <td>181.0</td>\n",
       "      <td>151.0</td>\n",
       "      <td>146.0</td>\n",
       "      <td>165.0</td>\n",
       "      <td>158.0</td>\n",
       "      <td>162.0</td>\n",
       "      <td>ultra</td>\n",
       "    </tr>\n",
       "    <tr>\n",
       "      <th>4</th>\n",
       "      <td>1005</td>\n",
       "      <td>7.0</td>\n",
       "      <td>38.0</td>\n",
       "      <td>56.0</td>\n",
       "      <td>41.0</td>\n",
       "      <td>42.0</td>\n",
       "      <td>47.0</td>\n",
       "      <td>56.0</td>\n",
       "      <td>64.0</td>\n",
       "      <td>52.0</td>\n",
       "      <td>44.0</td>\n",
       "      <td>51.0</td>\n",
       "      <td>54.0</td>\n",
       "      <td>smart</td>\n",
       "    </tr>\n",
       "    <tr>\n",
       "      <th>...</th>\n",
       "      <td>...</td>\n",
       "      <td>...</td>\n",
       "      <td>...</td>\n",
       "      <td>...</td>\n",
       "      <td>...</td>\n",
       "      <td>...</td>\n",
       "      <td>...</td>\n",
       "      <td>...</td>\n",
       "      <td>...</td>\n",
       "      <td>...</td>\n",
       "      <td>...</td>\n",
       "      <td>...</td>\n",
       "      <td>...</td>\n",
       "      <td>...</td>\n",
       "    </tr>\n",
       "    <tr>\n",
       "      <th>421</th>\n",
       "      <td>1495</td>\n",
       "      <td>0.0</td>\n",
       "      <td>0.0</td>\n",
       "      <td>0.0</td>\n",
       "      <td>0.0</td>\n",
       "      <td>0.0</td>\n",
       "      <td>0.0</td>\n",
       "      <td>0.0</td>\n",
       "      <td>13.0</td>\n",
       "      <td>82.0</td>\n",
       "      <td>82.0</td>\n",
       "      <td>79.0</td>\n",
       "      <td>84.0</td>\n",
       "      <td>ultra</td>\n",
       "    </tr>\n",
       "    <tr>\n",
       "      <th>422</th>\n",
       "      <td>1496</td>\n",
       "      <td>9.0</td>\n",
       "      <td>45.0</td>\n",
       "      <td>46.0</td>\n",
       "      <td>49.0</td>\n",
       "      <td>40.0</td>\n",
       "      <td>35.0</td>\n",
       "      <td>42.0</td>\n",
       "      <td>41.0</td>\n",
       "      <td>29.0</td>\n",
       "      <td>35.0</td>\n",
       "      <td>46.0</td>\n",
       "      <td>51.0</td>\n",
       "      <td>smart</td>\n",
       "    </tr>\n",
       "    <tr>\n",
       "      <th>423</th>\n",
       "      <td>1497</td>\n",
       "      <td>0.0</td>\n",
       "      <td>0.0</td>\n",
       "      <td>0.0</td>\n",
       "      <td>0.0</td>\n",
       "      <td>0.0</td>\n",
       "      <td>0.0</td>\n",
       "      <td>0.0</td>\n",
       "      <td>0.0</td>\n",
       "      <td>0.0</td>\n",
       "      <td>20.0</td>\n",
       "      <td>14.0</td>\n",
       "      <td>17.0</td>\n",
       "      <td>smart</td>\n",
       "    </tr>\n",
       "    <tr>\n",
       "      <th>424</th>\n",
       "      <td>1498</td>\n",
       "      <td>0.0</td>\n",
       "      <td>0.0</td>\n",
       "      <td>0.0</td>\n",
       "      <td>0.0</td>\n",
       "      <td>0.0</td>\n",
       "      <td>0.0</td>\n",
       "      <td>20.0</td>\n",
       "      <td>62.0</td>\n",
       "      <td>44.0</td>\n",
       "      <td>42.0</td>\n",
       "      <td>0.0</td>\n",
       "      <td>0.0</td>\n",
       "      <td>smart</td>\n",
       "    </tr>\n",
       "    <tr>\n",
       "      <th>425</th>\n",
       "      <td>1499</td>\n",
       "      <td>0.0</td>\n",
       "      <td>0.0</td>\n",
       "      <td>0.0</td>\n",
       "      <td>0.0</td>\n",
       "      <td>0.0</td>\n",
       "      <td>0.0</td>\n",
       "      <td>0.0</td>\n",
       "      <td>0.0</td>\n",
       "      <td>11.0</td>\n",
       "      <td>48.0</td>\n",
       "      <td>59.0</td>\n",
       "      <td>66.0</td>\n",
       "      <td>smart</td>\n",
       "    </tr>\n",
       "  </tbody>\n",
       "</table>\n",
       "<p>426 rows × 14 columns</p>\n",
       "</div>"
      ],
      "text/plain": [
       "     user_id    1     2     3     4     5      6      7      8      9     10  \\\n",
       "0       1000  0.0   0.0   0.0   0.0  22.0   60.0   75.0   81.0   57.0   73.0   \n",
       "1       1002  0.0   0.0   0.0   0.0   0.0    4.0   11.0   13.0    4.0   10.0   \n",
       "2       1003  0.0   0.0   0.0   0.0   0.0    0.0    0.0   37.0   91.0   83.0   \n",
       "3       1004  0.0   0.0   0.0   0.0  95.0  134.0  181.0  151.0  146.0  165.0   \n",
       "4       1005  7.0  38.0  56.0  41.0  42.0   47.0   56.0   64.0   52.0   44.0   \n",
       "..       ...  ...   ...   ...   ...   ...    ...    ...    ...    ...    ...   \n",
       "421     1495  0.0   0.0   0.0   0.0   0.0    0.0    0.0   13.0   82.0   82.0   \n",
       "422     1496  9.0  45.0  46.0  49.0  40.0   35.0   42.0   41.0   29.0   35.0   \n",
       "423     1497  0.0   0.0   0.0   0.0   0.0    0.0    0.0    0.0    0.0   20.0   \n",
       "424     1498  0.0   0.0   0.0   0.0   0.0    0.0   20.0   62.0   44.0   42.0   \n",
       "425     1499  0.0   0.0   0.0   0.0   0.0    0.0    0.0    0.0   11.0   48.0   \n",
       "\n",
       "        11     12 tariff  \n",
       "0     58.0   70.0  ultra  \n",
       "1     16.0   12.0  smart  \n",
       "2     94.0   75.0  ultra  \n",
       "3    158.0  162.0  ultra  \n",
       "4     51.0   54.0  smart  \n",
       "..     ...    ...    ...  \n",
       "421   79.0   84.0  ultra  \n",
       "422   46.0   51.0  smart  \n",
       "423   14.0   17.0  smart  \n",
       "424    0.0    0.0  smart  \n",
       "425   59.0   66.0  smart  \n",
       "\n",
       "[426 rows x 14 columns]"
      ]
     },
     "execution_count": 13,
     "metadata": {},
     "output_type": "execute_result"
    }
   ],
   "source": [
    "messages['month']=pd.to_datetime(messages['message_date'], format='%Y%m%dT').dt.month # добавление столбца с месяцем\n",
    "messages_count = messages.pivot_table(index=['user_id'], values ='id',columns='month',aggfunc='count').fillna(0)\n",
    "# подсчет отправленных сообщений\n",
    "messages_count = messages_count.merge(users[['user_id','tariff']],on='user_id') # добавление столбца с тарифом\n",
    "messages_count"
   ]
  },
  {
   "cell_type": "markdown",
   "metadata": {},
   "source": [
    "Сообщениями не пользовались 74 клиента."
   ]
  },
  {
   "cell_type": "markdown",
   "metadata": {},
   "source": [
    "### Объем израсходованного интернет-трафика по месяцам"
   ]
  },
  {
   "cell_type": "code",
   "execution_count": 14,
   "metadata": {},
   "outputs": [
    {
     "data": {
      "text/html": [
       "<div>\n",
       "<style scoped>\n",
       "    .dataframe tbody tr th:only-of-type {\n",
       "        vertical-align: middle;\n",
       "    }\n",
       "\n",
       "    .dataframe tbody tr th {\n",
       "        vertical-align: top;\n",
       "    }\n",
       "\n",
       "    .dataframe thead th {\n",
       "        text-align: right;\n",
       "    }\n",
       "</style>\n",
       "<table border=\"1\" class=\"dataframe\">\n",
       "  <thead>\n",
       "    <tr style=\"text-align: right;\">\n",
       "      <th></th>\n",
       "      <th>user_id</th>\n",
       "      <th>1</th>\n",
       "      <th>2</th>\n",
       "      <th>3</th>\n",
       "      <th>4</th>\n",
       "      <th>5</th>\n",
       "      <th>6</th>\n",
       "      <th>7</th>\n",
       "      <th>8</th>\n",
       "      <th>9</th>\n",
       "      <th>10</th>\n",
       "      <th>11</th>\n",
       "      <th>12</th>\n",
       "      <th>tariff</th>\n",
       "    </tr>\n",
       "  </thead>\n",
       "  <tbody>\n",
       "    <tr>\n",
       "      <th>0</th>\n",
       "      <td>1000</td>\n",
       "      <td>0.0</td>\n",
       "      <td>0.0</td>\n",
       "      <td>0.0</td>\n",
       "      <td>0.0</td>\n",
       "      <td>3.0</td>\n",
       "      <td>23.0</td>\n",
       "      <td>14.0</td>\n",
       "      <td>14.0</td>\n",
       "      <td>15.0</td>\n",
       "      <td>15.0</td>\n",
       "      <td>15.0</td>\n",
       "      <td>10.0</td>\n",
       "      <td>ultra</td>\n",
       "    </tr>\n",
       "    <tr>\n",
       "      <th>1</th>\n",
       "      <td>1001</td>\n",
       "      <td>0.0</td>\n",
       "      <td>0.0</td>\n",
       "      <td>0.0</td>\n",
       "      <td>0.0</td>\n",
       "      <td>0.0</td>\n",
       "      <td>0.0</td>\n",
       "      <td>0.0</td>\n",
       "      <td>0.0</td>\n",
       "      <td>0.0</td>\n",
       "      <td>0.0</td>\n",
       "      <td>18.0</td>\n",
       "      <td>14.0</td>\n",
       "      <td>smart</td>\n",
       "    </tr>\n",
       "    <tr>\n",
       "      <th>2</th>\n",
       "      <td>1002</td>\n",
       "      <td>0.0</td>\n",
       "      <td>0.0</td>\n",
       "      <td>0.0</td>\n",
       "      <td>0.0</td>\n",
       "      <td>0.0</td>\n",
       "      <td>11.0</td>\n",
       "      <td>18.0</td>\n",
       "      <td>20.0</td>\n",
       "      <td>17.0</td>\n",
       "      <td>14.0</td>\n",
       "      <td>19.0</td>\n",
       "      <td>18.0</td>\n",
       "      <td>smart</td>\n",
       "    </tr>\n",
       "    <tr>\n",
       "      <th>3</th>\n",
       "      <td>1003</td>\n",
       "      <td>0.0</td>\n",
       "      <td>0.0</td>\n",
       "      <td>0.0</td>\n",
       "      <td>0.0</td>\n",
       "      <td>0.0</td>\n",
       "      <td>0.0</td>\n",
       "      <td>0.0</td>\n",
       "      <td>9.0</td>\n",
       "      <td>13.0</td>\n",
       "      <td>15.0</td>\n",
       "      <td>12.0</td>\n",
       "      <td>10.0</td>\n",
       "      <td>ultra</td>\n",
       "    </tr>\n",
       "    <tr>\n",
       "      <th>4</th>\n",
       "      <td>1004</td>\n",
       "      <td>0.0</td>\n",
       "      <td>0.0</td>\n",
       "      <td>0.0</td>\n",
       "      <td>0.0</td>\n",
       "      <td>14.0</td>\n",
       "      <td>18.0</td>\n",
       "      <td>22.0</td>\n",
       "      <td>28.0</td>\n",
       "      <td>15.0</td>\n",
       "      <td>19.0</td>\n",
       "      <td>16.0</td>\n",
       "      <td>18.0</td>\n",
       "      <td>ultra</td>\n",
       "    </tr>\n",
       "    <tr>\n",
       "      <th>...</th>\n",
       "      <td>...</td>\n",
       "      <td>...</td>\n",
       "      <td>...</td>\n",
       "      <td>...</td>\n",
       "      <td>...</td>\n",
       "      <td>...</td>\n",
       "      <td>...</td>\n",
       "      <td>...</td>\n",
       "      <td>...</td>\n",
       "      <td>...</td>\n",
       "      <td>...</td>\n",
       "      <td>...</td>\n",
       "      <td>...</td>\n",
       "      <td>...</td>\n",
       "    </tr>\n",
       "    <tr>\n",
       "      <th>492</th>\n",
       "      <td>1495</td>\n",
       "      <td>0.0</td>\n",
       "      <td>0.0</td>\n",
       "      <td>0.0</td>\n",
       "      <td>0.0</td>\n",
       "      <td>0.0</td>\n",
       "      <td>0.0</td>\n",
       "      <td>0.0</td>\n",
       "      <td>3.0</td>\n",
       "      <td>33.0</td>\n",
       "      <td>29.0</td>\n",
       "      <td>39.0</td>\n",
       "      <td>23.0</td>\n",
       "      <td>ultra</td>\n",
       "    </tr>\n",
       "    <tr>\n",
       "      <th>493</th>\n",
       "      <td>1496</td>\n",
       "      <td>4.0</td>\n",
       "      <td>28.0</td>\n",
       "      <td>25.0</td>\n",
       "      <td>21.0</td>\n",
       "      <td>24.0</td>\n",
       "      <td>20.0</td>\n",
       "      <td>24.0</td>\n",
       "      <td>23.0</td>\n",
       "      <td>27.0</td>\n",
       "      <td>28.0</td>\n",
       "      <td>25.0</td>\n",
       "      <td>21.0</td>\n",
       "      <td>smart</td>\n",
       "    </tr>\n",
       "    <tr>\n",
       "      <th>494</th>\n",
       "      <td>1497</td>\n",
       "      <td>0.0</td>\n",
       "      <td>0.0</td>\n",
       "      <td>0.0</td>\n",
       "      <td>0.0</td>\n",
       "      <td>0.0</td>\n",
       "      <td>0.0</td>\n",
       "      <td>0.0</td>\n",
       "      <td>0.0</td>\n",
       "      <td>0.0</td>\n",
       "      <td>12.0</td>\n",
       "      <td>14.0</td>\n",
       "      <td>20.0</td>\n",
       "      <td>smart</td>\n",
       "    </tr>\n",
       "    <tr>\n",
       "      <th>495</th>\n",
       "      <td>1498</td>\n",
       "      <td>0.0</td>\n",
       "      <td>0.0</td>\n",
       "      <td>0.0</td>\n",
       "      <td>0.0</td>\n",
       "      <td>0.0</td>\n",
       "      <td>0.0</td>\n",
       "      <td>8.0</td>\n",
       "      <td>24.0</td>\n",
       "      <td>22.0</td>\n",
       "      <td>21.0</td>\n",
       "      <td>0.0</td>\n",
       "      <td>0.0</td>\n",
       "      <td>smart</td>\n",
       "    </tr>\n",
       "    <tr>\n",
       "      <th>496</th>\n",
       "      <td>1499</td>\n",
       "      <td>0.0</td>\n",
       "      <td>0.0</td>\n",
       "      <td>0.0</td>\n",
       "      <td>0.0</td>\n",
       "      <td>0.0</td>\n",
       "      <td>0.0</td>\n",
       "      <td>0.0</td>\n",
       "      <td>0.0</td>\n",
       "      <td>2.0</td>\n",
       "      <td>18.0</td>\n",
       "      <td>18.0</td>\n",
       "      <td>13.0</td>\n",
       "      <td>smart</td>\n",
       "    </tr>\n",
       "  </tbody>\n",
       "</table>\n",
       "<p>497 rows × 14 columns</p>\n",
       "</div>"
      ],
      "text/plain": [
       "     user_id    1     2     3     4     5     6     7     8     9    10    11  \\\n",
       "0       1000  0.0   0.0   0.0   0.0   3.0  23.0  14.0  14.0  15.0  15.0  15.0   \n",
       "1       1001  0.0   0.0   0.0   0.0   0.0   0.0   0.0   0.0   0.0   0.0  18.0   \n",
       "2       1002  0.0   0.0   0.0   0.0   0.0  11.0  18.0  20.0  17.0  14.0  19.0   \n",
       "3       1003  0.0   0.0   0.0   0.0   0.0   0.0   0.0   9.0  13.0  15.0  12.0   \n",
       "4       1004  0.0   0.0   0.0   0.0  14.0  18.0  22.0  28.0  15.0  19.0  16.0   \n",
       "..       ...  ...   ...   ...   ...   ...   ...   ...   ...   ...   ...   ...   \n",
       "492     1495  0.0   0.0   0.0   0.0   0.0   0.0   0.0   3.0  33.0  29.0  39.0   \n",
       "493     1496  4.0  28.0  25.0  21.0  24.0  20.0  24.0  23.0  27.0  28.0  25.0   \n",
       "494     1497  0.0   0.0   0.0   0.0   0.0   0.0   0.0   0.0   0.0  12.0  14.0   \n",
       "495     1498  0.0   0.0   0.0   0.0   0.0   0.0   8.0  24.0  22.0  21.0   0.0   \n",
       "496     1499  0.0   0.0   0.0   0.0   0.0   0.0   0.0   0.0   2.0  18.0  18.0   \n",
       "\n",
       "       12 tariff  \n",
       "0    10.0  ultra  \n",
       "1    14.0  smart  \n",
       "2    18.0  smart  \n",
       "3    10.0  ultra  \n",
       "4    18.0  ultra  \n",
       "..    ...    ...  \n",
       "492  23.0  ultra  \n",
       "493  21.0  smart  \n",
       "494  20.0  smart  \n",
       "495   0.0  smart  \n",
       "496  13.0  smart  \n",
       "\n",
       "[497 rows x 14 columns]"
      ]
     },
     "execution_count": 14,
     "metadata": {},
     "output_type": "execute_result"
    }
   ],
   "source": [
    "internet['month']=pd.to_datetime(internet['session_date'], format='%Y%m%dT').dt.month # добавление столбца с месяцем\n",
    "internet_sum = (internet.pivot_table(index=['user_id'], values ='mb_used',columns='month',aggfunc='sum')/1024).apply(np.ceil).fillna(0) \n",
    "# подсчет израсходованного интернет-трафика, перевод в гигабайты, округление в большую сторону\n",
    "internet_sum = internet_sum.merge(users[['user_id','tariff']],on='user_id') # добавление столбца с тарифом\n",
    "internet_sum"
   ]
  },
  {
   "cell_type": "markdown",
   "metadata": {},
   "source": [
    "Интернет - самая популярная услуга, только 3 человека не пользовались ею."
   ]
  },
  {
   "cell_type": "markdown",
   "metadata": {},
   "source": [
    "#### Предварительная группировка данных по пользователям и месяцам."
   ]
  },
  {
   "cell_type": "code",
   "execution_count": 15,
   "metadata": {},
   "outputs": [
    {
     "data": {
      "text/html": [
       "<div>\n",
       "<style scoped>\n",
       "    .dataframe tbody tr th:only-of-type {\n",
       "        vertical-align: middle;\n",
       "    }\n",
       "\n",
       "    .dataframe tbody tr th {\n",
       "        vertical-align: top;\n",
       "    }\n",
       "\n",
       "    .dataframe thead th {\n",
       "        text-align: right;\n",
       "    }\n",
       "</style>\n",
       "<table border=\"1\" class=\"dataframe\">\n",
       "  <thead>\n",
       "    <tr style=\"text-align: right;\">\n",
       "      <th></th>\n",
       "      <th>user_id</th>\n",
       "      <th>month</th>\n",
       "      <th>calls_count</th>\n",
       "      <th>calls_duration</th>\n",
       "    </tr>\n",
       "  </thead>\n",
       "  <tbody>\n",
       "    <tr>\n",
       "      <th>0</th>\n",
       "      <td>1000</td>\n",
       "      <td>5</td>\n",
       "      <td>22</td>\n",
       "      <td>159</td>\n",
       "    </tr>\n",
       "    <tr>\n",
       "      <th>1</th>\n",
       "      <td>1000</td>\n",
       "      <td>6</td>\n",
       "      <td>43</td>\n",
       "      <td>172</td>\n",
       "    </tr>\n",
       "    <tr>\n",
       "      <th>2</th>\n",
       "      <td>1000</td>\n",
       "      <td>7</td>\n",
       "      <td>47</td>\n",
       "      <td>340</td>\n",
       "    </tr>\n",
       "    <tr>\n",
       "      <th>3</th>\n",
       "      <td>1000</td>\n",
       "      <td>8</td>\n",
       "      <td>52</td>\n",
       "      <td>408</td>\n",
       "    </tr>\n",
       "    <tr>\n",
       "      <th>4</th>\n",
       "      <td>1000</td>\n",
       "      <td>9</td>\n",
       "      <td>58</td>\n",
       "      <td>466</td>\n",
       "    </tr>\n",
       "  </tbody>\n",
       "</table>\n",
       "</div>"
      ],
      "text/plain": [
       "   user_id  month  calls_count  calls_duration\n",
       "0     1000      5           22             159\n",
       "1     1000      6           43             172\n",
       "2     1000      7           47             340\n",
       "3     1000      8           52             408\n",
       "4     1000      9           58             466"
      ]
     },
     "execution_count": 15,
     "metadata": {},
     "output_type": "execute_result"
    }
   ],
   "source": [
    "calls_month = calls.groupby(['user_id','month']).agg({'id':'count', 'duration':'sum'}).reset_index()\n",
    "calls_month.rename(columns={'id':'calls_count','duration':'calls_duration'},inplace=True)\n",
    "calls_month.head()"
   ]
  },
  {
   "cell_type": "code",
   "execution_count": 16,
   "metadata": {},
   "outputs": [
    {
     "data": {
      "text/html": [
       "<div>\n",
       "<style scoped>\n",
       "    .dataframe tbody tr th:only-of-type {\n",
       "        vertical-align: middle;\n",
       "    }\n",
       "\n",
       "    .dataframe tbody tr th {\n",
       "        vertical-align: top;\n",
       "    }\n",
       "\n",
       "    .dataframe thead th {\n",
       "        text-align: right;\n",
       "    }\n",
       "</style>\n",
       "<table border=\"1\" class=\"dataframe\">\n",
       "  <thead>\n",
       "    <tr style=\"text-align: right;\">\n",
       "      <th></th>\n",
       "      <th>user_id</th>\n",
       "      <th>month</th>\n",
       "      <th>messages_count</th>\n",
       "    </tr>\n",
       "  </thead>\n",
       "  <tbody>\n",
       "    <tr>\n",
       "      <th>0</th>\n",
       "      <td>1000</td>\n",
       "      <td>5</td>\n",
       "      <td>22</td>\n",
       "    </tr>\n",
       "    <tr>\n",
       "      <th>1</th>\n",
       "      <td>1000</td>\n",
       "      <td>6</td>\n",
       "      <td>60</td>\n",
       "    </tr>\n",
       "    <tr>\n",
       "      <th>2</th>\n",
       "      <td>1000</td>\n",
       "      <td>7</td>\n",
       "      <td>75</td>\n",
       "    </tr>\n",
       "    <tr>\n",
       "      <th>3</th>\n",
       "      <td>1000</td>\n",
       "      <td>8</td>\n",
       "      <td>81</td>\n",
       "    </tr>\n",
       "    <tr>\n",
       "      <th>4</th>\n",
       "      <td>1000</td>\n",
       "      <td>9</td>\n",
       "      <td>57</td>\n",
       "    </tr>\n",
       "  </tbody>\n",
       "</table>\n",
       "</div>"
      ],
      "text/plain": [
       "   user_id  month  messages_count\n",
       "0     1000      5              22\n",
       "1     1000      6              60\n",
       "2     1000      7              75\n",
       "3     1000      8              81\n",
       "4     1000      9              57"
      ]
     },
     "execution_count": 16,
     "metadata": {},
     "output_type": "execute_result"
    }
   ],
   "source": [
    "messages_month = messages.groupby(['user_id','month']).id.count().reset_index()\n",
    "messages_month.rename(columns={'id':'messages_count'},inplace=True)\n",
    "messages_month.head()"
   ]
  },
  {
   "cell_type": "code",
   "execution_count": 17,
   "metadata": {},
   "outputs": [
    {
     "data": {
      "text/html": [
       "<div>\n",
       "<style scoped>\n",
       "    .dataframe tbody tr th:only-of-type {\n",
       "        vertical-align: middle;\n",
       "    }\n",
       "\n",
       "    .dataframe tbody tr th {\n",
       "        vertical-align: top;\n",
       "    }\n",
       "\n",
       "    .dataframe thead th {\n",
       "        text-align: right;\n",
       "    }\n",
       "</style>\n",
       "<table border=\"1\" class=\"dataframe\">\n",
       "  <thead>\n",
       "    <tr style=\"text-align: right;\">\n",
       "      <th></th>\n",
       "      <th>user_id</th>\n",
       "      <th>month</th>\n",
       "      <th>gb_used</th>\n",
       "    </tr>\n",
       "  </thead>\n",
       "  <tbody>\n",
       "    <tr>\n",
       "      <th>0</th>\n",
       "      <td>1000</td>\n",
       "      <td>5</td>\n",
       "      <td>3</td>\n",
       "    </tr>\n",
       "    <tr>\n",
       "      <th>1</th>\n",
       "      <td>1000</td>\n",
       "      <td>6</td>\n",
       "      <td>23</td>\n",
       "    </tr>\n",
       "    <tr>\n",
       "      <th>2</th>\n",
       "      <td>1000</td>\n",
       "      <td>7</td>\n",
       "      <td>14</td>\n",
       "    </tr>\n",
       "    <tr>\n",
       "      <th>3</th>\n",
       "      <td>1000</td>\n",
       "      <td>8</td>\n",
       "      <td>14</td>\n",
       "    </tr>\n",
       "    <tr>\n",
       "      <th>4</th>\n",
       "      <td>1000</td>\n",
       "      <td>9</td>\n",
       "      <td>15</td>\n",
       "    </tr>\n",
       "  </tbody>\n",
       "</table>\n",
       "</div>"
      ],
      "text/plain": [
       "   user_id  month  gb_used\n",
       "0     1000      5        3\n",
       "1     1000      6       23\n",
       "2     1000      7       14\n",
       "3     1000      8       14\n",
       "4     1000      9       15"
      ]
     },
     "execution_count": 17,
     "metadata": {},
     "output_type": "execute_result"
    }
   ],
   "source": [
    "internet_month = internet.groupby(['user_id','month']).mb_used.sum().reset_index()\n",
    "internet_month['mb_used'] = np.ceil(internet_month['mb_used']/1024).astype('int64')\n",
    "internet_month.rename(columns={'mb_used':'gb_used'},inplace=True)\n",
    "internet_month.head()"
   ]
  },
  {
   "cell_type": "markdown",
   "metadata": {},
   "source": [
    "#### Объединение по пользователям и месяцам данных о звонках, СМС и интернете."
   ]
  },
  {
   "cell_type": "code",
   "execution_count": 18,
   "metadata": {},
   "outputs": [
    {
     "data": {
      "text/html": [
       "<div>\n",
       "<style scoped>\n",
       "    .dataframe tbody tr th:only-of-type {\n",
       "        vertical-align: middle;\n",
       "    }\n",
       "\n",
       "    .dataframe tbody tr th {\n",
       "        vertical-align: top;\n",
       "    }\n",
       "\n",
       "    .dataframe thead th {\n",
       "        text-align: right;\n",
       "    }\n",
       "</style>\n",
       "<table border=\"1\" class=\"dataframe\">\n",
       "  <thead>\n",
       "    <tr style=\"text-align: right;\">\n",
       "      <th></th>\n",
       "      <th>user_id</th>\n",
       "      <th>month</th>\n",
       "      <th>calls_count</th>\n",
       "      <th>calls_duration</th>\n",
       "      <th>messages_count</th>\n",
       "      <th>gb_used</th>\n",
       "    </tr>\n",
       "  </thead>\n",
       "  <tbody>\n",
       "    <tr>\n",
       "      <th>0</th>\n",
       "      <td>1000</td>\n",
       "      <td>5</td>\n",
       "      <td>22.0</td>\n",
       "      <td>159.0</td>\n",
       "      <td>22.0</td>\n",
       "      <td>3.0</td>\n",
       "    </tr>\n",
       "    <tr>\n",
       "      <th>1</th>\n",
       "      <td>1000</td>\n",
       "      <td>6</td>\n",
       "      <td>43.0</td>\n",
       "      <td>172.0</td>\n",
       "      <td>60.0</td>\n",
       "      <td>23.0</td>\n",
       "    </tr>\n",
       "    <tr>\n",
       "      <th>2</th>\n",
       "      <td>1000</td>\n",
       "      <td>7</td>\n",
       "      <td>47.0</td>\n",
       "      <td>340.0</td>\n",
       "      <td>75.0</td>\n",
       "      <td>14.0</td>\n",
       "    </tr>\n",
       "    <tr>\n",
       "      <th>3</th>\n",
       "      <td>1000</td>\n",
       "      <td>8</td>\n",
       "      <td>52.0</td>\n",
       "      <td>408.0</td>\n",
       "      <td>81.0</td>\n",
       "      <td>14.0</td>\n",
       "    </tr>\n",
       "    <tr>\n",
       "      <th>4</th>\n",
       "      <td>1000</td>\n",
       "      <td>9</td>\n",
       "      <td>58.0</td>\n",
       "      <td>466.0</td>\n",
       "      <td>57.0</td>\n",
       "      <td>15.0</td>\n",
       "    </tr>\n",
       "  </tbody>\n",
       "</table>\n",
       "</div>"
      ],
      "text/plain": [
       "   user_id  month  calls_count  calls_duration  messages_count  gb_used\n",
       "0     1000      5         22.0           159.0            22.0      3.0\n",
       "1     1000      6         43.0           172.0            60.0     23.0\n",
       "2     1000      7         47.0           340.0            75.0     14.0\n",
       "3     1000      8         52.0           408.0            81.0     14.0\n",
       "4     1000      9         58.0           466.0            57.0     15.0"
      ]
     },
     "execution_count": 18,
     "metadata": {},
     "output_type": "execute_result"
    }
   ],
   "source": [
    "data_merged = calls_month.merge(messages_month, on = ['user_id','month'], how='outer') \\\n",
    "                         .merge(internet_month, on = ['user_id','month'], how='outer')\n",
    "data_merged.head()"
   ]
  },
  {
   "cell_type": "markdown",
   "metadata": {},
   "source": [
    "#### Присоединение к таблице данных о тарифе и городе пользователей"
   ]
  },
  {
   "cell_type": "code",
   "execution_count": 19,
   "metadata": {},
   "outputs": [
    {
     "data": {
      "text/html": [
       "<div>\n",
       "<style scoped>\n",
       "    .dataframe tbody tr th:only-of-type {\n",
       "        vertical-align: middle;\n",
       "    }\n",
       "\n",
       "    .dataframe tbody tr th {\n",
       "        vertical-align: top;\n",
       "    }\n",
       "\n",
       "    .dataframe thead th {\n",
       "        text-align: right;\n",
       "    }\n",
       "</style>\n",
       "<table border=\"1\" class=\"dataframe\">\n",
       "  <thead>\n",
       "    <tr style=\"text-align: right;\">\n",
       "      <th></th>\n",
       "      <th>user_id</th>\n",
       "      <th>month</th>\n",
       "      <th>calls_count</th>\n",
       "      <th>calls_duration</th>\n",
       "      <th>messages_count</th>\n",
       "      <th>gb_used</th>\n",
       "      <th>city</th>\n",
       "      <th>tariff</th>\n",
       "      <th>messages_included</th>\n",
       "      <th>gb_per_month_included</th>\n",
       "      <th>minutes_included</th>\n",
       "      <th>rub_monthly_fee</th>\n",
       "      <th>rub_per_gb</th>\n",
       "      <th>rub_per_message</th>\n",
       "      <th>rub_per_minute</th>\n",
       "    </tr>\n",
       "  </thead>\n",
       "  <tbody>\n",
       "    <tr>\n",
       "      <th>0</th>\n",
       "      <td>1000</td>\n",
       "      <td>5</td>\n",
       "      <td>22.0</td>\n",
       "      <td>159.0</td>\n",
       "      <td>22.0</td>\n",
       "      <td>3.0</td>\n",
       "      <td>Краснодар</td>\n",
       "      <td>ultra</td>\n",
       "      <td>1000</td>\n",
       "      <td>30.0</td>\n",
       "      <td>3000</td>\n",
       "      <td>1950</td>\n",
       "      <td>150</td>\n",
       "      <td>1</td>\n",
       "      <td>1</td>\n",
       "    </tr>\n",
       "    <tr>\n",
       "      <th>1</th>\n",
       "      <td>1000</td>\n",
       "      <td>6</td>\n",
       "      <td>43.0</td>\n",
       "      <td>172.0</td>\n",
       "      <td>60.0</td>\n",
       "      <td>23.0</td>\n",
       "      <td>Краснодар</td>\n",
       "      <td>ultra</td>\n",
       "      <td>1000</td>\n",
       "      <td>30.0</td>\n",
       "      <td>3000</td>\n",
       "      <td>1950</td>\n",
       "      <td>150</td>\n",
       "      <td>1</td>\n",
       "      <td>1</td>\n",
       "    </tr>\n",
       "    <tr>\n",
       "      <th>2</th>\n",
       "      <td>1000</td>\n",
       "      <td>7</td>\n",
       "      <td>47.0</td>\n",
       "      <td>340.0</td>\n",
       "      <td>75.0</td>\n",
       "      <td>14.0</td>\n",
       "      <td>Краснодар</td>\n",
       "      <td>ultra</td>\n",
       "      <td>1000</td>\n",
       "      <td>30.0</td>\n",
       "      <td>3000</td>\n",
       "      <td>1950</td>\n",
       "      <td>150</td>\n",
       "      <td>1</td>\n",
       "      <td>1</td>\n",
       "    </tr>\n",
       "    <tr>\n",
       "      <th>3</th>\n",
       "      <td>1000</td>\n",
       "      <td>8</td>\n",
       "      <td>52.0</td>\n",
       "      <td>408.0</td>\n",
       "      <td>81.0</td>\n",
       "      <td>14.0</td>\n",
       "      <td>Краснодар</td>\n",
       "      <td>ultra</td>\n",
       "      <td>1000</td>\n",
       "      <td>30.0</td>\n",
       "      <td>3000</td>\n",
       "      <td>1950</td>\n",
       "      <td>150</td>\n",
       "      <td>1</td>\n",
       "      <td>1</td>\n",
       "    </tr>\n",
       "    <tr>\n",
       "      <th>4</th>\n",
       "      <td>1000</td>\n",
       "      <td>9</td>\n",
       "      <td>58.0</td>\n",
       "      <td>466.0</td>\n",
       "      <td>57.0</td>\n",
       "      <td>15.0</td>\n",
       "      <td>Краснодар</td>\n",
       "      <td>ultra</td>\n",
       "      <td>1000</td>\n",
       "      <td>30.0</td>\n",
       "      <td>3000</td>\n",
       "      <td>1950</td>\n",
       "      <td>150</td>\n",
       "      <td>1</td>\n",
       "      <td>1</td>\n",
       "    </tr>\n",
       "  </tbody>\n",
       "</table>\n",
       "</div>"
      ],
      "text/plain": [
       "   user_id  month  calls_count  calls_duration  messages_count  gb_used  \\\n",
       "0     1000      5         22.0           159.0            22.0      3.0   \n",
       "1     1000      6         43.0           172.0            60.0     23.0   \n",
       "2     1000      7         47.0           340.0            75.0     14.0   \n",
       "3     1000      8         52.0           408.0            81.0     14.0   \n",
       "4     1000      9         58.0           466.0            57.0     15.0   \n",
       "\n",
       "        city tariff  messages_included  gb_per_month_included  \\\n",
       "0  Краснодар  ultra               1000                   30.0   \n",
       "1  Краснодар  ultra               1000                   30.0   \n",
       "2  Краснодар  ultra               1000                   30.0   \n",
       "3  Краснодар  ultra               1000                   30.0   \n",
       "4  Краснодар  ultra               1000                   30.0   \n",
       "\n",
       "   minutes_included  rub_monthly_fee  rub_per_gb  rub_per_message  \\\n",
       "0              3000             1950         150                1   \n",
       "1              3000             1950         150                1   \n",
       "2              3000             1950         150                1   \n",
       "3              3000             1950         150                1   \n",
       "4              3000             1950         150                1   \n",
       "\n",
       "   rub_per_minute  \n",
       "0               1  \n",
       "1               1  \n",
       "2               1  \n",
       "3               1  \n",
       "4               1  "
      ]
     },
     "execution_count": 19,
     "metadata": {},
     "output_type": "execute_result"
    }
   ],
   "source": [
    "data_merged = data_merged.merge(users[['user_id','city','tariff']], on=['user_id'], how='left')\n",
    "tariffs.rename(columns={'tariff_name':'tariff'},inplace=True)\n",
    "data_merged = data_merged.merge(tariffs, on=['tariff'], how='left')\n",
    "data_merged['mb_per_month_included'] = data_merged['mb_per_month_included']/1024\n",
    "data_merged.rename(columns={'mb_per_month_included':'gb_per_month_included'},inplace=True)\n",
    "data_merged = data_merged.fillna(0)\n",
    "data_merged.head()"
   ]
  },
  {
   "cell_type": "markdown",
   "metadata": {},
   "source": [
    "#### Проверка уникальных пользователей в объединенной таблице."
   ]
  },
  {
   "cell_type": "code",
   "execution_count": 20,
   "metadata": {},
   "outputs": [
    {
     "data": {
      "text/plain": [
       "1135    12\n",
       "1472    12\n",
       "1113    12\n",
       "1282    12\n",
       "1032    12\n",
       "        ..\n",
       "1236     1\n",
       "1074     1\n",
       "1069     1\n",
       "1252     1\n",
       "1368     1\n",
       "Name: user_id, Length: 498, dtype: int64"
      ]
     },
     "execution_count": 20,
     "metadata": {},
     "output_type": "execute_result"
    }
   ],
   "source": [
    "data_merged['user_id'].value_counts()"
   ]
  },
  {
   "cell_type": "markdown",
   "metadata": {},
   "source": [
    "#### Помесячная выручка с каждого пользователя. "
   ]
  },
  {
   "cell_type": "code",
   "execution_count": 21,
   "metadata": {},
   "outputs": [],
   "source": [
    "def data_proceed(row):\n",
    "    if row['calls_duration'] <= row['minutes_included']:\n",
    "        proceed_calls = 0\n",
    "    else:\n",
    "        proceed_calls = (row['calls_duration'] - row['minutes_included'])*row['rub_per_minute']\n",
    "    if row['messages_count'] <= row['messages_included']:\n",
    "        proceed_sms = 0\n",
    "    else:\n",
    "        proceed_sms = (row['messages_count'] - row['messages_included'])*row['rub_per_message']\n",
    "    if row['gb_used'] <= row['gb_per_month_included']:\n",
    "        proceed_int = 0\n",
    "    else:\n",
    "        proceed_int = (row['gb_used'] - row['gb_per_month_included'])*row['rub_per_gb']\n",
    "    return proceed_calls + proceed_sms + proceed_int + row['rub_monthly_fee']"
   ]
  },
  {
   "cell_type": "code",
   "execution_count": 22,
   "metadata": {},
   "outputs": [
    {
     "data": {
      "text/html": [
       "<div>\n",
       "<style scoped>\n",
       "    .dataframe tbody tr th:only-of-type {\n",
       "        vertical-align: middle;\n",
       "    }\n",
       "\n",
       "    .dataframe tbody tr th {\n",
       "        vertical-align: top;\n",
       "    }\n",
       "\n",
       "    .dataframe thead th {\n",
       "        text-align: right;\n",
       "    }\n",
       "</style>\n",
       "<table border=\"1\" class=\"dataframe\">\n",
       "  <thead>\n",
       "    <tr style=\"text-align: right;\">\n",
       "      <th></th>\n",
       "      <th>user_id</th>\n",
       "      <th>month</th>\n",
       "      <th>calls_count</th>\n",
       "      <th>calls_duration</th>\n",
       "      <th>messages_count</th>\n",
       "      <th>gb_used</th>\n",
       "      <th>city</th>\n",
       "      <th>tariff</th>\n",
       "      <th>messages_included</th>\n",
       "      <th>gb_per_month_included</th>\n",
       "      <th>minutes_included</th>\n",
       "      <th>rub_monthly_fee</th>\n",
       "      <th>rub_per_gb</th>\n",
       "      <th>rub_per_message</th>\n",
       "      <th>rub_per_minute</th>\n",
       "      <th>proceed</th>\n",
       "    </tr>\n",
       "  </thead>\n",
       "  <tbody>\n",
       "    <tr>\n",
       "      <th>0</th>\n",
       "      <td>1000</td>\n",
       "      <td>5</td>\n",
       "      <td>22.0</td>\n",
       "      <td>159.0</td>\n",
       "      <td>22.0</td>\n",
       "      <td>3.0</td>\n",
       "      <td>Краснодар</td>\n",
       "      <td>ultra</td>\n",
       "      <td>1000</td>\n",
       "      <td>30.0</td>\n",
       "      <td>3000</td>\n",
       "      <td>1950</td>\n",
       "      <td>150</td>\n",
       "      <td>1</td>\n",
       "      <td>1</td>\n",
       "      <td>1950.0</td>\n",
       "    </tr>\n",
       "    <tr>\n",
       "      <th>1</th>\n",
       "      <td>1000</td>\n",
       "      <td>6</td>\n",
       "      <td>43.0</td>\n",
       "      <td>172.0</td>\n",
       "      <td>60.0</td>\n",
       "      <td>23.0</td>\n",
       "      <td>Краснодар</td>\n",
       "      <td>ultra</td>\n",
       "      <td>1000</td>\n",
       "      <td>30.0</td>\n",
       "      <td>3000</td>\n",
       "      <td>1950</td>\n",
       "      <td>150</td>\n",
       "      <td>1</td>\n",
       "      <td>1</td>\n",
       "      <td>1950.0</td>\n",
       "    </tr>\n",
       "    <tr>\n",
       "      <th>2</th>\n",
       "      <td>1000</td>\n",
       "      <td>7</td>\n",
       "      <td>47.0</td>\n",
       "      <td>340.0</td>\n",
       "      <td>75.0</td>\n",
       "      <td>14.0</td>\n",
       "      <td>Краснодар</td>\n",
       "      <td>ultra</td>\n",
       "      <td>1000</td>\n",
       "      <td>30.0</td>\n",
       "      <td>3000</td>\n",
       "      <td>1950</td>\n",
       "      <td>150</td>\n",
       "      <td>1</td>\n",
       "      <td>1</td>\n",
       "      <td>1950.0</td>\n",
       "    </tr>\n",
       "    <tr>\n",
       "      <th>3</th>\n",
       "      <td>1000</td>\n",
       "      <td>8</td>\n",
       "      <td>52.0</td>\n",
       "      <td>408.0</td>\n",
       "      <td>81.0</td>\n",
       "      <td>14.0</td>\n",
       "      <td>Краснодар</td>\n",
       "      <td>ultra</td>\n",
       "      <td>1000</td>\n",
       "      <td>30.0</td>\n",
       "      <td>3000</td>\n",
       "      <td>1950</td>\n",
       "      <td>150</td>\n",
       "      <td>1</td>\n",
       "      <td>1</td>\n",
       "      <td>1950.0</td>\n",
       "    </tr>\n",
       "    <tr>\n",
       "      <th>4</th>\n",
       "      <td>1000</td>\n",
       "      <td>9</td>\n",
       "      <td>58.0</td>\n",
       "      <td>466.0</td>\n",
       "      <td>57.0</td>\n",
       "      <td>15.0</td>\n",
       "      <td>Краснодар</td>\n",
       "      <td>ultra</td>\n",
       "      <td>1000</td>\n",
       "      <td>30.0</td>\n",
       "      <td>3000</td>\n",
       "      <td>1950</td>\n",
       "      <td>150</td>\n",
       "      <td>1</td>\n",
       "      <td>1</td>\n",
       "      <td>1950.0</td>\n",
       "    </tr>\n",
       "    <tr>\n",
       "      <th>...</th>\n",
       "      <td>...</td>\n",
       "      <td>...</td>\n",
       "      <td>...</td>\n",
       "      <td>...</td>\n",
       "      <td>...</td>\n",
       "      <td>...</td>\n",
       "      <td>...</td>\n",
       "      <td>...</td>\n",
       "      <td>...</td>\n",
       "      <td>...</td>\n",
       "      <td>...</td>\n",
       "      <td>...</td>\n",
       "      <td>...</td>\n",
       "      <td>...</td>\n",
       "      <td>...</td>\n",
       "      <td>...</td>\n",
       "    </tr>\n",
       "    <tr>\n",
       "      <th>3209</th>\n",
       "      <td>1489</td>\n",
       "      <td>9</td>\n",
       "      <td>0.0</td>\n",
       "      <td>0.0</td>\n",
       "      <td>32.0</td>\n",
       "      <td>17.0</td>\n",
       "      <td>Санкт-Петербург</td>\n",
       "      <td>smart</td>\n",
       "      <td>50</td>\n",
       "      <td>15.0</td>\n",
       "      <td>500</td>\n",
       "      <td>550</td>\n",
       "      <td>200</td>\n",
       "      <td>3</td>\n",
       "      <td>3</td>\n",
       "      <td>950.0</td>\n",
       "    </tr>\n",
       "    <tr>\n",
       "      <th>3210</th>\n",
       "      <td>1489</td>\n",
       "      <td>10</td>\n",
       "      <td>0.0</td>\n",
       "      <td>0.0</td>\n",
       "      <td>21.0</td>\n",
       "      <td>20.0</td>\n",
       "      <td>Санкт-Петербург</td>\n",
       "      <td>smart</td>\n",
       "      <td>50</td>\n",
       "      <td>15.0</td>\n",
       "      <td>500</td>\n",
       "      <td>550</td>\n",
       "      <td>200</td>\n",
       "      <td>3</td>\n",
       "      <td>3</td>\n",
       "      <td>1550.0</td>\n",
       "    </tr>\n",
       "    <tr>\n",
       "      <th>3211</th>\n",
       "      <td>1489</td>\n",
       "      <td>11</td>\n",
       "      <td>0.0</td>\n",
       "      <td>0.0</td>\n",
       "      <td>20.0</td>\n",
       "      <td>18.0</td>\n",
       "      <td>Санкт-Петербург</td>\n",
       "      <td>smart</td>\n",
       "      <td>50</td>\n",
       "      <td>15.0</td>\n",
       "      <td>500</td>\n",
       "      <td>550</td>\n",
       "      <td>200</td>\n",
       "      <td>3</td>\n",
       "      <td>3</td>\n",
       "      <td>1150.0</td>\n",
       "    </tr>\n",
       "    <tr>\n",
       "      <th>3212</th>\n",
       "      <td>1489</td>\n",
       "      <td>12</td>\n",
       "      <td>0.0</td>\n",
       "      <td>0.0</td>\n",
       "      <td>35.0</td>\n",
       "      <td>17.0</td>\n",
       "      <td>Санкт-Петербург</td>\n",
       "      <td>smart</td>\n",
       "      <td>50</td>\n",
       "      <td>15.0</td>\n",
       "      <td>500</td>\n",
       "      <td>550</td>\n",
       "      <td>200</td>\n",
       "      <td>3</td>\n",
       "      <td>3</td>\n",
       "      <td>950.0</td>\n",
       "    </tr>\n",
       "    <tr>\n",
       "      <th>3213</th>\n",
       "      <td>1476</td>\n",
       "      <td>4</td>\n",
       "      <td>0.0</td>\n",
       "      <td>0.0</td>\n",
       "      <td>0.0</td>\n",
       "      <td>1.0</td>\n",
       "      <td>Москва</td>\n",
       "      <td>ultra</td>\n",
       "      <td>1000</td>\n",
       "      <td>30.0</td>\n",
       "      <td>3000</td>\n",
       "      <td>1950</td>\n",
       "      <td>150</td>\n",
       "      <td>1</td>\n",
       "      <td>1</td>\n",
       "      <td>1950.0</td>\n",
       "    </tr>\n",
       "  </tbody>\n",
       "</table>\n",
       "<p>3214 rows × 16 columns</p>\n",
       "</div>"
      ],
      "text/plain": [
       "      user_id  month  calls_count  calls_duration  messages_count  gb_used  \\\n",
       "0        1000      5         22.0           159.0            22.0      3.0   \n",
       "1        1000      6         43.0           172.0            60.0     23.0   \n",
       "2        1000      7         47.0           340.0            75.0     14.0   \n",
       "3        1000      8         52.0           408.0            81.0     14.0   \n",
       "4        1000      9         58.0           466.0            57.0     15.0   \n",
       "...       ...    ...          ...             ...             ...      ...   \n",
       "3209     1489      9          0.0             0.0            32.0     17.0   \n",
       "3210     1489     10          0.0             0.0            21.0     20.0   \n",
       "3211     1489     11          0.0             0.0            20.0     18.0   \n",
       "3212     1489     12          0.0             0.0            35.0     17.0   \n",
       "3213     1476      4          0.0             0.0             0.0      1.0   \n",
       "\n",
       "                 city tariff  messages_included  gb_per_month_included  \\\n",
       "0           Краснодар  ultra               1000                   30.0   \n",
       "1           Краснодар  ultra               1000                   30.0   \n",
       "2           Краснодар  ultra               1000                   30.0   \n",
       "3           Краснодар  ultra               1000                   30.0   \n",
       "4           Краснодар  ultra               1000                   30.0   \n",
       "...               ...    ...                ...                    ...   \n",
       "3209  Санкт-Петербург  smart                 50                   15.0   \n",
       "3210  Санкт-Петербург  smart                 50                   15.0   \n",
       "3211  Санкт-Петербург  smart                 50                   15.0   \n",
       "3212  Санкт-Петербург  smart                 50                   15.0   \n",
       "3213           Москва  ultra               1000                   30.0   \n",
       "\n",
       "      minutes_included  rub_monthly_fee  rub_per_gb  rub_per_message  \\\n",
       "0                 3000             1950         150                1   \n",
       "1                 3000             1950         150                1   \n",
       "2                 3000             1950         150                1   \n",
       "3                 3000             1950         150                1   \n",
       "4                 3000             1950         150                1   \n",
       "...                ...              ...         ...              ...   \n",
       "3209               500              550         200                3   \n",
       "3210               500              550         200                3   \n",
       "3211               500              550         200                3   \n",
       "3212               500              550         200                3   \n",
       "3213              3000             1950         150                1   \n",
       "\n",
       "      rub_per_minute  proceed  \n",
       "0                  1   1950.0  \n",
       "1                  1   1950.0  \n",
       "2                  1   1950.0  \n",
       "3                  1   1950.0  \n",
       "4                  1   1950.0  \n",
       "...              ...      ...  \n",
       "3209               3    950.0  \n",
       "3210               3   1550.0  \n",
       "3211               3   1150.0  \n",
       "3212               3    950.0  \n",
       "3213               1   1950.0  \n",
       "\n",
       "[3214 rows x 16 columns]"
      ]
     },
     "execution_count": 22,
     "metadata": {},
     "output_type": "execute_result"
    }
   ],
   "source": [
    "data_merged['proceed'] = data_merged.apply(data_proceed,axis = 1)\n",
    "data_merged"
   ]
  },
  {
   "cell_type": "code",
   "execution_count": 23,
   "metadata": {},
   "outputs": [
    {
     "data": {
      "text/html": [
       "<div>\n",
       "<style scoped>\n",
       "    .dataframe tbody tr th:only-of-type {\n",
       "        vertical-align: middle;\n",
       "    }\n",
       "\n",
       "    .dataframe tbody tr th {\n",
       "        vertical-align: top;\n",
       "    }\n",
       "\n",
       "    .dataframe thead th {\n",
       "        text-align: right;\n",
       "    }\n",
       "</style>\n",
       "<table border=\"1\" class=\"dataframe\">\n",
       "  <thead>\n",
       "    <tr style=\"text-align: right;\">\n",
       "      <th></th>\n",
       "      <th>user_id</th>\n",
       "      <th>1</th>\n",
       "      <th>2</th>\n",
       "      <th>3</th>\n",
       "      <th>4</th>\n",
       "      <th>5</th>\n",
       "      <th>6</th>\n",
       "      <th>7</th>\n",
       "      <th>8</th>\n",
       "      <th>9</th>\n",
       "      <th>10</th>\n",
       "      <th>11</th>\n",
       "      <th>12</th>\n",
       "      <th>tariff</th>\n",
       "    </tr>\n",
       "  </thead>\n",
       "  <tbody>\n",
       "    <tr>\n",
       "      <th>0</th>\n",
       "      <td>1000</td>\n",
       "      <td>0.0</td>\n",
       "      <td>0.0</td>\n",
       "      <td>0.0</td>\n",
       "      <td>0.0</td>\n",
       "      <td>1950.0</td>\n",
       "      <td>1950.0</td>\n",
       "      <td>1950.0</td>\n",
       "      <td>1950.0</td>\n",
       "      <td>1950.0</td>\n",
       "      <td>1950.0</td>\n",
       "      <td>1950.0</td>\n",
       "      <td>1950.0</td>\n",
       "      <td>ultra</td>\n",
       "    </tr>\n",
       "    <tr>\n",
       "      <th>1</th>\n",
       "      <td>1001</td>\n",
       "      <td>0.0</td>\n",
       "      <td>0.0</td>\n",
       "      <td>0.0</td>\n",
       "      <td>0.0</td>\n",
       "      <td>0.0</td>\n",
       "      <td>0.0</td>\n",
       "      <td>0.0</td>\n",
       "      <td>0.0</td>\n",
       "      <td>0.0</td>\n",
       "      <td>0.0</td>\n",
       "      <td>1150.0</td>\n",
       "      <td>550.0</td>\n",
       "      <td>smart</td>\n",
       "    </tr>\n",
       "    <tr>\n",
       "      <th>2</th>\n",
       "      <td>1002</td>\n",
       "      <td>0.0</td>\n",
       "      <td>0.0</td>\n",
       "      <td>0.0</td>\n",
       "      <td>0.0</td>\n",
       "      <td>0.0</td>\n",
       "      <td>550.0</td>\n",
       "      <td>1150.0</td>\n",
       "      <td>1550.0</td>\n",
       "      <td>950.0</td>\n",
       "      <td>550.0</td>\n",
       "      <td>1350.0</td>\n",
       "      <td>1150.0</td>\n",
       "      <td>smart</td>\n",
       "    </tr>\n",
       "    <tr>\n",
       "      <th>3</th>\n",
       "      <td>1003</td>\n",
       "      <td>0.0</td>\n",
       "      <td>0.0</td>\n",
       "      <td>0.0</td>\n",
       "      <td>0.0</td>\n",
       "      <td>0.0</td>\n",
       "      <td>0.0</td>\n",
       "      <td>0.0</td>\n",
       "      <td>1950.0</td>\n",
       "      <td>1950.0</td>\n",
       "      <td>1950.0</td>\n",
       "      <td>1950.0</td>\n",
       "      <td>1950.0</td>\n",
       "      <td>ultra</td>\n",
       "    </tr>\n",
       "    <tr>\n",
       "      <th>4</th>\n",
       "      <td>1004</td>\n",
       "      <td>0.0</td>\n",
       "      <td>0.0</td>\n",
       "      <td>0.0</td>\n",
       "      <td>0.0</td>\n",
       "      <td>1950.0</td>\n",
       "      <td>1950.0</td>\n",
       "      <td>1950.0</td>\n",
       "      <td>1950.0</td>\n",
       "      <td>1950.0</td>\n",
       "      <td>1950.0</td>\n",
       "      <td>1950.0</td>\n",
       "      <td>1950.0</td>\n",
       "      <td>ultra</td>\n",
       "    </tr>\n",
       "    <tr>\n",
       "      <th>...</th>\n",
       "      <td>...</td>\n",
       "      <td>...</td>\n",
       "      <td>...</td>\n",
       "      <td>...</td>\n",
       "      <td>...</td>\n",
       "      <td>...</td>\n",
       "      <td>...</td>\n",
       "      <td>...</td>\n",
       "      <td>...</td>\n",
       "      <td>...</td>\n",
       "      <td>...</td>\n",
       "      <td>...</td>\n",
       "      <td>...</td>\n",
       "      <td>...</td>\n",
       "    </tr>\n",
       "    <tr>\n",
       "      <th>493</th>\n",
       "      <td>1495</td>\n",
       "      <td>0.0</td>\n",
       "      <td>0.0</td>\n",
       "      <td>0.0</td>\n",
       "      <td>0.0</td>\n",
       "      <td>0.0</td>\n",
       "      <td>0.0</td>\n",
       "      <td>0.0</td>\n",
       "      <td>1950.0</td>\n",
       "      <td>2400.0</td>\n",
       "      <td>1950.0</td>\n",
       "      <td>3300.0</td>\n",
       "      <td>1950.0</td>\n",
       "      <td>ultra</td>\n",
       "    </tr>\n",
       "    <tr>\n",
       "      <th>494</th>\n",
       "      <td>1496</td>\n",
       "      <td>550.0</td>\n",
       "      <td>3432.0</td>\n",
       "      <td>2721.0</td>\n",
       "      <td>1813.0</td>\n",
       "      <td>2350.0</td>\n",
       "      <td>1715.0</td>\n",
       "      <td>2596.0</td>\n",
       "      <td>2231.0</td>\n",
       "      <td>2950.0</td>\n",
       "      <td>3150.0</td>\n",
       "      <td>3036.0</td>\n",
       "      <td>1807.0</td>\n",
       "      <td>smart</td>\n",
       "    </tr>\n",
       "    <tr>\n",
       "      <th>495</th>\n",
       "      <td>1497</td>\n",
       "      <td>0.0</td>\n",
       "      <td>0.0</td>\n",
       "      <td>0.0</td>\n",
       "      <td>0.0</td>\n",
       "      <td>0.0</td>\n",
       "      <td>0.0</td>\n",
       "      <td>0.0</td>\n",
       "      <td>0.0</td>\n",
       "      <td>0.0</td>\n",
       "      <td>550.0</td>\n",
       "      <td>550.0</td>\n",
       "      <td>1685.0</td>\n",
       "      <td>smart</td>\n",
       "    </tr>\n",
       "    <tr>\n",
       "      <th>496</th>\n",
       "      <td>1498</td>\n",
       "      <td>0.0</td>\n",
       "      <td>0.0</td>\n",
       "      <td>0.0</td>\n",
       "      <td>0.0</td>\n",
       "      <td>0.0</td>\n",
       "      <td>0.0</td>\n",
       "      <td>550.0</td>\n",
       "      <td>2386.0</td>\n",
       "      <td>1950.0</td>\n",
       "      <td>1750.0</td>\n",
       "      <td>0.0</td>\n",
       "      <td>0.0</td>\n",
       "      <td>smart</td>\n",
       "    </tr>\n",
       "    <tr>\n",
       "      <th>497</th>\n",
       "      <td>1499</td>\n",
       "      <td>0.0</td>\n",
       "      <td>0.0</td>\n",
       "      <td>0.0</td>\n",
       "      <td>0.0</td>\n",
       "      <td>0.0</td>\n",
       "      <td>0.0</td>\n",
       "      <td>0.0</td>\n",
       "      <td>0.0</td>\n",
       "      <td>550.0</td>\n",
       "      <td>1150.0</td>\n",
       "      <td>1513.0</td>\n",
       "      <td>598.0</td>\n",
       "      <td>smart</td>\n",
       "    </tr>\n",
       "  </tbody>\n",
       "</table>\n",
       "<p>498 rows × 14 columns</p>\n",
       "</div>"
      ],
      "text/plain": [
       "     user_id      1       2       3       4       5       6       7       8  \\\n",
       "0       1000    0.0     0.0     0.0     0.0  1950.0  1950.0  1950.0  1950.0   \n",
       "1       1001    0.0     0.0     0.0     0.0     0.0     0.0     0.0     0.0   \n",
       "2       1002    0.0     0.0     0.0     0.0     0.0   550.0  1150.0  1550.0   \n",
       "3       1003    0.0     0.0     0.0     0.0     0.0     0.0     0.0  1950.0   \n",
       "4       1004    0.0     0.0     0.0     0.0  1950.0  1950.0  1950.0  1950.0   \n",
       "..       ...    ...     ...     ...     ...     ...     ...     ...     ...   \n",
       "493     1495    0.0     0.0     0.0     0.0     0.0     0.0     0.0  1950.0   \n",
       "494     1496  550.0  3432.0  2721.0  1813.0  2350.0  1715.0  2596.0  2231.0   \n",
       "495     1497    0.0     0.0     0.0     0.0     0.0     0.0     0.0     0.0   \n",
       "496     1498    0.0     0.0     0.0     0.0     0.0     0.0   550.0  2386.0   \n",
       "497     1499    0.0     0.0     0.0     0.0     0.0     0.0     0.0     0.0   \n",
       "\n",
       "          9      10      11      12 tariff  \n",
       "0    1950.0  1950.0  1950.0  1950.0  ultra  \n",
       "1       0.0     0.0  1150.0   550.0  smart  \n",
       "2     950.0   550.0  1350.0  1150.0  smart  \n",
       "3    1950.0  1950.0  1950.0  1950.0  ultra  \n",
       "4    1950.0  1950.0  1950.0  1950.0  ultra  \n",
       "..      ...     ...     ...     ...    ...  \n",
       "493  2400.0  1950.0  3300.0  1950.0  ultra  \n",
       "494  2950.0  3150.0  3036.0  1807.0  smart  \n",
       "495     0.0   550.0   550.0  1685.0  smart  \n",
       "496  1950.0  1750.0     0.0     0.0  smart  \n",
       "497   550.0  1150.0  1513.0   598.0  smart  \n",
       "\n",
       "[498 rows x 14 columns]"
      ]
     },
     "execution_count": 23,
     "metadata": {},
     "output_type": "execute_result"
    }
   ],
   "source": [
    "final_sum = data_merged.pivot_table(index='user_id',values='proceed',columns='month',aggfunc='sum')\n",
    "final_sum = final_sum.merge(users[['user_id','tariff']],on='user_id').fillna(0)\n",
    "final_sum"
   ]
  },
  {
   "cell_type": "code",
   "execution_count": 24,
   "metadata": {},
   "outputs": [
    {
     "data": {
      "text/html": [
       "<div>\n",
       "<style scoped>\n",
       "    .dataframe tbody tr th:only-of-type {\n",
       "        vertical-align: middle;\n",
       "    }\n",
       "\n",
       "    .dataframe tbody tr th {\n",
       "        vertical-align: top;\n",
       "    }\n",
       "\n",
       "    .dataframe thead th {\n",
       "        text-align: right;\n",
       "    }\n",
       "</style>\n",
       "<table border=\"1\" class=\"dataframe\">\n",
       "  <thead>\n",
       "    <tr style=\"text-align: right;\">\n",
       "      <th></th>\n",
       "      <th>user_id</th>\n",
       "      <th>1</th>\n",
       "      <th>2</th>\n",
       "      <th>3</th>\n",
       "      <th>4</th>\n",
       "      <th>5</th>\n",
       "      <th>6</th>\n",
       "      <th>7</th>\n",
       "      <th>8</th>\n",
       "      <th>9</th>\n",
       "      <th>10</th>\n",
       "      <th>11</th>\n",
       "      <th>12</th>\n",
       "      <th>tariff</th>\n",
       "      <th>source</th>\n",
       "    </tr>\n",
       "  </thead>\n",
       "  <tbody>\n",
       "    <tr>\n",
       "      <th>0</th>\n",
       "      <td>1000</td>\n",
       "      <td>0.0</td>\n",
       "      <td>0.0</td>\n",
       "      <td>0.0</td>\n",
       "      <td>0.0</td>\n",
       "      <td>3.0</td>\n",
       "      <td>23.0</td>\n",
       "      <td>14.0</td>\n",
       "      <td>14.0</td>\n",
       "      <td>15.0</td>\n",
       "      <td>15.0</td>\n",
       "      <td>15.0</td>\n",
       "      <td>10.0</td>\n",
       "      <td>ultra</td>\n",
       "      <td>internet</td>\n",
       "    </tr>\n",
       "    <tr>\n",
       "      <th>1</th>\n",
       "      <td>1000</td>\n",
       "      <td>0.0</td>\n",
       "      <td>0.0</td>\n",
       "      <td>0.0</td>\n",
       "      <td>0.0</td>\n",
       "      <td>22.0</td>\n",
       "      <td>60.0</td>\n",
       "      <td>75.0</td>\n",
       "      <td>81.0</td>\n",
       "      <td>57.0</td>\n",
       "      <td>73.0</td>\n",
       "      <td>58.0</td>\n",
       "      <td>70.0</td>\n",
       "      <td>ultra</td>\n",
       "      <td>sms</td>\n",
       "    </tr>\n",
       "    <tr>\n",
       "      <th>2</th>\n",
       "      <td>1000</td>\n",
       "      <td>0.0</td>\n",
       "      <td>0.0</td>\n",
       "      <td>0.0</td>\n",
       "      <td>0.0</td>\n",
       "      <td>159.0</td>\n",
       "      <td>172.0</td>\n",
       "      <td>340.0</td>\n",
       "      <td>408.0</td>\n",
       "      <td>466.0</td>\n",
       "      <td>350.0</td>\n",
       "      <td>338.0</td>\n",
       "      <td>333.0</td>\n",
       "      <td>ultra</td>\n",
       "      <td>calls</td>\n",
       "    </tr>\n",
       "    <tr>\n",
       "      <th>3</th>\n",
       "      <td>1001</td>\n",
       "      <td>0.0</td>\n",
       "      <td>0.0</td>\n",
       "      <td>0.0</td>\n",
       "      <td>0.0</td>\n",
       "      <td>0.0</td>\n",
       "      <td>0.0</td>\n",
       "      <td>0.0</td>\n",
       "      <td>0.0</td>\n",
       "      <td>0.0</td>\n",
       "      <td>0.0</td>\n",
       "      <td>430.0</td>\n",
       "      <td>414.0</td>\n",
       "      <td>smart</td>\n",
       "      <td>calls</td>\n",
       "    </tr>\n",
       "    <tr>\n",
       "      <th>4</th>\n",
       "      <td>1001</td>\n",
       "      <td>0.0</td>\n",
       "      <td>0.0</td>\n",
       "      <td>0.0</td>\n",
       "      <td>0.0</td>\n",
       "      <td>0.0</td>\n",
       "      <td>0.0</td>\n",
       "      <td>0.0</td>\n",
       "      <td>0.0</td>\n",
       "      <td>0.0</td>\n",
       "      <td>0.0</td>\n",
       "      <td>18.0</td>\n",
       "      <td>14.0</td>\n",
       "      <td>smart</td>\n",
       "      <td>internet</td>\n",
       "    </tr>\n",
       "  </tbody>\n",
       "</table>\n",
       "</div>"
      ],
      "text/plain": [
       "   user_id    1    2    3    4      5      6      7      8      9     10  \\\n",
       "0     1000  0.0  0.0  0.0  0.0    3.0   23.0   14.0   14.0   15.0   15.0   \n",
       "1     1000  0.0  0.0  0.0  0.0   22.0   60.0   75.0   81.0   57.0   73.0   \n",
       "2     1000  0.0  0.0  0.0  0.0  159.0  172.0  340.0  408.0  466.0  350.0   \n",
       "3     1001  0.0  0.0  0.0  0.0    0.0    0.0    0.0    0.0    0.0    0.0   \n",
       "4     1001  0.0  0.0  0.0  0.0    0.0    0.0    0.0    0.0    0.0    0.0   \n",
       "\n",
       "      11     12 tariff    source  \n",
       "0   15.0   10.0  ultra  internet  \n",
       "1   58.0   70.0  ultra       sms  \n",
       "2  338.0  333.0  ultra     calls  \n",
       "3  430.0  414.0  smart     calls  \n",
       "4   18.0   14.0  smart  internet  "
      ]
     },
     "execution_count": 24,
     "metadata": {},
     "output_type": "execute_result"
    }
   ],
   "source": [
    "internet_sum['source'] = 'internet' # добавление столбца 'source'\n",
    "messages_count['source'] = 'sms' # добавление столбца 'source'\n",
    "calls_sum['source'] = 'calls' # добавление столбца 'source'\n",
    "\n",
    "df = pd.concat([internet_sum,messages_count,calls_sum],axis=0) # сложение таблиц по столбцам\n",
    "df = df.sort_values('user_id').reset_index(drop='True') # сортировка по 'user_id' со сбросом индексов\n",
    "df.head() # вывод суммарной таблицы по пользователям помесячно с каждой услугой и указанием тарифа"
   ]
  },
  {
   "cell_type": "markdown",
   "metadata": {},
   "source": [
    "Я заметил, что 2 клиента вообще не воспользовались услугами."
   ]
  },
  {
   "cell_type": "code",
   "execution_count": 25,
   "metadata": {},
   "outputs": [
    {
     "data": {
      "text/plain": [
       "{1128, 1371}"
      ]
     },
     "execution_count": 25,
     "metadata": {},
     "output_type": "execute_result"
    }
   ],
   "source": [
    "set(range(1000,1500)).difference(final_sum['user_id']) # нашел отсутствующие значения"
   ]
  },
  {
   "cell_type": "code",
   "execution_count": 26,
   "metadata": {},
   "outputs": [
    {
     "data": {
      "text/html": [
       "<div>\n",
       "<style scoped>\n",
       "    .dataframe tbody tr th:only-of-type {\n",
       "        vertical-align: middle;\n",
       "    }\n",
       "\n",
       "    .dataframe tbody tr th {\n",
       "        vertical-align: top;\n",
       "    }\n",
       "\n",
       "    .dataframe thead th {\n",
       "        text-align: right;\n",
       "    }\n",
       "</style>\n",
       "<table border=\"1\" class=\"dataframe\">\n",
       "  <thead>\n",
       "    <tr style=\"text-align: right;\">\n",
       "      <th></th>\n",
       "      <th>user_id</th>\n",
       "      <th>age</th>\n",
       "      <th>churn_date</th>\n",
       "      <th>city</th>\n",
       "      <th>first_name</th>\n",
       "      <th>last_name</th>\n",
       "      <th>reg_date</th>\n",
       "      <th>tariff</th>\n",
       "    </tr>\n",
       "  </thead>\n",
       "  <tbody>\n",
       "    <tr>\n",
       "      <th>128</th>\n",
       "      <td>1128</td>\n",
       "      <td>51</td>\n",
       "      <td>2018-12-23</td>\n",
       "      <td>Волжский</td>\n",
       "      <td>Ксения</td>\n",
       "      <td>Агаева</td>\n",
       "      <td>2018-12-15</td>\n",
       "      <td>ultra</td>\n",
       "    </tr>\n",
       "  </tbody>\n",
       "</table>\n",
       "</div>"
      ],
      "text/plain": [
       "     user_id  age  churn_date      city first_name last_name    reg_date  \\\n",
       "128     1128   51  2018-12-23  Волжский     Ксения    Агаева  2018-12-15   \n",
       "\n",
       "    tariff  \n",
       "128  ultra  "
      ]
     },
     "metadata": {},
     "output_type": "display_data"
    },
    {
     "data": {
      "text/html": [
       "<div>\n",
       "<style scoped>\n",
       "    .dataframe tbody tr th:only-of-type {\n",
       "        vertical-align: middle;\n",
       "    }\n",
       "\n",
       "    .dataframe tbody tr th {\n",
       "        vertical-align: top;\n",
       "    }\n",
       "\n",
       "    .dataframe thead th {\n",
       "        text-align: right;\n",
       "    }\n",
       "</style>\n",
       "<table border=\"1\" class=\"dataframe\">\n",
       "  <thead>\n",
       "    <tr style=\"text-align: right;\">\n",
       "      <th></th>\n",
       "      <th>user_id</th>\n",
       "      <th>age</th>\n",
       "      <th>churn_date</th>\n",
       "      <th>city</th>\n",
       "      <th>first_name</th>\n",
       "      <th>last_name</th>\n",
       "      <th>reg_date</th>\n",
       "      <th>tariff</th>\n",
       "    </tr>\n",
       "  </thead>\n",
       "  <tbody>\n",
       "    <tr>\n",
       "      <th>371</th>\n",
       "      <td>1371</td>\n",
       "      <td>50</td>\n",
       "      <td>2018-12-30</td>\n",
       "      <td>Омск</td>\n",
       "      <td>Ириней</td>\n",
       "      <td>Трофимов</td>\n",
       "      <td>2018-12-25</td>\n",
       "      <td>smart</td>\n",
       "    </tr>\n",
       "  </tbody>\n",
       "</table>\n",
       "</div>"
      ],
      "text/plain": [
       "     user_id  age  churn_date  city first_name last_name    reg_date tariff\n",
       "371     1371   50  2018-12-30  Омск     Ириней  Трофимов  2018-12-25  smart"
      ]
     },
     "metadata": {},
     "output_type": "display_data"
    }
   ],
   "source": [
    "display(users[users['user_id']==1128],users[users['user_id']==1371]) # выборка из двух клиентов"
   ]
  },
  {
   "cell_type": "code",
   "execution_count": 27,
   "metadata": {},
   "outputs": [
    {
     "name": "stdout",
     "output_type": "stream",
     "text": [
      "Общая выручка по тарифу Смарт: 2875351.0 руб.\n",
      "Общая выручка по тарифу Ультра: 2039100.0 руб.\n"
     ]
    }
   ],
   "source": [
    "# Подсчет общей выручки по тарифам\n",
    "print ('Общая выручка по тарифу Смарт:', \\\n",
    "       final_sum[final_sum['tariff']=='smart'].drop(columns = ['user_id','tariff']).sum().sum(), 'руб.')\n",
    "print ('Общая выручка по тарифу Ультра:', \\\n",
    "       final_sum[final_sum['tariff']=='ultra'].drop(columns = ['user_id','tariff']).sum().sum(), 'руб.')"
   ]
  },
  {
   "cell_type": "markdown",
   "metadata": {},
   "source": [
    "Видно, что клиенты не пользовались тарифом, их нет в сводной таблице. А разница в датах открытия и закрытия тарифа всего несколько дней, подтверждает, что это не ошибка, а не использование тарифа. Возможно сим-карта не была активирована, а затем отключена, либо расторгнут договор."
   ]
  },
  {
   "cell_type": "markdown",
   "metadata": {},
   "source": [
    "***Вывод:***"
   ]
  },
  {
   "cell_type": "markdown",
   "metadata": {},
   "source": [
    "Я посчитал для каждого пользователя:\n",
    "  -  количество сделанных звонков и израсходованных минут разговора по месяцам;\n",
    "  -  количество отправленных сообщений по месяцам;\n",
    "  -  объем израсходованного интернет-трафика по месяцам;\n",
    "  -  помесячную выручку с каждого пользователя.\n",
    "  \n",
    "Данные этих таблиц помогут проанализировать поведение клиентов, сравнить тарифы и проверить гипотезы. Присутствует выборка по 498 клиентам из 500. 2 пользователя совсем не пользовались услугами. Общая выручка по тарифу Смарт больше на 840 000 руб за 2018 год."
   ]
  },
  {
   "cell_type": "markdown",
   "metadata": {},
   "source": [
    "##  Проанализируйте данные."
   ]
  },
  {
   "cell_type": "markdown",
   "metadata": {},
   "source": [
    "### Опишите поведение клиентов оператора, исходя из выборки."
   ]
  },
  {
   "cell_type": "markdown",
   "metadata": {},
   "source": [
    "* Сколько минут разговора, сколько сообщений и какой объём интернет-трафика требуется пользователям каждого тарифа в месяц?"
   ]
  },
  {
   "cell_type": "code",
   "execution_count": 28,
   "metadata": {},
   "outputs": [
    {
     "data": {
      "image/png": "[encoded data removed]",
      "text/plain": [
       "<Figure size 432x432 with 1 Axes>"
      ]
     },
     "metadata": {},
     "output_type": "display_data"
    }
   ],
   "source": [
    "users['tariff'].value_counts().plot(kind='pie',figsize=(6,6), autopct='%1.1f%%'); # процентное соотношение тарифов"
   ]
  },
  {
   "cell_type": "markdown",
   "metadata": {},
   "source": [
    "Пользователей тарифа smart больше более чем в 2 раза. Выборки совсем не одинаковые."
   ]
  },
  {
   "cell_type": "code",
   "execution_count": 29,
   "metadata": {},
   "outputs": [
    {
     "data": {
      "image/png": "[encoded data removed]",
      "text/plain": [
       "<Figure size 1080x360 with 1 Axes>"
      ]
     },
     "metadata": {
      "needs_background": "light"
     },
     "output_type": "display_data"
    }
   ],
   "source": [
    "# Фильтр продолжительности звонков по тарифам\n",
    "ultra_calls_sum = calls_sum[calls_sum['tariff']=='ultra'].drop(columns = ['user_id','tariff','source'], axis = 1)\n",
    "smart_calls_sum = calls_sum[calls_sum['tariff']=='smart'].drop(columns = ['user_id','tariff','source'], axis = 1)\n",
    "\n",
    "# Построение графика средней продолжительности звонков помесячно\n",
    "\n",
    "x = range(1,13) # список с месяцами\n",
    "plt.figure(figsize=(15, 5))\n",
    "plt.plot(x, smart_calls_sum.mean(), ultra_calls_sum.mean());\n",
    "plt.title ('Продолжительность звонков',fontsize = 15);\n",
    "plt.xlabel('Месяц', fontsize=12);\n",
    "plt.ylabel('Средняя продолжительность звонков в мин. за месяц', fontsize=12);\n",
    "plt.legend(labels=['smart','ultra'])\n",
    "plt.grid()"
   ]
  },
  {
   "cell_type": "markdown",
   "metadata": {},
   "source": [
    "В среднем пользователи тарифа Ультра больше разговаривают. До перерасхода по минутам в 3000 в Ультра тарифе клиентам далеко. А вот клиентам Смарта едва хватает включенных минут, что часто приводит к перерасходу."
   ]
  },
  {
   "cell_type": "code",
   "execution_count": 30,
   "metadata": {},
   "outputs": [
    {
     "data": {
      "image/png": "[encoded data removed]",
      "text/plain": [
       "<Figure size 1080x504 with 1 Axes>"
      ]
     },
     "metadata": {
      "needs_background": "light"
     },
     "output_type": "display_data"
    }
   ],
   "source": [
    "# Фильтр объема трафика по тарифам\n",
    "ultra_internet_sum = internet_sum[internet_sum['tariff']=='ultra'].drop(columns = ['user_id','tariff','source'], axis = 1)\n",
    "smart_internet_sum = internet_sum[internet_sum['tariff']=='smart'].drop(columns = ['user_id','tariff','source'], axis = 1)\n",
    "\n",
    "# Построение графика среднего использования интернета помесячно\n",
    "\n",
    "x = range(1,13) # список с месяцами\n",
    "plt.figure(figsize=(15, 7))\n",
    "plt.plot(x, smart_internet_sum.mean(), ultra_internet_sum.mean());\n",
    "plt.title ('Объем трафика',fontsize = 15);\n",
    "plt.xlabel('Месяц', fontsize=12);\n",
    "plt.ylabel('Объем трафика за месяц', fontsize=12);\n",
    "plt.legend(labels=['smart','ultra'])\n",
    "plt.grid()"
   ]
  },
  {
   "cell_type": "markdown",
   "metadata": {},
   "source": [
    "Интернет - самая популярная услуга. В среднем потребление интернета очень похоже по обоим тарифам, у клиентов Ультра чуть больше. Клинеты тарифа Ультра в основном укладываются в учтенный лимит в 30 Гб. А вот клиенты Смарта по большей части выходят за лимит в 15 Гб и часто платят сверх тарифа."
   ]
  },
  {
   "cell_type": "code",
   "execution_count": 31,
   "metadata": {},
   "outputs": [
    {
     "data": {
      "image/png": "[encoded data removed]",
      "text/plain": [
       "<Figure size 1080x360 with 1 Axes>"
      ]
     },
     "metadata": {
      "needs_background": "light"
     },
     "output_type": "display_data"
    }
   ],
   "source": [
    "# Фильтр количества сообщений по тарифам\n",
    "ultra_messages_count = messages_count[messages_count['tariff']=='ultra'].drop(columns = ['user_id','tariff','source'], axis = 1)\n",
    "smart_messages_count = messages_count[messages_count['tariff']=='smart'].drop(columns = ['user_id','tariff','source'], axis = 1)\n",
    "\n",
    "# Построение графика среднего количества сообщений помесячно\n",
    "\n",
    "x = range(1,13) # список с месяцами\n",
    "plt.figure(figsize=(15, 5))\n",
    "plt.plot(x, smart_messages_count.mean(), ultra_messages_count.mean());\n",
    "plt.title ('Количество сообщений',fontsize = 15);\n",
    "plt.xlabel('Месяц', fontsize=12);\n",
    "plt.ylabel('Количество сообщений за месяц', fontsize=12);\n",
    "plt.legend(labels=['smart','ultra'])\n",
    "plt.grid()"
   ]
  },
  {
   "cell_type": "markdown",
   "metadata": {},
   "source": [
    "Сообщения - самая не популярная услуга. Клиенты тарифа Ультра активней используют смс, а также с большим запасом укладываются в 1000 смс в месяц. Клиентам тарифа Смарт тоже хватает лимита в 50 смс. До верхней границы еще 10 смс, но они не популярны, а значит и перерасхода тоже нет."
   ]
  },
  {
   "cell_type": "markdown",
   "metadata": {},
   "source": [
    "### Посчитайте среднее количество, дисперсию и стандартное отклонение."
   ]
  },
  {
   "cell_type": "code",
   "execution_count": 32,
   "metadata": {},
   "outputs": [],
   "source": [
    "ultra_calls_sum_m = ultra_calls_sum.T.mean() # Среднее значение количества минут по каждому пользователю тарифа Ультра\n",
    "smart_calls_sum_m = smart_calls_sum.T.mean() # Среднее значение количества минут по каждому пользователю тарифа Смарт\n",
    "ultra_internet_sum_m = ultra_internet_sum.T.mean() # Среднее значение объема трафика по каждому пользователю тарифа Ультра\n",
    "smart_internet_sum_m = smart_internet_sum.T.mean() # Среднее значение объема трафика по каждому пользователю тарифа Смарт\n",
    "ultra_messages_count_m = ultra_messages_count.T.mean() # Среднее значение количества сообщений по каждому пользователю тарифа Ультра\n",
    "smart_messages_count_m = smart_messages_count.T.mean() # Среднее значение количества сообщений по каждому пользователю тарифа Смарт\n"
   ]
  },
  {
   "cell_type": "code",
   "execution_count": 33,
   "metadata": {},
   "outputs": [
    {
     "data": {
      "text/html": [
       "<div>\n",
       "<style scoped>\n",
       "    .dataframe tbody tr th:only-of-type {\n",
       "        vertical-align: middle;\n",
       "    }\n",
       "\n",
       "    .dataframe tbody tr th {\n",
       "        vertical-align: top;\n",
       "    }\n",
       "\n",
       "    .dataframe thead th {\n",
       "        text-align: right;\n",
       "    }\n",
       "</style>\n",
       "<table border=\"1\" class=\"dataframe\">\n",
       "  <thead>\n",
       "    <tr style=\"text-align: right;\">\n",
       "      <th></th>\n",
       "      <th>sum_calls</th>\n",
       "      <th>messages_count</th>\n",
       "      <th>internet_sum</th>\n",
       "    </tr>\n",
       "  </thead>\n",
       "  <tbody>\n",
       "    <tr>\n",
       "      <th>mean</th>\n",
       "      <td>222.44</td>\n",
       "      <td>20.53</td>\n",
       "      <td>8.67</td>\n",
       "    </tr>\n",
       "    <tr>\n",
       "      <th>median</th>\n",
       "      <td>192.42</td>\n",
       "      <td>15.00</td>\n",
       "      <td>8.25</td>\n",
       "    </tr>\n",
       "    <tr>\n",
       "      <th>var</th>\n",
       "      <td>21,127.72</td>\n",
       "      <td>343.44</td>\n",
       "      <td>25.25</td>\n",
       "    </tr>\n",
       "    <tr>\n",
       "      <th>std</th>\n",
       "      <td>145.35</td>\n",
       "      <td>18.53</td>\n",
       "      <td>5.03</td>\n",
       "    </tr>\n",
       "  </tbody>\n",
       "</table>\n",
       "</div>"
      ],
      "text/plain": [
       "        sum_calls  messages_count  internet_sum\n",
       "mean       222.44           20.53          8.67\n",
       "median     192.42           15.00          8.25\n",
       "var     21,127.72          343.44         25.25\n",
       "std        145.35           18.53          5.03"
      ]
     },
     "execution_count": 33,
     "metadata": {},
     "output_type": "execute_result"
    }
   ],
   "source": [
    "# Cреднее количество, медиана, дисперсия и стандартное отклонение длительности разговора, \n",
    "# интернет-трафика и количества сообщений  для тарифа \"Smart\":\n",
    "pd.options.display.float_format = '{:,.2f}'.format\n",
    "data_smart=[[smart_calls_sum_m.mean(),smart_messages_count_m.mean(),smart_internet_sum_m.mean()],\\\n",
    "      [smart_calls_sum_m.median(),smart_messages_count_m.median(),smart_internet_sum_m.median()],\\\n",
    "      [np.var(smart_calls_sum_m, ddof=1),np.var(smart_messages_count_m, ddof=1),np.var(smart_internet_sum_m, ddof=1)],\\\n",
    "      [np.std(smart_calls_sum_m, ddof=1),np.std(smart_messages_count_m, ddof=1),np.std(smart_internet_sum_m, ddof=1)]]\n",
    "columns_smart=['sum_calls','messages_count','internet_sum']\n",
    "pd.DataFrame(data=data_smart,columns=columns_smart, index=['mean','median','var','std'])"
   ]
  },
  {
   "cell_type": "code",
   "execution_count": 34,
   "metadata": {
    "scrolled": false
   },
   "outputs": [
    {
     "data": {
      "text/html": [
       "<div>\n",
       "<style scoped>\n",
       "    .dataframe tbody tr th:only-of-type {\n",
       "        vertical-align: middle;\n",
       "    }\n",
       "\n",
       "    .dataframe tbody tr th {\n",
       "        vertical-align: top;\n",
       "    }\n",
       "\n",
       "    .dataframe thead th {\n",
       "        text-align: right;\n",
       "    }\n",
       "</style>\n",
       "<table border=\"1\" class=\"dataframe\">\n",
       "  <thead>\n",
       "    <tr style=\"text-align: right;\">\n",
       "      <th></th>\n",
       "      <th>sum_calls</th>\n",
       "      <th>messages_count</th>\n",
       "      <th>internet_sum</th>\n",
       "    </tr>\n",
       "  </thead>\n",
       "  <tbody>\n",
       "    <tr>\n",
       "      <th>mean</th>\n",
       "      <td>302.29</td>\n",
       "      <td>32.68</td>\n",
       "      <td>10.89</td>\n",
       "    </tr>\n",
       "    <tr>\n",
       "      <th>median</th>\n",
       "      <td>270.58</td>\n",
       "      <td>24.62</td>\n",
       "      <td>9.25</td>\n",
       "    </tr>\n",
       "    <tr>\n",
       "      <th>var</th>\n",
       "      <td>48,655.74</td>\n",
       "      <td>772.54</td>\n",
       "      <td>51.85</td>\n",
       "    </tr>\n",
       "    <tr>\n",
       "      <th>std</th>\n",
       "      <td>220.58</td>\n",
       "      <td>27.79</td>\n",
       "      <td>7.20</td>\n",
       "    </tr>\n",
       "  </tbody>\n",
       "</table>\n",
       "</div>"
      ],
      "text/plain": [
       "        sum_calls  messages_count  internet_sum\n",
       "mean       302.29           32.68         10.89\n",
       "median     270.58           24.62          9.25\n",
       "var     48,655.74          772.54         51.85\n",
       "std        220.58           27.79          7.20"
      ]
     },
     "execution_count": 34,
     "metadata": {},
     "output_type": "execute_result"
    }
   ],
   "source": [
    "# Cреднее количество, медиана, дисперсия и стандартное отклонение длительности разговора, \n",
    "# интернет-трафика и количества сообщений для тарифа \"Ultra\":\n",
    "data_ultra=[[ultra_calls_sum_m.mean(),ultra_messages_count_m.mean(),ultra_internet_sum_m.mean()],\\\n",
    "      [ultra_calls_sum_m.median(),ultra_messages_count_m.median(),ultra_internet_sum_m.median()],\\\n",
    "      [np.var(ultra_calls_sum_m, ddof=1),np.var(ultra_messages_count_m, ddof=1),np.var(ultra_internet_sum_m, ddof=1)],\\\n",
    "      [np.std(ultra_calls_sum_m, ddof=1),np.std(ultra_messages_count_m, ddof=1),np.std(ultra_internet_sum_m, ddof=1)]]\n",
    "columns_ultra=['sum_calls','messages_count','internet_sum']\n",
    "pd.DataFrame(data=data_ultra,columns=columns_ultra,index=['mean','median','var','std'])"
   ]
  },
  {
   "cell_type": "markdown",
   "metadata": {},
   "source": [
    "Различия между средним и медианой не велики, значит выбросов не много. \n",
    "\n",
    "Наибольшее стандартное отклонение  наблюдается у продолжительности звонков на тарифе Ультра, так же у сообщений на обоих тарифах. Значит есть большой разброс в значениях, особенно в большую сторону, что так же видно по медиане. И минимальное стандартное отклонение у трафика на тарифе Смарт. Это значит, что разброс значений находится на небольшом промежутке.\n",
    "\n",
    "В среднем на тарифе Ультра используют 302,3 мин для звонков, 32,7 смс и 10,9 гб интернета.\n",
    "\n",
    "В среднем на тарифе Смарт используют 222,4 мин для звонков, 20,5 смс и 8,7 гб интернета."
   ]
  },
  {
   "cell_type": "markdown",
   "metadata": {},
   "source": [
    "### Постройте гистограммы. Опишите распределения."
   ]
  },
  {
   "cell_type": "code",
   "execution_count": 35,
   "metadata": {},
   "outputs": [
    {
     "data": {
      "image/png": "[encoded data removed]",
      "text/plain": [
       "<Figure size 720x504 with 1 Axes>"
      ]
     },
     "metadata": {
      "needs_background": "light"
     },
     "output_type": "display_data"
    }
   ],
   "source": [
    "# Строю гистограммы длительности разговора:\n",
    "smart_calls_sum_m.hist(bins=20,figsize=(10,7),label='smart');\n",
    "ultra_calls_sum_m.hist(bins=20,figsize=(10,7),alpha=0.7,label='ultra');\n",
    "plt.legend();"
   ]
  },
  {
   "cell_type": "markdown",
   "metadata": {},
   "source": [
    "Распределения напоминают распределение Пуассона. Гистограммы смещены вправо, среднее больше медианы. Мало кто разговаривает больше 600 мин."
   ]
  },
  {
   "cell_type": "code",
   "execution_count": 36,
   "metadata": {},
   "outputs": [
    {
     "data": {
      "image/png": "[encoded data removed]",
      "text/plain": [
       "<Figure size 720x504 with 1 Axes>"
      ]
     },
     "metadata": {
      "needs_background": "light"
     },
     "output_type": "display_data"
    }
   ],
   "source": [
    "#Строю гистограммы количества сообщений:\n",
    "smart_messages_count_m.hist(bins=20,figsize=(10,7),label='smart');\n",
    "ultra_messages_count_m.hist(bins=20,figsize=(10,7),alpha=0.7,label='ultra');\n",
    "plt.legend();"
   ]
  },
  {
   "cell_type": "markdown",
   "metadata": {},
   "source": [
    "Распределения напоминают распределение Пуассона. Гистограммы смещены вправо, среднее больше медианы."
   ]
  },
  {
   "cell_type": "code",
   "execution_count": 37,
   "metadata": {},
   "outputs": [
    {
     "data": {
      "image/png": "[encoded data removed]",
      "text/plain": [
       "<Figure size 720x504 with 1 Axes>"
      ]
     },
     "metadata": {
      "needs_background": "light"
     },
     "output_type": "display_data"
    }
   ],
   "source": [
    "#Строим гистограммы объема интернет-трафика:\n",
    "smart_internet_sum_m.hist(bins=20,figsize=(10,7),label='smart');\n",
    "ultra_internet_sum_m.hist(bins=20,figsize=(10,7),alpha=0.7,label='ultra');\n",
    "plt.legend();"
   ]
  },
  {
   "cell_type": "markdown",
   "metadata": {},
   "source": [
    "Распределения напоминают распределение Пуассона. Гистограммы смещены вправо, среднее больше медианы. Почти все укладываются в 20 Гб."
   ]
  },
  {
   "cell_type": "markdown",
   "metadata": {},
   "source": [
    "***Вывод:***"
   ]
  },
  {
   "cell_type": "markdown",
   "metadata": {},
   "source": [
    " - Пользователей тарифа Смарт больше более чем в 2 раза, чем пользователей тарифа Ультра.\n",
    " - Гистограммы по обоим Тарифам распределены не нормально, и напоминают распределение Пуассона.\n",
    " - По интернету. Пользователи тарифа Смарт не редко превышают лимит по интернету. Со средним значением в 8,6 Гб, при лимите в 15 Гб. Так же хорошо видно из гистограммы. По тарифу Ультра в основном укладываются в лимит интернета.\n",
    " - По звонкам. Пользователи тарифа Смарт в основном укладываются в лимит по звонкам в 500 мин. Не многие превышают лимит. Клиенты тарифа Ультра укладываются в лимит по минутам.\n",
    " - По сообщениям. Пользователи тарифа Смарт в большинстве укладываются в лимит в 50 смс. Клиентам тарифа Ультра с большим запасом хватает сообщений с лимитом в 1000."
   ]
  },
  {
   "cell_type": "markdown",
   "metadata": {},
   "source": [
    "## Проверка гипотез."
   ]
  },
  {
   "cell_type": "markdown",
   "metadata": {},
   "source": [
    "###  Cредняя выручка пользователей тарифов «Ультра» и «Смарт» различаются."
   ]
  },
  {
   "cell_type": "markdown",
   "metadata": {},
   "source": [
    "На основе анализа данных проверим гипотезу о том, что средняя выручка пользователей тарифов «Ультра» и «Смарт» различаются. Предположим, что средняя выручка пользователей тарифа Ультра больше, чем тарифа Смарт. Исходя из того, что мы всегда формулируем нулевую гипотезу со знаком равенства, нулевая гипотеза будет звучать следующим образом:\n",
    "\n",
    "*** H0 - Cредняя выручка пользователей тарифов «Ультра» и «Смарт» равны. ***\n",
    "\n",
    "У меня есть основания полагать, что различаться они будут в одну сторону. Соответственно односторонняя альтернативная гипотеза будет звучать:\n",
    "\n",
    "*** H1 - Cредняя выручка пользователей тарифа «Ультра» больше средней выручки пользователей тарифа «Смарт». ***\n",
    "\n",
    "Я буду сравнивать равенство среднего двух генеральных совокупностей по взятым из них выборкам, для этого есть метод scipy.stats.ttest_ind (array1, array2, equal_var)."
   ]
  },
  {
   "cell_type": "code",
   "execution_count": 38,
   "metadata": {},
   "outputs": [],
   "source": [
    "# средняя выручка по тарифу Смарт по каждому пользователю \n",
    "final_sum_smart = final_sum[final_sum['tariff']=='smart'].drop(columns = ['user_id','tariff']).T.mean()\n",
    "# средняя выручка по тарифу Ультра по каждому пользователю \n",
    "final_sum_ultra = final_sum[final_sum['tariff']=='ultra'].drop(columns = ['user_id','tariff']).T.mean()"
   ]
  },
  {
   "cell_type": "code",
   "execution_count": 39,
   "metadata": {},
   "outputs": [
    {
     "name": "stdout",
     "output_type": "stream",
     "text": [
      "P-value: 2.0994461196907383e-16\n",
      "Отвергаем нулевую гипотезу\n"
     ]
    },
    {
     "data": {
      "text/plain": [
       "Ttest_indResult(statistic=-8.772027926777717, pvalue=4.1988922393814766e-16)"
      ]
     },
     "execution_count": 39,
     "metadata": {},
     "output_type": "execute_result"
    }
   ],
   "source": [
    "alpha = 0.01 # пороговое значение альфа\n",
    "results = st.ttest_ind(final_sum_smart, final_sum_ultra, equal_var = False) \n",
    "print('P-value:', results.pvalue / 2)\n",
    "\n",
    "if (results.pvalue / 2 < alpha):\n",
    "     print(\"Отвергаем нулевую гипотезу\")\n",
    "else:\n",
    "     print(\"Не получилось отвергнуть нулевую гипотезу\")\n",
    "results"
   ]
  },
  {
   "cell_type": "code",
   "execution_count": 40,
   "metadata": {},
   "outputs": [
    {
     "name": "stdout",
     "output_type": "stream",
     "text": [
      "Средняя выручка по тарифу Смарт: 684.6073809523807\n",
      "Средняя выручка по тарифу Ультра: 1148.1418918918919\n"
     ]
    }
   ],
   "source": [
    "# Проверка средней выручки.\n",
    "print ('Средняя выручка по тарифу Смарт:',final_sum_smart.mean())\n",
    "print ('Средняя выручка по тарифу Ультра:',final_sum_ultra.mean())"
   ]
  },
  {
   "cell_type": "markdown",
   "metadata": {},
   "source": [
    "Можно смело отвергать нулевую гипотезу. Даже если мы возьмем пороговое значение меньше, нулевая гипотеза остается очень маловероятной. Все говорит в пользу альтернативной гипотезы. А значит мы принимаем гипотезу о том, что средняя выручка пользователей тарифа «Ультра» больше средней выручки пользователей тарифа «Смарт». "
   ]
  },
  {
   "cell_type": "markdown",
   "metadata": {},
   "source": [
    "### Cредняя выручка пользователей из Москвы отличается от выручки пользователей из других регионов."
   ]
  },
  {
   "cell_type": "markdown",
   "metadata": {},
   "source": [
    "На основе анализа данных проверим гипотезу о том, что средняя выручка пользователей из Москвы отличается от выручки пользователей из других регионов. Предположим, что средняя выручка пользователей из Москвы отличается от средней выручки пользователей из других регионов. Исходя из того, что мы всегда формулируем нулевую гипотезу со знаком равенства, нулевая гипотеза будет звучать следующим образом:\n",
    "\n",
    "*** H0 - Cредняя выручка пользователей из Москвы равна средней выручки пользователей из других регионов. ***\n",
    "\n",
    "Я не могу предположить в какую сторону они будут различаться, поэтому сформулирую двустороннюю альтернативную гипотезу:\n",
    "\n",
    "*** H1 - Cредняя выручка пользователей из Москвы отличается от выручки пользователей из других регионов. ***\n",
    "\n",
    "Я буду сравнивать равенство среднего двух генеральных совокупностей по взятым из них выборкам, для этого есть метод scipy.stats.ttest_ind (array1, array2, equal_var)."
   ]
  },
  {
   "cell_type": "code",
   "execution_count": 41,
   "metadata": {},
   "outputs": [],
   "source": [
    "final_sum = final_sum.merge(users[['user_id','city']],on='user_id') # добавляем столбец по городу\n",
    "final_sum_mocsow = final_sum[final_sum['city']=='Москва'] # фильтрую по городу Москва\n",
    "final_sum_mocsow = final_sum_mocsow.drop(columns = ['user_id','tariff','city']).T.mean() # средняя выручка по Москве по каждому пользователю \n",
    "final_sum_regions = final_sum[final_sum['city']!='Москва'] # фильтрую по регионам\n",
    "final_sum_regions = final_sum_regions.drop(columns = ['user_id','tariff','city']).T.mean() # средняя выручка по регионам по каждому пользователю "
   ]
  },
  {
   "cell_type": "code",
   "execution_count": 42,
   "metadata": {},
   "outputs": [
    {
     "name": "stdout",
     "output_type": "stream",
     "text": [
      "P-value: 0.5864727434062588\n",
      "Не получилось отвергнуть нулевую гипотезу\n"
     ]
    },
    {
     "data": {
      "text/plain": [
       "Ttest_indResult(statistic=-0.545166139500297, pvalue=0.5864727434062588)"
      ]
     },
     "execution_count": 42,
     "metadata": {},
     "output_type": "execute_result"
    }
   ],
   "source": [
    "alpha = 0.01 # пороговое значение альфа\n",
    "results = st.ttest_ind(final_sum_mocsow, final_sum_regions, equal_var = False)\n",
    "print('P-value:', results.pvalue)\n",
    "\n",
    "if (results.pvalue < alpha):\n",
    "     print(\"Отвергаем нулевую гипотезу\")\n",
    "else:\n",
    "     print(\"Не получилось отвергнуть нулевую гипотезу\")\n",
    "results"
   ]
  },
  {
   "cell_type": "code",
   "execution_count": 43,
   "metadata": {},
   "outputs": [
    {
     "name": "stdout",
     "output_type": "stream",
     "text": [
      "Средняя выручка по Москве: 795.489898989899\n",
      "Средняя выручка по регионам: 829.0327903091058\n"
     ]
    }
   ],
   "source": [
    "print ('Средняя выручка по Москве:',final_sum_mocsow.mean())\n",
    "print ('Средняя выручка по регионам:',final_sum_regions.mean())"
   ]
  },
  {
   "cell_type": "markdown",
   "metadata": {},
   "source": [
    "Не получилось отвергнуть нулевую гипотезу, значение p-value слишком велико, чтобы отвергнуть ее. После сравнения средних выручек видно насколько они близко по значениям. А значит мы принимаем нулевую гипотезу о том, что средняя выручка пользователей из Москвы равна средней выручки пользователей из других регионов."
   ]
  },
  {
   "cell_type": "markdown",
   "metadata": {},
   "source": [
    "***Вывод:***"
   ]
  },
  {
   "cell_type": "markdown",
   "metadata": {},
   "source": [
    "На основании статистических тестов были приняты следующие гипотезы:\n",
    "* Cредняя выручка пользователей тарифа «Ультра» больше средней выручки пользователей тарифа «Смарт».\n",
    "* Cредняя выручка пользователей из Москвы равна средней выручки пользователей из других регионов."
   ]
  },
  {
   "cell_type": "markdown",
   "metadata": {},
   "source": [
    "## Общий вывод."
   ]
  },
  {
   "cell_type": "markdown",
   "metadata": {},
   "source": [
    "Я проанализировал данные о 500 клиентах компаниии \"Мегалайн\", проверил 2 гипотезы и выяснил:\n",
    "\n",
    "* Пользователей тарифа Смарт больше более чем в 2 раза, чем пользователей тарифа Ультра. Люди охотней выбирают тариф Смарт.\n",
    "* Пользователи чаще и больше переплачивают по тарифу Смарт, чем пользователи тарифа Ультра.\n",
    "* Доступ в интернет - самая популярная услуга, им не воспользовался всего 1 человек из выборки. И чаще всего именно по этой услуге идет переплата по тарифу. В основном по тарифу Смарт.\n",
    "* Пользователи тарифа Смарт чаще и больше переплачивают по тарифу, чем пользователи тарифа Ультра.\n",
    "* Отвергли нулевую гипотезу в пользу альтернативной. Принимаем альтернативную гипотезу о том, что средняя выручка пользователей тарифа «Ультра» больше средней выручки пользователей тарифа «Смарт».\n",
    "* Не получилось отвергнуть нулевую гипотезу. Принимаем нулевую гипотезу о том, что средняя выручка пользователей из Москвы равна средней выручки пользователей из других регионов.\n",
    "\n",
    "Тариф Смарт принес больше денег. Общая выручка по тарифу Смарт за 2018 год составила 2 875 351 руб., что больше чем по тарифу Ультра на 840 000 руб. За счет того, что пользователей больше в 2 раза и много переплат. Но средняя выручка у тарифа Ультра больше на 460р., плюс по большей части отсутствие переплат, делает Ультра перспективным тарифом.\n",
    "\n",
    "Можно сделать вывод о том, что вкладывать рекламный бюджет стоит в тариф Ультра. Чем больше привлечь клиентов по этому тарифу, тем больше вырастет выручка.\n"
   ]
  }
 ],
 "metadata": {
  "ExecuteTimeLog": [
   {
    "duration": 1237,
    "start_time": "2022-02-15T02:58:04.819Z"
   },
   {
    "duration": 4,
    "start_time": "2022-02-15T03:08:44.857Z"
   },
   {
    "duration": 3,
    "start_time": "2022-02-15T03:08:57.200Z"
   },
   {
    "duration": 3,
    "start_time": "2022-02-15T03:09:13.391Z"
   },
   {
    "duration": 23,
    "start_time": "2022-02-15T03:47:01.972Z"
   },
   {
    "duration": 400,
    "start_time": "2022-02-15T03:57:15.192Z"
   },
   {
    "duration": 20,
    "start_time": "2022-02-15T03:58:12.752Z"
   },
   {
    "duration": 371,
    "start_time": "2022-02-15T04:01:00.569Z"
   },
   {
    "duration": 14,
    "start_time": "2022-02-15T04:01:17.720Z"
   },
   {
    "duration": 5,
    "start_time": "2022-02-15T04:01:56.383Z"
   },
   {
    "duration": 17,
    "start_time": "2022-02-15T04:41:05.532Z"
   },
   {
    "duration": 10,
    "start_time": "2022-02-15T04:52:02.947Z"
   },
   {
    "duration": 10,
    "start_time": "2022-02-15T04:52:20.196Z"
   },
   {
    "duration": 10,
    "start_time": "2022-02-15T04:52:56.458Z"
   },
   {
    "duration": 12,
    "start_time": "2022-02-15T05:04:29.483Z"
   },
   {
    "duration": 10,
    "start_time": "2022-02-15T05:04:37.150Z"
   },
   {
    "duration": 2,
    "start_time": "2022-02-15T05:44:16.892Z"
   },
   {
    "duration": 794,
    "start_time": "2022-02-15T05:51:44.024Z"
   },
   {
    "duration": 138,
    "start_time": "2022-02-15T05:51:44.820Z"
   },
   {
    "duration": 101,
    "start_time": "2022-02-15T05:51:44.960Z"
   },
   {
    "duration": 22,
    "start_time": "2022-02-15T05:51:45.063Z"
   },
   {
    "duration": 37,
    "start_time": "2022-02-15T05:51:45.087Z"
   },
   {
    "duration": 9,
    "start_time": "2022-02-15T05:55:18.957Z"
   },
   {
    "duration": 373,
    "start_time": "2022-02-15T05:55:29.171Z"
   },
   {
    "duration": 311,
    "start_time": "2022-02-15T05:55:40.300Z"
   },
   {
    "duration": 10,
    "start_time": "2022-02-15T05:55:54.724Z"
   },
   {
    "duration": 13,
    "start_time": "2022-02-15T05:58:46.565Z"
   },
   {
    "duration": 5,
    "start_time": "2022-02-15T05:59:28.212Z"
   },
   {
    "duration": 17,
    "start_time": "2022-02-15T06:00:07.890Z"
   },
   {
    "duration": 6,
    "start_time": "2022-02-15T06:00:17.074Z"
   },
   {
    "duration": 7,
    "start_time": "2022-02-15T06:01:42.120Z"
   },
   {
    "duration": 6,
    "start_time": "2022-02-15T06:03:33.020Z"
   },
   {
    "duration": 6,
    "start_time": "2022-02-15T06:04:23.451Z"
   },
   {
    "duration": 5,
    "start_time": "2022-02-15T06:04:43.098Z"
   },
   {
    "duration": 744,
    "start_time": "2022-02-15T06:05:35.713Z"
   },
   {
    "duration": 129,
    "start_time": "2022-02-15T06:05:36.461Z"
   },
   {
    "duration": 89,
    "start_time": "2022-02-15T06:05:36.592Z"
   },
   {
    "duration": 22,
    "start_time": "2022-02-15T06:05:36.683Z"
   },
   {
    "duration": 35,
    "start_time": "2022-02-15T06:05:36.707Z"
   },
   {
    "duration": 7,
    "start_time": "2022-02-15T06:05:36.744Z"
   },
   {
    "duration": 8,
    "start_time": "2022-02-15T06:10:04.248Z"
   },
   {
    "duration": 16,
    "start_time": "2022-02-15T06:31:44.076Z"
   },
   {
    "duration": 5,
    "start_time": "2022-02-15T06:32:06.276Z"
   },
   {
    "duration": 81,
    "start_time": "2022-02-15T06:46:48.558Z"
   },
   {
    "duration": 88,
    "start_time": "2022-02-15T06:47:02.142Z"
   },
   {
    "duration": 80,
    "start_time": "2022-02-15T06:48:45.956Z"
   },
   {
    "duration": 87,
    "start_time": "2022-02-15T06:50:08.681Z"
   },
   {
    "duration": 86,
    "start_time": "2022-02-15T06:50:43.728Z"
   },
   {
    "duration": 37,
    "start_time": "2022-02-15T06:53:12.491Z"
   },
   {
    "duration": 88,
    "start_time": "2022-02-15T06:54:20.737Z"
   },
   {
    "duration": 37,
    "start_time": "2022-02-15T06:54:24.216Z"
   },
   {
    "duration": 64,
    "start_time": "2022-02-15T07:10:06.665Z"
   },
   {
    "duration": 64,
    "start_time": "2022-02-15T07:13:50.023Z"
   },
   {
    "duration": 93,
    "start_time": "2022-02-15T08:45:07.262Z"
   },
   {
    "duration": 123,
    "start_time": "2022-02-15T09:00:16.665Z"
   },
   {
    "duration": 135,
    "start_time": "2022-02-15T09:00:22.167Z"
   },
   {
    "duration": 158,
    "start_time": "2022-02-15T09:00:27.665Z"
   },
   {
    "duration": 772,
    "start_time": "2022-02-15T09:01:13.589Z"
   },
   {
    "duration": 139,
    "start_time": "2022-02-15T09:01:14.363Z"
   },
   {
    "duration": 98,
    "start_time": "2022-02-15T09:01:14.504Z"
   },
   {
    "duration": 22,
    "start_time": "2022-02-15T09:01:14.604Z"
   },
   {
    "duration": 47,
    "start_time": "2022-02-15T09:01:14.628Z"
   },
   {
    "duration": 7,
    "start_time": "2022-02-15T09:01:14.677Z"
   },
   {
    "duration": 13,
    "start_time": "2022-02-15T09:01:14.686Z"
   },
   {
    "duration": 98,
    "start_time": "2022-02-15T09:01:14.701Z"
   },
   {
    "duration": 46,
    "start_time": "2022-02-15T09:01:14.801Z"
   },
   {
    "duration": 62,
    "start_time": "2022-02-15T09:01:14.848Z"
   },
   {
    "duration": 83,
    "start_time": "2022-02-15T09:01:14.911Z"
   },
   {
    "duration": 161,
    "start_time": "2022-02-15T09:01:14.995Z"
   },
   {
    "duration": 172,
    "start_time": "2022-02-15T09:01:21.078Z"
   },
   {
    "duration": 6044,
    "start_time": "2022-02-15T09:01:36.541Z"
   },
   {
    "duration": 172,
    "start_time": "2022-02-15T09:01:53.830Z"
   },
   {
    "duration": 146,
    "start_time": "2022-02-15T09:12:45.160Z"
   },
   {
    "duration": 172,
    "start_time": "2022-02-15T09:22:03.754Z"
   },
   {
    "duration": 504,
    "start_time": "2022-02-15T09:26:20.717Z"
   },
   {
    "duration": 172,
    "start_time": "2022-02-15T09:26:37.676Z"
   },
   {
    "duration": 154,
    "start_time": "2022-02-15T09:27:30.067Z"
   },
   {
    "duration": 188,
    "start_time": "2022-02-15T09:28:09.058Z"
   },
   {
    "duration": 165,
    "start_time": "2022-02-15T09:39:44.467Z"
   },
   {
    "duration": 178,
    "start_time": "2022-02-15T09:41:08.631Z"
   },
   {
    "duration": 217,
    "start_time": "2022-02-15T09:56:33.337Z"
   },
   {
    "duration": 257,
    "start_time": "2022-02-15T09:56:47.113Z"
   },
   {
    "duration": 309,
    "start_time": "2022-02-15T09:56:58.783Z"
   },
   {
    "duration": 1117,
    "start_time": "2022-02-15T11:18:23.156Z"
   },
   {
    "duration": 1005,
    "start_time": "2022-02-15T11:18:46.364Z"
   },
   {
    "duration": 200,
    "start_time": "2022-02-15T11:18:47.371Z"
   },
   {
    "duration": 136,
    "start_time": "2022-02-15T11:18:47.575Z"
   },
   {
    "duration": 27,
    "start_time": "2022-02-15T11:18:47.714Z"
   },
   {
    "duration": 47,
    "start_time": "2022-02-15T11:18:47.744Z"
   },
   {
    "duration": 12,
    "start_time": "2022-02-15T11:18:47.793Z"
   },
   {
    "duration": 11,
    "start_time": "2022-02-15T11:18:47.807Z"
   },
   {
    "duration": 186,
    "start_time": "2022-02-15T11:18:47.824Z"
   },
   {
    "duration": 82,
    "start_time": "2022-02-15T11:18:48.014Z"
   },
   {
    "duration": 112,
    "start_time": "2022-02-15T11:18:48.098Z"
   },
   {
    "duration": 126,
    "start_time": "2022-02-15T11:18:48.213Z"
   },
   {
    "duration": 348,
    "start_time": "2022-02-15T11:18:48.341Z"
   },
   {
    "duration": 300,
    "start_time": "2022-02-15T11:18:48.691Z"
   },
   {
    "duration": 349,
    "start_time": "2022-02-15T11:18:48.994Z"
   },
   {
    "duration": 51,
    "start_time": "2022-02-15T11:18:49.346Z"
   },
   {
    "duration": 3,
    "start_time": "2022-02-15T11:18:49.400Z"
   },
   {
    "duration": 70,
    "start_time": "2022-02-15T11:18:59.594Z"
   },
   {
    "duration": 3,
    "start_time": "2022-02-15T11:19:44.010Z"
   },
   {
    "duration": 7,
    "start_time": "2022-02-15T11:27:29.970Z"
   },
   {
    "duration": 6,
    "start_time": "2022-02-15T11:27:44.826Z"
   },
   {
    "duration": 7,
    "start_time": "2022-02-15T11:27:48.497Z"
   },
   {
    "duration": 7,
    "start_time": "2022-02-15T11:27:49.624Z"
   },
   {
    "duration": 7,
    "start_time": "2022-02-15T11:27:50.337Z"
   },
   {
    "duration": 17,
    "start_time": "2022-02-15T11:28:08.768Z"
   },
   {
    "duration": 7,
    "start_time": "2022-02-15T11:28:38.904Z"
   },
   {
    "duration": 7,
    "start_time": "2022-02-15T11:28:57.152Z"
   },
   {
    "duration": 340,
    "start_time": "2022-02-15T11:29:31.982Z"
   },
   {
    "duration": 6,
    "start_time": "2022-02-15T11:30:04.157Z"
   },
   {
    "duration": 7,
    "start_time": "2022-02-15T11:30:14.140Z"
   },
   {
    "duration": 7,
    "start_time": "2022-02-15T11:30:17.867Z"
   },
   {
    "duration": 294,
    "start_time": "2022-02-15T11:30:50.839Z"
   },
   {
    "duration": 7,
    "start_time": "2022-02-15T11:31:07.699Z"
   },
   {
    "duration": 9,
    "start_time": "2022-02-15T11:31:42.362Z"
   },
   {
    "duration": 17,
    "start_time": "2022-02-15T11:32:23.797Z"
   },
   {
    "duration": 10,
    "start_time": "2022-02-15T11:32:39.928Z"
   },
   {
    "duration": 7,
    "start_time": "2022-02-15T11:33:03.967Z"
   },
   {
    "duration": 8,
    "start_time": "2022-02-15T11:34:17.863Z"
   },
   {
    "duration": 9,
    "start_time": "2022-02-15T11:35:11.123Z"
   },
   {
    "duration": 7,
    "start_time": "2022-02-15T11:35:18.834Z"
   },
   {
    "duration": 9,
    "start_time": "2022-02-15T11:35:31.907Z"
   },
   {
    "duration": 7,
    "start_time": "2022-02-15T11:35:37.410Z"
   },
   {
    "duration": 7,
    "start_time": "2022-02-15T11:36:18.867Z"
   },
   {
    "duration": 7,
    "start_time": "2022-02-15T11:36:27.252Z"
   },
   {
    "duration": 652,
    "start_time": "2022-02-15T11:37:15.630Z"
   },
   {
    "duration": 7,
    "start_time": "2022-02-15T11:37:23.534Z"
   },
   {
    "duration": 96,
    "start_time": "2022-02-15T11:38:29.185Z"
   },
   {
    "duration": 6,
    "start_time": "2022-02-15T11:38:37.740Z"
   },
   {
    "duration": 7,
    "start_time": "2022-02-15T11:38:46.158Z"
   },
   {
    "duration": 7,
    "start_time": "2022-02-15T11:39:29.949Z"
   },
   {
    "duration": 7,
    "start_time": "2022-02-15T11:40:48.711Z"
   },
   {
    "duration": 6,
    "start_time": "2022-02-15T11:40:59.927Z"
   },
   {
    "duration": 8,
    "start_time": "2022-02-15T11:42:14.525Z"
   },
   {
    "duration": 17,
    "start_time": "2022-02-15T11:42:18.668Z"
   },
   {
    "duration": 10,
    "start_time": "2022-02-15T11:43:01.140Z"
   },
   {
    "duration": 18,
    "start_time": "2022-02-15T11:45:45.310Z"
   },
   {
    "duration": 241,
    "start_time": "2022-02-15T11:46:02.595Z"
   },
   {
    "duration": 291,
    "start_time": "2022-02-15T11:47:15.915Z"
   },
   {
    "duration": 309,
    "start_time": "2022-02-15T11:47:20.883Z"
   },
   {
    "duration": 9,
    "start_time": "2022-02-15T11:47:29.947Z"
   },
   {
    "duration": 273,
    "start_time": "2022-02-15T11:48:11.641Z"
   },
   {
    "duration": 13,
    "start_time": "2022-02-15T11:48:32.093Z"
   },
   {
    "duration": 108,
    "start_time": "2022-02-15T11:49:07.643Z"
   },
   {
    "duration": 20,
    "start_time": "2022-02-15T11:49:14.626Z"
   },
   {
    "duration": 10,
    "start_time": "2022-02-15T11:49:48.001Z"
   },
   {
    "duration": 28,
    "start_time": "2022-02-15T11:50:16.178Z"
   },
   {
    "duration": 11,
    "start_time": "2022-02-15T11:50:34.353Z"
   },
   {
    "duration": 12,
    "start_time": "2022-02-15T11:51:19.455Z"
   },
   {
    "duration": 13,
    "start_time": "2022-02-15T11:51:28.542Z"
   },
   {
    "duration": 17,
    "start_time": "2022-02-15T11:51:59.581Z"
   },
   {
    "duration": 8,
    "start_time": "2022-02-15T11:52:13.540Z"
   },
   {
    "duration": 8,
    "start_time": "2022-02-15T11:53:35.658Z"
   },
   {
    "duration": 17,
    "start_time": "2022-02-15T11:54:21.016Z"
   },
   {
    "duration": 9,
    "start_time": "2022-02-15T11:54:29.919Z"
   },
   {
    "duration": 9,
    "start_time": "2022-02-15T11:57:53.258Z"
   },
   {
    "duration": 9,
    "start_time": "2022-02-15T11:58:03.137Z"
   },
   {
    "duration": 9,
    "start_time": "2022-02-15T11:58:07.129Z"
   },
   {
    "duration": 11,
    "start_time": "2022-02-15T11:58:12.920Z"
   },
   {
    "duration": 9,
    "start_time": "2022-02-15T16:30:12.312Z"
   },
   {
    "duration": 5,
    "start_time": "2022-02-15T16:30:31.858Z"
   },
   {
    "duration": 4,
    "start_time": "2022-02-15T16:30:51.794Z"
   },
   {
    "duration": 5,
    "start_time": "2022-02-15T16:31:22.051Z"
   },
   {
    "duration": 4,
    "start_time": "2022-02-15T16:31:44.129Z"
   },
   {
    "duration": 6,
    "start_time": "2022-02-15T16:31:51.173Z"
   },
   {
    "duration": 204,
    "start_time": "2022-02-15T16:32:54.553Z"
   },
   {
    "duration": 166,
    "start_time": "2022-02-15T16:33:04.809Z"
   },
   {
    "duration": 174,
    "start_time": "2022-02-15T16:33:14.626Z"
   },
   {
    "duration": 168,
    "start_time": "2022-02-15T16:33:18.713Z"
   },
   {
    "duration": 58,
    "start_time": "2022-02-15T16:38:51.818Z"
   },
   {
    "duration": 61,
    "start_time": "2022-02-15T16:39:03.393Z"
   },
   {
    "duration": 177,
    "start_time": "2022-02-15T16:39:15.098Z"
   },
   {
    "duration": 782,
    "start_time": "2022-02-15T16:39:35.955Z"
   },
   {
    "duration": 140,
    "start_time": "2022-02-15T16:39:36.739Z"
   },
   {
    "duration": 97,
    "start_time": "2022-02-15T16:39:36.882Z"
   },
   {
    "duration": 20,
    "start_time": "2022-02-15T16:39:36.981Z"
   },
   {
    "duration": 52,
    "start_time": "2022-02-15T16:39:37.002Z"
   },
   {
    "duration": 9,
    "start_time": "2022-02-15T16:39:37.056Z"
   },
   {
    "duration": 10,
    "start_time": "2022-02-15T16:39:37.067Z"
   },
   {
    "duration": 111,
    "start_time": "2022-02-15T16:39:37.080Z"
   },
   {
    "duration": 41,
    "start_time": "2022-02-15T16:39:37.193Z"
   },
   {
    "duration": 84,
    "start_time": "2022-02-15T16:39:37.235Z"
   },
   {
    "duration": 75,
    "start_time": "2022-02-15T16:39:37.320Z"
   },
   {
    "duration": 189,
    "start_time": "2022-02-15T16:39:37.396Z"
   },
   {
    "duration": 165,
    "start_time": "2022-02-15T16:39:37.586Z"
   },
   {
    "duration": 271,
    "start_time": "2022-02-15T16:39:37.753Z"
   },
   {
    "duration": 3,
    "start_time": "2022-02-15T16:39:38.026Z"
   },
   {
    "duration": 26,
    "start_time": "2022-02-15T16:39:38.031Z"
   },
   {
    "duration": 16,
    "start_time": "2022-02-15T16:39:38.059Z"
   },
   {
    "duration": 23,
    "start_time": "2022-02-15T16:39:38.076Z"
   },
   {
    "duration": 229,
    "start_time": "2022-02-15T16:40:29.678Z"
   },
   {
    "duration": 7,
    "start_time": "2022-02-15T16:41:15.318Z"
   },
   {
    "duration": 203,
    "start_time": "2022-02-15T16:41:40.206Z"
   },
   {
    "duration": 5,
    "start_time": "2022-02-15T16:41:50.678Z"
   },
   {
    "duration": 5,
    "start_time": "2022-02-15T16:42:15.854Z"
   },
   {
    "duration": 5,
    "start_time": "2022-02-15T16:42:21.162Z"
   },
   {
    "duration": 4,
    "start_time": "2022-02-15T16:43:16.326Z"
   },
   {
    "duration": 5,
    "start_time": "2022-02-15T16:43:19.102Z"
   },
   {
    "duration": 200,
    "start_time": "2022-02-15T16:43:28.260Z"
   },
   {
    "duration": 4,
    "start_time": "2022-02-15T16:43:40.701Z"
   },
   {
    "duration": 7,
    "start_time": "2022-02-15T16:44:56.628Z"
   },
   {
    "duration": 11,
    "start_time": "2022-02-15T16:51:30.252Z"
   },
   {
    "duration": 8,
    "start_time": "2022-02-15T16:52:30.069Z"
   },
   {
    "duration": 9,
    "start_time": "2022-02-15T16:52:39.348Z"
   },
   {
    "duration": 9,
    "start_time": "2022-02-15T16:52:51.988Z"
   },
   {
    "duration": 8,
    "start_time": "2022-02-15T16:53:05.491Z"
   },
   {
    "duration": 66,
    "start_time": "2022-02-15T16:58:54.579Z"
   },
   {
    "duration": 59,
    "start_time": "2022-02-15T16:59:02.163Z"
   },
   {
    "duration": 5,
    "start_time": "2022-02-15T16:59:30.403Z"
   },
   {
    "duration": 8,
    "start_time": "2022-02-15T16:59:38.866Z"
   },
   {
    "duration": 3,
    "start_time": "2022-02-15T17:00:00.451Z"
   },
   {
    "duration": 4,
    "start_time": "2022-02-15T17:00:04.779Z"
   },
   {
    "duration": 5,
    "start_time": "2022-02-15T17:00:29.683Z"
   },
   {
    "duration": 7,
    "start_time": "2022-02-15T17:03:37.163Z"
   },
   {
    "duration": 4,
    "start_time": "2022-02-15T17:03:51.612Z"
   },
   {
    "duration": 182,
    "start_time": "2022-02-15T17:04:31.659Z"
   },
   {
    "duration": 179,
    "start_time": "2022-02-15T17:04:42.394Z"
   },
   {
    "duration": 234,
    "start_time": "2022-02-15T17:04:59.833Z"
   },
   {
    "duration": 59,
    "start_time": "2022-02-15T17:05:09.027Z"
   },
   {
    "duration": 196,
    "start_time": "2022-02-15T17:05:13.169Z"
   },
   {
    "duration": 5,
    "start_time": "2022-02-15T17:05:21.537Z"
   },
   {
    "duration": 190,
    "start_time": "2022-02-15T17:06:04.170Z"
   },
   {
    "duration": 4,
    "start_time": "2022-02-15T17:06:09.074Z"
   },
   {
    "duration": 194,
    "start_time": "2022-02-15T17:08:01.794Z"
   },
   {
    "duration": 4,
    "start_time": "2022-02-15T17:08:26.618Z"
   },
   {
    "duration": 9,
    "start_time": "2022-02-15T17:11:17.929Z"
   },
   {
    "duration": 9,
    "start_time": "2022-02-15T17:11:44.785Z"
   },
   {
    "duration": 8,
    "start_time": "2022-02-15T17:16:19.432Z"
   },
   {
    "duration": 10,
    "start_time": "2022-02-15T17:16:23.049Z"
   },
   {
    "duration": 10,
    "start_time": "2022-02-15T17:16:28.416Z"
   },
   {
    "duration": 8,
    "start_time": "2022-02-15T17:16:31.689Z"
   },
   {
    "duration": 8,
    "start_time": "2022-02-15T17:17:14.273Z"
   },
   {
    "duration": 8,
    "start_time": "2022-02-15T17:19:02.784Z"
   },
   {
    "duration": 10,
    "start_time": "2022-02-15T17:19:22.489Z"
   },
   {
    "duration": 8,
    "start_time": "2022-02-15T17:28:55.591Z"
   },
   {
    "duration": 385,
    "start_time": "2022-02-16T02:26:15.990Z"
   },
   {
    "duration": 763,
    "start_time": "2022-02-16T02:26:28.663Z"
   },
   {
    "duration": 130,
    "start_time": "2022-02-16T02:26:29.428Z"
   },
   {
    "duration": 89,
    "start_time": "2022-02-16T02:26:29.560Z"
   },
   {
    "duration": 22,
    "start_time": "2022-02-16T02:26:29.650Z"
   },
   {
    "duration": 33,
    "start_time": "2022-02-16T02:26:29.674Z"
   },
   {
    "duration": 7,
    "start_time": "2022-02-16T02:26:29.708Z"
   },
   {
    "duration": 5,
    "start_time": "2022-02-16T02:26:29.716Z"
   },
   {
    "duration": 92,
    "start_time": "2022-02-16T02:26:29.724Z"
   },
   {
    "duration": 41,
    "start_time": "2022-02-16T02:26:29.818Z"
   },
   {
    "duration": 60,
    "start_time": "2022-02-16T02:26:29.861Z"
   },
   {
    "duration": 77,
    "start_time": "2022-02-16T02:26:29.923Z"
   },
   {
    "duration": 181,
    "start_time": "2022-02-16T02:26:30.002Z"
   },
   {
    "duration": 159,
    "start_time": "2022-02-16T02:26:30.184Z"
   },
   {
    "duration": 186,
    "start_time": "2022-02-16T02:26:30.344Z"
   },
   {
    "duration": 437,
    "start_time": "2022-02-16T02:26:30.531Z"
   },
   {
    "duration": -286,
    "start_time": "2022-02-16T02:26:31.256Z"
   },
   {
    "duration": -288,
    "start_time": "2022-02-16T02:26:31.259Z"
   },
   {
    "duration": -291,
    "start_time": "2022-02-16T02:26:31.263Z"
   },
   {
    "duration": -294,
    "start_time": "2022-02-16T02:26:31.267Z"
   },
   {
    "duration": -297,
    "start_time": "2022-02-16T02:26:31.271Z"
   },
   {
    "duration": -300,
    "start_time": "2022-02-16T02:26:31.275Z"
   },
   {
    "duration": -304,
    "start_time": "2022-02-16T02:26:31.279Z"
   },
   {
    "duration": -307,
    "start_time": "2022-02-16T02:26:31.283Z"
   },
   {
    "duration": -309,
    "start_time": "2022-02-16T02:26:31.286Z"
   },
   {
    "duration": -311,
    "start_time": "2022-02-16T02:26:31.289Z"
   },
   {
    "duration": -312,
    "start_time": "2022-02-16T02:26:31.291Z"
   },
   {
    "duration": 353,
    "start_time": "2022-02-16T02:33:45.473Z"
   },
   {
    "duration": 16,
    "start_time": "2022-02-16T02:37:50.164Z"
   },
   {
    "duration": 26,
    "start_time": "2022-02-16T02:38:03.487Z"
   },
   {
    "duration": 17,
    "start_time": "2022-02-16T02:38:40.231Z"
   },
   {
    "duration": 20,
    "start_time": "2022-02-16T02:47:20.421Z"
   },
   {
    "duration": 18,
    "start_time": "2022-02-16T02:47:50.900Z"
   },
   {
    "duration": 22,
    "start_time": "2022-02-16T02:48:07.180Z"
   },
   {
    "duration": 25,
    "start_time": "2022-02-16T02:50:29.688Z"
   },
   {
    "duration": 36,
    "start_time": "2022-02-16T02:52:46.970Z"
   },
   {
    "duration": 59,
    "start_time": "2022-02-16T02:52:55.682Z"
   },
   {
    "duration": 63,
    "start_time": "2022-02-16T02:53:00.521Z"
   },
   {
    "duration": 6,
    "start_time": "2022-02-16T04:41:39.898Z"
   },
   {
    "duration": 13,
    "start_time": "2022-02-16T04:41:43.208Z"
   },
   {
    "duration": 13,
    "start_time": "2022-02-16T04:43:21.103Z"
   },
   {
    "duration": 350,
    "start_time": "2022-02-16T04:44:43.731Z"
   },
   {
    "duration": 15,
    "start_time": "2022-02-16T04:45:05.281Z"
   },
   {
    "duration": 771,
    "start_time": "2022-02-16T04:45:58.431Z"
   },
   {
    "duration": 136,
    "start_time": "2022-02-16T04:45:59.204Z"
   },
   {
    "duration": 89,
    "start_time": "2022-02-16T04:45:59.342Z"
   },
   {
    "duration": 23,
    "start_time": "2022-02-16T04:45:59.432Z"
   },
   {
    "duration": 34,
    "start_time": "2022-02-16T04:45:59.456Z"
   },
   {
    "duration": 6,
    "start_time": "2022-02-16T04:45:59.491Z"
   },
   {
    "duration": 7,
    "start_time": "2022-02-16T04:45:59.499Z"
   },
   {
    "duration": 98,
    "start_time": "2022-02-16T04:45:59.508Z"
   },
   {
    "duration": 45,
    "start_time": "2022-02-16T04:45:59.607Z"
   },
   {
    "duration": 65,
    "start_time": "2022-02-16T04:45:59.654Z"
   },
   {
    "duration": 82,
    "start_time": "2022-02-16T04:45:59.721Z"
   },
   {
    "duration": 177,
    "start_time": "2022-02-16T04:45:59.804Z"
   },
   {
    "duration": 157,
    "start_time": "2022-02-16T04:45:59.983Z"
   },
   {
    "duration": 177,
    "start_time": "2022-02-16T04:46:00.142Z"
   },
   {
    "duration": 12,
    "start_time": "2022-02-16T04:46:00.321Z"
   },
   {
    "duration": 20,
    "start_time": "2022-02-16T04:46:00.334Z"
   },
   {
    "duration": 15,
    "start_time": "2022-02-16T04:46:00.356Z"
   },
   {
    "duration": 5,
    "start_time": "2022-02-16T04:46:00.373Z"
   },
   {
    "duration": 18,
    "start_time": "2022-02-16T04:46:00.379Z"
   },
   {
    "duration": 26,
    "start_time": "2022-02-16T04:46:00.398Z"
   },
   {
    "duration": 31,
    "start_time": "2022-02-16T04:46:00.426Z"
   },
   {
    "duration": 15,
    "start_time": "2022-02-16T04:46:00.459Z"
   },
   {
    "duration": 13,
    "start_time": "2022-02-16T04:46:00.477Z"
   },
   {
    "duration": 20,
    "start_time": "2022-02-16T04:46:00.492Z"
   },
   {
    "duration": 16,
    "start_time": "2022-02-16T04:46:00.514Z"
   },
   {
    "duration": 30,
    "start_time": "2022-02-16T04:46:00.531Z"
   },
   {
    "duration": 10,
    "start_time": "2022-02-16T04:46:00.562Z"
   },
   {
    "duration": 9,
    "start_time": "2022-02-16T04:46:00.573Z"
   },
   {
    "duration": 8,
    "start_time": "2022-02-16T04:48:14.917Z"
   },
   {
    "duration": 17,
    "start_time": "2022-02-16T04:48:18.366Z"
   },
   {
    "duration": 393,
    "start_time": "2022-02-16T04:49:38.252Z"
   },
   {
    "duration": 19,
    "start_time": "2022-02-16T04:49:52.698Z"
   },
   {
    "duration": 13,
    "start_time": "2022-02-16T04:51:10.106Z"
   },
   {
    "duration": 802,
    "start_time": "2022-02-16T04:51:28.545Z"
   },
   {
    "duration": 130,
    "start_time": "2022-02-16T04:51:29.349Z"
   },
   {
    "duration": 87,
    "start_time": "2022-02-16T04:51:29.482Z"
   },
   {
    "duration": 21,
    "start_time": "2022-02-16T04:51:29.570Z"
   },
   {
    "duration": 33,
    "start_time": "2022-02-16T04:51:29.593Z"
   },
   {
    "duration": 6,
    "start_time": "2022-02-16T04:51:29.627Z"
   },
   {
    "duration": 7,
    "start_time": "2022-02-16T04:51:29.635Z"
   },
   {
    "duration": 92,
    "start_time": "2022-02-16T04:51:29.645Z"
   },
   {
    "duration": 45,
    "start_time": "2022-02-16T04:51:29.739Z"
   },
   {
    "duration": 75,
    "start_time": "2022-02-16T04:51:29.786Z"
   },
   {
    "duration": 67,
    "start_time": "2022-02-16T04:51:29.863Z"
   },
   {
    "duration": 177,
    "start_time": "2022-02-16T04:51:29.931Z"
   },
   {
    "duration": 152,
    "start_time": "2022-02-16T04:51:30.109Z"
   },
   {
    "duration": 172,
    "start_time": "2022-02-16T04:51:30.263Z"
   },
   {
    "duration": 20,
    "start_time": "2022-02-16T04:51:30.437Z"
   },
   {
    "duration": 11,
    "start_time": "2022-02-16T04:51:30.458Z"
   },
   {
    "duration": 13,
    "start_time": "2022-02-16T04:51:30.470Z"
   },
   {
    "duration": 14,
    "start_time": "2022-02-16T04:51:30.484Z"
   },
   {
    "duration": 5,
    "start_time": "2022-02-16T04:51:30.500Z"
   },
   {
    "duration": 6,
    "start_time": "2022-02-16T04:51:30.507Z"
   },
   {
    "duration": 37,
    "start_time": "2022-02-16T04:51:30.515Z"
   },
   {
    "duration": 8,
    "start_time": "2022-02-16T04:51:30.553Z"
   },
   {
    "duration": 10,
    "start_time": "2022-02-16T04:51:30.564Z"
   },
   {
    "duration": 11,
    "start_time": "2022-02-16T04:51:30.576Z"
   },
   {
    "duration": 11,
    "start_time": "2022-02-16T04:51:30.588Z"
   },
   {
    "duration": 4,
    "start_time": "2022-02-16T04:51:30.600Z"
   },
   {
    "duration": 5,
    "start_time": "2022-02-16T04:51:30.605Z"
   },
   {
    "duration": 5,
    "start_time": "2022-02-16T04:51:30.611Z"
   },
   {
    "duration": 6196,
    "start_time": "2022-02-16T05:20:58.786Z"
   },
   {
    "duration": 341,
    "start_time": "2022-02-16T05:21:57.438Z"
   },
   {
    "duration": 339,
    "start_time": "2022-02-16T05:22:10.038Z"
   },
   {
    "duration": 777,
    "start_time": "2022-02-16T05:22:21.720Z"
   },
   {
    "duration": 137,
    "start_time": "2022-02-16T05:22:22.499Z"
   },
   {
    "duration": 91,
    "start_time": "2022-02-16T05:22:22.638Z"
   },
   {
    "duration": 22,
    "start_time": "2022-02-16T05:22:22.731Z"
   },
   {
    "duration": 34,
    "start_time": "2022-02-16T05:22:22.754Z"
   },
   {
    "duration": 6,
    "start_time": "2022-02-16T05:22:22.790Z"
   },
   {
    "duration": 5,
    "start_time": "2022-02-16T05:22:22.798Z"
   },
   {
    "duration": 93,
    "start_time": "2022-02-16T05:22:22.805Z"
   },
   {
    "duration": 50,
    "start_time": "2022-02-16T05:22:22.900Z"
   },
   {
    "duration": 64,
    "start_time": "2022-02-16T05:22:22.952Z"
   },
   {
    "duration": 82,
    "start_time": "2022-02-16T05:22:23.017Z"
   },
   {
    "duration": 171,
    "start_time": "2022-02-16T05:22:23.100Z"
   },
   {
    "duration": 158,
    "start_time": "2022-02-16T05:22:23.273Z"
   },
   {
    "duration": 182,
    "start_time": "2022-02-16T05:22:23.432Z"
   },
   {
    "duration": 13,
    "start_time": "2022-02-16T05:22:23.616Z"
   },
   {
    "duration": 23,
    "start_time": "2022-02-16T05:22:23.630Z"
   },
   {
    "duration": 14,
    "start_time": "2022-02-16T05:22:23.655Z"
   },
   {
    "duration": 16,
    "start_time": "2022-02-16T05:22:23.670Z"
   },
   {
    "duration": 6130,
    "start_time": "2022-02-16T05:22:23.687Z"
   },
   {
    "duration": -672,
    "start_time": "2022-02-16T05:22:30.492Z"
   },
   {
    "duration": -675,
    "start_time": "2022-02-16T05:22:30.496Z"
   },
   {
    "duration": -680,
    "start_time": "2022-02-16T05:22:30.502Z"
   },
   {
    "duration": -683,
    "start_time": "2022-02-16T05:22:30.506Z"
   },
   {
    "duration": -684,
    "start_time": "2022-02-16T05:22:30.509Z"
   },
   {
    "duration": -689,
    "start_time": "2022-02-16T05:22:30.515Z"
   },
   {
    "duration": -690,
    "start_time": "2022-02-16T05:22:30.517Z"
   },
   {
    "duration": -692,
    "start_time": "2022-02-16T05:22:30.520Z"
   },
   {
    "duration": -694,
    "start_time": "2022-02-16T05:22:30.523Z"
   },
   {
    "duration": -695,
    "start_time": "2022-02-16T05:22:30.526Z"
   },
   {
    "duration": 13,
    "start_time": "2022-02-16T05:23:04.849Z"
   },
   {
    "duration": 525,
    "start_time": "2022-02-16T05:23:31.992Z"
   },
   {
    "duration": 162,
    "start_time": "2022-02-16T05:23:50.615Z"
   },
   {
    "duration": 717,
    "start_time": "2022-02-16T07:42:21.564Z"
   },
   {
    "duration": 136,
    "start_time": "2022-02-16T07:42:22.283Z"
   },
   {
    "duration": 89,
    "start_time": "2022-02-16T07:42:22.421Z"
   },
   {
    "duration": 21,
    "start_time": "2022-02-16T07:42:22.512Z"
   },
   {
    "duration": 53,
    "start_time": "2022-02-16T07:42:22.535Z"
   },
   {
    "duration": 6,
    "start_time": "2022-02-16T07:42:22.589Z"
   },
   {
    "duration": 22,
    "start_time": "2022-02-16T07:42:22.597Z"
   },
   {
    "duration": 107,
    "start_time": "2022-02-16T07:42:22.621Z"
   },
   {
    "duration": 44,
    "start_time": "2022-02-16T07:42:22.729Z"
   },
   {
    "duration": 73,
    "start_time": "2022-02-16T07:42:22.775Z"
   },
   {
    "duration": 68,
    "start_time": "2022-02-16T07:42:22.849Z"
   },
   {
    "duration": 183,
    "start_time": "2022-02-16T07:42:22.919Z"
   },
   {
    "duration": 156,
    "start_time": "2022-02-16T07:42:23.103Z"
   },
   {
    "duration": 178,
    "start_time": "2022-02-16T07:42:23.260Z"
   },
   {
    "duration": 16,
    "start_time": "2022-02-16T07:42:23.440Z"
   },
   {
    "duration": 11,
    "start_time": "2022-02-16T07:42:23.457Z"
   },
   {
    "duration": 14,
    "start_time": "2022-02-16T07:42:23.470Z"
   },
   {
    "duration": 18,
    "start_time": "2022-02-16T07:42:23.485Z"
   },
   {
    "duration": 179,
    "start_time": "2022-02-16T07:42:23.504Z"
   },
   {
    "duration": -896,
    "start_time": "2022-02-16T07:42:24.581Z"
   },
   {
    "duration": -910,
    "start_time": "2022-02-16T07:42:24.596Z"
   },
   {
    "duration": -913,
    "start_time": "2022-02-16T07:42:24.600Z"
   },
   {
    "duration": -915,
    "start_time": "2022-02-16T07:42:24.603Z"
   },
   {
    "duration": -925,
    "start_time": "2022-02-16T07:42:24.614Z"
   },
   {
    "duration": -928,
    "start_time": "2022-02-16T07:42:24.617Z"
   },
   {
    "duration": -931,
    "start_time": "2022-02-16T07:42:24.621Z"
   },
   {
    "duration": -932,
    "start_time": "2022-02-16T07:42:24.623Z"
   },
   {
    "duration": -934,
    "start_time": "2022-02-16T07:42:24.626Z"
   },
   {
    "duration": -937,
    "start_time": "2022-02-16T07:42:24.630Z"
   },
   {
    "duration": 169,
    "start_time": "2022-02-16T10:05:20.730Z"
   },
   {
    "duration": 865,
    "start_time": "2022-02-16T10:32:20.698Z"
   },
   {
    "duration": 216,
    "start_time": "2022-02-16T10:32:52.901Z"
   },
   {
    "duration": 82,
    "start_time": "2022-02-17T02:53:58.822Z"
   },
   {
    "duration": 43,
    "start_time": "2022-02-17T02:54:56.820Z"
   },
   {
    "duration": 41,
    "start_time": "2022-02-17T02:55:25.466Z"
   },
   {
    "duration": 60,
    "start_time": "2022-02-17T02:56:35.192Z"
   },
   {
    "duration": 63,
    "start_time": "2022-02-17T02:59:21.104Z"
   },
   {
    "duration": 5,
    "start_time": "2022-02-17T03:38:00.111Z"
   },
   {
    "duration": 4,
    "start_time": "2022-02-17T03:38:09.437Z"
   },
   {
    "duration": 9,
    "start_time": "2022-02-17T03:41:29.779Z"
   },
   {
    "duration": 9,
    "start_time": "2022-02-17T03:41:33.547Z"
   },
   {
    "duration": 10,
    "start_time": "2022-02-17T03:41:48.517Z"
   },
   {
    "duration": 22,
    "start_time": "2022-02-17T06:41:09.910Z"
   },
   {
    "duration": 18,
    "start_time": "2022-02-17T07:22:59.237Z"
   },
   {
    "duration": 715,
    "start_time": "2022-02-17T07:23:18.145Z"
   },
   {
    "duration": 636,
    "start_time": "2022-02-17T07:25:05.367Z"
   },
   {
    "duration": 618,
    "start_time": "2022-02-17T07:27:46.079Z"
   },
   {
    "duration": 615,
    "start_time": "2022-02-17T07:34:24.925Z"
   },
   {
    "duration": 110,
    "start_time": "2022-02-17T07:41:14.580Z"
   },
   {
    "duration": 24,
    "start_time": "2022-02-17T07:41:28.170Z"
   },
   {
    "duration": 25,
    "start_time": "2022-02-17T07:45:04.438Z"
   },
   {
    "duration": 167,
    "start_time": "2022-02-17T07:50:45.099Z"
   },
   {
    "duration": 502,
    "start_time": "2022-02-17T07:51:20.433Z"
   },
   {
    "duration": 4822,
    "start_time": "2022-02-17T07:51:40.772Z"
   },
   {
    "duration": 750,
    "start_time": "2022-02-17T07:52:02.276Z"
   },
   {
    "duration": 132,
    "start_time": "2022-02-17T07:52:03.027Z"
   },
   {
    "duration": 92,
    "start_time": "2022-02-17T07:52:03.160Z"
   },
   {
    "duration": 23,
    "start_time": "2022-02-17T07:52:03.254Z"
   },
   {
    "duration": 64,
    "start_time": "2022-02-17T07:52:03.278Z"
   },
   {
    "duration": 9,
    "start_time": "2022-02-17T07:52:03.343Z"
   },
   {
    "duration": 13,
    "start_time": "2022-02-17T07:52:03.353Z"
   },
   {
    "duration": 102,
    "start_time": "2022-02-17T07:52:03.368Z"
   },
   {
    "duration": 56,
    "start_time": "2022-02-17T07:52:03.472Z"
   },
   {
    "duration": 104,
    "start_time": "2022-02-17T07:52:03.530Z"
   },
   {
    "duration": 78,
    "start_time": "2022-02-17T07:52:03.636Z"
   },
   {
    "duration": 16,
    "start_time": "2022-02-17T07:52:03.716Z"
   },
   {
    "duration": 613,
    "start_time": "2022-02-17T07:52:03.734Z"
   },
   {
    "duration": 23,
    "start_time": "2022-02-17T07:52:04.348Z"
   },
   {
    "duration": 175,
    "start_time": "2022-02-17T07:52:04.372Z"
   },
   {
    "duration": 415,
    "start_time": "2022-02-17T07:52:04.549Z"
   },
   {
    "duration": -522,
    "start_time": "2022-02-17T07:52:05.488Z"
   },
   {
    "duration": -524,
    "start_time": "2022-02-17T07:52:05.491Z"
   },
   {
    "duration": -528,
    "start_time": "2022-02-17T07:52:05.495Z"
   },
   {
    "duration": 161,
    "start_time": "2022-02-17T07:57:29.554Z"
   },
   {
    "duration": 363,
    "start_time": "2022-02-17T07:58:07.469Z"
   },
   {
    "duration": 4,
    "start_time": "2022-02-17T07:58:30.757Z"
   },
   {
    "duration": 88,
    "start_time": "2022-02-17T08:02:43.998Z"
   },
   {
    "duration": 42,
    "start_time": "2022-02-17T08:02:51.374Z"
   },
   {
    "duration": 45,
    "start_time": "2022-02-17T08:02:57.943Z"
   },
   {
    "duration": 62,
    "start_time": "2022-02-17T08:03:09.940Z"
   },
   {
    "duration": 67,
    "start_time": "2022-02-17T08:03:15.445Z"
   },
   {
    "duration": 468,
    "start_time": "2022-02-17T08:15:16.365Z"
   },
   {
    "duration": 886,
    "start_time": "2022-02-17T08:15:37.087Z"
   },
   {
    "duration": 136,
    "start_time": "2022-02-17T08:15:37.974Z"
   },
   {
    "duration": 92,
    "start_time": "2022-02-17T08:15:38.112Z"
   },
   {
    "duration": 22,
    "start_time": "2022-02-17T08:15:38.206Z"
   },
   {
    "duration": 63,
    "start_time": "2022-02-17T08:15:38.229Z"
   },
   {
    "duration": 13,
    "start_time": "2022-02-17T08:15:38.294Z"
   },
   {
    "duration": 4,
    "start_time": "2022-02-17T08:15:38.309Z"
   },
   {
    "duration": 103,
    "start_time": "2022-02-17T08:15:38.315Z"
   },
   {
    "duration": 47,
    "start_time": "2022-02-17T08:15:38.420Z"
   },
   {
    "duration": 78,
    "start_time": "2022-02-17T08:15:38.468Z"
   },
   {
    "duration": 74,
    "start_time": "2022-02-17T08:15:38.547Z"
   },
   {
    "duration": 26,
    "start_time": "2022-02-17T08:15:38.623Z"
   },
   {
    "duration": 696,
    "start_time": "2022-02-17T08:15:38.651Z"
   },
   {
    "duration": 34,
    "start_time": "2022-02-17T08:15:39.348Z"
   },
   {
    "duration": 173,
    "start_time": "2022-02-17T08:15:39.384Z"
   },
   {
    "duration": 6,
    "start_time": "2022-02-17T08:15:39.559Z"
   },
   {
    "duration": 23,
    "start_time": "2022-02-17T08:15:39.567Z"
   },
   {
    "duration": 16,
    "start_time": "2022-02-17T08:15:39.591Z"
   },
   {
    "duration": 11,
    "start_time": "2022-02-17T08:15:39.608Z"
   },
   {
    "duration": 15,
    "start_time": "2022-02-17T08:26:27.481Z"
   },
   {
    "duration": 5,
    "start_time": "2022-02-17T08:26:34.385Z"
   },
   {
    "duration": 108,
    "start_time": "2022-02-17T08:49:09.041Z"
   },
   {
    "duration": 4,
    "start_time": "2022-02-17T08:53:58.949Z"
   },
   {
    "duration": 5,
    "start_time": "2022-02-17T09:01:39.801Z"
   },
   {
    "duration": 4,
    "start_time": "2022-02-17T09:02:08.424Z"
   },
   {
    "duration": 5,
    "start_time": "2022-02-17T09:04:12.020Z"
   },
   {
    "duration": 5,
    "start_time": "2022-02-17T09:04:23.906Z"
   },
   {
    "duration": 6,
    "start_time": "2022-02-17T09:04:56.738Z"
   },
   {
    "duration": 7,
    "start_time": "2022-02-17T09:05:46.722Z"
   },
   {
    "duration": 9,
    "start_time": "2022-02-17T09:15:12.208Z"
   },
   {
    "duration": 15,
    "start_time": "2022-02-17T09:15:53.197Z"
   },
   {
    "duration": 113,
    "start_time": "2022-02-17T09:33:04.749Z"
   },
   {
    "duration": 127,
    "start_time": "2022-02-17T09:34:57.689Z"
   },
   {
    "duration": 83,
    "start_time": "2022-02-17T10:02:42.884Z"
   },
   {
    "duration": 87,
    "start_time": "2022-02-17T10:03:20.377Z"
   },
   {
    "duration": 5,
    "start_time": "2022-02-17T15:49:18.618Z"
   },
   {
    "duration": 4,
    "start_time": "2022-02-17T15:49:53.672Z"
   },
   {
    "duration": 14,
    "start_time": "2022-02-17T15:51:52.058Z"
   },
   {
    "duration": 412,
    "start_time": "2022-02-17T15:55:05.353Z"
   },
   {
    "duration": 40,
    "start_time": "2022-02-17T15:55:13.151Z"
   },
   {
    "duration": 15,
    "start_time": "2022-02-17T15:57:28.095Z"
   },
   {
    "duration": 18,
    "start_time": "2022-02-17T15:58:25.307Z"
   },
   {
    "duration": 1581,
    "start_time": "2022-02-17T15:58:50.688Z"
   },
   {
    "duration": 1416,
    "start_time": "2022-02-17T16:00:02.458Z"
   },
   {
    "duration": 789,
    "start_time": "2022-02-17T16:00:10.649Z"
   },
   {
    "duration": 137,
    "start_time": "2022-02-17T16:00:11.440Z"
   },
   {
    "duration": 93,
    "start_time": "2022-02-17T16:00:11.579Z"
   },
   {
    "duration": 33,
    "start_time": "2022-02-17T16:00:11.674Z"
   },
   {
    "duration": 75,
    "start_time": "2022-02-17T16:00:11.708Z"
   },
   {
    "duration": 18,
    "start_time": "2022-02-17T16:00:11.784Z"
   },
   {
    "duration": 6,
    "start_time": "2022-02-17T16:00:11.803Z"
   },
   {
    "duration": 103,
    "start_time": "2022-02-17T16:00:11.812Z"
   },
   {
    "duration": 46,
    "start_time": "2022-02-17T16:00:11.917Z"
   },
   {
    "duration": 66,
    "start_time": "2022-02-17T16:00:11.964Z"
   },
   {
    "duration": 94,
    "start_time": "2022-02-17T16:00:12.031Z"
   },
   {
    "duration": 21,
    "start_time": "2022-02-17T16:00:12.127Z"
   },
   {
    "duration": 632,
    "start_time": "2022-02-17T16:00:12.150Z"
   },
   {
    "duration": 22,
    "start_time": "2022-02-17T16:00:12.783Z"
   },
   {
    "duration": 180,
    "start_time": "2022-02-17T16:00:12.807Z"
   },
   {
    "duration": 3,
    "start_time": "2022-02-17T16:00:12.988Z"
   },
   {
    "duration": 32,
    "start_time": "2022-02-17T16:00:12.993Z"
   },
   {
    "duration": 1486,
    "start_time": "2022-02-17T16:00:13.027Z"
   },
   {
    "duration": -438,
    "start_time": "2022-02-17T16:00:14.953Z"
   },
   {
    "duration": -442,
    "start_time": "2022-02-17T16:00:14.957Z"
   },
   {
    "duration": 1332,
    "start_time": "2022-02-17T16:00:36.419Z"
   },
   {
    "duration": 21,
    "start_time": "2022-02-17T16:00:43.745Z"
   },
   {
    "duration": 22,
    "start_time": "2022-02-17T16:03:56.435Z"
   },
   {
    "duration": 346,
    "start_time": "2022-02-17T16:10:33.674Z"
   },
   {
    "duration": 25,
    "start_time": "2022-02-17T16:10:49.758Z"
   },
   {
    "duration": 380,
    "start_time": "2022-02-17T16:11:12.605Z"
   },
   {
    "duration": 25,
    "start_time": "2022-02-17T16:11:20.372Z"
   },
   {
    "duration": 43,
    "start_time": "2022-02-17T16:14:05.833Z"
   },
   {
    "duration": 45,
    "start_time": "2022-02-17T16:14:29.044Z"
   },
   {
    "duration": 46,
    "start_time": "2022-02-17T16:15:46.379Z"
   },
   {
    "duration": 21,
    "start_time": "2022-02-17T16:17:14.790Z"
   },
   {
    "duration": 21,
    "start_time": "2022-02-17T16:24:09.874Z"
   },
   {
    "duration": 20,
    "start_time": "2022-02-17T16:24:21.151Z"
   },
   {
    "duration": 16,
    "start_time": "2022-02-17T16:25:34.399Z"
   },
   {
    "duration": 8,
    "start_time": "2022-02-17T16:26:47.350Z"
   },
   {
    "duration": 19,
    "start_time": "2022-02-17T16:26:58.061Z"
   },
   {
    "duration": 10,
    "start_time": "2022-02-17T16:27:15.254Z"
   },
   {
    "duration": 12,
    "start_time": "2022-02-17T16:27:40.615Z"
   },
   {
    "duration": 15,
    "start_time": "2022-02-17T16:28:06.389Z"
   },
   {
    "duration": 17,
    "start_time": "2022-02-17T16:28:33.205Z"
   },
   {
    "duration": 19,
    "start_time": "2022-02-17T16:28:47.758Z"
   },
   {
    "duration": 22,
    "start_time": "2022-02-17T16:29:16.021Z"
   },
   {
    "duration": 306,
    "start_time": "2022-02-17T16:31:28.352Z"
   },
   {
    "duration": 211,
    "start_time": "2022-02-17T16:31:41.214Z"
   },
   {
    "duration": 312,
    "start_time": "2022-02-17T16:32:46.289Z"
   },
   {
    "duration": 246,
    "start_time": "2022-02-17T16:33:00.975Z"
   },
   {
    "duration": 335,
    "start_time": "2022-02-17T16:33:20.918Z"
   },
   {
    "duration": 227,
    "start_time": "2022-02-17T16:33:42.689Z"
   },
   {
    "duration": 200,
    "start_time": "2022-02-17T16:33:54.864Z"
   },
   {
    "duration": 247,
    "start_time": "2022-02-17T16:34:00.469Z"
   },
   {
    "duration": 204,
    "start_time": "2022-02-17T16:34:09.069Z"
   },
   {
    "duration": 222,
    "start_time": "2022-02-17T16:34:14.909Z"
   },
   {
    "duration": 117,
    "start_time": "2022-02-17T16:34:23.682Z"
   },
   {
    "duration": 237,
    "start_time": "2022-02-17T16:34:29.868Z"
   },
   {
    "duration": 235,
    "start_time": "2022-02-17T16:44:14.465Z"
   },
   {
    "duration": 242,
    "start_time": "2022-02-17T16:44:26.129Z"
   },
   {
    "duration": 315,
    "start_time": "2022-02-17T16:44:41.353Z"
   },
   {
    "duration": 238,
    "start_time": "2022-02-17T16:44:44.167Z"
   },
   {
    "duration": 242,
    "start_time": "2022-02-17T16:45:58.924Z"
   },
   {
    "duration": 236,
    "start_time": "2022-02-17T16:46:06.162Z"
   },
   {
    "duration": 160,
    "start_time": "2022-02-17T16:50:08.171Z"
   },
   {
    "duration": 777,
    "start_time": "2022-02-17T16:50:16.068Z"
   },
   {
    "duration": 130,
    "start_time": "2022-02-17T16:50:16.847Z"
   },
   {
    "duration": 90,
    "start_time": "2022-02-17T16:50:16.978Z"
   },
   {
    "duration": 22,
    "start_time": "2022-02-17T16:50:17.069Z"
   },
   {
    "duration": 37,
    "start_time": "2022-02-17T16:50:17.093Z"
   },
   {
    "duration": 13,
    "start_time": "2022-02-17T16:50:17.132Z"
   },
   {
    "duration": 3,
    "start_time": "2022-02-17T16:50:17.147Z"
   },
   {
    "duration": 104,
    "start_time": "2022-02-17T16:50:17.153Z"
   },
   {
    "duration": 44,
    "start_time": "2022-02-17T16:50:17.259Z"
   },
   {
    "duration": 78,
    "start_time": "2022-02-17T16:50:17.305Z"
   },
   {
    "duration": 81,
    "start_time": "2022-02-17T16:50:17.385Z"
   },
   {
    "duration": 16,
    "start_time": "2022-02-17T16:50:17.467Z"
   },
   {
    "duration": 622,
    "start_time": "2022-02-17T16:50:17.484Z"
   },
   {
    "duration": 23,
    "start_time": "2022-02-17T16:50:18.107Z"
   },
   {
    "duration": 179,
    "start_time": "2022-02-17T16:50:18.132Z"
   },
   {
    "duration": 3,
    "start_time": "2022-02-17T16:50:18.313Z"
   },
   {
    "duration": 15,
    "start_time": "2022-02-17T16:50:18.318Z"
   },
   {
    "duration": 256,
    "start_time": "2022-02-17T16:50:18.346Z"
   },
   {
    "duration": 1,
    "start_time": "2022-02-17T16:50:18.604Z"
   },
   {
    "duration": 4,
    "start_time": "2022-02-17T16:50:18.607Z"
   },
   {
    "duration": 111,
    "start_time": "2022-02-17T16:50:51.038Z"
   },
   {
    "duration": 240,
    "start_time": "2022-02-17T16:50:55.166Z"
   },
   {
    "duration": 369,
    "start_time": "2022-02-17T16:51:01.269Z"
   },
   {
    "duration": 75,
    "start_time": "2022-02-17T16:51:24.501Z"
   },
   {
    "duration": 235,
    "start_time": "2022-02-17T16:51:32.764Z"
   },
   {
    "duration": 250,
    "start_time": "2022-02-17T16:55:22.843Z"
   },
   {
    "duration": 593,
    "start_time": "2022-02-17T16:55:30.636Z"
   },
   {
    "duration": 241,
    "start_time": "2022-02-17T16:55:40.677Z"
   },
   {
    "duration": 593,
    "start_time": "2022-02-17T17:03:55.143Z"
   },
   {
    "duration": 592,
    "start_time": "2022-02-17T17:04:13.361Z"
   },
   {
    "duration": 243,
    "start_time": "2022-02-17T17:04:26.233Z"
   },
   {
    "duration": 202,
    "start_time": "2022-02-17T17:05:10.735Z"
   },
   {
    "duration": 145,
    "start_time": "2022-02-17T17:05:18.328Z"
   },
   {
    "duration": 920,
    "start_time": "2022-02-17T17:06:08.525Z"
   },
   {
    "duration": 880,
    "start_time": "2022-02-17T17:06:15.118Z"
   },
   {
    "duration": 891,
    "start_time": "2022-02-17T17:06:23.871Z"
   },
   {
    "duration": 137,
    "start_time": "2022-02-17T17:06:35.048Z"
   },
   {
    "duration": 853,
    "start_time": "2022-02-17T17:07:10.240Z"
   },
   {
    "duration": 978,
    "start_time": "2022-02-17T17:07:24.135Z"
   },
   {
    "duration": 137,
    "start_time": "2022-02-17T17:07:32.986Z"
   },
   {
    "duration": 219,
    "start_time": "2022-02-17T17:07:41.663Z"
   },
   {
    "duration": 141,
    "start_time": "2022-02-17T17:07:48.122Z"
   },
   {
    "duration": 162,
    "start_time": "2022-02-17T17:07:59.864Z"
   },
   {
    "duration": 149,
    "start_time": "2022-02-17T17:10:25.728Z"
   },
   {
    "duration": 473,
    "start_time": "2022-02-17T17:10:52.957Z"
   },
   {
    "duration": 142,
    "start_time": "2022-02-17T17:11:09.266Z"
   },
   {
    "duration": 136,
    "start_time": "2022-02-17T17:11:14.512Z"
   },
   {
    "duration": 153,
    "start_time": "2022-02-17T17:11:57.996Z"
   },
   {
    "duration": 150,
    "start_time": "2022-02-17T17:12:32.224Z"
   },
   {
    "duration": 157,
    "start_time": "2022-02-17T17:13:19.504Z"
   },
   {
    "duration": 147,
    "start_time": "2022-02-17T17:13:31.785Z"
   },
   {
    "duration": 209,
    "start_time": "2022-02-17T17:13:42.495Z"
   },
   {
    "duration": 160,
    "start_time": "2022-02-17T17:14:38.457Z"
   },
   {
    "duration": 181,
    "start_time": "2022-02-17T17:15:14.248Z"
   },
   {
    "duration": 981,
    "start_time": "2022-02-17T17:15:59.176Z"
   },
   {
    "duration": 936,
    "start_time": "2022-02-17T17:16:05.377Z"
   },
   {
    "duration": 894,
    "start_time": "2022-02-17T17:16:29.367Z"
   },
   {
    "duration": 974,
    "start_time": "2022-02-17T17:17:10.719Z"
   },
   {
    "duration": 910,
    "start_time": "2022-02-17T17:18:30.331Z"
   },
   {
    "duration": 891,
    "start_time": "2022-02-17T17:18:38.810Z"
   },
   {
    "duration": 906,
    "start_time": "2022-02-17T17:18:49.344Z"
   },
   {
    "duration": 468,
    "start_time": "2022-02-17T17:19:34.975Z"
   },
   {
    "duration": 939,
    "start_time": "2022-02-17T17:19:48.649Z"
   },
   {
    "duration": 493,
    "start_time": "2022-02-17T17:20:52.684Z"
   },
   {
    "duration": 868,
    "start_time": "2022-02-17T17:21:34.194Z"
   },
   {
    "duration": 941,
    "start_time": "2022-02-17T17:21:42.436Z"
   },
   {
    "duration": 988,
    "start_time": "2022-02-17T17:21:45.247Z"
   },
   {
    "duration": 875,
    "start_time": "2022-02-17T17:21:53.988Z"
   },
   {
    "duration": 875,
    "start_time": "2022-02-17T17:22:49.614Z"
   },
   {
    "duration": 2009,
    "start_time": "2022-02-17T17:23:43.769Z"
   },
   {
    "duration": 499,
    "start_time": "2022-02-17T17:23:54.772Z"
   },
   {
    "duration": 172,
    "start_time": "2022-02-17T17:24:13.165Z"
   },
   {
    "duration": 169,
    "start_time": "2022-02-17T17:24:29.256Z"
   },
   {
    "duration": 494,
    "start_time": "2022-02-17T17:24:34.915Z"
   },
   {
    "duration": 180,
    "start_time": "2022-02-17T17:24:44.313Z"
   },
   {
    "duration": 173,
    "start_time": "2022-02-17T17:25:07.413Z"
   },
   {
    "duration": 239,
    "start_time": "2022-02-17T17:25:26.112Z"
   },
   {
    "duration": 174,
    "start_time": "2022-02-17T17:25:31.732Z"
   },
   {
    "duration": 172,
    "start_time": "2022-02-17T17:26:13.252Z"
   },
   {
    "duration": 172,
    "start_time": "2022-02-17T17:26:21.131Z"
   },
   {
    "duration": 171,
    "start_time": "2022-02-17T17:26:47.619Z"
   },
   {
    "duration": 177,
    "start_time": "2022-02-17T17:31:12.491Z"
   },
   {
    "duration": 180,
    "start_time": "2022-02-17T17:31:20.788Z"
   },
   {
    "duration": 181,
    "start_time": "2022-02-17T17:31:27.324Z"
   },
   {
    "duration": 293,
    "start_time": "2022-02-17T17:31:53.197Z"
   },
   {
    "duration": 258,
    "start_time": "2022-02-17T17:32:04.261Z"
   },
   {
    "duration": 229,
    "start_time": "2022-02-17T17:32:12.363Z"
   },
   {
    "duration": 223,
    "start_time": "2022-02-17T17:32:27.958Z"
   },
   {
    "duration": 302,
    "start_time": "2022-02-17T17:38:49.111Z"
   },
   {
    "duration": 232,
    "start_time": "2022-02-17T17:48:01.568Z"
   },
   {
    "duration": 257,
    "start_time": "2022-02-17T17:48:16.385Z"
   },
   {
    "duration": 1358,
    "start_time": "2022-02-17T17:57:13.503Z"
   },
   {
    "duration": 118,
    "start_time": "2022-02-17T18:01:07.809Z"
   },
   {
    "duration": 329,
    "start_time": "2022-02-17T18:01:14.307Z"
   },
   {
    "duration": 1329,
    "start_time": "2022-02-17T18:01:21.960Z"
   },
   {
    "duration": 10,
    "start_time": "2022-02-17T18:01:37.223Z"
   },
   {
    "duration": 9506,
    "start_time": "2022-02-17T18:02:03.592Z"
   },
   {
    "duration": 12,
    "start_time": "2022-02-17T18:02:24.569Z"
   },
   {
    "duration": 149,
    "start_time": "2022-02-17T18:02:53.895Z"
   },
   {
    "duration": 217,
    "start_time": "2022-02-17T18:03:11.199Z"
   },
   {
    "duration": 111,
    "start_time": "2022-02-17T18:05:09.871Z"
   },
   {
    "duration": 94,
    "start_time": "2022-02-17T18:06:20.376Z"
   },
   {
    "duration": 110,
    "start_time": "2022-02-17T18:06:54.051Z"
   },
   {
    "duration": 106,
    "start_time": "2022-02-17T18:06:59.880Z"
   },
   {
    "duration": 102,
    "start_time": "2022-02-17T18:07:05.870Z"
   },
   {
    "duration": 100,
    "start_time": "2022-02-17T18:07:30.015Z"
   },
   {
    "duration": 617,
    "start_time": "2022-02-17T18:07:48.856Z"
   },
   {
    "duration": 100,
    "start_time": "2022-02-17T18:07:53.472Z"
   },
   {
    "duration": 184,
    "start_time": "2022-02-17T18:07:57.947Z"
   },
   {
    "duration": 100,
    "start_time": "2022-02-17T18:08:03.250Z"
   },
   {
    "duration": 99,
    "start_time": "2022-02-17T18:08:12.903Z"
   },
   {
    "duration": 100,
    "start_time": "2022-02-17T18:08:19.062Z"
   },
   {
    "duration": 99,
    "start_time": "2022-02-17T18:08:22.464Z"
   },
   {
    "duration": 135,
    "start_time": "2022-02-17T18:08:38.465Z"
   },
   {
    "duration": 98,
    "start_time": "2022-02-17T18:08:42.071Z"
   },
   {
    "duration": 74,
    "start_time": "2022-02-17T18:14:06.370Z"
   },
   {
    "duration": 228,
    "start_time": "2022-02-18T02:40:04.269Z"
   },
   {
    "duration": 271,
    "start_time": "2022-02-18T02:40:17.148Z"
   },
   {
    "duration": 234,
    "start_time": "2022-02-18T02:40:23.140Z"
   },
   {
    "duration": 125,
    "start_time": "2022-02-18T02:46:07.001Z"
   },
   {
    "duration": 306,
    "start_time": "2022-02-18T02:46:18.440Z"
   },
   {
    "duration": 233,
    "start_time": "2022-02-18T02:46:30.800Z"
   },
   {
    "duration": 303,
    "start_time": "2022-02-18T02:47:21.390Z"
   },
   {
    "duration": 390,
    "start_time": "2022-02-18T02:47:37.093Z"
   },
   {
    "duration": 241,
    "start_time": "2022-02-18T02:48:53.741Z"
   },
   {
    "duration": 5,
    "start_time": "2022-02-18T03:14:34.831Z"
   },
   {
    "duration": 4,
    "start_time": "2022-02-18T03:14:44.519Z"
   },
   {
    "duration": 369,
    "start_time": "2022-02-18T11:42:41.972Z"
   },
   {
    "duration": 419,
    "start_time": "2022-02-18T11:43:01.376Z"
   },
   {
    "duration": 12,
    "start_time": "2022-02-18T11:43:11.892Z"
   },
   {
    "duration": 136,
    "start_time": "2022-02-18T11:43:29.572Z"
   },
   {
    "duration": 157,
    "start_time": "2022-02-18T11:43:36.804Z"
   },
   {
    "duration": 10,
    "start_time": "2022-02-18T11:43:40.443Z"
   },
   {
    "duration": 373,
    "start_time": "2022-02-18T11:48:21.379Z"
   },
   {
    "duration": 9,
    "start_time": "2022-02-18T11:49:16.231Z"
   },
   {
    "duration": 16,
    "start_time": "2022-02-18T11:50:34.604Z"
   },
   {
    "duration": 14,
    "start_time": "2022-02-18T11:50:44.820Z"
   },
   {
    "duration": 15,
    "start_time": "2022-02-18T11:52:15.900Z"
   },
   {
    "duration": 14,
    "start_time": "2022-02-18T11:53:40.500Z"
   },
   {
    "duration": 17,
    "start_time": "2022-02-18T11:54:29.380Z"
   },
   {
    "duration": 17,
    "start_time": "2022-02-18T11:54:58.316Z"
   },
   {
    "duration": 14,
    "start_time": "2022-02-18T11:55:59.964Z"
   },
   {
    "duration": 15,
    "start_time": "2022-02-18T11:56:59.557Z"
   },
   {
    "duration": 12,
    "start_time": "2022-02-18T12:58:27.744Z"
   },
   {
    "duration": 18,
    "start_time": "2022-02-18T12:58:43.690Z"
   },
   {
    "duration": 9,
    "start_time": "2022-02-18T13:05:58.713Z"
   },
   {
    "duration": 5,
    "start_time": "2022-02-18T13:07:32.359Z"
   },
   {
    "duration": 5,
    "start_time": "2022-02-18T13:07:43.888Z"
   },
   {
    "duration": 6,
    "start_time": "2022-02-18T13:07:49.304Z"
   },
   {
    "duration": 5,
    "start_time": "2022-02-18T13:08:57.679Z"
   },
   {
    "duration": 13,
    "start_time": "2022-02-18T13:14:42.465Z"
   },
   {
    "duration": 13,
    "start_time": "2022-02-18T13:14:44.953Z"
   },
   {
    "duration": 12,
    "start_time": "2022-02-18T13:15:56.153Z"
   },
   {
    "duration": 12,
    "start_time": "2022-02-18T13:15:57.848Z"
   },
   {
    "duration": 196,
    "start_time": "2022-02-18T13:22:39.321Z"
   },
   {
    "duration": 177,
    "start_time": "2022-02-18T13:22:56.604Z"
   },
   {
    "duration": 283,
    "start_time": "2022-02-18T13:23:03.184Z"
   },
   {
    "duration": 3280,
    "start_time": "2022-02-18T13:23:15.937Z"
   },
   {
    "duration": 434,
    "start_time": "2022-02-18T13:24:12.277Z"
   },
   {
    "duration": 169,
    "start_time": "2022-02-18T13:24:16.085Z"
   },
   {
    "duration": 168,
    "start_time": "2022-02-18T13:24:21.068Z"
   },
   {
    "duration": 158,
    "start_time": "2022-02-18T13:26:37.004Z"
   },
   {
    "duration": 154,
    "start_time": "2022-02-18T13:27:39.316Z"
   },
   {
    "duration": 160,
    "start_time": "2022-02-18T13:27:53.565Z"
   },
   {
    "duration": 181,
    "start_time": "2022-02-18T13:27:59.667Z"
   },
   {
    "duration": 323,
    "start_time": "2022-02-18T13:28:20.753Z"
   },
   {
    "duration": 163,
    "start_time": "2022-02-18T13:28:25.629Z"
   },
   {
    "duration": 257,
    "start_time": "2022-02-18T13:28:31.892Z"
   },
   {
    "duration": 7,
    "start_time": "2022-02-18T13:28:39.052Z"
   },
   {
    "duration": 155,
    "start_time": "2022-02-18T13:28:48.203Z"
   },
   {
    "duration": 130,
    "start_time": "2022-02-18T13:32:21.565Z"
   },
   {
    "duration": 176,
    "start_time": "2022-02-18T13:32:23.340Z"
   },
   {
    "duration": 187,
    "start_time": "2022-02-18T13:32:30.516Z"
   },
   {
    "duration": 268,
    "start_time": "2022-02-18T13:32:34.421Z"
   },
   {
    "duration": 175,
    "start_time": "2022-02-18T13:32:37.877Z"
   },
   {
    "duration": 157,
    "start_time": "2022-02-18T13:32:45.349Z"
   },
   {
    "duration": 243,
    "start_time": "2022-02-18T13:33:17.452Z"
   },
   {
    "duration": 205,
    "start_time": "2022-02-18T13:33:22.629Z"
   },
   {
    "duration": 1393,
    "start_time": "2022-02-18T13:34:16.925Z"
   },
   {
    "duration": 1472,
    "start_time": "2022-02-18T13:34:24.699Z"
   },
   {
    "duration": 6301,
    "start_time": "2022-02-18T13:34:42.412Z"
   },
   {
    "duration": 1684,
    "start_time": "2022-02-18T13:35:32.541Z"
   },
   {
    "duration": 326,
    "start_time": "2022-02-18T13:36:30.404Z"
   },
   {
    "duration": 343,
    "start_time": "2022-02-18T13:36:37.413Z"
   },
   {
    "duration": 306,
    "start_time": "2022-02-18T13:36:56.836Z"
   },
   {
    "duration": 338,
    "start_time": "2022-02-18T13:39:19.476Z"
   },
   {
    "duration": 163,
    "start_time": "2022-02-18T13:39:25.068Z"
   },
   {
    "duration": 335,
    "start_time": "2022-02-18T13:39:30.876Z"
   },
   {
    "duration": 231,
    "start_time": "2022-02-18T13:43:45.532Z"
   },
   {
    "duration": 258,
    "start_time": "2022-02-18T13:43:59.124Z"
   },
   {
    "duration": 239,
    "start_time": "2022-02-18T13:44:07.828Z"
   },
   {
    "duration": 382,
    "start_time": "2022-02-18T13:44:21.844Z"
   },
   {
    "duration": 230,
    "start_time": "2022-02-18T13:44:27.940Z"
   },
   {
    "duration": 1601,
    "start_time": "2022-02-18T13:44:32.892Z"
   },
   {
    "duration": 1798,
    "start_time": "2022-02-18T13:48:36.481Z"
   },
   {
    "duration": 2008,
    "start_time": "2022-02-18T13:48:55.279Z"
   },
   {
    "duration": 1882,
    "start_time": "2022-02-18T13:49:07.393Z"
   },
   {
    "duration": 2084,
    "start_time": "2022-02-18T13:51:15.829Z"
   },
   {
    "duration": 859,
    "start_time": "2022-02-18T13:52:26.657Z"
   },
   {
    "duration": 1414,
    "start_time": "2022-02-18T13:52:52.640Z"
   },
   {
    "duration": 232,
    "start_time": "2022-02-18T13:54:06.496Z"
   },
   {
    "duration": 239,
    "start_time": "2022-02-18T13:54:45.168Z"
   },
   {
    "duration": 240,
    "start_time": "2022-02-18T13:54:52.408Z"
   },
   {
    "duration": 238,
    "start_time": "2022-02-18T13:55:09.353Z"
   },
   {
    "duration": 234,
    "start_time": "2022-02-18T13:55:40.664Z"
   },
   {
    "duration": 244,
    "start_time": "2022-02-18T13:56:31.936Z"
   },
   {
    "duration": 239,
    "start_time": "2022-02-18T13:56:40.848Z"
   },
   {
    "duration": 1713,
    "start_time": "2022-02-18T13:56:48.785Z"
   },
   {
    "duration": 3749,
    "start_time": "2022-02-18T13:56:52.497Z"
   },
   {
    "duration": 3847,
    "start_time": "2022-02-18T13:57:16.178Z"
   },
   {
    "duration": 2333,
    "start_time": "2022-02-18T13:57:26.928Z"
   },
   {
    "duration": 626,
    "start_time": "2022-02-18T14:02:18.258Z"
   },
   {
    "duration": 613,
    "start_time": "2022-02-18T14:02:27.113Z"
   },
   {
    "duration": 262,
    "start_time": "2022-02-18T14:02:43.024Z"
   },
   {
    "duration": 426,
    "start_time": "2022-02-18T14:03:02.684Z"
   },
   {
    "duration": 2240,
    "start_time": "2022-02-18T14:13:59.158Z"
   },
   {
    "duration": 273,
    "start_time": "2022-02-18T14:14:44.520Z"
   },
   {
    "duration": 290,
    "start_time": "2022-02-18T14:14:50.212Z"
   },
   {
    "duration": 5,
    "start_time": "2022-02-18T14:42:31.808Z"
   },
   {
    "duration": 15,
    "start_time": "2022-02-18T14:45:07.136Z"
   },
   {
    "duration": 13,
    "start_time": "2022-02-18T14:45:40.939Z"
   },
   {
    "duration": 15,
    "start_time": "2022-02-18T14:46:09.885Z"
   },
   {
    "duration": 1303,
    "start_time": "2022-02-18T14:47:57.921Z"
   },
   {
    "duration": 153,
    "start_time": "2022-02-18T14:47:59.225Z"
   },
   {
    "duration": 108,
    "start_time": "2022-02-18T14:47:59.380Z"
   },
   {
    "duration": 25,
    "start_time": "2022-02-18T14:47:59.491Z"
   },
   {
    "duration": 50,
    "start_time": "2022-02-18T14:47:59.518Z"
   },
   {
    "duration": 17,
    "start_time": "2022-02-18T14:47:59.571Z"
   },
   {
    "duration": 6,
    "start_time": "2022-02-18T14:47:59.590Z"
   },
   {
    "duration": 135,
    "start_time": "2022-02-18T14:47:59.599Z"
   },
   {
    "duration": 51,
    "start_time": "2022-02-18T14:47:59.737Z"
   },
   {
    "duration": 92,
    "start_time": "2022-02-18T14:47:59.791Z"
   },
   {
    "duration": 88,
    "start_time": "2022-02-18T14:47:59.885Z"
   },
   {
    "duration": 19,
    "start_time": "2022-02-18T14:47:59.975Z"
   },
   {
    "duration": 817,
    "start_time": "2022-02-18T14:47:59.995Z"
   },
   {
    "duration": 35,
    "start_time": "2022-02-18T14:48:00.814Z"
   },
   {
    "duration": 197,
    "start_time": "2022-02-18T14:48:00.851Z"
   },
   {
    "duration": 5,
    "start_time": "2022-02-18T14:48:01.050Z"
   },
   {
    "duration": 28,
    "start_time": "2022-02-18T14:48:01.056Z"
   },
   {
    "duration": 104,
    "start_time": "2022-02-18T14:48:01.086Z"
   },
   {
    "duration": 243,
    "start_time": "2022-02-18T14:48:01.192Z"
   },
   {
    "duration": 281,
    "start_time": "2022-02-18T14:48:01.437Z"
   },
   {
    "duration": 284,
    "start_time": "2022-02-18T14:48:01.719Z"
   },
   {
    "duration": 12,
    "start_time": "2022-02-18T14:48:02.005Z"
   },
   {
    "duration": 27,
    "start_time": "2022-02-18T14:48:02.020Z"
   },
   {
    "duration": 289,
    "start_time": "2022-02-18T14:48:02.049Z"
   },
   {
    "duration": 18,
    "start_time": "2022-02-18T14:48:02.340Z"
   },
   {
    "duration": 428,
    "start_time": "2022-02-18T14:48:02.359Z"
   },
   {
    "duration": 6,
    "start_time": "2022-02-18T14:48:59.034Z"
   },
   {
    "duration": 10,
    "start_time": "2022-02-18T14:49:20.890Z"
   },
   {
    "duration": 9,
    "start_time": "2022-02-18T14:49:31.842Z"
   },
   {
    "duration": 9,
    "start_time": "2022-02-18T14:49:37.360Z"
   },
   {
    "duration": 4,
    "start_time": "2022-02-18T14:49:40.569Z"
   },
   {
    "duration": 6,
    "start_time": "2022-02-18T14:49:55.856Z"
   },
   {
    "duration": 10,
    "start_time": "2022-02-18T14:56:53.481Z"
   },
   {
    "duration": 10,
    "start_time": "2022-02-18T14:57:02.809Z"
   },
   {
    "duration": 6,
    "start_time": "2022-02-18T14:57:16.649Z"
   },
   {
    "duration": 6,
    "start_time": "2022-02-18T14:57:52.489Z"
   },
   {
    "duration": 6,
    "start_time": "2022-02-18T14:59:11.778Z"
   },
   {
    "duration": 7,
    "start_time": "2022-02-18T14:59:30.978Z"
   },
   {
    "duration": 118,
    "start_time": "2022-02-18T14:59:40.185Z"
   },
   {
    "duration": 6,
    "start_time": "2022-02-18T14:59:49.701Z"
   },
   {
    "duration": 8,
    "start_time": "2022-02-18T14:59:56.624Z"
   },
   {
    "duration": 6,
    "start_time": "2022-02-18T15:00:01.013Z"
   },
   {
    "duration": 6,
    "start_time": "2022-02-18T15:00:09.662Z"
   },
   {
    "duration": 8,
    "start_time": "2022-02-18T15:00:13.532Z"
   },
   {
    "duration": 6,
    "start_time": "2022-02-18T15:00:21.077Z"
   },
   {
    "duration": 7,
    "start_time": "2022-02-18T15:00:25.234Z"
   },
   {
    "duration": 9,
    "start_time": "2022-02-18T15:00:50.165Z"
   },
   {
    "duration": 8,
    "start_time": "2022-02-18T15:00:53.919Z"
   },
   {
    "duration": 12,
    "start_time": "2022-02-18T15:01:06.713Z"
   },
   {
    "duration": 6,
    "start_time": "2022-02-18T15:01:32.505Z"
   },
   {
    "duration": 6,
    "start_time": "2022-02-18T15:02:55.835Z"
   },
   {
    "duration": 17,
    "start_time": "2022-02-18T15:05:46.517Z"
   },
   {
    "duration": 8,
    "start_time": "2022-02-18T15:07:02.894Z"
   },
   {
    "duration": 10495,
    "start_time": "2022-02-18T15:07:10.694Z"
   },
   {
    "duration": 19,
    "start_time": "2022-02-18T15:07:41.566Z"
   },
   {
    "duration": 1216,
    "start_time": "2022-02-18T15:08:07.657Z"
   },
   {
    "duration": 155,
    "start_time": "2022-02-18T15:08:08.875Z"
   },
   {
    "duration": 120,
    "start_time": "2022-02-18T15:08:09.032Z"
   },
   {
    "duration": 24,
    "start_time": "2022-02-18T15:08:09.154Z"
   },
   {
    "duration": 48,
    "start_time": "2022-02-18T15:08:09.180Z"
   },
   {
    "duration": 16,
    "start_time": "2022-02-18T15:08:09.229Z"
   },
   {
    "duration": 5,
    "start_time": "2022-02-18T15:08:09.246Z"
   },
   {
    "duration": 115,
    "start_time": "2022-02-18T15:08:09.254Z"
   },
   {
    "duration": 43,
    "start_time": "2022-02-18T15:08:09.371Z"
   },
   {
    "duration": 78,
    "start_time": "2022-02-18T15:08:09.416Z"
   },
   {
    "duration": 80,
    "start_time": "2022-02-18T15:08:09.495Z"
   },
   {
    "duration": 19,
    "start_time": "2022-02-18T15:08:09.577Z"
   },
   {
    "duration": 785,
    "start_time": "2022-02-18T15:08:09.598Z"
   },
   {
    "duration": 23,
    "start_time": "2022-02-18T15:08:10.385Z"
   },
   {
    "duration": 180,
    "start_time": "2022-02-18T15:08:10.410Z"
   },
   {
    "duration": 4,
    "start_time": "2022-02-18T15:08:10.592Z"
   },
   {
    "duration": 16,
    "start_time": "2022-02-18T15:08:10.598Z"
   },
   {
    "duration": 102,
    "start_time": "2022-02-18T15:08:10.616Z"
   },
   {
    "duration": 272,
    "start_time": "2022-02-18T15:08:10.719Z"
   },
   {
    "duration": 277,
    "start_time": "2022-02-18T15:08:10.993Z"
   },
   {
    "duration": 236,
    "start_time": "2022-02-18T15:08:11.272Z"
   },
   {
    "duration": 13,
    "start_time": "2022-02-18T15:08:11.510Z"
   },
   {
    "duration": 29,
    "start_time": "2022-02-18T15:08:11.526Z"
   },
   {
    "duration": 289,
    "start_time": "2022-02-18T15:08:11.557Z"
   },
   {
    "duration": 10,
    "start_time": "2022-02-18T15:08:11.847Z"
   },
   {
    "duration": 9,
    "start_time": "2022-02-18T15:08:11.858Z"
   },
   {
    "duration": 79,
    "start_time": "2022-02-18T15:08:11.868Z"
   },
   {
    "duration": 9517,
    "start_time": "2022-02-18T15:42:06.821Z"
   },
   {
    "duration": 74,
    "start_time": "2022-02-18T15:42:50.227Z"
   },
   {
    "duration": 9551,
    "start_time": "2022-02-18T15:42:56.900Z"
   },
   {
    "duration": 1217,
    "start_time": "2022-02-18T15:44:15.153Z"
   },
   {
    "duration": 141,
    "start_time": "2022-02-18T15:44:16.371Z"
   },
   {
    "duration": 95,
    "start_time": "2022-02-18T15:44:16.516Z"
   },
   {
    "duration": 22,
    "start_time": "2022-02-18T15:44:16.613Z"
   },
   {
    "duration": 77,
    "start_time": "2022-02-18T15:44:16.636Z"
   },
   {
    "duration": 35,
    "start_time": "2022-02-18T15:44:16.714Z"
   },
   {
    "duration": 17,
    "start_time": "2022-02-18T15:44:16.751Z"
   },
   {
    "duration": 96,
    "start_time": "2022-02-18T15:44:16.770Z"
   },
   {
    "duration": 45,
    "start_time": "2022-02-18T15:44:16.868Z"
   },
   {
    "duration": 78,
    "start_time": "2022-02-18T15:44:16.915Z"
   },
   {
    "duration": 81,
    "start_time": "2022-02-18T15:44:16.995Z"
   },
   {
    "duration": 17,
    "start_time": "2022-02-18T15:44:17.078Z"
   },
   {
    "duration": 772,
    "start_time": "2022-02-18T15:44:17.097Z"
   },
   {
    "duration": 25,
    "start_time": "2022-02-18T15:44:17.871Z"
   },
   {
    "duration": 182,
    "start_time": "2022-02-18T15:44:17.898Z"
   },
   {
    "duration": 4,
    "start_time": "2022-02-18T15:44:18.081Z"
   },
   {
    "duration": 18,
    "start_time": "2022-02-18T15:44:18.086Z"
   },
   {
    "duration": 96,
    "start_time": "2022-02-18T15:44:18.106Z"
   },
   {
    "duration": 246,
    "start_time": "2022-02-18T15:44:18.204Z"
   },
   {
    "duration": 299,
    "start_time": "2022-02-18T15:44:18.452Z"
   },
   {
    "duration": 243,
    "start_time": "2022-02-18T15:44:18.753Z"
   },
   {
    "duration": 14,
    "start_time": "2022-02-18T15:44:18.999Z"
   },
   {
    "duration": 64,
    "start_time": "2022-02-18T15:44:19.015Z"
   },
   {
    "duration": 276,
    "start_time": "2022-02-18T15:44:19.081Z"
   },
   {
    "duration": 12,
    "start_time": "2022-02-18T15:44:19.359Z"
   },
   {
    "duration": 6,
    "start_time": "2022-02-18T15:44:19.372Z"
   },
   {
    "duration": 11,
    "start_time": "2022-02-18T15:44:19.380Z"
   },
   {
    "duration": 7,
    "start_time": "2022-02-18T15:45:06.010Z"
   },
   {
    "duration": 496,
    "start_time": "2022-02-18T16:13:07.313Z"
   },
   {
    "duration": 413,
    "start_time": "2022-02-18T16:13:19.849Z"
   },
   {
    "duration": 357,
    "start_time": "2022-02-18T16:13:29.506Z"
   },
   {
    "duration": 405,
    "start_time": "2022-02-18T16:13:38.245Z"
   },
   {
    "duration": 7,
    "start_time": "2022-02-18T16:13:48.457Z"
   },
   {
    "duration": 6,
    "start_time": "2022-02-18T16:23:38.294Z"
   },
   {
    "duration": 7,
    "start_time": "2022-02-18T16:23:44.485Z"
   },
   {
    "duration": 6,
    "start_time": "2022-02-18T16:23:51.789Z"
   },
   {
    "duration": 7,
    "start_time": "2022-02-18T16:23:55.743Z"
   },
   {
    "duration": 6,
    "start_time": "2022-02-18T16:24:03.566Z"
   },
   {
    "duration": 6,
    "start_time": "2022-02-18T16:24:08.438Z"
   },
   {
    "duration": 1250,
    "start_time": "2022-02-19T13:33:56.790Z"
   },
   {
    "duration": 144,
    "start_time": "2022-02-19T13:33:58.042Z"
   },
   {
    "duration": 100,
    "start_time": "2022-02-19T13:33:58.188Z"
   },
   {
    "duration": 25,
    "start_time": "2022-02-19T13:33:58.290Z"
   },
   {
    "duration": 67,
    "start_time": "2022-02-19T13:33:58.317Z"
   },
   {
    "duration": 10,
    "start_time": "2022-02-19T13:33:58.386Z"
   },
   {
    "duration": 15,
    "start_time": "2022-02-19T13:33:58.398Z"
   },
   {
    "duration": 114,
    "start_time": "2022-02-19T13:33:58.416Z"
   },
   {
    "duration": 68,
    "start_time": "2022-02-19T13:33:58.532Z"
   },
   {
    "duration": 101,
    "start_time": "2022-02-19T13:33:58.602Z"
   },
   {
    "duration": 86,
    "start_time": "2022-02-19T13:33:58.705Z"
   },
   {
    "duration": 22,
    "start_time": "2022-02-19T13:33:58.793Z"
   },
   {
    "duration": 679,
    "start_time": "2022-02-19T13:33:58.817Z"
   },
   {
    "duration": 24,
    "start_time": "2022-02-19T13:33:59.497Z"
   },
   {
    "duration": 198,
    "start_time": "2022-02-19T13:33:59.522Z"
   },
   {
    "duration": 4,
    "start_time": "2022-02-19T13:33:59.721Z"
   },
   {
    "duration": 30,
    "start_time": "2022-02-19T13:33:59.727Z"
   },
   {
    "duration": 109,
    "start_time": "2022-02-19T13:33:59.758Z"
   },
   {
    "duration": 270,
    "start_time": "2022-02-19T13:33:59.869Z"
   },
   {
    "duration": 298,
    "start_time": "2022-02-19T13:34:00.140Z"
   },
   {
    "duration": 242,
    "start_time": "2022-02-19T13:34:00.439Z"
   },
   {
    "duration": 12,
    "start_time": "2022-02-19T13:34:00.682Z"
   },
   {
    "duration": 20,
    "start_time": "2022-02-19T13:34:00.696Z"
   },
   {
    "duration": 294,
    "start_time": "2022-02-19T13:34:00.717Z"
   },
   {
    "duration": 10,
    "start_time": "2022-02-19T13:34:01.012Z"
   },
   {
    "duration": 27,
    "start_time": "2022-02-19T13:34:01.023Z"
   },
   {
    "duration": 11,
    "start_time": "2022-02-19T13:34:01.051Z"
   },
   {
    "duration": 18,
    "start_time": "2022-02-19T13:34:01.063Z"
   },
   {
    "duration": 14,
    "start_time": "2022-02-19T13:46:52.497Z"
   },
   {
    "duration": 436,
    "start_time": "2022-02-19T13:48:29.705Z"
   },
   {
    "duration": 14,
    "start_time": "2022-02-19T13:48:44.179Z"
   },
   {
    "duration": 14,
    "start_time": "2022-02-19T13:49:23.283Z"
   },
   {
    "duration": 15,
    "start_time": "2022-02-19T13:50:54.851Z"
   },
   {
    "duration": 274,
    "start_time": "2022-02-19T13:56:28.442Z"
   },
   {
    "duration": 275,
    "start_time": "2022-02-19T13:56:38.473Z"
   },
   {
    "duration": 244,
    "start_time": "2022-02-19T13:56:46.490Z"
   },
   {
    "duration": 275,
    "start_time": "2022-02-19T13:56:52.826Z"
   },
   {
    "duration": 238,
    "start_time": "2022-02-19T13:57:08.488Z"
   },
   {
    "duration": 244,
    "start_time": "2022-02-19T13:57:14.905Z"
   },
   {
    "duration": 235,
    "start_time": "2022-02-19T13:57:35.969Z"
   },
   {
    "duration": 271,
    "start_time": "2022-02-19T13:58:02.233Z"
   },
   {
    "duration": 840,
    "start_time": "2022-02-19T13:58:28.808Z"
   },
   {
    "duration": 268,
    "start_time": "2022-02-19T13:58:33.712Z"
   },
   {
    "duration": 264,
    "start_time": "2022-02-19T13:58:43.560Z"
   },
   {
    "duration": 585,
    "start_time": "2022-02-19T13:59:08.481Z"
   },
   {
    "duration": 334,
    "start_time": "2022-02-19T13:59:14.561Z"
   },
   {
    "duration": 546,
    "start_time": "2022-02-19T13:59:36.472Z"
   },
   {
    "duration": 265,
    "start_time": "2022-02-19T13:59:55.921Z"
   },
   {
    "duration": 259,
    "start_time": "2022-02-19T14:02:50.120Z"
   },
   {
    "duration": 268,
    "start_time": "2022-02-19T14:02:56.712Z"
   },
   {
    "duration": 301,
    "start_time": "2022-02-19T14:03:00.248Z"
   },
   {
    "duration": 371,
    "start_time": "2022-02-19T14:03:03.304Z"
   },
   {
    "duration": 369,
    "start_time": "2022-02-19T14:04:31.024Z"
   },
   {
    "duration": 305,
    "start_time": "2022-02-19T14:04:38.416Z"
   },
   {
    "duration": 291,
    "start_time": "2022-02-19T14:04:54.919Z"
   },
   {
    "duration": 335,
    "start_time": "2022-02-19T14:06:00.376Z"
   },
   {
    "duration": 260,
    "start_time": "2022-02-19T14:06:13.767Z"
   },
   {
    "duration": 329,
    "start_time": "2022-02-19T14:06:22.623Z"
   },
   {
    "duration": 368,
    "start_time": "2022-02-19T14:06:27.431Z"
   },
   {
    "duration": 340,
    "start_time": "2022-02-19T14:06:59.735Z"
   },
   {
    "duration": 384,
    "start_time": "2022-02-19T14:08:07.239Z"
   },
   {
    "duration": 225,
    "start_time": "2022-02-19T14:08:22.153Z"
   },
   {
    "duration": 610,
    "start_time": "2022-02-19T14:09:13.913Z"
   },
   {
    "duration": 222,
    "start_time": "2022-02-19T14:09:57.184Z"
   },
   {
    "duration": 247,
    "start_time": "2022-02-19T14:10:30.591Z"
   },
   {
    "duration": 294,
    "start_time": "2022-02-19T14:10:46.411Z"
   },
   {
    "duration": 241,
    "start_time": "2022-02-19T14:10:57.694Z"
   },
   {
    "duration": 413,
    "start_time": "2022-02-19T14:15:57.143Z"
   },
   {
    "duration": 17,
    "start_time": "2022-02-19T14:16:06.198Z"
   },
   {
    "duration": 362,
    "start_time": "2022-02-19T14:16:46.499Z"
   },
   {
    "duration": 439,
    "start_time": "2022-02-19T14:18:23.701Z"
   },
   {
    "duration": 287,
    "start_time": "2022-02-19T14:18:29.990Z"
   },
   {
    "duration": 269,
    "start_time": "2022-02-19T14:20:02.109Z"
   },
   {
    "duration": 235,
    "start_time": "2022-02-19T14:20:07.254Z"
   },
   {
    "duration": 261,
    "start_time": "2022-02-19T14:20:14.677Z"
   },
   {
    "duration": 287,
    "start_time": "2022-02-19T14:20:22.958Z"
   },
   {
    "duration": 273,
    "start_time": "2022-02-19T14:20:27.205Z"
   },
   {
    "duration": 243,
    "start_time": "2022-02-19T14:20:40.350Z"
   },
   {
    "duration": 337,
    "start_time": "2022-02-19T14:20:50.981Z"
   },
   {
    "duration": 17,
    "start_time": "2022-02-19T14:22:00.190Z"
   },
   {
    "duration": 22,
    "start_time": "2022-02-19T14:22:16.871Z"
   },
   {
    "duration": 262,
    "start_time": "2022-02-19T14:22:59.814Z"
   },
   {
    "duration": 351,
    "start_time": "2022-02-19T14:52:46.975Z"
   },
   {
    "duration": 273,
    "start_time": "2022-02-19T14:52:58.928Z"
   },
   {
    "duration": 269,
    "start_time": "2022-02-19T14:54:06.216Z"
   },
   {
    "duration": 341,
    "start_time": "2022-02-19T14:54:22.439Z"
   },
   {
    "duration": 266,
    "start_time": "2022-02-19T14:54:27.000Z"
   },
   {
    "duration": 269,
    "start_time": "2022-02-19T14:54:43.391Z"
   },
   {
    "duration": 272,
    "start_time": "2022-02-19T14:54:58.782Z"
   },
   {
    "duration": 284,
    "start_time": "2022-02-19T14:55:13.431Z"
   },
   {
    "duration": 268,
    "start_time": "2022-02-19T14:55:24.680Z"
   },
   {
    "duration": 363,
    "start_time": "2022-02-19T14:55:44.911Z"
   },
   {
    "duration": 338,
    "start_time": "2022-02-19T14:56:50.815Z"
   },
   {
    "duration": 223,
    "start_time": "2022-02-19T14:57:02.752Z"
   },
   {
    "duration": 11,
    "start_time": "2022-02-19T15:06:05.733Z"
   },
   {
    "duration": 7,
    "start_time": "2022-02-19T15:14:29.651Z"
   },
   {
    "duration": 105,
    "start_time": "2022-02-19T15:14:46.012Z"
   },
   {
    "duration": 38,
    "start_time": "2022-02-19T15:14:57.435Z"
   },
   {
    "duration": 14,
    "start_time": "2022-02-19T15:18:40.964Z"
   },
   {
    "duration": 16,
    "start_time": "2022-02-19T15:19:12.300Z"
   },
   {
    "duration": 14,
    "start_time": "2022-02-19T15:19:49.845Z"
   },
   {
    "duration": 16,
    "start_time": "2022-02-19T15:20:36.380Z"
   },
   {
    "duration": 8,
    "start_time": "2022-02-19T15:20:48.275Z"
   },
   {
    "duration": 7,
    "start_time": "2022-02-19T15:21:03.050Z"
   },
   {
    "duration": 8,
    "start_time": "2022-02-19T15:21:12.722Z"
   },
   {
    "duration": 7,
    "start_time": "2022-02-19T15:54:08.919Z"
   },
   {
    "duration": 7,
    "start_time": "2022-02-19T15:54:17.997Z"
   },
   {
    "duration": 9,
    "start_time": "2022-02-19T15:55:09.724Z"
   },
   {
    "duration": 6,
    "start_time": "2022-02-19T15:56:05.148Z"
   },
   {
    "duration": 120,
    "start_time": "2022-02-19T15:56:10.636Z"
   },
   {
    "duration": 8,
    "start_time": "2022-02-19T15:56:15.660Z"
   },
   {
    "duration": 8,
    "start_time": "2022-02-19T15:56:40.620Z"
   },
   {
    "duration": 8,
    "start_time": "2022-02-19T15:57:03.973Z"
   },
   {
    "duration": 7,
    "start_time": "2022-02-19T15:57:10.307Z"
   },
   {
    "duration": 7,
    "start_time": "2022-02-19T15:57:16.627Z"
   },
   {
    "duration": 6,
    "start_time": "2022-02-19T15:57:34.492Z"
   },
   {
    "duration": 6,
    "start_time": "2022-02-19T15:57:44.020Z"
   },
   {
    "duration": 7,
    "start_time": "2022-02-19T15:57:44.675Z"
   },
   {
    "duration": 7,
    "start_time": "2022-02-19T15:57:58.100Z"
   },
   {
    "duration": 12,
    "start_time": "2022-02-19T15:58:20.748Z"
   },
   {
    "duration": 18,
    "start_time": "2022-02-19T15:58:33.213Z"
   },
   {
    "duration": 13,
    "start_time": "2022-02-19T16:00:32.573Z"
   },
   {
    "duration": 328,
    "start_time": "2022-02-19T16:02:05.812Z"
   },
   {
    "duration": 222,
    "start_time": "2022-02-19T16:02:16.733Z"
   },
   {
    "duration": 320,
    "start_time": "2022-02-19T16:02:55.772Z"
   },
   {
    "duration": 9,
    "start_time": "2022-02-19T16:03:04.908Z"
   },
   {
    "duration": 223,
    "start_time": "2022-02-19T16:03:32.228Z"
   },
   {
    "duration": 244,
    "start_time": "2022-02-19T16:03:52.852Z"
   },
   {
    "duration": 218,
    "start_time": "2022-02-19T16:04:06.955Z"
   },
   {
    "duration": 16,
    "start_time": "2022-02-19T16:04:49.652Z"
   },
   {
    "duration": 15,
    "start_time": "2022-02-20T12:45:11.467Z"
   },
   {
    "duration": 257,
    "start_time": "2022-02-20T12:46:38.211Z"
   },
   {
    "duration": 297,
    "start_time": "2022-02-20T12:46:49.892Z"
   },
   {
    "duration": 317,
    "start_time": "2022-02-20T12:47:19.373Z"
   },
   {
    "duration": 272,
    "start_time": "2022-02-20T12:47:26.994Z"
   },
   {
    "duration": 346,
    "start_time": "2022-02-20T12:47:45.563Z"
   },
   {
    "duration": 6,
    "start_time": "2022-02-20T12:47:55.451Z"
   },
   {
    "duration": 8574,
    "start_time": "2022-02-20T12:48:10.730Z"
   },
   {
    "duration": 1179,
    "start_time": "2022-02-20T12:49:06.694Z"
   },
   {
    "duration": 135,
    "start_time": "2022-02-20T12:49:07.874Z"
   },
   {
    "duration": 99,
    "start_time": "2022-02-20T12:49:08.010Z"
   },
   {
    "duration": 22,
    "start_time": "2022-02-20T12:49:08.111Z"
   },
   {
    "duration": 86,
    "start_time": "2022-02-20T12:49:08.135Z"
   },
   {
    "duration": 8,
    "start_time": "2022-02-20T12:49:08.223Z"
   },
   {
    "duration": 9,
    "start_time": "2022-02-20T12:49:08.233Z"
   },
   {
    "duration": 95,
    "start_time": "2022-02-20T12:49:08.245Z"
   },
   {
    "duration": 47,
    "start_time": "2022-02-20T12:49:08.342Z"
   },
   {
    "duration": 3,
    "start_time": "2022-02-20T12:49:08.391Z"
   },
   {
    "duration": 117,
    "start_time": "2022-02-20T12:49:08.396Z"
   },
   {
    "duration": 88,
    "start_time": "2022-02-20T12:49:08.515Z"
   },
   {
    "duration": 21,
    "start_time": "2022-02-20T12:49:08.604Z"
   },
   {
    "duration": 640,
    "start_time": "2022-02-20T12:49:08.627Z"
   },
   {
    "duration": 24,
    "start_time": "2022-02-20T12:49:09.269Z"
   },
   {
    "duration": 181,
    "start_time": "2022-02-20T12:49:09.294Z"
   },
   {
    "duration": 3,
    "start_time": "2022-02-20T12:49:09.477Z"
   },
   {
    "duration": 18,
    "start_time": "2022-02-20T12:49:09.482Z"
   },
   {
    "duration": 93,
    "start_time": "2022-02-20T12:49:09.501Z"
   },
   {
    "duration": 230,
    "start_time": "2022-02-20T12:49:09.596Z"
   },
   {
    "duration": 258,
    "start_time": "2022-02-20T12:49:09.828Z"
   },
   {
    "duration": 230,
    "start_time": "2022-02-20T12:49:10.088Z"
   },
   {
    "duration": 2,
    "start_time": "2022-02-20T12:49:10.321Z"
   },
   {
    "duration": 31,
    "start_time": "2022-02-20T12:49:10.325Z"
   },
   {
    "duration": 18,
    "start_time": "2022-02-20T12:49:10.357Z"
   },
   {
    "duration": 286,
    "start_time": "2022-02-20T12:49:10.376Z"
   },
   {
    "duration": 284,
    "start_time": "2022-02-20T12:49:10.664Z"
   },
   {
    "duration": 277,
    "start_time": "2022-02-20T12:49:10.950Z"
   },
   {
    "duration": 22,
    "start_time": "2022-02-20T12:49:11.229Z"
   },
   {
    "duration": 7,
    "start_time": "2022-02-20T12:49:11.253Z"
   },
   {
    "duration": 11,
    "start_time": "2022-02-20T12:49:11.262Z"
   },
   {
    "duration": 7,
    "start_time": "2022-02-20T12:49:11.275Z"
   },
   {
    "duration": 134,
    "start_time": "2022-02-20T12:52:31.233Z"
   },
   {
    "duration": 1675,
    "start_time": "2022-02-20T12:53:00.260Z"
   },
   {
    "duration": 882,
    "start_time": "2022-02-20T12:53:10.315Z"
   },
   {
    "duration": 745,
    "start_time": "2022-02-20T12:53:37.371Z"
   },
   {
    "duration": 609,
    "start_time": "2022-02-20T12:54:48.651Z"
   },
   {
    "duration": 632,
    "start_time": "2022-02-20T12:55:52.466Z"
   },
   {
    "duration": 652,
    "start_time": "2022-02-20T12:56:41.611Z"
   },
   {
    "duration": 21,
    "start_time": "2022-02-20T12:56:51.002Z"
   },
   {
    "duration": 1225,
    "start_time": "2022-02-20T12:57:36.257Z"
   },
   {
    "duration": 132,
    "start_time": "2022-02-20T12:57:37.486Z"
   },
   {
    "duration": 95,
    "start_time": "2022-02-20T12:57:37.620Z"
   },
   {
    "duration": 23,
    "start_time": "2022-02-20T12:57:37.716Z"
   },
   {
    "duration": 78,
    "start_time": "2022-02-20T12:57:37.740Z"
   },
   {
    "duration": 12,
    "start_time": "2022-02-20T12:57:37.819Z"
   },
   {
    "duration": 18,
    "start_time": "2022-02-20T12:57:37.833Z"
   },
   {
    "duration": 110,
    "start_time": "2022-02-20T12:57:37.853Z"
   },
   {
    "duration": 49,
    "start_time": "2022-02-20T12:57:37.965Z"
   },
   {
    "duration": 2,
    "start_time": "2022-02-20T12:57:38.016Z"
   },
   {
    "duration": 92,
    "start_time": "2022-02-20T12:57:38.020Z"
   },
   {
    "duration": 83,
    "start_time": "2022-02-20T12:57:38.114Z"
   },
   {
    "duration": 16,
    "start_time": "2022-02-20T12:57:38.199Z"
   },
   {
    "duration": 677,
    "start_time": "2022-02-20T12:57:38.216Z"
   },
   {
    "duration": 22,
    "start_time": "2022-02-20T12:57:38.894Z"
   },
   {
    "duration": 211,
    "start_time": "2022-02-20T12:57:38.918Z"
   },
   {
    "duration": 4,
    "start_time": "2022-02-20T12:57:39.130Z"
   },
   {
    "duration": 22,
    "start_time": "2022-02-20T12:57:39.136Z"
   },
   {
    "duration": 105,
    "start_time": "2022-02-20T12:57:39.159Z"
   },
   {
    "duration": 232,
    "start_time": "2022-02-20T12:57:39.266Z"
   },
   {
    "duration": 307,
    "start_time": "2022-02-20T12:57:39.500Z"
   },
   {
    "duration": 245,
    "start_time": "2022-02-20T12:57:39.809Z"
   },
   {
    "duration": 2,
    "start_time": "2022-02-20T12:57:40.056Z"
   },
   {
    "duration": 21,
    "start_time": "2022-02-20T12:57:40.059Z"
   },
   {
    "duration": 16,
    "start_time": "2022-02-20T12:57:40.082Z"
   },
   {
    "duration": 290,
    "start_time": "2022-02-20T12:57:40.101Z"
   },
   {
    "duration": 292,
    "start_time": "2022-02-20T12:57:40.393Z"
   },
   {
    "duration": 277,
    "start_time": "2022-02-20T12:57:40.687Z"
   },
   {
    "duration": 11,
    "start_time": "2022-02-20T12:57:40.966Z"
   },
   {
    "duration": 6,
    "start_time": "2022-02-20T12:57:40.979Z"
   },
   {
    "duration": 13,
    "start_time": "2022-02-20T12:57:40.986Z"
   },
   {
    "duration": 9,
    "start_time": "2022-02-20T12:57:41.000Z"
   },
   {
    "duration": 751,
    "start_time": "2022-02-20T12:59:24.252Z"
   },
   {
    "duration": 19,
    "start_time": "2022-02-20T12:59:32.146Z"
   },
   {
    "duration": 14,
    "start_time": "2022-02-20T13:00:04.258Z"
   },
   {
    "duration": 11,
    "start_time": "2022-02-20T13:00:11.634Z"
   },
   {
    "duration": 1470,
    "start_time": "2022-02-20T13:00:21.257Z"
   },
   {
    "duration": 133,
    "start_time": "2022-02-20T13:00:22.729Z"
   },
   {
    "duration": 97,
    "start_time": "2022-02-20T13:00:22.864Z"
   },
   {
    "duration": 22,
    "start_time": "2022-02-20T13:00:22.963Z"
   },
   {
    "duration": 59,
    "start_time": "2022-02-20T13:00:22.987Z"
   },
   {
    "duration": 9,
    "start_time": "2022-02-20T13:00:23.047Z"
   },
   {
    "duration": 8,
    "start_time": "2022-02-20T13:00:23.057Z"
   },
   {
    "duration": 112,
    "start_time": "2022-02-20T13:00:23.067Z"
   },
   {
    "duration": 49,
    "start_time": "2022-02-20T13:00:23.181Z"
   },
   {
    "duration": 3,
    "start_time": "2022-02-20T13:00:23.231Z"
   },
   {
    "duration": 80,
    "start_time": "2022-02-20T13:00:23.235Z"
   },
   {
    "duration": 106,
    "start_time": "2022-02-20T13:00:23.317Z"
   },
   {
    "duration": 32,
    "start_time": "2022-02-20T13:00:23.425Z"
   },
   {
    "duration": 733,
    "start_time": "2022-02-20T13:00:23.460Z"
   },
   {
    "duration": 15,
    "start_time": "2022-02-20T13:00:24.195Z"
   },
   {
    "duration": 1262,
    "start_time": "2022-02-20T13:00:24.212Z"
   },
   {
    "duration": -129,
    "start_time": "2022-02-20T13:00:25.606Z"
   },
   {
    "duration": -135,
    "start_time": "2022-02-20T13:00:25.613Z"
   },
   {
    "duration": -140,
    "start_time": "2022-02-20T13:00:25.620Z"
   },
   {
    "duration": -147,
    "start_time": "2022-02-20T13:00:25.628Z"
   },
   {
    "duration": -154,
    "start_time": "2022-02-20T13:00:25.636Z"
   },
   {
    "duration": -158,
    "start_time": "2022-02-20T13:00:25.641Z"
   },
   {
    "duration": -161,
    "start_time": "2022-02-20T13:00:25.646Z"
   },
   {
    "duration": -165,
    "start_time": "2022-02-20T13:00:25.651Z"
   },
   {
    "duration": -170,
    "start_time": "2022-02-20T13:00:25.657Z"
   },
   {
    "duration": -175,
    "start_time": "2022-02-20T13:00:25.663Z"
   },
   {
    "duration": -178,
    "start_time": "2022-02-20T13:00:25.668Z"
   },
   {
    "duration": -192,
    "start_time": "2022-02-20T13:00:25.683Z"
   },
   {
    "duration": -196,
    "start_time": "2022-02-20T13:00:25.688Z"
   },
   {
    "duration": -201,
    "start_time": "2022-02-20T13:00:25.694Z"
   },
   {
    "duration": -205,
    "start_time": "2022-02-20T13:00:25.700Z"
   },
   {
    "duration": -217,
    "start_time": "2022-02-20T13:00:25.713Z"
   },
   {
    "duration": 19,
    "start_time": "2022-02-20T13:01:30.337Z"
   },
   {
    "duration": 4,
    "start_time": "2022-02-20T13:01:48.953Z"
   },
   {
    "duration": 329,
    "start_time": "2022-02-20T13:01:58.160Z"
   },
   {
    "duration": 110,
    "start_time": "2022-02-20T13:02:33.401Z"
   },
   {
    "duration": 376,
    "start_time": "2022-02-20T13:02:37.168Z"
   },
   {
    "duration": 322,
    "start_time": "2022-02-20T13:02:51.880Z"
   },
   {
    "duration": 331,
    "start_time": "2022-02-20T13:03:00.656Z"
   },
   {
    "duration": 1268,
    "start_time": "2022-02-20T13:06:43.350Z"
   },
   {
    "duration": 135,
    "start_time": "2022-02-20T13:06:44.620Z"
   },
   {
    "duration": 101,
    "start_time": "2022-02-20T13:06:44.758Z"
   },
   {
    "duration": 24,
    "start_time": "2022-02-20T13:06:44.860Z"
   },
   {
    "duration": 48,
    "start_time": "2022-02-20T13:06:44.886Z"
   },
   {
    "duration": 10,
    "start_time": "2022-02-20T13:06:44.936Z"
   },
   {
    "duration": 9,
    "start_time": "2022-02-20T13:06:44.948Z"
   },
   {
    "duration": 112,
    "start_time": "2022-02-20T13:06:44.959Z"
   },
   {
    "duration": 49,
    "start_time": "2022-02-20T13:06:45.072Z"
   },
   {
    "duration": 7,
    "start_time": "2022-02-20T13:06:45.123Z"
   },
   {
    "duration": 85,
    "start_time": "2022-02-20T13:06:45.132Z"
   },
   {
    "duration": 95,
    "start_time": "2022-02-20T13:06:45.219Z"
   },
   {
    "duration": 18,
    "start_time": "2022-02-20T13:06:45.316Z"
   },
   {
    "duration": 665,
    "start_time": "2022-02-20T13:06:45.335Z"
   },
   {
    "duration": 17,
    "start_time": "2022-02-20T13:06:46.002Z"
   },
   {
    "duration": 4663,
    "start_time": "2022-02-20T13:06:46.020Z"
   },
   {
    "duration": -129,
    "start_time": "2022-02-20T13:06:50.814Z"
   },
   {
    "duration": -133,
    "start_time": "2022-02-20T13:06:50.819Z"
   },
   {
    "duration": -136,
    "start_time": "2022-02-20T13:06:50.823Z"
   },
   {
    "duration": -140,
    "start_time": "2022-02-20T13:06:50.828Z"
   },
   {
    "duration": -143,
    "start_time": "2022-02-20T13:06:50.832Z"
   },
   {
    "duration": -147,
    "start_time": "2022-02-20T13:06:50.837Z"
   },
   {
    "duration": -149,
    "start_time": "2022-02-20T13:06:50.841Z"
   },
   {
    "duration": -153,
    "start_time": "2022-02-20T13:06:50.846Z"
   },
   {
    "duration": -156,
    "start_time": "2022-02-20T13:06:50.850Z"
   },
   {
    "duration": -160,
    "start_time": "2022-02-20T13:06:50.855Z"
   },
   {
    "duration": -161,
    "start_time": "2022-02-20T13:06:50.858Z"
   },
   {
    "duration": -165,
    "start_time": "2022-02-20T13:06:50.863Z"
   },
   {
    "duration": -168,
    "start_time": "2022-02-20T13:06:50.867Z"
   },
   {
    "duration": -171,
    "start_time": "2022-02-20T13:06:50.871Z"
   },
   {
    "duration": -173,
    "start_time": "2022-02-20T13:06:50.875Z"
   },
   {
    "duration": -176,
    "start_time": "2022-02-20T13:06:50.879Z"
   },
   {
    "duration": 1182,
    "start_time": "2022-02-20T13:15:22.498Z"
   },
   {
    "duration": 138,
    "start_time": "2022-02-20T13:15:23.682Z"
   },
   {
    "duration": 102,
    "start_time": "2022-02-20T13:15:23.822Z"
   },
   {
    "duration": 25,
    "start_time": "2022-02-20T13:15:23.925Z"
   },
   {
    "duration": 82,
    "start_time": "2022-02-20T13:15:23.951Z"
   },
   {
    "duration": 11,
    "start_time": "2022-02-20T13:15:24.034Z"
   },
   {
    "duration": 14,
    "start_time": "2022-02-20T13:15:24.047Z"
   },
   {
    "duration": 111,
    "start_time": "2022-02-20T13:15:24.064Z"
   },
   {
    "duration": 43,
    "start_time": "2022-02-20T13:15:24.177Z"
   },
   {
    "duration": 3,
    "start_time": "2022-02-20T13:15:24.222Z"
   },
   {
    "duration": 87,
    "start_time": "2022-02-20T13:15:24.227Z"
   },
   {
    "duration": 92,
    "start_time": "2022-02-20T13:15:24.316Z"
   },
   {
    "duration": 17,
    "start_time": "2022-02-20T13:15:24.410Z"
   },
   {
    "duration": 671,
    "start_time": "2022-02-20T13:15:24.447Z"
   },
   {
    "duration": 27,
    "start_time": "2022-02-20T13:15:25.119Z"
   },
   {
    "duration": 1220,
    "start_time": "2022-02-20T13:15:25.148Z"
   },
   {
    "duration": -99,
    "start_time": "2022-02-20T13:15:26.469Z"
   },
   {
    "duration": -103,
    "start_time": "2022-02-20T13:15:26.474Z"
   },
   {
    "duration": -106,
    "start_time": "2022-02-20T13:15:26.478Z"
   },
   {
    "duration": -111,
    "start_time": "2022-02-20T13:15:26.483Z"
   },
   {
    "duration": -113,
    "start_time": "2022-02-20T13:15:26.486Z"
   },
   {
    "duration": -117,
    "start_time": "2022-02-20T13:15:26.491Z"
   },
   {
    "duration": -120,
    "start_time": "2022-02-20T13:15:26.495Z"
   },
   {
    "duration": -124,
    "start_time": "2022-02-20T13:15:26.499Z"
   },
   {
    "duration": -128,
    "start_time": "2022-02-20T13:15:26.504Z"
   },
   {
    "duration": -132,
    "start_time": "2022-02-20T13:15:26.509Z"
   },
   {
    "duration": -134,
    "start_time": "2022-02-20T13:15:26.512Z"
   },
   {
    "duration": -145,
    "start_time": "2022-02-20T13:15:26.524Z"
   },
   {
    "duration": -148,
    "start_time": "2022-02-20T13:15:26.528Z"
   },
   {
    "duration": -152,
    "start_time": "2022-02-20T13:15:26.532Z"
   },
   {
    "duration": -155,
    "start_time": "2022-02-20T13:15:26.536Z"
   },
   {
    "duration": -159,
    "start_time": "2022-02-20T13:15:26.541Z"
   },
   {
    "duration": 813,
    "start_time": "2022-02-20T13:15:58.574Z"
   },
   {
    "duration": 25,
    "start_time": "2022-02-20T13:18:41.853Z"
   },
   {
    "duration": 620,
    "start_time": "2022-02-20T13:19:50.038Z"
   },
   {
    "duration": 632,
    "start_time": "2022-02-20T13:20:13.078Z"
   },
   {
    "duration": 24,
    "start_time": "2022-02-20T13:20:18.557Z"
   },
   {
    "duration": 170,
    "start_time": "2022-02-20T13:20:38.077Z"
   },
   {
    "duration": 1803,
    "start_time": "2022-02-20T13:20:59.469Z"
   },
   {
    "duration": 120,
    "start_time": "2022-02-20T13:21:29.526Z"
   },
   {
    "duration": 835,
    "start_time": "2022-02-20T13:21:42.332Z"
   },
   {
    "duration": 774,
    "start_time": "2022-02-20T13:23:41.933Z"
   },
   {
    "duration": 763,
    "start_time": "2022-02-20T13:24:01.388Z"
   },
   {
    "duration": 11,
    "start_time": "2022-02-20T13:25:07.396Z"
   },
   {
    "duration": 12,
    "start_time": "2022-02-20T13:25:11.636Z"
   },
   {
    "duration": 355,
    "start_time": "2022-02-20T13:25:18.378Z"
   },
   {
    "duration": 197,
    "start_time": "2022-02-20T13:25:50.772Z"
   },
   {
    "duration": 26,
    "start_time": "2022-02-20T13:26:01.339Z"
   },
   {
    "duration": 177,
    "start_time": "2022-02-20T13:26:15.484Z"
   },
   {
    "duration": 430,
    "start_time": "2022-02-20T13:26:58.669Z"
   },
   {
    "duration": 90,
    "start_time": "2022-02-20T13:27:03.412Z"
   },
   {
    "duration": 1157,
    "start_time": "2022-02-20T13:27:36.343Z"
   },
   {
    "duration": 132,
    "start_time": "2022-02-20T13:27:37.501Z"
   },
   {
    "duration": 94,
    "start_time": "2022-02-20T13:27:37.645Z"
   },
   {
    "duration": 23,
    "start_time": "2022-02-20T13:27:37.740Z"
   },
   {
    "duration": 66,
    "start_time": "2022-02-20T13:27:37.764Z"
   },
   {
    "duration": 9,
    "start_time": "2022-02-20T13:27:37.831Z"
   },
   {
    "duration": 17,
    "start_time": "2022-02-20T13:27:37.843Z"
   },
   {
    "duration": 97,
    "start_time": "2022-02-20T13:27:37.862Z"
   },
   {
    "duration": 42,
    "start_time": "2022-02-20T13:27:37.960Z"
   },
   {
    "duration": 79,
    "start_time": "2022-02-20T13:27:38.003Z"
   },
   {
    "duration": 76,
    "start_time": "2022-02-20T13:27:38.083Z"
   },
   {
    "duration": 18,
    "start_time": "2022-02-20T13:27:38.161Z"
   },
   {
    "duration": 643,
    "start_time": "2022-02-20T13:27:38.180Z"
   },
   {
    "duration": 31,
    "start_time": "2022-02-20T13:27:38.825Z"
   },
   {
    "duration": 177,
    "start_time": "2022-02-20T13:27:38.858Z"
   },
   {
    "duration": 11,
    "start_time": "2022-02-20T13:27:39.036Z"
   },
   {
    "duration": 19,
    "start_time": "2022-02-20T13:27:39.049Z"
   },
   {
    "duration": 107,
    "start_time": "2022-02-20T13:27:39.070Z"
   },
   {
    "duration": 230,
    "start_time": "2022-02-20T13:27:39.179Z"
   },
   {
    "duration": 257,
    "start_time": "2022-02-20T13:27:39.411Z"
   },
   {
    "duration": 239,
    "start_time": "2022-02-20T13:27:39.670Z"
   },
   {
    "duration": 2,
    "start_time": "2022-02-20T13:27:39.911Z"
   },
   {
    "duration": 33,
    "start_time": "2022-02-20T13:27:39.915Z"
   },
   {
    "duration": 16,
    "start_time": "2022-02-20T13:27:39.949Z"
   },
   {
    "duration": 292,
    "start_time": "2022-02-20T13:27:39.967Z"
   },
   {
    "duration": 305,
    "start_time": "2022-02-20T13:27:40.261Z"
   },
   {
    "duration": 275,
    "start_time": "2022-02-20T13:27:40.567Z"
   },
   {
    "duration": 9,
    "start_time": "2022-02-20T13:27:40.846Z"
   },
   {
    "duration": 6,
    "start_time": "2022-02-20T13:27:40.857Z"
   },
   {
    "duration": 13,
    "start_time": "2022-02-20T13:27:40.864Z"
   },
   {
    "duration": 5,
    "start_time": "2022-02-20T13:27:40.878Z"
   },
   {
    "duration": 6,
    "start_time": "2022-02-20T13:30:59.424Z"
   },
   {
    "duration": 6,
    "start_time": "2022-02-20T13:31:18.783Z"
   },
   {
    "duration": 7,
    "start_time": "2022-02-20T13:31:23.271Z"
   },
   {
    "duration": 16,
    "start_time": "2022-02-20T13:31:48.457Z"
   },
   {
    "duration": 15,
    "start_time": "2022-02-20T13:32:02.642Z"
   },
   {
    "duration": 15,
    "start_time": "2022-02-20T13:32:12.455Z"
   },
   {
    "duration": 15,
    "start_time": "2022-02-20T13:32:18.797Z"
   },
   {
    "duration": 86,
    "start_time": "2022-02-20T13:53:19.092Z"
   },
   {
    "duration": 13,
    "start_time": "2022-02-20T14:03:50.595Z"
   },
   {
    "duration": 76,
    "start_time": "2022-02-20T14:10:10.937Z"
   },
   {
    "duration": 223,
    "start_time": "2022-02-20T14:11:05.479Z"
   },
   {
    "duration": 293,
    "start_time": "2022-02-20T14:11:11.408Z"
   },
   {
    "duration": 304,
    "start_time": "2022-02-20T14:18:55.622Z"
   },
   {
    "duration": 337,
    "start_time": "2022-02-20T14:19:03.359Z"
   },
   {
    "duration": 219,
    "start_time": "2022-02-20T14:19:09.135Z"
   },
   {
    "duration": 251,
    "start_time": "2022-02-20T14:19:47.919Z"
   },
   {
    "duration": 230,
    "start_time": "2022-02-20T14:20:27.319Z"
   },
   {
    "duration": 246,
    "start_time": "2022-02-20T14:21:06.730Z"
   },
   {
    "duration": 217,
    "start_time": "2022-02-20T14:22:10.367Z"
   },
   {
    "duration": 230,
    "start_time": "2022-02-20T14:22:23.806Z"
   },
   {
    "duration": 218,
    "start_time": "2022-02-20T14:22:29.398Z"
   },
   {
    "duration": 4,
    "start_time": "2022-02-20T14:26:00.454Z"
   },
   {
    "duration": 4,
    "start_time": "2022-02-20T14:26:05.933Z"
   },
   {
    "duration": -88,
    "start_time": "2022-02-20T14:26:25.374Z"
   },
   {
    "duration": 5,
    "start_time": "2022-02-20T14:26:27.789Z"
   },
   {
    "duration": 4,
    "start_time": "2022-02-20T14:27:00.630Z"
   },
   {
    "duration": 4,
    "start_time": "2022-02-20T14:27:08.845Z"
   },
   {
    "duration": 5,
    "start_time": "2022-02-20T14:27:21.499Z"
   },
   {
    "duration": 571,
    "start_time": "2022-02-20T14:31:27.030Z"
   },
   {
    "duration": 589,
    "start_time": "2022-02-20T14:31:42.558Z"
   },
   {
    "duration": 215,
    "start_time": "2022-02-20T14:31:52.677Z"
   },
   {
    "duration": 512,
    "start_time": "2022-02-20T14:32:15.301Z"
   },
   {
    "duration": 510,
    "start_time": "2022-02-20T14:32:21.445Z"
   },
   {
    "duration": 522,
    "start_time": "2022-02-20T14:32:39.085Z"
   },
   {
    "duration": 252,
    "start_time": "2022-02-20T14:32:48.733Z"
   },
   {
    "duration": 218,
    "start_time": "2022-02-20T14:34:15.684Z"
   },
   {
    "duration": 231,
    "start_time": "2022-02-20T15:03:26.951Z"
   },
   {
    "duration": 229,
    "start_time": "2022-02-20T15:03:41.568Z"
   },
   {
    "duration": 216,
    "start_time": "2022-02-20T15:08:23.198Z"
   },
   {
    "duration": 225,
    "start_time": "2022-02-20T15:10:29.486Z"
   },
   {
    "duration": 287,
    "start_time": "2022-02-20T15:10:50.765Z"
   },
   {
    "duration": 270,
    "start_time": "2022-02-20T15:10:59.991Z"
   },
   {
    "duration": 7,
    "start_time": "2022-02-20T15:18:11.726Z"
   },
   {
    "duration": 13,
    "start_time": "2022-02-20T17:25:06.504Z"
   },
   {
    "duration": 11,
    "start_time": "2022-02-20T17:27:07.351Z"
   },
   {
    "duration": 258,
    "start_time": "2022-02-20T17:28:13.014Z"
   },
   {
    "duration": 278,
    "start_time": "2022-02-20T17:29:10.206Z"
   },
   {
    "duration": 266,
    "start_time": "2022-02-20T17:29:39.773Z"
   },
   {
    "duration": 352,
    "start_time": "2022-02-20T17:36:39.996Z"
   },
   {
    "duration": 7,
    "start_time": "2022-02-20T17:37:19.132Z"
   },
   {
    "duration": 6,
    "start_time": "2022-02-20T17:37:25.805Z"
   },
   {
    "duration": 8209,
    "start_time": "2022-02-20T17:37:56.236Z"
   },
   {
    "duration": 1217,
    "start_time": "2022-02-20T17:38:24.957Z"
   },
   {
    "duration": 133,
    "start_time": "2022-02-20T17:38:26.176Z"
   },
   {
    "duration": 94,
    "start_time": "2022-02-20T17:38:26.311Z"
   },
   {
    "duration": 23,
    "start_time": "2022-02-20T17:38:26.406Z"
   },
   {
    "duration": 50,
    "start_time": "2022-02-20T17:38:26.431Z"
   },
   {
    "duration": 9,
    "start_time": "2022-02-20T17:38:26.482Z"
   },
   {
    "duration": 10,
    "start_time": "2022-02-20T17:38:26.492Z"
   },
   {
    "duration": 98,
    "start_time": "2022-02-20T17:38:26.504Z"
   },
   {
    "duration": 52,
    "start_time": "2022-02-20T17:38:26.604Z"
   },
   {
    "duration": 68,
    "start_time": "2022-02-20T17:38:26.657Z"
   },
   {
    "duration": 84,
    "start_time": "2022-02-20T17:38:26.727Z"
   },
   {
    "duration": 18,
    "start_time": "2022-02-20T17:38:26.812Z"
   },
   {
    "duration": 639,
    "start_time": "2022-02-20T17:38:26.846Z"
   },
   {
    "duration": 24,
    "start_time": "2022-02-20T17:38:27.487Z"
   },
   {
    "duration": 189,
    "start_time": "2022-02-20T17:38:27.513Z"
   },
   {
    "duration": 4,
    "start_time": "2022-02-20T17:38:27.703Z"
   },
   {
    "duration": 39,
    "start_time": "2022-02-20T17:38:27.709Z"
   },
   {
    "duration": 76,
    "start_time": "2022-02-20T17:38:27.750Z"
   },
   {
    "duration": 19,
    "start_time": "2022-02-20T17:38:27.828Z"
   },
   {
    "duration": 249,
    "start_time": "2022-02-20T17:38:27.848Z"
   },
   {
    "duration": 274,
    "start_time": "2022-02-20T17:38:28.099Z"
   },
   {
    "duration": 241,
    "start_time": "2022-02-20T17:38:28.374Z"
   },
   {
    "duration": 7,
    "start_time": "2022-02-20T17:38:28.618Z"
   },
   {
    "duration": 28,
    "start_time": "2022-02-20T17:38:28.627Z"
   },
   {
    "duration": 12,
    "start_time": "2022-02-20T17:38:28.657Z"
   },
   {
    "duration": 328,
    "start_time": "2022-02-20T17:38:28.671Z"
   },
   {
    "duration": 306,
    "start_time": "2022-02-20T17:38:29.001Z"
   },
   {
    "duration": 283,
    "start_time": "2022-02-20T17:38:29.309Z"
   },
   {
    "duration": 8,
    "start_time": "2022-02-20T17:38:29.594Z"
   },
   {
    "duration": 7,
    "start_time": "2022-02-20T17:38:29.604Z"
   },
   {
    "duration": 38,
    "start_time": "2022-02-20T17:38:29.613Z"
   },
   {
    "duration": 5,
    "start_time": "2022-02-20T17:38:29.653Z"
   },
   {
    "duration": 4,
    "start_time": "2022-02-20T17:39:03.919Z"
   },
   {
    "duration": 103,
    "start_time": "2022-02-21T04:34:05.978Z"
   },
   {
    "duration": 6,
    "start_time": "2022-02-21T05:12:49.044Z"
   },
   {
    "duration": 6,
    "start_time": "2022-02-21T05:13:52.016Z"
   },
   {
    "duration": 8660,
    "start_time": "2022-02-21T05:16:43.285Z"
   },
   {
    "duration": 1246,
    "start_time": "2022-02-21T05:17:10.550Z"
   },
   {
    "duration": 138,
    "start_time": "2022-02-21T05:17:11.798Z"
   },
   {
    "duration": 99,
    "start_time": "2022-02-21T05:17:11.938Z"
   },
   {
    "duration": 22,
    "start_time": "2022-02-21T05:17:12.039Z"
   },
   {
    "duration": 35,
    "start_time": "2022-02-21T05:17:12.063Z"
   },
   {
    "duration": 9,
    "start_time": "2022-02-21T05:17:12.100Z"
   },
   {
    "duration": 9,
    "start_time": "2022-02-21T05:17:12.110Z"
   },
   {
    "duration": 102,
    "start_time": "2022-02-21T05:17:12.121Z"
   },
   {
    "duration": 50,
    "start_time": "2022-02-21T05:17:12.225Z"
   },
   {
    "duration": 73,
    "start_time": "2022-02-21T05:17:12.276Z"
   },
   {
    "duration": 73,
    "start_time": "2022-02-21T05:17:12.351Z"
   },
   {
    "duration": 29,
    "start_time": "2022-02-21T05:17:12.426Z"
   },
   {
    "duration": 732,
    "start_time": "2022-02-21T05:17:12.457Z"
   },
   {
    "duration": 23,
    "start_time": "2022-02-21T05:17:13.191Z"
   },
   {
    "duration": 182,
    "start_time": "2022-02-21T05:17:13.215Z"
   },
   {
    "duration": 4,
    "start_time": "2022-02-21T05:17:13.399Z"
   },
   {
    "duration": 17,
    "start_time": "2022-02-21T05:17:13.404Z"
   },
   {
    "duration": 95,
    "start_time": "2022-02-21T05:17:13.423Z"
   },
   {
    "duration": 5,
    "start_time": "2022-02-21T05:17:13.520Z"
   },
   {
    "duration": 225,
    "start_time": "2022-02-21T05:17:13.546Z"
   },
   {
    "duration": 266,
    "start_time": "2022-02-21T05:17:13.773Z"
   },
   {
    "duration": 332,
    "start_time": "2022-02-21T05:17:14.041Z"
   },
   {
    "duration": 7,
    "start_time": "2022-02-21T05:17:14.376Z"
   },
   {
    "duration": 10,
    "start_time": "2022-02-21T05:17:14.385Z"
   },
   {
    "duration": 10,
    "start_time": "2022-02-21T05:17:14.397Z"
   },
   {
    "duration": 286,
    "start_time": "2022-02-21T05:17:14.408Z"
   },
   {
    "duration": 282,
    "start_time": "2022-02-21T05:17:14.696Z"
   },
   {
    "duration": 279,
    "start_time": "2022-02-21T05:17:14.979Z"
   },
   {
    "duration": 9,
    "start_time": "2022-02-21T05:17:15.260Z"
   },
   {
    "duration": 9,
    "start_time": "2022-02-21T05:17:15.270Z"
   },
   {
    "duration": 11,
    "start_time": "2022-02-21T05:17:15.280Z"
   },
   {
    "duration": 5,
    "start_time": "2022-02-21T05:17:15.292Z"
   },
   {
    "duration": 13,
    "start_time": "2022-02-21T06:06:30.604Z"
   },
   {
    "duration": 173,
    "start_time": "2022-02-21T06:16:25.497Z"
   },
   {
    "duration": 173,
    "start_time": "2022-02-21T06:17:12.088Z"
   },
   {
    "duration": 185,
    "start_time": "2022-02-21T06:17:17.334Z"
   },
   {
    "duration": 180,
    "start_time": "2022-02-21T06:17:24.694Z"
   },
   {
    "duration": 162,
    "start_time": "2022-02-21T06:18:17.814Z"
   },
   {
    "duration": 160,
    "start_time": "2022-02-21T06:18:24.908Z"
   },
   {
    "duration": 166,
    "start_time": "2022-02-21T06:18:29.660Z"
   },
   {
    "duration": 159,
    "start_time": "2022-02-21T06:19:05.469Z"
   },
   {
    "duration": 163,
    "start_time": "2022-02-21T06:19:21.050Z"
   },
   {
    "duration": 159,
    "start_time": "2022-02-21T06:19:40.954Z"
   },
   {
    "duration": 160,
    "start_time": "2022-02-21T06:22:42.697Z"
   },
   {
    "duration": 113,
    "start_time": "2022-02-21T06:25:39.744Z"
   },
   {
    "duration": 224,
    "start_time": "2022-02-21T06:27:25.740Z"
   },
   {
    "duration": 212,
    "start_time": "2022-02-21T06:27:48.667Z"
   },
   {
    "duration": 233,
    "start_time": "2022-02-21T06:28:00.649Z"
   },
   {
    "duration": 237,
    "start_time": "2022-02-21T06:28:17.002Z"
   },
   {
    "duration": 229,
    "start_time": "2022-02-21T06:28:21.281Z"
   },
   {
    "duration": 6,
    "start_time": "2022-02-21T06:30:33.214Z"
   },
   {
    "duration": 5,
    "start_time": "2022-02-21T06:30:42.220Z"
   },
   {
    "duration": 5,
    "start_time": "2022-02-21T06:32:50.634Z"
   },
   {
    "duration": 4,
    "start_time": "2022-02-21T06:33:37.079Z"
   },
   {
    "duration": 4,
    "start_time": "2022-02-21T06:34:22.692Z"
   },
   {
    "duration": 4,
    "start_time": "2022-02-21T06:35:16.684Z"
   },
   {
    "duration": 5,
    "start_time": "2022-02-21T07:05:00.902Z"
   },
   {
    "duration": 113,
    "start_time": "2022-02-21T07:05:10.576Z"
   },
   {
    "duration": 125,
    "start_time": "2022-02-21T07:05:24.510Z"
   },
   {
    "duration": 4,
    "start_time": "2022-02-21T07:05:38.325Z"
   },
   {
    "duration": 6,
    "start_time": "2022-02-21T07:59:58.701Z"
   },
   {
    "duration": 4,
    "start_time": "2022-02-21T08:05:34.623Z"
   },
   {
    "duration": 4,
    "start_time": "2022-02-21T08:08:05.803Z"
   },
   {
    "duration": 6,
    "start_time": "2022-02-21T08:08:16.890Z"
   },
   {
    "duration": 149,
    "start_time": "2022-02-21T08:12:58.945Z"
   },
   {
    "duration": 1186,
    "start_time": "2022-02-21T09:03:25.684Z"
   },
   {
    "duration": 136,
    "start_time": "2022-02-21T09:03:26.872Z"
   },
   {
    "duration": 97,
    "start_time": "2022-02-21T09:03:27.010Z"
   },
   {
    "duration": 23,
    "start_time": "2022-02-21T09:03:27.109Z"
   },
   {
    "duration": 41,
    "start_time": "2022-02-21T09:03:27.133Z"
   },
   {
    "duration": 9,
    "start_time": "2022-02-21T09:03:27.176Z"
   },
   {
    "duration": 9,
    "start_time": "2022-02-21T09:03:27.186Z"
   },
   {
    "duration": 101,
    "start_time": "2022-02-21T09:03:27.198Z"
   },
   {
    "duration": 49,
    "start_time": "2022-02-21T09:03:27.301Z"
   },
   {
    "duration": 68,
    "start_time": "2022-02-21T09:03:27.352Z"
   },
   {
    "duration": 91,
    "start_time": "2022-02-21T09:03:27.422Z"
   },
   {
    "duration": 17,
    "start_time": "2022-02-21T09:03:27.514Z"
   },
   {
    "duration": 720,
    "start_time": "2022-02-21T09:03:27.532Z"
   },
   {
    "duration": 22,
    "start_time": "2022-02-21T09:03:28.254Z"
   },
   {
    "duration": 222,
    "start_time": "2022-02-21T09:03:28.277Z"
   },
   {
    "duration": 5,
    "start_time": "2022-02-21T09:03:28.501Z"
   },
   {
    "duration": 25,
    "start_time": "2022-02-21T09:03:28.507Z"
   },
   {
    "duration": 87,
    "start_time": "2022-02-21T09:03:28.533Z"
   },
   {
    "duration": 5,
    "start_time": "2022-02-21T09:03:28.621Z"
   },
   {
    "duration": 248,
    "start_time": "2022-02-21T09:03:28.627Z"
   },
   {
    "duration": 260,
    "start_time": "2022-02-21T09:03:28.877Z"
   },
   {
    "duration": 226,
    "start_time": "2022-02-21T09:03:29.138Z"
   },
   {
    "duration": 7,
    "start_time": "2022-02-21T09:03:29.366Z"
   },
   {
    "duration": 10,
    "start_time": "2022-02-21T09:03:29.375Z"
   },
   {
    "duration": 10,
    "start_time": "2022-02-21T09:03:29.387Z"
   },
   {
    "duration": 288,
    "start_time": "2022-02-21T09:03:29.398Z"
   },
   {
    "duration": 291,
    "start_time": "2022-02-21T09:03:29.688Z"
   },
   {
    "duration": 275,
    "start_time": "2022-02-21T09:03:29.981Z"
   },
   {
    "duration": 7,
    "start_time": "2022-02-21T09:03:30.258Z"
   },
   {
    "duration": 13,
    "start_time": "2022-02-21T09:03:30.267Z"
   },
   {
    "duration": 15,
    "start_time": "2022-02-21T09:03:30.281Z"
   },
   {
    "duration": 28,
    "start_time": "2022-02-21T09:03:30.297Z"
   },
   {
    "duration": 15,
    "start_time": "2022-02-21T09:03:30.326Z"
   },
   {
    "duration": 12,
    "start_time": "2022-02-21T09:03:30.343Z"
   },
   {
    "duration": 6,
    "start_time": "2022-02-21T09:49:12.646Z"
   },
   {
    "duration": 5,
    "start_time": "2022-02-21T09:49:24.249Z"
   },
   {
    "duration": 12,
    "start_time": "2022-02-21T10:04:18.736Z"
   },
   {
    "duration": 7,
    "start_time": "2022-02-21T10:05:18.711Z"
   },
   {
    "duration": 7,
    "start_time": "2022-02-21T10:06:33.524Z"
   },
   {
    "duration": 7,
    "start_time": "2022-02-21T10:07:52.370Z"
   },
   {
    "duration": 11,
    "start_time": "2022-02-21T10:23:32.919Z"
   },
   {
    "duration": 586,
    "start_time": "2022-02-21T10:23:46.562Z"
   },
   {
    "duration": 398,
    "start_time": "2022-02-21T10:23:58.762Z"
   },
   {
    "duration": 1207,
    "start_time": "2022-02-21T10:24:43.981Z"
   },
   {
    "duration": 134,
    "start_time": "2022-02-21T10:24:45.189Z"
   },
   {
    "duration": 96,
    "start_time": "2022-02-21T10:24:45.324Z"
   },
   {
    "duration": 22,
    "start_time": "2022-02-21T10:24:45.422Z"
   },
   {
    "duration": 44,
    "start_time": "2022-02-21T10:24:45.446Z"
   },
   {
    "duration": 9,
    "start_time": "2022-02-21T10:24:45.492Z"
   },
   {
    "duration": 11,
    "start_time": "2022-02-21T10:24:45.502Z"
   },
   {
    "duration": 99,
    "start_time": "2022-02-21T10:24:45.515Z"
   },
   {
    "duration": 6,
    "start_time": "2022-02-21T10:24:45.616Z"
   },
   {
    "duration": 7,
    "start_time": "2022-02-21T10:24:45.624Z"
   },
   {
    "duration": 55,
    "start_time": "2022-02-21T10:24:45.632Z"
   },
   {
    "duration": 82,
    "start_time": "2022-02-21T10:24:45.689Z"
   },
   {
    "duration": 80,
    "start_time": "2022-02-21T10:24:45.773Z"
   },
   {
    "duration": 17,
    "start_time": "2022-02-21T10:24:45.854Z"
   },
   {
    "duration": 632,
    "start_time": "2022-02-21T10:24:45.873Z"
   },
   {
    "duration": 23,
    "start_time": "2022-02-21T10:24:46.506Z"
   },
   {
    "duration": 186,
    "start_time": "2022-02-21T10:24:46.531Z"
   },
   {
    "duration": 3,
    "start_time": "2022-02-21T10:24:46.719Z"
   },
   {
    "duration": 27,
    "start_time": "2022-02-21T10:24:46.723Z"
   },
   {
    "duration": 7,
    "start_time": "2022-02-21T10:24:46.752Z"
   },
   {
    "duration": 87,
    "start_time": "2022-02-21T10:24:46.760Z"
   },
   {
    "duration": 5,
    "start_time": "2022-02-21T10:24:46.849Z"
   },
   {
    "duration": 237,
    "start_time": "2022-02-21T10:24:46.857Z"
   },
   {
    "duration": 252,
    "start_time": "2022-02-21T10:24:47.096Z"
   },
   {
    "duration": 229,
    "start_time": "2022-02-21T10:24:47.349Z"
   },
   {
    "duration": 6,
    "start_time": "2022-02-21T10:24:47.580Z"
   },
   {
    "duration": 12,
    "start_time": "2022-02-21T10:24:47.588Z"
   },
   {
    "duration": 9,
    "start_time": "2022-02-21T10:24:47.602Z"
   },
   {
    "duration": 282,
    "start_time": "2022-02-21T10:24:47.613Z"
   },
   {
    "duration": 286,
    "start_time": "2022-02-21T10:24:47.897Z"
   },
   {
    "duration": 321,
    "start_time": "2022-02-21T10:24:48.185Z"
   },
   {
    "duration": 9,
    "start_time": "2022-02-21T10:24:48.508Z"
   },
   {
    "duration": 6,
    "start_time": "2022-02-21T10:24:48.519Z"
   },
   {
    "duration": 21,
    "start_time": "2022-02-21T10:24:48.527Z"
   },
   {
    "duration": 12,
    "start_time": "2022-02-21T10:24:48.549Z"
   },
   {
    "duration": 6,
    "start_time": "2022-02-21T10:24:48.562Z"
   },
   {
    "duration": 8,
    "start_time": "2022-02-21T10:24:48.570Z"
   },
   {
    "duration": 3234,
    "start_time": "2022-02-21T10:51:49.867Z"
   },
   {
    "duration": 150,
    "start_time": "2022-02-21T10:51:53.103Z"
   },
   {
    "duration": 106,
    "start_time": "2022-02-21T10:51:53.255Z"
   },
   {
    "duration": 27,
    "start_time": "2022-02-21T10:51:53.363Z"
   },
   {
    "duration": 49,
    "start_time": "2022-02-21T10:51:53.392Z"
   },
   {
    "duration": 10,
    "start_time": "2022-02-21T10:51:53.443Z"
   },
   {
    "duration": 18,
    "start_time": "2022-02-21T10:51:53.454Z"
   },
   {
    "duration": 128,
    "start_time": "2022-02-21T10:51:53.475Z"
   },
   {
    "duration": 8,
    "start_time": "2022-02-21T10:51:53.606Z"
   },
   {
    "duration": 25,
    "start_time": "2022-02-21T10:51:53.616Z"
   },
   {
    "duration": 60,
    "start_time": "2022-02-21T10:51:53.642Z"
   },
   {
    "duration": 75,
    "start_time": "2022-02-21T10:51:53.703Z"
   },
   {
    "duration": 80,
    "start_time": "2022-02-21T10:51:53.780Z"
   },
   {
    "duration": 17,
    "start_time": "2022-02-21T10:51:53.862Z"
   },
   {
    "duration": 738,
    "start_time": "2022-02-21T10:51:53.881Z"
   },
   {
    "duration": 33,
    "start_time": "2022-02-21T10:51:54.621Z"
   },
   {
    "duration": 195,
    "start_time": "2022-02-21T10:51:54.655Z"
   },
   {
    "duration": 4,
    "start_time": "2022-02-21T10:51:54.852Z"
   },
   {
    "duration": 21,
    "start_time": "2022-02-21T10:51:54.858Z"
   },
   {
    "duration": 7,
    "start_time": "2022-02-21T10:51:54.881Z"
   },
   {
    "duration": 105,
    "start_time": "2022-02-21T10:51:54.890Z"
   },
   {
    "duration": 5,
    "start_time": "2022-02-21T10:51:54.997Z"
   },
   {
    "duration": 253,
    "start_time": "2022-02-21T10:51:55.005Z"
   },
   {
    "duration": 282,
    "start_time": "2022-02-21T10:51:55.260Z"
   },
   {
    "duration": 243,
    "start_time": "2022-02-21T10:51:55.546Z"
   },
   {
    "duration": 8,
    "start_time": "2022-02-21T10:51:55.791Z"
   },
   {
    "duration": 15,
    "start_time": "2022-02-21T10:51:55.800Z"
   },
   {
    "duration": 30,
    "start_time": "2022-02-21T10:51:55.817Z"
   },
   {
    "duration": 288,
    "start_time": "2022-02-21T10:51:55.848Z"
   },
   {
    "duration": 411,
    "start_time": "2022-02-21T10:51:56.138Z"
   },
   {
    "duration": 295,
    "start_time": "2022-02-21T10:51:56.551Z"
   },
   {
    "duration": 8,
    "start_time": "2022-02-21T10:51:56.847Z"
   },
   {
    "duration": 7,
    "start_time": "2022-02-21T10:51:56.857Z"
   },
   {
    "duration": 4,
    "start_time": "2022-02-21T10:51:56.866Z"
   },
   {
    "duration": 12,
    "start_time": "2022-02-21T10:51:56.872Z"
   },
   {
    "duration": 6,
    "start_time": "2022-02-21T10:51:56.886Z"
   },
   {
    "duration": 6,
    "start_time": "2022-02-21T10:51:56.894Z"
   },
   {
    "duration": 287,
    "start_time": "2022-03-04T02:52:58.474Z"
   },
   {
    "duration": 1486,
    "start_time": "2022-03-04T02:53:02.943Z"
   },
   {
    "duration": 194,
    "start_time": "2022-03-04T02:53:09.117Z"
   },
   {
    "duration": 187,
    "start_time": "2022-03-04T02:53:23.390Z"
   },
   {
    "duration": 197,
    "start_time": "2022-03-04T02:53:36.533Z"
   },
   {
    "duration": 1490,
    "start_time": "2022-03-04T03:13:28.989Z"
   },
   {
    "duration": 213,
    "start_time": "2022-03-04T03:13:30.483Z"
   },
   {
    "duration": 155,
    "start_time": "2022-03-04T03:13:30.700Z"
   },
   {
    "duration": 28,
    "start_time": "2022-03-04T03:13:30.859Z"
   },
   {
    "duration": 37,
    "start_time": "2022-03-04T03:13:30.890Z"
   },
   {
    "duration": 387,
    "start_time": "2022-03-04T03:13:30.930Z"
   },
   {
    "duration": -610,
    "start_time": "2022-03-04T03:13:31.932Z"
   },
   {
    "duration": -619,
    "start_time": "2022-03-04T03:13:31.943Z"
   },
   {
    "duration": -622,
    "start_time": "2022-03-04T03:13:31.948Z"
   },
   {
    "duration": -625,
    "start_time": "2022-03-04T03:13:31.953Z"
   },
   {
    "duration": -627,
    "start_time": "2022-03-04T03:13:31.958Z"
   },
   {
    "duration": -628,
    "start_time": "2022-03-04T03:13:31.962Z"
   },
   {
    "duration": -632,
    "start_time": "2022-03-04T03:13:31.968Z"
   },
   {
    "duration": -635,
    "start_time": "2022-03-04T03:13:31.973Z"
   },
   {
    "duration": -637,
    "start_time": "2022-03-04T03:13:31.978Z"
   },
   {
    "duration": -642,
    "start_time": "2022-03-04T03:13:31.985Z"
   },
   {
    "duration": -645,
    "start_time": "2022-03-04T03:13:31.990Z"
   },
   {
    "duration": -646,
    "start_time": "2022-03-04T03:13:31.994Z"
   },
   {
    "duration": -648,
    "start_time": "2022-03-04T03:13:31.999Z"
   },
   {
    "duration": -660,
    "start_time": "2022-03-04T03:13:32.013Z"
   },
   {
    "duration": -665,
    "start_time": "2022-03-04T03:13:32.020Z"
   },
   {
    "duration": -668,
    "start_time": "2022-03-04T03:13:32.025Z"
   },
   {
    "duration": -672,
    "start_time": "2022-03-04T03:13:32.032Z"
   },
   {
    "duration": -677,
    "start_time": "2022-03-04T03:13:32.039Z"
   },
   {
    "duration": -681,
    "start_time": "2022-03-04T03:13:32.045Z"
   },
   {
    "duration": -684,
    "start_time": "2022-03-04T03:13:32.050Z"
   },
   {
    "duration": -687,
    "start_time": "2022-03-04T03:13:32.055Z"
   },
   {
    "duration": -690,
    "start_time": "2022-03-04T03:13:32.060Z"
   },
   {
    "duration": -693,
    "start_time": "2022-03-04T03:13:32.065Z"
   },
   {
    "duration": -702,
    "start_time": "2022-03-04T03:13:32.076Z"
   },
   {
    "duration": -705,
    "start_time": "2022-03-04T03:13:32.081Z"
   },
   {
    "duration": -708,
    "start_time": "2022-03-04T03:13:32.086Z"
   },
   {
    "duration": -710,
    "start_time": "2022-03-04T03:13:32.091Z"
   },
   {
    "duration": -712,
    "start_time": "2022-03-04T03:13:32.095Z"
   },
   {
    "duration": -714,
    "start_time": "2022-03-04T03:13:32.099Z"
   },
   {
    "duration": -717,
    "start_time": "2022-03-04T03:13:32.104Z"
   },
   {
    "duration": -722,
    "start_time": "2022-03-04T03:13:32.111Z"
   },
   {
    "duration": 177,
    "start_time": "2022-03-04T03:14:44.081Z"
   },
   {
    "duration": 184,
    "start_time": "2022-03-04T03:17:11.645Z"
   },
   {
    "duration": 180,
    "start_time": "2022-03-04T03:17:34.876Z"
   },
   {
    "duration": 245,
    "start_time": "2022-03-04T03:19:38.545Z"
   },
   {
    "duration": 6,
    "start_time": "2022-03-04T03:19:48.247Z"
   },
   {
    "duration": 7,
    "start_time": "2022-03-04T03:23:11.928Z"
   },
   {
    "duration": 9,
    "start_time": "2022-03-04T03:23:20.121Z"
   },
   {
    "duration": 6,
    "start_time": "2022-03-04T03:23:48.992Z"
   },
   {
    "duration": 1431,
    "start_time": "2022-03-04T03:24:49.273Z"
   },
   {
    "duration": 196,
    "start_time": "2022-03-04T03:24:50.710Z"
   },
   {
    "duration": 136,
    "start_time": "2022-03-04T03:24:50.909Z"
   },
   {
    "duration": 27,
    "start_time": "2022-03-04T03:24:51.047Z"
   },
   {
    "duration": 37,
    "start_time": "2022-03-04T03:24:51.077Z"
   },
   {
    "duration": 203,
    "start_time": "2022-03-04T03:24:51.117Z"
   },
   {
    "duration": 7,
    "start_time": "2022-03-04T03:24:51.325Z"
   },
   {
    "duration": 156,
    "start_time": "2022-03-04T03:24:51.351Z"
   },
   {
    "duration": 10,
    "start_time": "2022-03-04T03:24:51.510Z"
   },
   {
    "duration": 31,
    "start_time": "2022-03-04T03:24:51.523Z"
   },
   {
    "duration": 69,
    "start_time": "2022-03-04T03:24:51.556Z"
   },
   {
    "duration": 129,
    "start_time": "2022-03-04T03:24:51.627Z"
   },
   {
    "duration": 138,
    "start_time": "2022-03-04T03:24:51.760Z"
   },
   {
    "duration": 31,
    "start_time": "2022-03-04T03:24:51.900Z"
   },
   {
    "duration": 1137,
    "start_time": "2022-03-04T03:24:51.933Z"
   },
   {
    "duration": 38,
    "start_time": "2022-03-04T03:24:53.072Z"
   },
   {
    "duration": 319,
    "start_time": "2022-03-04T03:24:53.112Z"
   },
   {
    "duration": 5,
    "start_time": "2022-03-04T03:24:53.433Z"
   },
   {
    "duration": 24,
    "start_time": "2022-03-04T03:24:53.452Z"
   },
   {
    "duration": 11,
    "start_time": "2022-03-04T03:24:53.478Z"
   },
   {
    "duration": 161,
    "start_time": "2022-03-04T03:24:53.492Z"
   },
   {
    "duration": 10,
    "start_time": "2022-03-04T03:24:53.658Z"
   },
   {
    "duration": 391,
    "start_time": "2022-03-04T03:24:53.671Z"
   },
   {
    "duration": 433,
    "start_time": "2022-03-04T03:24:54.065Z"
   },
   {
    "duration": 396,
    "start_time": "2022-03-04T03:24:54.500Z"
   },
   {
    "duration": 11,
    "start_time": "2022-03-04T03:24:54.898Z"
   },
   {
    "duration": 21,
    "start_time": "2022-03-04T03:24:54.911Z"
   },
   {
    "duration": 17,
    "start_time": "2022-03-04T03:24:54.952Z"
   },
   {
    "duration": 464,
    "start_time": "2022-03-04T03:24:54.971Z"
   },
   {
    "duration": 478,
    "start_time": "2022-03-04T03:24:55.437Z"
   },
   {
    "duration": 471,
    "start_time": "2022-03-04T03:24:55.917Z"
   },
   {
    "duration": 13,
    "start_time": "2022-03-04T03:24:56.391Z"
   },
   {
    "duration": 12,
    "start_time": "2022-03-04T03:24:56.407Z"
   },
   {
    "duration": 6,
    "start_time": "2022-03-04T03:24:56.452Z"
   },
   {
    "duration": 21,
    "start_time": "2022-03-04T03:24:56.462Z"
   },
   {
    "duration": 11,
    "start_time": "2022-03-04T03:24:56.485Z"
   },
   {
    "duration": 6,
    "start_time": "2022-03-04T03:24:56.498Z"
   },
   {
    "duration": 374,
    "start_time": "2022-03-04T03:37:00.756Z"
   },
   {
    "duration": 5738,
    "start_time": "2022-03-04T03:39:20.743Z"
   },
   {
    "duration": 75,
    "start_time": "2022-03-04T03:40:06.086Z"
   },
   {
    "duration": 30,
    "start_time": "2022-03-04T03:40:12.172Z"
   },
   {
    "duration": 34,
    "start_time": "2022-03-04T03:40:20.838Z"
   },
   {
    "duration": 101,
    "start_time": "2022-03-04T03:40:56.630Z"
   },
   {
    "duration": 34,
    "start_time": "2022-03-04T03:41:06.570Z"
   },
   {
    "duration": 5617,
    "start_time": "2022-03-04T03:41:51.321Z"
   },
   {
    "duration": 43,
    "start_time": "2022-03-04T03:41:57.386Z"
   },
   {
    "duration": 51,
    "start_time": "2022-03-04T03:44:43.124Z"
   },
   {
    "duration": 49,
    "start_time": "2022-03-04T03:47:30.750Z"
   },
   {
    "duration": 53,
    "start_time": "2022-03-04T03:47:43.319Z"
   },
   {
    "duration": 50,
    "start_time": "2022-03-04T03:48:06.583Z"
   },
   {
    "duration": 272,
    "start_time": "2022-03-04T03:59:00.398Z"
   },
   {
    "duration": 30,
    "start_time": "2022-03-04T03:59:06.967Z"
   },
   {
    "duration": 30,
    "start_time": "2022-03-04T03:59:52.566Z"
   },
   {
    "duration": 1469,
    "start_time": "2022-03-04T04:00:09.748Z"
   },
   {
    "duration": 186,
    "start_time": "2022-03-04T04:00:11.220Z"
   },
   {
    "duration": 139,
    "start_time": "2022-03-04T04:00:11.409Z"
   },
   {
    "duration": 28,
    "start_time": "2022-03-04T04:00:11.552Z"
   },
   {
    "duration": 37,
    "start_time": "2022-03-04T04:00:11.583Z"
   },
   {
    "duration": 195,
    "start_time": "2022-03-04T04:00:11.622Z"
   },
   {
    "duration": 6,
    "start_time": "2022-03-04T04:00:11.819Z"
   },
   {
    "duration": 165,
    "start_time": "2022-03-04T04:00:11.829Z"
   },
   {
    "duration": 9,
    "start_time": "2022-03-04T04:00:11.997Z"
   },
   {
    "duration": 9,
    "start_time": "2022-03-04T04:00:12.009Z"
   },
   {
    "duration": 95,
    "start_time": "2022-03-04T04:00:12.020Z"
   },
   {
    "duration": 117,
    "start_time": "2022-03-04T04:00:12.118Z"
   },
   {
    "duration": 122,
    "start_time": "2022-03-04T04:00:12.238Z"
   },
   {
    "duration": 38,
    "start_time": "2022-03-04T04:00:12.362Z"
   },
   {
    "duration": 49,
    "start_time": "2022-03-04T04:00:12.402Z"
   },
   {
    "duration": 30,
    "start_time": "2022-03-04T04:00:12.453Z"
   },
   {
    "duration": 1103,
    "start_time": "2022-03-04T04:00:12.485Z"
   },
   {
    "duration": 38,
    "start_time": "2022-03-04T04:00:13.591Z"
   },
   {
    "duration": 312,
    "start_time": "2022-03-04T04:00:13.631Z"
   },
   {
    "duration": 10,
    "start_time": "2022-03-04T04:00:13.945Z"
   },
   {
    "duration": 23,
    "start_time": "2022-03-04T04:00:13.958Z"
   },
   {
    "duration": 10,
    "start_time": "2022-03-04T04:00:13.984Z"
   },
   {
    "duration": 176,
    "start_time": "2022-03-04T04:00:14.000Z"
   },
   {
    "duration": 10,
    "start_time": "2022-03-04T04:00:14.179Z"
   },
   {
    "duration": 408,
    "start_time": "2022-03-04T04:00:14.191Z"
   },
   {
    "duration": 439,
    "start_time": "2022-03-04T04:00:14.602Z"
   },
   {
    "duration": 385,
    "start_time": "2022-03-04T04:00:15.051Z"
   },
   {
    "duration": 18,
    "start_time": "2022-03-04T04:00:15.438Z"
   },
   {
    "duration": 18,
    "start_time": "2022-03-04T04:00:15.459Z"
   },
   {
    "duration": 18,
    "start_time": "2022-03-04T04:00:15.480Z"
   },
   {
    "duration": 508,
    "start_time": "2022-03-04T04:00:15.500Z"
   },
   {
    "duration": 506,
    "start_time": "2022-03-04T04:00:16.011Z"
   },
   {
    "duration": 485,
    "start_time": "2022-03-04T04:00:16.520Z"
   },
   {
    "duration": 12,
    "start_time": "2022-03-04T04:00:17.007Z"
   },
   {
    "duration": 30,
    "start_time": "2022-03-04T04:00:17.021Z"
   },
   {
    "duration": 6,
    "start_time": "2022-03-04T04:00:17.053Z"
   },
   {
    "duration": 19,
    "start_time": "2022-03-04T04:00:17.061Z"
   },
   {
    "duration": 8,
    "start_time": "2022-03-04T04:00:17.083Z"
   },
   {
    "duration": 10,
    "start_time": "2022-03-04T04:00:17.094Z"
   },
   {
    "duration": 34,
    "start_time": "2022-03-04T04:13:24.089Z"
   },
   {
    "duration": 28,
    "start_time": "2022-03-04T04:17:52.239Z"
   },
   {
    "duration": 29,
    "start_time": "2022-03-04T04:18:05.160Z"
   },
   {
    "duration": 28,
    "start_time": "2022-03-04T04:18:28.927Z"
   },
   {
    "duration": 30,
    "start_time": "2022-03-04T04:18:51.821Z"
   },
   {
    "duration": 1496,
    "start_time": "2022-03-04T04:19:38.109Z"
   },
   {
    "duration": 178,
    "start_time": "2022-03-04T04:19:39.608Z"
   },
   {
    "duration": 132,
    "start_time": "2022-03-04T04:19:39.789Z"
   },
   {
    "duration": 30,
    "start_time": "2022-03-04T04:19:39.924Z"
   },
   {
    "duration": 33,
    "start_time": "2022-03-04T04:19:39.956Z"
   },
   {
    "duration": 194,
    "start_time": "2022-03-04T04:19:39.991Z"
   },
   {
    "duration": 6,
    "start_time": "2022-03-04T04:19:40.188Z"
   },
   {
    "duration": 168,
    "start_time": "2022-03-04T04:19:40.199Z"
   },
   {
    "duration": 10,
    "start_time": "2022-03-04T04:19:40.371Z"
   },
   {
    "duration": 10,
    "start_time": "2022-03-04T04:19:40.383Z"
   },
   {
    "duration": 106,
    "start_time": "2022-03-04T04:19:40.395Z"
   },
   {
    "duration": 121,
    "start_time": "2022-03-04T04:19:40.504Z"
   },
   {
    "duration": 127,
    "start_time": "2022-03-04T04:19:40.627Z"
   },
   {
    "duration": 42,
    "start_time": "2022-03-04T04:19:40.757Z"
   },
   {
    "duration": 49,
    "start_time": "2022-03-04T04:19:40.802Z"
   },
   {
    "duration": 24,
    "start_time": "2022-03-04T04:19:40.854Z"
   },
   {
    "duration": 30,
    "start_time": "2022-03-04T04:19:40.881Z"
   },
   {
    "duration": 1152,
    "start_time": "2022-03-04T04:19:40.914Z"
   },
   {
    "duration": 40,
    "start_time": "2022-03-04T04:19:42.068Z"
   },
   {
    "duration": 303,
    "start_time": "2022-03-04T04:19:42.110Z"
   },
   {
    "duration": 6,
    "start_time": "2022-03-04T04:19:42.415Z"
   },
   {
    "duration": 29,
    "start_time": "2022-03-04T04:19:42.424Z"
   },
   {
    "duration": 11,
    "start_time": "2022-03-04T04:19:42.457Z"
   },
   {
    "duration": 143,
    "start_time": "2022-03-04T04:19:42.471Z"
   },
   {
    "duration": 8,
    "start_time": "2022-03-04T04:19:42.616Z"
   },
   {
    "duration": 543,
    "start_time": "2022-03-04T04:19:42.626Z"
   },
   {
    "duration": 491,
    "start_time": "2022-03-04T04:19:43.172Z"
   },
   {
    "duration": 381,
    "start_time": "2022-03-04T04:19:43.665Z"
   },
   {
    "duration": 11,
    "start_time": "2022-03-04T04:19:44.051Z"
   },
   {
    "duration": 19,
    "start_time": "2022-03-04T04:19:44.064Z"
   },
   {
    "duration": 16,
    "start_time": "2022-03-04T04:19:44.086Z"
   },
   {
    "duration": 490,
    "start_time": "2022-03-04T04:19:44.105Z"
   },
   {
    "duration": 504,
    "start_time": "2022-03-04T04:19:44.597Z"
   },
   {
    "duration": 498,
    "start_time": "2022-03-04T04:19:45.104Z"
   },
   {
    "duration": 11,
    "start_time": "2022-03-04T04:19:45.604Z"
   },
   {
    "duration": 20,
    "start_time": "2022-03-04T04:19:45.617Z"
   },
   {
    "duration": 16,
    "start_time": "2022-03-04T04:19:45.639Z"
   },
   {
    "duration": 19,
    "start_time": "2022-03-04T04:19:45.657Z"
   },
   {
    "duration": 8,
    "start_time": "2022-03-04T04:19:45.678Z"
   },
   {
    "duration": 6,
    "start_time": "2022-03-04T04:19:45.689Z"
   },
   {
    "duration": 29,
    "start_time": "2022-03-04T05:56:21.277Z"
   },
   {
    "duration": 1535,
    "start_time": "2022-03-04T05:57:23.690Z"
   },
   {
    "duration": 194,
    "start_time": "2022-03-04T05:57:25.228Z"
   },
   {
    "duration": 137,
    "start_time": "2022-03-04T05:57:25.425Z"
   },
   {
    "duration": 33,
    "start_time": "2022-03-04T05:57:25.564Z"
   },
   {
    "duration": 35,
    "start_time": "2022-03-04T05:57:25.600Z"
   },
   {
    "duration": 186,
    "start_time": "2022-03-04T05:57:25.651Z"
   },
   {
    "duration": 12,
    "start_time": "2022-03-04T05:57:25.839Z"
   },
   {
    "duration": 158,
    "start_time": "2022-03-04T05:57:25.855Z"
   },
   {
    "duration": 10,
    "start_time": "2022-03-04T05:57:26.016Z"
   },
   {
    "duration": 27,
    "start_time": "2022-03-04T05:57:26.028Z"
   },
   {
    "duration": 89,
    "start_time": "2022-03-04T05:57:26.057Z"
   },
   {
    "duration": 107,
    "start_time": "2022-03-04T05:57:26.148Z"
   },
   {
    "duration": 116,
    "start_time": "2022-03-04T05:57:26.257Z"
   },
   {
    "duration": 36,
    "start_time": "2022-03-04T05:57:26.375Z"
   },
   {
    "duration": 50,
    "start_time": "2022-03-04T05:57:26.413Z"
   },
   {
    "duration": 23,
    "start_time": "2022-03-04T05:57:26.466Z"
   },
   {
    "duration": 31,
    "start_time": "2022-03-04T05:57:26.492Z"
   },
   {
    "duration": 50,
    "start_time": "2022-03-04T05:57:26.525Z"
   },
   {
    "duration": 1101,
    "start_time": "2022-03-04T05:57:26.578Z"
   },
   {
    "duration": 39,
    "start_time": "2022-03-04T05:57:27.682Z"
   },
   {
    "duration": 316,
    "start_time": "2022-03-04T05:57:27.723Z"
   },
   {
    "duration": 10,
    "start_time": "2022-03-04T05:57:28.042Z"
   },
   {
    "duration": 24,
    "start_time": "2022-03-04T05:57:28.057Z"
   },
   {
    "duration": 12,
    "start_time": "2022-03-04T05:57:28.083Z"
   },
   {
    "duration": 171,
    "start_time": "2022-03-04T05:57:28.097Z"
   },
   {
    "duration": 8,
    "start_time": "2022-03-04T05:57:28.270Z"
   },
   {
    "duration": 411,
    "start_time": "2022-03-04T05:57:28.281Z"
   },
   {
    "duration": 432,
    "start_time": "2022-03-04T05:57:28.695Z"
   },
   {
    "duration": 387,
    "start_time": "2022-03-04T05:57:29.129Z"
   },
   {
    "duration": 10,
    "start_time": "2022-03-04T05:57:29.519Z"
   },
   {
    "duration": 34,
    "start_time": "2022-03-04T05:57:29.531Z"
   },
   {
    "duration": 17,
    "start_time": "2022-03-04T05:57:29.567Z"
   },
   {
    "duration": 484,
    "start_time": "2022-03-04T05:57:29.586Z"
   },
   {
    "duration": 519,
    "start_time": "2022-03-04T05:57:30.072Z"
   },
   {
    "duration": 493,
    "start_time": "2022-03-04T05:57:30.593Z"
   },
   {
    "duration": 11,
    "start_time": "2022-03-04T05:57:31.089Z"
   },
   {
    "duration": 31,
    "start_time": "2022-03-04T05:57:31.102Z"
   },
   {
    "duration": 19,
    "start_time": "2022-03-04T05:57:31.135Z"
   },
   {
    "duration": 31,
    "start_time": "2022-03-04T05:57:31.156Z"
   },
   {
    "duration": 23,
    "start_time": "2022-03-04T05:57:31.189Z"
   },
   {
    "duration": 30,
    "start_time": "2022-03-04T05:57:31.214Z"
   },
   {
    "duration": 10,
    "start_time": "2022-03-04T06:00:43.692Z"
   },
   {
    "duration": 27,
    "start_time": "2022-03-04T06:02:19.921Z"
   },
   {
    "duration": 1523,
    "start_time": "2022-03-04T06:04:23.596Z"
   },
   {
    "duration": 185,
    "start_time": "2022-03-04T06:04:25.122Z"
   },
   {
    "duration": 133,
    "start_time": "2022-03-04T06:04:25.310Z"
   },
   {
    "duration": 26,
    "start_time": "2022-03-04T06:04:25.451Z"
   },
   {
    "duration": 37,
    "start_time": "2022-03-04T06:04:25.479Z"
   },
   {
    "duration": 198,
    "start_time": "2022-03-04T06:04:25.518Z"
   },
   {
    "duration": 8,
    "start_time": "2022-03-04T06:04:25.719Z"
   },
   {
    "duration": 176,
    "start_time": "2022-03-04T06:04:25.732Z"
   },
   {
    "duration": 10,
    "start_time": "2022-03-04T06:04:25.912Z"
   },
   {
    "duration": 33,
    "start_time": "2022-03-04T06:04:25.925Z"
   },
   {
    "duration": 75,
    "start_time": "2022-03-04T06:04:25.960Z"
   },
   {
    "duration": 110,
    "start_time": "2022-03-04T06:04:26.051Z"
   },
   {
    "duration": 125,
    "start_time": "2022-03-04T06:04:26.163Z"
   },
   {
    "duration": 41,
    "start_time": "2022-03-04T06:04:26.290Z"
   },
   {
    "duration": 37,
    "start_time": "2022-03-04T06:04:26.333Z"
   },
   {
    "duration": 24,
    "start_time": "2022-03-04T06:04:26.372Z"
   },
   {
    "duration": 53,
    "start_time": "2022-03-04T06:04:26.398Z"
   },
   {
    "duration": 26,
    "start_time": "2022-03-04T06:04:26.454Z"
   },
   {
    "duration": 29,
    "start_time": "2022-03-04T06:04:26.482Z"
   },
   {
    "duration": 1174,
    "start_time": "2022-03-04T06:04:26.513Z"
   },
   {
    "duration": 44,
    "start_time": "2022-03-04T06:04:27.690Z"
   },
   {
    "duration": 326,
    "start_time": "2022-03-04T06:04:27.736Z"
   },
   {
    "duration": 5,
    "start_time": "2022-03-04T06:04:28.067Z"
   },
   {
    "duration": 26,
    "start_time": "2022-03-04T06:04:28.074Z"
   },
   {
    "duration": 11,
    "start_time": "2022-03-04T06:04:28.103Z"
   },
   {
    "duration": 145,
    "start_time": "2022-03-04T06:04:28.152Z"
   },
   {
    "duration": 9,
    "start_time": "2022-03-04T06:04:28.299Z"
   },
   {
    "duration": 400,
    "start_time": "2022-03-04T06:04:28.310Z"
   },
   {
    "duration": 439,
    "start_time": "2022-03-04T06:04:28.712Z"
   },
   {
    "duration": 398,
    "start_time": "2022-03-04T06:04:29.153Z"
   },
   {
    "duration": 10,
    "start_time": "2022-03-04T06:04:29.553Z"
   },
   {
    "duration": 19,
    "start_time": "2022-03-04T06:04:29.566Z"
   },
   {
    "duration": 18,
    "start_time": "2022-03-04T06:04:29.587Z"
   },
   {
    "duration": 503,
    "start_time": "2022-03-04T06:04:29.607Z"
   },
   {
    "duration": 525,
    "start_time": "2022-03-04T06:04:30.113Z"
   },
   {
    "duration": 497,
    "start_time": "2022-03-04T06:04:30.641Z"
   },
   {
    "duration": 15,
    "start_time": "2022-03-04T06:04:31.141Z"
   },
   {
    "duration": 26,
    "start_time": "2022-03-04T06:04:31.158Z"
   },
   {
    "duration": 13,
    "start_time": "2022-03-04T06:04:31.186Z"
   },
   {
    "duration": 20,
    "start_time": "2022-03-04T06:04:31.201Z"
   },
   {
    "duration": 28,
    "start_time": "2022-03-04T06:04:31.223Z"
   },
   {
    "duration": 12,
    "start_time": "2022-03-04T06:04:31.253Z"
   },
   {
    "duration": 364,
    "start_time": "2022-03-04T06:06:47.267Z"
   },
   {
    "duration": 243,
    "start_time": "2022-03-04T06:07:25.866Z"
   },
   {
    "duration": 250,
    "start_time": "2022-03-04T06:09:41.428Z"
   },
   {
    "duration": 2011,
    "start_time": "2022-03-04T06:09:54.388Z"
   },
   {
    "duration": 199,
    "start_time": "2022-03-04T06:09:56.402Z"
   },
   {
    "duration": 141,
    "start_time": "2022-03-04T06:09:56.604Z"
   },
   {
    "duration": 25,
    "start_time": "2022-03-04T06:09:56.751Z"
   },
   {
    "duration": 38,
    "start_time": "2022-03-04T06:09:56.778Z"
   },
   {
    "duration": 210,
    "start_time": "2022-03-04T06:09:56.819Z"
   },
   {
    "duration": 6,
    "start_time": "2022-03-04T06:09:57.031Z"
   },
   {
    "duration": 170,
    "start_time": "2022-03-04T06:09:57.040Z"
   },
   {
    "duration": 10,
    "start_time": "2022-03-04T06:09:57.213Z"
   },
   {
    "duration": 31,
    "start_time": "2022-03-04T06:09:57.225Z"
   },
   {
    "duration": 76,
    "start_time": "2022-03-04T06:09:57.259Z"
   },
   {
    "duration": 113,
    "start_time": "2022-03-04T06:09:57.352Z"
   },
   {
    "duration": 129,
    "start_time": "2022-03-04T06:09:57.467Z"
   },
   {
    "duration": 54,
    "start_time": "2022-03-04T06:09:57.598Z"
   },
   {
    "duration": 26,
    "start_time": "2022-03-04T06:09:57.655Z"
   },
   {
    "duration": 24,
    "start_time": "2022-03-04T06:09:57.684Z"
   },
   {
    "duration": 60,
    "start_time": "2022-03-04T06:09:57.711Z"
   },
   {
    "duration": 41,
    "start_time": "2022-03-04T06:09:57.773Z"
   },
   {
    "duration": 51,
    "start_time": "2022-03-04T06:09:57.816Z"
   },
   {
    "duration": 1158,
    "start_time": "2022-03-04T06:09:57.870Z"
   },
   {
    "duration": 53,
    "start_time": "2022-03-04T06:09:59.030Z"
   },
   {
    "duration": 324,
    "start_time": "2022-03-04T06:09:59.085Z"
   },
   {
    "duration": 5,
    "start_time": "2022-03-04T06:09:59.414Z"
   },
   {
    "duration": 40,
    "start_time": "2022-03-04T06:09:59.422Z"
   },
   {
    "duration": 15,
    "start_time": "2022-03-04T06:09:59.465Z"
   },
   {
    "duration": 161,
    "start_time": "2022-03-04T06:09:59.482Z"
   },
   {
    "duration": 14,
    "start_time": "2022-03-04T06:09:59.645Z"
   },
   {
    "duration": 401,
    "start_time": "2022-03-04T06:09:59.661Z"
   },
   {
    "duration": 468,
    "start_time": "2022-03-04T06:10:00.065Z"
   },
   {
    "duration": 417,
    "start_time": "2022-03-04T06:10:00.536Z"
   },
   {
    "duration": 12,
    "start_time": "2022-03-04T06:10:00.956Z"
   },
   {
    "duration": 24,
    "start_time": "2022-03-04T06:10:00.971Z"
   },
   {
    "duration": 18,
    "start_time": "2022-03-04T06:10:00.999Z"
   },
   {
    "duration": 534,
    "start_time": "2022-03-04T06:10:01.020Z"
   },
   {
    "duration": 545,
    "start_time": "2022-03-04T06:10:01.557Z"
   },
   {
    "duration": 498,
    "start_time": "2022-03-04T06:10:02.105Z"
   },
   {
    "duration": 12,
    "start_time": "2022-03-04T06:10:02.605Z"
   },
   {
    "duration": 10,
    "start_time": "2022-03-04T06:10:02.619Z"
   },
   {
    "duration": 24,
    "start_time": "2022-03-04T06:10:02.631Z"
   },
   {
    "duration": 18,
    "start_time": "2022-03-04T06:10:02.658Z"
   },
   {
    "duration": 9,
    "start_time": "2022-03-04T06:10:02.678Z"
   },
   {
    "duration": 8,
    "start_time": "2022-03-04T06:10:02.689Z"
   },
   {
    "duration": 9,
    "start_time": "2022-03-04T06:14:04.498Z"
   },
   {
    "duration": 1498,
    "start_time": "2022-03-04T06:15:39.347Z"
   },
   {
    "duration": 181,
    "start_time": "2022-03-04T06:15:40.851Z"
   },
   {
    "duration": 134,
    "start_time": "2022-03-04T06:15:41.035Z"
   },
   {
    "duration": 23,
    "start_time": "2022-03-04T06:15:41.172Z"
   },
   {
    "duration": 35,
    "start_time": "2022-03-04T06:15:41.197Z"
   },
   {
    "duration": 195,
    "start_time": "2022-03-04T06:15:41.234Z"
   },
   {
    "duration": 6,
    "start_time": "2022-03-04T06:15:41.431Z"
   },
   {
    "duration": 211,
    "start_time": "2022-03-04T06:15:41.440Z"
   },
   {
    "duration": 10,
    "start_time": "2022-03-04T06:15:41.655Z"
   },
   {
    "duration": 10,
    "start_time": "2022-03-04T06:15:41.668Z"
   },
   {
    "duration": 72,
    "start_time": "2022-03-04T06:15:41.680Z"
   },
   {
    "duration": 108,
    "start_time": "2022-03-04T06:15:41.755Z"
   },
   {
    "duration": 116,
    "start_time": "2022-03-04T06:15:41.865Z"
   },
   {
    "duration": 41,
    "start_time": "2022-03-04T06:15:41.983Z"
   },
   {
    "duration": 26,
    "start_time": "2022-03-04T06:15:42.026Z"
   },
   {
    "duration": 23,
    "start_time": "2022-03-04T06:15:42.055Z"
   },
   {
    "duration": 31,
    "start_time": "2022-03-04T06:15:42.080Z"
   },
   {
    "duration": 53,
    "start_time": "2022-03-04T06:15:42.113Z"
   },
   {
    "duration": 9,
    "start_time": "2022-03-04T06:15:42.168Z"
   },
   {
    "duration": 30,
    "start_time": "2022-03-04T06:15:42.180Z"
   },
   {
    "duration": 1464,
    "start_time": "2022-03-04T06:15:42.213Z"
   },
   {
    "duration": 43,
    "start_time": "2022-03-04T06:15:43.679Z"
   },
   {
    "duration": 300,
    "start_time": "2022-03-04T06:15:43.751Z"
   },
   {
    "duration": 6,
    "start_time": "2022-03-04T06:15:44.054Z"
   },
   {
    "duration": 28,
    "start_time": "2022-03-04T06:15:44.062Z"
   },
   {
    "duration": 13,
    "start_time": "2022-03-04T06:15:44.092Z"
   },
   {
    "duration": 173,
    "start_time": "2022-03-04T06:15:44.107Z"
   },
   {
    "duration": 8,
    "start_time": "2022-03-04T06:15:44.282Z"
   },
   {
    "duration": 408,
    "start_time": "2022-03-04T06:15:44.292Z"
   },
   {
    "duration": 445,
    "start_time": "2022-03-04T06:15:44.702Z"
   },
   {
    "duration": 399,
    "start_time": "2022-03-04T06:15:45.152Z"
   },
   {
    "duration": 11,
    "start_time": "2022-03-04T06:15:45.554Z"
   },
   {
    "duration": 22,
    "start_time": "2022-03-04T06:15:45.567Z"
   },
   {
    "duration": 17,
    "start_time": "2022-03-04T06:15:45.591Z"
   },
   {
    "duration": 513,
    "start_time": "2022-03-04T06:15:45.610Z"
   },
   {
    "duration": 522,
    "start_time": "2022-03-04T06:15:46.125Z"
   },
   {
    "duration": 488,
    "start_time": "2022-03-04T06:15:46.651Z"
   },
   {
    "duration": 16,
    "start_time": "2022-03-04T06:15:47.141Z"
   },
   {
    "duration": 13,
    "start_time": "2022-03-04T06:15:47.159Z"
   },
   {
    "duration": 14,
    "start_time": "2022-03-04T06:15:47.175Z"
   },
   {
    "duration": 18,
    "start_time": "2022-03-04T06:15:47.191Z"
   },
   {
    "duration": 40,
    "start_time": "2022-03-04T06:15:47.211Z"
   },
   {
    "duration": 5,
    "start_time": "2022-03-04T06:15:47.254Z"
   },
   {
    "duration": 1605,
    "start_time": "2022-03-04T06:27:59.034Z"
   },
   {
    "duration": 208,
    "start_time": "2022-03-04T06:28:00.642Z"
   },
   {
    "duration": 144,
    "start_time": "2022-03-04T06:28:00.853Z"
   },
   {
    "duration": 26,
    "start_time": "2022-03-04T06:28:01.000Z"
   },
   {
    "duration": 57,
    "start_time": "2022-03-04T06:28:01.029Z"
   },
   {
    "duration": 187,
    "start_time": "2022-03-04T06:28:01.089Z"
   },
   {
    "duration": 6,
    "start_time": "2022-03-04T06:28:01.279Z"
   },
   {
    "duration": 166,
    "start_time": "2022-03-04T06:28:01.288Z"
   },
   {
    "duration": 9,
    "start_time": "2022-03-04T06:28:01.457Z"
   },
   {
    "duration": 11,
    "start_time": "2022-03-04T06:28:01.469Z"
   },
   {
    "duration": 102,
    "start_time": "2022-03-04T06:28:01.482Z"
   },
   {
    "duration": 120,
    "start_time": "2022-03-04T06:28:01.586Z"
   },
   {
    "duration": 138,
    "start_time": "2022-03-04T06:28:01.709Z"
   },
   {
    "duration": 44,
    "start_time": "2022-03-04T06:28:01.851Z"
   },
   {
    "duration": 26,
    "start_time": "2022-03-04T06:28:01.897Z"
   },
   {
    "duration": 50,
    "start_time": "2022-03-04T06:28:01.925Z"
   },
   {
    "duration": 30,
    "start_time": "2022-03-04T06:28:01.978Z"
   },
   {
    "duration": 74,
    "start_time": "2022-03-04T06:28:02.011Z"
   },
   {
    "duration": 9,
    "start_time": "2022-03-04T06:28:02.088Z"
   },
   {
    "duration": 59,
    "start_time": "2022-03-04T06:28:02.099Z"
   },
   {
    "duration": 1123,
    "start_time": "2022-03-04T06:28:02.161Z"
   },
   {
    "duration": 38,
    "start_time": "2022-03-04T06:28:03.286Z"
   },
   {
    "duration": 318,
    "start_time": "2022-03-04T06:28:03.329Z"
   },
   {
    "duration": 5,
    "start_time": "2022-03-04T06:28:03.651Z"
   },
   {
    "duration": 44,
    "start_time": "2022-03-04T06:28:03.659Z"
   },
   {
    "duration": 16,
    "start_time": "2022-03-04T06:28:03.705Z"
   },
   {
    "duration": 157,
    "start_time": "2022-03-04T06:28:03.723Z"
   },
   {
    "duration": 10,
    "start_time": "2022-03-04T06:28:03.882Z"
   },
   {
    "duration": 406,
    "start_time": "2022-03-04T06:28:03.894Z"
   },
   {
    "duration": 444,
    "start_time": "2022-03-04T06:28:04.302Z"
   },
   {
    "duration": 396,
    "start_time": "2022-03-04T06:28:04.748Z"
   },
   {
    "duration": 10,
    "start_time": "2022-03-04T06:28:05.147Z"
   },
   {
    "duration": 18,
    "start_time": "2022-03-04T06:28:05.159Z"
   },
   {
    "duration": 20,
    "start_time": "2022-03-04T06:28:05.179Z"
   },
   {
    "duration": 522,
    "start_time": "2022-03-04T06:28:05.202Z"
   },
   {
    "duration": 508,
    "start_time": "2022-03-04T06:28:05.727Z"
   },
   {
    "duration": 513,
    "start_time": "2022-03-04T06:28:06.238Z"
   },
   {
    "duration": 11,
    "start_time": "2022-03-04T06:28:06.754Z"
   },
   {
    "duration": 19,
    "start_time": "2022-03-04T06:28:06.768Z"
   },
   {
    "duration": 7,
    "start_time": "2022-03-04T06:28:06.790Z"
   },
   {
    "duration": 56,
    "start_time": "2022-03-04T06:28:06.799Z"
   },
   {
    "duration": 9,
    "start_time": "2022-03-04T06:28:06.858Z"
   },
   {
    "duration": 7,
    "start_time": "2022-03-04T06:28:06.870Z"
   },
   {
    "duration": 5,
    "start_time": "2022-03-04T07:41:44.128Z"
   },
   {
    "duration": 592,
    "start_time": "2022-03-04T08:06:02.574Z"
   },
   {
    "duration": 5,
    "start_time": "2022-03-04T08:07:44.282Z"
   },
   {
    "duration": 327,
    "start_time": "2022-03-04T08:07:47.026Z"
   },
   {
    "duration": 364,
    "start_time": "2022-03-04T08:07:55.506Z"
   },
   {
    "duration": 759,
    "start_time": "2022-03-04T08:08:33.766Z"
   },
   {
    "duration": 6,
    "start_time": "2022-03-04T08:15:12.476Z"
   },
   {
    "duration": 354,
    "start_time": "2022-03-04T08:15:18.890Z"
   },
   {
    "duration": 6,
    "start_time": "2022-03-04T08:30:21.556Z"
   },
   {
    "duration": 328,
    "start_time": "2022-03-04T08:30:23.971Z"
   },
   {
    "duration": 274,
    "start_time": "2022-03-04T08:36:19.447Z"
   },
   {
    "duration": 286,
    "start_time": "2022-03-04T08:36:25.081Z"
   },
   {
    "duration": 411,
    "start_time": "2022-03-04T08:36:48.717Z"
   },
   {
    "duration": 36,
    "start_time": "2022-03-04T08:37:34.318Z"
   },
   {
    "duration": 262,
    "start_time": "2022-03-04T10:17:54.206Z"
   },
   {
    "duration": 2142,
    "start_time": "2022-03-04T10:18:45.002Z"
   },
   {
    "duration": 48,
    "start_time": "2022-03-04T10:20:36.470Z"
   },
   {
    "duration": 1612,
    "start_time": "2022-03-04T10:21:06.632Z"
   },
   {
    "duration": 187,
    "start_time": "2022-03-04T10:21:08.247Z"
   },
   {
    "duration": 132,
    "start_time": "2022-03-04T10:21:08.436Z"
   },
   {
    "duration": 24,
    "start_time": "2022-03-04T10:21:08.571Z"
   },
   {
    "duration": 54,
    "start_time": "2022-03-04T10:21:08.597Z"
   },
   {
    "duration": 199,
    "start_time": "2022-03-04T10:21:08.653Z"
   },
   {
    "duration": 6,
    "start_time": "2022-03-04T10:21:08.855Z"
   },
   {
    "duration": 174,
    "start_time": "2022-03-04T10:21:08.865Z"
   },
   {
    "duration": 10,
    "start_time": "2022-03-04T10:21:09.051Z"
   },
   {
    "duration": 13,
    "start_time": "2022-03-04T10:21:09.063Z"
   },
   {
    "duration": 92,
    "start_time": "2022-03-04T10:21:09.079Z"
   },
   {
    "duration": 118,
    "start_time": "2022-03-04T10:21:09.173Z"
   },
   {
    "duration": 124,
    "start_time": "2022-03-04T10:21:09.293Z"
   },
   {
    "duration": 54,
    "start_time": "2022-03-04T10:21:09.420Z"
   },
   {
    "duration": 26,
    "start_time": "2022-03-04T10:21:09.476Z"
   },
   {
    "duration": 53,
    "start_time": "2022-03-04T10:21:09.505Z"
   },
   {
    "duration": 29,
    "start_time": "2022-03-04T10:21:09.560Z"
   },
   {
    "duration": 61,
    "start_time": "2022-03-04T10:21:09.591Z"
   },
   {
    "duration": 8,
    "start_time": "2022-03-04T10:21:09.655Z"
   },
   {
    "duration": 11,
    "start_time": "2022-03-04T10:21:09.665Z"
   },
   {
    "duration": 359,
    "start_time": "2022-03-04T10:21:09.678Z"
   },
   {
    "duration": 59,
    "start_time": "2022-03-04T10:21:10.039Z"
   },
   {
    "duration": 454,
    "start_time": "2022-03-04T10:21:10.104Z"
   },
   {
    "duration": -309,
    "start_time": "2022-03-04T10:21:10.870Z"
   },
   {
    "duration": -313,
    "start_time": "2022-03-04T10:21:10.876Z"
   },
   {
    "duration": -336,
    "start_time": "2022-03-04T10:21:10.900Z"
   },
   {
    "duration": -345,
    "start_time": "2022-03-04T10:21:10.910Z"
   },
   {
    "duration": -349,
    "start_time": "2022-03-04T10:21:10.916Z"
   },
   {
    "duration": -354,
    "start_time": "2022-03-04T10:21:10.922Z"
   },
   {
    "duration": -364,
    "start_time": "2022-03-04T10:21:10.934Z"
   },
   {
    "duration": -368,
    "start_time": "2022-03-04T10:21:10.939Z"
   },
   {
    "duration": -373,
    "start_time": "2022-03-04T10:21:10.945Z"
   },
   {
    "duration": -377,
    "start_time": "2022-03-04T10:21:10.951Z"
   },
   {
    "duration": -380,
    "start_time": "2022-03-04T10:21:10.956Z"
   },
   {
    "duration": -385,
    "start_time": "2022-03-04T10:21:10.962Z"
   },
   {
    "duration": -389,
    "start_time": "2022-03-04T10:21:10.968Z"
   },
   {
    "duration": -393,
    "start_time": "2022-03-04T10:21:10.973Z"
   },
   {
    "duration": -397,
    "start_time": "2022-03-04T10:21:10.979Z"
   },
   {
    "duration": -407,
    "start_time": "2022-03-04T10:21:10.991Z"
   },
   {
    "duration": -411,
    "start_time": "2022-03-04T10:21:10.997Z"
   },
   {
    "duration": -414,
    "start_time": "2022-03-04T10:21:11.001Z"
   },
   {
    "duration": -418,
    "start_time": "2022-03-04T10:21:11.007Z"
   },
   {
    "duration": -423,
    "start_time": "2022-03-04T10:21:11.013Z"
   },
   {
    "duration": -427,
    "start_time": "2022-03-04T10:21:11.018Z"
   },
   {
    "duration": -430,
    "start_time": "2022-03-04T10:21:11.023Z"
   },
   {
    "duration": -438,
    "start_time": "2022-03-04T10:21:11.032Z"
   },
   {
    "duration": -441,
    "start_time": "2022-03-04T10:21:11.037Z"
   },
   {
    "duration": 67,
    "start_time": "2022-03-04T10:21:48.535Z"
   },
   {
    "duration": 342,
    "start_time": "2022-03-04T10:22:04.576Z"
   },
   {
    "duration": 2035,
    "start_time": "2022-03-04T10:22:23.557Z"
   },
   {
    "duration": 204,
    "start_time": "2022-03-04T10:22:25.595Z"
   },
   {
    "duration": 143,
    "start_time": "2022-03-04T10:22:25.802Z"
   },
   {
    "duration": 25,
    "start_time": "2022-03-04T10:22:25.951Z"
   },
   {
    "duration": 54,
    "start_time": "2022-03-04T10:22:25.978Z"
   },
   {
    "duration": 205,
    "start_time": "2022-03-04T10:22:26.034Z"
   },
   {
    "duration": 10,
    "start_time": "2022-03-04T10:22:26.241Z"
   },
   {
    "duration": 173,
    "start_time": "2022-03-04T10:22:26.254Z"
   },
   {
    "duration": 20,
    "start_time": "2022-03-04T10:22:26.431Z"
   },
   {
    "duration": 16,
    "start_time": "2022-03-04T10:22:26.453Z"
   },
   {
    "duration": 91,
    "start_time": "2022-03-04T10:22:26.471Z"
   },
   {
    "duration": 127,
    "start_time": "2022-03-04T10:22:26.564Z"
   },
   {
    "duration": 130,
    "start_time": "2022-03-04T10:22:26.693Z"
   },
   {
    "duration": 54,
    "start_time": "2022-03-04T10:22:26.825Z"
   },
   {
    "duration": 25,
    "start_time": "2022-03-04T10:22:26.881Z"
   },
   {
    "duration": 48,
    "start_time": "2022-03-04T10:22:26.908Z"
   },
   {
    "duration": 29,
    "start_time": "2022-03-04T10:22:26.958Z"
   },
   {
    "duration": 62,
    "start_time": "2022-03-04T10:22:26.990Z"
   },
   {
    "duration": 8,
    "start_time": "2022-03-04T10:22:27.055Z"
   },
   {
    "duration": 9,
    "start_time": "2022-03-04T10:22:27.066Z"
   },
   {
    "duration": 352,
    "start_time": "2022-03-04T10:22:27.078Z"
   },
   {
    "duration": 53,
    "start_time": "2022-03-04T10:22:27.433Z"
   },
   {
    "duration": 443,
    "start_time": "2022-03-04T10:22:27.490Z"
   },
   {
    "duration": -327,
    "start_time": "2022-03-04T10:22:28.264Z"
   },
   {
    "duration": -330,
    "start_time": "2022-03-04T10:22:28.269Z"
   },
   {
    "duration": -334,
    "start_time": "2022-03-04T10:22:28.275Z"
   },
   {
    "duration": -345,
    "start_time": "2022-03-04T10:22:28.287Z"
   },
   {
    "duration": -348,
    "start_time": "2022-03-04T10:22:28.292Z"
   },
   {
    "duration": -352,
    "start_time": "2022-03-04T10:22:28.297Z"
   },
   {
    "duration": -358,
    "start_time": "2022-03-04T10:22:28.304Z"
   },
   {
    "duration": -362,
    "start_time": "2022-03-04T10:22:28.309Z"
   },
   {
    "duration": -366,
    "start_time": "2022-03-04T10:22:28.315Z"
   },
   {
    "duration": -370,
    "start_time": "2022-03-04T10:22:28.320Z"
   },
   {
    "duration": -374,
    "start_time": "2022-03-04T10:22:28.325Z"
   },
   {
    "duration": -377,
    "start_time": "2022-03-04T10:22:28.330Z"
   },
   {
    "duration": -382,
    "start_time": "2022-03-04T10:22:28.336Z"
   },
   {
    "duration": -386,
    "start_time": "2022-03-04T10:22:28.341Z"
   },
   {
    "duration": -389,
    "start_time": "2022-03-04T10:22:28.346Z"
   },
   {
    "duration": -393,
    "start_time": "2022-03-04T10:22:28.351Z"
   },
   {
    "duration": -397,
    "start_time": "2022-03-04T10:22:28.357Z"
   },
   {
    "duration": -401,
    "start_time": "2022-03-04T10:22:28.362Z"
   },
   {
    "duration": -404,
    "start_time": "2022-03-04T10:22:28.367Z"
   },
   {
    "duration": -408,
    "start_time": "2022-03-04T10:22:28.372Z"
   },
   {
    "duration": -412,
    "start_time": "2022-03-04T10:22:28.377Z"
   },
   {
    "duration": -416,
    "start_time": "2022-03-04T10:22:28.383Z"
   },
   {
    "duration": -431,
    "start_time": "2022-03-04T10:22:28.399Z"
   },
   {
    "duration": -435,
    "start_time": "2022-03-04T10:22:28.404Z"
   },
   {
    "duration": 867,
    "start_time": "2022-03-04T10:23:36.932Z"
   },
   {
    "duration": 327,
    "start_time": "2022-03-04T10:23:52.499Z"
   },
   {
    "duration": 1634,
    "start_time": "2022-03-04T10:24:03.678Z"
   },
   {
    "duration": 196,
    "start_time": "2022-03-04T10:24:05.315Z"
   },
   {
    "duration": 139,
    "start_time": "2022-03-04T10:24:05.514Z"
   },
   {
    "duration": 26,
    "start_time": "2022-03-04T10:24:05.655Z"
   },
   {
    "duration": 40,
    "start_time": "2022-03-04T10:24:05.685Z"
   },
   {
    "duration": 214,
    "start_time": "2022-03-04T10:24:05.729Z"
   },
   {
    "duration": 8,
    "start_time": "2022-03-04T10:24:05.945Z"
   },
   {
    "duration": 174,
    "start_time": "2022-03-04T10:24:05.957Z"
   },
   {
    "duration": 21,
    "start_time": "2022-03-04T10:24:06.134Z"
   },
   {
    "duration": 10,
    "start_time": "2022-03-04T10:24:06.157Z"
   },
   {
    "duration": 98,
    "start_time": "2022-03-04T10:24:06.169Z"
   },
   {
    "duration": 123,
    "start_time": "2022-03-04T10:24:06.269Z"
   },
   {
    "duration": 130,
    "start_time": "2022-03-04T10:24:06.395Z"
   },
   {
    "duration": 50,
    "start_time": "2022-03-04T10:24:06.528Z"
   },
   {
    "duration": 27,
    "start_time": "2022-03-04T10:24:06.580Z"
   },
   {
    "duration": 44,
    "start_time": "2022-03-04T10:24:06.609Z"
   },
   {
    "duration": 29,
    "start_time": "2022-03-04T10:24:06.655Z"
   },
   {
    "duration": 37,
    "start_time": "2022-03-04T10:24:06.686Z"
   },
   {
    "duration": 36,
    "start_time": "2022-03-04T10:24:06.725Z"
   },
   {
    "duration": 13,
    "start_time": "2022-03-04T10:24:06.763Z"
   },
   {
    "duration": 360,
    "start_time": "2022-03-04T10:24:06.779Z"
   },
   {
    "duration": 52,
    "start_time": "2022-03-04T10:24:07.141Z"
   },
   {
    "duration": 494,
    "start_time": "2022-03-04T10:24:07.199Z"
   },
   {
    "duration": -337,
    "start_time": "2022-03-04T10:24:08.033Z"
   },
   {
    "duration": -348,
    "start_time": "2022-03-04T10:24:08.045Z"
   },
   {
    "duration": -353,
    "start_time": "2022-03-04T10:24:08.052Z"
   },
   {
    "duration": -360,
    "start_time": "2022-03-04T10:24:08.060Z"
   },
   {
    "duration": -363,
    "start_time": "2022-03-04T10:24:08.065Z"
   },
   {
    "duration": -367,
    "start_time": "2022-03-04T10:24:08.071Z"
   },
   {
    "duration": -371,
    "start_time": "2022-03-04T10:24:08.076Z"
   },
   {
    "duration": -375,
    "start_time": "2022-03-04T10:24:08.082Z"
   },
   {
    "duration": -379,
    "start_time": "2022-03-04T10:24:08.087Z"
   },
   {
    "duration": -384,
    "start_time": "2022-03-04T10:24:08.093Z"
   },
   {
    "duration": -387,
    "start_time": "2022-03-04T10:24:08.098Z"
   },
   {
    "duration": -391,
    "start_time": "2022-03-04T10:24:08.103Z"
   },
   {
    "duration": -395,
    "start_time": "2022-03-04T10:24:08.108Z"
   },
   {
    "duration": -399,
    "start_time": "2022-03-04T10:24:08.114Z"
   },
   {
    "duration": -410,
    "start_time": "2022-03-04T10:24:08.126Z"
   },
   {
    "duration": -414,
    "start_time": "2022-03-04T10:24:08.132Z"
   },
   {
    "duration": -418,
    "start_time": "2022-03-04T10:24:08.137Z"
   },
   {
    "duration": -423,
    "start_time": "2022-03-04T10:24:08.143Z"
   },
   {
    "duration": -427,
    "start_time": "2022-03-04T10:24:08.148Z"
   },
   {
    "duration": -431,
    "start_time": "2022-03-04T10:24:08.154Z"
   },
   {
    "duration": -435,
    "start_time": "2022-03-04T10:24:08.159Z"
   },
   {
    "duration": -439,
    "start_time": "2022-03-04T10:24:08.165Z"
   },
   {
    "duration": -443,
    "start_time": "2022-03-04T10:24:08.170Z"
   },
   {
    "duration": -447,
    "start_time": "2022-03-04T10:24:08.176Z"
   },
   {
    "duration": 33,
    "start_time": "2022-03-04T10:25:40.168Z"
   },
   {
    "duration": 1132,
    "start_time": "2022-03-04T10:25:42.441Z"
   },
   {
    "duration": 43,
    "start_time": "2022-03-04T10:25:45.287Z"
   },
   {
    "duration": 309,
    "start_time": "2022-03-04T10:25:47.022Z"
   },
   {
    "duration": 331,
    "start_time": "2022-03-04T10:29:52.627Z"
   },
   {
    "duration": 1540,
    "start_time": "2022-03-04T10:32:05.593Z"
   },
   {
    "duration": 194,
    "start_time": "2022-03-04T10:32:07.137Z"
   },
   {
    "duration": 137,
    "start_time": "2022-03-04T10:32:07.336Z"
   },
   {
    "duration": 26,
    "start_time": "2022-03-04T10:32:07.477Z"
   },
   {
    "duration": 53,
    "start_time": "2022-03-04T10:32:07.506Z"
   },
   {
    "duration": 208,
    "start_time": "2022-03-04T10:32:07.562Z"
   },
   {
    "duration": 8,
    "start_time": "2022-03-04T10:32:07.773Z"
   },
   {
    "duration": 180,
    "start_time": "2022-03-04T10:32:07.785Z"
   },
   {
    "duration": 9,
    "start_time": "2022-03-04T10:32:07.968Z"
   },
   {
    "duration": 15,
    "start_time": "2022-03-04T10:32:07.980Z"
   },
   {
    "duration": 106,
    "start_time": "2022-03-04T10:32:07.997Z"
   },
   {
    "duration": 130,
    "start_time": "2022-03-04T10:32:08.105Z"
   },
   {
    "duration": 130,
    "start_time": "2022-03-04T10:32:08.238Z"
   },
   {
    "duration": 42,
    "start_time": "2022-03-04T10:32:08.371Z"
   },
   {
    "duration": 46,
    "start_time": "2022-03-04T10:32:08.416Z"
   },
   {
    "duration": 25,
    "start_time": "2022-03-04T10:32:08.465Z"
   },
   {
    "duration": 30,
    "start_time": "2022-03-04T10:32:08.493Z"
   },
   {
    "duration": 65,
    "start_time": "2022-03-04T10:32:08.525Z"
   },
   {
    "duration": 9,
    "start_time": "2022-03-04T10:32:08.592Z"
   },
   {
    "duration": 7,
    "start_time": "2022-03-04T10:32:08.603Z"
   },
   {
    "duration": 354,
    "start_time": "2022-03-04T10:32:08.612Z"
   },
   {
    "duration": 53,
    "start_time": "2022-03-04T10:32:08.968Z"
   },
   {
    "duration": 546,
    "start_time": "2022-03-04T10:32:09.026Z"
   },
   {
    "duration": -364,
    "start_time": "2022-03-04T10:32:09.940Z"
   },
   {
    "duration": -367,
    "start_time": "2022-03-04T10:32:09.945Z"
   },
   {
    "duration": -372,
    "start_time": "2022-03-04T10:32:09.951Z"
   },
   {
    "duration": -376,
    "start_time": "2022-03-04T10:32:09.956Z"
   },
   {
    "duration": -379,
    "start_time": "2022-03-04T10:32:09.961Z"
   },
   {
    "duration": -383,
    "start_time": "2022-03-04T10:32:09.966Z"
   },
   {
    "duration": -387,
    "start_time": "2022-03-04T10:32:09.972Z"
   },
   {
    "duration": -392,
    "start_time": "2022-03-04T10:32:09.978Z"
   },
   {
    "duration": -396,
    "start_time": "2022-03-04T10:32:09.983Z"
   },
   {
    "duration": -400,
    "start_time": "2022-03-04T10:32:09.989Z"
   },
   {
    "duration": -405,
    "start_time": "2022-03-04T10:32:09.995Z"
   },
   {
    "duration": -408,
    "start_time": "2022-03-04T10:32:09.999Z"
   },
   {
    "duration": -412,
    "start_time": "2022-03-04T10:32:10.005Z"
   },
   {
    "duration": -425,
    "start_time": "2022-03-04T10:32:10.019Z"
   },
   {
    "duration": -430,
    "start_time": "2022-03-04T10:32:10.025Z"
   },
   {
    "duration": -433,
    "start_time": "2022-03-04T10:32:10.030Z"
   },
   {
    "duration": -437,
    "start_time": "2022-03-04T10:32:10.035Z"
   },
   {
    "duration": -442,
    "start_time": "2022-03-04T10:32:10.041Z"
   },
   {
    "duration": -445,
    "start_time": "2022-03-04T10:32:10.046Z"
   },
   {
    "duration": -448,
    "start_time": "2022-03-04T10:32:10.050Z"
   },
   {
    "duration": -454,
    "start_time": "2022-03-04T10:32:10.057Z"
   },
   {
    "duration": -456,
    "start_time": "2022-03-04T10:32:10.061Z"
   },
   {
    "duration": -460,
    "start_time": "2022-03-04T10:32:10.066Z"
   },
   {
    "duration": -466,
    "start_time": "2022-03-04T10:32:10.074Z"
   },
   {
    "duration": 1015,
    "start_time": "2022-03-04T10:32:35.827Z"
   },
   {
    "duration": 333,
    "start_time": "2022-03-04T10:33:15.891Z"
   },
   {
    "duration": 1625,
    "start_time": "2022-03-04T10:33:59.616Z"
   },
   {
    "duration": 197,
    "start_time": "2022-03-04T10:34:01.244Z"
   },
   {
    "duration": 147,
    "start_time": "2022-03-04T10:34:01.443Z"
   },
   {
    "duration": 25,
    "start_time": "2022-03-04T10:34:01.594Z"
   },
   {
    "duration": 48,
    "start_time": "2022-03-04T10:34:01.623Z"
   },
   {
    "duration": 215,
    "start_time": "2022-03-04T10:34:01.674Z"
   },
   {
    "duration": 7,
    "start_time": "2022-03-04T10:34:01.892Z"
   },
   {
    "duration": 175,
    "start_time": "2022-03-04T10:34:01.902Z"
   },
   {
    "duration": 10,
    "start_time": "2022-03-04T10:34:02.079Z"
   },
   {
    "duration": 14,
    "start_time": "2022-03-04T10:34:02.091Z"
   },
   {
    "duration": 93,
    "start_time": "2022-03-04T10:34:02.107Z"
   },
   {
    "duration": 120,
    "start_time": "2022-03-04T10:34:02.202Z"
   },
   {
    "duration": 128,
    "start_time": "2022-03-04T10:34:02.325Z"
   },
   {
    "duration": 44,
    "start_time": "2022-03-04T10:34:02.455Z"
   },
   {
    "duration": 26,
    "start_time": "2022-03-04T10:34:02.501Z"
   },
   {
    "duration": 26,
    "start_time": "2022-03-04T10:34:02.551Z"
   },
   {
    "duration": 32,
    "start_time": "2022-03-04T10:34:02.579Z"
   },
   {
    "duration": 65,
    "start_time": "2022-03-04T10:34:02.613Z"
   },
   {
    "duration": 9,
    "start_time": "2022-03-04T10:34:02.680Z"
   },
   {
    "duration": 6,
    "start_time": "2022-03-04T10:34:02.692Z"
   },
   {
    "duration": 359,
    "start_time": "2022-03-04T10:34:02.700Z"
   },
   {
    "duration": 51,
    "start_time": "2022-03-04T10:34:03.061Z"
   },
   {
    "duration": 353,
    "start_time": "2022-03-04T10:34:03.117Z"
   },
   {
    "duration": 32,
    "start_time": "2022-03-04T10:34:03.473Z"
   },
   {
    "duration": 1173,
    "start_time": "2022-03-04T10:34:03.507Z"
   },
   {
    "duration": 53,
    "start_time": "2022-03-04T10:34:04.682Z"
   },
   {
    "duration": 480,
    "start_time": "2022-03-04T10:34:04.752Z"
   },
   {
    "duration": 6,
    "start_time": "2022-03-04T10:34:05.235Z"
   },
   {
    "duration": 37,
    "start_time": "2022-03-04T10:34:05.244Z"
   },
   {
    "duration": 15,
    "start_time": "2022-03-04T10:34:05.284Z"
   },
   {
    "duration": 221,
    "start_time": "2022-03-04T10:34:05.302Z"
   },
   {
    "duration": 25,
    "start_time": "2022-03-04T10:34:05.526Z"
   },
   {
    "duration": 551,
    "start_time": "2022-03-04T10:34:05.554Z"
   },
   {
    "duration": 544,
    "start_time": "2022-03-04T10:34:06.107Z"
   },
   {
    "duration": 422,
    "start_time": "2022-03-04T10:34:06.654Z"
   },
   {
    "duration": 9,
    "start_time": "2022-03-04T10:34:07.079Z"
   },
   {
    "duration": 21,
    "start_time": "2022-03-04T10:34:07.091Z"
   },
   {
    "duration": 50,
    "start_time": "2022-03-04T10:34:07.115Z"
   },
   {
    "duration": 487,
    "start_time": "2022-03-04T10:34:07.167Z"
   },
   {
    "duration": 517,
    "start_time": "2022-03-04T10:34:07.657Z"
   },
   {
    "duration": 508,
    "start_time": "2022-03-04T10:34:08.177Z"
   },
   {
    "duration": 11,
    "start_time": "2022-03-04T10:34:08.687Z"
   },
   {
    "duration": 9,
    "start_time": "2022-03-04T10:34:08.701Z"
   },
   {
    "duration": 38,
    "start_time": "2022-03-04T10:34:08.713Z"
   },
   {
    "duration": 21,
    "start_time": "2022-03-04T10:34:08.753Z"
   },
   {
    "duration": 12,
    "start_time": "2022-03-04T10:34:08.776Z"
   },
   {
    "duration": 6,
    "start_time": "2022-03-04T10:34:08.790Z"
   },
   {
    "duration": 6,
    "start_time": "2022-03-04T11:55:17.760Z"
   },
   {
    "duration": 6,
    "start_time": "2022-03-04T11:55:21.449Z"
   },
   {
    "duration": 356,
    "start_time": "2022-03-04T11:56:53.804Z"
   },
   {
    "duration": 12,
    "start_time": "2022-03-04T11:57:37.034Z"
   },
   {
    "duration": 9,
    "start_time": "2022-03-04T12:03:32.557Z"
   },
   {
    "duration": 6,
    "start_time": "2022-03-04T13:31:10.532Z"
   },
   {
    "duration": 144,
    "start_time": "2022-03-04T13:38:03.757Z"
   },
   {
    "duration": 10,
    "start_time": "2022-03-04T13:38:12.916Z"
   },
   {
    "duration": 10,
    "start_time": "2022-03-04T13:38:21.653Z"
   },
   {
    "duration": 129,
    "start_time": "2022-03-04T13:38:28.269Z"
   },
   {
    "duration": 10,
    "start_time": "2022-03-04T13:38:31.397Z"
   },
   {
    "duration": 10,
    "start_time": "2022-03-04T13:38:33.636Z"
   },
   {
    "duration": 64,
    "start_time": "2022-03-04T13:38:49.525Z"
   },
   {
    "duration": 98,
    "start_time": "2022-03-04T13:40:18.006Z"
   },
   {
    "duration": 116,
    "start_time": "2022-03-04T13:40:39.326Z"
   },
   {
    "duration": 13,
    "start_time": "2022-03-04T13:45:00.302Z"
   },
   {
    "duration": 235,
    "start_time": "2022-03-04T13:45:11.372Z"
   },
   {
    "duration": 1552,
    "start_time": "2022-03-04T13:45:32.566Z"
   },
   {
    "duration": 196,
    "start_time": "2022-03-04T13:45:34.121Z"
   },
   {
    "duration": 143,
    "start_time": "2022-03-04T13:45:34.320Z"
   },
   {
    "duration": 26,
    "start_time": "2022-03-04T13:45:34.466Z"
   },
   {
    "duration": 57,
    "start_time": "2022-03-04T13:45:34.494Z"
   },
   {
    "duration": 195,
    "start_time": "2022-03-04T13:45:34.553Z"
   },
   {
    "duration": 7,
    "start_time": "2022-03-04T13:45:34.750Z"
   },
   {
    "duration": 171,
    "start_time": "2022-03-04T13:45:34.761Z"
   },
   {
    "duration": 17,
    "start_time": "2022-03-04T13:45:34.936Z"
   },
   {
    "duration": 10,
    "start_time": "2022-03-04T13:45:34.956Z"
   },
   {
    "duration": 110,
    "start_time": "2022-03-04T13:45:34.968Z"
   },
   {
    "duration": 119,
    "start_time": "2022-03-04T13:45:35.080Z"
   },
   {
    "duration": 129,
    "start_time": "2022-03-04T13:45:35.201Z"
   },
   {
    "duration": 49,
    "start_time": "2022-03-04T13:45:35.332Z"
   },
   {
    "duration": 24,
    "start_time": "2022-03-04T13:45:35.384Z"
   },
   {
    "duration": 56,
    "start_time": "2022-03-04T13:45:35.411Z"
   },
   {
    "duration": 30,
    "start_time": "2022-03-04T13:45:35.469Z"
   },
   {
    "duration": 66,
    "start_time": "2022-03-04T13:45:35.501Z"
   },
   {
    "duration": 9,
    "start_time": "2022-03-04T13:45:35.569Z"
   },
   {
    "duration": 7,
    "start_time": "2022-03-04T13:45:35.580Z"
   },
   {
    "duration": 349,
    "start_time": "2022-03-04T13:45:35.590Z"
   },
   {
    "duration": 54,
    "start_time": "2022-03-04T13:45:35.942Z"
   },
   {
    "duration": 343,
    "start_time": "2022-03-04T13:45:36.001Z"
   },
   {
    "duration": 33,
    "start_time": "2022-03-04T13:45:36.351Z"
   },
   {
    "duration": 1223,
    "start_time": "2022-03-04T13:45:36.387Z"
   },
   {
    "duration": 60,
    "start_time": "2022-03-04T13:45:37.614Z"
   },
   {
    "duration": 357,
    "start_time": "2022-03-04T13:45:37.676Z"
   },
   {
    "duration": 17,
    "start_time": "2022-03-04T13:45:38.035Z"
   },
   {
    "duration": 24,
    "start_time": "2022-03-04T13:45:38.054Z"
   },
   {
    "duration": 12,
    "start_time": "2022-03-04T13:45:38.081Z"
   },
   {
    "duration": 57,
    "start_time": "2022-03-04T13:45:38.095Z"
   },
   {
    "duration": 168,
    "start_time": "2022-03-04T13:45:38.154Z"
   },
   {
    "duration": 9,
    "start_time": "2022-03-04T13:45:38.324Z"
   },
   {
    "duration": 421,
    "start_time": "2022-03-04T13:45:38.335Z"
   },
   {
    "duration": 462,
    "start_time": "2022-03-04T13:45:38.759Z"
   },
   {
    "duration": 401,
    "start_time": "2022-03-04T13:45:39.224Z"
   },
   {
    "duration": 10,
    "start_time": "2022-03-04T13:45:39.627Z"
   },
   {
    "duration": 17,
    "start_time": "2022-03-04T13:45:39.651Z"
   },
   {
    "duration": 17,
    "start_time": "2022-03-04T13:45:39.671Z"
   },
   {
    "duration": 508,
    "start_time": "2022-03-04T13:45:39.690Z"
   },
   {
    "duration": 495,
    "start_time": "2022-03-04T13:45:40.201Z"
   },
   {
    "duration": 509,
    "start_time": "2022-03-04T13:45:40.699Z"
   },
   {
    "duration": 11,
    "start_time": "2022-03-04T13:45:41.210Z"
   },
   {
    "duration": 30,
    "start_time": "2022-03-04T13:45:41.223Z"
   },
   {
    "duration": 6,
    "start_time": "2022-03-04T13:45:41.256Z"
   },
   {
    "duration": 20,
    "start_time": "2022-03-04T13:45:41.264Z"
   },
   {
    "duration": 9,
    "start_time": "2022-03-04T13:45:41.286Z"
   },
   {
    "duration": 54,
    "start_time": "2022-03-04T13:45:41.297Z"
   },
   {
    "duration": 1559,
    "start_time": "2022-03-04T13:51:00.492Z"
   },
   {
    "duration": 202,
    "start_time": "2022-03-04T13:51:02.054Z"
   },
   {
    "duration": 146,
    "start_time": "2022-03-04T13:51:02.259Z"
   },
   {
    "duration": 26,
    "start_time": "2022-03-04T13:51:02.408Z"
   },
   {
    "duration": 50,
    "start_time": "2022-03-04T13:51:02.452Z"
   },
   {
    "duration": 199,
    "start_time": "2022-03-04T13:51:02.505Z"
   },
   {
    "duration": 6,
    "start_time": "2022-03-04T13:51:02.707Z"
   },
   {
    "duration": 177,
    "start_time": "2022-03-04T13:51:02.717Z"
   },
   {
    "duration": 9,
    "start_time": "2022-03-04T13:51:02.898Z"
   },
   {
    "duration": 13,
    "start_time": "2022-03-04T13:51:02.909Z"
   },
   {
    "duration": 99,
    "start_time": "2022-03-04T13:51:02.925Z"
   },
   {
    "duration": 98,
    "start_time": "2022-03-04T13:51:03.026Z"
   },
   {
    "duration": 139,
    "start_time": "2022-03-04T13:51:03.127Z"
   },
   {
    "duration": 170,
    "start_time": "2022-03-04T13:51:03.270Z"
   },
   {
    "duration": 126,
    "start_time": "2022-03-04T13:51:03.443Z"
   },
   {
    "duration": 122,
    "start_time": "2022-03-04T13:51:03.572Z"
   },
   {
    "duration": 36,
    "start_time": "2022-03-04T13:51:03.696Z"
   },
   {
    "duration": 26,
    "start_time": "2022-03-04T13:51:03.750Z"
   },
   {
    "duration": 24,
    "start_time": "2022-03-04T13:51:03.779Z"
   },
   {
    "duration": 63,
    "start_time": "2022-03-04T13:51:03.806Z"
   },
   {
    "duration": 37,
    "start_time": "2022-03-04T13:51:03.872Z"
   },
   {
    "duration": 39,
    "start_time": "2022-03-04T13:51:03.911Z"
   },
   {
    "duration": 6,
    "start_time": "2022-03-04T13:51:03.956Z"
   },
   {
    "duration": 349,
    "start_time": "2022-03-04T13:51:03.965Z"
   },
   {
    "duration": 67,
    "start_time": "2022-03-04T13:51:04.316Z"
   },
   {
    "duration": 351,
    "start_time": "2022-03-04T13:51:04.386Z"
   },
   {
    "duration": 37,
    "start_time": "2022-03-04T13:51:04.740Z"
   },
   {
    "duration": 1191,
    "start_time": "2022-03-04T13:51:04.780Z"
   },
   {
    "duration": 41,
    "start_time": "2022-03-04T13:51:05.973Z"
   },
   {
    "duration": 328,
    "start_time": "2022-03-04T13:51:06.017Z"
   },
   {
    "duration": 7,
    "start_time": "2022-03-04T13:51:06.352Z"
   },
   {
    "duration": 30,
    "start_time": "2022-03-04T13:51:06.362Z"
   },
   {
    "duration": 60,
    "start_time": "2022-03-04T13:51:06.395Z"
   },
   {
    "duration": 14,
    "start_time": "2022-03-04T13:51:06.458Z"
   },
   {
    "duration": 167,
    "start_time": "2022-03-04T13:51:06.475Z"
   },
   {
    "duration": 10,
    "start_time": "2022-03-04T13:51:06.650Z"
   },
   {
    "duration": 432,
    "start_time": "2022-03-04T13:51:06.663Z"
   },
   {
    "duration": 464,
    "start_time": "2022-03-04T13:51:07.098Z"
   },
   {
    "duration": 402,
    "start_time": "2022-03-04T13:51:07.564Z"
   },
   {
    "duration": 10,
    "start_time": "2022-03-04T13:51:07.969Z"
   },
   {
    "duration": 17,
    "start_time": "2022-03-04T13:51:07.982Z"
   },
   {
    "duration": 59,
    "start_time": "2022-03-04T13:51:08.002Z"
   },
   {
    "duration": 491,
    "start_time": "2022-03-04T13:51:08.063Z"
   },
   {
    "duration": 540,
    "start_time": "2022-03-04T13:51:08.556Z"
   },
   {
    "duration": 501,
    "start_time": "2022-03-04T13:51:09.098Z"
   },
   {
    "duration": 12,
    "start_time": "2022-03-04T13:51:09.601Z"
   },
   {
    "duration": 39,
    "start_time": "2022-03-04T13:51:09.615Z"
   },
   {
    "duration": 6,
    "start_time": "2022-03-04T13:51:09.657Z"
   },
   {
    "duration": 18,
    "start_time": "2022-03-04T13:51:09.666Z"
   },
   {
    "duration": 11,
    "start_time": "2022-03-04T13:51:09.687Z"
   },
   {
    "duration": 53,
    "start_time": "2022-03-04T13:51:09.700Z"
   },
   {
    "duration": 62,
    "start_time": "2022-03-04T13:53:24.735Z"
   },
   {
    "duration": 94,
    "start_time": "2022-03-04T13:53:35.170Z"
   },
   {
    "duration": 104,
    "start_time": "2022-03-04T13:53:38.513Z"
   },
   {
    "duration": 11,
    "start_time": "2022-03-04T13:56:57.824Z"
   },
   {
    "duration": 9,
    "start_time": "2022-03-04T13:57:00.664Z"
   },
   {
    "duration": 363,
    "start_time": "2022-03-04T13:57:11.441Z"
   },
   {
    "duration": 250,
    "start_time": "2022-03-04T13:57:17.376Z"
   },
   {
    "duration": 27,
    "start_time": "2022-03-04T13:58:51.011Z"
   },
   {
    "duration": 413,
    "start_time": "2022-03-04T14:01:42.601Z"
   },
   {
    "duration": 468,
    "start_time": "2022-03-04T14:01:52.383Z"
   },
   {
    "duration": 391,
    "start_time": "2022-03-04T14:02:26.080Z"
   },
   {
    "duration": 1545,
    "start_time": "2022-03-04T14:02:55.463Z"
   },
   {
    "duration": 191,
    "start_time": "2022-03-04T14:02:57.011Z"
   },
   {
    "duration": 139,
    "start_time": "2022-03-04T14:02:57.204Z"
   },
   {
    "duration": 28,
    "start_time": "2022-03-04T14:02:57.346Z"
   },
   {
    "duration": 47,
    "start_time": "2022-03-04T14:02:57.377Z"
   },
   {
    "duration": 217,
    "start_time": "2022-03-04T14:02:57.427Z"
   },
   {
    "duration": 11,
    "start_time": "2022-03-04T14:02:57.647Z"
   },
   {
    "duration": 176,
    "start_time": "2022-03-04T14:02:57.662Z"
   },
   {
    "duration": 14,
    "start_time": "2022-03-04T14:02:57.841Z"
   },
   {
    "duration": 10,
    "start_time": "2022-03-04T14:02:57.857Z"
   },
   {
    "duration": 104,
    "start_time": "2022-03-04T14:02:57.870Z"
   },
   {
    "duration": 91,
    "start_time": "2022-03-04T14:02:57.976Z"
   },
   {
    "duration": 121,
    "start_time": "2022-03-04T14:02:58.070Z"
   },
   {
    "duration": 115,
    "start_time": "2022-03-04T14:02:58.194Z"
   },
   {
    "duration": 129,
    "start_time": "2022-03-04T14:02:58.312Z"
   },
   {
    "duration": 120,
    "start_time": "2022-03-04T14:02:58.443Z"
   },
   {
    "duration": 36,
    "start_time": "2022-03-04T14:02:58.565Z"
   },
   {
    "duration": 54,
    "start_time": "2022-03-04T14:02:58.603Z"
   },
   {
    "duration": 25,
    "start_time": "2022-03-04T14:02:58.659Z"
   },
   {
    "duration": 27,
    "start_time": "2022-03-04T14:02:58.686Z"
   },
   {
    "duration": 69,
    "start_time": "2022-03-04T14:02:58.715Z"
   },
   {
    "duration": 9,
    "start_time": "2022-03-04T14:02:58.787Z"
   },
   {
    "duration": 6,
    "start_time": "2022-03-04T14:02:58.805Z"
   },
   {
    "duration": 336,
    "start_time": "2022-03-04T14:02:58.852Z"
   },
   {
    "duration": 73,
    "start_time": "2022-03-04T14:02:59.191Z"
   },
   {
    "duration": 361,
    "start_time": "2022-03-04T14:02:59.267Z"
   },
   {
    "duration": 43,
    "start_time": "2022-03-04T14:02:59.630Z"
   },
   {
    "duration": 1161,
    "start_time": "2022-03-04T14:02:59.675Z"
   },
   {
    "duration": 52,
    "start_time": "2022-03-04T14:03:00.838Z"
   },
   {
    "duration": 330,
    "start_time": "2022-03-04T14:03:00.893Z"
   },
   {
    "duration": 6,
    "start_time": "2022-03-04T14:03:01.225Z"
   },
   {
    "duration": 26,
    "start_time": "2022-03-04T14:03:01.251Z"
   },
   {
    "duration": 11,
    "start_time": "2022-03-04T14:03:01.279Z"
   },
   {
    "duration": 11,
    "start_time": "2022-03-04T14:03:01.293Z"
   },
   {
    "duration": 184,
    "start_time": "2022-03-04T14:03:01.307Z"
   },
   {
    "duration": 10,
    "start_time": "2022-03-04T14:03:01.493Z"
   },
   {
    "duration": 435,
    "start_time": "2022-03-04T14:03:01.506Z"
   },
   {
    "duration": 410,
    "start_time": "2022-03-04T14:03:01.944Z"
   },
   {
    "duration": 464,
    "start_time": "2022-03-04T14:03:02.356Z"
   },
   {
    "duration": 419,
    "start_time": "2022-03-04T14:03:02.823Z"
   },
   {
    "duration": 10,
    "start_time": "2022-03-04T14:03:03.251Z"
   },
   {
    "duration": 19,
    "start_time": "2022-03-04T14:03:03.263Z"
   },
   {
    "duration": 19,
    "start_time": "2022-03-04T14:03:03.285Z"
   },
   {
    "duration": 519,
    "start_time": "2022-03-04T14:03:03.307Z"
   },
   {
    "duration": 507,
    "start_time": "2022-03-04T14:03:03.830Z"
   },
   {
    "duration": 491,
    "start_time": "2022-03-04T14:03:04.339Z"
   },
   {
    "duration": 20,
    "start_time": "2022-03-04T14:03:04.832Z"
   },
   {
    "duration": 25,
    "start_time": "2022-03-04T14:03:04.855Z"
   },
   {
    "duration": 9,
    "start_time": "2022-03-04T14:03:04.882Z"
   },
   {
    "duration": 27,
    "start_time": "2022-03-04T14:03:04.893Z"
   },
   {
    "duration": 103,
    "start_time": "2022-03-04T14:03:04.922Z"
   },
   {
    "duration": 6,
    "start_time": "2022-03-04T14:03:05.028Z"
   },
   {
    "duration": 377,
    "start_time": "2022-03-04T14:03:12.007Z"
   },
   {
    "duration": 398,
    "start_time": "2022-03-04T14:03:20.887Z"
   },
   {
    "duration": 450,
    "start_time": "2022-03-04T14:03:54.384Z"
   },
   {
    "duration": 394,
    "start_time": "2022-03-04T14:04:07.808Z"
   },
   {
    "duration": 382,
    "start_time": "2022-03-04T14:04:37.552Z"
   },
   {
    "duration": 10,
    "start_time": "2022-03-04T14:05:50.911Z"
   },
   {
    "duration": 18,
    "start_time": "2022-03-04T14:07:31.000Z"
   },
   {
    "duration": 17,
    "start_time": "2022-03-04T14:10:27.566Z"
   },
   {
    "duration": 3923,
    "start_time": "2022-03-04T14:20:54.676Z"
   },
   {
    "duration": 4048,
    "start_time": "2022-03-04T14:21:59.580Z"
   },
   {
    "duration": 1531,
    "start_time": "2022-03-04T14:23:03.690Z"
   },
   {
    "duration": 198,
    "start_time": "2022-03-04T14:23:05.224Z"
   },
   {
    "duration": 147,
    "start_time": "2022-03-04T14:23:05.425Z"
   },
   {
    "duration": 28,
    "start_time": "2022-03-04T14:23:05.575Z"
   },
   {
    "duration": 59,
    "start_time": "2022-03-04T14:23:05.607Z"
   },
   {
    "duration": 210,
    "start_time": "2022-03-04T14:23:05.669Z"
   },
   {
    "duration": 7,
    "start_time": "2022-03-04T14:23:05.883Z"
   },
   {
    "duration": 184,
    "start_time": "2022-03-04T14:23:05.896Z"
   },
   {
    "duration": 12,
    "start_time": "2022-03-04T14:23:06.085Z"
   },
   {
    "duration": 23,
    "start_time": "2022-03-04T14:23:06.100Z"
   },
   {
    "duration": 94,
    "start_time": "2022-03-04T14:23:06.126Z"
   },
   {
    "duration": 98,
    "start_time": "2022-03-04T14:23:06.223Z"
   },
   {
    "duration": 137,
    "start_time": "2022-03-04T14:23:06.324Z"
   },
   {
    "duration": 111,
    "start_time": "2022-03-04T14:23:06.464Z"
   },
   {
    "duration": 124,
    "start_time": "2022-03-04T14:23:06.578Z"
   },
   {
    "duration": 150,
    "start_time": "2022-03-04T14:23:06.704Z"
   },
   {
    "duration": 47,
    "start_time": "2022-03-04T14:23:06.857Z"
   },
   {
    "duration": 55,
    "start_time": "2022-03-04T14:23:06.906Z"
   },
   {
    "duration": 25,
    "start_time": "2022-03-04T14:23:06.963Z"
   },
   {
    "duration": 62,
    "start_time": "2022-03-04T14:23:06.991Z"
   },
   {
    "duration": 40,
    "start_time": "2022-03-04T14:23:07.056Z"
   },
   {
    "duration": 9,
    "start_time": "2022-03-04T14:23:07.099Z"
   },
   {
    "duration": 7,
    "start_time": "2022-03-04T14:23:07.151Z"
   },
   {
    "duration": 332,
    "start_time": "2022-03-04T14:23:07.161Z"
   },
   {
    "duration": 67,
    "start_time": "2022-03-04T14:23:07.495Z"
   },
   {
    "duration": 1506,
    "start_time": "2022-03-04T14:23:07.564Z"
   },
   {
    "duration": -157,
    "start_time": "2022-03-04T14:23:09.229Z"
   },
   {
    "duration": -163,
    "start_time": "2022-03-04T14:23:09.237Z"
   },
   {
    "duration": -172,
    "start_time": "2022-03-04T14:23:09.247Z"
   },
   {
    "duration": -177,
    "start_time": "2022-03-04T14:23:09.254Z"
   },
   {
    "duration": -185,
    "start_time": "2022-03-04T14:23:09.263Z"
   },
   {
    "duration": -190,
    "start_time": "2022-03-04T14:23:09.270Z"
   },
   {
    "duration": -197,
    "start_time": "2022-03-04T14:23:09.278Z"
   },
   {
    "duration": -202,
    "start_time": "2022-03-04T14:23:09.285Z"
   },
   {
    "duration": -209,
    "start_time": "2022-03-04T14:23:09.293Z"
   },
   {
    "duration": -214,
    "start_time": "2022-03-04T14:23:09.300Z"
   },
   {
    "duration": -228,
    "start_time": "2022-03-04T14:23:09.315Z"
   },
   {
    "duration": -240,
    "start_time": "2022-03-04T14:23:09.329Z"
   },
   {
    "duration": -247,
    "start_time": "2022-03-04T14:23:09.337Z"
   },
   {
    "duration": -252,
    "start_time": "2022-03-04T14:23:09.344Z"
   },
   {
    "duration": -260,
    "start_time": "2022-03-04T14:23:09.353Z"
   },
   {
    "duration": -265,
    "start_time": "2022-03-04T14:23:09.360Z"
   },
   {
    "duration": -272,
    "start_time": "2022-03-04T14:23:09.368Z"
   },
   {
    "duration": -278,
    "start_time": "2022-03-04T14:23:09.375Z"
   },
   {
    "duration": -284,
    "start_time": "2022-03-04T14:23:09.383Z"
   },
   {
    "duration": -290,
    "start_time": "2022-03-04T14:23:09.390Z"
   },
   {
    "duration": -296,
    "start_time": "2022-03-04T14:23:09.398Z"
   },
   {
    "duration": -302,
    "start_time": "2022-03-04T14:23:09.405Z"
   },
   {
    "duration": -308,
    "start_time": "2022-03-04T14:23:09.412Z"
   },
   {
    "duration": -313,
    "start_time": "2022-03-04T14:23:09.419Z"
   },
   {
    "duration": -275,
    "start_time": "2022-03-04T14:23:09.427Z"
   },
   {
    "duration": -289,
    "start_time": "2022-03-04T14:23:09.442Z"
   },
   {
    "duration": -297,
    "start_time": "2022-03-04T14:23:09.452Z"
   },
   {
    "duration": -303,
    "start_time": "2022-03-04T14:23:09.459Z"
   },
   {
    "duration": -311,
    "start_time": "2022-03-04T14:23:09.469Z"
   },
   {
    "duration": -317,
    "start_time": "2022-03-04T14:23:09.476Z"
   },
   {
    "duration": -324,
    "start_time": "2022-03-04T14:23:09.484Z"
   },
   {
    "duration": 315,
    "start_time": "2022-03-04T14:23:55.178Z"
   },
   {
    "duration": 1671,
    "start_time": "2022-03-04T14:24:06.050Z"
   },
   {
    "duration": 194,
    "start_time": "2022-03-04T14:24:07.723Z"
   },
   {
    "duration": 143,
    "start_time": "2022-03-04T14:24:07.920Z"
   },
   {
    "duration": 26,
    "start_time": "2022-03-04T14:24:08.065Z"
   },
   {
    "duration": 58,
    "start_time": "2022-03-04T14:24:08.093Z"
   },
   {
    "duration": 194,
    "start_time": "2022-03-04T14:24:08.153Z"
   },
   {
    "duration": 5,
    "start_time": "2022-03-04T14:24:08.350Z"
   },
   {
    "duration": 175,
    "start_time": "2022-03-04T14:24:08.359Z"
   },
   {
    "duration": 17,
    "start_time": "2022-03-04T14:24:08.537Z"
   },
   {
    "duration": 10,
    "start_time": "2022-03-04T14:24:08.557Z"
   },
   {
    "duration": 98,
    "start_time": "2022-03-04T14:24:08.569Z"
   },
   {
    "duration": 88,
    "start_time": "2022-03-04T14:24:08.669Z"
   },
   {
    "duration": 120,
    "start_time": "2022-03-04T14:24:08.760Z"
   },
   {
    "duration": 115,
    "start_time": "2022-03-04T14:24:08.882Z"
   },
   {
    "duration": 129,
    "start_time": "2022-03-04T14:24:08.999Z"
   },
   {
    "duration": 122,
    "start_time": "2022-03-04T14:24:09.131Z"
   },
   {
    "duration": 38,
    "start_time": "2022-03-04T14:24:09.255Z"
   },
   {
    "duration": 27,
    "start_time": "2022-03-04T14:24:09.295Z"
   },
   {
    "duration": 24,
    "start_time": "2022-03-04T14:24:09.352Z"
   },
   {
    "duration": 28,
    "start_time": "2022-03-04T14:24:09.379Z"
   },
   {
    "duration": 79,
    "start_time": "2022-03-04T14:24:09.410Z"
   },
   {
    "duration": 9,
    "start_time": "2022-03-04T14:24:09.492Z"
   },
   {
    "duration": 6,
    "start_time": "2022-03-04T14:24:09.506Z"
   },
   {
    "duration": 353,
    "start_time": "2022-03-04T14:24:09.515Z"
   },
   {
    "duration": 51,
    "start_time": "2022-03-04T14:24:09.870Z"
   },
   {
    "duration": 365,
    "start_time": "2022-03-04T14:24:09.923Z"
   },
   {
    "duration": 34,
    "start_time": "2022-03-04T14:24:10.290Z"
   },
   {
    "duration": 1253,
    "start_time": "2022-03-04T14:24:10.326Z"
   },
   {
    "duration": 43,
    "start_time": "2022-03-04T14:24:11.581Z"
   },
   {
    "duration": 328,
    "start_time": "2022-03-04T14:24:11.627Z"
   },
   {
    "duration": 6,
    "start_time": "2022-03-04T14:24:11.958Z"
   },
   {
    "duration": 25,
    "start_time": "2022-03-04T14:24:11.967Z"
   },
   {
    "duration": 58,
    "start_time": "2022-03-04T14:24:11.995Z"
   },
   {
    "duration": 15,
    "start_time": "2022-03-04T14:24:12.056Z"
   },
   {
    "duration": 164,
    "start_time": "2022-03-04T14:24:12.073Z"
   },
   {
    "duration": 17,
    "start_time": "2022-03-04T14:24:12.239Z"
   },
   {
    "duration": 410,
    "start_time": "2022-03-04T14:24:12.260Z"
   },
   {
    "duration": 415,
    "start_time": "2022-03-04T14:24:12.672Z"
   },
   {
    "duration": 566,
    "start_time": "2022-03-04T14:24:13.090Z"
   },
   {
    "duration": 546,
    "start_time": "2022-03-04T14:24:13.658Z"
   },
   {
    "duration": 485,
    "start_time": "2022-03-04T14:24:14.207Z"
   },
   {
    "duration": 397,
    "start_time": "2022-03-04T14:24:14.694Z"
   },
   {
    "duration": 10,
    "start_time": "2022-03-04T14:24:15.094Z"
   },
   {
    "duration": 17,
    "start_time": "2022-03-04T14:24:15.107Z"
   },
   {
    "duration": 38,
    "start_time": "2022-03-04T14:24:15.127Z"
   },
   {
    "duration": 17,
    "start_time": "2022-03-04T14:24:15.168Z"
   },
   {
    "duration": 17,
    "start_time": "2022-03-04T14:24:15.187Z"
   },
   {
    "duration": 59,
    "start_time": "2022-03-04T14:24:15.206Z"
   },
   {
    "duration": 504,
    "start_time": "2022-03-04T14:24:15.267Z"
   },
   {
    "duration": 571,
    "start_time": "2022-03-04T14:24:15.773Z"
   },
   {
    "duration": 504,
    "start_time": "2022-03-04T14:24:16.347Z"
   },
   {
    "duration": 14,
    "start_time": "2022-03-04T14:24:16.854Z"
   },
   {
    "duration": 12,
    "start_time": "2022-03-04T14:24:16.871Z"
   },
   {
    "duration": 10,
    "start_time": "2022-03-04T14:24:16.886Z"
   },
   {
    "duration": 20,
    "start_time": "2022-03-04T14:24:16.951Z"
   },
   {
    "duration": 10,
    "start_time": "2022-03-04T14:24:16.974Z"
   },
   {
    "duration": 7,
    "start_time": "2022-03-04T14:24:16.987Z"
   },
   {
    "duration": 16,
    "start_time": "2022-03-04T14:28:27.136Z"
   },
   {
    "duration": 20,
    "start_time": "2022-03-04T14:31:18.023Z"
   },
   {
    "duration": 348,
    "start_time": "2022-03-04T14:31:28.753Z"
   },
   {
    "duration": 1542,
    "start_time": "2022-03-04T14:32:08.268Z"
   },
   {
    "duration": 198,
    "start_time": "2022-03-04T14:32:09.813Z"
   },
   {
    "duration": 140,
    "start_time": "2022-03-04T14:32:10.013Z"
   },
   {
    "duration": 28,
    "start_time": "2022-03-04T14:32:10.156Z"
   },
   {
    "duration": 44,
    "start_time": "2022-03-04T14:32:10.186Z"
   },
   {
    "duration": 215,
    "start_time": "2022-03-04T14:32:10.232Z"
   },
   {
    "duration": 5,
    "start_time": "2022-03-04T14:32:10.451Z"
   },
   {
    "duration": 171,
    "start_time": "2022-03-04T14:32:10.460Z"
   },
   {
    "duration": 20,
    "start_time": "2022-03-04T14:32:10.634Z"
   },
   {
    "duration": 10,
    "start_time": "2022-03-04T14:32:10.656Z"
   },
   {
    "duration": 107,
    "start_time": "2022-03-04T14:32:10.669Z"
   },
   {
    "duration": 88,
    "start_time": "2022-03-04T14:32:10.778Z"
   },
   {
    "duration": 118,
    "start_time": "2022-03-04T14:32:10.869Z"
   },
   {
    "duration": 117,
    "start_time": "2022-03-04T14:32:10.989Z"
   },
   {
    "duration": 133,
    "start_time": "2022-03-04T14:32:11.108Z"
   },
   {
    "duration": 122,
    "start_time": "2022-03-04T14:32:11.244Z"
   },
   {
    "duration": 36,
    "start_time": "2022-03-04T14:32:11.368Z"
   },
   {
    "duration": 49,
    "start_time": "2022-03-04T14:32:11.406Z"
   },
   {
    "duration": 27,
    "start_time": "2022-03-04T14:32:11.457Z"
   },
   {
    "duration": 69,
    "start_time": "2022-03-04T14:32:11.487Z"
   },
   {
    "duration": 39,
    "start_time": "2022-03-04T14:32:11.558Z"
   },
   {
    "duration": 9,
    "start_time": "2022-03-04T14:32:11.599Z"
   },
   {
    "duration": 39,
    "start_time": "2022-03-04T14:32:11.613Z"
   },
   {
    "duration": 328,
    "start_time": "2022-03-04T14:32:11.655Z"
   },
   {
    "duration": 72,
    "start_time": "2022-03-04T14:32:11.987Z"
   },
   {
    "duration": 348,
    "start_time": "2022-03-04T14:32:12.061Z"
   },
   {
    "duration": 50,
    "start_time": "2022-03-04T14:32:12.412Z"
   },
   {
    "duration": 1133,
    "start_time": "2022-03-04T14:32:12.465Z"
   },
   {
    "duration": 55,
    "start_time": "2022-03-04T14:32:13.600Z"
   },
   {
    "duration": 313,
    "start_time": "2022-03-04T14:32:13.657Z"
   },
   {
    "duration": 5,
    "start_time": "2022-03-04T14:32:13.973Z"
   },
   {
    "duration": 25,
    "start_time": "2022-03-04T14:32:13.981Z"
   },
   {
    "duration": 50,
    "start_time": "2022-03-04T14:32:14.008Z"
   },
   {
    "duration": 12,
    "start_time": "2022-03-04T14:32:14.061Z"
   },
   {
    "duration": 170,
    "start_time": "2022-03-04T14:32:14.076Z"
   },
   {
    "duration": 11,
    "start_time": "2022-03-04T14:32:14.252Z"
   },
   {
    "duration": 405,
    "start_time": "2022-03-04T14:32:14.265Z"
   },
   {
    "duration": 413,
    "start_time": "2022-03-04T14:32:14.672Z"
   },
   {
    "duration": 457,
    "start_time": "2022-03-04T14:32:15.087Z"
   },
   {
    "duration": 488,
    "start_time": "2022-03-04T14:32:15.547Z"
   },
   {
    "duration": 417,
    "start_time": "2022-03-04T14:32:16.037Z"
   },
   {
    "duration": 417,
    "start_time": "2022-03-04T14:32:16.456Z"
   },
   {
    "duration": 11,
    "start_time": "2022-03-04T14:32:16.875Z"
   },
   {
    "duration": 19,
    "start_time": "2022-03-04T14:32:16.888Z"
   },
   {
    "duration": 52,
    "start_time": "2022-03-04T14:32:16.909Z"
   },
   {
    "duration": 358,
    "start_time": "2022-03-04T14:32:16.964Z"
   },
   {
    "duration": -130,
    "start_time": "2022-03-04T14:32:17.455Z"
   },
   {
    "duration": -137,
    "start_time": "2022-03-04T14:32:17.464Z"
   },
   {
    "duration": -145,
    "start_time": "2022-03-04T14:32:17.474Z"
   },
   {
    "duration": -152,
    "start_time": "2022-03-04T14:32:17.482Z"
   },
   {
    "duration": -159,
    "start_time": "2022-03-04T14:32:17.490Z"
   },
   {
    "duration": -165,
    "start_time": "2022-03-04T14:32:17.498Z"
   },
   {
    "duration": -172,
    "start_time": "2022-03-04T14:32:17.506Z"
   },
   {
    "duration": -178,
    "start_time": "2022-03-04T14:32:17.514Z"
   },
   {
    "duration": -195,
    "start_time": "2022-03-04T14:32:17.532Z"
   },
   {
    "duration": -200,
    "start_time": "2022-03-04T14:32:17.539Z"
   },
   {
    "duration": -208,
    "start_time": "2022-03-04T14:32:17.548Z"
   },
   {
    "duration": 12,
    "start_time": "2022-03-04T14:32:57.089Z"
   },
   {
    "duration": 244,
    "start_time": "2022-03-04T14:35:24.816Z"
   },
   {
    "duration": 1737,
    "start_time": "2022-03-04T14:35:35.546Z"
   },
   {
    "duration": 198,
    "start_time": "2022-03-04T14:35:37.286Z"
   },
   {
    "duration": 139,
    "start_time": "2022-03-04T14:35:37.487Z"
   },
   {
    "duration": 37,
    "start_time": "2022-03-04T14:35:37.629Z"
   },
   {
    "duration": 39,
    "start_time": "2022-03-04T14:35:37.669Z"
   },
   {
    "duration": 211,
    "start_time": "2022-03-04T14:35:37.710Z"
   },
   {
    "duration": 6,
    "start_time": "2022-03-04T14:35:37.923Z"
   },
   {
    "duration": 163,
    "start_time": "2022-03-04T14:35:37.952Z"
   },
   {
    "duration": 11,
    "start_time": "2022-03-04T14:35:38.119Z"
   },
   {
    "duration": 11,
    "start_time": "2022-03-04T14:35:38.151Z"
   },
   {
    "duration": 94,
    "start_time": "2022-03-04T14:35:38.164Z"
   },
   {
    "duration": 93,
    "start_time": "2022-03-04T14:35:38.260Z"
   },
   {
    "duration": 142,
    "start_time": "2022-03-04T14:35:38.356Z"
   },
   {
    "duration": 137,
    "start_time": "2022-03-04T14:35:38.501Z"
   },
   {
    "duration": 156,
    "start_time": "2022-03-04T14:35:38.641Z"
   },
   {
    "duration": 145,
    "start_time": "2022-03-04T14:35:38.799Z"
   },
   {
    "duration": 54,
    "start_time": "2022-03-04T14:35:38.947Z"
   },
   {
    "duration": 54,
    "start_time": "2022-03-04T14:35:39.004Z"
   },
   {
    "duration": 23,
    "start_time": "2022-03-04T14:35:39.061Z"
   },
   {
    "duration": 27,
    "start_time": "2022-03-04T14:35:39.086Z"
   },
   {
    "duration": 65,
    "start_time": "2022-03-04T14:35:39.116Z"
   },
   {
    "duration": 7,
    "start_time": "2022-03-04T14:35:39.183Z"
   },
   {
    "duration": 5758,
    "start_time": "2022-03-04T14:35:39.196Z"
   },
   {
    "duration": -127,
    "start_time": "2022-03-04T14:35:45.084Z"
   },
   {
    "duration": -143,
    "start_time": "2022-03-04T14:35:45.102Z"
   },
   {
    "duration": -152,
    "start_time": "2022-03-04T14:35:45.112Z"
   },
   {
    "duration": -160,
    "start_time": "2022-03-04T14:35:45.122Z"
   },
   {
    "duration": -169,
    "start_time": "2022-03-04T14:35:45.132Z"
   },
   {
    "duration": -177,
    "start_time": "2022-03-04T14:35:45.142Z"
   },
   {
    "duration": -185,
    "start_time": "2022-03-04T14:35:45.151Z"
   },
   {
    "duration": -194,
    "start_time": "2022-03-04T14:35:45.162Z"
   },
   {
    "duration": -204,
    "start_time": "2022-03-04T14:35:45.173Z"
   },
   {
    "duration": -224,
    "start_time": "2022-03-04T14:35:45.195Z"
   },
   {
    "duration": -232,
    "start_time": "2022-03-04T14:35:45.204Z"
   },
   {
    "duration": -242,
    "start_time": "2022-03-04T14:35:45.216Z"
   },
   {
    "duration": -248,
    "start_time": "2022-03-04T14:35:45.224Z"
   },
   {
    "duration": -260,
    "start_time": "2022-03-04T14:35:45.237Z"
   },
   {
    "duration": -267,
    "start_time": "2022-03-04T14:35:45.246Z"
   },
   {
    "duration": -274,
    "start_time": "2022-03-04T14:35:45.255Z"
   },
   {
    "duration": -284,
    "start_time": "2022-03-04T14:35:45.266Z"
   },
   {
    "duration": -294,
    "start_time": "2022-03-04T14:35:45.278Z"
   },
   {
    "duration": -302,
    "start_time": "2022-03-04T14:35:45.287Z"
   },
   {
    "duration": -326,
    "start_time": "2022-03-04T14:35:45.313Z"
   },
   {
    "duration": -334,
    "start_time": "2022-03-04T14:35:45.322Z"
   },
   {
    "duration": -341,
    "start_time": "2022-03-04T14:35:45.331Z"
   },
   {
    "duration": -349,
    "start_time": "2022-03-04T14:35:45.340Z"
   },
   {
    "duration": -357,
    "start_time": "2022-03-04T14:35:45.350Z"
   },
   {
    "duration": -419,
    "start_time": "2022-03-04T14:35:45.413Z"
   },
   {
    "duration": -383,
    "start_time": "2022-03-04T14:35:45.434Z"
   },
   {
    "duration": -391,
    "start_time": "2022-03-04T14:35:45.444Z"
   },
   {
    "duration": -472,
    "start_time": "2022-03-04T14:35:45.527Z"
   },
   {
    "duration": -487,
    "start_time": "2022-03-04T14:35:45.544Z"
   },
   {
    "duration": -494,
    "start_time": "2022-03-04T14:35:45.552Z"
   },
   {
    "duration": -499,
    "start_time": "2022-03-04T14:35:45.559Z"
   },
   {
    "duration": -506,
    "start_time": "2022-03-04T14:35:45.567Z"
   },
   {
    "duration": -518,
    "start_time": "2022-03-04T14:35:45.581Z"
   },
   {
    "duration": -525,
    "start_time": "2022-03-04T14:35:45.589Z"
   },
   {
    "duration": -534,
    "start_time": "2022-03-04T14:35:45.600Z"
   },
   {
    "duration": 262,
    "start_time": "2022-03-04T14:36:36.048Z"
   },
   {
    "duration": 1504,
    "start_time": "2022-03-04T14:36:42.201Z"
   },
   {
    "duration": 193,
    "start_time": "2022-03-04T14:36:43.708Z"
   },
   {
    "duration": 138,
    "start_time": "2022-03-04T14:36:43.904Z"
   },
   {
    "duration": 25,
    "start_time": "2022-03-04T14:36:44.052Z"
   },
   {
    "duration": 36,
    "start_time": "2022-03-04T14:36:44.080Z"
   },
   {
    "duration": 201,
    "start_time": "2022-03-04T14:36:44.119Z"
   },
   {
    "duration": 6,
    "start_time": "2022-03-04T14:36:44.322Z"
   },
   {
    "duration": 171,
    "start_time": "2022-03-04T14:36:44.332Z"
   },
   {
    "duration": 9,
    "start_time": "2022-03-04T14:36:44.506Z"
   },
   {
    "duration": 34,
    "start_time": "2022-03-04T14:36:44.517Z"
   },
   {
    "duration": 69,
    "start_time": "2022-03-04T14:36:44.554Z"
   },
   {
    "duration": 91,
    "start_time": "2022-03-04T14:36:44.625Z"
   },
   {
    "duration": 138,
    "start_time": "2022-03-04T14:36:44.719Z"
   },
   {
    "duration": 116,
    "start_time": "2022-03-04T14:36:44.860Z"
   },
   {
    "duration": 140,
    "start_time": "2022-03-04T14:36:44.979Z"
   },
   {
    "duration": 129,
    "start_time": "2022-03-04T14:36:45.122Z"
   },
   {
    "duration": 37,
    "start_time": "2022-03-04T14:36:45.253Z"
   },
   {
    "duration": 26,
    "start_time": "2022-03-04T14:36:45.292Z"
   },
   {
    "duration": 55,
    "start_time": "2022-03-04T14:36:45.320Z"
   },
   {
    "duration": 31,
    "start_time": "2022-03-04T14:36:45.377Z"
   },
   {
    "duration": 78,
    "start_time": "2022-03-04T14:36:45.411Z"
   },
   {
    "duration": 10,
    "start_time": "2022-03-04T14:36:45.492Z"
   },
   {
    "duration": 9,
    "start_time": "2022-03-04T14:36:45.508Z"
   },
   {
    "duration": 35,
    "start_time": "2022-03-04T14:36:45.520Z"
   },
   {
    "duration": 359,
    "start_time": "2022-03-04T14:36:45.558Z"
   },
   {
    "duration": 67,
    "start_time": "2022-03-04T14:36:45.919Z"
   },
   {
    "duration": 363,
    "start_time": "2022-03-04T14:36:45.988Z"
   },
   {
    "duration": 39,
    "start_time": "2022-03-04T14:36:46.353Z"
   },
   {
    "duration": 1216,
    "start_time": "2022-03-04T14:36:46.394Z"
   },
   {
    "duration": 58,
    "start_time": "2022-03-04T14:36:47.613Z"
   },
   {
    "duration": 329,
    "start_time": "2022-03-04T14:36:47.673Z"
   },
   {
    "duration": 5,
    "start_time": "2022-03-04T14:36:48.004Z"
   },
   {
    "duration": 51,
    "start_time": "2022-03-04T14:36:48.012Z"
   },
   {
    "duration": 13,
    "start_time": "2022-03-04T14:36:48.065Z"
   },
   {
    "duration": 12,
    "start_time": "2022-03-04T14:36:48.081Z"
   },
   {
    "duration": 182,
    "start_time": "2022-03-04T14:36:48.096Z"
   },
   {
    "duration": 11,
    "start_time": "2022-03-04T14:36:48.280Z"
   },
   {
    "duration": 424,
    "start_time": "2022-03-04T14:36:48.293Z"
   },
   {
    "duration": 525,
    "start_time": "2022-03-04T14:36:48.719Z"
   },
   {
    "duration": 435,
    "start_time": "2022-03-04T14:36:49.247Z"
   },
   {
    "duration": 469,
    "start_time": "2022-03-04T14:36:49.685Z"
   },
   {
    "duration": 411,
    "start_time": "2022-03-04T14:36:50.157Z"
   },
   {
    "duration": 413,
    "start_time": "2022-03-04T14:36:50.571Z"
   },
   {
    "duration": 9,
    "start_time": "2022-03-04T14:36:50.987Z"
   },
   {
    "duration": 18,
    "start_time": "2022-03-04T14:36:50.998Z"
   },
   {
    "duration": 47,
    "start_time": "2022-03-04T14:36:51.019Z"
   },
   {
    "duration": 344,
    "start_time": "2022-03-04T14:36:51.068Z"
   },
   {
    "duration": -123,
    "start_time": "2022-03-04T14:36:51.538Z"
   },
   {
    "duration": -132,
    "start_time": "2022-03-04T14:36:51.549Z"
   },
   {
    "duration": -139,
    "start_time": "2022-03-04T14:36:51.557Z"
   },
   {
    "duration": -147,
    "start_time": "2022-03-04T14:36:51.567Z"
   },
   {
    "duration": -154,
    "start_time": "2022-03-04T14:36:51.575Z"
   },
   {
    "duration": -163,
    "start_time": "2022-03-04T14:36:51.585Z"
   },
   {
    "duration": -169,
    "start_time": "2022-03-04T14:36:51.593Z"
   },
   {
    "duration": -178,
    "start_time": "2022-03-04T14:36:51.603Z"
   },
   {
    "duration": -195,
    "start_time": "2022-03-04T14:36:51.621Z"
   },
   {
    "duration": -203,
    "start_time": "2022-03-04T14:36:51.630Z"
   },
   {
    "duration": -209,
    "start_time": "2022-03-04T14:36:51.638Z"
   },
   {
    "duration": 16,
    "start_time": "2022-03-04T14:38:54.839Z"
   },
   {
    "duration": 1590,
    "start_time": "2022-03-04T14:40:32.978Z"
   },
   {
    "duration": 183,
    "start_time": "2022-03-04T14:40:34.571Z"
   },
   {
    "duration": 142,
    "start_time": "2022-03-04T14:40:34.757Z"
   },
   {
    "duration": 30,
    "start_time": "2022-03-04T14:40:34.903Z"
   },
   {
    "duration": 35,
    "start_time": "2022-03-04T14:40:34.951Z"
   },
   {
    "duration": 208,
    "start_time": "2022-03-04T14:40:34.988Z"
   },
   {
    "duration": 6,
    "start_time": "2022-03-04T14:40:35.198Z"
   },
   {
    "duration": 184,
    "start_time": "2022-03-04T14:40:35.207Z"
   },
   {
    "duration": 10,
    "start_time": "2022-03-04T14:40:35.394Z"
   },
   {
    "duration": 14,
    "start_time": "2022-03-04T14:40:35.407Z"
   },
   {
    "duration": 71,
    "start_time": "2022-03-04T14:40:35.451Z"
   },
   {
    "duration": 96,
    "start_time": "2022-03-04T14:40:35.525Z"
   },
   {
    "duration": 128,
    "start_time": "2022-03-04T14:40:35.623Z"
   },
   {
    "duration": 123,
    "start_time": "2022-03-04T14:40:35.753Z"
   },
   {
    "duration": 128,
    "start_time": "2022-03-04T14:40:35.878Z"
   },
   {
    "duration": 128,
    "start_time": "2022-03-04T14:40:36.009Z"
   },
   {
    "duration": 45,
    "start_time": "2022-03-04T14:40:36.139Z"
   },
   {
    "duration": 26,
    "start_time": "2022-03-04T14:40:36.187Z"
   },
   {
    "duration": 50,
    "start_time": "2022-03-04T14:40:36.216Z"
   },
   {
    "duration": 30,
    "start_time": "2022-03-04T14:40:36.268Z"
   },
   {
    "duration": 78,
    "start_time": "2022-03-04T14:40:36.301Z"
   },
   {
    "duration": 8,
    "start_time": "2022-03-04T14:40:36.382Z"
   },
   {
    "duration": 6,
    "start_time": "2022-03-04T14:40:36.396Z"
   },
   {
    "duration": 366,
    "start_time": "2022-03-04T14:40:36.406Z"
   },
   {
    "duration": 92,
    "start_time": "2022-03-04T14:40:36.775Z"
   },
   {
    "duration": 363,
    "start_time": "2022-03-04T14:40:36.870Z"
   },
   {
    "duration": 45,
    "start_time": "2022-03-04T14:40:37.236Z"
   },
   {
    "duration": 1733,
    "start_time": "2022-03-04T14:40:37.284Z"
   },
   {
    "duration": 70,
    "start_time": "2022-03-04T14:40:39.020Z"
   },
   {
    "duration": 318,
    "start_time": "2022-03-04T14:40:39.093Z"
   },
   {
    "duration": 6,
    "start_time": "2022-03-04T14:40:39.413Z"
   },
   {
    "duration": 49,
    "start_time": "2022-03-04T14:40:39.421Z"
   },
   {
    "duration": 17,
    "start_time": "2022-03-04T14:40:39.473Z"
   },
   {
    "duration": 13,
    "start_time": "2022-03-04T14:40:39.493Z"
   },
   {
    "duration": 166,
    "start_time": "2022-03-04T14:40:39.553Z"
   },
   {
    "duration": 29,
    "start_time": "2022-03-04T14:40:39.722Z"
   },
   {
    "duration": 547,
    "start_time": "2022-03-04T14:40:39.754Z"
   },
   {
    "duration": 417,
    "start_time": "2022-03-04T14:40:40.304Z"
   },
   {
    "duration": 463,
    "start_time": "2022-03-04T14:40:40.724Z"
   },
   {
    "duration": 519,
    "start_time": "2022-03-04T14:40:41.189Z"
   },
   {
    "duration": 450,
    "start_time": "2022-03-04T14:40:41.710Z"
   },
   {
    "duration": 465,
    "start_time": "2022-03-04T14:40:42.163Z"
   },
   {
    "duration": 23,
    "start_time": "2022-03-04T14:40:42.630Z"
   },
   {
    "duration": 18,
    "start_time": "2022-03-04T14:40:42.655Z"
   },
   {
    "duration": 20,
    "start_time": "2022-03-04T14:40:42.676Z"
   },
   {
    "duration": 58,
    "start_time": "2022-03-04T14:40:42.698Z"
   },
   {
    "duration": 19,
    "start_time": "2022-03-04T14:40:42.759Z"
   },
   {
    "duration": 355,
    "start_time": "2022-03-04T14:40:42.780Z"
   },
   {
    "duration": -132,
    "start_time": "2022-03-04T14:40:43.269Z"
   },
   {
    "duration": -141,
    "start_time": "2022-03-04T14:40:43.280Z"
   },
   {
    "duration": -148,
    "start_time": "2022-03-04T14:40:43.288Z"
   },
   {
    "duration": -155,
    "start_time": "2022-03-04T14:40:43.297Z"
   },
   {
    "duration": -161,
    "start_time": "2022-03-04T14:40:43.304Z"
   },
   {
    "duration": -168,
    "start_time": "2022-03-04T14:40:43.313Z"
   },
   {
    "duration": -175,
    "start_time": "2022-03-04T14:40:43.321Z"
   },
   {
    "duration": -183,
    "start_time": "2022-03-04T14:40:43.330Z"
   },
   {
    "duration": -186,
    "start_time": "2022-03-04T14:40:43.337Z"
   },
   {
    "duration": 11,
    "start_time": "2022-03-04T14:41:58.902Z"
   },
   {
    "duration": 11,
    "start_time": "2022-03-04T14:42:04.471Z"
   },
   {
    "duration": 24,
    "start_time": "2022-03-04T14:42:06.998Z"
   },
   {
    "duration": 1624,
    "start_time": "2022-03-04T14:42:17.257Z"
   },
   {
    "duration": 197,
    "start_time": "2022-03-04T14:42:18.883Z"
   },
   {
    "duration": 147,
    "start_time": "2022-03-04T14:42:19.083Z"
   },
   {
    "duration": 33,
    "start_time": "2022-03-04T14:42:19.233Z"
   },
   {
    "duration": 42,
    "start_time": "2022-03-04T14:42:19.268Z"
   },
   {
    "duration": 209,
    "start_time": "2022-03-04T14:42:19.313Z"
   },
   {
    "duration": 5,
    "start_time": "2022-03-04T14:42:19.524Z"
   },
   {
    "duration": 176,
    "start_time": "2022-03-04T14:42:19.533Z"
   },
   {
    "duration": 10,
    "start_time": "2022-03-04T14:42:19.712Z"
   },
   {
    "duration": 32,
    "start_time": "2022-03-04T14:42:19.724Z"
   },
   {
    "duration": 97,
    "start_time": "2022-03-04T14:42:19.759Z"
   },
   {
    "duration": 71,
    "start_time": "2022-03-04T14:42:19.859Z"
   },
   {
    "duration": 122,
    "start_time": "2022-03-04T14:42:19.951Z"
   },
   {
    "duration": 111,
    "start_time": "2022-03-04T14:42:20.075Z"
   },
   {
    "duration": 137,
    "start_time": "2022-03-04T14:42:20.189Z"
   },
   {
    "duration": 122,
    "start_time": "2022-03-04T14:42:20.330Z"
   },
   {
    "duration": 37,
    "start_time": "2022-03-04T14:42:20.455Z"
   },
   {
    "duration": 25,
    "start_time": "2022-03-04T14:42:20.495Z"
   },
   {
    "duration": 24,
    "start_time": "2022-03-04T14:42:20.552Z"
   },
   {
    "duration": 27,
    "start_time": "2022-03-04T14:42:20.578Z"
   },
   {
    "duration": 76,
    "start_time": "2022-03-04T14:42:20.608Z"
   },
   {
    "duration": 9,
    "start_time": "2022-03-04T14:42:20.687Z"
   },
   {
    "duration": 6,
    "start_time": "2022-03-04T14:42:20.702Z"
   },
   {
    "duration": 381,
    "start_time": "2022-03-04T14:42:20.712Z"
   },
   {
    "duration": 75,
    "start_time": "2022-03-04T14:42:21.096Z"
   },
   {
    "duration": 358,
    "start_time": "2022-03-04T14:42:21.175Z"
   },
   {
    "duration": 41,
    "start_time": "2022-03-04T14:42:21.536Z"
   },
   {
    "duration": 1223,
    "start_time": "2022-03-04T14:42:21.580Z"
   },
   {
    "duration": 61,
    "start_time": "2022-03-04T14:42:22.805Z"
   },
   {
    "duration": 337,
    "start_time": "2022-03-04T14:42:22.869Z"
   },
   {
    "duration": 5,
    "start_time": "2022-03-04T14:42:23.209Z"
   },
   {
    "duration": 48,
    "start_time": "2022-03-04T14:42:23.217Z"
   },
   {
    "duration": 13,
    "start_time": "2022-03-04T14:42:23.267Z"
   },
   {
    "duration": 12,
    "start_time": "2022-03-04T14:42:23.282Z"
   },
   {
    "duration": 184,
    "start_time": "2022-03-04T14:42:23.297Z"
   },
   {
    "duration": 11,
    "start_time": "2022-03-04T14:42:23.484Z"
   },
   {
    "duration": 453,
    "start_time": "2022-03-04T14:42:23.498Z"
   },
   {
    "duration": 458,
    "start_time": "2022-03-04T14:42:23.955Z"
   },
   {
    "duration": 638,
    "start_time": "2022-03-04T14:42:24.416Z"
   },
   {
    "duration": 667,
    "start_time": "2022-03-04T14:42:25.057Z"
   },
   {
    "duration": 452,
    "start_time": "2022-03-04T14:42:25.726Z"
   },
   {
    "duration": 436,
    "start_time": "2022-03-04T14:42:26.182Z"
   },
   {
    "duration": 34,
    "start_time": "2022-03-04T14:42:26.621Z"
   },
   {
    "duration": 14,
    "start_time": "2022-03-04T14:42:26.658Z"
   },
   {
    "duration": 19,
    "start_time": "2022-03-04T14:42:26.674Z"
   },
   {
    "duration": 59,
    "start_time": "2022-03-04T14:42:26.695Z"
   },
   {
    "duration": 20,
    "start_time": "2022-03-04T14:42:26.757Z"
   },
   {
    "duration": 24,
    "start_time": "2022-03-04T14:42:26.780Z"
   },
   {
    "duration": 521,
    "start_time": "2022-03-04T14:42:26.807Z"
   },
   {
    "duration": 613,
    "start_time": "2022-03-04T14:42:27.331Z"
   },
   {
    "duration": 512,
    "start_time": "2022-03-04T14:42:27.946Z"
   },
   {
    "duration": 11,
    "start_time": "2022-03-04T14:42:28.461Z"
   },
   {
    "duration": 12,
    "start_time": "2022-03-04T14:42:28.475Z"
   },
   {
    "duration": 7,
    "start_time": "2022-03-04T14:42:28.489Z"
   },
   {
    "duration": 69,
    "start_time": "2022-03-04T14:42:28.498Z"
   },
   {
    "duration": 19,
    "start_time": "2022-03-04T14:42:28.569Z"
   },
   {
    "duration": 8,
    "start_time": "2022-03-04T14:42:28.591Z"
   },
   {
    "duration": 508,
    "start_time": "2022-03-04T14:58:55.829Z"
   },
   {
    "duration": 493,
    "start_time": "2022-03-04T14:59:08.445Z"
   },
   {
    "duration": 516,
    "start_time": "2022-03-04T14:59:21.525Z"
   },
   {
    "duration": 14,
    "start_time": "2022-03-04T15:24:22.778Z"
   },
   {
    "duration": 12,
    "start_time": "2022-03-04T15:24:25.793Z"
   },
   {
    "duration": 500,
    "start_time": "2022-03-04T15:24:34.321Z"
   },
   {
    "duration": 12,
    "start_time": "2022-03-04T15:24:36.792Z"
   },
   {
    "duration": 14,
    "start_time": "2022-03-04T15:25:09.144Z"
   },
   {
    "duration": 9,
    "start_time": "2022-03-04T15:25:11.369Z"
   },
   {
    "duration": 6,
    "start_time": "2022-03-04T15:25:32.487Z"
   },
   {
    "duration": 21,
    "start_time": "2022-03-04T15:30:52.567Z"
   },
   {
    "duration": 9,
    "start_time": "2022-03-04T15:30:56.511Z"
   },
   {
    "duration": 5,
    "start_time": "2022-03-04T15:31:10.880Z"
   },
   {
    "duration": 2089,
    "start_time": "2022-03-04T15:46:42.427Z"
   },
   {
    "duration": 278,
    "start_time": "2022-03-04T15:46:44.520Z"
   },
   {
    "duration": 200,
    "start_time": "2022-03-04T15:46:44.802Z"
   },
   {
    "duration": 49,
    "start_time": "2022-03-04T15:46:45.005Z"
   },
   {
    "duration": 53,
    "start_time": "2022-03-04T15:46:45.056Z"
   },
   {
    "duration": 218,
    "start_time": "2022-03-04T15:46:45.112Z"
   },
   {
    "duration": 17,
    "start_time": "2022-03-04T15:46:45.334Z"
   },
   {
    "duration": 182,
    "start_time": "2022-03-04T15:46:45.357Z"
   },
   {
    "duration": 12,
    "start_time": "2022-03-04T15:46:45.551Z"
   },
   {
    "duration": 15,
    "start_time": "2022-03-04T15:46:45.566Z"
   },
   {
    "duration": 109,
    "start_time": "2022-03-04T15:46:45.584Z"
   },
   {
    "duration": 96,
    "start_time": "2022-03-04T15:46:45.696Z"
   },
   {
    "duration": 126,
    "start_time": "2022-03-04T15:46:45.795Z"
   },
   {
    "duration": 118,
    "start_time": "2022-03-04T15:46:45.925Z"
   },
   {
    "duration": 148,
    "start_time": "2022-03-04T15:46:46.045Z"
   },
   {
    "duration": 131,
    "start_time": "2022-03-04T15:46:46.196Z"
   },
   {
    "duration": 51,
    "start_time": "2022-03-04T15:46:46.330Z"
   },
   {
    "duration": 28,
    "start_time": "2022-03-04T15:46:46.383Z"
   },
   {
    "duration": 56,
    "start_time": "2022-03-04T15:46:46.414Z"
   },
   {
    "duration": 31,
    "start_time": "2022-03-04T15:46:46.472Z"
   },
   {
    "duration": 79,
    "start_time": "2022-03-04T15:46:46.505Z"
   },
   {
    "duration": 8,
    "start_time": "2022-03-04T15:46:46.586Z"
   },
   {
    "duration": 6,
    "start_time": "2022-03-04T15:46:46.600Z"
   },
   {
    "duration": 376,
    "start_time": "2022-03-04T15:46:46.609Z"
   },
   {
    "duration": 76,
    "start_time": "2022-03-04T15:46:46.988Z"
   },
   {
    "duration": 363,
    "start_time": "2022-03-04T15:46:47.067Z"
   },
   {
    "duration": 57,
    "start_time": "2022-03-04T15:46:47.434Z"
   },
   {
    "duration": 1953,
    "start_time": "2022-03-04T15:46:47.494Z"
   },
   {
    "duration": 58,
    "start_time": "2022-03-04T15:46:49.450Z"
   },
   {
    "duration": 502,
    "start_time": "2022-03-04T15:46:49.511Z"
   },
   {
    "duration": 7,
    "start_time": "2022-03-04T15:46:50.016Z"
   },
   {
    "duration": 54,
    "start_time": "2022-03-04T15:46:50.026Z"
   },
   {
    "duration": 14,
    "start_time": "2022-03-04T15:46:50.082Z"
   },
   {
    "duration": 53,
    "start_time": "2022-03-04T15:46:50.098Z"
   },
   {
    "duration": 157,
    "start_time": "2022-03-04T15:46:50.154Z"
   },
   {
    "duration": 10,
    "start_time": "2022-03-04T15:46:50.313Z"
   },
   {
    "duration": 440,
    "start_time": "2022-03-04T15:46:50.326Z"
   },
   {
    "duration": 424,
    "start_time": "2022-03-04T15:46:50.769Z"
   },
   {
    "duration": 475,
    "start_time": "2022-03-04T15:46:51.195Z"
   },
   {
    "duration": 499,
    "start_time": "2022-03-04T15:46:51.673Z"
   },
   {
    "duration": 407,
    "start_time": "2022-03-04T15:46:52.174Z"
   },
   {
    "duration": 418,
    "start_time": "2022-03-04T15:46:52.583Z"
   },
   {
    "duration": 10,
    "start_time": "2022-03-04T15:46:53.004Z"
   },
   {
    "duration": 10,
    "start_time": "2022-03-04T15:46:53.017Z"
   },
   {
    "duration": 18,
    "start_time": "2022-03-04T15:46:53.052Z"
   },
   {
    "duration": 17,
    "start_time": "2022-03-04T15:46:53.073Z"
   },
   {
    "duration": 63,
    "start_time": "2022-03-04T15:46:53.093Z"
   },
   {
    "duration": 19,
    "start_time": "2022-03-04T15:46:53.158Z"
   },
   {
    "duration": 701,
    "start_time": "2022-03-04T15:46:53.179Z"
   },
   {
    "duration": 769,
    "start_time": "2022-03-04T15:46:53.882Z"
   },
   {
    "duration": 515,
    "start_time": "2022-03-04T15:46:54.654Z"
   },
   {
    "duration": 512,
    "start_time": "2022-03-04T15:46:55.172Z"
   },
   {
    "duration": 615,
    "start_time": "2022-03-04T15:46:55.687Z"
   },
   {
    "duration": 519,
    "start_time": "2022-03-04T15:46:56.305Z"
   },
   {
    "duration": 12,
    "start_time": "2022-03-04T15:46:56.827Z"
   },
   {
    "duration": 19,
    "start_time": "2022-03-04T15:46:56.841Z"
   },
   {
    "duration": 30,
    "start_time": "2022-03-04T15:46:56.863Z"
   },
   {
    "duration": 17,
    "start_time": "2022-03-04T15:46:56.897Z"
   },
   {
    "duration": 36,
    "start_time": "2022-03-04T15:46:56.917Z"
   },
   {
    "duration": 25,
    "start_time": "2022-03-04T15:46:56.956Z"
   },
   {
    "duration": 24,
    "start_time": "2022-03-04T15:46:56.983Z"
   },
   {
    "duration": 42,
    "start_time": "2022-03-04T15:46:57.010Z"
   },
   {
    "duration": 7,
    "start_time": "2022-03-04T15:46:57.055Z"
   },
   {
    "duration": 13,
    "start_time": "2022-03-04T15:46:57.064Z"
   }
  ],
  "kernelspec": {
   "display_name": "Python 3 (ipykernel)",
   "language": "python",
   "name": "python3"
  },
  "language_info": {
   "codemirror_mode": {
    "name": "ipython",
    "version": 3
   },
   "file_extension": ".py",
   "mimetype": "text/x-python",
   "name": "python",
   "nbconvert_exporter": "python",
   "pygments_lexer": "ipython3",
   "version": "3.9.7"
  },
  "toc": {
   "base_numbering": 1,
   "nav_menu": {},
   "number_sections": true,
   "sideBar": true,
   "skip_h1_title": true,
   "title_cell": "Table of Contents",
   "title_sidebar": "Contents",
   "toc_cell": true,
   "toc_position": {
    "height": "calc(100% - 180px)",
    "left": "10px",
    "top": "150px",
    "width": "257.375px"
   },
   "toc_section_display": true,
   "toc_window_display": false
  }
 },
 "nbformat": 4,
 "nbformat_minor": 2
}
