{
 "cells": [
  {
   "cell_type": "markdown",
   "metadata": {},
   "source": [
    "# Выбор локации для скважины"
   ]
  },
  {
   "cell_type": "markdown",
   "metadata": {},
   "source": [
    "Допустим, вы работаете в нефтедобывающей компании. Нужно решить, где бурить новую скважину.\n",
    "\n",
    "Вам предоставлены пробы нефти в трёх регионах: в каждом 10 000 месторождений, где измерили качество нефти и объём её запасов. Постройте модель машинного обучения, которая поможет определить регион, где добыча принесёт наибольшую прибыль."
   ]
  },
  {
   "cell_type": "markdown",
   "metadata": {},
   "source": [
    "## Загрузка и подготовка данных"
   ]
  },
  {
   "cell_type": "code",
   "execution_count": 1,
   "metadata": {},
   "outputs": [],
   "source": [
    "import pandas as pd # импорт библиотеки pandas\n",
    "import numpy as np # импорт библиотеки numpy\n",
    "from sklearn.linear_model import LinearRegression # импорт из библиотеки sklearn алгоритма линейной регрессии\n",
    "from sklearn.model_selection import train_test_split # импорт из библиотеки sklearn функции разделения выборок\n",
    "from sklearn.metrics import mean_squared_error # импорт из библиотеки sklearn функции метрики средней квадратичной ошибки\n",
    "import matplotlib.pyplot as plt # импорт из библиотеки matplotlib функции построения графиков"
   ]
  },
  {
   "cell_type": "code",
   "execution_count": 2,
   "metadata": {},
   "outputs": [],
   "source": [
    "# прочитаем файлы\n",
    "geo_0 = pd.read_csv('***.csv')\n",
    "geo_1 = pd.read_csv('***.csv')\n",
    "geo_2 = pd.read_csv('***.csv')"
   ]
  },
  {
   "cell_type": "markdown",
   "metadata": {},
   "source": [
    "- `id` — уникальный идентификатор скважины;\n",
    "- `f0, f1, f2` — три признака точек;\n",
    "- `product` — объём запасов в скважине (тыс. баррелей)."
   ]
  },
  {
   "cell_type": "code",
   "execution_count": 3,
   "metadata": {
    "scrolled": false
   },
   "outputs": [
    {
     "data": {
      "text/html": [
       "<div>\n",
       "<style scoped>\n",
       "    .dataframe tbody tr th:only-of-type {\n",
       "        vertical-align: middle;\n",
       "    }\n",
       "\n",
       "    .dataframe tbody tr th {\n",
       "        vertical-align: top;\n",
       "    }\n",
       "\n",
       "    .dataframe thead th {\n",
       "        text-align: right;\n",
       "    }\n",
       "</style>\n",
       "<table border=\"1\" class=\"dataframe\">\n",
       "  <thead>\n",
       "    <tr style=\"text-align: right;\">\n",
       "      <th></th>\n",
       "      <th>id</th>\n",
       "      <th>f0</th>\n",
       "      <th>f1</th>\n",
       "      <th>f2</th>\n",
       "      <th>product</th>\n",
       "    </tr>\n",
       "  </thead>\n",
       "  <tbody>\n",
       "    <tr>\n",
       "      <th>0</th>\n",
       "      <td>txEyH</td>\n",
       "      <td>0.705745</td>\n",
       "      <td>-0.497823</td>\n",
       "      <td>1.221170</td>\n",
       "      <td>105.280062</td>\n",
       "    </tr>\n",
       "    <tr>\n",
       "      <th>1</th>\n",
       "      <td>2acmU</td>\n",
       "      <td>1.334711</td>\n",
       "      <td>-0.340164</td>\n",
       "      <td>4.365080</td>\n",
       "      <td>73.037750</td>\n",
       "    </tr>\n",
       "    <tr>\n",
       "      <th>2</th>\n",
       "      <td>409Wp</td>\n",
       "      <td>1.022732</td>\n",
       "      <td>0.151990</td>\n",
       "      <td>1.419926</td>\n",
       "      <td>85.265647</td>\n",
       "    </tr>\n",
       "    <tr>\n",
       "      <th>3</th>\n",
       "      <td>iJLyR</td>\n",
       "      <td>-0.032172</td>\n",
       "      <td>0.139033</td>\n",
       "      <td>2.978566</td>\n",
       "      <td>168.620776</td>\n",
       "    </tr>\n",
       "    <tr>\n",
       "      <th>4</th>\n",
       "      <td>Xdl7t</td>\n",
       "      <td>1.988431</td>\n",
       "      <td>0.155413</td>\n",
       "      <td>4.751769</td>\n",
       "      <td>154.036647</td>\n",
       "    </tr>\n",
       "  </tbody>\n",
       "</table>\n",
       "</div>"
      ],
      "text/plain": [
       "      id        f0        f1        f2     product\n",
       "0  txEyH  0.705745 -0.497823  1.221170  105.280062\n",
       "1  2acmU  1.334711 -0.340164  4.365080   73.037750\n",
       "2  409Wp  1.022732  0.151990  1.419926   85.265647\n",
       "3  iJLyR -0.032172  0.139033  2.978566  168.620776\n",
       "4  Xdl7t  1.988431  0.155413  4.751769  154.036647"
      ]
     },
     "metadata": {},
     "output_type": "display_data"
    },
    {
     "name": "stdout",
     "output_type": "stream",
     "text": [
      "<class 'pandas.core.frame.DataFrame'>\n",
      "RangeIndex: 100000 entries, 0 to 99999\n",
      "Data columns (total 5 columns):\n",
      " #   Column   Non-Null Count   Dtype  \n",
      "---  ------   --------------   -----  \n",
      " 0   id       100000 non-null  object \n",
      " 1   f0       100000 non-null  float64\n",
      " 2   f1       100000 non-null  float64\n",
      " 3   f2       100000 non-null  float64\n",
      " 4   product  100000 non-null  float64\n",
      "dtypes: float64(4), object(1)\n",
      "memory usage: 3.8+ MB\n"
     ]
    },
    {
     "data": {
      "text/plain": [
       "None"
      ]
     },
     "metadata": {},
     "output_type": "display_data"
    },
    {
     "data": {
      "text/html": [
       "<div>\n",
       "<style scoped>\n",
       "    .dataframe tbody tr th:only-of-type {\n",
       "        vertical-align: middle;\n",
       "    }\n",
       "\n",
       "    .dataframe tbody tr th {\n",
       "        vertical-align: top;\n",
       "    }\n",
       "\n",
       "    .dataframe thead th {\n",
       "        text-align: right;\n",
       "    }\n",
       "</style>\n",
       "<table border=\"1\" class=\"dataframe\">\n",
       "  <thead>\n",
       "    <tr style=\"text-align: right;\">\n",
       "      <th></th>\n",
       "      <th>id</th>\n",
       "      <th>f0</th>\n",
       "      <th>f1</th>\n",
       "      <th>f2</th>\n",
       "      <th>product</th>\n",
       "    </tr>\n",
       "  </thead>\n",
       "  <tbody>\n",
       "    <tr>\n",
       "      <th>0</th>\n",
       "      <td>kBEdx</td>\n",
       "      <td>-15.001348</td>\n",
       "      <td>-8.276000</td>\n",
       "      <td>-0.005876</td>\n",
       "      <td>3.179103</td>\n",
       "    </tr>\n",
       "    <tr>\n",
       "      <th>1</th>\n",
       "      <td>62mP7</td>\n",
       "      <td>14.272088</td>\n",
       "      <td>-3.475083</td>\n",
       "      <td>0.999183</td>\n",
       "      <td>26.953261</td>\n",
       "    </tr>\n",
       "    <tr>\n",
       "      <th>2</th>\n",
       "      <td>vyE1P</td>\n",
       "      <td>6.263187</td>\n",
       "      <td>-5.948386</td>\n",
       "      <td>5.001160</td>\n",
       "      <td>134.766305</td>\n",
       "    </tr>\n",
       "    <tr>\n",
       "      <th>3</th>\n",
       "      <td>KcrkZ</td>\n",
       "      <td>-13.081196</td>\n",
       "      <td>-11.506057</td>\n",
       "      <td>4.999415</td>\n",
       "      <td>137.945408</td>\n",
       "    </tr>\n",
       "    <tr>\n",
       "      <th>4</th>\n",
       "      <td>AHL4O</td>\n",
       "      <td>12.702195</td>\n",
       "      <td>-8.147433</td>\n",
       "      <td>5.004363</td>\n",
       "      <td>134.766305</td>\n",
       "    </tr>\n",
       "  </tbody>\n",
       "</table>\n",
       "</div>"
      ],
      "text/plain": [
       "      id         f0         f1        f2     product\n",
       "0  kBEdx -15.001348  -8.276000 -0.005876    3.179103\n",
       "1  62mP7  14.272088  -3.475083  0.999183   26.953261\n",
       "2  vyE1P   6.263187  -5.948386  5.001160  134.766305\n",
       "3  KcrkZ -13.081196 -11.506057  4.999415  137.945408\n",
       "4  AHL4O  12.702195  -8.147433  5.004363  134.766305"
      ]
     },
     "metadata": {},
     "output_type": "display_data"
    },
    {
     "name": "stdout",
     "output_type": "stream",
     "text": [
      "<class 'pandas.core.frame.DataFrame'>\n",
      "RangeIndex: 100000 entries, 0 to 99999\n",
      "Data columns (total 5 columns):\n",
      " #   Column   Non-Null Count   Dtype  \n",
      "---  ------   --------------   -----  \n",
      " 0   id       100000 non-null  object \n",
      " 1   f0       100000 non-null  float64\n",
      " 2   f1       100000 non-null  float64\n",
      " 3   f2       100000 non-null  float64\n",
      " 4   product  100000 non-null  float64\n",
      "dtypes: float64(4), object(1)\n",
      "memory usage: 3.8+ MB\n"
     ]
    },
    {
     "data": {
      "text/plain": [
       "None"
      ]
     },
     "metadata": {},
     "output_type": "display_data"
    },
    {
     "data": {
      "text/html": [
       "<div>\n",
       "<style scoped>\n",
       "    .dataframe tbody tr th:only-of-type {\n",
       "        vertical-align: middle;\n",
       "    }\n",
       "\n",
       "    .dataframe tbody tr th {\n",
       "        vertical-align: top;\n",
       "    }\n",
       "\n",
       "    .dataframe thead th {\n",
       "        text-align: right;\n",
       "    }\n",
       "</style>\n",
       "<table border=\"1\" class=\"dataframe\">\n",
       "  <thead>\n",
       "    <tr style=\"text-align: right;\">\n",
       "      <th></th>\n",
       "      <th>id</th>\n",
       "      <th>f0</th>\n",
       "      <th>f1</th>\n",
       "      <th>f2</th>\n",
       "      <th>product</th>\n",
       "    </tr>\n",
       "  </thead>\n",
       "  <tbody>\n",
       "    <tr>\n",
       "      <th>0</th>\n",
       "      <td>fwXo0</td>\n",
       "      <td>-1.146987</td>\n",
       "      <td>0.963328</td>\n",
       "      <td>-0.828965</td>\n",
       "      <td>27.758673</td>\n",
       "    </tr>\n",
       "    <tr>\n",
       "      <th>1</th>\n",
       "      <td>WJtFt</td>\n",
       "      <td>0.262778</td>\n",
       "      <td>0.269839</td>\n",
       "      <td>-2.530187</td>\n",
       "      <td>56.069697</td>\n",
       "    </tr>\n",
       "    <tr>\n",
       "      <th>2</th>\n",
       "      <td>ovLUW</td>\n",
       "      <td>0.194587</td>\n",
       "      <td>0.289035</td>\n",
       "      <td>-5.586433</td>\n",
       "      <td>62.871910</td>\n",
       "    </tr>\n",
       "    <tr>\n",
       "      <th>3</th>\n",
       "      <td>q6cA6</td>\n",
       "      <td>2.236060</td>\n",
       "      <td>-0.553760</td>\n",
       "      <td>0.930038</td>\n",
       "      <td>114.572842</td>\n",
       "    </tr>\n",
       "    <tr>\n",
       "      <th>4</th>\n",
       "      <td>WPMUX</td>\n",
       "      <td>-0.515993</td>\n",
       "      <td>1.716266</td>\n",
       "      <td>5.899011</td>\n",
       "      <td>149.600746</td>\n",
       "    </tr>\n",
       "  </tbody>\n",
       "</table>\n",
       "</div>"
      ],
      "text/plain": [
       "      id        f0        f1        f2     product\n",
       "0  fwXo0 -1.146987  0.963328 -0.828965   27.758673\n",
       "1  WJtFt  0.262778  0.269839 -2.530187   56.069697\n",
       "2  ovLUW  0.194587  0.289035 -5.586433   62.871910\n",
       "3  q6cA6  2.236060 -0.553760  0.930038  114.572842\n",
       "4  WPMUX -0.515993  1.716266  5.899011  149.600746"
      ]
     },
     "metadata": {},
     "output_type": "display_data"
    },
    {
     "name": "stdout",
     "output_type": "stream",
     "text": [
      "<class 'pandas.core.frame.DataFrame'>\n",
      "RangeIndex: 100000 entries, 0 to 99999\n",
      "Data columns (total 5 columns):\n",
      " #   Column   Non-Null Count   Dtype  \n",
      "---  ------   --------------   -----  \n",
      " 0   id       100000 non-null  object \n",
      " 1   f0       100000 non-null  float64\n",
      " 2   f1       100000 non-null  float64\n",
      " 3   f2       100000 non-null  float64\n",
      " 4   product  100000 non-null  float64\n",
      "dtypes: float64(4), object(1)\n",
      "memory usage: 3.8+ MB\n"
     ]
    },
    {
     "data": {
      "text/plain": [
       "None"
      ]
     },
     "metadata": {},
     "output_type": "display_data"
    }
   ],
   "source": [
    "# посмотрим на данные\n",
    "display(geo_0.head())\n",
    "display(geo_0.info())\n",
    "display(geo_1.head())\n",
    "display(geo_1.info())\n",
    "display(geo_2.head())\n",
    "display(geo_2.info())"
   ]
  },
  {
   "cell_type": "markdown",
   "metadata": {},
   "source": [
    "Пропусков в данных нет."
   ]
  },
  {
   "cell_type": "code",
   "execution_count": 4,
   "metadata": {},
   "outputs": [
    {
     "data": {
      "text/html": [
       "<div>\n",
       "<style scoped>\n",
       "    .dataframe tbody tr th:only-of-type {\n",
       "        vertical-align: middle;\n",
       "    }\n",
       "\n",
       "    .dataframe tbody tr th {\n",
       "        vertical-align: top;\n",
       "    }\n",
       "\n",
       "    .dataframe thead th {\n",
       "        text-align: right;\n",
       "    }\n",
       "</style>\n",
       "<table border=\"1\" class=\"dataframe\">\n",
       "  <thead>\n",
       "    <tr style=\"text-align: right;\">\n",
       "      <th></th>\n",
       "      <th>f0</th>\n",
       "      <th>f1</th>\n",
       "      <th>f2</th>\n",
       "      <th>product</th>\n",
       "    </tr>\n",
       "  </thead>\n",
       "  <tbody>\n",
       "    <tr>\n",
       "      <th>count</th>\n",
       "      <td>100000.000000</td>\n",
       "      <td>100000.000000</td>\n",
       "      <td>100000.000000</td>\n",
       "      <td>100000.000000</td>\n",
       "    </tr>\n",
       "    <tr>\n",
       "      <th>mean</th>\n",
       "      <td>0.500419</td>\n",
       "      <td>0.250143</td>\n",
       "      <td>2.502647</td>\n",
       "      <td>92.500000</td>\n",
       "    </tr>\n",
       "    <tr>\n",
       "      <th>std</th>\n",
       "      <td>0.871832</td>\n",
       "      <td>0.504433</td>\n",
       "      <td>3.248248</td>\n",
       "      <td>44.288691</td>\n",
       "    </tr>\n",
       "    <tr>\n",
       "      <th>min</th>\n",
       "      <td>-1.408605</td>\n",
       "      <td>-0.848218</td>\n",
       "      <td>-12.088328</td>\n",
       "      <td>0.000000</td>\n",
       "    </tr>\n",
       "    <tr>\n",
       "      <th>25%</th>\n",
       "      <td>-0.072580</td>\n",
       "      <td>-0.200881</td>\n",
       "      <td>0.287748</td>\n",
       "      <td>56.497507</td>\n",
       "    </tr>\n",
       "    <tr>\n",
       "      <th>50%</th>\n",
       "      <td>0.502360</td>\n",
       "      <td>0.250252</td>\n",
       "      <td>2.515969</td>\n",
       "      <td>91.849972</td>\n",
       "    </tr>\n",
       "    <tr>\n",
       "      <th>75%</th>\n",
       "      <td>1.073581</td>\n",
       "      <td>0.700646</td>\n",
       "      <td>4.715088</td>\n",
       "      <td>128.564089</td>\n",
       "    </tr>\n",
       "    <tr>\n",
       "      <th>max</th>\n",
       "      <td>2.362331</td>\n",
       "      <td>1.343769</td>\n",
       "      <td>16.003790</td>\n",
       "      <td>185.364347</td>\n",
       "    </tr>\n",
       "  </tbody>\n",
       "</table>\n",
       "</div>"
      ],
      "text/plain": [
       "                  f0             f1             f2        product\n",
       "count  100000.000000  100000.000000  100000.000000  100000.000000\n",
       "mean        0.500419       0.250143       2.502647      92.500000\n",
       "std         0.871832       0.504433       3.248248      44.288691\n",
       "min        -1.408605      -0.848218     -12.088328       0.000000\n",
       "25%        -0.072580      -0.200881       0.287748      56.497507\n",
       "50%         0.502360       0.250252       2.515969      91.849972\n",
       "75%         1.073581       0.700646       4.715088     128.564089\n",
       "max         2.362331       1.343769      16.003790     185.364347"
      ]
     },
     "metadata": {},
     "output_type": "display_data"
    },
    {
     "data": {
      "text/html": [
       "<div>\n",
       "<style scoped>\n",
       "    .dataframe tbody tr th:only-of-type {\n",
       "        vertical-align: middle;\n",
       "    }\n",
       "\n",
       "    .dataframe tbody tr th {\n",
       "        vertical-align: top;\n",
       "    }\n",
       "\n",
       "    .dataframe thead th {\n",
       "        text-align: right;\n",
       "    }\n",
       "</style>\n",
       "<table border=\"1\" class=\"dataframe\">\n",
       "  <thead>\n",
       "    <tr style=\"text-align: right;\">\n",
       "      <th></th>\n",
       "      <th>f0</th>\n",
       "      <th>f1</th>\n",
       "      <th>f2</th>\n",
       "      <th>product</th>\n",
       "    </tr>\n",
       "  </thead>\n",
       "  <tbody>\n",
       "    <tr>\n",
       "      <th>count</th>\n",
       "      <td>100000.000000</td>\n",
       "      <td>100000.000000</td>\n",
       "      <td>100000.000000</td>\n",
       "      <td>100000.000000</td>\n",
       "    </tr>\n",
       "    <tr>\n",
       "      <th>mean</th>\n",
       "      <td>1.141296</td>\n",
       "      <td>-4.796579</td>\n",
       "      <td>2.494541</td>\n",
       "      <td>68.825000</td>\n",
       "    </tr>\n",
       "    <tr>\n",
       "      <th>std</th>\n",
       "      <td>8.965932</td>\n",
       "      <td>5.119872</td>\n",
       "      <td>1.703572</td>\n",
       "      <td>45.944423</td>\n",
       "    </tr>\n",
       "    <tr>\n",
       "      <th>min</th>\n",
       "      <td>-31.609576</td>\n",
       "      <td>-26.358598</td>\n",
       "      <td>-0.018144</td>\n",
       "      <td>0.000000</td>\n",
       "    </tr>\n",
       "    <tr>\n",
       "      <th>25%</th>\n",
       "      <td>-6.298551</td>\n",
       "      <td>-8.267985</td>\n",
       "      <td>1.000021</td>\n",
       "      <td>26.953261</td>\n",
       "    </tr>\n",
       "    <tr>\n",
       "      <th>50%</th>\n",
       "      <td>1.153055</td>\n",
       "      <td>-4.813172</td>\n",
       "      <td>2.011479</td>\n",
       "      <td>57.085625</td>\n",
       "    </tr>\n",
       "    <tr>\n",
       "      <th>75%</th>\n",
       "      <td>8.621015</td>\n",
       "      <td>-1.332816</td>\n",
       "      <td>3.999904</td>\n",
       "      <td>107.813044</td>\n",
       "    </tr>\n",
       "    <tr>\n",
       "      <th>max</th>\n",
       "      <td>29.421755</td>\n",
       "      <td>18.734063</td>\n",
       "      <td>5.019721</td>\n",
       "      <td>137.945408</td>\n",
       "    </tr>\n",
       "  </tbody>\n",
       "</table>\n",
       "</div>"
      ],
      "text/plain": [
       "                  f0             f1             f2        product\n",
       "count  100000.000000  100000.000000  100000.000000  100000.000000\n",
       "mean        1.141296      -4.796579       2.494541      68.825000\n",
       "std         8.965932       5.119872       1.703572      45.944423\n",
       "min       -31.609576     -26.358598      -0.018144       0.000000\n",
       "25%        -6.298551      -8.267985       1.000021      26.953261\n",
       "50%         1.153055      -4.813172       2.011479      57.085625\n",
       "75%         8.621015      -1.332816       3.999904     107.813044\n",
       "max        29.421755      18.734063       5.019721     137.945408"
      ]
     },
     "metadata": {},
     "output_type": "display_data"
    },
    {
     "data": {
      "text/html": [
       "<div>\n",
       "<style scoped>\n",
       "    .dataframe tbody tr th:only-of-type {\n",
       "        vertical-align: middle;\n",
       "    }\n",
       "\n",
       "    .dataframe tbody tr th {\n",
       "        vertical-align: top;\n",
       "    }\n",
       "\n",
       "    .dataframe thead th {\n",
       "        text-align: right;\n",
       "    }\n",
       "</style>\n",
       "<table border=\"1\" class=\"dataframe\">\n",
       "  <thead>\n",
       "    <tr style=\"text-align: right;\">\n",
       "      <th></th>\n",
       "      <th>f0</th>\n",
       "      <th>f1</th>\n",
       "      <th>f2</th>\n",
       "      <th>product</th>\n",
       "    </tr>\n",
       "  </thead>\n",
       "  <tbody>\n",
       "    <tr>\n",
       "      <th>count</th>\n",
       "      <td>100000.000000</td>\n",
       "      <td>100000.000000</td>\n",
       "      <td>100000.000000</td>\n",
       "      <td>100000.000000</td>\n",
       "    </tr>\n",
       "    <tr>\n",
       "      <th>mean</th>\n",
       "      <td>0.002023</td>\n",
       "      <td>-0.002081</td>\n",
       "      <td>2.495128</td>\n",
       "      <td>95.000000</td>\n",
       "    </tr>\n",
       "    <tr>\n",
       "      <th>std</th>\n",
       "      <td>1.732045</td>\n",
       "      <td>1.730417</td>\n",
       "      <td>3.473445</td>\n",
       "      <td>44.749921</td>\n",
       "    </tr>\n",
       "    <tr>\n",
       "      <th>min</th>\n",
       "      <td>-8.760004</td>\n",
       "      <td>-7.084020</td>\n",
       "      <td>-11.970335</td>\n",
       "      <td>0.000000</td>\n",
       "    </tr>\n",
       "    <tr>\n",
       "      <th>25%</th>\n",
       "      <td>-1.162288</td>\n",
       "      <td>-1.174820</td>\n",
       "      <td>0.130359</td>\n",
       "      <td>59.450441</td>\n",
       "    </tr>\n",
       "    <tr>\n",
       "      <th>50%</th>\n",
       "      <td>0.009424</td>\n",
       "      <td>-0.009482</td>\n",
       "      <td>2.484236</td>\n",
       "      <td>94.925613</td>\n",
       "    </tr>\n",
       "    <tr>\n",
       "      <th>75%</th>\n",
       "      <td>1.158535</td>\n",
       "      <td>1.163678</td>\n",
       "      <td>4.858794</td>\n",
       "      <td>130.595027</td>\n",
       "    </tr>\n",
       "    <tr>\n",
       "      <th>max</th>\n",
       "      <td>7.238262</td>\n",
       "      <td>7.844801</td>\n",
       "      <td>16.739402</td>\n",
       "      <td>190.029838</td>\n",
       "    </tr>\n",
       "  </tbody>\n",
       "</table>\n",
       "</div>"
      ],
      "text/plain": [
       "                  f0             f1             f2        product\n",
       "count  100000.000000  100000.000000  100000.000000  100000.000000\n",
       "mean        0.002023      -0.002081       2.495128      95.000000\n",
       "std         1.732045       1.730417       3.473445      44.749921\n",
       "min        -8.760004      -7.084020     -11.970335       0.000000\n",
       "25%        -1.162288      -1.174820       0.130359      59.450441\n",
       "50%         0.009424      -0.009482       2.484236      94.925613\n",
       "75%         1.158535       1.163678       4.858794     130.595027\n",
       "max         7.238262       7.844801      16.739402     190.029838"
      ]
     },
     "metadata": {},
     "output_type": "display_data"
    }
   ],
   "source": [
    "# Описание данных\n",
    "display(geo_0.describe())\n",
    "display(geo_1.describe())\n",
    "display(geo_2.describe())"
   ]
  },
  {
   "cell_type": "markdown",
   "metadata": {},
   "source": [
    "Распределения близки к нормальным. За исключением 1 региона по объему запасов, смещение заметнее, чем в других регионах. "
   ]
  },
  {
   "cell_type": "code",
   "execution_count": 5,
   "metadata": {},
   "outputs": [
    {
     "data": {
      "text/plain": [
       "0"
      ]
     },
     "metadata": {},
     "output_type": "display_data"
    },
    {
     "data": {
      "text/plain": [
       "0"
      ]
     },
     "metadata": {},
     "output_type": "display_data"
    },
    {
     "data": {
      "text/plain": [
       "0"
      ]
     },
     "metadata": {},
     "output_type": "display_data"
    }
   ],
   "source": [
    "# поиск дубликатов\n",
    "display(geo_0.duplicated().sum())\n",
    "display(geo_1.duplicated().sum())\n",
    "display(geo_2.duplicated().sum())"
   ]
  },
  {
   "cell_type": "markdown",
   "metadata": {},
   "source": [
    "Дубликатов нет."
   ]
  },
  {
   "cell_type": "code",
   "execution_count": 6,
   "metadata": {
    "scrolled": false
   },
   "outputs": [
    {
     "data": {
      "image/png": "[encoded data removed]",
      "text/plain": [
       "<Figure size 864x504 with 1 Axes>"
      ]
     },
     "metadata": {
      "needs_background": "light"
     },
     "output_type": "display_data"
    }
   ],
   "source": [
    "# Посмотрим распределения объема запасов в скважинах по регионам\n",
    "plt.figure(figsize=(12,7))\n",
    "geo_0['product'].hist(bins=90, alpha = 0.7)\n",
    "geo_1['product'].hist(bins=90, alpha = 0.6)\n",
    "geo_2['product'].hist(bins=90, alpha = 0.5)\n",
    "plt.xlabel('Объем запасов в скважине, тыс. баррелей')\n",
    "plt.ylabel('Количество значений')\n",
    "plt.title('Сравнение распределений объема запасов в скважинах по регионам', size = '20')\n",
    "plt.legend(['Регион 0', 'Регион 1', 'Регион 2'])\n",
    "\n",
    "plt.show()"
   ]
  },
  {
   "cell_type": "code",
   "execution_count": 7,
   "metadata": {},
   "outputs": [
    {
     "data": {
      "text/plain": [
       "53.906522     8472\n",
       "26.953261     8468\n",
       "84.038886     8431\n",
       "57.085625     8390\n",
       "3.179103      8337\n",
       "80.859783     8320\n",
       "30.132364     8306\n",
       "134.766305    8304\n",
       "110.992147    8303\n",
       "0.000000      8235\n",
       "137.945408    8233\n",
       "107.813044    8201\n",
       "Name: product, dtype: int64"
      ]
     },
     "execution_count": 7,
     "metadata": {},
     "output_type": "execute_result"
    }
   ],
   "source": [
    "geo_1['product'].value_counts()"
   ]
  },
  {
   "cell_type": "markdown",
   "metadata": {},
   "source": [
    "Очень странное распределение в первом регионе. Как будто кто то уже сгруппировал объемы запасов. Чуть больше 8000 в каждой группе. Так как проект учебный, мы не можем уточнить данную информацию."
   ]
  },
  {
   "cell_type": "code",
   "execution_count": 8,
   "metadata": {},
   "outputs": [],
   "source": [
    "# удалим столбец с уникальным номер скаважины, так как он не нужен для работы модели\n",
    "geo_0, geo_1, geo_2 = \\\n",
    "    geo_0.drop('id', axis = 1), geo_1.drop('id', axis = 1), geo_2.drop('id', axis = 1)"
   ]
  },
  {
   "cell_type": "markdown",
   "metadata": {},
   "source": [
    "**Выводы**"
   ]
  },
  {
   "cell_type": "markdown",
   "metadata": {},
   "source": [
    " - Пропусков в данных, дубликатов нет.\n",
    " - Есть странная особенность распределения \"продукта\" в 1 регионе.\n",
    " - Удален столбец 'id'. Данные готовы для дальнейшей работы."
   ]
  },
  {
   "cell_type": "markdown",
   "metadata": {},
   "source": [
    "## Обучение и проверка модели"
   ]
  },
  {
   "cell_type": "markdown",
   "metadata": {},
   "source": [
    "У нас три региона, напишем функцию, которая вернет квадратный корень из среднеквадратичной ошибки, предсказания и правильные ответы на валидационной выборке."
   ]
  },
  {
   "cell_type": "code",
   "execution_count": 9,
   "metadata": {},
   "outputs": [],
   "source": [
    "def predictions(geo):\n",
    "    # разделим данные на признаки и целевой признак\n",
    "    features = geo.drop('product', axis= 1)\n",
    "    target = geo['product']\n",
    "    # разобьем данные на обучающую и валидационную выборки в соотношении 75:25\n",
    "    features_train, features_valid, target_train, target_valid = train_test_split(\n",
    "        features, target, train_size = 0.75, random_state = 42)\n",
    "    \n",
    "    # обучим модель линеной регрессии\n",
    "    model = LinearRegression()\n",
    "    model.fit(features_train, target_train)\n",
    "    # сохраним предсказания для валидационной выборки и RMSE\n",
    "    predicted_valid = model.predict(features_valid)\n",
    "    RMSE = mean_squared_error(target_valid, predicted_valid)**0.5\n",
    "    # преобразуем предсказания в Series\n",
    "    predicted_valid = pd.Series(predicted_valid)\n",
    "    # сравняем индексы значений\n",
    "    predicted_valid.index = target_valid.index\n",
    "    # возвращаем RMSE, предсказания и правильные ответы\n",
    "    return RMSE, predicted_valid, target_valid "
   ]
  },
  {
   "cell_type": "markdown",
   "metadata": {},
   "source": [
    "С помощью функции найдем RMSE, средний запас предсказанного сырья и средний запас настоящего сырья."
   ]
  },
  {
   "cell_type": "code",
   "execution_count": 10,
   "metadata": {},
   "outputs": [
    {
     "name": "stdout",
     "output_type": "stream",
     "text": [
      "Для региона 0: \n",
      "    Средний запас предсказанного сырья: 92.40 тыс. баррелей, \n",
      "    Средний запас настоящего сырья: 92.33 тыс. баррелей,\n",
      "    RMSE: 37.757\n"
     ]
    }
   ],
   "source": [
    "RMSE_0, predicted_valid_0, target_valid_0 = predictions(geo_0)\n",
    "print(f'''Для региона 0: \n",
    "    Средний запас предсказанного сырья: {predicted_valid_0.mean():.2f} тыс. баррелей, \n",
    "    Средний запас настоящего сырья: {target_valid_0.mean():.2f} тыс. баррелей,\n",
    "    RMSE: {RMSE_0:.3f}''')"
   ]
  },
  {
   "cell_type": "code",
   "execution_count": 11,
   "metadata": {},
   "outputs": [
    {
     "name": "stdout",
     "output_type": "stream",
     "text": [
      "Для региона 1: \n",
      "    Средний запас предсказанного сырья: 68.71 тыс. баррелей, \n",
      "    Средний запас настоящего сырья: 68.73 тыс. баррелей,\n",
      "    RMSE: 0.890\n"
     ]
    }
   ],
   "source": [
    "RMSE_1, predicted_valid_1, target_valid_1 = predictions(geo_1)\n",
    "print(f'''Для региона 1: \n",
    "    Средний запас предсказанного сырья: {predicted_valid_1.mean():.2f} тыс. баррелей, \n",
    "    Средний запас настоящего сырья: {target_valid_1.mean():.2f} тыс. баррелей,\n",
    "    RMSE: {RMSE_1:.3f}''')"
   ]
  },
  {
   "cell_type": "code",
   "execution_count": 12,
   "metadata": {
    "scrolled": true
   },
   "outputs": [
    {
     "name": "stdout",
     "output_type": "stream",
     "text": [
      "Для региона 2: \n",
      "    Средний запас предсказанного сырья: 94.77 тыс. баррелей, \n",
      "    Средний запас настоящего сырья: 95.15 тыс. баррелей,\n",
      "    RMSE: 40.146\n"
     ]
    }
   ],
   "source": [
    "RMSE_2, predicted_valid_2, target_valid_2 = predictions(geo_2)\n",
    "print(f'''Для региона 2: \n",
    "    Средний запас предсказанного сырья: {predicted_valid_2.mean():.2f} тыс. баррелей, \n",
    "    Средний запас настоящего сырья: {target_valid_2.mean():.2f} тыс. баррелей,\n",
    "    RMSE: {RMSE_2:.3f}''')"
   ]
  },
  {
   "cell_type": "markdown",
   "metadata": {},
   "source": [
    "**Выводы**"
   ]
  },
  {
   "cell_type": "markdown",
   "metadata": {},
   "source": [
    " - Для региона 1 практически нет ошибок, что неудивительно, учитывая как сгруппирован целевой признак.\n",
    " - В регионе 1 меньше всего средний объем сырья.\n",
    " - Регион 0 и 2 обладает большим запасом по сырью, по сравнению с первым регионом. Но и RMSE значительно больше."
   ]
  },
  {
   "cell_type": "markdown",
   "metadata": {},
   "source": [
    "## Подготовка к расчёту прибыли"
   ]
  },
  {
   "cell_type": "markdown",
   "metadata": {},
   "source": [
    " - При разведке региона исследуют 500 точек, из которых с помощью машинного обучения выбирают 200 лучших для разработки.\n",
    " - Бюджет на разработку скважин в регионе — 10 млрд рублей.\n",
    " - При нынешних ценах один баррель сырья приносит 450 рублей дохода. Доход с каждой единицы продукта составляет 450 тыс. рублей, поскольку объём указан в тысячах баррелей.\n",
    " - После оценки рисков нужно оставить лишь те регионы, в которых вероятность убытков меньше 2.5%. Среди них выбирают регион с наибольшей средней прибылью."
   ]
  },
  {
   "cell_type": "markdown",
   "metadata": {},
   "source": [
    "### Все ключевые значения для расчётов сохраним в отдельных переменных"
   ]
  },
  {
   "cell_type": "code",
   "execution_count": 13,
   "metadata": {},
   "outputs": [],
   "source": [
    "BUDGET = 10_000_000_000 # бюджет\n",
    "SPOTS = 500 # 500 точек для исследования\n",
    "BEST_SPOTS = 200 # 200 лучших точек для разработки\n",
    "INCOME = 450_000 # доход с каждой единицы продукта"
   ]
  },
  {
   "cell_type": "markdown",
   "metadata": {},
   "source": [
    "### Рассчитаем достаточный объём сырья для безубыточной разработки новой скважины"
   ]
  },
  {
   "cell_type": "code",
   "execution_count": 14,
   "metadata": {},
   "outputs": [
    {
     "name": "stdout",
     "output_type": "stream",
     "text": [
      "Для безубыточной разработки 500 скважин нужно получить в среднем по 111.11 тыс. баррелей с каждой из 200 лучших точек.\n"
     ]
    }
   ],
   "source": [
    "print(f'Для безубыточной разработки {SPOTS} скважин нужно получить в среднем по \\\n",
    "{BUDGET/INCOME/BEST_SPOTS:.2f} тыс. баррелей с каждой из 200 лучших точек.')"
   ]
  },
  {
   "cell_type": "markdown",
   "metadata": {},
   "source": [
    "**Выводы**"
   ]
  },
  {
   "cell_type": "markdown",
   "metadata": {},
   "source": [
    " - Средний запас сырья по всем трем регионам не удовлетворяет среднему значению по безубыточной разработке 500 точек. \n",
    " - Нужно правильно выбрать регион и лучшие точки с учетом рисков, чтобы компенсировать расходы на разработку."
   ]
  },
  {
   "cell_type": "markdown",
   "metadata": {},
   "source": [
    "## Напишем функцию для расчёта прибыли по выбранным скважинам и предсказаниям модели"
   ]
  },
  {
   "cell_type": "code",
   "execution_count": 15,
   "metadata": {},
   "outputs": [],
   "source": [
    "def profit(predicted_valid, target_valid):\n",
    "    # выбор 200 лучших скважин с максимальными значениями предсказаний\n",
    "    top_200 = predicted_valid.sort_values(ascending=False).head(BEST_SPOTS).index\n",
    "    # прибыль c полученного объёма сырья\n",
    "    profit = (target_valid.loc[top_200].sum()*INCOME)-BUDGET\n",
    "    return profit"
   ]
  },
  {
   "cell_type": "markdown",
   "metadata": {},
   "source": [
    "## Расчёт прибыли и рисков "
   ]
  },
  {
   "cell_type": "markdown",
   "metadata": {},
   "source": [
    "### Применим технику Bootstrap с 1000 выборок, чтобы найти распределение прибыли"
   ]
  },
  {
   "cell_type": "markdown",
   "metadata": {},
   "source": [
    "Напишем функцию, которая возвращает риск убытков, прибыль и 95%-й доверительный интервал."
   ]
  },
  {
   "cell_type": "code",
   "execution_count": 16,
   "metadata": {},
   "outputs": [],
   "source": [
    "def revenue(predicted_valid, target_valid):\n",
    "    state = np.random.RandomState(42)\n",
    "    values = []\n",
    "    # применим bootstrap\n",
    "    for i in range(1000):\n",
    "        target_subsample = predicted_valid.sample(n = SPOTS, replace=True, random_state=state)\n",
    "        values.append(profit(target_subsample, target_valid))\n",
    "    values = pd.Series(values)\n",
    "    # находим 95%-й доверительный интервал\n",
    "    lower = values.quantile(0.025)\n",
    "    upper = values.quantile(0.975)\n",
    "    # считаем риск убытков\n",
    "    risk = (values < 0).mean()*100\n",
    "    return risk, values, lower, upper"
   ]
  },
  {
   "cell_type": "markdown",
   "metadata": {},
   "source": [
    "С помощью функции найдем риск убытков, среднюю прибыль и 95%-й доверительный интервал."
   ]
  },
  {
   "cell_type": "code",
   "execution_count": 17,
   "metadata": {},
   "outputs": [
    {
     "name": "stdout",
     "output_type": "stream",
     "text": [
      "Для региона 0:  \n",
      "    95%-й доверительный интервал: -110.47 : 897.46 млн. рублей,\n",
      "    Средняя прибыль: 399.58 млн. рублей,\n",
      "    Риск убытков: 6.0 %\n"
     ]
    }
   ],
   "source": [
    "risk, values, lower, upper = revenue(predicted_valid_0, target_valid_0)\n",
    "print(f'''Для региона 0:  \n",
    "    95%-й доверительный интервал: {lower/1_000_000:.2f} : {upper/1_000_000:.2f} млн. рублей,\n",
    "    Средняя прибыль: {values.mean()/1_000_000:.2f} млн. рублей,\n",
    "    Риск убытков: {risk:.1f} %''')"
   ]
  },
  {
   "cell_type": "code",
   "execution_count": 18,
   "metadata": {},
   "outputs": [
    {
     "name": "stdout",
     "output_type": "stream",
     "text": [
      "Для региона 1:  \n",
      "    95%-й доверительный интервал: 61.68 : 845.34 млн. рублей,\n",
      "    Средняя прибыль: 452.05 млн. рублей,\n",
      "    Риск убытков: 1.5 %\n"
     ]
    }
   ],
   "source": [
    "risk, values, lower, upper = revenue(predicted_valid_1, target_valid_1)\n",
    "print(f'''Для региона 1:  \n",
    "    95%-й доверительный интервал: {lower/1_000_000:.2f} : {upper/1_000_000:.2f} млн. рублей,\n",
    "    Средняя прибыль: {values.mean()/1_000_000:.2f} млн. рублей,\n",
    "    Риск убытков: {risk:.1f} %''')"
   ]
  },
  {
   "cell_type": "code",
   "execution_count": 19,
   "metadata": {},
   "outputs": [
    {
     "name": "stdout",
     "output_type": "stream",
     "text": [
      "Для региона 2:  \n",
      "    95%-й доверительный интервал: -144.77 : 888.39 млн. рублей,\n",
      "    Средняя прибыль: 375.01 млн. рублей,\n",
      "    Риск убытков: 8.0 %\n"
     ]
    }
   ],
   "source": [
    "risk, values, lower, upper = revenue(predicted_valid_2, target_valid_2)\n",
    "print(f'''Для региона 2:  \n",
    "    95%-й доверительный интервал: {lower/1_000_000:.2f} : {upper/1_000_000:.2f} млн. рублей,\n",
    "    Средняя прибыль: {values.mean()/1_000_000:.2f} млн. рублей,\n",
    "    Риск убытков: {risk:.1f} %''')"
   ]
  },
  {
   "cell_type": "markdown",
   "metadata": {},
   "source": [
    "**Выводы**"
   ]
  },
  {
   "cell_type": "markdown",
   "metadata": {},
   "source": [
    " - Риск убытков для 1 региона составлет 1.5 %, что укладывается в заданные границы в 2.5%.\n",
    " - В регионе 1 максимальная средняя прибыль в 452.05 млн. рублей.\n",
    " - Наименьшая RMSE = 0.89 у 1 региона.\n",
    " - На основании выше перечисленных пунктов, можно сделать вывод, что лучшим регионом для разработки является 1 регион."
   ]
  }
 ],
 "metadata": {
  "ExecuteTimeLog": [
   {
    "duration": 1523,
    "start_time": "2022-04-11T03:07:05.799Z"
   },
   {
    "duration": 337,
    "start_time": "2022-04-11T03:07:53.318Z"
   },
   {
    "duration": 25,
    "start_time": "2022-04-11T03:08:05.720Z"
   },
   {
    "duration": 111,
    "start_time": "2022-04-11T03:08:14.902Z"
   },
   {
    "duration": 118,
    "start_time": "2022-04-11T03:08:23.631Z"
   },
   {
    "duration": 627,
    "start_time": "2022-04-11T03:08:35.310Z"
   },
   {
    "duration": 615,
    "start_time": "2022-04-11T03:09:07.239Z"
   },
   {
    "duration": 585,
    "start_time": "2022-04-11T03:09:19.477Z"
   },
   {
    "duration": 19,
    "start_time": "2022-04-11T03:09:44.132Z"
   },
   {
    "duration": 4,
    "start_time": "2022-04-11T03:10:20.684Z"
   },
   {
    "duration": 87,
    "start_time": "2022-04-11T03:10:34.730Z"
   },
   {
    "duration": 29,
    "start_time": "2022-04-11T03:10:42.435Z"
   },
   {
    "duration": 27,
    "start_time": "2022-04-11T03:10:55.265Z"
   },
   {
    "duration": 2,
    "start_time": "2022-04-11T03:11:43.530Z"
   },
   {
    "duration": 3,
    "start_time": "2022-04-11T03:12:15.815Z"
   },
   {
    "duration": 3,
    "start_time": "2022-04-11T03:14:27.099Z"
   },
   {
    "duration": 4,
    "start_time": "2022-04-11T03:21:11.837Z"
   },
   {
    "duration": 641,
    "start_time": "2022-04-11T03:21:26.888Z"
   },
   {
    "duration": 599,
    "start_time": "2022-04-11T03:21:41.667Z"
   },
   {
    "duration": 613,
    "start_time": "2022-04-11T03:21:53.645Z"
   },
   {
    "duration": 48,
    "start_time": "2022-04-11T05:04:16.657Z"
   },
   {
    "duration": 77,
    "start_time": "2022-04-11T05:23:19.779Z"
   },
   {
    "duration": 7,
    "start_time": "2022-04-11T05:31:03.086Z"
   },
   {
    "duration": 14,
    "start_time": "2022-04-11T05:31:18.346Z"
   },
   {
    "duration": 44,
    "start_time": "2022-04-12T06:14:53.835Z"
   },
   {
    "duration": 1842,
    "start_time": "2022-04-12T06:15:01.288Z"
   },
   {
    "duration": 387,
    "start_time": "2022-04-12T06:15:03.133Z"
   },
   {
    "duration": 61,
    "start_time": "2022-04-12T06:15:03.521Z"
   },
   {
    "duration": 109,
    "start_time": "2022-04-12T06:15:03.584Z"
   },
   {
    "duration": 148,
    "start_time": "2022-04-12T06:15:03.695Z"
   },
   {
    "duration": 576,
    "start_time": "2022-04-12T06:15:03.844Z"
   },
   {
    "duration": 7,
    "start_time": "2022-04-12T06:15:04.421Z"
   },
   {
    "duration": 16,
    "start_time": "2022-04-12T06:15:04.430Z"
   },
   {
    "duration": 4,
    "start_time": "2022-04-12T06:15:04.448Z"
   },
   {
    "duration": 170,
    "start_time": "2022-04-12T06:15:04.454Z"
   },
   {
    "duration": 113,
    "start_time": "2022-04-12T06:15:04.626Z"
   },
   {
    "duration": 194,
    "start_time": "2022-04-12T06:15:04.741Z"
   },
   {
    "duration": 4,
    "start_time": "2022-04-12T06:15:04.937Z"
   },
   {
    "duration": 5,
    "start_time": "2022-04-12T06:15:05.024Z"
   },
   {
    "duration": 92,
    "start_time": "2022-04-12T06:15:05.032Z"
   },
   {
    "duration": 6,
    "start_time": "2022-04-12T06:15:05.126Z"
   },
   {
    "duration": 567,
    "start_time": "2022-04-12T06:15:05.133Z"
   },
   {
    "duration": 563,
    "start_time": "2022-04-12T06:15:05.702Z"
   },
   {
    "duration": 560,
    "start_time": "2022-04-12T06:15:06.267Z"
   },
   {
    "duration": 44,
    "start_time": "2022-04-12T14:24:38.147Z"
   },
   {
    "duration": 1598,
    "start_time": "2022-04-12T14:24:43.777Z"
   },
   {
    "duration": 335,
    "start_time": "2022-04-12T14:24:45.376Z"
   },
   {
    "duration": 54,
    "start_time": "2022-04-12T14:24:45.713Z"
   },
   {
    "duration": 114,
    "start_time": "2022-04-12T14:24:45.768Z"
   },
   {
    "duration": 143,
    "start_time": "2022-04-12T14:24:45.884Z"
   },
   {
    "duration": 543,
    "start_time": "2022-04-12T14:24:46.029Z"
   },
   {
    "duration": 7,
    "start_time": "2022-04-12T14:24:46.574Z"
   },
   {
    "duration": 23,
    "start_time": "2022-04-12T14:24:46.583Z"
   },
   {
    "duration": 6,
    "start_time": "2022-04-12T14:24:46.608Z"
   },
   {
    "duration": 91,
    "start_time": "2022-04-12T14:24:46.615Z"
   },
   {
    "duration": 203,
    "start_time": "2022-04-12T14:24:46.708Z"
   },
   {
    "duration": 195,
    "start_time": "2022-04-12T14:24:46.913Z"
   },
   {
    "duration": 4,
    "start_time": "2022-04-12T14:24:47.110Z"
   },
   {
    "duration": 99,
    "start_time": "2022-04-12T14:24:47.203Z"
   },
   {
    "duration": 7,
    "start_time": "2022-04-12T14:24:47.303Z"
   },
   {
    "duration": 4,
    "start_time": "2022-04-12T14:24:47.311Z"
   },
   {
    "duration": 556,
    "start_time": "2022-04-12T14:24:47.317Z"
   },
   {
    "duration": 534,
    "start_time": "2022-04-12T14:24:47.875Z"
   },
   {
    "duration": 527,
    "start_time": "2022-04-12T14:24:48.411Z"
   },
   {
    "duration": 3,
    "start_time": "2022-04-12T14:31:32.476Z"
   },
   {
    "duration": 1448,
    "start_time": "2022-04-12T14:52:28.620Z"
   },
   {
    "duration": 364,
    "start_time": "2022-04-12T14:52:30.070Z"
   },
   {
    "duration": 66,
    "start_time": "2022-04-12T14:52:30.435Z"
   },
   {
    "duration": 110,
    "start_time": "2022-04-12T14:52:30.502Z"
   },
   {
    "duration": 133,
    "start_time": "2022-04-12T14:52:30.614Z"
   },
   {
    "duration": 583,
    "start_time": "2022-04-12T14:52:30.748Z"
   },
   {
    "duration": 6,
    "start_time": "2022-04-12T14:52:31.333Z"
   },
   {
    "duration": 19,
    "start_time": "2022-04-12T14:52:31.341Z"
   },
   {
    "duration": 7,
    "start_time": "2022-04-12T14:52:31.362Z"
   },
   {
    "duration": 54,
    "start_time": "2022-04-12T14:52:31.371Z"
   },
   {
    "duration": 116,
    "start_time": "2022-04-12T14:52:31.502Z"
   },
   {
    "duration": 115,
    "start_time": "2022-04-12T14:52:31.701Z"
   },
   {
    "duration": 81,
    "start_time": "2022-04-12T14:52:31.818Z"
   },
   {
    "duration": 101,
    "start_time": "2022-04-12T14:52:31.903Z"
   },
   {
    "duration": 7,
    "start_time": "2022-04-12T14:52:32.006Z"
   },
   {
    "duration": 6,
    "start_time": "2022-04-12T14:52:32.015Z"
   },
   {
    "duration": 536,
    "start_time": "2022-04-12T14:52:32.022Z"
   },
   {
    "duration": 520,
    "start_time": "2022-04-12T14:52:32.560Z"
   },
   {
    "duration": 585,
    "start_time": "2022-04-12T14:52:33.082Z"
   },
   {
    "duration": 3,
    "start_time": "2022-04-12T14:53:38.881Z"
   },
   {
    "duration": 3,
    "start_time": "2022-04-12T14:53:51.217Z"
   },
   {
    "duration": 1340,
    "start_time": "2022-04-12T15:03:10.048Z"
   },
   {
    "duration": 336,
    "start_time": "2022-04-12T15:03:11.390Z"
   },
   {
    "duration": 75,
    "start_time": "2022-04-12T15:03:11.728Z"
   },
   {
    "duration": 108,
    "start_time": "2022-04-12T15:03:11.805Z"
   },
   {
    "duration": 135,
    "start_time": "2022-04-12T15:03:11.915Z"
   },
   {
    "duration": 530,
    "start_time": "2022-04-12T15:03:12.052Z"
   },
   {
    "duration": 7,
    "start_time": "2022-04-12T15:03:12.584Z"
   },
   {
    "duration": 17,
    "start_time": "2022-04-12T15:03:12.600Z"
   },
   {
    "duration": 7,
    "start_time": "2022-04-12T15:03:12.619Z"
   },
   {
    "duration": 78,
    "start_time": "2022-04-12T15:03:12.628Z"
   },
   {
    "duration": 112,
    "start_time": "2022-04-12T15:03:12.709Z"
   },
   {
    "duration": 111,
    "start_time": "2022-04-12T15:03:12.900Z"
   },
   {
    "duration": 4,
    "start_time": "2022-04-12T15:03:13.013Z"
   },
   {
    "duration": 102,
    "start_time": "2022-04-12T15:03:13.102Z"
   },
   {
    "duration": 5,
    "start_time": "2022-04-12T15:03:13.206Z"
   },
   {
    "duration": 4,
    "start_time": "2022-04-12T15:03:13.212Z"
   },
   {
    "duration": 558,
    "start_time": "2022-04-12T15:03:13.218Z"
   },
   {
    "duration": 515,
    "start_time": "2022-04-12T15:03:13.778Z"
   },
   {
    "duration": 762,
    "start_time": "2022-04-12T15:03:14.294Z"
   },
   {
    "duration": 104,
    "start_time": "2022-04-12T15:04:50.838Z"
   },
   {
    "duration": 1360,
    "start_time": "2022-04-12T15:04:58.006Z"
   },
   {
    "duration": 342,
    "start_time": "2022-04-12T15:04:59.368Z"
   },
   {
    "duration": 55,
    "start_time": "2022-04-12T15:04:59.712Z"
   },
   {
    "duration": 108,
    "start_time": "2022-04-12T15:04:59.769Z"
   },
   {
    "duration": 139,
    "start_time": "2022-04-12T15:04:59.879Z"
   },
   {
    "duration": 534,
    "start_time": "2022-04-12T15:05:00.020Z"
   },
   {
    "duration": 6,
    "start_time": "2022-04-12T15:05:00.556Z"
   },
   {
    "duration": 44,
    "start_time": "2022-04-12T15:05:00.564Z"
   },
   {
    "duration": 19,
    "start_time": "2022-04-12T15:05:00.610Z"
   },
   {
    "duration": 74,
    "start_time": "2022-04-12T15:05:00.631Z"
   },
   {
    "duration": 194,
    "start_time": "2022-04-12T15:05:00.708Z"
   },
   {
    "duration": 111,
    "start_time": "2022-04-12T15:05:00.904Z"
   },
   {
    "duration": 3,
    "start_time": "2022-04-12T15:05:01.017Z"
   },
   {
    "duration": 5,
    "start_time": "2022-04-12T15:05:01.102Z"
   },
   {
    "duration": 124,
    "start_time": "2022-04-12T15:05:01.109Z"
   },
   {
    "duration": 37,
    "start_time": "2022-04-12T15:05:01.235Z"
   },
   {
    "duration": 556,
    "start_time": "2022-04-12T15:05:01.274Z"
   },
   {
    "duration": 554,
    "start_time": "2022-04-12T15:05:01.831Z"
   },
   {
    "duration": 540,
    "start_time": "2022-04-12T15:05:02.387Z"
   },
   {
    "duration": 2141,
    "start_time": "2022-04-13T07:23:30.564Z"
   },
   {
    "duration": 426,
    "start_time": "2022-04-13T07:23:32.707Z"
   },
   {
    "duration": 101,
    "start_time": "2022-04-13T07:23:33.135Z"
   },
   {
    "duration": 158,
    "start_time": "2022-04-13T07:23:33.239Z"
   },
   {
    "duration": 225,
    "start_time": "2022-04-13T07:23:33.399Z"
   },
   {
    "duration": 1022,
    "start_time": "2022-04-13T07:23:33.626Z"
   },
   {
    "duration": 10,
    "start_time": "2022-04-13T07:23:34.651Z"
   },
   {
    "duration": 37,
    "start_time": "2022-04-13T07:23:34.663Z"
   },
   {
    "duration": 9,
    "start_time": "2022-04-13T07:23:34.702Z"
   },
   {
    "duration": 168,
    "start_time": "2022-04-13T07:23:34.715Z"
   },
   {
    "duration": 208,
    "start_time": "2022-04-13T07:23:34.887Z"
   },
   {
    "duration": 99,
    "start_time": "2022-04-13T07:23:35.183Z"
   },
   {
    "duration": 6,
    "start_time": "2022-04-13T07:23:35.286Z"
   },
   {
    "duration": 9,
    "start_time": "2022-04-13T07:23:35.383Z"
   },
   {
    "duration": 11,
    "start_time": "2022-04-13T07:23:35.394Z"
   },
   {
    "duration": 9,
    "start_time": "2022-04-13T07:23:35.408Z"
   },
   {
    "duration": 1355,
    "start_time": "2022-04-13T07:23:35.419Z"
   },
   {
    "duration": 922,
    "start_time": "2022-04-13T07:23:36.776Z"
   },
   {
    "duration": 1112,
    "start_time": "2022-04-13T07:23:37.700Z"
   }
  ],
  "kernelspec": {
   "display_name": "Python 3",
   "language": "python",
   "name": "python3"
  },
  "language_info": {
   "codemirror_mode": {
    "name": "ipython",
    "version": 3
   },
   "file_extension": ".py",
   "mimetype": "text/x-python",
   "name": "python",
   "nbconvert_exporter": "python",
   "pygments_lexer": "ipython3",
   "version": "3.8.8"
  },
  "toc": {
   "base_numbering": 1,
   "nav_menu": {},
   "number_sections": true,
   "sideBar": true,
   "skip_h1_title": true,
   "title_cell": "Table of Contents",
   "title_sidebar": "Contents",
   "toc_cell": false,
   "toc_position": {},
   "toc_section_display": true,
   "toc_window_display": false
  }
 },
 "nbformat": 4,
 "nbformat_minor": 2
}
