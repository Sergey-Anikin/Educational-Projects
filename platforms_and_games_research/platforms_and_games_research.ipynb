{
 "cells": [
  {
   "cell_type": "markdown",
   "metadata": {},
   "source": [
    "#  Закономерности, определяющие успешность игры. "
   ]
  },
  {
   "cell_type": "markdown",
   "metadata": {},
   "source": [
    "**Описание проекта:**\n",
    "\n",
    " Из открытых источников доступны исторические данные о\n",
    "продажах игр, оценки пользователей и экспертов, жанры и платформы\n",
    "(например, Xbox или PlayStation). Нужно выявить определяющие успешность\n",
    "игры закономерности. Это позволит сделать ставку на потенциально популярный\n",
    "продукт и спланировать рекламные кампании.\n",
    "\n",
    "Перед вами данные до 2016 года."
   ]
  },
  {
   "cell_type": "markdown",
   "metadata": {},
   "source": [
    "Перечень задач:\n",
    "\n",
    "   * Изучить общую информацию.\n",
    "   * Подготовить данные: заменить названия столбцов; преобразовать данные в нужные типы; обработать пропуски при необходимости; посчитайть суммарные продажи во всех регионах и записать их в отдельный столбец.\n",
    "   * Проанализировать данные: сколько игр выпускалось в разные годы; как менялись продажи по платформам; выбрать актуальный период; какие платформы лидируют по продажам; как влияют на продажи внутри одной популярной платформы отзывы пользователей и критиков; общее распределение игр по жанрам; cоставить портрет пользователя каждого региона.\n",
    "   * Проверить гипотезы: 1. Средние пользовательские рейтинги платформ Xbox One и PC одинаковые; 2. Средние пользовательские рейтинги жанров Action и Sports разные.\n",
    "   * Общий вывод. Что определяет успешность игры? Прогноз на 2017."
   ]
  },
  {
   "cell_type": "markdown",
   "metadata": {},
   "source": [
    "## Откройте файл с данными и изучите общую информацию."
   ]
  },
  {
   "cell_type": "code",
   "execution_count": 1,
   "metadata": {},
   "outputs": [],
   "source": [
    "import pandas as pd # импорт библиотеки pandas\n",
    "import numpy as np # импорт библиотеки numpy\n",
    "import matplotlib.pyplot as plt # импорт библиотеки matplotlib\n",
    "import seaborn as sns # импорт библиотеки seaborn\n",
    "from scipy import stats as st # импорт библиотеки scipy\n",
    "from IPython.display import display_html # импорт библиотеки IPython.display\n",
    "from itertools import chain,cycle # импорт библиотеки itertools"
   ]
  },
  {
   "cell_type": "code",
   "execution_count": 2,
   "metadata": {},
   "outputs": [
    {
     "name": "stdout",
     "output_type": "stream",
     "text": [
      "<class 'pandas.core.frame.DataFrame'>\n",
      "RangeIndex: 16715 entries, 0 to 16714\n",
      "Data columns (total 11 columns):\n",
      " #   Column           Non-Null Count  Dtype  \n",
      "---  ------           --------------  -----  \n",
      " 0   Name             16713 non-null  object \n",
      " 1   Platform         16715 non-null  object \n",
      " 2   Year_of_Release  16446 non-null  float64\n",
      " 3   Genre            16713 non-null  object \n",
      " 4   NA_sales         16715 non-null  float64\n",
      " 5   EU_sales         16715 non-null  float64\n",
      " 6   JP_sales         16715 non-null  float64\n",
      " 7   Other_sales      16715 non-null  float64\n",
      " 8   Critic_Score     8137 non-null   float64\n",
      " 9   User_Score       10014 non-null  object \n",
      " 10  Rating           9949 non-null   object \n",
      "dtypes: float64(6), object(5)\n",
      "memory usage: 1.4+ MB\n"
     ]
    },
    {
     "data": {
      "text/html": [
       "<div>\n",
       "<style scoped>\n",
       "    .dataframe tbody tr th:only-of-type {\n",
       "        vertical-align: middle;\n",
       "    }\n",
       "\n",
       "    .dataframe tbody tr th {\n",
       "        vertical-align: top;\n",
       "    }\n",
       "\n",
       "    .dataframe thead th {\n",
       "        text-align: right;\n",
       "    }\n",
       "</style>\n",
       "<table border=\"1\" class=\"dataframe\">\n",
       "  <thead>\n",
       "    <tr style=\"text-align: right;\">\n",
       "      <th></th>\n",
       "      <th>Name</th>\n",
       "      <th>Platform</th>\n",
       "      <th>Year_of_Release</th>\n",
       "      <th>Genre</th>\n",
       "      <th>NA_sales</th>\n",
       "      <th>EU_sales</th>\n",
       "      <th>JP_sales</th>\n",
       "      <th>Other_sales</th>\n",
       "      <th>Critic_Score</th>\n",
       "      <th>User_Score</th>\n",
       "      <th>Rating</th>\n",
       "    </tr>\n",
       "  </thead>\n",
       "  <tbody>\n",
       "    <tr>\n",
       "      <th>0</th>\n",
       "      <td>Wii Sports</td>\n",
       "      <td>Wii</td>\n",
       "      <td>2006.0</td>\n",
       "      <td>Sports</td>\n",
       "      <td>41.36</td>\n",
       "      <td>28.96</td>\n",
       "      <td>3.77</td>\n",
       "      <td>8.45</td>\n",
       "      <td>76.0</td>\n",
       "      <td>8</td>\n",
       "      <td>E</td>\n",
       "    </tr>\n",
       "    <tr>\n",
       "      <th>1</th>\n",
       "      <td>Super Mario Bros.</td>\n",
       "      <td>NES</td>\n",
       "      <td>1985.0</td>\n",
       "      <td>Platform</td>\n",
       "      <td>29.08</td>\n",
       "      <td>3.58</td>\n",
       "      <td>6.81</td>\n",
       "      <td>0.77</td>\n",
       "      <td>NaN</td>\n",
       "      <td>NaN</td>\n",
       "      <td>NaN</td>\n",
       "    </tr>\n",
       "    <tr>\n",
       "      <th>2</th>\n",
       "      <td>Mario Kart Wii</td>\n",
       "      <td>Wii</td>\n",
       "      <td>2008.0</td>\n",
       "      <td>Racing</td>\n",
       "      <td>15.68</td>\n",
       "      <td>12.76</td>\n",
       "      <td>3.79</td>\n",
       "      <td>3.29</td>\n",
       "      <td>82.0</td>\n",
       "      <td>8.3</td>\n",
       "      <td>E</td>\n",
       "    </tr>\n",
       "    <tr>\n",
       "      <th>3</th>\n",
       "      <td>Wii Sports Resort</td>\n",
       "      <td>Wii</td>\n",
       "      <td>2009.0</td>\n",
       "      <td>Sports</td>\n",
       "      <td>15.61</td>\n",
       "      <td>10.93</td>\n",
       "      <td>3.28</td>\n",
       "      <td>2.95</td>\n",
       "      <td>80.0</td>\n",
       "      <td>8</td>\n",
       "      <td>E</td>\n",
       "    </tr>\n",
       "    <tr>\n",
       "      <th>4</th>\n",
       "      <td>Pokemon Red/Pokemon Blue</td>\n",
       "      <td>GB</td>\n",
       "      <td>1996.0</td>\n",
       "      <td>Role-Playing</td>\n",
       "      <td>11.27</td>\n",
       "      <td>8.89</td>\n",
       "      <td>10.22</td>\n",
       "      <td>1.00</td>\n",
       "      <td>NaN</td>\n",
       "      <td>NaN</td>\n",
       "      <td>NaN</td>\n",
       "    </tr>\n",
       "    <tr>\n",
       "      <th>5</th>\n",
       "      <td>Tetris</td>\n",
       "      <td>GB</td>\n",
       "      <td>1989.0</td>\n",
       "      <td>Puzzle</td>\n",
       "      <td>23.20</td>\n",
       "      <td>2.26</td>\n",
       "      <td>4.22</td>\n",
       "      <td>0.58</td>\n",
       "      <td>NaN</td>\n",
       "      <td>NaN</td>\n",
       "      <td>NaN</td>\n",
       "    </tr>\n",
       "    <tr>\n",
       "      <th>6</th>\n",
       "      <td>New Super Mario Bros.</td>\n",
       "      <td>DS</td>\n",
       "      <td>2006.0</td>\n",
       "      <td>Platform</td>\n",
       "      <td>11.28</td>\n",
       "      <td>9.14</td>\n",
       "      <td>6.50</td>\n",
       "      <td>2.88</td>\n",
       "      <td>89.0</td>\n",
       "      <td>8.5</td>\n",
       "      <td>E</td>\n",
       "    </tr>\n",
       "    <tr>\n",
       "      <th>7</th>\n",
       "      <td>Wii Play</td>\n",
       "      <td>Wii</td>\n",
       "      <td>2006.0</td>\n",
       "      <td>Misc</td>\n",
       "      <td>13.96</td>\n",
       "      <td>9.18</td>\n",
       "      <td>2.93</td>\n",
       "      <td>2.84</td>\n",
       "      <td>58.0</td>\n",
       "      <td>6.6</td>\n",
       "      <td>E</td>\n",
       "    </tr>\n",
       "    <tr>\n",
       "      <th>8</th>\n",
       "      <td>New Super Mario Bros. Wii</td>\n",
       "      <td>Wii</td>\n",
       "      <td>2009.0</td>\n",
       "      <td>Platform</td>\n",
       "      <td>14.44</td>\n",
       "      <td>6.94</td>\n",
       "      <td>4.70</td>\n",
       "      <td>2.24</td>\n",
       "      <td>87.0</td>\n",
       "      <td>8.4</td>\n",
       "      <td>E</td>\n",
       "    </tr>\n",
       "    <tr>\n",
       "      <th>9</th>\n",
       "      <td>Duck Hunt</td>\n",
       "      <td>NES</td>\n",
       "      <td>1984.0</td>\n",
       "      <td>Shooter</td>\n",
       "      <td>26.93</td>\n",
       "      <td>0.63</td>\n",
       "      <td>0.28</td>\n",
       "      <td>0.47</td>\n",
       "      <td>NaN</td>\n",
       "      <td>NaN</td>\n",
       "      <td>NaN</td>\n",
       "    </tr>\n",
       "  </tbody>\n",
       "</table>\n",
       "</div>"
      ],
      "text/plain": [
       "                        Name Platform  Year_of_Release         Genre  \\\n",
       "0                 Wii Sports      Wii           2006.0        Sports   \n",
       "1          Super Mario Bros.      NES           1985.0      Platform   \n",
       "2             Mario Kart Wii      Wii           2008.0        Racing   \n",
       "3          Wii Sports Resort      Wii           2009.0        Sports   \n",
       "4   Pokemon Red/Pokemon Blue       GB           1996.0  Role-Playing   \n",
       "5                     Tetris       GB           1989.0        Puzzle   \n",
       "6      New Super Mario Bros.       DS           2006.0      Platform   \n",
       "7                   Wii Play      Wii           2006.0          Misc   \n",
       "8  New Super Mario Bros. Wii      Wii           2009.0      Platform   \n",
       "9                  Duck Hunt      NES           1984.0       Shooter   \n",
       "\n",
       "   NA_sales  EU_sales  JP_sales  Other_sales  Critic_Score User_Score Rating  \n",
       "0     41.36     28.96      3.77         8.45          76.0          8      E  \n",
       "1     29.08      3.58      6.81         0.77           NaN        NaN    NaN  \n",
       "2     15.68     12.76      3.79         3.29          82.0        8.3      E  \n",
       "3     15.61     10.93      3.28         2.95          80.0          8      E  \n",
       "4     11.27      8.89     10.22         1.00           NaN        NaN    NaN  \n",
       "5     23.20      2.26      4.22         0.58           NaN        NaN    NaN  \n",
       "6     11.28      9.14      6.50         2.88          89.0        8.5      E  \n",
       "7     13.96      9.18      2.93         2.84          58.0        6.6      E  \n",
       "8     14.44      6.94      4.70         2.24          87.0        8.4      E  \n",
       "9     26.93      0.63      0.28         0.47           NaN        NaN    NaN  "
      ]
     },
     "execution_count": 2,
     "metadata": {},
     "output_type": "execute_result"
    }
   ],
   "source": [
    "data = pd.read_csv('***.csv') # чтение файла с данными и сохранение в переменной data\n",
    "data.info() # получение общей информации о данных в таблице data\n",
    "data.head(10) # получение первых 10 строк таблицы data"
   ]
  },
  {
   "cell_type": "code",
   "execution_count": 3,
   "metadata": {},
   "outputs": [
    {
     "data": {
      "text/plain": [
       "0"
      ]
     },
     "execution_count": 3,
     "metadata": {},
     "output_type": "execute_result"
    }
   ],
   "source": [
    "data.duplicated().sum() #поиск явных дубликатов"
   ]
  },
  {
   "cell_type": "markdown",
   "metadata": {},
   "source": [
    "Описание данных\n",
    "\n",
    "- `Name` — название игры\n",
    "- `Platform` — платформа\n",
    "- `Year_of_Release` — год выпуска\n",
    "- `Genre` — жанр игры\n",
    "- `NA_sales` — продажи в Северной Америке (миллионы проданных копий)\n",
    "- `EU_sales` — продажи в Европе (миллионы проданных копий)\n",
    "- `JP_sales` — продажи в Японии (миллионы проданных копий)\n",
    "- `Other_sales` — продажи в других странах (миллионы проданных копий)\n",
    "- `Critic_Score` — оценка критиков (максимум 100)\n",
    "- `User_Score` — оценка пользователей (максимум 10)\n",
    "- `Rating` — рейтинг от организации ESRB (англ. Entertainment Software Rating Board). Эта ассоциация определяет рейтинг компьютерных игр и присваивает им подходящую возрастную категорию.\n",
    "\n",
    "Из документации известно, что данные за 2016 год могут быть неполными."
   ]
  },
  {
   "cell_type": "markdown",
   "metadata": {},
   "source": [
    "**Вывод:**"
   ]
  },
  {
   "cell_type": "markdown",
   "metadata": {},
   "source": [
    "В таблице представлены данные об играх, вышедших с 1980 по 2016 год. Присутсвуют данные о 16715 игр. Каждая строка - это игра. Есть пропуски и нарушения змеиного регистра. Полных дубликатов нет. Необходимо обработать пропуски, чтобы двигаться дальше."
   ]
  },
  {
   "cell_type": "markdown",
   "metadata": {},
   "source": [
    "## Подготовка данных"
   ]
  },
  {
   "cell_type": "markdown",
   "metadata": {},
   "source": [
    "### Правка столбцов (приведение к нижнему регистру)"
   ]
  },
  {
   "cell_type": "code",
   "execution_count": 4,
   "metadata": {},
   "outputs": [],
   "source": [
    "data.columns = data.columns.str.lower() # приведение к нижнему регистру"
   ]
  },
  {
   "cell_type": "markdown",
   "metadata": {},
   "source": [
    "###  Обработка пропусков"
   ]
  },
  {
   "cell_type": "code",
   "execution_count": 5,
   "metadata": {},
   "outputs": [
    {
     "data": {
      "text/plain": [
       "critic_score       8578\n",
       "rating             6766\n",
       "user_score         6701\n",
       "year_of_release     269\n",
       "name                  2\n",
       "genre                 2\n",
       "platform              0\n",
       "na_sales              0\n",
       "eu_sales              0\n",
       "jp_sales              0\n",
       "other_sales           0\n",
       "dtype: int64"
      ]
     },
     "execution_count": 5,
     "metadata": {},
     "output_type": "execute_result"
    }
   ],
   "source": [
    "data.isna().sum().sort_values(ascending = False) # подсчет пропусков"
   ]
  },
  {
   "cell_type": "code",
   "execution_count": 6,
   "metadata": {},
   "outputs": [
    {
     "data": {
      "text/plain": [
       "critic_score       51.319\n",
       "rating             40.479\n",
       "user_score         40.090\n",
       "year_of_release     1.609\n",
       "name                0.012\n",
       "genre               0.012\n",
       "platform            0.000\n",
       "na_sales            0.000\n",
       "eu_sales            0.000\n",
       "jp_sales            0.000\n",
       "other_sales         0.000\n",
       "dtype: float64"
      ]
     },
     "execution_count": 6,
     "metadata": {},
     "output_type": "execute_result"
    }
   ],
   "source": [
    "round(data.isna().mean()*100, 3).sort_values(ascending = False) # процент пропущенных значений"
   ]
  },
  {
   "cell_type": "markdown",
   "metadata": {},
   "source": [
    "Больше половины пропусков в столбце 'critic_score'. \n",
    "Так же существенное количество, около 40%, в столбцах 'rating' и 'user_score'. \n",
    "Такое вполне возможно, потому что далеко не все игры имеют обзоры игроков и критиков. Поэтому мы получили пропуски. Рейтинг тоже может быть не присвоен, особенно у не популярной игры. Так как это учебный проект, мы не можем запросить полные данные. Оставляем пропуски.\n",
    "\n",
    "Другие строки с пропусками с годом релиза, жанром и играми можно смело удалить. Они составляют 1,6 % и 0,01 % от общей выборки."
   ]
  },
  {
   "cell_type": "code",
   "execution_count": 7,
   "metadata": {},
   "outputs": [],
   "source": [
    "data = data.dropna(subset=['name','genre','year_of_release']).reset_index(drop=True) \n",
    "# удаляю строки с пустыми значениями в столбцах 'name','genre'"
   ]
  },
  {
   "cell_type": "markdown",
   "metadata": {},
   "source": [
    "Тип данных столбца 'user_score' строковый, нужно разобраться почему:"
   ]
  },
  {
   "cell_type": "code",
   "execution_count": 8,
   "metadata": {},
   "outputs": [
    {
     "data": {
      "text/plain": [
       "tbd    2376\n",
       "7.8     322\n",
       "8       285\n",
       "8.2     276\n",
       "8.3     252\n",
       "Name: user_score, dtype: int64"
      ]
     },
     "execution_count": 8,
     "metadata": {},
     "output_type": "execute_result"
    }
   ],
   "source": [
    "data['user_score'].value_counts().head() # вывод уникальных значений столбца"
   ]
  },
  {
   "cell_type": "markdown",
   "metadata": {},
   "source": [
    "Аббревиатура 'tbd' рассшифровывается \"To Be Determined\", что значит \"Предстоит определить\". Что в контексте оценки пользователей означает недостаточное количество отзывов об игре, на основе которых можно составить оценку. Как правило их должно быть минимум 4. Напрашивается вывод заполнить пустыми значениями, чтобы не потерять 2376 строчек. Так как рейтинг игры может быть любым."
   ]
  },
  {
   "cell_type": "code",
   "execution_count": 9,
   "metadata": {},
   "outputs": [],
   "source": [
    "data['user_score'] = pd.to_numeric(data['user_score'], errors='coerce') \n",
    "# замена значений 'tbd' на None и перевод из строкового значения в численный"
   ]
  },
  {
   "cell_type": "markdown",
   "metadata": {},
   "source": [
    "### Преобразование данных к нужным типам. "
   ]
  },
  {
   "cell_type": "code",
   "execution_count": 10,
   "metadata": {},
   "outputs": [],
   "source": [
    "data['year_of_release'] = data['year_of_release'].astype('int64') # перевод значения в целочисленный"
   ]
  },
  {
   "cell_type": "markdown",
   "metadata": {},
   "source": [
    "### Подсчет суммарных продаж во всех регионах и запись в отдельный столбец."
   ]
  },
  {
   "cell_type": "code",
   "execution_count": 11,
   "metadata": {},
   "outputs": [
    {
     "data": {
      "text/html": [
       "<div>\n",
       "<style scoped>\n",
       "    .dataframe tbody tr th:only-of-type {\n",
       "        vertical-align: middle;\n",
       "    }\n",
       "\n",
       "    .dataframe tbody tr th {\n",
       "        vertical-align: top;\n",
       "    }\n",
       "\n",
       "    .dataframe thead th {\n",
       "        text-align: right;\n",
       "    }\n",
       "</style>\n",
       "<table border=\"1\" class=\"dataframe\">\n",
       "  <thead>\n",
       "    <tr style=\"text-align: right;\">\n",
       "      <th></th>\n",
       "      <th>name</th>\n",
       "      <th>platform</th>\n",
       "      <th>year_of_release</th>\n",
       "      <th>genre</th>\n",
       "      <th>na_sales</th>\n",
       "      <th>eu_sales</th>\n",
       "      <th>jp_sales</th>\n",
       "      <th>other_sales</th>\n",
       "      <th>critic_score</th>\n",
       "      <th>user_score</th>\n",
       "      <th>rating</th>\n",
       "      <th>sum_sales</th>\n",
       "    </tr>\n",
       "  </thead>\n",
       "  <tbody>\n",
       "    <tr>\n",
       "      <th>0</th>\n",
       "      <td>Wii Sports</td>\n",
       "      <td>Wii</td>\n",
       "      <td>2006</td>\n",
       "      <td>Sports</td>\n",
       "      <td>41.36</td>\n",
       "      <td>28.96</td>\n",
       "      <td>3.77</td>\n",
       "      <td>8.45</td>\n",
       "      <td>76.0</td>\n",
       "      <td>8.0</td>\n",
       "      <td>E</td>\n",
       "      <td>82.54</td>\n",
       "    </tr>\n",
       "    <tr>\n",
       "      <th>1</th>\n",
       "      <td>Super Mario Bros.</td>\n",
       "      <td>NES</td>\n",
       "      <td>1985</td>\n",
       "      <td>Platform</td>\n",
       "      <td>29.08</td>\n",
       "      <td>3.58</td>\n",
       "      <td>6.81</td>\n",
       "      <td>0.77</td>\n",
       "      <td>NaN</td>\n",
       "      <td>NaN</td>\n",
       "      <td>NaN</td>\n",
       "      <td>40.24</td>\n",
       "    </tr>\n",
       "    <tr>\n",
       "      <th>2</th>\n",
       "      <td>Mario Kart Wii</td>\n",
       "      <td>Wii</td>\n",
       "      <td>2008</td>\n",
       "      <td>Racing</td>\n",
       "      <td>15.68</td>\n",
       "      <td>12.76</td>\n",
       "      <td>3.79</td>\n",
       "      <td>3.29</td>\n",
       "      <td>82.0</td>\n",
       "      <td>8.3</td>\n",
       "      <td>E</td>\n",
       "      <td>35.52</td>\n",
       "    </tr>\n",
       "    <tr>\n",
       "      <th>3</th>\n",
       "      <td>Wii Sports Resort</td>\n",
       "      <td>Wii</td>\n",
       "      <td>2009</td>\n",
       "      <td>Sports</td>\n",
       "      <td>15.61</td>\n",
       "      <td>10.93</td>\n",
       "      <td>3.28</td>\n",
       "      <td>2.95</td>\n",
       "      <td>80.0</td>\n",
       "      <td>8.0</td>\n",
       "      <td>E</td>\n",
       "      <td>32.77</td>\n",
       "    </tr>\n",
       "    <tr>\n",
       "      <th>4</th>\n",
       "      <td>Pokemon Red/Pokemon Blue</td>\n",
       "      <td>GB</td>\n",
       "      <td>1996</td>\n",
       "      <td>Role-Playing</td>\n",
       "      <td>11.27</td>\n",
       "      <td>8.89</td>\n",
       "      <td>10.22</td>\n",
       "      <td>1.00</td>\n",
       "      <td>NaN</td>\n",
       "      <td>NaN</td>\n",
       "      <td>NaN</td>\n",
       "      <td>31.38</td>\n",
       "    </tr>\n",
       "  </tbody>\n",
       "</table>\n",
       "</div>"
      ],
      "text/plain": [
       "                       name platform  year_of_release         genre  na_sales  \\\n",
       "0                Wii Sports      Wii             2006        Sports     41.36   \n",
       "1         Super Mario Bros.      NES             1985      Platform     29.08   \n",
       "2            Mario Kart Wii      Wii             2008        Racing     15.68   \n",
       "3         Wii Sports Resort      Wii             2009        Sports     15.61   \n",
       "4  Pokemon Red/Pokemon Blue       GB             1996  Role-Playing     11.27   \n",
       "\n",
       "   eu_sales  jp_sales  other_sales  critic_score  user_score rating  sum_sales  \n",
       "0     28.96      3.77         8.45          76.0         8.0      E      82.54  \n",
       "1      3.58      6.81         0.77           NaN         NaN    NaN      40.24  \n",
       "2     12.76      3.79         3.29          82.0         8.3      E      35.52  \n",
       "3     10.93      3.28         2.95          80.0         8.0      E      32.77  \n",
       "4      8.89     10.22         1.00           NaN         NaN    NaN      31.38  "
      ]
     },
     "execution_count": 11,
     "metadata": {},
     "output_type": "execute_result"
    }
   ],
   "source": [
    "data['sum_sales'] = data[['na_sales','eu_sales','jp_sales','other_sales']].T.sum()\n",
    "# суммирование столбцов продаж в трех регионах с сохранением в отдельный столбец\n",
    "data.head() "
   ]
  },
  {
   "cell_type": "markdown",
   "metadata": {},
   "source": [
    "**Вывод:**"
   ]
  },
  {
   "cell_type": "markdown",
   "metadata": {},
   "source": [
    "- Название стоблцов приведены к нижнему регистру.\n",
    "- Обработал пропуски и удалил небольшое количество строк, они бесполезны для анализа.\n",
    "- Привел данные к нужном типу в 2 столбцах.\n",
    "- Посчитал суммарные продажи во всех регионах.\n",
    "\n",
    "Данные готовы для анализа."
   ]
  },
  {
   "cell_type": "markdown",
   "metadata": {},
   "source": [
    "## Исследовательский анализ данных"
   ]
  },
  {
   "cell_type": "markdown",
   "metadata": {},
   "source": [
    "###  Сколько игр выпускалось в разные годы."
   ]
  },
  {
   "cell_type": "code",
   "execution_count": 12,
   "metadata": {},
   "outputs": [
    {
     "data": {
      "text/plain": [
       "2008    1427\n",
       "2009    1426\n",
       "2010    1255\n",
       "2007    1197\n",
       "2011    1136\n",
       "2006    1006\n",
       "2005     939\n",
       "2002     829\n",
       "2003     775\n",
       "2004     762\n",
       "2012     653\n",
       "2015     606\n",
       "2014     581\n",
       "2013     544\n",
       "2016     502\n",
       "2001     482\n",
       "1998     379\n",
       "2000     350\n",
       "1999     338\n",
       "1997     289\n",
       "1996     263\n",
       "1995     219\n",
       "1994     121\n",
       "1993      60\n",
       "1981      46\n",
       "1992      43\n",
       "1991      41\n",
       "1982      36\n",
       "1986      21\n",
       "1989      17\n",
       "1983      17\n",
       "1990      16\n",
       "1987      16\n",
       "1988      15\n",
       "1985      14\n",
       "1984      14\n",
       "1980       9\n",
       "Name: year_of_release, dtype: int64"
      ]
     },
     "execution_count": 12,
     "metadata": {},
     "output_type": "execute_result"
    }
   ],
   "source": [
    "years_games = data['year_of_release'].value_counts() # список игр по годам\n",
    "years_games"
   ]
  },
  {
   "cell_type": "code",
   "execution_count": 13,
   "metadata": {},
   "outputs": [
    {
     "data": {
      "image/png": "[encoded data removed]",
      "text/plain": [
       "<Figure size 1080x504 with 1 Axes>"
      ]
     },
     "metadata": {
      "needs_background": "light"
     },
     "output_type": "display_data"
    }
   ],
   "source": [
    "# график списка игр по годам\n",
    "x=years_games.index\n",
    "plt.figure(figsize=(15,7))\n",
    "plt.bar(x, data['year_of_release'].value_counts());\n",
    "plt.title('Количество выпущенных игр в год',fontsize = 15)\n",
    "plt.ylabel('Количество игр',fontsize = 12)\n",
    "plt.xlabel('Год выпуска',fontsize = 12)\n",
    "plt.grid()"
   ]
  },
  {
   "cell_type": "code",
   "execution_count": 14,
   "metadata": {},
   "outputs": [
    {
     "data": {
      "text/plain": [
       "2.22"
      ]
     },
     "execution_count": 14,
     "metadata": {},
     "output_type": "execute_result"
    }
   ],
   "source": [
    "round((len(data[data['year_of_release']<1994]) / data.shape[0]*100), 3) # процент неучтенных игр раньше 1994 года"
   ]
  },
  {
   "cell_type": "markdown",
   "metadata": {},
   "source": [
    "Я считаю что данные раньше 1994 года брать не стоит, в год игр выходило меньше сотни. Если мы отбросим данные раньше 1994 года мы потеряем 2.2% от всей массы. Если сюда добавить 1.63% с пропусками, то всего мы избавились от 3.83%. Это допустимо. Можем работать дальше."
   ]
  },
  {
   "cell_type": "code",
   "execution_count": 15,
   "metadata": {},
   "outputs": [],
   "source": [
    "act_data = data[data['year_of_release']>=1994] # отбросим данные раньше 1994 года"
   ]
  },
  {
   "cell_type": "markdown",
   "metadata": {},
   "source": [
    "Больше всего игр вышло в 2008 и 2009 годы.\n",
    "В 80-х выходило мало игр, индустрия только зарождалась. В 1994 году вышла первая PlayStation, и популярность игр пошла вверх. После 2009 года наблюдается спад количества игр, выходящих в год. \n",
    "\n",
    "Мне кажется здесь несколько факторов:\n",
    "- Увеличение качества продукта, взамен количества. Нацеленность на хиты. \n",
    "- Увеличение количества онлайн игр. Ежемесячная плата.\n",
    "- А так же возможно увеличение количества мобильных игр. Донат."
   ]
  },
  {
   "cell_type": "markdown",
   "metadata": {},
   "source": [
    "###  Как менялись продажи по платформам."
   ]
  },
  {
   "cell_type": "code",
   "execution_count": 16,
   "metadata": {},
   "outputs": [
    {
     "data": {
      "text/plain": [
       "platform\n",
       "PS2     1233.56\n",
       "X360     961.24\n",
       "PS3      931.34\n",
       "Wii      891.18\n",
       "DS       802.76\n",
       "PS       727.58\n",
       "PS4      314.14\n",
       "GBA      312.88\n",
       "PSP      289.53\n",
       "3DS      257.81\n",
       "PC       252.66\n",
       "XB       251.57\n",
       "N64      218.01\n",
       "GC       196.73\n",
       "XOne     159.32\n",
       "Name: sum_sales, dtype: float64"
      ]
     },
     "execution_count": 16,
     "metadata": {},
     "output_type": "execute_result"
    }
   ],
   "source": [
    "act_data.groupby('platform')['sum_sales'].sum().sort_values(ascending=False).head(15) \n",
    "# группировка по платформам с суммарными продажами, с сортировкой по убыванию"
   ]
  },
  {
   "cell_type": "markdown",
   "metadata": {},
   "source": [
    "PS2, X360, PS3, Wii, DS, PS - платформы с наибольшими суммарными продажами."
   ]
  },
  {
   "cell_type": "code",
   "execution_count": 17,
   "metadata": {},
   "outputs": [],
   "source": [
    "top_six_platforms = act_data.groupby('platform')['sum_sales'].sum().sort_values(ascending=False).head(6)\n",
    "# платформы с наибольшими суммарными продажами положим в переменную"
   ]
  },
  {
   "cell_type": "code",
   "execution_count": 18,
   "metadata": {},
   "outputs": [
    {
     "data": {
      "image/png": "[encoded data removed]",
      "text/plain": [
       "<Figure size 1080x360 with 1 Axes>"
      ]
     },
     "metadata": {
      "needs_background": "light"
     },
     "output_type": "display_data"
    }
   ],
   "source": [
    "# график 6 самых популярных платформ по продажам\n",
    "act_platforms = act_data.query('platform in @top_six_platforms.index')\n",
    "act_platforms = act_platforms.pivot_table(index='platform',values='sum_sales',columns='year_of_release',aggfunc='sum').T\n",
    "\n",
    "act_platforms.plot(figsize=(15, 5),grid=True);\n",
    "plt.title ('Суммарные продажи по годам',fontsize = 15);\n",
    "plt.xlabel('Год', fontsize=12);\n",
    "plt.ylabel('Суммарные продажи', fontsize=12);"
   ]
  },
  {
   "cell_type": "code",
   "execution_count": 19,
   "metadata": {},
   "outputs": [
    {
     "data": {
      "text/plain": [
       "11.0"
      ]
     },
     "execution_count": 19,
     "metadata": {},
     "output_type": "execute_result"
    }
   ],
   "source": [
    "act_platforms.count().mean() # среднее значение лет, за сколько игры выходили на топовых платформах"
   ]
  },
  {
   "cell_type": "code",
   "execution_count": 20,
   "metadata": {},
   "outputs": [
    {
     "data": {
      "text/plain": [
       "6.0"
      ]
     },
     "execution_count": 20,
     "metadata": {},
     "output_type": "execute_result"
    }
   ],
   "source": [
    "all_platforms = act_data.pivot_table(index='platform',values='sum_sales',columns='year_of_release',aggfunc='sum').T\n",
    "all_platforms.nunique().median() # медианное значение лет, за сколько игры выходили на всех платформах"
   ]
  },
  {
   "cell_type": "markdown",
   "metadata": {},
   "source": [
    "Я изучил 6 самых популярных платформ в выборке.\n",
    "В среднем через 11 лет, после запуска платформа уходит с рынка. Суммарные продажи падают до 0 примерно через 11 лет.\n",
    "\n",
    "А новые популярные платформы появляются примерно раз в 5-6 лет, когда у старых платформ прошел пик продаж. На спаде старых появляются новые. А так же развиваются технологии, прежняя платформа устаревает со временем.\n",
    "\n",
    "Но среднее время жизни всех платформ отличается, почти в два раза. Не популярные платформы уходят с рынка намного быстрее. И количество таких платформ в разы больше топовых."
   ]
  },
  {
   "cell_type": "markdown",
   "metadata": {},
   "source": [
    "### Фильтр данных по актуальному периоду."
   ]
  },
  {
   "cell_type": "markdown",
   "metadata": {},
   "source": [
    "Необходимо определить актуальный период, который поможет составить прогноз на 2017 год."
   ]
  },
  {
   "cell_type": "code",
   "execution_count": 21,
   "metadata": {
    "scrolled": false
   },
   "outputs": [
    {
     "data": {
      "image/png": "[encoded data removed]",
      "text/plain": [
       "<Figure size 1440x720 with 1 Axes>"
      ]
     },
     "metadata": {
      "needs_background": "light"
     },
     "output_type": "display_data"
    }
   ],
   "source": [
    "# график суммарных продаж по платформам по годам с 1994 года\n",
    "period = act_data.pivot_table(index='platform',values='sum_sales',columns = 'year_of_release',aggfunc='sum').T\n",
    "\n",
    "period.plot(figsize=(20, 10), grid=True, colormap='tab20');\n",
    "plt.title ('Суммарные продажи по годам',fontsize = 15);\n",
    "plt.xlabel('Год', fontsize=12);\n",
    "plt.ylabel('Суммарные продажи', fontsize=12);"
   ]
  },
  {
   "cell_type": "markdown",
   "metadata": {},
   "source": [
    "На основе графиков \"Количество выпущенных игр в год\" и \"Суммарные продажи по годам\" примем актуальный период с 2013 года. В 2013 у большинства платформ виден спад, а у некоторых подъем. Поэтому стоит взять период с 2013 года, так я получу актуальные жанры и пользовательские портреты. Не стоит брать более ранние периоды, так как они никак не повлияют на прогноз 2017 года. Индустрия развивается быстро."
   ]
  },
  {
   "cell_type": "code",
   "execution_count": 22,
   "metadata": {},
   "outputs": [],
   "source": [
    "actual_data = data[data['year_of_release']>=2013] # фильтр актуального периода"
   ]
  },
  {
   "cell_type": "markdown",
   "metadata": {},
   "source": [
    "### Какие платформы лидируют по продажам, растут или падают? Выбор несколько потенциально прибыльных платформ."
   ]
  },
  {
   "cell_type": "code",
   "execution_count": 23,
   "metadata": {
    "scrolled": true
   },
   "outputs": [
    {
     "data": {
      "image/png": "[encoded data removed]",
      "text/plain": [
       "<Figure size 1080x360 with 1 Axes>"
      ]
     },
     "metadata": {
      "needs_background": "light"
     },
     "output_type": "display_data"
    }
   ],
   "source": [
    "# график суммарных продаж по платформам за аткуальный период\n",
    "actual_data_platforms = actual_data.pivot_table(index='platform',values='sum_sales',columns = 'year_of_release',aggfunc='sum').T\n",
    "\n",
    "actual_data_platforms.plot(figsize=(15, 5),grid=True, colormap='tab20');\n",
    "plt.title ('Суммарные продажи по годам',fontsize = 15);\n",
    "plt.xlabel('Год', fontsize=12);\n",
    "plt.ylabel('Суммарные продажи', fontsize=12);"
   ]
  },
  {
   "cell_type": "markdown",
   "metadata": {},
   "source": [
    "PS4 и XOne выглядят наиболее перспективными платформами, они пришли на замену устаревающего поколения PS3 и X360 соответственно. А это были самые популярные платформы. \n",
    "\n",
    "С 2013 года наблюдается рост продаж. У нас указано, что данные за 2016 год могут быть неполными. Это значит что снижение продаж к 2016 году на графике не отражает реальную картину. \n",
    "\n",
    "По всем остальным платформам происходит спад."
   ]
  },
  {
   "cell_type": "code",
   "execution_count": 24,
   "metadata": {},
   "outputs": [
    {
     "data": {
      "text/plain": [
       "platform\n",
       "PS4     314.14\n",
       "PS3     181.43\n",
       "XOne    159.32\n",
       "3DS     143.25\n",
       "X360    136.80\n",
       "WiiU     64.63\n",
       "PC       39.43\n",
       "PSV      32.99\n",
       "Wii      13.66\n",
       "PSP       3.50\n",
       "DS        1.54\n",
       "Name: sum_sales, dtype: float64"
      ]
     },
     "execution_count": 24,
     "metadata": {},
     "output_type": "execute_result"
    }
   ],
   "source": [
    "actual_data.groupby('platform')['sum_sales'].sum().sort_values(ascending=False) \n",
    "# группировка по платформам с суммарными продажами, с сортировкой по убыванию за актуальный период"
   ]
  },
  {
   "cell_type": "markdown",
   "metadata": {},
   "source": [
    "По продажам лидируют PS4, PS3, XOne. PS3 и X360 терят в актуальности, как видно из графика.\n",
    "\n",
    "К 2017 можно сделать прогноз о лидерстве PS4 и XOne."
   ]
  },
  {
   "cell_type": "markdown",
   "metadata": {},
   "source": [
    "### График «ящик с усами» по глобальным продажам игр в разбивке по платформам."
   ]
  },
  {
   "cell_type": "code",
   "execution_count": 25,
   "metadata": {},
   "outputs": [
    {
     "data": {
      "image/png": "[encoded data removed]",
      "text/plain": [
       "<Figure size 1440x720 with 1 Axes>"
      ]
     },
     "metadata": {
      "needs_background": "light"
     },
     "output_type": "display_data"
    }
   ],
   "source": [
    "# График «ящик с усами» по глобальным продажам игр в разбивке по платформам.\n",
    "\n",
    "plt.figure(figsize=(20,10))\n",
    "sns.boxplot(data=actual_data,y='platform',x='sum_sales');\n",
    "\n",
    "plt.title ('Распредление суммарных продаж по платформам',fontsize = 15);\n",
    "plt.xlabel('Платформы', fontsize=12);\n",
    "plt.ylabel('Суммарные продажи', fontsize=12);\n",
    "plt.grid(True)"
   ]
  },
  {
   "cell_type": "code",
   "execution_count": 26,
   "metadata": {},
   "outputs": [
    {
     "data": {
      "text/html": [
       "<div>\n",
       "<style scoped>\n",
       "    .dataframe tbody tr th:only-of-type {\n",
       "        vertical-align: middle;\n",
       "    }\n",
       "\n",
       "    .dataframe tbody tr th {\n",
       "        vertical-align: top;\n",
       "    }\n",
       "\n",
       "    .dataframe thead th {\n",
       "        text-align: right;\n",
       "    }\n",
       "</style>\n",
       "<table border=\"1\" class=\"dataframe\">\n",
       "  <thead>\n",
       "    <tr style=\"text-align: right;\">\n",
       "      <th></th>\n",
       "      <th>name</th>\n",
       "      <th>platform</th>\n",
       "      <th>year_of_release</th>\n",
       "      <th>genre</th>\n",
       "      <th>na_sales</th>\n",
       "      <th>eu_sales</th>\n",
       "      <th>jp_sales</th>\n",
       "      <th>other_sales</th>\n",
       "      <th>critic_score</th>\n",
       "      <th>user_score</th>\n",
       "      <th>rating</th>\n",
       "      <th>sum_sales</th>\n",
       "    </tr>\n",
       "  </thead>\n",
       "  <tbody>\n",
       "    <tr>\n",
       "      <th>16</th>\n",
       "      <td>Grand Theft Auto V</td>\n",
       "      <td>PS3</td>\n",
       "      <td>2013</td>\n",
       "      <td>Action</td>\n",
       "      <td>7.02</td>\n",
       "      <td>9.09</td>\n",
       "      <td>0.98</td>\n",
       "      <td>3.96</td>\n",
       "      <td>97.0</td>\n",
       "      <td>8.2</td>\n",
       "      <td>M</td>\n",
       "      <td>21.05</td>\n",
       "    </tr>\n",
       "    <tr>\n",
       "      <th>23</th>\n",
       "      <td>Grand Theft Auto V</td>\n",
       "      <td>X360</td>\n",
       "      <td>2013</td>\n",
       "      <td>Action</td>\n",
       "      <td>9.66</td>\n",
       "      <td>5.14</td>\n",
       "      <td>0.06</td>\n",
       "      <td>1.41</td>\n",
       "      <td>97.0</td>\n",
       "      <td>8.1</td>\n",
       "      <td>M</td>\n",
       "      <td>16.27</td>\n",
       "    </tr>\n",
       "    <tr>\n",
       "      <th>31</th>\n",
       "      <td>Call of Duty: Black Ops 3</td>\n",
       "      <td>PS4</td>\n",
       "      <td>2015</td>\n",
       "      <td>Shooter</td>\n",
       "      <td>6.03</td>\n",
       "      <td>5.86</td>\n",
       "      <td>0.36</td>\n",
       "      <td>2.38</td>\n",
       "      <td>NaN</td>\n",
       "      <td>NaN</td>\n",
       "      <td>NaN</td>\n",
       "      <td>14.63</td>\n",
       "    </tr>\n",
       "    <tr>\n",
       "      <th>33</th>\n",
       "      <td>Pokemon X/Pokemon Y</td>\n",
       "      <td>3DS</td>\n",
       "      <td>2013</td>\n",
       "      <td>Role-Playing</td>\n",
       "      <td>5.28</td>\n",
       "      <td>4.19</td>\n",
       "      <td>4.35</td>\n",
       "      <td>0.78</td>\n",
       "      <td>NaN</td>\n",
       "      <td>NaN</td>\n",
       "      <td>NaN</td>\n",
       "      <td>14.60</td>\n",
       "    </tr>\n",
       "    <tr>\n",
       "      <th>42</th>\n",
       "      <td>Grand Theft Auto V</td>\n",
       "      <td>PS4</td>\n",
       "      <td>2014</td>\n",
       "      <td>Action</td>\n",
       "      <td>3.96</td>\n",
       "      <td>6.31</td>\n",
       "      <td>0.38</td>\n",
       "      <td>1.97</td>\n",
       "      <td>97.0</td>\n",
       "      <td>8.3</td>\n",
       "      <td>M</td>\n",
       "      <td>12.62</td>\n",
       "    </tr>\n",
       "  </tbody>\n",
       "</table>\n",
       "</div>"
      ],
      "text/plain": [
       "                         name platform  year_of_release         genre  \\\n",
       "16         Grand Theft Auto V      PS3             2013        Action   \n",
       "23         Grand Theft Auto V     X360             2013        Action   \n",
       "31  Call of Duty: Black Ops 3      PS4             2015       Shooter   \n",
       "33        Pokemon X/Pokemon Y      3DS             2013  Role-Playing   \n",
       "42         Grand Theft Auto V      PS4             2014        Action   \n",
       "\n",
       "    na_sales  eu_sales  jp_sales  other_sales  critic_score  user_score  \\\n",
       "16      7.02      9.09      0.98         3.96          97.0         8.2   \n",
       "23      9.66      5.14      0.06         1.41          97.0         8.1   \n",
       "31      6.03      5.86      0.36         2.38           NaN         NaN   \n",
       "33      5.28      4.19      4.35         0.78           NaN         NaN   \n",
       "42      3.96      6.31      0.38         1.97          97.0         8.3   \n",
       "\n",
       "   rating  sum_sales  \n",
       "16      M      21.05  \n",
       "23      M      16.27  \n",
       "31    NaN      14.63  \n",
       "33    NaN      14.60  \n",
       "42      M      12.62  "
      ]
     },
     "execution_count": 26,
     "metadata": {},
     "output_type": "execute_result"
    }
   ],
   "source": [
    "actual_data.sort_values(by='sum_sales',ascending=False).head() # Первые 5 самых продаваемых игр за актуальный период"
   ]
  },
  {
   "cell_type": "markdown",
   "metadata": {},
   "source": [
    "Выделяется GTA V, чьи суммарные продажи на PS3 выше 21 млн. копий. А в сумме по трем платформам свыше 50 млн. копий! Остальной график не информативен, отфильтрую по суммарным продажам и построю заново."
   ]
  },
  {
   "cell_type": "code",
   "execution_count": 27,
   "metadata": {
    "scrolled": false
   },
   "outputs": [
    {
     "data": {
      "image/png": "[encoded data removed]",
      "text/plain": [
       "<Figure size 1440x720 with 1 Axes>"
      ]
     },
     "metadata": {
      "needs_background": "light"
     },
     "output_type": "display_data"
    }
   ],
   "source": [
    "# График «ящик с усами» по глобальным продажам игр в разбивке по платформам, с продажами менее 2 млн. копий.\n",
    "\n",
    "plt.figure(figsize=(20,10))\n",
    "sns.boxplot(data=actual_data[actual_data['sum_sales']<2],y='platform',x='sum_sales');\n",
    "\n",
    "plt.title ('Распредление суммарных продаж по платформам',fontsize = 15);\n",
    "plt.xlabel('Платформы', fontsize=12);\n",
    "plt.ylabel('Суммарные продажи', fontsize=12);\n",
    "plt.grid(True)"
   ]
  },
  {
   "cell_type": "markdown",
   "metadata": {},
   "source": [
    "* Уходящие платформы, такие как Wii, X360, PS3, еще составляют конкуренцию восходящим.\n",
    "* Медианы у всех платформ находятся внизу. Можно сделать вывод, что основную часть продаж берут на себя хиты (выбросы).\n",
    "* У платформы DS выбросов нет вообще."
   ]
  },
  {
   "cell_type": "markdown",
   "metadata": {},
   "source": [
    "### Как влияют на продажи внутри одной популярной платформы отзывы пользователей и критиков. "
   ]
  },
  {
   "cell_type": "markdown",
   "metadata": {},
   "source": [
    "Возьмем платформу PS4"
   ]
  },
  {
   "cell_type": "code",
   "execution_count": 28,
   "metadata": {},
   "outputs": [
    {
     "data": {
      "text/html": [
       "<div>\n",
       "<style scoped>\n",
       "    .dataframe tbody tr th:only-of-type {\n",
       "        vertical-align: middle;\n",
       "    }\n",
       "\n",
       "    .dataframe tbody tr th {\n",
       "        vertical-align: top;\n",
       "    }\n",
       "\n",
       "    .dataframe thead th {\n",
       "        text-align: right;\n",
       "    }\n",
       "</style>\n",
       "<table border=\"1\" class=\"dataframe\">\n",
       "  <thead>\n",
       "    <tr style=\"text-align: right;\">\n",
       "      <th></th>\n",
       "      <th>critic_score</th>\n",
       "      <th>sum_sales</th>\n",
       "      <th>user_score</th>\n",
       "    </tr>\n",
       "    <tr>\n",
       "      <th>name</th>\n",
       "      <th></th>\n",
       "      <th></th>\n",
       "      <th></th>\n",
       "    </tr>\n",
       "  </thead>\n",
       "  <tbody>\n",
       "    <tr>\n",
       "      <th>7 Days to Die</th>\n",
       "      <td>45.0</td>\n",
       "      <td>0.14</td>\n",
       "      <td>5.9</td>\n",
       "    </tr>\n",
       "    <tr>\n",
       "      <th>Adventure Time: Finn &amp; Jake Investigations</th>\n",
       "      <td>NaN</td>\n",
       "      <td>0.10</td>\n",
       "      <td>NaN</td>\n",
       "    </tr>\n",
       "    <tr>\n",
       "      <th>Aegis of Earth: Protonovus Assault</th>\n",
       "      <td>57.0</td>\n",
       "      <td>0.02</td>\n",
       "      <td>7.8</td>\n",
       "    </tr>\n",
       "    <tr>\n",
       "      <th>Agatha Christie's The ABC Murders</th>\n",
       "      <td>67.0</td>\n",
       "      <td>0.02</td>\n",
       "      <td>6.2</td>\n",
       "    </tr>\n",
       "    <tr>\n",
       "      <th>Akiba's Trip: Undead &amp; Undressed</th>\n",
       "      <td>NaN</td>\n",
       "      <td>0.11</td>\n",
       "      <td>NaN</td>\n",
       "    </tr>\n",
       "    <tr>\n",
       "      <th>...</th>\n",
       "      <td>...</td>\n",
       "      <td>...</td>\n",
       "      <td>...</td>\n",
       "    </tr>\n",
       "    <tr>\n",
       "      <th>Yakuza Zero: The Place of Oath</th>\n",
       "      <td>NaN</td>\n",
       "      <td>0.17</td>\n",
       "      <td>NaN</td>\n",
       "    </tr>\n",
       "    <tr>\n",
       "      <th>Yakuza: Ishin</th>\n",
       "      <td>NaN</td>\n",
       "      <td>0.15</td>\n",
       "      <td>NaN</td>\n",
       "    </tr>\n",
       "    <tr>\n",
       "      <th>Yoru no Nai Kuni</th>\n",
       "      <td>NaN</td>\n",
       "      <td>0.08</td>\n",
       "      <td>NaN</td>\n",
       "    </tr>\n",
       "    <tr>\n",
       "      <th>ZombiU</th>\n",
       "      <td>NaN</td>\n",
       "      <td>0.06</td>\n",
       "      <td>NaN</td>\n",
       "    </tr>\n",
       "    <tr>\n",
       "      <th>Zombie Army Trilogy</th>\n",
       "      <td>62.0</td>\n",
       "      <td>0.20</td>\n",
       "      <td>6.8</td>\n",
       "    </tr>\n",
       "  </tbody>\n",
       "</table>\n",
       "<p>329 rows × 3 columns</p>\n",
       "</div>"
      ],
      "text/plain": [
       "                                            critic_score  sum_sales  \\\n",
       "name                                                                  \n",
       "7 Days to Die                                       45.0       0.14   \n",
       "Adventure Time: Finn & Jake Investigations           NaN       0.10   \n",
       "Aegis of Earth: Protonovus Assault                  57.0       0.02   \n",
       "Agatha Christie's The ABC Murders                   67.0       0.02   \n",
       "Akiba's Trip: Undead & Undressed                     NaN       0.11   \n",
       "...                                                  ...        ...   \n",
       "Yakuza Zero: The Place of Oath                       NaN       0.17   \n",
       "Yakuza: Ishin                                        NaN       0.15   \n",
       "Yoru no Nai Kuni                                     NaN       0.08   \n",
       "ZombiU                                               NaN       0.06   \n",
       "Zombie Army Trilogy                                 62.0       0.20   \n",
       "\n",
       "                                            user_score  \n",
       "name                                                    \n",
       "7 Days to Die                                      5.9  \n",
       "Adventure Time: Finn & Jake Investigations         NaN  \n",
       "Aegis of Earth: Protonovus Assault                 7.8  \n",
       "Agatha Christie's The ABC Murders                  6.2  \n",
       "Akiba's Trip: Undead & Undressed                   NaN  \n",
       "...                                                ...  \n",
       "Yakuza Zero: The Place of Oath                     NaN  \n",
       "Yakuza: Ishin                                      NaN  \n",
       "Yoru no Nai Kuni                                   NaN  \n",
       "ZombiU                                             NaN  \n",
       "Zombie Army Trilogy                                6.8  \n",
       "\n",
       "[329 rows x 3 columns]"
      ]
     },
     "execution_count": 28,
     "metadata": {},
     "output_type": "execute_result"
    }
   ],
   "source": [
    "PS4 = actual_data.query('platform == \"PS4\" & sum_sales <=1.5') # фильтр по платформе PS4, так же убрал выбросы\n",
    "PS4.pivot_table(index='name', values=['sum_sales','user_score','critic_score'])\n",
    "# сводная таблица по оценке пользователей, критиков и суммарных продаж"
   ]
  },
  {
   "cell_type": "code",
   "execution_count": 29,
   "metadata": {},
   "outputs": [
    {
     "data": {
      "image/png": "[encoded data removed]",
      "text/plain": [
       "<Figure size 864x864 with 9 Axes>"
      ]
     },
     "metadata": {
      "needs_background": "light"
     },
     "output_type": "display_data"
    }
   ],
   "source": [
    "pd.plotting.scatter_matrix(\n",
    "    PS4.pivot_table(index='name', values=['sum_sales','user_score','critic_score']),figsize=(12,12)) ;\n",
    "# построение матрицы диаграмм рассеиния"
   ]
  },
  {
   "cell_type": "code",
   "execution_count": 30,
   "metadata": {},
   "outputs": [
    {
     "data": {
      "text/html": [
       "<div>\n",
       "<style scoped>\n",
       "    .dataframe tbody tr th:only-of-type {\n",
       "        vertical-align: middle;\n",
       "    }\n",
       "\n",
       "    .dataframe tbody tr th {\n",
       "        vertical-align: top;\n",
       "    }\n",
       "\n",
       "    .dataframe thead th {\n",
       "        text-align: right;\n",
       "    }\n",
       "</style>\n",
       "<table border=\"1\" class=\"dataframe\">\n",
       "  <thead>\n",
       "    <tr style=\"text-align: right;\">\n",
       "      <th></th>\n",
       "      <th>critic_score</th>\n",
       "      <th>sum_sales</th>\n",
       "      <th>user_score</th>\n",
       "    </tr>\n",
       "  </thead>\n",
       "  <tbody>\n",
       "    <tr>\n",
       "      <th>critic_score</th>\n",
       "      <td>1.000000</td>\n",
       "      <td>0.321616</td>\n",
       "      <td>0.636433</td>\n",
       "    </tr>\n",
       "    <tr>\n",
       "      <th>sum_sales</th>\n",
       "      <td>0.321616</td>\n",
       "      <td>1.000000</td>\n",
       "      <td>0.023356</td>\n",
       "    </tr>\n",
       "    <tr>\n",
       "      <th>user_score</th>\n",
       "      <td>0.636433</td>\n",
       "      <td>0.023356</td>\n",
       "      <td>1.000000</td>\n",
       "    </tr>\n",
       "  </tbody>\n",
       "</table>\n",
       "</div>"
      ],
      "text/plain": [
       "              critic_score  sum_sales  user_score\n",
       "critic_score      1.000000   0.321616    0.636433\n",
       "sum_sales         0.321616   1.000000    0.023356\n",
       "user_score        0.636433   0.023356    1.000000"
      ]
     },
     "execution_count": 30,
     "metadata": {},
     "output_type": "execute_result"
    }
   ],
   "source": [
    "PS4.pivot_table(index='name', values=['sum_sales','user_score','critic_score']).corr() \n",
    "# подсчет коэффициента корреляции"
   ]
  },
  {
   "cell_type": "markdown",
   "metadata": {},
   "source": [
    "Наблюдается слабая зависимость суммарных продаж от оценки критиков. Но при оценке критиков от 7 и выше, игры как правило достигают больших продаж.\n",
    "\n",
    "Зависимость суммарных продаж от оценки пользователей почти никакая. И говорить о какой то зависимости сложно. Но наблюдается скопление оценок от 6 и до 9.\n",
    "\n",
    "Корреляция пользователей и критиков интересна. Чаще они сходятся во мнении при оценке от 7 и выше."
   ]
  },
  {
   "cell_type": "markdown",
   "metadata": {},
   "source": [
    "### Сравнение выводов с продажами игр на других платформах."
   ]
  },
  {
   "cell_type": "markdown",
   "metadata": {},
   "source": [
    "Сравним главного конкурента PS4: XOne"
   ]
  },
  {
   "cell_type": "code",
   "execution_count": 31,
   "metadata": {},
   "outputs": [
    {
     "data": {
      "text/html": [
       "<div>\n",
       "<style scoped>\n",
       "    .dataframe tbody tr th:only-of-type {\n",
       "        vertical-align: middle;\n",
       "    }\n",
       "\n",
       "    .dataframe tbody tr th {\n",
       "        vertical-align: top;\n",
       "    }\n",
       "\n",
       "    .dataframe thead th {\n",
       "        text-align: right;\n",
       "    }\n",
       "</style>\n",
       "<table border=\"1\" class=\"dataframe\">\n",
       "  <thead>\n",
       "    <tr style=\"text-align: right;\">\n",
       "      <th></th>\n",
       "      <th>critic_score</th>\n",
       "      <th>sum_sales</th>\n",
       "      <th>user_score</th>\n",
       "    </tr>\n",
       "    <tr>\n",
       "      <th>name</th>\n",
       "      <th></th>\n",
       "      <th></th>\n",
       "      <th></th>\n",
       "    </tr>\n",
       "  </thead>\n",
       "  <tbody>\n",
       "    <tr>\n",
       "      <th>7 Days to Die</th>\n",
       "      <td>35.0</td>\n",
       "      <td>0.05</td>\n",
       "      <td>5.2</td>\n",
       "    </tr>\n",
       "    <tr>\n",
       "      <th>Adventure Time: Finn &amp; Jake Investigations</th>\n",
       "      <td>NaN</td>\n",
       "      <td>0.05</td>\n",
       "      <td>NaN</td>\n",
       "    </tr>\n",
       "    <tr>\n",
       "      <th>Agatha Christie's The ABC Murders</th>\n",
       "      <td>66.0</td>\n",
       "      <td>0.01</td>\n",
       "      <td>7.5</td>\n",
       "    </tr>\n",
       "    <tr>\n",
       "      <th>Alien: Isolation</th>\n",
       "      <td>78.0</td>\n",
       "      <td>0.50</td>\n",
       "      <td>7.8</td>\n",
       "    </tr>\n",
       "    <tr>\n",
       "      <th>Angry Birds Star Wars</th>\n",
       "      <td>53.0</td>\n",
       "      <td>0.17</td>\n",
       "      <td>6.9</td>\n",
       "    </tr>\n",
       "    <tr>\n",
       "      <th>...</th>\n",
       "      <td>...</td>\n",
       "      <td>...</td>\n",
       "      <td>...</td>\n",
       "    </tr>\n",
       "    <tr>\n",
       "      <th>XCOM 2</th>\n",
       "      <td>87.0</td>\n",
       "      <td>0.04</td>\n",
       "      <td>8.1</td>\n",
       "    </tr>\n",
       "    <tr>\n",
       "      <th>ZombiU</th>\n",
       "      <td>NaN</td>\n",
       "      <td>0.01</td>\n",
       "      <td>NaN</td>\n",
       "    </tr>\n",
       "    <tr>\n",
       "      <th>Zombie Army Trilogy</th>\n",
       "      <td>62.0</td>\n",
       "      <td>0.11</td>\n",
       "      <td>7.2</td>\n",
       "    </tr>\n",
       "    <tr>\n",
       "      <th>Zoo Tycoon (2013)</th>\n",
       "      <td>NaN</td>\n",
       "      <td>0.36</td>\n",
       "      <td>NaN</td>\n",
       "    </tr>\n",
       "    <tr>\n",
       "      <th>Zumba Fitness: World Party</th>\n",
       "      <td>73.0</td>\n",
       "      <td>0.24</td>\n",
       "      <td>6.2</td>\n",
       "    </tr>\n",
       "  </tbody>\n",
       "</table>\n",
       "<p>217 rows × 3 columns</p>\n",
       "</div>"
      ],
      "text/plain": [
       "                                            critic_score  sum_sales  \\\n",
       "name                                                                  \n",
       "7 Days to Die                                       35.0       0.05   \n",
       "Adventure Time: Finn & Jake Investigations           NaN       0.05   \n",
       "Agatha Christie's The ABC Murders                   66.0       0.01   \n",
       "Alien: Isolation                                    78.0       0.50   \n",
       "Angry Birds Star Wars                               53.0       0.17   \n",
       "...                                                  ...        ...   \n",
       "XCOM 2                                              87.0       0.04   \n",
       "ZombiU                                               NaN       0.01   \n",
       "Zombie Army Trilogy                                 62.0       0.11   \n",
       "Zoo Tycoon (2013)                                    NaN       0.36   \n",
       "Zumba Fitness: World Party                          73.0       0.24   \n",
       "\n",
       "                                            user_score  \n",
       "name                                                    \n",
       "7 Days to Die                                      5.2  \n",
       "Adventure Time: Finn & Jake Investigations         NaN  \n",
       "Agatha Christie's The ABC Murders                  7.5  \n",
       "Alien: Isolation                                   7.8  \n",
       "Angry Birds Star Wars                              6.9  \n",
       "...                                                ...  \n",
       "XCOM 2                                             8.1  \n",
       "ZombiU                                             NaN  \n",
       "Zombie Army Trilogy                                7.2  \n",
       "Zoo Tycoon (2013)                                  NaN  \n",
       "Zumba Fitness: World Party                         6.2  \n",
       "\n",
       "[217 rows x 3 columns]"
      ]
     },
     "execution_count": 31,
     "metadata": {},
     "output_type": "execute_result"
    }
   ],
   "source": [
    "XOne = actual_data.query('platform == \"XOne\" & sum_sales <=1.5') # фильтр по платформе XOne, так же убрал выбросы\n",
    "XOne.pivot_table(index='name', values=['sum_sales','user_score','critic_score'])\n",
    "# сводная таблица по оценке пользователей, критиков и суммарных продаж"
   ]
  },
  {
   "cell_type": "code",
   "execution_count": 32,
   "metadata": {},
   "outputs": [
    {
     "data": {
      "image/png": "[encoded data removed]",
      "text/plain": [
       "<Figure size 864x864 with 9 Axes>"
      ]
     },
     "metadata": {
      "needs_background": "light"
     },
     "output_type": "display_data"
    }
   ],
   "source": [
    "pd.plotting.scatter_matrix(\n",
    "    XOne.pivot_table(index='name', values=['sum_sales','user_score','critic_score']),figsize=(12,12)) ;\n",
    "# построение матрицы диаграмм рассеиния"
   ]
  },
  {
   "cell_type": "code",
   "execution_count": 33,
   "metadata": {},
   "outputs": [
    {
     "data": {
      "text/html": [
       "<div>\n",
       "<style scoped>\n",
       "    .dataframe tbody tr th:only-of-type {\n",
       "        vertical-align: middle;\n",
       "    }\n",
       "\n",
       "    .dataframe tbody tr th {\n",
       "        vertical-align: top;\n",
       "    }\n",
       "\n",
       "    .dataframe thead th {\n",
       "        text-align: right;\n",
       "    }\n",
       "</style>\n",
       "<table border=\"1\" class=\"dataframe\">\n",
       "  <thead>\n",
       "    <tr style=\"text-align: right;\">\n",
       "      <th></th>\n",
       "      <th>critic_score</th>\n",
       "      <th>sum_sales</th>\n",
       "      <th>user_score</th>\n",
       "    </tr>\n",
       "  </thead>\n",
       "  <tbody>\n",
       "    <tr>\n",
       "      <th>critic_score</th>\n",
       "      <td>1.000000</td>\n",
       "      <td>0.423603</td>\n",
       "      <td>0.547987</td>\n",
       "    </tr>\n",
       "    <tr>\n",
       "      <th>sum_sales</th>\n",
       "      <td>0.423603</td>\n",
       "      <td>1.000000</td>\n",
       "      <td>0.073938</td>\n",
       "    </tr>\n",
       "    <tr>\n",
       "      <th>user_score</th>\n",
       "      <td>0.547987</td>\n",
       "      <td>0.073938</td>\n",
       "      <td>1.000000</td>\n",
       "    </tr>\n",
       "  </tbody>\n",
       "</table>\n",
       "</div>"
      ],
      "text/plain": [
       "              critic_score  sum_sales  user_score\n",
       "critic_score      1.000000   0.423603    0.547987\n",
       "sum_sales         0.423603   1.000000    0.073938\n",
       "user_score        0.547987   0.073938    1.000000"
      ]
     },
     "execution_count": 33,
     "metadata": {},
     "output_type": "execute_result"
    }
   ],
   "source": [
    "XOne.pivot_table(index='name', values=['sum_sales','user_score','critic_score']).corr() \n",
    "# подсчет коэффициента корреляции"
   ]
  },
  {
   "cell_type": "markdown",
   "metadata": {},
   "source": [
    "То же самое можно сказать и про платформу XOne. Очень похожие показатели как по оценке критиков, так и пользователей. Разве что, зависимость продаж от оценки критиков чуть больше."
   ]
  },
  {
   "cell_type": "markdown",
   "metadata": {},
   "source": [
    "### Просмотр общего распределения игр по жанрам. "
   ]
  },
  {
   "cell_type": "code",
   "execution_count": 34,
   "metadata": {
    "scrolled": false
   },
   "outputs": [
    {
     "data": {
      "text/html": [
       "<div>\n",
       "<style scoped>\n",
       "    .dataframe tbody tr th:only-of-type {\n",
       "        vertical-align: middle;\n",
       "    }\n",
       "\n",
       "    .dataframe tbody tr th {\n",
       "        vertical-align: top;\n",
       "    }\n",
       "\n",
       "    .dataframe thead th {\n",
       "        text-align: right;\n",
       "    }\n",
       "</style>\n",
       "<table border=\"1\" class=\"dataframe\">\n",
       "  <thead>\n",
       "    <tr style=\"text-align: right;\">\n",
       "      <th></th>\n",
       "      <th>genre</th>\n",
       "      <th>sum_sales</th>\n",
       "    </tr>\n",
       "    <tr>\n",
       "      <th>genre</th>\n",
       "      <th></th>\n",
       "      <th></th>\n",
       "    </tr>\n",
       "  </thead>\n",
       "  <tbody>\n",
       "    <tr>\n",
       "      <th>Action</th>\n",
       "      <td>766</td>\n",
       "      <td>321.87</td>\n",
       "    </tr>\n",
       "    <tr>\n",
       "      <th>Shooter</th>\n",
       "      <td>187</td>\n",
       "      <td>232.98</td>\n",
       "    </tr>\n",
       "    <tr>\n",
       "      <th>Sports</th>\n",
       "      <td>214</td>\n",
       "      <td>150.65</td>\n",
       "    </tr>\n",
       "    <tr>\n",
       "      <th>Role-Playing</th>\n",
       "      <td>292</td>\n",
       "      <td>145.89</td>\n",
       "    </tr>\n",
       "    <tr>\n",
       "      <th>Misc</th>\n",
       "      <td>155</td>\n",
       "      <td>62.82</td>\n",
       "    </tr>\n",
       "    <tr>\n",
       "      <th>Platform</th>\n",
       "      <td>74</td>\n",
       "      <td>42.63</td>\n",
       "    </tr>\n",
       "    <tr>\n",
       "      <th>Racing</th>\n",
       "      <td>85</td>\n",
       "      <td>39.89</td>\n",
       "    </tr>\n",
       "    <tr>\n",
       "      <th>Fighting</th>\n",
       "      <td>80</td>\n",
       "      <td>35.31</td>\n",
       "    </tr>\n",
       "    <tr>\n",
       "      <th>Adventure</th>\n",
       "      <td>245</td>\n",
       "      <td>23.64</td>\n",
       "    </tr>\n",
       "    <tr>\n",
       "      <th>Simulation</th>\n",
       "      <td>62</td>\n",
       "      <td>21.76</td>\n",
       "    </tr>\n",
       "    <tr>\n",
       "      <th>Strategy</th>\n",
       "      <td>56</td>\n",
       "      <td>10.08</td>\n",
       "    </tr>\n",
       "    <tr>\n",
       "      <th>Puzzle</th>\n",
       "      <td>17</td>\n",
       "      <td>3.17</td>\n",
       "    </tr>\n",
       "  </tbody>\n",
       "</table>\n",
       "</div>"
      ],
      "text/plain": [
       "              genre  sum_sales\n",
       "genre                         \n",
       "Action          766     321.87\n",
       "Shooter         187     232.98\n",
       "Sports          214     150.65\n",
       "Role-Playing    292     145.89\n",
       "Misc            155      62.82\n",
       "Platform         74      42.63\n",
       "Racing           85      39.89\n",
       "Fighting         80      35.31\n",
       "Adventure       245      23.64\n",
       "Simulation       62      21.76\n",
       "Strategy         56      10.08\n",
       "Puzzle           17       3.17"
      ]
     },
     "execution_count": 34,
     "metadata": {},
     "output_type": "execute_result"
    }
   ],
   "source": [
    "# сводная таблица по жанрам и суммарным продажам, отсортированная по продажам по убыванию\n",
    "actual_data.pivot_table(index='genre', values='sum_sales',aggfunc={'sum_sales':'sum','genre':'count'}) \\\n",
    "           .sort_values(by='sum_sales', ascending=False)"
   ]
  },
  {
   "cell_type": "code",
   "execution_count": 35,
   "metadata": {
    "scrolled": false
   },
   "outputs": [
    {
     "data": {
      "text/html": [
       "<div>\n",
       "<style scoped>\n",
       "    .dataframe tbody tr th:only-of-type {\n",
       "        vertical-align: middle;\n",
       "    }\n",
       "\n",
       "    .dataframe tbody tr th {\n",
       "        vertical-align: top;\n",
       "    }\n",
       "\n",
       "    .dataframe thead th {\n",
       "        text-align: right;\n",
       "    }\n",
       "</style>\n",
       "<table border=\"1\" class=\"dataframe\">\n",
       "  <thead>\n",
       "    <tr style=\"text-align: right;\">\n",
       "      <th></th>\n",
       "      <th>genre</th>\n",
       "      <th>sum_sales</th>\n",
       "    </tr>\n",
       "    <tr>\n",
       "      <th>genre</th>\n",
       "      <th></th>\n",
       "      <th></th>\n",
       "    </tr>\n",
       "  </thead>\n",
       "  <tbody>\n",
       "    <tr>\n",
       "      <th>Shooter</th>\n",
       "      <td>187</td>\n",
       "      <td>0.450</td>\n",
       "    </tr>\n",
       "    <tr>\n",
       "      <th>Sports</th>\n",
       "      <td>214</td>\n",
       "      <td>0.240</td>\n",
       "    </tr>\n",
       "    <tr>\n",
       "      <th>Platform</th>\n",
       "      <td>74</td>\n",
       "      <td>0.225</td>\n",
       "    </tr>\n",
       "    <tr>\n",
       "      <th>Role-Playing</th>\n",
       "      <td>292</td>\n",
       "      <td>0.125</td>\n",
       "    </tr>\n",
       "    <tr>\n",
       "      <th>Fighting</th>\n",
       "      <td>80</td>\n",
       "      <td>0.125</td>\n",
       "    </tr>\n",
       "    <tr>\n",
       "      <th>Racing</th>\n",
       "      <td>85</td>\n",
       "      <td>0.120</td>\n",
       "    </tr>\n",
       "    <tr>\n",
       "      <th>Action</th>\n",
       "      <td>766</td>\n",
       "      <td>0.110</td>\n",
       "    </tr>\n",
       "    <tr>\n",
       "      <th>Simulation</th>\n",
       "      <td>62</td>\n",
       "      <td>0.100</td>\n",
       "    </tr>\n",
       "    <tr>\n",
       "      <th>Misc</th>\n",
       "      <td>155</td>\n",
       "      <td>0.100</td>\n",
       "    </tr>\n",
       "    <tr>\n",
       "      <th>Strategy</th>\n",
       "      <td>56</td>\n",
       "      <td>0.080</td>\n",
       "    </tr>\n",
       "    <tr>\n",
       "      <th>Puzzle</th>\n",
       "      <td>17</td>\n",
       "      <td>0.060</td>\n",
       "    </tr>\n",
       "    <tr>\n",
       "      <th>Adventure</th>\n",
       "      <td>245</td>\n",
       "      <td>0.030</td>\n",
       "    </tr>\n",
       "  </tbody>\n",
       "</table>\n",
       "</div>"
      ],
      "text/plain": [
       "              genre  sum_sales\n",
       "genre                         \n",
       "Shooter         187      0.450\n",
       "Sports          214      0.240\n",
       "Platform         74      0.225\n",
       "Role-Playing    292      0.125\n",
       "Fighting         80      0.125\n",
       "Racing           85      0.120\n",
       "Action          766      0.110\n",
       "Simulation       62      0.100\n",
       "Misc            155      0.100\n",
       "Strategy         56      0.080\n",
       "Puzzle           17      0.060\n",
       "Adventure       245      0.030"
      ]
     },
     "execution_count": 35,
     "metadata": {},
     "output_type": "execute_result"
    }
   ],
   "source": [
    "# сводная таблица по жанрам и суммарным продажам, отсортированная по медиане продаж по убыванию\n",
    "actual_data.pivot_table(index='genre', values='sum_sales',aggfunc={'sum_sales':'median','genre':'count'}) \\\n",
    "           .sort_values(by='sum_sales', ascending=False)"
   ]
  },
  {
   "cell_type": "markdown",
   "metadata": {},
   "source": [
    "Action, Shooter, Sports самые прибыльные жанры. Поэтому существует большой выбор игр этих жанров. И конечно же Action игр больше всех. Можно сказать, что эти жанры требуют большого погружения и реакции от игрока. \n",
    "\n",
    "По медиане можно сказать, что жанр Shooter самый прибыльный, просто количество игр меньше, чем у Action, в 6 раз. А отстает от Action всего на 90 млн. копий. А самый популярный Action.\n",
    "\n",
    "Simulation, Strategy, Puzzle жанры с самыми низкими продажами. Здесь нужно больше сосредоточения.\n",
    "\n",
    "Я бы дополнительно разделил топ и низ как активные игры и спокойные."
   ]
  },
  {
   "cell_type": "code",
   "execution_count": 36,
   "metadata": {},
   "outputs": [
    {
     "data": {
      "image/png": "[encoded data removed]",
      "text/plain": [
       "<Figure size 1080x360 with 1 Axes>"
      ]
     },
     "metadata": {
      "needs_background": "light"
     },
     "output_type": "display_data"
    }
   ],
   "source": [
    "# график суммарных продаж по жанрам по годам\n",
    "actual_data_genres = actual_data.pivot_table(index='genre',values='sum_sales',columns = 'year_of_release',aggfunc='sum').T\n",
    "\n",
    "actual_data_genres.plot(figsize=(15, 5), grid=True, colormap='tab20')\n",
    "plt.title ('Суммарные продажи по годам',fontsize = 15);\n",
    "plt.xlabel('Год', fontsize=12);\n",
    "plt.ylabel('Суммарные продажи', fontsize=12);"
   ]
  },
  {
   "cell_type": "markdown",
   "metadata": {},
   "source": [
    "Action всегда был в топе. С 2015 года Shooter начал обгонять Action."
   ]
  },
  {
   "cell_type": "markdown",
   "metadata": {},
   "source": [
    "**Выводы:**"
   ]
  },
  {
   "cell_type": "markdown",
   "metadata": {},
   "source": [
    "* Принял актуальный период с 2013 года.\n",
    "* Больше всего игр вышло в 2008 и 2009 годы.\n",
    "* В среднем популярные платформы живут 11 лет. \n",
    "* В среднем по всем платформам срок жизни 6 лет.\n",
    "* В среднем новые топовые платформы появляются раз в 5-6 лет.\n",
    "* PS4 и XOne наиболее перспективные платформы. \n",
    "* По продажам лидируют PS4, PS3, XOne.\n",
    "* Суммарные продажи больше зависят от оценки критиков, чем от оценки пользователей.\n",
    "* Action, Sports, Shooter самые прибыльные жанры.\n",
    "* Самые активные игры - самые продаваемые. Самые спокойные - замыкают списки по продажам."
   ]
  },
  {
   "cell_type": "markdown",
   "metadata": {},
   "source": [
    "## Портрет пользователя каждого региона. \n",
    "Для регионов Северной Америки, Европы, Японии."
   ]
  },
  {
   "cell_type": "markdown",
   "metadata": {},
   "source": [
    "### Самые популярные платформы (топ-5) каждого региона."
   ]
  },
  {
   "cell_type": "code",
   "execution_count": 37,
   "metadata": {},
   "outputs": [],
   "source": [
    "def display_side_by_side(*args,titles=cycle([''])):\n",
    "    html_str=''\n",
    "    for df,title in zip(args, chain(titles,cycle(['</br>'])) ):\n",
    "        html_str+='<th style=\"text-align:center\"><td style=\"vertical-align:top\">'\n",
    "        html_str+=f'<h2>{title}</h2>'\n",
    "        html_str+=df.to_html().replace('table','table style=\"display:inline\"')\n",
    "        html_str+='</td></th>'\n",
    "    display_html(html_str,raw=True)"
   ]
  },
  {
   "cell_type": "code",
   "execution_count": 38,
   "metadata": {},
   "outputs": [
    {
     "data": {
      "text/html": [
       "<th style=\"text-align:center\"><td style=\"vertical-align:top\"><h2>Северная Америка</h2><table style=\"display:inline\" border=\"1\" class=\"dataframe\">\n",
       "  <thead>\n",
       "    <tr style=\"text-align: right;\">\n",
       "      <th></th>\n",
       "      <th>na_sales</th>\n",
       "    </tr>\n",
       "    <tr>\n",
       "      <th>platform</th>\n",
       "      <th></th>\n",
       "    </tr>\n",
       "  </thead>\n",
       "  <tbody>\n",
       "    <tr>\n",
       "      <th>PS4</th>\n",
       "      <td>108.74</td>\n",
       "    </tr>\n",
       "    <tr>\n",
       "      <th>XOne</th>\n",
       "      <td>93.12</td>\n",
       "    </tr>\n",
       "    <tr>\n",
       "      <th>X360</th>\n",
       "      <td>81.66</td>\n",
       "    </tr>\n",
       "    <tr>\n",
       "      <th>PS3</th>\n",
       "      <td>63.50</td>\n",
       "    </tr>\n",
       "    <tr>\n",
       "      <th>3DS</th>\n",
       "      <td>38.20</td>\n",
       "    </tr>\n",
       "  </tbody>\n",
       "</table style=\"display:inline\"></td></th><th style=\"text-align:center\"><td style=\"vertical-align:top\"><h2>Европа</h2><table style=\"display:inline\" border=\"1\" class=\"dataframe\">\n",
       "  <thead>\n",
       "    <tr style=\"text-align: right;\">\n",
       "      <th></th>\n",
       "      <th>eu_sales</th>\n",
       "    </tr>\n",
       "    <tr>\n",
       "      <th>platform</th>\n",
       "      <th></th>\n",
       "    </tr>\n",
       "  </thead>\n",
       "  <tbody>\n",
       "    <tr>\n",
       "      <th>PS4</th>\n",
       "      <td>141.09</td>\n",
       "    </tr>\n",
       "    <tr>\n",
       "      <th>PS3</th>\n",
       "      <td>67.81</td>\n",
       "    </tr>\n",
       "    <tr>\n",
       "      <th>XOne</th>\n",
       "      <td>51.59</td>\n",
       "    </tr>\n",
       "    <tr>\n",
       "      <th>X360</th>\n",
       "      <td>42.52</td>\n",
       "    </tr>\n",
       "    <tr>\n",
       "      <th>3DS</th>\n",
       "      <td>30.96</td>\n",
       "    </tr>\n",
       "  </tbody>\n",
       "</table style=\"display:inline\"></td></th><th style=\"text-align:center\"><td style=\"vertical-align:top\"><h2>Япония</h2><table style=\"display:inline\" border=\"1\" class=\"dataframe\">\n",
       "  <thead>\n",
       "    <tr style=\"text-align: right;\">\n",
       "      <th></th>\n",
       "      <th>jp_sales</th>\n",
       "    </tr>\n",
       "    <tr>\n",
       "      <th>platform</th>\n",
       "      <th></th>\n",
       "    </tr>\n",
       "  </thead>\n",
       "  <tbody>\n",
       "    <tr>\n",
       "      <th>3DS</th>\n",
       "      <td>67.81</td>\n",
       "    </tr>\n",
       "    <tr>\n",
       "      <th>PS3</th>\n",
       "      <td>23.35</td>\n",
       "    </tr>\n",
       "    <tr>\n",
       "      <th>PSV</th>\n",
       "      <td>18.59</td>\n",
       "    </tr>\n",
       "    <tr>\n",
       "      <th>PS4</th>\n",
       "      <td>15.96</td>\n",
       "    </tr>\n",
       "    <tr>\n",
       "      <th>WiiU</th>\n",
       "      <td>10.88</td>\n",
       "    </tr>\n",
       "  </tbody>\n",
       "</table style=\"display:inline\"></td></th>"
      ]
     },
     "metadata": {},
     "output_type": "display_data"
    }
   ],
   "source": [
    "# сводная таблица с платформами по регионам по суммарным продажам\n",
    "top_platforms_na = actual_data.pivot_table(index='platform', values='na_sales',aggfunc='sum') \\\n",
    "                .sort_values(by='na_sales', ascending=False).head() # сортировка по Америке\n",
    "top_platforms_eu = actual_data.pivot_table(index='platform', values='eu_sales',aggfunc='sum') \\\n",
    "                .sort_values(by='eu_sales', ascending=False).head() # сортировка по Европе\n",
    "top_platforms_jp = actual_data.pivot_table(index='platform', values='jp_sales',aggfunc='sum') \\\n",
    "                .sort_values(by='jp_sales', ascending=False).head() # сортировка по Японии\n",
    "display_side_by_side(top_platforms_na, top_platforms_eu, top_platforms_jp, titles = ['Северная Америка','Европа','Япония'])"
   ]
  },
  {
   "cell_type": "markdown",
   "metadata": {},
   "source": [
    "PS4 лидирует на американском рынке. Далее идут XOne и X360.\n",
    "Продаж по XOne почти в 2 раза больше, чем на европейском рынке."
   ]
  },
  {
   "cell_type": "markdown",
   "metadata": {},
   "source": [
    "В Европе тоже лидирует PS4, но гораздо уверенее, чем в америке. Далее идут PS3 и XOne. Несмотря на то, что PS3 уходящая платформа, она все же опережает XOne. В Европе и Америке список замыкает 3DS."
   ]
  },
  {
   "cell_type": "markdown",
   "metadata": {},
   "source": [
    "Япония кардинально отличается от Америки и Европы. Первое место занимает Nintendo.\n",
    "В топе 5 все приставки выпущенны в Японии. \n",
    "\n",
    "Можно сделать вывод, что японские игроки предпочитают платформы из своей страны."
   ]
  },
  {
   "cell_type": "markdown",
   "metadata": {},
   "source": [
    "### Самые популярные жанры (топ-5) каждого региона."
   ]
  },
  {
   "cell_type": "code",
   "execution_count": 39,
   "metadata": {},
   "outputs": [
    {
     "data": {
      "text/html": [
       "<th style=\"text-align:center\"><td style=\"vertical-align:top\"><h2>Северная Америка</h2><table style=\"display:inline\" border=\"1\" class=\"dataframe\">\n",
       "  <thead>\n",
       "    <tr style=\"text-align: right;\">\n",
       "      <th></th>\n",
       "      <th>na_sales</th>\n",
       "    </tr>\n",
       "    <tr>\n",
       "      <th>genre</th>\n",
       "      <th></th>\n",
       "    </tr>\n",
       "  </thead>\n",
       "  <tbody>\n",
       "    <tr>\n",
       "      <th>Action</th>\n",
       "      <td>126.05</td>\n",
       "    </tr>\n",
       "    <tr>\n",
       "      <th>Shooter</th>\n",
       "      <td>109.74</td>\n",
       "    </tr>\n",
       "    <tr>\n",
       "      <th>Sports</th>\n",
       "      <td>65.27</td>\n",
       "    </tr>\n",
       "    <tr>\n",
       "      <th>Role-Playing</th>\n",
       "      <td>46.40</td>\n",
       "    </tr>\n",
       "    <tr>\n",
       "      <th>Misc</th>\n",
       "      <td>27.49</td>\n",
       "    </tr>\n",
       "  </tbody>\n",
       "</table style=\"display:inline\"></td></th><th style=\"text-align:center\"><td style=\"vertical-align:top\"><h2>Европа</h2><table style=\"display:inline\" border=\"1\" class=\"dataframe\">\n",
       "  <thead>\n",
       "    <tr style=\"text-align: right;\">\n",
       "      <th></th>\n",
       "      <th>eu_sales</th>\n",
       "    </tr>\n",
       "    <tr>\n",
       "      <th>genre</th>\n",
       "      <th></th>\n",
       "    </tr>\n",
       "  </thead>\n",
       "  <tbody>\n",
       "    <tr>\n",
       "      <th>Action</th>\n",
       "      <td>118.13</td>\n",
       "    </tr>\n",
       "    <tr>\n",
       "      <th>Shooter</th>\n",
       "      <td>87.86</td>\n",
       "    </tr>\n",
       "    <tr>\n",
       "      <th>Sports</th>\n",
       "      <td>60.52</td>\n",
       "    </tr>\n",
       "    <tr>\n",
       "      <th>Role-Playing</th>\n",
       "      <td>36.97</td>\n",
       "    </tr>\n",
       "    <tr>\n",
       "      <th>Racing</th>\n",
       "      <td>20.19</td>\n",
       "    </tr>\n",
       "  </tbody>\n",
       "</table style=\"display:inline\"></td></th><th style=\"text-align:center\"><td style=\"vertical-align:top\"><h2>Япония</h2><table style=\"display:inline\" border=\"1\" class=\"dataframe\">\n",
       "  <thead>\n",
       "    <tr style=\"text-align: right;\">\n",
       "      <th></th>\n",
       "      <th>jp_sales</th>\n",
       "    </tr>\n",
       "    <tr>\n",
       "      <th>genre</th>\n",
       "      <th></th>\n",
       "    </tr>\n",
       "  </thead>\n",
       "  <tbody>\n",
       "    <tr>\n",
       "      <th>Role-Playing</th>\n",
       "      <td>51.04</td>\n",
       "    </tr>\n",
       "    <tr>\n",
       "      <th>Action</th>\n",
       "      <td>40.49</td>\n",
       "    </tr>\n",
       "    <tr>\n",
       "      <th>Misc</th>\n",
       "      <td>9.20</td>\n",
       "    </tr>\n",
       "    <tr>\n",
       "      <th>Fighting</th>\n",
       "      <td>7.65</td>\n",
       "    </tr>\n",
       "    <tr>\n",
       "      <th>Shooter</th>\n",
       "      <td>6.61</td>\n",
       "    </tr>\n",
       "  </tbody>\n",
       "</table style=\"display:inline\"></td></th>"
      ]
     },
     "metadata": {},
     "output_type": "display_data"
    }
   ],
   "source": [
    "# сводная таблица с жанрами по регионам по суммарным продажам\n",
    "top_genres_na = actual_data.pivot_table(index='genre', values='na_sales',aggfunc='sum') \\\n",
    "          .sort_values(by='na_sales', ascending=False).head() # сортировка по Америке\n",
    "top_genres_eu = actual_data.pivot_table(index='genre', values='eu_sales',aggfunc='sum') \\\n",
    "          .sort_values(by='eu_sales', ascending=False).head() # сортировка по Европе\n",
    "top_genres_jp = actual_data.pivot_table(index='genre', values='jp_sales',aggfunc='sum') \\\n",
    "          .sort_values(by='jp_sales', ascending=False).head() # сортировка по Японии\n",
    "display_side_by_side(top_genres_na, top_genres_eu, top_genres_jp, titles = ['Северная Америка','Европа','Япония'])"
   ]
  },
  {
   "cell_type": "markdown",
   "metadata": {},
   "source": [
    "В Северной Америке самые популярные жанры Action, Shooter, Sports. Этот топ совадает с мировым, на долю Америки приходится большая часть рынка."
   ]
  },
  {
   "cell_type": "markdown",
   "metadata": {},
   "source": [
    "Европа не далеко отходит от Америки. Первые четыре жанра идентичны, различается замыкающий пятерку жанр. В Европе больше любят гонки, чем Misc."
   ]
  },
  {
   "cell_type": "markdown",
   "metadata": {},
   "source": [
    "Япония выделяется и здесь. Совсем другая тройка лидеров: RPG, Action, Misc. Больше всего в Японии любят ролевые игры. В отличии от других регионов Action на втором месте. Misc('Игры, не вошедшие в другие жанры') на третьем месте. На четвертом месте появился жанр Fighting, чего не было в Европе и Америке."
   ]
  },
  {
   "cell_type": "markdown",
   "metadata": {},
   "source": [
    "### Влияет ли рейтинг ESRB на продажи в отдельном регионе?"
   ]
  },
  {
   "cell_type": "markdown",
   "metadata": {},
   "source": [
    "- «EC» («Early childhood») — «Для детей младшего возраста»\n",
    "- «E» («Everyone») — «Для всех»\n",
    "- «E10+» («Everyone 10 and older») — «Для всех от 10 лет и старше»\n",
    "- «T» («Teen») — «Подросткам»\n",
    "- «M» («Mature») — «Для взрослых»\n",
    "- «AO» («Adults Only 18+») — «Только для взрослых»\n",
    "- «RP» («Rating Pending») — «Рейтинг ожидается»"
   ]
  },
  {
   "cell_type": "code",
   "execution_count": 40,
   "metadata": {},
   "outputs": [
    {
     "data": {
      "text/plain": [
       "M       369\n",
       "T       333\n",
       "E       302\n",
       "E10+    252\n",
       "Name: rating, dtype: int64"
      ]
     },
     "execution_count": 40,
     "metadata": {},
     "output_type": "execute_result"
    }
   ],
   "source": [
    "actual_data['rating'].value_counts() # количесвто уникальных значений рейтинга игр"
   ]
  },
  {
   "cell_type": "code",
   "execution_count": 41,
   "metadata": {},
   "outputs": [
    {
     "data": {
      "text/html": [
       "<th style=\"text-align:center\"><td style=\"vertical-align:top\"><h2>Северная Америка</h2><table style=\"display:inline\" border=\"1\" class=\"dataframe\">\n",
       "  <thead>\n",
       "    <tr style=\"text-align: right;\">\n",
       "      <th></th>\n",
       "      <th>na_sales</th>\n",
       "    </tr>\n",
       "    <tr>\n",
       "      <th>rating</th>\n",
       "      <th></th>\n",
       "    </tr>\n",
       "  </thead>\n",
       "  <tbody>\n",
       "    <tr>\n",
       "      <th>M</th>\n",
       "      <td>165.21</td>\n",
       "    </tr>\n",
       "    <tr>\n",
       "      <th>E</th>\n",
       "      <td>79.05</td>\n",
       "    </tr>\n",
       "    <tr>\n",
       "      <th>E10+</th>\n",
       "      <td>54.24</td>\n",
       "    </tr>\n",
       "    <tr>\n",
       "      <th>T</th>\n",
       "      <td>49.79</td>\n",
       "    </tr>\n",
       "  </tbody>\n",
       "</table style=\"display:inline\"></td></th><th style=\"text-align:center\"><td style=\"vertical-align:top\"><h2>Европа</h2><table style=\"display:inline\" border=\"1\" class=\"dataframe\">\n",
       "  <thead>\n",
       "    <tr style=\"text-align: right;\">\n",
       "      <th></th>\n",
       "      <th>eu_sales</th>\n",
       "    </tr>\n",
       "    <tr>\n",
       "      <th>rating</th>\n",
       "      <th></th>\n",
       "    </tr>\n",
       "  </thead>\n",
       "  <tbody>\n",
       "    <tr>\n",
       "      <th>M</th>\n",
       "      <td>145.32</td>\n",
       "    </tr>\n",
       "    <tr>\n",
       "      <th>E</th>\n",
       "      <td>83.36</td>\n",
       "    </tr>\n",
       "    <tr>\n",
       "      <th>E10+</th>\n",
       "      <td>42.69</td>\n",
       "    </tr>\n",
       "    <tr>\n",
       "      <th>T</th>\n",
       "      <td>41.95</td>\n",
       "    </tr>\n",
       "  </tbody>\n",
       "</table style=\"display:inline\"></td></th><th style=\"text-align:center\"><td style=\"vertical-align:top\"><h2>Япония</h2><table style=\"display:inline\" border=\"1\" class=\"dataframe\">\n",
       "  <thead>\n",
       "    <tr style=\"text-align: right;\">\n",
       "      <th></th>\n",
       "      <th>jp_sales</th>\n",
       "    </tr>\n",
       "    <tr>\n",
       "      <th>rating</th>\n",
       "      <th></th>\n",
       "    </tr>\n",
       "  </thead>\n",
       "  <tbody>\n",
       "    <tr>\n",
       "      <th>T</th>\n",
       "      <td>20.59</td>\n",
       "    </tr>\n",
       "    <tr>\n",
       "      <th>E</th>\n",
       "      <td>15.14</td>\n",
       "    </tr>\n",
       "    <tr>\n",
       "      <th>M</th>\n",
       "      <td>14.11</td>\n",
       "    </tr>\n",
       "    <tr>\n",
       "      <th>E10+</th>\n",
       "      <td>5.89</td>\n",
       "    </tr>\n",
       "  </tbody>\n",
       "</table style=\"display:inline\"></td></th>"
      ]
     },
     "metadata": {},
     "output_type": "display_data"
    }
   ],
   "source": [
    "# сводная таблица с рейтингом по продажам по регионам\n",
    "rating_na = actual_data.pivot_table(index='rating', values='na_sales',aggfunc='sum') \\\n",
    "           .sort_values(by='na_sales', ascending=False) # сортировка по Америке\n",
    "rating_eu = actual_data.pivot_table(index='rating', values='eu_sales',aggfunc='sum') \\\n",
    "           .sort_values(by='eu_sales', ascending=False) # сортировка по Европе\n",
    "rating_jp = actual_data.pivot_table(index='rating', values='jp_sales',aggfunc='sum') \\\n",
    "           .sort_values(by='jp_sales', ascending=False) # сортировка по Японии\n",
    "display_side_by_side(rating_na, rating_eu, rating_jp, titles = ['Северная Америка','Европа','Япония'])"
   ]
  },
  {
   "cell_type": "markdown",
   "metadata": {},
   "source": [
    "Северная Америка, тройка лидеров: M, E, E10+\n",
    "\n",
    "Европа, тройка лидеров: M, E, E10+\n",
    "\n",
    "Япония, тройка лидеров: T, E, M "
   ]
  },
  {
   "cell_type": "markdown",
   "metadata": {},
   "source": [
    "Рейтинг ESRB влияет на на продажи в отдельном регионе! \n",
    "У Европы с Северной Америкой нет различий. На первом месте идут игры с рейтингом М. Большинство хитов и крупных проектов как раз выходит с этим рейтингом. Игры для подростков приветствуются меньше всего.\n",
    "\n",
    "У Японии все по другому: \"для подростков\", \"для всех\", \"для взрослых\". \n",
    "\n",
    "Рейтинг \"для взрослых\" не особо приветствуется в Японии. Проекты с данным рейтингом могут содержать достаточно жестокое насилие, большое количество крови с расчленением, непристойные сексуальные сцены или грубую ненормативную лексику, нежелательную для младшей аудитории. Что связано напрямую с цензурой. Учитывая, что в Японии популярны свои платформы, плюс специфика культуры в стране, можно сделать вывод, что игры \"для взрослых\" почти не выпускают на Nintendo."
   ]
  },
  {
   "cell_type": "markdown",
   "metadata": {},
   "source": [
    "## Проверка гипотез:"
   ]
  },
  {
   "cell_type": "markdown",
   "metadata": {},
   "source": [
    "### Средние пользовательские рейтинги платформ Xbox One и PC одинаковые."
   ]
  },
  {
   "cell_type": "markdown",
   "metadata": {},
   "source": [
    "На основе анализа данных проверим гипотезу о том, что средние пользовательские рейтинги платформ Xbox One и PC одинаковые. Исходя из того, что мы всегда формулируем нулевую гипотезу со знаком равенства, нулевая гипотеза будет звучать следующим образом:\n",
    "\n",
    "*** H0 - Средние пользовательские рейтинги платформ Xbox One и PC одинаковые. ***\n",
    "\n",
    "Я не могу предположить в какую сторону они будут различаться, поэтому сформулирую двустороннюю альтернативную гипотезу:\n",
    "\n",
    "*** H1 - Средние пользовательские рейтинги платформ Xbox One и PC различаются. ***\n",
    "\n",
    "Я буду сравнивать равенство среднего двух генеральных совокупностей по взятым из них выборкам, для этого есть метод scipy.stats.ttest_ind (array1, array2,equal_var)."
   ]
  },
  {
   "cell_type": "code",
   "execution_count": 42,
   "metadata": {},
   "outputs": [
    {
     "data": {
      "text/plain": [
       "(182, 1)"
      ]
     },
     "execution_count": 42,
     "metadata": {},
     "output_type": "execute_result"
    }
   ],
   "source": [
    "# сводная таблица по одной платформе XOne с пользовательскими рейтингами\n",
    "user_score_xbox = actual_data[actual_data['platform']=='XOne'].pivot_table(index='name', values='user_score')\n",
    "user_score_xbox.shape"
   ]
  },
  {
   "cell_type": "code",
   "execution_count": 43,
   "metadata": {},
   "outputs": [
    {
     "data": {
      "text/plain": [
       "(155, 1)"
      ]
     },
     "execution_count": 43,
     "metadata": {},
     "output_type": "execute_result"
    }
   ],
   "source": [
    "# сводная таблица по одной платформе PC с пользовательскими рейтингами\n",
    "user_score_pc = actual_data[actual_data['platform']=='PC'].pivot_table(index='name', values='user_score')\n",
    "user_score_pc.shape"
   ]
  },
  {
   "cell_type": "code",
   "execution_count": 44,
   "metadata": {
    "scrolled": true
   },
   "outputs": [
    {
     "name": "stdout",
     "output_type": "stream",
     "text": [
      "P-value: [0.14759594]\n",
      "Не получилось отвергнуть нулевую гипотезу\n"
     ]
    },
    {
     "data": {
      "text/plain": [
       "Ttest_indResult(statistic=array([1.45192816]), pvalue=array([0.14759594]))"
      ]
     },
     "execution_count": 44,
     "metadata": {},
     "output_type": "execute_result"
    }
   ],
   "source": [
    "alpha = 0.05 # пороговое значение альфа\n",
    "results = st.ttest_ind(user_score_xbox, user_score_pc, equal_var = False) \n",
    "print('P-value:', results.pvalue)\n",
    "\n",
    "if (results.pvalue < alpha):\n",
    "     print(\"Отвергаем нулевую гипотезу\")\n",
    "else:\n",
    "     print(\"Не получилось отвергнуть нулевую гипотезу\")\n",
    "results"
   ]
  },
  {
   "cell_type": "markdown",
   "metadata": {},
   "source": [
    "Не получилось отвергнуть нулевую гипотезу. Результат теста говорит в пользу нулевой гипотезы. А значит мы принимаем гипотезу о том, что средние пользовательские рейтинги платформ Xbox One и PC одинаковые."
   ]
  },
  {
   "cell_type": "markdown",
   "metadata": {},
   "source": [
    "### Средние пользовательские рейтинги жанров Action и Sports разные."
   ]
  },
  {
   "cell_type": "markdown",
   "metadata": {},
   "source": [
    "На основе анализа данных проверим гипотезу о том, что средние пользовательские рейтинги жанров Action и Sports разные. Исходя из того, что мы всегда формулируем нулевую гипотезу со знаком равенства, нулевая гипотеза будет звучать следующим образом:\n",
    "\n",
    "*** H0 - Средние пользовательские рейтинги жанров Action и Sports одинаковые. ***\n",
    "\n",
    "Я не могу предположить в какую сторону они будут различаться, поэтому сформулирую двустороннюю альтернативную гипотезу:\n",
    "\n",
    "*** H1 - Средние пользовательские рейтинги жанров Action и Sports различаются. ***\n",
    "\n",
    "Я буду сравнивать равенство среднего двух генеральных совокупностей по взятым из них выборкам, для этого есть метод scipy.stats.ttest_ind (array1, array2,equal_var)."
   ]
  },
  {
   "cell_type": "code",
   "execution_count": 45,
   "metadata": {},
   "outputs": [
    {
     "data": {
      "text/plain": [
       "(169, 1)"
      ]
     },
     "execution_count": 45,
     "metadata": {},
     "output_type": "execute_result"
    }
   ],
   "source": [
    "# сводная таблица жанра Action с пользовательскими рейтингами\n",
    "user_score_action = actual_data[actual_data['genre']=='Action'].pivot_table(index='name', values='user_score')\n",
    "user_score_action.shape"
   ]
  },
  {
   "cell_type": "code",
   "execution_count": 46,
   "metadata": {},
   "outputs": [
    {
     "data": {
      "text/plain": [
       "(57, 1)"
      ]
     },
     "execution_count": 46,
     "metadata": {},
     "output_type": "execute_result"
    }
   ],
   "source": [
    "# сводная таблица жанра Sports с пользовательскими рейтингами\n",
    "user_score_sports = actual_data[actual_data['genre']=='Sports'].pivot_table(index='name', values='user_score')\n",
    "user_score_sports.shape"
   ]
  },
  {
   "cell_type": "code",
   "execution_count": 47,
   "metadata": {},
   "outputs": [
    {
     "name": "stdout",
     "output_type": "stream",
     "text": [
      "P-value: [6.67553633e-09]\n",
      "Отвергаем нулевую гипотезу\n"
     ]
    },
    {
     "data": {
      "text/plain": [
       "Ttest_indResult(statistic=array([6.42363736]), pvalue=array([6.67553633e-09]))"
      ]
     },
     "execution_count": 47,
     "metadata": {},
     "output_type": "execute_result"
    }
   ],
   "source": [
    "alpha = 0.05 # пороговое значение альфа\n",
    "results = st.ttest_ind(user_score_action, user_score_sports, equal_var = False) \n",
    "print('P-value:', results.pvalue)\n",
    "\n",
    "if (results.pvalue < alpha):\n",
    "     print(\"Отвергаем нулевую гипотезу\")\n",
    "else:\n",
    "     print(\"Не получилось отвергнуть нулевую гипотезу\")\n",
    "results"
   ]
  },
  {
   "cell_type": "markdown",
   "metadata": {},
   "source": [
    "Можно смело отвергать нулевую гипотезу. Даже если мы возьмем пороговое значение меньше (например 0,01), нулевая гипотеза остается маловероятной. Все говорит в пользу альтернативной гипотезы. А значит мы принимаем гипотезу о том, что средние пользовательские рейтинги жанров Action и Sports разные."
   ]
  },
  {
   "cell_type": "markdown",
   "metadata": {},
   "source": [
    "## Общий вывод"
   ]
  },
  {
   "cell_type": "markdown",
   "metadata": {},
   "source": [
    "Я проанализировал данные об играх на плтформах вышедших с 1980 по 2016 и выяснил:\n",
    "\n",
    "* Больше всего игр вышло в 2008 и 2009 годы.\n",
    "* Самые популярные платформы в среднем живут 11 лет. Раз в 5-6 лет их сменяет новое поколение топ-платформ. После прохождения пика популярности и развития технологий. В среднем по всем платформам срок жизни 6 лет.\n",
    "* Для прогнозирования и анализа был принят период с 2013 по 2016 год. \n",
    "* В актуальном периоде по продажам лидируют PS4, PS3, XOne.\n",
    "* Наиболее перспективные платформы к 2017 году PS4 и XOne.\n",
    "* GTA V - самая популярная игра с суммарными продажами свыше 50 млн. копий по данным до 2016 года.\n",
    "* При оценке критиков от 8 и выше, игры как правило достигают больших продаж.\n",
    "* Суммарные продажи больше зависят от оценки критиков, чем от оценки пользователей.\n",
    "* Action, Sports, Shooter самые прибыльные жанры.\n",
    "* В Америке и Европе лидирует PS4, в Японии Nintendo.\n",
    "* В Европе и Америке лидирует жанр Action, в Японии RPG.\n",
    "* Не получилось **отвергнуть** нулевую гипотезу о том, что средние пользовательские рейтинги платформ Xbox One и PC одинаковые.\n",
    "* Получилось **принять** гипотезу о том, что средние пользовательские рейтинги жанров Action и Sports разные.\n",
    "\n",
    "На основе вышесказанного можно сделать вывод о том, что успешность игры зависит на какой платформе она вышла. Выпускать стоит на самых популярных платформах на данный момент. Как минимум от компаний PlayStation и Microsoft в Америке и Европе. А в Японии лучше выпускать на Nintendo в первую очередь. Чтобы увеличить продажи игры, можно выпустить сразу на двух поколениях приставок, новом и устаревающем.\n",
    "\n",
    "Успешность так же зависит от жанра. Action, Sports, Shooter самые прибыльные жанры.\n",
    "\n",
    "Самый востребованный рейтинг ESRB - «Для взрослых» в Америке и Европе. В Японии «Для подростков»."
   ]
  }
 ],
 "metadata": {
  "ExecuteTimeLog": [
   {
    "duration": 1494,
    "start_time": "2022-03-06T11:30:18.124Z"
   },
   {
    "duration": 4,
    "start_time": "2022-03-06T11:36:29.630Z"
   },
   {
    "duration": 20,
    "start_time": "2022-03-06T11:37:41.377Z"
   },
   {
    "duration": 15,
    "start_time": "2022-03-06T11:40:22.199Z"
   },
   {
    "duration": 15,
    "start_time": "2022-03-06T11:52:24.437Z"
   },
   {
    "duration": 11,
    "start_time": "2022-03-06T11:55:04.788Z"
   },
   {
    "duration": 9,
    "start_time": "2022-03-06T11:55:14.706Z"
   },
   {
    "duration": 10,
    "start_time": "2022-03-06T11:55:52.357Z"
   },
   {
    "duration": 9,
    "start_time": "2022-03-06T11:57:46.463Z"
   },
   {
    "duration": 9,
    "start_time": "2022-03-06T12:01:03.192Z"
   },
   {
    "duration": 7,
    "start_time": "2022-03-06T12:02:34.627Z"
   },
   {
    "duration": 23,
    "start_time": "2022-03-06T12:06:13.009Z"
   },
   {
    "duration": 6,
    "start_time": "2022-03-06T12:07:57.184Z"
   },
   {
    "duration": 23,
    "start_time": "2022-03-06T12:08:00.242Z"
   },
   {
    "duration": 340,
    "start_time": "2022-03-06T12:14:45.234Z"
   },
   {
    "duration": 22,
    "start_time": "2022-03-06T12:14:56.278Z"
   },
   {
    "duration": 8,
    "start_time": "2022-03-06T12:29:28.771Z"
   },
   {
    "duration": 318,
    "start_time": "2022-03-06T12:33:00.558Z"
   },
   {
    "duration": 1534,
    "start_time": "2022-03-06T12:33:56.991Z"
   },
   {
    "duration": 22,
    "start_time": "2022-03-06T12:33:58.527Z"
   },
   {
    "duration": 4,
    "start_time": "2022-03-06T12:33:58.552Z"
   },
   {
    "duration": 38,
    "start_time": "2022-03-06T12:33:58.559Z"
   },
   {
    "duration": 13,
    "start_time": "2022-03-06T12:33:58.600Z"
   },
   {
    "duration": 12,
    "start_time": "2022-03-06T12:33:58.616Z"
   },
   {
    "duration": 10,
    "start_time": "2022-03-06T12:33:58.630Z"
   },
   {
    "duration": 42,
    "start_time": "2022-03-06T12:33:58.645Z"
   },
   {
    "duration": 9,
    "start_time": "2022-03-06T12:33:58.691Z"
   },
   {
    "duration": 26,
    "start_time": "2022-03-06T12:33:58.703Z"
   },
   {
    "duration": 411,
    "start_time": "2022-03-06T12:33:58.732Z"
   },
   {
    "duration": 441,
    "start_time": "2022-03-06T12:33:58.704Z"
   },
   {
    "duration": 224,
    "start_time": "2022-03-06T12:34:20.088Z"
   },
   {
    "duration": 225,
    "start_time": "2022-03-06T12:36:28.441Z"
   },
   {
    "duration": 256,
    "start_time": "2022-03-06T12:36:35.360Z"
   },
   {
    "duration": 255,
    "start_time": "2022-03-06T12:37:03.800Z"
   },
   {
    "duration": 242,
    "start_time": "2022-03-06T12:37:12.887Z"
   },
   {
    "duration": 284,
    "start_time": "2022-03-06T12:37:38.152Z"
   },
   {
    "duration": 253,
    "start_time": "2022-03-06T12:37:46.847Z"
   },
   {
    "duration": 214,
    "start_time": "2022-03-06T12:40:24.087Z"
   },
   {
    "duration": 8,
    "start_time": "2022-03-06T12:40:28.382Z"
   },
   {
    "duration": 8,
    "start_time": "2022-03-06T12:41:13.831Z"
   },
   {
    "duration": 576,
    "start_time": "2022-03-06T12:41:54.191Z"
   },
   {
    "duration": 6,
    "start_time": "2022-03-06T12:42:17.639Z"
   },
   {
    "duration": 373,
    "start_time": "2022-03-06T12:42:53.370Z"
   },
   {
    "duration": 413,
    "start_time": "2022-03-06T12:43:24.046Z"
   },
   {
    "duration": 426,
    "start_time": "2022-03-06T12:43:59.175Z"
   },
   {
    "duration": 454,
    "start_time": "2022-03-06T12:44:29.085Z"
   },
   {
    "duration": 438,
    "start_time": "2022-03-06T12:44:32.286Z"
   },
   {
    "duration": 837,
    "start_time": "2022-03-06T12:45:01.926Z"
   },
   {
    "duration": 810,
    "start_time": "2022-03-06T12:45:23.918Z"
   },
   {
    "duration": 428,
    "start_time": "2022-03-06T12:46:12.846Z"
   },
   {
    "duration": 425,
    "start_time": "2022-03-06T12:46:35.422Z"
   },
   {
    "duration": 430,
    "start_time": "2022-03-06T12:46:45.573Z"
   },
   {
    "duration": 670,
    "start_time": "2022-03-06T12:46:59.790Z"
   },
   {
    "duration": 432,
    "start_time": "2022-03-06T12:47:04.310Z"
   },
   {
    "duration": 1496,
    "start_time": "2022-03-06T12:53:46.543Z"
   },
   {
    "duration": 22,
    "start_time": "2022-03-06T12:53:48.042Z"
   },
   {
    "duration": 4,
    "start_time": "2022-03-06T12:53:48.067Z"
   },
   {
    "duration": 25,
    "start_time": "2022-03-06T12:53:48.073Z"
   },
   {
    "duration": 14,
    "start_time": "2022-03-06T12:53:48.101Z"
   },
   {
    "duration": 14,
    "start_time": "2022-03-06T12:53:48.117Z"
   },
   {
    "duration": 14,
    "start_time": "2022-03-06T12:53:48.133Z"
   },
   {
    "duration": 43,
    "start_time": "2022-03-06T12:53:48.150Z"
   },
   {
    "duration": 8,
    "start_time": "2022-03-06T12:53:48.197Z"
   },
   {
    "duration": 24,
    "start_time": "2022-03-06T12:53:48.207Z"
   },
   {
    "duration": 6,
    "start_time": "2022-03-06T12:53:48.233Z"
   },
   {
    "duration": 351,
    "start_time": "2022-03-06T12:53:48.241Z"
   },
   {
    "duration": 434,
    "start_time": "2022-03-06T12:53:48.161Z"
   },
   {
    "duration": 428,
    "start_time": "2022-03-06T12:53:48.168Z"
   },
   {
    "duration": 214,
    "start_time": "2022-03-06T12:53:57.184Z"
   },
   {
    "duration": 442,
    "start_time": "2022-03-06T12:56:40.399Z"
   },
   {
    "duration": 645,
    "start_time": "2022-03-06T12:57:06.257Z"
   },
   {
    "duration": 587,
    "start_time": "2022-03-06T12:57:12.608Z"
   },
   {
    "duration": 581,
    "start_time": "2022-03-06T12:57:28.680Z"
   },
   {
    "duration": 257,
    "start_time": "2022-03-06T12:57:37.248Z"
   },
   {
    "duration": 237,
    "start_time": "2022-03-06T12:57:46.000Z"
   },
   {
    "duration": 229,
    "start_time": "2022-03-06T12:57:59.736Z"
   },
   {
    "duration": 768,
    "start_time": "2022-03-06T12:58:19.417Z"
   },
   {
    "duration": 874,
    "start_time": "2022-03-06T12:59:21.960Z"
   },
   {
    "duration": 781,
    "start_time": "2022-03-06T12:59:33.488Z"
   },
   {
    "duration": 283,
    "start_time": "2022-03-06T13:00:02.511Z"
   },
   {
    "duration": 297,
    "start_time": "2022-03-06T13:00:26.255Z"
   },
   {
    "duration": 250,
    "start_time": "2022-03-06T13:00:49.991Z"
   },
   {
    "duration": 312,
    "start_time": "2022-03-06T13:01:32.279Z"
   },
   {
    "duration": 281,
    "start_time": "2022-03-06T13:01:45.446Z"
   },
   {
    "duration": 438,
    "start_time": "2022-03-06T13:01:55.464Z"
   },
   {
    "duration": 236,
    "start_time": "2022-03-06T13:02:48.806Z"
   },
   {
    "duration": 605,
    "start_time": "2022-03-06T13:04:25.711Z"
   },
   {
    "duration": 529,
    "start_time": "2022-03-06T13:04:53.285Z"
   },
   {
    "duration": 619,
    "start_time": "2022-03-06T13:05:23.694Z"
   },
   {
    "duration": 533,
    "start_time": "2022-03-06T13:05:48.550Z"
   },
   {
    "duration": 552,
    "start_time": "2022-03-06T13:06:43.463Z"
   },
   {
    "duration": 8,
    "start_time": "2022-03-06T13:07:25.998Z"
   },
   {
    "duration": 539,
    "start_time": "2022-03-06T13:07:29.181Z"
   },
   {
    "duration": 9,
    "start_time": "2022-03-06T13:09:39.878Z"
   },
   {
    "duration": 7,
    "start_time": "2022-03-06T13:12:17.284Z"
   },
   {
    "duration": 48,
    "start_time": "2022-03-06T13:33:41.856Z"
   },
   {
    "duration": 10,
    "start_time": "2022-03-06T13:34:10.961Z"
   },
   {
    "duration": 69,
    "start_time": "2022-03-06T13:35:16.441Z"
   },
   {
    "duration": 602,
    "start_time": "2022-03-06T13:37:16.080Z"
   },
   {
    "duration": 27,
    "start_time": "2022-03-06T13:38:48.881Z"
   },
   {
    "duration": 575,
    "start_time": "2022-03-06T13:38:56.895Z"
   },
   {
    "duration": 5,
    "start_time": "2022-03-06T13:41:58.687Z"
   },
   {
    "duration": 82,
    "start_time": "2022-03-06T13:43:53.044Z"
   },
   {
    "duration": 86,
    "start_time": "2022-03-06T13:44:12.159Z"
   },
   {
    "duration": 74,
    "start_time": "2022-03-06T13:44:36.391Z"
   },
   {
    "duration": 4364,
    "start_time": "2022-03-06T13:45:25.375Z"
   },
   {
    "duration": 1496,
    "start_time": "2022-03-06T13:46:27.233Z"
   },
   {
    "duration": 3741,
    "start_time": "2022-03-06T13:46:28.732Z"
   },
   {
    "duration": 26,
    "start_time": "2022-03-06T13:46:32.477Z"
   },
   {
    "duration": 4,
    "start_time": "2022-03-06T13:46:32.506Z"
   },
   {
    "duration": 27,
    "start_time": "2022-03-06T13:46:32.512Z"
   },
   {
    "duration": 31,
    "start_time": "2022-03-06T13:46:32.541Z"
   },
   {
    "duration": 26,
    "start_time": "2022-03-06T13:46:32.574Z"
   },
   {
    "duration": 10,
    "start_time": "2022-03-06T13:46:32.604Z"
   },
   {
    "duration": 16,
    "start_time": "2022-03-06T13:46:32.617Z"
   },
   {
    "duration": 10,
    "start_time": "2022-03-06T13:46:32.635Z"
   },
   {
    "duration": 48,
    "start_time": "2022-03-06T13:46:32.648Z"
   },
   {
    "duration": 7,
    "start_time": "2022-03-06T13:46:32.699Z"
   },
   {
    "duration": 579,
    "start_time": "2022-03-06T13:46:32.708Z"
   },
   {
    "duration": 9,
    "start_time": "2022-03-06T13:46:33.289Z"
   },
   {
    "duration": 10,
    "start_time": "2022-03-06T13:46:33.300Z"
   },
   {
    "duration": 15,
    "start_time": "2022-03-06T13:46:33.312Z"
   },
   {
    "duration": 761,
    "start_time": "2022-03-06T13:46:33.329Z"
   },
   {
    "duration": 393,
    "start_time": "2022-03-06T13:46:33.699Z"
   },
   {
    "duration": 25,
    "start_time": "2022-03-06T13:48:28.179Z"
   },
   {
    "duration": 622,
    "start_time": "2022-03-06T13:50:03.276Z"
   },
   {
    "duration": 421,
    "start_time": "2022-03-06T13:50:32.411Z"
   },
   {
    "duration": 439,
    "start_time": "2022-03-06T13:52:16.581Z"
   },
   {
    "duration": 424,
    "start_time": "2022-03-06T13:52:52.258Z"
   },
   {
    "duration": 415,
    "start_time": "2022-03-06T13:52:56.922Z"
   },
   {
    "duration": 484,
    "start_time": "2022-03-06T13:53:03.370Z"
   },
   {
    "duration": 504,
    "start_time": "2022-03-06T13:53:07.673Z"
   },
   {
    "duration": 423,
    "start_time": "2022-03-06T13:53:36.561Z"
   },
   {
    "duration": 428,
    "start_time": "2022-03-06T13:53:51.122Z"
   },
   {
    "duration": 401,
    "start_time": "2022-03-06T13:54:00.058Z"
   },
   {
    "duration": 416,
    "start_time": "2022-03-06T13:54:10.249Z"
   },
   {
    "duration": 419,
    "start_time": "2022-03-06T13:54:31.234Z"
   },
   {
    "duration": 426,
    "start_time": "2022-03-06T13:54:45.506Z"
   },
   {
    "duration": 431,
    "start_time": "2022-03-06T13:54:51.633Z"
   },
   {
    "duration": 436,
    "start_time": "2022-03-06T13:55:21.578Z"
   },
   {
    "duration": 601,
    "start_time": "2022-03-06T13:56:26.122Z"
   },
   {
    "duration": 551,
    "start_time": "2022-03-06T13:57:46.596Z"
   },
   {
    "duration": 621,
    "start_time": "2022-03-06T14:03:46.809Z"
   },
   {
    "duration": 536,
    "start_time": "2022-03-06T14:04:04.360Z"
   },
   {
    "duration": 544,
    "start_time": "2022-03-06T14:06:16.113Z"
   },
   {
    "duration": 485,
    "start_time": "2022-03-06T14:06:58.866Z"
   },
   {
    "duration": 502,
    "start_time": "2022-03-06T14:09:31.680Z"
   },
   {
    "duration": 21,
    "start_time": "2022-03-06T14:16:13.423Z"
   },
   {
    "duration": 7,
    "start_time": "2022-03-06T14:16:56.862Z"
   },
   {
    "duration": 18,
    "start_time": "2022-03-06T14:17:08.405Z"
   },
   {
    "duration": 32,
    "start_time": "2022-03-06T14:17:48.142Z"
   },
   {
    "duration": 7,
    "start_time": "2022-03-06T14:18:12.558Z"
   },
   {
    "duration": 17,
    "start_time": "2022-03-06T14:18:28.836Z"
   },
   {
    "duration": 9,
    "start_time": "2022-03-06T14:18:49.382Z"
   },
   {
    "duration": 7,
    "start_time": "2022-03-06T14:19:59.773Z"
   },
   {
    "duration": 239,
    "start_time": "2022-03-06T14:31:29.708Z"
   },
   {
    "duration": 765,
    "start_time": "2022-03-06T14:32:01.924Z"
   },
   {
    "duration": 1137,
    "start_time": "2022-03-06T14:32:17.883Z"
   },
   {
    "duration": 821,
    "start_time": "2022-03-06T14:32:25.690Z"
   },
   {
    "duration": 852,
    "start_time": "2022-03-06T14:33:02.779Z"
   },
   {
    "duration": 8,
    "start_time": "2022-03-06T14:39:17.802Z"
   },
   {
    "duration": 963,
    "start_time": "2022-03-06T14:42:17.218Z"
   },
   {
    "duration": 625,
    "start_time": "2022-03-06T14:42:34.841Z"
   },
   {
    "duration": 6,
    "start_time": "2022-03-06T14:48:10.081Z"
   },
   {
    "duration": 588,
    "start_time": "2022-03-06T14:48:13.129Z"
   },
   {
    "duration": 28,
    "start_time": "2022-03-06T14:50:06.951Z"
   },
   {
    "duration": 12,
    "start_time": "2022-03-06T14:50:39.659Z"
   },
   {
    "duration": 10,
    "start_time": "2022-03-06T14:50:55.511Z"
   },
   {
    "duration": 734,
    "start_time": "2022-03-06T14:57:46.935Z"
   },
   {
    "duration": 840,
    "start_time": "2022-03-06T15:02:46.022Z"
   },
   {
    "duration": 239,
    "start_time": "2022-03-06T15:02:54.062Z"
   },
   {
    "duration": 937,
    "start_time": "2022-03-06T15:05:02.806Z"
   },
   {
    "duration": 737,
    "start_time": "2022-03-06T15:05:29.372Z"
   },
   {
    "duration": 725,
    "start_time": "2022-03-06T15:05:40.276Z"
   },
   {
    "duration": 5727,
    "start_time": "2022-03-06T15:07:30.141Z"
   },
   {
    "duration": 568,
    "start_time": "2022-03-06T15:08:10.893Z"
   },
   {
    "duration": 841,
    "start_time": "2022-03-06T15:08:26.452Z"
   },
   {
    "duration": 732,
    "start_time": "2022-03-06T15:09:08.760Z"
   },
   {
    "duration": 858,
    "start_time": "2022-03-06T15:10:53.340Z"
   },
   {
    "duration": 724,
    "start_time": "2022-03-06T15:11:02.355Z"
   },
   {
    "duration": 496,
    "start_time": "2022-03-06T15:12:29.796Z"
   },
   {
    "duration": 484,
    "start_time": "2022-03-06T15:13:37.909Z"
   },
   {
    "duration": 203,
    "start_time": "2022-03-06T15:13:47.796Z"
   },
   {
    "duration": 1192,
    "start_time": "2022-03-06T15:14:22.919Z"
   },
   {
    "duration": 200,
    "start_time": "2022-03-06T15:14:32.661Z"
   },
   {
    "duration": 344,
    "start_time": "2022-03-06T15:15:08.004Z"
   },
   {
    "duration": 275,
    "start_time": "2022-03-06T15:15:42.349Z"
   },
   {
    "duration": 283,
    "start_time": "2022-03-06T15:16:09.532Z"
   },
   {
    "duration": 363,
    "start_time": "2022-03-06T15:16:31.357Z"
   },
   {
    "duration": 494,
    "start_time": "2022-03-06T15:17:12.093Z"
   },
   {
    "duration": 1948,
    "start_time": "2022-03-06T15:17:22.900Z"
   },
   {
    "duration": 683,
    "start_time": "2022-03-06T15:17:34.788Z"
   },
   {
    "duration": 488,
    "start_time": "2022-03-06T15:19:06.490Z"
   },
   {
    "duration": 618,
    "start_time": "2022-03-06T15:19:55.527Z"
   },
   {
    "duration": 521,
    "start_time": "2022-03-06T15:20:05.643Z"
   },
   {
    "duration": 526,
    "start_time": "2022-03-06T15:21:38.796Z"
   },
   {
    "duration": 724,
    "start_time": "2022-03-06T15:22:19.866Z"
   },
   {
    "duration": 522,
    "start_time": "2022-03-06T15:22:28.690Z"
   },
   {
    "duration": 256,
    "start_time": "2022-03-06T15:23:09.970Z"
   },
   {
    "duration": 631,
    "start_time": "2022-03-06T15:23:34.682Z"
   },
   {
    "duration": 518,
    "start_time": "2022-03-06T15:25:08.374Z"
   },
   {
    "duration": 722,
    "start_time": "2022-03-06T15:26:14.323Z"
   },
   {
    "duration": 730,
    "start_time": "2022-03-06T15:26:19.590Z"
   },
   {
    "duration": 515,
    "start_time": "2022-03-06T15:26:27.962Z"
   },
   {
    "duration": 231,
    "start_time": "2022-03-06T15:33:28.936Z"
   },
   {
    "duration": 375,
    "start_time": "2022-03-06T15:33:36.495Z"
   },
   {
    "duration": 360,
    "start_time": "2022-03-06T15:33:42.745Z"
   },
   {
    "duration": 372,
    "start_time": "2022-03-06T15:33:47.119Z"
   },
   {
    "duration": 83,
    "start_time": "2022-03-06T15:34:06.440Z"
   },
   {
    "duration": 384,
    "start_time": "2022-03-06T15:34:17.696Z"
   },
   {
    "duration": 407,
    "start_time": "2022-03-06T15:34:38.369Z"
   },
   {
    "duration": 514,
    "start_time": "2022-03-06T15:36:08.560Z"
   },
   {
    "duration": 631,
    "start_time": "2022-03-06T15:36:36.056Z"
   },
   {
    "duration": 703,
    "start_time": "2022-03-06T15:36:53.416Z"
   },
   {
    "duration": 586,
    "start_time": "2022-03-06T15:37:04.672Z"
   },
   {
    "duration": 763,
    "start_time": "2022-03-06T15:37:12.336Z"
   },
   {
    "duration": 639,
    "start_time": "2022-03-06T15:37:58.455Z"
   },
   {
    "duration": 671,
    "start_time": "2022-03-06T15:38:22.443Z"
   },
   {
    "duration": 22,
    "start_time": "2022-03-06T15:40:15.239Z"
   },
   {
    "duration": 1004,
    "start_time": "2022-03-06T15:41:10.295Z"
   },
   {
    "duration": 766,
    "start_time": "2022-03-06T15:41:18.606Z"
   },
   {
    "duration": 703,
    "start_time": "2022-03-06T15:44:22.523Z"
   },
   {
    "duration": 695,
    "start_time": "2022-03-06T15:44:40.582Z"
   },
   {
    "duration": 24,
    "start_time": "2022-03-06T15:53:48.890Z"
   },
   {
    "duration": 29,
    "start_time": "2022-03-06T15:55:51.212Z"
   },
   {
    "duration": 1959,
    "start_time": "2022-03-06T15:56:46.910Z"
   },
   {
    "duration": 22,
    "start_time": "2022-03-06T15:57:07.277Z"
   },
   {
    "duration": 27,
    "start_time": "2022-03-06T16:06:50.827Z"
   },
   {
    "duration": 1588,
    "start_time": "2022-03-06T16:07:12.546Z"
   },
   {
    "duration": 23,
    "start_time": "2022-03-06T16:07:30.595Z"
   },
   {
    "duration": 27,
    "start_time": "2022-03-06T16:12:21.037Z"
   },
   {
    "duration": 94,
    "start_time": "2022-03-06T16:12:36.849Z"
   },
   {
    "duration": 573,
    "start_time": "2022-03-06T16:13:47.593Z"
   },
   {
    "duration": 24,
    "start_time": "2022-03-06T16:40:42.245Z"
   },
   {
    "duration": 23,
    "start_time": "2022-03-06T16:46:18.299Z"
   },
   {
    "duration": 12,
    "start_time": "2022-03-06T16:46:33.179Z"
   },
   {
    "duration": 12,
    "start_time": "2022-03-06T16:46:50.092Z"
   },
   {
    "duration": 23,
    "start_time": "2022-03-06T16:47:29.107Z"
   },
   {
    "duration": 11,
    "start_time": "2022-03-06T16:47:38.946Z"
   },
   {
    "duration": 12,
    "start_time": "2022-03-06T16:47:47.219Z"
   },
   {
    "duration": 72,
    "start_time": "2022-03-06T16:48:57.459Z"
   },
   {
    "duration": 5448,
    "start_time": "2022-03-06T16:49:40.084Z"
   },
   {
    "duration": 9,
    "start_time": "2022-03-06T16:49:51.819Z"
   },
   {
    "duration": 23,
    "start_time": "2022-03-06T16:50:05.979Z"
   },
   {
    "duration": 24,
    "start_time": "2022-03-06T16:51:46.954Z"
   },
   {
    "duration": 19,
    "start_time": "2022-03-06T16:52:02.203Z"
   },
   {
    "duration": 20,
    "start_time": "2022-03-06T16:52:30.418Z"
   },
   {
    "duration": 11,
    "start_time": "2022-03-06T16:52:44.706Z"
   },
   {
    "duration": 25,
    "start_time": "2022-03-06T16:53:50.546Z"
   },
   {
    "duration": 21,
    "start_time": "2022-03-06T16:54:05.714Z"
   },
   {
    "duration": 10,
    "start_time": "2022-03-06T16:54:16.970Z"
   },
   {
    "duration": 302,
    "start_time": "2022-03-07T06:50:59.758Z"
   },
   {
    "duration": 1204,
    "start_time": "2022-03-07T06:51:14.911Z"
   },
   {
    "duration": 16,
    "start_time": "2022-03-07T06:51:16.117Z"
   },
   {
    "duration": 3,
    "start_time": "2022-03-07T06:51:16.135Z"
   },
   {
    "duration": 12,
    "start_time": "2022-03-07T06:51:16.140Z"
   },
   {
    "duration": 32,
    "start_time": "2022-03-07T06:51:16.154Z"
   },
   {
    "duration": 11,
    "start_time": "2022-03-07T06:51:16.188Z"
   },
   {
    "duration": 8,
    "start_time": "2022-03-07T06:51:16.201Z"
   },
   {
    "duration": 7,
    "start_time": "2022-03-07T06:51:16.211Z"
   },
   {
    "duration": 6,
    "start_time": "2022-03-07T06:51:16.220Z"
   },
   {
    "duration": 51,
    "start_time": "2022-03-07T06:51:16.227Z"
   },
   {
    "duration": 6,
    "start_time": "2022-03-07T06:51:16.280Z"
   },
   {
    "duration": 382,
    "start_time": "2022-03-07T06:51:16.288Z"
   },
   {
    "duration": 7,
    "start_time": "2022-03-07T06:51:16.677Z"
   },
   {
    "duration": 5,
    "start_time": "2022-03-07T06:51:16.686Z"
   },
   {
    "duration": 9,
    "start_time": "2022-03-07T06:51:16.692Z"
   },
   {
    "duration": 375,
    "start_time": "2022-03-07T06:51:16.703Z"
   },
   {
    "duration": 5,
    "start_time": "2022-03-07T06:51:17.080Z"
   },
   {
    "duration": 542,
    "start_time": "2022-03-07T06:51:17.087Z"
   },
   {
    "duration": 5,
    "start_time": "2022-03-07T06:51:17.630Z"
   },
   {
    "duration": 415,
    "start_time": "2022-03-07T06:51:17.637Z"
   },
   {
    "duration": 8,
    "start_time": "2022-03-07T06:51:18.053Z"
   },
   {
    "duration": 453,
    "start_time": "2022-03-07T06:51:18.062Z"
   },
   {
    "duration": 14,
    "start_time": "2022-03-07T06:51:18.518Z"
   },
   {
    "duration": 468,
    "start_time": "2022-03-07T06:51:18.534Z"
   },
   {
    "duration": 20,
    "start_time": "2022-03-07T06:51:19.003Z"
   },
   {
    "duration": 1340,
    "start_time": "2022-03-07T06:51:19.024Z"
   },
   {
    "duration": 16,
    "start_time": "2022-03-07T06:51:20.366Z"
   },
   {
    "duration": 19,
    "start_time": "2022-03-07T06:51:20.384Z"
   },
   {
    "duration": 1223,
    "start_time": "2022-03-07T06:51:20.405Z"
   },
   {
    "duration": 15,
    "start_time": "2022-03-07T06:51:21.630Z"
   },
   {
    "duration": 32,
    "start_time": "2022-03-07T06:51:21.647Z"
   },
   {
    "duration": 393,
    "start_time": "2022-03-07T06:51:21.681Z"
   },
   {
    "duration": 16,
    "start_time": "2022-03-07T06:51:22.076Z"
   },
   {
    "duration": 8,
    "start_time": "2022-03-07T06:51:22.094Z"
   },
   {
    "duration": 13,
    "start_time": "2022-03-07T06:51:22.103Z"
   },
   {
    "duration": 19,
    "start_time": "2022-03-07T06:51:22.117Z"
   },
   {
    "duration": 8,
    "start_time": "2022-03-07T06:51:22.138Z"
   },
   {
    "duration": 9,
    "start_time": "2022-03-07T06:51:22.178Z"
   },
   {
    "duration": 9,
    "start_time": "2022-03-07T06:51:22.188Z"
   },
   {
    "duration": 18,
    "start_time": "2022-03-07T06:51:22.199Z"
   },
   {
    "duration": 13,
    "start_time": "2022-03-07T06:51:22.219Z"
   },
   {
    "duration": 47,
    "start_time": "2022-03-07T06:51:22.234Z"
   },
   {
    "duration": 7,
    "start_time": "2022-03-07T06:51:22.283Z"
   },
   {
    "duration": 18,
    "start_time": "2022-03-07T06:51:22.292Z"
   },
   {
    "duration": 13,
    "start_time": "2022-03-07T06:51:22.312Z"
   },
   {
    "duration": 7,
    "start_time": "2022-03-07T06:51:22.327Z"
   },
   {
    "duration": 342,
    "start_time": "2022-03-07T07:21:14.613Z"
   },
   {
    "duration": 353,
    "start_time": "2022-03-07T07:21:21.037Z"
   },
   {
    "duration": 15,
    "start_time": "2022-03-07T07:35:37.427Z"
   },
   {
    "duration": 18,
    "start_time": "2022-03-07T07:35:42.372Z"
   },
   {
    "duration": 370,
    "start_time": "2022-03-07T07:55:25.556Z"
   },
   {
    "duration": 270,
    "start_time": "2022-03-07T07:55:45.300Z"
   },
   {
    "duration": 381,
    "start_time": "2022-03-07T07:55:54.998Z"
   },
   {
    "duration": 15,
    "start_time": "2022-03-07T07:56:03.103Z"
   },
   {
    "duration": 15,
    "start_time": "2022-03-07T07:56:23.542Z"
   },
   {
    "duration": 280,
    "start_time": "2022-03-07T07:56:40.158Z"
   },
   {
    "duration": 17,
    "start_time": "2022-03-07T08:14:54.040Z"
   },
   {
    "duration": 8,
    "start_time": "2022-03-07T08:18:12.955Z"
   },
   {
    "duration": 8,
    "start_time": "2022-03-07T08:18:19.802Z"
   },
   {
    "duration": 5,
    "start_time": "2022-03-07T08:21:32.874Z"
   },
   {
    "duration": 392,
    "start_time": "2022-03-07T08:33:21.797Z"
   },
   {
    "duration": 393,
    "start_time": "2022-03-07T08:33:42.632Z"
   },
   {
    "duration": 1237,
    "start_time": "2022-03-07T08:44:55.074Z"
   },
   {
    "duration": 16,
    "start_time": "2022-03-07T08:44:56.313Z"
   },
   {
    "duration": 3,
    "start_time": "2022-03-07T08:44:56.331Z"
   },
   {
    "duration": 12,
    "start_time": "2022-03-07T08:44:56.336Z"
   },
   {
    "duration": 29,
    "start_time": "2022-03-07T08:44:56.350Z"
   },
   {
    "duration": 11,
    "start_time": "2022-03-07T08:44:56.380Z"
   },
   {
    "duration": 9,
    "start_time": "2022-03-07T08:44:56.392Z"
   },
   {
    "duration": 8,
    "start_time": "2022-03-07T08:44:56.403Z"
   },
   {
    "duration": 11,
    "start_time": "2022-03-07T08:44:56.413Z"
   },
   {
    "duration": 24,
    "start_time": "2022-03-07T08:44:56.426Z"
   },
   {
    "duration": 27,
    "start_time": "2022-03-07T08:44:56.452Z"
   },
   {
    "duration": 387,
    "start_time": "2022-03-07T08:44:56.480Z"
   },
   {
    "duration": 12,
    "start_time": "2022-03-07T08:44:56.868Z"
   },
   {
    "duration": 6,
    "start_time": "2022-03-07T08:44:56.882Z"
   },
   {
    "duration": 10,
    "start_time": "2022-03-07T08:44:56.889Z"
   },
   {
    "duration": 362,
    "start_time": "2022-03-07T08:44:56.900Z"
   },
   {
    "duration": 14,
    "start_time": "2022-03-07T08:44:57.264Z"
   },
   {
    "duration": 536,
    "start_time": "2022-03-07T08:44:57.280Z"
   },
   {
    "duration": 5,
    "start_time": "2022-03-07T08:44:57.818Z"
   },
   {
    "duration": 409,
    "start_time": "2022-03-07T08:44:57.824Z"
   },
   {
    "duration": 8,
    "start_time": "2022-03-07T08:44:58.234Z"
   },
   {
    "duration": 452,
    "start_time": "2022-03-07T08:44:58.243Z"
   },
   {
    "duration": 19,
    "start_time": "2022-03-07T08:44:58.698Z"
   },
   {
    "duration": 484,
    "start_time": "2022-03-07T08:44:58.719Z"
   },
   {
    "duration": 20,
    "start_time": "2022-03-07T08:44:59.204Z"
   },
   {
    "duration": 1238,
    "start_time": "2022-03-07T08:44:59.226Z"
   },
   {
    "duration": 24,
    "start_time": "2022-03-07T08:45:00.466Z"
   },
   {
    "duration": 20,
    "start_time": "2022-03-07T08:45:00.491Z"
   },
   {
    "duration": 1190,
    "start_time": "2022-03-07T08:45:00.512Z"
   },
   {
    "duration": 16,
    "start_time": "2022-03-07T08:45:01.704Z"
   },
   {
    "duration": 23,
    "start_time": "2022-03-07T08:45:01.722Z"
   },
   {
    "duration": 432,
    "start_time": "2022-03-07T08:45:01.747Z"
   },
   {
    "duration": 18,
    "start_time": "2022-03-07T08:45:02.180Z"
   },
   {
    "duration": 9,
    "start_time": "2022-03-07T08:45:02.199Z"
   },
   {
    "duration": 15,
    "start_time": "2022-03-07T08:45:02.210Z"
   },
   {
    "duration": 22,
    "start_time": "2022-03-07T08:45:02.226Z"
   },
   {
    "duration": 35,
    "start_time": "2022-03-07T08:45:02.249Z"
   },
   {
    "duration": 13,
    "start_time": "2022-03-07T08:45:02.286Z"
   },
   {
    "duration": 12,
    "start_time": "2022-03-07T08:45:02.300Z"
   },
   {
    "duration": 20,
    "start_time": "2022-03-07T08:45:02.314Z"
   },
   {
    "duration": 13,
    "start_time": "2022-03-07T08:45:02.336Z"
   },
   {
    "duration": 41,
    "start_time": "2022-03-07T08:45:02.351Z"
   },
   {
    "duration": 10,
    "start_time": "2022-03-07T08:45:02.394Z"
   },
   {
    "duration": 17,
    "start_time": "2022-03-07T08:45:02.406Z"
   },
   {
    "duration": 14,
    "start_time": "2022-03-07T08:45:02.425Z"
   },
   {
    "duration": 39,
    "start_time": "2022-03-07T08:45:02.441Z"
   },
   {
    "duration": 103,
    "start_time": "2022-03-15T09:46:53.617Z"
   },
   {
    "duration": 108,
    "start_time": "2022-03-15T09:54:53.566Z"
   },
   {
    "duration": 129,
    "start_time": "2022-03-15T09:58:18.424Z"
   },
   {
    "duration": 1491,
    "start_time": "2022-03-15T17:10:44.826Z"
   },
   {
    "duration": 1799,
    "start_time": "2022-03-15T17:10:53.802Z"
   },
   {
    "duration": 26,
    "start_time": "2022-03-15T17:10:55.604Z"
   },
   {
    "duration": 27,
    "start_time": "2022-03-15T17:10:55.632Z"
   },
   {
    "duration": 64,
    "start_time": "2022-03-15T17:10:55.663Z"
   },
   {
    "duration": 47,
    "start_time": "2022-03-15T17:10:55.729Z"
   },
   {
    "duration": 26,
    "start_time": "2022-03-15T17:10:55.778Z"
   },
   {
    "duration": 26,
    "start_time": "2022-03-15T17:10:55.807Z"
   },
   {
    "duration": 30,
    "start_time": "2022-03-15T17:10:55.837Z"
   },
   {
    "duration": 17,
    "start_time": "2022-03-15T17:10:55.870Z"
   },
   {
    "duration": 47,
    "start_time": "2022-03-15T17:10:55.889Z"
   },
   {
    "duration": 10,
    "start_time": "2022-03-15T17:10:55.939Z"
   },
   {
    "duration": 546,
    "start_time": "2022-03-15T17:10:55.951Z"
   },
   {
    "duration": 9,
    "start_time": "2022-03-15T17:10:56.500Z"
   },
   {
    "duration": 13,
    "start_time": "2022-03-15T17:10:56.512Z"
   },
   {
    "duration": 20,
    "start_time": "2022-03-15T17:10:56.527Z"
   },
   {
    "duration": 504,
    "start_time": "2022-03-15T17:10:56.549Z"
   },
   {
    "duration": 9,
    "start_time": "2022-03-15T17:10:57.056Z"
   },
   {
    "duration": 765,
    "start_time": "2022-03-15T17:10:57.083Z"
   },
   {
    "duration": 7,
    "start_time": "2022-03-15T17:10:57.850Z"
   },
   {
    "duration": 602,
    "start_time": "2022-03-15T17:10:57.859Z"
   },
   {
    "duration": 23,
    "start_time": "2022-03-15T17:10:58.464Z"
   },
   {
    "duration": 677,
    "start_time": "2022-03-15T17:10:58.490Z"
   },
   {
    "duration": 37,
    "start_time": "2022-03-15T17:10:59.173Z"
   },
   {
    "duration": 726,
    "start_time": "2022-03-15T17:10:59.215Z"
   },
   {
    "duration": 48,
    "start_time": "2022-03-15T17:10:59.944Z"
   },
   {
    "duration": 1842,
    "start_time": "2022-03-15T17:10:59.995Z"
   },
   {
    "duration": 49,
    "start_time": "2022-03-15T17:11:01.840Z"
   },
   {
    "duration": 40,
    "start_time": "2022-03-15T17:11:01.891Z"
   },
   {
    "duration": 1900,
    "start_time": "2022-03-15T17:11:01.933Z"
   },
   {
    "duration": 23,
    "start_time": "2022-03-15T17:11:03.835Z"
   },
   {
    "duration": 75,
    "start_time": "2022-03-15T17:11:03.881Z"
   },
   {
    "duration": 604,
    "start_time": "2022-03-15T17:11:03.958Z"
   },
   {
    "duration": 39,
    "start_time": "2022-03-15T17:11:04.565Z"
   },
   {
    "duration": 26,
    "start_time": "2022-03-15T17:11:04.607Z"
   },
   {
    "duration": 33,
    "start_time": "2022-03-15T17:11:04.636Z"
   },
   {
    "duration": 26,
    "start_time": "2022-03-15T17:11:04.671Z"
   },
   {
    "duration": 20,
    "start_time": "2022-03-15T17:11:04.700Z"
   },
   {
    "duration": 22,
    "start_time": "2022-03-15T17:11:04.723Z"
   },
   {
    "duration": 30,
    "start_time": "2022-03-15T17:11:04.748Z"
   },
   {
    "duration": 40,
    "start_time": "2022-03-15T17:11:04.781Z"
   },
   {
    "duration": 23,
    "start_time": "2022-03-15T17:11:04.824Z"
   },
   {
    "duration": 38,
    "start_time": "2022-03-15T17:11:04.850Z"
   },
   {
    "duration": 14,
    "start_time": "2022-03-15T17:11:04.891Z"
   },
   {
    "duration": 24,
    "start_time": "2022-03-15T17:11:04.908Z"
   },
   {
    "duration": 28,
    "start_time": "2022-03-15T17:11:04.934Z"
   },
   {
    "duration": 50,
    "start_time": "2022-03-15T17:11:04.964Z"
   },
   {
    "duration": 12,
    "start_time": "2022-03-15T17:13:35.234Z"
   },
   {
    "duration": 27,
    "start_time": "2022-03-15T17:14:14.668Z"
   },
   {
    "duration": 12,
    "start_time": "2022-03-15T17:14:20.853Z"
   },
   {
    "duration": 9,
    "start_time": "2022-03-15T17:24:17.258Z"
   },
   {
    "duration": 1638,
    "start_time": "2022-03-15T17:24:51.411Z"
   },
   {
    "duration": 23,
    "start_time": "2022-03-15T17:24:53.052Z"
   },
   {
    "duration": 6,
    "start_time": "2022-03-15T17:24:53.077Z"
   },
   {
    "duration": 17,
    "start_time": "2022-03-15T17:24:53.085Z"
   },
   {
    "duration": 32,
    "start_time": "2022-03-15T17:24:53.105Z"
   },
   {
    "duration": 48,
    "start_time": "2022-03-15T17:24:53.139Z"
   },
   {
    "duration": 30,
    "start_time": "2022-03-15T17:24:53.190Z"
   },
   {
    "duration": 64,
    "start_time": "2022-03-15T17:24:53.223Z"
   },
   {
    "duration": 25,
    "start_time": "2022-03-15T17:24:53.290Z"
   },
   {
    "duration": 16,
    "start_time": "2022-03-15T17:24:53.318Z"
   },
   {
    "duration": 592,
    "start_time": "2022-03-15T17:24:53.337Z"
   },
   {
    "duration": -199,
    "start_time": "2022-03-15T17:24:54.132Z"
   },
   {
    "duration": -203,
    "start_time": "2022-03-15T17:24:54.137Z"
   },
   {
    "duration": -206,
    "start_time": "2022-03-15T17:24:54.142Z"
   },
   {
    "duration": -209,
    "start_time": "2022-03-15T17:24:54.147Z"
   },
   {
    "duration": -212,
    "start_time": "2022-03-15T17:24:54.151Z"
   },
   {
    "duration": -215,
    "start_time": "2022-03-15T17:24:54.156Z"
   },
   {
    "duration": -220,
    "start_time": "2022-03-15T17:24:54.162Z"
   },
   {
    "duration": -229,
    "start_time": "2022-03-15T17:24:54.173Z"
   },
   {
    "duration": -231,
    "start_time": "2022-03-15T17:24:54.178Z"
   },
   {
    "duration": -201,
    "start_time": "2022-03-15T17:24:54.183Z"
   },
   {
    "duration": -204,
    "start_time": "2022-03-15T17:24:54.188Z"
   },
   {
    "duration": -206,
    "start_time": "2022-03-15T17:24:54.192Z"
   },
   {
    "duration": -209,
    "start_time": "2022-03-15T17:24:54.196Z"
   },
   {
    "duration": -261,
    "start_time": "2022-03-15T17:24:54.250Z"
   },
   {
    "duration": -270,
    "start_time": "2022-03-15T17:24:54.260Z"
   },
   {
    "duration": -274,
    "start_time": "2022-03-15T17:24:54.266Z"
   },
   {
    "duration": -277,
    "start_time": "2022-03-15T17:24:54.270Z"
   },
   {
    "duration": -423,
    "start_time": "2022-03-15T17:24:54.417Z"
   },
   {
    "duration": -425,
    "start_time": "2022-03-15T17:24:54.421Z"
   },
   {
    "duration": -429,
    "start_time": "2022-03-15T17:24:54.426Z"
   },
   {
    "duration": -432,
    "start_time": "2022-03-15T17:24:54.431Z"
   },
   {
    "duration": -436,
    "start_time": "2022-03-15T17:24:54.436Z"
   },
   {
    "duration": -438,
    "start_time": "2022-03-15T17:24:54.440Z"
   },
   {
    "duration": -442,
    "start_time": "2022-03-15T17:24:54.445Z"
   },
   {
    "duration": -500,
    "start_time": "2022-03-15T17:24:54.505Z"
   },
   {
    "duration": -506,
    "start_time": "2022-03-15T17:24:54.512Z"
   },
   {
    "duration": -509,
    "start_time": "2022-03-15T17:24:54.517Z"
   },
   {
    "duration": -523,
    "start_time": "2022-03-15T17:24:54.532Z"
   },
   {
    "duration": -528,
    "start_time": "2022-03-15T17:24:54.538Z"
   },
   {
    "duration": -530,
    "start_time": "2022-03-15T17:24:54.542Z"
   },
   {
    "duration": -563,
    "start_time": "2022-03-15T17:24:54.576Z"
   },
   {
    "duration": -573,
    "start_time": "2022-03-15T17:24:54.588Z"
   },
   {
    "duration": -576,
    "start_time": "2022-03-15T17:24:54.593Z"
   },
   {
    "duration": -579,
    "start_time": "2022-03-15T17:24:54.597Z"
   },
   {
    "duration": -520,
    "start_time": "2022-03-15T17:24:54.602Z"
   },
   {
    "duration": -531,
    "start_time": "2022-03-15T17:24:54.616Z"
   },
   {
    "duration": -535,
    "start_time": "2022-03-15T17:24:54.622Z"
   },
   {
    "duration": 1505,
    "start_time": "2022-03-15T17:25:28.729Z"
   },
   {
    "duration": 25,
    "start_time": "2022-03-15T17:25:30.237Z"
   },
   {
    "duration": 19,
    "start_time": "2022-03-15T17:25:30.266Z"
   },
   {
    "duration": 29,
    "start_time": "2022-03-15T17:25:30.288Z"
   },
   {
    "duration": 42,
    "start_time": "2022-03-15T17:25:30.320Z"
   },
   {
    "duration": 28,
    "start_time": "2022-03-15T17:25:30.365Z"
   },
   {
    "duration": 28,
    "start_time": "2022-03-15T17:25:30.396Z"
   },
   {
    "duration": 15,
    "start_time": "2022-03-15T17:25:30.430Z"
   },
   {
    "duration": 13,
    "start_time": "2022-03-15T17:25:30.449Z"
   },
   {
    "duration": 27,
    "start_time": "2022-03-15T17:25:30.464Z"
   },
   {
    "duration": 20,
    "start_time": "2022-03-15T17:25:30.493Z"
   },
   {
    "duration": 36,
    "start_time": "2022-03-15T17:25:30.516Z"
   },
   {
    "duration": 10,
    "start_time": "2022-03-15T17:25:30.556Z"
   },
   {
    "duration": 762,
    "start_time": "2022-03-15T17:25:30.569Z"
   },
   {
    "duration": 12,
    "start_time": "2022-03-15T17:25:31.335Z"
   },
   {
    "duration": 33,
    "start_time": "2022-03-15T17:25:31.349Z"
   },
   {
    "duration": 11,
    "start_time": "2022-03-15T17:25:31.385Z"
   },
   {
    "duration": 694,
    "start_time": "2022-03-15T17:25:31.399Z"
   },
   {
    "duration": 8,
    "start_time": "2022-03-15T17:25:32.096Z"
   },
   {
    "duration": 891,
    "start_time": "2022-03-15T17:25:32.107Z"
   },
   {
    "duration": 7,
    "start_time": "2022-03-15T17:25:33.000Z"
   },
   {
    "duration": 605,
    "start_time": "2022-03-15T17:25:33.010Z"
   },
   {
    "duration": 9,
    "start_time": "2022-03-15T17:25:33.620Z"
   },
   {
    "duration": 677,
    "start_time": "2022-03-15T17:25:33.633Z"
   },
   {
    "duration": 27,
    "start_time": "2022-03-15T17:25:34.313Z"
   },
   {
    "duration": 711,
    "start_time": "2022-03-15T17:25:34.342Z"
   },
   {
    "duration": 46,
    "start_time": "2022-03-15T17:25:35.056Z"
   },
   {
    "duration": 1161,
    "start_time": "2022-03-15T17:25:35.105Z"
   },
   {
    "duration": 28,
    "start_time": "2022-03-15T17:25:36.269Z"
   },
   {
    "duration": 34,
    "start_time": "2022-03-15T17:25:36.300Z"
   },
   {
    "duration": 976,
    "start_time": "2022-03-15T17:25:36.336Z"
   },
   {
    "duration": 24,
    "start_time": "2022-03-15T17:25:37.314Z"
   },
   {
    "duration": 48,
    "start_time": "2022-03-15T17:25:37.340Z"
   },
   {
    "duration": 571,
    "start_time": "2022-03-15T17:25:37.391Z"
   },
   {
    "duration": 34,
    "start_time": "2022-03-15T17:25:37.965Z"
   },
   {
    "duration": 38,
    "start_time": "2022-03-15T17:25:38.002Z"
   },
   {
    "duration": 46,
    "start_time": "2022-03-15T17:25:38.043Z"
   },
   {
    "duration": 54,
    "start_time": "2022-03-15T17:25:38.091Z"
   },
   {
    "duration": 25,
    "start_time": "2022-03-15T17:25:38.148Z"
   },
   {
    "duration": 42,
    "start_time": "2022-03-15T17:25:38.175Z"
   },
   {
    "duration": 37,
    "start_time": "2022-03-15T17:25:38.220Z"
   },
   {
    "duration": 42,
    "start_time": "2022-03-15T17:25:38.259Z"
   },
   {
    "duration": 432,
    "start_time": "2022-03-15T17:25:38.304Z"
   },
   {
    "duration": -109,
    "start_time": "2022-03-15T17:25:38.848Z"
   },
   {
    "duration": -114,
    "start_time": "2022-03-15T17:25:38.854Z"
   },
   {
    "duration": -118,
    "start_time": "2022-03-15T17:25:38.860Z"
   },
   {
    "duration": -128,
    "start_time": "2022-03-15T17:25:38.871Z"
   },
   {
    "duration": -132,
    "start_time": "2022-03-15T17:25:38.877Z"
   },
   {
    "duration": 12,
    "start_time": "2022-03-15T17:28:58.945Z"
   },
   {
    "duration": 11,
    "start_time": "2022-03-15T17:29:16.881Z"
   },
   {
    "duration": 7,
    "start_time": "2022-03-15T17:29:42.681Z"
   },
   {
    "duration": 12,
    "start_time": "2022-03-15T17:29:52.240Z"
   },
   {
    "duration": 7,
    "start_time": "2022-03-15T17:29:57.968Z"
   },
   {
    "duration": 1497,
    "start_time": "2022-03-15T17:30:10.802Z"
   },
   {
    "duration": 21,
    "start_time": "2022-03-15T17:30:12.302Z"
   },
   {
    "duration": 7,
    "start_time": "2022-03-15T17:30:12.326Z"
   },
   {
    "duration": 30,
    "start_time": "2022-03-15T17:30:12.336Z"
   },
   {
    "duration": 27,
    "start_time": "2022-03-15T17:30:12.368Z"
   },
   {
    "duration": 23,
    "start_time": "2022-03-15T17:30:12.397Z"
   },
   {
    "duration": 18,
    "start_time": "2022-03-15T17:30:12.422Z"
   },
   {
    "duration": 17,
    "start_time": "2022-03-15T17:30:12.444Z"
   },
   {
    "duration": 20,
    "start_time": "2022-03-15T17:30:12.464Z"
   },
   {
    "duration": 17,
    "start_time": "2022-03-15T17:30:12.486Z"
   },
   {
    "duration": 20,
    "start_time": "2022-03-15T17:30:12.505Z"
   },
   {
    "duration": 39,
    "start_time": "2022-03-15T17:30:12.527Z"
   },
   {
    "duration": 9,
    "start_time": "2022-03-15T17:30:12.568Z"
   },
   {
    "duration": 526,
    "start_time": "2022-03-15T17:30:12.583Z"
   },
   {
    "duration": 9,
    "start_time": "2022-03-15T17:30:13.112Z"
   },
   {
    "duration": 9,
    "start_time": "2022-03-15T17:30:13.124Z"
   },
   {
    "duration": 11,
    "start_time": "2022-03-15T17:30:13.135Z"
   },
   {
    "duration": 524,
    "start_time": "2022-03-15T17:30:13.148Z"
   },
   {
    "duration": 12,
    "start_time": "2022-03-15T17:30:13.674Z"
   },
   {
    "duration": 752,
    "start_time": "2022-03-15T17:30:13.689Z"
   },
   {
    "duration": 9,
    "start_time": "2022-03-15T17:30:14.444Z"
   },
   {
    "duration": 586,
    "start_time": "2022-03-15T17:30:14.456Z"
   },
   {
    "duration": 32,
    "start_time": "2022-03-15T17:30:15.050Z"
   },
   {
    "duration": 654,
    "start_time": "2022-03-15T17:30:15.085Z"
   },
   {
    "duration": 43,
    "start_time": "2022-03-15T17:30:15.742Z"
   },
   {
    "duration": 672,
    "start_time": "2022-03-15T17:30:15.787Z"
   },
   {
    "duration": 40,
    "start_time": "2022-03-15T17:30:16.462Z"
   },
   {
    "duration": 1785,
    "start_time": "2022-03-15T17:30:16.505Z"
   },
   {
    "duration": 32,
    "start_time": "2022-03-15T17:30:18.294Z"
   },
   {
    "duration": 55,
    "start_time": "2022-03-15T17:30:18.329Z"
   },
   {
    "duration": 1566,
    "start_time": "2022-03-15T17:30:18.387Z"
   },
   {
    "duration": 38,
    "start_time": "2022-03-15T17:30:19.955Z"
   },
   {
    "duration": 21,
    "start_time": "2022-03-15T17:30:19.996Z"
   },
   {
    "duration": 582,
    "start_time": "2022-03-15T17:30:20.019Z"
   },
   {
    "duration": 23,
    "start_time": "2022-03-15T17:30:20.603Z"
   },
   {
    "duration": 11,
    "start_time": "2022-03-15T17:30:20.629Z"
   },
   {
    "duration": 52,
    "start_time": "2022-03-15T17:30:20.643Z"
   },
   {
    "duration": 25,
    "start_time": "2022-03-15T17:30:20.698Z"
   },
   {
    "duration": 11,
    "start_time": "2022-03-15T17:30:20.726Z"
   },
   {
    "duration": 45,
    "start_time": "2022-03-15T17:30:20.739Z"
   },
   {
    "duration": 13,
    "start_time": "2022-03-15T17:30:20.787Z"
   },
   {
    "duration": 31,
    "start_time": "2022-03-15T17:30:20.803Z"
   },
   {
    "duration": 19,
    "start_time": "2022-03-15T17:30:20.836Z"
   },
   {
    "duration": 19,
    "start_time": "2022-03-15T17:30:20.882Z"
   },
   {
    "duration": 11,
    "start_time": "2022-03-15T17:30:20.903Z"
   },
   {
    "duration": 23,
    "start_time": "2022-03-15T17:30:20.916Z"
   },
   {
    "duration": 56,
    "start_time": "2022-03-15T17:30:20.941Z"
   },
   {
    "duration": 11,
    "start_time": "2022-03-15T17:30:20.999Z"
   },
   {
    "duration": 14,
    "start_time": "2022-03-15T17:33:57.980Z"
   },
   {
    "duration": 93,
    "start_time": "2022-03-15T17:35:50.389Z"
   },
   {
    "duration": 91,
    "start_time": "2022-03-15T17:36:06.778Z"
   },
   {
    "duration": 14,
    "start_time": "2022-03-15T17:36:28.010Z"
   },
   {
    "duration": 9,
    "start_time": "2022-03-15T17:44:01.707Z"
   },
   {
    "duration": 9,
    "start_time": "2022-03-15T17:44:15.146Z"
   },
   {
    "duration": 509,
    "start_time": "2022-03-15T17:44:27.339Z"
   },
   {
    "duration": 295,
    "start_time": "2022-03-15T17:50:05.642Z"
   },
   {
    "duration": 7,
    "start_time": "2022-03-15T17:54:51.444Z"
   },
   {
    "duration": 428,
    "start_time": "2022-03-15T17:55:12.792Z"
   },
   {
    "duration": 307,
    "start_time": "2022-03-15T17:55:25.928Z"
   },
   {
    "duration": 371,
    "start_time": "2022-03-15T17:55:51.962Z"
   },
   {
    "duration": 10,
    "start_time": "2022-03-15T17:57:16.968Z"
   },
   {
    "duration": 311,
    "start_time": "2022-03-15T17:58:29.978Z"
   },
   {
    "duration": 343,
    "start_time": "2022-03-15T17:59:22.280Z"
   },
   {
    "duration": 333,
    "start_time": "2022-03-15T17:59:31.792Z"
   },
   {
    "duration": 283,
    "start_time": "2022-03-15T18:00:39.384Z"
   },
   {
    "duration": 464,
    "start_time": "2022-03-15T18:00:47.248Z"
   },
   {
    "duration": 278,
    "start_time": "2022-03-15T18:03:41.183Z"
   },
   {
    "duration": 352,
    "start_time": "2022-03-15T18:03:59.728Z"
   },
   {
    "duration": 101,
    "start_time": "2022-03-15T18:04:12.039Z"
   },
   {
    "duration": 97,
    "start_time": "2022-03-15T18:04:18.414Z"
   },
   {
    "duration": 9,
    "start_time": "2022-03-15T18:04:23.510Z"
   },
   {
    "duration": 36,
    "start_time": "2022-03-15T18:04:34.318Z"
   },
   {
    "duration": 489,
    "start_time": "2022-03-15T18:04:45.511Z"
   },
   {
    "duration": 10,
    "start_time": "2022-03-15T18:05:08.333Z"
   },
   {
    "duration": 1567,
    "start_time": "2022-03-15T18:05:17.853Z"
   },
   {
    "duration": 23,
    "start_time": "2022-03-15T18:05:19.423Z"
   },
   {
    "duration": 8,
    "start_time": "2022-03-15T18:05:19.449Z"
   },
   {
    "duration": 36,
    "start_time": "2022-03-15T18:05:19.460Z"
   },
   {
    "duration": 59,
    "start_time": "2022-03-15T18:05:19.499Z"
   },
   {
    "duration": 42,
    "start_time": "2022-03-15T18:05:19.561Z"
   },
   {
    "duration": 33,
    "start_time": "2022-03-15T18:05:19.606Z"
   },
   {
    "duration": 24,
    "start_time": "2022-03-15T18:05:19.643Z"
   },
   {
    "duration": 26,
    "start_time": "2022-03-15T18:05:19.672Z"
   },
   {
    "duration": 23,
    "start_time": "2022-03-15T18:05:19.700Z"
   },
   {
    "duration": 45,
    "start_time": "2022-03-15T18:05:19.725Z"
   },
   {
    "duration": 9,
    "start_time": "2022-03-15T18:05:19.772Z"
   },
   {
    "duration": 568,
    "start_time": "2022-03-15T18:05:19.783Z"
   },
   {
    "duration": 27,
    "start_time": "2022-03-15T18:05:20.355Z"
   },
   {
    "duration": 16,
    "start_time": "2022-03-15T18:05:20.385Z"
   },
   {
    "duration": 30,
    "start_time": "2022-03-15T18:05:20.404Z"
   },
   {
    "duration": 31,
    "start_time": "2022-03-15T18:05:20.437Z"
   },
   {
    "duration": 530,
    "start_time": "2022-03-15T18:05:20.471Z"
   },
   {
    "duration": 8,
    "start_time": "2022-03-15T18:05:21.003Z"
   },
   {
    "duration": 794,
    "start_time": "2022-03-15T18:05:21.014Z"
   },
   {
    "duration": 9,
    "start_time": "2022-03-15T18:05:21.811Z"
   },
   {
    "duration": 602,
    "start_time": "2022-03-15T18:05:21.822Z"
   },
   {
    "duration": 10,
    "start_time": "2022-03-15T18:05:22.429Z"
   },
   {
    "duration": 717,
    "start_time": "2022-03-15T18:05:22.442Z"
   },
   {
    "duration": 40,
    "start_time": "2022-03-15T18:05:23.162Z"
   },
   {
    "duration": 712,
    "start_time": "2022-03-15T18:05:23.205Z"
   },
   {
    "duration": 30,
    "start_time": "2022-03-15T18:05:23.920Z"
   },
   {
    "duration": 1796,
    "start_time": "2022-03-15T18:05:23.953Z"
   },
   {
    "duration": 42,
    "start_time": "2022-03-15T18:05:25.753Z"
   },
   {
    "duration": 36,
    "start_time": "2022-03-15T18:05:25.798Z"
   },
   {
    "duration": 2248,
    "start_time": "2022-03-15T18:05:25.837Z"
   },
   {
    "duration": 24,
    "start_time": "2022-03-15T18:05:28.088Z"
   },
   {
    "duration": 22,
    "start_time": "2022-03-15T18:05:28.115Z"
   },
   {
    "duration": 588,
    "start_time": "2022-03-15T18:05:28.140Z"
   },
   {
    "duration": 24,
    "start_time": "2022-03-15T18:05:28.730Z"
   },
   {
    "duration": 33,
    "start_time": "2022-03-15T18:05:28.757Z"
   },
   {
    "duration": 17,
    "start_time": "2022-03-15T18:05:28.794Z"
   },
   {
    "duration": 25,
    "start_time": "2022-03-15T18:05:28.813Z"
   },
   {
    "duration": 42,
    "start_time": "2022-03-15T18:05:28.841Z"
   },
   {
    "duration": 14,
    "start_time": "2022-03-15T18:05:28.887Z"
   },
   {
    "duration": 11,
    "start_time": "2022-03-15T18:05:28.904Z"
   },
   {
    "duration": 67,
    "start_time": "2022-03-15T18:05:28.918Z"
   },
   {
    "duration": 19,
    "start_time": "2022-03-15T18:05:28.988Z"
   },
   {
    "duration": 19,
    "start_time": "2022-03-15T18:05:29.010Z"
   },
   {
    "duration": 10,
    "start_time": "2022-03-15T18:05:29.032Z"
   },
   {
    "duration": 57,
    "start_time": "2022-03-15T18:05:29.045Z"
   },
   {
    "duration": 22,
    "start_time": "2022-03-15T18:05:29.105Z"
   },
   {
    "duration": 10,
    "start_time": "2022-03-15T18:05:29.130Z"
   },
   {
    "duration": 8,
    "start_time": "2022-03-15T18:07:51.481Z"
   },
   {
    "duration": 23,
    "start_time": "2022-03-15T18:09:11.401Z"
   },
   {
    "duration": 56,
    "start_time": "2022-03-15T18:10:24.034Z"
   },
   {
    "duration": 63,
    "start_time": "2022-03-15T18:10:37.714Z"
   },
   {
    "duration": 61,
    "start_time": "2022-03-15T18:10:46.522Z"
   },
   {
    "duration": 44,
    "start_time": "2022-03-15T18:11:06.026Z"
   },
   {
    "duration": 32,
    "start_time": "2022-03-15T18:11:16.840Z"
   },
   {
    "duration": 35,
    "start_time": "2022-03-15T18:11:28.767Z"
   },
   {
    "duration": 57,
    "start_time": "2022-03-15T18:12:41.504Z"
   },
   {
    "duration": 33,
    "start_time": "2022-03-15T18:12:53.638Z"
   },
   {
    "duration": 8,
    "start_time": "2022-03-15T18:13:10.064Z"
   },
   {
    "duration": 8,
    "start_time": "2022-03-15T18:13:34.145Z"
   },
   {
    "duration": 32,
    "start_time": "2022-03-15T18:13:41.696Z"
   },
   {
    "duration": 32,
    "start_time": "2022-03-15T18:14:08.520Z"
   },
   {
    "duration": 32,
    "start_time": "2022-03-15T18:14:17.720Z"
   },
   {
    "duration": 35,
    "start_time": "2022-03-15T18:14:24.424Z"
   },
   {
    "duration": 445,
    "start_time": "2022-03-15T18:18:05.183Z"
   },
   {
    "duration": 34,
    "start_time": "2022-03-15T18:18:11.607Z"
   },
   {
    "duration": 574,
    "start_time": "2022-03-15T18:20:49.750Z"
   },
   {
    "duration": 980,
    "start_time": "2022-03-15T18:21:08.365Z"
   },
   {
    "duration": 812,
    "start_time": "2022-03-15T18:21:17.456Z"
   },
   {
    "duration": 579,
    "start_time": "2022-03-15T18:23:47.198Z"
   },
   {
    "duration": 624,
    "start_time": "2022-03-15T18:23:56.151Z"
   },
   {
    "duration": 96,
    "start_time": "2022-03-15T18:27:08.749Z"
   },
   {
    "duration": 1989,
    "start_time": "2022-03-15T18:27:13.534Z"
   },
   {
    "duration": 670,
    "start_time": "2022-03-15T18:28:23.038Z"
   },
   {
    "duration": 671,
    "start_time": "2022-03-15T18:29:00.957Z"
   },
   {
    "duration": 638,
    "start_time": "2022-03-15T18:29:07.773Z"
   },
   {
    "duration": 469,
    "start_time": "2022-03-15T18:32:19.981Z"
   },
   {
    "duration": 931,
    "start_time": "2022-03-15T18:32:35.117Z"
   },
   {
    "duration": 304,
    "start_time": "2022-03-15T18:34:38.547Z"
   },
   {
    "duration": 618,
    "start_time": "2022-03-15T18:35:02.300Z"
   },
   {
    "duration": 4,
    "start_time": "2022-03-15T18:35:55.891Z"
   },
   {
    "duration": 241,
    "start_time": "2022-03-15T18:36:36.516Z"
   },
   {
    "duration": 905,
    "start_time": "2022-03-15T18:36:47.156Z"
   },
   {
    "duration": 781,
    "start_time": "2022-03-15T18:36:55.524Z"
   },
   {
    "duration": 749,
    "start_time": "2022-03-15T18:37:01.651Z"
   },
   {
    "duration": 942,
    "start_time": "2022-03-15T18:37:57.419Z"
   },
   {
    "duration": 816,
    "start_time": "2022-03-15T18:38:15.403Z"
   },
   {
    "duration": 620,
    "start_time": "2022-03-15T18:38:20.996Z"
   },
   {
    "duration": 718,
    "start_time": "2022-03-15T18:38:28.668Z"
   },
   {
    "duration": 751,
    "start_time": "2022-03-15T18:38:33.131Z"
   },
   {
    "duration": 1519,
    "start_time": "2022-03-15T18:39:14.605Z"
   },
   {
    "duration": 25,
    "start_time": "2022-03-15T18:39:16.127Z"
   },
   {
    "duration": 4,
    "start_time": "2022-03-15T18:39:16.155Z"
   },
   {
    "duration": 14,
    "start_time": "2022-03-15T18:39:16.184Z"
   },
   {
    "duration": 33,
    "start_time": "2022-03-15T18:39:16.200Z"
   },
   {
    "duration": 36,
    "start_time": "2022-03-15T18:39:16.235Z"
   },
   {
    "duration": 16,
    "start_time": "2022-03-15T18:39:16.274Z"
   },
   {
    "duration": 10,
    "start_time": "2022-03-15T18:39:16.294Z"
   },
   {
    "duration": 14,
    "start_time": "2022-03-15T18:39:16.308Z"
   },
   {
    "duration": 8,
    "start_time": "2022-03-15T18:39:16.325Z"
   },
   {
    "duration": 63,
    "start_time": "2022-03-15T18:39:16.335Z"
   },
   {
    "duration": 8,
    "start_time": "2022-03-15T18:39:16.401Z"
   },
   {
    "duration": 570,
    "start_time": "2022-03-15T18:39:16.412Z"
   },
   {
    "duration": 11,
    "start_time": "2022-03-15T18:39:16.984Z"
   },
   {
    "duration": 13,
    "start_time": "2022-03-15T18:39:16.997Z"
   },
   {
    "duration": 28,
    "start_time": "2022-03-15T18:39:17.013Z"
   },
   {
    "duration": 20,
    "start_time": "2022-03-15T18:39:17.044Z"
   },
   {
    "duration": 529,
    "start_time": "2022-03-15T18:39:17.067Z"
   },
   {
    "duration": 7,
    "start_time": "2022-03-15T18:39:17.599Z"
   },
   {
    "duration": 69,
    "start_time": "2022-03-15T18:39:17.608Z"
   },
   {
    "duration": 2,
    "start_time": "2022-03-15T18:39:17.680Z"
   },
   {
    "duration": 760,
    "start_time": "2022-03-15T18:39:17.685Z"
   },
   {
    "duration": 7,
    "start_time": "2022-03-15T18:39:18.450Z"
   },
   {
    "duration": 582,
    "start_time": "2022-03-15T18:39:18.460Z"
   },
   {
    "duration": 10,
    "start_time": "2022-03-15T18:39:19.044Z"
   },
   {
    "duration": 673,
    "start_time": "2022-03-15T18:39:19.057Z"
   },
   {
    "duration": 27,
    "start_time": "2022-03-15T18:39:19.733Z"
   },
   {
    "duration": 685,
    "start_time": "2022-03-15T18:39:19.762Z"
   },
   {
    "duration": 41,
    "start_time": "2022-03-15T18:39:20.449Z"
   },
   {
    "duration": 1807,
    "start_time": "2022-03-15T18:39:20.493Z"
   },
   {
    "duration": 24,
    "start_time": "2022-03-15T18:39:22.302Z"
   },
   {
    "duration": 56,
    "start_time": "2022-03-15T18:39:22.328Z"
   },
   {
    "duration": 1814,
    "start_time": "2022-03-15T18:39:22.387Z"
   },
   {
    "duration": 28,
    "start_time": "2022-03-15T18:39:24.203Z"
   },
   {
    "duration": 57,
    "start_time": "2022-03-15T18:39:24.234Z"
   },
   {
    "duration": 596,
    "start_time": "2022-03-15T18:39:24.294Z"
   },
   {
    "duration": 27,
    "start_time": "2022-03-15T18:39:24.893Z"
   },
   {
    "duration": 11,
    "start_time": "2022-03-15T18:39:24.923Z"
   },
   {
    "duration": 46,
    "start_time": "2022-03-15T18:39:24.936Z"
   },
   {
    "duration": 22,
    "start_time": "2022-03-15T18:39:24.985Z"
   },
   {
    "duration": 12,
    "start_time": "2022-03-15T18:39:25.010Z"
   },
   {
    "duration": 18,
    "start_time": "2022-03-15T18:39:25.025Z"
   },
   {
    "duration": 39,
    "start_time": "2022-03-15T18:39:25.045Z"
   },
   {
    "duration": 39,
    "start_time": "2022-03-15T18:39:25.087Z"
   },
   {
    "duration": 21,
    "start_time": "2022-03-15T18:39:25.129Z"
   },
   {
    "duration": 20,
    "start_time": "2022-03-15T18:39:25.181Z"
   },
   {
    "duration": 12,
    "start_time": "2022-03-15T18:39:25.203Z"
   },
   {
    "duration": 28,
    "start_time": "2022-03-15T18:39:25.217Z"
   },
   {
    "duration": 57,
    "start_time": "2022-03-15T18:39:25.248Z"
   },
   {
    "duration": 12,
    "start_time": "2022-03-15T18:39:25.308Z"
   },
   {
    "duration": 329,
    "start_time": "2022-03-16T07:16:10.423Z"
   },
   {
    "duration": 1364,
    "start_time": "2022-03-16T07:16:33.959Z"
   },
   {
    "duration": 19,
    "start_time": "2022-03-16T07:16:35.326Z"
   },
   {
    "duration": 46,
    "start_time": "2022-03-16T07:16:35.347Z"
   },
   {
    "duration": 15,
    "start_time": "2022-03-16T07:16:35.395Z"
   },
   {
    "duration": 18,
    "start_time": "2022-03-16T07:16:35.412Z"
   },
   {
    "duration": 12,
    "start_time": "2022-03-16T07:16:35.432Z"
   },
   {
    "duration": 19,
    "start_time": "2022-03-16T07:16:35.446Z"
   },
   {
    "duration": 41,
    "start_time": "2022-03-16T07:16:35.469Z"
   },
   {
    "duration": 16,
    "start_time": "2022-03-16T07:16:35.513Z"
   },
   {
    "duration": 12,
    "start_time": "2022-03-16T07:16:35.531Z"
   },
   {
    "duration": 35,
    "start_time": "2022-03-16T07:16:35.546Z"
   },
   {
    "duration": 9,
    "start_time": "2022-03-16T07:16:35.583Z"
   },
   {
    "duration": 557,
    "start_time": "2022-03-16T07:16:35.601Z"
   },
   {
    "duration": 9,
    "start_time": "2022-03-16T07:16:36.160Z"
   },
   {
    "duration": 9,
    "start_time": "2022-03-16T07:16:36.170Z"
   },
   {
    "duration": 27,
    "start_time": "2022-03-16T07:16:36.181Z"
   },
   {
    "duration": 18,
    "start_time": "2022-03-16T07:16:36.211Z"
   },
   {
    "duration": 360,
    "start_time": "2022-03-16T07:16:36.231Z"
   },
   {
    "duration": 11,
    "start_time": "2022-03-16T07:16:36.593Z"
   },
   {
    "duration": 25,
    "start_time": "2022-03-16T07:16:36.606Z"
   },
   {
    "duration": 555,
    "start_time": "2022-03-16T07:16:36.633Z"
   },
   {
    "duration": 15,
    "start_time": "2022-03-16T07:16:37.191Z"
   },
   {
    "duration": 596,
    "start_time": "2022-03-16T07:16:37.212Z"
   },
   {
    "duration": 10,
    "start_time": "2022-03-16T07:16:37.812Z"
   },
   {
    "duration": 488,
    "start_time": "2022-03-16T07:16:37.824Z"
   },
   {
    "duration": 29,
    "start_time": "2022-03-16T07:16:38.313Z"
   },
   {
    "duration": 716,
    "start_time": "2022-03-16T07:16:38.344Z"
   },
   {
    "duration": 44,
    "start_time": "2022-03-16T07:16:39.063Z"
   },
   {
    "duration": 1537,
    "start_time": "2022-03-16T07:16:39.110Z"
   },
   {
    "duration": 19,
    "start_time": "2022-03-16T07:16:40.649Z"
   },
   {
    "duration": 47,
    "start_time": "2022-03-16T07:16:40.670Z"
   },
   {
    "duration": 1156,
    "start_time": "2022-03-16T07:16:40.719Z"
   },
   {
    "duration": 32,
    "start_time": "2022-03-16T07:16:41.877Z"
   },
   {
    "duration": 19,
    "start_time": "2022-03-16T07:16:41.911Z"
   },
   {
    "duration": 412,
    "start_time": "2022-03-16T07:16:41.932Z"
   },
   {
    "duration": 17,
    "start_time": "2022-03-16T07:16:42.346Z"
   },
   {
    "duration": 18,
    "start_time": "2022-03-16T07:16:42.365Z"
   },
   {
    "duration": 10,
    "start_time": "2022-03-16T07:16:42.402Z"
   },
   {
    "duration": 21,
    "start_time": "2022-03-16T07:16:42.415Z"
   },
   {
    "duration": 10,
    "start_time": "2022-03-16T07:16:42.438Z"
   },
   {
    "duration": 14,
    "start_time": "2022-03-16T07:16:42.450Z"
   },
   {
    "duration": 38,
    "start_time": "2022-03-16T07:16:42.467Z"
   },
   {
    "duration": 22,
    "start_time": "2022-03-16T07:16:42.507Z"
   },
   {
    "duration": 15,
    "start_time": "2022-03-16T07:16:42.531Z"
   },
   {
    "duration": 20,
    "start_time": "2022-03-16T07:16:42.547Z"
   },
   {
    "duration": 39,
    "start_time": "2022-03-16T07:16:42.569Z"
   },
   {
    "duration": 17,
    "start_time": "2022-03-16T07:16:42.610Z"
   },
   {
    "duration": 17,
    "start_time": "2022-03-16T07:16:42.629Z"
   },
   {
    "duration": 8,
    "start_time": "2022-03-16T07:16:42.648Z"
   },
   {
    "duration": 5,
    "start_time": "2022-03-16T07:16:54.934Z"
   },
   {
    "duration": 391,
    "start_time": "2022-03-16T07:19:55.697Z"
   },
   {
    "duration": 396,
    "start_time": "2022-03-16T07:21:32.837Z"
   },
   {
    "duration": 8,
    "start_time": "2022-03-16T07:21:59.952Z"
   },
   {
    "duration": 661,
    "start_time": "2022-03-16T07:27:09.139Z"
   },
   {
    "duration": 29,
    "start_time": "2022-03-16T07:27:30.107Z"
   },
   {
    "duration": 25,
    "start_time": "2022-03-16T07:27:50.001Z"
   },
   {
    "duration": 565,
    "start_time": "2022-03-16T07:29:14.127Z"
   },
   {
    "duration": 591,
    "start_time": "2022-03-16T07:29:25.630Z"
   },
   {
    "duration": 661,
    "start_time": "2022-03-16T07:30:16.845Z"
   },
   {
    "duration": 83,
    "start_time": "2022-03-16T07:30:22.218Z"
   },
   {
    "duration": 90,
    "start_time": "2022-03-16T07:30:30.834Z"
   },
   {
    "duration": 384,
    "start_time": "2022-03-16T07:30:35.322Z"
   },
   {
    "duration": 377,
    "start_time": "2022-03-16T07:30:49.491Z"
   },
   {
    "duration": 101,
    "start_time": "2022-03-16T07:31:00.283Z"
   },
   {
    "duration": 778,
    "start_time": "2022-03-16T07:31:10.691Z"
   },
   {
    "duration": 21,
    "start_time": "2022-03-16T07:40:20.352Z"
   },
   {
    "duration": 1117,
    "start_time": "2022-03-16T07:40:36.062Z"
   },
   {
    "duration": 17,
    "start_time": "2022-03-16T07:40:42.046Z"
   },
   {
    "duration": 22,
    "start_time": "2022-03-16T07:53:59.684Z"
   },
   {
    "duration": 1138,
    "start_time": "2022-03-16T07:54:04.963Z"
   },
   {
    "duration": 17,
    "start_time": "2022-03-16T07:54:13.059Z"
   },
   {
    "duration": 403,
    "start_time": "2022-03-16T07:55:14.449Z"
   },
   {
    "duration": 31,
    "start_time": "2022-03-16T07:55:25.964Z"
   },
   {
    "duration": 1189,
    "start_time": "2022-03-16T07:55:35.729Z"
   },
   {
    "duration": 18,
    "start_time": "2022-03-16T07:55:41.727Z"
   },
   {
    "duration": 1142,
    "start_time": "2022-03-16T07:57:56.075Z"
   },
   {
    "duration": 18,
    "start_time": "2022-03-16T07:58:00.949Z"
   },
   {
    "duration": 22,
    "start_time": "2022-03-16T08:14:35.402Z"
   },
   {
    "duration": 1137,
    "start_time": "2022-03-16T08:14:42.595Z"
   },
   {
    "duration": 17,
    "start_time": "2022-03-16T08:14:48.809Z"
   },
   {
    "duration": 25,
    "start_time": "2022-03-16T08:15:40.081Z"
   },
   {
    "duration": 1215,
    "start_time": "2022-03-16T08:15:42.793Z"
   },
   {
    "duration": 18,
    "start_time": "2022-03-16T08:15:47.098Z"
   },
   {
    "duration": 25,
    "start_time": "2022-03-16T08:18:59.026Z"
   },
   {
    "duration": 1231,
    "start_time": "2022-03-16T08:19:06.121Z"
   },
   {
    "duration": 1219,
    "start_time": "2022-03-16T08:19:18.568Z"
   },
   {
    "duration": 24,
    "start_time": "2022-03-16T08:19:31.632Z"
   },
   {
    "duration": 19,
    "start_time": "2022-03-16T08:32:20.639Z"
   },
   {
    "duration": 388,
    "start_time": "2022-03-16T09:09:41.406Z"
   },
   {
    "duration": 404,
    "start_time": "2022-03-16T09:11:30.802Z"
   },
   {
    "duration": 17,
    "start_time": "2022-03-16T09:28:23.802Z"
   },
   {
    "duration": 17,
    "start_time": "2022-03-16T09:29:16.064Z"
   },
   {
    "duration": 19,
    "start_time": "2022-03-16T09:30:06.780Z"
   },
   {
    "duration": 18,
    "start_time": "2022-03-16T09:30:48.531Z"
   },
   {
    "duration": 18,
    "start_time": "2022-03-16T09:42:34.924Z"
   },
   {
    "duration": 141,
    "start_time": "2022-03-16T09:45:38.647Z"
   },
   {
    "duration": 16,
    "start_time": "2022-03-16T09:46:06.541Z"
   },
   {
    "duration": 283,
    "start_time": "2022-03-16T09:48:42.352Z"
   },
   {
    "duration": 6,
    "start_time": "2022-03-16T09:49:29.031Z"
   },
   {
    "duration": 30,
    "start_time": "2022-03-16T09:49:32.942Z"
   },
   {
    "duration": 30,
    "start_time": "2022-03-16T11:41:09.129Z"
   },
   {
    "duration": 6,
    "start_time": "2022-03-16T11:43:56.306Z"
   },
   {
    "duration": 20,
    "start_time": "2022-03-16T11:45:00.999Z"
   },
   {
    "duration": 30,
    "start_time": "2022-03-16T11:48:11.490Z"
   },
   {
    "duration": 579,
    "start_time": "2022-03-16T12:31:14.531Z"
   },
   {
    "duration": 15,
    "start_time": "2022-03-16T12:38:22.222Z"
   },
   {
    "duration": 15,
    "start_time": "2022-03-16T12:38:30.132Z"
   },
   {
    "duration": 8,
    "start_time": "2022-03-16T12:38:39.307Z"
   },
   {
    "duration": 15,
    "start_time": "2022-03-16T12:48:11.872Z"
   },
   {
    "duration": 17,
    "start_time": "2022-03-16T12:48:14.583Z"
   },
   {
    "duration": 9,
    "start_time": "2022-03-16T12:48:22.332Z"
   },
   {
    "duration": 1396,
    "start_time": "2022-03-16T13:01:30.747Z"
   },
   {
    "duration": 19,
    "start_time": "2022-03-16T13:01:32.146Z"
   },
   {
    "duration": 10,
    "start_time": "2022-03-16T13:01:32.168Z"
   },
   {
    "duration": 36,
    "start_time": "2022-03-16T13:01:32.181Z"
   },
   {
    "duration": 26,
    "start_time": "2022-03-16T13:01:32.220Z"
   },
   {
    "duration": 45,
    "start_time": "2022-03-16T13:01:32.249Z"
   },
   {
    "duration": 38,
    "start_time": "2022-03-16T13:01:32.297Z"
   },
   {
    "duration": 38,
    "start_time": "2022-03-16T13:01:32.338Z"
   },
   {
    "duration": 26,
    "start_time": "2022-03-16T13:01:32.379Z"
   },
   {
    "duration": 30,
    "start_time": "2022-03-16T13:01:32.408Z"
   },
   {
    "duration": 32,
    "start_time": "2022-03-16T13:01:32.440Z"
   },
   {
    "duration": 21,
    "start_time": "2022-03-16T13:01:32.475Z"
   },
   {
    "duration": 427,
    "start_time": "2022-03-16T13:01:32.498Z"
   },
   {
    "duration": 9,
    "start_time": "2022-03-16T13:01:32.928Z"
   },
   {
    "duration": 49,
    "start_time": "2022-03-16T13:01:32.939Z"
   },
   {
    "duration": 84,
    "start_time": "2022-03-16T13:01:32.991Z"
   },
   {
    "duration": 12,
    "start_time": "2022-03-16T13:01:33.078Z"
   },
   {
    "duration": 422,
    "start_time": "2022-03-16T13:01:33.092Z"
   },
   {
    "duration": 9,
    "start_time": "2022-03-16T13:01:33.516Z"
   },
   {
    "duration": 59,
    "start_time": "2022-03-16T13:01:33.528Z"
   },
   {
    "duration": 611,
    "start_time": "2022-03-16T13:01:33.590Z"
   },
   {
    "duration": 7,
    "start_time": "2022-03-16T13:01:34.204Z"
   },
   {
    "duration": 412,
    "start_time": "2022-03-16T13:01:34.217Z"
   },
   {
    "duration": 8,
    "start_time": "2022-03-16T13:01:34.632Z"
   },
   {
    "duration": 599,
    "start_time": "2022-03-16T13:01:34.642Z"
   },
   {
    "duration": 17,
    "start_time": "2022-03-16T13:01:35.243Z"
   },
   {
    "duration": 689,
    "start_time": "2022-03-16T13:01:35.262Z"
   },
   {
    "duration": 23,
    "start_time": "2022-03-16T13:01:35.954Z"
   },
   {
    "duration": 1408,
    "start_time": "2022-03-16T13:01:35.979Z"
   },
   {
    "duration": 32,
    "start_time": "2022-03-16T13:01:37.389Z"
   },
   {
    "duration": 27,
    "start_time": "2022-03-16T13:01:37.423Z"
   },
   {
    "duration": 1219,
    "start_time": "2022-03-16T13:01:37.452Z"
   },
   {
    "duration": 33,
    "start_time": "2022-03-16T13:01:38.672Z"
   },
   {
    "duration": 23,
    "start_time": "2022-03-16T13:01:38.707Z"
   },
   {
    "duration": 20,
    "start_time": "2022-03-16T13:01:38.732Z"
   },
   {
    "duration": 437,
    "start_time": "2022-03-16T13:01:38.753Z"
   },
   {
    "duration": 10,
    "start_time": "2022-03-16T13:01:39.192Z"
   },
   {
    "duration": 159,
    "start_time": "2022-03-16T13:01:39.205Z"
   },
   {
    "duration": 48,
    "start_time": "2022-03-16T13:01:39.366Z"
   },
   {
    "duration": 9,
    "start_time": "2022-03-16T13:01:39.417Z"
   },
   {
    "duration": 55,
    "start_time": "2022-03-16T13:01:39.429Z"
   },
   {
    "duration": 29,
    "start_time": "2022-03-16T13:01:39.486Z"
   },
   {
    "duration": 25,
    "start_time": "2022-03-16T13:01:39.518Z"
   },
   {
    "duration": 12,
    "start_time": "2022-03-16T13:01:39.545Z"
   },
   {
    "duration": 17,
    "start_time": "2022-03-16T13:01:39.559Z"
   },
   {
    "duration": 38,
    "start_time": "2022-03-16T13:01:39.579Z"
   },
   {
    "duration": 29,
    "start_time": "2022-03-16T13:01:39.619Z"
   },
   {
    "duration": 23,
    "start_time": "2022-03-16T13:05:29.845Z"
   },
   {
    "duration": 1081,
    "start_time": "2022-03-16T13:05:35.424Z"
   },
   {
    "duration": 17,
    "start_time": "2022-03-16T13:05:41.530Z"
   },
   {
    "duration": 26,
    "start_time": "2022-03-16T13:05:55.242Z"
   },
   {
    "duration": 1007,
    "start_time": "2022-03-16T13:05:57.584Z"
   },
   {
    "duration": 19,
    "start_time": "2022-03-16T13:06:09.278Z"
   },
   {
    "duration": 330,
    "start_time": "2022-03-17T09:09:39.433Z"
   }
  ],
  "kernelspec": {
   "display_name": "Python 3 (ipykernel)",
   "language": "python",
   "name": "python3"
  },
  "language_info": {
   "codemirror_mode": {
    "name": "ipython",
    "version": 3
   },
   "file_extension": ".py",
   "mimetype": "text/x-python",
   "name": "python",
   "nbconvert_exporter": "python",
   "pygments_lexer": "ipython3",
   "version": "3.9.7"
  },
  "toc": {
   "base_numbering": 1,
   "nav_menu": {},
   "number_sections": true,
   "sideBar": true,
   "skip_h1_title": true,
   "title_cell": "Table of Contents",
   "title_sidebar": "Contents",
   "toc_cell": false,
   "toc_position": {
    "height": "calc(100% - 180px)",
    "left": "10px",
    "top": "150px",
    "width": "366.391px"
   },
   "toc_section_display": true,
   "toc_window_display": true
  }
 },
 "nbformat": 4,
 "nbformat_minor": 2
}
