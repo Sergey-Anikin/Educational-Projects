{
 "cells": [
  {
   "cell_type": "markdown",
   "metadata": {},
   "source": [
    "#  Прогнозирование заказов такси"
   ]
  },
  {
   "cell_type": "markdown",
   "metadata": {},
   "source": [
    "Сервис такси собрал исторические данные о заказах такси в аэропортах. Чтобы привлекать больше водителей в период пиковой нагрузки, нужно спрогнозировать количество заказов такси на следующий час. Нужно построить модель для такого предсказания.\n",
    "\n",
    "Значение метрики *RMSE* на тестовой выборке должно быть не больше 48.\n",
    "\n",
    "Нам нужно:\n",
    "\n",
    "1. Загрузить данные и выполнить их ресемплирование по одному часу.\n",
    "2. Проанализировать данные.\n",
    "3. Обучить разные модели с различными гиперпараметрами. Сделать тестовую выборку размером 10% от исходных данных.\n",
    "4. Проверить данные на тестовой выборке."
   ]
  },
  {
   "cell_type": "markdown",
   "metadata": {},
   "source": [
    "**Содержание:**\n",
    "\n",
    "    1  Подготовка\n",
    "    2  Анализ\n",
    "    3  Обучение\n",
    "        3.1  Создание признаков\n",
    "        3.2  Разделение на выборки\n",
    "        3.3  Обучение моделей\n",
    "        3.4  Проверка модели на адекватность\n",
    "    4  Тестирование"
   ]
  },
  {
   "cell_type": "code",
   "execution_count": 1,
   "metadata": {},
   "outputs": [],
   "source": [
    "import pandas as pd # импорт библиотеки pandas\n",
    "import numpy as np # импорт библиотеки numpy\n",
    "import matplotlib.pyplot as plt # импорт библиотеки matplotlib\n",
    "import seaborn as sns # импорт библиотеки seaborn\n",
    "from sklearn.model_selection import TimeSeriesSplit, GridSearchCV # импорт из библиотеки sklearn алгоритма TimeSeriesSplit, GridSearchCV\n",
    "from sklearn.metrics import mean_squared_error, make_scorer # импорт из библиотеки sklearn алгоритма make_scorer, mean_absolute_error\n",
    "from sklearn.linear_model import LinearRegression # импорт из библиотеки sklearn алгоритма линейной регрессии\n",
    "from sklearn.dummy import DummyRegressor # импорт из библиотеки sklearn алгоритма DummyRegressor\n",
    "from lightgbm import LGBMRegressor # импорт алгоритма LGBMRegressor\n",
    "from statsmodels.tsa.seasonal import seasonal_decompose # импорт из библиотеки statsmodels.tsa.seasonal алгоритма seasonal_decompose"
   ]
  },
  {
   "cell_type": "markdown",
   "metadata": {},
   "source": [
    "## 1 Подготовка"
   ]
  },
  {
   "cell_type": "code",
   "execution_count": 2,
   "metadata": {},
   "outputs": [
    {
     "name": "stdout",
     "output_type": "stream",
     "text": [
      "<class 'pandas.core.frame.DataFrame'>\n",
      "DatetimeIndex: 26496 entries, 2018-03-01 00:00:00 to 2018-08-31 23:50:00\n",
      "Data columns (total 1 columns):\n",
      " #   Column      Non-Null Count  Dtype\n",
      "---  ------      --------------  -----\n",
      " 0   num_orders  26496 non-null  int64\n",
      "dtypes: int64(1)\n",
      "memory usage: 414.0 KB\n"
     ]
    },
    {
     "data": {
      "text/html": [
       "<div>\n",
       "<style scoped>\n",
       "    .dataframe tbody tr th:only-of-type {\n",
       "        vertical-align: middle;\n",
       "    }\n",
       "\n",
       "    .dataframe tbody tr th {\n",
       "        vertical-align: top;\n",
       "    }\n",
       "\n",
       "    .dataframe thead th {\n",
       "        text-align: right;\n",
       "    }\n",
       "</style>\n",
       "<table border=\"1\" class=\"dataframe\">\n",
       "  <thead>\n",
       "    <tr style=\"text-align: right;\">\n",
       "      <th></th>\n",
       "      <th>num_orders</th>\n",
       "    </tr>\n",
       "    <tr>\n",
       "      <th>datetime</th>\n",
       "      <th></th>\n",
       "    </tr>\n",
       "  </thead>\n",
       "  <tbody>\n",
       "    <tr>\n",
       "      <th>2018-03-01 00:00:00</th>\n",
       "      <td>9</td>\n",
       "    </tr>\n",
       "    <tr>\n",
       "      <th>2018-03-01 00:10:00</th>\n",
       "      <td>14</td>\n",
       "    </tr>\n",
       "    <tr>\n",
       "      <th>2018-03-01 00:20:00</th>\n",
       "      <td>28</td>\n",
       "    </tr>\n",
       "    <tr>\n",
       "      <th>2018-03-01 00:30:00</th>\n",
       "      <td>20</td>\n",
       "    </tr>\n",
       "    <tr>\n",
       "      <th>2018-03-01 00:40:00</th>\n",
       "      <td>32</td>\n",
       "    </tr>\n",
       "  </tbody>\n",
       "</table>\n",
       "</div>"
      ],
      "text/plain": [
       "                     num_orders\n",
       "datetime                       \n",
       "2018-03-01 00:00:00           9\n",
       "2018-03-01 00:10:00          14\n",
       "2018-03-01 00:20:00          28\n",
       "2018-03-01 00:30:00          20\n",
       "2018-03-01 00:40:00          32"
      ]
     },
     "execution_count": 2,
     "metadata": {},
     "output_type": "execute_result"
    }
   ],
   "source": [
    "# знакомство с данными\n",
    "df = pd.read_csv('***.csv', index_col=[0], parse_dates=[0])\n",
    "df.info()\n",
    "df.head()"
   ]
  },
  {
   "cell_type": "code",
   "execution_count": 3,
   "metadata": {},
   "outputs": [
    {
     "data": {
      "text/html": [
       "<div>\n",
       "<style scoped>\n",
       "    .dataframe tbody tr th:only-of-type {\n",
       "        vertical-align: middle;\n",
       "    }\n",
       "\n",
       "    .dataframe tbody tr th {\n",
       "        vertical-align: top;\n",
       "    }\n",
       "\n",
       "    .dataframe thead th {\n",
       "        text-align: right;\n",
       "    }\n",
       "</style>\n",
       "<table border=\"1\" class=\"dataframe\">\n",
       "  <thead>\n",
       "    <tr style=\"text-align: right;\">\n",
       "      <th></th>\n",
       "      <th>num_orders</th>\n",
       "    </tr>\n",
       "  </thead>\n",
       "  <tbody>\n",
       "    <tr>\n",
       "      <th>count</th>\n",
       "      <td>26496.000000</td>\n",
       "    </tr>\n",
       "    <tr>\n",
       "      <th>mean</th>\n",
       "      <td>14.070463</td>\n",
       "    </tr>\n",
       "    <tr>\n",
       "      <th>std</th>\n",
       "      <td>9.211330</td>\n",
       "    </tr>\n",
       "    <tr>\n",
       "      <th>min</th>\n",
       "      <td>0.000000</td>\n",
       "    </tr>\n",
       "    <tr>\n",
       "      <th>25%</th>\n",
       "      <td>8.000000</td>\n",
       "    </tr>\n",
       "    <tr>\n",
       "      <th>50%</th>\n",
       "      <td>13.000000</td>\n",
       "    </tr>\n",
       "    <tr>\n",
       "      <th>75%</th>\n",
       "      <td>19.000000</td>\n",
       "    </tr>\n",
       "    <tr>\n",
       "      <th>max</th>\n",
       "      <td>119.000000</td>\n",
       "    </tr>\n",
       "  </tbody>\n",
       "</table>\n",
       "</div>"
      ],
      "text/plain": [
       "         num_orders\n",
       "count  26496.000000\n",
       "mean      14.070463\n",
       "std        9.211330\n",
       "min        0.000000\n",
       "25%        8.000000\n",
       "50%       13.000000\n",
       "75%       19.000000\n",
       "max      119.000000"
      ]
     },
     "execution_count": 3,
     "metadata": {},
     "output_type": "execute_result"
    }
   ],
   "source": [
    "df.describe()"
   ]
  },
  {
   "cell_type": "code",
   "execution_count": 4,
   "metadata": {},
   "outputs": [],
   "source": [
    "df.sort_index(inplace=True) # отсортируем по индексу\n",
    "df = df.resample('1H').sum() # ресамплируем по 1 часу"
   ]
  },
  {
   "cell_type": "markdown",
   "metadata": {},
   "source": [
    "Пропусков нет. Других проблем в данных нет."
   ]
  },
  {
   "cell_type": "markdown",
   "metadata": {},
   "source": [
    "## 2 Анализ"
   ]
  },
  {
   "cell_type": "markdown",
   "metadata": {},
   "source": [
    "Посморим на тренд и сезонность"
   ]
  },
  {
   "cell_type": "code",
   "execution_count": 5,
   "metadata": {},
   "outputs": [
    {
     "data": {
      "image/png": "[encoded data removed]",
      "text/plain": [
       "<Figure size 1080x720 with 3 Axes>"
      ]
     },
     "metadata": {
      "needs_background": "light"
     },
     "output_type": "display_data"
    }
   ],
   "source": [
    "decomposed = seasonal_decompose(df)\n",
    "plt.figure(figsize=(15,10))\n",
    "\n",
    "plt.subplot(311)\n",
    "decomposed.trend.plot(ax=plt.gca()) # тренд\n",
    "plt.title('Trend')\n",
    "\n",
    "plt.subplot(312)\n",
    "decomposed.seasonal['2018-08-01':'2018-08-02 12:00:00'].plot(ax=plt.gca()) # сезонность\n",
    "plt.title('Seasonality')\n",
    "\n",
    "plt.subplot(313)\n",
    "decomposed.resid.plot(ax=plt.gca()) # остаток декомпозиции\n",
    "plt.title('Resudials')\n",
    "plt.tight_layout()"
   ]
  },
  {
   "cell_type": "markdown",
   "metadata": {},
   "source": [
    "Мы наблюдаем:\n",
    "- Плавное увелечние заказов с мая. Март и Апрель примерно равны.\n",
    "- Стремительное увеличение заказов с середины августа. Это связано скорей всего с началом учебного года.\n",
    "- Пики заказов приходятся на начало и конец рабочего дня, а так же к 12 часам ночи."
   ]
  },
  {
   "cell_type": "markdown",
   "metadata": {},
   "source": [
    "## 3 Обучение"
   ]
  },
  {
   "cell_type": "markdown",
   "metadata": {},
   "source": [
    "### 3.1 Создание признаков"
   ]
  },
  {
   "cell_type": "code",
   "execution_count": 6,
   "metadata": {},
   "outputs": [],
   "source": [
    "# функция создания признаков: месяц, день месяца, день недели, час, столбцы с отставанием, скользящее среднее\n",
    "def make_features(data, max_lag, rolling_mean_size):\n",
    "    data['month'] = data.index.month\n",
    "    data['day'] = data.index.day\n",
    "    data['day_of_week'] = data.index.dayofweek\n",
    "    data['hour'] = data.index.hour\n",
    "    \n",
    "    for lag in range(1, max_lag + 1):\n",
    "        data['lag_{}'.format(lag)] = data['num_orders'].shift(lag)\n",
    "        \n",
    "    data['rolling_mean'] = data['num_orders'].shift().rolling(rolling_mean_size).mean()"
   ]
  },
  {
   "cell_type": "code",
   "execution_count": 7,
   "metadata": {
    "scrolled": true
   },
   "outputs": [
    {
     "data": {
      "text/html": [
       "<div>\n",
       "<style scoped>\n",
       "    .dataframe tbody tr th:only-of-type {\n",
       "        vertical-align: middle;\n",
       "    }\n",
       "\n",
       "    .dataframe tbody tr th {\n",
       "        vertical-align: top;\n",
       "    }\n",
       "\n",
       "    .dataframe thead th {\n",
       "        text-align: right;\n",
       "    }\n",
       "</style>\n",
       "<table border=\"1\" class=\"dataframe\">\n",
       "  <thead>\n",
       "    <tr style=\"text-align: right;\">\n",
       "      <th></th>\n",
       "      <th>num_orders</th>\n",
       "      <th>month</th>\n",
       "      <th>day</th>\n",
       "      <th>day_of_week</th>\n",
       "      <th>hour</th>\n",
       "      <th>lag_1</th>\n",
       "      <th>lag_2</th>\n",
       "      <th>lag_3</th>\n",
       "      <th>lag_4</th>\n",
       "      <th>lag_5</th>\n",
       "      <th>lag_6</th>\n",
       "      <th>lag_7</th>\n",
       "      <th>rolling_mean</th>\n",
       "    </tr>\n",
       "    <tr>\n",
       "      <th>datetime</th>\n",
       "      <th></th>\n",
       "      <th></th>\n",
       "      <th></th>\n",
       "      <th></th>\n",
       "      <th></th>\n",
       "      <th></th>\n",
       "      <th></th>\n",
       "      <th></th>\n",
       "      <th></th>\n",
       "      <th></th>\n",
       "      <th></th>\n",
       "      <th></th>\n",
       "      <th></th>\n",
       "    </tr>\n",
       "  </thead>\n",
       "  <tbody>\n",
       "    <tr>\n",
       "      <th>2018-03-01 00:00:00</th>\n",
       "      <td>124</td>\n",
       "      <td>3</td>\n",
       "      <td>1</td>\n",
       "      <td>3</td>\n",
       "      <td>0</td>\n",
       "      <td>NaN</td>\n",
       "      <td>NaN</td>\n",
       "      <td>NaN</td>\n",
       "      <td>NaN</td>\n",
       "      <td>NaN</td>\n",
       "      <td>NaN</td>\n",
       "      <td>NaN</td>\n",
       "      <td>NaN</td>\n",
       "    </tr>\n",
       "    <tr>\n",
       "      <th>2018-03-01 01:00:00</th>\n",
       "      <td>85</td>\n",
       "      <td>3</td>\n",
       "      <td>1</td>\n",
       "      <td>3</td>\n",
       "      <td>1</td>\n",
       "      <td>124.0</td>\n",
       "      <td>NaN</td>\n",
       "      <td>NaN</td>\n",
       "      <td>NaN</td>\n",
       "      <td>NaN</td>\n",
       "      <td>NaN</td>\n",
       "      <td>NaN</td>\n",
       "      <td>NaN</td>\n",
       "    </tr>\n",
       "    <tr>\n",
       "      <th>2018-03-01 02:00:00</th>\n",
       "      <td>71</td>\n",
       "      <td>3</td>\n",
       "      <td>1</td>\n",
       "      <td>3</td>\n",
       "      <td>2</td>\n",
       "      <td>85.0</td>\n",
       "      <td>124.0</td>\n",
       "      <td>NaN</td>\n",
       "      <td>NaN</td>\n",
       "      <td>NaN</td>\n",
       "      <td>NaN</td>\n",
       "      <td>NaN</td>\n",
       "      <td>NaN</td>\n",
       "    </tr>\n",
       "    <tr>\n",
       "      <th>2018-03-01 03:00:00</th>\n",
       "      <td>66</td>\n",
       "      <td>3</td>\n",
       "      <td>1</td>\n",
       "      <td>3</td>\n",
       "      <td>3</td>\n",
       "      <td>71.0</td>\n",
       "      <td>85.0</td>\n",
       "      <td>124.0</td>\n",
       "      <td>NaN</td>\n",
       "      <td>NaN</td>\n",
       "      <td>NaN</td>\n",
       "      <td>NaN</td>\n",
       "      <td>NaN</td>\n",
       "    </tr>\n",
       "    <tr>\n",
       "      <th>2018-03-01 04:00:00</th>\n",
       "      <td>43</td>\n",
       "      <td>3</td>\n",
       "      <td>1</td>\n",
       "      <td>3</td>\n",
       "      <td>4</td>\n",
       "      <td>66.0</td>\n",
       "      <td>71.0</td>\n",
       "      <td>85.0</td>\n",
       "      <td>124.0</td>\n",
       "      <td>NaN</td>\n",
       "      <td>NaN</td>\n",
       "      <td>NaN</td>\n",
       "      <td>NaN</td>\n",
       "    </tr>\n",
       "  </tbody>\n",
       "</table>\n",
       "</div>"
      ],
      "text/plain": [
       "                     num_orders  month  day  day_of_week  hour  lag_1  lag_2  \\\n",
       "datetime                                                                       \n",
       "2018-03-01 00:00:00         124      3    1            3     0    NaN    NaN   \n",
       "2018-03-01 01:00:00          85      3    1            3     1  124.0    NaN   \n",
       "2018-03-01 02:00:00          71      3    1            3     2   85.0  124.0   \n",
       "2018-03-01 03:00:00          66      3    1            3     3   71.0   85.0   \n",
       "2018-03-01 04:00:00          43      3    1            3     4   66.0   71.0   \n",
       "\n",
       "                     lag_3  lag_4  lag_5  lag_6  lag_7  rolling_mean  \n",
       "datetime                                                              \n",
       "2018-03-01 00:00:00    NaN    NaN    NaN    NaN    NaN           NaN  \n",
       "2018-03-01 01:00:00    NaN    NaN    NaN    NaN    NaN           NaN  \n",
       "2018-03-01 02:00:00    NaN    NaN    NaN    NaN    NaN           NaN  \n",
       "2018-03-01 03:00:00  124.0    NaN    NaN    NaN    NaN           NaN  \n",
       "2018-03-01 04:00:00   85.0  124.0    NaN    NaN    NaN           NaN  "
      ]
     },
     "execution_count": 7,
     "metadata": {},
     "output_type": "execute_result"
    }
   ],
   "source": [
    "make_features(df, 7, 12)\n",
    "df.head()"
   ]
  },
  {
   "cell_type": "markdown",
   "metadata": {},
   "source": [
    "### 3.2 Разделение на выборки"
   ]
  },
  {
   "cell_type": "code",
   "execution_count": 8,
   "metadata": {},
   "outputs": [],
   "source": [
    "df = df.dropna() # удаление пустых значений\n",
    "features = df.drop('num_orders', axis=1).values # признаки\n",
    "target = df['num_orders'].values # целевой признак"
   ]
  },
  {
   "cell_type": "markdown",
   "metadata": {},
   "source": [
    "Используем кросс валидацию для временных рядов:"
   ]
  },
  {
   "cell_type": "markdown",
   "metadata": {},
   "source": [
    "Нам нужно использовать тестовую выборку 10% от исходных данных. В процентном соотношении TimeSeriesSplit() не принимает размер выборки, поэтому будем использовать следующую формулу (по умолчанию n_splits=5): test_size=int((len(features)/5)*0.5)"
   ]
  },
  {
   "cell_type": "code",
   "execution_count": 9,
   "metadata": {},
   "outputs": [],
   "source": [
    "tscv = TimeSeriesSplit(test_size=int((len(features)/5)*0.5))\n",
    "for train_index, test_index in tscv.split(features):\n",
    "    features_train, features_test = features[train_index], features[test_index]\n",
    "    target_train, target_test = target[train_index], target[test_index]"
   ]
  },
  {
   "cell_type": "markdown",
   "metadata": {},
   "source": [
    "Проверка разделения выборок:"
   ]
  },
  {
   "cell_type": "code",
   "execution_count": 10,
   "metadata": {},
   "outputs": [
    {
     "name": "stdout",
     "output_type": "stream",
     "text": [
      "Обучающая выборка: 90.0 %\n",
      "Тестовая выборка: 10.0 %\n"
     ]
    }
   ],
   "source": [
    "print('Обучающая выборка:',round(features_train.shape[0]/df.shape[0]*100,1),'%')\n",
    "print('Тестовая выборка:',round(features_test.shape[0]/df.shape[0]*100,1),'%')"
   ]
  },
  {
   "cell_type": "markdown",
   "metadata": {},
   "source": [
    "### 3.3 Обучение моделей"
   ]
  },
  {
   "cell_type": "markdown",
   "metadata": {},
   "source": [
    "Возьмем для сравнения 2 модели: Линейную регрессию и модель градиентного бустинга LGBMRegressor. У нас не стоит задачи сравнивать много моделей. Эти 2 модели быстро обучаются, что сэкономит нам время. Плюс LightGBM дает хороший результат предсказаний."
   ]
  },
  {
   "cell_type": "code",
   "execution_count": 11,
   "metadata": {},
   "outputs": [],
   "source": [
    "mse = make_scorer(mean_squared_error, greater_is_better=False) # метрику среднекврадратичной ошибки "
   ]
  },
  {
   "cell_type": "code",
   "execution_count": 12,
   "metadata": {},
   "outputs": [],
   "source": [
    "model_lr = LinearRegression() # линейная регрессия\n",
    "model_lgbm = LGBMRegressor() # LightGBM"
   ]
  },
  {
   "cell_type": "code",
   "execution_count": 13,
   "metadata": {},
   "outputs": [],
   "source": [
    "# подбор гиперпараметров для моделей (оставлены лучшие параметры)\n",
    "grid_lr = {}\n",
    "grid_lgbm = {'max_depth':[10],\n",
    "             'num_leaves':[20],\n",
    "             'random_state':[42]}"
   ]
  },
  {
   "cell_type": "code",
   "execution_count": 14,
   "metadata": {},
   "outputs": [],
   "source": [
    "# кросс-валидация и поиск лучших параметров для моделей\n",
    "lr = GridSearchCV(model_lr, param_grid=grid_lr, cv = tscv, scoring = mse)\n",
    "lgbm = GridSearchCV(model_lgbm, param_grid=grid_lgbm, cv = tscv, scoring = mse)"
   ]
  },
  {
   "cell_type": "code",
   "execution_count": 15,
   "metadata": {},
   "outputs": [
    {
     "data": {
      "text/plain": [
       "GridSearchCV(cv=TimeSeriesSplit(gap=0, max_train_size=None, n_splits=5, test_size=440),\n",
       "             estimator=LGBMRegressor(),\n",
       "             param_grid={'max_depth': [10], 'num_leaves': [20],\n",
       "                         'random_state': [42]},\n",
       "             scoring=make_scorer(mean_squared_error, greater_is_better=False))"
      ]
     },
     "execution_count": 15,
     "metadata": {},
     "output_type": "execute_result"
    }
   ],
   "source": [
    "# обучение моделей\n",
    "lr.fit(features_train, target_train)\n",
    "lgbm.fit(features_train, target_train)"
   ]
  },
  {
   "cell_type": "code",
   "execution_count": 16,
   "metadata": {},
   "outputs": [
    {
     "data": {
      "text/plain": [
       "LGBMRegressor(max_depth=10, num_leaves=20, random_state=42)"
      ]
     },
     "execution_count": 16,
     "metadata": {},
     "output_type": "execute_result"
    }
   ],
   "source": [
    "# вывод лучших гиперпараметров модели\n",
    "lgbm.best_estimator_"
   ]
  },
  {
   "cell_type": "code",
   "execution_count": 17,
   "metadata": {},
   "outputs": [
    {
     "name": "stdout",
     "output_type": "stream",
     "text": [
      "RMSE Линейной Регрессии: 33.624415744830905\n",
      "RMSE LightGBM: 25.799823686926196\n"
     ]
    }
   ],
   "source": [
    "print('RMSE Линейной Регрессии:', abs(lr.best_score_)**0.5)\n",
    "print('RMSE LightGBM:', abs(lgbm.best_score_)**0.5)"
   ]
  },
  {
   "cell_type": "markdown",
   "metadata": {},
   "source": [
    "Модели обучены. Метрики показывают хорошие результаты, проверим их на константной модели."
   ]
  },
  {
   "cell_type": "markdown",
   "metadata": {},
   "source": [
    "### 3.4 Проверка модели на адекватность"
   ]
  },
  {
   "cell_type": "code",
   "execution_count": 18,
   "metadata": {},
   "outputs": [
    {
     "name": "stdout",
     "output_type": "stream",
     "text": [
      "RMSE константной модели на тестовой выборке: 84.73546468724061\n"
     ]
    }
   ],
   "source": [
    "# вызов константной модели\n",
    "dummy = DummyRegressor(strategy=\"mean\")\n",
    "# обучение модели\n",
    "dummy.fit(features_train,target_train)\n",
    "# предсказания модели\n",
    "prediction_dummy = dummy.predict(features_test)\n",
    "print('RMSE константной модели на тестовой выборке:', mean_squared_error(target_test, prediction_dummy)**0.5)"
   ]
  },
  {
   "cell_type": "markdown",
   "metadata": {},
   "source": [
    "Обе модели прошли тест на адекватность."
   ]
  },
  {
   "cell_type": "markdown",
   "metadata": {},
   "source": [
    "## 4 Тестирование"
   ]
  },
  {
   "cell_type": "code",
   "execution_count": 19,
   "metadata": {},
   "outputs": [
    {
     "name": "stdout",
     "output_type": "stream",
     "text": [
      "RMSE Линейной Регрессии: 52.6979515205831\n",
      "RMSE LightGBM: 42.69127052112793\n"
     ]
    }
   ],
   "source": [
    "predict_test_lr = lr.predict(features_test)\n",
    "predict_test_lgbm = lgbm.predict(features_test)\n",
    "\n",
    "print('RMSE Линейной Регрессии:', mean_squared_error(target_test, predict_test_lr)**0.5)\n",
    "print('RMSE LightGBM:', mean_squared_error(target_test, predict_test_lgbm)**0.5)"
   ]
  },
  {
   "cell_type": "markdown",
   "metadata": {},
   "source": [
    "Построим график предсказаний и целевого признака."
   ]
  },
  {
   "cell_type": "code",
   "execution_count": 21,
   "metadata": {},
   "outputs": [
    {
     "data": {
      "image/png": "[encoded data removed]",
      "text/plain": [
       "<Figure size 1080x720 with 1 Axes>"
      ]
     },
     "metadata": {
      "needs_background": "light"
     },
     "output_type": "display_data"
    }
   ],
   "source": [
    "plt.figure(figsize=(15,10))\n",
    "plt.title('График предсказаний и заказов такси', fontsize=20)\n",
    "sns.lineplot(data=target_test, color='g')\n",
    "sns.lineplot(data=predict_test_lgbm, color='b')\n",
    "plt.legend(['заказы такси', 'прогноз заказов'], fontsize=12)\n",
    "plt.grid()\n",
    "plt.show()"
   ]
  },
  {
   "cell_type": "markdown",
   "metadata": {},
   "source": [
    "**Вывод:**"
   ]
  },
  {
   "cell_type": "markdown",
   "metadata": {},
   "source": [
    "- У LightGBM RMSE = 42.69 на тестовой выборке, что явно меньше 48 в условии задачи. Гиперпараметры подобраны хорошо, модель справилась с поставленной задачей.\n",
    "- У Линейной Регрессии RMSE = 52.6 на тестовой выборке, что явно больше 48. Линейная регрессия не годится для данной задачи.\n",
    "- Модели хорошо удается предсказывать сезонность, но пиковые нагрузки не удаются. Возможно это связано с праздниками, либо другими мероприятиями, не отраженными в признаках.\n",
    "- Выборки были разделены с помощью TimeSeriesSplit, разработанного специально для временных рядов.\n",
    "- Использована кросс-валидация для достижения лучшего результата."
   ]
  }
 ],
 "metadata": {
  "ExecuteTimeLog": [
   {
    "duration": 3,
    "start_time": "2022-05-30T18:21:44.531Z"
   },
   {
    "duration": 44,
    "start_time": "2022-05-30T18:21:46.799Z"
   },
   {
    "duration": 63,
    "start_time": "2022-05-30T18:21:50.438Z"
   },
   {
    "duration": 55,
    "start_time": "2022-05-30T18:22:06.104Z"
   },
   {
    "duration": 68,
    "start_time": "2022-05-30T18:23:27.706Z"
   },
   {
    "duration": 1384,
    "start_time": "2022-05-30T18:25:12.441Z"
   },
   {
    "duration": 9,
    "start_time": "2022-05-30T18:25:39.444Z"
   },
   {
    "duration": 367,
    "start_time": "2022-06-01T11:12:59.582Z"
   },
   {
    "duration": 129,
    "start_time": "2022-06-01T11:12:59.951Z"
   },
   {
    "duration": 614,
    "start_time": "2022-06-01T11:13:00.081Z"
   },
   {
    "duration": 7,
    "start_time": "2022-06-01T11:13:00.697Z"
   },
   {
    "duration": 882,
    "start_time": "2022-06-01T11:26:18.583Z"
   },
   {
    "duration": 241,
    "start_time": "2022-06-01T11:27:30.552Z"
   },
   {
    "duration": 110,
    "start_time": "2022-06-01T11:28:02.080Z"
   },
   {
    "duration": 6,
    "start_time": "2022-06-01T11:29:29.816Z"
   },
   {
    "duration": 218,
    "start_time": "2022-06-01T11:29:49.105Z"
   },
   {
    "duration": 10,
    "start_time": "2022-06-01T11:29:52.176Z"
   },
   {
    "duration": 6,
    "start_time": "2022-06-01T11:29:54.712Z"
   },
   {
    "duration": 6,
    "start_time": "2022-06-01T11:30:00.712Z"
   },
   {
    "duration": 227,
    "start_time": "2022-06-01T11:30:05.336Z"
   },
   {
    "duration": 10,
    "start_time": "2022-06-01T11:30:07.984Z"
   },
   {
    "duration": 6,
    "start_time": "2022-06-01T11:30:10.481Z"
   },
   {
    "duration": 245,
    "start_time": "2022-06-01T11:30:16.000Z"
   },
   {
    "duration": 11,
    "start_time": "2022-06-01T11:30:31.961Z"
   },
   {
    "duration": 6,
    "start_time": "2022-06-01T11:30:34.072Z"
   },
   {
    "duration": 225,
    "start_time": "2022-06-01T11:30:40.296Z"
   },
   {
    "duration": 23,
    "start_time": "2022-06-01T11:30:42.800Z"
   },
   {
    "duration": 6,
    "start_time": "2022-06-01T11:30:46.777Z"
   },
   {
    "duration": 291,
    "start_time": "2022-06-01T11:30:52.032Z"
   },
   {
    "duration": 9,
    "start_time": "2022-06-01T11:30:54.200Z"
   },
   {
    "duration": 8,
    "start_time": "2022-06-01T11:30:57.240Z"
   },
   {
    "duration": 254,
    "start_time": "2022-06-01T11:31:01.952Z"
   },
   {
    "duration": 10,
    "start_time": "2022-06-01T11:31:04.888Z"
   },
   {
    "duration": 6,
    "start_time": "2022-06-01T11:31:07.223Z"
   },
   {
    "duration": 240,
    "start_time": "2022-06-01T11:31:27.250Z"
   },
   {
    "duration": 213,
    "start_time": "2022-06-01T11:31:38.072Z"
   },
   {
    "duration": 9,
    "start_time": "2022-06-01T11:31:40.744Z"
   },
   {
    "duration": 5,
    "start_time": "2022-06-01T11:31:43.392Z"
   },
   {
    "duration": 6,
    "start_time": "2022-06-01T11:32:32.936Z"
   },
   {
    "duration": 222,
    "start_time": "2022-06-01T11:33:12.209Z"
   },
   {
    "duration": 6,
    "start_time": "2022-06-01T11:33:15.896Z"
   },
   {
    "duration": 345,
    "start_time": "2022-06-01T11:33:30.232Z"
   },
   {
    "duration": 17,
    "start_time": "2022-06-01T11:33:32.640Z"
   },
   {
    "duration": 5,
    "start_time": "2022-06-01T11:33:36.960Z"
   },
   {
    "duration": 21,
    "start_time": "2022-06-01T11:37:44.255Z"
   },
   {
    "duration": 19,
    "start_time": "2022-06-01T11:38:28.552Z"
   },
   {
    "duration": 28,
    "start_time": "2022-06-02T02:26:09.522Z"
   },
   {
    "duration": 772,
    "start_time": "2022-06-02T02:26:20.377Z"
   },
   {
    "duration": 62,
    "start_time": "2022-06-02T02:26:21.151Z"
   },
   {
    "duration": 482,
    "start_time": "2022-06-02T02:26:21.215Z"
   },
   {
    "duration": 7,
    "start_time": "2022-06-02T02:26:21.698Z"
   },
   {
    "duration": 4,
    "start_time": "2022-06-02T02:26:21.708Z"
   },
   {
    "duration": 123,
    "start_time": "2022-06-02T02:26:21.713Z"
   },
   {
    "duration": 0,
    "start_time": "2022-06-02T02:26:21.838Z"
   },
   {
    "duration": 1080,
    "start_time": "2022-06-02T02:27:17.138Z"
   },
   {
    "duration": 60,
    "start_time": "2022-06-02T02:27:18.220Z"
   },
   {
    "duration": 230,
    "start_time": "2022-06-02T02:27:18.283Z"
   },
   {
    "duration": 13,
    "start_time": "2022-06-02T02:27:18.514Z"
   },
   {
    "duration": 6,
    "start_time": "2022-06-02T02:27:18.529Z"
   },
   {
    "duration": 605,
    "start_time": "2022-06-02T02:27:18.536Z"
   },
   {
    "duration": 9,
    "start_time": "2022-06-02T02:27:19.143Z"
   },
   {
    "duration": 603,
    "start_time": "2022-06-02T02:28:07.423Z"
   },
   {
    "duration": 541,
    "start_time": "2022-06-02T02:30:33.431Z"
   },
   {
    "duration": 681,
    "start_time": "2022-06-02T02:30:41.134Z"
   },
   {
    "duration": 684,
    "start_time": "2022-06-02T02:32:39.070Z"
   },
   {
    "duration": 710,
    "start_time": "2022-06-02T02:34:07.781Z"
   },
   {
    "duration": 971,
    "start_time": "2022-06-02T02:34:15.613Z"
   },
   {
    "duration": 750,
    "start_time": "2022-06-02T02:34:25.037Z"
   },
   {
    "duration": 769,
    "start_time": "2022-06-02T02:34:31.102Z"
   },
   {
    "duration": 872,
    "start_time": "2022-06-02T02:34:52.238Z"
   },
   {
    "duration": 733,
    "start_time": "2022-06-02T02:39:15.972Z"
   },
   {
    "duration": 614,
    "start_time": "2022-06-02T02:49:25.329Z"
   },
   {
    "duration": 718,
    "start_time": "2022-06-02T02:50:00.313Z"
   },
   {
    "duration": 5,
    "start_time": "2022-06-02T04:45:03.418Z"
   },
   {
    "duration": 19,
    "start_time": "2022-06-02T04:45:46.681Z"
   },
   {
    "duration": 278,
    "start_time": "2022-06-02T04:47:05.040Z"
   },
   {
    "duration": 7,
    "start_time": "2022-06-02T04:48:52.057Z"
   },
   {
    "duration": 21,
    "start_time": "2022-06-02T04:56:37.270Z"
   },
   {
    "duration": 11,
    "start_time": "2022-06-02T04:56:46.068Z"
   },
   {
    "duration": 18,
    "start_time": "2022-06-02T04:57:24.254Z"
   },
   {
    "duration": 7,
    "start_time": "2022-06-02T04:57:32.670Z"
   },
   {
    "duration": 11,
    "start_time": "2022-06-02T04:57:34.054Z"
   },
   {
    "duration": 6,
    "start_time": "2022-06-02T05:07:35.289Z"
   },
   {
    "duration": 4,
    "start_time": "2022-06-02T05:08:40.633Z"
   },
   {
    "duration": 4,
    "start_time": "2022-06-02T05:08:55.849Z"
   },
   {
    "duration": 384,
    "start_time": "2022-06-02T05:23:17.540Z"
   },
   {
    "duration": 17,
    "start_time": "2022-06-02T05:26:53.460Z"
   },
   {
    "duration": 5,
    "start_time": "2022-06-02T05:27:40.379Z"
   },
   {
    "duration": 1264,
    "start_time": "2022-06-02T05:35:45.825Z"
   },
   {
    "duration": 2668,
    "start_time": "2022-06-02T05:35:53.569Z"
   },
   {
    "duration": 14,
    "start_time": "2022-06-02T05:36:10.777Z"
   },
   {
    "duration": 1014,
    "start_time": "2022-06-02T05:37:32.920Z"
   },
   {
    "duration": 9,
    "start_time": "2022-06-02T05:37:36.640Z"
   },
   {
    "duration": 5,
    "start_time": "2022-06-02T05:37:49.480Z"
   },
   {
    "duration": 9,
    "start_time": "2022-06-02T05:37:51.728Z"
   },
   {
    "duration": 5,
    "start_time": "2022-06-02T05:39:22.624Z"
   },
   {
    "duration": 686,
    "start_time": "2022-06-02T05:50:49.349Z"
   },
   {
    "duration": 11,
    "start_time": "2022-06-02T05:50:53.133Z"
   },
   {
    "duration": 521,
    "start_time": "2022-06-02T05:50:58.117Z"
   },
   {
    "duration": 11,
    "start_time": "2022-06-02T05:51:00.685Z"
   },
   {
    "duration": 573,
    "start_time": "2022-06-02T05:51:10.661Z"
   },
   {
    "duration": 9,
    "start_time": "2022-06-02T05:51:13.333Z"
   },
   {
    "duration": 671,
    "start_time": "2022-06-02T05:51:18.261Z"
   },
   {
    "duration": 13,
    "start_time": "2022-06-02T05:51:20.734Z"
   },
   {
    "duration": 1022,
    "start_time": "2022-06-02T05:51:28.909Z"
   },
   {
    "duration": 677,
    "start_time": "2022-06-02T05:51:36.453Z"
   },
   {
    "duration": 7,
    "start_time": "2022-06-02T05:51:39.501Z"
   },
   {
    "duration": 648,
    "start_time": "2022-06-02T05:51:45.284Z"
   },
   {
    "duration": 9,
    "start_time": "2022-06-02T05:51:48.277Z"
   },
   {
    "duration": 680,
    "start_time": "2022-06-02T05:51:53.253Z"
   },
   {
    "duration": 17,
    "start_time": "2022-06-02T05:51:56.124Z"
   },
   {
    "duration": 9,
    "start_time": "2022-06-02T05:52:35.893Z"
   },
   {
    "duration": 1568,
    "start_time": "2022-06-03T02:55:34.396Z"
   },
   {
    "duration": 145,
    "start_time": "2022-06-03T02:55:39.032Z"
   },
   {
    "duration": 306,
    "start_time": "2022-06-03T02:55:40.706Z"
   },
   {
    "duration": 8,
    "start_time": "2022-06-03T02:55:42.547Z"
   },
   {
    "duration": 800,
    "start_time": "2022-06-03T02:55:44.373Z"
   },
   {
    "duration": 5,
    "start_time": "2022-06-03T02:55:47.975Z"
   },
   {
    "duration": 25,
    "start_time": "2022-06-03T02:55:49.069Z"
   },
   {
    "duration": 19,
    "start_time": "2022-06-03T02:55:59.617Z"
   },
   {
    "duration": 18,
    "start_time": "2022-06-03T02:56:09.050Z"
   },
   {
    "duration": 1187,
    "start_time": "2022-06-03T03:03:25.946Z"
   },
   {
    "duration": 88,
    "start_time": "2022-06-03T03:03:27.137Z"
   },
   {
    "duration": 347,
    "start_time": "2022-06-03T03:03:27.227Z"
   },
   {
    "duration": 8,
    "start_time": "2022-06-03T03:03:27.576Z"
   },
   {
    "duration": 761,
    "start_time": "2022-06-03T03:03:27.587Z"
   },
   {
    "duration": 5,
    "start_time": "2022-06-03T03:03:28.349Z"
   },
   {
    "duration": 41,
    "start_time": "2022-06-03T03:03:28.355Z"
   },
   {
    "duration": 3,
    "start_time": "2022-06-03T03:03:28.398Z"
   },
   {
    "duration": 147,
    "start_time": "2022-06-03T03:03:28.402Z"
   },
   {
    "duration": 0,
    "start_time": "2022-06-03T03:03:28.558Z"
   },
   {
    "duration": 0,
    "start_time": "2022-06-03T03:03:28.559Z"
   },
   {
    "duration": 0,
    "start_time": "2022-06-03T03:03:28.560Z"
   },
   {
    "duration": 0,
    "start_time": "2022-06-03T03:03:28.563Z"
   },
   {
    "duration": 0,
    "start_time": "2022-06-03T03:03:28.564Z"
   },
   {
    "duration": 0,
    "start_time": "2022-06-03T03:03:28.565Z"
   },
   {
    "duration": 0,
    "start_time": "2022-06-03T03:03:28.566Z"
   },
   {
    "duration": 0,
    "start_time": "2022-06-03T03:03:28.567Z"
   },
   {
    "duration": 3,
    "start_time": "2022-06-03T03:06:55.811Z"
   },
   {
    "duration": 3,
    "start_time": "2022-06-03T03:09:42.787Z"
   },
   {
    "duration": 12,
    "start_time": "2022-06-03T03:15:24.305Z"
   },
   {
    "duration": 11,
    "start_time": "2022-06-03T03:16:19.834Z"
   },
   {
    "duration": 10,
    "start_time": "2022-06-03T03:20:35.559Z"
   },
   {
    "duration": 6,
    "start_time": "2022-06-03T03:20:38.143Z"
   },
   {
    "duration": 18,
    "start_time": "2022-06-03T03:21:13.488Z"
   },
   {
    "duration": 4,
    "start_time": "2022-06-03T03:23:15.823Z"
   },
   {
    "duration": 23,
    "start_time": "2022-06-03T03:23:42.997Z"
   },
   {
    "duration": 1191,
    "start_time": "2022-06-03T03:24:13.675Z"
   },
   {
    "duration": 67,
    "start_time": "2022-06-03T03:24:14.868Z"
   },
   {
    "duration": 318,
    "start_time": "2022-06-03T03:24:14.937Z"
   },
   {
    "duration": 9,
    "start_time": "2022-06-03T03:24:15.256Z"
   },
   {
    "duration": 808,
    "start_time": "2022-06-03T03:24:15.268Z"
   },
   {
    "duration": 5,
    "start_time": "2022-06-03T03:24:16.078Z"
   },
   {
    "duration": 32,
    "start_time": "2022-06-03T03:24:16.085Z"
   },
   {
    "duration": 5,
    "start_time": "2022-06-03T03:24:16.119Z"
   },
   {
    "duration": 8,
    "start_time": "2022-06-03T03:24:16.126Z"
   },
   {
    "duration": 8,
    "start_time": "2022-06-03T03:24:16.135Z"
   },
   {
    "duration": 137,
    "start_time": "2022-06-03T03:24:16.145Z"
   },
   {
    "duration": 0,
    "start_time": "2022-06-03T03:24:16.284Z"
   },
   {
    "duration": 0,
    "start_time": "2022-06-03T03:24:16.286Z"
   },
   {
    "duration": 0,
    "start_time": "2022-06-03T03:24:16.288Z"
   },
   {
    "duration": 0,
    "start_time": "2022-06-03T03:24:16.289Z"
   },
   {
    "duration": 0,
    "start_time": "2022-06-03T03:24:16.290Z"
   },
   {
    "duration": 0,
    "start_time": "2022-06-03T03:24:16.292Z"
   },
   {
    "duration": 19,
    "start_time": "2022-06-03T03:24:39.274Z"
   },
   {
    "duration": 16,
    "start_time": "2022-06-03T03:25:48.434Z"
   },
   {
    "duration": 7,
    "start_time": "2022-06-03T03:29:55.177Z"
   },
   {
    "duration": 10,
    "start_time": "2022-06-03T03:30:57.376Z"
   },
   {
    "duration": 18,
    "start_time": "2022-06-03T03:32:00.586Z"
   },
   {
    "duration": 16,
    "start_time": "2022-06-03T03:32:09.753Z"
   },
   {
    "duration": 22,
    "start_time": "2022-06-03T03:32:16.672Z"
   },
   {
    "duration": 19,
    "start_time": "2022-06-03T03:38:28.054Z"
   },
   {
    "duration": 18,
    "start_time": "2022-06-03T03:39:16.241Z"
   },
   {
    "duration": 18,
    "start_time": "2022-06-03T03:39:25.846Z"
   },
   {
    "duration": 15,
    "start_time": "2022-06-03T03:40:01.183Z"
   },
   {
    "duration": 19,
    "start_time": "2022-06-03T03:40:10.389Z"
   },
   {
    "duration": 9,
    "start_time": "2022-06-03T03:43:05.333Z"
   },
   {
    "duration": 9,
    "start_time": "2022-06-03T03:43:07.597Z"
   },
   {
    "duration": 9,
    "start_time": "2022-06-03T03:43:28.461Z"
   },
   {
    "duration": 10,
    "start_time": "2022-06-03T03:48:59.633Z"
   },
   {
    "duration": 5,
    "start_time": "2022-06-03T03:49:04.833Z"
   },
   {
    "duration": 3,
    "start_time": "2022-06-03T03:49:10.361Z"
   },
   {
    "duration": 3,
    "start_time": "2022-06-03T03:54:47.014Z"
   },
   {
    "duration": 4,
    "start_time": "2022-06-03T03:59:01.580Z"
   },
   {
    "duration": 14,
    "start_time": "2022-06-03T04:01:50.907Z"
   },
   {
    "duration": 26,
    "start_time": "2022-06-03T04:01:58.939Z"
   },
   {
    "duration": 22,
    "start_time": "2022-06-03T04:02:25.035Z"
   },
   {
    "duration": 15,
    "start_time": "2022-06-03T04:14:23.110Z"
   },
   {
    "duration": 429,
    "start_time": "2022-06-03T04:14:39.279Z"
   },
   {
    "duration": 122,
    "start_time": "2022-06-03T04:15:30.254Z"
   },
   {
    "duration": 15,
    "start_time": "2022-06-03T04:16:32.694Z"
   },
   {
    "duration": 89,
    "start_time": "2022-06-03T04:16:42.998Z"
   },
   {
    "duration": 4,
    "start_time": "2022-06-03T04:17:19.237Z"
   },
   {
    "duration": 4,
    "start_time": "2022-06-03T04:17:22.469Z"
   },
   {
    "duration": 11,
    "start_time": "2022-06-03T04:18:37.155Z"
   },
   {
    "duration": 4,
    "start_time": "2022-06-03T04:18:56.581Z"
   },
   {
    "duration": 3,
    "start_time": "2022-06-03T04:19:09.302Z"
   },
   {
    "duration": 12,
    "start_time": "2022-06-03T04:20:06.030Z"
   },
   {
    "duration": 11,
    "start_time": "2022-06-03T04:20:13.175Z"
   },
   {
    "duration": 4,
    "start_time": "2022-06-03T04:20:48.478Z"
   },
   {
    "duration": 5,
    "start_time": "2022-06-03T04:33:27.311Z"
   },
   {
    "duration": 1197,
    "start_time": "2022-06-03T04:33:48.752Z"
   },
   {
    "duration": 65,
    "start_time": "2022-06-03T04:33:49.951Z"
   },
   {
    "duration": 328,
    "start_time": "2022-06-03T04:33:50.018Z"
   },
   {
    "duration": 11,
    "start_time": "2022-06-03T04:33:50.348Z"
   },
   {
    "duration": 790,
    "start_time": "2022-06-03T04:33:50.362Z"
   },
   {
    "duration": 4,
    "start_time": "2022-06-03T04:33:51.154Z"
   },
   {
    "duration": 40,
    "start_time": "2022-06-03T04:33:51.159Z"
   },
   {
    "duration": 24,
    "start_time": "2022-06-03T04:33:51.201Z"
   },
   {
    "duration": 27,
    "start_time": "2022-06-03T04:33:51.227Z"
   },
   {
    "duration": 15,
    "start_time": "2022-06-03T04:33:51.256Z"
   },
   {
    "duration": 16,
    "start_time": "2022-06-03T04:33:51.273Z"
   },
   {
    "duration": 33,
    "start_time": "2022-06-03T04:33:51.290Z"
   },
   {
    "duration": 9,
    "start_time": "2022-06-03T04:33:51.324Z"
   },
   {
    "duration": 25,
    "start_time": "2022-06-03T04:33:51.336Z"
   },
   {
    "duration": 1303,
    "start_time": "2022-06-03T04:33:51.362Z"
   },
   {
    "duration": 4,
    "start_time": "2022-06-03T04:33:52.667Z"
   },
   {
    "duration": 27,
    "start_time": "2022-06-03T04:33:52.673Z"
   },
   {
    "duration": 63,
    "start_time": "2022-06-03T04:33:52.702Z"
   },
   {
    "duration": 1100,
    "start_time": "2022-06-03T04:34:08.368Z"
   },
   {
    "duration": 13,
    "start_time": "2022-06-03T04:34:14.897Z"
   },
   {
    "duration": 1307,
    "start_time": "2022-06-03T04:34:23.552Z"
   },
   {
    "duration": 9,
    "start_time": "2022-06-03T04:34:27.632Z"
   },
   {
    "duration": 1458,
    "start_time": "2022-06-03T04:42:35.556Z"
   },
   {
    "duration": 85,
    "start_time": "2022-06-03T04:42:37.016Z"
   },
   {
    "duration": 434,
    "start_time": "2022-06-03T04:42:37.104Z"
   },
   {
    "duration": 11,
    "start_time": "2022-06-03T04:42:37.540Z"
   },
   {
    "duration": 884,
    "start_time": "2022-06-03T04:42:37.560Z"
   },
   {
    "duration": 5,
    "start_time": "2022-06-03T04:42:38.446Z"
   },
   {
    "duration": 38,
    "start_time": "2022-06-03T04:42:38.453Z"
   },
   {
    "duration": 13,
    "start_time": "2022-06-03T04:42:38.492Z"
   },
   {
    "duration": 3,
    "start_time": "2022-06-03T04:42:38.507Z"
   },
   {
    "duration": 8,
    "start_time": "2022-06-03T04:42:38.512Z"
   },
   {
    "duration": 8,
    "start_time": "2022-06-03T04:42:38.522Z"
   },
   {
    "duration": 6,
    "start_time": "2022-06-03T04:42:38.532Z"
   },
   {
    "duration": 173,
    "start_time": "2022-06-03T04:42:38.540Z"
   },
   {
    "duration": 0,
    "start_time": "2022-06-03T04:42:38.715Z"
   },
   {
    "duration": 0,
    "start_time": "2022-06-03T04:42:38.718Z"
   },
   {
    "duration": 0,
    "start_time": "2022-06-03T04:42:38.719Z"
   },
   {
    "duration": 0,
    "start_time": "2022-06-03T04:42:38.721Z"
   },
   {
    "duration": 0,
    "start_time": "2022-06-03T04:42:38.722Z"
   },
   {
    "duration": 13,
    "start_time": "2022-06-03T04:45:31.623Z"
   },
   {
    "duration": 4,
    "start_time": "2022-06-03T04:46:11.974Z"
   },
   {
    "duration": 67,
    "start_time": "2022-06-03T04:46:14.878Z"
   },
   {
    "duration": 261,
    "start_time": "2022-06-03T04:46:18.639Z"
   },
   {
    "duration": 8,
    "start_time": "2022-06-03T04:46:20.823Z"
   },
   {
    "duration": 871,
    "start_time": "2022-06-03T04:46:22.431Z"
   },
   {
    "duration": 5,
    "start_time": "2022-06-03T04:46:25.862Z"
   },
   {
    "duration": 29,
    "start_time": "2022-06-03T04:46:26.951Z"
   },
   {
    "duration": 12,
    "start_time": "2022-06-03T04:46:31.439Z"
   },
   {
    "duration": 3,
    "start_time": "2022-06-03T04:46:34.374Z"
   },
   {
    "duration": 11,
    "start_time": "2022-06-03T04:46:55.350Z"
   },
   {
    "duration": 12,
    "start_time": "2022-06-03T04:48:37.598Z"
   },
   {
    "duration": 3,
    "start_time": "2022-06-03T04:49:42.696Z"
   },
   {
    "duration": 4,
    "start_time": "2022-06-03T04:51:18.525Z"
   },
   {
    "duration": 12,
    "start_time": "2022-06-03T04:52:53.430Z"
   },
   {
    "duration": 10,
    "start_time": "2022-06-03T04:53:54.069Z"
   },
   {
    "duration": 5,
    "start_time": "2022-06-03T04:54:29.428Z"
   },
   {
    "duration": 10,
    "start_time": "2022-06-03T04:54:35.956Z"
   },
   {
    "duration": 13,
    "start_time": "2022-06-03T04:55:08.029Z"
   },
   {
    "duration": 3,
    "start_time": "2022-06-03T04:55:12.580Z"
   },
   {
    "duration": 3,
    "start_time": "2022-06-03T04:55:14.908Z"
   },
   {
    "duration": 4,
    "start_time": "2022-06-03T04:55:15.723Z"
   },
   {
    "duration": 13,
    "start_time": "2022-06-03T04:55:20.547Z"
   },
   {
    "duration": 11,
    "start_time": "2022-06-03T04:55:31.708Z"
   },
   {
    "duration": 4,
    "start_time": "2022-06-03T04:58:43.185Z"
   },
   {
    "duration": 3,
    "start_time": "2022-06-03T04:58:52.163Z"
   },
   {
    "duration": 11,
    "start_time": "2022-06-03T04:59:36.401Z"
   },
   {
    "duration": 8,
    "start_time": "2022-06-03T05:00:01.610Z"
   },
   {
    "duration": 9,
    "start_time": "2022-06-03T05:01:26.233Z"
   },
   {
    "duration": 5,
    "start_time": "2022-06-03T05:01:36.673Z"
   },
   {
    "duration": 12,
    "start_time": "2022-06-03T05:02:15.848Z"
   },
   {
    "duration": 5,
    "start_time": "2022-06-03T05:02:20.520Z"
   },
   {
    "duration": 13,
    "start_time": "2022-06-03T05:02:29.272Z"
   },
   {
    "duration": 5,
    "start_time": "2022-06-03T05:02:31.864Z"
   },
   {
    "duration": 5,
    "start_time": "2022-06-03T05:03:01.286Z"
   },
   {
    "duration": 4,
    "start_time": "2022-06-03T05:03:04.168Z"
   },
   {
    "duration": 5,
    "start_time": "2022-06-03T05:23:05.274Z"
   },
   {
    "duration": 3,
    "start_time": "2022-06-03T05:25:38.176Z"
   },
   {
    "duration": 6,
    "start_time": "2022-06-03T05:26:22.168Z"
   },
   {
    "duration": 8,
    "start_time": "2022-06-03T05:26:56.640Z"
   },
   {
    "duration": 76138,
    "start_time": "2022-06-03T05:27:39.424Z"
   },
   {
    "duration": 11,
    "start_time": "2022-06-03T05:29:57.038Z"
   },
   {
    "duration": 2,
    "start_time": "2022-06-03T05:30:46.511Z"
   },
   {
    "duration": 2,
    "start_time": "2022-06-03T05:30:48.934Z"
   },
   {
    "duration": 4,
    "start_time": "2022-06-03T05:30:54.517Z"
   },
   {
    "duration": 3,
    "start_time": "2022-06-03T05:30:56.782Z"
   },
   {
    "duration": 1174,
    "start_time": "2022-06-03T05:30:59.086Z"
   },
   {
    "duration": 8,
    "start_time": "2022-06-03T05:31:03.141Z"
   },
   {
    "duration": 3,
    "start_time": "2022-06-03T05:31:51.558Z"
   },
   {
    "duration": 3,
    "start_time": "2022-06-03T05:31:52.430Z"
   },
   {
    "duration": 3,
    "start_time": "2022-06-03T05:31:53.278Z"
   },
   {
    "duration": 3,
    "start_time": "2022-06-03T05:31:54.221Z"
   },
   {
    "duration": 3,
    "start_time": "2022-06-03T05:32:09.621Z"
   },
   {
    "duration": 4743,
    "start_time": "2022-06-03T05:32:11.325Z"
   },
   {
    "duration": 8,
    "start_time": "2022-06-03T05:32:17.293Z"
   },
   {
    "duration": 10,
    "start_time": "2022-06-03T05:36:09.364Z"
   },
   {
    "duration": 3,
    "start_time": "2022-06-03T05:36:16.196Z"
   },
   {
    "duration": 4,
    "start_time": "2022-06-03T05:36:46.387Z"
   },
   {
    "duration": 4,
    "start_time": "2022-06-03T05:36:58.523Z"
   },
   {
    "duration": 3,
    "start_time": "2022-06-03T05:37:14.123Z"
   },
   {
    "duration": 4,
    "start_time": "2022-06-03T05:37:43.251Z"
   },
   {
    "duration": 9,
    "start_time": "2022-06-03T05:40:51.730Z"
   },
   {
    "duration": 14,
    "start_time": "2022-06-03T05:42:55.739Z"
   },
   {
    "duration": 8,
    "start_time": "2022-06-03T05:43:04.225Z"
   },
   {
    "duration": 4,
    "start_time": "2022-06-03T05:44:02.489Z"
   },
   {
    "duration": 6,
    "start_time": "2022-06-03T05:44:05.529Z"
   },
   {
    "duration": 10,
    "start_time": "2022-06-03T05:44:41.713Z"
   },
   {
    "duration": 5,
    "start_time": "2022-06-03T05:45:03.937Z"
   },
   {
    "duration": 5,
    "start_time": "2022-06-03T05:45:24.025Z"
   },
   {
    "duration": 1347,
    "start_time": "2022-06-03T05:50:25.835Z"
   },
   {
    "duration": 86,
    "start_time": "2022-06-03T05:50:27.185Z"
   },
   {
    "duration": 428,
    "start_time": "2022-06-03T05:50:27.274Z"
   },
   {
    "duration": 8,
    "start_time": "2022-06-03T05:50:27.705Z"
   },
   {
    "duration": 964,
    "start_time": "2022-06-03T05:50:27.716Z"
   },
   {
    "duration": 5,
    "start_time": "2022-06-03T05:50:28.682Z"
   },
   {
    "duration": 30,
    "start_time": "2022-06-03T05:50:28.689Z"
   },
   {
    "duration": 11,
    "start_time": "2022-06-03T05:50:28.721Z"
   },
   {
    "duration": 18,
    "start_time": "2022-06-03T05:50:28.733Z"
   },
   {
    "duration": 7,
    "start_time": "2022-06-03T05:50:28.753Z"
   },
   {
    "duration": 31,
    "start_time": "2022-06-03T05:50:28.762Z"
   },
   {
    "duration": 14,
    "start_time": "2022-06-03T05:50:28.796Z"
   },
   {
    "duration": 7,
    "start_time": "2022-06-03T05:50:28.813Z"
   },
   {
    "duration": 9,
    "start_time": "2022-06-03T05:50:28.823Z"
   },
   {
    "duration": 11,
    "start_time": "2022-06-03T05:50:28.834Z"
   },
   {
    "duration": 7,
    "start_time": "2022-06-03T05:50:28.847Z"
   },
   {
    "duration": 12,
    "start_time": "2022-06-03T05:50:28.855Z"
   },
   {
    "duration": 2748296,
    "start_time": "2022-06-03T05:50:28.869Z"
   },
   {
    "duration": 5,
    "start_time": "2022-06-03T06:36:17.167Z"
   },
   {
    "duration": 22,
    "start_time": "2022-06-03T06:36:17.173Z"
   },
   {
    "duration": 22,
    "start_time": "2022-06-03T06:36:17.197Z"
   },
   {
    "duration": 43,
    "start_time": "2022-06-03T06:36:17.221Z"
   },
   {
    "duration": 5,
    "start_time": "2022-06-03T06:45:52.576Z"
   },
   {
    "duration": 3,
    "start_time": "2022-06-03T06:45:53.707Z"
   },
   {
    "duration": 4,
    "start_time": "2022-06-03T06:45:57.784Z"
   },
   {
    "duration": 352764,
    "start_time": "2022-06-03T06:45:58.618Z"
   },
   {
    "duration": 6,
    "start_time": "2022-06-03T06:51:51.392Z"
   },
   {
    "duration": 93,
    "start_time": "2022-06-03T06:51:51.400Z"
   },
   {
    "duration": 16,
    "start_time": "2022-06-03T06:51:51.495Z"
   },
   {
    "duration": 3,
    "start_time": "2022-06-03T06:52:30.704Z"
   },
   {
    "duration": 3,
    "start_time": "2022-06-03T06:52:31.383Z"
   },
   {
    "duration": 4,
    "start_time": "2022-06-03T06:52:32.016Z"
   },
   {
    "duration": 3,
    "start_time": "2022-06-03T06:52:32.712Z"
   },
   {
    "duration": 79327,
    "start_time": "2022-06-03T06:52:33.456Z"
   },
   {
    "duration": 3,
    "start_time": "2022-06-03T06:53:52.785Z"
   },
   {
    "duration": 9,
    "start_time": "2022-06-03T06:53:52.859Z"
   },
   {
    "duration": 11,
    "start_time": "2022-06-03T06:53:52.876Z"
   },
   {
    "duration": 11,
    "start_time": "2022-06-03T08:18:13.655Z"
   },
   {
    "duration": 23,
    "start_time": "2022-06-03T08:18:21.647Z"
   },
   {
    "duration": 131,
    "start_time": "2022-06-03T08:19:04.108Z"
   },
   {
    "duration": 12,
    "start_time": "2022-06-03T08:19:13.535Z"
   },
   {
    "duration": 1273,
    "start_time": "2022-06-03T08:21:41.262Z"
   },
   {
    "duration": 70,
    "start_time": "2022-06-03T08:21:42.537Z"
   },
   {
    "duration": 14,
    "start_time": "2022-06-03T08:21:42.608Z"
   },
   {
    "duration": 102,
    "start_time": "2022-06-03T08:21:42.624Z"
   },
   {
    "duration": 866,
    "start_time": "2022-06-03T08:21:42.728Z"
   },
   {
    "duration": 5,
    "start_time": "2022-06-03T08:21:43.596Z"
   },
   {
    "duration": 31,
    "start_time": "2022-06-03T08:21:43.603Z"
   },
   {
    "duration": 10,
    "start_time": "2022-06-03T08:21:43.636Z"
   },
   {
    "duration": 14,
    "start_time": "2022-06-03T08:21:43.648Z"
   },
   {
    "duration": 11,
    "start_time": "2022-06-03T08:21:43.665Z"
   },
   {
    "duration": 12,
    "start_time": "2022-06-03T08:21:43.678Z"
   },
   {
    "duration": 9,
    "start_time": "2022-06-03T08:21:43.692Z"
   },
   {
    "duration": 7,
    "start_time": "2022-06-03T08:21:43.703Z"
   },
   {
    "duration": 4,
    "start_time": "2022-06-03T08:21:43.714Z"
   },
   {
    "duration": 6,
    "start_time": "2022-06-03T08:21:43.720Z"
   },
   {
    "duration": 8,
    "start_time": "2022-06-03T08:21:43.728Z"
   },
   {
    "duration": 13,
    "start_time": "2022-06-03T08:21:43.738Z"
   },
   {
    "duration": 0,
    "start_time": "2022-06-03T08:21:43.759Z"
   },
   {
    "duration": 0,
    "start_time": "2022-06-03T08:21:43.760Z"
   },
   {
    "duration": 0,
    "start_time": "2022-06-03T08:21:43.761Z"
   },
   {
    "duration": 0,
    "start_time": "2022-06-03T08:21:43.764Z"
   },
   {
    "duration": 0,
    "start_time": "2022-06-03T08:21:43.766Z"
   },
   {
    "duration": 3,
    "start_time": "2022-06-03T08:25:34.013Z"
   },
   {
    "duration": 910394,
    "start_time": "2022-06-03T08:25:36.685Z"
   },
   {
    "duration": 5,
    "start_time": "2022-06-03T08:40:47.081Z"
   },
   {
    "duration": 6,
    "start_time": "2022-06-03T08:40:47.160Z"
   },
   {
    "duration": 47,
    "start_time": "2022-06-03T08:40:47.167Z"
   },
   {
    "duration": 55,
    "start_time": "2022-06-03T08:40:47.216Z"
   },
   {
    "duration": 55,
    "start_time": "2022-06-03T08:48:19.591Z"
   },
   {
    "duration": 3,
    "start_time": "2022-06-03T09:09:07.707Z"
   },
   {
    "duration": 4,
    "start_time": "2022-06-03T09:09:09.707Z"
   },
   {
    "duration": 5,
    "start_time": "2022-06-03T09:09:12.331Z"
   },
   {
    "duration": 44,
    "start_time": "2022-06-03T09:09:23.315Z"
   },
   {
    "duration": 143,
    "start_time": "2022-06-03T09:09:35.285Z"
   },
   {
    "duration": 3,
    "start_time": "2022-06-03T09:09:56.987Z"
   },
   {
    "duration": 3,
    "start_time": "2022-06-03T09:09:57.691Z"
   },
   {
    "duration": 3,
    "start_time": "2022-06-03T09:09:58.427Z"
   },
   {
    "duration": 5,
    "start_time": "2022-06-03T09:10:00.176Z"
   },
   {
    "duration": 4,
    "start_time": "2022-06-03T09:10:05.673Z"
   },
   {
    "duration": 29,
    "start_time": "2022-06-03T09:10:10.151Z"
   },
   {
    "duration": 12,
    "start_time": "2022-06-03T09:10:18.274Z"
   },
   {
    "duration": 4,
    "start_time": "2022-06-03T09:10:30.595Z"
   },
   {
    "duration": 27,
    "start_time": "2022-06-03T09:10:39.765Z"
   },
   {
    "duration": 5,
    "start_time": "2022-06-03T09:10:53.123Z"
   },
   {
    "duration": 1203,
    "start_time": "2022-06-03T11:34:30.092Z"
   },
   {
    "duration": 67,
    "start_time": "2022-06-03T11:34:31.297Z"
   },
   {
    "duration": 17,
    "start_time": "2022-06-03T11:34:31.366Z"
   },
   {
    "duration": 108,
    "start_time": "2022-06-03T11:34:31.386Z"
   },
   {
    "duration": 820,
    "start_time": "2022-06-03T11:34:31.496Z"
   },
   {
    "duration": 5,
    "start_time": "2022-06-03T11:34:32.318Z"
   },
   {
    "duration": 41,
    "start_time": "2022-06-03T11:34:32.325Z"
   },
   {
    "duration": 11,
    "start_time": "2022-06-03T11:34:32.369Z"
   },
   {
    "duration": 22,
    "start_time": "2022-06-03T11:34:32.383Z"
   },
   {
    "duration": 22,
    "start_time": "2022-06-03T11:34:32.408Z"
   },
   {
    "duration": 9,
    "start_time": "2022-06-03T11:34:32.432Z"
   },
   {
    "duration": 12,
    "start_time": "2022-06-03T11:34:32.443Z"
   },
   {
    "duration": 12,
    "start_time": "2022-06-03T11:34:32.457Z"
   },
   {
    "duration": 22,
    "start_time": "2022-06-03T11:34:32.471Z"
   },
   {
    "duration": 965266,
    "start_time": "2022-06-03T11:34:32.496Z"
   },
   {
    "duration": 4,
    "start_time": "2022-06-03T11:50:37.764Z"
   },
   {
    "duration": 21,
    "start_time": "2022-06-03T11:50:37.770Z"
   },
   {
    "duration": 22,
    "start_time": "2022-06-03T11:50:37.793Z"
   },
   {
    "duration": 44,
    "start_time": "2022-06-03T11:50:37.817Z"
   },
   {
    "duration": 26,
    "start_time": "2022-06-03T14:44:28.285Z"
   },
   {
    "duration": 3,
    "start_time": "2022-06-04T07:30:23.219Z"
   },
   {
    "duration": 1338,
    "start_time": "2022-06-04T07:37:08.929Z"
   },
   {
    "duration": 72,
    "start_time": "2022-06-04T07:37:10.278Z"
   },
   {
    "duration": 37,
    "start_time": "2022-06-04T07:37:10.352Z"
   },
   {
    "duration": 10,
    "start_time": "2022-06-04T07:37:10.399Z"
   },
   {
    "duration": 770,
    "start_time": "2022-06-04T07:37:10.410Z"
   },
   {
    "duration": 4,
    "start_time": "2022-06-04T07:37:11.182Z"
   },
   {
    "duration": 41,
    "start_time": "2022-06-04T07:37:11.188Z"
   },
   {
    "duration": 11,
    "start_time": "2022-06-04T07:37:11.231Z"
   },
   {
    "duration": 6,
    "start_time": "2022-06-04T07:37:11.244Z"
   },
   {
    "duration": 11,
    "start_time": "2022-06-04T07:37:11.265Z"
   },
   {
    "duration": 27,
    "start_time": "2022-06-04T07:37:11.278Z"
   },
   {
    "duration": 6,
    "start_time": "2022-06-04T07:37:11.307Z"
   },
   {
    "duration": 6,
    "start_time": "2022-06-04T07:37:11.315Z"
   },
   {
    "duration": 6,
    "start_time": "2022-06-04T07:37:11.322Z"
   },
   {
    "duration": 180250,
    "start_time": "2022-06-04T07:37:11.329Z"
   },
   {
    "duration": 11,
    "start_time": "2022-06-04T07:40:11.581Z"
   },
   {
    "duration": 10,
    "start_time": "2022-06-04T07:40:11.594Z"
   },
   {
    "duration": 86,
    "start_time": "2022-06-04T07:40:11.605Z"
   },
   {
    "duration": 9,
    "start_time": "2022-06-04T07:40:11.693Z"
   },
   {
    "duration": 1339,
    "start_time": "2022-06-04T07:45:10.983Z"
   },
   {
    "duration": 74,
    "start_time": "2022-06-04T07:45:12.324Z"
   },
   {
    "duration": 12,
    "start_time": "2022-06-04T07:45:12.399Z"
   },
   {
    "duration": 9,
    "start_time": "2022-06-04T07:45:12.412Z"
   },
   {
    "duration": 880,
    "start_time": "2022-06-04T07:45:12.424Z"
   },
   {
    "duration": 4,
    "start_time": "2022-06-04T07:45:13.306Z"
   },
   {
    "duration": 28,
    "start_time": "2022-06-04T07:45:13.311Z"
   },
   {
    "duration": 9,
    "start_time": "2022-06-04T07:45:13.340Z"
   },
   {
    "duration": 10,
    "start_time": "2022-06-04T07:45:13.351Z"
   },
   {
    "duration": 27,
    "start_time": "2022-06-04T07:45:13.364Z"
   },
   {
    "duration": 6,
    "start_time": "2022-06-04T07:45:13.392Z"
   },
   {
    "duration": 6,
    "start_time": "2022-06-04T07:45:13.399Z"
   },
   {
    "duration": 6,
    "start_time": "2022-06-04T07:45:13.406Z"
   },
   {
    "duration": 7,
    "start_time": "2022-06-04T07:45:13.414Z"
   },
   {
    "duration": 1330,
    "start_time": "2022-06-05T08:23:23.116Z"
   },
   {
    "duration": 80,
    "start_time": "2022-06-05T08:23:24.449Z"
   },
   {
    "duration": 17,
    "start_time": "2022-06-05T08:23:24.531Z"
   },
   {
    "duration": 17,
    "start_time": "2022-06-05T08:23:24.550Z"
   },
   {
    "duration": 857,
    "start_time": "2022-06-05T08:23:24.569Z"
   },
   {
    "duration": 5,
    "start_time": "2022-06-05T08:23:25.428Z"
   },
   {
    "duration": 32,
    "start_time": "2022-06-05T08:23:25.434Z"
   },
   {
    "duration": 13,
    "start_time": "2022-06-05T08:23:25.469Z"
   },
   {
    "duration": 7,
    "start_time": "2022-06-05T08:23:25.483Z"
   },
   {
    "duration": 5,
    "start_time": "2022-06-05T08:23:25.493Z"
   },
   {
    "duration": 6,
    "start_time": "2022-06-05T08:23:25.499Z"
   },
   {
    "duration": 5,
    "start_time": "2022-06-05T08:23:25.507Z"
   },
   {
    "duration": 45,
    "start_time": "2022-06-05T08:23:25.514Z"
   },
   {
    "duration": 21,
    "start_time": "2022-06-05T08:23:25.563Z"
   },
   {
    "duration": 2332957,
    "start_time": "2022-06-05T08:23:25.586Z"
   },
   {
    "duration": 0,
    "start_time": "2022-06-05T09:02:18.545Z"
   },
   {
    "duration": 0,
    "start_time": "2022-06-05T09:02:18.547Z"
   },
   {
    "duration": 0,
    "start_time": "2022-06-05T09:02:18.559Z"
   },
   {
    "duration": 0,
    "start_time": "2022-06-05T09:02:18.560Z"
   },
   {
    "duration": 1264,
    "start_time": "2022-06-05T09:02:50.981Z"
   },
   {
    "duration": 65,
    "start_time": "2022-06-05T09:02:52.246Z"
   },
   {
    "duration": 13,
    "start_time": "2022-06-05T09:02:52.312Z"
   },
   {
    "duration": 8,
    "start_time": "2022-06-05T09:02:52.327Z"
   },
   {
    "duration": 844,
    "start_time": "2022-06-05T09:02:52.336Z"
   },
   {
    "duration": 4,
    "start_time": "2022-06-05T09:02:53.182Z"
   },
   {
    "duration": 31,
    "start_time": "2022-06-05T09:02:53.188Z"
   },
   {
    "duration": 9,
    "start_time": "2022-06-05T09:02:53.221Z"
   },
   {
    "duration": 5,
    "start_time": "2022-06-05T09:02:53.232Z"
   },
   {
    "duration": 7,
    "start_time": "2022-06-05T09:02:53.239Z"
   },
   {
    "duration": 12,
    "start_time": "2022-06-05T09:02:53.248Z"
   },
   {
    "duration": 19,
    "start_time": "2022-06-05T09:02:53.262Z"
   },
   {
    "duration": 8,
    "start_time": "2022-06-05T09:02:53.283Z"
   },
   {
    "duration": 27,
    "start_time": "2022-06-05T09:02:53.293Z"
   },
   {
    "duration": 1796157,
    "start_time": "2022-06-05T09:02:53.322Z"
   },
   {
    "duration": 5,
    "start_time": "2022-06-05T09:32:49.480Z"
   },
   {
    "duration": 9,
    "start_time": "2022-06-05T09:32:49.486Z"
   },
   {
    "duration": 66,
    "start_time": "2022-06-05T09:32:49.497Z"
   },
   {
    "duration": 23,
    "start_time": "2022-06-05T09:32:49.565Z"
   },
   {
    "duration": 1311,
    "start_time": "2022-06-05T11:24:30.729Z"
   },
   {
    "duration": 71,
    "start_time": "2022-06-05T11:24:32.043Z"
   },
   {
    "duration": 13,
    "start_time": "2022-06-05T11:24:32.116Z"
   },
   {
    "duration": 14,
    "start_time": "2022-06-05T11:24:32.132Z"
   },
   {
    "duration": 866,
    "start_time": "2022-06-05T11:24:32.147Z"
   },
   {
    "duration": 6,
    "start_time": "2022-06-05T11:24:33.015Z"
   },
   {
    "duration": 45,
    "start_time": "2022-06-05T11:24:33.023Z"
   },
   {
    "duration": 12,
    "start_time": "2022-06-05T11:24:33.070Z"
   },
   {
    "duration": 12,
    "start_time": "2022-06-05T11:24:33.084Z"
   },
   {
    "duration": 6,
    "start_time": "2022-06-05T11:24:33.099Z"
   },
   {
    "duration": 5,
    "start_time": "2022-06-05T11:24:33.107Z"
   },
   {
    "duration": 16,
    "start_time": "2022-06-05T11:24:33.114Z"
   },
   {
    "duration": 27,
    "start_time": "2022-06-05T11:24:33.132Z"
   },
   {
    "duration": 16,
    "start_time": "2022-06-05T11:24:33.162Z"
   },
   {
    "duration": 3549296,
    "start_time": "2022-06-05T11:24:33.180Z"
   },
   {
    "duration": 6,
    "start_time": "2022-06-05T12:23:42.479Z"
   },
   {
    "duration": 74,
    "start_time": "2022-06-05T12:23:42.486Z"
   },
   {
    "duration": 27,
    "start_time": "2022-06-05T12:23:42.563Z"
   },
   {
    "duration": 67,
    "start_time": "2022-06-05T12:23:42.592Z"
   },
   {
    "duration": 1351,
    "start_time": "2022-06-05T14:11:18.372Z"
   },
   {
    "duration": 67,
    "start_time": "2022-06-05T14:11:19.725Z"
   },
   {
    "duration": 14,
    "start_time": "2022-06-05T14:11:19.794Z"
   },
   {
    "duration": 12,
    "start_time": "2022-06-05T14:11:19.811Z"
   },
   {
    "duration": 851,
    "start_time": "2022-06-05T14:11:19.826Z"
   },
   {
    "duration": 7,
    "start_time": "2022-06-05T14:11:20.679Z"
   },
   {
    "duration": 31,
    "start_time": "2022-06-05T14:11:20.688Z"
   },
   {
    "duration": 9,
    "start_time": "2022-06-05T14:11:20.720Z"
   },
   {
    "duration": 10,
    "start_time": "2022-06-05T14:11:20.731Z"
   },
   {
    "duration": 16,
    "start_time": "2022-06-05T14:11:20.743Z"
   },
   {
    "duration": 22,
    "start_time": "2022-06-05T14:11:20.761Z"
   },
   {
    "duration": 7,
    "start_time": "2022-06-05T14:11:20.785Z"
   },
   {
    "duration": 7,
    "start_time": "2022-06-05T14:11:20.794Z"
   },
   {
    "duration": 6,
    "start_time": "2022-06-05T14:11:20.803Z"
   },
   {
    "duration": 3936149,
    "start_time": "2022-06-05T14:11:20.811Z"
   },
   {
    "duration": 6,
    "start_time": "2022-06-05T15:16:56.963Z"
   },
   {
    "duration": 17,
    "start_time": "2022-06-05T15:16:56.971Z"
   },
   {
    "duration": 9,
    "start_time": "2022-06-05T15:16:56.990Z"
   },
   {
    "duration": 62,
    "start_time": "2022-06-05T15:16:57.001Z"
   },
   {
    "duration": 1250,
    "start_time": "2022-06-05T15:22:43.081Z"
   },
   {
    "duration": 68,
    "start_time": "2022-06-05T15:22:44.333Z"
   },
   {
    "duration": 12,
    "start_time": "2022-06-05T15:22:44.402Z"
   },
   {
    "duration": 11,
    "start_time": "2022-06-05T15:22:44.415Z"
   },
   {
    "duration": 796,
    "start_time": "2022-06-05T15:22:44.428Z"
   },
   {
    "duration": 5,
    "start_time": "2022-06-05T15:22:45.226Z"
   },
   {
    "duration": 28,
    "start_time": "2022-06-05T15:22:45.232Z"
   },
   {
    "duration": 13,
    "start_time": "2022-06-05T15:22:45.263Z"
   },
   {
    "duration": 4,
    "start_time": "2022-06-05T15:22:45.278Z"
   },
   {
    "duration": 6,
    "start_time": "2022-06-05T15:22:45.283Z"
   },
   {
    "duration": 5,
    "start_time": "2022-06-05T15:22:45.291Z"
   },
   {
    "duration": 6,
    "start_time": "2022-06-05T15:22:45.297Z"
   },
   {
    "duration": 7,
    "start_time": "2022-06-05T15:22:45.304Z"
   },
   {
    "duration": 5,
    "start_time": "2022-06-05T15:22:45.314Z"
   },
   {
    "duration": 28761,
    "start_time": "2022-06-05T15:22:45.321Z"
   },
   {
    "duration": 5,
    "start_time": "2022-06-05T15:23:14.084Z"
   },
   {
    "duration": 10,
    "start_time": "2022-06-05T15:23:14.090Z"
   },
   {
    "duration": 7,
    "start_time": "2022-06-05T15:23:14.101Z"
   },
   {
    "duration": 20,
    "start_time": "2022-06-05T15:23:14.160Z"
   },
   {
    "duration": 265,
    "start_time": "2022-06-05T15:29:57.515Z"
   },
   {
    "duration": 109,
    "start_time": "2022-06-05T15:30:36.194Z"
   },
   {
    "duration": 173,
    "start_time": "2022-06-05T15:30:41.842Z"
   },
   {
    "duration": 148,
    "start_time": "2022-06-05T15:30:49.786Z"
   },
   {
    "duration": 195,
    "start_time": "2022-06-05T15:30:57.283Z"
   },
   {
    "duration": 156,
    "start_time": "2022-06-05T15:31:03.257Z"
   },
   {
    "duration": 252,
    "start_time": "2022-06-05T15:31:40.457Z"
   },
   {
    "duration": 2172,
    "start_time": "2022-06-05T15:32:05.445Z"
   },
   {
    "duration": 8,
    "start_time": "2022-06-05T15:32:59.074Z"
   },
   {
    "duration": 2309,
    "start_time": "2022-06-05T15:34:00.118Z"
   },
   {
    "duration": 2214,
    "start_time": "2022-06-05T15:34:26.039Z"
   },
   {
    "duration": 10,
    "start_time": "2022-06-05T15:35:26.116Z"
   },
   {
    "duration": 132,
    "start_time": "2022-06-05T15:35:38.545Z"
   },
   {
    "duration": 2213,
    "start_time": "2022-06-05T15:35:59.699Z"
   },
   {
    "duration": 133,
    "start_time": "2022-06-05T15:36:21.059Z"
   },
   {
    "duration": 140,
    "start_time": "2022-06-05T15:36:30.658Z"
   },
   {
    "duration": 154,
    "start_time": "2022-06-05T15:36:51.241Z"
   },
   {
    "duration": 284,
    "start_time": "2022-06-05T15:37:44.839Z"
   },
   {
    "duration": 1467,
    "start_time": "2022-06-05T15:49:17.738Z"
   },
   {
    "duration": 74,
    "start_time": "2022-06-05T15:49:19.207Z"
   },
   {
    "duration": 17,
    "start_time": "2022-06-05T15:49:19.283Z"
   },
   {
    "duration": 10,
    "start_time": "2022-06-05T15:49:19.303Z"
   },
   {
    "duration": 873,
    "start_time": "2022-06-05T15:49:19.315Z"
   },
   {
    "duration": 5,
    "start_time": "2022-06-05T15:49:20.190Z"
   },
   {
    "duration": 27,
    "start_time": "2022-06-05T15:49:20.197Z"
   },
   {
    "duration": 11,
    "start_time": "2022-06-05T15:49:20.226Z"
   },
   {
    "duration": 5,
    "start_time": "2022-06-05T15:49:20.240Z"
   },
   {
    "duration": 6,
    "start_time": "2022-06-05T15:49:20.260Z"
   },
   {
    "duration": 27,
    "start_time": "2022-06-05T15:49:20.269Z"
   },
   {
    "duration": 7,
    "start_time": "2022-06-05T15:49:20.299Z"
   },
   {
    "duration": 10,
    "start_time": "2022-06-05T15:49:20.308Z"
   },
   {
    "duration": 9,
    "start_time": "2022-06-05T15:49:20.321Z"
   },
   {
    "duration": 749950,
    "start_time": "2022-06-05T15:49:20.333Z"
   },
   {
    "duration": 6,
    "start_time": "2022-06-05T16:01:50.288Z"
   },
   {
    "duration": 10,
    "start_time": "2022-06-05T16:01:50.296Z"
   },
   {
    "duration": 11,
    "start_time": "2022-06-05T16:01:50.308Z"
   },
   {
    "duration": 16,
    "start_time": "2022-06-05T16:01:50.321Z"
   },
   {
    "duration": 351,
    "start_time": "2022-06-05T16:01:50.338Z"
   },
   {
    "duration": 277,
    "start_time": "2022-06-05T16:11:20.903Z"
   },
   {
    "duration": 41,
    "start_time": "2022-06-05T16:52:47.168Z"
   }
  ],
  "kernelspec": {
   "display_name": "Python 3 (ipykernel)",
   "language": "python",
   "name": "python3"
  },
  "language_info": {
   "codemirror_mode": {
    "name": "ipython",
    "version": 3
   },
   "file_extension": ".py",
   "mimetype": "text/x-python",
   "name": "python",
   "nbconvert_exporter": "python",
   "pygments_lexer": "ipython3",
   "version": "3.9.7"
  },
  "toc": {
   "base_numbering": 1,
   "nav_menu": {},
   "number_sections": true,
   "sideBar": true,
   "skip_h1_title": true,
   "title_cell": "Содержание",
   "title_sidebar": "Contents",
   "toc_cell": true,
   "toc_position": {
    "height": "calc(100% - 180px)",
    "left": "10px",
    "top": "150px",
    "width": "255.391px"
   },
   "toc_section_display": true,
   "toc_window_display": true
  }
 },
 "nbformat": 4,
 "nbformat_minor": 2
}
