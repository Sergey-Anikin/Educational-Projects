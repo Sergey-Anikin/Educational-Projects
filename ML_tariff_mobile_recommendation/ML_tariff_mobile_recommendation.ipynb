{
 "cells": [
  {
   "cell_type": "markdown",
   "metadata": {},
   "source": [
    "# Рекомендация тарифов"
   ]
  },
  {
   "cell_type": "markdown",
   "metadata": {},
   "source": [
    "В вашем распоряжении данные о поведении клиентов, которые уже перешли на тарифы Ультра и Смарт. Нужно построить модель для задачи классификации, которая выберет подходящий тариф. Предобработка данных не понадобится.\n",
    "\n",
    "Постройте модель с максимально большим значением *accuracy*. Нужно довести долю правильных ответов по крайней мере до 0.75 на тестовой выборке."
   ]
  },
  {
   "cell_type": "markdown",
   "metadata": {},
   "source": [
    "## Открыть и изучить файл"
   ]
  },
  {
   "cell_type": "code",
   "execution_count": 1,
   "metadata": {},
   "outputs": [],
   "source": [
    "import pandas as pd # импорт библиотеки pandas\n",
    "from sklearn.tree import DecisionTreeClassifier # импорт из библиотеки sklearn алгоритма дерева решений\n",
    "from sklearn.metrics import accuracy_score # импорт из библиотеки sklearn функции метрики качества\n",
    "from sklearn.ensemble import RandomForestClassifier # импорт из библиотеки sklearn алгоритма случайного леса\n",
    "from sklearn.linear_model import LogisticRegression # импорт из библиотеки sklearn алгоритма логистической регрессии\n",
    "from sklearn.model_selection import train_test_split # импорт из библиотеки sklearn функцию разделения выборок\n",
    "from sklearn.dummy import DummyClassifier # импорт из библиотеки sklearn алгоритма DummyClassifier"
   ]
  },
  {
   "cell_type": "code",
   "execution_count": 2,
   "metadata": {},
   "outputs": [
    {
     "name": "stdout",
     "output_type": "stream",
     "text": [
      "<class 'pandas.core.frame.DataFrame'>\n",
      "RangeIndex: 3214 entries, 0 to 3213\n",
      "Data columns (total 5 columns):\n",
      " #   Column    Non-Null Count  Dtype  \n",
      "---  ------    --------------  -----  \n",
      " 0   calls     3214 non-null   float64\n",
      " 1   minutes   3214 non-null   float64\n",
      " 2   messages  3214 non-null   float64\n",
      " 3   mb_used   3214 non-null   float64\n",
      " 4   is_ultra  3214 non-null   int64  \n",
      "dtypes: float64(4), int64(1)\n",
      "memory usage: 125.7 KB\n"
     ]
    },
    {
     "data": {
      "text/html": [
       "<div>\n",
       "<style scoped>\n",
       "    .dataframe tbody tr th:only-of-type {\n",
       "        vertical-align: middle;\n",
       "    }\n",
       "\n",
       "    .dataframe tbody tr th {\n",
       "        vertical-align: top;\n",
       "    }\n",
       "\n",
       "    .dataframe thead th {\n",
       "        text-align: right;\n",
       "    }\n",
       "</style>\n",
       "<table border=\"1\" class=\"dataframe\">\n",
       "  <thead>\n",
       "    <tr style=\"text-align: right;\">\n",
       "      <th></th>\n",
       "      <th>calls</th>\n",
       "      <th>minutes</th>\n",
       "      <th>messages</th>\n",
       "      <th>mb_used</th>\n",
       "      <th>is_ultra</th>\n",
       "    </tr>\n",
       "  </thead>\n",
       "  <tbody>\n",
       "    <tr>\n",
       "      <th>0</th>\n",
       "      <td>40.0</td>\n",
       "      <td>311.90</td>\n",
       "      <td>83.0</td>\n",
       "      <td>19915.42</td>\n",
       "      <td>0</td>\n",
       "    </tr>\n",
       "    <tr>\n",
       "      <th>1</th>\n",
       "      <td>85.0</td>\n",
       "      <td>516.75</td>\n",
       "      <td>56.0</td>\n",
       "      <td>22696.96</td>\n",
       "      <td>0</td>\n",
       "    </tr>\n",
       "    <tr>\n",
       "      <th>2</th>\n",
       "      <td>77.0</td>\n",
       "      <td>467.66</td>\n",
       "      <td>86.0</td>\n",
       "      <td>21060.45</td>\n",
       "      <td>0</td>\n",
       "    </tr>\n",
       "    <tr>\n",
       "      <th>3</th>\n",
       "      <td>106.0</td>\n",
       "      <td>745.53</td>\n",
       "      <td>81.0</td>\n",
       "      <td>8437.39</td>\n",
       "      <td>1</td>\n",
       "    </tr>\n",
       "    <tr>\n",
       "      <th>4</th>\n",
       "      <td>66.0</td>\n",
       "      <td>418.74</td>\n",
       "      <td>1.0</td>\n",
       "      <td>14502.75</td>\n",
       "      <td>0</td>\n",
       "    </tr>\n",
       "  </tbody>\n",
       "</table>\n",
       "</div>"
      ],
      "text/plain": [
       "   calls  minutes  messages   mb_used  is_ultra\n",
       "0   40.0   311.90      83.0  19915.42         0\n",
       "1   85.0   516.75      56.0  22696.96         0\n",
       "2   77.0   467.66      86.0  21060.45         0\n",
       "3  106.0   745.53      81.0   8437.39         1\n",
       "4   66.0   418.74       1.0  14502.75         0"
      ]
     },
     "execution_count": 2,
     "metadata": {},
     "output_type": "execute_result"
    }
   ],
   "source": [
    "df = pd.read_csv('***.csv') # прочитаем файл\n",
    "df.info() # общая информация\n",
    "df.head() # первые пять строк датафрейма"
   ]
  },
  {
   "cell_type": "markdown",
   "metadata": {},
   "source": [
    "**Описание данных**\n",
    "\n",
    "Каждый объект в наборе данных — это информация о поведении одного пользователя за месяц. Известно:\n",
    "* `сalls` — количество звонков,\n",
    "* `minutes` — суммарная длительность звонков в минутах,\n",
    "* `messages` — количество sms-сообщений,\n",
    "* `mb_used` — израсходованный интернет-трафик в Мб,\n",
    "* `is_ultra` — каким тарифом пользовался в течение месяца («Ультра» — 1, «Смарт» — 0)."
   ]
  },
  {
   "cell_type": "markdown",
   "metadata": {},
   "source": [
    "В данных нет пропусков. Других проблем тоже не обнаружено. \n",
    "\n",
    "Столбец 'is_ultra' - целевой признак. Целевой признак категориальный, значит будем решать задачу классификации."
   ]
  },
  {
   "cell_type": "markdown",
   "metadata": {},
   "source": [
    "## Разделение данных на выборки"
   ]
  },
  {
   "cell_type": "code",
   "execution_count": 3,
   "metadata": {},
   "outputs": [],
   "source": [
    "features = df.drop(['is_ultra'], axis =1) # определяю признаки\n",
    "target = df['is_ultra'] # определяю целевой признак"
   ]
  },
  {
   "cell_type": "markdown",
   "metadata": {},
   "source": [
    "Зафиксируем параметр случайного состояния, например random_state=42, для сохранения псевдослучайности алгоритма обучения модели."
   ]
  },
  {
   "cell_type": "code",
   "execution_count": 4,
   "metadata": {},
   "outputs": [],
   "source": [
    "features_train, features_test , target_train, target_test = train_test_split(\n",
    "    features, target, train_size=0.6, random_state=42) # отделение 60% данных для обучающей выборки"
   ]
  },
  {
   "cell_type": "code",
   "execution_count": 5,
   "metadata": {},
   "outputs": [],
   "source": [
    "features_test, features_valid, target_test, target_valid = train_test_split(\n",
    "    features_test, target_test, test_size=0.5, random_state=42) \n",
    "# разделение оставшихся данных на тестовую и валидационную выборки"
   ]
  },
  {
   "cell_type": "markdown",
   "metadata": {},
   "source": [
    "Проверим разделение выборок:"
   ]
  },
  {
   "cell_type": "code",
   "execution_count": 6,
   "metadata": {},
   "outputs": [
    {
     "name": "stdout",
     "output_type": "stream",
     "text": [
      "Обучающая выборка: 60.0 %\n",
      "Валидационная выборка: 20.0 %\n",
      "Тестовая выборка: 20.0 %\n"
     ]
    }
   ],
   "source": [
    "print('Обучающая выборка:',round(features_train.shape[0]/features.shape[0]*100,1),'%')\n",
    "print('Валидационная выборка:',round(features_valid.shape[0]/features.shape[0]*100,1),'%')\n",
    "print('Тестовая выборка:',round(features_test.shape[0]/features.shape[0]*100,1),'%')"
   ]
  },
  {
   "cell_type": "markdown",
   "metadata": {},
   "source": [
    "Теперь можно приступать к исследованию разных моделей."
   ]
  },
  {
   "cell_type": "markdown",
   "metadata": {},
   "source": [
    "## Исследование моделей"
   ]
  },
  {
   "cell_type": "markdown",
   "metadata": {},
   "source": [
    "### Модель дерева решений."
   ]
  },
  {
   "cell_type": "markdown",
   "metadata": {},
   "source": [
    "Создадим цикл с подбором гипермараметра глубины дерева (max_depth). \n",
    "\n",
    "Зафиксируем параметр случайного состояния, например random_state=42, для сохранения псевдослучайности алгоритма обучения модели."
   ]
  },
  {
   "cell_type": "code",
   "execution_count": 7,
   "metadata": {},
   "outputs": [
    {
     "name": "stdout",
     "output_type": "stream",
     "text": [
      "Accuracy наилучшей модели на валидационной выборке: 0.8118195956454122\n",
      "Лучшие гиперпараметры: DecisionTreeClassifier(max_depth=4, random_state=42)\n"
     ]
    }
   ],
   "source": [
    "best_model = None\n",
    "best_result = 0\n",
    "for depth in range(1,10):\n",
    "    model = DecisionTreeClassifier(random_state=42, max_depth=depth) # модель классификации дерева решений\n",
    "    \n",
    "    model.fit(features_train, target_train) # обучение модели\n",
    "    \n",
    "    predictions_valid = model.predict(features_valid) # предсказание модели на валидационной выборке\n",
    "    \n",
    "    result = accuracy_score(target_valid, predictions_valid) \n",
    "    \n",
    "    if result > best_result:\n",
    "        best_model = model\n",
    "        best_result = result\n",
    "    \n",
    "print('Accuracy наилучшей модели на валидационной выборке:', best_result)\n",
    "print('Лучшие гиперпараметры:', best_model) "
   ]
  },
  {
   "cell_type": "code",
   "execution_count": 8,
   "metadata": {},
   "outputs": [
    {
     "data": {
      "text/plain": [
       "DecisionTreeClassifier(max_depth=4, random_state=42)"
      ]
     },
     "execution_count": 8,
     "metadata": {},
     "output_type": "execute_result"
    }
   ],
   "source": [
    "model_decision_tree = DecisionTreeClassifier(random_state=42, max_depth=4) # сохранение модели с нужными гиперпараметрами\n",
    "model_decision_tree.fit(features_train, target_train) # обучили модель с нужными гиперпараметрами"
   ]
  },
  {
   "cell_type": "markdown",
   "metadata": {},
   "source": [
    "### Модель случайного леса."
   ]
  },
  {
   "cell_type": "markdown",
   "metadata": {},
   "source": [
    "Создадим цикл с подбором гипермараметра количества деревьев (n_estimators) и глубины дерева (max_depth). \n",
    "\n",
    "Так же зададим параметр random_state=42."
   ]
  },
  {
   "cell_type": "code",
   "execution_count": 9,
   "metadata": {},
   "outputs": [
    {
     "name": "stdout",
     "output_type": "stream",
     "text": [
      "Accuracy наилучшей модели на валидационной выборке: 0.8304821150855366\n",
      "Лучшие гиперпараметры: RandomForestClassifier(max_depth=6, n_estimators=10, random_state=42)\n"
     ]
    }
   ],
   "source": [
    "best_model = None\n",
    "best_result = 0\n",
    "for est in range(1,15):\n",
    "    for depth in range(1,10):\n",
    "        model = RandomForestClassifier(random_state=42, max_depth=depth, n_estimators=est) # модель классификации дерева решений\n",
    "    \n",
    "        model.fit(features_train, target_train) # обучение модели\n",
    "    \n",
    "        result = model.score(features_valid, target_valid) # применение модели на валидационной выборке\n",
    "    \n",
    "        if result > best_result:\n",
    "            best_model = model\n",
    "            best_result = result\n",
    "        \n",
    "print('Accuracy наилучшей модели на валидационной выборке:', best_result)\n",
    "print('Лучшие гиперпараметры:', best_model)"
   ]
  },
  {
   "cell_type": "code",
   "execution_count": 10,
   "metadata": {},
   "outputs": [
    {
     "data": {
      "text/plain": [
       "RandomForestClassifier(max_depth=6, n_estimators=10, random_state=42)"
      ]
     },
     "execution_count": 10,
     "metadata": {},
     "output_type": "execute_result"
    }
   ],
   "source": [
    "model_random_forest = RandomForestClassifier(random_state=42, max_depth=6, n_estimators=10) # сохранение модели с нужными гиперпараметрами\n",
    "model_random_forest.fit(features_train, target_train) # обучили модель с нужными гиперпараметрами"
   ]
  },
  {
   "cell_type": "markdown",
   "metadata": {},
   "source": [
    "### Модель логистической регрессии."
   ]
  },
  {
   "cell_type": "markdown",
   "metadata": {},
   "source": [
    "Так же зададим параметр random_state=42."
   ]
  },
  {
   "cell_type": "code",
   "execution_count": 11,
   "metadata": {},
   "outputs": [
    {
     "name": "stdout",
     "output_type": "stream",
     "text": [
      "Accuracy модели логистической регрессии на валидационной выборке: 0.7682737169517885\n"
     ]
    }
   ],
   "source": [
    "model_logistic = LogisticRegression(max_iter=1000, random_state=42) # модель логистической регрессии\n",
    "model_logistic.fit(features_train, target_train) # обучение модели\n",
    "result = model_logistic.score(features_valid, target_valid) # применение модели на валидационной выборке\n",
    "\n",
    "print('Accuracy модели логистической регрессии на валидационной выборке:', result)"
   ]
  },
  {
   "cell_type": "markdown",
   "metadata": {},
   "source": [
    "**Вывод**"
   ]
  },
  {
   "cell_type": "markdown",
   "metadata": {},
   "source": [
    "Наилучший результат показала модель случайного леса, равным 0,83. Следом идет модель дерева решений с метрикой качества 0,812. И замыкает список модель логистической регрессии с результатом 0,768.\n",
    "\n",
    "У каждой модели есть свои плюсы и минусы. Наилучшее качество как раз показала модель случайного леса, но ее минус в ее медлительности.\n",
    "\n",
    "Хороший результат показала модель дерева решений, хотя у нее не высокое качество, но высокая скорость. Возможно это зависит от данных."
   ]
  },
  {
   "cell_type": "markdown",
   "metadata": {},
   "source": [
    "## Проверка на тестовой выборке"
   ]
  },
  {
   "cell_type": "markdown",
   "metadata": {},
   "source": [
    "### Модель дерева решений."
   ]
  },
  {
   "cell_type": "code",
   "execution_count": 12,
   "metadata": {},
   "outputs": [
    {
     "name": "stdout",
     "output_type": "stream",
     "text": [
      "Accuracy модели дерева решений на тестовой выборке: 0.7807153965785381\n"
     ]
    }
   ],
   "source": [
    "predictions_test = model_decision_tree.predict(features_test) # применение модели на тестовой выборке\n",
    "print('Accuracy модели дерева решений на тестовой выборке:', accuracy_score(target_test, predictions_test))"
   ]
  },
  {
   "cell_type": "markdown",
   "metadata": {},
   "source": [
    "### Модель случайного леса."
   ]
  },
  {
   "cell_type": "code",
   "execution_count": 13,
   "metadata": {},
   "outputs": [
    {
     "name": "stdout",
     "output_type": "stream",
     "text": [
      "Accuracy модели случайного леса на тестовой выборке: 0.8040435458786936\n"
     ]
    }
   ],
   "source": [
    "print('Accuracy модели случайного леса на тестовой выборке:', model_random_forest.score(features_test, target_test))"
   ]
  },
  {
   "cell_type": "markdown",
   "metadata": {},
   "source": [
    "### Модель логистической регрессии."
   ]
  },
  {
   "cell_type": "code",
   "execution_count": 14,
   "metadata": {},
   "outputs": [
    {
     "name": "stdout",
     "output_type": "stream",
     "text": [
      "Accuracy модели логистической регрессии на тестовой выборке: 0.7402799377916018\n"
     ]
    }
   ],
   "source": [
    "print('Accuracy модели логистической регрессии на тестовой выборке:', model_logistic.score(features_test, target_test))"
   ]
  },
  {
   "cell_type": "markdown",
   "metadata": {},
   "source": [
    "**Вывод**"
   ]
  },
  {
   "cell_type": "markdown",
   "metadata": {},
   "source": [
    "Наилучший результат показала модель случайного леса, равным 0,804. Следом идет модель дерева решений с метрикой качества 0,781. И замыкает список модель логистической регрессии с результатом 0,74.\n",
    "\n",
    "Падение качества результата по моделям в среднем составляет 3%.\n",
    "\n",
    "Проверка на тестовых данных показывает, что в моделях случайного леса и дерева решений отсутствуют проблемы переобучения и недообучения."
   ]
  },
  {
   "cell_type": "markdown",
   "metadata": {},
   "source": [
    "## Проверка модели на адекватность"
   ]
  },
  {
   "cell_type": "markdown",
   "metadata": {},
   "source": [
    "Чтобы оценить адекватность модели, сравним ее с константной моделью. "
   ]
  },
  {
   "cell_type": "code",
   "execution_count": 15,
   "metadata": {},
   "outputs": [
    {
     "data": {
      "text/plain": [
       "0    0.693624\n",
       "1    0.306376\n",
       "Name: is_ultra, dtype: float64"
      ]
     },
     "execution_count": 15,
     "metadata": {},
     "output_type": "execute_result"
    }
   ],
   "source": [
    "target_test.value_counts(1)"
   ]
  },
  {
   "cell_type": "code",
   "execution_count": 16,
   "metadata": {},
   "outputs": [
    {
     "data": {
      "text/plain": [
       "0.6936236391912908"
      ]
     },
     "execution_count": 16,
     "metadata": {},
     "output_type": "execute_result"
    }
   ],
   "source": [
    "model_dummy = DummyClassifier(strategy='constant', constant=0)\n",
    "model_dummy.fit(features_train, target_train)\n",
    "model_dummy.score(features_test, target_test)"
   ]
  },
  {
   "cell_type": "markdown",
   "metadata": {},
   "source": [
    "Точность константной модели равна доли бОльшего класса."
   ]
  },
  {
   "cell_type": "markdown",
   "metadata": {},
   "source": [
    "**Вывод**"
   ]
  },
  {
   "cell_type": "markdown",
   "metadata": {},
   "source": [
    "Accuracy константной модели равна 0,694. Результаты обученных моделей на тестовых выборках от 0,74 до 0,8.\n",
    "\n",
    "Можно смело делать вывод, что модели прошли оценку на адекватность."
   ]
  },
  {
   "cell_type": "markdown",
   "metadata": {},
   "source": [
    "## Общий вывод."
   ]
  },
  {
   "cell_type": "markdown",
   "metadata": {},
   "source": [
    "Я исследовал и сравнил качество следующих моделей на валидационной выборке:\n",
    " - Модель дерева решений. Accuracy = 0,812\n",
    " - Модель случайного леса. Accuracy = 0,83\n",
    " - Модель логистической регрессии.  Accuracy = 0,768\n",
    " \n",
    "Качество моделей на тестовой выборке:\n",
    " - Модель дерева решений. Accuracy = 0,781\n",
    " - Модель случайного леса. Accuracy = 0,804\n",
    " - Модель логистической регрессии.  Accuracy = 0,74\n",
    "\n",
    "Все модели прошли оценку на адекватность.\n",
    " \n",
    "В цели к проекту указано, что нужно довести долю правильных ответов по крайней мере до 0.75. Две модели справились с этой задачей. Модель логистической регрессии не достаточно точна для этой задачи.\n",
    "\n",
    "**Наилучший результат accuracy у модели случайного леса. Accuracy = 0,804.**"
   ]
  }
 ],
 "metadata": {
  "ExecuteTimeLog": [
   {
    "duration": 1292,
    "start_time": "2022-03-17T15:01:31.450Z"
   },
   {
    "duration": 42,
    "start_time": "2022-03-17T15:02:01.032Z"
   },
   {
    "duration": 4,
    "start_time": "2022-03-17T15:04:31.429Z"
   },
   {
    "duration": 6,
    "start_time": "2022-03-17T15:04:58.703Z"
   },
   {
    "duration": 5,
    "start_time": "2022-03-17T15:05:23.262Z"
   },
   {
    "duration": 5,
    "start_time": "2022-03-17T15:05:57.031Z"
   },
   {
    "duration": 33,
    "start_time": "2022-03-17T15:07:07.796Z"
   },
   {
    "duration": 13,
    "start_time": "2022-03-17T15:07:40.385Z"
   },
   {
    "duration": 290,
    "start_time": "2022-03-17T15:10:01.759Z"
   },
   {
    "duration": 44,
    "start_time": "2022-03-17T15:10:29.926Z"
   },
   {
    "duration": 36,
    "start_time": "2022-03-17T15:11:09.805Z"
   },
   {
    "duration": 5,
    "start_time": "2022-03-17T15:13:15.389Z"
   },
   {
    "duration": 8,
    "start_time": "2022-03-17T15:13:43.023Z"
   },
   {
    "duration": 6,
    "start_time": "2022-03-17T15:14:17.205Z"
   },
   {
    "duration": 7,
    "start_time": "2022-03-17T15:15:47.988Z"
   },
   {
    "duration": 1238,
    "start_time": "2022-03-17T15:17:18.516Z"
   },
   {
    "duration": 3,
    "start_time": "2022-03-17T15:17:19.758Z"
   },
   {
    "duration": 7,
    "start_time": "2022-03-17T15:17:19.763Z"
   },
   {
    "duration": 5,
    "start_time": "2022-03-17T15:17:19.772Z"
   },
   {
    "duration": 11,
    "start_time": "2022-03-17T15:17:19.778Z"
   },
   {
    "duration": 52,
    "start_time": "2022-03-17T15:17:19.791Z"
   },
   {
    "duration": 9,
    "start_time": "2022-03-17T15:17:19.845Z"
   },
   {
    "duration": 293,
    "start_time": "2022-03-17T15:17:19.856Z"
   },
   {
    "duration": 41,
    "start_time": "2022-03-17T15:17:20.152Z"
   },
   {
    "duration": 51,
    "start_time": "2022-03-17T15:17:20.195Z"
   },
   {
    "duration": 7,
    "start_time": "2022-03-17T15:17:20.247Z"
   },
   {
    "duration": 8,
    "start_time": "2022-03-17T15:17:20.255Z"
   },
   {
    "duration": 5,
    "start_time": "2022-03-17T15:17:20.265Z"
   },
   {
    "duration": 11,
    "start_time": "2022-03-17T15:17:20.271Z"
   },
   {
    "duration": 51,
    "start_time": "2022-03-17T15:19:14.823Z"
   },
   {
    "duration": 52,
    "start_time": "2022-03-17T15:19:29.719Z"
   },
   {
    "duration": 34,
    "start_time": "2022-03-17T15:19:37.958Z"
   },
   {
    "duration": 36,
    "start_time": "2022-03-17T15:19:43.117Z"
   },
   {
    "duration": 34,
    "start_time": "2022-03-17T15:23:24.051Z"
   },
   {
    "duration": 32,
    "start_time": "2022-03-17T15:23:24.628Z"
   },
   {
    "duration": 33,
    "start_time": "2022-03-17T15:23:25.196Z"
   },
   {
    "duration": 35,
    "start_time": "2022-03-17T15:23:25.788Z"
   },
   {
    "duration": 35,
    "start_time": "2022-03-17T15:23:26.404Z"
   },
   {
    "duration": 32,
    "start_time": "2022-03-17T15:23:26.964Z"
   },
   {
    "duration": 35,
    "start_time": "2022-03-17T15:29:45.932Z"
   },
   {
    "duration": 32,
    "start_time": "2022-03-17T15:29:49.205Z"
   },
   {
    "duration": 32,
    "start_time": "2022-03-17T15:29:53.548Z"
   },
   {
    "duration": 31,
    "start_time": "2022-03-17T15:29:57.412Z"
   },
   {
    "duration": 6,
    "start_time": "2022-03-17T15:30:08.259Z"
   },
   {
    "duration": 1162,
    "start_time": "2022-03-17T15:31:31.339Z"
   },
   {
    "duration": 4,
    "start_time": "2022-03-17T15:31:32.503Z"
   },
   {
    "duration": 8,
    "start_time": "2022-03-17T15:31:32.508Z"
   },
   {
    "duration": 5,
    "start_time": "2022-03-17T15:31:32.518Z"
   },
   {
    "duration": 7,
    "start_time": "2022-03-17T15:31:32.525Z"
   },
   {
    "duration": 33,
    "start_time": "2022-03-17T15:31:32.534Z"
   },
   {
    "duration": 9,
    "start_time": "2022-03-17T15:31:32.569Z"
   },
   {
    "duration": 314,
    "start_time": "2022-03-17T15:31:32.580Z"
   },
   {
    "duration": 52,
    "start_time": "2022-03-17T15:31:32.896Z"
   },
   {
    "duration": 35,
    "start_time": "2022-03-17T15:31:32.950Z"
   },
   {
    "duration": 5,
    "start_time": "2022-03-17T15:31:32.987Z"
   },
   {
    "duration": 11,
    "start_time": "2022-03-17T15:31:32.994Z"
   },
   {
    "duration": 27,
    "start_time": "2022-03-17T15:31:33.007Z"
   },
   {
    "duration": 8,
    "start_time": "2022-03-17T15:31:33.036Z"
   },
   {
    "duration": 165,
    "start_time": "2022-03-19T04:03:41.632Z"
   },
   {
    "duration": 1226,
    "start_time": "2022-03-19T04:03:56.224Z"
   },
   {
    "duration": 4,
    "start_time": "2022-03-19T04:03:57.451Z"
   },
   {
    "duration": 6,
    "start_time": "2022-03-19T04:03:57.456Z"
   },
   {
    "duration": 4,
    "start_time": "2022-03-19T04:03:57.464Z"
   },
   {
    "duration": 7,
    "start_time": "2022-03-19T04:03:57.469Z"
   },
   {
    "duration": 37,
    "start_time": "2022-03-19T04:03:57.478Z"
   },
   {
    "duration": 9,
    "start_time": "2022-03-19T04:03:57.516Z"
   },
   {
    "duration": 317,
    "start_time": "2022-03-19T04:03:57.527Z"
   },
   {
    "duration": 45,
    "start_time": "2022-03-19T04:03:57.846Z"
   },
   {
    "duration": 32,
    "start_time": "2022-03-19T04:03:57.894Z"
   },
   {
    "duration": 6,
    "start_time": "2022-03-19T04:03:57.927Z"
   },
   {
    "duration": 28,
    "start_time": "2022-03-19T04:03:57.935Z"
   },
   {
    "duration": 5,
    "start_time": "2022-03-19T04:03:57.964Z"
   },
   {
    "duration": 10,
    "start_time": "2022-03-19T04:03:57.971Z"
   },
   {
    "duration": 4,
    "start_time": "2022-03-19T04:29:16.578Z"
   },
   {
    "duration": 1604,
    "start_time": "2022-03-19T05:03:16.375Z"
   },
   {
    "duration": 34,
    "start_time": "2022-03-19T05:03:17.981Z"
   },
   {
    "duration": 4,
    "start_time": "2022-03-19T05:03:18.016Z"
   },
   {
    "duration": 7,
    "start_time": "2022-03-19T05:03:18.022Z"
   },
   {
    "duration": 6,
    "start_time": "2022-03-19T05:03:18.031Z"
   },
   {
    "duration": 5,
    "start_time": "2022-03-19T05:03:18.039Z"
   },
   {
    "duration": 45,
    "start_time": "2022-03-19T05:03:18.046Z"
   },
   {
    "duration": 9,
    "start_time": "2022-03-19T05:03:18.093Z"
   },
   {
    "duration": 336,
    "start_time": "2022-03-19T05:03:18.103Z"
   },
   {
    "duration": 54,
    "start_time": "2022-03-19T05:03:18.442Z"
   },
   {
    "duration": 37,
    "start_time": "2022-03-19T05:03:18.498Z"
   },
   {
    "duration": 7,
    "start_time": "2022-03-19T05:03:18.537Z"
   },
   {
    "duration": 26,
    "start_time": "2022-03-19T05:03:18.545Z"
   },
   {
    "duration": 5,
    "start_time": "2022-03-19T05:03:18.573Z"
   },
   {
    "duration": 18,
    "start_time": "2022-03-19T05:03:18.580Z"
   }
  ],
  "kernelspec": {
   "display_name": "Python 3",
   "language": "python",
   "name": "python3"
  },
  "language_info": {
   "codemirror_mode": {
    "name": "ipython",
    "version": 3
   },
   "file_extension": ".py",
   "mimetype": "text/x-python",
   "name": "python",
   "nbconvert_exporter": "python",
   "pygments_lexer": "ipython3",
   "version": "3.8.8"
  },
  "toc": {
   "base_numbering": 1,
   "nav_menu": {},
   "number_sections": true,
   "sideBar": true,
   "skip_h1_title": true,
   "title_cell": "Table of Contents",
   "title_sidebar": "Contents",
   "toc_cell": false,
   "toc_position": {},
   "toc_section_display": true,
   "toc_window_display": false
  }
 },
 "nbformat": 4,
 "nbformat_minor": 2
}
