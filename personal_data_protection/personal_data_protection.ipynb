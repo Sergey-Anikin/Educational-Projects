{
 "cells": [
  {
   "cell_type": "markdown",
   "metadata": {},
   "source": [
    "# Защита персональных данных клиентов"
   ]
  },
  {
   "cell_type": "markdown",
   "metadata": {},
   "source": [
    "Необходимо защитить данные клиентов страховой компании. Разработаем такой метод преобразования данных, чтобы по ним было сложно восстановить персональную информацию. Докажем корректность его работы.\n",
    "\n",
    "Нужно защитить данные, чтобы при преобразовании качество моделей машинного обучения не ухудшилось. Наилучшую модель подбирать не будем."
   ]
  },
  {
   "cell_type": "markdown",
   "metadata": {},
   "source": [
    "**Содержание:**\n",
    "1.  Загрузка данных\n",
    "2.  Умножение матриц \\\n",
    "2-1.  Проведем расчеты собственным алгоритмом и импортированным \\\n",
    "2-2.  Расчеты формулами \\\n",
    "2-3.  Расчеты формулами (v2)\n",
    "3.  Алгоритм преобразования\n",
    "4.  Проверка алгоритма"
   ]
  },
  {
   "cell_type": "markdown",
   "metadata": {},
   "source": [
    "## 1 Загрузка данных"
   ]
  },
  {
   "cell_type": "code",
   "execution_count": 1,
   "metadata": {},
   "outputs": [],
   "source": [
    "import numpy as np # импорт библиотеки numpy\n",
    "import pandas as pd # импорт библиотеки pandas\n",
    "from sklearn.metrics import r2_score # импорт из библиотеки sklearn алгоритма r2_score\n",
    "from sklearn.linear_model import LinearRegression # # импорт из библиотеки sklearn алгоритма LinearRegression"
   ]
  },
  {
   "cell_type": "code",
   "execution_count": 2,
   "metadata": {},
   "outputs": [
    {
     "name": "stdout",
     "output_type": "stream",
     "text": [
      "<class 'pandas.core.frame.DataFrame'>\n",
      "RangeIndex: 5000 entries, 0 to 4999\n",
      "Data columns (total 5 columns):\n",
      " #   Column             Non-Null Count  Dtype  \n",
      "---  ------             --------------  -----  \n",
      " 0   Пол                5000 non-null   int64  \n",
      " 1   Возраст            5000 non-null   float64\n",
      " 2   Зарплата           5000 non-null   float64\n",
      " 3   Члены семьи        5000 non-null   int64  \n",
      " 4   Страховые выплаты  5000 non-null   int64  \n",
      "dtypes: float64(2), int64(3)\n",
      "memory usage: 195.4 KB\n"
     ]
    },
    {
     "data": {
      "text/html": [
       "<div>\n",
       "<style scoped>\n",
       "    .dataframe tbody tr th:only-of-type {\n",
       "        vertical-align: middle;\n",
       "    }\n",
       "\n",
       "    .dataframe tbody tr th {\n",
       "        vertical-align: top;\n",
       "    }\n",
       "\n",
       "    .dataframe thead th {\n",
       "        text-align: right;\n",
       "    }\n",
       "</style>\n",
       "<table border=\"1\" class=\"dataframe\">\n",
       "  <thead>\n",
       "    <tr style=\"text-align: right;\">\n",
       "      <th></th>\n",
       "      <th>Пол</th>\n",
       "      <th>Возраст</th>\n",
       "      <th>Зарплата</th>\n",
       "      <th>Члены семьи</th>\n",
       "      <th>Страховые выплаты</th>\n",
       "    </tr>\n",
       "  </thead>\n",
       "  <tbody>\n",
       "    <tr>\n",
       "      <th>0</th>\n",
       "      <td>1</td>\n",
       "      <td>41.0</td>\n",
       "      <td>49600.0</td>\n",
       "      <td>1</td>\n",
       "      <td>0</td>\n",
       "    </tr>\n",
       "    <tr>\n",
       "      <th>1</th>\n",
       "      <td>0</td>\n",
       "      <td>46.0</td>\n",
       "      <td>38000.0</td>\n",
       "      <td>1</td>\n",
       "      <td>1</td>\n",
       "    </tr>\n",
       "    <tr>\n",
       "      <th>2</th>\n",
       "      <td>0</td>\n",
       "      <td>29.0</td>\n",
       "      <td>21000.0</td>\n",
       "      <td>0</td>\n",
       "      <td>0</td>\n",
       "    </tr>\n",
       "    <tr>\n",
       "      <th>3</th>\n",
       "      <td>0</td>\n",
       "      <td>21.0</td>\n",
       "      <td>41700.0</td>\n",
       "      <td>2</td>\n",
       "      <td>0</td>\n",
       "    </tr>\n",
       "    <tr>\n",
       "      <th>4</th>\n",
       "      <td>1</td>\n",
       "      <td>28.0</td>\n",
       "      <td>26100.0</td>\n",
       "      <td>0</td>\n",
       "      <td>0</td>\n",
       "    </tr>\n",
       "  </tbody>\n",
       "</table>\n",
       "</div>"
      ],
      "text/plain": [
       "   Пол  Возраст  Зарплата  Члены семьи  Страховые выплаты\n",
       "0    1     41.0   49600.0            1                  0\n",
       "1    0     46.0   38000.0            1                  1\n",
       "2    0     29.0   21000.0            0                  0\n",
       "3    0     21.0   41700.0            2                  0\n",
       "4    1     28.0   26100.0            0                  0"
      ]
     },
     "execution_count": 2,
     "metadata": {},
     "output_type": "execute_result"
    }
   ],
   "source": [
    "# знакомство с данными\n",
    "df = pd.read_csv('***.csv')\n",
    "df.info()\n",
    "df.head()"
   ]
  },
  {
   "cell_type": "code",
   "execution_count": 3,
   "metadata": {},
   "outputs": [],
   "source": [
    "# приведем столбцы к стандарту PEP8\n",
    "df.rename(columns = {'Пол':'gender',\n",
    "                     'Возраст':'age',\n",
    "                     'Зарплата':'salary',\n",
    "                     'Члены семьи':'family_members',\n",
    "                     'Страховые выплаты':'insurance_payments'},\n",
    "                     inplace=True)"
   ]
  },
  {
   "cell_type": "code",
   "execution_count": 4,
   "metadata": {},
   "outputs": [
    {
     "data": {
      "text/plain": [
       "153"
      ]
     },
     "execution_count": 4,
     "metadata": {},
     "output_type": "execute_result"
    }
   ],
   "source": [
    "df.duplicated().sum() # проверка дубликатов"
   ]
  },
  {
   "cell_type": "markdown",
   "metadata": {},
   "source": [
    "Достоверно сказать, что количество полученных дубликатов является реальными дубликатами невозможно, потому что у нас нет уникального id у клиента. А значит клиенты могут иметь идентичные параметры.  И запросить данные мы не можем, так как это учебный проект. \n",
    "\n",
    "На решение задачи это не повлияет, поэтому оставим данные без изменений."
   ]
  },
  {
   "cell_type": "code",
   "execution_count": 5,
   "metadata": {},
   "outputs": [
    {
     "data": {
      "text/plain": [
       "0    4436\n",
       "1     423\n",
       "2     115\n",
       "3      18\n",
       "4       7\n",
       "5       1\n",
       "Name: insurance_payments, dtype: int64"
      ]
     },
     "execution_count": 5,
     "metadata": {},
     "output_type": "execute_result"
    }
   ],
   "source": [
    "df['insurance_payments'].value_counts() # уникальные значения целевого признака"
   ]
  },
  {
   "cell_type": "markdown",
   "metadata": {},
   "source": [
    "Подавляющее большинство не обращалось за страховыми выплатами. А один целых 5 раз."
   ]
  },
  {
   "cell_type": "code",
   "execution_count": 6,
   "metadata": {},
   "outputs": [],
   "source": [
    "# определим признаки и целевой признак, переведем сразу в вектор\n",
    "features = df.drop(columns='insurance_payments',axis=1).values\n",
    "target = df['insurance_payments'].values"
   ]
  },
  {
   "cell_type": "code",
   "execution_count": 7,
   "metadata": {},
   "outputs": [
    {
     "name": "stdout",
     "output_type": "stream",
     "text": [
      "(5000, 4)\n",
      "(5000,)\n"
     ]
    }
   ],
   "source": [
    "# проверка\n",
    "print(features.shape)\n",
    "print(target.shape)"
   ]
  },
  {
   "cell_type": "markdown",
   "metadata": {},
   "source": [
    "Столбцы переведены по стандарту PEP8. Признаки разделены с целевым признаком и переведены в вектор. Данные готовы для дальнейшего исследования. "
   ]
  },
  {
   "cell_type": "markdown",
   "metadata": {},
   "source": [
    "## 2  Умножение матриц"
   ]
  },
  {
   "cell_type": "markdown",
   "metadata": {},
   "source": [
    "**Признаки умножают на обратимую матрицу. Изменится ли качество линейной регрессии?**"
   ]
  },
  {
   "cell_type": "markdown",
   "metadata": {},
   "source": [
    "Обозначения:\n",
    "\n",
    "- $X$ — матрица признаков (нулевой столбец состоит из единиц)\n",
    "\n",
    "- $y$ — вектор целевого признака\n",
    "\n",
    "- $P$ — матрица, на которую умножаются признаки\n",
    "\n",
    "- $w$ — вектор весов линейной регрессии (нулевой элемент равен сдвигу)"
   ]
  },
  {
   "cell_type": "markdown",
   "metadata": {},
   "source": [
    "Предсказания:\n",
    "\n",
    "$$\n",
    "a = Xw\n",
    "$$\n",
    "\n",
    "Задача обучения:\n",
    "\n",
    "$$\n",
    "w = \\arg\\min_w MSE(Xw, y)\n",
    "$$\n",
    "\n",
    "Формула обучения:\n",
    "\n",
    "$$\n",
    "w = (X^T X)^{-1} X^T y\n",
    "$$"
   ]
  },
  {
   "cell_type": "markdown",
   "metadata": {},
   "source": [
    "**Ответ:** не изменится."
   ]
  },
  {
   "cell_type": "markdown",
   "metadata": {},
   "source": [
    "**Обоснование:**"
   ]
  },
  {
   "cell_type": "markdown",
   "metadata": {},
   "source": [
    "### 2.1 Проведем расчеты собственным алгоритмом и импортированным:"
   ]
  },
  {
   "cell_type": "code",
   "execution_count": 8,
   "metadata": {},
   "outputs": [],
   "source": [
    "# создание класса линейной регрессии\n",
    "class LR:\n",
    "    def fit(self, train_features, train_target):\n",
    "        X = np.concatenate((np.ones((train_features.shape[0], 1)), train_features), axis=1)\n",
    "        y = train_target\n",
    "        w = (np.linalg.inv(X.T.dot(X))).dot(X.T).dot(y)\n",
    "        self.w = w[1:]\n",
    "        self.w0 = w[0]\n",
    "        \n",
    "    def predict(self, test_features):\n",
    "        return test_features.dot(self.w) + self.w0"
   ]
  },
  {
   "cell_type": "code",
   "execution_count": 9,
   "metadata": {
    "scrolled": true
   },
   "outputs": [
    {
     "data": {
      "text/plain": [
       "0.42494550286668"
      ]
     },
     "execution_count": 9,
     "metadata": {},
     "output_type": "execute_result"
    }
   ],
   "source": [
    "# метрика оригинальной таблицы\n",
    "model = LR()\n",
    "model.fit(features, target)\n",
    "predictions = model.predict(features)\n",
    "r2_original = r2_score(target, predictions)\n",
    "r2_original"
   ]
  },
  {
   "cell_type": "code",
   "execution_count": 10,
   "metadata": {},
   "outputs": [],
   "source": [
    "P = np.random.randint(10, size=(features.shape[1], features.shape[1])) # случайная обратимая матрица\n",
    "np.linalg.inv(P) # проверка, обратима ли матрица\n",
    "N = features.dot(P) # обратимую матрицу умножаем на матрицу признаков"
   ]
  },
  {
   "cell_type": "code",
   "execution_count": 11,
   "metadata": {
    "scrolled": true
   },
   "outputs": [
    {
     "data": {
      "text/plain": [
       "0.4249455027729636"
      ]
     },
     "execution_count": 11,
     "metadata": {},
     "output_type": "execute_result"
    }
   ],
   "source": [
    "# метрика преобразованной таблицы\n",
    "model.fit(N, target)\n",
    "predictions = model.predict(N)\n",
    "r2_modified = r2_score(target, predictions)\n",
    "r2_modified"
   ]
  },
  {
   "cell_type": "code",
   "execution_count": 12,
   "metadata": {},
   "outputs": [
    {
     "name": "stdout",
     "output_type": "stream",
     "text": [
      "Разница метрик на собственном алгоритме: 9.371636799926364e-11\n"
     ]
    }
   ],
   "source": [
    "print('Разница метрик на собственном алгоритме:', r2_original-r2_modified)"
   ]
  },
  {
   "cell_type": "code",
   "execution_count": 13,
   "metadata": {},
   "outputs": [
    {
     "data": {
      "text/plain": [
       "0.4249455028666801"
      ]
     },
     "execution_count": 13,
     "metadata": {},
     "output_type": "execute_result"
    }
   ],
   "source": [
    "# проверка на импортированном алгоритме\n",
    "# метрика оригинальной таблицы\n",
    "model = LinearRegression()\n",
    "model.fit(features, target)\n",
    "predictions = model.predict(features)\n",
    "r2_original = r2_score(target, predictions)\n",
    "r2_original"
   ]
  },
  {
   "cell_type": "markdown",
   "metadata": {},
   "source": [
    "Посмотрим на веса и сдвиг модели оригинальной таблицы:"
   ]
  },
  {
   "cell_type": "code",
   "execution_count": 14,
   "metadata": {},
   "outputs": [
    {
     "data": {
      "text/plain": [
       "array([ 7.92580543e-03,  3.57083050e-02, -1.70080492e-07, -1.35676623e-02])"
      ]
     },
     "execution_count": 14,
     "metadata": {},
     "output_type": "execute_result"
    }
   ],
   "source": [
    "model.coef_"
   ]
  },
  {
   "cell_type": "code",
   "execution_count": 15,
   "metadata": {},
   "outputs": [
    {
     "data": {
      "text/plain": [
       "-0.9382355041528408"
      ]
     },
     "execution_count": 15,
     "metadata": {},
     "output_type": "execute_result"
    }
   ],
   "source": [
    "model.intercept_"
   ]
  },
  {
   "cell_type": "code",
   "execution_count": 16,
   "metadata": {
    "scrolled": true
   },
   "outputs": [
    {
     "data": {
      "text/plain": [
       "0.42494550286673416"
      ]
     },
     "execution_count": 16,
     "metadata": {},
     "output_type": "execute_result"
    }
   ],
   "source": [
    "# проверка на импортированном алгоритме\n",
    "# метрика преобразованной таблицы\n",
    "model.fit(N, target)\n",
    "predictions = model.predict(N)\n",
    "r2_modified = r2_score(target, predictions)\n",
    "r2_modified"
   ]
  },
  {
   "cell_type": "markdown",
   "metadata": {},
   "source": [
    "Посмотрим на веса и сдвиг модели преобразованной таблицы:"
   ]
  },
  {
   "cell_type": "code",
   "execution_count": 17,
   "metadata": {},
   "outputs": [
    {
     "data": {
      "text/plain": [
       "array([-0.01394464,  0.03738101, -0.03600982,  0.0277825 ])"
      ]
     },
     "execution_count": 17,
     "metadata": {},
     "output_type": "execute_result"
    }
   ],
   "source": [
    "model.coef_"
   ]
  },
  {
   "cell_type": "code",
   "execution_count": 18,
   "metadata": {},
   "outputs": [
    {
     "data": {
      "text/plain": [
       "-0.9382355041546585"
      ]
     },
     "execution_count": 18,
     "metadata": {},
     "output_type": "execute_result"
    }
   ],
   "source": [
    "model.intercept_"
   ]
  },
  {
   "cell_type": "code",
   "execution_count": 19,
   "metadata": {},
   "outputs": [
    {
     "name": "stdout",
     "output_type": "stream",
     "text": [
      "Разница метрик на импортированном алгоритме: -5.4067861299245124e-14\n"
     ]
    }
   ],
   "source": [
    "print('Разница метрик на импортированном алгоритме:', r2_original-r2_modified)"
   ]
  },
  {
   "cell_type": "markdown",
   "metadata": {},
   "source": [
    "**Вывод:** \n",
    "- Предсказания почти не изменились. Совсем незначительная погрешность присутствует. Это происходит из-за умножения на обратную матрицу.\n",
    "- Алгоритм из sklearn дает лучше результат, что логично."
   ]
  },
  {
   "cell_type": "markdown",
   "metadata": {},
   "source": [
    "### 2.2 Расчеты формулами "
   ]
  },
  {
   "cell_type": "markdown",
   "metadata": {},
   "source": [
    " - $w'$ - вектор линейной регрессии, после умножения на матрицу P\n",
    "\n",
    "С учетом того, что предсказания не поменялись с добавлением матрицы P, примем следующее равенство:\n",
    "\n",
    "$$\n",
    "a=XPw'\n",
    "$$\n",
    "Из этого следует:\n",
    "$$\n",
    "Xw=XPw'\n",
    "$$\n",
    "Сократим матрицу P:\n",
    "$$\n",
    "w=Pw'\n",
    "$$\n",
    "Новый вектор линейной регрессии вычисляется по формуле:\n",
    "$$\n",
    "w'=P^{-1}w\n",
    "$$\n",
    "\n",
    "Теперь это значение мы можем подставить в начальную формулу:\n",
    "$$a=XPP^{-1}w$$\n",
    "Умножение матрицы P на обратную дает единичную матрицу: \n",
    "$$a=XEw$$\n",
    "А умножение любой матрицы на единичную дает ту же матрицу: \n",
    "$$a=Xw$$"
   ]
  },
  {
   "cell_type": "markdown",
   "metadata": {},
   "source": [
    "Мы вернулись к изначальной формуле."
   ]
  },
  {
   "cell_type": "markdown",
   "metadata": {},
   "source": [
    "### 2.3 Расчеты формулами (v2)"
   ]
  },
  {
   "cell_type": "markdown",
   "metadata": {},
   "source": [
    "Распишем предсказания оригинальной таблицы более подробно:\n",
    "\n",
    "$$\n",
    "a=Xw\n",
    "$$\n",
    "\n",
    "$$\n",
    "w = (X^T X)^{-1} X^T y\n",
    "$$\n",
    "\n",
    "$$\n",
    "a=X(X^T X)^{-1} X^T y\n",
    "$$\n",
    "\n",
    "Тоже самое сделаем для измененной таблицы:\n",
    "\n",
    "$$\n",
    "a'=XPw'\n",
    "$$\n",
    "\n",
    "$$\n",
    "w' = ((XP)^T XP)^{-1} (XP)^T y\n",
    "$$\n",
    "\n",
    "$$\n",
    "a'=XP((XP)^T XP)^{-1} (XP)^T y\n",
    "$$\n",
    "\n",
    "Здесь можно упростить формулу, с учетом того, что матрица $P$ обратима:\n",
    "\n",
    "$$\n",
    "a'=XP(P^TX^TXP)^{-1} P^TX^T y\n",
    "$$\n",
    "\n",
    "$$\n",
    "a'=XPP^{-1}(X^TX)^{-1} (P^T)^{-1}P^TX^T y\n",
    "$$\n",
    "\n",
    "$$\n",
    "a'=XE(X^TX)^{-1} EX^T y\n",
    "$$\n",
    "\n",
    "$$\n",
    "a'=X(X^T X)^{-1} X^T y\n",
    "$$\n",
    "\n",
    "Предсказания оригинальной таблицы и измененной у нас получились тождественно равны:\n",
    "\n",
    "$$\n",
    "a=X(X^T X)^{-1} X^T y\n",
    "$$\n",
    "\n",
    "$$\n",
    "a'=X(X^T X)^{-1} X^T y\n",
    "$$"
   ]
  },
  {
   "cell_type": "markdown",
   "metadata": {},
   "source": [
    "**Вывод:**\n",
    "\n",
    " - Качество линейной регрессии не изменится после умножения признаков на обратимую матрицу.\n",
    " - Нулевой элемент(w0-сдвиг) не изменится (что естественно, нулевой столбец состоит из единиц).\n",
    " - Вектор весов изменится, в зависимости от признаков, умноженных на матрицу P.\n"
   ]
  },
  {
   "cell_type": "markdown",
   "metadata": {},
   "source": [
    "## 3 Алгоритм преобразования"
   ]
  },
  {
   "cell_type": "markdown",
   "metadata": {},
   "source": [
    "**Алгоритм**\n",
    "\n",
    "1. Создание класса шифрования признаков с двумя методами.\n",
    "2. Первый метод \"Шифрование\":\n",
    "    - Создание случайной обратимой матрицы ($P$)\n",
    "    - Умножение признаков на случайную матрицу\n",
    "    - Метод возвращает матрицу \"шифрованных\" признаков\n",
    "3. Второй метод \"Расшифровка\":\n",
    "    - Умножение \"шифрованных\" признаков на обратную матрицу ($P^{-1}$)\n",
    "    - Округление до целых чисел\n",
    "    - Приведение к абсолютным значениям."
   ]
  },
  {
   "cell_type": "markdown",
   "metadata": {},
   "source": [
    "**Обоснование**\n",
    "\n",
    "Исходя из расчетов во втором пункте, мы выяснили, что умножение признаков на случайную обратимую матрицу, меняет признаки. Но на предсказаниях это не отражается, потому что затем умножение идет на обратную матрицу. В итоге мы получаем единичную матрицу, умножение на которую возвращает исходную."
   ]
  },
  {
   "cell_type": "markdown",
   "metadata": {},
   "source": [
    "## 4 Проверка алгоритма"
   ]
  },
  {
   "cell_type": "code",
   "execution_count": 20,
   "metadata": {},
   "outputs": [],
   "source": [
    "class code:\n",
    "    def coding(self, features): # шифрование признаков\n",
    "        try:\n",
    "            P = np.random.randint(1000, size=(features.shape[1], features.shape[1])) # случайная обратимая матрица\n",
    "            np.linalg.inv(P) # проверяем, обратима ли матрица\n",
    "            N = features.dot(P) # умножение на случайную матрицу\n",
    "            return N\n",
    "        except: # если матрица не обратима:\n",
    "            return code().coding(features) #  функция будет вызываться, пока не создаст обратимую матрицу\n",
    "                \n",
    "    def decoding(self, features): # расшифровка\n",
    "        return abs(np.around(N.dot(np.linalg.inv(P)))) # умножение на обратную случайную матрицу, округление"
   ]
  },
  {
   "cell_type": "code",
   "execution_count": 21,
   "metadata": {},
   "outputs": [
    {
     "data": {
      "text/plain": [
       "0.4249455028666801"
      ]
     },
     "execution_count": 21,
     "metadata": {},
     "output_type": "execute_result"
    }
   ],
   "source": [
    "# метрика оригинальной таблицы\n",
    "model.fit(features, target)\n",
    "predictions = model.predict(features)\n",
    "r2_original = r2_score(target, predictions)\n",
    "r2_original"
   ]
  },
  {
   "cell_type": "code",
   "execution_count": 22,
   "metadata": {},
   "outputs": [
    {
     "data": {
      "text/plain": [
       "0.4249455028667193"
      ]
     },
     "execution_count": 22,
     "metadata": {},
     "output_type": "execute_result"
    }
   ],
   "source": [
    "# метрика преобразованной таблицы\n",
    "coded_features = code().coding(features)\n",
    "model.fit(coded_features, target)\n",
    "predictions = model.predict(coded_features)\n",
    "r2_modified = r2_score(target, predictions)\n",
    "r2_modified"
   ]
  },
  {
   "cell_type": "code",
   "execution_count": 23,
   "metadata": {},
   "outputs": [
    {
     "name": "stdout",
     "output_type": "stream",
     "text": [
      "Разница метрик до и после преобразования: -3.9190872769268026e-14\n"
     ]
    }
   ],
   "source": [
    "print('Разница метрик до и после преобразования:', r2_original-r2_modified)"
   ]
  },
  {
   "cell_type": "code",
   "execution_count": 24,
   "metadata": {
    "scrolled": true
   },
   "outputs": [
    {
     "data": {
      "text/plain": [
       "True"
      ]
     },
     "execution_count": 24,
     "metadata": {},
     "output_type": "execute_result"
    }
   ],
   "source": [
    "np.allclose(code().decoding(coded_features), features) # проверка алгоритма расшифровки"
   ]
  },
  {
   "cell_type": "code",
   "execution_count": 25,
   "metadata": {},
   "outputs": [
    {
     "data": {
      "text/plain": [
       "array([[13804368., 20843688., 25061963., 22137101.],\n",
       "       [10581232., 15972270., 19204661., 16964880.],\n",
       "       [ 5848759.,  8827656., 10613961.,  9376208.],\n",
       "       ...,\n",
       "       [ 9431952., 14243532., 17126574., 15127816.],\n",
       "       [ 9099451., 13740924., 16522486., 14594389.],\n",
       "       [11297545., 17060256., 20512946., 18118525.]])"
      ]
     },
     "execution_count": 25,
     "metadata": {},
     "output_type": "execute_result"
    }
   ],
   "source": [
    "coded_features # шифрованные данные"
   ]
  },
  {
   "cell_type": "markdown",
   "metadata": {},
   "source": [
    "**Вывод:**"
   ]
  },
  {
   "cell_type": "markdown",
   "metadata": {},
   "source": [
    "- Качество линейной регресии не изменилось после умножения на обратимую матрицу.\n",
    "- Алгоритм по расшифровке признаков работает. Возвращаются исходные значения.\n",
    "- Довольно сложно будет восстановить персональную информацию, потому что признаки умножаются на случайные числа в пределах 1000."
   ]
  }
 ],
 "metadata": {
  "ExecuteTimeLog": [
   {
    "duration": 581,
    "start_time": "2022-05-05T18:57:24.682Z"
   },
   {
    "duration": 47,
    "start_time": "2022-05-05T18:58:00.920Z"
   },
   {
    "duration": 49,
    "start_time": "2022-05-05T18:58:12.263Z"
   },
   {
    "duration": 39,
    "start_time": "2022-05-05T18:58:16.566Z"
   },
   {
    "duration": 34,
    "start_time": "2022-05-05T18:58:21.929Z"
   },
   {
    "duration": 47,
    "start_time": "2022-05-05T18:58:27.572Z"
   },
   {
    "duration": 45,
    "start_time": "2022-05-05T18:58:33.332Z"
   },
   {
    "duration": 11,
    "start_time": "2022-05-05T18:59:35.207Z"
   },
   {
    "duration": 52,
    "start_time": "2022-05-06T09:10:32.484Z"
   },
   {
    "duration": 399,
    "start_time": "2022-05-06T09:10:35.324Z"
   },
   {
    "duration": 53,
    "start_time": "2022-05-06T09:10:37.380Z"
   },
   {
    "duration": 7,
    "start_time": "2022-05-06T09:10:42.803Z"
   },
   {
    "duration": 3,
    "start_time": "2022-05-07T06:27:31.673Z"
   },
   {
    "duration": 39,
    "start_time": "2022-05-07T06:27:34.999Z"
   },
   {
    "duration": 4,
    "start_time": "2022-05-07T06:27:37.902Z"
   },
   {
    "duration": 7,
    "start_time": "2022-05-07T06:27:51.446Z"
   },
   {
    "duration": 10,
    "start_time": "2022-05-07T06:28:33.028Z"
   },
   {
    "duration": 7,
    "start_time": "2022-05-07T06:28:38.521Z"
   },
   {
    "duration": 10,
    "start_time": "2022-05-07T06:30:10.102Z"
   },
   {
    "duration": 10,
    "start_time": "2022-05-07T06:30:24.494Z"
   },
   {
    "duration": 9,
    "start_time": "2022-05-07T06:32:50.598Z"
   },
   {
    "duration": 6,
    "start_time": "2022-05-07T06:32:55.566Z"
   },
   {
    "duration": 27,
    "start_time": "2022-05-07T06:34:44.778Z"
   },
   {
    "duration": 4,
    "start_time": "2022-05-07T06:34:53.889Z"
   },
   {
    "duration": 4,
    "start_time": "2022-05-07T06:35:24.615Z"
   },
   {
    "duration": 5,
    "start_time": "2022-05-07T06:35:38.870Z"
   },
   {
    "duration": 4,
    "start_time": "2022-05-07T06:47:52.723Z"
   },
   {
    "duration": 4,
    "start_time": "2022-05-07T06:50:11.678Z"
   },
   {
    "duration": 4,
    "start_time": "2022-05-07T06:50:35.636Z"
   },
   {
    "duration": 5,
    "start_time": "2022-05-07T07:37:02.622Z"
   },
   {
    "duration": 653,
    "start_time": "2022-05-07T08:09:19.835Z"
   },
   {
    "duration": 41,
    "start_time": "2022-05-07T08:09:24.276Z"
   },
   {
    "duration": 6,
    "start_time": "2022-05-07T08:09:43.482Z"
   },
   {
    "duration": 7,
    "start_time": "2022-05-07T08:09:45.498Z"
   },
   {
    "duration": 5,
    "start_time": "2022-05-07T08:17:21.854Z"
   },
   {
    "duration": 8,
    "start_time": "2022-05-07T08:18:44.305Z"
   },
   {
    "duration": 127,
    "start_time": "2022-05-07T08:20:33.379Z"
   },
   {
    "duration": 8,
    "start_time": "2022-05-07T08:20:54.562Z"
   },
   {
    "duration": 9,
    "start_time": "2022-05-07T08:21:02.185Z"
   },
   {
    "duration": 6,
    "start_time": "2022-05-07T08:21:09.377Z"
   },
   {
    "duration": 7,
    "start_time": "2022-05-07T08:21:25.240Z"
   },
   {
    "duration": 11,
    "start_time": "2022-05-07T08:21:44.400Z"
   },
   {
    "duration": 10,
    "start_time": "2022-05-07T08:22:23.758Z"
   },
   {
    "duration": 13,
    "start_time": "2022-05-07T08:22:34.276Z"
   },
   {
    "duration": 17,
    "start_time": "2022-05-07T08:22:38.979Z"
   },
   {
    "duration": 4,
    "start_time": "2022-05-07T08:25:36.186Z"
   },
   {
    "duration": 6,
    "start_time": "2022-05-07T08:25:56.170Z"
   },
   {
    "duration": 14,
    "start_time": "2022-05-07T08:26:14.962Z"
   },
   {
    "duration": 4,
    "start_time": "2022-05-07T08:30:39.276Z"
   },
   {
    "duration": 6,
    "start_time": "2022-05-07T08:30:48.684Z"
   },
   {
    "duration": 6,
    "start_time": "2022-05-07T08:31:02.627Z"
   },
   {
    "duration": 7,
    "start_time": "2022-05-07T08:31:17.658Z"
   },
   {
    "duration": 7,
    "start_time": "2022-05-07T08:31:42.248Z"
   },
   {
    "duration": 7,
    "start_time": "2022-05-07T08:32:17.710Z"
   },
   {
    "duration": 3,
    "start_time": "2022-05-07T08:32:49.102Z"
   },
   {
    "duration": 4,
    "start_time": "2022-05-07T08:34:46.472Z"
   },
   {
    "duration": 8,
    "start_time": "2022-05-07T08:34:58.927Z"
   },
   {
    "duration": 4,
    "start_time": "2022-05-07T08:36:44.851Z"
   },
   {
    "duration": 4,
    "start_time": "2022-05-07T08:36:58.577Z"
   },
   {
    "duration": 7,
    "start_time": "2022-05-07T08:37:04.568Z"
   },
   {
    "duration": 5,
    "start_time": "2022-05-07T08:37:18.120Z"
   },
   {
    "duration": 4,
    "start_time": "2022-05-07T08:37:20.512Z"
   },
   {
    "duration": 5,
    "start_time": "2022-05-07T08:37:27.344Z"
   },
   {
    "duration": 5,
    "start_time": "2022-05-07T08:38:30.972Z"
   },
   {
    "duration": 8,
    "start_time": "2022-05-07T08:38:33.292Z"
   },
   {
    "duration": 4,
    "start_time": "2022-05-07T08:38:55.052Z"
   },
   {
    "duration": 7,
    "start_time": "2022-05-07T08:38:57.658Z"
   },
   {
    "duration": 12,
    "start_time": "2022-05-07T08:39:01.235Z"
   },
   {
    "duration": 9,
    "start_time": "2022-05-07T08:39:02.139Z"
   },
   {
    "duration": 7,
    "start_time": "2022-05-07T08:39:02.835Z"
   },
   {
    "duration": 12,
    "start_time": "2022-05-07T08:39:03.499Z"
   },
   {
    "duration": 7,
    "start_time": "2022-05-07T08:39:04.154Z"
   },
   {
    "duration": 7,
    "start_time": "2022-05-07T08:39:04.771Z"
   },
   {
    "duration": 6,
    "start_time": "2022-05-07T08:39:05.386Z"
   },
   {
    "duration": 8,
    "start_time": "2022-05-07T08:39:06.042Z"
   },
   {
    "duration": 12,
    "start_time": "2022-05-07T08:39:06.634Z"
   },
   {
    "duration": 10,
    "start_time": "2022-05-07T08:39:07.258Z"
   },
   {
    "duration": 11,
    "start_time": "2022-05-07T08:39:08.474Z"
   },
   {
    "duration": 11,
    "start_time": "2022-05-07T08:39:09.163Z"
   },
   {
    "duration": 5,
    "start_time": "2022-05-07T08:39:23.978Z"
   },
   {
    "duration": 7,
    "start_time": "2022-05-07T08:39:26.346Z"
   },
   {
    "duration": 7,
    "start_time": "2022-05-07T08:39:28.569Z"
   },
   {
    "duration": 7,
    "start_time": "2022-05-07T08:39:29.417Z"
   },
   {
    "duration": 7,
    "start_time": "2022-05-07T08:39:30.018Z"
   },
   {
    "duration": 7,
    "start_time": "2022-05-07T08:39:30.561Z"
   },
   {
    "duration": 6,
    "start_time": "2022-05-07T08:39:31.058Z"
   },
   {
    "duration": 7,
    "start_time": "2022-05-07T08:39:31.473Z"
   },
   {
    "duration": 8,
    "start_time": "2022-05-07T08:39:31.857Z"
   },
   {
    "duration": 7,
    "start_time": "2022-05-07T08:42:18.321Z"
   },
   {
    "duration": 1053,
    "start_time": "2022-05-07T08:47:01.526Z"
   },
   {
    "duration": 36,
    "start_time": "2022-05-07T08:47:02.582Z"
   },
   {
    "duration": 3,
    "start_time": "2022-05-07T08:47:02.620Z"
   },
   {
    "duration": 24,
    "start_time": "2022-05-07T08:47:02.625Z"
   },
   {
    "duration": 13,
    "start_time": "2022-05-07T08:47:02.652Z"
   },
   {
    "duration": 17,
    "start_time": "2022-05-07T08:47:02.667Z"
   },
   {
    "duration": 12,
    "start_time": "2022-05-07T08:47:02.685Z"
   },
   {
    "duration": 8,
    "start_time": "2022-05-07T08:47:02.699Z"
   },
   {
    "duration": 10,
    "start_time": "2022-05-07T08:47:02.709Z"
   },
   {
    "duration": 16,
    "start_time": "2022-05-07T08:47:02.721Z"
   },
   {
    "duration": 187,
    "start_time": "2022-05-07T08:47:02.775Z"
   },
   {
    "duration": 0,
    "start_time": "2022-05-07T08:47:02.964Z"
   },
   {
    "duration": 0,
    "start_time": "2022-05-07T08:47:02.964Z"
   },
   {
    "duration": 0,
    "start_time": "2022-05-07T08:47:02.973Z"
   },
   {
    "duration": 9,
    "start_time": "2022-05-07T08:48:43.752Z"
   },
   {
    "duration": 5,
    "start_time": "2022-05-07T08:49:03.556Z"
   },
   {
    "duration": 4,
    "start_time": "2022-05-07T08:49:52.867Z"
   },
   {
    "duration": 22,
    "start_time": "2022-05-07T08:49:55.474Z"
   },
   {
    "duration": 7,
    "start_time": "2022-05-07T08:51:18.750Z"
   },
   {
    "duration": 5,
    "start_time": "2022-05-07T08:51:21.766Z"
   },
   {
    "duration": 9,
    "start_time": "2022-05-07T08:51:24.053Z"
   },
   {
    "duration": 7,
    "start_time": "2022-05-07T08:51:36.268Z"
   },
   {
    "duration": 4,
    "start_time": "2022-05-07T11:13:08.951Z"
   },
   {
    "duration": 8,
    "start_time": "2022-05-07T11:13:11.439Z"
   },
   {
    "duration": 80,
    "start_time": "2022-05-07T11:13:13.895Z"
   },
   {
    "duration": 25,
    "start_time": "2022-05-07T11:13:56.286Z"
   },
   {
    "duration": 68,
    "start_time": "2022-05-07T11:13:59.908Z"
   },
   {
    "duration": 3,
    "start_time": "2022-05-07T11:14:07.013Z"
   },
   {
    "duration": 6,
    "start_time": "2022-05-07T11:14:10.140Z"
   },
   {
    "duration": 10,
    "start_time": "2022-05-07T11:14:13.357Z"
   },
   {
    "duration": 6,
    "start_time": "2022-05-07T11:14:18.144Z"
   },
   {
    "duration": 6,
    "start_time": "2022-05-07T11:14:21.011Z"
   },
   {
    "duration": 4,
    "start_time": "2022-05-07T11:14:23.339Z"
   },
   {
    "duration": 4,
    "start_time": "2022-05-07T11:14:27.212Z"
   },
   {
    "duration": 7,
    "start_time": "2022-05-07T11:14:29.483Z"
   },
   {
    "duration": 4,
    "start_time": "2022-05-07T11:14:32.130Z"
   },
   {
    "duration": 7,
    "start_time": "2022-05-07T11:14:34.162Z"
   },
   {
    "duration": 9,
    "start_time": "2022-05-07T11:14:55.498Z"
   },
   {
    "duration": 14,
    "start_time": "2022-05-07T11:15:26.305Z"
   },
   {
    "duration": 100,
    "start_time": "2022-05-08T07:50:20.302Z"
   },
   {
    "duration": 5,
    "start_time": "2022-05-08T07:50:26.139Z"
   },
   {
    "duration": 6,
    "start_time": "2022-05-08T07:50:30.867Z"
   },
   {
    "duration": 4,
    "start_time": "2022-05-08T07:50:31.659Z"
   },
   {
    "duration": 4,
    "start_time": "2022-05-08T07:50:32.211Z"
   },
   {
    "duration": 5,
    "start_time": "2022-05-08T07:50:35.579Z"
   },
   {
    "duration": 5,
    "start_time": "2022-05-08T07:50:36.850Z"
   },
   {
    "duration": 5,
    "start_time": "2022-05-08T07:50:37.683Z"
   },
   {
    "duration": 5,
    "start_time": "2022-05-08T07:50:38.242Z"
   },
   {
    "duration": 5,
    "start_time": "2022-05-08T07:50:38.722Z"
   },
   {
    "duration": 4,
    "start_time": "2022-05-08T07:50:42.267Z"
   },
   {
    "duration": 7,
    "start_time": "2022-05-08T07:50:42.970Z"
   },
   {
    "duration": 4,
    "start_time": "2022-05-08T07:50:43.466Z"
   },
   {
    "duration": 4,
    "start_time": "2022-05-08T07:50:43.881Z"
   },
   {
    "duration": 4,
    "start_time": "2022-05-08T07:50:48.386Z"
   },
   {
    "duration": 5,
    "start_time": "2022-05-08T07:50:49.033Z"
   },
   {
    "duration": 5,
    "start_time": "2022-05-08T07:50:49.433Z"
   },
   {
    "duration": 4,
    "start_time": "2022-05-08T07:50:53.786Z"
   },
   {
    "duration": 4,
    "start_time": "2022-05-08T07:50:54.553Z"
   },
   {
    "duration": 5,
    "start_time": "2022-05-08T07:50:54.953Z"
   },
   {
    "duration": 4,
    "start_time": "2022-05-08T07:50:55.337Z"
   },
   {
    "duration": 5,
    "start_time": "2022-05-08T07:51:03.849Z"
   },
   {
    "duration": 5,
    "start_time": "2022-05-08T07:51:07.737Z"
   },
   {
    "duration": 5,
    "start_time": "2022-05-08T07:51:14.257Z"
   },
   {
    "duration": 5,
    "start_time": "2022-05-08T07:51:15.440Z"
   },
   {
    "duration": 5,
    "start_time": "2022-05-08T07:51:46.599Z"
   },
   {
    "duration": 4,
    "start_time": "2022-05-08T07:51:47.823Z"
   },
   {
    "duration": 4,
    "start_time": "2022-05-08T07:51:48.695Z"
   },
   {
    "duration": 6,
    "start_time": "2022-05-08T07:51:49.815Z"
   },
   {
    "duration": 5,
    "start_time": "2022-05-08T07:51:50.718Z"
   },
   {
    "duration": 4,
    "start_time": "2022-05-08T07:51:51.718Z"
   },
   {
    "duration": 7,
    "start_time": "2022-05-08T07:52:54.436Z"
   },
   {
    "duration": 7,
    "start_time": "2022-05-08T07:53:17.355Z"
   },
   {
    "duration": 5,
    "start_time": "2022-05-08T07:53:37.946Z"
   },
   {
    "duration": 6,
    "start_time": "2022-05-08T07:53:49.147Z"
   },
   {
    "duration": 6,
    "start_time": "2022-05-08T07:56:39.361Z"
   },
   {
    "duration": 6,
    "start_time": "2022-05-08T07:57:04.703Z"
   },
   {
    "duration": 5,
    "start_time": "2022-05-08T07:57:09.935Z"
   },
   {
    "duration": 5,
    "start_time": "2022-05-08T07:57:44.678Z"
   },
   {
    "duration": 6,
    "start_time": "2022-05-08T07:57:56.965Z"
   },
   {
    "duration": 6,
    "start_time": "2022-05-08T07:58:03.956Z"
   },
   {
    "duration": 6,
    "start_time": "2022-05-08T07:58:04.828Z"
   },
   {
    "duration": 6,
    "start_time": "2022-05-08T07:58:05.820Z"
   },
   {
    "duration": 6,
    "start_time": "2022-05-08T07:58:06.883Z"
   },
   {
    "duration": 6,
    "start_time": "2022-05-08T07:58:21.316Z"
   },
   {
    "duration": 6,
    "start_time": "2022-05-08T07:58:27.700Z"
   },
   {
    "duration": 7,
    "start_time": "2022-05-08T07:58:40.027Z"
   },
   {
    "duration": 7,
    "start_time": "2022-05-08T07:58:42.306Z"
   },
   {
    "duration": 7,
    "start_time": "2022-05-08T08:02:31.904Z"
   },
   {
    "duration": 6,
    "start_time": "2022-05-08T12:20:29.313Z"
   },
   {
    "duration": 6,
    "start_time": "2022-05-08T12:20:39.569Z"
   },
   {
    "duration": 7,
    "start_time": "2022-05-08T12:20:44.520Z"
   },
   {
    "duration": 8,
    "start_time": "2022-05-08T12:20:45.817Z"
   },
   {
    "duration": 6,
    "start_time": "2022-05-08T12:20:47.656Z"
   },
   {
    "duration": 7,
    "start_time": "2022-05-08T12:20:55.159Z"
   },
   {
    "duration": 6,
    "start_time": "2022-05-08T12:20:57.543Z"
   },
   {
    "duration": 20,
    "start_time": "2022-05-08T12:32:12.119Z"
   },
   {
    "duration": 10,
    "start_time": "2022-05-08T12:32:21.518Z"
   },
   {
    "duration": 7,
    "start_time": "2022-05-08T12:32:26.318Z"
   },
   {
    "duration": 8,
    "start_time": "2022-05-08T12:48:48.444Z"
   },
   {
    "duration": 8,
    "start_time": "2022-05-08T12:49:06.930Z"
   },
   {
    "duration": 4,
    "start_time": "2022-05-08T12:58:32.107Z"
   },
   {
    "duration": 7,
    "start_time": "2022-05-08T12:58:33.282Z"
   },
   {
    "duration": 4,
    "start_time": "2022-05-08T12:58:34.074Z"
   },
   {
    "duration": 6,
    "start_time": "2022-05-08T12:58:35.251Z"
   },
   {
    "duration": 9,
    "start_time": "2022-05-08T12:58:41.442Z"
   },
   {
    "duration": 8,
    "start_time": "2022-05-08T12:58:45.066Z"
   },
   {
    "duration": 123,
    "start_time": "2022-05-08T13:01:31.755Z"
   },
   {
    "duration": 4,
    "start_time": "2022-05-08T13:03:16.054Z"
   },
   {
    "duration": 6,
    "start_time": "2022-05-08T13:05:23.881Z"
   },
   {
    "duration": 1053,
    "start_time": "2022-05-08T13:05:52.119Z"
   },
   {
    "duration": 29,
    "start_time": "2022-05-08T13:05:53.175Z"
   },
   {
    "duration": 3,
    "start_time": "2022-05-08T13:05:53.206Z"
   },
   {
    "duration": 11,
    "start_time": "2022-05-08T13:05:53.211Z"
   },
   {
    "duration": 8,
    "start_time": "2022-05-08T13:05:53.224Z"
   },
   {
    "duration": 5,
    "start_time": "2022-05-08T13:05:53.234Z"
   },
   {
    "duration": 34,
    "start_time": "2022-05-08T13:05:53.241Z"
   },
   {
    "duration": 5,
    "start_time": "2022-05-08T13:05:53.276Z"
   },
   {
    "duration": 5,
    "start_time": "2022-05-08T13:05:53.283Z"
   },
   {
    "duration": 83,
    "start_time": "2022-05-08T13:05:53.290Z"
   },
   {
    "duration": 102,
    "start_time": "2022-05-08T13:05:53.376Z"
   },
   {
    "duration": 95,
    "start_time": "2022-05-08T13:05:53.480Z"
   },
   {
    "duration": 104,
    "start_time": "2022-05-08T13:05:53.578Z"
   },
   {
    "duration": 193,
    "start_time": "2022-05-08T13:05:53.685Z"
   },
   {
    "duration": 194,
    "start_time": "2022-05-08T13:05:53.880Z"
   },
   {
    "duration": 10,
    "start_time": "2022-05-08T13:05:54.076Z"
   },
   {
    "duration": 5,
    "start_time": "2022-05-08T14:00:46.693Z"
   },
   {
    "duration": 3,
    "start_time": "2022-05-08T14:00:57.653Z"
   },
   {
    "duration": 7,
    "start_time": "2022-05-08T14:00:59.516Z"
   },
   {
    "duration": 5,
    "start_time": "2022-05-08T14:01:01.212Z"
   },
   {
    "duration": 8,
    "start_time": "2022-05-08T14:01:02.404Z"
   },
   {
    "duration": 12,
    "start_time": "2022-05-08T14:01:07.716Z"
   },
   {
    "duration": 9,
    "start_time": "2022-05-08T14:01:09.220Z"
   },
   {
    "duration": 6,
    "start_time": "2022-05-08T14:01:11.997Z"
   },
   {
    "duration": 5,
    "start_time": "2022-05-08T14:01:13.852Z"
   },
   {
    "duration": 102,
    "start_time": "2022-05-08T14:23:24.215Z"
   },
   {
    "duration": 211,
    "start_time": "2022-05-08T14:23:29.543Z"
   },
   {
    "duration": 16,
    "start_time": "2022-05-08T14:24:30.157Z"
   },
   {
    "duration": 18,
    "start_time": "2022-05-08T14:24:52.292Z"
   },
   {
    "duration": 6,
    "start_time": "2022-05-08T14:25:09.323Z"
   },
   {
    "duration": 5,
    "start_time": "2022-05-11T04:17:47.836Z"
   },
   {
    "duration": 9,
    "start_time": "2022-05-11T04:18:02.081Z"
   },
   {
    "duration": 9,
    "start_time": "2022-05-11T04:18:31.220Z"
   },
   {
    "duration": 7,
    "start_time": "2022-05-11T04:18:39.756Z"
   },
   {
    "duration": 3,
    "start_time": "2022-05-11T05:05:19.183Z"
   },
   {
    "duration": 4,
    "start_time": "2022-05-11T05:31:33.514Z"
   },
   {
    "duration": 18,
    "start_time": "2022-05-11T05:46:45.793Z"
   },
   {
    "duration": 20,
    "start_time": "2022-05-11T05:47:06.207Z"
   },
   {
    "duration": 12,
    "start_time": "2022-05-11T05:47:13.674Z"
   },
   {
    "duration": 11,
    "start_time": "2022-05-11T05:47:39.578Z"
   },
   {
    "duration": 12,
    "start_time": "2022-05-11T05:47:48.137Z"
   },
   {
    "duration": 13,
    "start_time": "2022-05-11T05:48:35.353Z"
   },
   {
    "duration": 10,
    "start_time": "2022-05-11T05:48:44.065Z"
   },
   {
    "duration": 4,
    "start_time": "2022-05-11T05:48:49.729Z"
   },
   {
    "duration": 12,
    "start_time": "2022-05-11T05:48:52.352Z"
   },
   {
    "duration": 4,
    "start_time": "2022-05-11T05:56:42.143Z"
   },
   {
    "duration": 13,
    "start_time": "2022-05-11T05:56:44.862Z"
   },
   {
    "duration": 4,
    "start_time": "2022-05-11T05:56:53.093Z"
   },
   {
    "duration": 4,
    "start_time": "2022-05-11T05:56:55.566Z"
   },
   {
    "duration": 10,
    "start_time": "2022-05-11T05:57:13.605Z"
   },
   {
    "duration": 8,
    "start_time": "2022-05-11T05:57:16.982Z"
   },
   {
    "duration": 5,
    "start_time": "2022-05-11T05:57:20.717Z"
   },
   {
    "duration": 3,
    "start_time": "2022-05-11T05:57:24.694Z"
   },
   {
    "duration": 6,
    "start_time": "2022-05-11T05:57:28.949Z"
   },
   {
    "duration": 5,
    "start_time": "2022-05-11T05:57:31.702Z"
   },
   {
    "duration": 5,
    "start_time": "2022-05-11T05:57:33.285Z"
   },
   {
    "duration": 7,
    "start_time": "2022-05-11T06:07:22.530Z"
   },
   {
    "duration": 4,
    "start_time": "2022-05-11T06:08:13.418Z"
   },
   {
    "duration": 8,
    "start_time": "2022-05-11T06:08:16.248Z"
   },
   {
    "duration": 4,
    "start_time": "2022-05-11T06:08:57.578Z"
   },
   {
    "duration": 4,
    "start_time": "2022-05-11T06:09:15.570Z"
   },
   {
    "duration": 1149,
    "start_time": "2022-05-11T06:09:25.255Z"
   },
   {
    "duration": 35,
    "start_time": "2022-05-11T06:09:26.406Z"
   },
   {
    "duration": 3,
    "start_time": "2022-05-11T06:09:26.443Z"
   },
   {
    "duration": 12,
    "start_time": "2022-05-11T06:09:26.448Z"
   },
   {
    "duration": 11,
    "start_time": "2022-05-11T06:09:26.462Z"
   },
   {
    "duration": 5,
    "start_time": "2022-05-11T06:09:26.474Z"
   },
   {
    "duration": 5,
    "start_time": "2022-05-11T06:09:26.481Z"
   },
   {
    "duration": 12,
    "start_time": "2022-05-11T06:09:26.488Z"
   },
   {
    "duration": 7,
    "start_time": "2022-05-11T06:09:26.501Z"
   },
   {
    "duration": 8,
    "start_time": "2022-05-11T06:09:26.509Z"
   },
   {
    "duration": 153,
    "start_time": "2022-05-11T06:09:26.519Z"
   },
   {
    "duration": 4,
    "start_time": "2022-05-11T06:09:26.675Z"
   },
   {
    "duration": 102,
    "start_time": "2022-05-11T06:09:26.681Z"
   },
   {
    "duration": 8,
    "start_time": "2022-05-11T06:09:26.877Z"
   },
   {
    "duration": 199,
    "start_time": "2022-05-11T06:09:26.887Z"
   },
   {
    "duration": 184,
    "start_time": "2022-05-11T06:09:27.090Z"
   },
   {
    "duration": 17,
    "start_time": "2022-05-11T06:09:27.276Z"
   },
   {
    "duration": 8,
    "start_time": "2022-05-11T06:09:27.296Z"
   },
   {
    "duration": 12,
    "start_time": "2022-05-11T06:09:27.375Z"
   },
   {
    "duration": 99,
    "start_time": "2022-05-11T06:09:27.390Z"
   },
   {
    "duration": 15,
    "start_time": "2022-05-11T06:12:01.045Z"
   },
   {
    "duration": 1087,
    "start_time": "2022-05-11T06:28:50.399Z"
   },
   {
    "duration": 36,
    "start_time": "2022-05-11T06:28:51.488Z"
   },
   {
    "duration": 3,
    "start_time": "2022-05-11T06:28:51.526Z"
   },
   {
    "duration": 11,
    "start_time": "2022-05-11T06:28:51.531Z"
   },
   {
    "duration": 13,
    "start_time": "2022-05-11T06:28:51.545Z"
   },
   {
    "duration": 18,
    "start_time": "2022-05-11T06:28:51.560Z"
   },
   {
    "duration": 9,
    "start_time": "2022-05-11T06:28:51.580Z"
   },
   {
    "duration": 10,
    "start_time": "2022-05-11T06:28:51.591Z"
   },
   {
    "duration": 7,
    "start_time": "2022-05-11T06:28:51.603Z"
   },
   {
    "duration": 7,
    "start_time": "2022-05-11T06:28:51.612Z"
   },
   {
    "duration": 153,
    "start_time": "2022-05-11T06:28:51.621Z"
   },
   {
    "duration": 9,
    "start_time": "2022-05-11T06:28:51.776Z"
   },
   {
    "duration": 187,
    "start_time": "2022-05-11T06:28:51.787Z"
   },
   {
    "duration": 101,
    "start_time": "2022-05-11T06:28:51.978Z"
   },
   {
    "duration": 210,
    "start_time": "2022-05-11T06:28:52.081Z"
   },
   {
    "duration": 191,
    "start_time": "2022-05-11T06:28:52.293Z"
   },
   {
    "duration": 20,
    "start_time": "2022-05-11T06:28:52.486Z"
   },
   {
    "duration": 165,
    "start_time": "2022-05-11T06:28:52.508Z"
   },
   {
    "duration": 4,
    "start_time": "2022-05-11T06:28:52.675Z"
   },
   {
    "duration": 4,
    "start_time": "2022-05-11T06:29:04.249Z"
   },
   {
    "duration": 7,
    "start_time": "2022-05-11T06:29:06.848Z"
   },
   {
    "duration": 6,
    "start_time": "2022-05-11T06:38:41.135Z"
   },
   {
    "duration": 160,
    "start_time": "2022-05-11T06:39:05.613Z"
   },
   {
    "duration": 12,
    "start_time": "2022-05-11T06:39:09.030Z"
   },
   {
    "duration": 11,
    "start_time": "2022-05-11T06:39:09.998Z"
   },
   {
    "duration": 9,
    "start_time": "2022-05-11T06:39:10.622Z"
   },
   {
    "duration": 9,
    "start_time": "2022-05-11T06:39:11.173Z"
   },
   {
    "duration": 10,
    "start_time": "2022-05-11T06:39:11.749Z"
   },
   {
    "duration": 11,
    "start_time": "2022-05-11T06:39:12.261Z"
   },
   {
    "duration": 11,
    "start_time": "2022-05-11T06:39:12.742Z"
   },
   {
    "duration": 11,
    "start_time": "2022-05-11T06:39:13.270Z"
   },
   {
    "duration": 11,
    "start_time": "2022-05-11T06:39:13.797Z"
   },
   {
    "duration": 11,
    "start_time": "2022-05-11T06:39:14.262Z"
   },
   {
    "duration": 13,
    "start_time": "2022-05-11T06:39:14.789Z"
   },
   {
    "duration": 10,
    "start_time": "2022-05-11T06:40:26.830Z"
   },
   {
    "duration": 11,
    "start_time": "2022-05-11T06:40:27.565Z"
   },
   {
    "duration": 17,
    "start_time": "2022-05-11T08:20:34.946Z"
   },
   {
    "duration": 6,
    "start_time": "2022-05-11T08:22:12.801Z"
   },
   {
    "duration": 9,
    "start_time": "2022-05-11T08:22:51.073Z"
   },
   {
    "duration": 6,
    "start_time": "2022-05-11T08:23:05.601Z"
   },
   {
    "duration": 5,
    "start_time": "2022-05-11T08:23:09.369Z"
   },
   {
    "duration": 13,
    "start_time": "2022-05-11T08:23:09.881Z"
   },
   {
    "duration": 117,
    "start_time": "2022-05-11T08:23:32.121Z"
   },
   {
    "duration": 4,
    "start_time": "2022-05-11T08:23:34.560Z"
   },
   {
    "duration": 5,
    "start_time": "2022-05-11T08:23:36.608Z"
   },
   {
    "duration": 5,
    "start_time": "2022-05-11T08:23:47.369Z"
   },
   {
    "duration": 7,
    "start_time": "2022-05-11T08:35:03.565Z"
   },
   {
    "duration": 6,
    "start_time": "2022-05-11T08:35:35.734Z"
   },
   {
    "duration": 10,
    "start_time": "2022-05-11T08:35:59.705Z"
   },
   {
    "duration": 4,
    "start_time": "2022-05-11T08:36:34.869Z"
   },
   {
    "duration": 5,
    "start_time": "2022-05-11T08:36:37.636Z"
   },
   {
    "duration": 7,
    "start_time": "2022-05-11T08:36:40.300Z"
   },
   {
    "duration": 49,
    "start_time": "2022-05-11T08:36:52.172Z"
   },
   {
    "duration": 9,
    "start_time": "2022-05-11T08:36:54.556Z"
   },
   {
    "duration": 16,
    "start_time": "2022-05-11T08:36:56.771Z"
   },
   {
    "duration": 13,
    "start_time": "2022-05-11T08:36:57.712Z"
   },
   {
    "duration": 13,
    "start_time": "2022-05-11T08:36:58.432Z"
   },
   {
    "duration": 41,
    "start_time": "2022-05-11T08:36:59.068Z"
   },
   {
    "duration": 21,
    "start_time": "2022-05-11T08:37:00.200Z"
   },
   {
    "duration": 12,
    "start_time": "2022-05-11T08:37:02.749Z"
   },
   {
    "duration": 5,
    "start_time": "2022-05-11T08:38:00.932Z"
   },
   {
    "duration": 6,
    "start_time": "2022-05-11T08:38:02.278Z"
   },
   {
    "duration": 5,
    "start_time": "2022-05-11T08:38:03.001Z"
   },
   {
    "duration": 6,
    "start_time": "2022-05-11T08:38:04.108Z"
   },
   {
    "duration": 5,
    "start_time": "2022-05-11T08:38:05.132Z"
   },
   {
    "duration": 6,
    "start_time": "2022-05-11T08:38:05.844Z"
   },
   {
    "duration": 5,
    "start_time": "2022-05-11T08:38:07.028Z"
   },
   {
    "duration": 6,
    "start_time": "2022-05-11T08:40:56.515Z"
   },
   {
    "duration": 6,
    "start_time": "2022-05-11T08:45:53.722Z"
   },
   {
    "duration": 5,
    "start_time": "2022-05-11T08:58:45.646Z"
   },
   {
    "duration": 9,
    "start_time": "2022-05-11T09:20:37.229Z"
   },
   {
    "duration": 10,
    "start_time": "2022-05-11T09:20:37.940Z"
   },
   {
    "duration": 12,
    "start_time": "2022-05-11T09:20:38.620Z"
   },
   {
    "duration": 112,
    "start_time": "2022-05-11T09:23:26.124Z"
   },
   {
    "duration": 8,
    "start_time": "2022-05-11T09:59:19.614Z"
   },
   {
    "duration": 9,
    "start_time": "2022-05-11T09:59:46.430Z"
   },
   {
    "duration": 4,
    "start_time": "2022-05-11T10:00:07.621Z"
   },
   {
    "duration": 17,
    "start_time": "2022-05-11T10:01:06.394Z"
   },
   {
    "duration": 11,
    "start_time": "2022-05-11T10:01:08.933Z"
   },
   {
    "duration": 4,
    "start_time": "2022-05-11T10:01:13.165Z"
   },
   {
    "duration": 9,
    "start_time": "2022-05-11T10:01:24.661Z"
   },
   {
    "duration": 11,
    "start_time": "2022-05-11T10:01:26.757Z"
   },
   {
    "duration": 12,
    "start_time": "2022-05-11T10:01:36.653Z"
   },
   {
    "duration": 9,
    "start_time": "2022-05-11T10:01:37.565Z"
   },
   {
    "duration": 15,
    "start_time": "2022-05-11T10:01:38.201Z"
   },
   {
    "duration": 12,
    "start_time": "2022-05-11T10:01:41.061Z"
   },
   {
    "duration": 11,
    "start_time": "2022-05-11T10:01:41.764Z"
   },
   {
    "duration": 14,
    "start_time": "2022-05-11T10:01:42.600Z"
   },
   {
    "duration": 4,
    "start_time": "2022-05-11T10:01:48.812Z"
   },
   {
    "duration": 9,
    "start_time": "2022-05-11T10:01:51.917Z"
   },
   {
    "duration": 3,
    "start_time": "2022-05-11T10:01:54.879Z"
   },
   {
    "duration": 4,
    "start_time": "2022-05-11T10:02:18.173Z"
   },
   {
    "duration": 5,
    "start_time": "2022-05-11T10:24:43.943Z"
   },
   {
    "duration": 5,
    "start_time": "2022-05-11T10:24:54.743Z"
   },
   {
    "duration": 7,
    "start_time": "2022-05-11T10:25:00.446Z"
   },
   {
    "duration": 5,
    "start_time": "2022-05-11T10:25:04.550Z"
   },
   {
    "duration": 5,
    "start_time": "2022-05-11T10:25:08.311Z"
   },
   {
    "duration": 6,
    "start_time": "2022-05-11T10:25:17.943Z"
   },
   {
    "duration": 5,
    "start_time": "2022-05-11T10:40:33.850Z"
   },
   {
    "duration": 17,
    "start_time": "2022-05-11T10:51:18.575Z"
   },
   {
    "duration": 16,
    "start_time": "2022-05-11T10:51:19.472Z"
   },
   {
    "duration": 3,
    "start_time": "2022-05-11T10:51:20.614Z"
   },
   {
    "duration": 8,
    "start_time": "2022-05-11T10:51:32.368Z"
   },
   {
    "duration": 8,
    "start_time": "2022-05-11T10:51:37.894Z"
   },
   {
    "duration": 8,
    "start_time": "2022-05-11T10:51:43.119Z"
   },
   {
    "duration": 5,
    "start_time": "2022-05-11T10:51:47.238Z"
   },
   {
    "duration": 5,
    "start_time": "2022-05-11T10:51:50.345Z"
   },
   {
    "duration": 8,
    "start_time": "2022-05-11T10:51:51.430Z"
   },
   {
    "duration": 9,
    "start_time": "2022-05-11T10:51:52.090Z"
   },
   {
    "duration": 5,
    "start_time": "2022-05-11T10:51:52.910Z"
   },
   {
    "duration": 1132,
    "start_time": "2022-05-11T10:52:11.311Z"
   },
   {
    "duration": 35,
    "start_time": "2022-05-11T10:52:12.445Z"
   },
   {
    "duration": 4,
    "start_time": "2022-05-11T10:52:12.482Z"
   },
   {
    "duration": 17,
    "start_time": "2022-05-11T10:52:12.487Z"
   },
   {
    "duration": 9,
    "start_time": "2022-05-11T10:52:12.506Z"
   },
   {
    "duration": 5,
    "start_time": "2022-05-11T10:52:12.516Z"
   },
   {
    "duration": 7,
    "start_time": "2022-05-11T10:52:12.523Z"
   },
   {
    "duration": 8,
    "start_time": "2022-05-11T10:52:12.532Z"
   },
   {
    "duration": 5,
    "start_time": "2022-05-11T10:52:12.541Z"
   },
   {
    "duration": 8,
    "start_time": "2022-05-11T10:52:12.548Z"
   },
   {
    "duration": 37,
    "start_time": "2022-05-11T10:52:12.558Z"
   },
   {
    "duration": 80,
    "start_time": "2022-05-11T10:52:12.598Z"
   },
   {
    "duration": 117,
    "start_time": "2022-05-11T10:52:12.679Z"
   },
   {
    "duration": 98,
    "start_time": "2022-05-11T10:52:12.878Z"
   },
   {
    "duration": 24,
    "start_time": "2022-05-11T10:52:12.978Z"
   },
   {
    "duration": 167,
    "start_time": "2022-05-11T10:52:13.007Z"
   },
   {
    "duration": 7,
    "start_time": "2022-05-11T10:52:13.176Z"
   },
   {
    "duration": 106,
    "start_time": "2022-05-11T10:52:13.188Z"
   },
   {
    "duration": 80,
    "start_time": "2022-05-11T10:52:13.296Z"
   },
   {
    "duration": 204,
    "start_time": "2022-05-11T10:52:13.378Z"
   },
   {
    "duration": 0,
    "start_time": "2022-05-11T10:52:13.584Z"
   },
   {
    "duration": 10,
    "start_time": "2022-05-11T10:52:40.325Z"
   },
   {
    "duration": 93,
    "start_time": "2022-05-11T10:52:47.887Z"
   },
   {
    "duration": 5,
    "start_time": "2022-05-11T10:52:51.069Z"
   },
   {
    "duration": 10,
    "start_time": "2022-05-11T10:52:52.972Z"
   },
   {
    "duration": 5,
    "start_time": "2022-05-11T10:52:53.828Z"
   },
   {
    "duration": 10,
    "start_time": "2022-05-11T10:52:55.669Z"
   },
   {
    "duration": 8,
    "start_time": "2022-05-11T10:52:56.349Z"
   },
   {
    "duration": 5,
    "start_time": "2022-05-11T10:52:57.116Z"
   },
   {
    "duration": 5,
    "start_time": "2022-05-11T10:53:09.881Z"
   },
   {
    "duration": 10,
    "start_time": "2022-05-11T10:53:33.340Z"
   },
   {
    "duration": 6,
    "start_time": "2022-05-11T10:54:12.028Z"
   },
   {
    "duration": 5,
    "start_time": "2022-05-11T10:54:16.412Z"
   },
   {
    "duration": 14,
    "start_time": "2022-05-11T10:58:20.418Z"
   },
   {
    "duration": 12,
    "start_time": "2022-05-11T10:58:21.626Z"
   },
   {
    "duration": 4,
    "start_time": "2022-05-11T10:58:23.226Z"
   },
   {
    "duration": 6,
    "start_time": "2022-05-11T10:58:34.287Z"
   },
   {
    "duration": 4,
    "start_time": "2022-05-11T11:01:18.665Z"
   },
   {
    "duration": 1191,
    "start_time": "2022-05-11T11:22:01.117Z"
   },
   {
    "duration": 47,
    "start_time": "2022-05-11T11:22:02.311Z"
   },
   {
    "duration": 4,
    "start_time": "2022-05-11T11:22:02.360Z"
   },
   {
    "duration": 67,
    "start_time": "2022-05-11T11:22:02.367Z"
   },
   {
    "duration": 83,
    "start_time": "2022-05-11T11:22:02.446Z"
   },
   {
    "duration": 7,
    "start_time": "2022-05-11T11:22:02.531Z"
   },
   {
    "duration": 9,
    "start_time": "2022-05-11T11:22:02.540Z"
   },
   {
    "duration": 22,
    "start_time": "2022-05-11T11:22:02.550Z"
   },
   {
    "duration": 43,
    "start_time": "2022-05-11T11:22:02.577Z"
   },
   {
    "duration": 7,
    "start_time": "2022-05-11T11:22:02.622Z"
   },
   {
    "duration": 54,
    "start_time": "2022-05-11T11:22:02.630Z"
   },
   {
    "duration": 110,
    "start_time": "2022-05-11T11:22:02.697Z"
   },
   {
    "duration": 181,
    "start_time": "2022-05-11T11:22:02.809Z"
   },
   {
    "duration": 109,
    "start_time": "2022-05-11T11:22:02.998Z"
   },
   {
    "duration": 13,
    "start_time": "2022-05-11T11:22:03.109Z"
   },
   {
    "duration": 74,
    "start_time": "2022-05-11T11:22:03.124Z"
   },
   {
    "duration": 200,
    "start_time": "2022-05-11T11:22:03.203Z"
   },
   {
    "duration": 12,
    "start_time": "2022-05-11T11:22:03.404Z"
   },
   {
    "duration": 18,
    "start_time": "2022-05-11T11:22:03.417Z"
   },
   {
    "duration": 160,
    "start_time": "2022-05-11T11:22:03.436Z"
   },
   {
    "duration": 201,
    "start_time": "2022-05-11T11:22:03.604Z"
   },
   {
    "duration": 14,
    "start_time": "2022-05-11T11:22:03.808Z"
   },
   {
    "duration": 47,
    "start_time": "2022-05-11T17:04:12.930Z"
   },
   {
    "duration": 1170,
    "start_time": "2022-05-11T17:04:24.606Z"
   },
   {
    "duration": 40,
    "start_time": "2022-05-11T17:04:25.778Z"
   },
   {
    "duration": 4,
    "start_time": "2022-05-11T17:04:25.819Z"
   },
   {
    "duration": 12,
    "start_time": "2022-05-11T17:04:25.825Z"
   },
   {
    "duration": 10,
    "start_time": "2022-05-11T17:04:25.840Z"
   },
   {
    "duration": 6,
    "start_time": "2022-05-11T17:04:25.852Z"
   },
   {
    "duration": 39,
    "start_time": "2022-05-11T17:04:25.859Z"
   },
   {
    "duration": 17,
    "start_time": "2022-05-11T17:04:25.900Z"
   },
   {
    "duration": 6,
    "start_time": "2022-05-11T17:04:25.919Z"
   },
   {
    "duration": 73,
    "start_time": "2022-05-11T17:04:25.926Z"
   },
   {
    "duration": 113,
    "start_time": "2022-05-11T17:04:26.001Z"
   },
   {
    "duration": 16,
    "start_time": "2022-05-11T17:04:26.116Z"
   },
   {
    "duration": 175,
    "start_time": "2022-05-11T17:04:26.134Z"
   },
   {
    "duration": 9,
    "start_time": "2022-05-11T17:04:26.312Z"
   },
   {
    "duration": 191,
    "start_time": "2022-05-11T17:04:26.323Z"
   },
   {
    "duration": 191,
    "start_time": "2022-05-11T17:04:26.516Z"
   },
   {
    "duration": 6,
    "start_time": "2022-05-11T17:04:26.710Z"
   },
   {
    "duration": 10,
    "start_time": "2022-05-11T17:04:26.717Z"
   },
   {
    "duration": 192,
    "start_time": "2022-05-11T17:04:26.728Z"
   },
   {
    "duration": 187,
    "start_time": "2022-05-11T17:04:26.923Z"
   },
   {
    "duration": 13,
    "start_time": "2022-05-11T17:04:27.112Z"
   },
   {
    "duration": 245,
    "start_time": "2022-05-11T17:04:27.127Z"
   },
   {
    "duration": 16,
    "start_time": "2022-05-11T17:04:39.086Z"
   },
   {
    "duration": 6,
    "start_time": "2022-05-11T17:05:07.572Z"
   },
   {
    "duration": 7,
    "start_time": "2022-05-11T17:05:24.700Z"
   },
   {
    "duration": 7,
    "start_time": "2022-05-11T17:07:28.789Z"
   },
   {
    "duration": 1474,
    "start_time": "2022-05-11T17:09:52.048Z"
   },
   {
    "duration": 57,
    "start_time": "2022-05-11T17:09:53.527Z"
   },
   {
    "duration": 4,
    "start_time": "2022-05-11T17:09:53.587Z"
   },
   {
    "duration": 80,
    "start_time": "2022-05-11T17:09:53.597Z"
   },
   {
    "duration": 76,
    "start_time": "2022-05-11T17:09:53.680Z"
   },
   {
    "duration": 21,
    "start_time": "2022-05-11T17:09:53.759Z"
   },
   {
    "duration": 31,
    "start_time": "2022-05-11T17:09:53.782Z"
   },
   {
    "duration": 22,
    "start_time": "2022-05-11T17:09:53.815Z"
   },
   {
    "duration": 20,
    "start_time": "2022-05-11T17:09:53.839Z"
   },
   {
    "duration": 71,
    "start_time": "2022-05-11T17:09:53.863Z"
   },
   {
    "duration": 161,
    "start_time": "2022-05-11T17:09:53.936Z"
   },
   {
    "duration": 192,
    "start_time": "2022-05-11T17:09:54.099Z"
   },
   {
    "duration": 122,
    "start_time": "2022-05-11T17:09:54.296Z"
   },
   {
    "duration": 27,
    "start_time": "2022-05-11T17:09:54.420Z"
   },
   {
    "duration": 165,
    "start_time": "2022-05-11T17:09:54.450Z"
   },
   {
    "duration": 175,
    "start_time": "2022-05-11T17:09:54.617Z"
   },
   {
    "duration": 27,
    "start_time": "2022-05-11T17:09:54.795Z"
   },
   {
    "duration": 21,
    "start_time": "2022-05-11T17:09:54.824Z"
   },
   {
    "duration": 200,
    "start_time": "2022-05-11T17:09:54.847Z"
   },
   {
    "duration": 84,
    "start_time": "2022-05-11T17:09:55.050Z"
   },
   {
    "duration": 101,
    "start_time": "2022-05-11T17:09:55.135Z"
   },
   {
    "duration": 154,
    "start_time": "2022-05-11T17:09:55.244Z"
   },
   {
    "duration": 47,
    "start_time": "2022-05-12T03:11:42.936Z"
   },
   {
    "duration": 1244,
    "start_time": "2022-05-12T03:11:49.530Z"
   },
   {
    "duration": 37,
    "start_time": "2022-05-12T03:11:50.776Z"
   },
   {
    "duration": 4,
    "start_time": "2022-05-12T03:11:50.815Z"
   },
   {
    "duration": 9,
    "start_time": "2022-05-12T03:11:50.821Z"
   },
   {
    "duration": 9,
    "start_time": "2022-05-12T03:11:50.834Z"
   },
   {
    "duration": 6,
    "start_time": "2022-05-12T03:11:50.844Z"
   },
   {
    "duration": 6,
    "start_time": "2022-05-12T03:11:50.851Z"
   },
   {
    "duration": 5,
    "start_time": "2022-05-12T03:11:50.858Z"
   },
   {
    "duration": 5,
    "start_time": "2022-05-12T03:11:50.865Z"
   },
   {
    "duration": 62,
    "start_time": "2022-05-12T03:11:50.871Z"
   },
   {
    "duration": 6,
    "start_time": "2022-05-12T03:11:51.024Z"
   },
   {
    "duration": 97,
    "start_time": "2022-05-12T03:11:51.032Z"
   },
   {
    "duration": 93,
    "start_time": "2022-05-12T03:11:51.131Z"
   },
   {
    "duration": 100,
    "start_time": "2022-05-12T03:11:51.228Z"
   },
   {
    "duration": 98,
    "start_time": "2022-05-12T03:11:51.330Z"
   },
   {
    "duration": 94,
    "start_time": "2022-05-12T03:11:51.430Z"
   },
   {
    "duration": 6,
    "start_time": "2022-05-12T03:11:51.526Z"
   },
   {
    "duration": 90,
    "start_time": "2022-05-12T03:11:51.534Z"
   },
   {
    "duration": 99,
    "start_time": "2022-05-12T03:11:51.628Z"
   },
   {
    "duration": 95,
    "start_time": "2022-05-12T03:11:51.729Z"
   },
   {
    "duration": 6,
    "start_time": "2022-05-12T03:11:51.826Z"
   },
   {
    "duration": 89,
    "start_time": "2022-05-12T03:11:51.835Z"
   },
   {
    "duration": 7,
    "start_time": "2022-05-12T03:17:18.099Z"
   },
   {
    "duration": 1203,
    "start_time": "2022-05-12T04:04:39.949Z"
   },
   {
    "duration": 39,
    "start_time": "2022-05-12T04:04:41.155Z"
   },
   {
    "duration": 4,
    "start_time": "2022-05-12T04:04:41.195Z"
   },
   {
    "duration": 7,
    "start_time": "2022-05-12T04:04:41.201Z"
   },
   {
    "duration": 15,
    "start_time": "2022-05-12T04:04:41.211Z"
   },
   {
    "duration": 6,
    "start_time": "2022-05-12T04:04:41.228Z"
   },
   {
    "duration": 5,
    "start_time": "2022-05-12T04:04:41.235Z"
   },
   {
    "duration": 7,
    "start_time": "2022-05-12T04:04:41.242Z"
   },
   {
    "duration": 5,
    "start_time": "2022-05-12T04:04:41.251Z"
   },
   {
    "duration": 70,
    "start_time": "2022-05-12T04:04:41.258Z"
   },
   {
    "duration": 94,
    "start_time": "2022-05-12T04:04:41.330Z"
   },
   {
    "duration": 7,
    "start_time": "2022-05-12T04:04:41.427Z"
   },
   {
    "duration": 96,
    "start_time": "2022-05-12T04:04:41.435Z"
   },
   {
    "duration": 94,
    "start_time": "2022-05-12T04:04:41.535Z"
   },
   {
    "duration": 96,
    "start_time": "2022-05-12T04:04:41.631Z"
   },
   {
    "duration": 96,
    "start_time": "2022-05-12T04:04:41.730Z"
   },
   {
    "duration": 94,
    "start_time": "2022-05-12T04:04:41.829Z"
   },
   {
    "duration": 9,
    "start_time": "2022-05-12T04:04:41.925Z"
   },
   {
    "duration": 92,
    "start_time": "2022-05-12T04:04:41.936Z"
   },
   {
    "duration": 96,
    "start_time": "2022-05-12T04:04:42.031Z"
   },
   {
    "duration": 96,
    "start_time": "2022-05-12T04:04:42.130Z"
   },
   {
    "duration": 6,
    "start_time": "2022-05-12T04:04:42.229Z"
   },
   {
    "duration": 8,
    "start_time": "2022-05-12T04:09:32.927Z"
   },
   {
    "duration": 1243,
    "start_time": "2022-05-12T04:09:40.312Z"
   },
   {
    "duration": 38,
    "start_time": "2022-05-12T04:09:41.556Z"
   },
   {
    "duration": 4,
    "start_time": "2022-05-12T04:09:41.596Z"
   },
   {
    "duration": 8,
    "start_time": "2022-05-12T04:09:41.602Z"
   },
   {
    "duration": 10,
    "start_time": "2022-05-12T04:09:41.613Z"
   },
   {
    "duration": 6,
    "start_time": "2022-05-12T04:09:41.625Z"
   },
   {
    "duration": 6,
    "start_time": "2022-05-12T04:09:41.632Z"
   },
   {
    "duration": 5,
    "start_time": "2022-05-12T04:09:41.640Z"
   },
   {
    "duration": 5,
    "start_time": "2022-05-12T04:09:41.647Z"
   },
   {
    "duration": 74,
    "start_time": "2022-05-12T04:09:41.654Z"
   },
   {
    "duration": 95,
    "start_time": "2022-05-12T04:09:41.730Z"
   },
   {
    "duration": 9,
    "start_time": "2022-05-12T04:09:41.827Z"
   },
   {
    "duration": 5,
    "start_time": "2022-05-12T04:09:41.923Z"
   },
   {
    "duration": 98,
    "start_time": "2022-05-12T04:09:41.932Z"
   },
   {
    "duration": 95,
    "start_time": "2022-05-12T04:09:42.032Z"
   },
   {
    "duration": 95,
    "start_time": "2022-05-12T04:09:42.130Z"
   },
   {
    "duration": 95,
    "start_time": "2022-05-12T04:09:42.228Z"
   },
   {
    "duration": 9,
    "start_time": "2022-05-12T04:09:42.324Z"
   },
   {
    "duration": 91,
    "start_time": "2022-05-12T04:09:42.336Z"
   },
   {
    "duration": 95,
    "start_time": "2022-05-12T04:09:42.430Z"
   },
   {
    "duration": 99,
    "start_time": "2022-05-12T04:09:42.528Z"
   },
   {
    "duration": 6,
    "start_time": "2022-05-12T04:09:42.629Z"
   },
   {
    "duration": 4,
    "start_time": "2022-05-12T04:24:59.979Z"
   },
   {
    "duration": 10,
    "start_time": "2022-05-12T04:26:25.113Z"
   },
   {
    "duration": 8,
    "start_time": "2022-05-12T04:26:28.497Z"
   },
   {
    "duration": 4,
    "start_time": "2022-05-12T04:26:32.201Z"
   },
   {
    "duration": 106,
    "start_time": "2022-05-12T04:26:36.080Z"
   },
   {
    "duration": 5,
    "start_time": "2022-05-12T04:27:08.858Z"
   },
   {
    "duration": 14,
    "start_time": "2022-05-12T04:27:13.985Z"
   },
   {
    "duration": 1233,
    "start_time": "2022-05-12T04:28:19.056Z"
   },
   {
    "duration": 38,
    "start_time": "2022-05-12T04:28:20.291Z"
   },
   {
    "duration": 3,
    "start_time": "2022-05-12T04:28:20.331Z"
   },
   {
    "duration": 35,
    "start_time": "2022-05-12T04:28:20.336Z"
   },
   {
    "duration": 42,
    "start_time": "2022-05-12T04:28:20.374Z"
   },
   {
    "duration": 19,
    "start_time": "2022-05-12T04:28:20.418Z"
   },
   {
    "duration": 29,
    "start_time": "2022-05-12T04:28:20.439Z"
   },
   {
    "duration": 39,
    "start_time": "2022-05-12T04:28:20.470Z"
   },
   {
    "duration": 31,
    "start_time": "2022-05-12T04:28:20.511Z"
   },
   {
    "duration": 32,
    "start_time": "2022-05-12T04:28:20.544Z"
   },
   {
    "duration": 100,
    "start_time": "2022-05-12T04:28:20.625Z"
   },
   {
    "duration": 100,
    "start_time": "2022-05-12T04:28:20.727Z"
   },
   {
    "duration": 93,
    "start_time": "2022-05-12T04:28:20.830Z"
   },
   {
    "duration": 10,
    "start_time": "2022-05-12T04:28:20.926Z"
   },
   {
    "duration": 188,
    "start_time": "2022-05-12T04:28:20.941Z"
   },
   {
    "duration": 201,
    "start_time": "2022-05-12T04:28:21.131Z"
   },
   {
    "duration": 15,
    "start_time": "2022-05-12T04:28:21.334Z"
   },
   {
    "duration": 16,
    "start_time": "2022-05-12T04:28:21.350Z"
   },
   {
    "duration": 159,
    "start_time": "2022-05-12T04:28:21.368Z"
   },
   {
    "duration": 97,
    "start_time": "2022-05-12T04:28:21.529Z"
   },
   {
    "duration": 148,
    "start_time": "2022-05-12T04:28:21.627Z"
   },
   {
    "duration": 0,
    "start_time": "2022-05-12T04:28:21.777Z"
   },
   {
    "duration": 1285,
    "start_time": "2022-05-12T04:28:59.499Z"
   },
   {
    "duration": 38,
    "start_time": "2022-05-12T04:29:00.787Z"
   },
   {
    "duration": 4,
    "start_time": "2022-05-12T04:29:00.827Z"
   },
   {
    "duration": 13,
    "start_time": "2022-05-12T04:29:00.833Z"
   },
   {
    "duration": 22,
    "start_time": "2022-05-12T04:29:00.848Z"
   },
   {
    "duration": 9,
    "start_time": "2022-05-12T04:29:00.871Z"
   },
   {
    "duration": 13,
    "start_time": "2022-05-12T04:29:00.881Z"
   },
   {
    "duration": 20,
    "start_time": "2022-05-12T04:29:00.896Z"
   },
   {
    "duration": 12,
    "start_time": "2022-05-12T04:29:00.917Z"
   },
   {
    "duration": 41,
    "start_time": "2022-05-12T04:29:00.931Z"
   },
   {
    "duration": 115,
    "start_time": "2022-05-12T04:29:01.024Z"
   },
   {
    "duration": 83,
    "start_time": "2022-05-12T04:29:01.141Z"
   },
   {
    "duration": 97,
    "start_time": "2022-05-12T04:29:01.227Z"
   },
   {
    "duration": 40,
    "start_time": "2022-05-12T04:29:01.327Z"
   },
   {
    "duration": 163,
    "start_time": "2022-05-12T04:29:01.369Z"
   },
   {
    "duration": 89,
    "start_time": "2022-05-12T04:29:01.534Z"
   },
   {
    "duration": 115,
    "start_time": "2022-05-12T04:29:01.626Z"
   },
   {
    "duration": 31,
    "start_time": "2022-05-12T04:29:01.743Z"
   },
   {
    "duration": 51,
    "start_time": "2022-05-12T04:29:01.776Z"
   },
   {
    "duration": 99,
    "start_time": "2022-05-12T04:29:01.829Z"
   },
   {
    "duration": 102,
    "start_time": "2022-05-12T04:29:01.930Z"
   },
   {
    "duration": 6,
    "start_time": "2022-05-12T04:29:02.035Z"
   },
   {
    "duration": 2202,
    "start_time": "2022-05-12T05:28:27.312Z"
   },
   {
    "duration": 693,
    "start_time": "2022-05-12T05:28:29.516Z"
   },
   {
    "duration": 3,
    "start_time": "2022-05-12T05:28:30.215Z"
   },
   {
    "duration": 24,
    "start_time": "2022-05-12T05:28:30.220Z"
   },
   {
    "duration": 9,
    "start_time": "2022-05-12T05:28:30.246Z"
   },
   {
    "duration": 17,
    "start_time": "2022-05-12T05:28:30.257Z"
   },
   {
    "duration": 17,
    "start_time": "2022-05-12T05:28:30.276Z"
   },
   {
    "duration": 12,
    "start_time": "2022-05-12T05:28:30.296Z"
   },
   {
    "duration": 12,
    "start_time": "2022-05-12T05:28:30.311Z"
   },
   {
    "duration": 106,
    "start_time": "2022-05-12T05:28:30.326Z"
   },
   {
    "duration": 90,
    "start_time": "2022-05-12T05:28:30.435Z"
   },
   {
    "duration": 196,
    "start_time": "2022-05-12T05:28:30.528Z"
   },
   {
    "duration": 3,
    "start_time": "2022-05-12T05:28:30.726Z"
   },
   {
    "duration": 94,
    "start_time": "2022-05-12T05:28:30.732Z"
   },
   {
    "duration": 102,
    "start_time": "2022-05-12T05:28:30.828Z"
   },
   {
    "duration": 92,
    "start_time": "2022-05-12T05:28:30.933Z"
   },
   {
    "duration": 186,
    "start_time": "2022-05-12T05:28:31.027Z"
   },
   {
    "duration": 109,
    "start_time": "2022-05-12T05:28:31.215Z"
   },
   {
    "duration": 12,
    "start_time": "2022-05-12T05:28:31.326Z"
   },
   {
    "duration": 6,
    "start_time": "2022-05-12T05:28:31.424Z"
   },
   {
    "duration": 97,
    "start_time": "2022-05-12T05:28:31.432Z"
   },
   {
    "duration": 6,
    "start_time": "2022-05-12T05:28:31.533Z"
   },
   {
    "duration": 1179,
    "start_time": "2022-05-14T09:09:54.157Z"
   },
   {
    "duration": 33,
    "start_time": "2022-05-14T09:09:55.337Z"
   },
   {
    "duration": 3,
    "start_time": "2022-05-14T09:09:55.372Z"
   },
   {
    "duration": 12,
    "start_time": "2022-05-14T09:09:55.377Z"
   },
   {
    "duration": 15,
    "start_time": "2022-05-14T09:09:55.391Z"
   },
   {
    "duration": 9,
    "start_time": "2022-05-14T09:09:55.408Z"
   },
   {
    "duration": 10,
    "start_time": "2022-05-14T09:09:55.418Z"
   },
   {
    "duration": 10,
    "start_time": "2022-05-14T09:09:55.429Z"
   },
   {
    "duration": 20,
    "start_time": "2022-05-14T09:09:55.440Z"
   },
   {
    "duration": 29,
    "start_time": "2022-05-14T09:09:55.463Z"
   },
   {
    "duration": 196,
    "start_time": "2022-05-14T09:09:55.494Z"
   },
   {
    "duration": 11,
    "start_time": "2022-05-14T09:09:55.693Z"
   },
   {
    "duration": 97,
    "start_time": "2022-05-14T09:09:55.793Z"
   },
   {
    "duration": 12,
    "start_time": "2022-05-14T09:09:55.891Z"
   },
   {
    "duration": 189,
    "start_time": "2022-05-14T09:09:55.905Z"
   },
   {
    "duration": 194,
    "start_time": "2022-05-14T09:09:56.096Z"
   },
   {
    "duration": 11,
    "start_time": "2022-05-14T09:09:56.292Z"
   },
   {
    "duration": 16,
    "start_time": "2022-05-14T09:09:56.304Z"
   },
   {
    "duration": 117,
    "start_time": "2022-05-14T09:09:56.389Z"
   },
   {
    "duration": 102,
    "start_time": "2022-05-14T09:09:56.594Z"
   },
   {
    "duration": 9,
    "start_time": "2022-05-14T09:09:56.698Z"
   },
   {
    "duration": 8,
    "start_time": "2022-05-14T09:09:56.709Z"
   },
   {
    "duration": 5,
    "start_time": "2022-05-14T09:12:00.372Z"
   },
   {
    "duration": 7,
    "start_time": "2022-05-14T09:12:07.933Z"
   },
   {
    "duration": 167,
    "start_time": "2022-05-14T09:12:10.364Z"
   },
   {
    "duration": 113,
    "start_time": "2022-05-14T09:12:44.746Z"
   },
   {
    "duration": 6,
    "start_time": "2022-05-14T09:16:50.311Z"
   },
   {
    "duration": 6,
    "start_time": "2022-05-14T09:17:43.458Z"
   },
   {
    "duration": 6,
    "start_time": "2022-05-14T09:18:08.291Z"
   },
   {
    "duration": 5,
    "start_time": "2022-05-14T09:18:12.963Z"
   },
   {
    "duration": 7,
    "start_time": "2022-05-14T09:18:23.530Z"
   },
   {
    "duration": 199,
    "start_time": "2022-05-14T09:21:09.202Z"
   },
   {
    "duration": 6,
    "start_time": "2022-05-14T09:21:12.802Z"
   },
   {
    "duration": 10,
    "start_time": "2022-05-14T09:21:41.207Z"
   },
   {
    "duration": 10,
    "start_time": "2022-05-14T09:22:16.278Z"
   },
   {
    "duration": 3,
    "start_time": "2022-05-14T09:22:18.599Z"
   },
   {
    "duration": 6,
    "start_time": "2022-05-14T09:22:20.431Z"
   },
   {
    "duration": 4,
    "start_time": "2022-05-14T09:22:55.693Z"
   },
   {
    "duration": 5,
    "start_time": "2022-05-14T09:23:42.234Z"
   },
   {
    "duration": 4,
    "start_time": "2022-05-14T09:23:49.130Z"
   },
   {
    "duration": 4,
    "start_time": "2022-05-14T09:26:33.682Z"
   },
   {
    "duration": 3,
    "start_time": "2022-05-14T09:26:36.362Z"
   },
   {
    "duration": 4,
    "start_time": "2022-05-14T09:26:37.681Z"
   },
   {
    "duration": 3,
    "start_time": "2022-05-14T09:26:38.834Z"
   },
   {
    "duration": 4,
    "start_time": "2022-05-14T09:26:39.465Z"
   },
   {
    "duration": 3,
    "start_time": "2022-05-14T09:26:45.665Z"
   },
   {
    "duration": 4,
    "start_time": "2022-05-14T09:26:46.313Z"
   },
   {
    "duration": 4,
    "start_time": "2022-05-14T09:26:46.993Z"
   },
   {
    "duration": 9,
    "start_time": "2022-05-14T09:27:13.636Z"
   },
   {
    "duration": 3,
    "start_time": "2022-05-14T09:29:00.610Z"
   },
   {
    "duration": 3,
    "start_time": "2022-05-14T09:29:03.235Z"
   },
   {
    "duration": 4,
    "start_time": "2022-05-14T09:29:31.186Z"
   },
   {
    "duration": 125,
    "start_time": "2022-05-14T09:35:11.168Z"
   },
   {
    "duration": 116,
    "start_time": "2022-05-14T09:35:18.160Z"
   },
   {
    "duration": 116,
    "start_time": "2022-05-14T09:35:23.952Z"
   },
   {
    "duration": 139,
    "start_time": "2022-05-14T09:35:28.559Z"
   },
   {
    "duration": 4,
    "start_time": "2022-05-14T09:35:49.175Z"
   },
   {
    "duration": 5,
    "start_time": "2022-05-14T09:36:39.301Z"
   },
   {
    "duration": 5,
    "start_time": "2022-05-14T09:36:52.955Z"
   },
   {
    "duration": 14188,
    "start_time": "2022-05-14T09:36:56.148Z"
   },
   {
    "duration": 117,
    "start_time": "2022-05-14T09:37:21.578Z"
   },
   {
    "duration": 5,
    "start_time": "2022-05-14T09:40:26.801Z"
   },
   {
    "duration": 10,
    "start_time": "2022-05-14T09:40:33.768Z"
   },
   {
    "duration": 13,
    "start_time": "2022-05-14T09:40:35.504Z"
   },
   {
    "duration": 3,
    "start_time": "2022-05-14T09:40:40.864Z"
   },
   {
    "duration": 4,
    "start_time": "2022-05-14T09:40:45.528Z"
   },
   {
    "duration": 13,
    "start_time": "2022-05-14T09:40:47.728Z"
   },
   {
    "duration": 13,
    "start_time": "2022-05-14T09:40:48.416Z"
   },
   {
    "duration": 5,
    "start_time": "2022-05-14T09:40:51.487Z"
   },
   {
    "duration": 7,
    "start_time": "2022-05-14T09:40:52.696Z"
   },
   {
    "duration": 4,
    "start_time": "2022-05-14T09:42:06.767Z"
   },
   {
    "duration": 14,
    "start_time": "2022-05-14T09:42:12.700Z"
   },
   {
    "duration": 11,
    "start_time": "2022-05-14T09:42:14.411Z"
   },
   {
    "duration": 12,
    "start_time": "2022-05-14T09:42:15.123Z"
   },
   {
    "duration": 9,
    "start_time": "2022-05-14T09:42:15.931Z"
   },
   {
    "duration": 10,
    "start_time": "2022-05-14T09:42:16.523Z"
   },
   {
    "duration": 9,
    "start_time": "2022-05-14T09:55:10.693Z"
   },
   {
    "duration": 5,
    "start_time": "2022-05-14T09:55:27.628Z"
   },
   {
    "duration": 6,
    "start_time": "2022-05-14T09:55:51.035Z"
   },
   {
    "duration": 5,
    "start_time": "2022-05-14T09:55:54.354Z"
   },
   {
    "duration": 7,
    "start_time": "2022-05-14T09:56:03.850Z"
   },
   {
    "duration": 5,
    "start_time": "2022-05-14T09:56:14.548Z"
   },
   {
    "duration": 154,
    "start_time": "2022-05-14T09:56:30.822Z"
   },
   {
    "duration": 130,
    "start_time": "2022-05-14T09:56:40.880Z"
   },
   {
    "duration": 4,
    "start_time": "2022-05-14T09:56:51.504Z"
   },
   {
    "duration": 6,
    "start_time": "2022-05-14T09:57:04.263Z"
   },
   {
    "duration": 123,
    "start_time": "2022-05-14T09:57:16.807Z"
   },
   {
    "duration": 124,
    "start_time": "2022-05-14T09:57:20.272Z"
   },
   {
    "duration": 4,
    "start_time": "2022-05-14T09:57:23.991Z"
   },
   {
    "duration": 124,
    "start_time": "2022-05-14T09:57:29.830Z"
   },
   {
    "duration": 4,
    "start_time": "2022-05-14T09:58:54.555Z"
   },
   {
    "duration": 168,
    "start_time": "2022-05-14T09:59:03.395Z"
   },
   {
    "duration": 124,
    "start_time": "2022-05-14T09:59:12.905Z"
   },
   {
    "duration": 4,
    "start_time": "2022-05-14T10:02:05.290Z"
   },
   {
    "duration": 5,
    "start_time": "2022-05-14T10:03:17.942Z"
   },
   {
    "duration": 135,
    "start_time": "2022-05-14T10:03:22.965Z"
   },
   {
    "duration": 4,
    "start_time": "2022-05-14T10:09:25.292Z"
   },
   {
    "duration": 130,
    "start_time": "2022-05-14T10:09:28.172Z"
   },
   {
    "duration": 10,
    "start_time": "2022-05-14T10:09:31.603Z"
   },
   {
    "duration": 121,
    "start_time": "2022-05-14T10:12:20.539Z"
   },
   {
    "duration": 4,
    "start_time": "2022-05-14T10:13:24.705Z"
   },
   {
    "duration": 4,
    "start_time": "2022-05-14T10:13:39.816Z"
   },
   {
    "duration": 7,
    "start_time": "2022-05-14T10:13:58.174Z"
   },
   {
    "duration": 12,
    "start_time": "2022-05-14T10:13:59.070Z"
   },
   {
    "duration": 3,
    "start_time": "2022-05-14T10:14:01.190Z"
   },
   {
    "duration": 6,
    "start_time": "2022-05-14T10:14:02.311Z"
   },
   {
    "duration": 4,
    "start_time": "2022-05-14T10:14:03.887Z"
   },
   {
    "duration": 5,
    "start_time": "2022-05-14T10:28:12.966Z"
   },
   {
    "duration": 180,
    "start_time": "2022-05-14T10:28:17.812Z"
   },
   {
    "duration": 5,
    "start_time": "2022-05-14T10:29:35.745Z"
   },
   {
    "duration": 199,
    "start_time": "2022-05-14T10:29:42.552Z"
   },
   {
    "duration": 5,
    "start_time": "2022-05-14T10:30:52.294Z"
   },
   {
    "duration": 193,
    "start_time": "2022-05-14T10:30:56.701Z"
   },
   {
    "duration": 3,
    "start_time": "2022-05-14T10:36:59.781Z"
   },
   {
    "duration": 4,
    "start_time": "2022-05-14T10:37:14.037Z"
   },
   {
    "duration": 5,
    "start_time": "2022-05-14T10:38:29.537Z"
   },
   {
    "duration": 1105,
    "start_time": "2022-05-14T10:40:40.702Z"
   },
   {
    "duration": 32,
    "start_time": "2022-05-14T10:40:41.809Z"
   },
   {
    "duration": 4,
    "start_time": "2022-05-14T10:40:41.842Z"
   },
   {
    "duration": 24,
    "start_time": "2022-05-14T10:40:41.848Z"
   },
   {
    "duration": 16,
    "start_time": "2022-05-14T10:40:41.873Z"
   },
   {
    "duration": 8,
    "start_time": "2022-05-14T10:40:41.891Z"
   },
   {
    "duration": 18,
    "start_time": "2022-05-14T10:40:41.900Z"
   },
   {
    "duration": 13,
    "start_time": "2022-05-14T10:40:41.919Z"
   },
   {
    "duration": 15,
    "start_time": "2022-05-14T10:40:41.933Z"
   },
   {
    "duration": 16,
    "start_time": "2022-05-14T10:40:41.950Z"
   },
   {
    "duration": 109,
    "start_time": "2022-05-14T10:40:41.989Z"
   },
   {
    "duration": 92,
    "start_time": "2022-05-14T10:40:42.101Z"
   },
   {
    "duration": 103,
    "start_time": "2022-05-14T10:40:42.196Z"
   },
   {
    "duration": 99,
    "start_time": "2022-05-14T10:40:42.301Z"
   },
   {
    "duration": 195,
    "start_time": "2022-05-14T10:40:42.402Z"
   },
   {
    "duration": 191,
    "start_time": "2022-05-14T10:40:42.599Z"
   },
   {
    "duration": 8,
    "start_time": "2022-05-14T10:40:42.791Z"
   },
   {
    "duration": 9,
    "start_time": "2022-05-14T10:40:42.801Z"
   },
   {
    "duration": 185,
    "start_time": "2022-05-14T10:40:42.813Z"
   },
   {
    "duration": 100,
    "start_time": "2022-05-14T10:40:43.001Z"
   },
   {
    "duration": 6,
    "start_time": "2022-05-14T10:40:43.189Z"
   },
   {
    "duration": 9,
    "start_time": "2022-05-14T10:40:43.197Z"
   },
   {
    "duration": 1092,
    "start_time": "2022-05-14T10:56:15.139Z"
   },
   {
    "duration": 32,
    "start_time": "2022-05-14T10:56:16.233Z"
   },
   {
    "duration": 3,
    "start_time": "2022-05-14T10:56:16.267Z"
   },
   {
    "duration": 17,
    "start_time": "2022-05-14T10:56:16.272Z"
   },
   {
    "duration": 8,
    "start_time": "2022-05-14T10:56:16.291Z"
   },
   {
    "duration": 6,
    "start_time": "2022-05-14T10:56:16.301Z"
   },
   {
    "duration": 7,
    "start_time": "2022-05-14T10:56:16.308Z"
   },
   {
    "duration": 6,
    "start_time": "2022-05-14T10:56:16.317Z"
   },
   {
    "duration": 70,
    "start_time": "2022-05-14T10:56:16.325Z"
   },
   {
    "duration": 96,
    "start_time": "2022-05-14T10:56:16.398Z"
   },
   {
    "duration": 97,
    "start_time": "2022-05-14T10:56:16.496Z"
   },
   {
    "duration": 101,
    "start_time": "2022-05-14T10:56:16.596Z"
   },
   {
    "duration": 16,
    "start_time": "2022-05-14T10:56:16.699Z"
   },
   {
    "duration": 177,
    "start_time": "2022-05-14T10:56:16.717Z"
   },
   {
    "duration": 193,
    "start_time": "2022-05-14T10:56:16.897Z"
   },
   {
    "duration": 6,
    "start_time": "2022-05-14T10:56:17.092Z"
   },
   {
    "duration": 13,
    "start_time": "2022-05-14T10:56:17.099Z"
   },
   {
    "duration": 182,
    "start_time": "2022-05-14T10:56:17.114Z"
   },
   {
    "duration": 190,
    "start_time": "2022-05-14T10:56:17.298Z"
   },
   {
    "duration": 6,
    "start_time": "2022-05-14T10:56:17.490Z"
   },
   {
    "duration": 12,
    "start_time": "2022-05-14T10:56:17.498Z"
   },
   {
    "duration": 4,
    "start_time": "2022-05-14T10:59:45.026Z"
   },
   {
    "duration": 1139,
    "start_time": "2022-05-14T11:00:10.192Z"
   },
   {
    "duration": 32,
    "start_time": "2022-05-14T11:00:11.333Z"
   },
   {
    "duration": 4,
    "start_time": "2022-05-14T11:00:11.366Z"
   },
   {
    "duration": 18,
    "start_time": "2022-05-14T11:00:11.371Z"
   },
   {
    "duration": 11,
    "start_time": "2022-05-14T11:00:11.390Z"
   },
   {
    "duration": 6,
    "start_time": "2022-05-14T11:00:11.403Z"
   },
   {
    "duration": 6,
    "start_time": "2022-05-14T11:00:11.411Z"
   },
   {
    "duration": 8,
    "start_time": "2022-05-14T11:00:11.419Z"
   },
   {
    "duration": 62,
    "start_time": "2022-05-14T11:00:11.428Z"
   },
   {
    "duration": 100,
    "start_time": "2022-05-14T11:00:11.493Z"
   },
   {
    "duration": 10,
    "start_time": "2022-05-14T11:00:11.595Z"
   },
   {
    "duration": 109,
    "start_time": "2022-05-14T11:00:11.688Z"
   },
   {
    "duration": 9,
    "start_time": "2022-05-14T11:00:11.799Z"
   },
   {
    "duration": 178,
    "start_time": "2022-05-14T11:00:11.811Z"
   },
   {
    "duration": 11,
    "start_time": "2022-05-14T11:00:11.991Z"
   },
   {
    "duration": 88,
    "start_time": "2022-05-14T11:00:12.004Z"
   },
   {
    "duration": 10,
    "start_time": "2022-05-14T11:00:12.187Z"
   },
   {
    "duration": 11,
    "start_time": "2022-05-14T11:00:12.199Z"
   },
   {
    "duration": 11,
    "start_time": "2022-05-14T11:00:12.211Z"
   },
   {
    "duration": 179,
    "start_time": "2022-05-14T11:00:12.224Z"
   },
   {
    "duration": 182,
    "start_time": "2022-05-14T11:00:12.406Z"
   },
   {
    "duration": 7,
    "start_time": "2022-05-14T11:00:12.590Z"
   },
   {
    "duration": 7,
    "start_time": "2022-05-14T11:00:12.599Z"
   },
   {
    "duration": 1048,
    "start_time": "2022-05-14T11:02:11.340Z"
   },
   {
    "duration": 32,
    "start_time": "2022-05-14T11:02:12.390Z"
   },
   {
    "duration": 4,
    "start_time": "2022-05-14T11:02:12.423Z"
   },
   {
    "duration": 34,
    "start_time": "2022-05-14T11:02:12.429Z"
   },
   {
    "duration": 8,
    "start_time": "2022-05-14T11:02:12.465Z"
   },
   {
    "duration": 10,
    "start_time": "2022-05-14T11:02:12.475Z"
   },
   {
    "duration": 7,
    "start_time": "2022-05-14T11:02:12.487Z"
   },
   {
    "duration": 14,
    "start_time": "2022-05-14T11:02:12.496Z"
   },
   {
    "duration": 75,
    "start_time": "2022-05-14T11:02:12.512Z"
   },
   {
    "duration": 104,
    "start_time": "2022-05-14T11:02:12.594Z"
   },
   {
    "duration": 89,
    "start_time": "2022-05-14T11:02:12.700Z"
   },
   {
    "duration": 107,
    "start_time": "2022-05-14T11:02:12.791Z"
   },
   {
    "duration": 11,
    "start_time": "2022-05-14T11:02:12.899Z"
   },
   {
    "duration": 79,
    "start_time": "2022-05-14T11:02:12.913Z"
   },
   {
    "duration": 103,
    "start_time": "2022-05-14T11:02:12.994Z"
   },
   {
    "duration": 11,
    "start_time": "2022-05-14T11:02:13.098Z"
   },
   {
    "duration": 178,
    "start_time": "2022-05-14T11:02:13.111Z"
   },
   {
    "duration": 12,
    "start_time": "2022-05-14T11:02:13.291Z"
   },
   {
    "duration": 10,
    "start_time": "2022-05-14T11:02:13.304Z"
   },
   {
    "duration": 14,
    "start_time": "2022-05-14T11:02:13.316Z"
   },
   {
    "duration": 11,
    "start_time": "2022-05-14T11:02:13.331Z"
   },
   {
    "duration": 144,
    "start_time": "2022-05-14T11:02:13.344Z"
   },
   {
    "duration": 100,
    "start_time": "2022-05-14T11:02:13.490Z"
   },
   {
    "duration": 13,
    "start_time": "2022-05-14T11:02:13.592Z"
   },
   {
    "duration": 9,
    "start_time": "2022-05-14T11:02:13.607Z"
   },
   {
    "duration": 1068,
    "start_time": "2022-05-14T12:28:21.452Z"
   },
   {
    "duration": 31,
    "start_time": "2022-05-14T12:28:22.522Z"
   },
   {
    "duration": 4,
    "start_time": "2022-05-14T12:28:22.554Z"
   },
   {
    "duration": 9,
    "start_time": "2022-05-14T12:28:22.560Z"
   },
   {
    "duration": 22,
    "start_time": "2022-05-14T12:28:22.570Z"
   },
   {
    "duration": 6,
    "start_time": "2022-05-14T12:28:22.594Z"
   },
   {
    "duration": 9,
    "start_time": "2022-05-14T12:28:22.602Z"
   },
   {
    "duration": 8,
    "start_time": "2022-05-14T12:28:22.612Z"
   },
   {
    "duration": 71,
    "start_time": "2022-05-14T12:28:22.621Z"
   },
   {
    "duration": 94,
    "start_time": "2022-05-14T12:28:22.697Z"
   },
   {
    "duration": 96,
    "start_time": "2022-05-14T12:28:22.794Z"
   },
   {
    "duration": 103,
    "start_time": "2022-05-14T12:28:22.891Z"
   },
   {
    "duration": 16,
    "start_time": "2022-05-14T12:28:22.996Z"
   },
   {
    "duration": 175,
    "start_time": "2022-05-14T12:28:23.014Z"
   },
   {
    "duration": 4,
    "start_time": "2022-05-14T12:28:23.191Z"
   },
   {
    "duration": 9,
    "start_time": "2022-05-14T12:28:23.196Z"
   },
   {
    "duration": 186,
    "start_time": "2022-05-14T12:28:23.207Z"
   },
   {
    "duration": 6,
    "start_time": "2022-05-14T12:28:23.394Z"
   },
   {
    "duration": 4,
    "start_time": "2022-05-14T12:28:23.402Z"
   },
   {
    "duration": 5,
    "start_time": "2022-05-14T12:28:23.408Z"
   },
   {
    "duration": 15,
    "start_time": "2022-05-14T12:28:23.415Z"
   },
   {
    "duration": 163,
    "start_time": "2022-05-14T12:28:23.432Z"
   },
   {
    "duration": 189,
    "start_time": "2022-05-14T12:28:23.598Z"
   },
   {
    "duration": 8,
    "start_time": "2022-05-14T12:28:23.789Z"
   },
   {
    "duration": 10,
    "start_time": "2022-05-14T12:28:23.798Z"
   }
  ],
  "kernelspec": {
   "display_name": "Python 3 (ipykernel)",
   "language": "python",
   "name": "python3"
  },
  "language_info": {
   "codemirror_mode": {
    "name": "ipython",
    "version": 3
   },
   "file_extension": ".py",
   "mimetype": "text/x-python",
   "name": "python",
   "nbconvert_exporter": "python",
   "pygments_lexer": "ipython3",
   "version": "3.9.7"
  },
  "toc": {
   "base_numbering": 1,
   "nav_menu": {},
   "number_sections": true,
   "sideBar": true,
   "skip_h1_title": true,
   "title_cell": "Содержание",
   "title_sidebar": "Contents",
   "toc_cell": true,
   "toc_position": {
    "height": "calc(100% - 180px)",
    "left": "10px",
    "top": "150px",
    "width": "165px"
   },
   "toc_section_display": true,
   "toc_window_display": true
  }
 },
 "nbformat": 4,
 "nbformat_minor": 2
}
