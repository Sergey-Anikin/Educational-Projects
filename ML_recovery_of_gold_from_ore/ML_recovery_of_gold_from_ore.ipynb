{
 "cells": [
  {
   "cell_type": "markdown",
   "metadata": {},
   "source": [
    "# Восстановление золота из руды"
   ]
  },
  {
   "cell_type": "markdown",
   "metadata": {},
   "source": [
    "Подготовьте прототип модели машинного обучения. Компания разрабатывает решения для эффективной работы промышленных предприятий.\n",
    "\n",
    "Модель должна предсказать коэффициент восстановления золота из золотосодержащей руды. Используйте данные с параметрами добычи и очистки. \n",
    "\n",
    "Модель поможет оптимизировать производство, чтобы не запускать предприятие с убыточными характеристиками.\n",
    "\n",
    "Необходимо:\n",
    "\n",
    "1. Подготовить данные;\n",
    "2. Провести исследовательский анализ данных;\n",
    "3. Построить и обучить модель."
   ]
  },
  {
   "cell_type": "markdown",
   "metadata": {},
   "source": [
    "## Подготовка данных"
   ]
  },
  {
   "cell_type": "code",
   "execution_count": 1,
   "metadata": {},
   "outputs": [],
   "source": [
    "import pandas as pd # импорт библиотеки pandas\n",
    "import numpy as np # импорт библиотеки numpy\n",
    "import matplotlib.pyplot as plt # импорт библиотеки matplotlib\n",
    "import seaborn as sns # импорт библиотеки seaborn\n",
    "from sklearn.metrics import mean_absolute_error, make_scorer # импорт из библиотеки sklearn алгоритма make_scorer, mean_absolute_error\n",
    "from sklearn.pipeline import make_pipeline # импорт из библиотеки sklearn алгоритма pipeline\n",
    "from sklearn.preprocessing import StandardScaler # импорт из библиотеки sklearn алгоритма StandardScaler\n",
    "from sklearn.linear_model import LinearRegression # импорт из библиотеки sklearn алгоритма линейной регрессии\n",
    "from sklearn.tree import DecisionTreeRegressor # импорт из библиотеки sklearn алгоритма Дерева Решений\n",
    "from sklearn.ensemble import RandomForestRegressor # импорт из библиотеки sklearn алгоритма Случайного Леса\n",
    "from sklearn.model_selection import GridSearchCV # импорт из библиотеки sklearn алгоритма GridSearchCV\n",
    "from sklearn.dummy import DummyRegressor # импорт из библиотеки sklearn алгоритма DummyRegressor\n",
    "from catboost import CatBoostRegressor # импорт из библиотеки catboost алгоритма CatBoostRegressor"
   ]
  },
  {
   "cell_type": "markdown",
   "metadata": {},
   "source": [
    "### Откройте файлы и изучите их."
   ]
  },
  {
   "cell_type": "code",
   "execution_count": 2,
   "metadata": {},
   "outputs": [],
   "source": [
    "# прочитаем файлы\n",
    "train = pd.read_csv('***.csv')\n",
    "test = pd.read_csv('***.csv')\n",
    "full = pd.read_csv('***.csv')"
   ]
  },
  {
   "cell_type": "code",
   "execution_count": 3,
   "metadata": {
    "scrolled": true
   },
   "outputs": [
    {
     "name": "stdout",
     "output_type": "stream",
     "text": [
      "<class 'pandas.core.frame.DataFrame'>\n",
      "RangeIndex: 14149 entries, 0 to 14148\n",
      "Data columns (total 87 columns):\n",
      " #   Column                                              Non-Null Count  Dtype  \n",
      "---  ------                                              --------------  -----  \n",
      " 0   date                                                14149 non-null  object \n",
      " 1   final.output.concentrate_ag                         14148 non-null  float64\n",
      " 2   final.output.concentrate_pb                         14148 non-null  float64\n",
      " 3   final.output.concentrate_sol                        13938 non-null  float64\n",
      " 4   final.output.concentrate_au                         14149 non-null  float64\n",
      " 5   final.output.recovery                               14149 non-null  float64\n",
      " 6   final.output.tail_ag                                14149 non-null  float64\n",
      " 7   final.output.tail_pb                                14049 non-null  float64\n",
      " 8   final.output.tail_sol                               14144 non-null  float64\n",
      " 9   final.output.tail_au                                14149 non-null  float64\n",
      " 10  primary_cleaner.input.sulfate                       14129 non-null  float64\n",
      " 11  primary_cleaner.input.depressant                    14117 non-null  float64\n",
      " 12  primary_cleaner.input.feed_size                     14149 non-null  float64\n",
      " 13  primary_cleaner.input.xanthate                      14049 non-null  float64\n",
      " 14  primary_cleaner.output.concentrate_ag               14149 non-null  float64\n",
      " 15  primary_cleaner.output.concentrate_pb               14063 non-null  float64\n",
      " 16  primary_cleaner.output.concentrate_sol              13863 non-null  float64\n",
      " 17  primary_cleaner.output.concentrate_au               14149 non-null  float64\n",
      " 18  primary_cleaner.output.tail_ag                      14148 non-null  float64\n",
      " 19  primary_cleaner.output.tail_pb                      14134 non-null  float64\n",
      " 20  primary_cleaner.output.tail_sol                     14103 non-null  float64\n",
      " 21  primary_cleaner.output.tail_au                      14149 non-null  float64\n",
      " 22  primary_cleaner.state.floatbank8_a_air              14145 non-null  float64\n",
      " 23  primary_cleaner.state.floatbank8_a_level            14148 non-null  float64\n",
      " 24  primary_cleaner.state.floatbank8_b_air              14145 non-null  float64\n",
      " 25  primary_cleaner.state.floatbank8_b_level            14148 non-null  float64\n",
      " 26  primary_cleaner.state.floatbank8_c_air              14147 non-null  float64\n",
      " 27  primary_cleaner.state.floatbank8_c_level            14148 non-null  float64\n",
      " 28  primary_cleaner.state.floatbank8_d_air              14146 non-null  float64\n",
      " 29  primary_cleaner.state.floatbank8_d_level            14148 non-null  float64\n",
      " 30  rougher.calculation.sulfate_to_au_concentrate       14148 non-null  float64\n",
      " 31  rougher.calculation.floatbank10_sulfate_to_au_feed  14148 non-null  float64\n",
      " 32  rougher.calculation.floatbank11_sulfate_to_au_feed  14148 non-null  float64\n",
      " 33  rougher.calculation.au_pb_ratio                     14149 non-null  float64\n",
      " 34  rougher.input.feed_ag                               14149 non-null  float64\n",
      " 35  rougher.input.feed_pb                               14049 non-null  float64\n",
      " 36  rougher.input.feed_rate                             14141 non-null  float64\n",
      " 37  rougher.input.feed_size                             14005 non-null  float64\n",
      " 38  rougher.input.feed_sol                              14071 non-null  float64\n",
      " 39  rougher.input.feed_au                               14149 non-null  float64\n",
      " 40  rougher.input.floatbank10_sulfate                   14120 non-null  float64\n",
      " 41  rougher.input.floatbank10_xanthate                  14141 non-null  float64\n",
      " 42  rougher.input.floatbank11_sulfate                   14113 non-null  float64\n",
      " 43  rougher.input.floatbank11_xanthate                  13721 non-null  float64\n",
      " 44  rougher.output.concentrate_ag                       14149 non-null  float64\n",
      " 45  rougher.output.concentrate_pb                       14149 non-null  float64\n",
      " 46  rougher.output.concentrate_sol                      14127 non-null  float64\n",
      " 47  rougher.output.concentrate_au                       14149 non-null  float64\n",
      " 48  rougher.output.recovery                             14149 non-null  float64\n",
      " 49  rougher.output.tail_ag                              14148 non-null  float64\n",
      " 50  rougher.output.tail_pb                              14149 non-null  float64\n",
      " 51  rougher.output.tail_sol                             14149 non-null  float64\n",
      " 52  rougher.output.tail_au                              14149 non-null  float64\n",
      " 53  rougher.state.floatbank10_a_air                     14148 non-null  float64\n",
      " 54  rougher.state.floatbank10_a_level                   14148 non-null  float64\n",
      " 55  rougher.state.floatbank10_b_air                     14148 non-null  float64\n",
      " 56  rougher.state.floatbank10_b_level                   14148 non-null  float64\n",
      " 57  rougher.state.floatbank10_c_air                     14148 non-null  float64\n",
      " 58  rougher.state.floatbank10_c_level                   14148 non-null  float64\n",
      " 59  rougher.state.floatbank10_d_air                     14149 non-null  float64\n",
      " 60  rougher.state.floatbank10_d_level                   14149 non-null  float64\n",
      " 61  rougher.state.floatbank10_e_air                     13713 non-null  float64\n",
      " 62  rougher.state.floatbank10_e_level                   14149 non-null  float64\n",
      " 63  rougher.state.floatbank10_f_air                     14149 non-null  float64\n",
      " 64  rougher.state.floatbank10_f_level                   14149 non-null  float64\n",
      " 65  secondary_cleaner.output.tail_ag                    14147 non-null  float64\n",
      " 66  secondary_cleaner.output.tail_pb                    14139 non-null  float64\n",
      " 67  secondary_cleaner.output.tail_sol                   12544 non-null  float64\n",
      " 68  secondary_cleaner.output.tail_au                    14149 non-null  float64\n",
      " 69  secondary_cleaner.state.floatbank2_a_air            13932 non-null  float64\n",
      " 70  secondary_cleaner.state.floatbank2_a_level          14148 non-null  float64\n",
      " 71  secondary_cleaner.state.floatbank2_b_air            14128 non-null  float64\n",
      " 72  secondary_cleaner.state.floatbank2_b_level          14148 non-null  float64\n",
      " 73  secondary_cleaner.state.floatbank3_a_air            14145 non-null  float64\n",
      " 74  secondary_cleaner.state.floatbank3_a_level          14148 non-null  float64\n",
      " 75  secondary_cleaner.state.floatbank3_b_air            14148 non-null  float64\n",
      " 76  secondary_cleaner.state.floatbank3_b_level          14148 non-null  float64\n",
      " 77  secondary_cleaner.state.floatbank4_a_air            14143 non-null  float64\n",
      " 78  secondary_cleaner.state.floatbank4_a_level          14148 non-null  float64\n",
      " 79  secondary_cleaner.state.floatbank4_b_air            14148 non-null  float64\n",
      " 80  secondary_cleaner.state.floatbank4_b_level          14148 non-null  float64\n",
      " 81  secondary_cleaner.state.floatbank5_a_air            14148 non-null  float64\n",
      " 82  secondary_cleaner.state.floatbank5_a_level          14148 non-null  float64\n",
      " 83  secondary_cleaner.state.floatbank5_b_air            14148 non-null  float64\n",
      " 84  secondary_cleaner.state.floatbank5_b_level          14148 non-null  float64\n",
      " 85  secondary_cleaner.state.floatbank6_a_air            14147 non-null  float64\n",
      " 86  secondary_cleaner.state.floatbank6_a_level          14148 non-null  float64\n",
      "dtypes: float64(86), object(1)\n",
      "memory usage: 9.4+ MB\n",
      "None\n",
      "<class 'pandas.core.frame.DataFrame'>\n",
      "RangeIndex: 5290 entries, 0 to 5289\n",
      "Data columns (total 53 columns):\n",
      " #   Column                                      Non-Null Count  Dtype  \n",
      "---  ------                                      --------------  -----  \n",
      " 0   date                                        5290 non-null   object \n",
      " 1   primary_cleaner.input.sulfate               5286 non-null   float64\n",
      " 2   primary_cleaner.input.depressant            5285 non-null   float64\n",
      " 3   primary_cleaner.input.feed_size             5290 non-null   float64\n",
      " 4   primary_cleaner.input.xanthate              5286 non-null   float64\n",
      " 5   primary_cleaner.state.floatbank8_a_air      5290 non-null   float64\n",
      " 6   primary_cleaner.state.floatbank8_a_level    5290 non-null   float64\n",
      " 7   primary_cleaner.state.floatbank8_b_air      5290 non-null   float64\n",
      " 8   primary_cleaner.state.floatbank8_b_level    5290 non-null   float64\n",
      " 9   primary_cleaner.state.floatbank8_c_air      5290 non-null   float64\n",
      " 10  primary_cleaner.state.floatbank8_c_level    5290 non-null   float64\n",
      " 11  primary_cleaner.state.floatbank8_d_air      5290 non-null   float64\n",
      " 12  primary_cleaner.state.floatbank8_d_level    5290 non-null   float64\n",
      " 13  rougher.input.feed_ag                       5290 non-null   float64\n",
      " 14  rougher.input.feed_pb                       5290 non-null   float64\n",
      " 15  rougher.input.feed_rate                     5287 non-null   float64\n",
      " 16  rougher.input.feed_size                     5289 non-null   float64\n",
      " 17  rougher.input.feed_sol                      5269 non-null   float64\n",
      " 18  rougher.input.feed_au                       5290 non-null   float64\n",
      " 19  rougher.input.floatbank10_sulfate           5285 non-null   float64\n",
      " 20  rougher.input.floatbank10_xanthate          5290 non-null   float64\n",
      " 21  rougher.input.floatbank11_sulfate           5282 non-null   float64\n",
      " 22  rougher.input.floatbank11_xanthate          5265 non-null   float64\n",
      " 23  rougher.state.floatbank10_a_air             5290 non-null   float64\n",
      " 24  rougher.state.floatbank10_a_level           5290 non-null   float64\n",
      " 25  rougher.state.floatbank10_b_air             5290 non-null   float64\n",
      " 26  rougher.state.floatbank10_b_level           5290 non-null   float64\n",
      " 27  rougher.state.floatbank10_c_air             5290 non-null   float64\n",
      " 28  rougher.state.floatbank10_c_level           5290 non-null   float64\n",
      " 29  rougher.state.floatbank10_d_air             5290 non-null   float64\n",
      " 30  rougher.state.floatbank10_d_level           5290 non-null   float64\n",
      " 31  rougher.state.floatbank10_e_air             5290 non-null   float64\n",
      " 32  rougher.state.floatbank10_e_level           5290 non-null   float64\n",
      " 33  rougher.state.floatbank10_f_air             5290 non-null   float64\n",
      " 34  rougher.state.floatbank10_f_level           5290 non-null   float64\n",
      " 35  secondary_cleaner.state.floatbank2_a_air    5287 non-null   float64\n",
      " 36  secondary_cleaner.state.floatbank2_a_level  5290 non-null   float64\n",
      " 37  secondary_cleaner.state.floatbank2_b_air    5288 non-null   float64\n",
      " 38  secondary_cleaner.state.floatbank2_b_level  5290 non-null   float64\n",
      " 39  secondary_cleaner.state.floatbank3_a_air    5281 non-null   float64\n",
      " 40  secondary_cleaner.state.floatbank3_a_level  5290 non-null   float64\n",
      " 41  secondary_cleaner.state.floatbank3_b_air    5290 non-null   float64\n",
      " 42  secondary_cleaner.state.floatbank3_b_level  5290 non-null   float64\n",
      " 43  secondary_cleaner.state.floatbank4_a_air    5290 non-null   float64\n",
      " 44  secondary_cleaner.state.floatbank4_a_level  5290 non-null   float64\n",
      " 45  secondary_cleaner.state.floatbank4_b_air    5290 non-null   float64\n",
      " 46  secondary_cleaner.state.floatbank4_b_level  5290 non-null   float64\n",
      " 47  secondary_cleaner.state.floatbank5_a_air    5290 non-null   float64\n",
      " 48  secondary_cleaner.state.floatbank5_a_level  5290 non-null   float64\n",
      " 49  secondary_cleaner.state.floatbank5_b_air    5290 non-null   float64\n",
      " 50  secondary_cleaner.state.floatbank5_b_level  5290 non-null   float64\n",
      " 51  secondary_cleaner.state.floatbank6_a_air    5290 non-null   float64\n",
      " 52  secondary_cleaner.state.floatbank6_a_level  5290 non-null   float64\n",
      "dtypes: float64(52), object(1)\n",
      "memory usage: 2.1+ MB\n",
      "None\n",
      "<class 'pandas.core.frame.DataFrame'>\n",
      "RangeIndex: 19439 entries, 0 to 19438\n",
      "Data columns (total 87 columns):\n",
      " #   Column                                              Non-Null Count  Dtype  \n",
      "---  ------                                              --------------  -----  \n",
      " 0   date                                                19439 non-null  object \n",
      " 1   final.output.concentrate_ag                         19438 non-null  float64\n",
      " 2   final.output.concentrate_pb                         19438 non-null  float64\n",
      " 3   final.output.concentrate_sol                        19228 non-null  float64\n",
      " 4   final.output.concentrate_au                         19439 non-null  float64\n",
      " 5   final.output.recovery                               19439 non-null  float64\n",
      " 6   final.output.tail_ag                                19438 non-null  float64\n",
      " 7   final.output.tail_pb                                19338 non-null  float64\n",
      " 8   final.output.tail_sol                               19433 non-null  float64\n",
      " 9   final.output.tail_au                                19439 non-null  float64\n",
      " 10  primary_cleaner.input.sulfate                       19415 non-null  float64\n",
      " 11  primary_cleaner.input.depressant                    19402 non-null  float64\n",
      " 12  primary_cleaner.input.feed_size                     19439 non-null  float64\n",
      " 13  primary_cleaner.input.xanthate                      19335 non-null  float64\n",
      " 14  primary_cleaner.output.concentrate_ag               19439 non-null  float64\n",
      " 15  primary_cleaner.output.concentrate_pb               19323 non-null  float64\n",
      " 16  primary_cleaner.output.concentrate_sol              19069 non-null  float64\n",
      " 17  primary_cleaner.output.concentrate_au               19439 non-null  float64\n",
      " 18  primary_cleaner.output.tail_ag                      19435 non-null  float64\n",
      " 19  primary_cleaner.output.tail_pb                      19418 non-null  float64\n",
      " 20  primary_cleaner.output.tail_sol                     19377 non-null  float64\n",
      " 21  primary_cleaner.output.tail_au                      19439 non-null  float64\n",
      " 22  primary_cleaner.state.floatbank8_a_air              19435 non-null  float64\n",
      " 23  primary_cleaner.state.floatbank8_a_level            19438 non-null  float64\n",
      " 24  primary_cleaner.state.floatbank8_b_air              19435 non-null  float64\n",
      " 25  primary_cleaner.state.floatbank8_b_level            19438 non-null  float64\n",
      " 26  primary_cleaner.state.floatbank8_c_air              19437 non-null  float64\n",
      " 27  primary_cleaner.state.floatbank8_c_level            19438 non-null  float64\n",
      " 28  primary_cleaner.state.floatbank8_d_air              19436 non-null  float64\n",
      " 29  primary_cleaner.state.floatbank8_d_level            19438 non-null  float64\n",
      " 30  rougher.calculation.sulfate_to_au_concentrate       19437 non-null  float64\n",
      " 31  rougher.calculation.floatbank10_sulfate_to_au_feed  19437 non-null  float64\n",
      " 32  rougher.calculation.floatbank11_sulfate_to_au_feed  19437 non-null  float64\n",
      " 33  rougher.calculation.au_pb_ratio                     19439 non-null  float64\n",
      " 34  rougher.input.feed_ag                               19439 non-null  float64\n",
      " 35  rougher.input.feed_pb                               19339 non-null  float64\n",
      " 36  rougher.input.feed_rate                             19428 non-null  float64\n",
      " 37  rougher.input.feed_size                             19294 non-null  float64\n",
      " 38  rougher.input.feed_sol                              19340 non-null  float64\n",
      " 39  rougher.input.feed_au                               19439 non-null  float64\n",
      " 40  rougher.input.floatbank10_sulfate                   19405 non-null  float64\n",
      " 41  rougher.input.floatbank10_xanthate                  19431 non-null  float64\n",
      " 42  rougher.input.floatbank11_sulfate                   19395 non-null  float64\n",
      " 43  rougher.input.floatbank11_xanthate                  18986 non-null  float64\n",
      " 44  rougher.output.concentrate_ag                       19439 non-null  float64\n",
      " 45  rougher.output.concentrate_pb                       19439 non-null  float64\n",
      " 46  rougher.output.concentrate_sol                      19416 non-null  float64\n",
      " 47  rougher.output.concentrate_au                       19439 non-null  float64\n",
      " 48  rougher.output.recovery                             19439 non-null  float64\n",
      " 49  rougher.output.tail_ag                              19438 non-null  float64\n",
      " 50  rougher.output.tail_pb                              19439 non-null  float64\n",
      " 51  rougher.output.tail_sol                             19439 non-null  float64\n",
      " 52  rougher.output.tail_au                              19439 non-null  float64\n",
      " 53  rougher.state.floatbank10_a_air                     19438 non-null  float64\n",
      " 54  rougher.state.floatbank10_a_level                   19438 non-null  float64\n",
      " 55  rougher.state.floatbank10_b_air                     19438 non-null  float64\n",
      " 56  rougher.state.floatbank10_b_level                   19438 non-null  float64\n",
      " 57  rougher.state.floatbank10_c_air                     19438 non-null  float64\n",
      " 58  rougher.state.floatbank10_c_level                   19438 non-null  float64\n",
      " 59  rougher.state.floatbank10_d_air                     19439 non-null  float64\n",
      " 60  rougher.state.floatbank10_d_level                   19439 non-null  float64\n",
      " 61  rougher.state.floatbank10_e_air                     19003 non-null  float64\n",
      " 62  rougher.state.floatbank10_e_level                   19439 non-null  float64\n",
      " 63  rougher.state.floatbank10_f_air                     19439 non-null  float64\n",
      " 64  rougher.state.floatbank10_f_level                   19439 non-null  float64\n",
      " 65  secondary_cleaner.output.tail_ag                    19437 non-null  float64\n",
      " 66  secondary_cleaner.output.tail_pb                    19427 non-null  float64\n",
      " 67  secondary_cleaner.output.tail_sol                   17691 non-null  float64\n",
      " 68  secondary_cleaner.output.tail_au                    19439 non-null  float64\n",
      " 69  secondary_cleaner.state.floatbank2_a_air            19219 non-null  float64\n",
      " 70  secondary_cleaner.state.floatbank2_a_level          19438 non-null  float64\n",
      " 71  secondary_cleaner.state.floatbank2_b_air            19416 non-null  float64\n",
      " 72  secondary_cleaner.state.floatbank2_b_level          19438 non-null  float64\n",
      " 73  secondary_cleaner.state.floatbank3_a_air            19426 non-null  float64\n",
      " 74  secondary_cleaner.state.floatbank3_a_level          19438 non-null  float64\n",
      " 75  secondary_cleaner.state.floatbank3_b_air            19438 non-null  float64\n",
      " 76  secondary_cleaner.state.floatbank3_b_level          19438 non-null  float64\n",
      " 77  secondary_cleaner.state.floatbank4_a_air            19433 non-null  float64\n",
      " 78  secondary_cleaner.state.floatbank4_a_level          19438 non-null  float64\n",
      " 79  secondary_cleaner.state.floatbank4_b_air            19438 non-null  float64\n",
      " 80  secondary_cleaner.state.floatbank4_b_level          19438 non-null  float64\n",
      " 81  secondary_cleaner.state.floatbank5_a_air            19438 non-null  float64\n",
      " 82  secondary_cleaner.state.floatbank5_a_level          19438 non-null  float64\n",
      " 83  secondary_cleaner.state.floatbank5_b_air            19438 non-null  float64\n",
      " 84  secondary_cleaner.state.floatbank5_b_level          19438 non-null  float64\n",
      " 85  secondary_cleaner.state.floatbank6_a_air            19437 non-null  float64\n",
      " 86  secondary_cleaner.state.floatbank6_a_level          19438 non-null  float64\n",
      "dtypes: float64(86), object(1)\n",
      "memory usage: 12.9+ MB\n",
      "None\n"
     ]
    }
   ],
   "source": [
    "# посмотрим на данные\n",
    "print(train.info())\n",
    "print(test.info())\n",
    "print(full.info())"
   ]
  },
  {
   "cell_type": "code",
   "execution_count": 4,
   "metadata": {
    "scrolled": true
   },
   "outputs": [
    {
     "name": "stdout",
     "output_type": "stream",
     "text": [
      "(14149, 87)\n",
      "(5290, 53)\n",
      "(19439, 87)\n"
     ]
    }
   ],
   "source": [
    "# посмотрим на данные\n",
    "print(train.shape)\n",
    "print(test.shape)\n",
    "print(full.shape)"
   ]
  },
  {
   "cell_type": "markdown",
   "metadata": {},
   "source": [
    "В тестовой выборке не хватает столбцов. Подробнее об этом пункте \"Анализ признаков, недоступных в тестовой выборке.\"\n",
    "\n",
    "В данных присутствуют пропуски."
   ]
  },
  {
   "cell_type": "code",
   "execution_count": 5,
   "metadata": {},
   "outputs": [
    {
     "name": "stdout",
     "output_type": "stream",
     "text": [
      "4100\n",
      "90\n",
      "4481\n"
     ]
    }
   ],
   "source": [
    "# сумма пропусков\n",
    "print(train.isnull().sum().sum())\n",
    "print(test.isnull().sum().sum())\n",
    "print(full.isnull().sum().sum())"
   ]
  },
  {
   "cell_type": "code",
   "execution_count": 6,
   "metadata": {},
   "outputs": [
    {
     "name": "stdout",
     "output_type": "stream",
     "text": [
      "0\n",
      "0\n",
      "0\n"
     ]
    }
   ],
   "source": [
    "# поиск дубликатов\n",
    "print(train.duplicated().sum())\n",
    "print(test.duplicated().sum())\n",
    "print(full.duplicated().sum())"
   ]
  },
  {
   "cell_type": "markdown",
   "metadata": {},
   "source": [
    "Дубликатов нет."
   ]
  },
  {
   "cell_type": "markdown",
   "metadata": {},
   "source": [
    "### Проверить, что эффективность обогащения рассчитана правильно."
   ]
  },
  {
   "cell_type": "code",
   "execution_count": 7,
   "metadata": {},
   "outputs": [],
   "source": [
    "# Функция расчета эффективности обогащения\n",
    "def recovery(column):\n",
    "    C = column['rougher.output.concentrate_au'] # доля золота в концентрате после флотации/очистки\n",
    "    F = column['rougher.input.feed_au'] # доля золота в сырье/концентрате до флотации/очистки\n",
    "    T = column['rougher.output.tail_au'] # доля золота в отвальных хвостах после флотации/очистки\n",
    "    return (C*(F-T))/(F*(C-T))*100    "
   ]
  },
  {
   "cell_type": "code",
   "execution_count": 8,
   "metadata": {},
   "outputs": [
    {
     "data": {
      "text/plain": [
       "count    14149.000000\n",
       "mean        82.704502\n",
       "std         14.479156\n",
       "min         -0.000000\n",
       "25%         79.993067\n",
       "50%         85.299462\n",
       "75%         90.165021\n",
       "max        100.000000\n",
       "dtype: float64"
      ]
     },
     "execution_count": 8,
     "metadata": {},
     "output_type": "execute_result"
    }
   ],
   "source": [
    "recovery(train).describe() # применение функции на тренировочной выборке, описание Series"
   ]
  },
  {
   "cell_type": "code",
   "execution_count": 9,
   "metadata": {
    "scrolled": true
   },
   "outputs": [
    {
     "data": {
      "text/plain": [
       "count    14149.000000\n",
       "mean        82.704502\n",
       "std         14.479156\n",
       "min          0.000000\n",
       "25%         79.993067\n",
       "50%         85.299462\n",
       "75%         90.165021\n",
       "max        100.000000\n",
       "Name: rougher.output.recovery, dtype: float64"
      ]
     },
     "execution_count": 9,
     "metadata": {},
     "output_type": "execute_result"
    }
   ],
   "source": [
    "train['rougher.output.recovery'].describe() # описание признака rougher.output.recovery на тренировочной выборке"
   ]
  },
  {
   "cell_type": "code",
   "execution_count": 10,
   "metadata": {
    "scrolled": true
   },
   "outputs": [
    {
     "name": "stdout",
     "output_type": "stream",
     "text": [
      "MAE = 9.73512347450521e-15\n"
     ]
    }
   ],
   "source": [
    "# MAE между расчётами и значением признака\n",
    "print('MAE =', mean_absolute_error(recovery(train), train['rougher.output.recovery']))"
   ]
  },
  {
   "cell_type": "markdown",
   "metadata": {},
   "source": [
    "**Вывод:**\n",
    "Ошибка минимальна. Значит признак rougher.output.recovery посчитан верно. Можно идти дальше."
   ]
  },
  {
   "cell_type": "markdown",
   "metadata": {},
   "source": [
    "### Анализ признаков, недоступных в тестовой выборке."
   ]
  },
  {
   "cell_type": "code",
   "execution_count": 11,
   "metadata": {
    "scrolled": false
   },
   "outputs": [
    {
     "data": {
      "text/plain": [
       "0                           final.output.concentrate_ag\n",
       "1                           final.output.concentrate_pb\n",
       "2                          final.output.concentrate_sol\n",
       "3                           final.output.concentrate_au\n",
       "4                                 final.output.recovery\n",
       "5                                  final.output.tail_ag\n",
       "6                                  final.output.tail_pb\n",
       "7                                 final.output.tail_sol\n",
       "8                                  final.output.tail_au\n",
       "9                 primary_cleaner.output.concentrate_ag\n",
       "10                primary_cleaner.output.concentrate_pb\n",
       "11               primary_cleaner.output.concentrate_sol\n",
       "12                primary_cleaner.output.concentrate_au\n",
       "13                       primary_cleaner.output.tail_ag\n",
       "14                       primary_cleaner.output.tail_pb\n",
       "15                      primary_cleaner.output.tail_sol\n",
       "16                       primary_cleaner.output.tail_au\n",
       "17        rougher.calculation.sulfate_to_au_concentrate\n",
       "18    rougher.calculation.floatbank10_sulfate_to_au_...\n",
       "19    rougher.calculation.floatbank11_sulfate_to_au_...\n",
       "20                      rougher.calculation.au_pb_ratio\n",
       "21                        rougher.output.concentrate_ag\n",
       "22                        rougher.output.concentrate_pb\n",
       "23                       rougher.output.concentrate_sol\n",
       "24                        rougher.output.concentrate_au\n",
       "25                              rougher.output.recovery\n",
       "26                               rougher.output.tail_ag\n",
       "27                               rougher.output.tail_pb\n",
       "28                              rougher.output.tail_sol\n",
       "29                               rougher.output.tail_au\n",
       "30                     secondary_cleaner.output.tail_ag\n",
       "31                     secondary_cleaner.output.tail_pb\n",
       "32                    secondary_cleaner.output.tail_sol\n",
       "33                     secondary_cleaner.output.tail_au\n",
       "dtype: object"
      ]
     },
     "execution_count": 11,
     "metadata": {},
     "output_type": "execute_result"
    }
   ],
   "source": [
    "pd.Series(train.columns.drop(test.columns)) # признаки, недоступные в тестовой выборке"
   ]
  },
  {
   "cell_type": "markdown",
   "metadata": {},
   "source": [
    "- `rougher.calculation....` - расчётные характеристики флотации\n",
    "- `rougher.output.concentrate...` - доля металла в концентрате после флотации\n",
    "- `rougher.output.tail....` - параметры отвальных хвостов после флотации\n",
    "- `rougher.output.recovery` - черновой концентрат после флотации\n",
    "- `primary_cleaner.output.concentrate....` - доля металла в концентрате после первичной очистки\n",
    "- `primary_cleaner.output.tail....` - параметры отвальных хвостов после первичной очистки\n",
    "- `secondary_cleaner.output.tail....` - параметры отвальных хвостов после вторичной очистки\n",
    "- `final.output.concentrate....` - доля металла в концентрате после вторичной очистки\n",
    "- `final.output.tail....` - параметры отвальных хвостов после вторичной очистки\n",
    "- `final.output.recovery` - финальный концентрат после вторичной очистки"
   ]
  },
  {
   "cell_type": "markdown",
   "metadata": {},
   "source": [
    "**Вывод:**"
   ]
  },
  {
   "cell_type": "markdown",
   "metadata": {},
   "source": [
    "Доли концентрации металлов на каждом этапе, отвальные хвосты на каждом этапе. А также 2 целевых признака.\n",
    "\n",
    "Это признаки, которые напрямую влияют на прогноз целевого признака. Поэтому они отсутствуют в тестовой выборке, чтобы не допустить утечки целевого признака.\n",
    "\n",
    "Так же их следует убрать из тренировочной выборки тоже."
   ]
  },
  {
   "cell_type": "markdown",
   "metadata": {},
   "source": [
    "### Предобработка данных."
   ]
  },
  {
   "cell_type": "markdown",
   "metadata": {},
   "source": [
    "#### Подготовка тренировочной выборки"
   ]
  },
  {
   "cell_type": "markdown",
   "metadata": {},
   "source": [
    "Соседние по времени параметры часто похожи, так как это учебный проект и нет возможности запросить данные, пропуски можно заполнить соседними значениями."
   ]
  },
  {
   "cell_type": "code",
   "execution_count": 12,
   "metadata": {},
   "outputs": [],
   "source": [
    "train = train.fillna(method='ffill') # заполняем пропуски из предыдущей строки\n",
    "features_train = train.drop(train.columns.drop(test.columns), axis =1) # удаляем столбцы, отсутствующие в тестовой выборке\n",
    "features_train = features_train.set_index('date') # заменяем индексы датой"
   ]
  },
  {
   "cell_type": "code",
   "execution_count": 13,
   "metadata": {},
   "outputs": [],
   "source": [
    "target_train_final = train['final.output.recovery'] # целевой признак тренировочной выборки\n",
    "target_train_rougher = train['rougher.output.recovery'] # целевой признак тренировочной выборки"
   ]
  },
  {
   "cell_type": "code",
   "execution_count": 14,
   "metadata": {},
   "outputs": [
    {
     "name": "stdout",
     "output_type": "stream",
     "text": [
      "(14149,)\n",
      "(14149,)\n",
      "(14149, 52)\n"
     ]
    }
   ],
   "source": [
    "# проверка размеров тренировочной выборки\n",
    "print(target_train_rougher.shape)\n",
    "print(target_train_final.shape)\n",
    "print(features_train.shape)"
   ]
  },
  {
   "cell_type": "markdown",
   "metadata": {},
   "source": [
    "#### Подготовка тестовой выборки"
   ]
  },
  {
   "cell_type": "code",
   "execution_count": 15,
   "metadata": {},
   "outputs": [],
   "source": [
    "test = test.fillna(method='ffill') # заполняем пропуски из предыдущей строки"
   ]
  },
  {
   "cell_type": "code",
   "execution_count": 16,
   "metadata": {},
   "outputs": [],
   "source": [
    "# подтягивание целевого признака\n",
    "test_merged = test.merge(full[['date','final.output.recovery','rougher.output.recovery']], on = 'date') "
   ]
  },
  {
   "cell_type": "code",
   "execution_count": 17,
   "metadata": {},
   "outputs": [],
   "source": [
    "test_merged = test_merged.set_index('date') # заменяем индексы датой\n",
    "features_test = test_merged.drop(['final.output.recovery','rougher.output.recovery'],axis =1)  # удаляем целевые признаки"
   ]
  },
  {
   "cell_type": "code",
   "execution_count": 18,
   "metadata": {},
   "outputs": [],
   "source": [
    "target_test_final = test_merged['final.output.recovery']  # целевой признак тестовой выборки\n",
    "target_test_rougher = test_merged['rougher.output.recovery']  # целевой признак тестовой выборки"
   ]
  },
  {
   "cell_type": "code",
   "execution_count": 19,
   "metadata": {},
   "outputs": [
    {
     "name": "stdout",
     "output_type": "stream",
     "text": [
      "(5290,)\n",
      "(5290,)\n",
      "(5290, 52)\n"
     ]
    }
   ],
   "source": [
    "# проверка размеров тестовой выборки\n",
    "print(target_test_rougher.shape)\n",
    "print(target_test_final.shape)\n",
    "print(features_test.shape)"
   ]
  },
  {
   "cell_type": "code",
   "execution_count": 20,
   "metadata": {},
   "outputs": [],
   "source": [
    "full = full.fillna(method='ffill') # заполняем пропуски из предыдущей строки"
   ]
  },
  {
   "cell_type": "markdown",
   "metadata": {},
   "source": [
    "**Выводы**"
   ]
  },
  {
   "cell_type": "markdown",
   "metadata": {},
   "source": [
    "- Эффективность обогащения рассчитана правильно.\n",
    "- Пропуски заполнены соседними значениями.\n",
    "- Из тренировочной и тестовой выборок удалены столбцы, которые могли способствовать утечки целевого признака.\n",
    "- Данные готовы для дальнейшего анализа и прогноза."
   ]
  },
  {
   "cell_type": "markdown",
   "metadata": {},
   "source": [
    "## Анализ данных"
   ]
  },
  {
   "cell_type": "markdown",
   "metadata": {},
   "source": [
    "### Изучение изменения концентрации металлов (Au, Ag, Pb) на различных этапах очистки."
   ]
  },
  {
   "cell_type": "code",
   "execution_count": 21,
   "metadata": {},
   "outputs": [],
   "source": [
    "metal = {'Серебро':'ag','Свинец':'pb','Золото':'au'} # словарь металлов"
   ]
  },
  {
   "cell_type": "code",
   "execution_count": 22,
   "metadata": {
    "scrolled": false
   },
   "outputs": [
    {
     "data": {
      "image/png": "[encoded data removed]",
      "text/plain": [
       "<Figure size 1080x504 with 1 Axes>"
      ]
     },
     "metadata": {
      "needs_background": "light"
     },
     "output_type": "display_data"
    },
    {
     "data": {
      "image/png": "[encoded data removed]",
      "text/plain": [
       "<Figure size 1080x504 with 1 Axes>"
      ]
     },
     "metadata": {
      "needs_background": "light"
     },
     "output_type": "display_data"
    },
    {
     "data": {
      "image/png": "[encoded data removed]",
      "text/plain": [
       "<Figure size 1080x504 with 1 Axes>"
      ]
     },
     "metadata": {
      "needs_background": "light"
     },
     "output_type": "display_data"
    }
   ],
   "source": [
    "# цикл по металлам для построения диаграмм размаха концентрации металлов на различных этапах очистки\n",
    "for i in metal:\n",
    "    plt.figure(figsize=(15,7))\n",
    "    plt.title('Диаграмма размаха концентрации ' + metal[i], fontsize = 20)\n",
    "    sns.boxplot(data = full[['rougher.input.feed_' + metal[i],\n",
    "                             'rougher.output.concentrate_' + metal[i],\n",
    "                             'primary_cleaner.output.concentrate_' + metal[i],\n",
    "                             'final.output.concentrate_' + metal[i]]])\n",
    "    plt.xticks([0,1,2,3], ['сырье', 'после флотации', 'первичная очистка', 'вторичная очистка'], fontsize = 15)\n",
    "    plt.grid()\n",
    "plt.show()"
   ]
  },
  {
   "cell_type": "markdown",
   "metadata": {},
   "source": [
    "Заметно растет концентрация золота в процессе очистки. Концентрация серебра падает. Концентрация свинца растет незначительно."
   ]
  },
  {
   "cell_type": "markdown",
   "metadata": {},
   "source": [
    "### Сравнение распределения размеров гранул сырья на обучающей и тестовой выборках."
   ]
  },
  {
   "cell_type": "code",
   "execution_count": 23,
   "metadata": {},
   "outputs": [
    {
     "data": {
      "image/png": "[encoded data removed]",
      "text/plain": [
       "<Figure size 1080x720 with 1 Axes>"
      ]
     },
     "metadata": {
      "needs_background": "light"
     },
     "output_type": "display_data"
    }
   ],
   "source": [
    "plt.figure(figsize=(15,10))\n",
    "sns.histplot(train['rougher.input.feed_size'],stat=\"density\", color = 'g');\n",
    "# график распределения размеров гранул перед флорацией в тренировочной выборке\n",
    "sns.histplot(test['rougher.input.feed_size'],stat=\"density\", color = 'b');\n",
    "# график распределения размеров гранул перед флорацией в тестовой выборке"
   ]
  },
  {
   "cell_type": "code",
   "execution_count": 24,
   "metadata": {},
   "outputs": [
    {
     "data": {
      "image/png": "[encoded data removed]",
      "text/plain": [
       "<Figure size 1080x720 with 1 Axes>"
      ]
     },
     "metadata": {
      "needs_background": "light"
     },
     "output_type": "display_data"
    }
   ],
   "source": [
    "plt.figure(figsize=(15,10))\n",
    "sns.histplot(train['primary_cleaner.input.feed_size'],stat=\"density\", color = 'g');\n",
    "# график распределения размеров гранул в финальном концентрате в тренировочной выборке\n",
    "sns.histplot(test['primary_cleaner.input.feed_size'],stat=\"density\", color = 'b');\n",
    "# график распределения размеров гранул в финальном концентрате в тестовой выборке"
   ]
  },
  {
   "cell_type": "markdown",
   "metadata": {},
   "source": [
    "Распределения размеров гранул сырья на обучающей и тестовой выборках очень похожи. Перед флотацией и финальный концентрат.\n",
    "Оценки моделей должны быть правильными."
   ]
  },
  {
   "cell_type": "markdown",
   "metadata": {},
   "source": [
    "### Исследование суммарной концентрации всех веществ на разных стадиях: в сырье, в черновом и финальном концентратах."
   ]
  },
  {
   "cell_type": "code",
   "execution_count": 25,
   "metadata": {},
   "outputs": [],
   "source": [
    "# суммируем концентрацию всех веществ на разных стадиях\n",
    "rougher_input_feed = full[['rougher.input.feed_ag','rougher.input.feed_pb',\n",
    "                           'rougher.input.feed_sol','rougher.input.feed_au']].T.sum()\n",
    "rougher_output_concentrate = full[['rougher.output.concentrate_ag', 'rougher.output.concentrate_pb',\n",
    "                                   'rougher.output.concentrate_sol', 'rougher.output.concentrate_au']].T.sum()\n",
    "final_output_concentrate = full[['final.output.concentrate_ag','final.output.concentrate_pb',\n",
    "                                 'final.output.concentrate_sol','final.output.concentrate_au']].T.sum()"
   ]
  },
  {
   "cell_type": "code",
   "execution_count": 26,
   "metadata": {},
   "outputs": [
    {
     "data": {
      "image/png": "[encoded data removed]",
      "text/plain": [
       "<Figure size 1080x720 with 1 Axes>"
      ]
     },
     "metadata": {
      "needs_background": "light"
     },
     "output_type": "display_data"
    }
   ],
   "source": [
    "# диаграммы размаха суммарной концентрации всех веществ на разных стадиях: в сырье, в черновом и финальном концентратах\n",
    "plt.figure(figsize=(15,10))\n",
    "plt.title('Диаграммы размаха суммарной концентрации всех веществ', fontsize = 20)\n",
    "sns.boxplot(data = [rougher_input_feed, rougher_output_concentrate, final_output_concentrate])\n",
    "plt.xticks([0,1,2], ['сырье', 'черновой концентрат', 'финальный концентрат'], fontsize = 15)\n",
    "plt.grid()\n",
    "plt.show()"
   ]
  },
  {
   "cell_type": "markdown",
   "metadata": {},
   "source": [
    "Концентрация веществ растет и сужается. Присутвствуют выбросы на минимальных значениях. Построим гистограмму, для просмотра выбросов."
   ]
  },
  {
   "cell_type": "code",
   "execution_count": 27,
   "metadata": {},
   "outputs": [
    {
     "data": {
      "image/png": "[encoded data removed]",
      "text/plain": [
       "<Figure size 1080x720 with 1 Axes>"
      ]
     },
     "metadata": {
      "needs_background": "light"
     },
     "output_type": "display_data"
    }
   ],
   "source": [
    "# строим гистограмму\n",
    "plt.figure(figsize=(15,10))\n",
    "plt.title('Гистограмма суммарной концентрации всех веществ', fontsize = 20)\n",
    "sns.histplot(rougher_input_feed, color='blue')\n",
    "sns.histplot(rougher_output_concentrate, color='orange')\n",
    "sns.histplot(final_output_concentrate, color = 'green')\n",
    "plt.legend(['сырье', 'черновой концентрат', 'финальный концентрат'], fontsize = 12)\n",
    "plt.grid()\n",
    "plt.show()"
   ]
  },
  {
   "cell_type": "markdown",
   "metadata": {},
   "source": [
    "Очень много значений около 0 в черновом концентрате, а так же в финальном. Их лучше удалить, чтобы модель выстраивала предсказания правильней.\n",
    "\n",
    "Это следует сделать на всех выборках, с последующей корректировкой признаков."
   ]
  },
  {
   "cell_type": "code",
   "execution_count": 28,
   "metadata": {},
   "outputs": [],
   "source": [
    "# удаление выбросов\n",
    "full.query('`rougher.input.feed_ag` > 1 & `rougher.input.feed_pb` > 1 & \\\n",
    "            `rougher.input.feed_sol` > 1 & `rougher.input.feed_au` > 1 & \\\n",
    "            `rougher.output.concentrate_ag` > 1 & `rougher.output.concentrate_pb` > 1 & \\\n",
    "            `rougher.output.concentrate_sol` > 1 & `rougher.output.concentrate_au` > 1 & \\\n",
    "            `final.output.concentrate_ag` > 1 & `final.output.concentrate_pb` > 1 & \\\n",
    "            `final.output.concentrate_sol` > 1 & `final.output.concentrate_au` > 1', inplace = True)"
   ]
  },
  {
   "cell_type": "code",
   "execution_count": 29,
   "metadata": {},
   "outputs": [],
   "source": [
    "# удаление выбросов\n",
    "train.query('`rougher.input.feed_ag` > 1 & `rougher.input.feed_pb` > 1 & \\\n",
    "            `rougher.input.feed_sol` > 1 & `rougher.input.feed_au` > 1 & \\\n",
    "            `rougher.output.concentrate_ag` > 1 & `rougher.output.concentrate_pb` > 1 & \\\n",
    "            `rougher.output.concentrate_sol` > 1 & `rougher.output.concentrate_au` > 1 & \\\n",
    "            `final.output.concentrate_ag` > 1 & `final.output.concentrate_pb` > 1 & \\\n",
    "            `final.output.concentrate_sol` > 1 & `final.output.concentrate_au` > 1', inplace = True)"
   ]
  },
  {
   "cell_type": "code",
   "execution_count": 30,
   "metadata": {},
   "outputs": [],
   "source": [
    "# удаление выбросов\n",
    "test.query('`rougher.input.feed_ag` > 1 & `rougher.input.feed_pb` > 1 & \\\n",
    "            `rougher.input.feed_sol` > 1 & `rougher.input.feed_au` > 1', inplace = True)"
   ]
  },
  {
   "cell_type": "code",
   "execution_count": 31,
   "metadata": {},
   "outputs": [],
   "source": [
    "# заново определяем переменные для проверки\n",
    "rougher_input_feed = full[['rougher.input.feed_ag','rougher.input.feed_pb',\n",
    "                           'rougher.input.feed_sol','rougher.input.feed_au']].T.sum()\n",
    "rougher_output_concentrate = full[['rougher.output.concentrate_ag', 'rougher.output.concentrate_pb',\n",
    "                                   'rougher.output.concentrate_sol', 'rougher.output.concentrate_au']].T.sum()\n",
    "final_output_concentrate = full[['final.output.concentrate_ag','final.output.concentrate_pb',\n",
    "                                 'final.output.concentrate_sol','final.output.concentrate_au']].T.sum()"
   ]
  },
  {
   "cell_type": "code",
   "execution_count": 32,
   "metadata": {
    "scrolled": false
   },
   "outputs": [
    {
     "data": {
      "image/png": "[encoded data removed]",
      "text/plain": [
       "<Figure size 1080x720 with 1 Axes>"
      ]
     },
     "metadata": {
      "needs_background": "light"
     },
     "output_type": "display_data"
    }
   ],
   "source": [
    "# строим гистограмму для проверки\n",
    "plt.figure(figsize=(15,10))\n",
    "plt.title('Гистограмма суммарной концентрации всех веществ', fontsize = 20)\n",
    "sns.histplot(rougher_input_feed, color='blue')\n",
    "sns.histplot(rougher_output_concentrate, color='orange')\n",
    "sns.histplot(final_output_concentrate, color = 'green')\n",
    "plt.legend(['сырье', 'черновой концентрат', 'финальный концентрат'], fontsize = 12)\n",
    "plt.grid()\n",
    "plt.show()"
   ]
  },
  {
   "cell_type": "markdown",
   "metadata": {},
   "source": [
    "#### Корректировка признаков после удаления выбросов."
   ]
  },
  {
   "cell_type": "code",
   "execution_count": 33,
   "metadata": {},
   "outputs": [],
   "source": [
    "features_train = train.drop(train.columns.drop(test.columns), axis =1) # удаляем столбцы, отсутствующие в тестовой выборке\n",
    "features_train = features_train.set_index('date') # заменяем индексы датой"
   ]
  },
  {
   "cell_type": "code",
   "execution_count": 34,
   "metadata": {},
   "outputs": [],
   "source": [
    "target_train_final = train['final.output.recovery'] # целевой признак тренировочной выборки\n",
    "target_train_rougher = train['rougher.output.recovery'] # целевой признак тренировочной выборки"
   ]
  },
  {
   "cell_type": "code",
   "execution_count": 35,
   "metadata": {},
   "outputs": [],
   "source": [
    "# подтягивание целевого признака\n",
    "test_merged = test.merge(full[['date','final.output.recovery','rougher.output.recovery']], on = 'date')"
   ]
  },
  {
   "cell_type": "code",
   "execution_count": 36,
   "metadata": {},
   "outputs": [],
   "source": [
    "test_merged = test_merged.set_index('date') # заменяем индексы датой\n",
    "features_test = test_merged.drop(['final.output.recovery','rougher.output.recovery'],axis =1) # удаляем целевые признаки"
   ]
  },
  {
   "cell_type": "code",
   "execution_count": 37,
   "metadata": {},
   "outputs": [],
   "source": [
    "target_test_final = test_merged['final.output.recovery'] # целевой признак тестовой выборки\n",
    "target_test_rougher = test_merged['rougher.output.recovery'] # целевой признак тестовой выборки"
   ]
  },
  {
   "cell_type": "code",
   "execution_count": 38,
   "metadata": {},
   "outputs": [
    {
     "name": "stdout",
     "output_type": "stream",
     "text": [
      "(13542,)\n",
      "(13542,)\n",
      "(13542, 52)\n"
     ]
    }
   ],
   "source": [
    "# проверка размеров тренировочной выборки\n",
    "print(target_train_rougher.shape)\n",
    "print(target_train_final.shape)\n",
    "print(features_train.shape)"
   ]
  },
  {
   "cell_type": "code",
   "execution_count": 39,
   "metadata": {},
   "outputs": [
    {
     "name": "stdout",
     "output_type": "stream",
     "text": [
      "(5138,)\n",
      "(5138,)\n",
      "(5138, 52)\n"
     ]
    }
   ],
   "source": [
    "# проверка размеров тестовой выборки\n",
    "print(target_test_rougher.shape)\n",
    "print(target_test_final.shape)\n",
    "print(features_test.shape)"
   ]
  },
  {
   "cell_type": "markdown",
   "metadata": {},
   "source": [
    "**Вывод**"
   ]
  },
  {
   "cell_type": "markdown",
   "metadata": {},
   "source": [
    "- Концентрация золота растет от первичного сырья к финальной очистке.\n",
    "- Распределения размеров гранул сырья на обучающей и тестовой выборках почти совпадают.\n",
    "- Удалены выбросы во всех выборках для корректного обучения моделей.\n",
    "- Проведены корректировки признаков после удаления выбросов."
   ]
  },
  {
   "cell_type": "markdown",
   "metadata": {},
   "source": [
    "## Модель"
   ]
  },
  {
   "cell_type": "markdown",
   "metadata": {},
   "source": [
    "### Запись функции для вычисления итоговой sMAPE."
   ]
  },
  {
   "cell_type": "code",
   "execution_count": 40,
   "metadata": {},
   "outputs": [],
   "source": [
    "# sMAPE (Symmetric Mean Absolute Percentage Error, «симметричное среднее абсолютное процентное отклонение»)\n",
    "def sMAPE(target, predict):\n",
    "    return np.mean(abs(target - predict)/((abs(target)+abs(predict))/2))*100"
   ]
  },
  {
   "cell_type": "code",
   "execution_count": 41,
   "metadata": {},
   "outputs": [],
   "source": [
    "# итоговая sMAPE\n",
    "def final_sMAPE(rougher, final):\n",
    "    return (0.25*rougher + 0.75*final)"
   ]
  },
  {
   "cell_type": "markdown",
   "metadata": {},
   "source": [
    "### Обучение разных моделей и оценка качество кросс-валидацией. Выбор лучшей модели и проверка на тестовой выборке."
   ]
  },
  {
   "cell_type": "code",
   "execution_count": 42,
   "metadata": {},
   "outputs": [],
   "source": [
    "custom_score = make_scorer(sMAPE, greater_is_better=False) # создание собственной метрики"
   ]
  },
  {
   "cell_type": "code",
   "execution_count": 43,
   "metadata": {},
   "outputs": [],
   "source": [
    "model_lr = make_pipeline(StandardScaler(), LinearRegression()) # pipeline для масштабирования и Линейной Регрессии \n",
    "model_dt = make_pipeline(DecisionTreeRegressor()) \n",
    "model_rf = make_pipeline(RandomForestRegressor()) \n",
    "model_cb = make_pipeline(CatBoostRegressor()) "
   ]
  },
  {
   "cell_type": "code",
   "execution_count": 44,
   "metadata": {},
   "outputs": [],
   "source": [
    "# подбор гиперпараметров для моделей (оставлены лучшие параметры)\n",
    "grid_lr= {}\n",
    "grid_dt= {'decisiontreeregressor__max_depth':[2,3],\n",
    "          'decisiontreeregressor__random_state':[42]}\n",
    "grid_rf = {'randomforestregressor__n_estimators':[40,95],\n",
    "           'randomforestregressor__max_depth':[4],\n",
    "           'randomforestregressor__random_state':[42],\n",
    "           'randomforestregressor__n_jobs':[-1]}\n",
    "grid_cb = {'catboostregressor__n_estimators':[7],\n",
    "           'catboostregressor__max_depth':[3],\n",
    "           'catboostregressor__random_state':[42]}"
   ]
  },
  {
   "cell_type": "code",
   "execution_count": 45,
   "metadata": {},
   "outputs": [],
   "source": [
    "# кросс-валидация и поиск лучших параметров для моделей\n",
    "lr_rougher = GridSearchCV(model_lr, param_grid=grid_lr, cv= 5, scoring = custom_score)\n",
    "lr_final = GridSearchCV(model_lr, param_grid=grid_lr, cv= 5, scoring = custom_score)\n",
    "dt_rougher = GridSearchCV(model_dt, param_grid=grid_dt, cv= 5, scoring = custom_score)\n",
    "dt_final = GridSearchCV(model_dt, param_grid=grid_dt, cv= 5, scoring = custom_score)\n",
    "rf_rougher = GridSearchCV(model_rf, param_grid=grid_rf, cv= 5, scoring = custom_score)\n",
    "rf_final = GridSearchCV(model_rf, param_grid=grid_rf, cv= 5, scoring = custom_score)\n",
    "cb_rougher = GridSearchCV(model_cb, param_grid=grid_cb, cv= 5, scoring = custom_score)\n",
    "cb_final = GridSearchCV(model_cb, param_grid=grid_cb, cv= 5, scoring = custom_score)"
   ]
  },
  {
   "cell_type": "code",
   "execution_count": 46,
   "metadata": {
    "scrolled": true
   },
   "outputs": [
    {
     "name": "stdout",
     "output_type": "stream",
     "text": [
      "Learning rate set to 0.5\n",
      "0:\tlearn: 5.8454166\ttotal: 161ms\tremaining: 964ms\n",
      "1:\tlearn: 5.2860187\ttotal: 172ms\tremaining: 429ms\n",
      "2:\tlearn: 4.9764647\ttotal: 183ms\tremaining: 244ms\n",
      "3:\tlearn: 4.8206418\ttotal: 200ms\tremaining: 150ms\n",
      "4:\tlearn: 4.6958717\ttotal: 211ms\tremaining: 84.5ms\n",
      "5:\tlearn: 4.5883434\ttotal: 218ms\tremaining: 36.4ms\n",
      "6:\tlearn: 4.5172478\ttotal: 223ms\tremaining: 0us\n",
      "Learning rate set to 0.5\n",
      "0:\tlearn: 6.5649228\ttotal: 3.03ms\tremaining: 18.2ms\n",
      "1:\tlearn: 5.8752793\ttotal: 5.84ms\tremaining: 14.6ms\n",
      "2:\tlearn: 5.4967688\ttotal: 8.42ms\tremaining: 11.2ms\n",
      "3:\tlearn: 5.3577725\ttotal: 10.9ms\tremaining: 8.16ms\n",
      "4:\tlearn: 5.1856592\ttotal: 13.5ms\tremaining: 5.39ms\n",
      "5:\tlearn: 5.0443535\ttotal: 15.9ms\tremaining: 2.65ms\n",
      "6:\tlearn: 4.9637527\ttotal: 18.4ms\tremaining: 0us\n",
      "Learning rate set to 0.5\n",
      "0:\tlearn: 6.8908886\ttotal: 3.16ms\tremaining: 19ms\n",
      "1:\tlearn: 6.0737768\ttotal: 5.89ms\tremaining: 14.7ms\n",
      "2:\tlearn: 5.7356439\ttotal: 8.59ms\tremaining: 11.5ms\n",
      "3:\tlearn: 5.5392355\ttotal: 11.2ms\tremaining: 8.36ms\n",
      "4:\tlearn: 5.4067544\ttotal: 13.9ms\tremaining: 5.57ms\n",
      "5:\tlearn: 5.2863382\ttotal: 16.6ms\tremaining: 2.77ms\n",
      "6:\tlearn: 5.2117732\ttotal: 19.3ms\tremaining: 0us\n",
      "Learning rate set to 0.5\n",
      "0:\tlearn: 6.6188823\ttotal: 3.06ms\tremaining: 18.4ms\n",
      "1:\tlearn: 6.0819204\ttotal: 6.93ms\tremaining: 17.3ms\n",
      "2:\tlearn: 5.7732323\ttotal: 10.8ms\tremaining: 14.4ms\n",
      "3:\tlearn: 5.6078052\ttotal: 13.5ms\tremaining: 10.2ms\n",
      "4:\tlearn: 5.4678228\ttotal: 16.2ms\tremaining: 6.49ms\n",
      "5:\tlearn: 5.3492270\ttotal: 18.9ms\tremaining: 3.14ms\n",
      "6:\tlearn: 5.2179250\ttotal: 22.5ms\tremaining: 0us\n",
      "Learning rate set to 0.5\n",
      "0:\tlearn: 6.4262101\ttotal: 2.87ms\tremaining: 17.2ms\n",
      "1:\tlearn: 5.8432064\ttotal: 5.71ms\tremaining: 14.3ms\n",
      "2:\tlearn: 5.5323350\ttotal: 8.28ms\tremaining: 11ms\n",
      "3:\tlearn: 5.3626986\ttotal: 10.8ms\tremaining: 8.08ms\n",
      "4:\tlearn: 5.2213117\ttotal: 13.2ms\tremaining: 5.3ms\n",
      "5:\tlearn: 5.0845194\ttotal: 15.7ms\tremaining: 2.61ms\n",
      "6:\tlearn: 4.9984008\ttotal: 18.1ms\tremaining: 0us\n",
      "Learning rate set to 0.5\n",
      "0:\tlearn: 6.5729076\ttotal: 3.26ms\tremaining: 19.5ms\n",
      "1:\tlearn: 5.9213246\ttotal: 6.14ms\tremaining: 15.4ms\n",
      "2:\tlearn: 5.5180884\ttotal: 8.89ms\tremaining: 11.9ms\n",
      "3:\tlearn: 5.3669903\ttotal: 11.7ms\tremaining: 8.74ms\n",
      "4:\tlearn: 5.2182256\ttotal: 14.4ms\tremaining: 5.76ms\n",
      "5:\tlearn: 5.1082358\ttotal: 17.2ms\tremaining: 2.87ms\n",
      "6:\tlearn: 5.0411199\ttotal: 19.8ms\tremaining: 0us\n",
      "Learning rate set to 0.5\n",
      "0:\tlearn: 8.2028822\ttotal: 3.03ms\tremaining: 18.2ms\n",
      "1:\tlearn: 7.7867223\ttotal: 5.51ms\tremaining: 13.8ms\n",
      "2:\tlearn: 7.5172103\ttotal: 8.05ms\tremaining: 10.7ms\n",
      "3:\tlearn: 7.3682534\ttotal: 10.5ms\tremaining: 7.89ms\n",
      "4:\tlearn: 7.2223976\ttotal: 13ms\tremaining: 5.2ms\n",
      "5:\tlearn: 7.1416858\ttotal: 15.4ms\tremaining: 2.57ms\n",
      "6:\tlearn: 7.0574126\ttotal: 18ms\tremaining: 0us\n",
      "Learning rate set to 0.5\n",
      "0:\tlearn: 8.5594740\ttotal: 3.09ms\tremaining: 18.5ms\n",
      "1:\tlearn: 8.0158196\ttotal: 5.64ms\tremaining: 14.1ms\n",
      "2:\tlearn: 7.7459241\ttotal: 8.4ms\tremaining: 11.2ms\n",
      "3:\tlearn: 7.5407213\ttotal: 10.9ms\tremaining: 8.15ms\n",
      "4:\tlearn: 7.4136846\ttotal: 13.3ms\tremaining: 5.33ms\n",
      "5:\tlearn: 7.3149797\ttotal: 15.7ms\tremaining: 2.62ms\n",
      "6:\tlearn: 7.1786089\ttotal: 18.2ms\tremaining: 0us\n",
      "Learning rate set to 0.5\n",
      "0:\tlearn: 8.1244749\ttotal: 2.94ms\tremaining: 17.6ms\n",
      "1:\tlearn: 7.7529589\ttotal: 5.63ms\tremaining: 14.1ms\n",
      "2:\tlearn: 7.5054968\ttotal: 8.33ms\tremaining: 11.1ms\n",
      "3:\tlearn: 7.3452497\ttotal: 10.7ms\tremaining: 8.05ms\n",
      "4:\tlearn: 7.2342206\ttotal: 13.2ms\tremaining: 5.27ms\n",
      "5:\tlearn: 7.1539710\ttotal: 15.6ms\tremaining: 2.6ms\n",
      "6:\tlearn: 7.0808321\ttotal: 18.1ms\tremaining: 0us\n",
      "Learning rate set to 0.5\n",
      "0:\tlearn: 8.0487526\ttotal: 2.89ms\tremaining: 17.4ms\n",
      "1:\tlearn: 7.6839653\ttotal: 5.61ms\tremaining: 14ms\n",
      "2:\tlearn: 7.4624123\ttotal: 8.13ms\tremaining: 10.8ms\n",
      "3:\tlearn: 7.2839904\ttotal: 10.9ms\tremaining: 8.15ms\n",
      "4:\tlearn: 7.1443559\ttotal: 13.3ms\tremaining: 5.33ms\n",
      "5:\tlearn: 7.0243944\ttotal: 15.8ms\tremaining: 2.63ms\n",
      "6:\tlearn: 6.9641442\ttotal: 18.2ms\tremaining: 0us\n",
      "Learning rate set to 0.5\n",
      "0:\tlearn: 8.1659177\ttotal: 2.81ms\tremaining: 16.9ms\n",
      "1:\tlearn: 7.7814709\ttotal: 6.74ms\tremaining: 16.8ms\n",
      "2:\tlearn: 7.5546903\ttotal: 10.4ms\tremaining: 13.9ms\n",
      "3:\tlearn: 7.3590964\ttotal: 13.4ms\tremaining: 10ms\n",
      "4:\tlearn: 7.1889996\ttotal: 15.9ms\tremaining: 6.37ms\n",
      "5:\tlearn: 7.0598525\ttotal: 18.8ms\tremaining: 3.13ms\n",
      "6:\tlearn: 6.9813399\ttotal: 21.4ms\tremaining: 0us\n",
      "Learning rate set to 0.5\n",
      "0:\tlearn: 8.2554900\ttotal: 3.25ms\tremaining: 19.5ms\n",
      "1:\tlearn: 7.8339392\ttotal: 6.07ms\tremaining: 15.2ms\n",
      "2:\tlearn: 7.5273166\ttotal: 8.75ms\tremaining: 11.7ms\n",
      "3:\tlearn: 7.3769436\ttotal: 11.4ms\tremaining: 8.52ms\n",
      "4:\tlearn: 7.2753414\ttotal: 13.9ms\tremaining: 5.57ms\n",
      "5:\tlearn: 7.1658051\ttotal: 16.6ms\tremaining: 2.77ms\n",
      "6:\tlearn: 7.1122577\ttotal: 19.3ms\tremaining: 0us\n"
     ]
    },
    {
     "data": {
      "text/plain": [
       "GridSearchCV(cv=5,\n",
       "             estimator=Pipeline(steps=[('catboostregressor',\n",
       "                                        <catboost.core.CatBoostRegressor object at 0x0000019375425AC0>)]),\n",
       "             param_grid={'catboostregressor__max_depth': [3],\n",
       "                         'catboostregressor__n_estimators': [7],\n",
       "                         'catboostregressor__random_state': [42]},\n",
       "             scoring=make_scorer(sMAPE, greater_is_better=False))"
      ]
     },
     "execution_count": 46,
     "metadata": {},
     "output_type": "execute_result"
    }
   ],
   "source": [
    "# обучение моделей\n",
    "lr_rougher.fit(features_train,target_train_rougher)\n",
    "lr_final.fit(features_train,target_train_final)\n",
    "dt_rougher.fit(features_train,target_train_rougher)\n",
    "dt_final.fit(features_train,target_train_final)\n",
    "rf_rougher.fit(features_train,target_train_rougher)\n",
    "rf_final.fit(features_train,target_train_final)\n",
    "cb_rougher.fit(features_train,target_train_rougher)\n",
    "cb_final.fit(features_train,target_train_final)"
   ]
  },
  {
   "cell_type": "code",
   "execution_count": 47,
   "metadata": {},
   "outputs": [
    {
     "name": "stdout",
     "output_type": "stream",
     "text": [
      "Pipeline(steps=[('decisiontreeregressor',\n",
      "                 DecisionTreeRegressor(max_depth=3, random_state=42))])\n",
      "Pipeline(steps=[('decisiontreeregressor',\n",
      "                 DecisionTreeRegressor(max_depth=2, random_state=42))])\n",
      "Pipeline(steps=[('randomforestregressor',\n",
      "                 RandomForestRegressor(max_depth=4, n_estimators=40, n_jobs=-1,\n",
      "                                       random_state=42))])\n",
      "Pipeline(steps=[('randomforestregressor',\n",
      "                 RandomForestRegressor(max_depth=4, n_estimators=95, n_jobs=-1,\n",
      "                                       random_state=42))])\n",
      "Pipeline(steps=[('catboostregressor',\n",
      "                 <catboost.core.CatBoostRegressor object at 0x0000019373A68A00>)])\n",
      "Pipeline(steps=[('catboostregressor',\n",
      "                 <catboost.core.CatBoostRegressor object at 0x00000193754A29D0>)])\n"
     ]
    }
   ],
   "source": [
    "# вывод лучших гиперпараметров моделей\n",
    "lr_rougher.best_estimator_\n",
    "lr_final.best_estimator_\n",
    "print(dt_rougher.best_estimator_)\n",
    "print(dt_final.best_estimator_)\n",
    "print(rf_rougher.best_estimator_)\n",
    "print(rf_final.best_estimator_)\n",
    "print(cb_rougher.best_estimator_)\n",
    "print(cb_final.best_estimator_)"
   ]
  },
  {
   "cell_type": "code",
   "execution_count": 48,
   "metadata": {},
   "outputs": [
    {
     "name": "stdout",
     "output_type": "stream",
     "text": [
      "Лучшая итоговая sMAPE Линейной Регрессии: -9.898897315641191\n",
      "Лучшая итоговая sMAPE Дерева Решений: -8.602463991220798\n",
      "Лучшая итоговая sMAPE Случайного Леса: -8.185140591850393\n",
      "Лучшая итоговая sMAPE CatBoost: -8.045681611167415\n"
     ]
    }
   ],
   "source": [
    "print('Лучшая итоговая sMAPE Линейной Регрессии:', final_sMAPE(lr_rougher.best_score_, lr_final.best_score_))\n",
    "print('Лучшая итоговая sMAPE Дерева Решений:', final_sMAPE(dt_rougher.best_score_, dt_final.best_score_))\n",
    "print('Лучшая итоговая sMAPE Случайного Леса:', final_sMAPE(rf_rougher.best_score_, rf_final.best_score_))\n",
    "print('Лучшая итоговая sMAPE CatBoost:', final_sMAPE(cb_rougher.best_score_, cb_final.best_score_))"
   ]
  },
  {
   "cell_type": "markdown",
   "metadata": {},
   "source": [
    "Лучшая модель: CatBoost."
   ]
  },
  {
   "cell_type": "markdown",
   "metadata": {},
   "source": [
    "**Проверка на тестовой выборке:**"
   ]
  },
  {
   "cell_type": "code",
   "execution_count": 49,
   "metadata": {},
   "outputs": [],
   "source": [
    "# подсчет sMAPE на тестовой выборке\n",
    "test_lr_rougher = sMAPE(target_test_rougher, lr_rougher.predict(features_test))\n",
    "test_lr_final = sMAPE(target_test_final, lr_final.predict(features_test))\n",
    "\n",
    "test_dt_rougher = sMAPE(target_test_rougher, dt_rougher.predict(features_test))\n",
    "test_dt_final = sMAPE(target_test_final, dt_final.predict(features_test))\n",
    "\n",
    "test_rf_rougher = sMAPE(target_test_rougher, rf_rougher.predict(features_test))\n",
    "test_rf_final = sMAPE(target_test_final, rf_final.predict(features_test))\n",
    "\n",
    "test_cb_rougher = sMAPE(target_test_rougher, cb_rougher.predict(features_test))\n",
    "test_cb_final = sMAPE(target_test_final, cb_final.predict(features_test))"
   ]
  },
  {
   "cell_type": "code",
   "execution_count": 50,
   "metadata": {},
   "outputs": [
    {
     "name": "stdout",
     "output_type": "stream",
     "text": [
      "Лучшая итоговая sMAPE Линейной Регрессии: 7.439705235137494\n",
      "Лучшая итоговая sMAPE Дерева Решений: 7.4924524614914105\n",
      "Лучшая итоговая sMAPE Случайного Леса: 7.328726568656651\n",
      "Лучшая итоговая sMAPE CatBoost: 6.439484351577626\n"
     ]
    }
   ],
   "source": [
    "print('Лучшая итоговая sMAPE Линейной Регрессии:', final_sMAPE(test_lr_rougher, test_lr_final))\n",
    "print('Лучшая итоговая sMAPE Дерева Решений:', final_sMAPE(test_dt_rougher, test_dt_final))\n",
    "print('Лучшая итоговая sMAPE Случайного Леса:', final_sMAPE(test_rf_rougher, test_rf_final))\n",
    "print('Лучшая итоговая sMAPE CatBoost:', final_sMAPE(test_cb_rougher, test_cb_final))"
   ]
  },
  {
   "cell_type": "markdown",
   "metadata": {},
   "source": [
    "**Проверка модели на адекватность:**"
   ]
  },
  {
   "cell_type": "code",
   "execution_count": 51,
   "metadata": {},
   "outputs": [],
   "source": [
    "# вызов константной модели\n",
    "dummy = DummyRegressor(strategy=\"mean\")\n",
    "dummy_final = DummyRegressor(strategy=\"mean\")"
   ]
  },
  {
   "cell_type": "code",
   "execution_count": 52,
   "metadata": {},
   "outputs": [
    {
     "data": {
      "text/plain": [
       "DummyRegressor()"
      ]
     },
     "execution_count": 52,
     "metadata": {},
     "output_type": "execute_result"
    }
   ],
   "source": [
    "# обучение модели\n",
    "dummy.fit(features_train,target_train_rougher)\n",
    "dummy_final.fit(features_train,target_train_final)"
   ]
  },
  {
   "cell_type": "code",
   "execution_count": 53,
   "metadata": {},
   "outputs": [],
   "source": [
    "# предсказания модели\n",
    "dummy_rougher = dummy.predict(features_test)\n",
    "dummy_final = dummy_final.predict(features_test)"
   ]
  },
  {
   "cell_type": "code",
   "execution_count": 54,
   "metadata": {},
   "outputs": [
    {
     "name": "stdout",
     "output_type": "stream",
     "text": [
      "Итоговая sMAPE Константной Модели: 7.606136126514113\n"
     ]
    }
   ],
   "source": [
    "print('Итоговая sMAPE Константной Модели:',\n",
    "       final_sMAPE(sMAPE(target_test_rougher,dummy_rougher),sMAPE(target_test_final,dummy_final)))"
   ]
  },
  {
   "cell_type": "markdown",
   "metadata": {},
   "source": [
    "**Выводы:**"
   ]
  },
  {
   "cell_type": "markdown",
   "metadata": {},
   "source": [
    "- Были обучены 4 модели с использованием кросс-валидации\n",
    "- В качестве метрики была использована формула sMAPE с помощью make_scorer\n",
    "- Лучшая модель: CatBoost. Со значением -8.046 на тренировочной и 6.44 на тестовой выборке.\n",
    "- Все модели прошли тест на адекватность. Значения метрик меньше константной модели."
   ]
  }
 ],
 "metadata": {
  "ExecuteTimeLog": [
   {
    "duration": 480,
    "start_time": "2022-04-18T14:18:01.115Z"
   },
   {
    "duration": 149,
    "start_time": "2022-04-18T14:18:53.408Z"
   },
   {
    "duration": 3458,
    "start_time": "2022-04-18T14:19:12.629Z"
   },
   {
    "duration": 481,
    "start_time": "2022-04-18T14:20:56.036Z"
   },
   {
    "duration": 450,
    "start_time": "2022-04-18T14:22:59.427Z"
   },
   {
    "duration": 29,
    "start_time": "2022-04-18T14:24:05.744Z"
   },
   {
    "duration": 13,
    "start_time": "2022-04-18T14:25:23.812Z"
   },
   {
    "duration": 163,
    "start_time": "2022-04-18T14:26:15.041Z"
   },
   {
    "duration": 332,
    "start_time": "2022-04-18T14:26:44.487Z"
   },
   {
    "duration": 50,
    "start_time": "2022-04-19T02:28:17.648Z"
   },
   {
    "duration": 358,
    "start_time": "2022-04-19T02:28:21.075Z"
   },
   {
    "duration": 5100,
    "start_time": "2022-04-19T02:28:23.155Z"
   },
   {
    "duration": 29,
    "start_time": "2022-04-19T02:28:30.506Z"
   },
   {
    "duration": 14,
    "start_time": "2022-04-19T02:28:35.906Z"
   },
   {
    "duration": 2,
    "start_time": "2022-04-19T02:45:56.480Z"
   },
   {
    "duration": 415,
    "start_time": "2022-04-19T02:46:28.029Z"
   },
   {
    "duration": 7,
    "start_time": "2022-04-19T02:46:29.316Z"
   },
   {
    "duration": 8,
    "start_time": "2022-04-19T02:46:53.396Z"
   },
   {
    "duration": 4,
    "start_time": "2022-04-19T02:49:57.198Z"
   },
   {
    "duration": 3568,
    "start_time": "2022-04-19T02:51:33.491Z"
   },
   {
    "duration": 4,
    "start_time": "2022-04-19T02:51:38.658Z"
   },
   {
    "duration": 16,
    "start_time": "2022-04-19T03:15:19.547Z"
   },
   {
    "duration": 37,
    "start_time": "2022-04-19T03:16:42.841Z"
   },
   {
    "duration": 7,
    "start_time": "2022-04-19T07:44:36.357Z"
   },
   {
    "duration": 3,
    "start_time": "2022-04-19T08:24:42.083Z"
   },
   {
    "duration": 9,
    "start_time": "2022-04-19T08:25:18.076Z"
   },
   {
    "duration": 6,
    "start_time": "2022-04-19T08:25:35.419Z"
   },
   {
    "duration": 10,
    "start_time": "2022-04-19T08:25:53.727Z"
   },
   {
    "duration": 10,
    "start_time": "2022-04-19T08:26:59.150Z"
   },
   {
    "duration": 3,
    "start_time": "2022-04-19T08:27:56.091Z"
   },
   {
    "duration": 8,
    "start_time": "2022-04-19T08:27:57.388Z"
   },
   {
    "duration": 4,
    "start_time": "2022-04-19T08:28:11.259Z"
   },
   {
    "duration": 9,
    "start_time": "2022-04-19T08:28:13.395Z"
   },
   {
    "duration": 8,
    "start_time": "2022-04-19T08:52:16.716Z"
   },
   {
    "duration": 837,
    "start_time": "2022-04-19T08:53:24.666Z"
   },
   {
    "duration": 1152,
    "start_time": "2022-04-19T08:53:32.828Z"
   },
   {
    "duration": 646,
    "start_time": "2022-04-19T08:53:33.982Z"
   },
   {
    "duration": 35,
    "start_time": "2022-04-19T08:53:34.629Z"
   },
   {
    "duration": 3,
    "start_time": "2022-04-19T08:53:34.666Z"
   },
   {
    "duration": 24,
    "start_time": "2022-04-19T08:53:34.670Z"
   },
   {
    "duration": 96,
    "start_time": "2022-04-19T08:53:34.696Z"
   },
   {
    "duration": 210,
    "start_time": "2022-04-19T08:53:34.794Z"
   },
   {
    "duration": 2,
    "start_time": "2022-04-19T08:53:35.006Z"
   },
   {
    "duration": 33,
    "start_time": "2022-04-19T08:53:35.010Z"
   },
   {
    "duration": 22,
    "start_time": "2022-04-19T08:53:35.045Z"
   },
   {
    "duration": 29,
    "start_time": "2022-04-19T08:53:35.068Z"
   },
   {
    "duration": 7,
    "start_time": "2022-04-19T08:56:02.501Z"
   },
   {
    "duration": 93,
    "start_time": "2022-04-19T08:56:55.581Z"
   },
   {
    "duration": 12,
    "start_time": "2022-04-19T08:57:00.140Z"
   },
   {
    "duration": 11,
    "start_time": "2022-04-19T08:57:04.243Z"
   },
   {
    "duration": 12,
    "start_time": "2022-04-19T08:57:10.139Z"
   },
   {
    "duration": 6,
    "start_time": "2022-04-19T09:01:12.884Z"
   },
   {
    "duration": 7,
    "start_time": "2022-04-19T09:01:24.363Z"
   },
   {
    "duration": 8,
    "start_time": "2022-04-19T09:12:00.365Z"
   },
   {
    "duration": 7,
    "start_time": "2022-04-19T09:51:57.795Z"
   },
   {
    "duration": 39,
    "start_time": "2022-04-19T09:54:10.655Z"
   },
   {
    "duration": 8,
    "start_time": "2022-04-19T09:54:44.393Z"
   },
   {
    "duration": 629,
    "start_time": "2022-04-19T09:54:58.678Z"
   },
   {
    "duration": 4,
    "start_time": "2022-04-19T09:58:41.343Z"
   },
   {
    "duration": 7,
    "start_time": "2022-04-19T09:59:28.997Z"
   },
   {
    "duration": 7,
    "start_time": "2022-04-19T09:59:40.900Z"
   },
   {
    "duration": 4,
    "start_time": "2022-04-19T10:01:08.177Z"
   },
   {
    "duration": 13,
    "start_time": "2022-04-19T10:01:48.255Z"
   },
   {
    "duration": 10,
    "start_time": "2022-04-19T10:01:57.367Z"
   },
   {
    "duration": 8,
    "start_time": "2022-04-19T10:02:46.374Z"
   },
   {
    "duration": 3,
    "start_time": "2022-04-19T10:03:02.612Z"
   },
   {
    "duration": 9,
    "start_time": "2022-04-19T10:03:56.923Z"
   },
   {
    "duration": 13,
    "start_time": "2022-04-19T10:04:11.644Z"
   },
   {
    "duration": 8,
    "start_time": "2022-04-19T10:06:44.958Z"
   },
   {
    "duration": 8,
    "start_time": "2022-04-19T10:06:56.067Z"
   },
   {
    "duration": 5,
    "start_time": "2022-04-19T10:07:03.204Z"
   },
   {
    "duration": 11,
    "start_time": "2022-04-19T16:05:50.875Z"
   },
   {
    "duration": 15,
    "start_time": "2022-04-19T16:10:42.133Z"
   },
   {
    "duration": 1926,
    "start_time": "2022-04-19T16:13:48.229Z"
   },
   {
    "duration": 669,
    "start_time": "2022-04-19T16:13:50.158Z"
   },
   {
    "duration": 39,
    "start_time": "2022-04-19T16:13:50.828Z"
   },
   {
    "duration": 4,
    "start_time": "2022-04-19T16:13:50.868Z"
   },
   {
    "duration": 13,
    "start_time": "2022-04-19T16:13:50.874Z"
   },
   {
    "duration": 119,
    "start_time": "2022-04-19T16:13:50.888Z"
   },
   {
    "duration": 3,
    "start_time": "2022-04-19T16:13:51.009Z"
   },
   {
    "duration": 25,
    "start_time": "2022-04-19T16:13:51.013Z"
   },
   {
    "duration": 7,
    "start_time": "2022-04-19T16:13:51.040Z"
   },
   {
    "duration": 5,
    "start_time": "2022-04-19T16:13:51.049Z"
   },
   {
    "duration": 8,
    "start_time": "2022-04-19T16:13:51.055Z"
   },
   {
    "duration": 16,
    "start_time": "2022-04-19T16:13:51.064Z"
   },
   {
    "duration": 150,
    "start_time": "2022-04-19T16:13:51.081Z"
   },
   {
    "duration": 1570,
    "start_time": "2022-04-19T16:14:46.037Z"
   },
   {
    "duration": 739,
    "start_time": "2022-04-19T16:14:47.609Z"
   },
   {
    "duration": 58,
    "start_time": "2022-04-19T16:14:48.351Z"
   },
   {
    "duration": 15,
    "start_time": "2022-04-19T16:14:48.411Z"
   },
   {
    "duration": 16,
    "start_time": "2022-04-19T16:14:48.429Z"
   },
   {
    "duration": 144,
    "start_time": "2022-04-19T16:14:48.447Z"
   },
   {
    "duration": 4,
    "start_time": "2022-04-19T16:14:48.594Z"
   },
   {
    "duration": 35,
    "start_time": "2022-04-19T16:14:48.600Z"
   },
   {
    "duration": 8,
    "start_time": "2022-04-19T16:14:48.638Z"
   },
   {
    "duration": 6,
    "start_time": "2022-04-19T16:14:48.648Z"
   },
   {
    "duration": 7,
    "start_time": "2022-04-19T16:14:48.656Z"
   },
   {
    "duration": 14,
    "start_time": "2022-04-19T16:14:48.665Z"
   },
   {
    "duration": 50,
    "start_time": "2022-04-19T16:14:48.681Z"
   },
   {
    "duration": 9,
    "start_time": "2022-04-19T16:17:15.027Z"
   },
   {
    "duration": 2,
    "start_time": "2022-04-19T16:28:14.131Z"
   },
   {
    "duration": 98,
    "start_time": "2022-04-19T16:28:24.011Z"
   },
   {
    "duration": 3,
    "start_time": "2022-04-19T16:28:46.906Z"
   },
   {
    "duration": 8,
    "start_time": "2022-04-19T16:28:59.009Z"
   },
   {
    "duration": 9,
    "start_time": "2022-04-19T16:29:11.745Z"
   },
   {
    "duration": 4,
    "start_time": "2022-04-19T16:29:16.337Z"
   },
   {
    "duration": 10,
    "start_time": "2022-04-19T16:31:24.218Z"
   },
   {
    "duration": 9,
    "start_time": "2022-04-19T16:31:32.354Z"
   },
   {
    "duration": 3,
    "start_time": "2022-04-19T16:31:37.404Z"
   },
   {
    "duration": 164,
    "start_time": "2022-04-19T16:41:12.783Z"
   },
   {
    "duration": 143,
    "start_time": "2022-04-19T16:42:53.363Z"
   },
   {
    "duration": 153,
    "start_time": "2022-04-19T16:42:58.609Z"
   },
   {
    "duration": 547,
    "start_time": "2022-04-19T16:45:31.970Z"
   },
   {
    "duration": 594,
    "start_time": "2022-04-19T16:46:07.401Z"
   },
   {
    "duration": 503,
    "start_time": "2022-04-19T16:46:15.169Z"
   },
   {
    "duration": 477,
    "start_time": "2022-04-19T16:46:35.007Z"
   },
   {
    "duration": 486,
    "start_time": "2022-04-19T16:46:48.430Z"
   },
   {
    "duration": 624,
    "start_time": "2022-04-19T16:49:19.264Z"
   },
   {
    "duration": 3,
    "start_time": "2022-04-19T16:49:47.389Z"
   },
   {
    "duration": 123,
    "start_time": "2022-04-19T16:49:49.238Z"
   },
   {
    "duration": 3,
    "start_time": "2022-04-19T16:50:04.164Z"
   },
   {
    "duration": 487,
    "start_time": "2022-04-19T16:50:05.948Z"
   },
   {
    "duration": 3,
    "start_time": "2022-04-19T17:16:09.912Z"
   },
   {
    "duration": 499,
    "start_time": "2022-04-19T17:16:11.657Z"
   },
   {
    "duration": 1548,
    "start_time": "2022-04-20T09:42:11.953Z"
   },
   {
    "duration": 701,
    "start_time": "2022-04-20T09:42:13.504Z"
   },
   {
    "duration": 45,
    "start_time": "2022-04-20T09:42:14.207Z"
   },
   {
    "duration": 4,
    "start_time": "2022-04-20T09:42:14.255Z"
   },
   {
    "duration": 16,
    "start_time": "2022-04-20T09:42:14.262Z"
   },
   {
    "duration": 117,
    "start_time": "2022-04-20T09:42:14.280Z"
   },
   {
    "duration": 3,
    "start_time": "2022-04-20T09:42:14.399Z"
   },
   {
    "duration": 23,
    "start_time": "2022-04-20T09:42:14.404Z"
   },
   {
    "duration": 8,
    "start_time": "2022-04-20T09:42:14.429Z"
   },
   {
    "duration": 5,
    "start_time": "2022-04-20T09:42:14.439Z"
   },
   {
    "duration": 12,
    "start_time": "2022-04-20T09:42:14.446Z"
   },
   {
    "duration": 3,
    "start_time": "2022-04-20T09:42:14.459Z"
   },
   {
    "duration": 553,
    "start_time": "2022-04-20T09:42:14.464Z"
   },
   {
    "duration": 7,
    "start_time": "2022-04-20T09:42:15.023Z"
   },
   {
    "duration": 477,
    "start_time": "2022-04-20T09:43:10.389Z"
   },
   {
    "duration": 592,
    "start_time": "2022-04-20T09:43:59.874Z"
   },
   {
    "duration": 106,
    "start_time": "2022-04-20T09:44:25.274Z"
   },
   {
    "duration": 561,
    "start_time": "2022-04-20T09:44:55.715Z"
   },
   {
    "duration": 502,
    "start_time": "2022-04-20T09:45:02.796Z"
   },
   {
    "duration": 12,
    "start_time": "2022-04-20T09:45:18.337Z"
   },
   {
    "duration": 528,
    "start_time": "2022-04-20T09:45:25.274Z"
   },
   {
    "duration": 485,
    "start_time": "2022-04-20T10:24:53.204Z"
   },
   {
    "duration": 640,
    "start_time": "2022-04-20T10:25:05.085Z"
   },
   {
    "duration": 1650,
    "start_time": "2022-04-21T08:24:29.937Z"
   },
   {
    "duration": 658,
    "start_time": "2022-04-21T08:24:31.589Z"
   },
   {
    "duration": 36,
    "start_time": "2022-04-21T08:24:32.249Z"
   },
   {
    "duration": 3,
    "start_time": "2022-04-21T08:24:32.286Z"
   },
   {
    "duration": 9,
    "start_time": "2022-04-21T08:24:32.300Z"
   },
   {
    "duration": 107,
    "start_time": "2022-04-21T08:24:32.311Z"
   },
   {
    "duration": 3,
    "start_time": "2022-04-21T08:24:32.419Z"
   },
   {
    "duration": 13,
    "start_time": "2022-04-21T08:24:32.424Z"
   },
   {
    "duration": 6,
    "start_time": "2022-04-21T08:24:32.439Z"
   },
   {
    "duration": 6,
    "start_time": "2022-04-21T08:24:32.447Z"
   },
   {
    "duration": 13,
    "start_time": "2022-04-21T08:24:32.455Z"
   },
   {
    "duration": 6,
    "start_time": "2022-04-21T08:24:32.469Z"
   },
   {
    "duration": 24,
    "start_time": "2022-04-21T08:24:32.476Z"
   },
   {
    "duration": 524,
    "start_time": "2022-04-21T08:24:32.502Z"
   },
   {
    "duration": 6,
    "start_time": "2022-04-21T08:24:33.028Z"
   },
   {
    "duration": 515,
    "start_time": "2022-04-21T08:24:33.035Z"
   },
   {
    "duration": 624,
    "start_time": "2022-04-21T08:24:33.552Z"
   },
   {
    "duration": 5,
    "start_time": "2022-04-21T08:24:50.470Z"
   },
   {
    "duration": 6,
    "start_time": "2022-04-21T08:28:43.801Z"
   },
   {
    "duration": 405,
    "start_time": "2022-04-21T08:29:09.084Z"
   },
   {
    "duration": 101,
    "start_time": "2022-04-21T08:33:35.612Z"
   },
   {
    "duration": 11,
    "start_time": "2022-04-21T08:33:53.917Z"
   },
   {
    "duration": 11,
    "start_time": "2022-04-21T08:34:14.923Z"
   },
   {
    "duration": 145,
    "start_time": "2022-04-21T08:34:21.331Z"
   },
   {
    "duration": 417,
    "start_time": "2022-04-21T08:34:37.580Z"
   },
   {
    "duration": 86,
    "start_time": "2022-04-21T08:35:22.039Z"
   },
   {
    "duration": 3,
    "start_time": "2022-04-21T08:36:54.255Z"
   },
   {
    "duration": 562,
    "start_time": "2022-04-21T08:36:55.882Z"
   },
   {
    "duration": 469,
    "start_time": "2022-04-21T08:37:06.115Z"
   },
   {
    "duration": 11,
    "start_time": "2022-04-21T08:37:18.243Z"
   },
   {
    "duration": 467,
    "start_time": "2022-04-21T08:37:25.341Z"
   },
   {
    "duration": 3,
    "start_time": "2022-04-21T08:39:14.362Z"
   },
   {
    "duration": 12,
    "start_time": "2022-04-21T08:39:16.898Z"
   },
   {
    "duration": 12,
    "start_time": "2022-04-21T08:39:24.362Z"
   },
   {
    "duration": 15,
    "start_time": "2022-04-21T08:39:31.386Z"
   },
   {
    "duration": 12,
    "start_time": "2022-04-21T08:39:46.793Z"
   },
   {
    "duration": 12,
    "start_time": "2022-04-21T08:39:55.690Z"
   },
   {
    "duration": 12,
    "start_time": "2022-04-21T08:40:22.339Z"
   },
   {
    "duration": 12,
    "start_time": "2022-04-21T08:40:31.106Z"
   },
   {
    "duration": 12,
    "start_time": "2022-04-21T08:40:34.754Z"
   },
   {
    "duration": 13,
    "start_time": "2022-04-21T08:40:49.506Z"
   },
   {
    "duration": 12,
    "start_time": "2022-04-21T08:40:53.506Z"
   },
   {
    "duration": 12,
    "start_time": "2022-04-21T08:40:58.841Z"
   },
   {
    "duration": 3,
    "start_time": "2022-04-21T08:42:23.305Z"
   },
   {
    "duration": 3,
    "start_time": "2022-04-21T08:42:29.977Z"
   },
   {
    "duration": 475,
    "start_time": "2022-04-21T08:43:06.721Z"
   },
   {
    "duration": 562,
    "start_time": "2022-04-21T08:44:48.312Z"
   },
   {
    "duration": 3,
    "start_time": "2022-04-21T08:44:53.130Z"
   },
   {
    "duration": 464,
    "start_time": "2022-04-21T08:44:55.216Z"
   },
   {
    "duration": 1554,
    "start_time": "2022-04-21T08:45:12.506Z"
   },
   {
    "duration": 663,
    "start_time": "2022-04-21T08:45:14.062Z"
   },
   {
    "duration": 39,
    "start_time": "2022-04-21T08:45:14.726Z"
   },
   {
    "duration": 3,
    "start_time": "2022-04-21T08:45:14.767Z"
   },
   {
    "duration": 14,
    "start_time": "2022-04-21T08:45:14.773Z"
   },
   {
    "duration": 94,
    "start_time": "2022-04-21T08:45:14.789Z"
   },
   {
    "duration": 4,
    "start_time": "2022-04-21T08:45:14.884Z"
   },
   {
    "duration": 14,
    "start_time": "2022-04-21T08:45:14.889Z"
   },
   {
    "duration": 7,
    "start_time": "2022-04-21T08:45:14.905Z"
   },
   {
    "duration": 5,
    "start_time": "2022-04-21T08:45:14.914Z"
   },
   {
    "duration": 6,
    "start_time": "2022-04-21T08:45:14.920Z"
   },
   {
    "duration": 21,
    "start_time": "2022-04-21T08:45:14.927Z"
   },
   {
    "duration": 20,
    "start_time": "2022-04-21T08:45:14.949Z"
   },
   {
    "duration": 498,
    "start_time": "2022-04-21T08:45:14.971Z"
   },
   {
    "duration": 6,
    "start_time": "2022-04-21T08:45:15.470Z"
   },
   {
    "duration": 640,
    "start_time": "2022-04-21T08:45:15.477Z"
   },
   {
    "duration": 625,
    "start_time": "2022-04-21T08:45:16.118Z"
   },
   {
    "duration": 6,
    "start_time": "2022-04-21T08:45:16.744Z"
   },
   {
    "duration": 423,
    "start_time": "2022-04-21T08:45:16.752Z"
   },
   {
    "duration": 480,
    "start_time": "2022-04-21T08:45:17.177Z"
   },
   {
    "duration": 97,
    "start_time": "2022-04-21T08:45:35.583Z"
   },
   {
    "duration": 17,
    "start_time": "2022-04-21T08:45:38.895Z"
   },
   {
    "duration": 11,
    "start_time": "2022-04-21T08:45:52.511Z"
   },
   {
    "duration": 12,
    "start_time": "2022-04-21T08:46:06.591Z"
   },
   {
    "duration": 543,
    "start_time": "2022-04-21T08:46:16.471Z"
   },
   {
    "duration": 3,
    "start_time": "2022-04-21T08:49:01.439Z"
   },
   {
    "duration": 513,
    "start_time": "2022-04-21T08:49:41.270Z"
   },
   {
    "duration": 3,
    "start_time": "2022-04-21T08:51:55.812Z"
   },
   {
    "duration": 18,
    "start_time": "2022-04-21T08:51:59.109Z"
   },
   {
    "duration": 16,
    "start_time": "2022-04-21T08:52:17.997Z"
   },
   {
    "duration": 3,
    "start_time": "2022-04-21T08:52:19.445Z"
   },
   {
    "duration": 491,
    "start_time": "2022-04-21T08:52:20.085Z"
   },
   {
    "duration": 9,
    "start_time": "2022-04-21T08:55:38.628Z"
   },
   {
    "duration": 2,
    "start_time": "2022-04-21T08:56:40.636Z"
   },
   {
    "duration": 513,
    "start_time": "2022-04-21T09:08:50.438Z"
   },
   {
    "duration": 3,
    "start_time": "2022-04-21T09:14:35.304Z"
   },
   {
    "duration": 196,
    "start_time": "2022-04-21T09:14:59.528Z"
   },
   {
    "duration": 13,
    "start_time": "2022-04-21T09:15:03.208Z"
   },
   {
    "duration": 222,
    "start_time": "2022-04-21T09:17:48.279Z"
   },
   {
    "duration": 126,
    "start_time": "2022-04-21T09:18:17.991Z"
   },
   {
    "duration": 3205,
    "start_time": "2022-04-21T09:18:25.838Z"
   },
   {
    "duration": 134,
    "start_time": "2022-04-21T09:18:56.046Z"
   },
   {
    "duration": 134,
    "start_time": "2022-04-21T09:19:26.022Z"
   },
   {
    "duration": 682,
    "start_time": "2022-04-21T09:19:32.351Z"
   },
   {
    "duration": 255,
    "start_time": "2022-04-21T09:46:27.943Z"
   },
   {
    "duration": 435,
    "start_time": "2022-04-21T09:46:34.016Z"
   },
   {
    "duration": 530,
    "start_time": "2022-04-21T09:46:50.648Z"
   },
   {
    "duration": 182,
    "start_time": "2022-04-21T09:47:08.231Z"
   },
   {
    "duration": 448,
    "start_time": "2022-04-21T09:47:20.079Z"
   },
   {
    "duration": 429,
    "start_time": "2022-04-21T09:47:29.407Z"
   },
   {
    "duration": 457,
    "start_time": "2022-04-21T09:48:31.567Z"
   },
   {
    "duration": 229,
    "start_time": "2022-04-21T10:35:42.331Z"
   },
   {
    "duration": 192,
    "start_time": "2022-04-21T10:35:56.492Z"
   },
   {
    "duration": 628,
    "start_time": "2022-04-21T10:36:07.003Z"
   },
   {
    "duration": 249,
    "start_time": "2022-04-21T10:36:12.082Z"
   },
   {
    "duration": 235,
    "start_time": "2022-04-21T10:36:18.475Z"
   },
   {
    "duration": 200,
    "start_time": "2022-04-21T10:36:21.883Z"
   },
   {
    "duration": 373,
    "start_time": "2022-04-21T10:36:31.443Z"
   },
   {
    "duration": 4,
    "start_time": "2022-04-21T10:36:38.011Z"
   },
   {
    "duration": 191,
    "start_time": "2022-04-21T10:36:43.931Z"
   },
   {
    "duration": 120,
    "start_time": "2022-04-21T10:37:41.115Z"
   },
   {
    "duration": 17,
    "start_time": "2022-04-21T10:43:40.121Z"
   },
   {
    "duration": 37,
    "start_time": "2022-04-21T10:44:13.929Z"
   },
   {
    "duration": 82,
    "start_time": "2022-04-21T10:46:35.959Z"
   },
   {
    "duration": 418,
    "start_time": "2022-04-21T10:47:15.830Z"
   },
   {
    "duration": 3,
    "start_time": "2022-04-21T10:54:31.478Z"
   },
   {
    "duration": 218,
    "start_time": "2022-04-21T10:56:09.549Z"
   },
   {
    "duration": 136,
    "start_time": "2022-04-21T10:56:13.514Z"
   },
   {
    "duration": 216,
    "start_time": "2022-04-21T10:56:41.494Z"
   },
   {
    "duration": 195,
    "start_time": "2022-04-21T10:57:02.573Z"
   },
   {
    "duration": 206,
    "start_time": "2022-04-21T10:57:10.821Z"
   },
   {
    "duration": 219,
    "start_time": "2022-04-21T10:57:25.733Z"
   },
   {
    "duration": 212,
    "start_time": "2022-04-21T11:00:34.332Z"
   },
   {
    "duration": 208,
    "start_time": "2022-04-21T11:00:40.564Z"
   },
   {
    "duration": 228,
    "start_time": "2022-04-21T11:00:44.716Z"
   },
   {
    "duration": 190,
    "start_time": "2022-04-21T11:00:47.732Z"
   },
   {
    "duration": 196,
    "start_time": "2022-04-21T11:00:55.996Z"
   },
   {
    "duration": 200,
    "start_time": "2022-04-21T11:01:13.004Z"
   },
   {
    "duration": 190,
    "start_time": "2022-04-21T11:01:16.756Z"
   },
   {
    "duration": 187,
    "start_time": "2022-04-21T11:01:24.444Z"
   },
   {
    "duration": 9,
    "start_time": "2022-04-21T11:01:36.260Z"
   },
   {
    "duration": 117,
    "start_time": "2022-04-21T11:01:45.108Z"
   },
   {
    "duration": 118,
    "start_time": "2022-04-21T11:01:52.308Z"
   },
   {
    "duration": 577,
    "start_time": "2022-04-21T11:02:04.428Z"
   },
   {
    "duration": 125,
    "start_time": "2022-04-21T11:02:20.540Z"
   },
   {
    "duration": 127,
    "start_time": "2022-04-21T11:02:26.052Z"
   },
   {
    "duration": 627,
    "start_time": "2022-04-21T11:03:57.227Z"
   },
   {
    "duration": 807,
    "start_time": "2022-04-21T11:04:07.571Z"
   },
   {
    "duration": 936,
    "start_time": "2022-04-21T11:04:21.883Z"
   },
   {
    "duration": 629,
    "start_time": "2022-04-21T11:04:26.387Z"
   },
   {
    "duration": 139,
    "start_time": "2022-04-21T11:05:31.811Z"
   },
   {
    "duration": 161,
    "start_time": "2022-04-21T11:05:40.202Z"
   },
   {
    "duration": 833,
    "start_time": "2022-04-21T11:09:04.449Z"
   },
   {
    "duration": 448,
    "start_time": "2022-04-21T11:09:15.899Z"
   },
   {
    "duration": 610,
    "start_time": "2022-04-21T11:09:24.753Z"
   },
   {
    "duration": 721,
    "start_time": "2022-04-21T11:09:34.985Z"
   },
   {
    "duration": 632,
    "start_time": "2022-04-21T11:10:05.097Z"
   },
   {
    "duration": 151,
    "start_time": "2022-04-21T11:16:28.591Z"
   },
   {
    "duration": 156,
    "start_time": "2022-04-21T11:16:40.950Z"
   },
   {
    "duration": 307,
    "start_time": "2022-04-21T11:17:08.471Z"
   },
   {
    "duration": 918,
    "start_time": "2022-04-21T11:17:54.598Z"
   },
   {
    "duration": 764,
    "start_time": "2022-04-21T11:29:43.411Z"
   },
   {
    "duration": 1703,
    "start_time": "2022-04-21T11:30:07.588Z"
   },
   {
    "duration": 351,
    "start_time": "2022-04-21T11:39:25.601Z"
   },
   {
    "duration": 977,
    "start_time": "2022-04-21T11:39:40.562Z"
   },
   {
    "duration": 1501,
    "start_time": "2022-04-21T11:40:01.517Z"
   },
   {
    "duration": 846,
    "start_time": "2022-04-21T15:20:23.425Z"
   },
   {
    "duration": 465,
    "start_time": "2022-04-21T15:21:01.926Z"
   },
   {
    "duration": 1436,
    "start_time": "2022-04-21T15:54:28.927Z"
   },
   {
    "duration": 662,
    "start_time": "2022-04-21T15:54:30.365Z"
   },
   {
    "duration": 38,
    "start_time": "2022-04-21T15:54:31.028Z"
   },
   {
    "duration": 4,
    "start_time": "2022-04-21T15:54:31.068Z"
   },
   {
    "duration": 36,
    "start_time": "2022-04-21T15:54:31.074Z"
   },
   {
    "duration": 104,
    "start_time": "2022-04-21T15:54:31.112Z"
   },
   {
    "duration": 4,
    "start_time": "2022-04-21T15:54:31.218Z"
   },
   {
    "duration": 19,
    "start_time": "2022-04-21T15:54:31.224Z"
   },
   {
    "duration": 8,
    "start_time": "2022-04-21T15:54:31.245Z"
   },
   {
    "duration": 6,
    "start_time": "2022-04-21T15:54:31.256Z"
   },
   {
    "duration": 7,
    "start_time": "2022-04-21T15:54:31.264Z"
   },
   {
    "duration": 28,
    "start_time": "2022-04-21T15:54:31.273Z"
   },
   {
    "duration": 482,
    "start_time": "2022-04-21T15:54:31.303Z"
   },
   {
    "duration": 6,
    "start_time": "2022-04-21T15:54:31.787Z"
   },
   {
    "duration": 1154,
    "start_time": "2022-04-21T15:54:31.794Z"
   },
   {
    "duration": 679,
    "start_time": "2022-04-21T15:54:32.950Z"
   },
   {
    "duration": 2,
    "start_time": "2022-04-21T15:54:33.631Z"
   },
   {
    "duration": 153,
    "start_time": "2022-04-21T15:54:33.635Z"
   },
   {
    "duration": 231,
    "start_time": "2022-04-21T15:54:33.790Z"
   },
   {
    "duration": 1355,
    "start_time": "2022-04-21T15:54:34.023Z"
   },
   {
    "duration": 410,
    "start_time": "2022-04-21T15:54:35.380Z"
   },
   {
    "duration": 194,
    "start_time": "2022-04-21T15:54:35.792Z"
   },
   {
    "duration": 3,
    "start_time": "2022-04-21T16:12:08.207Z"
   },
   {
    "duration": 93,
    "start_time": "2022-04-22T04:33:14.732Z"
   },
   {
    "duration": 10,
    "start_time": "2022-04-22T04:33:20.186Z"
   },
   {
    "duration": 1336,
    "start_time": "2022-04-22T04:53:17.749Z"
   },
   {
    "duration": 650,
    "start_time": "2022-04-22T04:53:19.086Z"
   },
   {
    "duration": 35,
    "start_time": "2022-04-22T04:53:19.738Z"
   },
   {
    "duration": 3,
    "start_time": "2022-04-22T04:53:19.775Z"
   },
   {
    "duration": 22,
    "start_time": "2022-04-22T04:53:19.780Z"
   },
   {
    "duration": 97,
    "start_time": "2022-04-22T04:53:19.804Z"
   },
   {
    "duration": 3,
    "start_time": "2022-04-22T04:53:19.903Z"
   },
   {
    "duration": 15,
    "start_time": "2022-04-22T04:53:19.907Z"
   },
   {
    "duration": 7,
    "start_time": "2022-04-22T04:53:19.923Z"
   },
   {
    "duration": 5,
    "start_time": "2022-04-22T04:53:19.932Z"
   },
   {
    "duration": 5,
    "start_time": "2022-04-22T04:53:19.938Z"
   },
   {
    "duration": 6,
    "start_time": "2022-04-22T04:53:19.945Z"
   },
   {
    "duration": 12,
    "start_time": "2022-04-22T04:53:19.952Z"
   },
   {
    "duration": 2,
    "start_time": "2022-04-22T04:53:19.965Z"
   },
   {
    "duration": 490,
    "start_time": "2022-04-22T04:53:19.969Z"
   },
   {
    "duration": 6,
    "start_time": "2022-04-22T04:53:20.460Z"
   },
   {
    "duration": 727,
    "start_time": "2022-04-22T04:53:20.467Z"
   },
   {
    "duration": 432,
    "start_time": "2022-04-22T04:53:21.196Z"
   },
   {
    "duration": 2,
    "start_time": "2022-04-22T04:53:21.630Z"
   },
   {
    "duration": 93,
    "start_time": "2022-04-22T04:53:21.634Z"
   },
   {
    "duration": 153,
    "start_time": "2022-04-22T04:53:21.729Z"
   },
   {
    "duration": 844,
    "start_time": "2022-04-22T04:53:21.884Z"
   },
   {
    "duration": 398,
    "start_time": "2022-04-22T04:53:22.729Z"
   },
   {
    "duration": 3,
    "start_time": "2022-04-22T04:53:23.129Z"
   },
   {
    "duration": 11,
    "start_time": "2022-04-22T05:01:44.884Z"
   },
   {
    "duration": 2,
    "start_time": "2022-04-22T05:02:54.167Z"
   },
   {
    "duration": 3,
    "start_time": "2022-04-22T05:54:57.646Z"
   },
   {
    "duration": 97,
    "start_time": "2022-04-22T05:59:09.838Z"
   },
   {
    "duration": 9,
    "start_time": "2022-04-22T05:59:14.751Z"
   },
   {
    "duration": 17,
    "start_time": "2022-04-22T06:03:22.030Z"
   },
   {
    "duration": 1430,
    "start_time": "2022-04-22T06:03:32.689Z"
   },
   {
    "duration": 652,
    "start_time": "2022-04-22T06:03:34.121Z"
   },
   {
    "duration": 39,
    "start_time": "2022-04-22T06:03:34.775Z"
   },
   {
    "duration": 4,
    "start_time": "2022-04-22T06:03:34.816Z"
   },
   {
    "duration": 12,
    "start_time": "2022-04-22T06:03:34.822Z"
   },
   {
    "duration": 108,
    "start_time": "2022-04-22T06:03:34.836Z"
   },
   {
    "duration": 3,
    "start_time": "2022-04-22T06:03:34.946Z"
   },
   {
    "duration": 15,
    "start_time": "2022-04-22T06:03:34.950Z"
   },
   {
    "duration": 7,
    "start_time": "2022-04-22T06:03:34.966Z"
   },
   {
    "duration": 5,
    "start_time": "2022-04-22T06:03:34.974Z"
   },
   {
    "duration": 5,
    "start_time": "2022-04-22T06:03:34.999Z"
   },
   {
    "duration": 7,
    "start_time": "2022-04-22T06:03:35.006Z"
   },
   {
    "duration": 116,
    "start_time": "2022-04-22T06:03:35.014Z"
   },
   {
    "duration": 0,
    "start_time": "2022-04-22T06:03:35.132Z"
   },
   {
    "duration": 0,
    "start_time": "2022-04-22T06:03:35.133Z"
   },
   {
    "duration": 0,
    "start_time": "2022-04-22T06:03:35.134Z"
   },
   {
    "duration": 0,
    "start_time": "2022-04-22T06:03:35.135Z"
   },
   {
    "duration": 0,
    "start_time": "2022-04-22T06:03:35.136Z"
   },
   {
    "duration": 0,
    "start_time": "2022-04-22T06:03:35.137Z"
   },
   {
    "duration": 0,
    "start_time": "2022-04-22T06:03:35.138Z"
   },
   {
    "duration": 0,
    "start_time": "2022-04-22T06:03:35.138Z"
   },
   {
    "duration": 0,
    "start_time": "2022-04-22T06:03:35.139Z"
   },
   {
    "duration": 0,
    "start_time": "2022-04-22T06:03:35.140Z"
   },
   {
    "duration": 0,
    "start_time": "2022-04-22T06:03:35.141Z"
   },
   {
    "duration": 0,
    "start_time": "2022-04-22T06:03:35.142Z"
   },
   {
    "duration": 0,
    "start_time": "2022-04-22T06:03:35.143Z"
   },
   {
    "duration": 3,
    "start_time": "2022-04-22T06:03:59.552Z"
   },
   {
    "duration": 10,
    "start_time": "2022-04-22T06:06:14.442Z"
   },
   {
    "duration": 9,
    "start_time": "2022-04-22T06:06:35.896Z"
   },
   {
    "duration": 9,
    "start_time": "2022-04-22T06:06:40.343Z"
   },
   {
    "duration": 3,
    "start_time": "2022-04-22T06:06:53.751Z"
   },
   {
    "duration": 4,
    "start_time": "2022-04-22T06:07:02.751Z"
   },
   {
    "duration": 6,
    "start_time": "2022-04-22T06:07:20.886Z"
   },
   {
    "duration": 1478,
    "start_time": "2022-04-22T06:08:09.182Z"
   },
   {
    "duration": 670,
    "start_time": "2022-04-22T06:08:10.662Z"
   },
   {
    "duration": 37,
    "start_time": "2022-04-22T06:08:11.334Z"
   },
   {
    "duration": 4,
    "start_time": "2022-04-22T06:08:11.373Z"
   },
   {
    "duration": 26,
    "start_time": "2022-04-22T06:08:11.379Z"
   },
   {
    "duration": 104,
    "start_time": "2022-04-22T06:08:11.406Z"
   },
   {
    "duration": 3,
    "start_time": "2022-04-22T06:08:11.512Z"
   },
   {
    "duration": 14,
    "start_time": "2022-04-22T06:08:11.517Z"
   },
   {
    "duration": 8,
    "start_time": "2022-04-22T06:08:11.533Z"
   },
   {
    "duration": 6,
    "start_time": "2022-04-22T06:08:11.542Z"
   },
   {
    "duration": 6,
    "start_time": "2022-04-22T06:08:11.549Z"
   },
   {
    "duration": 8,
    "start_time": "2022-04-22T06:08:11.556Z"
   },
   {
    "duration": 35,
    "start_time": "2022-04-22T06:08:11.566Z"
   },
   {
    "duration": 3,
    "start_time": "2022-04-22T06:08:11.603Z"
   },
   {
    "duration": 12,
    "start_time": "2022-04-22T06:08:11.608Z"
   },
   {
    "duration": 5,
    "start_time": "2022-04-22T06:08:11.621Z"
   },
   {
    "duration": 473,
    "start_time": "2022-04-22T06:08:11.627Z"
   },
   {
    "duration": 7,
    "start_time": "2022-04-22T06:08:12.102Z"
   },
   {
    "duration": 783,
    "start_time": "2022-04-22T06:08:12.110Z"
   },
   {
    "duration": 509,
    "start_time": "2022-04-22T06:08:12.894Z"
   },
   {
    "duration": 2,
    "start_time": "2022-04-22T06:08:13.405Z"
   },
   {
    "duration": 105,
    "start_time": "2022-04-22T06:08:13.409Z"
   },
   {
    "duration": 164,
    "start_time": "2022-04-22T06:08:13.515Z"
   },
   {
    "duration": 929,
    "start_time": "2022-04-22T06:08:13.681Z"
   },
   {
    "duration": 429,
    "start_time": "2022-04-22T06:08:14.612Z"
   },
   {
    "duration": 4,
    "start_time": "2022-04-22T06:08:15.043Z"
   },
   {
    "duration": 95,
    "start_time": "2022-04-22T06:09:48.959Z"
   },
   {
    "duration": 11,
    "start_time": "2022-04-22T06:10:04.680Z"
   },
   {
    "duration": 1769,
    "start_time": "2022-04-22T06:10:16.510Z"
   },
   {
    "duration": 707,
    "start_time": "2022-04-22T06:10:18.301Z"
   },
   {
    "duration": 35,
    "start_time": "2022-04-22T06:10:19.010Z"
   },
   {
    "duration": 3,
    "start_time": "2022-04-22T06:10:19.046Z"
   },
   {
    "duration": 12,
    "start_time": "2022-04-22T06:10:19.051Z"
   },
   {
    "duration": 108,
    "start_time": "2022-04-22T06:10:19.064Z"
   },
   {
    "duration": 3,
    "start_time": "2022-04-22T06:10:19.173Z"
   },
   {
    "duration": 22,
    "start_time": "2022-04-22T06:10:19.178Z"
   },
   {
    "duration": 7,
    "start_time": "2022-04-22T06:10:19.202Z"
   },
   {
    "duration": 5,
    "start_time": "2022-04-22T06:10:19.211Z"
   },
   {
    "duration": 5,
    "start_time": "2022-04-22T06:10:19.217Z"
   },
   {
    "duration": 9,
    "start_time": "2022-04-22T06:10:19.223Z"
   },
   {
    "duration": 114,
    "start_time": "2022-04-22T06:10:19.233Z"
   },
   {
    "duration": 0,
    "start_time": "2022-04-22T06:10:19.349Z"
   },
   {
    "duration": 0,
    "start_time": "2022-04-22T06:10:19.350Z"
   },
   {
    "duration": 0,
    "start_time": "2022-04-22T06:10:19.350Z"
   },
   {
    "duration": 0,
    "start_time": "2022-04-22T06:10:19.351Z"
   },
   {
    "duration": 0,
    "start_time": "2022-04-22T06:10:19.352Z"
   },
   {
    "duration": 0,
    "start_time": "2022-04-22T06:10:19.353Z"
   },
   {
    "duration": 0,
    "start_time": "2022-04-22T06:10:19.354Z"
   },
   {
    "duration": 0,
    "start_time": "2022-04-22T06:10:19.355Z"
   },
   {
    "duration": 0,
    "start_time": "2022-04-22T06:10:19.356Z"
   },
   {
    "duration": 0,
    "start_time": "2022-04-22T06:10:19.357Z"
   },
   {
    "duration": 0,
    "start_time": "2022-04-22T06:10:19.358Z"
   },
   {
    "duration": 0,
    "start_time": "2022-04-22T06:10:19.359Z"
   },
   {
    "duration": 0,
    "start_time": "2022-04-22T06:10:19.360Z"
   },
   {
    "duration": 19,
    "start_time": "2022-04-22T06:10:32.103Z"
   },
   {
    "duration": 31,
    "start_time": "2022-04-22T06:10:45.327Z"
   },
   {
    "duration": 3131,
    "start_time": "2022-04-22T06:11:31.919Z"
   },
   {
    "duration": 31,
    "start_time": "2022-04-22T06:12:16.679Z"
   },
   {
    "duration": 10,
    "start_time": "2022-04-22T06:12:21.887Z"
   },
   {
    "duration": 7,
    "start_time": "2022-04-22T06:14:38.181Z"
   },
   {
    "duration": 4,
    "start_time": "2022-04-22T06:15:10.837Z"
   },
   {
    "duration": 1522,
    "start_time": "2022-04-22T06:18:37.874Z"
   },
   {
    "duration": 658,
    "start_time": "2022-04-22T06:18:39.399Z"
   },
   {
    "duration": 44,
    "start_time": "2022-04-22T06:18:40.059Z"
   },
   {
    "duration": 4,
    "start_time": "2022-04-22T06:18:40.105Z"
   },
   {
    "duration": 13,
    "start_time": "2022-04-22T06:18:40.111Z"
   },
   {
    "duration": 101,
    "start_time": "2022-04-22T06:18:40.126Z"
   },
   {
    "duration": 3,
    "start_time": "2022-04-22T06:18:40.229Z"
   },
   {
    "duration": 15,
    "start_time": "2022-04-22T06:18:40.233Z"
   },
   {
    "duration": 8,
    "start_time": "2022-04-22T06:18:40.249Z"
   },
   {
    "duration": 6,
    "start_time": "2022-04-22T06:18:40.258Z"
   },
   {
    "duration": 6,
    "start_time": "2022-04-22T06:18:40.266Z"
   },
   {
    "duration": 81,
    "start_time": "2022-04-22T06:18:40.274Z"
   },
   {
    "duration": 6,
    "start_time": "2022-04-22T06:18:40.357Z"
   },
   {
    "duration": 8,
    "start_time": "2022-04-22T06:18:40.365Z"
   },
   {
    "duration": 5,
    "start_time": "2022-04-22T06:18:40.375Z"
   },
   {
    "duration": 2,
    "start_time": "2022-04-22T06:18:40.400Z"
   },
   {
    "duration": 8,
    "start_time": "2022-04-22T06:18:40.404Z"
   },
   {
    "duration": 10,
    "start_time": "2022-04-22T06:18:40.413Z"
   },
   {
    "duration": 472,
    "start_time": "2022-04-22T06:18:40.425Z"
   },
   {
    "duration": 5,
    "start_time": "2022-04-22T06:18:40.900Z"
   },
   {
    "duration": 746,
    "start_time": "2022-04-22T06:18:40.907Z"
   },
   {
    "duration": 448,
    "start_time": "2022-04-22T06:18:41.655Z"
   },
   {
    "duration": 3,
    "start_time": "2022-04-22T06:18:42.104Z"
   },
   {
    "duration": 92,
    "start_time": "2022-04-22T06:18:42.108Z"
   },
   {
    "duration": 154,
    "start_time": "2022-04-22T06:18:42.202Z"
   },
   {
    "duration": 898,
    "start_time": "2022-04-22T06:18:42.357Z"
   },
   {
    "duration": 731,
    "start_time": "2022-04-22T06:18:43.256Z"
   },
   {
    "duration": 11,
    "start_time": "2022-04-22T06:18:43.989Z"
   },
   {
    "duration": 8,
    "start_time": "2022-04-22T06:19:56.300Z"
   },
   {
    "duration": 40,
    "start_time": "2022-04-22T06:20:47.675Z"
   },
   {
    "duration": 32,
    "start_time": "2022-04-22T06:21:08.092Z"
   },
   {
    "duration": 34,
    "start_time": "2022-04-22T06:21:28.339Z"
   },
   {
    "duration": 35,
    "start_time": "2022-04-22T06:21:59.707Z"
   },
   {
    "duration": 1439,
    "start_time": "2022-04-22T06:23:37.079Z"
   },
   {
    "duration": 652,
    "start_time": "2022-04-22T06:23:38.519Z"
   },
   {
    "duration": 38,
    "start_time": "2022-04-22T06:23:39.172Z"
   },
   {
    "duration": 3,
    "start_time": "2022-04-22T06:23:39.212Z"
   },
   {
    "duration": 14,
    "start_time": "2022-04-22T06:23:39.217Z"
   },
   {
    "duration": 98,
    "start_time": "2022-04-22T06:23:39.232Z"
   },
   {
    "duration": 3,
    "start_time": "2022-04-22T06:23:39.332Z"
   },
   {
    "duration": 15,
    "start_time": "2022-04-22T06:23:39.336Z"
   },
   {
    "duration": 6,
    "start_time": "2022-04-22T06:23:39.352Z"
   },
   {
    "duration": 5,
    "start_time": "2022-04-22T06:23:39.361Z"
   },
   {
    "duration": 7,
    "start_time": "2022-04-22T06:23:39.367Z"
   },
   {
    "duration": 118,
    "start_time": "2022-04-22T06:23:39.375Z"
   },
   {
    "duration": 0,
    "start_time": "2022-04-22T06:23:39.500Z"
   },
   {
    "duration": 0,
    "start_time": "2022-04-22T06:23:39.501Z"
   },
   {
    "duration": 0,
    "start_time": "2022-04-22T06:23:39.502Z"
   },
   {
    "duration": 0,
    "start_time": "2022-04-22T06:23:39.503Z"
   },
   {
    "duration": 0,
    "start_time": "2022-04-22T06:23:39.504Z"
   },
   {
    "duration": 0,
    "start_time": "2022-04-22T06:23:39.505Z"
   },
   {
    "duration": 0,
    "start_time": "2022-04-22T06:23:39.506Z"
   },
   {
    "duration": 0,
    "start_time": "2022-04-22T06:23:39.507Z"
   },
   {
    "duration": 0,
    "start_time": "2022-04-22T06:23:39.508Z"
   },
   {
    "duration": 0,
    "start_time": "2022-04-22T06:23:39.509Z"
   },
   {
    "duration": 0,
    "start_time": "2022-04-22T06:23:39.510Z"
   },
   {
    "duration": 0,
    "start_time": "2022-04-22T06:23:39.511Z"
   },
   {
    "duration": 0,
    "start_time": "2022-04-22T06:23:39.512Z"
   },
   {
    "duration": 0,
    "start_time": "2022-04-22T06:23:39.513Z"
   },
   {
    "duration": 0,
    "start_time": "2022-04-22T06:23:39.514Z"
   },
   {
    "duration": 0,
    "start_time": "2022-04-22T06:23:39.515Z"
   },
   {
    "duration": 45,
    "start_time": "2022-04-22T06:25:49.579Z"
   },
   {
    "duration": 5,
    "start_time": "2022-04-22T06:26:01.970Z"
   },
   {
    "duration": 5,
    "start_time": "2022-04-22T06:26:04.786Z"
   },
   {
    "duration": 3,
    "start_time": "2022-04-22T06:26:07.105Z"
   },
   {
    "duration": 2,
    "start_time": "2022-04-22T06:26:09.554Z"
   },
   {
    "duration": 3,
    "start_time": "2022-04-22T06:26:11.665Z"
   },
   {
    "duration": 10,
    "start_time": "2022-04-22T06:27:55.553Z"
   },
   {
    "duration": 1572,
    "start_time": "2022-04-22T06:28:46.509Z"
   },
   {
    "duration": 736,
    "start_time": "2022-04-22T06:28:48.083Z"
   },
   {
    "duration": 39,
    "start_time": "2022-04-22T06:28:48.820Z"
   },
   {
    "duration": 4,
    "start_time": "2022-04-22T06:28:48.862Z"
   },
   {
    "duration": 40,
    "start_time": "2022-04-22T06:28:48.868Z"
   },
   {
    "duration": 220,
    "start_time": "2022-04-22T06:28:48.909Z"
   },
   {
    "duration": 3,
    "start_time": "2022-04-22T06:28:49.130Z"
   },
   {
    "duration": 15,
    "start_time": "2022-04-22T06:28:49.135Z"
   },
   {
    "duration": 8,
    "start_time": "2022-04-22T06:28:49.152Z"
   },
   {
    "duration": 5,
    "start_time": "2022-04-22T06:28:49.162Z"
   },
   {
    "duration": 7,
    "start_time": "2022-04-22T06:28:49.169Z"
   },
   {
    "duration": 46,
    "start_time": "2022-04-22T06:28:49.200Z"
   },
   {
    "duration": 5,
    "start_time": "2022-04-22T06:28:49.248Z"
   },
   {
    "duration": 6,
    "start_time": "2022-04-22T06:28:49.255Z"
   },
   {
    "duration": 5,
    "start_time": "2022-04-22T06:28:49.263Z"
   },
   {
    "duration": 6,
    "start_time": "2022-04-22T06:28:49.269Z"
   },
   {
    "duration": 7,
    "start_time": "2022-04-22T06:28:49.276Z"
   },
   {
    "duration": 2,
    "start_time": "2022-04-22T06:28:49.301Z"
   },
   {
    "duration": 500,
    "start_time": "2022-04-22T06:28:49.305Z"
   },
   {
    "duration": 6,
    "start_time": "2022-04-22T06:28:49.807Z"
   },
   {
    "duration": 814,
    "start_time": "2022-04-22T06:28:49.815Z"
   },
   {
    "duration": 451,
    "start_time": "2022-04-22T06:28:50.631Z"
   },
   {
    "duration": 3,
    "start_time": "2022-04-22T06:28:51.084Z"
   },
   {
    "duration": 86,
    "start_time": "2022-04-22T06:28:51.088Z"
   },
   {
    "duration": 153,
    "start_time": "2022-04-22T06:28:51.176Z"
   },
   {
    "duration": 857,
    "start_time": "2022-04-22T06:28:51.331Z"
   },
   {
    "duration": 405,
    "start_time": "2022-04-22T06:28:52.189Z"
   },
   {
    "duration": 3,
    "start_time": "2022-04-22T06:28:52.599Z"
   },
   {
    "duration": 4,
    "start_time": "2022-04-22T06:49:27.907Z"
   },
   {
    "duration": 1600,
    "start_time": "2022-04-22T08:19:15.571Z"
   },
   {
    "duration": 731,
    "start_time": "2022-04-22T08:19:17.173Z"
   },
   {
    "duration": 41,
    "start_time": "2022-04-22T08:19:17.906Z"
   },
   {
    "duration": 3,
    "start_time": "2022-04-22T08:19:17.949Z"
   },
   {
    "duration": 19,
    "start_time": "2022-04-22T08:19:17.955Z"
   },
   {
    "duration": 265,
    "start_time": "2022-04-22T08:19:17.976Z"
   },
   {
    "duration": 3,
    "start_time": "2022-04-22T08:19:18.242Z"
   },
   {
    "duration": 19,
    "start_time": "2022-04-22T08:19:18.247Z"
   },
   {
    "duration": 7,
    "start_time": "2022-04-22T08:19:18.268Z"
   },
   {
    "duration": 5,
    "start_time": "2022-04-22T08:19:18.276Z"
   },
   {
    "duration": 23,
    "start_time": "2022-04-22T08:19:18.282Z"
   },
   {
    "duration": 46,
    "start_time": "2022-04-22T08:19:18.307Z"
   },
   {
    "duration": 5,
    "start_time": "2022-04-22T08:19:18.355Z"
   },
   {
    "duration": 5,
    "start_time": "2022-04-22T08:19:18.363Z"
   },
   {
    "duration": 5,
    "start_time": "2022-04-22T08:19:18.370Z"
   },
   {
    "duration": 5,
    "start_time": "2022-04-22T08:19:18.376Z"
   },
   {
    "duration": 9,
    "start_time": "2022-04-22T08:19:18.401Z"
   },
   {
    "duration": 7,
    "start_time": "2022-04-22T08:19:18.411Z"
   },
   {
    "duration": 526,
    "start_time": "2022-04-22T08:19:18.420Z"
   },
   {
    "duration": 6,
    "start_time": "2022-04-22T08:19:18.947Z"
   },
   {
    "duration": 877,
    "start_time": "2022-04-22T08:19:18.954Z"
   },
   {
    "duration": 460,
    "start_time": "2022-04-22T08:19:19.832Z"
   },
   {
    "duration": 6,
    "start_time": "2022-04-22T08:19:20.294Z"
   },
   {
    "duration": 68,
    "start_time": "2022-04-22T08:19:20.302Z"
   },
   {
    "duration": 165,
    "start_time": "2022-04-22T08:19:20.371Z"
   },
   {
    "duration": 869,
    "start_time": "2022-04-22T08:19:20.538Z"
   },
   {
    "duration": 412,
    "start_time": "2022-04-22T08:19:21.408Z"
   },
   {
    "duration": 4,
    "start_time": "2022-04-22T08:19:21.822Z"
   },
   {
    "duration": 9,
    "start_time": "2022-04-22T08:19:21.828Z"
   },
   {
    "duration": 1580,
    "start_time": "2022-04-22T08:25:57.077Z"
   },
   {
    "duration": 950,
    "start_time": "2022-04-22T08:25:58.660Z"
   },
   {
    "duration": 57,
    "start_time": "2022-04-22T08:25:59.614Z"
   },
   {
    "duration": 4,
    "start_time": "2022-04-22T08:25:59.673Z"
   },
   {
    "duration": 32,
    "start_time": "2022-04-22T08:25:59.679Z"
   },
   {
    "duration": 229,
    "start_time": "2022-04-22T08:25:59.712Z"
   },
   {
    "duration": 3,
    "start_time": "2022-04-22T08:25:59.943Z"
   },
   {
    "duration": 15,
    "start_time": "2022-04-22T08:25:59.948Z"
   },
   {
    "duration": 8,
    "start_time": "2022-04-22T08:25:59.965Z"
   },
   {
    "duration": 27,
    "start_time": "2022-04-22T08:25:59.974Z"
   },
   {
    "duration": 7,
    "start_time": "2022-04-22T08:26:00.012Z"
   },
   {
    "duration": 60,
    "start_time": "2022-04-22T08:26:00.021Z"
   },
   {
    "duration": 7,
    "start_time": "2022-04-22T08:26:00.084Z"
   },
   {
    "duration": 10,
    "start_time": "2022-04-22T08:26:00.094Z"
   },
   {
    "duration": 17,
    "start_time": "2022-04-22T08:26:00.106Z"
   },
   {
    "duration": 8,
    "start_time": "2022-04-22T08:26:00.125Z"
   },
   {
    "duration": 6,
    "start_time": "2022-04-22T08:26:00.135Z"
   },
   {
    "duration": 5,
    "start_time": "2022-04-22T08:26:00.143Z"
   },
   {
    "duration": 793,
    "start_time": "2022-04-22T08:26:00.150Z"
   },
   {
    "duration": 7,
    "start_time": "2022-04-22T08:26:00.945Z"
   },
   {
    "duration": 893,
    "start_time": "2022-04-22T08:26:00.953Z"
   },
   {
    "duration": 497,
    "start_time": "2022-04-22T08:26:01.848Z"
   },
   {
    "duration": 3,
    "start_time": "2022-04-22T08:26:02.347Z"
   },
   {
    "duration": 110,
    "start_time": "2022-04-22T08:26:02.351Z"
   },
   {
    "duration": 168,
    "start_time": "2022-04-22T08:26:02.463Z"
   },
   {
    "duration": 1030,
    "start_time": "2022-04-22T08:26:02.632Z"
   },
   {
    "duration": 431,
    "start_time": "2022-04-22T08:26:03.664Z"
   },
   {
    "duration": 5,
    "start_time": "2022-04-22T08:26:04.097Z"
   },
   {
    "duration": 26,
    "start_time": "2022-04-22T08:26:04.103Z"
   },
   {
    "duration": 24,
    "start_time": "2022-04-22T08:29:50.654Z"
   },
   {
    "duration": 2,
    "start_time": "2022-04-22T08:46:09.682Z"
   },
   {
    "duration": 2,
    "start_time": "2022-04-22T08:46:59.793Z"
   },
   {
    "duration": 2462,
    "start_time": "2022-04-22T08:53:52.744Z"
   },
   {
    "duration": 3,
    "start_time": "2022-04-22T09:17:39.674Z"
   },
   {
    "duration": 3,
    "start_time": "2022-04-22T09:18:09.538Z"
   },
   {
    "duration": 23,
    "start_time": "2022-04-22T09:24:03.592Z"
   },
   {
    "duration": 113,
    "start_time": "2022-04-22T09:33:53.228Z"
   },
   {
    "duration": 3,
    "start_time": "2022-04-22T09:36:06.739Z"
   },
   {
    "duration": 2798,
    "start_time": "2022-04-22T09:38:03.220Z"
   },
   {
    "duration": 2642,
    "start_time": "2022-04-22T09:38:32.084Z"
   },
   {
    "duration": 12,
    "start_time": "2022-04-22T09:39:41.971Z"
   },
   {
    "duration": 11,
    "start_time": "2022-04-22T09:42:08.762Z"
   },
   {
    "duration": 3119,
    "start_time": "2022-04-22T09:42:30.482Z"
   },
   {
    "duration": 3093,
    "start_time": "2022-04-22T09:42:50.515Z"
   },
   {
    "duration": 2677,
    "start_time": "2022-04-22T09:43:02.026Z"
   },
   {
    "duration": 1565,
    "start_time": "2022-04-22T09:46:20.602Z"
   },
   {
    "duration": 623,
    "start_time": "2022-04-22T09:46:22.169Z"
   },
   {
    "duration": 36,
    "start_time": "2022-04-22T09:46:22.794Z"
   },
   {
    "duration": 3,
    "start_time": "2022-04-22T09:46:22.832Z"
   },
   {
    "duration": 15,
    "start_time": "2022-04-22T09:46:22.838Z"
   },
   {
    "duration": 246,
    "start_time": "2022-04-22T09:46:22.854Z"
   },
   {
    "duration": 3,
    "start_time": "2022-04-22T09:46:23.102Z"
   },
   {
    "duration": 16,
    "start_time": "2022-04-22T09:46:23.106Z"
   },
   {
    "duration": 7,
    "start_time": "2022-04-22T09:46:23.123Z"
   },
   {
    "duration": 4,
    "start_time": "2022-04-22T09:46:23.132Z"
   },
   {
    "duration": 9,
    "start_time": "2022-04-22T09:46:23.138Z"
   },
   {
    "duration": 67,
    "start_time": "2022-04-22T09:46:23.149Z"
   },
   {
    "duration": 7,
    "start_time": "2022-04-22T09:46:23.217Z"
   },
   {
    "duration": 8,
    "start_time": "2022-04-22T09:46:23.227Z"
   },
   {
    "duration": 4,
    "start_time": "2022-04-22T09:46:23.237Z"
   },
   {
    "duration": 5,
    "start_time": "2022-04-22T09:46:23.243Z"
   },
   {
    "duration": 11,
    "start_time": "2022-04-22T09:46:23.250Z"
   },
   {
    "duration": 5,
    "start_time": "2022-04-22T09:46:23.263Z"
   },
   {
    "duration": 615,
    "start_time": "2022-04-22T09:46:23.269Z"
   },
   {
    "duration": 6,
    "start_time": "2022-04-22T09:46:23.886Z"
   },
   {
    "duration": 847,
    "start_time": "2022-04-22T09:46:23.899Z"
   },
   {
    "duration": 813,
    "start_time": "2022-04-22T09:46:24.748Z"
   },
   {
    "duration": 3,
    "start_time": "2022-04-22T09:46:25.564Z"
   },
   {
    "duration": 136,
    "start_time": "2022-04-22T09:46:25.569Z"
   },
   {
    "duration": 161,
    "start_time": "2022-04-22T09:46:25.707Z"
   },
   {
    "duration": 866,
    "start_time": "2022-04-22T09:46:25.870Z"
   },
   {
    "duration": 4,
    "start_time": "2022-04-22T09:46:26.738Z"
   },
   {
    "duration": 10,
    "start_time": "2022-04-22T09:46:26.744Z"
   },
   {
    "duration": 3091,
    "start_time": "2022-04-22T09:46:26.756Z"
   },
   {
    "duration": 2662,
    "start_time": "2022-04-22T09:47:29.751Z"
   },
   {
    "duration": 4158,
    "start_time": "2022-04-22T09:51:39.580Z"
   },
   {
    "duration": 14,
    "start_time": "2022-04-22T09:52:09.443Z"
   },
   {
    "duration": 10,
    "start_time": "2022-04-22T09:57:54.403Z"
   },
   {
    "duration": 8,
    "start_time": "2022-04-22T09:58:06.643Z"
   },
   {
    "duration": 4,
    "start_time": "2022-04-22T09:58:34.171Z"
   },
   {
    "duration": 2669,
    "start_time": "2022-04-22T09:58:42.954Z"
   },
   {
    "duration": 2829,
    "start_time": "2022-04-22T09:58:54.475Z"
   },
   {
    "duration": 20,
    "start_time": "2022-04-22T10:01:36.058Z"
   },
   {
    "duration": 14,
    "start_time": "2022-04-22T10:02:25.306Z"
   },
   {
    "duration": 613,
    "start_time": "2022-04-22T10:02:30.946Z"
   },
   {
    "duration": 189,
    "start_time": "2022-04-22T10:02:48.478Z"
   },
   {
    "duration": 4628,
    "start_time": "2022-04-22T10:02:54.809Z"
   },
   {
    "duration": 6640,
    "start_time": "2022-04-22T10:03:13.289Z"
   },
   {
    "duration": 17,
    "start_time": "2022-04-22T10:06:35.051Z"
   },
   {
    "duration": 223,
    "start_time": "2022-04-22T10:07:30.811Z"
   },
   {
    "duration": 214,
    "start_time": "2022-04-22T10:07:44.392Z"
   },
   {
    "duration": 225,
    "start_time": "2022-04-22T10:07:47.439Z"
   },
   {
    "duration": 374840,
    "start_time": "2022-04-22T10:14:23.882Z"
   },
   {
    "duration": 33231,
    "start_time": "2022-04-22T10:37:30.664Z"
   },
   {
    "duration": 573734,
    "start_time": "2022-04-22T10:38:22.832Z"
   },
   {
    "duration": 1533,
    "start_time": "2022-04-24T08:34:45.655Z"
   },
   {
    "duration": 630,
    "start_time": "2022-04-24T08:34:47.190Z"
   },
   {
    "duration": 37,
    "start_time": "2022-04-24T08:34:47.822Z"
   },
   {
    "duration": 4,
    "start_time": "2022-04-24T08:34:47.861Z"
   },
   {
    "duration": 35,
    "start_time": "2022-04-24T08:34:47.867Z"
   },
   {
    "duration": 217,
    "start_time": "2022-04-24T08:34:47.904Z"
   },
   {
    "duration": 3,
    "start_time": "2022-04-24T08:34:48.123Z"
   },
   {
    "duration": 13,
    "start_time": "2022-04-24T08:34:48.128Z"
   },
   {
    "duration": 9,
    "start_time": "2022-04-24T08:34:48.142Z"
   },
   {
    "duration": 5,
    "start_time": "2022-04-24T08:34:48.154Z"
   },
   {
    "duration": 7,
    "start_time": "2022-04-24T08:34:48.160Z"
   },
   {
    "duration": 184,
    "start_time": "2022-04-24T08:34:48.201Z"
   },
   {
    "duration": 0,
    "start_time": "2022-04-24T08:34:48.386Z"
   },
   {
    "duration": 0,
    "start_time": "2022-04-24T08:34:48.388Z"
   },
   {
    "duration": 0,
    "start_time": "2022-04-24T08:34:48.388Z"
   },
   {
    "duration": 0,
    "start_time": "2022-04-24T08:34:48.389Z"
   },
   {
    "duration": 0,
    "start_time": "2022-04-24T08:34:48.390Z"
   },
   {
    "duration": 0,
    "start_time": "2022-04-24T08:34:48.391Z"
   },
   {
    "duration": 0,
    "start_time": "2022-04-24T08:34:48.392Z"
   },
   {
    "duration": 0,
    "start_time": "2022-04-24T08:34:48.393Z"
   },
   {
    "duration": 0,
    "start_time": "2022-04-24T08:34:48.394Z"
   },
   {
    "duration": 0,
    "start_time": "2022-04-24T08:34:48.395Z"
   },
   {
    "duration": 0,
    "start_time": "2022-04-24T08:34:48.396Z"
   },
   {
    "duration": 0,
    "start_time": "2022-04-24T08:34:48.397Z"
   },
   {
    "duration": 0,
    "start_time": "2022-04-24T08:34:48.398Z"
   },
   {
    "duration": 0,
    "start_time": "2022-04-24T08:34:48.399Z"
   },
   {
    "duration": 0,
    "start_time": "2022-04-24T08:34:48.400Z"
   },
   {
    "duration": 0,
    "start_time": "2022-04-24T08:34:48.401Z"
   },
   {
    "duration": 0,
    "start_time": "2022-04-24T08:34:48.402Z"
   },
   {
    "duration": 0,
    "start_time": "2022-04-24T08:34:48.403Z"
   },
   {
    "duration": 0,
    "start_time": "2022-04-24T08:34:48.404Z"
   },
   {
    "duration": 0,
    "start_time": "2022-04-24T08:34:48.405Z"
   },
   {
    "duration": 1882,
    "start_time": "2022-04-24T08:35:09.491Z"
   },
   {
    "duration": 635,
    "start_time": "2022-04-24T08:35:11.375Z"
   },
   {
    "duration": 35,
    "start_time": "2022-04-24T08:35:12.012Z"
   },
   {
    "duration": 3,
    "start_time": "2022-04-24T08:35:12.049Z"
   },
   {
    "duration": 16,
    "start_time": "2022-04-24T08:35:12.053Z"
   },
   {
    "duration": 238,
    "start_time": "2022-04-24T08:35:12.070Z"
   },
   {
    "duration": 3,
    "start_time": "2022-04-24T08:35:12.310Z"
   },
   {
    "duration": 16,
    "start_time": "2022-04-24T08:35:12.314Z"
   },
   {
    "duration": 6,
    "start_time": "2022-04-24T08:35:12.331Z"
   },
   {
    "duration": 4,
    "start_time": "2022-04-24T08:35:12.340Z"
   },
   {
    "duration": 7,
    "start_time": "2022-04-24T08:35:12.346Z"
   },
   {
    "duration": 78,
    "start_time": "2022-04-24T08:35:12.354Z"
   },
   {
    "duration": 6,
    "start_time": "2022-04-24T08:35:12.433Z"
   },
   {
    "duration": 9,
    "start_time": "2022-04-24T08:35:12.440Z"
   },
   {
    "duration": 5,
    "start_time": "2022-04-24T08:35:12.450Z"
   },
   {
    "duration": 6,
    "start_time": "2022-04-24T08:35:12.456Z"
   },
   {
    "duration": 10,
    "start_time": "2022-04-24T08:35:12.463Z"
   },
   {
    "duration": 7,
    "start_time": "2022-04-24T08:35:12.474Z"
   },
   {
    "duration": 473,
    "start_time": "2022-04-24T08:35:12.500Z"
   },
   {
    "duration": 6,
    "start_time": "2022-04-24T08:35:12.975Z"
   },
   {
    "duration": 858,
    "start_time": "2022-04-24T08:35:12.982Z"
   },
   {
    "duration": 465,
    "start_time": "2022-04-24T08:35:13.841Z"
   },
   {
    "duration": 3,
    "start_time": "2022-04-24T08:35:14.307Z"
   },
   {
    "duration": 69,
    "start_time": "2022-04-24T08:35:14.312Z"
   },
   {
    "duration": 181,
    "start_time": "2022-04-24T08:35:14.382Z"
   },
   {
    "duration": 888,
    "start_time": "2022-04-24T08:35:14.564Z"
   },
   {
    "duration": 3,
    "start_time": "2022-04-24T08:35:15.454Z"
   },
   {
    "duration": 4,
    "start_time": "2022-04-24T08:35:15.460Z"
   },
   {
    "duration": 2839,
    "start_time": "2022-04-24T08:35:15.465Z"
   },
   {
    "duration": 6481,
    "start_time": "2022-04-24T08:35:18.307Z"
   },
   {
    "duration": 9943,
    "start_time": "2022-04-24T08:35:24.790Z"
   },
   {
    "duration": 1468,
    "start_time": "2022-04-24T08:37:35.513Z"
   },
   {
    "duration": 626,
    "start_time": "2022-04-24T08:37:36.983Z"
   },
   {
    "duration": 36,
    "start_time": "2022-04-24T08:37:37.612Z"
   },
   {
    "duration": 3,
    "start_time": "2022-04-24T08:37:37.650Z"
   },
   {
    "duration": 21,
    "start_time": "2022-04-24T08:37:37.654Z"
   },
   {
    "duration": 223,
    "start_time": "2022-04-24T08:37:37.700Z"
   },
   {
    "duration": 3,
    "start_time": "2022-04-24T08:37:37.924Z"
   },
   {
    "duration": 27,
    "start_time": "2022-04-24T08:37:37.928Z"
   },
   {
    "duration": 19,
    "start_time": "2022-04-24T08:37:37.956Z"
   },
   {
    "duration": 6,
    "start_time": "2022-04-24T08:37:37.976Z"
   },
   {
    "duration": 32,
    "start_time": "2022-04-24T08:37:37.984Z"
   },
   {
    "duration": 34,
    "start_time": "2022-04-24T08:37:38.018Z"
   },
   {
    "duration": 5,
    "start_time": "2022-04-24T08:37:38.055Z"
   },
   {
    "duration": 18,
    "start_time": "2022-04-24T08:37:38.061Z"
   },
   {
    "duration": 21,
    "start_time": "2022-04-24T08:37:38.081Z"
   },
   {
    "duration": 24,
    "start_time": "2022-04-24T08:37:38.103Z"
   },
   {
    "duration": 31,
    "start_time": "2022-04-24T08:37:38.129Z"
   },
   {
    "duration": 10,
    "start_time": "2022-04-24T08:37:38.161Z"
   },
   {
    "duration": 479,
    "start_time": "2022-04-24T08:37:38.172Z"
   },
   {
    "duration": 6,
    "start_time": "2022-04-24T08:37:38.653Z"
   },
   {
    "duration": 777,
    "start_time": "2022-04-24T08:37:38.660Z"
   },
   {
    "duration": 447,
    "start_time": "2022-04-24T08:37:39.438Z"
   },
   {
    "duration": 3,
    "start_time": "2022-04-24T08:37:39.886Z"
   },
   {
    "duration": 88,
    "start_time": "2022-04-24T08:37:39.890Z"
   },
   {
    "duration": 162,
    "start_time": "2022-04-24T08:37:39.980Z"
   },
   {
    "duration": 875,
    "start_time": "2022-04-24T08:37:40.144Z"
   },
   {
    "duration": 3,
    "start_time": "2022-04-24T08:37:41.021Z"
   },
   {
    "duration": 5,
    "start_time": "2022-04-24T08:37:41.025Z"
   },
   {
    "duration": 138,
    "start_time": "2022-04-24T08:37:41.031Z"
   },
   {
    "duration": 0,
    "start_time": "2022-04-24T08:37:41.171Z"
   },
   {
    "duration": 0,
    "start_time": "2022-04-24T08:37:41.172Z"
   },
   {
    "duration": 27,
    "start_time": "2022-04-24T08:38:33.052Z"
   },
   {
    "duration": 42,
    "start_time": "2022-04-24T08:39:14.458Z"
   },
   {
    "duration": 1484,
    "start_time": "2022-04-24T08:41:16.165Z"
   },
   {
    "duration": 626,
    "start_time": "2022-04-24T08:41:17.651Z"
   },
   {
    "duration": 44,
    "start_time": "2022-04-24T08:41:18.279Z"
   },
   {
    "duration": 3,
    "start_time": "2022-04-24T08:41:18.325Z"
   },
   {
    "duration": 15,
    "start_time": "2022-04-24T08:41:18.329Z"
   },
   {
    "duration": 230,
    "start_time": "2022-04-24T08:41:18.346Z"
   },
   {
    "duration": 3,
    "start_time": "2022-04-24T08:41:18.577Z"
   },
   {
    "duration": 22,
    "start_time": "2022-04-24T08:41:18.582Z"
   },
   {
    "duration": 7,
    "start_time": "2022-04-24T08:41:18.605Z"
   },
   {
    "duration": 5,
    "start_time": "2022-04-24T08:41:18.615Z"
   },
   {
    "duration": 6,
    "start_time": "2022-04-24T08:41:18.621Z"
   },
   {
    "duration": 33,
    "start_time": "2022-04-24T08:41:18.629Z"
   },
   {
    "duration": 6,
    "start_time": "2022-04-24T08:41:18.699Z"
   },
   {
    "duration": 8,
    "start_time": "2022-04-24T08:41:18.706Z"
   },
   {
    "duration": 5,
    "start_time": "2022-04-24T08:41:18.716Z"
   },
   {
    "duration": 8,
    "start_time": "2022-04-24T08:41:18.722Z"
   },
   {
    "duration": 6,
    "start_time": "2022-04-24T08:41:18.731Z"
   },
   {
    "duration": 7,
    "start_time": "2022-04-24T08:41:18.738Z"
   },
   {
    "duration": 481,
    "start_time": "2022-04-24T08:41:18.746Z"
   },
   {
    "duration": 6,
    "start_time": "2022-04-24T08:41:19.229Z"
   },
   {
    "duration": 811,
    "start_time": "2022-04-24T08:41:19.236Z"
   },
   {
    "duration": 446,
    "start_time": "2022-04-24T08:41:20.049Z"
   },
   {
    "duration": 3,
    "start_time": "2022-04-24T08:41:20.499Z"
   },
   {
    "duration": 71,
    "start_time": "2022-04-24T08:41:20.503Z"
   },
   {
    "duration": 160,
    "start_time": "2022-04-24T08:41:20.576Z"
   },
   {
    "duration": 843,
    "start_time": "2022-04-24T08:41:20.738Z"
   },
   {
    "duration": 3,
    "start_time": "2022-04-24T08:41:21.583Z"
   },
   {
    "duration": 3,
    "start_time": "2022-04-24T08:41:21.599Z"
   },
   {
    "duration": 2399,
    "start_time": "2022-04-24T08:41:21.603Z"
   },
   {
    "duration": 6560,
    "start_time": "2022-04-24T08:41:24.006Z"
   },
   {
    "duration": 544775,
    "start_time": "2022-04-24T08:41:30.568Z"
   },
   {
    "duration": 1695,
    "start_time": "2022-04-24T08:50:35.345Z"
   },
   {
    "duration": 17,
    "start_time": "2022-04-24T08:51:03.192Z"
   },
   {
    "duration": 848,
    "start_time": "2022-04-24T08:51:17.447Z"
   },
   {
    "duration": 831,
    "start_time": "2022-04-24T08:51:25.565Z"
   },
   {
    "duration": 25,
    "start_time": "2022-04-24T08:51:28.774Z"
   },
   {
    "duration": 731,
    "start_time": "2022-04-24T08:51:31.574Z"
   },
   {
    "duration": 852,
    "start_time": "2022-04-24T08:52:53.610Z"
   },
   {
    "duration": 839,
    "start_time": "2022-04-24T08:53:08.217Z"
   },
   {
    "duration": 5,
    "start_time": "2022-04-24T08:54:01.262Z"
   },
   {
    "duration": 5,
    "start_time": "2022-04-24T09:01:06.658Z"
   },
   {
    "duration": 4,
    "start_time": "2022-04-24T09:01:44.416Z"
   },
   {
    "duration": 4,
    "start_time": "2022-04-24T09:02:06.111Z"
   },
   {
    "duration": 4,
    "start_time": "2022-04-24T09:02:21.046Z"
   },
   {
    "duration": 3,
    "start_time": "2022-04-24T09:03:02.356Z"
   },
   {
    "duration": 6,
    "start_time": "2022-04-24T09:04:15.361Z"
   },
   {
    "duration": 6,
    "start_time": "2022-04-24T09:04:37.647Z"
   },
   {
    "duration": 106,
    "start_time": "2022-04-24T09:06:57.104Z"
   },
   {
    "duration": 159,
    "start_time": "2022-04-24T09:06:59.656Z"
   },
   {
    "duration": 667,
    "start_time": "2022-04-24T09:07:03.016Z"
   },
   {
    "duration": 22,
    "start_time": "2022-04-24T09:07:23.487Z"
   },
   {
    "duration": 813,
    "start_time": "2022-04-24T09:07:25.991Z"
   },
   {
    "duration": 710,
    "start_time": "2022-04-24T09:07:35.566Z"
   },
   {
    "duration": 6,
    "start_time": "2022-04-24T09:07:40.134Z"
   },
   {
    "duration": 7,
    "start_time": "2022-04-24T09:07:48.909Z"
   },
   {
    "duration": 7,
    "start_time": "2022-04-24T09:07:57.893Z"
   },
   {
    "duration": 1530,
    "start_time": "2022-04-24T09:08:36.938Z"
   },
   {
    "duration": 661,
    "start_time": "2022-04-24T09:08:38.470Z"
   },
   {
    "duration": 37,
    "start_time": "2022-04-24T09:08:39.133Z"
   },
   {
    "duration": 4,
    "start_time": "2022-04-24T09:08:39.172Z"
   },
   {
    "duration": 35,
    "start_time": "2022-04-24T09:08:39.177Z"
   },
   {
    "duration": 228,
    "start_time": "2022-04-24T09:08:39.213Z"
   },
   {
    "duration": 4,
    "start_time": "2022-04-24T09:08:39.443Z"
   },
   {
    "duration": 16,
    "start_time": "2022-04-24T09:08:39.449Z"
   },
   {
    "duration": 7,
    "start_time": "2022-04-24T09:08:39.467Z"
   },
   {
    "duration": 6,
    "start_time": "2022-04-24T09:08:39.499Z"
   },
   {
    "duration": 6,
    "start_time": "2022-04-24T09:08:39.507Z"
   },
   {
    "duration": 39,
    "start_time": "2022-04-24T09:08:39.515Z"
   },
   {
    "duration": 6,
    "start_time": "2022-04-24T09:08:39.556Z"
   },
   {
    "duration": 37,
    "start_time": "2022-04-24T09:08:39.563Z"
   },
   {
    "duration": 13,
    "start_time": "2022-04-24T09:08:39.602Z"
   },
   {
    "duration": 5,
    "start_time": "2022-04-24T09:08:39.617Z"
   },
   {
    "duration": 5,
    "start_time": "2022-04-24T09:08:39.623Z"
   },
   {
    "duration": 4,
    "start_time": "2022-04-24T09:08:39.629Z"
   },
   {
    "duration": 4,
    "start_time": "2022-04-24T09:08:39.634Z"
   },
   {
    "duration": 483,
    "start_time": "2022-04-24T09:08:39.640Z"
   },
   {
    "duration": 6,
    "start_time": "2022-04-24T09:08:40.125Z"
   },
   {
    "duration": 832,
    "start_time": "2022-04-24T09:08:40.133Z"
   },
   {
    "duration": 508,
    "start_time": "2022-04-24T09:08:40.967Z"
   },
   {
    "duration": 3,
    "start_time": "2022-04-24T09:08:41.477Z"
   },
   {
    "duration": 80,
    "start_time": "2022-04-24T09:08:41.482Z"
   },
   {
    "duration": 161,
    "start_time": "2022-04-24T09:08:41.564Z"
   },
   {
    "duration": 851,
    "start_time": "2022-04-24T09:08:41.727Z"
   },
   {
    "duration": 28,
    "start_time": "2022-04-24T09:08:42.582Z"
   },
   {
    "duration": 853,
    "start_time": "2022-04-24T09:08:42.612Z"
   },
   {
    "duration": 4,
    "start_time": "2022-04-24T09:08:43.467Z"
   },
   {
    "duration": 6,
    "start_time": "2022-04-24T09:08:43.473Z"
   },
   {
    "duration": 2424,
    "start_time": "2022-04-24T09:08:43.481Z"
   },
   {
    "duration": 6756,
    "start_time": "2022-04-24T09:08:45.909Z"
   },
   {
    "duration": 35045,
    "start_time": "2022-04-24T09:08:52.666Z"
   },
   {
    "duration": 0,
    "start_time": "2022-04-24T09:09:27.713Z"
   },
   {
    "duration": 828,
    "start_time": "2022-04-24T09:09:32.259Z"
   },
   {
    "duration": 25,
    "start_time": "2022-04-24T09:09:48.162Z"
   },
   {
    "duration": 870,
    "start_time": "2022-04-24T09:09:50.170Z"
   },
   {
    "duration": 21,
    "start_time": "2022-04-24T09:10:04.370Z"
   },
   {
    "duration": 847,
    "start_time": "2022-04-24T09:10:05.993Z"
   },
   {
    "duration": 68,
    "start_time": "2022-04-24T09:10:55.351Z"
   },
   {
    "duration": 160,
    "start_time": "2022-04-24T09:11:23.030Z"
   },
   {
    "duration": 1471,
    "start_time": "2022-04-24T09:13:04.789Z"
   },
   {
    "duration": 629,
    "start_time": "2022-04-24T09:13:06.261Z"
   },
   {
    "duration": 38,
    "start_time": "2022-04-24T09:13:06.892Z"
   },
   {
    "duration": 3,
    "start_time": "2022-04-24T09:13:06.932Z"
   },
   {
    "duration": 14,
    "start_time": "2022-04-24T09:13:06.937Z"
   },
   {
    "duration": 241,
    "start_time": "2022-04-24T09:13:06.952Z"
   },
   {
    "duration": 4,
    "start_time": "2022-04-24T09:13:07.200Z"
   },
   {
    "duration": 16,
    "start_time": "2022-04-24T09:13:07.205Z"
   },
   {
    "duration": 7,
    "start_time": "2022-04-24T09:13:07.222Z"
   },
   {
    "duration": 6,
    "start_time": "2022-04-24T09:13:07.231Z"
   },
   {
    "duration": 7,
    "start_time": "2022-04-24T09:13:07.238Z"
   },
   {
    "duration": 71,
    "start_time": "2022-04-24T09:13:07.246Z"
   },
   {
    "duration": 5,
    "start_time": "2022-04-24T09:13:07.319Z"
   },
   {
    "duration": 6,
    "start_time": "2022-04-24T09:13:07.327Z"
   },
   {
    "duration": 6,
    "start_time": "2022-04-24T09:13:07.334Z"
   },
   {
    "duration": 5,
    "start_time": "2022-04-24T09:13:07.341Z"
   },
   {
    "duration": 5,
    "start_time": "2022-04-24T09:13:07.347Z"
   },
   {
    "duration": 4,
    "start_time": "2022-04-24T09:13:07.354Z"
   },
   {
    "duration": 5,
    "start_time": "2022-04-24T09:13:07.359Z"
   },
   {
    "duration": 510,
    "start_time": "2022-04-24T09:13:07.366Z"
   },
   {
    "duration": 7,
    "start_time": "2022-04-24T09:13:07.877Z"
   },
   {
    "duration": 824,
    "start_time": "2022-04-24T09:13:07.885Z"
   },
   {
    "duration": 457,
    "start_time": "2022-04-24T09:13:08.711Z"
   },
   {
    "duration": 2,
    "start_time": "2022-04-24T09:13:09.170Z"
   },
   {
    "duration": 74,
    "start_time": "2022-04-24T09:13:09.174Z"
   },
   {
    "duration": 154,
    "start_time": "2022-04-24T09:13:09.249Z"
   },
   {
    "duration": 971,
    "start_time": "2022-04-24T09:13:09.404Z"
   },
   {
    "duration": 4030,
    "start_time": "2022-04-24T09:13:10.377Z"
   },
   {
    "duration": 65,
    "start_time": "2022-04-24T09:13:14.408Z"
   },
   {
    "duration": 878,
    "start_time": "2022-04-24T09:13:14.475Z"
   },
   {
    "duration": 3,
    "start_time": "2022-04-24T09:13:15.355Z"
   },
   {
    "duration": 6,
    "start_time": "2022-04-24T09:13:15.360Z"
   },
   {
    "duration": 2240,
    "start_time": "2022-04-24T09:13:15.367Z"
   },
   {
    "duration": 6320,
    "start_time": "2022-04-24T09:13:17.610Z"
   },
   {
    "duration": 3,
    "start_time": "2022-04-24T09:13:23.932Z"
   },
   {
    "duration": 3902,
    "start_time": "2022-04-24T09:13:40.339Z"
   },
   {
    "duration": 69,
    "start_time": "2022-04-24T09:13:46.268Z"
   },
   {
    "duration": 732,
    "start_time": "2022-04-24T09:13:48.011Z"
   },
   {
    "duration": 69,
    "start_time": "2022-04-24T09:13:54.155Z"
   },
   {
    "duration": 197,
    "start_time": "2022-04-24T09:13:57.802Z"
   },
   {
    "duration": 2,
    "start_time": "2022-04-24T09:14:10.762Z"
   },
   {
    "duration": 70,
    "start_time": "2022-04-24T09:14:11.619Z"
   },
   {
    "duration": 138,
    "start_time": "2022-04-24T09:14:12.330Z"
   },
   {
    "duration": 304,
    "start_time": "2022-04-24T09:14:19.553Z"
   },
   {
    "duration": 12,
    "start_time": "2022-04-24T09:17:19.208Z"
   },
   {
    "duration": 7,
    "start_time": "2022-04-24T09:17:33.840Z"
   },
   {
    "duration": 9,
    "start_time": "2022-04-24T09:18:10.390Z"
   },
   {
    "duration": 6,
    "start_time": "2022-04-24T09:18:14.790Z"
   },
   {
    "duration": 1468,
    "start_time": "2022-04-24T09:18:28.470Z"
   },
   {
    "duration": 661,
    "start_time": "2022-04-24T09:18:29.939Z"
   },
   {
    "duration": 37,
    "start_time": "2022-04-24T09:18:30.602Z"
   },
   {
    "duration": 3,
    "start_time": "2022-04-24T09:18:30.641Z"
   },
   {
    "duration": 34,
    "start_time": "2022-04-24T09:18:30.646Z"
   },
   {
    "duration": 230,
    "start_time": "2022-04-24T09:18:30.681Z"
   },
   {
    "duration": 3,
    "start_time": "2022-04-24T09:18:30.912Z"
   },
   {
    "duration": 17,
    "start_time": "2022-04-24T09:18:30.917Z"
   },
   {
    "duration": 12,
    "start_time": "2022-04-24T09:18:30.935Z"
   },
   {
    "duration": 8,
    "start_time": "2022-04-24T09:18:30.950Z"
   },
   {
    "duration": 7,
    "start_time": "2022-04-24T09:18:30.960Z"
   },
   {
    "duration": 59,
    "start_time": "2022-04-24T09:18:30.968Z"
   },
   {
    "duration": 5,
    "start_time": "2022-04-24T09:18:31.029Z"
   },
   {
    "duration": 10,
    "start_time": "2022-04-24T09:18:31.035Z"
   },
   {
    "duration": 6,
    "start_time": "2022-04-24T09:18:31.047Z"
   },
   {
    "duration": 11,
    "start_time": "2022-04-24T09:18:31.054Z"
   },
   {
    "duration": 13,
    "start_time": "2022-04-24T09:18:31.066Z"
   },
   {
    "duration": 5,
    "start_time": "2022-04-24T09:18:31.080Z"
   },
   {
    "duration": 8,
    "start_time": "2022-04-24T09:18:31.086Z"
   },
   {
    "duration": 476,
    "start_time": "2022-04-24T09:18:31.100Z"
   },
   {
    "duration": 6,
    "start_time": "2022-04-24T09:18:31.578Z"
   },
   {
    "duration": 830,
    "start_time": "2022-04-24T09:18:31.585Z"
   },
   {
    "duration": 469,
    "start_time": "2022-04-24T09:18:32.417Z"
   },
   {
    "duration": 2,
    "start_time": "2022-04-24T09:18:32.888Z"
   },
   {
    "duration": 77,
    "start_time": "2022-04-24T09:18:32.892Z"
   },
   {
    "duration": 174,
    "start_time": "2022-04-24T09:18:32.971Z"
   },
   {
    "duration": 859,
    "start_time": "2022-04-24T09:18:33.146Z"
   },
   {
    "duration": 3913,
    "start_time": "2022-04-24T09:18:34.008Z"
   },
   {
    "duration": 63,
    "start_time": "2022-04-24T09:18:37.923Z"
   },
   {
    "duration": 851,
    "start_time": "2022-04-24T09:18:37.987Z"
   },
   {
    "duration": 26,
    "start_time": "2022-04-24T09:18:38.839Z"
   },
   {
    "duration": 3,
    "start_time": "2022-04-24T09:18:38.866Z"
   },
   {
    "duration": 6,
    "start_time": "2022-04-24T09:18:38.871Z"
   },
   {
    "duration": 2824,
    "start_time": "2022-04-24T09:18:38.878Z"
   },
   {
    "duration": 6471,
    "start_time": "2022-04-24T09:18:41.704Z"
   },
   {
    "duration": 2,
    "start_time": "2022-04-24T09:18:48.177Z"
   },
   {
    "duration": 72,
    "start_time": "2022-04-24T09:19:30.723Z"
   },
   {
    "duration": 199,
    "start_time": "2022-04-24T09:19:33.275Z"
   },
   {
    "duration": 1455,
    "start_time": "2022-04-24T09:19:44.011Z"
   },
   {
    "duration": 671,
    "start_time": "2022-04-24T09:19:45.468Z"
   },
   {
    "duration": 39,
    "start_time": "2022-04-24T09:19:46.140Z"
   },
   {
    "duration": 4,
    "start_time": "2022-04-24T09:19:46.181Z"
   },
   {
    "duration": 27,
    "start_time": "2022-04-24T09:19:46.187Z"
   },
   {
    "duration": 233,
    "start_time": "2022-04-24T09:19:46.216Z"
   },
   {
    "duration": 3,
    "start_time": "2022-04-24T09:19:46.451Z"
   },
   {
    "duration": 14,
    "start_time": "2022-04-24T09:19:46.455Z"
   },
   {
    "duration": 6,
    "start_time": "2022-04-24T09:19:46.471Z"
   },
   {
    "duration": 5,
    "start_time": "2022-04-24T09:19:46.501Z"
   },
   {
    "duration": 5,
    "start_time": "2022-04-24T09:19:46.508Z"
   },
   {
    "duration": 41,
    "start_time": "2022-04-24T09:19:46.514Z"
   },
   {
    "duration": 6,
    "start_time": "2022-04-24T09:19:46.556Z"
   },
   {
    "duration": 8,
    "start_time": "2022-04-24T09:19:46.563Z"
   },
   {
    "duration": 28,
    "start_time": "2022-04-24T09:19:46.572Z"
   },
   {
    "duration": 6,
    "start_time": "2022-04-24T09:19:46.602Z"
   },
   {
    "duration": 4,
    "start_time": "2022-04-24T09:19:46.610Z"
   },
   {
    "duration": 4,
    "start_time": "2022-04-24T09:19:46.616Z"
   },
   {
    "duration": 4,
    "start_time": "2022-04-24T09:19:46.621Z"
   },
   {
    "duration": 495,
    "start_time": "2022-04-24T09:19:46.627Z"
   },
   {
    "duration": 6,
    "start_time": "2022-04-24T09:19:47.124Z"
   },
   {
    "duration": 864,
    "start_time": "2022-04-24T09:19:47.131Z"
   },
   {
    "duration": 463,
    "start_time": "2022-04-24T09:19:47.996Z"
   },
   {
    "duration": 3,
    "start_time": "2022-04-24T09:19:48.460Z"
   },
   {
    "duration": 78,
    "start_time": "2022-04-24T09:19:48.465Z"
   },
   {
    "duration": 161,
    "start_time": "2022-04-24T09:19:48.544Z"
   },
   {
    "duration": 847,
    "start_time": "2022-04-24T09:19:48.707Z"
   },
   {
    "duration": 4078,
    "start_time": "2022-04-24T09:19:49.556Z"
   },
   {
    "duration": 89,
    "start_time": "2022-04-24T09:19:53.636Z"
   },
   {
    "duration": 211,
    "start_time": "2022-04-24T09:19:53.727Z"
   },
   {
    "duration": 7,
    "start_time": "2022-04-24T09:19:53.940Z"
   },
   {
    "duration": 7,
    "start_time": "2022-04-24T09:19:53.948Z"
   },
   {
    "duration": 12,
    "start_time": "2022-04-24T09:19:53.957Z"
   },
   {
    "duration": 2130,
    "start_time": "2022-04-24T09:19:53.970Z"
   },
   {
    "duration": 6387,
    "start_time": "2022-04-24T09:19:56.102Z"
   },
   {
    "duration": 9,
    "start_time": "2022-04-24T09:20:02.491Z"
   },
   {
    "duration": 8,
    "start_time": "2022-04-24T09:20:49.494Z"
   },
   {
    "duration": 5,
    "start_time": "2022-04-24T09:21:04.982Z"
   },
   {
    "duration": 1523,
    "start_time": "2022-04-24T09:21:31.044Z"
   },
   {
    "duration": 695,
    "start_time": "2022-04-24T09:21:32.568Z"
   },
   {
    "duration": 51,
    "start_time": "2022-04-24T09:21:33.264Z"
   },
   {
    "duration": 4,
    "start_time": "2022-04-24T09:21:33.318Z"
   },
   {
    "duration": 15,
    "start_time": "2022-04-24T09:21:33.324Z"
   },
   {
    "duration": 246,
    "start_time": "2022-04-24T09:21:33.341Z"
   },
   {
    "duration": 12,
    "start_time": "2022-04-24T09:21:33.589Z"
   },
   {
    "duration": 25,
    "start_time": "2022-04-24T09:21:33.603Z"
   },
   {
    "duration": 10,
    "start_time": "2022-04-24T09:21:33.630Z"
   },
   {
    "duration": 5,
    "start_time": "2022-04-24T09:21:33.643Z"
   },
   {
    "duration": 7,
    "start_time": "2022-04-24T09:21:33.650Z"
   },
   {
    "duration": 67,
    "start_time": "2022-04-24T09:21:33.658Z"
   },
   {
    "duration": 5,
    "start_time": "2022-04-24T09:21:33.727Z"
   },
   {
    "duration": 13,
    "start_time": "2022-04-24T09:21:33.734Z"
   },
   {
    "duration": 6,
    "start_time": "2022-04-24T09:21:33.749Z"
   },
   {
    "duration": 8,
    "start_time": "2022-04-24T09:21:33.756Z"
   },
   {
    "duration": 6,
    "start_time": "2022-04-24T09:21:33.765Z"
   },
   {
    "duration": 7,
    "start_time": "2022-04-24T09:21:33.772Z"
   },
   {
    "duration": 4,
    "start_time": "2022-04-24T09:21:33.800Z"
   },
   {
    "duration": 523,
    "start_time": "2022-04-24T09:21:33.806Z"
   },
   {
    "duration": 7,
    "start_time": "2022-04-24T09:21:34.330Z"
   },
   {
    "duration": 886,
    "start_time": "2022-04-24T09:21:34.339Z"
   },
   {
    "duration": 486,
    "start_time": "2022-04-24T09:21:35.226Z"
   },
   {
    "duration": 3,
    "start_time": "2022-04-24T09:21:35.713Z"
   },
   {
    "duration": 85,
    "start_time": "2022-04-24T09:21:35.718Z"
   },
   {
    "duration": 258,
    "start_time": "2022-04-24T09:21:35.805Z"
   },
   {
    "duration": 1041,
    "start_time": "2022-04-24T09:21:36.065Z"
   },
   {
    "duration": 4255,
    "start_time": "2022-04-24T09:21:37.111Z"
   },
   {
    "duration": 3,
    "start_time": "2022-04-24T09:21:41.368Z"
   },
   {
    "duration": 918,
    "start_time": "2022-04-24T09:21:41.373Z"
   },
   {
    "duration": 11,
    "start_time": "2022-04-24T09:21:42.293Z"
   },
   {
    "duration": 5,
    "start_time": "2022-04-24T09:21:42.306Z"
   },
   {
    "duration": 6,
    "start_time": "2022-04-24T09:21:42.313Z"
   },
   {
    "duration": 2681,
    "start_time": "2022-04-24T09:21:42.321Z"
   },
   {
    "duration": 6706,
    "start_time": "2022-04-24T09:21:45.004Z"
   },
   {
    "duration": 2,
    "start_time": "2022-04-24T09:21:51.712Z"
   },
   {
    "duration": 10,
    "start_time": "2022-04-24T09:21:51.716Z"
   },
   {
    "duration": 8,
    "start_time": "2022-04-24T09:22:05.236Z"
   },
   {
    "duration": 1649,
    "start_time": "2022-04-24T09:22:11.579Z"
   },
   {
    "duration": 726,
    "start_time": "2022-04-24T09:22:13.229Z"
   },
   {
    "duration": 59,
    "start_time": "2022-04-24T09:22:13.956Z"
   },
   {
    "duration": 3,
    "start_time": "2022-04-24T09:22:14.017Z"
   },
   {
    "duration": 16,
    "start_time": "2022-04-24T09:22:14.022Z"
   },
   {
    "duration": 258,
    "start_time": "2022-04-24T09:22:14.039Z"
   },
   {
    "duration": 5,
    "start_time": "2022-04-24T09:22:14.305Z"
   },
   {
    "duration": 19,
    "start_time": "2022-04-24T09:22:14.312Z"
   },
   {
    "duration": 7,
    "start_time": "2022-04-24T09:22:14.333Z"
   },
   {
    "duration": 5,
    "start_time": "2022-04-24T09:22:14.341Z"
   },
   {
    "duration": 6,
    "start_time": "2022-04-24T09:22:14.347Z"
   },
   {
    "duration": 73,
    "start_time": "2022-04-24T09:22:14.354Z"
   },
   {
    "duration": 5,
    "start_time": "2022-04-24T09:22:14.429Z"
   },
   {
    "duration": 7,
    "start_time": "2022-04-24T09:22:14.437Z"
   },
   {
    "duration": 6,
    "start_time": "2022-04-24T09:22:14.445Z"
   },
   {
    "duration": 7,
    "start_time": "2022-04-24T09:22:14.452Z"
   },
   {
    "duration": 13,
    "start_time": "2022-04-24T09:22:14.460Z"
   },
   {
    "duration": 7,
    "start_time": "2022-04-24T09:22:14.474Z"
   },
   {
    "duration": 5,
    "start_time": "2022-04-24T09:22:14.502Z"
   },
   {
    "duration": 586,
    "start_time": "2022-04-24T09:22:14.509Z"
   },
   {
    "duration": 13,
    "start_time": "2022-04-24T09:22:15.096Z"
   },
   {
    "duration": 898,
    "start_time": "2022-04-24T09:22:15.111Z"
   },
   {
    "duration": 503,
    "start_time": "2022-04-24T09:22:16.011Z"
   },
   {
    "duration": 3,
    "start_time": "2022-04-24T09:22:16.517Z"
   },
   {
    "duration": 69,
    "start_time": "2022-04-24T09:22:16.521Z"
   },
   {
    "duration": 173,
    "start_time": "2022-04-24T09:22:16.591Z"
   },
   {
    "duration": 1045,
    "start_time": "2022-04-24T09:22:16.766Z"
   },
   {
    "duration": 3,
    "start_time": "2022-04-24T09:22:17.813Z"
   },
   {
    "duration": 9,
    "start_time": "2022-04-24T09:22:17.818Z"
   },
   {
    "duration": 927,
    "start_time": "2022-04-24T09:22:17.828Z"
   },
   {
    "duration": 8,
    "start_time": "2022-04-24T09:22:18.757Z"
   },
   {
    "duration": 6,
    "start_time": "2022-04-24T09:22:18.766Z"
   },
   {
    "duration": 6,
    "start_time": "2022-04-24T09:22:18.773Z"
   },
   {
    "duration": 2323,
    "start_time": "2022-04-24T09:22:18.780Z"
   },
   {
    "duration": 6613,
    "start_time": "2022-04-24T09:22:21.107Z"
   },
   {
    "duration": 3,
    "start_time": "2022-04-24T09:22:27.722Z"
   },
   {
    "duration": 7,
    "start_time": "2022-04-24T09:23:03.201Z"
   },
   {
    "duration": 8146,
    "start_time": "2022-04-24T09:23:55.142Z"
   },
   {
    "duration": 71,
    "start_time": "2022-04-24T09:24:11.238Z"
   },
   {
    "duration": 333,
    "start_time": "2022-04-24T09:24:13.077Z"
   },
   {
    "duration": 5400,
    "start_time": "2022-04-24T09:25:28.890Z"
   },
   {
    "duration": 139,
    "start_time": "2022-04-24T09:25:35.850Z"
   },
   {
    "duration": 328,
    "start_time": "2022-04-24T09:25:37.889Z"
   },
   {
    "duration": 7,
    "start_time": "2022-04-24T09:25:47.385Z"
   },
   {
    "duration": 8254,
    "start_time": "2022-04-24T09:26:03.032Z"
   },
   {
    "duration": 132,
    "start_time": "2022-04-24T09:26:12.823Z"
   },
   {
    "duration": 333,
    "start_time": "2022-04-24T09:26:15.967Z"
   },
   {
    "duration": 5,
    "start_time": "2022-04-24T09:26:18.735Z"
   },
   {
    "duration": 3,
    "start_time": "2022-04-24T09:26:32.390Z"
   },
   {
    "duration": 70,
    "start_time": "2022-04-24T09:26:34.014Z"
   },
   {
    "duration": 193,
    "start_time": "2022-04-24T09:26:35.814Z"
   },
   {
    "duration": 142,
    "start_time": "2022-04-24T09:26:42.557Z"
   },
   {
    "duration": 1542,
    "start_time": "2022-04-24T09:26:57.110Z"
   },
   {
    "duration": 646,
    "start_time": "2022-04-24T09:26:58.654Z"
   },
   {
    "duration": 35,
    "start_time": "2022-04-24T09:26:59.302Z"
   },
   {
    "duration": 4,
    "start_time": "2022-04-24T09:26:59.339Z"
   },
   {
    "duration": 17,
    "start_time": "2022-04-24T09:26:59.344Z"
   },
   {
    "duration": 241,
    "start_time": "2022-04-24T09:26:59.363Z"
   },
   {
    "duration": 3,
    "start_time": "2022-04-24T09:26:59.606Z"
   },
   {
    "duration": 18,
    "start_time": "2022-04-24T09:26:59.610Z"
   },
   {
    "duration": 9,
    "start_time": "2022-04-24T09:26:59.630Z"
   },
   {
    "duration": 6,
    "start_time": "2022-04-24T09:26:59.641Z"
   },
   {
    "duration": 8,
    "start_time": "2022-04-24T09:26:59.649Z"
   },
   {
    "duration": 76,
    "start_time": "2022-04-24T09:26:59.658Z"
   },
   {
    "duration": 8,
    "start_time": "2022-04-24T09:26:59.736Z"
   },
   {
    "duration": 9,
    "start_time": "2022-04-24T09:26:59.746Z"
   },
   {
    "duration": 6,
    "start_time": "2022-04-24T09:26:59.757Z"
   },
   {
    "duration": 7,
    "start_time": "2022-04-24T09:26:59.765Z"
   },
   {
    "duration": 5,
    "start_time": "2022-04-24T09:26:59.774Z"
   },
   {
    "duration": 21,
    "start_time": "2022-04-24T09:26:59.780Z"
   },
   {
    "duration": 6,
    "start_time": "2022-04-24T09:26:59.803Z"
   },
   {
    "duration": 812,
    "start_time": "2022-04-24T09:26:59.811Z"
   },
   {
    "duration": 8,
    "start_time": "2022-04-24T09:27:00.625Z"
   },
   {
    "duration": 1487,
    "start_time": "2022-04-24T09:27:00.635Z"
   },
   {
    "duration": 818,
    "start_time": "2022-04-24T09:27:02.124Z"
   },
   {
    "duration": 3,
    "start_time": "2022-04-24T09:27:02.945Z"
   },
   {
    "duration": 156,
    "start_time": "2022-04-24T09:27:02.950Z"
   },
   {
    "duration": 266,
    "start_time": "2022-04-24T09:27:03.108Z"
   },
   {
    "duration": 878,
    "start_time": "2022-04-24T09:27:03.376Z"
   },
   {
    "duration": 2,
    "start_time": "2022-04-24T09:27:04.258Z"
   },
   {
    "duration": 6,
    "start_time": "2022-04-24T09:27:04.262Z"
   },
   {
    "duration": 83,
    "start_time": "2022-04-24T09:27:04.270Z"
   },
   {
    "duration": 875,
    "start_time": "2022-04-24T09:27:04.354Z"
   },
   {
    "duration": 7,
    "start_time": "2022-04-24T09:27:05.231Z"
   },
   {
    "duration": 4,
    "start_time": "2022-04-24T09:27:05.240Z"
   },
   {
    "duration": 7,
    "start_time": "2022-04-24T09:27:05.246Z"
   },
   {
    "duration": 3254,
    "start_time": "2022-04-24T09:27:05.255Z"
   },
   {
    "duration": 6512,
    "start_time": "2022-04-24T09:27:08.511Z"
   },
   {
    "duration": 2,
    "start_time": "2022-04-24T09:27:15.025Z"
   },
   {
    "duration": 13,
    "start_time": "2022-04-24T09:27:38.286Z"
   },
   {
    "duration": 5117,
    "start_time": "2022-04-24T09:28:24.363Z"
   },
   {
    "duration": 4878,
    "start_time": "2022-04-24T09:29:45.543Z"
   },
   {
    "duration": 13,
    "start_time": "2022-04-24T09:30:26.925Z"
   },
   {
    "duration": 14,
    "start_time": "2022-04-24T09:30:33.693Z"
   },
   {
    "duration": 3171,
    "start_time": "2022-04-24T09:32:01.792Z"
   },
   {
    "duration": 7,
    "start_time": "2022-04-24T09:32:07.344Z"
   },
   {
    "duration": 7,
    "start_time": "2022-04-24T09:32:24.511Z"
   },
   {
    "duration": 5,
    "start_time": "2022-04-24T09:32:28.671Z"
   },
   {
    "duration": 10,
    "start_time": "2022-04-24T09:32:35.710Z"
   },
   {
    "duration": 5,
    "start_time": "2022-04-24T09:32:38.718Z"
   },
   {
    "duration": 4995,
    "start_time": "2022-04-24T09:35:37.694Z"
   },
   {
    "duration": 4,
    "start_time": "2022-04-24T09:36:34.476Z"
   },
   {
    "duration": 11,
    "start_time": "2022-04-24T09:36:53.545Z"
   },
   {
    "duration": 35,
    "start_time": "2022-04-24T09:48:32.423Z"
   },
   {
    "duration": 7,
    "start_time": "2022-04-24T09:49:13.510Z"
   },
   {
    "duration": 35,
    "start_time": "2022-04-24T09:51:11.594Z"
   },
   {
    "duration": 1544,
    "start_time": "2022-04-24T09:51:30.420Z"
   },
   {
    "duration": 675,
    "start_time": "2022-04-24T09:51:31.967Z"
   },
   {
    "duration": 36,
    "start_time": "2022-04-24T09:51:32.644Z"
   },
   {
    "duration": 3,
    "start_time": "2022-04-24T09:51:32.682Z"
   },
   {
    "duration": 14,
    "start_time": "2022-04-24T09:51:32.702Z"
   },
   {
    "duration": 242,
    "start_time": "2022-04-24T09:51:32.718Z"
   },
   {
    "duration": 2,
    "start_time": "2022-04-24T09:51:32.962Z"
   },
   {
    "duration": 15,
    "start_time": "2022-04-24T09:51:32.966Z"
   },
   {
    "duration": 19,
    "start_time": "2022-04-24T09:51:32.982Z"
   },
   {
    "duration": 6,
    "start_time": "2022-04-24T09:51:33.002Z"
   },
   {
    "duration": 11,
    "start_time": "2022-04-24T09:51:33.009Z"
   },
   {
    "duration": 36,
    "start_time": "2022-04-24T09:51:33.021Z"
   },
   {
    "duration": 6,
    "start_time": "2022-04-24T09:51:33.059Z"
   },
   {
    "duration": 35,
    "start_time": "2022-04-24T09:51:33.067Z"
   },
   {
    "duration": 7,
    "start_time": "2022-04-24T09:51:33.104Z"
   },
   {
    "duration": 5,
    "start_time": "2022-04-24T09:51:33.112Z"
   },
   {
    "duration": 6,
    "start_time": "2022-04-24T09:51:33.118Z"
   },
   {
    "duration": 4,
    "start_time": "2022-04-24T09:51:33.125Z"
   },
   {
    "duration": 6,
    "start_time": "2022-04-24T09:51:33.130Z"
   },
   {
    "duration": 499,
    "start_time": "2022-04-24T09:51:33.137Z"
   },
   {
    "duration": 6,
    "start_time": "2022-04-24T09:51:33.637Z"
   },
   {
    "duration": 845,
    "start_time": "2022-04-24T09:51:33.645Z"
   },
   {
    "duration": 474,
    "start_time": "2022-04-24T09:51:34.492Z"
   },
   {
    "duration": 2,
    "start_time": "2022-04-24T09:51:34.968Z"
   },
   {
    "duration": 83,
    "start_time": "2022-04-24T09:51:34.972Z"
   },
   {
    "duration": 166,
    "start_time": "2022-04-24T09:51:35.056Z"
   },
   {
    "duration": 895,
    "start_time": "2022-04-24T09:51:35.224Z"
   },
   {
    "duration": 2,
    "start_time": "2022-04-24T09:51:36.121Z"
   },
   {
    "duration": 85,
    "start_time": "2022-04-24T09:51:36.125Z"
   },
   {
    "duration": 851,
    "start_time": "2022-04-24T09:51:36.212Z"
   },
   {
    "duration": 3,
    "start_time": "2022-04-24T09:51:37.065Z"
   },
   {
    "duration": 144,
    "start_time": "2022-04-24T09:51:37.070Z"
   },
   {
    "duration": 0,
    "start_time": "2022-04-24T09:51:37.216Z"
   },
   {
    "duration": 0,
    "start_time": "2022-04-24T09:51:37.218Z"
   },
   {
    "duration": 0,
    "start_time": "2022-04-24T09:51:37.219Z"
   },
   {
    "duration": 0,
    "start_time": "2022-04-24T09:51:37.220Z"
   },
   {
    "duration": 0,
    "start_time": "2022-04-24T09:51:37.221Z"
   },
   {
    "duration": 0,
    "start_time": "2022-04-24T09:51:37.223Z"
   },
   {
    "duration": 33,
    "start_time": "2022-04-24T09:51:56.803Z"
   },
   {
    "duration": 10,
    "start_time": "2022-04-24T09:52:27.370Z"
   },
   {
    "duration": 9,
    "start_time": "2022-04-24T09:52:52.974Z"
   },
   {
    "duration": 34,
    "start_time": "2022-04-24T09:52:58.319Z"
   },
   {
    "duration": 34,
    "start_time": "2022-04-24T09:53:14.631Z"
   },
   {
    "duration": 6,
    "start_time": "2022-04-24T09:54:28.985Z"
   },
   {
    "duration": 36,
    "start_time": "2022-04-24T09:54:38.099Z"
   },
   {
    "duration": 42,
    "start_time": "2022-04-24T09:54:49.667Z"
   },
   {
    "duration": 40,
    "start_time": "2022-04-24T09:54:53.272Z"
   },
   {
    "duration": 37,
    "start_time": "2022-04-24T09:55:01.009Z"
   },
   {
    "duration": 185,
    "start_time": "2022-04-24T10:00:22.888Z"
   },
   {
    "duration": 216,
    "start_time": "2022-04-24T10:00:36.704Z"
   },
   {
    "duration": 197,
    "start_time": "2022-04-24T10:00:52.742Z"
   },
   {
    "duration": 205,
    "start_time": "2022-04-24T10:00:58.143Z"
   },
   {
    "duration": 184,
    "start_time": "2022-04-24T10:01:36.557Z"
   },
   {
    "duration": 209,
    "start_time": "2022-04-24T10:02:25.010Z"
   },
   {
    "duration": 195,
    "start_time": "2022-04-24T10:02:42.818Z"
   },
   {
    "duration": 193,
    "start_time": "2022-04-24T10:02:52.681Z"
   },
   {
    "duration": 1536,
    "start_time": "2022-04-24T10:03:15.482Z"
   },
   {
    "duration": 674,
    "start_time": "2022-04-24T10:03:17.020Z"
   },
   {
    "duration": 40,
    "start_time": "2022-04-24T10:03:17.696Z"
   },
   {
    "duration": 4,
    "start_time": "2022-04-24T10:03:17.738Z"
   },
   {
    "duration": 17,
    "start_time": "2022-04-24T10:03:17.744Z"
   },
   {
    "duration": 267,
    "start_time": "2022-04-24T10:03:17.763Z"
   },
   {
    "duration": 3,
    "start_time": "2022-04-24T10:03:18.032Z"
   },
   {
    "duration": 16,
    "start_time": "2022-04-24T10:03:18.037Z"
   },
   {
    "duration": 8,
    "start_time": "2022-04-24T10:03:18.054Z"
   },
   {
    "duration": 6,
    "start_time": "2022-04-24T10:03:18.063Z"
   },
   {
    "duration": 34,
    "start_time": "2022-04-24T10:03:18.070Z"
   },
   {
    "duration": 37,
    "start_time": "2022-04-24T10:03:18.106Z"
   },
   {
    "duration": 6,
    "start_time": "2022-04-24T10:03:18.145Z"
   },
   {
    "duration": 16,
    "start_time": "2022-04-24T10:03:18.154Z"
   },
   {
    "duration": 5,
    "start_time": "2022-04-24T10:03:18.172Z"
   },
   {
    "duration": 23,
    "start_time": "2022-04-24T10:03:18.179Z"
   },
   {
    "duration": 8,
    "start_time": "2022-04-24T10:03:18.204Z"
   },
   {
    "duration": 17,
    "start_time": "2022-04-24T10:03:18.213Z"
   },
   {
    "duration": 8,
    "start_time": "2022-04-24T10:03:18.231Z"
   },
   {
    "duration": 484,
    "start_time": "2022-04-24T10:03:18.240Z"
   },
   {
    "duration": 7,
    "start_time": "2022-04-24T10:03:18.726Z"
   },
   {
    "duration": 830,
    "start_time": "2022-04-24T10:03:18.735Z"
   },
   {
    "duration": 451,
    "start_time": "2022-04-24T10:03:19.567Z"
   },
   {
    "duration": 3,
    "start_time": "2022-04-24T10:03:20.020Z"
   },
   {
    "duration": 86,
    "start_time": "2022-04-24T10:03:20.024Z"
   },
   {
    "duration": 160,
    "start_time": "2022-04-24T10:03:20.111Z"
   },
   {
    "duration": 967,
    "start_time": "2022-04-24T10:03:20.273Z"
   },
   {
    "duration": 2,
    "start_time": "2022-04-24T10:03:21.242Z"
   },
   {
    "duration": 82,
    "start_time": "2022-04-24T10:03:21.246Z"
   },
   {
    "duration": 847,
    "start_time": "2022-04-24T10:03:21.329Z"
   },
   {
    "duration": 2,
    "start_time": "2022-04-24T10:03:22.178Z"
   },
   {
    "duration": 170,
    "start_time": "2022-04-24T10:03:22.182Z"
   },
   {
    "duration": 0,
    "start_time": "2022-04-24T10:03:22.353Z"
   },
   {
    "duration": 0,
    "start_time": "2022-04-24T10:03:22.355Z"
   },
   {
    "duration": 0,
    "start_time": "2022-04-24T10:03:22.356Z"
   },
   {
    "duration": 0,
    "start_time": "2022-04-24T10:03:22.357Z"
   },
   {
    "duration": 0,
    "start_time": "2022-04-24T10:03:22.360Z"
   },
   {
    "duration": 0,
    "start_time": "2022-04-24T10:03:22.361Z"
   },
   {
    "duration": 180,
    "start_time": "2022-04-24T10:03:34.787Z"
   },
   {
    "duration": 172,
    "start_time": "2022-04-24T10:03:40.618Z"
   },
   {
    "duration": 241,
    "start_time": "2022-04-24T10:04:02.954Z"
   },
   {
    "duration": 180,
    "start_time": "2022-04-24T10:04:10.818Z"
   },
   {
    "duration": 193,
    "start_time": "2022-04-24T10:04:27.336Z"
   },
   {
    "duration": 185,
    "start_time": "2022-04-24T10:05:40.813Z"
   },
   {
    "duration": 190,
    "start_time": "2022-04-24T10:06:07.946Z"
   },
   {
    "duration": 44,
    "start_time": "2022-04-24T10:06:18.754Z"
   },
   {
    "duration": 65,
    "start_time": "2022-04-24T10:07:05.233Z"
   },
   {
    "duration": 21,
    "start_time": "2022-04-24T10:07:31.840Z"
   },
   {
    "duration": 8,
    "start_time": "2022-04-24T10:07:38.247Z"
   },
   {
    "duration": 7,
    "start_time": "2022-04-24T10:07:47.765Z"
   },
   {
    "duration": 26,
    "start_time": "2022-04-24T10:08:23.109Z"
   },
   {
    "duration": 66,
    "start_time": "2022-04-24T10:08:27.628Z"
   },
   {
    "duration": 666,
    "start_time": "2022-04-24T10:08:29.380Z"
   },
   {
    "duration": 20,
    "start_time": "2022-04-24T10:09:09.930Z"
   },
   {
    "duration": 122,
    "start_time": "2022-04-24T10:09:21.402Z"
   },
   {
    "duration": 191,
    "start_time": "2022-04-24T10:10:20.432Z"
   },
   {
    "duration": 36,
    "start_time": "2022-04-24T10:10:24.511Z"
   },
   {
    "duration": 184,
    "start_time": "2022-04-24T10:10:38.223Z"
   },
   {
    "duration": 10,
    "start_time": "2022-04-24T10:10:43.086Z"
   },
   {
    "duration": 1619,
    "start_time": "2022-04-24T10:12:32.262Z"
   },
   {
    "duration": 663,
    "start_time": "2022-04-24T10:12:33.883Z"
   },
   {
    "duration": 38,
    "start_time": "2022-04-24T10:12:34.548Z"
   },
   {
    "duration": 3,
    "start_time": "2022-04-24T10:12:34.601Z"
   },
   {
    "duration": 16,
    "start_time": "2022-04-24T10:12:34.606Z"
   },
   {
    "duration": 244,
    "start_time": "2022-04-24T10:12:34.623Z"
   },
   {
    "duration": 4,
    "start_time": "2022-04-24T10:12:34.869Z"
   },
   {
    "duration": 27,
    "start_time": "2022-04-24T10:12:34.874Z"
   },
   {
    "duration": 6,
    "start_time": "2022-04-24T10:12:34.903Z"
   },
   {
    "duration": 5,
    "start_time": "2022-04-24T10:12:34.912Z"
   },
   {
    "duration": 5,
    "start_time": "2022-04-24T10:12:34.919Z"
   },
   {
    "duration": 36,
    "start_time": "2022-04-24T10:12:34.926Z"
   },
   {
    "duration": 6,
    "start_time": "2022-04-24T10:12:35.000Z"
   },
   {
    "duration": 10,
    "start_time": "2022-04-24T10:12:35.008Z"
   },
   {
    "duration": 10,
    "start_time": "2022-04-24T10:12:35.020Z"
   },
   {
    "duration": 6,
    "start_time": "2022-04-24T10:12:35.032Z"
   },
   {
    "duration": 5,
    "start_time": "2022-04-24T10:12:35.040Z"
   },
   {
    "duration": 5,
    "start_time": "2022-04-24T10:12:35.047Z"
   },
   {
    "duration": 5,
    "start_time": "2022-04-24T10:12:35.053Z"
   },
   {
    "duration": 494,
    "start_time": "2022-04-24T10:12:35.059Z"
   },
   {
    "duration": 5,
    "start_time": "2022-04-24T10:12:35.555Z"
   },
   {
    "duration": 814,
    "start_time": "2022-04-24T10:12:35.562Z"
   },
   {
    "duration": 538,
    "start_time": "2022-04-24T10:12:36.378Z"
   },
   {
    "duration": 2,
    "start_time": "2022-04-24T10:12:36.918Z"
   },
   {
    "duration": 81,
    "start_time": "2022-04-24T10:12:36.921Z"
   },
   {
    "duration": 155,
    "start_time": "2022-04-24T10:12:37.004Z"
   },
   {
    "duration": 839,
    "start_time": "2022-04-24T10:12:37.161Z"
   },
   {
    "duration": 21,
    "start_time": "2022-04-24T10:12:38.003Z"
   },
   {
    "duration": 20,
    "start_time": "2022-04-24T10:12:38.025Z"
   },
   {
    "duration": 10,
    "start_time": "2022-04-24T10:12:38.047Z"
   },
   {
    "duration": 91,
    "start_time": "2022-04-24T10:12:38.058Z"
   },
   {
    "duration": 761,
    "start_time": "2022-04-24T10:12:38.150Z"
   },
   {
    "duration": 3,
    "start_time": "2022-04-24T10:12:38.912Z"
   },
   {
    "duration": 5,
    "start_time": "2022-04-24T10:12:38.917Z"
   },
   {
    "duration": 2481,
    "start_time": "2022-04-24T10:12:38.924Z"
   },
   {
    "duration": 6293,
    "start_time": "2022-04-24T10:12:41.407Z"
   },
   {
    "duration": 3,
    "start_time": "2022-04-24T10:12:47.701Z"
   },
   {
    "duration": 895,
    "start_time": "2022-04-24T10:15:35.315Z"
   },
   {
    "duration": 104,
    "start_time": "2022-04-24T10:19:20.329Z"
   },
   {
    "duration": 216,
    "start_time": "2022-04-24T10:19:54.574Z"
   },
   {
    "duration": 226,
    "start_time": "2022-04-24T10:25:54.484Z"
   },
   {
    "duration": 19,
    "start_time": "2022-04-24T10:26:47.042Z"
   },
   {
    "duration": 220,
    "start_time": "2022-04-24T10:27:25.895Z"
   },
   {
    "duration": 39,
    "start_time": "2022-04-24T10:27:28.176Z"
   },
   {
    "duration": 3,
    "start_time": "2022-04-24T10:29:10.050Z"
   },
   {
    "duration": 3,
    "start_time": "2022-04-24T10:29:22.617Z"
   },
   {
    "duration": 217,
    "start_time": "2022-04-24T10:29:26.137Z"
   },
   {
    "duration": 3,
    "start_time": "2022-04-24T10:29:27.185Z"
   },
   {
    "duration": 9,
    "start_time": "2022-04-24T10:29:28.257Z"
   },
   {
    "duration": 873,
    "start_time": "2022-04-24T10:29:32.121Z"
   },
   {
    "duration": 221,
    "start_time": "2022-04-24T10:29:37.096Z"
   },
   {
    "duration": 3,
    "start_time": "2022-04-24T10:29:38.641Z"
   },
   {
    "duration": 10,
    "start_time": "2022-04-24T10:29:39.784Z"
   },
   {
    "duration": 961,
    "start_time": "2022-04-24T10:31:39.546Z"
   },
   {
    "duration": 890,
    "start_time": "2022-04-24T10:31:54.882Z"
   },
   {
    "duration": 3,
    "start_time": "2022-04-24T10:42:21.227Z"
   },
   {
    "duration": 3777,
    "start_time": "2022-04-24T10:42:25.223Z"
   },
   {
    "duration": 6677,
    "start_time": "2022-04-24T10:42:34.323Z"
   },
   {
    "duration": 1001,
    "start_time": "2022-04-24T10:42:47.115Z"
   },
   {
    "duration": 4,
    "start_time": "2022-04-24T10:43:03.153Z"
   },
   {
    "duration": 2992,
    "start_time": "2022-04-24T10:43:05.617Z"
   },
   {
    "duration": 6433,
    "start_time": "2022-04-24T10:43:11.697Z"
   },
   {
    "duration": 4,
    "start_time": "2022-04-24T10:44:29.493Z"
   },
   {
    "duration": 3914,
    "start_time": "2022-04-24T10:44:30.997Z"
   },
   {
    "duration": 3,
    "start_time": "2022-04-24T10:44:46.916Z"
   },
   {
    "duration": 3106,
    "start_time": "2022-04-24T10:44:48.996Z"
   },
   {
    "duration": 3,
    "start_time": "2022-04-24T10:47:46.796Z"
   },
   {
    "duration": 3,
    "start_time": "2022-04-24T10:51:34.640Z"
   },
   {
    "duration": 2240,
    "start_time": "2022-04-24T10:52:47.876Z"
   },
   {
    "duration": 3,
    "start_time": "2022-04-24T10:56:28.770Z"
   },
   {
    "duration": 3,
    "start_time": "2022-04-24T10:56:32.113Z"
   },
   {
    "duration": 2174,
    "start_time": "2022-04-24T10:57:51.030Z"
   },
   {
    "duration": 1344,
    "start_time": "2022-04-24T11:01:07.956Z"
   },
   {
    "duration": 4,
    "start_time": "2022-04-24T11:03:04.390Z"
   },
   {
    "duration": 2,
    "start_time": "2022-04-24T11:03:34.637Z"
   },
   {
    "duration": 3,
    "start_time": "2022-04-24T11:03:43.979Z"
   },
   {
    "duration": 17,
    "start_time": "2022-04-24T11:06:41.820Z"
   },
   {
    "duration": 198,
    "start_time": "2022-04-24T11:08:47.413Z"
   },
   {
    "duration": 1000,
    "start_time": "2022-04-24T11:08:57.501Z"
   },
   {
    "duration": 1248,
    "start_time": "2022-04-24T11:11:55.052Z"
   },
   {
    "duration": 3,
    "start_time": "2022-04-24T11:16:24.367Z"
   },
   {
    "duration": 3,
    "start_time": "2022-04-24T11:17:15.955Z"
   },
   {
    "duration": 21,
    "start_time": "2022-04-24T11:18:36.911Z"
   },
   {
    "duration": 10,
    "start_time": "2022-04-24T11:18:52.959Z"
   },
   {
    "duration": 197,
    "start_time": "2022-04-24T11:19:12.021Z"
   },
   {
    "duration": 13,
    "start_time": "2022-04-24T11:19:15.864Z"
   },
   {
    "duration": 3,
    "start_time": "2022-04-24T11:19:37.901Z"
   },
   {
    "duration": 20,
    "start_time": "2022-04-24T11:19:40.069Z"
   },
   {
    "duration": 3,
    "start_time": "2022-04-24T11:19:55.988Z"
   },
   {
    "duration": 19,
    "start_time": "2022-04-24T11:19:58.149Z"
   },
   {
    "duration": 19,
    "start_time": "2022-04-24T11:20:44.604Z"
   },
   {
    "duration": 9,
    "start_time": "2022-04-24T11:20:52.746Z"
   },
   {
    "duration": 9,
    "start_time": "2022-04-24T11:20:58.200Z"
   },
   {
    "duration": 3,
    "start_time": "2022-04-24T11:22:30.996Z"
   },
   {
    "duration": 8,
    "start_time": "2022-04-24T11:22:33.324Z"
   },
   {
    "duration": 2,
    "start_time": "2022-04-24T11:22:38.820Z"
   },
   {
    "duration": 1083,
    "start_time": "2022-04-24T11:22:41.619Z"
   },
   {
    "duration": 1718,
    "start_time": "2022-04-24T11:27:00.384Z"
   },
   {
    "duration": 9,
    "start_time": "2022-04-24T11:27:30.621Z"
   },
   {
    "duration": 9,
    "start_time": "2022-04-24T11:27:40.381Z"
   },
   {
    "duration": 1572,
    "start_time": "2022-04-24T11:28:59.329Z"
   },
   {
    "duration": 1322,
    "start_time": "2022-04-24T11:37:00.881Z"
   },
   {
    "duration": 2,
    "start_time": "2022-04-24T11:37:11.801Z"
   },
   {
    "duration": 15,
    "start_time": "2022-04-24T11:37:42.087Z"
   },
   {
    "duration": 1375,
    "start_time": "2022-04-24T11:37:45.135Z"
   },
   {
    "duration": 5,
    "start_time": "2022-04-24T11:38:58.723Z"
   },
   {
    "duration": 1324,
    "start_time": "2022-04-24T11:39:01.275Z"
   },
   {
    "duration": 1224,
    "start_time": "2022-04-24T11:39:17.290Z"
   },
   {
    "duration": 1346,
    "start_time": "2022-04-24T11:41:35.661Z"
   },
   {
    "duration": 1362,
    "start_time": "2022-04-24T11:42:02.546Z"
   },
   {
    "duration": 1080,
    "start_time": "2022-04-24T11:42:28.521Z"
   },
   {
    "duration": 3,
    "start_time": "2022-04-24T11:44:40.420Z"
   },
   {
    "duration": 2,
    "start_time": "2022-04-24T11:44:51.738Z"
   },
   {
    "duration": 230,
    "start_time": "2022-04-24T11:44:58.361Z"
   },
   {
    "duration": 3,
    "start_time": "2022-04-24T11:45:12.177Z"
   },
   {
    "duration": 4,
    "start_time": "2022-04-24T11:51:49.781Z"
   },
   {
    "duration": 4,
    "start_time": "2022-04-24T11:52:54.186Z"
   },
   {
    "duration": 8,
    "start_time": "2022-04-24T11:55:08.900Z"
   },
   {
    "duration": 6,
    "start_time": "2022-04-24T11:55:30.771Z"
   },
   {
    "duration": 3,
    "start_time": "2022-04-24T12:55:08.504Z"
   },
   {
    "duration": 4,
    "start_time": "2022-04-24T12:56:02.861Z"
   },
   {
    "duration": 3,
    "start_time": "2022-04-24T12:56:39.772Z"
   },
   {
    "duration": 8,
    "start_time": "2022-04-24T12:57:49.265Z"
   },
   {
    "duration": 1538,
    "start_time": "2022-04-24T12:57:54.464Z"
   },
   {
    "duration": 1488,
    "start_time": "2022-04-24T12:59:03.275Z"
   },
   {
    "duration": 664,
    "start_time": "2022-04-24T12:59:04.764Z"
   },
   {
    "duration": 34,
    "start_time": "2022-04-24T12:59:05.430Z"
   },
   {
    "duration": 3,
    "start_time": "2022-04-24T12:59:05.465Z"
   },
   {
    "duration": 34,
    "start_time": "2022-04-24T12:59:05.470Z"
   },
   {
    "duration": 216,
    "start_time": "2022-04-24T12:59:05.505Z"
   },
   {
    "duration": 4,
    "start_time": "2022-04-24T12:59:05.723Z"
   },
   {
    "duration": 15,
    "start_time": "2022-04-24T12:59:05.728Z"
   },
   {
    "duration": 7,
    "start_time": "2022-04-24T12:59:05.744Z"
   },
   {
    "duration": 7,
    "start_time": "2022-04-24T12:59:05.752Z"
   },
   {
    "duration": 6,
    "start_time": "2022-04-24T12:59:05.760Z"
   },
   {
    "duration": 66,
    "start_time": "2022-04-24T12:59:05.767Z"
   },
   {
    "duration": 5,
    "start_time": "2022-04-24T12:59:05.834Z"
   },
   {
    "duration": 15,
    "start_time": "2022-04-24T12:59:05.842Z"
   },
   {
    "duration": 6,
    "start_time": "2022-04-24T12:59:05.859Z"
   },
   {
    "duration": 9,
    "start_time": "2022-04-24T12:59:05.867Z"
   },
   {
    "duration": 6,
    "start_time": "2022-04-24T12:59:05.877Z"
   },
   {
    "duration": 16,
    "start_time": "2022-04-24T12:59:05.884Z"
   },
   {
    "duration": 4,
    "start_time": "2022-04-24T12:59:05.901Z"
   },
   {
    "duration": 464,
    "start_time": "2022-04-24T12:59:05.906Z"
   },
   {
    "duration": 5,
    "start_time": "2022-04-24T12:59:06.372Z"
   },
   {
    "duration": 902,
    "start_time": "2022-04-24T12:59:06.379Z"
   },
   {
    "duration": 445,
    "start_time": "2022-04-24T12:59:07.283Z"
   },
   {
    "duration": 3,
    "start_time": "2022-04-24T12:59:07.729Z"
   },
   {
    "duration": 82,
    "start_time": "2022-04-24T12:59:07.734Z"
   },
   {
    "duration": 152,
    "start_time": "2022-04-24T12:59:07.818Z"
   },
   {
    "duration": 843,
    "start_time": "2022-04-24T12:59:07.972Z"
   },
   {
    "duration": 22,
    "start_time": "2022-04-24T12:59:08.817Z"
   },
   {
    "duration": 30,
    "start_time": "2022-04-24T12:59:08.841Z"
   },
   {
    "duration": 37,
    "start_time": "2022-04-24T12:59:08.872Z"
   },
   {
    "duration": 65,
    "start_time": "2022-04-24T12:59:08.911Z"
   },
   {
    "duration": 790,
    "start_time": "2022-04-24T12:59:08.977Z"
   },
   {
    "duration": 3,
    "start_time": "2022-04-24T12:59:09.768Z"
   },
   {
    "duration": 5,
    "start_time": "2022-04-24T12:59:09.772Z"
   },
   {
    "duration": 6,
    "start_time": "2022-04-24T12:59:09.778Z"
   },
   {
    "duration": 5,
    "start_time": "2022-04-24T12:59:09.801Z"
   },
   {
    "duration": 5,
    "start_time": "2022-04-24T12:59:09.807Z"
   },
   {
    "duration": 5,
    "start_time": "2022-04-24T12:59:09.813Z"
   },
   {
    "duration": 886,
    "start_time": "2022-04-24T12:59:09.819Z"
   },
   {
    "duration": 1194,
    "start_time": "2022-04-24T12:59:10.707Z"
   },
   {
    "duration": 3,
    "start_time": "2022-04-24T12:59:11.904Z"
   },
   {
    "duration": 5,
    "start_time": "2022-04-24T12:59:11.908Z"
   },
   {
    "duration": 4,
    "start_time": "2022-04-24T12:59:11.915Z"
   },
   {
    "duration": 9,
    "start_time": "2022-04-24T12:59:11.921Z"
   },
   {
    "duration": 6,
    "start_time": "2022-04-24T12:59:11.931Z"
   },
   {
    "duration": 64,
    "start_time": "2022-04-24T12:59:11.938Z"
   },
   {
    "duration": 6,
    "start_time": "2022-04-24T12:59:12.003Z"
   },
   {
    "duration": 7,
    "start_time": "2022-04-24T12:59:12.010Z"
   },
   {
    "duration": 1284,
    "start_time": "2022-04-24T12:59:12.018Z"
   },
   {
    "duration": 1498,
    "start_time": "2022-04-24T12:59:13.304Z"
   },
   {
    "duration": 281,
    "start_time": "2022-04-24T12:59:14.804Z"
   },
   {
    "duration": 3005,
    "start_time": "2022-04-24T13:00:50.697Z"
   },
   {
    "duration": 8,
    "start_time": "2022-04-24T13:01:22.712Z"
   },
   {
    "duration": 5,
    "start_time": "2022-04-24T13:01:27.167Z"
   },
   {
    "duration": 4,
    "start_time": "2022-04-24T13:02:12.661Z"
   },
   {
    "duration": 3,
    "start_time": "2022-04-24T13:02:33.972Z"
   },
   {
    "duration": 4,
    "start_time": "2022-04-24T13:03:05.851Z"
   },
   {
    "duration": 4,
    "start_time": "2022-04-24T13:03:10.146Z"
   },
   {
    "duration": 3,
    "start_time": "2022-04-24T13:03:44.649Z"
   },
   {
    "duration": 8,
    "start_time": "2022-04-24T13:04:29.854Z"
   },
   {
    "duration": 4,
    "start_time": "2022-04-24T13:06:43.184Z"
   },
   {
    "duration": 2776317,
    "start_time": "2022-04-24T13:07:38.053Z"
   },
   {
    "duration": 23,
    "start_time": "2022-04-24T13:53:54.378Z"
   },
   {
    "duration": 2,
    "start_time": "2022-04-24T13:53:54.402Z"
   },
   {
    "duration": 3,
    "start_time": "2022-04-24T13:55:06.727Z"
   },
   {
    "duration": 11,
    "start_time": "2022-04-24T13:55:18.239Z"
   },
   {
    "duration": 3,
    "start_time": "2022-04-24T13:55:34.871Z"
   },
   {
    "duration": 4,
    "start_time": "2022-04-24T13:55:36.718Z"
   },
   {
    "duration": 232,
    "start_time": "2022-04-24T13:55:54.901Z"
   },
   {
    "duration": 21,
    "start_time": "2022-04-24T13:55:58.485Z"
   },
   {
    "duration": 3,
    "start_time": "2022-04-24T13:56:59.130Z"
   },
   {
    "duration": 5,
    "start_time": "2022-04-24T14:02:45.200Z"
   },
   {
    "duration": 655,
    "start_time": "2022-04-24T14:02:48.976Z"
   },
   {
    "duration": 39,
    "start_time": "2022-04-24T14:02:51.080Z"
   },
   {
    "duration": 3,
    "start_time": "2022-04-24T14:02:56.232Z"
   },
   {
    "duration": 13,
    "start_time": "2022-04-24T14:02:58.648Z"
   },
   {
    "duration": 209,
    "start_time": "2022-04-24T14:03:01.417Z"
   },
   {
    "duration": 3,
    "start_time": "2022-04-24T14:03:03.527Z"
   },
   {
    "duration": 9,
    "start_time": "2022-04-24T14:03:04.440Z"
   },
   {
    "duration": 7,
    "start_time": "2022-04-24T14:03:05.736Z"
   },
   {
    "duration": 6,
    "start_time": "2022-04-24T14:03:06.944Z"
   },
   {
    "duration": 6,
    "start_time": "2022-04-24T14:03:21.567Z"
   },
   {
    "duration": 39,
    "start_time": "2022-04-24T14:03:25.887Z"
   },
   {
    "duration": 28,
    "start_time": "2022-04-24T14:03:35.254Z"
   },
   {
    "duration": 5,
    "start_time": "2022-04-24T14:04:02.357Z"
   },
   {
    "duration": 3,
    "start_time": "2022-04-24T14:04:05.844Z"
   },
   {
    "duration": 16,
    "start_time": "2022-04-24T14:04:26.109Z"
   },
   {
    "duration": 3731,
    "start_time": "2022-04-24T14:06:23.790Z"
   },
   {
    "duration": 12,
    "start_time": "2022-04-24T14:07:23.132Z"
   },
   {
    "duration": 4,
    "start_time": "2022-04-24T14:08:31.840Z"
   },
   {
    "duration": 634,
    "start_time": "2022-04-24T14:08:33.072Z"
   },
   {
    "duration": 35,
    "start_time": "2022-04-24T14:08:34.664Z"
   },
   {
    "duration": 3,
    "start_time": "2022-04-24T14:08:37.527Z"
   },
   {
    "duration": 14,
    "start_time": "2022-04-24T14:08:38.431Z"
   },
   {
    "duration": 233,
    "start_time": "2022-04-24T14:08:39.263Z"
   },
   {
    "duration": 3,
    "start_time": "2022-04-24T14:08:40.943Z"
   },
   {
    "duration": 9,
    "start_time": "2022-04-24T14:08:41.704Z"
   },
   {
    "duration": 7,
    "start_time": "2022-04-24T14:08:43.280Z"
   },
   {
    "duration": 6,
    "start_time": "2022-04-24T14:08:44.822Z"
   },
   {
    "duration": 5,
    "start_time": "2022-04-24T14:08:45.951Z"
   },
   {
    "duration": 6,
    "start_time": "2022-04-24T14:08:48.630Z"
   },
   {
    "duration": 3,
    "start_time": "2022-04-24T14:08:49.399Z"
   },
   {
    "duration": 17,
    "start_time": "2022-04-24T14:08:50.096Z"
   },
   {
    "duration": 19,
    "start_time": "2022-04-24T14:14:49.133Z"
   },
   {
    "duration": 15,
    "start_time": "2022-04-24T14:15:22.315Z"
   },
   {
    "duration": 30,
    "start_time": "2022-04-24T14:15:53.815Z"
   },
   {
    "duration": 5,
    "start_time": "2022-04-24T14:15:55.970Z"
   },
   {
    "duration": 3,
    "start_time": "2022-04-24T14:15:57.913Z"
   },
   {
    "duration": 19,
    "start_time": "2022-04-24T14:15:59.649Z"
   },
   {
    "duration": 6,
    "start_time": "2022-04-24T14:16:06.721Z"
   },
   {
    "duration": 4,
    "start_time": "2022-04-24T14:16:09.178Z"
   },
   {
    "duration": 3,
    "start_time": "2022-04-24T14:16:52.759Z"
   },
   {
    "duration": 3,
    "start_time": "2022-04-24T14:17:00.175Z"
   },
   {
    "duration": 3138,
    "start_time": "2022-04-24T14:17:50.340Z"
   },
   {
    "duration": 3106,
    "start_time": "2022-04-24T14:18:03.444Z"
   },
   {
    "duration": 2400,
    "start_time": "2022-04-24T14:18:57.962Z"
   },
   {
    "duration": 5,
    "start_time": "2022-04-24T14:19:03.432Z"
   },
   {
    "duration": 22,
    "start_time": "2022-04-24T14:19:39.391Z"
   },
   {
    "duration": 3,
    "start_time": "2022-04-24T14:21:06.016Z"
   },
   {
    "duration": 4,
    "start_time": "2022-04-24T14:21:15.250Z"
   },
   {
    "duration": 4,
    "start_time": "2022-04-24T14:21:33.401Z"
   },
   {
    "duration": 4,
    "start_time": "2022-04-24T14:21:39.921Z"
   },
   {
    "duration": 3,
    "start_time": "2022-04-24T14:21:52.115Z"
   },
   {
    "duration": 4,
    "start_time": "2022-04-24T14:21:58.224Z"
   },
   {
    "duration": 4,
    "start_time": "2022-04-24T14:22:44.726Z"
   },
   {
    "duration": 660,
    "start_time": "2022-04-24T14:22:46.079Z"
   },
   {
    "duration": 40,
    "start_time": "2022-04-24T14:22:47.302Z"
   },
   {
    "duration": 3,
    "start_time": "2022-04-24T14:22:49.013Z"
   },
   {
    "duration": 4,
    "start_time": "2022-04-24T14:22:56.173Z"
   },
   {
    "duration": 15,
    "start_time": "2022-04-24T14:23:01.158Z"
   },
   {
    "duration": 207,
    "start_time": "2022-04-24T14:23:02.725Z"
   },
   {
    "duration": 6,
    "start_time": "2022-04-24T14:23:09.725Z"
   },
   {
    "duration": 2,
    "start_time": "2022-04-24T14:23:10.668Z"
   },
   {
    "duration": 19,
    "start_time": "2022-04-24T14:23:12.113Z"
   },
   {
    "duration": 6,
    "start_time": "2022-04-24T14:23:15.229Z"
   },
   {
    "duration": 4,
    "start_time": "2022-04-24T14:23:16.868Z"
   },
   {
    "duration": 4,
    "start_time": "2022-04-24T14:23:20.813Z"
   },
   {
    "duration": 3,
    "start_time": "2022-04-24T14:23:22.316Z"
   },
   {
    "duration": 3,
    "start_time": "2022-04-24T14:23:40.428Z"
   },
   {
    "duration": 23,
    "start_time": "2022-04-24T14:23:52.113Z"
   },
   {
    "duration": 4,
    "start_time": "2022-04-24T14:24:00.625Z"
   },
   {
    "duration": 12,
    "start_time": "2022-04-24T14:27:23.024Z"
   },
   {
    "duration": 4,
    "start_time": "2022-04-24T14:27:34.088Z"
   },
   {
    "duration": 642,
    "start_time": "2022-04-24T14:27:35.496Z"
   },
   {
    "duration": 35,
    "start_time": "2022-04-24T14:27:37.313Z"
   },
   {
    "duration": 3,
    "start_time": "2022-04-24T14:27:39.088Z"
   },
   {
    "duration": 13,
    "start_time": "2022-04-24T14:27:40.440Z"
   },
   {
    "duration": 218,
    "start_time": "2022-04-24T14:27:41.711Z"
   },
   {
    "duration": 5,
    "start_time": "2022-04-24T14:27:51.959Z"
   },
   {
    "duration": 3,
    "start_time": "2022-04-24T14:27:53.687Z"
   },
   {
    "duration": 12,
    "start_time": "2022-04-24T14:27:57.343Z"
   },
   {
    "duration": 3,
    "start_time": "2022-04-24T14:27:58.934Z"
   },
   {
    "duration": 7,
    "start_time": "2022-04-24T14:28:02.942Z"
   },
   {
    "duration": 3,
    "start_time": "2022-04-24T14:28:04.087Z"
   },
   {
    "duration": 3,
    "start_time": "2022-04-24T14:28:06.014Z"
   },
   {
    "duration": 4,
    "start_time": "2022-04-24T14:28:08.039Z"
   },
   {
    "duration": 4,
    "start_time": "2022-04-24T14:28:09.511Z"
   },
   {
    "duration": 25,
    "start_time": "2022-04-24T14:28:14.933Z"
   },
   {
    "duration": 3,
    "start_time": "2022-04-24T14:28:23.430Z"
   },
   {
    "duration": 3,
    "start_time": "2022-04-24T14:28:30.341Z"
   },
   {
    "duration": 4,
    "start_time": "2022-04-24T14:29:07.571Z"
   },
   {
    "duration": 638,
    "start_time": "2022-04-24T14:29:08.868Z"
   },
   {
    "duration": 43,
    "start_time": "2022-04-24T14:29:10.309Z"
   },
   {
    "duration": 4,
    "start_time": "2022-04-24T14:29:12.085Z"
   },
   {
    "duration": 14,
    "start_time": "2022-04-24T14:29:13.218Z"
   },
   {
    "duration": 209,
    "start_time": "2022-04-24T14:29:14.538Z"
   },
   {
    "duration": 30,
    "start_time": "2022-04-24T14:29:19.138Z"
   },
   {
    "duration": 6,
    "start_time": "2022-04-24T14:29:20.387Z"
   },
   {
    "duration": 2,
    "start_time": "2022-04-24T14:29:21.355Z"
   },
   {
    "duration": 13,
    "start_time": "2022-04-24T14:29:22.890Z"
   },
   {
    "duration": 3,
    "start_time": "2022-04-24T14:29:23.914Z"
   },
   {
    "duration": 7,
    "start_time": "2022-04-24T14:29:24.899Z"
   },
   {
    "duration": 4,
    "start_time": "2022-04-24T14:29:25.849Z"
   },
   {
    "duration": 4,
    "start_time": "2022-04-24T14:29:27.357Z"
   },
   {
    "duration": 3,
    "start_time": "2022-04-24T14:29:28.491Z"
   },
   {
    "duration": 4,
    "start_time": "2022-04-24T14:29:33.234Z"
   },
   {
    "duration": 4,
    "start_time": "2022-04-24T14:30:28.872Z"
   },
   {
    "duration": 4,
    "start_time": "2022-04-24T14:30:37.872Z"
   },
   {
    "duration": 4,
    "start_time": "2022-04-24T14:30:42.879Z"
   },
   {
    "duration": 10,
    "start_time": "2022-04-24T14:31:26.452Z"
   },
   {
    "duration": 198,
    "start_time": "2022-04-24T14:31:28.180Z"
   },
   {
    "duration": 3,
    "start_time": "2022-04-24T14:31:29.140Z"
   },
   {
    "duration": 29,
    "start_time": "2022-04-24T14:31:37.900Z"
   },
   {
    "duration": 6,
    "start_time": "2022-04-24T14:31:39.035Z"
   },
   {
    "duration": 2,
    "start_time": "2022-04-24T14:31:40.549Z"
   },
   {
    "duration": 11,
    "start_time": "2022-04-24T14:31:41.684Z"
   },
   {
    "duration": 3,
    "start_time": "2022-04-24T14:31:44.924Z"
   },
   {
    "duration": 11,
    "start_time": "2022-04-24T14:31:46.042Z"
   },
   {
    "duration": 4,
    "start_time": "2022-04-24T14:31:48.036Z"
   },
   {
    "duration": 3,
    "start_time": "2022-04-24T14:31:49.380Z"
   },
   {
    "duration": 4,
    "start_time": "2022-04-24T14:31:50.518Z"
   },
   {
    "duration": 1562,
    "start_time": "2022-04-24T14:33:11.902Z"
   },
   {
    "duration": 709,
    "start_time": "2022-04-24T14:33:13.467Z"
   },
   {
    "duration": 50,
    "start_time": "2022-04-24T14:33:14.178Z"
   },
   {
    "duration": 3,
    "start_time": "2022-04-24T14:33:14.230Z"
   },
   {
    "duration": 19,
    "start_time": "2022-04-24T14:33:14.235Z"
   },
   {
    "duration": 252,
    "start_time": "2022-04-24T14:33:14.256Z"
   },
   {
    "duration": 6,
    "start_time": "2022-04-24T14:33:14.512Z"
   },
   {
    "duration": 15,
    "start_time": "2022-04-24T14:33:14.520Z"
   },
   {
    "duration": 7,
    "start_time": "2022-04-24T14:33:14.537Z"
   },
   {
    "duration": 6,
    "start_time": "2022-04-24T14:33:14.547Z"
   },
   {
    "duration": 7,
    "start_time": "2022-04-24T14:33:14.555Z"
   },
   {
    "duration": 81,
    "start_time": "2022-04-24T14:33:14.563Z"
   },
   {
    "duration": 6,
    "start_time": "2022-04-24T14:33:14.646Z"
   },
   {
    "duration": 20,
    "start_time": "2022-04-24T14:33:14.654Z"
   },
   {
    "duration": 37,
    "start_time": "2022-04-24T14:33:14.676Z"
   },
   {
    "duration": 4,
    "start_time": "2022-04-24T14:33:14.715Z"
   },
   {
    "duration": 15,
    "start_time": "2022-04-24T14:33:14.720Z"
   },
   {
    "duration": 10,
    "start_time": "2022-04-24T14:33:14.737Z"
   },
   {
    "duration": 7,
    "start_time": "2022-04-24T14:33:14.749Z"
   },
   {
    "duration": 10,
    "start_time": "2022-04-24T14:33:14.758Z"
   },
   {
    "duration": 8,
    "start_time": "2022-04-24T14:33:14.770Z"
   },
   {
    "duration": 12,
    "start_time": "2022-04-24T14:33:14.779Z"
   },
   {
    "duration": 24,
    "start_time": "2022-04-24T14:33:14.792Z"
   },
   {
    "duration": 496,
    "start_time": "2022-04-24T14:33:14.817Z"
   },
   {
    "duration": 6,
    "start_time": "2022-04-24T14:33:15.317Z"
   },
   {
    "duration": 1098,
    "start_time": "2022-04-24T14:33:15.325Z"
   },
   {
    "duration": 679,
    "start_time": "2022-04-24T14:33:16.425Z"
   },
   {
    "duration": 4,
    "start_time": "2022-04-24T14:33:17.108Z"
   },
   {
    "duration": 85,
    "start_time": "2022-04-24T14:33:17.114Z"
   },
   {
    "duration": 159,
    "start_time": "2022-04-24T14:33:17.201Z"
   },
   {
    "duration": 911,
    "start_time": "2022-04-24T14:33:17.361Z"
   },
   {
    "duration": 32,
    "start_time": "2022-04-24T14:33:18.273Z"
   },
   {
    "duration": 22,
    "start_time": "2022-04-24T14:33:18.308Z"
   },
   {
    "duration": 12,
    "start_time": "2022-04-24T14:33:18.332Z"
   },
   {
    "duration": 89,
    "start_time": "2022-04-24T14:33:18.345Z"
   },
   {
    "duration": 832,
    "start_time": "2022-04-24T14:33:18.435Z"
   },
   {
    "duration": 2,
    "start_time": "2022-04-24T14:33:19.269Z"
   },
   {
    "duration": 5,
    "start_time": "2022-04-24T14:33:19.273Z"
   },
   {
    "duration": 5,
    "start_time": "2022-04-24T14:33:19.280Z"
   },
   {
    "duration": 4,
    "start_time": "2022-04-24T14:33:19.300Z"
   },
   {
    "duration": 18,
    "start_time": "2022-04-24T14:33:19.305Z"
   },
   {
    "duration": 6,
    "start_time": "2022-04-24T14:33:19.325Z"
   },
   {
    "duration": 5,
    "start_time": "2022-04-24T14:33:19.332Z"
   },
   {
    "duration": 245,
    "start_time": "2022-04-24T14:33:19.339Z"
   },
   {
    "duration": 0,
    "start_time": "2022-04-24T14:33:19.586Z"
   },
   {
    "duration": 0,
    "start_time": "2022-04-24T14:33:19.587Z"
   },
   {
    "duration": 0,
    "start_time": "2022-04-24T14:33:19.588Z"
   },
   {
    "duration": 0,
    "start_time": "2022-04-24T14:33:19.589Z"
   },
   {
    "duration": 1,
    "start_time": "2022-04-24T14:33:19.590Z"
   },
   {
    "duration": 0,
    "start_time": "2022-04-24T14:33:19.602Z"
   },
   {
    "duration": 36,
    "start_time": "2022-04-24T14:34:17.943Z"
   },
   {
    "duration": 127,
    "start_time": "2022-04-24T15:28:21.895Z"
   },
   {
    "duration": 26,
    "start_time": "2022-04-24T15:29:29.426Z"
   },
   {
    "duration": 2,
    "start_time": "2022-04-24T15:29:57.905Z"
   },
   {
    "duration": 10,
    "start_time": "2022-04-24T15:32:51.162Z"
   },
   {
    "duration": 17,
    "start_time": "2022-04-24T15:33:03.014Z"
   },
   {
    "duration": 13,
    "start_time": "2022-04-24T15:33:35.486Z"
   },
   {
    "duration": 1844,
    "start_time": "2022-04-24T15:34:06.341Z"
   },
   {
    "duration": 628,
    "start_time": "2022-04-24T15:34:08.187Z"
   },
   {
    "duration": 37,
    "start_time": "2022-04-24T15:34:08.817Z"
   },
   {
    "duration": 115,
    "start_time": "2022-04-24T15:34:08.856Z"
   },
   {
    "duration": 128,
    "start_time": "2022-04-24T15:34:08.973Z"
   },
   {
    "duration": 309,
    "start_time": "2022-04-24T15:34:09.103Z"
   },
   {
    "duration": 3,
    "start_time": "2022-04-24T15:34:09.414Z"
   },
   {
    "duration": 167,
    "start_time": "2022-04-24T15:34:09.418Z"
   },
   {
    "duration": 121,
    "start_time": "2022-04-24T15:34:09.587Z"
   },
   {
    "duration": 136,
    "start_time": "2022-04-24T15:34:09.710Z"
   },
   {
    "duration": 135,
    "start_time": "2022-04-24T15:34:09.847Z"
   },
   {
    "duration": 43,
    "start_time": "2022-04-24T15:34:09.984Z"
   },
   {
    "duration": 6,
    "start_time": "2022-04-24T15:34:10.029Z"
   },
   {
    "duration": 6,
    "start_time": "2022-04-24T15:34:10.039Z"
   },
   {
    "duration": 16,
    "start_time": "2022-04-24T15:34:10.047Z"
   },
   {
    "duration": 2,
    "start_time": "2022-04-24T15:34:10.065Z"
   },
   {
    "duration": 31,
    "start_time": "2022-04-24T15:34:10.069Z"
   },
   {
    "duration": 4,
    "start_time": "2022-04-24T15:34:10.102Z"
   },
   {
    "duration": 13,
    "start_time": "2022-04-24T15:34:10.107Z"
   },
   {
    "duration": 9,
    "start_time": "2022-04-24T15:34:10.122Z"
   },
   {
    "duration": 5,
    "start_time": "2022-04-24T15:34:10.132Z"
   },
   {
    "duration": 14,
    "start_time": "2022-04-24T15:34:10.139Z"
   },
   {
    "duration": 9,
    "start_time": "2022-04-24T15:34:10.154Z"
   },
   {
    "duration": 9,
    "start_time": "2022-04-24T15:34:10.165Z"
   },
   {
    "duration": 489,
    "start_time": "2022-04-24T15:34:10.175Z"
   },
   {
    "duration": 5,
    "start_time": "2022-04-24T15:34:10.666Z"
   },
   {
    "duration": 912,
    "start_time": "2022-04-24T15:34:10.673Z"
   },
   {
    "duration": 448,
    "start_time": "2022-04-24T15:34:11.586Z"
   },
   {
    "duration": 2,
    "start_time": "2022-04-24T15:34:12.036Z"
   },
   {
    "duration": 82,
    "start_time": "2022-04-24T15:34:12.039Z"
   },
   {
    "duration": 161,
    "start_time": "2022-04-24T15:34:12.123Z"
   },
   {
    "duration": 856,
    "start_time": "2022-04-24T15:34:12.286Z"
   },
   {
    "duration": 23,
    "start_time": "2022-04-24T15:34:13.144Z"
   },
   {
    "duration": 33,
    "start_time": "2022-04-24T15:34:13.169Z"
   },
   {
    "duration": 11,
    "start_time": "2022-04-24T15:34:13.203Z"
   },
   {
    "duration": 84,
    "start_time": "2022-04-24T15:34:13.216Z"
   },
   {
    "duration": 1184,
    "start_time": "2022-04-24T15:34:13.302Z"
   },
   {
    "duration": 3,
    "start_time": "2022-04-24T15:34:14.488Z"
   },
   {
    "duration": 7,
    "start_time": "2022-04-24T15:34:14.500Z"
   },
   {
    "duration": 7,
    "start_time": "2022-04-24T15:34:14.508Z"
   },
   {
    "duration": 7,
    "start_time": "2022-04-24T15:34:14.519Z"
   },
   {
    "duration": 18,
    "start_time": "2022-04-24T15:34:14.527Z"
   },
   {
    "duration": 11,
    "start_time": "2022-04-24T15:34:14.547Z"
   },
   {
    "duration": 10,
    "start_time": "2022-04-24T15:34:14.560Z"
   },
   {
    "duration": 238,
    "start_time": "2022-04-24T15:34:14.572Z"
   },
   {
    "duration": 0,
    "start_time": "2022-04-24T15:34:14.812Z"
   },
   {
    "duration": 0,
    "start_time": "2022-04-24T15:34:14.813Z"
   },
   {
    "duration": 0,
    "start_time": "2022-04-24T15:34:14.814Z"
   },
   {
    "duration": 0,
    "start_time": "2022-04-24T15:34:14.815Z"
   },
   {
    "duration": 0,
    "start_time": "2022-04-24T15:34:14.815Z"
   },
   {
    "duration": 0,
    "start_time": "2022-04-24T15:34:14.816Z"
   },
   {
    "duration": 4,
    "start_time": "2022-04-24T15:35:12.160Z"
   },
   {
    "duration": 5,
    "start_time": "2022-04-24T15:35:38.384Z"
   },
   {
    "duration": 3,
    "start_time": "2022-04-24T15:35:39.471Z"
   },
   {
    "duration": 13,
    "start_time": "2022-04-24T15:35:40.239Z"
   },
   {
    "duration": 2041,
    "start_time": "2022-04-24T15:35:52.667Z"
   },
   {
    "duration": 668,
    "start_time": "2022-04-24T15:35:54.710Z"
   },
   {
    "duration": 45,
    "start_time": "2022-04-24T15:35:55.380Z"
   },
   {
    "duration": 3,
    "start_time": "2022-04-24T15:35:55.427Z"
   },
   {
    "duration": 14,
    "start_time": "2022-04-24T15:35:55.432Z"
   },
   {
    "duration": 232,
    "start_time": "2022-04-24T15:35:55.448Z"
   },
   {
    "duration": 3,
    "start_time": "2022-04-24T15:35:55.682Z"
   },
   {
    "duration": 23,
    "start_time": "2022-04-24T15:35:55.686Z"
   },
   {
    "duration": 6,
    "start_time": "2022-04-24T15:35:55.711Z"
   },
   {
    "duration": 4,
    "start_time": "2022-04-24T15:35:55.720Z"
   },
   {
    "duration": 4,
    "start_time": "2022-04-24T15:35:55.726Z"
   },
   {
    "duration": 69,
    "start_time": "2022-04-24T15:35:55.731Z"
   },
   {
    "duration": 3,
    "start_time": "2022-04-24T15:35:55.802Z"
   },
   {
    "duration": 7,
    "start_time": "2022-04-24T15:35:55.807Z"
   },
   {
    "duration": 8,
    "start_time": "2022-04-24T15:35:55.815Z"
   },
   {
    "duration": 14,
    "start_time": "2022-04-24T15:35:55.825Z"
   },
   {
    "duration": 3,
    "start_time": "2022-04-24T15:35:55.840Z"
   },
   {
    "duration": 6,
    "start_time": "2022-04-24T15:35:55.845Z"
   },
   {
    "duration": 5,
    "start_time": "2022-04-24T15:35:55.852Z"
   },
   {
    "duration": 6,
    "start_time": "2022-04-24T15:35:55.858Z"
   },
   {
    "duration": 35,
    "start_time": "2022-04-24T15:35:55.865Z"
   },
   {
    "duration": 7,
    "start_time": "2022-04-24T15:35:55.902Z"
   },
   {
    "duration": 6,
    "start_time": "2022-04-24T15:35:55.910Z"
   },
   {
    "duration": 5,
    "start_time": "2022-04-24T15:35:55.917Z"
   },
   {
    "duration": 4,
    "start_time": "2022-04-24T15:35:55.923Z"
   },
   {
    "duration": 478,
    "start_time": "2022-04-24T15:35:55.928Z"
   },
   {
    "duration": 6,
    "start_time": "2022-04-24T15:35:56.408Z"
   },
   {
    "duration": 822,
    "start_time": "2022-04-24T15:35:56.416Z"
   },
   {
    "duration": 444,
    "start_time": "2022-04-24T15:35:57.239Z"
   },
   {
    "duration": 2,
    "start_time": "2022-04-24T15:35:57.685Z"
   },
   {
    "duration": 68,
    "start_time": "2022-04-24T15:35:57.699Z"
   },
   {
    "duration": 174,
    "start_time": "2022-04-24T15:35:57.769Z"
   },
   {
    "duration": 857,
    "start_time": "2022-04-24T15:35:57.944Z"
   },
   {
    "duration": 22,
    "start_time": "2022-04-24T15:35:58.803Z"
   },
   {
    "duration": 22,
    "start_time": "2022-04-24T15:35:58.826Z"
   },
   {
    "duration": 11,
    "start_time": "2022-04-24T15:35:58.850Z"
   },
   {
    "duration": 94,
    "start_time": "2022-04-24T15:35:58.862Z"
   },
   {
    "duration": 763,
    "start_time": "2022-04-24T15:35:58.958Z"
   },
   {
    "duration": 2,
    "start_time": "2022-04-24T15:35:59.723Z"
   },
   {
    "duration": 5,
    "start_time": "2022-04-24T15:35:59.727Z"
   },
   {
    "duration": 6,
    "start_time": "2022-04-24T15:35:59.733Z"
   },
   {
    "duration": 6,
    "start_time": "2022-04-24T15:35:59.740Z"
   },
   {
    "duration": 5,
    "start_time": "2022-04-24T15:35:59.748Z"
   },
   {
    "duration": 5,
    "start_time": "2022-04-24T15:35:59.754Z"
   },
   {
    "duration": 6,
    "start_time": "2022-04-24T15:35:59.760Z"
   },
   {
    "duration": 255,
    "start_time": "2022-04-24T15:35:59.767Z"
   },
   {
    "duration": 0,
    "start_time": "2022-04-24T15:36:00.024Z"
   },
   {
    "duration": 0,
    "start_time": "2022-04-24T15:36:00.025Z"
   },
   {
    "duration": 0,
    "start_time": "2022-04-24T15:36:00.027Z"
   },
   {
    "duration": 0,
    "start_time": "2022-04-24T15:36:00.028Z"
   },
   {
    "duration": 0,
    "start_time": "2022-04-24T15:36:00.029Z"
   },
   {
    "duration": 0,
    "start_time": "2022-04-24T15:36:00.031Z"
   },
   {
    "duration": 1488,
    "start_time": "2022-04-24T15:38:27.656Z"
   },
   {
    "duration": 660,
    "start_time": "2022-04-24T15:38:29.145Z"
   },
   {
    "duration": 40,
    "start_time": "2022-04-24T15:38:29.807Z"
   },
   {
    "duration": 5,
    "start_time": "2022-04-24T15:38:29.849Z"
   },
   {
    "duration": 18,
    "start_time": "2022-04-24T15:38:29.855Z"
   },
   {
    "duration": 221,
    "start_time": "2022-04-24T15:38:29.899Z"
   },
   {
    "duration": 3,
    "start_time": "2022-04-24T15:38:30.121Z"
   },
   {
    "duration": 16,
    "start_time": "2022-04-24T15:38:30.125Z"
   },
   {
    "duration": 7,
    "start_time": "2022-04-24T15:38:30.142Z"
   },
   {
    "duration": 4,
    "start_time": "2022-04-24T15:38:30.151Z"
   },
   {
    "duration": 6,
    "start_time": "2022-04-24T15:38:30.157Z"
   },
   {
    "duration": 38,
    "start_time": "2022-04-24T15:38:30.164Z"
   },
   {
    "duration": 9,
    "start_time": "2022-04-24T15:38:30.203Z"
   },
   {
    "duration": 6,
    "start_time": "2022-04-24T15:38:30.213Z"
   },
   {
    "duration": 17,
    "start_time": "2022-04-24T15:38:30.220Z"
   },
   {
    "duration": 3,
    "start_time": "2022-04-24T15:38:30.238Z"
   },
   {
    "duration": 8,
    "start_time": "2022-04-24T15:38:30.242Z"
   },
   {
    "duration": 7,
    "start_time": "2022-04-24T15:38:30.252Z"
   },
   {
    "duration": 6,
    "start_time": "2022-04-24T15:38:30.260Z"
   },
   {
    "duration": 5,
    "start_time": "2022-04-24T15:38:30.267Z"
   },
   {
    "duration": 30,
    "start_time": "2022-04-24T15:38:30.273Z"
   },
   {
    "duration": 7,
    "start_time": "2022-04-24T15:38:30.304Z"
   },
   {
    "duration": 8,
    "start_time": "2022-04-24T15:38:30.313Z"
   },
   {
    "duration": 40,
    "start_time": "2022-04-24T15:38:30.323Z"
   },
   {
    "duration": 3,
    "start_time": "2022-04-24T15:38:30.364Z"
   },
   {
    "duration": 510,
    "start_time": "2022-04-24T15:38:30.368Z"
   },
   {
    "duration": 6,
    "start_time": "2022-04-24T15:38:30.880Z"
   },
   {
    "duration": 1025,
    "start_time": "2022-04-24T15:38:30.899Z"
   },
   {
    "duration": 452,
    "start_time": "2022-04-24T15:38:31.925Z"
   },
   {
    "duration": 2,
    "start_time": "2022-04-24T15:38:32.379Z"
   },
   {
    "duration": 78,
    "start_time": "2022-04-24T15:38:32.382Z"
   },
   {
    "duration": 161,
    "start_time": "2022-04-24T15:38:32.462Z"
   },
   {
    "duration": 959,
    "start_time": "2022-04-24T15:38:32.625Z"
   },
   {
    "duration": 25,
    "start_time": "2022-04-24T15:38:33.585Z"
   },
   {
    "duration": 34,
    "start_time": "2022-04-24T15:38:33.612Z"
   },
   {
    "duration": 18,
    "start_time": "2022-04-24T15:38:33.647Z"
   },
   {
    "duration": 72,
    "start_time": "2022-04-24T15:38:33.666Z"
   },
   {
    "duration": 970,
    "start_time": "2022-04-24T15:38:33.739Z"
   },
   {
    "duration": 2,
    "start_time": "2022-04-24T15:38:34.711Z"
   },
   {
    "duration": 6,
    "start_time": "2022-04-24T15:38:34.714Z"
   },
   {
    "duration": 5,
    "start_time": "2022-04-24T15:38:34.721Z"
   },
   {
    "duration": 5,
    "start_time": "2022-04-24T15:38:34.727Z"
   },
   {
    "duration": 4,
    "start_time": "2022-04-24T15:38:34.733Z"
   },
   {
    "duration": 8,
    "start_time": "2022-04-24T15:38:34.739Z"
   },
   {
    "duration": 5,
    "start_time": "2022-04-24T15:38:34.748Z"
   },
   {
    "duration": 283,
    "start_time": "2022-04-24T15:38:34.754Z"
   },
   {
    "duration": 0,
    "start_time": "2022-04-24T15:38:35.038Z"
   },
   {
    "duration": 0,
    "start_time": "2022-04-24T15:38:35.039Z"
   },
   {
    "duration": 0,
    "start_time": "2022-04-24T15:38:35.040Z"
   },
   {
    "duration": 0,
    "start_time": "2022-04-24T15:38:35.041Z"
   },
   {
    "duration": 0,
    "start_time": "2022-04-24T15:38:35.042Z"
   },
   {
    "duration": 0,
    "start_time": "2022-04-24T15:38:35.043Z"
   },
   {
    "duration": 1548,
    "start_time": "2022-04-24T15:38:43.046Z"
   },
   {
    "duration": 674,
    "start_time": "2022-04-24T15:38:44.597Z"
   },
   {
    "duration": 47,
    "start_time": "2022-04-24T15:38:45.273Z"
   },
   {
    "duration": 3,
    "start_time": "2022-04-24T15:38:45.323Z"
   },
   {
    "duration": 16,
    "start_time": "2022-04-24T15:38:45.328Z"
   },
   {
    "duration": 241,
    "start_time": "2022-04-24T15:38:45.345Z"
   },
   {
    "duration": 4,
    "start_time": "2022-04-24T15:38:45.599Z"
   },
   {
    "duration": 14,
    "start_time": "2022-04-24T15:38:45.605Z"
   },
   {
    "duration": 9,
    "start_time": "2022-04-24T15:38:45.620Z"
   },
   {
    "duration": 5,
    "start_time": "2022-04-24T15:38:45.632Z"
   },
   {
    "duration": 6,
    "start_time": "2022-04-24T15:38:45.639Z"
   },
   {
    "duration": 4,
    "start_time": "2022-04-24T15:38:45.647Z"
   },
   {
    "duration": 51,
    "start_time": "2022-04-24T15:38:45.653Z"
   },
   {
    "duration": 4,
    "start_time": "2022-04-24T15:38:45.706Z"
   },
   {
    "duration": 15,
    "start_time": "2022-04-24T15:38:45.712Z"
   },
   {
    "duration": 4,
    "start_time": "2022-04-24T15:38:45.728Z"
   },
   {
    "duration": 4,
    "start_time": "2022-04-24T15:38:45.733Z"
   },
   {
    "duration": 4,
    "start_time": "2022-04-24T15:38:45.739Z"
   },
   {
    "duration": 5,
    "start_time": "2022-04-24T15:38:45.745Z"
   },
   {
    "duration": 4,
    "start_time": "2022-04-24T15:38:45.752Z"
   },
   {
    "duration": 3,
    "start_time": "2022-04-24T15:38:45.800Z"
   },
   {
    "duration": 6,
    "start_time": "2022-04-24T15:38:45.805Z"
   },
   {
    "duration": 7,
    "start_time": "2022-04-24T15:38:45.812Z"
   },
   {
    "duration": 4,
    "start_time": "2022-04-24T15:38:45.820Z"
   },
   {
    "duration": 8,
    "start_time": "2022-04-24T15:38:45.825Z"
   },
   {
    "duration": 520,
    "start_time": "2022-04-24T15:38:45.834Z"
   },
   {
    "duration": 6,
    "start_time": "2022-04-24T15:38:46.356Z"
   },
   {
    "duration": 763,
    "start_time": "2022-04-24T15:38:46.365Z"
   },
   {
    "duration": 436,
    "start_time": "2022-04-24T15:38:47.130Z"
   },
   {
    "duration": 2,
    "start_time": "2022-04-24T15:38:47.568Z"
   },
   {
    "duration": 99,
    "start_time": "2022-04-24T15:38:47.572Z"
   },
   {
    "duration": 165,
    "start_time": "2022-04-24T15:38:47.673Z"
   },
   {
    "duration": 892,
    "start_time": "2022-04-24T15:38:47.839Z"
   },
   {
    "duration": 22,
    "start_time": "2022-04-24T15:38:48.733Z"
   },
   {
    "duration": 18,
    "start_time": "2022-04-24T15:38:48.756Z"
   },
   {
    "duration": 30,
    "start_time": "2022-04-24T15:38:48.776Z"
   },
   {
    "duration": 73,
    "start_time": "2022-04-24T15:38:48.807Z"
   },
   {
    "duration": 803,
    "start_time": "2022-04-24T15:38:48.881Z"
   },
   {
    "duration": 2,
    "start_time": "2022-04-24T15:38:49.686Z"
   },
   {
    "duration": 10,
    "start_time": "2022-04-24T15:38:49.690Z"
   },
   {
    "duration": 3,
    "start_time": "2022-04-24T15:38:49.701Z"
   },
   {
    "duration": 5,
    "start_time": "2022-04-24T15:38:49.706Z"
   },
   {
    "duration": 5,
    "start_time": "2022-04-24T15:38:49.712Z"
   },
   {
    "duration": 4,
    "start_time": "2022-04-24T15:38:49.719Z"
   },
   {
    "duration": 6,
    "start_time": "2022-04-24T15:38:49.724Z"
   },
   {
    "duration": 287,
    "start_time": "2022-04-24T15:38:49.731Z"
   },
   {
    "duration": 0,
    "start_time": "2022-04-24T15:38:50.019Z"
   },
   {
    "duration": 0,
    "start_time": "2022-04-24T15:38:50.021Z"
   },
   {
    "duration": 1,
    "start_time": "2022-04-24T15:38:50.021Z"
   },
   {
    "duration": 0,
    "start_time": "2022-04-24T15:38:50.023Z"
   },
   {
    "duration": 0,
    "start_time": "2022-04-24T15:38:50.023Z"
   },
   {
    "duration": 0,
    "start_time": "2022-04-24T15:38:50.024Z"
   },
   {
    "duration": 8,
    "start_time": "2022-04-24T15:39:32.128Z"
   },
   {
    "duration": 9,
    "start_time": "2022-04-24T15:39:37.040Z"
   },
   {
    "duration": 5,
    "start_time": "2022-04-24T15:42:44.560Z"
   },
   {
    "duration": 11,
    "start_time": "2022-04-24T15:43:30.181Z"
   },
   {
    "duration": 27,
    "start_time": "2022-04-24T15:43:40.821Z"
   },
   {
    "duration": 9,
    "start_time": "2022-04-24T15:43:53.501Z"
   },
   {
    "duration": 4,
    "start_time": "2022-04-24T15:43:56.940Z"
   },
   {
    "duration": 3035,
    "start_time": "2022-04-24T15:44:27.642Z"
   },
   {
    "duration": 3001,
    "start_time": "2022-04-24T15:44:38.603Z"
   },
   {
    "duration": 5,
    "start_time": "2022-04-24T15:45:26.439Z"
   },
   {
    "duration": 5,
    "start_time": "2022-04-24T15:45:32.998Z"
   },
   {
    "duration": 3,
    "start_time": "2022-04-24T15:46:13.014Z"
   },
   {
    "duration": 4,
    "start_time": "2022-04-24T15:46:22.477Z"
   },
   {
    "duration": 11,
    "start_time": "2022-04-24T15:47:10.019Z"
   },
   {
    "duration": 14,
    "start_time": "2022-04-24T15:47:28.385Z"
   },
   {
    "duration": 13,
    "start_time": "2022-04-24T15:47:46.240Z"
   },
   {
    "duration": 4,
    "start_time": "2022-04-24T15:47:49.472Z"
   },
   {
    "duration": 3047,
    "start_time": "2022-04-24T15:47:53.841Z"
   },
   {
    "duration": 10,
    "start_time": "2022-04-24T15:49:50.970Z"
   },
   {
    "duration": 2906,
    "start_time": "2022-04-24T15:49:52.810Z"
   },
   {
    "duration": 6,
    "start_time": "2022-04-24T15:51:23.758Z"
   },
   {
    "duration": 3093,
    "start_time": "2022-04-24T15:51:26.942Z"
   },
   {
    "duration": 1757,
    "start_time": "2022-04-24T15:51:52.008Z"
   },
   {
    "duration": 797,
    "start_time": "2022-04-24T15:51:53.767Z"
   },
   {
    "duration": 62,
    "start_time": "2022-04-24T15:51:54.566Z"
   },
   {
    "duration": 4,
    "start_time": "2022-04-24T15:51:54.631Z"
   },
   {
    "duration": 18,
    "start_time": "2022-04-24T15:51:54.637Z"
   },
   {
    "duration": 335,
    "start_time": "2022-04-24T15:51:54.657Z"
   },
   {
    "duration": 8,
    "start_time": "2022-04-24T15:51:54.994Z"
   },
   {
    "duration": 18,
    "start_time": "2022-04-24T15:51:55.004Z"
   },
   {
    "duration": 9,
    "start_time": "2022-04-24T15:51:55.024Z"
   },
   {
    "duration": 5,
    "start_time": "2022-04-24T15:51:55.037Z"
   },
   {
    "duration": 7,
    "start_time": "2022-04-24T15:51:55.043Z"
   },
   {
    "duration": 48,
    "start_time": "2022-04-24T15:51:55.052Z"
   },
   {
    "duration": 5,
    "start_time": "2022-04-24T15:51:55.102Z"
   },
   {
    "duration": 8,
    "start_time": "2022-04-24T15:51:55.109Z"
   },
   {
    "duration": 13,
    "start_time": "2022-04-24T15:51:55.119Z"
   },
   {
    "duration": 9,
    "start_time": "2022-04-24T15:51:55.134Z"
   },
   {
    "duration": 15,
    "start_time": "2022-04-24T15:51:55.145Z"
   },
   {
    "duration": 2,
    "start_time": "2022-04-24T15:51:55.162Z"
   },
   {
    "duration": 5,
    "start_time": "2022-04-24T15:51:55.166Z"
   },
   {
    "duration": 27,
    "start_time": "2022-04-24T15:51:55.173Z"
   },
   {
    "duration": 3,
    "start_time": "2022-04-24T15:51:55.202Z"
   },
   {
    "duration": 6,
    "start_time": "2022-04-24T15:51:55.207Z"
   },
   {
    "duration": 113,
    "start_time": "2022-04-24T15:51:55.214Z"
   },
   {
    "duration": 0,
    "start_time": "2022-04-24T15:51:55.330Z"
   },
   {
    "duration": 0,
    "start_time": "2022-04-24T15:51:55.331Z"
   },
   {
    "duration": 0,
    "start_time": "2022-04-24T15:51:55.332Z"
   },
   {
    "duration": 0,
    "start_time": "2022-04-24T15:51:55.334Z"
   },
   {
    "duration": 0,
    "start_time": "2022-04-24T15:51:55.335Z"
   },
   {
    "duration": 0,
    "start_time": "2022-04-24T15:51:55.336Z"
   },
   {
    "duration": 0,
    "start_time": "2022-04-24T15:51:55.337Z"
   },
   {
    "duration": 0,
    "start_time": "2022-04-24T15:51:55.339Z"
   },
   {
    "duration": 0,
    "start_time": "2022-04-24T15:51:55.340Z"
   },
   {
    "duration": 0,
    "start_time": "2022-04-24T15:51:55.341Z"
   },
   {
    "duration": 0,
    "start_time": "2022-04-24T15:51:55.342Z"
   },
   {
    "duration": 0,
    "start_time": "2022-04-24T15:51:55.344Z"
   },
   {
    "duration": 0,
    "start_time": "2022-04-24T15:51:55.345Z"
   },
   {
    "duration": 0,
    "start_time": "2022-04-24T15:51:55.346Z"
   },
   {
    "duration": 0,
    "start_time": "2022-04-24T15:51:55.348Z"
   },
   {
    "duration": 0,
    "start_time": "2022-04-24T15:51:55.349Z"
   },
   {
    "duration": 0,
    "start_time": "2022-04-24T15:51:55.350Z"
   },
   {
    "duration": 0,
    "start_time": "2022-04-24T15:51:55.351Z"
   },
   {
    "duration": 0,
    "start_time": "2022-04-24T15:51:55.353Z"
   },
   {
    "duration": 0,
    "start_time": "2022-04-24T15:51:55.354Z"
   },
   {
    "duration": 0,
    "start_time": "2022-04-24T15:51:55.355Z"
   },
   {
    "duration": 0,
    "start_time": "2022-04-24T15:51:55.356Z"
   },
   {
    "duration": 0,
    "start_time": "2022-04-24T15:51:55.401Z"
   },
   {
    "duration": 0,
    "start_time": "2022-04-24T15:51:55.402Z"
   },
   {
    "duration": 0,
    "start_time": "2022-04-24T15:51:55.403Z"
   },
   {
    "duration": 0,
    "start_time": "2022-04-24T15:51:55.404Z"
   },
   {
    "duration": 0,
    "start_time": "2022-04-24T15:51:55.406Z"
   },
   {
    "duration": 0,
    "start_time": "2022-04-24T15:51:55.407Z"
   },
   {
    "duration": 0,
    "start_time": "2022-04-24T15:51:55.408Z"
   },
   {
    "duration": 0,
    "start_time": "2022-04-24T15:51:55.409Z"
   },
   {
    "duration": 0,
    "start_time": "2022-04-24T15:51:55.410Z"
   },
   {
    "duration": 0,
    "start_time": "2022-04-24T15:51:55.411Z"
   },
   {
    "duration": 39,
    "start_time": "2022-04-24T15:52:15.082Z"
   },
   {
    "duration": 216,
    "start_time": "2022-04-24T15:53:34.422Z"
   },
   {
    "duration": 32,
    "start_time": "2022-04-24T15:54:00.662Z"
   },
   {
    "duration": 19,
    "start_time": "2022-04-24T15:54:07.005Z"
   },
   {
    "duration": 13,
    "start_time": "2022-04-24T15:54:18.525Z"
   },
   {
    "duration": 10,
    "start_time": "2022-04-24T15:54:55.875Z"
   },
   {
    "duration": 37,
    "start_time": "2022-04-24T15:54:57.858Z"
   },
   {
    "duration": 9,
    "start_time": "2022-04-24T15:55:48.896Z"
   },
   {
    "duration": 14,
    "start_time": "2022-04-24T15:56:18.430Z"
   },
   {
    "duration": 7,
    "start_time": "2022-04-24T15:56:21.191Z"
   },
   {
    "duration": 4,
    "start_time": "2022-04-24T15:56:35.997Z"
   },
   {
    "duration": 3,
    "start_time": "2022-04-24T15:56:56.077Z"
   },
   {
    "duration": 4,
    "start_time": "2022-04-24T15:56:58.284Z"
   },
   {
    "duration": 3,
    "start_time": "2022-04-24T15:57:00.348Z"
   },
   {
    "duration": 4,
    "start_time": "2022-04-24T15:57:18.595Z"
   },
   {
    "duration": 4,
    "start_time": "2022-04-24T15:57:20.363Z"
   },
   {
    "duration": 4,
    "start_time": "2022-04-24T15:57:21.307Z"
   },
   {
    "duration": 3,
    "start_time": "2022-04-24T15:57:22.300Z"
   },
   {
    "duration": 21,
    "start_time": "2022-04-24T15:58:06.833Z"
   },
   {
    "duration": 3,
    "start_time": "2022-04-24T15:58:08.217Z"
   },
   {
    "duration": 3,
    "start_time": "2022-04-24T15:58:09.216Z"
   },
   {
    "duration": 4,
    "start_time": "2022-04-24T15:58:10.296Z"
   },
   {
    "duration": 11,
    "start_time": "2022-04-24T15:58:51.551Z"
   },
   {
    "duration": 13,
    "start_time": "2022-04-24T15:59:37.045Z"
   },
   {
    "duration": 8,
    "start_time": "2022-04-24T16:00:01.140Z"
   },
   {
    "duration": 16,
    "start_time": "2022-04-24T16:02:48.539Z"
   },
   {
    "duration": 15,
    "start_time": "2022-04-24T16:03:05.346Z"
   },
   {
    "duration": 18,
    "start_time": "2022-04-24T16:03:06.314Z"
   },
   {
    "duration": 197,
    "start_time": "2022-04-24T16:03:25.264Z"
   },
   {
    "duration": 12,
    "start_time": "2022-04-24T16:03:35.961Z"
   },
   {
    "duration": 14,
    "start_time": "2022-04-24T16:03:39.272Z"
   },
   {
    "duration": 19,
    "start_time": "2022-04-24T16:03:40.825Z"
   },
   {
    "duration": 15,
    "start_time": "2022-04-24T16:04:13.967Z"
   },
   {
    "duration": 13,
    "start_time": "2022-04-24T16:04:14.648Z"
   },
   {
    "duration": 3,
    "start_time": "2022-04-24T16:05:03.628Z"
   },
   {
    "duration": 5,
    "start_time": "2022-04-24T16:05:12.459Z"
   },
   {
    "duration": 4,
    "start_time": "2022-04-24T16:05:14.244Z"
   },
   {
    "duration": 4,
    "start_time": "2022-04-24T16:05:15.230Z"
   },
   {
    "duration": 8,
    "start_time": "2022-04-24T16:05:17.635Z"
   },
   {
    "duration": 8,
    "start_time": "2022-04-24T16:05:26.111Z"
   },
   {
    "duration": 4,
    "start_time": "2022-04-24T16:05:33.891Z"
   },
   {
    "duration": 5,
    "start_time": "2022-04-24T16:05:34.715Z"
   },
   {
    "duration": 4,
    "start_time": "2022-04-24T16:05:40.068Z"
   },
   {
    "duration": 5,
    "start_time": "2022-04-24T16:05:41.074Z"
   },
   {
    "duration": 18,
    "start_time": "2022-04-24T16:06:09.841Z"
   },
   {
    "duration": 1521,
    "start_time": "2022-04-24T16:06:27.757Z"
   },
   {
    "duration": 669,
    "start_time": "2022-04-24T16:06:29.280Z"
   },
   {
    "duration": 35,
    "start_time": "2022-04-24T16:06:29.951Z"
   },
   {
    "duration": 14,
    "start_time": "2022-04-24T16:06:29.988Z"
   },
   {
    "duration": 29,
    "start_time": "2022-04-24T16:06:30.004Z"
   },
   {
    "duration": 241,
    "start_time": "2022-04-24T16:06:30.034Z"
   },
   {
    "duration": 3,
    "start_time": "2022-04-24T16:06:30.277Z"
   },
   {
    "duration": 33,
    "start_time": "2022-04-24T16:06:30.281Z"
   },
   {
    "duration": 14,
    "start_time": "2022-04-24T16:06:30.316Z"
   },
   {
    "duration": 9,
    "start_time": "2022-04-24T16:06:30.332Z"
   },
   {
    "duration": 11,
    "start_time": "2022-04-24T16:06:30.343Z"
   },
   {
    "duration": 16,
    "start_time": "2022-04-24T16:06:30.356Z"
   },
   {
    "duration": 25,
    "start_time": "2022-04-24T16:06:30.374Z"
   },
   {
    "duration": 6,
    "start_time": "2022-04-24T16:06:30.404Z"
   },
   {
    "duration": 31,
    "start_time": "2022-04-24T16:06:30.412Z"
   },
   {
    "duration": 20,
    "start_time": "2022-04-24T16:06:30.445Z"
   },
   {
    "duration": 18,
    "start_time": "2022-04-24T16:06:30.467Z"
   },
   {
    "duration": 13,
    "start_time": "2022-04-24T16:06:30.486Z"
   },
   {
    "duration": 31,
    "start_time": "2022-04-24T16:06:30.500Z"
   },
   {
    "duration": 17,
    "start_time": "2022-04-24T16:06:30.533Z"
   },
   {
    "duration": 21,
    "start_time": "2022-04-24T16:06:30.552Z"
   },
   {
    "duration": 14,
    "start_time": "2022-04-24T16:06:30.575Z"
   },
   {
    "duration": 8,
    "start_time": "2022-04-24T16:06:30.590Z"
   },
   {
    "duration": 18,
    "start_time": "2022-04-24T16:06:30.599Z"
   },
   {
    "duration": 17,
    "start_time": "2022-04-24T16:06:30.619Z"
   },
   {
    "duration": 9,
    "start_time": "2022-04-24T16:06:30.638Z"
   },
   {
    "duration": 18,
    "start_time": "2022-04-24T16:06:30.649Z"
   },
   {
    "duration": 43,
    "start_time": "2022-04-24T16:06:30.669Z"
   },
   {
    "duration": 31,
    "start_time": "2022-04-24T16:06:30.714Z"
   },
   {
    "duration": 507,
    "start_time": "2022-04-24T16:06:30.747Z"
   },
   {
    "duration": 7,
    "start_time": "2022-04-24T16:06:31.255Z"
   },
   {
    "duration": 875,
    "start_time": "2022-04-24T16:06:31.263Z"
   },
   {
    "duration": 493,
    "start_time": "2022-04-24T16:06:32.140Z"
   },
   {
    "duration": 3,
    "start_time": "2022-04-24T16:06:32.635Z"
   },
   {
    "duration": 100,
    "start_time": "2022-04-24T16:06:32.639Z"
   },
   {
    "duration": 170,
    "start_time": "2022-04-24T16:06:32.741Z"
   },
   {
    "duration": 900,
    "start_time": "2022-04-24T16:06:32.913Z"
   },
   {
    "duration": 25,
    "start_time": "2022-04-24T16:06:33.815Z"
   },
   {
    "duration": 20,
    "start_time": "2022-04-24T16:06:33.842Z"
   },
   {
    "duration": 10,
    "start_time": "2022-04-24T16:06:33.863Z"
   },
   {
    "duration": 70,
    "start_time": "2022-04-24T16:06:33.902Z"
   },
   {
    "duration": 846,
    "start_time": "2022-04-24T16:06:33.973Z"
   },
   {
    "duration": 3,
    "start_time": "2022-04-24T16:06:34.821Z"
   },
   {
    "duration": 7,
    "start_time": "2022-04-24T16:06:34.825Z"
   },
   {
    "duration": 4,
    "start_time": "2022-04-24T16:06:34.835Z"
   },
   {
    "duration": 6,
    "start_time": "2022-04-24T16:06:34.840Z"
   },
   {
    "duration": 7,
    "start_time": "2022-04-24T16:06:34.847Z"
   },
   {
    "duration": 5,
    "start_time": "2022-04-24T16:06:34.855Z"
   },
   {
    "duration": 5,
    "start_time": "2022-04-24T16:06:34.862Z"
   },
   {
    "duration": 4062,
    "start_time": "2022-04-24T16:06:34.869Z"
   },
   {
    "duration": 65,
    "start_time": "2022-04-24T16:06:38.947Z"
   },
   {
    "duration": 26,
    "start_time": "2022-04-24T16:06:39.015Z"
   },
   {
    "duration": 9,
    "start_time": "2022-04-24T16:06:39.042Z"
   },
   {
    "duration": 12,
    "start_time": "2022-04-24T16:06:39.054Z"
   },
   {
    "duration": 100,
    "start_time": "2022-04-24T16:06:39.121Z"
   },
   {
    "duration": 9,
    "start_time": "2022-04-24T16:06:39.224Z"
   },
   {
    "duration": 1468,
    "start_time": "2022-04-24T16:44:57.219Z"
   },
   {
    "duration": 625,
    "start_time": "2022-04-24T16:44:58.689Z"
   },
   {
    "duration": 35,
    "start_time": "2022-04-24T16:44:59.315Z"
   },
   {
    "duration": 2,
    "start_time": "2022-04-24T16:44:59.353Z"
   },
   {
    "duration": 16,
    "start_time": "2022-04-24T16:44:59.357Z"
   },
   {
    "duration": 232,
    "start_time": "2022-04-24T16:44:59.375Z"
   },
   {
    "duration": 3,
    "start_time": "2022-04-24T16:44:59.609Z"
   },
   {
    "duration": 16,
    "start_time": "2022-04-24T16:44:59.613Z"
   },
   {
    "duration": 6,
    "start_time": "2022-04-24T16:44:59.631Z"
   },
   {
    "duration": 5,
    "start_time": "2022-04-24T16:44:59.640Z"
   },
   {
    "duration": 9,
    "start_time": "2022-04-24T16:44:59.646Z"
   },
   {
    "duration": 44,
    "start_time": "2022-04-24T16:44:59.656Z"
   },
   {
    "duration": 17,
    "start_time": "2022-04-24T16:44:59.701Z"
   },
   {
    "duration": 3,
    "start_time": "2022-04-24T16:44:59.719Z"
   },
   {
    "duration": 9,
    "start_time": "2022-04-24T16:44:59.724Z"
   },
   {
    "duration": 11,
    "start_time": "2022-04-24T16:44:59.735Z"
   },
   {
    "duration": 15,
    "start_time": "2022-04-24T16:44:59.747Z"
   },
   {
    "duration": 37,
    "start_time": "2022-04-24T16:44:59.764Z"
   },
   {
    "duration": 2,
    "start_time": "2022-04-24T16:44:59.803Z"
   },
   {
    "duration": 5,
    "start_time": "2022-04-24T16:44:59.807Z"
   },
   {
    "duration": 5,
    "start_time": "2022-04-24T16:44:59.813Z"
   },
   {
    "duration": 5,
    "start_time": "2022-04-24T16:44:59.819Z"
   },
   {
    "duration": 6,
    "start_time": "2022-04-24T16:44:59.825Z"
   },
   {
    "duration": 6,
    "start_time": "2022-04-24T16:44:59.832Z"
   },
   {
    "duration": 4,
    "start_time": "2022-04-24T16:44:59.840Z"
   },
   {
    "duration": 5,
    "start_time": "2022-04-24T16:44:59.846Z"
   },
   {
    "duration": 49,
    "start_time": "2022-04-24T16:44:59.852Z"
   },
   {
    "duration": 17,
    "start_time": "2022-04-24T16:44:59.905Z"
   },
   {
    "duration": 3,
    "start_time": "2022-04-24T16:44:59.923Z"
   },
   {
    "duration": 504,
    "start_time": "2022-04-24T16:44:59.927Z"
   },
   {
    "duration": 7,
    "start_time": "2022-04-24T16:45:00.432Z"
   },
   {
    "duration": 851,
    "start_time": "2022-04-24T16:45:00.441Z"
   },
   {
    "duration": 471,
    "start_time": "2022-04-24T16:45:01.294Z"
   },
   {
    "duration": 2,
    "start_time": "2022-04-24T16:45:01.767Z"
   },
   {
    "duration": 84,
    "start_time": "2022-04-24T16:45:01.771Z"
   },
   {
    "duration": 169,
    "start_time": "2022-04-24T16:45:01.857Z"
   },
   {
    "duration": 894,
    "start_time": "2022-04-24T16:45:02.028Z"
   },
   {
    "duration": 22,
    "start_time": "2022-04-24T16:45:02.924Z"
   },
   {
    "duration": 19,
    "start_time": "2022-04-24T16:45:02.948Z"
   },
   {
    "duration": 9,
    "start_time": "2022-04-24T16:45:02.968Z"
   },
   {
    "duration": 86,
    "start_time": "2022-04-24T16:45:02.978Z"
   },
   {
    "duration": 903,
    "start_time": "2022-04-24T16:45:03.066Z"
   },
   {
    "duration": 6,
    "start_time": "2022-04-24T16:45:03.971Z"
   },
   {
    "duration": 5,
    "start_time": "2022-04-24T16:45:03.979Z"
   },
   {
    "duration": 13,
    "start_time": "2022-04-24T16:45:03.999Z"
   },
   {
    "duration": 17,
    "start_time": "2022-04-24T16:45:04.013Z"
   },
   {
    "duration": 14,
    "start_time": "2022-04-24T16:45:04.032Z"
   },
   {
    "duration": 13,
    "start_time": "2022-04-24T16:45:04.048Z"
   },
   {
    "duration": 5,
    "start_time": "2022-04-24T16:45:04.062Z"
   },
   {
    "duration": 7,
    "start_time": "2022-04-24T16:45:04.069Z"
   },
   {
    "duration": 4,
    "start_time": "2022-04-24T16:45:04.078Z"
   },
   {
    "duration": 5,
    "start_time": "2022-04-24T16:45:04.084Z"
   },
   {
    "duration": 18,
    "start_time": "2022-04-24T16:45:04.091Z"
   },
   {
    "duration": 11,
    "start_time": "2022-04-24T16:45:04.111Z"
   },
   {
    "duration": 3990,
    "start_time": "2022-04-24T16:45:04.123Z"
   },
   {
    "duration": 86,
    "start_time": "2022-04-24T16:45:08.115Z"
   },
   {
    "duration": 3,
    "start_time": "2022-04-24T16:45:08.202Z"
   },
   {
    "duration": 15,
    "start_time": "2022-04-24T16:45:08.207Z"
   },
   {
    "duration": 14,
    "start_time": "2022-04-24T16:45:08.223Z"
   },
   {
    "duration": 99,
    "start_time": "2022-04-24T16:45:08.301Z"
   },
   {
    "duration": 3,
    "start_time": "2022-04-24T16:45:08.402Z"
   },
   {
    "duration": 1675,
    "start_time": "2022-04-24T16:49:35.794Z"
   },
   {
    "duration": 836,
    "start_time": "2022-04-24T16:49:37.471Z"
   },
   {
    "duration": 48,
    "start_time": "2022-04-24T16:49:38.309Z"
   },
   {
    "duration": 4,
    "start_time": "2022-04-24T16:49:38.359Z"
   },
   {
    "duration": 41,
    "start_time": "2022-04-24T16:49:38.365Z"
   },
   {
    "duration": 317,
    "start_time": "2022-04-24T16:49:38.407Z"
   },
   {
    "duration": 7,
    "start_time": "2022-04-24T16:49:38.732Z"
   },
   {
    "duration": 26,
    "start_time": "2022-04-24T16:49:38.741Z"
   },
   {
    "duration": 10,
    "start_time": "2022-04-24T16:49:38.769Z"
   },
   {
    "duration": 7,
    "start_time": "2022-04-24T16:49:38.783Z"
   },
   {
    "duration": 7,
    "start_time": "2022-04-24T16:49:38.800Z"
   },
   {
    "duration": 6,
    "start_time": "2022-04-24T16:49:38.809Z"
   },
   {
    "duration": 18,
    "start_time": "2022-04-24T16:49:38.816Z"
   },
   {
    "duration": 3,
    "start_time": "2022-04-24T16:49:38.836Z"
   },
   {
    "duration": 7,
    "start_time": "2022-04-24T16:49:38.841Z"
   },
   {
    "duration": 6,
    "start_time": "2022-04-24T16:49:38.849Z"
   },
   {
    "duration": 13,
    "start_time": "2022-04-24T16:49:38.900Z"
   },
   {
    "duration": 9,
    "start_time": "2022-04-24T16:49:38.914Z"
   },
   {
    "duration": 3,
    "start_time": "2022-04-24T16:49:38.925Z"
   },
   {
    "duration": 10,
    "start_time": "2022-04-24T16:49:38.929Z"
   },
   {
    "duration": 10,
    "start_time": "2022-04-24T16:49:38.940Z"
   },
   {
    "duration": 9,
    "start_time": "2022-04-24T16:49:38.951Z"
   },
   {
    "duration": 10,
    "start_time": "2022-04-24T16:49:38.961Z"
   },
   {
    "duration": 27,
    "start_time": "2022-04-24T16:49:38.973Z"
   },
   {
    "duration": 7,
    "start_time": "2022-04-24T16:49:39.001Z"
   },
   {
    "duration": 7,
    "start_time": "2022-04-24T16:49:39.009Z"
   },
   {
    "duration": 6,
    "start_time": "2022-04-24T16:49:39.018Z"
   },
   {
    "duration": 19,
    "start_time": "2022-04-24T16:49:39.028Z"
   },
   {
    "duration": 3,
    "start_time": "2022-04-24T16:49:39.049Z"
   },
   {
    "duration": 519,
    "start_time": "2022-04-24T16:49:39.053Z"
   },
   {
    "duration": 7,
    "start_time": "2022-04-24T16:49:39.574Z"
   },
   {
    "duration": 798,
    "start_time": "2022-04-24T16:49:39.582Z"
   },
   {
    "duration": 433,
    "start_time": "2022-04-24T16:49:40.382Z"
   },
   {
    "duration": 2,
    "start_time": "2022-04-24T16:49:40.817Z"
   },
   {
    "duration": 82,
    "start_time": "2022-04-24T16:49:40.821Z"
   },
   {
    "duration": 151,
    "start_time": "2022-04-24T16:49:40.905Z"
   },
   {
    "duration": 837,
    "start_time": "2022-04-24T16:49:41.057Z"
   },
   {
    "duration": 21,
    "start_time": "2022-04-24T16:49:41.895Z"
   },
   {
    "duration": 19,
    "start_time": "2022-04-24T16:49:41.917Z"
   },
   {
    "duration": 8,
    "start_time": "2022-04-24T16:49:41.938Z"
   },
   {
    "duration": 90,
    "start_time": "2022-04-24T16:49:41.947Z"
   },
   {
    "duration": 750,
    "start_time": "2022-04-24T16:49:42.038Z"
   },
   {
    "duration": 16,
    "start_time": "2022-04-24T16:49:42.790Z"
   },
   {
    "duration": 4,
    "start_time": "2022-04-24T16:49:42.808Z"
   },
   {
    "duration": 13,
    "start_time": "2022-04-24T16:49:42.814Z"
   },
   {
    "duration": 9,
    "start_time": "2022-04-24T16:49:42.829Z"
   },
   {
    "duration": 2,
    "start_time": "2022-04-24T16:49:42.840Z"
   },
   {
    "duration": 4,
    "start_time": "2022-04-24T16:49:42.844Z"
   },
   {
    "duration": 5,
    "start_time": "2022-04-24T16:49:42.850Z"
   },
   {
    "duration": 6,
    "start_time": "2022-04-24T16:49:42.856Z"
   },
   {
    "duration": 39,
    "start_time": "2022-04-24T16:49:42.863Z"
   },
   {
    "duration": 6,
    "start_time": "2022-04-24T16:49:42.903Z"
   },
   {
    "duration": 5,
    "start_time": "2022-04-24T16:49:42.910Z"
   },
   {
    "duration": 6,
    "start_time": "2022-04-24T16:49:42.917Z"
   },
   {
    "duration": 19392,
    "start_time": "2022-04-24T16:49:42.925Z"
   },
   {
    "duration": 10,
    "start_time": "2022-04-24T16:50:02.319Z"
   },
   {
    "duration": 21,
    "start_time": "2022-04-24T16:50:02.330Z"
   },
   {
    "duration": 21,
    "start_time": "2022-04-24T16:50:02.353Z"
   },
   {
    "duration": 33,
    "start_time": "2022-04-24T16:50:02.376Z"
   },
   {
    "duration": 128,
    "start_time": "2022-04-24T16:50:02.505Z"
   },
   {
    "duration": 14,
    "start_time": "2022-04-24T16:50:02.634Z"
   },
   {
    "duration": 1529,
    "start_time": "2022-04-24T16:58:17.688Z"
   },
   {
    "duration": 938,
    "start_time": "2022-04-24T16:58:19.219Z"
   },
   {
    "duration": 63,
    "start_time": "2022-04-24T16:58:20.159Z"
   },
   {
    "duration": 4,
    "start_time": "2022-04-24T16:58:20.225Z"
   },
   {
    "duration": 27,
    "start_time": "2022-04-24T16:58:20.231Z"
   },
   {
    "duration": 223,
    "start_time": "2022-04-24T16:58:20.260Z"
   },
   {
    "duration": 3,
    "start_time": "2022-04-24T16:58:20.484Z"
   },
   {
    "duration": 17,
    "start_time": "2022-04-24T16:58:20.499Z"
   },
   {
    "duration": 9,
    "start_time": "2022-04-24T16:58:20.517Z"
   },
   {
    "duration": 7,
    "start_time": "2022-04-24T16:58:20.530Z"
   },
   {
    "duration": 9,
    "start_time": "2022-04-24T16:58:20.539Z"
   },
   {
    "duration": 10,
    "start_time": "2022-04-24T16:58:20.549Z"
   },
   {
    "duration": 54,
    "start_time": "2022-04-24T16:58:20.561Z"
   },
   {
    "duration": 3,
    "start_time": "2022-04-24T16:58:20.617Z"
   },
   {
    "duration": 7,
    "start_time": "2022-04-24T16:58:20.622Z"
   },
   {
    "duration": 8,
    "start_time": "2022-04-24T16:58:20.630Z"
   },
   {
    "duration": 14,
    "start_time": "2022-04-24T16:58:20.640Z"
   },
   {
    "duration": 11,
    "start_time": "2022-04-24T16:58:20.655Z"
   },
   {
    "duration": 32,
    "start_time": "2022-04-24T16:58:20.668Z"
   },
   {
    "duration": 5,
    "start_time": "2022-04-24T16:58:20.702Z"
   },
   {
    "duration": 8,
    "start_time": "2022-04-24T16:58:20.709Z"
   },
   {
    "duration": 9,
    "start_time": "2022-04-24T16:58:20.718Z"
   },
   {
    "duration": 6,
    "start_time": "2022-04-24T16:58:20.729Z"
   },
   {
    "duration": 9,
    "start_time": "2022-04-24T16:58:20.737Z"
   },
   {
    "duration": 10,
    "start_time": "2022-04-24T16:58:20.748Z"
   },
   {
    "duration": 8,
    "start_time": "2022-04-24T16:58:20.760Z"
   },
   {
    "duration": 6,
    "start_time": "2022-04-24T16:58:20.770Z"
   },
   {
    "duration": 19,
    "start_time": "2022-04-24T16:58:20.801Z"
   },
   {
    "duration": 2,
    "start_time": "2022-04-24T16:58:20.822Z"
   },
   {
    "duration": 705,
    "start_time": "2022-04-24T16:58:20.826Z"
   },
   {
    "duration": 8,
    "start_time": "2022-04-24T16:58:21.533Z"
   },
   {
    "duration": 1229,
    "start_time": "2022-04-24T16:58:21.542Z"
   },
   {
    "duration": 682,
    "start_time": "2022-04-24T16:58:22.773Z"
   },
   {
    "duration": 3,
    "start_time": "2022-04-24T16:58:23.457Z"
   },
   {
    "duration": 88,
    "start_time": "2022-04-24T16:58:23.461Z"
   },
   {
    "duration": 156,
    "start_time": "2022-04-24T16:58:23.550Z"
   },
   {
    "duration": 957,
    "start_time": "2022-04-24T16:58:23.708Z"
   },
   {
    "duration": 20,
    "start_time": "2022-04-24T16:58:24.667Z"
   },
   {
    "duration": 26,
    "start_time": "2022-04-24T16:58:24.689Z"
   },
   {
    "duration": 8,
    "start_time": "2022-04-24T16:58:24.717Z"
   },
   {
    "duration": 67,
    "start_time": "2022-04-24T16:58:24.727Z"
   },
   {
    "duration": 857,
    "start_time": "2022-04-24T16:58:24.796Z"
   },
   {
    "duration": 7,
    "start_time": "2022-04-24T16:58:25.654Z"
   },
   {
    "duration": 38,
    "start_time": "2022-04-24T16:58:25.662Z"
   },
   {
    "duration": 13,
    "start_time": "2022-04-24T16:58:25.702Z"
   },
   {
    "duration": 10,
    "start_time": "2022-04-24T16:58:25.716Z"
   },
   {
    "duration": 3,
    "start_time": "2022-04-24T16:58:25.727Z"
   },
   {
    "duration": 5,
    "start_time": "2022-04-24T16:58:25.731Z"
   },
   {
    "duration": 4,
    "start_time": "2022-04-24T16:58:25.737Z"
   },
   {
    "duration": 6,
    "start_time": "2022-04-24T16:58:25.743Z"
   },
   {
    "duration": 8,
    "start_time": "2022-04-24T16:58:25.750Z"
   },
   {
    "duration": 9,
    "start_time": "2022-04-24T16:58:25.760Z"
   },
   {
    "duration": 30,
    "start_time": "2022-04-24T16:58:25.770Z"
   },
   {
    "duration": 5,
    "start_time": "2022-04-24T16:58:25.802Z"
   },
   {
    "duration": 4462203,
    "start_time": "2022-04-24T16:58:25.809Z"
   },
   {
    "duration": 0,
    "start_time": "2022-04-24T18:12:48.014Z"
   },
   {
    "duration": 0,
    "start_time": "2022-04-24T18:12:48.015Z"
   },
   {
    "duration": 0,
    "start_time": "2022-04-24T18:12:48.016Z"
   },
   {
    "duration": 0,
    "start_time": "2022-04-24T18:12:48.017Z"
   },
   {
    "duration": 0,
    "start_time": "2022-04-24T18:12:48.018Z"
   },
   {
    "duration": 0,
    "start_time": "2022-04-24T18:12:48.019Z"
   },
   {
    "duration": 4,
    "start_time": "2022-04-24T18:15:34.634Z"
   },
   {
    "duration": 5,
    "start_time": "2022-04-24T18:15:37.762Z"
   },
   {
    "duration": 9447008,
    "start_time": "2022-04-24T18:15:46.250Z"
   },
   {
    "duration": 10,
    "start_time": "2022-04-25T01:27:10.219Z"
   },
   {
    "duration": 2,
    "start_time": "2022-04-25T01:28:26.375Z"
   },
   {
    "duration": 4,
    "start_time": "2022-04-25T01:28:29.023Z"
   },
   {
    "duration": 152,
    "start_time": "2022-04-25T01:28:35.351Z"
   },
   {
    "duration": 10,
    "start_time": "2022-04-25T01:28:38.799Z"
   },
   {
    "duration": 4,
    "start_time": "2022-04-25T01:28:41.399Z"
   },
   {
    "duration": 1492,
    "start_time": "2022-04-25T03:04:18.253Z"
   },
   {
    "duration": 651,
    "start_time": "2022-04-25T03:04:19.747Z"
   },
   {
    "duration": 35,
    "start_time": "2022-04-25T03:04:20.399Z"
   },
   {
    "duration": 4,
    "start_time": "2022-04-25T03:04:20.435Z"
   },
   {
    "duration": 14,
    "start_time": "2022-04-25T03:04:20.441Z"
   },
   {
    "duration": 222,
    "start_time": "2022-04-25T03:04:20.457Z"
   },
   {
    "duration": 3,
    "start_time": "2022-04-25T03:04:20.680Z"
   },
   {
    "duration": 19,
    "start_time": "2022-04-25T03:04:20.684Z"
   },
   {
    "duration": 7,
    "start_time": "2022-04-25T03:04:20.704Z"
   },
   {
    "duration": 5,
    "start_time": "2022-04-25T03:04:20.712Z"
   },
   {
    "duration": 8,
    "start_time": "2022-04-25T03:04:20.718Z"
   },
   {
    "duration": 6,
    "start_time": "2022-04-25T03:04:20.727Z"
   },
   {
    "duration": 17,
    "start_time": "2022-04-25T03:04:20.734Z"
   },
   {
    "duration": 3,
    "start_time": "2022-04-25T03:04:20.754Z"
   },
   {
    "duration": 5,
    "start_time": "2022-04-25T03:04:20.758Z"
   },
   {
    "duration": 5,
    "start_time": "2022-04-25T03:04:20.765Z"
   },
   {
    "duration": 11,
    "start_time": "2022-04-25T03:04:20.800Z"
   },
   {
    "duration": 10,
    "start_time": "2022-04-25T03:04:20.813Z"
   },
   {
    "duration": 2,
    "start_time": "2022-04-25T03:04:20.824Z"
   },
   {
    "duration": 8,
    "start_time": "2022-04-25T03:04:20.828Z"
   },
   {
    "duration": 5,
    "start_time": "2022-04-25T03:04:20.837Z"
   },
   {
    "duration": 7,
    "start_time": "2022-04-25T03:04:20.843Z"
   },
   {
    "duration": 6,
    "start_time": "2022-04-25T03:04:20.851Z"
   },
   {
    "duration": 6,
    "start_time": "2022-04-25T03:04:20.858Z"
   },
   {
    "duration": 5,
    "start_time": "2022-04-25T03:04:20.865Z"
   },
   {
    "duration": 5,
    "start_time": "2022-04-25T03:04:20.871Z"
   },
   {
    "duration": 24,
    "start_time": "2022-04-25T03:04:20.877Z"
   },
   {
    "duration": 16,
    "start_time": "2022-04-25T03:04:20.902Z"
   },
   {
    "duration": 2,
    "start_time": "2022-04-25T03:04:20.919Z"
   },
   {
    "duration": 472,
    "start_time": "2022-04-25T03:04:20.923Z"
   },
   {
    "duration": 5,
    "start_time": "2022-04-25T03:04:21.397Z"
   },
   {
    "duration": 791,
    "start_time": "2022-04-25T03:04:21.404Z"
   },
   {
    "duration": 435,
    "start_time": "2022-04-25T03:04:22.196Z"
   },
   {
    "duration": 3,
    "start_time": "2022-04-25T03:04:22.632Z"
   },
   {
    "duration": 76,
    "start_time": "2022-04-25T03:04:22.636Z"
   },
   {
    "duration": 149,
    "start_time": "2022-04-25T03:04:22.714Z"
   },
   {
    "duration": 835,
    "start_time": "2022-04-25T03:04:22.865Z"
   },
   {
    "duration": 21,
    "start_time": "2022-04-25T03:04:23.701Z"
   },
   {
    "duration": 20,
    "start_time": "2022-04-25T03:04:23.723Z"
   },
   {
    "duration": 9,
    "start_time": "2022-04-25T03:04:23.744Z"
   },
   {
    "duration": 80,
    "start_time": "2022-04-25T03:04:23.756Z"
   },
   {
    "duration": 751,
    "start_time": "2022-04-25T03:04:23.838Z"
   },
   {
    "duration": 11,
    "start_time": "2022-04-25T03:04:24.590Z"
   },
   {
    "duration": 6,
    "start_time": "2022-04-25T03:04:24.603Z"
   },
   {
    "duration": 17,
    "start_time": "2022-04-25T03:04:24.610Z"
   },
   {
    "duration": 9,
    "start_time": "2022-04-25T03:04:24.629Z"
   },
   {
    "duration": 4,
    "start_time": "2022-04-25T03:04:24.639Z"
   },
   {
    "duration": 13,
    "start_time": "2022-04-25T03:04:24.644Z"
   },
   {
    "duration": 7,
    "start_time": "2022-04-25T03:04:24.659Z"
   },
   {
    "duration": 8,
    "start_time": "2022-04-25T03:04:24.667Z"
   },
   {
    "duration": 5,
    "start_time": "2022-04-25T03:04:24.676Z"
   },
   {
    "duration": 6,
    "start_time": "2022-04-25T03:04:24.682Z"
   },
   {
    "duration": 9,
    "start_time": "2022-04-25T03:04:24.690Z"
   },
   {
    "duration": 10,
    "start_time": "2022-04-25T03:04:24.701Z"
   },
   {
    "duration": 20400326,
    "start_time": "2022-04-25T03:04:24.713Z"
   },
   {
    "duration": 10,
    "start_time": "2022-04-25T08:44:25.041Z"
   },
   {
    "duration": 6,
    "start_time": "2022-04-25T08:44:25.053Z"
   },
   {
    "duration": 12,
    "start_time": "2022-04-25T08:44:25.061Z"
   },
   {
    "duration": 442,
    "start_time": "2022-04-25T08:44:25.075Z"
   },
   {
    "duration": 12,
    "start_time": "2022-04-25T08:44:25.519Z"
   },
   {
    "duration": 5,
    "start_time": "2022-04-25T08:44:25.534Z"
   },
   {
    "duration": 4,
    "start_time": "2022-04-25T09:40:01.983Z"
   },
   {
    "duration": 604,
    "start_time": "2022-04-25T09:40:18.138Z"
   },
   {
    "duration": 35,
    "start_time": "2022-04-25T09:40:52.722Z"
   },
   {
    "duration": 4,
    "start_time": "2022-04-25T09:42:06.889Z"
   },
   {
    "duration": 211,
    "start_time": "2022-04-25T09:44:17.638Z"
   },
   {
    "duration": 14,
    "start_time": "2022-04-25T09:44:21.020Z"
   },
   {
    "duration": 3,
    "start_time": "2022-04-25T10:55:41.509Z"
   },
   {
    "duration": 6,
    "start_time": "2022-04-25T10:55:46.536Z"
   },
   {
    "duration": 9,
    "start_time": "2022-04-25T10:55:54.377Z"
   },
   {
    "duration": 7,
    "start_time": "2022-04-25T10:58:05.357Z"
   },
   {
    "duration": 6,
    "start_time": "2022-04-25T10:58:09.806Z"
   },
   {
    "duration": 6,
    "start_time": "2022-04-25T11:05:36.026Z"
   },
   {
    "duration": 16,
    "start_time": "2022-04-25T11:40:01.107Z"
   },
   {
    "duration": 3,
    "start_time": "2022-04-25T11:40:03.429Z"
   },
   {
    "duration": 3,
    "start_time": "2022-04-25T11:40:05.582Z"
   },
   {
    "duration": 3,
    "start_time": "2022-04-25T11:40:56.166Z"
   },
   {
    "duration": 4,
    "start_time": "2022-04-25T11:48:15.881Z"
   },
   {
    "duration": 12,
    "start_time": "2022-04-25T11:48:54.788Z"
   },
   {
    "duration": 14,
    "start_time": "2022-04-25T11:49:05.547Z"
   },
   {
    "duration": 10,
    "start_time": "2022-04-25T11:49:07.587Z"
   },
   {
    "duration": 4,
    "start_time": "2022-04-25T11:49:09.644Z"
   },
   {
    "duration": 5,
    "start_time": "2022-04-25T11:49:11.491Z"
   },
   {
    "duration": 1563,
    "start_time": "2022-04-25T14:36:44.393Z"
   },
   {
    "duration": 628,
    "start_time": "2022-04-25T14:36:48.391Z"
   },
   {
    "duration": 39,
    "start_time": "2022-04-25T14:36:50.032Z"
   },
   {
    "duration": 4,
    "start_time": "2022-04-25T14:36:52.511Z"
   },
   {
    "duration": 14,
    "start_time": "2022-04-25T14:36:54.487Z"
   },
   {
    "duration": 216,
    "start_time": "2022-04-25T14:36:57.758Z"
   },
   {
    "duration": 3,
    "start_time": "2022-04-25T14:37:05.671Z"
   },
   {
    "duration": 12,
    "start_time": "2022-04-25T14:37:07.358Z"
   },
   {
    "duration": 9,
    "start_time": "2022-04-25T14:37:08.879Z"
   },
   {
    "duration": 7,
    "start_time": "2022-04-25T14:37:11.406Z"
   },
   {
    "duration": 8,
    "start_time": "2022-04-25T14:37:14.175Z"
   },
   {
    "duration": 20,
    "start_time": "2022-04-25T14:37:17.334Z"
   },
   {
    "duration": 3,
    "start_time": "2022-04-25T14:37:18.774Z"
   },
   {
    "duration": 4,
    "start_time": "2022-04-25T14:37:19.661Z"
   },
   {
    "duration": 14,
    "start_time": "2022-04-25T14:37:21.237Z"
   },
   {
    "duration": 13,
    "start_time": "2022-04-25T14:37:22.077Z"
   },
   {
    "duration": 4,
    "start_time": "2022-04-25T14:37:22.813Z"
   },
   {
    "duration": 4,
    "start_time": "2022-04-25T14:37:23.542Z"
   },
   {
    "duration": 21,
    "start_time": "2022-04-25T14:37:28.389Z"
   },
   {
    "duration": 4,
    "start_time": "2022-04-25T14:37:30.637Z"
   },
   {
    "duration": 3,
    "start_time": "2022-04-25T14:39:54.301Z"
   },
   {
    "duration": 514,
    "start_time": "2022-04-25T14:42:22.671Z"
   },
   {
    "duration": 1490,
    "start_time": "2022-04-25T14:50:30.608Z"
   },
   {
    "duration": 799,
    "start_time": "2022-04-25T14:50:34.929Z"
   },
   {
    "duration": 71,
    "start_time": "2022-04-25T14:54:05.046Z"
   },
   {
    "duration": 176,
    "start_time": "2022-04-25T14:54:48.036Z"
   },
   {
    "duration": 126,
    "start_time": "2022-04-25T14:55:00.092Z"
   },
   {
    "duration": 300,
    "start_time": "2022-04-25T14:55:09.866Z"
   },
   {
    "duration": 465,
    "start_time": "2022-04-25T14:57:06.499Z"
   },
   {
    "duration": 240,
    "start_time": "2022-04-25T14:58:10.762Z"
   },
   {
    "duration": 859,
    "start_time": "2022-04-25T15:03:41.249Z"
   },
   {
    "duration": 800,
    "start_time": "2022-04-25T15:03:53.047Z"
   },
   {
    "duration": 1121,
    "start_time": "2022-04-25T15:04:39.639Z"
   },
   {
    "duration": 1936,
    "start_time": "2022-04-25T15:05:11.532Z"
   },
   {
    "duration": 1160,
    "start_time": "2022-04-25T15:05:25.757Z"
   },
   {
    "duration": 39,
    "start_time": "2022-04-25T15:16:20.443Z"
   },
   {
    "duration": 34,
    "start_time": "2022-04-25T15:16:22.428Z"
   },
   {
    "duration": 15,
    "start_time": "2022-04-25T15:16:25.027Z"
   },
   {
    "duration": 114,
    "start_time": "2022-04-25T15:16:53.195Z"
   },
   {
    "duration": 1561,
    "start_time": "2022-04-25T15:17:13.841Z"
   },
   {
    "duration": 12,
    "start_time": "2022-04-25T15:22:56.737Z"
   },
   {
    "duration": 3,
    "start_time": "2022-04-25T15:22:58.984Z"
   },
   {
    "duration": 13,
    "start_time": "2022-04-25T15:23:00.912Z"
   },
   {
    "duration": 11,
    "start_time": "2022-04-25T15:23:02.976Z"
   },
   {
    "duration": 3,
    "start_time": "2022-04-25T15:23:05.552Z"
   },
   {
    "duration": 4,
    "start_time": "2022-04-25T15:23:09.144Z"
   },
   {
    "duration": 4,
    "start_time": "2022-04-25T15:23:13.168Z"
   },
   {
    "duration": 3,
    "start_time": "2022-04-25T15:31:50.414Z"
   },
   {
    "duration": 3,
    "start_time": "2022-04-25T15:33:37.760Z"
   },
   {
    "duration": 3,
    "start_time": "2022-04-25T15:33:39.825Z"
   },
   {
    "duration": 4,
    "start_time": "2022-04-25T15:42:02.431Z"
   },
   {
    "duration": 3,
    "start_time": "2022-04-25T15:42:04.905Z"
   },
   {
    "duration": 3,
    "start_time": "2022-04-25T15:42:14.160Z"
   },
   {
    "duration": 4,
    "start_time": "2022-04-25T15:42:17.336Z"
   },
   {
    "duration": 4,
    "start_time": "2022-04-25T15:43:02.821Z"
   },
   {
    "duration": 4,
    "start_time": "2022-04-25T15:47:58.046Z"
   },
   {
    "duration": 80320,
    "start_time": "2022-04-25T15:58:13.538Z"
   },
   {
    "duration": 15,
    "start_time": "2022-04-25T15:59:58.061Z"
   },
   {
    "duration": 4,
    "start_time": "2022-04-25T16:00:09.061Z"
   },
   {
    "duration": 279,
    "start_time": "2022-04-25T16:00:17.075Z"
   },
   {
    "duration": 5,
    "start_time": "2022-04-25T16:00:19.268Z"
   },
   {
    "duration": 5,
    "start_time": "2022-04-25T16:03:42.961Z"
   },
   {
    "duration": 3,
    "start_time": "2022-04-25T16:05:22.831Z"
   },
   {
    "duration": 6,
    "start_time": "2022-04-25T16:10:00.623Z"
   },
   {
    "duration": 4,
    "start_time": "2022-04-25T16:14:45.129Z"
   },
   {
    "duration": 7,
    "start_time": "2022-04-25T16:14:48.090Z"
   },
   {
    "duration": 4,
    "start_time": "2022-04-25T16:21:23.933Z"
   },
   {
    "duration": 156,
    "start_time": "2022-04-25T16:22:54.216Z"
   },
   {
    "duration": 8,
    "start_time": "2022-04-25T16:23:28.393Z"
   },
   {
    "duration": 3,
    "start_time": "2022-04-25T16:24:05.732Z"
   },
   {
    "duration": 6,
    "start_time": "2022-04-25T16:24:07.605Z"
   },
   {
    "duration": 3,
    "start_time": "2022-04-25T16:24:08.516Z"
   },
   {
    "duration": 7,
    "start_time": "2022-04-25T16:24:09.580Z"
   },
   {
    "duration": 3,
    "start_time": "2022-04-25T16:25:45.289Z"
   },
   {
    "duration": 6,
    "start_time": "2022-04-25T16:25:46.039Z"
   },
   {
    "duration": 4,
    "start_time": "2022-04-25T16:25:46.838Z"
   },
   {
    "duration": 9,
    "start_time": "2022-04-25T16:25:47.647Z"
   },
   {
    "duration": 7,
    "start_time": "2022-04-25T16:26:35.836Z"
   },
   {
    "duration": 6,
    "start_time": "2022-04-25T16:28:24.185Z"
   },
   {
    "duration": 1447,
    "start_time": "2022-04-25T16:49:03.585Z"
   },
   {
    "duration": 666,
    "start_time": "2022-04-25T16:49:05.034Z"
   },
   {
    "duration": 49,
    "start_time": "2022-04-25T16:49:05.702Z"
   },
   {
    "duration": 4,
    "start_time": "2022-04-25T16:49:05.753Z"
   },
   {
    "duration": 20,
    "start_time": "2022-04-25T16:49:05.759Z"
   },
   {
    "duration": 251,
    "start_time": "2022-04-25T16:49:05.780Z"
   },
   {
    "duration": 4,
    "start_time": "2022-04-25T16:49:06.033Z"
   },
   {
    "duration": 14,
    "start_time": "2022-04-25T16:49:06.048Z"
   },
   {
    "duration": 8,
    "start_time": "2022-04-25T16:49:06.063Z"
   },
   {
    "duration": 8,
    "start_time": "2022-04-25T16:49:06.074Z"
   },
   {
    "duration": 7,
    "start_time": "2022-04-25T16:49:06.084Z"
   },
   {
    "duration": 63,
    "start_time": "2022-04-25T16:49:06.094Z"
   },
   {
    "duration": 3,
    "start_time": "2022-04-25T16:49:06.159Z"
   },
   {
    "duration": 8,
    "start_time": "2022-04-25T16:49:06.164Z"
   },
   {
    "duration": 16,
    "start_time": "2022-04-25T16:49:06.173Z"
   },
   {
    "duration": 17,
    "start_time": "2022-04-25T16:49:06.191Z"
   },
   {
    "duration": 7,
    "start_time": "2022-04-25T16:49:06.211Z"
   },
   {
    "duration": 27,
    "start_time": "2022-04-25T16:49:06.221Z"
   },
   {
    "duration": 23,
    "start_time": "2022-04-25T16:49:06.251Z"
   },
   {
    "duration": 3,
    "start_time": "2022-04-25T16:49:06.276Z"
   },
   {
    "duration": 531,
    "start_time": "2022-04-25T16:49:06.281Z"
   },
   {
    "duration": 859,
    "start_time": "2022-04-25T16:49:06.813Z"
   },
   {
    "duration": 469,
    "start_time": "2022-04-25T16:49:07.673Z"
   },
   {
    "duration": 70,
    "start_time": "2022-04-25T16:49:08.148Z"
   },
   {
    "duration": 180,
    "start_time": "2022-04-25T16:49:08.220Z"
   },
   {
    "duration": 1089,
    "start_time": "2022-04-25T16:49:08.402Z"
   },
   {
    "duration": 25,
    "start_time": "2022-04-25T16:49:09.493Z"
   },
   {
    "duration": 40,
    "start_time": "2022-04-25T16:49:09.523Z"
   },
   {
    "duration": 12,
    "start_time": "2022-04-25T16:49:09.567Z"
   },
   {
    "duration": 96,
    "start_time": "2022-04-25T16:49:09.581Z"
   },
   {
    "duration": 1003,
    "start_time": "2022-04-25T16:49:09.680Z"
   },
   {
    "duration": 9,
    "start_time": "2022-04-25T16:49:10.685Z"
   },
   {
    "duration": 4,
    "start_time": "2022-04-25T16:49:10.696Z"
   },
   {
    "duration": 22,
    "start_time": "2022-04-25T16:49:10.702Z"
   },
   {
    "duration": 16,
    "start_time": "2022-04-25T16:49:10.747Z"
   },
   {
    "duration": 4,
    "start_time": "2022-04-25T16:49:10.766Z"
   },
   {
    "duration": 9,
    "start_time": "2022-04-25T16:49:10.773Z"
   },
   {
    "duration": 10,
    "start_time": "2022-04-25T16:49:10.785Z"
   },
   {
    "duration": 7,
    "start_time": "2022-04-25T16:49:10.797Z"
   },
   {
    "duration": 4,
    "start_time": "2022-04-25T16:49:10.807Z"
   },
   {
    "duration": 5,
    "start_time": "2022-04-25T16:49:10.812Z"
   },
   {
    "duration": 30,
    "start_time": "2022-04-25T16:49:10.819Z"
   },
   {
    "duration": 4,
    "start_time": "2022-04-25T16:49:10.851Z"
   },
   {
    "duration": 6,
    "start_time": "2022-04-25T16:49:10.857Z"
   },
   {
    "duration": 78032,
    "start_time": "2022-04-25T16:49:10.864Z"
   },
   {
    "duration": 11,
    "start_time": "2022-04-25T16:50:28.898Z"
   },
   {
    "duration": 9,
    "start_time": "2022-04-25T16:50:28.911Z"
   },
   {
    "duration": 345,
    "start_time": "2022-04-25T16:50:28.922Z"
   },
   {
    "duration": 5,
    "start_time": "2022-04-25T16:50:29.269Z"
   },
   {
    "duration": 5,
    "start_time": "2022-04-25T16:50:29.277Z"
   },
   {
    "duration": 11,
    "start_time": "2022-04-25T16:50:29.284Z"
   },
   {
    "duration": 7,
    "start_time": "2022-04-25T16:50:29.297Z"
   },
   {
    "duration": 9,
    "start_time": "2022-04-25T16:50:29.306Z"
   },
   {
    "duration": 1788,
    "start_time": "2022-04-26T16:57:23.231Z"
   },
   {
    "duration": 636,
    "start_time": "2022-04-26T16:59:47.135Z"
   },
   {
    "duration": 40,
    "start_time": "2022-04-26T16:59:48.599Z"
   },
   {
    "duration": 4,
    "start_time": "2022-04-26T16:59:50.990Z"
   },
   {
    "duration": 14,
    "start_time": "2022-04-26T16:59:52.775Z"
   },
   {
    "duration": 221,
    "start_time": "2022-04-26T16:59:53.599Z"
   },
   {
    "duration": 4,
    "start_time": "2022-04-26T16:59:54.912Z"
   },
   {
    "duration": 14,
    "start_time": "2022-04-26T16:59:55.774Z"
   },
   {
    "duration": 8,
    "start_time": "2022-04-26T16:59:57.230Z"
   },
   {
    "duration": 6,
    "start_time": "2022-04-26T16:59:58.759Z"
   },
   {
    "duration": 5,
    "start_time": "2022-04-26T17:00:00.606Z"
   },
   {
    "duration": 19,
    "start_time": "2022-04-26T17:00:07.470Z"
   },
   {
    "duration": 3,
    "start_time": "2022-04-26T17:00:18.606Z"
   },
   {
    "duration": 4,
    "start_time": "2022-04-26T17:00:20.911Z"
   },
   {
    "duration": 4,
    "start_time": "2022-04-26T17:01:20.555Z"
   },
   {
    "duration": 13,
    "start_time": "2022-04-26T17:01:27.746Z"
   },
   {
    "duration": 6,
    "start_time": "2022-04-26T17:01:36.322Z"
   },
   {
    "duration": 2,
    "start_time": "2022-04-26T17:01:39.586Z"
   },
   {
    "duration": 3,
    "start_time": "2022-04-26T17:01:42.969Z"
   },
   {
    "duration": 13,
    "start_time": "2022-04-26T17:02:02.368Z"
   },
   {
    "duration": 2,
    "start_time": "2022-04-26T17:02:09.008Z"
   },
   {
    "duration": 501,
    "start_time": "2022-04-26T17:02:26.423Z"
   },
   {
    "duration": 767,
    "start_time": "2022-04-26T17:02:41.199Z"
   },
   {
    "duration": 1126,
    "start_time": "2022-04-26T17:03:21.324Z"
   },
   {
    "duration": 762,
    "start_time": "2022-04-26T17:03:33.500Z"
   },
   {
    "duration": 879,
    "start_time": "2022-04-26T17:03:40.509Z"
   },
   {
    "duration": 169,
    "start_time": "2022-04-26T17:03:55.923Z"
   },
   {
    "duration": 12,
    "start_time": "2022-04-26T17:04:13.723Z"
   },
   {
    "duration": 834,
    "start_time": "2022-04-26T17:04:23.554Z"
   },
   {
    "duration": 12,
    "start_time": "2022-04-26T17:05:25.287Z"
   },
   {
    "duration": 729,
    "start_time": "2022-04-26T17:05:30.671Z"
   },
   {
    "duration": 850,
    "start_time": "2022-04-26T17:05:49.558Z"
   },
   {
    "duration": 826,
    "start_time": "2022-04-26T17:06:34.756Z"
   },
   {
    "duration": 752,
    "start_time": "2022-04-26T17:06:43.195Z"
   },
   {
    "duration": 615,
    "start_time": "2022-04-26T17:06:59.713Z"
   },
   {
    "duration": 900,
    "start_time": "2022-04-26T17:10:15.873Z"
   },
   {
    "duration": 882,
    "start_time": "2022-04-26T17:11:33.501Z"
   },
   {
    "duration": 710,
    "start_time": "2022-04-26T17:11:51.108Z"
   },
   {
    "duration": 182,
    "start_time": "2022-04-26T17:11:56.892Z"
   },
   {
    "duration": 871,
    "start_time": "2022-04-26T17:12:00.123Z"
   },
   {
    "duration": 712,
    "start_time": "2022-04-26T17:12:11.147Z"
   },
   {
    "duration": 900,
    "start_time": "2022-04-26T17:12:16.274Z"
   },
   {
    "duration": 449,
    "start_time": "2022-04-26T17:12:36.849Z"
   },
   {
    "duration": 1125,
    "start_time": "2022-04-26T17:13:32.135Z"
   },
   {
    "duration": 898,
    "start_time": "2022-04-26T17:13:53.238Z"
   },
   {
    "duration": 1072,
    "start_time": "2022-04-26T17:13:57.438Z"
   },
   {
    "duration": 173,
    "start_time": "2022-04-26T17:14:52.011Z"
   },
   {
    "duration": 159,
    "start_time": "2022-04-26T17:15:25.729Z"
   },
   {
    "duration": 160,
    "start_time": "2022-04-26T17:15:47.592Z"
   },
   {
    "duration": 164,
    "start_time": "2022-04-26T17:16:21.648Z"
   },
   {
    "duration": 197,
    "start_time": "2022-04-26T17:17:46.922Z"
   },
   {
    "duration": 172,
    "start_time": "2022-04-26T17:17:55.250Z"
   },
   {
    "duration": 294,
    "start_time": "2022-04-26T17:18:10.930Z"
   },
   {
    "duration": 937,
    "start_time": "2022-04-26T17:19:40.212Z"
   },
   {
    "duration": 438,
    "start_time": "2022-04-26T17:19:47.780Z"
   },
   {
    "duration": 871,
    "start_time": "2022-04-26T17:20:01.987Z"
   },
   {
    "duration": 750,
    "start_time": "2022-04-26T17:20:12.995Z"
   },
   {
    "duration": 80,
    "start_time": "2022-04-26T17:21:02.112Z"
   },
   {
    "duration": 171,
    "start_time": "2022-04-26T17:21:03.065Z"
   },
   {
    "duration": 1327,
    "start_time": "2022-04-26T17:21:06.705Z"
   },
   {
    "duration": 23,
    "start_time": "2022-04-26T17:21:37.727Z"
   },
   {
    "duration": 23,
    "start_time": "2022-04-26T17:21:39.047Z"
   },
   {
    "duration": 12,
    "start_time": "2022-04-26T17:21:39.967Z"
   },
   {
    "duration": 81,
    "start_time": "2022-04-26T17:21:46.662Z"
   },
   {
    "duration": 1067,
    "start_time": "2022-04-26T17:21:48.238Z"
   },
   {
    "duration": 10,
    "start_time": "2022-04-26T17:22:51.379Z"
   },
   {
    "duration": 3,
    "start_time": "2022-04-26T17:22:55.234Z"
   },
   {
    "duration": 13,
    "start_time": "2022-04-26T17:23:00.915Z"
   },
   {
    "duration": 8,
    "start_time": "2022-04-26T17:23:07.202Z"
   },
   {
    "duration": 4,
    "start_time": "2022-04-26T17:23:17.529Z"
   },
   {
    "duration": 3,
    "start_time": "2022-04-26T17:23:21.463Z"
   },
   {
    "duration": 3,
    "start_time": "2022-04-26T17:23:24.625Z"
   },
   {
    "duration": 3,
    "start_time": "2022-04-26T17:23:33.449Z"
   },
   {
    "duration": 2,
    "start_time": "2022-04-26T17:23:34.121Z"
   },
   {
    "duration": 3,
    "start_time": "2022-04-26T17:23:36.296Z"
   },
   {
    "duration": 3,
    "start_time": "2022-04-26T17:24:05.440Z"
   },
   {
    "duration": 3,
    "start_time": "2022-04-26T17:24:12.392Z"
   },
   {
    "duration": 5,
    "start_time": "2022-04-26T17:24:20.526Z"
   },
   {
    "duration": 87135,
    "start_time": "2022-04-26T17:24:23.335Z"
   },
   {
    "duration": 10,
    "start_time": "2022-04-26T17:26:42.040Z"
   },
   {
    "duration": 4,
    "start_time": "2022-04-26T17:26:45.463Z"
   },
   {
    "duration": 167,
    "start_time": "2022-04-26T17:27:06.366Z"
   },
   {
    "duration": 4,
    "start_time": "2022-04-26T17:27:08.495Z"
   },
   {
    "duration": 3,
    "start_time": "2022-04-26T17:27:22.718Z"
   },
   {
    "duration": 5,
    "start_time": "2022-04-26T17:27:23.774Z"
   },
   {
    "duration": 3,
    "start_time": "2022-04-26T17:27:25.182Z"
   },
   {
    "duration": 7,
    "start_time": "2022-04-26T17:27:25.973Z"
   },
   {
    "duration": 23,
    "start_time": "2022-04-26T17:35:47.669Z"
   },
   {
    "duration": 4,
    "start_time": "2022-04-26T17:43:41.518Z"
   },
   {
    "duration": 2,
    "start_time": "2022-04-26T17:43:42.206Z"
   },
   {
    "duration": 3,
    "start_time": "2022-04-26T17:43:43.487Z"
   },
   {
    "duration": 5,
    "start_time": "2022-04-26T17:43:44.574Z"
   },
   {
    "duration": 5,
    "start_time": "2022-04-26T17:43:46.422Z"
   },
   {
    "duration": 7,
    "start_time": "2022-04-26T17:43:52.518Z"
   },
   {
    "duration": 93431,
    "start_time": "2022-04-26T17:43:58.037Z"
   },
   {
    "duration": 4,
    "start_time": "2022-04-26T17:48:41.711Z"
   },
   {
    "duration": 3,
    "start_time": "2022-04-26T17:48:42.879Z"
   },
   {
    "duration": 4,
    "start_time": "2022-04-26T17:48:44.887Z"
   },
   {
    "duration": 90421,
    "start_time": "2022-04-26T17:48:46.255Z"
   },
   {
    "duration": 4,
    "start_time": "2022-04-26T17:51:08.218Z"
   },
   {
    "duration": 5,
    "start_time": "2022-04-26T17:51:08.948Z"
   },
   {
    "duration": 7,
    "start_time": "2022-04-26T17:51:11.256Z"
   },
   {
    "duration": 92320,
    "start_time": "2022-04-26T17:51:12.577Z"
   },
   {
    "duration": 4,
    "start_time": "2022-04-26T17:53:18.265Z"
   },
   {
    "duration": 3,
    "start_time": "2022-04-26T17:53:19.201Z"
   },
   {
    "duration": 6,
    "start_time": "2022-04-26T17:53:22.489Z"
   },
   {
    "duration": 122967,
    "start_time": "2022-04-26T17:53:23.650Z"
   },
   {
    "duration": 4,
    "start_time": "2022-04-26T17:57:47.323Z"
   },
   {
    "duration": 4,
    "start_time": "2022-04-26T17:57:53.132Z"
   },
   {
    "duration": 7,
    "start_time": "2022-04-26T17:57:55.612Z"
   },
   {
    "duration": 12435,
    "start_time": "2022-04-26T17:57:56.940Z"
   },
   {
    "duration": 4,
    "start_time": "2022-04-26T17:58:29.146Z"
   },
   {
    "duration": 4,
    "start_time": "2022-04-26T17:58:32.161Z"
   },
   {
    "duration": 4,
    "start_time": "2022-04-26T17:58:34.674Z"
   },
   {
    "duration": 98446,
    "start_time": "2022-04-26T17:58:35.883Z"
   },
   {
    "duration": 4,
    "start_time": "2022-04-26T18:00:55.171Z"
   },
   {
    "duration": 3,
    "start_time": "2022-04-26T18:00:56.501Z"
   },
   {
    "duration": 6,
    "start_time": "2022-04-26T18:00:59.123Z"
   },
   {
    "duration": 350127,
    "start_time": "2022-04-26T18:01:00.299Z"
   },
   {
    "duration": 13,
    "start_time": "2022-04-26T18:07:33.839Z"
   },
   {
    "duration": 5,
    "start_time": "2022-04-26T18:07:37.247Z"
   },
   {
    "duration": 345,
    "start_time": "2022-04-26T18:07:41.223Z"
   },
   {
    "duration": 6,
    "start_time": "2022-04-26T18:07:45.311Z"
   },
   {
    "duration": 5,
    "start_time": "2022-04-26T18:26:59.271Z"
   },
   {
    "duration": 3,
    "start_time": "2022-04-26T18:27:04.678Z"
   },
   {
    "duration": 5,
    "start_time": "2022-04-26T18:27:07.615Z"
   },
   {
    "duration": 3475217,
    "start_time": "2022-04-26T18:27:09.586Z"
   },
   {
    "duration": 1588,
    "start_time": "2022-04-26T19:26:26.507Z"
   },
   {
    "duration": 664,
    "start_time": "2022-04-26T19:26:28.097Z"
   },
   {
    "duration": 36,
    "start_time": "2022-04-26T19:26:28.763Z"
   },
   {
    "duration": 3,
    "start_time": "2022-04-26T19:26:28.802Z"
   },
   {
    "duration": 13,
    "start_time": "2022-04-26T19:26:28.823Z"
   },
   {
    "duration": 226,
    "start_time": "2022-04-26T19:26:28.837Z"
   },
   {
    "duration": 3,
    "start_time": "2022-04-26T19:26:29.065Z"
   },
   {
    "duration": 14,
    "start_time": "2022-04-26T19:26:29.069Z"
   },
   {
    "duration": 8,
    "start_time": "2022-04-26T19:26:29.085Z"
   },
   {
    "duration": 28,
    "start_time": "2022-04-26T19:26:29.097Z"
   },
   {
    "duration": 6,
    "start_time": "2022-04-26T19:26:29.127Z"
   },
   {
    "duration": 17,
    "start_time": "2022-04-26T19:26:29.135Z"
   },
   {
    "duration": 3,
    "start_time": "2022-04-26T19:26:29.154Z"
   },
   {
    "duration": 11,
    "start_time": "2022-04-26T19:26:29.158Z"
   },
   {
    "duration": 10,
    "start_time": "2022-04-26T19:26:29.171Z"
   },
   {
    "duration": 15,
    "start_time": "2022-04-26T19:26:29.182Z"
   },
   {
    "duration": 27,
    "start_time": "2022-04-26T19:26:29.199Z"
   },
   {
    "duration": 3,
    "start_time": "2022-04-26T19:26:29.228Z"
   },
   {
    "duration": 8,
    "start_time": "2022-04-26T19:26:29.233Z"
   },
   {
    "duration": 19,
    "start_time": "2022-04-26T19:26:29.242Z"
   },
   {
    "duration": 3,
    "start_time": "2022-04-26T19:26:29.263Z"
   },
   {
    "duration": 521,
    "start_time": "2022-04-26T19:26:29.267Z"
   },
   {
    "duration": 785,
    "start_time": "2022-04-26T19:26:29.789Z"
   },
   {
    "duration": 480,
    "start_time": "2022-04-26T19:26:30.576Z"
   },
   {
    "duration": 94,
    "start_time": "2022-04-26T19:26:31.058Z"
   },
   {
    "duration": 291,
    "start_time": "2022-04-26T19:26:31.154Z"
   },
   {
    "duration": 991,
    "start_time": "2022-04-26T19:26:31.446Z"
   },
   {
    "duration": 23,
    "start_time": "2022-04-26T19:26:32.441Z"
   },
   {
    "duration": 22,
    "start_time": "2022-04-26T19:26:32.465Z"
   },
   {
    "duration": 11,
    "start_time": "2022-04-26T19:26:32.489Z"
   },
   {
    "duration": 82,
    "start_time": "2022-04-26T19:26:32.522Z"
   },
   {
    "duration": 1053,
    "start_time": "2022-04-26T19:26:32.606Z"
   },
   {
    "duration": 9,
    "start_time": "2022-04-26T19:26:33.661Z"
   },
   {
    "duration": 10,
    "start_time": "2022-04-26T19:26:33.671Z"
   },
   {
    "duration": 22,
    "start_time": "2022-04-26T19:26:33.683Z"
   },
   {
    "duration": 6,
    "start_time": "2022-04-26T19:26:33.707Z"
   },
   {
    "duration": 9,
    "start_time": "2022-04-26T19:26:33.714Z"
   },
   {
    "duration": 5,
    "start_time": "2022-04-26T19:26:33.725Z"
   },
   {
    "duration": 4,
    "start_time": "2022-04-26T19:26:33.732Z"
   },
   {
    "duration": 17,
    "start_time": "2022-04-26T19:26:33.738Z"
   },
   {
    "duration": 7,
    "start_time": "2022-04-26T19:26:33.757Z"
   },
   {
    "duration": 8,
    "start_time": "2022-04-26T19:26:33.766Z"
   },
   {
    "duration": 8,
    "start_time": "2022-04-26T19:26:33.775Z"
   },
   {
    "duration": 7,
    "start_time": "2022-04-26T19:26:33.785Z"
   },
   {
    "duration": 10,
    "start_time": "2022-04-26T19:26:33.794Z"
   },
   {
    "duration": 18450199,
    "start_time": "2022-04-26T19:26:33.805Z"
   },
   {
    "duration": 12,
    "start_time": "2022-04-27T00:34:04.005Z"
   },
   {
    "duration": 7,
    "start_time": "2022-04-27T00:34:04.018Z"
   },
   {
    "duration": 250,
    "start_time": "2022-04-27T00:34:04.027Z"
   },
   {
    "duration": 46,
    "start_time": "2022-04-27T00:34:04.279Z"
   },
   {
    "duration": 3,
    "start_time": "2022-04-27T00:34:04.327Z"
   },
   {
    "duration": 6,
    "start_time": "2022-04-27T00:34:04.332Z"
   },
   {
    "duration": 3,
    "start_time": "2022-04-27T00:34:04.340Z"
   },
   {
    "duration": 8,
    "start_time": "2022-04-27T00:34:04.345Z"
   },
   {
    "duration": 1563,
    "start_time": "2022-04-27T03:16:26.133Z"
   },
   {
    "duration": 717,
    "start_time": "2022-04-27T03:16:27.699Z"
   },
   {
    "duration": 40,
    "start_time": "2022-04-27T03:16:28.418Z"
   },
   {
    "duration": 3,
    "start_time": "2022-04-27T03:16:28.460Z"
   },
   {
    "duration": 15,
    "start_time": "2022-04-27T03:16:28.466Z"
   },
   {
    "duration": 264,
    "start_time": "2022-04-27T03:16:28.483Z"
   },
   {
    "duration": 4,
    "start_time": "2022-04-27T03:16:28.748Z"
   },
   {
    "duration": 14,
    "start_time": "2022-04-27T03:16:28.754Z"
   },
   {
    "duration": 7,
    "start_time": "2022-04-27T03:16:28.770Z"
   },
   {
    "duration": 5,
    "start_time": "2022-04-27T03:16:28.779Z"
   },
   {
    "duration": 7,
    "start_time": "2022-04-27T03:16:28.786Z"
   },
   {
    "duration": 43,
    "start_time": "2022-04-27T03:16:28.794Z"
   },
   {
    "duration": 3,
    "start_time": "2022-04-27T03:16:28.838Z"
   },
   {
    "duration": 8,
    "start_time": "2022-04-27T03:16:28.844Z"
   },
   {
    "duration": 10,
    "start_time": "2022-04-27T03:16:28.853Z"
   },
   {
    "duration": 16,
    "start_time": "2022-04-27T03:16:28.865Z"
   },
   {
    "duration": 7,
    "start_time": "2022-04-27T03:16:28.882Z"
   },
   {
    "duration": 6,
    "start_time": "2022-04-27T03:16:28.891Z"
   },
   {
    "duration": 9,
    "start_time": "2022-04-27T03:16:28.898Z"
   },
   {
    "duration": 14,
    "start_time": "2022-04-27T03:16:28.922Z"
   },
   {
    "duration": 3,
    "start_time": "2022-04-27T03:16:28.938Z"
   },
   {
    "duration": 495,
    "start_time": "2022-04-27T03:16:28.942Z"
   },
   {
    "duration": 742,
    "start_time": "2022-04-27T03:16:29.439Z"
   },
   {
    "duration": 458,
    "start_time": "2022-04-27T03:16:30.183Z"
   },
   {
    "duration": 97,
    "start_time": "2022-04-27T03:16:30.643Z"
   },
   {
    "duration": 284,
    "start_time": "2022-04-27T03:16:30.742Z"
   },
   {
    "duration": 987,
    "start_time": "2022-04-27T03:16:31.028Z"
   },
   {
    "duration": 28,
    "start_time": "2022-04-27T03:16:32.017Z"
   },
   {
    "duration": 22,
    "start_time": "2022-04-27T03:16:32.047Z"
   },
   {
    "duration": 11,
    "start_time": "2022-04-27T03:16:32.070Z"
   },
   {
    "duration": 100,
    "start_time": "2022-04-27T03:16:32.083Z"
   },
   {
    "duration": 989,
    "start_time": "2022-04-27T03:16:32.184Z"
   },
   {
    "duration": 9,
    "start_time": "2022-04-27T03:16:33.174Z"
   },
   {
    "duration": 10,
    "start_time": "2022-04-27T03:16:33.185Z"
   },
   {
    "duration": 17,
    "start_time": "2022-04-27T03:16:33.196Z"
   },
   {
    "duration": 8,
    "start_time": "2022-04-27T03:16:33.222Z"
   },
   {
    "duration": 6,
    "start_time": "2022-04-27T03:16:33.232Z"
   },
   {
    "duration": 6,
    "start_time": "2022-04-27T03:16:33.240Z"
   },
   {
    "duration": 6,
    "start_time": "2022-04-27T03:16:33.247Z"
   },
   {
    "duration": 17,
    "start_time": "2022-04-27T03:16:33.254Z"
   },
   {
    "duration": 6,
    "start_time": "2022-04-27T03:16:33.275Z"
   },
   {
    "duration": 12,
    "start_time": "2022-04-27T03:16:33.283Z"
   },
   {
    "duration": 10,
    "start_time": "2022-04-27T03:16:33.297Z"
   },
   {
    "duration": 9,
    "start_time": "2022-04-27T03:16:33.309Z"
   },
   {
    "duration": 9,
    "start_time": "2022-04-27T03:16:33.319Z"
   },
   {
    "duration": 404836,
    "start_time": "2022-04-27T03:16:33.330Z"
   },
   {
    "duration": 11,
    "start_time": "2022-04-27T03:23:18.168Z"
   },
   {
    "duration": 7,
    "start_time": "2022-04-27T03:23:18.180Z"
   },
   {
    "duration": 280,
    "start_time": "2022-04-27T03:23:18.189Z"
   },
   {
    "duration": 5,
    "start_time": "2022-04-27T03:23:18.470Z"
   },
   {
    "duration": 5,
    "start_time": "2022-04-27T03:23:18.476Z"
   },
   {
    "duration": 8,
    "start_time": "2022-04-27T03:23:18.482Z"
   },
   {
    "duration": 5,
    "start_time": "2022-04-27T03:23:18.492Z"
   },
   {
    "duration": 27,
    "start_time": "2022-04-27T03:23:18.498Z"
   },
   {
    "duration": 6,
    "start_time": "2022-04-27T03:36:41.583Z"
   }
  ],
  "kernelspec": {
   "display_name": "Python 3",
   "language": "python",
   "name": "python3"
  },
  "language_info": {
   "codemirror_mode": {
    "name": "ipython",
    "version": 3
   },
   "file_extension": ".py",
   "mimetype": "text/x-python",
   "name": "python",
   "nbconvert_exporter": "python",
   "pygments_lexer": "ipython3",
   "version": "3.8.8"
  },
  "toc": {
   "base_numbering": 1,
   "nav_menu": {},
   "number_sections": true,
   "sideBar": true,
   "skip_h1_title": true,
   "title_cell": "Содержание",
   "title_sidebar": "Contents",
   "toc_cell": true,
   "toc_position": {
    "height": "calc(100% - 180px)",
    "left": "10px",
    "top": "150px",
    "width": "302.431px"
   },
   "toc_section_display": true,
   "toc_window_display": false
  }
 },
 "nbformat": 4,
 "nbformat_minor": 2
}
